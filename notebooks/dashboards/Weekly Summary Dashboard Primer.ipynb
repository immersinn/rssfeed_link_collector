{
 "cells": [
  {
   "cell_type": "code",
   "execution_count": 1,
   "metadata": {
    "collapsed": true
   },
   "outputs": [],
   "source": [
    "import sys\n",
    "import os"
   ]
  },
  {
   "cell_type": "code",
   "execution_count": 2,
   "metadata": {
    "collapsed": false
   },
   "outputs": [],
   "source": [
    "import time\n",
    "import datetime"
   ]
  },
  {
   "cell_type": "code",
   "execution_count": 3,
   "metadata": {
    "collapsed": true
   },
   "outputs": [],
   "source": [
    "import numpy\n",
    "import pandas"
   ]
  },
  {
   "cell_type": "code",
   "execution_count": 4,
   "metadata": {
    "collapsed": false
   },
   "outputs": [
    {
     "data": {
      "text/html": [
       "<script>requirejs.config({paths: { 'plotly': ['https://cdn.plot.ly/plotly-latest.min']},});if(!window.Plotly) {{require(['plotly'],function(plotly) {window.Plotly=plotly;});}}</script>"
      ],
      "text/plain": [
       "<IPython.core.display.HTML object>"
      ]
     },
     "metadata": {},
     "output_type": "display_data"
    }
   ],
   "source": [
    "import plotly as py\n",
    "from plotly.offline import download_plotlyjs, init_notebook_mode, plot, iplot\n",
    "from plotly.tools import FigureFactory as FF\n",
    "import plotly.graph_objs as pogo\n",
    "from plotly.graph_objs import Marker, Line, Data\n",
    "\n",
    "init_notebook_mode(connected=True)"
   ]
  },
  {
   "cell_type": "code",
   "execution_count": 5,
   "metadata": {
    "collapsed": true
   },
   "outputs": [],
   "source": [
    "from IPython.display import display, HTML"
   ]
  },
  {
   "cell_type": "code",
   "execution_count": 6,
   "metadata": {
    "collapsed": true
   },
   "outputs": [],
   "source": [
    "main_repo_dir = os.path.abspath(os.path.join('../..'))\n",
    "sys.path.append(os.path.join(main_repo_dir, 'src'))"
   ]
  },
  {
   "cell_type": "code",
   "execution_count": 7,
   "metadata": {
    "collapsed": true
   },
   "outputs": [],
   "source": [
    "import utils\n",
    "import mysql_utils"
   ]
  },
  {
   "cell_type": "markdown",
   "metadata": {},
   "source": [
    "## Create Start, End Dates"
   ]
  },
  {
   "cell_type": "code",
   "execution_count": 8,
   "metadata": {
    "collapsed": false
   },
   "outputs": [
    {
     "name": "stdout",
     "output_type": "stream",
     "text": [
      "2017-02-12 00:00:00\n",
      "2017-02-19 00:00:00\n",
      "2017-02-12\n"
     ]
    }
   ],
   "source": [
    "# Get the current date\n",
    "cur = datetime.datetime.utcnow().date()\n",
    "\n",
    "# Get distance to 2 Sundays ago\n",
    "wkday = (cur.weekday() + 1) % 7\n",
    "shift = 7 + wkday\n",
    "\n",
    "# Create start, end dates\n",
    "start_date = cur - datetime.timedelta(days=shift)\n",
    "start_date = datetime.datetime(year=start_date.year, month=start_date.month, day=start_date.day)\n",
    "end_date = start_date + datetime.timedelta(days=7)\n",
    "\n",
    "# Convert to strings\n",
    "start_date = start_date.strftime(\"%Y-%m-%d %H:%M:%S\")\n",
    "end_date = end_date.strftime(\"%Y-%m-%d %H:%M:%S\")\n",
    "week_of_date = start_date.split()[0]\n",
    "\n",
    "print(start_date)\n",
    "print(end_date)\n",
    "print(week_of_date)"
   ]
  },
  {
   "cell_type": "markdown",
   "metadata": {},
   "source": [
    "## Query Data from MySQL"
   ]
  },
  {
   "cell_type": "code",
   "execution_count": 10,
   "metadata": {
    "collapsed": false
   },
   "outputs": [],
   "source": [
    "df = mysql_utils.query_docsByDatetime(start_dt=start_date, end_dt=end_date)"
   ]
  },
  {
   "cell_type": "code",
   "execution_count": 11,
   "metadata": {
    "collapsed": true
   },
   "outputs": [],
   "source": [
    "cnx.close()"
   ]
  },
  {
   "cell_type": "code",
   "execution_count": 12,
   "metadata": {
    "collapsed": false
   },
   "outputs": [],
   "source": [
    "# Flag Duplicates?\n",
    "unique_entries = []\n",
    "titles = set()\n",
    "for i in df.index:\n",
    "    if df.ix[i].title not in titles:\n",
    "        unique_entries.append(i)\n",
    "        titles.update([df.ix[i].title])\n",
    "        \n",
    "df['ind'] = 0\n",
    "df.loc[unique_entries, 'ind'] = 1\n",
    "#df.index = range(df.shape[0])"
   ]
  },
  {
   "cell_type": "code",
   "execution_count": 13,
   "metadata": {
    "collapsed": true
   },
   "outputs": [],
   "source": [
    "# Fix RSS Feed links\n",
    "def repair_rsslink(rss_link):\n",
    "    if rss_link.startswith('http://phys.org/rss-feed/'):\n",
    "        rss_link = 'https://phys.org/rss-feed/' + rss_link[len('http://phys.org/rss-feed/'):]\n",
    "        \n",
    "    return(rss_link)"
   ]
  },
  {
   "cell_type": "code",
   "execution_count": 14,
   "metadata": {
    "collapsed": false
   },
   "outputs": [],
   "source": [
    "df['rss_link'] = df.apply(lambda x: repair_rsslink(x['rss_link']), axis=1)"
   ]
  },
  {
   "cell_type": "markdown",
   "metadata": {},
   "source": [
    "## Counts"
   ]
  },
  {
   "cell_type": "code",
   "execution_count": 15,
   "metadata": {
    "collapsed": false
   },
   "outputs": [
    {
     "data": {
      "text/plain": [
       "8086"
      ]
     },
     "execution_count": 15,
     "metadata": {},
     "output_type": "execute_result"
    }
   ],
   "source": [
    "# Get total counts\n",
    "total_new_articles = df.ind.sum()\n",
    "total_new_articles"
   ]
  },
  {
   "cell_type": "markdown",
   "metadata": {},
   "source": [
    "### Table 01: By RSS Feed"
   ]
  },
  {
   "cell_type": "markdown",
   "metadata": {},
   "source": [
    "Counts by RSS Feed"
   ]
  },
  {
   "cell_type": "code",
   "execution_count": 16,
   "metadata": {
    "collapsed": false
   },
   "outputs": [],
   "source": [
    "res = df[['ind', 'rss_link']].groupby(['rss_link']).agg(['count'])"
   ]
  },
  {
   "cell_type": "code",
   "execution_count": 17,
   "metadata": {
    "collapsed": false
   },
   "outputs": [],
   "source": [
    "res = pandas.DataFrame(data = {'rss_link' : list(res['ind'].index),\n",
    "                               'count' : list(res['ind']['count'])}\n",
    "                      )"
   ]
  },
  {
   "cell_type": "code",
   "execution_count": 18,
   "metadata": {
    "collapsed": false
   },
   "outputs": [],
   "source": [
    "summary_table_1 = FF.create_table(res[['rss_link', 'count']])\n",
    "\n",
    "first_table_url = plot(summary_table_1, filename='images/counts_by_rss.html', auto_open=False,)\n",
    "first_table_url = first_table_url[7:]"
   ]
  },
  {
   "cell_type": "markdown",
   "metadata": {},
   "source": [
    "### Table 02: By Topic"
   ]
  },
  {
   "cell_type": "markdown",
   "metadata": {},
   "source": [
    "Counts by Topic (not very refined at the moment)"
   ]
  },
  {
   "cell_type": "code",
   "execution_count": 19,
   "metadata": {
    "collapsed": true
   },
   "outputs": [],
   "source": [
    "feeds = utils.load_feedlists_data()"
   ]
  },
  {
   "cell_type": "code",
   "execution_count": 20,
   "metadata": {
    "collapsed": true
   },
   "outputs": [],
   "source": [
    "feed_topic_lu = {feed['Link']:feed['RssName'] for feed in feeds}"
   ]
  },
  {
   "cell_type": "code",
   "execution_count": 21,
   "metadata": {
    "collapsed": false
   },
   "outputs": [],
   "source": [
    "df['name'] = df.apply(lambda x: feed_topic_lu[x['rss_link']], axis=1)"
   ]
  },
  {
   "cell_type": "code",
   "execution_count": 22,
   "metadata": {
    "collapsed": false
   },
   "outputs": [],
   "source": [
    "def topic_from_name(name):\n",
    "    topic = name.lower()\n",
    "    if topic.find('business') > -1:\n",
    "        topic = 'business'\n",
    "    if topic.find('financ') > -1:\n",
    "        topic = 'finance'\n",
    "    if topic.find('econ') > -1 or topic.find('market') > -1 or topic.find('currenc') > -1:\n",
    "        topic = 'economy'\n",
    "    if topic.find('science') > -1:\n",
    "        topic = 'science'\n",
    "    if topic.find('tech') > -1:\n",
    "        topic = 'technology'\n",
    "    if topic.find('transport') > -1:\n",
    "        toipic = 'transportation'\n",
    "    if topic.find('travel') > -1:\n",
    "        topic = 'travel'\n",
    "    \n",
    "    return(topic)"
   ]
  },
  {
   "cell_type": "code",
   "execution_count": 23,
   "metadata": {
    "collapsed": false
   },
   "outputs": [],
   "source": [
    "df['topic'] = df.apply(lambda x: topic_from_name(x['name']), axis=1)"
   ]
  },
  {
   "cell_type": "code",
   "execution_count": 24,
   "metadata": {
    "collapsed": false
   },
   "outputs": [],
   "source": [
    "df['ind'] = 1\n",
    "topic = df[['ind', 'topic']].groupby(['topic']).agg(['count'])\n",
    "topic = pandas.DataFrame(data = {'topic' : list(topic['ind'].index),\n",
    "                                 'count' : list(topic['ind']['count'])}\n",
    "                      )"
   ]
  },
  {
   "cell_type": "code",
   "execution_count": 25,
   "metadata": {
    "collapsed": false
   },
   "outputs": [],
   "source": [
    "summary_table_2 = FF.create_table(topic[['topic', 'count']])\n",
    "\n",
    "second_table_url = plot(summary_table_2, filename='images/counts_by_topic.html', auto_open=False,)\n",
    "second_table_url = second_table_url[7:]"
   ]
  },
  {
   "cell_type": "markdown",
   "metadata": {},
   "source": [
    "## Feed Trends with Time Series"
   ]
  },
  {
   "cell_type": "code",
   "execution_count": 26,
   "metadata": {
    "collapsed": true
   },
   "outputs": [],
   "source": [
    "# From: http://moderndata.plot.ly/generate-html-reports-with-python-pandas-and-plotly/\n",
    "def moving_average(interval, window_size):\n",
    "    window = numpy.ones(int(window_size))/float(window_size)\n",
    "    return numpy.convolve(interval, window, 'same')"
   ]
  },
  {
   "cell_type": "code",
   "execution_count": 27,
   "metadata": {
    "collapsed": false
   },
   "outputs": [],
   "source": [
    "feed_times = pandas.DataFrame(data={'val' : list(df['ind'])}, index=df.published)\n",
    "feed_times.sort_index(inplace=True)"
   ]
  },
  {
   "cell_type": "code",
   "execution_count": 28,
   "metadata": {
    "collapsed": false
   },
   "outputs": [],
   "source": [
    "feed_times_hour = feed_times.resample('H', kind='period').sum()\n",
    "feed_times_hour.index = pandas.DatetimeIndex([p.to_timestamp() for p in list(feed_times_hour.index)])"
   ]
  },
  {
   "cell_type": "code",
   "execution_count": 29,
   "metadata": {
    "collapsed": false
   },
   "outputs": [],
   "source": [
    "feed_times_hour['ma'] = moving_average(feed_times_hour.val, 6)"
   ]
  },
  {
   "cell_type": "code",
   "execution_count": 30,
   "metadata": {
    "collapsed": false
   },
   "outputs": [
    {
     "data": {
      "text/html": [
       "<div id=\"f080ca7c-5f1c-4b05-9fda-9023cf57cb2f\" style=\"height: 525px; width: 100%;\" class=\"plotly-graph-div\"></div><script type=\"text/javascript\">require([\"plotly\"], function(Plotly) { window.PLOTLYENV=window.PLOTLYENV || {};window.PLOTLYENV.BASE_URL=\"https://plot.ly\";Plotly.newPlot(\"f080ca7c-5f1c-4b05-9fda-9023cf57cb2f\", [{\"name\": \"Hourly Count\", \"mode\": \"markers\", \"y\": [20.0, 13.0, 4.0, 5.0, null, 39.0, 21.0, 7.0, 10.0, 14.0, 8.0, 15.0, 22.0, 31.0, 19.0, 35.0, 38.0, 23.0, 44.0, 16.0, 17.0, 21.0, 16.0, 19.0, 42.0, 23.0, 29.0, 21.0, 48.0, 65.0, 26.0, 53.0, 68.0, 44.0, 104.0, 142.0, 179.0, 97.0, 120.0, 140.0, 174.0, 124.0, 139.0, 99.0, 107.0, 73.0, 79.0, 69.0, 54.0, 24.0, 17.0, 12.0, 49.0, 66.0, 42.0, 59.0, 55.0, 44.0, 79.0, 109.0, 178.0, 97.0, 120.0, 120.0, 134.0, 130.0, 138.0, 118.0, 66.0, 96.0, 86.0, 83.0, 70.0, 47.0, 12.0, 18.0, 52.0, 75.0, 36.0, 35.0, 60.0, 45.0, 114.0, 139.0, 166.0, 119.0, 98.0, 138.0, 161.0, 152.0, 153.0, 119.0, 82.0, 92.0, 73.0, 75.0, 69.0, 28.0, 17.0, 14.0, 56.0, 58.0, 37.0, 33.0, 64.0, 39.0, 110.0, 116.0, 191.0, 107.0, 166.0, 155.0, 144.0, 168.0, 160.0, 121.0, 100.0, 115.0, 98.0, 55.0, 54.0, 37.0, 22.0, 22.0, 44.0, 97.0, 27.0, 37.0, 31.0, 46.0, 83.0, 119.0, 159.0, 97.0, 134.0, 97.0, 162.0, 160.0, 149.0, 106.0, 82.0, 88.0, 64.0, 44.0, 25.0, 8.0, 12.0, 4.0, 1.0, 7.0, 1.0, 8.0, 6.0, 6.0, 19.0, 12.0, 9.0, 9.0, 11.0, 26.0, 15.0, 16.0, 12.0, 6.0, 6.0, 7.0, 4.0, 14.0], \"marker\": {\"size\": 8}, \"type\": \"scatter\", \"x\": [\"2017-02-12\", \"2017-02-12 01:00:00\", \"2017-02-12 02:00:00\", \"2017-02-12 03:00:00\", \"2017-02-12 04:00:00\", \"2017-02-12 05:00:00\", \"2017-02-12 06:00:00\", \"2017-02-12 07:00:00\", \"2017-02-12 08:00:00\", \"2017-02-12 09:00:00\", \"2017-02-12 10:00:00\", \"2017-02-12 11:00:00\", \"2017-02-12 12:00:00\", \"2017-02-12 13:00:00\", \"2017-02-12 14:00:00\", \"2017-02-12 15:00:00\", \"2017-02-12 16:00:00\", \"2017-02-12 17:00:00\", \"2017-02-12 18:00:00\", \"2017-02-12 19:00:00\", \"2017-02-12 20:00:00\", \"2017-02-12 21:00:00\", \"2017-02-12 22:00:00\", \"2017-02-12 23:00:00\", \"2017-02-13\", \"2017-02-13 01:00:00\", \"2017-02-13 02:00:00\", \"2017-02-13 03:00:00\", \"2017-02-13 04:00:00\", \"2017-02-13 05:00:00\", \"2017-02-13 06:00:00\", \"2017-02-13 07:00:00\", \"2017-02-13 08:00:00\", \"2017-02-13 09:00:00\", \"2017-02-13 10:00:00\", \"2017-02-13 11:00:00\", \"2017-02-13 12:00:00\", \"2017-02-13 13:00:00\", \"2017-02-13 14:00:00\", \"2017-02-13 15:00:00\", \"2017-02-13 16:00:00\", \"2017-02-13 17:00:00\", \"2017-02-13 18:00:00\", \"2017-02-13 19:00:00\", \"2017-02-13 20:00:00\", \"2017-02-13 21:00:00\", \"2017-02-13 22:00:00\", \"2017-02-13 23:00:00\", \"2017-02-14\", \"2017-02-14 01:00:00\", \"2017-02-14 02:00:00\", \"2017-02-14 03:00:00\", \"2017-02-14 04:00:00\", \"2017-02-14 05:00:00\", \"2017-02-14 06:00:00\", \"2017-02-14 07:00:00\", \"2017-02-14 08:00:00\", \"2017-02-14 09:00:00\", \"2017-02-14 10:00:00\", \"2017-02-14 11:00:00\", \"2017-02-14 12:00:00\", \"2017-02-14 13:00:00\", \"2017-02-14 14:00:00\", \"2017-02-14 15:00:00\", \"2017-02-14 16:00:00\", \"2017-02-14 17:00:00\", \"2017-02-14 18:00:00\", \"2017-02-14 19:00:00\", \"2017-02-14 20:00:00\", \"2017-02-14 21:00:00\", \"2017-02-14 22:00:00\", \"2017-02-14 23:00:00\", \"2017-02-15\", \"2017-02-15 01:00:00\", \"2017-02-15 02:00:00\", \"2017-02-15 03:00:00\", \"2017-02-15 04:00:00\", \"2017-02-15 05:00:00\", \"2017-02-15 06:00:00\", \"2017-02-15 07:00:00\", \"2017-02-15 08:00:00\", \"2017-02-15 09:00:00\", \"2017-02-15 10:00:00\", \"2017-02-15 11:00:00\", \"2017-02-15 12:00:00\", \"2017-02-15 13:00:00\", \"2017-02-15 14:00:00\", \"2017-02-15 15:00:00\", \"2017-02-15 16:00:00\", \"2017-02-15 17:00:00\", \"2017-02-15 18:00:00\", \"2017-02-15 19:00:00\", \"2017-02-15 20:00:00\", \"2017-02-15 21:00:00\", \"2017-02-15 22:00:00\", \"2017-02-15 23:00:00\", \"2017-02-16\", \"2017-02-16 01:00:00\", \"2017-02-16 02:00:00\", \"2017-02-16 03:00:00\", \"2017-02-16 04:00:00\", \"2017-02-16 05:00:00\", \"2017-02-16 06:00:00\", \"2017-02-16 07:00:00\", \"2017-02-16 08:00:00\", \"2017-02-16 09:00:00\", \"2017-02-16 10:00:00\", \"2017-02-16 11:00:00\", \"2017-02-16 12:00:00\", \"2017-02-16 13:00:00\", \"2017-02-16 14:00:00\", \"2017-02-16 15:00:00\", \"2017-02-16 16:00:00\", \"2017-02-16 17:00:00\", \"2017-02-16 18:00:00\", \"2017-02-16 19:00:00\", \"2017-02-16 20:00:00\", \"2017-02-16 21:00:00\", \"2017-02-16 22:00:00\", \"2017-02-16 23:00:00\", \"2017-02-17\", \"2017-02-17 01:00:00\", \"2017-02-17 02:00:00\", \"2017-02-17 03:00:00\", \"2017-02-17 04:00:00\", \"2017-02-17 05:00:00\", \"2017-02-17 06:00:00\", \"2017-02-17 07:00:00\", \"2017-02-17 08:00:00\", \"2017-02-17 09:00:00\", \"2017-02-17 10:00:00\", \"2017-02-17 11:00:00\", \"2017-02-17 12:00:00\", \"2017-02-17 13:00:00\", \"2017-02-17 14:00:00\", \"2017-02-17 15:00:00\", \"2017-02-17 16:00:00\", \"2017-02-17 17:00:00\", \"2017-02-17 18:00:00\", \"2017-02-17 19:00:00\", \"2017-02-17 20:00:00\", \"2017-02-17 21:00:00\", \"2017-02-17 22:00:00\", \"2017-02-17 23:00:00\", \"2017-02-18\", \"2017-02-18 01:00:00\", \"2017-02-18 02:00:00\", \"2017-02-18 03:00:00\", \"2017-02-18 04:00:00\", \"2017-02-18 05:00:00\", \"2017-02-18 06:00:00\", \"2017-02-18 07:00:00\", \"2017-02-18 08:00:00\", \"2017-02-18 09:00:00\", \"2017-02-18 10:00:00\", \"2017-02-18 11:00:00\", \"2017-02-18 12:00:00\", \"2017-02-18 13:00:00\", \"2017-02-18 14:00:00\", \"2017-02-18 15:00:00\", \"2017-02-18 16:00:00\", \"2017-02-18 17:00:00\", \"2017-02-18 18:00:00\", \"2017-02-18 19:00:00\", \"2017-02-18 20:00:00\", \"2017-02-18 21:00:00\", \"2017-02-18 22:00:00\", \"2017-02-18 23:00:00\"]}, {\"name\": \"Moving average\", \"line\": {\"color\": \"red\", \"width\": 2}, \"type\": \"scatter\", \"y\": [null, null, null, 16.499999999999996, 12.499999999999998, 12.666666666666666, 16.666666666666664, 18.166666666666664, 21.666666666666664, 26.666666666666664, 27.999999999999996, 31.66666666666666, 29.166666666666664, 28.833333333333332, 26.5, 22.833333333333332, 22.166666666666668, 21.833333333333332, 22.999999999999996, 24.999999999999996, 24.999999999999996, 30.333333333333332, 38.0, 35.33333333333333, 40.33333333333333, 46.83333333333333, 50.666666666666664, 60.0, 72.83333333333331, 98.33333333333333, 105.66666666666666, 114.33333333333331, 130.33333333333334, 142.0, 139.0, 132.33333333333331, 132.66666666666666, 130.5, 119.33333333333333, 103.5, 94.33333333333334, 80.16666666666666, 67.66666666666666, 52.666666666666664, 42.5, 37.5, 37.0, 35.0, 40.83333333333333, 47.166666666666664, 52.5, 57.5, 64.66666666666666, 87.33333333333333, 93.66666666666666, 104.5, 117.16666666666666, 126.33333333333333, 129.83333333333331, 123.16666666666666, 126.66666666666666, 117.66666666666666, 113.66666666666666, 105.66666666666666, 97.83333333333331, 86.5, 74.66666666666666, 65.66666666666666, 52.666666666666664, 47.0, 45.666666666666664, 40.0, 38.0, 46.0, 50.5, 60.83333333333333, 71.5, 93.16666666666666, 107.16666666666666, 113.49999999999999, 129.0, 136.83333333333331, 139.0, 136.83333333333331, 136.83333333333331, 134.16666666666666, 126.49999999999999, 111.83333333333333, 99.0, 85.0, 69.83333333333333, 59.0, 46.0, 43.16666666666666, 40.33333333333333, 34.99999999999999, 35.83333333333333, 43.66666666666666, 47.83333333333333, 56.83333333333333, 66.5, 92.16666666666666, 104.49999999999999, 121.5, 140.83333333333334, 146.5, 155.16666666666666, 150.0, 152.33333333333331, 141.33333333333331, 134.66666666666663, 126.99999999999999, 108.16666666666666, 90.5, 76.49999999999999, 63.49999999999999, 47.99999999999999, 39.0, 46.0, 41.5, 41.49999999999999, 42.99999999999999, 46.99999999999999, 53.499999999999986, 57.16666666666666, 79.16666666666666, 89.16666666666666, 106.33333333333333, 114.83333333333331, 128.0, 134.83333333333331, 133.16666666666666, 134.66666666666666, 125.99999999999999, 124.5, 108.16666666666667, 88.83333333333333, 68.16666666666666, 51.833333333333336, 40.166666666666664, 26.166666666666664, 15.666666666666666, 9.499999999999998, 5.499999999999999, 5.499999999999999, 4.5, 4.833333333333333, 7.833333333333332, 8.666666666666666, 10.0, 10.166666666666666, 11.0, 14.333333333333332, 13.666666666666666, 14.333333333333332, 14.833333333333332, 14.333333333333332, 13.5, 10.333333333333332], \"x\": [\"2017-02-12 05:00:00\", \"2017-02-12 06:00:00\", \"2017-02-12 07:00:00\", \"2017-02-12 08:00:00\", \"2017-02-12 09:00:00\", \"2017-02-12 10:00:00\", \"2017-02-12 11:00:00\", \"2017-02-12 12:00:00\", \"2017-02-12 13:00:00\", \"2017-02-12 14:00:00\", \"2017-02-12 15:00:00\", \"2017-02-12 16:00:00\", \"2017-02-12 17:00:00\", \"2017-02-12 18:00:00\", \"2017-02-12 19:00:00\", \"2017-02-12 20:00:00\", \"2017-02-12 21:00:00\", \"2017-02-12 22:00:00\", \"2017-02-12 23:00:00\", \"2017-02-13\", \"2017-02-13 01:00:00\", \"2017-02-13 02:00:00\", \"2017-02-13 03:00:00\", \"2017-02-13 04:00:00\", \"2017-02-13 05:00:00\", \"2017-02-13 06:00:00\", \"2017-02-13 07:00:00\", \"2017-02-13 08:00:00\", \"2017-02-13 09:00:00\", \"2017-02-13 10:00:00\", \"2017-02-13 11:00:00\", \"2017-02-13 12:00:00\", \"2017-02-13 13:00:00\", \"2017-02-13 14:00:00\", \"2017-02-13 15:00:00\", \"2017-02-13 16:00:00\", \"2017-02-13 17:00:00\", \"2017-02-13 18:00:00\", \"2017-02-13 19:00:00\", \"2017-02-13 20:00:00\", \"2017-02-13 21:00:00\", \"2017-02-13 22:00:00\", \"2017-02-13 23:00:00\", \"2017-02-14\", \"2017-02-14 01:00:00\", \"2017-02-14 02:00:00\", \"2017-02-14 03:00:00\", \"2017-02-14 04:00:00\", \"2017-02-14 05:00:00\", \"2017-02-14 06:00:00\", \"2017-02-14 07:00:00\", \"2017-02-14 08:00:00\", \"2017-02-14 09:00:00\", \"2017-02-14 10:00:00\", \"2017-02-14 11:00:00\", \"2017-02-14 12:00:00\", \"2017-02-14 13:00:00\", \"2017-02-14 14:00:00\", \"2017-02-14 15:00:00\", \"2017-02-14 16:00:00\", \"2017-02-14 17:00:00\", \"2017-02-14 18:00:00\", \"2017-02-14 19:00:00\", \"2017-02-14 20:00:00\", \"2017-02-14 21:00:00\", \"2017-02-14 22:00:00\", \"2017-02-14 23:00:00\", \"2017-02-15\", \"2017-02-15 01:00:00\", \"2017-02-15 02:00:00\", \"2017-02-15 03:00:00\", \"2017-02-15 04:00:00\", \"2017-02-15 05:00:00\", \"2017-02-15 06:00:00\", \"2017-02-15 07:00:00\", \"2017-02-15 08:00:00\", \"2017-02-15 09:00:00\", \"2017-02-15 10:00:00\", \"2017-02-15 11:00:00\", \"2017-02-15 12:00:00\", \"2017-02-15 13:00:00\", \"2017-02-15 14:00:00\", \"2017-02-15 15:00:00\", \"2017-02-15 16:00:00\", \"2017-02-15 17:00:00\", \"2017-02-15 18:00:00\", \"2017-02-15 19:00:00\", \"2017-02-15 20:00:00\", \"2017-02-15 21:00:00\", \"2017-02-15 22:00:00\", \"2017-02-15 23:00:00\", \"2017-02-16\", \"2017-02-16 01:00:00\", \"2017-02-16 02:00:00\", \"2017-02-16 03:00:00\", \"2017-02-16 04:00:00\", \"2017-02-16 05:00:00\", \"2017-02-16 06:00:00\", \"2017-02-16 07:00:00\", \"2017-02-16 08:00:00\", \"2017-02-16 09:00:00\", \"2017-02-16 10:00:00\", \"2017-02-16 11:00:00\", \"2017-02-16 12:00:00\", \"2017-02-16 13:00:00\", \"2017-02-16 14:00:00\", \"2017-02-16 15:00:00\", \"2017-02-16 16:00:00\", \"2017-02-16 17:00:00\", \"2017-02-16 18:00:00\", \"2017-02-16 19:00:00\", \"2017-02-16 20:00:00\", \"2017-02-16 21:00:00\", \"2017-02-16 22:00:00\", \"2017-02-16 23:00:00\", \"2017-02-17\", \"2017-02-17 01:00:00\", \"2017-02-17 02:00:00\", \"2017-02-17 03:00:00\", \"2017-02-17 04:00:00\", \"2017-02-17 05:00:00\", \"2017-02-17 06:00:00\", \"2017-02-17 07:00:00\", \"2017-02-17 08:00:00\", \"2017-02-17 09:00:00\", \"2017-02-17 10:00:00\", \"2017-02-17 11:00:00\", \"2017-02-17 12:00:00\", \"2017-02-17 13:00:00\", \"2017-02-17 14:00:00\", \"2017-02-17 15:00:00\", \"2017-02-17 16:00:00\", \"2017-02-17 17:00:00\", \"2017-02-17 18:00:00\", \"2017-02-17 19:00:00\", \"2017-02-17 20:00:00\", \"2017-02-17 21:00:00\", \"2017-02-17 22:00:00\", \"2017-02-17 23:00:00\", \"2017-02-18\", \"2017-02-18 01:00:00\", \"2017-02-18 02:00:00\", \"2017-02-18 03:00:00\", \"2017-02-18 04:00:00\", \"2017-02-18 05:00:00\", \"2017-02-18 06:00:00\", \"2017-02-18 07:00:00\", \"2017-02-18 08:00:00\", \"2017-02-18 09:00:00\", \"2017-02-18 10:00:00\", \"2017-02-18 11:00:00\", \"2017-02-18 12:00:00\", \"2017-02-18 13:00:00\", \"2017-02-18 14:00:00\", \"2017-02-18 15:00:00\", \"2017-02-18 16:00:00\", \"2017-02-18 17:00:00\", \"2017-02-18 18:00:00\", \"2017-02-18 19:00:00\"]}], {}, {\"linkText\": \"Export to plot.ly\", \"showLink\": true})});</script>"
      ],
      "text/plain": [
       "<IPython.core.display.HTML object>"
      ]
     },
     "metadata": {},
     "output_type": "display_data"
    }
   ],
   "source": [
    "xy_data = pogo.Scatter( x=feed_times_hour.index, y=feed_times_hour.val,\n",
    "                  mode='markers', marker=Marker(size=8),\n",
    "                  name='Hourly Count')\n",
    "# vvv clip first and last points of convolution\n",
    "mov_avg = pogo.Scatter( x=feed_times_hour.index[5:-4], y=feed_times_hour.ma[5:-4], \\\n",
    "                  line=Line(width=2,color='red'), name='Moving average')\n",
    "data = Data([xy_data, mov_avg])\n",
    "\n",
    "iplot(data, filename='hourly feed count moving avg')"
   ]
  },
  {
   "cell_type": "code",
   "execution_count": 31,
   "metadata": {
    "collapsed": false
   },
   "outputs": [],
   "source": [
    "first_plot_url = plot(data, filename='images/hourly feed count moving avg.html', auto_open=False,)\n",
    "first_plot_url = first_plot_url[7:]"
   ]
  },
  {
   "cell_type": "markdown",
   "metadata": {},
   "source": [
    "## Log Info"
   ]
  },
  {
   "cell_type": "code",
   "execution_count": 32,
   "metadata": {
    "collapsed": true
   },
   "outputs": [],
   "source": [
    "with open(os.path.join(main_repo_dir, \"main_run.log\"), \"r\") as f:\n",
    "    log = f.readlines()"
   ]
  },
  {
   "cell_type": "code",
   "execution_count": 33,
   "metadata": {
    "collapsed": false
   },
   "outputs": [],
   "source": [
    "dates, entries = zip(*[(' '.join(line.split()[:3]), ' '.join(line.split()[3:])) for line in log])"
   ]
  },
  {
   "cell_type": "code",
   "execution_count": 34,
   "metadata": {
    "collapsed": false
   },
   "outputs": [],
   "source": [
    "dates = [datetime.datetime.strptime(date, '%m/%d/%Y %I:%M:%S %p') for date in dates]"
   ]
  },
  {
   "cell_type": "code",
   "execution_count": 35,
   "metadata": {
    "collapsed": false
   },
   "outputs": [],
   "source": [
    "log = pandas.DataFrame(data = {'entry' : entries}, index=dates)"
   ]
  },
  {
   "cell_type": "code",
   "execution_count": 36,
   "metadata": {
    "collapsed": false
   },
   "outputs": [],
   "source": [
    "log = log.loc[(log.index >= start_date) & (log.index < end_date)]"
   ]
  },
  {
   "cell_type": "code",
   "execution_count": 37,
   "metadata": {
    "collapsed": false
   },
   "outputs": [],
   "source": [
    "log['day'] = [ent.strftime('%Y-%m-%d') for ent in log.index]"
   ]
  },
  {
   "cell_type": "code",
   "execution_count": 38,
   "metadata": {
    "collapsed": false
   },
   "outputs": [],
   "source": [
    "# Define which entry we're in\n",
    "entry_ind = -1\n",
    "\n",
    "def update_entry(x):\n",
    "    global entry_ind\n",
    "    if x['entry'] == \"Retrieving contents...\":\n",
    "        entry_ind += 1\n",
    "    return(entry_ind)\n",
    "\n",
    "log['entry_ind'] = log.apply(lambda x: update_entry(x), axis=1)"
   ]
  },
  {
   "cell_type": "code",
   "execution_count": 39,
   "metadata": {
    "collapsed": false
   },
   "outputs": [],
   "source": [
    "# Flag Errors\n",
    "def flag_error(x):\n",
    "    text = x.entry.lower()\n",
    "    if text.find('warning') > -1 or text.find('error') > -1:\n",
    "        return(True)\n",
    "    else:\n",
    "        return(False)\n",
    "    \n",
    "log['is_error'] = log.apply(lambda x: flag_error(x), axis=1)"
   ]
  },
  {
   "cell_type": "code",
   "execution_count": 40,
   "metadata": {
    "collapsed": false
   },
   "outputs": [
    {
     "data": {
      "text/html": [
       "<div>\n",
       "<table border=\"1\" class=\"dataframe\">\n",
       "  <thead>\n",
       "    <tr style=\"text-align: right;\">\n",
       "      <th></th>\n",
       "      <th>entry</th>\n",
       "      <th>day</th>\n",
       "      <th>entry_ind</th>\n",
       "      <th>is_error</th>\n",
       "    </tr>\n",
       "  </thead>\n",
       "  <tbody>\n",
       "    <tr>\n",
       "      <th>2017-02-13 05:00:01</th>\n",
       "      <td>Retrieving contents...</td>\n",
       "      <td>2017-02-13</td>\n",
       "      <td>0</td>\n",
       "      <td>False</td>\n",
       "    </tr>\n",
       "    <tr>\n",
       "      <th>2017-02-13 05:00:01</th>\n",
       "      <td>Total feeedss to visit: 250</td>\n",
       "      <td>2017-02-13</td>\n",
       "      <td>0</td>\n",
       "      <td>False</td>\n",
       "    </tr>\n",
       "    <tr>\n",
       "      <th>2017-02-13 05:00:01</th>\n",
       "      <td>Creating 8 Tor openers...</td>\n",
       "      <td>2017-02-13</td>\n",
       "      <td>0</td>\n",
       "      <td>False</td>\n",
       "    </tr>\n",
       "    <tr>\n",
       "      <th>2017-02-13 05:00:06</th>\n",
       "      <td>IP Used: b'176.10.104.243'</td>\n",
       "      <td>2017-02-13</td>\n",
       "      <td>0</td>\n",
       "      <td>False</td>\n",
       "    </tr>\n",
       "    <tr>\n",
       "      <th>2017-02-13 05:00:07</th>\n",
       "      <td>Total entries retrieved from https://www.thegu...</td>\n",
       "      <td>2017-02-13</td>\n",
       "      <td>0</td>\n",
       "      <td>False</td>\n",
       "    </tr>\n",
       "  </tbody>\n",
       "</table>\n",
       "</div>"
      ],
      "text/plain": [
       "                                                                 entry  \\\n",
       "2017-02-13 05:00:01                             Retrieving contents...   \n",
       "2017-02-13 05:00:01                        Total feeedss to visit: 250   \n",
       "2017-02-13 05:00:01                          Creating 8 Tor openers...   \n",
       "2017-02-13 05:00:06                         IP Used: b'176.10.104.243'   \n",
       "2017-02-13 05:00:07  Total entries retrieved from https://www.thegu...   \n",
       "\n",
       "                            day  entry_ind is_error  \n",
       "2017-02-13 05:00:01  2017-02-13          0    False  \n",
       "2017-02-13 05:00:01  2017-02-13          0    False  \n",
       "2017-02-13 05:00:01  2017-02-13          0    False  \n",
       "2017-02-13 05:00:06  2017-02-13          0    False  \n",
       "2017-02-13 05:00:07  2017-02-13          0    False  "
      ]
     },
     "execution_count": 40,
     "metadata": {},
     "output_type": "execute_result"
    }
   ],
   "source": [
    "log.head()"
   ]
  },
  {
   "cell_type": "code",
   "execution_count": 41,
   "metadata": {
    "collapsed": false
   },
   "outputs": [
    {
     "data": {
      "text/html": [
       "<div>\n",
       "<table border=\"1\" class=\"dataframe\">\n",
       "  <thead>\n",
       "    <tr style=\"text-align: right;\">\n",
       "      <th></th>\n",
       "      <th>entry</th>\n",
       "      <th>day</th>\n",
       "      <th>entry_ind</th>\n",
       "      <th>is_error</th>\n",
       "    </tr>\n",
       "  </thead>\n",
       "  <tbody>\n",
       "    <tr>\n",
       "      <th>2017-02-17 17:07:11</th>\n",
       "      <td>Feed http://www.ft.com/rss/management/connecte...</td>\n",
       "      <td>2017-02-17</td>\n",
       "      <td>64</td>\n",
       "      <td>True</td>\n",
       "    </tr>\n",
       "    <tr>\n",
       "      <th>2017-02-17 17:07:13</th>\n",
       "      <td>No contents found</td>\n",
       "      <td>2017-02-17</td>\n",
       "      <td>64</td>\n",
       "      <td>False</td>\n",
       "    </tr>\n",
       "    <tr>\n",
       "      <th>2017-02-17 17:07:14</th>\n",
       "      <td>Total entries retrieved from http://www.ft.com...</td>\n",
       "      <td>2017-02-17</td>\n",
       "      <td>64</td>\n",
       "      <td>False</td>\n",
       "    </tr>\n",
       "    <tr>\n",
       "      <th>2017-02-17 17:07:14</th>\n",
       "      <td>Total new links added: 0</td>\n",
       "      <td>2017-02-17</td>\n",
       "      <td>64</td>\n",
       "      <td>False</td>\n",
       "    </tr>\n",
       "    <tr>\n",
       "      <th>2017-02-17 17:07:15</th>\n",
       "      <td>Total new links added from all feeds: 73</td>\n",
       "      <td>2017-02-17</td>\n",
       "      <td>64</td>\n",
       "      <td>False</td>\n",
       "    </tr>\n",
       "  </tbody>\n",
       "</table>\n",
       "</div>"
      ],
      "text/plain": [
       "                                                                 entry  \\\n",
       "2017-02-17 17:07:11  Feed http://www.ft.com/rss/management/connecte...   \n",
       "2017-02-17 17:07:13                                  No contents found   \n",
       "2017-02-17 17:07:14  Total entries retrieved from http://www.ft.com...   \n",
       "2017-02-17 17:07:14                           Total new links added: 0   \n",
       "2017-02-17 17:07:15           Total new links added from all feeds: 73   \n",
       "\n",
       "                            day  entry_ind is_error  \n",
       "2017-02-17 17:07:11  2017-02-17         64     True  \n",
       "2017-02-17 17:07:13  2017-02-17         64    False  \n",
       "2017-02-17 17:07:14  2017-02-17         64    False  \n",
       "2017-02-17 17:07:14  2017-02-17         64    False  \n",
       "2017-02-17 17:07:15  2017-02-17         64    False  "
      ]
     },
     "execution_count": 41,
     "metadata": {},
     "output_type": "execute_result"
    }
   ],
   "source": [
    "log.tail()"
   ]
  },
  {
   "cell_type": "code",
   "execution_count": 42,
   "metadata": {
    "collapsed": true
   },
   "outputs": [],
   "source": [
    "total_days = len(log.day.unique())\n",
    "total_runs = len(log.entry_ind.unique())"
   ]
  },
  {
   "cell_type": "markdown",
   "metadata": {},
   "source": [
    "### Time for each Pull"
   ]
  },
  {
   "cell_type": "code",
   "execution_count": 43,
   "metadata": {
    "collapsed": true
   },
   "outputs": [],
   "source": [
    "day_entry_groups = log.groupby(['day', 'entry_ind'])"
   ]
  },
  {
   "cell_type": "code",
   "execution_count": 44,
   "metadata": {
    "collapsed": false
   },
   "outputs": [],
   "source": [
    "times = pandas.DataFrame(day_entry_groups.apply(lambda x: (x.index[-1] - x.index[0]).total_seconds()))"
   ]
  },
  {
   "cell_type": "code",
   "execution_count": 45,
   "metadata": {
    "collapsed": false
   },
   "outputs": [],
   "source": [
    "data_times = []\n",
    "for day in times.index.get_level_values('day').unique():\n",
    "    subd = times.ix[day].values\n",
    "    trace = pogo.Box(\n",
    "                     y=list(subd.reshape((1,subd.shape[0]))[0]),\n",
    "                     name=str(day)\n",
    "                    )\n",
    "    data_times.append(trace)"
   ]
  },
  {
   "cell_type": "code",
   "execution_count": 46,
   "metadata": {
    "collapsed": false
   },
   "outputs": [
    {
     "data": {
      "text/html": [
       "<div id=\"815bb12d-18b5-4ec8-9d13-5b0c6d07d3b8\" style=\"height: 525px; width: 100%;\" class=\"plotly-graph-div\"></div><script type=\"text/javascript\">require([\"plotly\"], function(Plotly) { window.PLOTLYENV=window.PLOTLYENV || {};window.PLOTLYENV.BASE_URL=\"https://plot.ly\";Plotly.newPlot(\"815bb12d-18b5-4ec8-9d13-5b0c6d07d3b8\", [{\"name\": \"2017-02-13\", \"type\": \"box\", \"y\": [309.0, 320.0, 381.0, 417.0, 562.0, 521.0, 381.0, 1861.0000000000002, 399.0, 553.0, 549.0, 625.0, 539.0]}, {\"name\": \"2017-02-14\", \"type\": \"box\", \"y\": [468.00000000000006, 716.0, 350.0, 398.0, 372.0, 460.00000000000006, 540.0, 388.0, 573.0, 417.0, 393.0, 419.0, 604.0]}, {\"name\": \"2017-02-15\", \"type\": \"box\", \"y\": [415.0, 412.0, 501.00000000000006, 412.0, 377.0, 422.0, 595.0, 537.0, 430.0, 688.0, 709.0, 473.00000000000006, 547.0]}, {\"name\": \"2017-02-16\", \"type\": \"box\", \"y\": [375.0, 425.0, 611.0, 358.0, 343.0, 630.0, 1650.0, 456.0, 524.0, 651.0, 533.0, 343.0, 407.0]}, {\"name\": \"2017-02-17\", \"type\": \"box\", \"y\": [464.00000000000006, 370.0, 515.0, 445.0, 445.0, 447.0, 312.0, 441.0, 477.00000000000006, 481.00000000000006, 424.0, 406.0, 434.0]}], {\"yaxis\": {\"tickfont\": {\"color\": \"rgb(107, 107, 107)\", \"size\": 14}, \"title\": \"Time (seconds)\", \"titlefont\": {\"color\": \"rgb(107, 107, 107)\", \"size\": 16}}, \"title\": \"Run Times by Day\", \"xaxis\": {\"tickfont\": {\"color\": \"rgb(107, 107, 107)\", \"size\": 14}, \"tickformat\": \"%b %e %Y\"}}, {\"linkText\": \"Export to plot.ly\", \"showLink\": true})});</script>"
      ],
      "text/plain": [
       "<IPython.core.display.HTML object>"
      ]
     },
     "metadata": {},
     "output_type": "display_data"
    }
   ],
   "source": [
    "layout = pogo.Layout(\n",
    "    title='Run Times by Day',\n",
    "    xaxis=dict(\n",
    "        tickformat = \"%b %e %Y\",\n",
    "        tickfont=dict(\n",
    "            size=14,\n",
    "            color='rgb(107, 107, 107)'\n",
    "        )\n",
    "    ),\n",
    "    yaxis=dict(\n",
    "        title='Time (seconds)',\n",
    "        titlefont=dict(\n",
    "            size=16,\n",
    "            color='rgb(107, 107, 107)'\n",
    "        ),\n",
    "        tickfont=dict(\n",
    "            size=14,\n",
    "            color='rgb(107, 107, 107)'\n",
    "        )\n",
    "    ),\n",
    ")\n",
    "\n",
    "dt_fig = pogo.Figure(data=data_times, layout=layout)\n",
    "iplot(dt_fig)"
   ]
  },
  {
   "cell_type": "code",
   "execution_count": 47,
   "metadata": {
    "collapsed": true
   },
   "outputs": [],
   "source": [
    "run_times_plot_url = plot(dt_fig, filename='images/run times box plot.html', auto_open=False,)\n",
    "run_times_plot_url = run_times_plot_url[7:]"
   ]
  },
  {
   "cell_type": "markdown",
   "metadata": {},
   "source": [
    "### Errors Info"
   ]
  },
  {
   "cell_type": "code",
   "execution_count": 48,
   "metadata": {
    "collapsed": true
   },
   "outputs": [],
   "source": [
    "day_groups = log.groupby(['day'])"
   ]
  },
  {
   "cell_type": "code",
   "execution_count": 49,
   "metadata": {
    "collapsed": false
   },
   "outputs": [
    {
     "data": {
      "text/plain": [
       "day\n",
       "2017-02-13    13\n",
       "2017-02-14    13\n",
       "2017-02-15    13\n",
       "2017-02-16    13\n",
       "2017-02-17    13\n",
       "dtype: int64"
      ]
     },
     "execution_count": 49,
     "metadata": {},
     "output_type": "execute_result"
    }
   ],
   "source": [
    "# attempts per day\n",
    "day_groups.apply(lambda x: len(x.entry_ind.unique()))"
   ]
  },
  {
   "cell_type": "code",
   "execution_count": 50,
   "metadata": {
    "collapsed": false
   },
   "outputs": [],
   "source": [
    "# Errors per day\n",
    "epd = day_groups.apply(lambda x: sum(x.is_error))"
   ]
  },
  {
   "cell_type": "code",
   "execution_count": 51,
   "metadata": {
    "collapsed": false
   },
   "outputs": [
    {
     "data": {
      "text/html": [
       "<div id=\"566b826a-859d-4f0a-b17c-7f4e442dd10c\" style=\"height: 525px; width: 100%;\" class=\"plotly-graph-div\"></div><script type=\"text/javascript\">require([\"plotly\"], function(Plotly) { window.PLOTLYENV=window.PLOTLYENV || {};window.PLOTLYENV.BASE_URL=\"https://plot.ly\";Plotly.newPlot(\"566b826a-859d-4f0a-b17c-7f4e442dd10c\", [{\"type\": \"bar\", \"y\": [396, 121, 255, 201, 257], \"x\": [\"2017-02-13\", \"2017-02-14\", \"2017-02-15\", \"2017-02-16\", \"2017-02-17\"]}], {}, {\"linkText\": \"Export to plot.ly\", \"showLink\": true})});</script>"
      ],
      "text/plain": [
       "<IPython.core.display.HTML object>"
      ]
     },
     "metadata": {},
     "output_type": "display_data"
    }
   ],
   "source": [
    "g = pogo.Bar(x=list(epd.index), y=epd.values)\n",
    "\n",
    "data = pogo.Data([g])\n",
    "\n",
    "iplot(data, filename='errors per day')"
   ]
  },
  {
   "cell_type": "markdown",
   "metadata": {},
   "source": [
    "#### Breakdown of Types"
   ]
  },
  {
   "cell_type": "code",
   "execution_count": 52,
   "metadata": {
    "collapsed": true
   },
   "outputs": [],
   "source": [
    "def extract_err_class(error_text):\n",
    "    start = error_text.find('<class ')\n",
    "    end = error_text.find(\"'>:\")\n",
    "    if start > -1 and end > -1:\n",
    "        err_class = error_text[start : (end + 2)]\n",
    "    else:\n",
    "        err_class = ''\n",
    "    return(err_class)"
   ]
  },
  {
   "cell_type": "code",
   "execution_count": 53,
   "metadata": {
    "collapsed": false
   },
   "outputs": [],
   "source": [
    "log['err_class'] = log.entry.apply(lambda x: extract_err_class(x))"
   ]
  },
  {
   "cell_type": "code",
   "execution_count": 54,
   "metadata": {
    "collapsed": false
   },
   "outputs": [],
   "source": [
    "day_err_groups = log.loc[log.is_error].groupby(['err_class', 'day'])"
   ]
  },
  {
   "cell_type": "code",
   "execution_count": 55,
   "metadata": {
    "collapsed": false
   },
   "outputs": [],
   "source": [
    "err_counts = pandas.DataFrame(day_err_groups.apply(len))"
   ]
  },
  {
   "cell_type": "code",
   "execution_count": 56,
   "metadata": {
    "collapsed": false
   },
   "outputs": [
    {
     "data": {
      "text/plain": [
       "['2017-02-14', '2017-02-13', '2017-02-15', '2017-02-16', '2017-02-17']"
      ]
     },
     "execution_count": 56,
     "metadata": {},
     "output_type": "execute_result"
    }
   ],
   "source": [
    "[str(d) for d in err_counts.index.get_level_values('day').unique()]"
   ]
  },
  {
   "cell_type": "code",
   "execution_count": 57,
   "metadata": {
    "collapsed": false
   },
   "outputs": [],
   "source": [
    "data_ecs = []\n",
    "for et in err_counts.index.get_level_values('err_class').unique():\n",
    "    subd = err_counts.ix[et].values\n",
    "    # Each trace is an error type\n",
    "    # \"x\" is the day\n",
    "    trace = pogo.Bar(\n",
    "                     x=[str(e) for e in err_counts.ix[et].index],\n",
    "                     y=list(subd.reshape((1,subd.shape[0]))[0]),\n",
    "                     name=et.split(\"'\")[1]\n",
    "                    )\n",
    "    data_ecs.append(trace)"
   ]
  },
  {
   "cell_type": "code",
   "execution_count": 58,
   "metadata": {
    "collapsed": false
   },
   "outputs": [
    {
     "data": {
      "text/html": [
       "<div id=\"6fbc95a5-36bf-4f41-89b6-74260f15cb63\" style=\"height: 525px; width: 100%;\" class=\"plotly-graph-div\"></div><script type=\"text/javascript\">require([\"plotly\"], function(Plotly) { window.PLOTLYENV=window.PLOTLYENV || {};window.PLOTLYENV.BASE_URL=\"https://plot.ly\";Plotly.newPlot(\"6fbc95a5-36bf-4f41-89b6-74260f15cb63\", [{\"name\": \"TypeError\", \"type\": \"bar\", \"y\": [10], \"x\": [\"2017-02-14\"]}, {\"name\": \"UnboundLocalError\", \"type\": \"bar\", \"y\": [13, 18, 13, 13, 17], \"x\": [\"2017-02-13\", \"2017-02-14\", \"2017-02-15\", \"2017-02-16\", \"2017-02-17\"]}, {\"name\": \"mysql.connector.errors.DataError\", \"type\": \"bar\", \"y\": [13, 18, 13, 13, 17], \"x\": [\"2017-02-13\", \"2017-02-14\", \"2017-02-15\", \"2017-02-16\", \"2017-02-17\"]}, {\"name\": \"urllib.error.HTTPError\", \"type\": \"bar\", \"y\": [13, 13, 13, 13, 13], \"x\": [\"2017-02-13\", \"2017-02-14\", \"2017-02-15\", \"2017-02-16\", \"2017-02-17\"]}, {\"name\": \"urllib.error.URLError\", \"type\": \"bar\", \"y\": [357, 62, 216, 162, 210], \"x\": [\"2017-02-13\", \"2017-02-14\", \"2017-02-15\", \"2017-02-16\", \"2017-02-17\"]}], {\"yaxis\": {\"tickfont\": {\"color\": \"rgb(107, 107, 107)\", \"size\": 14}, \"title\": \"Error Counts\", \"titlefont\": {\"color\": \"rgb(107, 107, 107)\", \"size\": 16}}, \"barmode\": \"stack\", \"xaxis\": {\"tickfont\": {\"color\": \"rgb(107, 107, 107)\", \"size\": 14}, \"tickformat\": \"%b %e %Y\", \"ticks\": [\"2017-02-14\", \"2017-02-13\", \"2017-02-15\", \"2017-02-16\", \"2017-02-17\"]}, \"title\": \"Error Counts by Day, Breakdown by Type\", \"legend\": {\"x\": 0, \"y\": 1.0}}, {\"linkText\": \"Export to plot.ly\", \"showLink\": true})});</script>"
      ],
      "text/plain": [
       "<IPython.core.display.HTML object>"
      ]
     },
     "metadata": {},
     "output_type": "display_data"
    }
   ],
   "source": [
    "layout = pogo.Layout(\n",
    "    title='Error Counts by Day, Breakdown by Type',\n",
    "    xaxis=dict(\n",
    "        tickformat = \"%b %e %Y\",\n",
    "        ticks = [str(d) for d in err_counts.index.get_level_values('day').unique()],\n",
    "        tickfont=dict(\n",
    "            size=14,\n",
    "            color='rgb(107, 107, 107)'\n",
    "        ),\n",
    "    ),\n",
    "    yaxis=dict(\n",
    "        title='Error Counts',\n",
    "        titlefont=dict(\n",
    "            size=16,\n",
    "            color='rgb(107, 107, 107)'\n",
    "        ),\n",
    "        tickfont=dict(\n",
    "            size=14,\n",
    "            color='rgb(107, 107, 107)'\n",
    "        )\n",
    "    ),\n",
    "    legend=dict(\n",
    "        x=0,\n",
    "        y=1.0\n",
    "    ),\n",
    "    barmode='stack'\n",
    ")\n",
    "\n",
    "ec_fig = pogo.Figure(data=data_ecs, layout=layout)\n",
    "iplot(ec_fig, filename='stacked-bar')"
   ]
  },
  {
   "cell_type": "code",
   "execution_count": 59,
   "metadata": {
    "collapsed": false
   },
   "outputs": [],
   "source": [
    "err_counts_plot_url = plot(ec_fig, filename='images/error counts stacked.html', auto_open=False,)\n",
    "err_counts_plot_url = err_counts_plot_url[7:]"
   ]
  },
  {
   "cell_type": "markdown",
   "metadata": {},
   "source": [
    "## Generate HTML as a String and Write to File"
   ]
  },
  {
   "cell_type": "code",
   "execution_count": 60,
   "metadata": {
    "collapsed": false
   },
   "outputs": [],
   "source": [
    "html_string = '''\n",
    "<html>\n",
    "    <head>\n",
    "        <link rel=\"stylesheet\" href=\"https://maxcdn.bootstrapcdn.com/bootstrap/3.3.1/css/bootstrap.min.css\">\n",
    "        <style>body{ margin:0 100; background:whitesmoke; }</style>\n",
    "    </head>\n",
    "    <body>\n",
    "        <h1>Feed Summary Information for Week of ''' + week_of_date + '''</h1>\n",
    "\n",
    "        <!-- *** Section 1 *** --->\n",
    "        <h2>Section 1: Hourly Feed Count for Week</h2>\n",
    "            <iframe width=\"1000\" height=\"550\" frameborder=\"0\" seamless=\"seamless\" scrolling=\"no\"\\\n",
    "    src=\"''' + first_plot_url + '''\"></iframe>\n",
    "            <p>blah blah blah.</p>\n",
    "\n",
    "            <p>Comments can be inserted here</p>\n",
    "        \n",
    "        <!-- *** Section 2 *** --->\n",
    "        <h2>Section 2: Feed Summary Information</h2>\n",
    "        \n",
    "            <h4>Total new stories for the week: ''' + str(total_new_articles) + '''</h4>\n",
    "                \n",
    "            <table width=\"100%\">\n",
    "                <tr>\n",
    "                    <td width=\"65%\"><h3>Counts by Feed:</h3></td>\n",
    "                    <td width=\"30%\"><h3>Counts by Topic:</h3></td>\n",
    "                </tr>\n",
    "            </table>\n",
    "\n",
    "\n",
    "            <iframe style=\"padding:40px\" width=\"65%\" height=\"480\" frameborder=\"0\" seamless=\"seamless\" scrolling=\"yes\" align=\"left\"\\\n",
    "    src=\"''' + first_table_url + '''\"></iframe>\n",
    "\n",
    "            <iframe style=\"padding:40px\" width=\"30%\" height=\"480\" frameborder=\"0\" seamless=\"seamless\" scrolling=\"yes\" align=\"right\"\\\n",
    "    src=\"''' + second_table_url + '''\"></iframe>\n",
    "\n",
    "\n",
    "        <!-- *** Section 3 *** --->\n",
    "        <h2>Section 3: Log Info</h2>\n",
    "        \n",
    "            <h3>Run Times</h3>\n",
    "            \n",
    "            <iframe style=\"padding:40px\" width=\"1000\" height=\"600\" frameborder=\"0\" seamless=\"seamless\" scrolling=\"no\"\\\n",
    "    src=\"''' + run_times_plot_url + '''\"></iframe>\n",
    "            \n",
    "            <h3>Error Types Encountered</h3>\n",
    "            \n",
    "            <iframe style=\"padding:40px\" width=\"1000\" height=\"600\" frameborder=\"0\" seamless=\"seamless\" scrolling=\"no\"\\\n",
    "    src=\"''' + err_counts_plot_url + '''\"></iframe>\n",
    "    \n",
    "    </body>\n",
    "</html>'''"
   ]
  },
  {
   "cell_type": "code",
   "execution_count": 61,
   "metadata": {
    "collapsed": false
   },
   "outputs": [],
   "source": [
    "f = open(os.path.join(main_repo_dir,'reports/dashboards/RSSFeedWeekly.html'),'w')\n",
    "f.write(html_string)\n",
    "f.close()"
   ]
  }
 ],
 "metadata": {
  "kernelspec": {
   "display_name": "rss (P3)",
   "language": "python",
   "name": "rss_p3"
  },
  "language_info": {
   "codemirror_mode": {
    "name": "ipython",
    "version": 3
   },
   "file_extension": ".py",
   "mimetype": "text/x-python",
   "name": "python",
   "nbconvert_exporter": "python",
   "pygments_lexer": "ipython3",
   "version": "3.5.2"
  }
 },
 "nbformat": 4,
 "nbformat_minor": 2
}
