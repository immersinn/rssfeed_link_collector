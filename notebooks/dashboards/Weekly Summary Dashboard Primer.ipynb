{
 "cells": [
  {
   "cell_type": "code",
   "execution_count": 1,
   "metadata": {
    "collapsed": true
   },
   "outputs": [],
   "source": [
    "import sys\n",
    "import os"
   ]
  },
  {
   "cell_type": "code",
   "execution_count": 2,
   "metadata": {
    "collapsed": false
   },
   "outputs": [],
   "source": [
    "import time\n",
    "import datetime"
   ]
  },
  {
   "cell_type": "code",
   "execution_count": 3,
   "metadata": {
    "collapsed": true
   },
   "outputs": [],
   "source": [
    "import numpy\n",
    "import pandas"
   ]
  },
  {
   "cell_type": "code",
   "execution_count": 203,
   "metadata": {
    "collapsed": false
   },
   "outputs": [
    {
     "data": {
      "text/html": [
       "<script>requirejs.config({paths: { 'plotly': ['https://cdn.plot.ly/plotly-latest.min']},});if(!window.Plotly) {{require(['plotly'],function(plotly) {window.Plotly=plotly;});}}</script>"
      ],
      "text/plain": [
       "<IPython.core.display.HTML object>"
      ]
     },
     "metadata": {},
     "output_type": "display_data"
    }
   ],
   "source": [
    "import plotly as py\n",
    "from plotly.offline import download_plotlyjs, init_notebook_mode, plot, iplot\n",
    "from plotly.tools import FigureFactory as FF\n",
    "import plotly.graph_objs as pogo\n",
    "\n",
    "init_notebook_mode(connected=True)"
   ]
  },
  {
   "cell_type": "code",
   "execution_count": 5,
   "metadata": {
    "collapsed": true
   },
   "outputs": [],
   "source": [
    "from IPython.display import display, HTML"
   ]
  },
  {
   "cell_type": "code",
   "execution_count": 6,
   "metadata": {
    "collapsed": true
   },
   "outputs": [],
   "source": [
    "main_repo_dir = os.path.abspath(os.path.join('../..'))\n",
    "sys.path.append(os.path.join(main_repo_dir, 'src'))"
   ]
  },
  {
   "cell_type": "code",
   "execution_count": 7,
   "metadata": {
    "collapsed": true
   },
   "outputs": [],
   "source": [
    "import utils\n",
    "import mysql_utils"
   ]
  },
  {
   "cell_type": "markdown",
   "metadata": {},
   "source": [
    "## Create Start, End Dates"
   ]
  },
  {
   "cell_type": "code",
   "execution_count": 8,
   "metadata": {
    "collapsed": false
   },
   "outputs": [
    {
     "name": "stdout",
     "output_type": "stream",
     "text": [
      "2017-02-05 00:00:00\n",
      "2017-02-12 00:00:00\n",
      "2017-02-05\n"
     ]
    }
   ],
   "source": [
    "# Get the current date\n",
    "cur = datetime.datetime.utcnow().date()\n",
    "\n",
    "# Get distance to 2 Sundays ago\n",
    "wkday = (cur.weekday() + 1) % 7\n",
    "shift = 7 + wkday\n",
    "\n",
    "# Create start, end dates\n",
    "start_date = cur - datetime.timedelta(days=shift)\n",
    "start_date = datetime.datetime(year=start_date.year, month=start_date.month, day=start_date.day)\n",
    "end_date = start_date + datetime.timedelta(days=7)\n",
    "\n",
    "# Convert to strings\n",
    "start_date = start_date.strftime(\"%Y-%m-%d %H:%M:%S\")\n",
    "end_date = end_date.strftime(\"%Y-%m-%d %H:%M:%S\")\n",
    "week_of_date = start_date.split()[0]\n",
    "\n",
    "print(start_date)\n",
    "print(end_date)\n",
    "print(week_of_date)"
   ]
  },
  {
   "cell_type": "markdown",
   "metadata": {},
   "source": [
    "## Query Data from MySQL"
   ]
  },
  {
   "cell_type": "code",
   "execution_count": 9,
   "metadata": {
    "collapsed": true
   },
   "outputs": [],
   "source": [
    "cnx = mysql_utils.getCnx()\n",
    "cur = mysql_utils.getCur(cnx)"
   ]
  },
  {
   "cell_type": "code",
   "execution_count": 10,
   "metadata": {
    "collapsed": false
   },
   "outputs": [],
   "source": [
    "df = mysql_utils.query_docs_by_datetime(cursor=cur, start_dt=start_date, end_dt=end_date)"
   ]
  },
  {
   "cell_type": "code",
   "execution_count": 11,
   "metadata": {
    "collapsed": true
   },
   "outputs": [],
   "source": [
    "cnx.close()"
   ]
  },
  {
   "cell_type": "code",
   "execution_count": 12,
   "metadata": {
    "collapsed": false
   },
   "outputs": [],
   "source": [
    "# Flag Duplicates?\n",
    "unique_entries = []\n",
    "titles = set()\n",
    "for i in df.index:\n",
    "    if df.ix[i].title not in titles:\n",
    "        unique_entries.append(i)\n",
    "        titles.update([df.ix[i].title])\n",
    "        \n",
    "df['ind'] = 0\n",
    "df.loc[unique_entries, 'ind'] = 1\n",
    "#df.index = range(df.shape[0])"
   ]
  },
  {
   "cell_type": "code",
   "execution_count": 13,
   "metadata": {
    "collapsed": true
   },
   "outputs": [],
   "source": [
    "# Fix RSS Feed links\n",
    "def repair_rsslink(rss_link):\n",
    "    if rss_link.startswith('http://phys.org/rss-feed/'):\n",
    "        rss_link = 'https://phys.org/rss-feed/' + rss_link[len('http://phys.org/rss-feed/'):]\n",
    "        \n",
    "    return(rss_link)"
   ]
  },
  {
   "cell_type": "code",
   "execution_count": 14,
   "metadata": {
    "collapsed": false
   },
   "outputs": [],
   "source": [
    "df['rss_link'] = df.apply(lambda x: repair_rsslink(x['rss_link']), axis=1)"
   ]
  },
  {
   "cell_type": "markdown",
   "metadata": {},
   "source": [
    "## Counts"
   ]
  },
  {
   "cell_type": "code",
   "execution_count": 15,
   "metadata": {
    "collapsed": false
   },
   "outputs": [
    {
     "data": {
      "text/plain": [
       "7704"
      ]
     },
     "execution_count": 15,
     "metadata": {},
     "output_type": "execute_result"
    }
   ],
   "source": [
    "# Get total counts\n",
    "total_new_articles = df.ind.sum()\n",
    "total_new_articles"
   ]
  },
  {
   "cell_type": "markdown",
   "metadata": {},
   "source": [
    "### Table 01: By RSS Feed"
   ]
  },
  {
   "cell_type": "markdown",
   "metadata": {},
   "source": [
    "Counts by RSS Feed"
   ]
  },
  {
   "cell_type": "code",
   "execution_count": 17,
   "metadata": {
    "collapsed": false
   },
   "outputs": [],
   "source": [
    "res = df[['ind', 'rss_link']].groupby(['rss_link']).agg(['count'])"
   ]
  },
  {
   "cell_type": "code",
   "execution_count": 18,
   "metadata": {
    "collapsed": false
   },
   "outputs": [],
   "source": [
    "res = pandas.DataFrame(data = {'rss_link' : list(res['ind'].index),\n",
    "                               'count' : list(res['ind']['count'])}\n",
    "                      )"
   ]
  },
  {
   "cell_type": "code",
   "execution_count": 38,
   "metadata": {
    "collapsed": false
   },
   "outputs": [],
   "source": [
    "summary_table_1 = FF.create_table(res[['rss_link', 'count']])\n",
    "\n",
    "first_table_url = plot(summary_table_1, filename='images/counts_by_rss.html', auto_open=False,)\n",
    "first_table_url = first_table_url[7:]"
   ]
  },
  {
   "cell_type": "markdown",
   "metadata": {},
   "source": [
    "### Table 02: By Topic"
   ]
  },
  {
   "cell_type": "markdown",
   "metadata": {},
   "source": [
    "Counts by Topic (not very refined at the moment)"
   ]
  },
  {
   "cell_type": "code",
   "execution_count": 30,
   "metadata": {
    "collapsed": true
   },
   "outputs": [],
   "source": [
    "feeds = utils.load_feedlists_data()"
   ]
  },
  {
   "cell_type": "code",
   "execution_count": 31,
   "metadata": {
    "collapsed": true
   },
   "outputs": [],
   "source": [
    "feed_topic_lu = {feed['Link']:feed['RssName'] for feed in feeds}"
   ]
  },
  {
   "cell_type": "code",
   "execution_count": 32,
   "metadata": {
    "collapsed": false
   },
   "outputs": [],
   "source": [
    "df['name'] = df.apply(lambda x: feed_topic_lu[x['rss_link']], axis=1)"
   ]
  },
  {
   "cell_type": "code",
   "execution_count": 33,
   "metadata": {
    "collapsed": false
   },
   "outputs": [],
   "source": [
    "def topic_from_name(name):\n",
    "    topic = name.lower()\n",
    "    if topic.find('business') > -1:\n",
    "        topic = 'business'\n",
    "    if topic.find('financ') > -1:\n",
    "        topic = 'finance'\n",
    "    if topic.find('econ') > -1 or topic.find('market') > -1 or topic.find('currenc') > -1:\n",
    "        topic = 'economy'\n",
    "    if topic.find('science') > -1:\n",
    "        topic = 'science'\n",
    "    if topic.find('tech') > -1:\n",
    "        topic = 'technology'\n",
    "    if topic.find('transport') > -1:\n",
    "        toipic = 'transportation'\n",
    "    if topic.find('travel') > -1:\n",
    "        topic = 'travel'\n",
    "    \n",
    "    return(topic)"
   ]
  },
  {
   "cell_type": "code",
   "execution_count": 34,
   "metadata": {
    "collapsed": false
   },
   "outputs": [],
   "source": [
    "df['topic'] = df.apply(lambda x: topic_from_name(x['name']), axis=1)"
   ]
  },
  {
   "cell_type": "code",
   "execution_count": 188,
   "metadata": {
    "collapsed": false
   },
   "outputs": [],
   "source": [
    "df['ind'] = 1\n",
    "topic = df[['ind', 'topic']].groupby(['topic']).agg(['count'])\n",
    "topic = pandas.DataFrame(data = {'topic' : list(topic['ind'].index),\n",
    "                                 'count' : list(topic['ind']['count'])}\n",
    "                      )"
   ]
  },
  {
   "cell_type": "code",
   "execution_count": 37,
   "metadata": {
    "collapsed": false
   },
   "outputs": [],
   "source": [
    "summary_table_2 = FF.create_table(topic[['topic', 'count']])\n",
    "\n",
    "second_table_url = plot(summary_table_2, filename='images/counts_by_topic.html', auto_open=False,)\n",
    "second_table_url = second_table_url[7:]"
   ]
  },
  {
   "cell_type": "markdown",
   "metadata": {},
   "source": [
    "## Feed Trends with Time Series"
   ]
  },
  {
   "cell_type": "code",
   "execution_count": 45,
   "metadata": {
    "collapsed": true
   },
   "outputs": [],
   "source": [
    "# From: http://moderndata.plot.ly/generate-html-reports-with-python-pandas-and-plotly/\n",
    "def moving_average(interval, window_size):\n",
    "    window = numpy.ones(int(window_size))/float(window_size)\n",
    "    return numpy.convolve(interval, window, 'same')"
   ]
  },
  {
   "cell_type": "code",
   "execution_count": 46,
   "metadata": {
    "collapsed": false
   },
   "outputs": [],
   "source": [
    "feed_times = pandas.DataFrame(data={'val' : list(df['ind'])}, index=df.published)\n",
    "feed_times.sort_index(inplace=True)"
   ]
  },
  {
   "cell_type": "code",
   "execution_count": 47,
   "metadata": {
    "collapsed": false
   },
   "outputs": [],
   "source": [
    "feed_times_hour = feed_times.resample('H', kind='period').sum()\n",
    "feed_times_hour.index = pandas.DatetimeIndex([p.to_timestamp() for p in list(feed_times_hour.index)])"
   ]
  },
  {
   "cell_type": "code",
   "execution_count": 48,
   "metadata": {
    "collapsed": false
   },
   "outputs": [],
   "source": [
    "feed_times_hour['ma'] = moving_average(feed_times_hour.val, 6)"
   ]
  },
  {
   "cell_type": "code",
   "execution_count": 205,
   "metadata": {
    "collapsed": false
   },
   "outputs": [
    {
     "data": {
      "text/html": [
       "<div id=\"49e4f778-7b9a-4dbb-bb11-16f2f9c007d0\" style=\"height: 525px; width: 100%;\" class=\"plotly-graph-div\"></div><script type=\"text/javascript\">require([\"plotly\"], function(Plotly) { window.PLOTLYENV=window.PLOTLYENV || {};window.PLOTLYENV.BASE_URL=\"https://plot.ly\";Plotly.newPlot(\"49e4f778-7b9a-4dbb-bb11-16f2f9c007d0\", [{\"marker\": {\"size\": 8}, \"name\": \"Hourly Count\", \"mode\": \"markers\", \"x\": [\"2017-02-05\", \"2017-02-05 01:00:00\", \"2017-02-05 02:00:00\", \"2017-02-05 03:00:00\", \"2017-02-05 04:00:00\", \"2017-02-05 05:00:00\", \"2017-02-05 06:00:00\", \"2017-02-05 07:00:00\", \"2017-02-05 08:00:00\", \"2017-02-05 09:00:00\", \"2017-02-05 10:00:00\", \"2017-02-05 11:00:00\", \"2017-02-05 12:00:00\", \"2017-02-05 13:00:00\", \"2017-02-05 14:00:00\", \"2017-02-05 15:00:00\", \"2017-02-05 16:00:00\", \"2017-02-05 17:00:00\", \"2017-02-05 18:00:00\", \"2017-02-05 19:00:00\", \"2017-02-05 20:00:00\", \"2017-02-05 21:00:00\", \"2017-02-05 22:00:00\", \"2017-02-05 23:00:00\", \"2017-02-06\", \"2017-02-06 01:00:00\", \"2017-02-06 02:00:00\", \"2017-02-06 03:00:00\", \"2017-02-06 04:00:00\", \"2017-02-06 05:00:00\", \"2017-02-06 06:00:00\", \"2017-02-06 07:00:00\", \"2017-02-06 08:00:00\", \"2017-02-06 09:00:00\", \"2017-02-06 10:00:00\", \"2017-02-06 11:00:00\", \"2017-02-06 12:00:00\", \"2017-02-06 13:00:00\", \"2017-02-06 14:00:00\", \"2017-02-06 15:00:00\", \"2017-02-06 16:00:00\", \"2017-02-06 17:00:00\", \"2017-02-06 18:00:00\", \"2017-02-06 19:00:00\", \"2017-02-06 20:00:00\", \"2017-02-06 21:00:00\", \"2017-02-06 22:00:00\", \"2017-02-06 23:00:00\", \"2017-02-07\", \"2017-02-07 01:00:00\", \"2017-02-07 02:00:00\", \"2017-02-07 03:00:00\", \"2017-02-07 04:00:00\", \"2017-02-07 05:00:00\", \"2017-02-07 06:00:00\", \"2017-02-07 07:00:00\", \"2017-02-07 08:00:00\", \"2017-02-07 09:00:00\", \"2017-02-07 10:00:00\", \"2017-02-07 11:00:00\", \"2017-02-07 12:00:00\", \"2017-02-07 13:00:00\", \"2017-02-07 14:00:00\", \"2017-02-07 15:00:00\", \"2017-02-07 16:00:00\", \"2017-02-07 17:00:00\", \"2017-02-07 18:00:00\", \"2017-02-07 19:00:00\", \"2017-02-07 20:00:00\", \"2017-02-07 21:00:00\", \"2017-02-07 22:00:00\", \"2017-02-07 23:00:00\", \"2017-02-08\", \"2017-02-08 01:00:00\", \"2017-02-08 02:00:00\", \"2017-02-08 03:00:00\", \"2017-02-08 04:00:00\", \"2017-02-08 05:00:00\", \"2017-02-08 06:00:00\", \"2017-02-08 07:00:00\", \"2017-02-08 08:00:00\", \"2017-02-08 09:00:00\", \"2017-02-08 10:00:00\", \"2017-02-08 11:00:00\", \"2017-02-08 12:00:00\", \"2017-02-08 13:00:00\", \"2017-02-08 14:00:00\", \"2017-02-08 15:00:00\", \"2017-02-08 16:00:00\", \"2017-02-08 17:00:00\", \"2017-02-08 18:00:00\", \"2017-02-08 19:00:00\", \"2017-02-08 20:00:00\", \"2017-02-08 21:00:00\", \"2017-02-08 22:00:00\", \"2017-02-08 23:00:00\", \"2017-02-09\", \"2017-02-09 01:00:00\", \"2017-02-09 02:00:00\", \"2017-02-09 03:00:00\", \"2017-02-09 04:00:00\", \"2017-02-09 05:00:00\", \"2017-02-09 06:00:00\", \"2017-02-09 07:00:00\", \"2017-02-09 08:00:00\", \"2017-02-09 09:00:00\", \"2017-02-09 10:00:00\", \"2017-02-09 11:00:00\", \"2017-02-09 12:00:00\", \"2017-02-09 13:00:00\", \"2017-02-09 14:00:00\", \"2017-02-09 15:00:00\", \"2017-02-09 16:00:00\", \"2017-02-09 17:00:00\", \"2017-02-09 18:00:00\", \"2017-02-09 19:00:00\", \"2017-02-09 20:00:00\", \"2017-02-09 21:00:00\", \"2017-02-09 22:00:00\", \"2017-02-09 23:00:00\", \"2017-02-10\", \"2017-02-10 01:00:00\", \"2017-02-10 02:00:00\", \"2017-02-10 03:00:00\", \"2017-02-10 04:00:00\", \"2017-02-10 05:00:00\", \"2017-02-10 06:00:00\", \"2017-02-10 07:00:00\", \"2017-02-10 08:00:00\", \"2017-02-10 09:00:00\", \"2017-02-10 10:00:00\", \"2017-02-10 11:00:00\", \"2017-02-10 12:00:00\", \"2017-02-10 13:00:00\", \"2017-02-10 14:00:00\", \"2017-02-10 15:00:00\", \"2017-02-10 16:00:00\", \"2017-02-10 17:00:00\", \"2017-02-10 18:00:00\", \"2017-02-10 19:00:00\", \"2017-02-10 20:00:00\", \"2017-02-10 21:00:00\", \"2017-02-10 22:00:00\", \"2017-02-10 23:00:00\", \"2017-02-11\", \"2017-02-11 01:00:00\", \"2017-02-11 02:00:00\", \"2017-02-11 03:00:00\", \"2017-02-11 04:00:00\", \"2017-02-11 05:00:00\", \"2017-02-11 06:00:00\", \"2017-02-11 07:00:00\", \"2017-02-11 08:00:00\", \"2017-02-11 09:00:00\", \"2017-02-11 10:00:00\", \"2017-02-11 11:00:00\", \"2017-02-11 12:00:00\", \"2017-02-11 13:00:00\", \"2017-02-11 14:00:00\", \"2017-02-11 15:00:00\", \"2017-02-11 16:00:00\", \"2017-02-11 17:00:00\", \"2017-02-11 18:00:00\", \"2017-02-11 19:00:00\", \"2017-02-11 20:00:00\", \"2017-02-11 21:00:00\", \"2017-02-11 22:00:00\", \"2017-02-11 23:00:00\"], \"y\": [12, 6, 7, 2, 16, 25, 4, 11, 4, 11, 40, 5, 47, 26, 20, 26, 53, 51, 28, 34, 18, 20, 31, 17, 42, 19, 10, 18, 15, 70, 31, 42, 74, 42, 136, 116, 119, 126, 131, 130, 120, 135, 133, 72, 70, 57, 45, 45, 54, 32, 25, 33, 40, 67, 25, 32, 43, 80, 85, 129, 133, 133, 101, 154, 135, 124, 153, 78, 66, 86, 56, 79, 49, 31, 24, 7, 29, 80, 33, 44, 56, 63, 126, 136, 124, 135, 149, 124, 119, 95, 165, 101, 96, 78, 72, 72, 32, 41, 31, 28, 43, 72, 41, 39, 55, 50, 95, 109, 140, 125, 134, 126, 151, 132, 127, 105, 62, 79, 65, 69, 43, 31, 16, 20, 43, 84, 21, 31, 41, 93, 105, 117, 90, 156, 85, 118, 122, 121, 114, 95, 86, 92, 69, 55, 51, 34, 33, 11, 106, 5, 3, 5, 8, 6, 1, 5, 18, 11, 10, 5, 8, 12, 6, 4, 7, 5, 5, 5], \"type\": \"scatter\"}, {\"name\": \"Moving average\", \"x\": [\"2017-02-05 05:00:00\", \"2017-02-05 06:00:00\", \"2017-02-05 07:00:00\", \"2017-02-05 08:00:00\", \"2017-02-05 09:00:00\", \"2017-02-05 10:00:00\", \"2017-02-05 11:00:00\", \"2017-02-05 12:00:00\", \"2017-02-05 13:00:00\", \"2017-02-05 14:00:00\", \"2017-02-05 15:00:00\", \"2017-02-05 16:00:00\", \"2017-02-05 17:00:00\", \"2017-02-05 18:00:00\", \"2017-02-05 19:00:00\", \"2017-02-05 20:00:00\", \"2017-02-05 21:00:00\", \"2017-02-05 22:00:00\", \"2017-02-05 23:00:00\", \"2017-02-06\", \"2017-02-06 01:00:00\", \"2017-02-06 02:00:00\", \"2017-02-06 03:00:00\", \"2017-02-06 04:00:00\", \"2017-02-06 05:00:00\", \"2017-02-06 06:00:00\", \"2017-02-06 07:00:00\", \"2017-02-06 08:00:00\", \"2017-02-06 09:00:00\", \"2017-02-06 10:00:00\", \"2017-02-06 11:00:00\", \"2017-02-06 12:00:00\", \"2017-02-06 13:00:00\", \"2017-02-06 14:00:00\", \"2017-02-06 15:00:00\", \"2017-02-06 16:00:00\", \"2017-02-06 17:00:00\", \"2017-02-06 18:00:00\", \"2017-02-06 19:00:00\", \"2017-02-06 20:00:00\", \"2017-02-06 21:00:00\", \"2017-02-06 22:00:00\", \"2017-02-06 23:00:00\", \"2017-02-07\", \"2017-02-07 01:00:00\", \"2017-02-07 02:00:00\", \"2017-02-07 03:00:00\", \"2017-02-07 04:00:00\", \"2017-02-07 05:00:00\", \"2017-02-07 06:00:00\", \"2017-02-07 07:00:00\", \"2017-02-07 08:00:00\", \"2017-02-07 09:00:00\", \"2017-02-07 10:00:00\", \"2017-02-07 11:00:00\", \"2017-02-07 12:00:00\", \"2017-02-07 13:00:00\", \"2017-02-07 14:00:00\", \"2017-02-07 15:00:00\", \"2017-02-07 16:00:00\", \"2017-02-07 17:00:00\", \"2017-02-07 18:00:00\", \"2017-02-07 19:00:00\", \"2017-02-07 20:00:00\", \"2017-02-07 21:00:00\", \"2017-02-07 22:00:00\", \"2017-02-07 23:00:00\", \"2017-02-08\", \"2017-02-08 01:00:00\", \"2017-02-08 02:00:00\", \"2017-02-08 03:00:00\", \"2017-02-08 04:00:00\", \"2017-02-08 05:00:00\", \"2017-02-08 06:00:00\", \"2017-02-08 07:00:00\", \"2017-02-08 08:00:00\", \"2017-02-08 09:00:00\", \"2017-02-08 10:00:00\", \"2017-02-08 11:00:00\", \"2017-02-08 12:00:00\", \"2017-02-08 13:00:00\", \"2017-02-08 14:00:00\", \"2017-02-08 15:00:00\", \"2017-02-08 16:00:00\", \"2017-02-08 17:00:00\", \"2017-02-08 18:00:00\", \"2017-02-08 19:00:00\", \"2017-02-08 20:00:00\", \"2017-02-08 21:00:00\", \"2017-02-08 22:00:00\", \"2017-02-08 23:00:00\", \"2017-02-09\", \"2017-02-09 01:00:00\", \"2017-02-09 02:00:00\", \"2017-02-09 03:00:00\", \"2017-02-09 04:00:00\", \"2017-02-09 05:00:00\", \"2017-02-09 06:00:00\", \"2017-02-09 07:00:00\", \"2017-02-09 08:00:00\", \"2017-02-09 09:00:00\", \"2017-02-09 10:00:00\", \"2017-02-09 11:00:00\", \"2017-02-09 12:00:00\", \"2017-02-09 13:00:00\", \"2017-02-09 14:00:00\", \"2017-02-09 15:00:00\", \"2017-02-09 16:00:00\", \"2017-02-09 17:00:00\", \"2017-02-09 18:00:00\", \"2017-02-09 19:00:00\", \"2017-02-09 20:00:00\", \"2017-02-09 21:00:00\", \"2017-02-09 22:00:00\", \"2017-02-09 23:00:00\", \"2017-02-10\", \"2017-02-10 01:00:00\", \"2017-02-10 02:00:00\", \"2017-02-10 03:00:00\", \"2017-02-10 04:00:00\", \"2017-02-10 05:00:00\", \"2017-02-10 06:00:00\", \"2017-02-10 07:00:00\", \"2017-02-10 08:00:00\", \"2017-02-10 09:00:00\", \"2017-02-10 10:00:00\", \"2017-02-10 11:00:00\", \"2017-02-10 12:00:00\", \"2017-02-10 13:00:00\", \"2017-02-10 14:00:00\", \"2017-02-10 15:00:00\", \"2017-02-10 16:00:00\", \"2017-02-10 17:00:00\", \"2017-02-10 18:00:00\", \"2017-02-10 19:00:00\", \"2017-02-10 20:00:00\", \"2017-02-10 21:00:00\", \"2017-02-10 22:00:00\", \"2017-02-10 23:00:00\", \"2017-02-11\", \"2017-02-11 01:00:00\", \"2017-02-11 02:00:00\", \"2017-02-11 03:00:00\", \"2017-02-11 04:00:00\", \"2017-02-11 05:00:00\", \"2017-02-11 06:00:00\", \"2017-02-11 07:00:00\", \"2017-02-11 08:00:00\", \"2017-02-11 09:00:00\", \"2017-02-11 10:00:00\", \"2017-02-11 11:00:00\", \"2017-02-11 12:00:00\", \"2017-02-11 13:00:00\", \"2017-02-11 14:00:00\", \"2017-02-11 15:00:00\", \"2017-02-11 16:00:00\", \"2017-02-11 17:00:00\", \"2017-02-11 18:00:00\", \"2017-02-11 19:00:00\"], \"y\": [10.833333333333332, 10.333333333333332, 11.833333333333332, 15.833333333333332, 12.5, 19.666666666666668, 22.166666666666664, 24.833333333333332, 27.33333333333333, 29.499999999999996, 37.166666666666664, 34.0, 35.33333333333333, 34.99999999999999, 34.0, 30.33333333333333, 24.66666666666666, 26.999999999999996, 24.5, 23.166666666666668, 22.833333333333336, 20.166666666666664, 29.0, 27.166666666666664, 31.0, 41.66666666666666, 45.666666666666664, 65.83333333333333, 73.5, 88.16666666666666, 102.16666666666666, 111.66666666666666, 126.33333333333331, 123.66666666666666, 126.83333333333331, 129.16666666666666, 120.16666666666666, 109.99999999999999, 97.83333333333333, 85.33333333333333, 70.33333333333333, 57.166666666666664, 50.5, 43.0, 39.0, 38.166666666666664, 41.83333333333333, 36.99999999999999, 37.0, 40.0, 47.83333333333333, 55.33333333333332, 65.66666666666666, 83.66666666666666, 100.5, 110.16666666666664, 122.5, 130.83333333333331, 129.99999999999997, 133.33333333333331, 124.16666666666666, 118.33333333333333, 106.99999999999999, 93.83333333333331, 86.33333333333333, 68.99999999999999, 61.16666666666666, 54.16666666666666, 40.99999999999999, 36.5, 36.666666666666664, 34.0, 36.166666666666664, 41.5, 50.83333333333333, 67.0, 76.33333333333333, 91.5, 106.66666666666666, 122.16666666666666, 132.33333333333331, 131.16666666666666, 124.33333333333331, 131.16666666666666, 125.49999999999999, 116.66666666666666, 109.0, 101.16666666666666, 97.33333333333333, 75.16666666666666, 65.16666666666667, 54.333333333333336, 45.99999999999999, 41.16666666666666, 41.166666666666664, 42.666666666666664, 42.333333333333336, 46.33333333333333, 50.0, 58.66666666666666, 64.83333333333333, 81.33333333333333, 95.66666666666666, 108.83333333333331, 121.49999999999999, 130.83333333333331, 134.66666666666666, 132.49999999999997, 129.16666666666666, 117.16666666666664, 109.33333333333333, 95.0, 84.5, 70.5, 58.16666666666666, 50.49999999999999, 40.666666666666664, 36.99999999999999, 39.5, 35.83333333333333, 35.83333333333333, 40.0, 52.166666666666664, 62.5, 68.0, 79.5, 100.33333333333333, 107.66666666666667, 111.83333333333334, 114.66666666666667, 115.33333333333331, 119.33333333333331, 109.16666666666664, 109.33333333333331, 104.99999999999999, 96.16666666666666, 85.16666666666666, 74.66666666666667, 64.5, 55.666666666666664, 42.166666666666664, 48.33333333333333, 39.99999999999999, 31.999999999999996, 27.16666666666666, 22.999999999999993, 22.16666666666666, 4.666666666666667, 4.666666666666666, 7.166666666666666, 8.166666666666666, 8.5, 8.333333333333334, 9.5, 10.666666666666666, 8.666666666666666, 7.5, 7.0, 6.999999999999999], \"line\": {\"width\": 2, \"color\": \"red\"}, \"type\": \"scatter\"}], {}, {\"linkText\": \"Export to plot.ly\", \"showLink\": true})});</script>"
      ],
      "text/plain": [
       "<IPython.core.display.HTML object>"
      ]
     },
     "metadata": {},
     "output_type": "display_data"
    }
   ],
   "source": [
    "xy_data = pogo.Scatter( x=feed_times_hour.index, y=feed_times_hour.val,\n",
    "                  mode='markers', marker=Marker(size=8),\n",
    "                  name='Hourly Count')\n",
    "# vvv clip first and last points of convolution\n",
    "mov_avg = pogo.Scatter( x=feed_times_hour.index[5:-4], y=feed_times_hour.ma[5:-4], \\\n",
    "                  line=Line(width=2,color='red'), name='Moving average')\n",
    "data = Data([xy_data, mov_avg])\n",
    "\n",
    "iplot(data, filename='hourly feed count moving avg')"
   ]
  },
  {
   "cell_type": "code",
   "execution_count": 51,
   "metadata": {
    "collapsed": false
   },
   "outputs": [],
   "source": [
    "first_plot_url = plot(data, filename='images/hourly feed count moving avg.html', auto_open=False,)\n",
    "first_plot_url = first_plot_url[7:]"
   ]
  },
  {
   "cell_type": "markdown",
   "metadata": {},
   "source": [
    "## Log Info"
   ]
  },
  {
   "cell_type": "code",
   "execution_count": 68,
   "metadata": {
    "collapsed": true
   },
   "outputs": [],
   "source": [
    "with open(os.path.join(main_repo_dir, \"main_run.log\"), \"r\") as f:\n",
    "    log = f.readlines()"
   ]
  },
  {
   "cell_type": "code",
   "execution_count": 75,
   "metadata": {
    "collapsed": false
   },
   "outputs": [],
   "source": [
    "dates, entries = zip(*[(' '.join(line.split()[:3]), ' '.join(line.split()[3:])) for line in log])"
   ]
  },
  {
   "cell_type": "code",
   "execution_count": 91,
   "metadata": {
    "collapsed": false
   },
   "outputs": [],
   "source": [
    "dates = [datetime.datetime.strptime(date, '%m/%d/%Y %I:%M:%S %p') for date in dates]"
   ]
  },
  {
   "cell_type": "code",
   "execution_count": 97,
   "metadata": {
    "collapsed": false
   },
   "outputs": [],
   "source": [
    "log = pandas.DataFrame(data = {'entry' : entries}, index=dates)"
   ]
  },
  {
   "cell_type": "code",
   "execution_count": 111,
   "metadata": {
    "collapsed": false
   },
   "outputs": [],
   "source": [
    "log = log.loc[(log.index >= start_date) & (log.index < end_date)]"
   ]
  },
  {
   "cell_type": "code",
   "execution_count": 125,
   "metadata": {
    "collapsed": false
   },
   "outputs": [],
   "source": [
    "log['day'] = [ent.strftime('%Y-%m-%d') for ent in log.index]"
   ]
  },
  {
   "cell_type": "code",
   "execution_count": 156,
   "metadata": {
    "collapsed": false
   },
   "outputs": [],
   "source": [
    "# Define which entry we're in\n",
    "entry_ind = -1\n",
    "\n",
    "def update_entry(x):\n",
    "    global entry_ind\n",
    "    if x['entry'] == \"Retrieving contents...\":\n",
    "        entry_ind += 1\n",
    "    return(entry_ind)\n",
    "\n",
    "log['entry_ind'] = log.apply(lambda x: update_entry(x), axis=1)"
   ]
  },
  {
   "cell_type": "code",
   "execution_count": 168,
   "metadata": {
    "collapsed": false
   },
   "outputs": [],
   "source": [
    "# Flag Errors\n",
    "def flag_error(x):\n",
    "    text = x.entry.lower()\n",
    "    if text.find('warning') > -1 or text.find('error') > -1:\n",
    "        return(True)\n",
    "    else:\n",
    "        return(False)\n",
    "    \n",
    "log['is_error'] = log.apply(lambda x: flag_error(x), axis=1)"
   ]
  },
  {
   "cell_type": "code",
   "execution_count": 169,
   "metadata": {
    "collapsed": false
   },
   "outputs": [
    {
     "data": {
      "text/html": [
       "<div>\n",
       "<table border=\"1\" class=\"dataframe\">\n",
       "  <thead>\n",
       "    <tr style=\"text-align: right;\">\n",
       "      <th></th>\n",
       "      <th>entry</th>\n",
       "      <th>day</th>\n",
       "      <th>entry_ind</th>\n",
       "      <th>is_error</th>\n",
       "    </tr>\n",
       "  </thead>\n",
       "  <tbody>\n",
       "    <tr>\n",
       "      <th>2017-02-06 03:46:43</th>\n",
       "      <td>Retrieving contents...</td>\n",
       "      <td>2017-02-06</td>\n",
       "      <td>0</td>\n",
       "      <td>False</td>\n",
       "    </tr>\n",
       "    <tr>\n",
       "      <th>2017-02-06 03:46:43</th>\n",
       "      <td>Total feeedss to visit: 281</td>\n",
       "      <td>2017-02-06</td>\n",
       "      <td>0</td>\n",
       "      <td>False</td>\n",
       "    </tr>\n",
       "    <tr>\n",
       "      <th>2017-02-06 03:46:43</th>\n",
       "      <td>Creating 8 Tor openers...</td>\n",
       "      <td>2017-02-06</td>\n",
       "      <td>0</td>\n",
       "      <td>False</td>\n",
       "    </tr>\n",
       "    <tr>\n",
       "      <th>2017-02-06 03:47:07</th>\n",
       "      <td>IP Used: b'85.248.227.164'</td>\n",
       "      <td>2017-02-06</td>\n",
       "      <td>0</td>\n",
       "      <td>False</td>\n",
       "    </tr>\n",
       "    <tr>\n",
       "      <th>2017-02-06 03:47:08</th>\n",
       "      <td>Total entries retrieved from https://www.thegu...</td>\n",
       "      <td>2017-02-06</td>\n",
       "      <td>0</td>\n",
       "      <td>False</td>\n",
       "    </tr>\n",
       "  </tbody>\n",
       "</table>\n",
       "</div>"
      ],
      "text/plain": [
       "                                                                 entry  \\\n",
       "2017-02-06 03:46:43                             Retrieving contents...   \n",
       "2017-02-06 03:46:43                        Total feeedss to visit: 281   \n",
       "2017-02-06 03:46:43                          Creating 8 Tor openers...   \n",
       "2017-02-06 03:47:07                         IP Used: b'85.248.227.164'   \n",
       "2017-02-06 03:47:08  Total entries retrieved from https://www.thegu...   \n",
       "\n",
       "                            day  entry_ind is_error  \n",
       "2017-02-06 03:46:43  2017-02-06          0    False  \n",
       "2017-02-06 03:46:43  2017-02-06          0    False  \n",
       "2017-02-06 03:46:43  2017-02-06          0    False  \n",
       "2017-02-06 03:47:07  2017-02-06          0    False  \n",
       "2017-02-06 03:47:08  2017-02-06          0    False  "
      ]
     },
     "execution_count": 169,
     "metadata": {},
     "output_type": "execute_result"
    }
   ],
   "source": [
    "log.head()"
   ]
  },
  {
   "cell_type": "code",
   "execution_count": 170,
   "metadata": {
    "collapsed": false
   },
   "outputs": [
    {
     "data": {
      "text/html": [
       "<div>\n",
       "<table border=\"1\" class=\"dataframe\">\n",
       "  <thead>\n",
       "    <tr style=\"text-align: right;\">\n",
       "      <th></th>\n",
       "      <th>entry</th>\n",
       "      <th>day</th>\n",
       "      <th>entry_ind</th>\n",
       "      <th>is_error</th>\n",
       "    </tr>\n",
       "  </thead>\n",
       "  <tbody>\n",
       "    <tr>\n",
       "      <th>2017-02-10 21:12:00</th>\n",
       "      <td>Feed http://www.ft.com/rss/management/connecte...</td>\n",
       "      <td>2017-02-10</td>\n",
       "      <td>72</td>\n",
       "      <td>True</td>\n",
       "    </tr>\n",
       "    <tr>\n",
       "      <th>2017-02-10 21:12:07</th>\n",
       "      <td>No contents found</td>\n",
       "      <td>2017-02-10</td>\n",
       "      <td>72</td>\n",
       "      <td>False</td>\n",
       "    </tr>\n",
       "    <tr>\n",
       "      <th>2017-02-10 21:12:18</th>\n",
       "      <td>Total entries retrieved from http://www.ft.com...</td>\n",
       "      <td>2017-02-10</td>\n",
       "      <td>72</td>\n",
       "      <td>False</td>\n",
       "    </tr>\n",
       "    <tr>\n",
       "      <th>2017-02-10 21:12:18</th>\n",
       "      <td>Total new links added: 0</td>\n",
       "      <td>2017-02-10</td>\n",
       "      <td>72</td>\n",
       "      <td>False</td>\n",
       "    </tr>\n",
       "    <tr>\n",
       "      <th>2017-02-10 21:12:18</th>\n",
       "      <td>Total new links added from all feeds: 285</td>\n",
       "      <td>2017-02-10</td>\n",
       "      <td>72</td>\n",
       "      <td>False</td>\n",
       "    </tr>\n",
       "  </tbody>\n",
       "</table>\n",
       "</div>"
      ],
      "text/plain": [
       "                                                                 entry  \\\n",
       "2017-02-10 21:12:00  Feed http://www.ft.com/rss/management/connecte...   \n",
       "2017-02-10 21:12:07                                  No contents found   \n",
       "2017-02-10 21:12:18  Total entries retrieved from http://www.ft.com...   \n",
       "2017-02-10 21:12:18                           Total new links added: 0   \n",
       "2017-02-10 21:12:18          Total new links added from all feeds: 285   \n",
       "\n",
       "                            day  entry_ind is_error  \n",
       "2017-02-10 21:12:00  2017-02-10         72     True  \n",
       "2017-02-10 21:12:07  2017-02-10         72    False  \n",
       "2017-02-10 21:12:18  2017-02-10         72    False  \n",
       "2017-02-10 21:12:18  2017-02-10         72    False  \n",
       "2017-02-10 21:12:18  2017-02-10         72    False  "
      ]
     },
     "execution_count": 170,
     "metadata": {},
     "output_type": "execute_result"
    }
   ],
   "source": [
    "log.tail()"
   ]
  },
  {
   "cell_type": "code",
   "execution_count": 159,
   "metadata": {
    "collapsed": true
   },
   "outputs": [],
   "source": [
    "total_days = len(log.day.unique())\n",
    "total_runs = len(log.entry_ind.unique())"
   ]
  },
  {
   "cell_type": "code",
   "execution_count": 196,
   "metadata": {
    "collapsed": false
   },
   "outputs": [
    {
     "data": {
      "text/plain": [
       "day\n",
       "2017-02-06    19\n",
       "2017-02-07    13\n",
       "2017-02-08    13\n",
       "2017-02-09    13\n",
       "2017-02-10    15\n",
       "dtype: int64"
      ]
     },
     "execution_count": 196,
     "metadata": {},
     "output_type": "execute_result"
    }
   ],
   "source": [
    "# attempts per day\n",
    "day_groups.apply(lambda x: len(x.entry_ind.unique()))"
   ]
  },
  {
   "cell_type": "markdown",
   "metadata": {},
   "source": [
    "### Time for each Pull"
   ]
  },
  {
   "cell_type": "code",
   "execution_count": 279,
   "metadata": {
    "collapsed": true
   },
   "outputs": [],
   "source": [
    "day_entry_groups = log.groupby(['day', 'entry_ind'])"
   ]
  },
  {
   "cell_type": "code",
   "execution_count": 280,
   "metadata": {
    "collapsed": false
   },
   "outputs": [],
   "source": [
    "times = pandas.DataFrame(day_entry_groups.apply(lambda x: (x.index[-1] - x.index[0]).total_seconds()))"
   ]
  },
  {
   "cell_type": "code",
   "execution_count": 281,
   "metadata": {
    "collapsed": false
   },
   "outputs": [],
   "source": [
    "data_times = []\n",
    "for day in times.index.get_level_values('day').unique():\n",
    "    subd = times.ix[day].values\n",
    "    trace = pogo.Box(\n",
    "                     y=list(subd.reshape((1,subd.shape[0]))[0]),\n",
    "                     name=str(day)\n",
    "                    )\n",
    "    data_times.append(trace)"
   ]
  },
  {
   "cell_type": "code",
   "execution_count": 413,
   "metadata": {
    "collapsed": false
   },
   "outputs": [
    {
     "data": {
      "text/html": [
       "<div id=\"6da33909-3d01-4f46-8965-74b512ce1703\" style=\"height: 525px; width: 100%;\" class=\"plotly-graph-div\"></div><script type=\"text/javascript\">require([\"plotly\"], function(Plotly) { window.PLOTLYENV=window.PLOTLYENV || {};window.PLOTLYENV.BASE_URL=\"https://plot.ly\";Plotly.newPlot(\"6da33909-3d01-4f46-8965-74b512ce1703\", [{\"name\": \"2017-02-06\", \"y\": [25.0, 4.0, 34.0, 176.0, 132.0, 39.0, 431.0, 384.0, 426.0, 512.0, 413.0, 386.0, 460.00000000000006, 473.00000000000006, 535.0, 516.0, 446.0, 415.0, 363.0], \"type\": \"box\"}, {\"name\": \"2017-02-07\", \"y\": [395.0, 396.0, 390.0, 369.0, 575.0, 549.0, 563.0, 490.00000000000006, 519.0, 683.0, 439.0, 395.0, 383.0], \"type\": \"box\"}, {\"name\": \"2017-02-08\", \"y\": [396.0, 565.0, 598.0, 484.00000000000006, 704.0, 507.00000000000006, 442.0, 450.0, 469.00000000000006, 439.0, 1629.0, 452.0, 410.0], \"type\": \"box\"}, {\"name\": \"2017-02-09\", \"y\": [379.0, 491.00000000000006, 364.0, 316.0, 377.0, 467.00000000000006, 420.0, 403.0, 314.0, 398.0, 624.0, 411.0, 471.00000000000006], \"type\": \"box\"}, {\"name\": \"2017-02-10\", \"y\": [498.00000000000006, 0.0, 482.00000000000006, 593.0, 458.00000000000006, 741.0, 375.0, 645.0, 545.0, 466.00000000000006, 483.00000000000006, 416.0, 411.0, 50.0, 378.0], \"type\": \"box\"}], {\"title\": \"Run Times by Day\", \"xaxis\": {\"tickfont\": {\"size\": 14, \"color\": \"rgb(107, 107, 107)\"}, \"tickformat\": \"%b %e %Y\"}, \"yaxis\": {\"titlefont\": {\"size\": 16, \"color\": \"rgb(107, 107, 107)\"}, \"tickfont\": {\"size\": 14, \"color\": \"rgb(107, 107, 107)\"}, \"title\": \"Time (seconds)\"}}, {\"linkText\": \"Export to plot.ly\", \"showLink\": true})});</script>"
      ],
      "text/plain": [
       "<IPython.core.display.HTML object>"
      ]
     },
     "metadata": {},
     "output_type": "display_data"
    }
   ],
   "source": [
    "layout = go.Layout(\n",
    "    title='Run Times by Day',\n",
    "    xaxis=dict(\n",
    "        tickformat = \"%b %e %Y\",\n",
    "        tickfont=dict(\n",
    "            size=14,\n",
    "            color='rgb(107, 107, 107)'\n",
    "        )\n",
    "    ),\n",
    "    yaxis=dict(\n",
    "        title='Time (seconds)',\n",
    "        titlefont=dict(\n",
    "            size=16,\n",
    "            color='rgb(107, 107, 107)'\n",
    "        ),\n",
    "        tickfont=dict(\n",
    "            size=14,\n",
    "            color='rgb(107, 107, 107)'\n",
    "        )\n",
    "    ),\n",
    ")\n",
    "\n",
    "dt_fig = go.Figure(data=data_times, layout=layout)\n",
    "iplot(dt_fig)"
   ]
  },
  {
   "cell_type": "code",
   "execution_count": 414,
   "metadata": {
    "collapsed": true
   },
   "outputs": [],
   "source": [
    "run_times_plot_url = plot(dt_fig, filename='images/run times box plot.html', auto_open=False,)\n",
    "run_times_plot_url = run_times_plot_url[7:]"
   ]
  },
  {
   "cell_type": "markdown",
   "metadata": {},
   "source": [
    "### Errors Info"
   ]
  },
  {
   "cell_type": "code",
   "execution_count": 207,
   "metadata": {
    "collapsed": true
   },
   "outputs": [],
   "source": [
    "day_groups = log.groupby(['day'])"
   ]
  },
  {
   "cell_type": "code",
   "execution_count": 209,
   "metadata": {
    "collapsed": false
   },
   "outputs": [],
   "source": [
    "# Errors per day\n",
    "epd = day_groups.apply(lambda x: sum(x.is_error))"
   ]
  },
  {
   "cell_type": "code",
   "execution_count": 210,
   "metadata": {
    "collapsed": false
   },
   "outputs": [
    {
     "data": {
      "text/html": [
       "<div id=\"2502ed29-353c-4025-a7b9-a03ca96455f4\" style=\"height: 525px; width: 100%;\" class=\"plotly-graph-div\"></div><script type=\"text/javascript\">require([\"plotly\"], function(Plotly) { window.PLOTLYENV=window.PLOTLYENV || {};window.PLOTLYENV.BASE_URL=\"https://plot.ly\";Plotly.newPlot(\"2502ed29-353c-4025-a7b9-a03ca96455f4\", [{\"x\": [\"2017-02-06\", \"2017-02-07\", \"2017-02-08\", \"2017-02-09\", \"2017-02-10\"], \"y\": [460, 341, 339, 449, 572], \"type\": \"bar\"}], {}, {\"linkText\": \"Export to plot.ly\", \"showLink\": true})});</script>"
      ],
      "text/plain": [
       "<IPython.core.display.HTML object>"
      ]
     },
     "metadata": {},
     "output_type": "display_data"
    }
   ],
   "source": [
    "g = pogo.Bar(x=list(epd.index), y=epd.values)\n",
    "\n",
    "data = pogo.Data([g])\n",
    "\n",
    "iplot(data, filename='errors per day')"
   ]
  },
  {
   "cell_type": "markdown",
   "metadata": {},
   "source": [
    "#### Breakdown of Types"
   ]
  },
  {
   "cell_type": "code",
   "execution_count": 320,
   "metadata": {
    "collapsed": true
   },
   "outputs": [],
   "source": [
    "def extract_err_class(error_text):\n",
    "    start = error_text.find('<class ')\n",
    "    end = error_text.find(\"'>:\")\n",
    "    if start > -1 and end > -1:\n",
    "        err_class = error_text[start : (end + 2)]\n",
    "    else:\n",
    "        err_class = ''\n",
    "    return(err_class)"
   ]
  },
  {
   "cell_type": "code",
   "execution_count": 328,
   "metadata": {
    "collapsed": false
   },
   "outputs": [],
   "source": [
    "log['err_class'] = log.entry.apply(lambda x: extract_err_class(x))"
   ]
  },
  {
   "cell_type": "code",
   "execution_count": 347,
   "metadata": {
    "collapsed": false
   },
   "outputs": [],
   "source": [
    "day_err_groups = log.loc[log.is_error].groupby(['err_class', 'day'])"
   ]
  },
  {
   "cell_type": "code",
   "execution_count": 348,
   "metadata": {
    "collapsed": false
   },
   "outputs": [],
   "source": [
    "err_counts = pandas.DataFrame(day_err_groups.apply(len))"
   ]
  },
  {
   "cell_type": "code",
   "execution_count": 423,
   "metadata": {
    "collapsed": false
   },
   "outputs": [
    {
     "data": {
      "text/plain": [
       "['2017-02-06', '2017-02-07', '2017-02-08', '2017-02-09', '2017-02-10']"
      ]
     },
     "execution_count": 423,
     "metadata": {},
     "output_type": "execute_result"
    }
   ],
   "source": [
    "[str(d) for d in err_counts.index.get_level_values('day').unique()]"
   ]
  },
  {
   "cell_type": "code",
   "execution_count": 405,
   "metadata": {
    "collapsed": false
   },
   "outputs": [],
   "source": [
    "data_ecs = []\n",
    "for et in err_counts.index.get_level_values('err_class').unique():\n",
    "    subd = err_counts.ix[et].values\n",
    "    # Each trace is an error type\n",
    "    # \"x\" is the day\n",
    "    trace = pogo.Bar(\n",
    "                     x=[str(e) for e in err_counts.ix[et].index],\n",
    "                     y=list(subd.reshape((1,subd.shape[0]))[0]),\n",
    "                     name=et.split(\"'\")[1]\n",
    "                    )\n",
    "    data_ecs.append(trace)"
   ]
  },
  {
   "cell_type": "code",
   "execution_count": 436,
   "metadata": {
    "collapsed": false
   },
   "outputs": [
    {
     "data": {
      "text/html": [
       "<div id=\"c07c81dd-562b-43f9-b888-b2fbb2244476\" style=\"height: 525px; width: 100%;\" class=\"plotly-graph-div\"></div><script type=\"text/javascript\">require([\"plotly\"], function(Plotly) { window.PLOTLYENV=window.PLOTLYENV || {};window.PLOTLYENV.BASE_URL=\"https://plot.ly\";Plotly.newPlot(\"c07c81dd-562b-43f9-b888-b2fbb2244476\", [{\"name\": \"KeyError\", \"x\": [\"2017-02-06\", \"2017-02-07\", \"2017-02-08\", \"2017-02-09\", \"2017-02-10\"], \"y\": [306, 194, 185, 194, 209], \"type\": \"bar\"}, {\"name\": \"UnboundLocalError\", \"x\": [\"2017-02-06\", \"2017-02-07\", \"2017-02-08\", \"2017-02-09\", \"2017-02-10\"], \"y\": [15, 13, 12, 13, 13], \"type\": \"bar\"}, {\"name\": \"mysql.connector.errors.DataError\", \"x\": [\"2017-02-06\", \"2017-02-07\", \"2017-02-08\", \"2017-02-09\", \"2017-02-10\"], \"y\": [17, 13, 12, 13, 13], \"type\": \"bar\"}, {\"name\": \"urllib.error.HTTPError\", \"x\": [\"2017-02-06\", \"2017-02-07\", \"2017-02-08\", \"2017-02-09\", \"2017-02-10\"], \"y\": [14, 13, 15, 13, 13], \"type\": \"bar\"}, {\"name\": \"urllib.error.URLError\", \"x\": [\"2017-02-06\", \"2017-02-07\", \"2017-02-08\", \"2017-02-09\", \"2017-02-10\"], \"y\": [108, 108, 115, 216, 324], \"type\": \"bar\"}], {\"xaxis\": {\"ticks\": [\"2017-02-06\", \"2017-02-07\", \"2017-02-08\", \"2017-02-09\", \"2017-02-10\"], \"tickfont\": {\"size\": 14, \"color\": \"rgb(107, 107, 107)\"}, \"tickformat\": \"%b %e %Y\"}, \"title\": \"Error Counts by Day, Breakdown by Type\", \"legend\": {\"x\": 0, \"y\": 1.0}, \"barmode\": \"stack\", \"yaxis\": {\"titlefont\": {\"size\": 16, \"color\": \"rgb(107, 107, 107)\"}, \"tickfont\": {\"size\": 14, \"color\": \"rgb(107, 107, 107)\"}, \"title\": \"Error Counts\"}}, {\"linkText\": \"Export to plot.ly\", \"showLink\": true})});</script>"
      ],
      "text/plain": [
       "<IPython.core.display.HTML object>"
      ]
     },
     "metadata": {},
     "output_type": "display_data"
    }
   ],
   "source": [
    "layout = go.Layout(\n",
    "    title='Error Counts by Day, Breakdown by Type',\n",
    "    xaxis=dict(\n",
    "        tickformat = \"%b %e %Y\",\n",
    "        ticks = [str(d) for d in err_counts.index.get_level_values('day').unique()],\n",
    "        tickfont=dict(\n",
    "            size=14,\n",
    "            color='rgb(107, 107, 107)'\n",
    "        ),\n",
    "    ),\n",
    "    yaxis=dict(\n",
    "        title='Error Counts',\n",
    "        titlefont=dict(\n",
    "            size=16,\n",
    "            color='rgb(107, 107, 107)'\n",
    "        ),\n",
    "        tickfont=dict(\n",
    "            size=14,\n",
    "            color='rgb(107, 107, 107)'\n",
    "        )\n",
    "    ),\n",
    "    legend=dict(\n",
    "        x=0,\n",
    "        y=1.0\n",
    "    ),\n",
    "    barmode='stack'\n",
    ")\n",
    "\n",
    "ec_fig = pogo.Figure(data=data_ecs, layout=layout)\n",
    "iplot(ec_fig, filename='stacked-bar')"
   ]
  },
  {
   "cell_type": "code",
   "execution_count": 433,
   "metadata": {
    "collapsed": true
   },
   "outputs": [],
   "source": [
    "err_counts_plot_url = plot(ec_fig, filename='images/error counts stacked.html', auto_open=False,)\n",
    "err_counts_plot_url = err_counts_plot_url[7:]"
   ]
  },
  {
   "cell_type": "markdown",
   "metadata": {},
   "source": [
    "## Generate HTML as a String and Write to File"
   ]
  },
  {
   "cell_type": "code",
   "execution_count": 434,
   "metadata": {
    "collapsed": false
   },
   "outputs": [],
   "source": [
    "html_string = '''\n",
    "<html>\n",
    "    <head>\n",
    "        <link rel=\"stylesheet\" href=\"https://maxcdn.bootstrapcdn.com/bootstrap/3.3.1/css/bootstrap.min.css\">\n",
    "        <style>body{ margin:0 100; background:whitesmoke; }</style>\n",
    "    </head>\n",
    "    <body>\n",
    "        <h1>Feed Summary Information for Week of ''' + week_of_date + '''</h1>\n",
    "\n",
    "        <!-- *** Section 1 *** --->\n",
    "        <h2>Section 1: Hourly Feed Count for Week</h2>\n",
    "            <iframe width=\"1000\" height=\"550\" frameborder=\"0\" seamless=\"seamless\" scrolling=\"no\"\\\n",
    "    src=\"''' + first_plot_url + '''\"></iframe>\n",
    "            <p>blah blah blah.</p>\n",
    "\n",
    "            <p>Comments can be inserted here</p>\n",
    "        \n",
    "        <!-- *** Section 2 *** --->\n",
    "        <h2>Section 2: Feed Summary Information</h2>\n",
    "        \n",
    "            <h4>Total new stories for the week: ''' + str(total_new_articles) + '''</h4>\n",
    "                \n",
    "            <table width=\"100%\">\n",
    "                <tr>\n",
    "                    <td width=\"65%\"><h3>Counts by Feed:</h3></td>\n",
    "                    <td width=\"30%\"><h3>Counts by Topic:</h3></td>\n",
    "                </tr>\n",
    "            </table>\n",
    "\n",
    "\n",
    "            <iframe style=\"padding:40px\" width=\"65%\" height=\"480\" frameborder=\"0\" seamless=\"seamless\" scrolling=\"yes\" align=\"left\"\\\n",
    "    src=\"''' + first_table_url + '''\"></iframe>\n",
    "\n",
    "            <iframe style=\"padding:40px\" width=\"30%\" height=\"480\" frameborder=\"0\" seamless=\"seamless\" scrolling=\"yes\" align=\"right\"\\\n",
    "    src=\"''' + second_table_url + '''\"></iframe>\n",
    "\n",
    "\n",
    "        <!-- *** Section 3 *** --->\n",
    "        <h2>Section 3: Log Info</h2>\n",
    "        \n",
    "            <h3>Run Times</h3>\n",
    "            \n",
    "            <iframe style=\"padding:40px\" width=\"1000\" height=\"600\" frameborder=\"0\" seamless=\"seamless\" scrolling=\"no\"\\\n",
    "    src=\"''' + run_times_plot_url + '''\"></iframe>\n",
    "            \n",
    "            <h3>Error Types Encountered</h3>\n",
    "            \n",
    "            <iframe style=\"padding:40px\" width=\"1000\" height=\"600\" frameborder=\"0\" seamless=\"seamless\" scrolling=\"no\"\\\n",
    "    src=\"''' + err_counts_plot_url + '''\"></iframe>\n",
    "    \n",
    "    </body>\n",
    "</html>'''"
   ]
  },
  {
   "cell_type": "code",
   "execution_count": 435,
   "metadata": {
    "collapsed": false
   },
   "outputs": [],
   "source": [
    "f = open(os.path.join(main_repo_dir,'reports/dashboards/RSSFeedWeekly.html'),'w')\n",
    "f.write(html_string)\n",
    "f.close()"
   ]
  },
  {
   "cell_type": "code",
   "execution_count": null,
   "metadata": {
    "collapsed": true
   },
   "outputs": [],
   "source": []
  }
 ],
 "metadata": {
  "kernelspec": {
   "display_name": "conda3",
   "language": "python",
   "name": "conda3"
  },
  "language_info": {
   "codemirror_mode": {
    "name": "ipython",
    "version": 3
   },
   "file_extension": ".py",
   "mimetype": "text/x-python",
   "name": "python",
   "nbconvert_exporter": "python",
   "pygments_lexer": "ipython3",
   "version": "3.5.2"
  }
 },
 "nbformat": 4,
 "nbformat_minor": 2
}
