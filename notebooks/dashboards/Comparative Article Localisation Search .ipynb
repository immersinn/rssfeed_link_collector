{
 "cells": [
  {
   "cell_type": "code",
   "execution_count": 1,
   "metadata": {
    "collapsed": true
   },
   "outputs": [],
   "source": [
    "import sys\n",
    "import os"
   ]
  },
  {
   "cell_type": "code",
   "execution_count": 2,
   "metadata": {
    "collapsed": true
   },
   "outputs": [],
   "source": [
    "from importlib import reload"
   ]
  },
  {
   "cell_type": "code",
   "execution_count": 3,
   "metadata": {
    "collapsed": true
   },
   "outputs": [],
   "source": [
    "sys.path.append(os.path.join(os.path.abspath(os.path.join('../..')), 'src'))"
   ]
  },
  {
   "cell_type": "code",
   "execution_count": 4,
   "metadata": {
    "collapsed": false
   },
   "outputs": [
    {
     "data": {
      "text/html": [
       "<script>requirejs.config({paths: { 'plotly': ['https://cdn.plot.ly/plotly-latest.min']},});if(!window.Plotly) {{require(['plotly'],function(plotly) {window.Plotly=plotly;});}}</script>"
      ],
      "text/plain": [
       "<IPython.core.display.HTML object>"
      ]
     },
     "metadata": {},
     "output_type": "display_data"
    }
   ],
   "source": [
    "import plotly as py\n",
    "from plotly.offline import download_plotlyjs, init_notebook_mode, plot, iplot\n",
    "from plotly import figure_factory as FF\n",
    "import plotly.graph_objs as pogo\n",
    "from plotly.graph_objs import Marker, Line, Data\n",
    "\n",
    "init_notebook_mode(connected=True)"
   ]
  },
  {
   "cell_type": "code",
   "execution_count": 5,
   "metadata": {
    "collapsed": true
   },
   "outputs": [],
   "source": [
    "from IPython.display import display, HTML"
   ]
  },
  {
   "cell_type": "code",
   "execution_count": 6,
   "metadata": {
    "collapsed": true
   },
   "outputs": [],
   "source": [
    "main_repo_dir = os.path.abspath(os.path.join('../..'))\n",
    "sys.path.append(os.path.join(main_repo_dir, 'src'))"
   ]
  },
  {
   "cell_type": "code",
   "execution_count": 7,
   "metadata": {
    "collapsed": true
   },
   "outputs": [],
   "source": [
    "import numpy\n",
    "import scipy\n",
    "import pandas"
   ]
  },
  {
   "cell_type": "code",
   "execution_count": 8,
   "metadata": {
    "collapsed": true
   },
   "outputs": [],
   "source": [
    "import mysql_utils\n",
    "import build_local_collection\n",
    "import find_best_related_docs\n",
    "import graph_plot_utils"
   ]
  },
  {
   "cell_type": "code",
   "execution_count": 9,
   "metadata": {
    "collapsed": false
   },
   "outputs": [
    {
     "data": {
      "text/plain": [
       "<module 'build_local_collection' from '/home/immersinn/gits/rssfeed_link_collector/src/build_local_collection.py'>"
      ]
     },
     "execution_count": 9,
     "metadata": {},
     "output_type": "execute_result"
    }
   ],
   "source": [
    "reload(build_local_collection)"
   ]
  },
  {
   "cell_type": "code",
   "execution_count": 10,
   "metadata": {
    "collapsed": false
   },
   "outputs": [
    {
     "data": {
      "text/plain": [
       "<module 'find_best_related_docs' from '/home/immersinn/gits/rssfeed_link_collector/src/find_best_related_docs.py'>"
      ]
     },
     "execution_count": 10,
     "metadata": {},
     "output_type": "execute_result"
    }
   ],
   "source": [
    "reload(find_best_related_docs)"
   ]
  },
  {
   "cell_type": "markdown",
   "metadata": {},
   "source": [
    "## Get the Data, Run the Process"
   ]
  },
  {
   "cell_type": "code",
   "execution_count": 11,
   "metadata": {
    "collapsed": true
   },
   "outputs": [],
   "source": [
    "url = \"http://www.cnn.com/2017/02/23/politics/fbi-refused-white-house-request-to-knock-down-recent-trump-russia-stories/index.html\""
   ]
  },
  {
   "cell_type": "code",
   "execution_count": 12,
   "metadata": {
    "collapsed": false
   },
   "outputs": [],
   "source": [
    "doc = {\"title\" : \"FBI refused White House request to knock down recent Trump-Russia stories\",\n",
    "       \"summary\" : (\"Washington (CNN) The FBI rejected a recent White House request to publicly knock \" \n",
    "       \"down media reports about communications between Donald Trump's associates and Russians known \"\n",
    "       \"to US intelligence during the 2016 presidential campaign, multiple US officials briefed on the \"\n",
    "       \"matter tell CNN.\")}"
   ]
  },
  {
   "cell_type": "code",
   "execution_count": 13,
   "metadata": {
    "collapsed": false
   },
   "outputs": [
    {
     "name": "stdout",
     "output_type": "stream",
     "text": [
      "Init-ing tools...\n",
      "Starting Level 0...\n",
      "Starting Level 1...\n",
      "Starting Level 2...\n",
      "Collecting data, getting BOWs and finishing up...\n"
     ]
    }
   ],
   "source": [
    "docs, words, word_info, bow = build_local_collection.get_localWordsAndDocs(doc, \n",
    "                                                                           l01_ndoc_cutoff=50,\n",
    "                                                                           l02_restrict={'n_docs_bg': {\n",
    "                                                                                                      'max' : 50\n",
    "                                                                                                      },\n",
    "                                                                                        'n_docs_qw' : {\n",
    "                                                                                                       'min' : 3\n",
    "                                                                                                       },\n",
    "                                                                                        'ratio' : 10\n",
    "                                                                                        },\n",
    "                                                                           verbose=True)"
   ]
  },
  {
   "cell_type": "code",
   "execution_count": 14,
   "metadata": {
    "collapsed": false
   },
   "outputs": [
    {
     "data": {
      "text/plain": [
       "97"
      ]
     },
     "execution_count": 14,
     "metadata": {},
     "output_type": "execute_result"
    }
   ],
   "source": [
    "len(docs['l01'])"
   ]
  },
  {
   "cell_type": "code",
   "execution_count": 15,
   "metadata": {
    "collapsed": false
   },
   "outputs": [
    {
     "data": {
      "text/plain": [
       "225"
      ]
     },
     "execution_count": 15,
     "metadata": {},
     "output_type": "execute_result"
    }
   ],
   "source": [
    "len(docs['l02'])"
   ]
  },
  {
   "cell_type": "code",
   "execution_count": 47,
   "metadata": {
    "collapsed": false
   },
   "outputs": [
    {
     "name": "stdout",
     "output_type": "stream",
     "text": [
      "Collecting words and creating BOWS...\n",
      "Calculating scores ...\n",
      "Finding best docs...\n",
      "\tJMS Method...\n",
      "\tSpectral Method...\n"
     ]
    }
   ],
   "source": [
    "results = find_best_related_docs.compare_methods(docs, words, bow, \n",
    "                                                 L=1.1, cutoff=0.03, min_grp_size=10,\n",
    "                                                 use_orig_bow_words=True,\n",
    "                                                 verbose=True,\n",
    "                                                 graph_edge_cutoff=0.1)"
   ]
  },
  {
   "cell_type": "markdown",
   "metadata": {},
   "source": [
    "## Formatting Tools"
   ]
  },
  {
   "cell_type": "code",
   "execution_count": 17,
   "metadata": {
    "collapsed": false
   },
   "outputs": [],
   "source": [
    "def format_title(title, max_len):\n",
    "    if len(title) > max_len:\n",
    "        return(title[:max_len] + \"...\")\n",
    "    else:\n",
    "        return(title)\n",
    "\n",
    "ft = lambda tit: format_title(tit, 80)\n",
    "fs = lambda val: \"{:.3f}\".format(val)"
   ]
  },
  {
   "cell_type": "code",
   "execution_count": 18,
   "metadata": {
    "collapsed": true
   },
   "outputs": [],
   "source": [
    "def adjust_column_widths(ff_table, n_cols=2, new_xs=[1.]):\n",
    "    for i,entry in enumerate(ff_table['layout']['annotations']):\n",
    "        if i % n_cols!=0:\n",
    "            entry['x'] = new_xs[(i % n_cols)-1]"
   ]
  },
  {
   "cell_type": "code",
   "execution_count": 19,
   "metadata": {
    "collapsed": true
   },
   "outputs": [],
   "source": [
    "def score_table_prep(df, filename):\n",
    "    \n",
    "    df['Title'] = df.title.apply(ft)\n",
    "    df['Score'] = df.score.apply(fs)\n",
    "\n",
    "    table = FF.create_table(df[['Title', 'Score']])\n",
    "    adjust_column_widths(table)\n",
    "\n",
    "    url = plot(table, filename=filename, auto_open=False)\n",
    "    url = url[7:]\n",
    "    \n",
    "    return(url)"
   ]
  },
  {
   "cell_type": "markdown",
   "metadata": {},
   "source": [
    "# Content Format"
   ]
  },
  {
   "cell_type": "markdown",
   "metadata": {},
   "source": [
    "## Section 3: Results"
   ]
  },
  {
   "cell_type": "markdown",
   "metadata": {},
   "source": [
    "### JW Smoothing Results"
   ]
  },
  {
   "cell_type": "code",
   "execution_count": 55,
   "metadata": {
    "collapsed": false
   },
   "outputs": [],
   "source": [
    "jms_docs = results['jms_score']['docs_info']"
   ]
  },
  {
   "cell_type": "code",
   "execution_count": 56,
   "metadata": {
    "collapsed": false
   },
   "outputs": [
    {
     "data": {
      "text/plain": [
       "219"
      ]
     },
     "execution_count": 56,
     "metadata": {},
     "output_type": "execute_result"
    }
   ],
   "source": [
    "jms_n_docs = jms_docs.shape[0]\n",
    "jms_n_docs"
   ]
  },
  {
   "cell_type": "code",
   "execution_count": 57,
   "metadata": {
    "collapsed": false
   },
   "outputs": [
    {
     "name": "stdout",
     "output_type": "stream",
     "text": [
      "Nbr of docs in top 5 not from 1st wave: 1\n",
      "Nbr of docs in top 10 not from 1st wave: 1\n",
      "Nbr of docs in top 15 not from 1st wave: 2\n",
      "Nbr of docs in top 25 not from 1st wave: 5\n",
      "Nbr of docs in top 50 not from 1st wave: 18\n"
     ]
    }
   ],
   "source": [
    "for limit in [5, 10, 15, 25, 50]:\n",
    "    jms_oo1 = sum([i not in docs['l01'] for i in jms_docs.index[:limit]])\n",
    "    print(\"Nbr of docs in top {} not from 1st wave: {}\".format(limit, jms_oo1))"
   ]
  },
  {
   "cell_type": "code",
   "execution_count": 58,
   "metadata": {
    "collapsed": false
   },
   "outputs": [
    {
     "data": {
      "text/html": [
       "<div>\n",
       "<table border=\"1\" class=\"dataframe\">\n",
       "  <thead>\n",
       "    <tr style=\"text-align: right;\">\n",
       "      <th></th>\n",
       "      <th>title</th>\n",
       "      <th>summary</th>\n",
       "      <th>score</th>\n",
       "    </tr>\n",
       "    <tr>\n",
       "      <th>id</th>\n",
       "      <th></th>\n",
       "      <th></th>\n",
       "      <th></th>\n",
       "    </tr>\n",
       "  </thead>\n",
       "  <tbody>\n",
       "    <tr>\n",
       "      <th>36469</th>\n",
       "      <td>FBI refused White House request to knock down ...</td>\n",
       "      <td>The FBI rejected a recent White House request ...</td>\n",
       "      <td>1.000000</td>\n",
       "    </tr>\n",
       "    <tr>\n",
       "      <th>15773</th>\n",
       "      <td>Trump aides spoke regularly to Russian officia...</td>\n",
       "      <td>High-level advisers close to then-presidential...</td>\n",
       "      <td>0.326538</td>\n",
       "    </tr>\n",
       "    <tr>\n",
       "      <th>966</th>\n",
       "      <td>Donald Trump Denounces ‘Un-American’ Intellige...</td>\n",
       "      <td>&lt;a href=\"http://www.breitbart.com/big-governme...</td>\n",
       "      <td>0.319277</td>\n",
       "    </tr>\n",
       "    <tr>\n",
       "      <th>15552</th>\n",
       "      <td>US officials corroborate aspects of Russia dos...</td>\n",
       "      <td>For the first time, US investigators say they ...</td>\n",
       "      <td>0.318796</td>\n",
       "    </tr>\n",
       "    <tr>\n",
       "      <th>15698</th>\n",
       "      <td>White House was warned Flynn could be blackmai...</td>\n",
       "      <td>The Justice Department warned the Trump admini...</td>\n",
       "      <td>0.256764</td>\n",
       "    </tr>\n",
       "    <tr>\n",
       "      <th>15880</th>\n",
       "      <td>Former Clinton aides apoplectic over Trump cam...</td>\n",
       "      <td>Hillary Clinton's former campaign aides are ap...</td>\n",
       "      <td>0.256621</td>\n",
       "    </tr>\n",
       "    <tr>\n",
       "      <th>672</th>\n",
       "      <td>CNN’s Acosta: Trump Only Calling on Conservati...</td>\n",
       "      <td>&lt;a href=\"http://www.breitbart.com/video/2017/0...</td>\n",
       "      <td>0.245172</td>\n",
       "    </tr>\n",
       "    <tr>\n",
       "      <th>8145</th>\n",
       "      <td>Dems see disparity in handling of Clinton, Rus...</td>\n",
       "      <td>WASHINGTON        (AP) -- Democrats are critic...</td>\n",
       "      <td>0.227264</td>\n",
       "    </tr>\n",
       "    <tr>\n",
       "      <th>115</th>\n",
       "      <td>Maxine Waters: Trump’s Administration, Associa...</td>\n",
       "      <td>&lt;a href=\"http://www.breitbart.com/video/2017/0...</td>\n",
       "      <td>0.218727</td>\n",
       "    </tr>\n",
       "    <tr>\n",
       "      <th>274</th>\n",
       "      <td>KLEIN – Trump-Russia Claims Rethought: How the...</td>\n",
       "      <td>&lt;a href=\"http://www.breitbart.com/jerusalem/20...</td>\n",
       "      <td>0.204384</td>\n",
       "    </tr>\n",
       "  </tbody>\n",
       "</table>\n",
       "</div>"
      ],
      "text/plain": [
       "                                                   title  \\\n",
       "id                                                         \n",
       "36469  FBI refused White House request to knock down ...   \n",
       "15773  Trump aides spoke regularly to Russian officia...   \n",
       "966    Donald Trump Denounces ‘Un-American’ Intellige...   \n",
       "15552  US officials corroborate aspects of Russia dos...   \n",
       "15698  White House was warned Flynn could be blackmai...   \n",
       "15880  Former Clinton aides apoplectic over Trump cam...   \n",
       "672    CNN’s Acosta: Trump Only Calling on Conservati...   \n",
       "8145   Dems see disparity in handling of Clinton, Rus...   \n",
       "115    Maxine Waters: Trump’s Administration, Associa...   \n",
       "274    KLEIN – Trump-Russia Claims Rethought: How the...   \n",
       "\n",
       "                                                 summary     score  \n",
       "id                                                                  \n",
       "36469  The FBI rejected a recent White House request ...  1.000000  \n",
       "15773  High-level advisers close to then-presidential...  0.326538  \n",
       "966    <a href=\"http://www.breitbart.com/big-governme...  0.319277  \n",
       "15552  For the first time, US investigators say they ...  0.318796  \n",
       "15698  The Justice Department warned the Trump admini...  0.256764  \n",
       "15880  Hillary Clinton's former campaign aides are ap...  0.256621  \n",
       "672    <a href=\"http://www.breitbart.com/video/2017/0...  0.245172  \n",
       "8145   WASHINGTON        (AP) -- Democrats are critic...  0.227264  \n",
       "115    <a href=\"http://www.breitbart.com/video/2017/0...  0.218727  \n",
       "274    <a href=\"http://www.breitbart.com/jerusalem/20...  0.204384  "
      ]
     },
     "execution_count": 58,
     "metadata": {},
     "output_type": "execute_result"
    }
   ],
   "source": [
    "jms_docs[['title', 'summary', 'score']].head(10)"
   ]
  },
  {
   "cell_type": "code",
   "execution_count": 59,
   "metadata": {
    "collapsed": false
   },
   "outputs": [],
   "source": [
    "jms_dt_url = score_table_prep(jms_docs, filename=\"images/jms_docs_table.html\")"
   ]
  },
  {
   "cell_type": "markdown",
   "metadata": {},
   "source": [
    "### Spectral Results"
   ]
  },
  {
   "cell_type": "code",
   "execution_count": 25,
   "metadata": {
    "collapsed": false
   },
   "outputs": [],
   "source": [
    "spec_docs = results['spectral']['docs_info']\n",
    "spec_out = results['spectral']['cluster_info']\n",
    "ig = results['spectral']['igraph']\n",
    "A = results['spectral']['A']"
   ]
  },
  {
   "cell_type": "code",
   "execution_count": 26,
   "metadata": {
    "collapsed": false
   },
   "outputs": [
    {
     "data": {
      "text/plain": [
       "1276"
      ]
     },
     "execution_count": 26,
     "metadata": {},
     "output_type": "execute_result"
    }
   ],
   "source": [
    "len(ig.es())"
   ]
  },
  {
   "cell_type": "code",
   "execution_count": 43,
   "metadata": {
    "collapsed": false
   },
   "outputs": [
    {
     "data": {
      "text/plain": [
       "109"
      ]
     },
     "execution_count": 43,
     "metadata": {},
     "output_type": "execute_result"
    }
   ],
   "source": [
    "spec_n_docs = spec_docs.shape[0]\n",
    "spec_n_docs"
   ]
  },
  {
   "cell_type": "code",
   "execution_count": 52,
   "metadata": {
    "collapsed": false
   },
   "outputs": [
    {
     "name": "stdout",
     "output_type": "stream",
     "text": [
      "Nbr of docs in top 5 not from 1st wave: 1\n",
      "Nbr of docs in top 10 not from 1st wave: 1\n",
      "Nbr of docs in top 15 not from 1st wave: 2\n",
      "Nbr of docs in top 25 not from 1st wave: 5\n",
      "Nbr of docs in top 50 not from 1st wave: 19\n"
     ]
    }
   ],
   "source": [
    "for limit in [5, 10, 15, 25, 50]:\n",
    "    spec_oo1 = sum([i not in docs['l01'] for i in spec_docs.index[:limit]])\n",
    "    print(\"Nbr of docs in top {} not from 1st wave: {}\".format(limit, spec_oo1))"
   ]
  },
  {
   "cell_type": "code",
   "execution_count": 30,
   "metadata": {
    "collapsed": false
   },
   "outputs": [
    {
     "data": {
      "text/html": [
       "<div>\n",
       "<table border=\"1\" class=\"dataframe\">\n",
       "  <thead>\n",
       "    <tr style=\"text-align: right;\">\n",
       "      <th></th>\n",
       "      <th>title</th>\n",
       "      <th>summary</th>\n",
       "      <th>score</th>\n",
       "    </tr>\n",
       "    <tr>\n",
       "      <th>id</th>\n",
       "      <th></th>\n",
       "      <th></th>\n",
       "      <th></th>\n",
       "    </tr>\n",
       "  </thead>\n",
       "  <tbody>\n",
       "    <tr>\n",
       "      <th>36469</th>\n",
       "      <td>FBI refused White House request to knock down ...</td>\n",
       "      <td>The FBI rejected a recent White House request ...</td>\n",
       "      <td>1.000000</td>\n",
       "    </tr>\n",
       "    <tr>\n",
       "      <th>15773</th>\n",
       "      <td>Trump aides spoke regularly to Russian officia...</td>\n",
       "      <td>High-level advisers close to then-presidential...</td>\n",
       "      <td>0.326538</td>\n",
       "    </tr>\n",
       "    <tr>\n",
       "      <th>966</th>\n",
       "      <td>Donald Trump Denounces ‘Un-American’ Intellige...</td>\n",
       "      <td>&lt;a href=\"http://www.breitbart.com/big-governme...</td>\n",
       "      <td>0.319277</td>\n",
       "    </tr>\n",
       "    <tr>\n",
       "      <th>15552</th>\n",
       "      <td>US officials corroborate aspects of Russia dos...</td>\n",
       "      <td>For the first time, US investigators say they ...</td>\n",
       "      <td>0.318796</td>\n",
       "    </tr>\n",
       "    <tr>\n",
       "      <th>15698</th>\n",
       "      <td>White House was warned Flynn could be blackmai...</td>\n",
       "      <td>The Justice Department warned the Trump admini...</td>\n",
       "      <td>0.256764</td>\n",
       "    </tr>\n",
       "    <tr>\n",
       "      <th>15880</th>\n",
       "      <td>Former Clinton aides apoplectic over Trump cam...</td>\n",
       "      <td>Hillary Clinton's former campaign aides are ap...</td>\n",
       "      <td>0.256621</td>\n",
       "    </tr>\n",
       "    <tr>\n",
       "      <th>672</th>\n",
       "      <td>CNN’s Acosta: Trump Only Calling on Conservati...</td>\n",
       "      <td>&lt;a href=\"http://www.breitbart.com/video/2017/0...</td>\n",
       "      <td>0.245172</td>\n",
       "    </tr>\n",
       "    <tr>\n",
       "      <th>8145</th>\n",
       "      <td>Dems see disparity in handling of Clinton, Rus...</td>\n",
       "      <td>WASHINGTON        (AP) -- Democrats are critic...</td>\n",
       "      <td>0.227264</td>\n",
       "    </tr>\n",
       "    <tr>\n",
       "      <th>115</th>\n",
       "      <td>Maxine Waters: Trump’s Administration, Associa...</td>\n",
       "      <td>&lt;a href=\"http://www.breitbart.com/video/2017/0...</td>\n",
       "      <td>0.218727</td>\n",
       "    </tr>\n",
       "    <tr>\n",
       "      <th>274</th>\n",
       "      <td>KLEIN – Trump-Russia Claims Rethought: How the...</td>\n",
       "      <td>&lt;a href=\"http://www.breitbart.com/jerusalem/20...</td>\n",
       "      <td>0.204384</td>\n",
       "    </tr>\n",
       "  </tbody>\n",
       "</table>\n",
       "</div>"
      ],
      "text/plain": [
       "                                                   title  \\\n",
       "id                                                         \n",
       "36469  FBI refused White House request to knock down ...   \n",
       "15773  Trump aides spoke regularly to Russian officia...   \n",
       "966    Donald Trump Denounces ‘Un-American’ Intellige...   \n",
       "15552  US officials corroborate aspects of Russia dos...   \n",
       "15698  White House was warned Flynn could be blackmai...   \n",
       "15880  Former Clinton aides apoplectic over Trump cam...   \n",
       "672    CNN’s Acosta: Trump Only Calling on Conservati...   \n",
       "8145   Dems see disparity in handling of Clinton, Rus...   \n",
       "115    Maxine Waters: Trump’s Administration, Associa...   \n",
       "274    KLEIN – Trump-Russia Claims Rethought: How the...   \n",
       "\n",
       "                                                 summary     score  \n",
       "id                                                                  \n",
       "36469  The FBI rejected a recent White House request ...  1.000000  \n",
       "15773  High-level advisers close to then-presidential...  0.326538  \n",
       "966    <a href=\"http://www.breitbart.com/big-governme...  0.319277  \n",
       "15552  For the first time, US investigators say they ...  0.318796  \n",
       "15698  The Justice Department warned the Trump admini...  0.256764  \n",
       "15880  Hillary Clinton's former campaign aides are ap...  0.256621  \n",
       "672    <a href=\"http://www.breitbart.com/video/2017/0...  0.245172  \n",
       "8145   WASHINGTON        (AP) -- Democrats are critic...  0.227264  \n",
       "115    <a href=\"http://www.breitbart.com/video/2017/0...  0.218727  \n",
       "274    <a href=\"http://www.breitbart.com/jerusalem/20...  0.204384  "
      ]
     },
     "execution_count": 30,
     "metadata": {},
     "output_type": "execute_result"
    }
   ],
   "source": [
    "spec_docs[['title', 'summary', 'score']].head(10)"
   ]
  },
  {
   "cell_type": "code",
   "execution_count": 31,
   "metadata": {
    "collapsed": false
   },
   "outputs": [],
   "source": [
    "spec_dt_url = score_table_prep(spec_docs, filename=\"images/spec_docs_table.html\")"
   ]
  },
  {
   "cell_type": "code",
   "execution_count": 32,
   "metadata": {
    "collapsed": false
   },
   "outputs": [
    {
     "data": {
      "text/plain": [
       "igraph.Vertex(<igraph.Graph object at 0x7f68b166e4f8>, 0, {'name': '0', 'label': 'Winners: Tom Brady’s Donald Trump Friendship in Spotlight as Super Bowl Looms', 'group': 0})"
      ]
     },
     "execution_count": 32,
     "metadata": {},
     "output_type": "execute_result"
    }
   ],
   "source": [
    "ig.vs[0]"
   ]
  },
  {
   "cell_type": "code",
   "execution_count": 33,
   "metadata": {
    "collapsed": false
   },
   "outputs": [
    {
     "data": {
      "text/plain": [
       "<module 'graph_plot_utils' from '/home/immersinn/gits/rssfeed_link_collector/src/graph_plot_utils.py'>"
      ]
     },
     "execution_count": 33,
     "metadata": {},
     "output_type": "execute_result"
    }
   ],
   "source": [
    "reload(graph_plot_utils)"
   ]
  },
  {
   "cell_type": "code",
   "execution_count": 34,
   "metadata": {
    "collapsed": false
   },
   "outputs": [],
   "source": [
    "fig = graph_plot_utils.create_graph_fig(ig, show_groups=True)"
   ]
  },
  {
   "cell_type": "markdown",
   "metadata": {},
   "source": [
    "iplot(fig)"
   ]
  },
  {
   "cell_type": "code",
   "execution_count": 35,
   "metadata": {
    "collapsed": true
   },
   "outputs": [],
   "source": [
    "graph_plot_url = plot(fig, filename='images/spec23_groupsGraph.html', auto_open=False,)\n",
    "graph_plot_url = graph_plot_url[7:]"
   ]
  },
  {
   "cell_type": "markdown",
   "metadata": {},
   "source": [
    "## Main Article"
   ]
  },
  {
   "cell_type": "code",
   "execution_count": 36,
   "metadata": {
    "collapsed": true
   },
   "outputs": [],
   "source": [
    "orig_article_title = doc['title']\n",
    "orig_article_content = doc['summary']"
   ]
  },
  {
   "cell_type": "code",
   "execution_count": 37,
   "metadata": {
    "collapsed": false
   },
   "outputs": [
    {
     "data": {
      "text/html": [
       "<div>\n",
       "<table border=\"1\" class=\"dataframe\">\n",
       "  <thead>\n",
       "    <tr style=\"text-align: right;\">\n",
       "      <th></th>\n",
       "      <th>word_id</th>\n",
       "      <th>n_docs</th>\n",
       "      <th>n_total</th>\n",
       "    </tr>\n",
       "  </thead>\n",
       "  <tbody>\n",
       "    <tr>\n",
       "      <th>0</th>\n",
       "      <td>3</td>\n",
       "      <td>7586</td>\n",
       "      <td>11670</td>\n",
       "    </tr>\n",
       "    <tr>\n",
       "      <th>1</th>\n",
       "      <td>124</td>\n",
       "      <td>1741</td>\n",
       "      <td>2093</td>\n",
       "    </tr>\n",
       "    <tr>\n",
       "      <th>2</th>\n",
       "      <td>147</td>\n",
       "      <td>1723</td>\n",
       "      <td>1889</td>\n",
       "    </tr>\n",
       "    <tr>\n",
       "      <th>3</th>\n",
       "      <td>155</td>\n",
       "      <td>3639</td>\n",
       "      <td>4332</td>\n",
       "    </tr>\n",
       "    <tr>\n",
       "      <th>4</th>\n",
       "      <td>302</td>\n",
       "      <td>1121</td>\n",
       "      <td>1372</td>\n",
       "    </tr>\n",
       "  </tbody>\n",
       "</table>\n",
       "</div>"
      ],
      "text/plain": [
       "   word_id  n_docs n_total\n",
       "0        3    7586   11670\n",
       "1      124    1741    2093\n",
       "2      147    1723    1889\n",
       "3      155    3639    4332\n",
       "4      302    1121    1372"
      ]
     },
     "execution_count": 37,
     "metadata": {},
     "output_type": "execute_result"
    }
   ],
   "source": [
    "wil01 = word_info['l01']\n",
    "wil01.head()"
   ]
  },
  {
   "cell_type": "markdown",
   "metadata": {},
   "source": [
    "## Level 1 Information"
   ]
  },
  {
   "cell_type": "code",
   "execution_count": 38,
   "metadata": {
    "collapsed": false
   },
   "outputs": [
    {
     "data": {
      "text/plain": [
       "{2294: 'associates',\n",
       " 2900: 'russians',\n",
       " 4148: 'trumprussia',\n",
       " 6327: 'publicly',\n",
       " 12578: 'briefed',\n",
       " 27973: 'knock'}"
      ]
     },
     "execution_count": 38,
     "metadata": {},
     "output_type": "execute_result"
    }
   ],
   "source": [
    "qwl01 = mysql_utils.query_idWordLookup(words['l01'])\n",
    "qwl01"
   ]
  },
  {
   "cell_type": "code",
   "execution_count": 39,
   "metadata": {
    "collapsed": true
   },
   "outputs": [],
   "source": [
    "nl01_docs = len(docs['l01'])"
   ]
  },
  {
   "cell_type": "code",
   "execution_count": 40,
   "metadata": {
    "collapsed": false
   },
   "outputs": [
    {
     "data": {
      "text/html": [
       "<div>\n",
       "<table border=\"1\" class=\"dataframe\">\n",
       "  <thead>\n",
       "    <tr style=\"text-align: right;\">\n",
       "      <th></th>\n",
       "      <th>word_id_bg</th>\n",
       "      <th>n_docs_bg</th>\n",
       "      <th>n_total_bg</th>\n",
       "      <th>frac_bg</th>\n",
       "      <th>word_id_qw</th>\n",
       "      <th>n_docs_qw</th>\n",
       "      <th>n_total_qw</th>\n",
       "      <th>frac_qw</th>\n",
       "      <th>ratio</th>\n",
       "    </tr>\n",
       "  </thead>\n",
       "  <tbody>\n",
       "    <tr>\n",
       "      <th>0</th>\n",
       "      <td>3</td>\n",
       "      <td>7586</td>\n",
       "      <td>11670</td>\n",
       "      <td>0.168867</td>\n",
       "      <td>16.0</td>\n",
       "      <td>1.0</td>\n",
       "      <td>1</td>\n",
       "      <td>0.008929</td>\n",
       "      <td>0.052873</td>\n",
       "    </tr>\n",
       "    <tr>\n",
       "      <th>1</th>\n",
       "      <td>11</td>\n",
       "      <td>803</td>\n",
       "      <td>932</td>\n",
       "      <td>0.017875</td>\n",
       "      <td>65.0</td>\n",
       "      <td>4.0</td>\n",
       "      <td>4</td>\n",
       "      <td>0.035714</td>\n",
       "      <td>1.997999</td>\n",
       "    </tr>\n",
       "    <tr>\n",
       "      <th>2</th>\n",
       "      <td>14</td>\n",
       "      <td>635</td>\n",
       "      <td>694</td>\n",
       "      <td>0.014135</td>\n",
       "      <td>71.0</td>\n",
       "      <td>1.0</td>\n",
       "      <td>1</td>\n",
       "      <td>0.008929</td>\n",
       "      <td>0.631651</td>\n",
       "    </tr>\n",
       "    <tr>\n",
       "      <th>3</th>\n",
       "      <td>16</td>\n",
       "      <td>435</td>\n",
       "      <td>563</td>\n",
       "      <td>0.009683</td>\n",
       "      <td>75.0</td>\n",
       "      <td>4.0</td>\n",
       "      <td>4</td>\n",
       "      <td>0.035714</td>\n",
       "      <td>3.688259</td>\n",
       "    </tr>\n",
       "    <tr>\n",
       "      <th>4</th>\n",
       "      <td>18</td>\n",
       "      <td>364</td>\n",
       "      <td>390</td>\n",
       "      <td>0.008103</td>\n",
       "      <td>82.0</td>\n",
       "      <td>1.0</td>\n",
       "      <td>1</td>\n",
       "      <td>0.008929</td>\n",
       "      <td>1.101918</td>\n",
       "    </tr>\n",
       "  </tbody>\n",
       "</table>\n",
       "</div>"
      ],
      "text/plain": [
       "   word_id_bg  n_docs_bg n_total_bg   frac_bg  word_id_qw  n_docs_qw  \\\n",
       "0           3       7586      11670  0.168867        16.0        1.0   \n",
       "1          11        803        932  0.017875        65.0        4.0   \n",
       "2          14        635        694  0.014135        71.0        1.0   \n",
       "3          16        435        563  0.009683        75.0        4.0   \n",
       "4          18        364        390  0.008103        82.0        1.0   \n",
       "\n",
       "  n_total_qw   frac_qw     ratio  \n",
       "0          1  0.008929  0.052873  \n",
       "1          4  0.035714  1.997999  \n",
       "2          1  0.008929  0.631651  \n",
       "3          4  0.035714  3.688259  \n",
       "4          1  0.008929  1.101918  "
      ]
     },
     "execution_count": 40,
     "metadata": {},
     "output_type": "execute_result"
    }
   ],
   "source": [
    "wil02 = word_info['l02']\n",
    "wil02.head()"
   ]
  },
  {
   "cell_type": "markdown",
   "metadata": {},
   "source": [
    "## Generate HTML as String and Write to File"
   ]
  },
  {
   "cell_type": "code",
   "execution_count": 60,
   "metadata": {
    "collapsed": true
   },
   "outputs": [],
   "source": [
    "html_string = '''\n",
    "<html>\n",
    "    <head>\n",
    "        <link rel=\"stylesheet\" href=\"https://maxcdn.bootstrapcdn.com/bootstrap/3.3.1/css/bootstrap.min.css\">\n",
    "        <style>body{ margin:0 100; background:whitesmoke; }</style>\n",
    "    </head>\n",
    "    <body>\n",
    "        <h1>Comparison of JMS and Spectral Graph Methods</h1>\n",
    "        \n",
    "        <!-- *** Section 1 *** --->\n",
    "        <h2>Section 1: Document Overview</h2>\n",
    "        \n",
    "            \n",
    "            <h4>Document Source:</h4>\n",
    "                <a href=\"''' + url + '''\">Link</a>\n",
    "            <h4>Document Title:</h4>\n",
    "                <p><b>''' + doc['title'] + '''</b></p>\n",
    "            <h4>Document Content:</h4>\n",
    "                <p>\"''' + doc['summary'] + '''\"</p>\n",
    "\n",
    "        <!-- *** Section 3 *** --->\n",
    "        <h2>Section 3: \"Top Docs\" Review</h2>\n",
    "        \n",
    "                \n",
    "            <table width=\"100%\">\n",
    "                <tr>\n",
    "                    <td width=\"50%\"><h3>JMS Top Docs:</h3></td>\n",
    "                    <td width=\"47%\"><h3>Spectral Cluster Top Docs:</h3></td>\n",
    "                </tr>\n",
    "                <tr>\n",
    "                    <td width=\"50%\"><h4>Total Docs: ''' + str(jms_n_docs) + '''</h4></td>\n",
    "                    <td width=\"47%\"><h4>Total Docs: ''' + str(spec_n_docs) + '''</h4</td>\n",
    "                </tr>\n",
    "            </table>\n",
    "\n",
    "\n",
    "            <iframe style=\"padding:40px\" width=\"47%\" height=\"480\" frameborder=\"0\" seamless=\"seamless\" scrolling=\"yes\" align=\"left\"\\\n",
    "    src=\"''' + jms_dt_url + '''\"></iframe>\n",
    "\n",
    "            <iframe style=\"padding:40px\" width=\"47%\" height=\"480\" frameborder=\"0\" seamless=\"seamless\" scrolling=\"yes\" align=\"right\"\\\n",
    "    src=\"''' + spec_dt_url + '''\"></iframe>\n",
    "    \n",
    "            <h3>Spectral23 Communities Graph</h3>\n",
    "    \n",
    "            <iframe style=\"padding:40px\" width=\"1000\" height=\"1000\" frameborder=\"0\" seamless=\"seamless\" scrolling=\"no\"\\\n",
    "    src=\"''' + graph_plot_url + '''\"></iframe>\n",
    "\n",
    "\n",
    "    \n",
    "    </body>\n",
    "</html>'''"
   ]
  },
  {
   "cell_type": "code",
   "execution_count": 61,
   "metadata": {
    "collapsed": false
   },
   "outputs": [],
   "source": [
    "f = open(os.path.join(main_repo_dir,'reports/dashboards/MethCompare.html'),'w')\n",
    "f.write(html_string)\n",
    "f.close()"
   ]
  },
  {
   "cell_type": "code",
   "execution_count": null,
   "metadata": {
    "collapsed": true
   },
   "outputs": [],
   "source": []
  }
 ],
 "metadata": {
  "kernelspec": {
   "display_name": "rss (P3)",
   "language": "python",
   "name": "rss_p3"
  },
  "language_info": {
   "codemirror_mode": {
    "name": "ipython",
    "version": 3
   },
   "file_extension": ".py",
   "mimetype": "text/x-python",
   "name": "python",
   "nbconvert_exporter": "python",
   "pygments_lexer": "ipython3",
   "version": "3.5.2"
  }
 },
 "nbformat": 4,
 "nbformat_minor": 2
}
