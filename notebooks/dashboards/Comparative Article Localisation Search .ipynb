{
 "cells": [
  {
   "cell_type": "code",
   "execution_count": 1,
   "metadata": {
    "collapsed": true
   },
   "outputs": [],
   "source": [
    "import sys\n",
    "import os"
   ]
  },
  {
   "cell_type": "code",
   "execution_count": 2,
   "metadata": {
    "collapsed": true
   },
   "outputs": [],
   "source": [
    "from importlib import reload"
   ]
  },
  {
   "cell_type": "code",
   "execution_count": 3,
   "metadata": {
    "collapsed": true
   },
   "outputs": [],
   "source": [
    "sys.path.append(os.path.join(os.path.abspath(os.path.join('../..')), 'src'))"
   ]
  },
  {
   "cell_type": "code",
   "execution_count": 4,
   "metadata": {
    "collapsed": false
   },
   "outputs": [
    {
     "data": {
      "text/html": [
       "<script>requirejs.config({paths: { 'plotly': ['https://cdn.plot.ly/plotly-latest.min']},});if(!window.Plotly) {{require(['plotly'],function(plotly) {window.Plotly=plotly;});}}</script>"
      ],
      "text/plain": [
       "<IPython.core.display.HTML object>"
      ]
     },
     "metadata": {},
     "output_type": "display_data"
    }
   ],
   "source": [
    "import plotly as py\n",
    "from plotly.offline import download_plotlyjs, init_notebook_mode, plot, iplot\n",
    "from plotly import figure_factory as FF\n",
    "import plotly.graph_objs as pogo\n",
    "from plotly.graph_objs import Marker, Line, Data\n",
    "\n",
    "init_notebook_mode(connected=True)"
   ]
  },
  {
   "cell_type": "code",
   "execution_count": 5,
   "metadata": {
    "collapsed": true
   },
   "outputs": [],
   "source": [
    "from IPython.display import display, HTML"
   ]
  },
  {
   "cell_type": "code",
   "execution_count": 6,
   "metadata": {
    "collapsed": true
   },
   "outputs": [],
   "source": [
    "main_repo_dir = os.path.abspath(os.path.join('../..'))\n",
    "sys.path.append(os.path.join(main_repo_dir, 'src'))"
   ]
  },
  {
   "cell_type": "code",
   "execution_count": 7,
   "metadata": {
    "collapsed": true
   },
   "outputs": [],
   "source": [
    "import numpy\n",
    "import scipy\n",
    "import pandas"
   ]
  },
  {
   "cell_type": "code",
   "execution_count": 8,
   "metadata": {
    "collapsed": true
   },
   "outputs": [],
   "source": [
    "import mysql_utils\n",
    "import build_local_collection\n",
    "import find_best_related_docs\n",
    "import graph_plot_utils"
   ]
  },
  {
   "cell_type": "code",
   "execution_count": 9,
   "metadata": {
    "collapsed": false
   },
   "outputs": [
    {
     "data": {
      "text/plain": [
       "<module 'build_local_collection' from '/home/immersinn/gits/rssfeed_link_collector/src/build_local_collection.py'>"
      ]
     },
     "execution_count": 9,
     "metadata": {},
     "output_type": "execute_result"
    }
   ],
   "source": [
    "reload(build_local_collection)"
   ]
  },
  {
   "cell_type": "code",
   "execution_count": 10,
   "metadata": {
    "collapsed": false
   },
   "outputs": [
    {
     "data": {
      "text/plain": [
       "<module 'find_best_related_docs' from '/home/immersinn/gits/rssfeed_link_collector/src/find_best_related_docs.py'>"
      ]
     },
     "execution_count": 10,
     "metadata": {},
     "output_type": "execute_result"
    }
   ],
   "source": [
    "reload(find_best_related_docs)"
   ]
  },
  {
   "cell_type": "markdown",
   "metadata": {},
   "source": [
    "## Get the Data, Run the Process"
   ]
  },
  {
   "cell_type": "code",
   "execution_count": 11,
   "metadata": {
    "collapsed": true
   },
   "outputs": [],
   "source": [
    "url = \"http://www.cnn.com/2017/02/23/politics/fbi-refused-white-house-request-to-knock-down-recent-trump-russia-stories/index.html\""
   ]
  },
  {
   "cell_type": "code",
   "execution_count": 12,
   "metadata": {
    "collapsed": false
   },
   "outputs": [],
   "source": [
    "doc = {\"title\" : \"FBI refused White House request to knock down recent Trump-Russia stories\",\n",
    "       \"summary\" : (\"Washington (CNN) The FBI rejected a recent White House request to publicly knock \" \n",
    "       \"down media reports about communications between Donald Trump's associates and Russians known \"\n",
    "       \"to US intelligence during the 2016 presidential campaign, multiple US officials briefed on the \"\n",
    "       \"matter tell CNN.\")}"
   ]
  },
  {
   "cell_type": "code",
   "execution_count": 13,
   "metadata": {
    "collapsed": false
   },
   "outputs": [
    {
     "name": "stdout",
     "output_type": "stream",
     "text": [
      "Init-ing tools...\n",
      "Starting Level 0...\n",
      "Starting Level 1...\n",
      "Starting Level 2...\n",
      "Collecting data, getting BOWs and finishing up...\n"
     ]
    }
   ],
   "source": [
    "docs, words, word_info, bow = build_local_collection.get_localWordsAndDocs(doc, \n",
    "                                                                           l01_ndoc_cutoff=50,\n",
    "                                                                           l02_restrict={'n_docs_bg': {\n",
    "                                                                                                      'max' : 50\n",
    "                                                                                                      },\n",
    "                                                                                        'n_docs_qw' : {\n",
    "                                                                                                       'min' : 3\n",
    "                                                                                                       },\n",
    "                                                                                        'ratio' : 10\n",
    "                                                                                        },\n",
    "                                                                           verbose=True)"
   ]
  },
  {
   "cell_type": "code",
   "execution_count": 14,
   "metadata": {
    "collapsed": false
   },
   "outputs": [
    {
     "data": {
      "text/plain": [
       "97"
      ]
     },
     "execution_count": 14,
     "metadata": {},
     "output_type": "execute_result"
    }
   ],
   "source": [
    "len(docs['l01'])"
   ]
  },
  {
   "cell_type": "code",
   "execution_count": 15,
   "metadata": {
    "collapsed": false
   },
   "outputs": [
    {
     "data": {
      "text/plain": [
       "225"
      ]
     },
     "execution_count": 15,
     "metadata": {},
     "output_type": "execute_result"
    }
   ],
   "source": [
    "len(docs['l02'])"
   ]
  },
  {
   "cell_type": "code",
   "execution_count": 16,
   "metadata": {
    "collapsed": false
   },
   "outputs": [
    {
     "name": "stdout",
     "output_type": "stream",
     "text": [
      "Collecting words and creating BOWS...\n",
      "Calculating scores ...\n",
      "Finding best docs...\n",
      "\tJMS Method...\n",
      "\tSpectral Method...\n"
     ]
    }
   ],
   "source": [
    "results = find_best_related_docs.compare_methods(docs, words, bow, \n",
    "                                                 L=1.1, cutoff=0.029, min_grp_size=10,\n",
    "                                                 use_orig_bow_words=True,\n",
    "                                                 verbose=True)"
   ]
  },
  {
   "cell_type": "markdown",
   "metadata": {},
   "source": [
    "## Formatting Tools"
   ]
  },
  {
   "cell_type": "code",
   "execution_count": 17,
   "metadata": {
    "collapsed": false
   },
   "outputs": [],
   "source": [
    "def format_title(title, max_len):\n",
    "    if len(title) > max_len:\n",
    "        return(title[:max_len] + \"...\")\n",
    "    else:\n",
    "        return(title)\n",
    "\n",
    "ft = lambda tit: format_title(tit, 80)\n",
    "fs = lambda val: \"{:.3f}\".format(val)"
   ]
  },
  {
   "cell_type": "code",
   "execution_count": 18,
   "metadata": {
    "collapsed": true
   },
   "outputs": [],
   "source": [
    "def adjust_column_widths(ff_table, n_cols=2, new_xs=[1.]):\n",
    "    for i,entry in enumerate(ff_table['layout']['annotations']):\n",
    "        if i % n_cols!=0:\n",
    "            entry['x'] = new_xs[(i % n_cols)-1]"
   ]
  },
  {
   "cell_type": "code",
   "execution_count": 19,
   "metadata": {
    "collapsed": true
   },
   "outputs": [],
   "source": [
    "def score_table_prep(df, filename):\n",
    "    \n",
    "    df['Title'] = df.title.apply(ft)\n",
    "    df['Score'] = df.score.apply(fs)\n",
    "\n",
    "    table = FF.create_table(df[['Title', 'Score']])\n",
    "    adjust_column_widths(table)\n",
    "\n",
    "    url = plot(table, filename=filename, auto_open=False)\n",
    "    url = url[7:]\n",
    "    \n",
    "    return(url)"
   ]
  },
  {
   "cell_type": "markdown",
   "metadata": {},
   "source": [
    "# Content Format"
   ]
  },
  {
   "cell_type": "markdown",
   "metadata": {},
   "source": [
    "## Section 3: Results"
   ]
  },
  {
   "cell_type": "markdown",
   "metadata": {},
   "source": [
    "### JW Smoothing Results"
   ]
  },
  {
   "cell_type": "code",
   "execution_count": 20,
   "metadata": {
    "collapsed": false
   },
   "outputs": [],
   "source": [
    "jms_docs = results['jms_score']['docs_info']"
   ]
  },
  {
   "cell_type": "code",
   "execution_count": 21,
   "metadata": {
    "collapsed": false
   },
   "outputs": [
    {
     "data": {
      "text/plain": [
       "(223, 5)"
      ]
     },
     "execution_count": 21,
     "metadata": {},
     "output_type": "execute_result"
    }
   ],
   "source": [
    "jms_docs.shape"
   ]
  },
  {
   "cell_type": "code",
   "execution_count": 22,
   "metadata": {
    "collapsed": false
   },
   "outputs": [
    {
     "name": "stdout",
     "output_type": "stream",
     "text": [
      "Nbr of docs in top 5 not from 1st wave: 1\n",
      "Nbr of docs in top 10 not from 1st wave: 1\n",
      "Nbr of docs in top 15 not from 1st wave: 2\n",
      "Nbr of docs in top 25 not from 1st wave: 5\n",
      "Nbr of docs in top 50 not from 1st wave: 18\n"
     ]
    }
   ],
   "source": [
    "for limit in [5, 10, 15, 25, 50]:\n",
    "    jms_oo1 = sum([i not in docs['l01'] for i in jms_docs.index[:limit]])\n",
    "    print(\"Nbr of docs in top {} not from 1st wave: {}\".format(limit, jms_oo1))"
   ]
  },
  {
   "cell_type": "code",
   "execution_count": 23,
   "metadata": {
    "collapsed": false
   },
   "outputs": [
    {
     "data": {
      "text/html": [
       "<div>\n",
       "<table border=\"1\" class=\"dataframe\">\n",
       "  <thead>\n",
       "    <tr style=\"text-align: right;\">\n",
       "      <th></th>\n",
       "      <th>title</th>\n",
       "      <th>summary</th>\n",
       "      <th>score</th>\n",
       "    </tr>\n",
       "    <tr>\n",
       "      <th>id</th>\n",
       "      <th></th>\n",
       "      <th></th>\n",
       "      <th></th>\n",
       "    </tr>\n",
       "  </thead>\n",
       "  <tbody>\n",
       "    <tr>\n",
       "      <th>36469</th>\n",
       "      <td>FBI refused White House request to knock down ...</td>\n",
       "      <td>The FBI rejected a recent White House request ...</td>\n",
       "      <td>1.000000</td>\n",
       "    </tr>\n",
       "    <tr>\n",
       "      <th>15773</th>\n",
       "      <td>Trump aides spoke regularly to Russian officia...</td>\n",
       "      <td>High-level advisers close to then-presidential...</td>\n",
       "      <td>0.326538</td>\n",
       "    </tr>\n",
       "    <tr>\n",
       "      <th>966</th>\n",
       "      <td>Donald Trump Denounces ‘Un-American’ Intellige...</td>\n",
       "      <td>&lt;a href=\"http://www.breitbart.com/big-governme...</td>\n",
       "      <td>0.319277</td>\n",
       "    </tr>\n",
       "    <tr>\n",
       "      <th>15552</th>\n",
       "      <td>US officials corroborate aspects of Russia dos...</td>\n",
       "      <td>For the first time, US investigators say they ...</td>\n",
       "      <td>0.318796</td>\n",
       "    </tr>\n",
       "    <tr>\n",
       "      <th>15698</th>\n",
       "      <td>White House was warned Flynn could be blackmai...</td>\n",
       "      <td>The Justice Department warned the Trump admini...</td>\n",
       "      <td>0.256764</td>\n",
       "    </tr>\n",
       "    <tr>\n",
       "      <th>15880</th>\n",
       "      <td>Former Clinton aides apoplectic over Trump cam...</td>\n",
       "      <td>Hillary Clinton's former campaign aides are ap...</td>\n",
       "      <td>0.256621</td>\n",
       "    </tr>\n",
       "    <tr>\n",
       "      <th>672</th>\n",
       "      <td>CNN’s Acosta: Trump Only Calling on Conservati...</td>\n",
       "      <td>&lt;a href=\"http://www.breitbart.com/video/2017/0...</td>\n",
       "      <td>0.245172</td>\n",
       "    </tr>\n",
       "    <tr>\n",
       "      <th>8145</th>\n",
       "      <td>Dems see disparity in handling of Clinton, Rus...</td>\n",
       "      <td>WASHINGTON        (AP) -- Democrats are critic...</td>\n",
       "      <td>0.227264</td>\n",
       "    </tr>\n",
       "    <tr>\n",
       "      <th>115</th>\n",
       "      <td>Maxine Waters: Trump’s Administration, Associa...</td>\n",
       "      <td>&lt;a href=\"http://www.breitbart.com/video/2017/0...</td>\n",
       "      <td>0.218727</td>\n",
       "    </tr>\n",
       "    <tr>\n",
       "      <th>274</th>\n",
       "      <td>KLEIN – Trump-Russia Claims Rethought: How the...</td>\n",
       "      <td>&lt;a href=\"http://www.breitbart.com/jerusalem/20...</td>\n",
       "      <td>0.204384</td>\n",
       "    </tr>\n",
       "  </tbody>\n",
       "</table>\n",
       "</div>"
      ],
      "text/plain": [
       "                                                   title  \\\n",
       "id                                                         \n",
       "36469  FBI refused White House request to knock down ...   \n",
       "15773  Trump aides spoke regularly to Russian officia...   \n",
       "966    Donald Trump Denounces ‘Un-American’ Intellige...   \n",
       "15552  US officials corroborate aspects of Russia dos...   \n",
       "15698  White House was warned Flynn could be blackmai...   \n",
       "15880  Former Clinton aides apoplectic over Trump cam...   \n",
       "672    CNN’s Acosta: Trump Only Calling on Conservati...   \n",
       "8145   Dems see disparity in handling of Clinton, Rus...   \n",
       "115    Maxine Waters: Trump’s Administration, Associa...   \n",
       "274    KLEIN – Trump-Russia Claims Rethought: How the...   \n",
       "\n",
       "                                                 summary     score  \n",
       "id                                                                  \n",
       "36469  The FBI rejected a recent White House request ...  1.000000  \n",
       "15773  High-level advisers close to then-presidential...  0.326538  \n",
       "966    <a href=\"http://www.breitbart.com/big-governme...  0.319277  \n",
       "15552  For the first time, US investigators say they ...  0.318796  \n",
       "15698  The Justice Department warned the Trump admini...  0.256764  \n",
       "15880  Hillary Clinton's former campaign aides are ap...  0.256621  \n",
       "672    <a href=\"http://www.breitbart.com/video/2017/0...  0.245172  \n",
       "8145   WASHINGTON        (AP) -- Democrats are critic...  0.227264  \n",
       "115    <a href=\"http://www.breitbart.com/video/2017/0...  0.218727  \n",
       "274    <a href=\"http://www.breitbart.com/jerusalem/20...  0.204384  "
      ]
     },
     "execution_count": 23,
     "metadata": {},
     "output_type": "execute_result"
    }
   ],
   "source": [
    "jms_docs[['title', 'summary', 'score']].head(10)"
   ]
  },
  {
   "cell_type": "code",
   "execution_count": 24,
   "metadata": {
    "collapsed": false
   },
   "outputs": [],
   "source": [
    "jms_dt_url = score_table_prep(jms_docs, filename=\"images/jms_docs_table.html\")"
   ]
  },
  {
   "cell_type": "markdown",
   "metadata": {},
   "source": [
    "### Spectral Results"
   ]
  },
  {
   "cell_type": "code",
   "execution_count": 25,
   "metadata": {
    "collapsed": false
   },
   "outputs": [],
   "source": [
    "spec_docs = results['spectral']['docs_info']\n",
    "spec_out = results['spectral']['cluster_info']\n",
    "ig = results['spectral']['igraph']"
   ]
  },
  {
   "cell_type": "code",
   "execution_count": 26,
   "metadata": {
    "collapsed": false
   },
   "outputs": [
    {
     "data": {
      "text/plain": [
       "(109, 5)"
      ]
     },
     "execution_count": 26,
     "metadata": {},
     "output_type": "execute_result"
    }
   ],
   "source": [
    "spec_docs.shape"
   ]
  },
  {
   "cell_type": "code",
   "execution_count": 27,
   "metadata": {
    "collapsed": false
   },
   "outputs": [
    {
     "name": "stdout",
     "output_type": "stream",
     "text": [
      "Nbr of docs in top 5 not from 1st wave: 1\n",
      "Nbr of docs in top 10 not from 1st wave: 1\n",
      "Nbr of docs in top 15 not from 1st wave: 2\n",
      "Nbr of docs in top 25 not from 1st wave: 5\n",
      "Nbr of docs in top 50 not from 1st wave: 19\n"
     ]
    }
   ],
   "source": [
    "for limit in [5, 10, 15, 25, 50]:\n",
    "    spec_oo1 = sum([i not in docs['l01'] for i in spec_docs.index[:limit]])\n",
    "    print(\"Nbr of docs in top {} not from 1st wave: {}\".format(limit, spec_oo1))"
   ]
  },
  {
   "cell_type": "code",
   "execution_count": 28,
   "metadata": {
    "collapsed": false
   },
   "outputs": [
    {
     "data": {
      "text/html": [
       "<div>\n",
       "<table border=\"1\" class=\"dataframe\">\n",
       "  <thead>\n",
       "    <tr style=\"text-align: right;\">\n",
       "      <th></th>\n",
       "      <th>title</th>\n",
       "      <th>summary</th>\n",
       "      <th>score</th>\n",
       "    </tr>\n",
       "    <tr>\n",
       "      <th>id</th>\n",
       "      <th></th>\n",
       "      <th></th>\n",
       "      <th></th>\n",
       "    </tr>\n",
       "  </thead>\n",
       "  <tbody>\n",
       "    <tr>\n",
       "      <th>36469</th>\n",
       "      <td>FBI refused White House request to knock down ...</td>\n",
       "      <td>The FBI rejected a recent White House request ...</td>\n",
       "      <td>1.000000</td>\n",
       "    </tr>\n",
       "    <tr>\n",
       "      <th>15773</th>\n",
       "      <td>Trump aides spoke regularly to Russian officia...</td>\n",
       "      <td>High-level advisers close to then-presidential...</td>\n",
       "      <td>0.326538</td>\n",
       "    </tr>\n",
       "    <tr>\n",
       "      <th>966</th>\n",
       "      <td>Donald Trump Denounces ‘Un-American’ Intellige...</td>\n",
       "      <td>&lt;a href=\"http://www.breitbart.com/big-governme...</td>\n",
       "      <td>0.319277</td>\n",
       "    </tr>\n",
       "    <tr>\n",
       "      <th>15552</th>\n",
       "      <td>US officials corroborate aspects of Russia dos...</td>\n",
       "      <td>For the first time, US investigators say they ...</td>\n",
       "      <td>0.318796</td>\n",
       "    </tr>\n",
       "    <tr>\n",
       "      <th>15698</th>\n",
       "      <td>White House was warned Flynn could be blackmai...</td>\n",
       "      <td>The Justice Department warned the Trump admini...</td>\n",
       "      <td>0.256764</td>\n",
       "    </tr>\n",
       "    <tr>\n",
       "      <th>15880</th>\n",
       "      <td>Former Clinton aides apoplectic over Trump cam...</td>\n",
       "      <td>Hillary Clinton's former campaign aides are ap...</td>\n",
       "      <td>0.256621</td>\n",
       "    </tr>\n",
       "    <tr>\n",
       "      <th>672</th>\n",
       "      <td>CNN’s Acosta: Trump Only Calling on Conservati...</td>\n",
       "      <td>&lt;a href=\"http://www.breitbart.com/video/2017/0...</td>\n",
       "      <td>0.245172</td>\n",
       "    </tr>\n",
       "    <tr>\n",
       "      <th>8145</th>\n",
       "      <td>Dems see disparity in handling of Clinton, Rus...</td>\n",
       "      <td>WASHINGTON        (AP) -- Democrats are critic...</td>\n",
       "      <td>0.227264</td>\n",
       "    </tr>\n",
       "    <tr>\n",
       "      <th>115</th>\n",
       "      <td>Maxine Waters: Trump’s Administration, Associa...</td>\n",
       "      <td>&lt;a href=\"http://www.breitbart.com/video/2017/0...</td>\n",
       "      <td>0.218727</td>\n",
       "    </tr>\n",
       "    <tr>\n",
       "      <th>274</th>\n",
       "      <td>KLEIN – Trump-Russia Claims Rethought: How the...</td>\n",
       "      <td>&lt;a href=\"http://www.breitbart.com/jerusalem/20...</td>\n",
       "      <td>0.204384</td>\n",
       "    </tr>\n",
       "  </tbody>\n",
       "</table>\n",
       "</div>"
      ],
      "text/plain": [
       "                                                   title  \\\n",
       "id                                                         \n",
       "36469  FBI refused White House request to knock down ...   \n",
       "15773  Trump aides spoke regularly to Russian officia...   \n",
       "966    Donald Trump Denounces ‘Un-American’ Intellige...   \n",
       "15552  US officials corroborate aspects of Russia dos...   \n",
       "15698  White House was warned Flynn could be blackmai...   \n",
       "15880  Former Clinton aides apoplectic over Trump cam...   \n",
       "672    CNN’s Acosta: Trump Only Calling on Conservati...   \n",
       "8145   Dems see disparity in handling of Clinton, Rus...   \n",
       "115    Maxine Waters: Trump’s Administration, Associa...   \n",
       "274    KLEIN – Trump-Russia Claims Rethought: How the...   \n",
       "\n",
       "                                                 summary     score  \n",
       "id                                                                  \n",
       "36469  The FBI rejected a recent White House request ...  1.000000  \n",
       "15773  High-level advisers close to then-presidential...  0.326538  \n",
       "966    <a href=\"http://www.breitbart.com/big-governme...  0.319277  \n",
       "15552  For the first time, US investigators say they ...  0.318796  \n",
       "15698  The Justice Department warned the Trump admini...  0.256764  \n",
       "15880  Hillary Clinton's former campaign aides are ap...  0.256621  \n",
       "672    <a href=\"http://www.breitbart.com/video/2017/0...  0.245172  \n",
       "8145   WASHINGTON        (AP) -- Democrats are critic...  0.227264  \n",
       "115    <a href=\"http://www.breitbart.com/video/2017/0...  0.218727  \n",
       "274    <a href=\"http://www.breitbart.com/jerusalem/20...  0.204384  "
      ]
     },
     "execution_count": 28,
     "metadata": {},
     "output_type": "execute_result"
    }
   ],
   "source": [
    "spec_docs[['title', 'summary', 'score']].head(10)"
   ]
  },
  {
   "cell_type": "code",
   "execution_count": 29,
   "metadata": {
    "collapsed": false
   },
   "outputs": [],
   "source": [
    "spec_dt_url = score_table_prep(spec_docs, filename=\"images/spec_docs_table.html\")"
   ]
  },
  {
   "cell_type": "code",
   "execution_count": 30,
   "metadata": {
    "collapsed": false
   },
   "outputs": [
    {
     "data": {
      "text/plain": [
       "igraph.Vertex(<igraph.Graph object at 0x7f7e85f294f8>, 0, {'name': '0', 'label': 'Winners: Tom Brady’s Donald Trump Friendship in Spotlight as Super Bowl Looms', 'group': 0})"
      ]
     },
     "execution_count": 30,
     "metadata": {},
     "output_type": "execute_result"
    }
   ],
   "source": [
    "ig.vs[0]"
   ]
  },
  {
   "cell_type": "code",
   "execution_count": 34,
   "metadata": {
    "collapsed": false
   },
   "outputs": [
    {
     "data": {
      "text/plain": [
       "<module 'graph_plot_utils' from '/home/immersinn/gits/rssfeed_link_collector/src/graph_plot_utils.py'>"
      ]
     },
     "execution_count": 34,
     "metadata": {},
     "output_type": "execute_result"
    }
   ],
   "source": [
    "reload(graph_plot_utils)"
   ]
  },
  {
   "cell_type": "code",
   "execution_count": 35,
   "metadata": {
    "collapsed": false
   },
   "outputs": [],
   "source": [
    "fig = graph_plot_utils.create_graph_fig(ig, show_groups=True)"
   ]
  },
  {
   "cell_type": "code",
   "execution_count": 36,
   "metadata": {
    "collapsed": false
   },
   "outputs": [
    {
     "data": {
      "application/vnd.plotly.v1+json": {
       "data": [
        {
         "hoverinfo": "none",
         "line": {
          "color": "#888",
          "width": 1.115282557992097
         },
         "mode": "lines",
         "type": "scatter",
         "x": [
          -11.355176247912755,
          -10.483350600146865
         ],
         "y": [
          13.682171823284031,
          13.87370946702034
         ]
        },
        {
         "hoverinfo": "none",
         "line": {
          "color": "#888",
          "width": 1.2440474851518823
         },
         "mode": "lines",
         "type": "scatter",
         "x": [
          -3.3609183195267143,
          -3.684136594292169
         ],
         "y": [
          16.678399283326424,
          15.828362727646057
         ]
        },
        {
         "hoverinfo": "none",
         "line": {
          "color": "#888",
          "width": 1.1005697410928188
         },
         "mode": "lines",
         "type": "scatter",
         "x": [
          -3.3609183195267143,
          -4.223973842704066
         ],
         "y": [
          16.678399283326424,
          16.553054912084303
         ]
        },
        {
         "hoverinfo": "none",
         "line": {
          "color": "#888",
          "width": 2.57796079280327
         },
         "mode": "lines",
         "type": "scatter",
         "x": [
          -13.713867049753938,
          -13.72503864579122
         ],
         "y": [
          21.32277923138798,
          20.752200827459543
         ]
        },
        {
         "hoverinfo": "none",
         "line": {
          "color": "#888",
          "width": 1.688432886253182
         },
         "mode": "lines",
         "type": "scatter",
         "x": [
          -13.713867049753938,
          -12.95422029598588
         ],
         "y": [
          21.32277923138798,
          22.173012221957887
         ]
        },
        {
         "hoverinfo": "none",
         "line": {
          "color": "#888",
          "width": 1.2257949000301616
         },
         "mode": "lines",
         "type": "scatter",
         "x": [
          -13.713867049753938,
          -13.889868260640972
         ],
         "y": [
          21.32277923138798,
          20.43968106318603
         ]
        },
        {
         "hoverinfo": "none",
         "line": {
          "color": "#888",
          "width": 1.0391568865601106
         },
         "mode": "lines",
         "type": "scatter",
         "x": [
          -13.713867049753938,
          -13.469602721182888
         ],
         "y": [
          21.32277923138798,
          21.366730828241682
         ]
        },
        {
         "hoverinfo": "none",
         "line": {
          "color": "#888",
          "width": 2.2116175509868015
         },
         "mode": "lines",
         "type": "scatter",
         "x": [
          -13.713867049753938,
          -13.421282842315208
         ],
         "y": [
          21.32277923138798,
          20.731208327312252
         ]
        },
        {
         "hoverinfo": "none",
         "line": {
          "color": "#888",
          "width": 1.0146110052408288
         },
         "mode": "lines",
         "type": "scatter",
         "x": [
          -13.713867049753938,
          -13.488239384273696
         ],
         "y": [
          21.32277923138798,
          22.052657171590635
         ]
        },
        {
         "hoverinfo": "none",
         "line": {
          "color": "#888",
          "width": 1.0658626000410127
         },
         "mode": "lines",
         "type": "scatter",
         "x": [
          -13.713867049753938,
          -14.311419458172569
         ],
         "y": [
          21.32277923138798,
          19.971822262725137
         ]
        },
        {
         "hoverinfo": "none",
         "line": {
          "color": "#888",
          "width": 1.9540570469077267
         },
         "mode": "lines",
         "type": "scatter",
         "x": [
          -13.713867049753938,
          -13.197102179360037
         ],
         "y": [
          21.32277923138798,
          20.446227226217555
         ]
        },
        {
         "hoverinfo": "none",
         "line": {
          "color": "#888",
          "width": 2.5970015432787803
         },
         "mode": "lines",
         "type": "scatter",
         "x": [
          -13.713867049753938,
          -12.850718139242009
         ],
         "y": [
          21.32277923138798,
          20.929101940708783
         ]
        },
        {
         "hoverinfo": "none",
         "line": {
          "color": "#888",
          "width": 1.0701516595661367
         },
         "mode": "lines",
         "type": "scatter",
         "x": [
          -13.713867049753938,
          -13.427726029882152
         ],
         "y": [
          21.32277923138798,
          21.052187341494502
         ]
        },
        {
         "hoverinfo": "none",
         "line": {
          "color": "#888",
          "width": 1.3700281403734758
         },
         "mode": "lines",
         "type": "scatter",
         "x": [
          -13.713867049753938,
          -13.584146493457986
         ],
         "y": [
          21.32277923138798,
          21.910867822678476
         ]
        },
        {
         "hoverinfo": "none",
         "line": {
          "color": "#888",
          "width": 1.131212427299267
         },
         "mode": "lines",
         "type": "scatter",
         "x": [
          -13.713867049753938,
          -12.907640754729615
         ],
         "y": [
          21.32277923138798,
          20.469607616408755
         ]
        },
        {
         "hoverinfo": "none",
         "line": {
          "color": "#888",
          "width": 1.1525315474835547
         },
         "mode": "lines",
         "type": "scatter",
         "x": [
          -13.713867049753938,
          -13.046705351336772
         ],
         "y": [
          21.32277923138798,
          20.77588764099713
         ]
        },
        {
         "hoverinfo": "none",
         "line": {
          "color": "#888",
          "width": 1.0835943663577714
         },
         "mode": "lines",
         "type": "scatter",
         "x": [
          -13.713867049753938,
          -12.608722745064354
         ],
         "y": [
          21.32277923138798,
          21.38991608678275
         ]
        },
        {
         "hoverinfo": "none",
         "line": {
          "color": "#888",
          "width": 1.1089762962374756
         },
         "mode": "lines",
         "type": "scatter",
         "x": [
          -13.713867049753938,
          -14.424618497382848
         ],
         "y": [
          21.32277923138798,
          22.43415239791516
         ]
        },
        {
         "hoverinfo": "none",
         "line": {
          "color": "#888",
          "width": 2.566209840487566
         },
         "mode": "lines",
         "type": "scatter",
         "x": [
          -13.713867049753938,
          -12.910843834401481
         ],
         "y": [
          21.32277923138798,
          21.01436659376408
         ]
        },
        {
         "hoverinfo": "none",
         "line": {
          "color": "#888",
          "width": 1.8558220971677355
         },
         "mode": "lines",
         "type": "scatter",
         "x": [
          -13.713867049753938,
          -13.7703511169154
         ],
         "y": [
          21.32277923138798,
          21.085508206964032
         ]
        },
        {
         "hoverinfo": "none",
         "line": {
          "color": "#888",
          "width": 1.3967176642256418
         },
         "mode": "lines",
         "type": "scatter",
         "x": [
          -13.713867049753938,
          -13.991559819591165
         ],
         "y": [
          21.32277923138798,
          20.390716009399764
         ]
        },
        {
         "hoverinfo": "none",
         "line": {
          "color": "#888",
          "width": 1.0013450411217402
         },
         "mode": "lines",
         "type": "scatter",
         "x": [
          -13.713867049753938,
          -13.23643931550353
         ],
         "y": [
          21.32277923138798,
          20.945151973986814
         ]
        },
        {
         "hoverinfo": "none",
         "line": {
          "color": "#888",
          "width": 2.594732521752629
         },
         "mode": "lines",
         "type": "scatter",
         "x": [
          -13.713867049753938,
          -13.030036553810685
         ],
         "y": [
          21.32277923138798,
          21.519701600461545
         ]
        },
        {
         "hoverinfo": "none",
         "line": {
          "color": "#888",
          "width": 1.125722206490517
         },
         "mode": "lines",
         "type": "scatter",
         "x": [
          -13.713867049753938,
          -13.007084255175895
         ],
         "y": [
          21.32277923138798,
          21.86972207748751
         ]
        },
        {
         "hoverinfo": "none",
         "line": {
          "color": "#888",
          "width": 1.4856575845695517
         },
         "mode": "lines",
         "type": "scatter",
         "x": [
          -13.713867049753938,
          -12.734203853902583
         ],
         "y": [
          21.32277923138798,
          21.55340460756357
         ]
        },
        {
         "hoverinfo": "none",
         "line": {
          "color": "#888",
          "width": 1.9203746711802538
         },
         "mode": "lines",
         "type": "scatter",
         "x": [
          -13.713867049753938,
          -13.272428838714013
         ],
         "y": [
          21.32277923138798,
          21.97460394894528
         ]
        },
        {
         "hoverinfo": "none",
         "line": {
          "color": "#888",
          "width": 1.8380743319748538
         },
         "mode": "lines",
         "type": "scatter",
         "x": [
          -13.713867049753938,
          -12.77601031504658
         ],
         "y": [
          21.32277923138798,
          21.12541781408756
         ]
        },
        {
         "hoverinfo": "none",
         "line": {
          "color": "#888",
          "width": 1.139791026075272
         },
         "mode": "lines",
         "type": "scatter",
         "x": [
          -13.713867049753938,
          -14.498939637577397
         ],
         "y": [
          21.32277923138798,
          22.044399357519538
         ]
        },
        {
         "hoverinfo": "none",
         "line": {
          "color": "#888",
          "width": 1.2012258368689315
         },
         "mode": "lines",
         "type": "scatter",
         "x": [
          -11.40201413065946,
          -11.897670571538791
         ],
         "y": [
          24.523596583004885,
          23.71837686093763
         ]
        },
        {
         "hoverinfo": "none",
         "line": {
          "color": "#888",
          "width": 1.0782829460041476
         },
         "mode": "lines",
         "type": "scatter",
         "x": [
          -14.018918630615032,
          -14.858379268270992
         ],
         "y": [
          21.72493113956793,
          21.526061738550137
         ]
        },
        {
         "hoverinfo": "none",
         "line": {
          "color": "#888",
          "width": 1.316503749556375
         },
         "mode": "lines",
         "type": "scatter",
         "x": [
          -14.018918630615032,
          -12.850718139242009
         ],
         "y": [
          21.72493113956793,
          20.929101940708783
         ]
        },
        {
         "hoverinfo": "none",
         "line": {
          "color": "#888",
          "width": 1.0300976654409664
         },
         "mode": "lines",
         "type": "scatter",
         "x": [
          -14.018918630615032,
          -15.185335092491869
         ],
         "y": [
          21.72493113956793,
          21.033890967174504
         ]
        },
        {
         "hoverinfo": "none",
         "line": {
          "color": "#888",
          "width": 1.3322819258072858
         },
         "mode": "lines",
         "type": "scatter",
         "x": [
          -14.018918630615032,
          -12.629951858941117
         ],
         "y": [
          21.72493113956793,
          20.42458920482799
         ]
        },
        {
         "hoverinfo": "none",
         "line": {
          "color": "#888",
          "width": 1.013889391058027
         },
         "mode": "lines",
         "type": "scatter",
         "x": [
          -14.018918630615032,
          -14.986087504472923
         ],
         "y": [
          21.72493113956793,
          22.39991748096667
         ]
        },
        {
         "hoverinfo": "none",
         "line": {
          "color": "#888",
          "width": 1.3015663196802976
         },
         "mode": "lines",
         "type": "scatter",
         "x": [
          -14.018918630615032,
          -12.910843834401481
         ],
         "y": [
          21.72493113956793,
          21.01436659376408
         ]
        },
        {
         "hoverinfo": "none",
         "line": {
          "color": "#888",
          "width": 1.2440474851518823
         },
         "mode": "lines",
         "type": "scatter",
         "x": [
          -3.3609183195267143,
          -3.684136594292169
         ],
         "y": [
          16.678399283326424,
          15.828362727646057
         ]
        },
        {
         "hoverinfo": "none",
         "line": {
          "color": "#888",
          "width": 1.000820496717732
         },
         "mode": "lines",
         "type": "scatter",
         "x": [
          -3.684136594292169,
          -4.584947224697205
         ],
         "y": [
          15.828362727646057,
          15.71948327575617
         ]
        },
        {
         "hoverinfo": "none",
         "line": {
          "color": "#888",
          "width": 1.141494085803745
         },
         "mode": "lines",
         "type": "scatter",
         "x": [
          -3.684136594292169,
          -4.223973842704066
         ],
         "y": [
          15.828362727646057,
          16.553054912084303
         ]
        },
        {
         "hoverinfo": "none",
         "line": {
          "color": "#888",
          "width": 2.57796079280327
         },
         "mode": "lines",
         "type": "scatter",
         "x": [
          -13.713867049753938,
          -13.72503864579122
         ],
         "y": [
          21.32277923138798,
          20.752200827459543
         ]
        },
        {
         "hoverinfo": "none",
         "line": {
          "color": "#888",
          "width": 1.6462838852561803
         },
         "mode": "lines",
         "type": "scatter",
         "x": [
          -13.72503864579122,
          -12.95422029598588
         ],
         "y": [
          20.752200827459543,
          22.173012221957887
         ]
        },
        {
         "hoverinfo": "none",
         "line": {
          "color": "#888",
          "width": 1.0898044016075892
         },
         "mode": "lines",
         "type": "scatter",
         "x": [
          -13.72503864579122,
          -13.469602721182888
         ],
         "y": [
          20.752200827459543,
          21.366730828241682
         ]
        },
        {
         "hoverinfo": "none",
         "line": {
          "color": "#888",
          "width": 1.5516215965526432
         },
         "mode": "lines",
         "type": "scatter",
         "x": [
          -13.72503864579122,
          -13.421282842315208
         ],
         "y": [
          20.752200827459543,
          20.731208327312252
         ]
        },
        {
         "hoverinfo": "none",
         "line": {
          "color": "#888",
          "width": 1.056647300658568
         },
         "mode": "lines",
         "type": "scatter",
         "x": [
          -13.72503864579122,
          -13.197102179360037
         ],
         "y": [
          20.752200827459543,
          20.446227226217555
         ]
        },
        {
         "hoverinfo": "none",
         "line": {
          "color": "#888",
          "width": 1.9040831646216727
         },
         "mode": "lines",
         "type": "scatter",
         "x": [
          -13.72503864579122,
          -12.850718139242009
         ],
         "y": [
          20.752200827459543,
          20.929101940708783
         ]
        },
        {
         "hoverinfo": "none",
         "line": {
          "color": "#888",
          "width": 1.3893448469619396
         },
         "mode": "lines",
         "type": "scatter",
         "x": [
          -13.72503864579122,
          -13.85101503582916
         ],
         "y": [
          20.752200827459543,
          19.70968323427432
         ]
        },
        {
         "hoverinfo": "none",
         "line": {
          "color": "#888",
          "width": 1.1821213295208606
         },
         "mode": "lines",
         "type": "scatter",
         "x": [
          -13.72503864579122,
          -12.907640754729615
         ],
         "y": [
          20.752200827459543,
          20.469607616408755
         ]
        },
        {
         "hoverinfo": "none",
         "line": {
          "color": "#888",
          "width": 1.2848271338362474
         },
         "mode": "lines",
         "type": "scatter",
         "x": [
          -13.72503864579122,
          -13.046705351336772
         ],
         "y": [
          20.752200827459543,
          20.77588764099713
         ]
        },
        {
         "hoverinfo": "none",
         "line": {
          "color": "#888",
          "width": 1.0390646546923523
         },
         "mode": "lines",
         "type": "scatter",
         "x": [
          -13.72503864579122,
          -13.485752324101506
         ],
         "y": [
          20.752200827459543,
          19.465977412591247
         ]
        },
        {
         "hoverinfo": "none",
         "line": {
          "color": "#888",
          "width": 1.8814560634855202
         },
         "mode": "lines",
         "type": "scatter",
         "x": [
          -13.72503864579122,
          -12.910843834401481
         ],
         "y": [
          20.752200827459543,
          21.01436659376408
         ]
        },
        {
         "hoverinfo": "none",
         "line": {
          "color": "#888",
          "width": 1.5971025916330828
         },
         "mode": "lines",
         "type": "scatter",
         "x": [
          -13.72503864579122,
          -13.7703511169154
         ],
         "y": [
          20.752200827459543,
          21.085508206964032
         ]
        },
        {
         "hoverinfo": "none",
         "line": {
          "color": "#888",
          "width": 1.1569261667352864
         },
         "mode": "lines",
         "type": "scatter",
         "x": [
          -13.72503864579122,
          -13.991559819591165
         ],
         "y": [
          20.752200827459543,
          20.390716009399764
         ]
        },
        {
         "hoverinfo": "none",
         "line": {
          "color": "#888",
          "width": 1.097869395831777
         },
         "mode": "lines",
         "type": "scatter",
         "x": [
          -13.72503864579122,
          -15.195076323567228
         ],
         "y": [
          20.752200827459543,
          20.79969237926028
         ]
        },
        {
         "hoverinfo": "none",
         "line": {
          "color": "#888",
          "width": 2.1605356418869786
         },
         "mode": "lines",
         "type": "scatter",
         "x": [
          -13.72503864579122,
          -13.030036553810685
         ],
         "y": [
          20.752200827459543,
          21.519701600461545
         ]
        },
        {
         "hoverinfo": "none",
         "line": {
          "color": "#888",
          "width": 1.2420276032284574
         },
         "mode": "lines",
         "type": "scatter",
         "x": [
          -13.72503864579122,
          -13.007084255175895
         ],
         "y": [
          20.752200827459543,
          21.86972207748751
         ]
        },
        {
         "hoverinfo": "none",
         "line": {
          "color": "#888",
          "width": 1.3210428627216877
         },
         "mode": "lines",
         "type": "scatter",
         "x": [
          -13.72503864579122,
          -12.77601031504658
         ],
         "y": [
          20.752200827459543,
          21.12541781408756
         ]
        },
        {
         "hoverinfo": "none",
         "line": {
          "color": "#888",
          "width": 1.0221615441390333
         },
         "mode": "lines",
         "type": "scatter",
         "x": [
          -5.5606868628221475,
          -5.7850883907942015
         ],
         "y": [
          21.621054958225788,
          22.47767071441628
         ]
        },
        {
         "hoverinfo": "none",
         "line": {
          "color": "#888",
          "width": 1.688432886253182
         },
         "mode": "lines",
         "type": "scatter",
         "x": [
          -13.713867049753938,
          -12.95422029598588
         ],
         "y": [
          21.32277923138798,
          22.173012221957887
         ]
        },
        {
         "hoverinfo": "none",
         "line": {
          "color": "#888",
          "width": 1.6462838852561803
         },
         "mode": "lines",
         "type": "scatter",
         "x": [
          -13.72503864579122,
          -12.95422029598588
         ],
         "y": [
          20.752200827459543,
          22.173012221957887
         ]
        },
        {
         "hoverinfo": "none",
         "line": {
          "color": "#888",
          "width": 1.0243173114834625
         },
         "mode": "lines",
         "type": "scatter",
         "x": [
          -12.95422029598588,
          -13.488239384273696
         ],
         "y": [
          22.173012221957887,
          22.052657171590635
         ]
        },
        {
         "hoverinfo": "none",
         "line": {
          "color": "#888",
          "width": 1.7510529183333121
         },
         "mode": "lines",
         "type": "scatter",
         "x": [
          -12.95422029598588,
          -12.850718139242009
         ],
         "y": [
          22.173012221957887,
          20.929101940708783
         ]
        },
        {
         "hoverinfo": "none",
         "line": {
          "color": "#888",
          "width": 1.39459880184587
         },
         "mode": "lines",
         "type": "scatter",
         "x": [
          -12.95422029598588,
          -13.046705351336772
         ],
         "y": [
          22.173012221957887,
          20.77588764099713
         ]
        },
        {
         "hoverinfo": "none",
         "line": {
          "color": "#888",
          "width": 1.1398534458016778
         },
         "mode": "lines",
         "type": "scatter",
         "x": [
          -12.95422029598588,
          -12.608722745064354
         ],
         "y": [
          22.173012221957887,
          21.38991608678275
         ]
        },
        {
         "hoverinfo": "none",
         "line": {
          "color": "#888",
          "width": 1.013897428648376
         },
         "mode": "lines",
         "type": "scatter",
         "x": [
          -12.95422029598588,
          -12.548259461364738
         ],
         "y": [
          22.173012221957887,
          23.299629798486237
         ]
        },
        {
         "hoverinfo": "none",
         "line": {
          "color": "#888",
          "width": 1.0435661629413735
         },
         "mode": "lines",
         "type": "scatter",
         "x": [
          -12.95422029598588,
          -12.938629206266983
         ],
         "y": [
          22.173012221957887,
          23.42759014175165
         ]
        },
        {
         "hoverinfo": "none",
         "line": {
          "color": "#888",
          "width": 1.7937621694778214
         },
         "mode": "lines",
         "type": "scatter",
         "x": [
          -12.95422029598588,
          -12.910843834401481
         ],
         "y": [
          22.173012221957887,
          21.01436659376408
         ]
        },
        {
         "hoverinfo": "none",
         "line": {
          "color": "#888",
          "width": 1.0478064520326373
         },
         "mode": "lines",
         "type": "scatter",
         "x": [
          -12.95422029598588,
          -13.78065772681429
         ],
         "y": [
          22.173012221957887,
          23.09455563508934
         ]
        },
        {
         "hoverinfo": "none",
         "line": {
          "color": "#888",
          "width": 1.8961156323569186
         },
         "mode": "lines",
         "type": "scatter",
         "x": [
          -12.95422029598588,
          -13.030036553810685
         ],
         "y": [
          22.173012221957887,
          21.519701600461545
         ]
        },
        {
         "hoverinfo": "none",
         "line": {
          "color": "#888",
          "width": 1.000399796657459
         },
         "mode": "lines",
         "type": "scatter",
         "x": [
          -12.95422029598588,
          -12.0448503313882
         ],
         "y": [
          22.173012221957887,
          21.57539053726569
         ]
        },
        {
         "hoverinfo": "none",
         "line": {
          "color": "#888",
          "width": 1.2257949000301616
         },
         "mode": "lines",
         "type": "scatter",
         "x": [
          -13.713867049753938,
          -13.889868260640972
         ],
         "y": [
          21.32277923138798,
          20.43968106318603
         ]
        },
        {
         "hoverinfo": "none",
         "line": {
          "color": "#888",
          "width": 1.1894159615287128
         },
         "mode": "lines",
         "type": "scatter",
         "x": [
          -13.889868260640972,
          -13.469602721182888
         ],
         "y": [
          20.43968106318603,
          21.366730828241682
         ]
        },
        {
         "hoverinfo": "none",
         "line": {
          "color": "#888",
          "width": 1.0391893033339408
         },
         "mode": "lines",
         "type": "scatter",
         "x": [
          -13.889868260640972,
          -13.421282842315208
         ],
         "y": [
          20.43968106318603,
          20.731208327312252
         ]
        },
        {
         "hoverinfo": "none",
         "line": {
          "color": "#888",
          "width": 1.1543609904258387
         },
         "mode": "lines",
         "type": "scatter",
         "x": [
          -13.889868260640972,
          -12.88079425450245
         ],
         "y": [
          20.43968106318603,
          20.00414689876472
         ]
        },
        {
         "hoverinfo": "none",
         "line": {
          "color": "#888",
          "width": 1.257201928708477
         },
         "mode": "lines",
         "type": "scatter",
         "x": [
          -13.889868260640972,
          -14.858379268270992
         ],
         "y": [
          20.43968106318603,
          21.526061738550137
         ]
        },
        {
         "hoverinfo": "none",
         "line": {
          "color": "#888",
          "width": 1.1269075202535626
         },
         "mode": "lines",
         "type": "scatter",
         "x": [
          -13.889868260640972,
          -12.850718139242009
         ],
         "y": [
          20.43968106318603,
          20.929101940708783
         ]
        },
        {
         "hoverinfo": "none",
         "line": {
          "color": "#888",
          "width": 1.0103215443084737
         },
         "mode": "lines",
         "type": "scatter",
         "x": [
          -13.889868260640972,
          -15.185335092491869
         ],
         "y": [
          20.43968106318603,
          21.033890967174504
         ]
        },
        {
         "hoverinfo": "none",
         "line": {
          "color": "#888",
          "width": 1.0829103671353115
         },
         "mode": "lines",
         "type": "scatter",
         "x": [
          -13.889868260640972,
          -13.537096610506756
         ],
         "y": [
          20.43968106318603,
          19.92320307519968
         ]
        },
        {
         "hoverinfo": "none",
         "line": {
          "color": "#888",
          "width": 1.0446384886259727
         },
         "mode": "lines",
         "type": "scatter",
         "x": [
          -13.889868260640972,
          -14.005021731026002
         ],
         "y": [
          20.43968106318603,
          21.876050068264206
         ]
        },
        {
         "hoverinfo": "none",
         "line": {
          "color": "#888",
          "width": 1.205932253920299
         },
         "mode": "lines",
         "type": "scatter",
         "x": [
          -13.889868260640972,
          -13.85101503582916
         ],
         "y": [
          20.43968106318603,
          19.70968323427432
         ]
        },
        {
         "hoverinfo": "none",
         "line": {
          "color": "#888",
          "width": 1.0679677767616238
         },
         "mode": "lines",
         "type": "scatter",
         "x": [
          -13.889868260640972,
          -13.046705351336772
         ],
         "y": [
          20.43968106318603,
          20.77588764099713
         ]
        },
        {
         "hoverinfo": "none",
         "line": {
          "color": "#888",
          "width": 1.2391513453871246
         },
         "mode": "lines",
         "type": "scatter",
         "x": [
          -13.889868260640972,
          -12.918576723501182
         ],
         "y": [
          20.43968106318603,
          19.762632785571746
         ]
        },
        {
         "hoverinfo": "none",
         "line": {
          "color": "#888",
          "width": 1.0103277113363722
         },
         "mode": "lines",
         "type": "scatter",
         "x": [
          -13.889868260640972,
          -13.485752324101506
         ],
         "y": [
          20.43968106318603,
          19.465977412591247
         ]
        },
        {
         "hoverinfo": "none",
         "line": {
          "color": "#888",
          "width": 1.1074856560433903
         },
         "mode": "lines",
         "type": "scatter",
         "x": [
          -13.889868260640972,
          -13.351672055886201
         ],
         "y": [
          20.43968106318603,
          19.867140863497806
         ]
        },
        {
         "hoverinfo": "none",
         "line": {
          "color": "#888",
          "width": 1.1107805467841665
         },
         "mode": "lines",
         "type": "scatter",
         "x": [
          -13.889868260640972,
          -12.910843834401481
         ],
         "y": [
          20.43968106318603,
          21.01436659376408
         ]
        },
        {
         "hoverinfo": "none",
         "line": {
          "color": "#888",
          "width": 1.0025563006527958
         },
         "mode": "lines",
         "type": "scatter",
         "x": [
          -11.722208057949885,
          -12.850718139242009
         ],
         "y": [
          20.221982900095632,
          20.929101940708783
         ]
        },
        {
         "hoverinfo": "none",
         "line": {
          "color": "#888",
          "width": 1.074719847328358
         },
         "mode": "lines",
         "type": "scatter",
         "x": [
          -11.722208057949885,
          -10.917791500255126
         ],
         "y": [
          20.221982900095632,
          19.742127029568135
         ]
        },
        {
         "hoverinfo": "none",
         "line": {
          "color": "#888",
          "width": 1.1563698198762682
         },
         "mode": "lines",
         "type": "scatter",
         "x": [
          -11.722208057949885,
          -10.990246823384478
         ],
         "y": [
          20.221982900095632,
          19.324611435865272
         ]
        },
        {
         "hoverinfo": "none",
         "line": {
          "color": "#888",
          "width": 1.5760945006102047
         },
         "mode": "lines",
         "type": "scatter",
         "x": [
          -11.722208057949885,
          -10.58466903998632
         ],
         "y": [
          20.221982900095632,
          20.122288006184224
         ]
        },
        {
         "hoverinfo": "none",
         "line": {
          "color": "#888",
          "width": 1.4590317114047062
         },
         "mode": "lines",
         "type": "scatter",
         "x": [
          -11.722208057949885,
          -11.573787898129877
         ],
         "y": [
          20.221982900095632,
          20.603582672482666
         ]
        },
        {
         "hoverinfo": "none",
         "line": {
          "color": "#888",
          "width": 1.1648818215959975
         },
         "mode": "lines",
         "type": "scatter",
         "x": [
          -14.838886373833402,
          -13.979715599240638
         ],
         "y": [
          19.128537172554875,
          19.090615747944213
         ]
        },
        {
         "hoverinfo": "none",
         "line": {
          "color": "#888",
          "width": 1.01777505967313
         },
         "mode": "lines",
         "type": "scatter",
         "x": [
          -14.838886373833402,
          -14.550581404051927
         ],
         "y": [
          19.128537172554875,
          19.624642271113515
         ]
        },
        {
         "hoverinfo": "none",
         "line": {
          "color": "#888",
          "width": 1.12938419146808
         },
         "mode": "lines",
         "type": "scatter",
         "x": [
          -14.838886373833402,
          -14.311419458172569
         ],
         "y": [
          19.128537172554875,
          19.971822262725137
         ]
        },
        {
         "hoverinfo": "none",
         "line": {
          "color": "#888",
          "width": 1.0249025539761067
         },
         "mode": "lines",
         "type": "scatter",
         "x": [
          -14.838886373833402,
          -13.85101503582916
         ],
         "y": [
          19.128537172554875,
          19.70968323427432
         ]
        },
        {
         "hoverinfo": "none",
         "line": {
          "color": "#888",
          "width": 1.0391568865601106
         },
         "mode": "lines",
         "type": "scatter",
         "x": [
          -13.713867049753938,
          -13.469602721182888
         ],
         "y": [
          21.32277923138798,
          21.366730828241682
         ]
        },
        {
         "hoverinfo": "none",
         "line": {
          "color": "#888",
          "width": 1.0898044016075892
         },
         "mode": "lines",
         "type": "scatter",
         "x": [
          -13.72503864579122,
          -13.469602721182888
         ],
         "y": [
          20.752200827459543,
          21.366730828241682
         ]
        },
        {
         "hoverinfo": "none",
         "line": {
          "color": "#888",
          "width": 1.1894159615287128
         },
         "mode": "lines",
         "type": "scatter",
         "x": [
          -13.889868260640972,
          -13.469602721182888
         ],
         "y": [
          20.43968106318603,
          21.366730828241682
         ]
        },
        {
         "hoverinfo": "none",
         "line": {
          "color": "#888",
          "width": 1.519327217101608
         },
         "mode": "lines",
         "type": "scatter",
         "x": [
          -13.469602721182888,
          -13.421282842315208
         ],
         "y": [
          21.366730828241682,
          20.731208327312252
         ]
        },
        {
         "hoverinfo": "none",
         "line": {
          "color": "#888",
          "width": 1.0172628459319746
         },
         "mode": "lines",
         "type": "scatter",
         "x": [
          -13.469602721182888,
          -14.858379268270992
         ],
         "y": [
          21.366730828241682,
          21.526061738550137
         ]
        },
        {
         "hoverinfo": "none",
         "line": {
          "color": "#888",
          "width": 1.1856272885034096
         },
         "mode": "lines",
         "type": "scatter",
         "x": [
          -13.469602721182888,
          -13.197102179360037
         ],
         "y": [
          21.366730828241682,
          20.446227226217555
         ]
        },
        {
         "hoverinfo": "none",
         "line": {
          "color": "#888",
          "width": 1.9291399195771364
         },
         "mode": "lines",
         "type": "scatter",
         "x": [
          -13.469602721182888,
          -12.850718139242009
         ],
         "y": [
          21.366730828241682,
          20.929101940708783
         ]
        },
        {
         "hoverinfo": "none",
         "line": {
          "color": "#888",
          "width": 1.1609738192550456
         },
         "mode": "lines",
         "type": "scatter",
         "x": [
          -13.469602721182888,
          -13.584146493457986
         ],
         "y": [
          21.366730828241682,
          21.910867822678476
         ]
        },
        {
         "hoverinfo": "none",
         "line": {
          "color": "#888",
          "width": 1.2804779185775017
         },
         "mode": "lines",
         "type": "scatter",
         "x": [
          -13.469602721182888,
          -12.907640754729615
         ],
         "y": [
          21.366730828241682,
          20.469607616408755
         ]
        },
        {
         "hoverinfo": "none",
         "line": {
          "color": "#888",
          "width": 1.2091363920549865
         },
         "mode": "lines",
         "type": "scatter",
         "x": [
          -13.469602721182888,
          -13.046705351336772
         ],
         "y": [
          21.366730828241682,
          20.77588764099713
         ]
        },
        {
         "hoverinfo": "none",
         "line": {
          "color": "#888",
          "width": 1.0639997301915696
         },
         "mode": "lines",
         "type": "scatter",
         "x": [
          -13.469602721182888,
          -13.551675742174377
         ],
         "y": [
          21.366730828241682,
          20.329212509114274
         ]
        },
        {
         "hoverinfo": "none",
         "line": {
          "color": "#888",
          "width": 1.9066601669415097
         },
         "mode": "lines",
         "type": "scatter",
         "x": [
          -13.469602721182888,
          -12.910843834401481
         ],
         "y": [
          21.366730828241682,
          21.01436659376408
         ]
        },
        {
         "hoverinfo": "none",
         "line": {
          "color": "#888",
          "width": 1.6347214072895269
         },
         "mode": "lines",
         "type": "scatter",
         "x": [
          -13.469602721182888,
          -13.7703511169154
         ],
         "y": [
          21.366730828241682,
          21.085508206964032
         ]
        },
        {
         "hoverinfo": "none",
         "line": {
          "color": "#888",
          "width": 1.2278487481778746
         },
         "mode": "lines",
         "type": "scatter",
         "x": [
          -13.469602721182888,
          -13.030036553810685
         ],
         "y": [
          21.366730828241682,
          21.519701600461545
         ]
        },
        {
         "hoverinfo": "none",
         "line": {
          "color": "#888",
          "width": 1.0943983333337945
         },
         "mode": "lines",
         "type": "scatter",
         "x": [
          -13.469602721182888,
          -13.007084255175895
         ],
         "y": [
          21.366730828241682,
          21.86972207748751
         ]
        },
        {
         "hoverinfo": "none",
         "line": {
          "color": "#888",
          "width": 1.6196872997136325
         },
         "mode": "lines",
         "type": "scatter",
         "x": [
          -13.469602721182888,
          -14.197638723341639
         ],
         "y": [
          21.366730828241682,
          21.267662103421003
         ]
        },
        {
         "hoverinfo": "none",
         "line": {
          "color": "#888",
          "width": 1.295861474926493
         },
         "mode": "lines",
         "type": "scatter",
         "x": [
          -13.469602721182888,
          -12.734203853902583
         ],
         "y": [
          21.366730828241682,
          21.55340460756357
         ]
        },
        {
         "hoverinfo": "none",
         "line": {
          "color": "#888",
          "width": 1.1099042947056785
         },
         "mode": "lines",
         "type": "scatter",
         "x": [
          -13.469602721182888,
          -12.77601031504658
         ],
         "y": [
          21.366730828241682,
          21.12541781408756
         ]
        },
        {
         "hoverinfo": "none",
         "line": {
          "color": "#888",
          "width": 1.3857138204432617
         },
         "mode": "lines",
         "type": "scatter",
         "x": [
          -13.469602721182888,
          -12.800082302337206
         ],
         "y": [
          21.366730828241682,
          21.797200858097636
         ]
        },
        {
         "hoverinfo": "none",
         "line": {
          "color": "#888",
          "width": 2.2116175509868015
         },
         "mode": "lines",
         "type": "scatter",
         "x": [
          -13.713867049753938,
          -13.421282842315208
         ],
         "y": [
          21.32277923138798,
          20.731208327312252
         ]
        },
        {
         "hoverinfo": "none",
         "line": {
          "color": "#888",
          "width": 1.5516215965526432
         },
         "mode": "lines",
         "type": "scatter",
         "x": [
          -13.72503864579122,
          -13.421282842315208
         ],
         "y": [
          20.752200827459543,
          20.731208327312252
         ]
        },
        {
         "hoverinfo": "none",
         "line": {
          "color": "#888",
          "width": 1.0391893033339408
         },
         "mode": "lines",
         "type": "scatter",
         "x": [
          -13.889868260640972,
          -13.421282842315208
         ],
         "y": [
          20.43968106318603,
          20.731208327312252
         ]
        },
        {
         "hoverinfo": "none",
         "line": {
          "color": "#888",
          "width": 1.519327217101608
         },
         "mode": "lines",
         "type": "scatter",
         "x": [
          -13.469602721182888,
          -13.421282842315208
         ],
         "y": [
          21.366730828241682,
          20.731208327312252
         ]
        },
        {
         "hoverinfo": "none",
         "line": {
          "color": "#888",
          "width": 1.1219332819026966
         },
         "mode": "lines",
         "type": "scatter",
         "x": [
          -13.421282842315208,
          -14.311419458172569
         ],
         "y": [
          20.731208327312252,
          19.971822262725137
         ]
        },
        {
         "hoverinfo": "none",
         "line": {
          "color": "#888",
          "width": 1.4691872548797291
         },
         "mode": "lines",
         "type": "scatter",
         "x": [
          -13.421282842315208,
          -13.197102179360037
         ],
         "y": [
          20.731208327312252,
          20.446227226217555
         ]
        },
        {
         "hoverinfo": "none",
         "line": {
          "color": "#888",
          "width": 1.713190769748516
         },
         "mode": "lines",
         "type": "scatter",
         "x": [
          -13.421282842315208,
          -12.850718139242009
         ],
         "y": [
          20.731208327312252,
          20.929101940708783
         ]
        },
        {
         "hoverinfo": "none",
         "line": {
          "color": "#888",
          "width": 1.0176904302730432
         },
         "mode": "lines",
         "type": "scatter",
         "x": [
          -13.421282842315208,
          -13.584146493457986
         ],
         "y": [
          20.731208327312252,
          21.910867822678476
         ]
        },
        {
         "hoverinfo": "none",
         "line": {
          "color": "#888",
          "width": 1.1432091321237943
         },
         "mode": "lines",
         "type": "scatter",
         "x": [
          -13.421282842315208,
          -12.907640754729615
         ],
         "y": [
          20.731208327312252,
          20.469607616408755
         ]
        },
        {
         "hoverinfo": "none",
         "line": {
          "color": "#888",
          "width": 1.4659683233129517
         },
         "mode": "lines",
         "type": "scatter",
         "x": [
          -13.421282842315208,
          -13.046705351336772
         ],
         "y": [
          20.731208327312252,
          20.77588764099713
         ]
        },
        {
         "hoverinfo": "none",
         "line": {
          "color": "#888",
          "width": 1.0644477275027557
         },
         "mode": "lines",
         "type": "scatter",
         "x": [
          -13.421282842315208,
          -12.14572655546444
         ],
         "y": [
          20.731208327312252,
          20.401750449215392
         ]
        },
        {
         "hoverinfo": "none",
         "line": {
          "color": "#888",
          "width": 1.6918335657476147
         },
         "mode": "lines",
         "type": "scatter",
         "x": [
          -13.421282842315208,
          -12.910843834401481
         ],
         "y": [
          20.731208327312252,
          21.01436659376408
         ]
        },
        {
         "hoverinfo": "none",
         "line": {
          "color": "#888",
          "width": 1.3569822072722615
         },
         "mode": "lines",
         "type": "scatter",
         "x": [
          -13.421282842315208,
          -12.284441948806446
         ],
         "y": [
          20.731208327312252,
          21.025645557579107
         ]
        },
        {
         "hoverinfo": "none",
         "line": {
          "color": "#888",
          "width": 2.060139133022109
         },
         "mode": "lines",
         "type": "scatter",
         "x": [
          -13.421282842315208,
          -13.7703511169154
         ],
         "y": [
          20.731208327312252,
          21.085508206964032
         ]
        },
        {
         "hoverinfo": "none",
         "line": {
          "color": "#888",
          "width": 1.2206520106249243
         },
         "mode": "lines",
         "type": "scatter",
         "x": [
          -13.421282842315208,
          -13.991559819591165
         ],
         "y": [
          20.731208327312252,
          20.390716009399764
         ]
        },
        {
         "hoverinfo": "none",
         "line": {
          "color": "#888",
          "width": 1.0816923517036232
         },
         "mode": "lines",
         "type": "scatter",
         "x": [
          -13.421282842315208,
          -13.23643931550353
         ],
         "y": [
          20.731208327312252,
          20.945151973986814
         ]
        },
        {
         "hoverinfo": "none",
         "line": {
          "color": "#888",
          "width": 2.2385073862396254
         },
         "mode": "lines",
         "type": "scatter",
         "x": [
          -13.421282842315208,
          -13.030036553810685
         ],
         "y": [
          20.731208327312252,
          21.519701600461545
         ]
        },
        {
         "hoverinfo": "none",
         "line": {
          "color": "#888",
          "width": 1.4715750407683883
         },
         "mode": "lines",
         "type": "scatter",
         "x": [
          -13.421282842315208,
          -13.007084255175895
         ],
         "y": [
          20.731208327312252,
          21.86972207748751
         ]
        },
        {
         "hoverinfo": "none",
         "line": {
          "color": "#888",
          "width": 2.0153679748019826
         },
         "mode": "lines",
         "type": "scatter",
         "x": [
          -13.421282842315208,
          -12.734203853902583
         ],
         "y": [
          20.731208327312252,
          21.55340460756357
         ]
        },
        {
         "hoverinfo": "none",
         "line": {
          "color": "#888",
          "width": 1.5885974793911686
         },
         "mode": "lines",
         "type": "scatter",
         "x": [
          -13.421282842315208,
          -12.77601031504658
         ],
         "y": [
          20.731208327312252,
          21.12541781408756
         ]
        },
        {
         "hoverinfo": "none",
         "line": {
          "color": "#888",
          "width": 1.0081743046431522
         },
         "mode": "lines",
         "type": "scatter",
         "x": [
          -9.43984702464178,
          -10.38428518250311
         ],
         "y": [
          21.339818981480747,
          20.858640990884304
         ]
        },
        {
         "hoverinfo": "none",
         "line": {
          "color": "#888",
          "width": 1.1648818215959975
         },
         "mode": "lines",
         "type": "scatter",
         "x": [
          -14.838886373833402,
          -13.979715599240638
         ],
         "y": [
          19.128537172554875,
          19.090615747944213
         ]
        },
        {
         "hoverinfo": "none",
         "line": {
          "color": "#888",
          "width": 1.0316981655733792
         },
         "mode": "lines",
         "type": "scatter",
         "x": [
          -13.979715599240638,
          -12.88079425450245
         ],
         "y": [
          19.090615747944213,
          20.00414689876472
         ]
        },
        {
         "hoverinfo": "none",
         "line": {
          "color": "#888",
          "width": 1.2360378978834887
         },
         "mode": "lines",
         "type": "scatter",
         "x": [
          -13.979715599240638,
          -14.550581404051927
         ],
         "y": [
          19.090615747944213,
          19.624642271113515
         ]
        },
        {
         "hoverinfo": "none",
         "line": {
          "color": "#888",
          "width": 1.3481984995945968
         },
         "mode": "lines",
         "type": "scatter",
         "x": [
          -13.979715599240638,
          -14.311419458172569
         ],
         "y": [
          19.090615747944213,
          19.971822262725137
         ]
        },
        {
         "hoverinfo": "none",
         "line": {
          "color": "#888",
          "width": 1.0647654045022001
         },
         "mode": "lines",
         "type": "scatter",
         "x": [
          -13.979715599240638,
          -13.85101503582916
         ],
         "y": [
          19.090615747944213,
          19.70968323427432
         ]
        },
        {
         "hoverinfo": "none",
         "line": {
          "color": "#888",
          "width": 1.101530761467507
         },
         "mode": "lines",
         "type": "scatter",
         "x": [
          -13.979715599240638,
          -14.582278534558517
         ],
         "y": [
          19.090615747944213,
          20.217135258366874
         ]
        },
        {
         "hoverinfo": "none",
         "line": {
          "color": "#888",
          "width": 1.0087318120004038
         },
         "mode": "lines",
         "type": "scatter",
         "x": [
          -13.979715599240638,
          -12.918576723501182
         ],
         "y": [
          19.090615747944213,
          19.762632785571746
         ]
        },
        {
         "hoverinfo": "none",
         "line": {
          "color": "#888",
          "width": 1.0174386683931247
         },
         "mode": "lines",
         "type": "scatter",
         "x": [
          -13.979715599240638,
          -13.485752324101506
         ],
         "y": [
          19.090615747944213,
          19.465977412591247
         ]
        },
        {
         "hoverinfo": "none",
         "line": {
          "color": "#888",
          "width": 1.0134647643600974
         },
         "mode": "lines",
         "type": "scatter",
         "x": [
          -13.979715599240638,
          -13.610912637176686
         ],
         "y": [
          19.090615747944213,
          18.6772196523297
         ]
        },
        {
         "hoverinfo": "none",
         "line": {
          "color": "#888",
          "width": 1.0953804566139196
         },
         "mode": "lines",
         "type": "scatter",
         "x": [
          -13.979715599240638,
          -14.700800349225393
         ],
         "y": [
          19.090615747944213,
          18.224889530040656
         ]
        },
        {
         "hoverinfo": "none",
         "line": {
          "color": "#888",
          "width": 1.0037672094831849
         },
         "mode": "lines",
         "type": "scatter",
         "x": [
          -14.916485071497744,
          -14.628261411278487
         ],
         "y": [
          13.489550636378056,
          14.221291596828324
         ]
        },
        {
         "hoverinfo": "none",
         "line": {
          "color": "#888",
          "width": 1.1230425979043548
         },
         "mode": "lines",
         "type": "scatter",
         "x": [
          -14.916485071497744,
          -15.523142350203068
         ],
         "y": [
          13.489550636378056,
          14.189823829652912
         ]
        },
        {
         "hoverinfo": "none",
         "line": {
          "color": "#888",
          "width": 1.1418051911270168
         },
         "mode": "lines",
         "type": "scatter",
         "x": [
          -10.747730119044457,
          -11.942871546634484
         ],
         "y": [
          21.48888986020604,
          20.943028751942535
         ]
        },
        {
         "hoverinfo": "none",
         "line": {
          "color": "#888",
          "width": 1.0539283700693882
         },
         "mode": "lines",
         "type": "scatter",
         "x": [
          -12.075137469042582,
          -12.850718139242009
         ],
         "y": [
          21.88172971181922,
          20.929101940708783
         ]
        },
        {
         "hoverinfo": "none",
         "line": {
          "color": "#888",
          "width": 1.0412559036608944
         },
         "mode": "lines",
         "type": "scatter",
         "x": [
          -12.075137469042582,
          -12.910843834401481
         ],
         "y": [
          21.88172971181922,
          21.01436659376408
         ]
        },
        {
         "hoverinfo": "none",
         "line": {
          "color": "#888",
          "width": 1.1543609904258387
         },
         "mode": "lines",
         "type": "scatter",
         "x": [
          -13.889868260640972,
          -12.88079425450245
         ],
         "y": [
          20.43968106318603,
          20.00414689876472
         ]
        },
        {
         "hoverinfo": "none",
         "line": {
          "color": "#888",
          "width": 1.0316981655733792
         },
         "mode": "lines",
         "type": "scatter",
         "x": [
          -13.979715599240638,
          -12.88079425450245
         ],
         "y": [
          19.090615747944213,
          20.00414689876472
         ]
        },
        {
         "hoverinfo": "none",
         "line": {
          "color": "#888",
          "width": 1.6371534026308052
         },
         "mode": "lines",
         "type": "scatter",
         "x": [
          -12.88079425450245,
          -12.341464452775313
         ],
         "y": [
          20.00414689876472,
          20.311362961497515
         ]
        },
        {
         "hoverinfo": "none",
         "line": {
          "color": "#888",
          "width": 1.0141833903659176
         },
         "mode": "lines",
         "type": "scatter",
         "x": [
          -12.88079425450245,
          -13.642983348705675
         ],
         "y": [
          20.00414689876472,
          20.519633212486255
         ]
        },
        {
         "hoverinfo": "none",
         "line": {
          "color": "#888",
          "width": 1.0423669327280327
         },
         "mode": "lines",
         "type": "scatter",
         "x": [
          -12.88079425450245,
          -12.850718139242009
         ],
         "y": [
          20.00414689876472,
          20.929101940708783
         ]
        },
        {
         "hoverinfo": "none",
         "line": {
          "color": "#888",
          "width": 1.04064663228925
         },
         "mode": "lines",
         "type": "scatter",
         "x": [
          -12.88079425450245,
          -13.236477225987986
         ],
         "y": [
          20.00414689876472,
          20.35065703675912
         ]
        },
        {
         "hoverinfo": "none",
         "line": {
          "color": "#888",
          "width": 1.1107568299331017
         },
         "mode": "lines",
         "type": "scatter",
         "x": [
          -12.88079425450245,
          -13.537096610506756
         ],
         "y": [
          20.00414689876472,
          19.92320307519968
         ]
        },
        {
         "hoverinfo": "none",
         "line": {
          "color": "#888",
          "width": 1.2481614234145846
         },
         "mode": "lines",
         "type": "scatter",
         "x": [
          -12.88079425450245,
          -13.85101503582916
         ],
         "y": [
          20.00414689876472,
          19.70968323427432
         ]
        },
        {
         "hoverinfo": "none",
         "line": {
          "color": "#888",
          "width": 1.2188812465617447
         },
         "mode": "lines",
         "type": "scatter",
         "x": [
          -12.88079425450245,
          -11.815965872922868
         ],
         "y": [
          20.00414689876472,
          19.29060423218079
         ]
        },
        {
         "hoverinfo": "none",
         "line": {
          "color": "#888",
          "width": 1.1771971437456932
         },
         "mode": "lines",
         "type": "scatter",
         "x": [
          -12.88079425450245,
          -13.04465356572712
         ],
         "y": [
          20.00414689876472,
          19.63101236622079
         ]
        },
        {
         "hoverinfo": "none",
         "line": {
          "color": "#888",
          "width": 1.0109850138118492
         },
         "mode": "lines",
         "type": "scatter",
         "x": [
          -12.88079425450245,
          -12.907640754729615
         ],
         "y": [
          20.00414689876472,
          20.469607616408755
         ]
        },
        {
         "hoverinfo": "none",
         "line": {
          "color": "#888",
          "width": 1.0707331961635507
         },
         "mode": "lines",
         "type": "scatter",
         "x": [
          -12.88079425450245,
          -13.046705351336772
         ],
         "y": [
          20.00414689876472,
          20.77588764099713
         ]
        },
        {
         "hoverinfo": "none",
         "line": {
          "color": "#888",
          "width": 1.4832930434014333
         },
         "mode": "lines",
         "type": "scatter",
         "x": [
          -12.88079425450245,
          -12.918576723501182
         ],
         "y": [
          20.00414689876472,
          19.762632785571746
         ]
        },
        {
         "hoverinfo": "none",
         "line": {
          "color": "#888",
          "width": 1.0159194953047692
         },
         "mode": "lines",
         "type": "scatter",
         "x": [
          -12.88079425450245,
          -13.485752324101506
         ],
         "y": [
          20.00414689876472,
          19.465977412591247
         ]
        },
        {
         "hoverinfo": "none",
         "line": {
          "color": "#888",
          "width": 1.389027847120075
         },
         "mode": "lines",
         "type": "scatter",
         "x": [
          -12.88079425450245,
          -12.356415919830226
         ],
         "y": [
          20.00414689876472,
          19.76080027239755
         ]
        },
        {
         "hoverinfo": "none",
         "line": {
          "color": "#888",
          "width": 1.2809816368191018
         },
         "mode": "lines",
         "type": "scatter",
         "x": [
          -12.88079425450245,
          -12.773844683472381
         ],
         "y": [
          20.00414689876472,
          19.566330422843407
         ]
        },
        {
         "hoverinfo": "none",
         "line": {
          "color": "#888",
          "width": 1.0274528679010728
         },
         "mode": "lines",
         "type": "scatter",
         "x": [
          -12.88079425450245,
          -12.910843834401481
         ],
         "y": [
          20.00414689876472,
          21.01436659376408
         ]
        },
        {
         "hoverinfo": "none",
         "line": {
          "color": "#888",
          "width": 1.0484313095452267
         },
         "mode": "lines",
         "type": "scatter",
         "x": [
          -12.88079425450245,
          -11.85499862010832
         ],
         "y": [
          20.00414689876472,
          20.494921025806526
         ]
        },
        {
         "hoverinfo": "none",
         "line": {
          "color": "#888",
          "width": 1.214072670173321
         },
         "mode": "lines",
         "type": "scatter",
         "x": [
          -12.88079425450245,
          -12.77601031504658
         ],
         "y": [
          20.00414689876472,
          21.12541781408756
         ]
        },
        {
         "hoverinfo": "none",
         "line": {
          "color": "#888",
          "width": 1.10698679284716
         },
         "mode": "lines",
         "type": "scatter",
         "x": [
          -12.88079425450245,
          -12.791751733740055
         ],
         "y": [
          20.00414689876472,
          19.008361465721478
         ]
        },
        {
         "hoverinfo": "none",
         "line": {
          "color": "#888",
          "width": 1.0315361785896977
         },
         "mode": "lines",
         "type": "scatter",
         "x": [
          -14.710043075976875,
          -13.865413814385875
         ],
         "y": [
          16.190377164988895,
          16.73569458910048
         ]
        },
        {
         "hoverinfo": "none",
         "line": {
          "color": "#888",
          "width": 1.0289377033892784
         },
         "mode": "lines",
         "type": "scatter",
         "x": [
          -10.680705289400953,
          -11.549799157354075
         ],
         "y": [
          22.22966651010958,
          21.33677004673493
         ]
        },
        {
         "hoverinfo": "none",
         "line": {
          "color": "#888",
          "width": 1.059544427587481
         },
         "mode": "lines",
         "type": "scatter",
         "x": [
          -10.680705289400953,
          -11.263788850048781
         ],
         "y": [
          22.22966651010958,
          22.384709120747623
         ]
        },
        {
         "hoverinfo": "none",
         "line": {
          "color": "#888",
          "width": 1.0276082742675392
         },
         "mode": "lines",
         "type": "scatter",
         "x": [
          -10.680705289400953,
          -11.429739365262359
         ],
         "y": [
          22.22966651010958,
          22.733989773796388
         ]
        },
        {
         "hoverinfo": "none",
         "line": {
          "color": "#888",
          "width": 1.1768508449521695
         },
         "mode": "lines",
         "type": "scatter",
         "x": [
          -11.96986801292686,
          -12.345143556966459
         ],
         "y": [
          22.41278980421849,
          21.995363443026463
         ]
        },
        {
         "hoverinfo": "none",
         "line": {
          "color": "#888",
          "width": 1.3533992334207599
         },
         "mode": "lines",
         "type": "scatter",
         "x": [
          -11.96986801292686,
          -12.39070970399015
         ],
         "y": [
          22.41278980421849,
          22.673929128949084
         ]
        },
        {
         "hoverinfo": "none",
         "line": {
          "color": "#888",
          "width": 1.1375442406461065
         },
         "mode": "lines",
         "type": "scatter",
         "x": [
          -11.96986801292686,
          -12.040651155801354
         ],
         "y": [
          22.41278980421849,
          21.209858966184818
         ]
        },
        {
         "hoverinfo": "none",
         "line": {
          "color": "#888",
          "width": 1.1071821399859498
         },
         "mode": "lines",
         "type": "scatter",
         "x": [
          -11.96986801292686,
          -12.77601031504658
         ],
         "y": [
          22.41278980421849,
          21.12541781408756
         ]
        },
        {
         "hoverinfo": "none",
         "line": {
          "color": "#888",
          "width": 1.3313657603805105
         },
         "mode": "lines",
         "type": "scatter",
         "x": [
          -11.949124589899004,
          -12.850718139242009
         ],
         "y": [
          21.792200991998797,
          20.929101940708783
         ]
        },
        {
         "hoverinfo": "none",
         "line": {
          "color": "#888",
          "width": 1.315584544815094
         },
         "mode": "lines",
         "type": "scatter",
         "x": [
          -11.949124589899004,
          -12.910843834401481
         ],
         "y": [
          21.792200991998797,
          21.01436659376408
         ]
        },
        {
         "hoverinfo": "none",
         "line": {
          "color": "#888",
          "width": 1.0247627551096392
         },
         "mode": "lines",
         "type": "scatter",
         "x": [
          -11.949124589899004,
          -11.14647911771022
         ],
         "y": [
          21.792200991998797,
          22.371393610371104
         ]
        },
        {
         "hoverinfo": "none",
         "line": {
          "color": "#888",
          "width": 1.039148394464184
         },
         "mode": "lines",
         "type": "scatter",
         "x": [
          -11.949124589899004,
          -13.030036553810685
         ],
         "y": [
          21.792200991998797,
          21.519701600461545
         ]
        },
        {
         "hoverinfo": "none",
         "line": {
          "color": "#888",
          "width": 1.087335300402193
         },
         "mode": "lines",
         "type": "scatter",
         "x": [
          -11.949124589899004,
          -12.734203853902583
         ],
         "y": [
          21.792200991998797,
          21.55340460756357
         ]
        },
        {
         "hoverinfo": "none",
         "line": {
          "color": "#888",
          "width": 1.0567132183017802
         },
         "mode": "lines",
         "type": "scatter",
         "x": [
          -9.445001182998627,
          -10.38428518250311
         ],
         "y": [
          20.15381998481574,
          20.858640990884304
         ]
        },
        {
         "hoverinfo": "none",
         "line": {
          "color": "#888",
          "width": 1.6371534026308052
         },
         "mode": "lines",
         "type": "scatter",
         "x": [
          -12.88079425450245,
          -12.341464452775313
         ],
         "y": [
          20.00414689876472,
          20.311362961497515
         ]
        },
        {
         "hoverinfo": "none",
         "line": {
          "color": "#888",
          "width": 1.1270270101437254
         },
         "mode": "lines",
         "type": "scatter",
         "x": [
          -12.341464452775313,
          -13.197102179360037
         ],
         "y": [
          20.311362961497515,
          20.446227226217555
         ]
        },
        {
         "hoverinfo": "none",
         "line": {
          "color": "#888",
          "width": 1.2693981784240256
         },
         "mode": "lines",
         "type": "scatter",
         "x": [
          -12.341464452775313,
          -12.850718139242009
         ],
         "y": [
          20.311362961497515,
          20.929101940708783
         ]
        },
        {
         "hoverinfo": "none",
         "line": {
          "color": "#888",
          "width": 1.0170497165325973
         },
         "mode": "lines",
         "type": "scatter",
         "x": [
          -12.341464452775313,
          -13.236477225987986
         ],
         "y": [
          20.311362961497515,
          20.35065703675912
         ]
        },
        {
         "hoverinfo": "none",
         "line": {
          "color": "#888",
          "width": 1.1612526769517293
         },
         "mode": "lines",
         "type": "scatter",
         "x": [
          -12.341464452775313,
          -11.815965872922868
         ],
         "y": [
          20.311362961497515,
          19.29060423218079
         ]
        },
        {
         "hoverinfo": "none",
         "line": {
          "color": "#888",
          "width": 1.0623490685536305
         },
         "mode": "lines",
         "type": "scatter",
         "x": [
          -12.341464452775313,
          -13.046705351336772
         ],
         "y": [
          20.311362961497515,
          20.77588764099713
         ]
        },
        {
         "hoverinfo": "none",
         "line": {
          "color": "#888",
          "width": 1.300990766960133
         },
         "mode": "lines",
         "type": "scatter",
         "x": [
          -12.341464452775313,
          -12.918576723501182
         ],
         "y": [
          20.311362961497515,
          19.762632785571746
         ]
        },
        {
         "hoverinfo": "none",
         "line": {
          "color": "#888",
          "width": 1.016731652620529
         },
         "mode": "lines",
         "type": "scatter",
         "x": [
          -12.341464452775313,
          -13.485752324101506
         ],
         "y": [
          20.311362961497515,
          19.465977412591247
         ]
        },
        {
         "hoverinfo": "none",
         "line": {
          "color": "#888",
          "width": 1.1984960462707082
         },
         "mode": "lines",
         "type": "scatter",
         "x": [
          -12.341464452775313,
          -12.608722745064354
         ],
         "y": [
          20.311362961497515,
          21.38991608678275
         ]
        },
        {
         "hoverinfo": "none",
         "line": {
          "color": "#888",
          "width": 1.3038656131771333
         },
         "mode": "lines",
         "type": "scatter",
         "x": [
          -12.341464452775313,
          -12.356415919830226
         ],
         "y": [
          20.311362961497515,
          19.76080027239755
         ]
        },
        {
         "hoverinfo": "none",
         "line": {
          "color": "#888",
          "width": 1.2236205374900375
         },
         "mode": "lines",
         "type": "scatter",
         "x": [
          -12.341464452775313,
          -11.549799157354075
         ],
         "y": [
          20.311362961497515,
          21.33677004673493
         ]
        },
        {
         "hoverinfo": "none",
         "line": {
          "color": "#888",
          "width": 1.27430688221318
         },
         "mode": "lines",
         "type": "scatter",
         "x": [
          -12.341464452775313,
          -12.773844683472381
         ],
         "y": [
          20.311362961497515,
          19.566330422843407
         ]
        },
        {
         "hoverinfo": "none",
         "line": {
          "color": "#888",
          "width": 1.3020081673906392
         },
         "mode": "lines",
         "type": "scatter",
         "x": [
          -12.341464452775313,
          -12.040651155801354
         ],
         "y": [
          20.311362961497515,
          21.209858966184818
         ]
        },
        {
         "hoverinfo": "none",
         "line": {
          "color": "#888",
          "width": 1.065898236688193
         },
         "mode": "lines",
         "type": "scatter",
         "x": [
          -12.341464452775313,
          -11.206212473786957
         ],
         "y": [
          20.311362961497515,
          19.700944560761023
         ]
        },
        {
         "hoverinfo": "none",
         "line": {
          "color": "#888",
          "width": 1.251505001338207
         },
         "mode": "lines",
         "type": "scatter",
         "x": [
          -12.341464452775313,
          -12.910843834401481
         ],
         "y": [
          20.311362961497515,
          21.01436659376408
         ]
        },
        {
         "hoverinfo": "none",
         "line": {
          "color": "#888",
          "width": 1.3884330604881154
         },
         "mode": "lines",
         "type": "scatter",
         "x": [
          -12.341464452775313,
          -11.85499862010832
         ],
         "y": [
          20.311362961497515,
          20.494921025806526
         ]
        },
        {
         "hoverinfo": "none",
         "line": {
          "color": "#888",
          "width": 1.1489777860747632
         },
         "mode": "lines",
         "type": "scatter",
         "x": [
          -12.341464452775313,
          -12.77601031504658
         ],
         "y": [
          20.311362961497515,
          21.12541781408756
         ]
        },
        {
         "hoverinfo": "none",
         "line": {
          "color": "#888",
          "width": 1.0262180960617426
         },
         "mode": "lines",
         "type": "scatter",
         "x": [
          -12.341464452775313,
          -12.791751733740055
         ],
         "y": [
          20.311362961497515,
          19.008361465721478
         ]
        },
        {
         "hoverinfo": "none",
         "line": {
          "color": "#888",
          "width": 1.14065775250979
         },
         "mode": "lines",
         "type": "scatter",
         "x": [
          -12.341464452775313,
          -12.0448503313882
         ],
         "y": [
          20.311362961497515,
          21.57539053726569
         ]
        },
        {
         "hoverinfo": "none",
         "line": {
          "color": "#888",
          "width": 1.1582870114175923
         },
         "mode": "lines",
         "type": "scatter",
         "x": [
          -6.980617299185159,
          -6.8613395668689945
         ],
         "y": [
          24.381654675868525,
          25.28721818848291
         ]
        },
        {
         "hoverinfo": "none",
         "line": {
          "color": "#888",
          "width": 1.071128511782815
         },
         "mode": "lines",
         "type": "scatter",
         "x": [
          -6.980617299185159,
          -6.1944511846115295
         ],
         "y": [
          24.381654675868525,
          24.720580155078387
         ]
        },
        {
         "hoverinfo": "none",
         "line": {
          "color": "#888",
          "width": 1.0081743046431522
         },
         "mode": "lines",
         "type": "scatter",
         "x": [
          -9.43984702464178,
          -10.38428518250311
         ],
         "y": [
          21.339818981480747,
          20.858640990884304
         ]
        },
        {
         "hoverinfo": "none",
         "line": {
          "color": "#888",
          "width": 1.0567132183017802
         },
         "mode": "lines",
         "type": "scatter",
         "x": [
          -9.445001182998627,
          -10.38428518250311
         ],
         "y": [
          20.15381998481574,
          20.858640990884304
         ]
        },
        {
         "hoverinfo": "none",
         "line": {
          "color": "#888",
          "width": 1.0073463770523887
         },
         "mode": "lines",
         "type": "scatter",
         "x": [
          -10.38428518250311,
          -10.58466903998632
         ],
         "y": [
          20.858640990884304,
          20.122288006184224
         ]
        },
        {
         "hoverinfo": "none",
         "line": {
          "color": "#888",
          "width": 1.0182271896430728
         },
         "mode": "lines",
         "type": "scatter",
         "x": [
          -10.38428518250311,
          -11.573787898129877
         ],
         "y": [
          20.858640990884304,
          20.603582672482666
         ]
        },
        {
         "hoverinfo": "none",
         "line": {
          "color": "#888",
          "width": 1.0146110052408288
         },
         "mode": "lines",
         "type": "scatter",
         "x": [
          -13.713867049753938,
          -13.488239384273696
         ],
         "y": [
          21.32277923138798,
          22.052657171590635
         ]
        },
        {
         "hoverinfo": "none",
         "line": {
          "color": "#888",
          "width": 1.0243173114834625
         },
         "mode": "lines",
         "type": "scatter",
         "x": [
          -12.95422029598588,
          -13.488239384273696
         ],
         "y": [
          22.173012221957887,
          22.052657171590635
         ]
        },
        {
         "hoverinfo": "none",
         "line": {
          "color": "#888",
          "width": 1.381587268864401
         },
         "mode": "lines",
         "type": "scatter",
         "x": [
          -13.488239384273696,
          -12.850718139242009
         ],
         "y": [
          22.052657171590635,
          20.929101940708783
         ]
        },
        {
         "hoverinfo": "none",
         "line": {
          "color": "#888",
          "width": 1.1790582434587684
         },
         "mode": "lines",
         "type": "scatter",
         "x": [
          -13.488239384273696,
          -14.005021731026002
         ],
         "y": [
          22.052657171590635,
          21.876050068264206
         ]
        },
        {
         "hoverinfo": "none",
         "line": {
          "color": "#888",
          "width": 1.093322173938592
         },
         "mode": "lines",
         "type": "scatter",
         "x": [
          -13.488239384273696,
          -14.462891867935248
         ],
         "y": [
          22.052657171590635,
          22.701920767788163
         ]
        },
        {
         "hoverinfo": "none",
         "line": {
          "color": "#888",
          "width": 1.0333383319246838
         },
         "mode": "lines",
         "type": "scatter",
         "x": [
          -13.488239384273696,
          -13.427726029882152
         ],
         "y": [
          22.052657171590635,
          21.052187341494502
         ]
        },
        {
         "hoverinfo": "none",
         "line": {
          "color": "#888",
          "width": 1.2615964429238864
         },
         "mode": "lines",
         "type": "scatter",
         "x": [
          -13.488239384273696,
          -14.027395794310534
         ],
         "y": [
          22.052657171590635,
          21.396105270096907
         ]
        },
        {
         "hoverinfo": "none",
         "line": {
          "color": "#888",
          "width": 1.0291797412739954
         },
         "mode": "lines",
         "type": "scatter",
         "x": [
          -13.488239384273696,
          -12.608722745064354
         ],
         "y": [
          22.052657171590635,
          21.38991608678275
         ]
        },
        {
         "hoverinfo": "none",
         "line": {
          "color": "#888",
          "width": 1.0146031495542491
         },
         "mode": "lines",
         "type": "scatter",
         "x": [
          -13.488239384273696,
          -13.551675742174377
         ],
         "y": [
          22.052657171590635,
          20.329212509114274
         ]
        },
        {
         "hoverinfo": "none",
         "line": {
          "color": "#888",
          "width": 1.3636061225836045
         },
         "mode": "lines",
         "type": "scatter",
         "x": [
          -13.488239384273696,
          -12.910843834401481
         ],
         "y": [
          22.052657171590635,
          21.01436659376408
         ]
        },
        {
         "hoverinfo": "none",
         "line": {
          "color": "#888",
          "width": 1.0164502373755715
         },
         "mode": "lines",
         "type": "scatter",
         "x": [
          -13.488239384273696,
          -14.197638723341639
         ],
         "y": [
          22.052657171590635,
          21.267662103421003
         ]
        },
        {
         "hoverinfo": "none",
         "line": {
          "color": "#888",
          "width": 1.2014805783755724
         },
         "mode": "lines",
         "type": "scatter",
         "x": [
          -14.489168620811169,
          -13.642983348705675
         ],
         "y": [
          21.091249032371852,
          20.519633212486255
         ]
        },
        {
         "hoverinfo": "none",
         "line": {
          "color": "#888",
          "width": 1.1138911894863133
         },
         "mode": "lines",
         "type": "scatter",
         "x": [
          -14.489168620811169,
          -13.236477225987986
         ],
         "y": [
          21.091249032371852,
          20.35065703675912
         ]
        },
        {
         "hoverinfo": "none",
         "line": {
          "color": "#888",
          "width": 1.176426936885183
         },
         "mode": "lines",
         "type": "scatter",
         "x": [
          -14.489168620811169,
          -13.427726029882152
         ],
         "y": [
          21.091249032371852,
          21.052187341494502
         ]
        },
        {
         "hoverinfo": "none",
         "line": {
          "color": "#888",
          "width": 1.0229105301520915
         },
         "mode": "lines",
         "type": "scatter",
         "x": [
          -14.489168620811169,
          -14.582278534558517
         ],
         "y": [
          21.091249032371852,
          20.217135258366874
         ]
        },
        {
         "hoverinfo": "none",
         "line": {
          "color": "#888",
          "width": 1.2245279375100873
         },
         "mode": "lines",
         "type": "scatter",
         "x": [
          -14.489168620811169,
          -13.912717315656698
         ],
         "y": [
          21.091249032371852,
          21.454212393115643
         ]
        },
        {
         "hoverinfo": "none",
         "line": {
          "color": "#888",
          "width": 1.101846943540752
         },
         "mode": "lines",
         "type": "scatter",
         "x": [
          -14.489168620811169,
          -14.113963476444026
         ],
         "y": [
          21.091249032371852,
          20.733964232542867
         ]
        },
        {
         "hoverinfo": "none",
         "line": {
          "color": "#888",
          "width": 1.1276664619108372
         },
         "mode": "lines",
         "type": "scatter",
         "x": [
          -14.489168620811169,
          -13.637993460243793
         ],
         "y": [
          21.091249032371852,
          21.53220459934256
         ]
        },
        {
         "hoverinfo": "none",
         "line": {
          "color": "#888",
          "width": 1.1143542077789714
         },
         "mode": "lines",
         "type": "scatter",
         "x": [
          -14.489168620811169,
          -13.23643931550353
         ],
         "y": [
          21.091249032371852,
          20.945151973986814
         ]
        },
        {
         "hoverinfo": "none",
         "line": {
          "color": "#888",
          "width": 1.2841756270730427
         },
         "mode": "lines",
         "type": "scatter",
         "x": [
          -14.489168620811169,
          -13.402038872682441
         ],
         "y": [
          21.091249032371852,
          21.793632774845815
         ]
        },
        {
         "hoverinfo": "none",
         "line": {
          "color": "#888",
          "width": 1.1269710207281634
         },
         "mode": "lines",
         "type": "scatter",
         "x": [
          -14.489168620811169,
          -13.263024710033392
         ],
         "y": [
          21.091249032371852,
          21.47913495742209
         ]
        },
        {
         "hoverinfo": "none",
         "line": {
          "color": "#888",
          "width": 1.8293488207175532
         },
         "mode": "lines",
         "type": "scatter",
         "x": [
          -14.489168620811169,
          -13.994286400461116
         ],
         "y": [
          21.091249032371852,
          20.881168702489436
         ]
        },
        {
         "hoverinfo": "none",
         "line": {
          "color": "#888",
          "width": 1.040035629749341
         },
         "mode": "lines",
         "type": "scatter",
         "x": [
          -10.56826368128901,
          -9.611014621595755
         ],
         "y": [
          20.824710298876187,
          20.24224676178515
         ]
        },
        {
         "hoverinfo": "none",
         "line": {
          "color": "#888",
          "width": 1.0080409976690115
         },
         "mode": "lines",
         "type": "scatter",
         "x": [
          -10.56826368128901,
          -11.85499862010832
         ],
         "y": [
          20.824710298876187,
          20.494921025806526
         ]
        },
        {
         "hoverinfo": "none",
         "line": {
          "color": "#888",
          "width": 1.2312097071671984
         },
         "mode": "lines",
         "type": "scatter",
         "x": [
          -10.56826368128901,
          -9.741210458737246
         ],
         "y": [
          20.824710298876187,
          21.914039008164817
         ]
        },
        {
         "hoverinfo": "none",
         "line": {
          "color": "#888",
          "width": 1.165453709031058
         },
         "mode": "lines",
         "type": "scatter",
         "x": [
          -10.56826368128901,
          -9.595275245512976
         ],
         "y": [
          20.824710298876187,
          21.215455714750416
         ]
        },
        {
         "hoverinfo": "none",
         "line": {
          "color": "#888",
          "width": 1.049328234297132
         },
         "mode": "lines",
         "type": "scatter",
         "x": [
          -10.805873149921057,
          -11.942871546634484
         ],
         "y": [
          20.42653191608568,
          20.943028751942535
         ]
        },
        {
         "hoverinfo": "none",
         "line": {
          "color": "#888",
          "width": 1.0237158988547368
         },
         "mode": "lines",
         "type": "scatter",
         "x": [
          -10.805873149921057,
          -10.980994182527269
         ],
         "y": [
          20.42653191608568,
          18.92772968732724
         ]
        },
        {
         "hoverinfo": "none",
         "line": {
          "color": "#888",
          "width": 1.2664803789354053
         },
         "mode": "lines",
         "type": "scatter",
         "x": [
          -10.805873149921057,
          -10.917791500255126
         ],
         "y": [
          20.42653191608568,
          19.742127029568135
         ]
        },
        {
         "hoverinfo": "none",
         "line": {
          "color": "#888",
          "width": 1.0129143583647515
         },
         "mode": "lines",
         "type": "scatter",
         "x": [
          -10.805873149921057,
          -11.670530996185668
         ],
         "y": [
          20.42653191608568,
          21.09066706630328
         ]
        },
        {
         "hoverinfo": "none",
         "line": {
          "color": "#888",
          "width": 1.1073355126124376
         },
         "mode": "lines",
         "type": "scatter",
         "x": [
          -10.703500072515022,
          -11.670530996185668
         ],
         "y": [
          22.01548801480612,
          21.09066706630328
         ]
        },
        {
         "hoverinfo": "none",
         "line": {
          "color": "#888",
          "width": 1.1771785420367555
         },
         "mode": "lines",
         "type": "scatter",
         "x": [
          -7.56483637469179,
          -6.8613395668689945
         ],
         "y": [
          25.792349324258,
          25.28721818848291
         ]
        },
        {
         "hoverinfo": "none",
         "line": {
          "color": "#888",
          "width": 1.0141833903659176
         },
         "mode": "lines",
         "type": "scatter",
         "x": [
          -12.88079425450245,
          -13.642983348705675
         ],
         "y": [
          20.00414689876472,
          20.519633212486255
         ]
        },
        {
         "hoverinfo": "none",
         "line": {
          "color": "#888",
          "width": 1.2014805783755724
         },
         "mode": "lines",
         "type": "scatter",
         "x": [
          -14.489168620811169,
          -13.642983348705675
         ],
         "y": [
          21.091249032371852,
          20.519633212486255
         ]
        },
        {
         "hoverinfo": "none",
         "line": {
          "color": "#888",
          "width": 1.1464411942901618
         },
         "mode": "lines",
         "type": "scatter",
         "x": [
          -13.642983348705675,
          -12.850718139242009
         ],
         "y": [
          20.519633212486255,
          20.929101940708783
         ]
        },
        {
         "hoverinfo": "none",
         "line": {
          "color": "#888",
          "width": 1.2534008462211892
         },
         "mode": "lines",
         "type": "scatter",
         "x": [
          -13.642983348705675,
          -13.236477225987986
         ],
         "y": [
          20.519633212486255,
          20.35065703675912
         ]
        },
        {
         "hoverinfo": "none",
         "line": {
          "color": "#888",
          "width": 1.3890291732029427
         },
         "mode": "lines",
         "type": "scatter",
         "x": [
          -13.642983348705675,
          -13.537096610506756
         ],
         "y": [
          20.519633212486255,
          19.92320307519968
         ]
        },
        {
         "hoverinfo": "none",
         "line": {
          "color": "#888",
          "width": 1.2511525607865748
         },
         "mode": "lines",
         "type": "scatter",
         "x": [
          -13.642983348705675,
          -13.427726029882152
         ],
         "y": [
          20.519633212486255,
          21.052187341494502
         ]
        },
        {
         "hoverinfo": "none",
         "line": {
          "color": "#888",
          "width": 1.0483439079351167
         },
         "mode": "lines",
         "type": "scatter",
         "x": [
          -13.642983348705675,
          -13.04465356572712
         ],
         "y": [
          20.519633212486255,
          19.63101236622079
         ]
        },
        {
         "hoverinfo": "none",
         "line": {
          "color": "#888",
          "width": 1.0759072517601342
         },
         "mode": "lines",
         "type": "scatter",
         "x": [
          -13.642983348705675,
          -14.027395794310534
         ],
         "y": [
          20.519633212486255,
          21.396105270096907
         ]
        },
        {
         "hoverinfo": "none",
         "line": {
          "color": "#888",
          "width": 1.1483881519259036
         },
         "mode": "lines",
         "type": "scatter",
         "x": [
          -13.642983348705675,
          -14.582278534558517
         ],
         "y": [
          20.519633212486255,
          20.217135258366874
         ]
        },
        {
         "hoverinfo": "none",
         "line": {
          "color": "#888",
          "width": 1.0844524091290217
         },
         "mode": "lines",
         "type": "scatter",
         "x": [
          -13.642983348705675,
          -12.608722745064354
         ],
         "y": [
          20.519633212486255,
          21.38991608678275
         ]
        },
        {
         "hoverinfo": "none",
         "line": {
          "color": "#888",
          "width": 1.22046042938976
         },
         "mode": "lines",
         "type": "scatter",
         "x": [
          -13.642983348705675,
          -13.912717315656698
         ],
         "y": [
          20.519633212486255,
          21.454212393115643
         ]
        },
        {
         "hoverinfo": "none",
         "line": {
          "color": "#888",
          "width": 1.2360856728275742
         },
         "mode": "lines",
         "type": "scatter",
         "x": [
          -13.642983348705675,
          -14.113963476444026
         ],
         "y": [
          20.519633212486255,
          20.733964232542867
         ]
        },
        {
         "hoverinfo": "none",
         "line": {
          "color": "#888",
          "width": 1.132076111448573
         },
         "mode": "lines",
         "type": "scatter",
         "x": [
          -13.642983348705675,
          -12.910843834401481
         ],
         "y": [
          20.519633212486255,
          21.01436659376408
         ]
        },
        {
         "hoverinfo": "none",
         "line": {
          "color": "#888",
          "width": 1.0652308067936342
         },
         "mode": "lines",
         "type": "scatter",
         "x": [
          -13.642983348705675,
          -13.637993460243793
         ],
         "y": [
          20.519633212486255,
          21.53220459934256
         ]
        },
        {
         "hoverinfo": "none",
         "line": {
          "color": "#888",
          "width": 1.324592715833349
         },
         "mode": "lines",
         "type": "scatter",
         "x": [
          -13.642983348705675,
          -13.23643931550353
         ],
         "y": [
          20.519633212486255,
          20.945151973986814
         ]
        },
        {
         "hoverinfo": "none",
         "line": {
          "color": "#888",
          "width": 1.3032063597556576
         },
         "mode": "lines",
         "type": "scatter",
         "x": [
          -13.642983348705675,
          -13.402038872682441
         ],
         "y": [
          20.519633212486255,
          21.793632774845815
         ]
        },
        {
         "hoverinfo": "none",
         "line": {
          "color": "#888",
          "width": 1.1172234268593138
         },
         "mode": "lines",
         "type": "scatter",
         "x": [
          -13.642983348705675,
          -13.263024710033392
         ],
         "y": [
          20.519633212486255,
          21.47913495742209
         ]
        },
        {
         "hoverinfo": "none",
         "line": {
          "color": "#888",
          "width": 1.1146414038575085
         },
         "mode": "lines",
         "type": "scatter",
         "x": [
          -13.642983348705675,
          -13.994286400461116
         ],
         "y": [
          20.519633212486255,
          20.881168702489436
         ]
        },
        {
         "hoverinfo": "none",
         "line": {
          "color": "#888",
          "width": 1.01777505967313
         },
         "mode": "lines",
         "type": "scatter",
         "x": [
          -14.838886373833402,
          -14.550581404051927
         ],
         "y": [
          19.128537172554875,
          19.624642271113515
         ]
        },
        {
         "hoverinfo": "none",
         "line": {
          "color": "#888",
          "width": 1.2360378978834887
         },
         "mode": "lines",
         "type": "scatter",
         "x": [
          -13.979715599240638,
          -14.550581404051927
         ],
         "y": [
          19.090615747944213,
          19.624642271113515
         ]
        },
        {
         "hoverinfo": "none",
         "line": {
          "color": "#888",
          "width": 1.146699615623318
         },
         "mode": "lines",
         "type": "scatter",
         "x": [
          -14.550581404051927,
          -14.311419458172569
         ],
         "y": [
          19.624642271113515,
          19.971822262725137
         ]
        },
        {
         "hoverinfo": "none",
         "line": {
          "color": "#888",
          "width": 1.094290245698182
         },
         "mode": "lines",
         "type": "scatter",
         "x": [
          -14.550581404051927,
          -13.537096610506756
         ],
         "y": [
          19.624642271113515,
          19.92320307519968
         ]
        },
        {
         "hoverinfo": "none",
         "line": {
          "color": "#888",
          "width": 1.2597641475622958
         },
         "mode": "lines",
         "type": "scatter",
         "x": [
          -14.550581404051927,
          -14.582278534558517
         ],
         "y": [
          19.624642271113515,
          20.217135258366874
         ]
        },
        {
         "hoverinfo": "none",
         "line": {
          "color": "#888",
          "width": 1.009891226732699
         },
         "mode": "lines",
         "type": "scatter",
         "x": [
          -14.550581404051927,
          -13.551675742174377
         ],
         "y": [
          19.624642271113515,
          20.329212509114274
         ]
        },
        {
         "hoverinfo": "none",
         "line": {
          "color": "#888",
          "width": 1.1455749507040294
         },
         "mode": "lines",
         "type": "scatter",
         "x": [
          -14.550581404051927,
          -13.994286400461116
         ],
         "y": [
          19.624642271113515,
          20.881168702489436
         ]
        },
        {
         "hoverinfo": "none",
         "line": {
          "color": "#888",
          "width": 1.0658626000410127
         },
         "mode": "lines",
         "type": "scatter",
         "x": [
          -13.713867049753938,
          -14.311419458172569
         ],
         "y": [
          21.32277923138798,
          19.971822262725137
         ]
        },
        {
         "hoverinfo": "none",
         "line": {
          "color": "#888",
          "width": 1.12938419146808
         },
         "mode": "lines",
         "type": "scatter",
         "x": [
          -14.838886373833402,
          -14.311419458172569
         ],
         "y": [
          19.128537172554875,
          19.971822262725137
         ]
        },
        {
         "hoverinfo": "none",
         "line": {
          "color": "#888",
          "width": 1.1219332819026966
         },
         "mode": "lines",
         "type": "scatter",
         "x": [
          -13.421282842315208,
          -14.311419458172569
         ],
         "y": [
          20.731208327312252,
          19.971822262725137
         ]
        },
        {
         "hoverinfo": "none",
         "line": {
          "color": "#888",
          "width": 1.3481984995945968
         },
         "mode": "lines",
         "type": "scatter",
         "x": [
          -13.979715599240638,
          -14.311419458172569
         ],
         "y": [
          19.090615747944213,
          19.971822262725137
         ]
        },
        {
         "hoverinfo": "none",
         "line": {
          "color": "#888",
          "width": 1.146699615623318
         },
         "mode": "lines",
         "type": "scatter",
         "x": [
          -14.550581404051927,
          -14.311419458172569
         ],
         "y": [
          19.624642271113515,
          19.971822262725137
         ]
        },
        {
         "hoverinfo": "none",
         "line": {
          "color": "#888",
          "width": 1.2640652763479268
         },
         "mode": "lines",
         "type": "scatter",
         "x": [
          -14.311419458172569,
          -13.197102179360037
         ],
         "y": [
          19.971822262725137,
          20.446227226217555
         ]
        },
        {
         "hoverinfo": "none",
         "line": {
          "color": "#888",
          "width": 1.3428936221763546
         },
         "mode": "lines",
         "type": "scatter",
         "x": [
          -14.311419458172569,
          -14.582278534558517
         ],
         "y": [
          19.971822262725137,
          20.217135258366874
         ]
        },
        {
         "hoverinfo": "none",
         "line": {
          "color": "#888",
          "width": 1.1687158288165795
         },
         "mode": "lines",
         "type": "scatter",
         "x": [
          -14.311419458172569,
          -15.067822716688191
         ],
         "y": [
          19.971822262725137,
          19.80585907837482
         ]
        },
        {
         "hoverinfo": "none",
         "line": {
          "color": "#888",
          "width": 1.1458170895486544
         },
         "mode": "lines",
         "type": "scatter",
         "x": [
          -14.311419458172569,
          -13.7703511169154
         ],
         "y": [
          19.971822262725137,
          21.085508206964032
         ]
        },
        {
         "hoverinfo": "none",
         "line": {
          "color": "#888",
          "width": 1.231759241353672
         },
         "mode": "lines",
         "type": "scatter",
         "x": [
          -14.311419458172569,
          -13.991559819591165
         ],
         "y": [
          19.971822262725137,
          20.390716009399764
         ]
        },
        {
         "hoverinfo": "none",
         "line": {
          "color": "#888",
          "width": 1.1164940239974934
         },
         "mode": "lines",
         "type": "scatter",
         "x": [
          -14.311419458172569,
          -15.174279426119066
         ],
         "y": [
          19.971822262725137,
          20.114788448159768
         ]
        },
        {
         "hoverinfo": "none",
         "line": {
          "color": "#888",
          "width": 1.0782829460041476
         },
         "mode": "lines",
         "type": "scatter",
         "x": [
          -14.018918630615032,
          -14.858379268270992
         ],
         "y": [
          21.72493113956793,
          21.526061738550137
         ]
        },
        {
         "hoverinfo": "none",
         "line": {
          "color": "#888",
          "width": 1.257201928708477
         },
         "mode": "lines",
         "type": "scatter",
         "x": [
          -13.889868260640972,
          -14.858379268270992
         ],
         "y": [
          20.43968106318603,
          21.526061738550137
         ]
        },
        {
         "hoverinfo": "none",
         "line": {
          "color": "#888",
          "width": 1.0172628459319746
         },
         "mode": "lines",
         "type": "scatter",
         "x": [
          -13.469602721182888,
          -14.858379268270992
         ],
         "y": [
          21.366730828241682,
          21.526061738550137
         ]
        },
        {
         "hoverinfo": "none",
         "line": {
          "color": "#888",
          "width": 1.1019618551845796
         },
         "mode": "lines",
         "type": "scatter",
         "x": [
          -14.858379268270992,
          -15.185335092491869
         ],
         "y": [
          21.526061738550137,
          21.033890967174504
         ]
        },
        {
         "hoverinfo": "none",
         "line": {
          "color": "#888",
          "width": 1.0572669306738274
         },
         "mode": "lines",
         "type": "scatter",
         "x": [
          -14.858379268270992,
          -14.027395794310534
         ],
         "y": [
          21.526061738550137,
          21.396105270096907
         ]
        },
        {
         "hoverinfo": "none",
         "line": {
          "color": "#888",
          "width": 1.015098821210063
         },
         "mode": "lines",
         "type": "scatter",
         "x": [
          -14.858379268270992,
          -15.827375056035295
         ],
         "y": [
          21.526061738550137,
          21.850844621105583
         ]
        },
        {
         "hoverinfo": "none",
         "line": {
          "color": "#888",
          "width": 1.0665600340541475
         },
         "mode": "lines",
         "type": "scatter",
         "x": [
          -14.858379268270992,
          -14.986087504472923
         ],
         "y": [
          21.526061738550137,
          22.39991748096667
         ]
        },
        {
         "hoverinfo": "none",
         "line": {
          "color": "#888",
          "width": 1.0602471199975425
         },
         "mode": "lines",
         "type": "scatter",
         "x": [
          -14.858379268270992,
          -14.197638723341639
         ],
         "y": [
          21.526061738550137,
          21.267662103421003
         ]
        },
        {
         "hoverinfo": "none",
         "line": {
          "color": "#888",
          "width": 1.227184181781318
         },
         "mode": "lines",
         "type": "scatter",
         "x": [
          -6.3972927373085495,
          -7.173322289908699
         ],
         "y": [
          15.241339929201953,
          15.323501465363748
         ]
        },
        {
         "hoverinfo": "none",
         "line": {
          "color": "#888",
          "width": 1.1343655629458087
         },
         "mode": "lines",
         "type": "scatter",
         "x": [
          -6.3972927373085495,
          -7.0968782985042065
         ],
         "y": [
          15.241339929201953,
          16.098146229260884
         ]
        },
        {
         "hoverinfo": "none",
         "line": {
          "color": "#888",
          "width": 1.1046334590206233
         },
         "mode": "lines",
         "type": "scatter",
         "x": [
          -6.3972927373085495,
          -6.370044307639769
         ],
         "y": [
          15.241339929201953,
          15.983076688771783
         ]
        },
        {
         "hoverinfo": "none",
         "line": {
          "color": "#888",
          "width": 1.1418051911270168
         },
         "mode": "lines",
         "type": "scatter",
         "x": [
          -10.747730119044457,
          -11.942871546634484
         ],
         "y": [
          21.48888986020604,
          20.943028751942535
         ]
        },
        {
         "hoverinfo": "none",
         "line": {
          "color": "#888",
          "width": 1.049328234297132
         },
         "mode": "lines",
         "type": "scatter",
         "x": [
          -10.805873149921057,
          -11.942871546634484
         ],
         "y": [
          20.42653191608568,
          20.943028751942535
         ]
        },
        {
         "hoverinfo": "none",
         "line": {
          "color": "#888",
          "width": 1.0034623961709634
         },
         "mode": "lines",
         "type": "scatter",
         "x": [
          -11.942871546634484,
          -13.197102179360037
         ],
         "y": [
          20.943028751942535,
          20.446227226217555
         ]
        },
        {
         "hoverinfo": "none",
         "line": {
          "color": "#888",
          "width": 1.0183573234405014
         },
         "mode": "lines",
         "type": "scatter",
         "x": [
          -11.942871546634484,
          -12.850718139242009
         ],
         "y": [
          20.943028751942535,
          20.929101940708783
         ]
        },
        {
         "hoverinfo": "none",
         "line": {
          "color": "#888",
          "width": 1.1752154149617038
         },
         "mode": "lines",
         "type": "scatter",
         "x": [
          -11.942871546634484,
          -13.427726029882152
         ],
         "y": [
          20.943028751942535,
          21.052187341494502
         ]
        },
        {
         "hoverinfo": "none",
         "line": {
          "color": "#888",
          "width": 1.1197407888849389
         },
         "mode": "lines",
         "type": "scatter",
         "x": [
          -11.942871546634484,
          -11.903242820535906
         ],
         "y": [
          20.943028751942535,
          19.6044514246644
         ]
        },
        {
         "hoverinfo": "none",
         "line": {
          "color": "#888",
          "width": 1.0566396278035435
         },
         "mode": "lines",
         "type": "scatter",
         "x": [
          -11.942871546634484,
          -12.910843834401481
         ],
         "y": [
          20.943028751942535,
          21.01436659376408
         ]
        },
        {
         "hoverinfo": "none",
         "line": {
          "color": "#888",
          "width": 1.1350118308234052
         },
         "mode": "lines",
         "type": "scatter",
         "x": [
          -11.942871546634484,
          -11.14647911771022
         ],
         "y": [
          20.943028751942535,
          22.371393610371104
         ]
        },
        {
         "hoverinfo": "none",
         "line": {
          "color": "#888",
          "width": 1.9540570469077267
         },
         "mode": "lines",
         "type": "scatter",
         "x": [
          -13.713867049753938,
          -13.197102179360037
         ],
         "y": [
          21.32277923138798,
          20.446227226217555
         ]
        },
        {
         "hoverinfo": "none",
         "line": {
          "color": "#888",
          "width": 1.056647300658568
         },
         "mode": "lines",
         "type": "scatter",
         "x": [
          -13.72503864579122,
          -13.197102179360037
         ],
         "y": [
          20.752200827459543,
          20.446227226217555
         ]
        },
        {
         "hoverinfo": "none",
         "line": {
          "color": "#888",
          "width": 1.1856272885034096
         },
         "mode": "lines",
         "type": "scatter",
         "x": [
          -13.469602721182888,
          -13.197102179360037
         ],
         "y": [
          21.366730828241682,
          20.446227226217555
         ]
        },
        {
         "hoverinfo": "none",
         "line": {
          "color": "#888",
          "width": 1.4691872548797291
         },
         "mode": "lines",
         "type": "scatter",
         "x": [
          -13.421282842315208,
          -13.197102179360037
         ],
         "y": [
          20.731208327312252,
          20.446227226217555
         ]
        },
        {
         "hoverinfo": "none",
         "line": {
          "color": "#888",
          "width": 1.1270270101437254
         },
         "mode": "lines",
         "type": "scatter",
         "x": [
          -12.341464452775313,
          -13.197102179360037
         ],
         "y": [
          20.311362961497515,
          20.446227226217555
         ]
        },
        {
         "hoverinfo": "none",
         "line": {
          "color": "#888",
          "width": 1.2640652763479268
         },
         "mode": "lines",
         "type": "scatter",
         "x": [
          -14.311419458172569,
          -13.197102179360037
         ],
         "y": [
          19.971822262725137,
          20.446227226217555
         ]
        },
        {
         "hoverinfo": "none",
         "line": {
          "color": "#888",
          "width": 1.0034623961709634
         },
         "mode": "lines",
         "type": "scatter",
         "x": [
          -11.942871546634484,
          -13.197102179360037
         ],
         "y": [
          20.943028751942535,
          20.446227226217555
         ]
        },
        {
         "hoverinfo": "none",
         "line": {
          "color": "#888",
          "width": 2.2141121478938164
         },
         "mode": "lines",
         "type": "scatter",
         "x": [
          -13.197102179360037,
          -12.850718139242009
         ],
         "y": [
          20.446227226217555,
          20.929101940708783
         ]
        },
        {
         "hoverinfo": "none",
         "line": {
          "color": "#888",
          "width": 1.0119653962338753
         },
         "mode": "lines",
         "type": "scatter",
         "x": [
          -13.197102179360037,
          -13.85101503582916
         ],
         "y": [
          20.446227226217555,
          19.70968323427432
         ]
        },
        {
         "hoverinfo": "none",
         "line": {
          "color": "#888",
          "width": 1.335460570441208
         },
         "mode": "lines",
         "type": "scatter",
         "x": [
          -13.197102179360037,
          -13.427726029882152
         ],
         "y": [
          20.446227226217555,
          21.052187341494502
         ]
        },
        {
         "hoverinfo": "none",
         "line": {
          "color": "#888",
          "width": 1.0094404198980842
         },
         "mode": "lines",
         "type": "scatter",
         "x": [
          -13.197102179360037,
          -13.584146493457986
         ],
         "y": [
          20.446227226217555,
          21.910867822678476
         ]
        },
        {
         "hoverinfo": "none",
         "line": {
          "color": "#888",
          "width": 1.76520562498758
         },
         "mode": "lines",
         "type": "scatter",
         "x": [
          -13.197102179360037,
          -12.907640754729615
         ],
         "y": [
          20.446227226217555,
          20.469607616408755
         ]
        },
        {
         "hoverinfo": "none",
         "line": {
          "color": "#888",
          "width": 1.029667423443561
         },
         "mode": "lines",
         "type": "scatter",
         "x": [
          -13.197102179360037,
          -14.7570657120828
         ],
         "y": [
          20.446227226217555,
          20.50506469374403
         ]
        },
        {
         "hoverinfo": "none",
         "line": {
          "color": "#888",
          "width": 1.1358728561908775
         },
         "mode": "lines",
         "type": "scatter",
         "x": [
          -13.197102179360037,
          -11.903242820535906
         ],
         "y": [
          20.446227226217555,
          19.6044514246644
         ]
        },
        {
         "hoverinfo": "none",
         "line": {
          "color": "#888",
          "width": 1.0539800831501809
         },
         "mode": "lines",
         "type": "scatter",
         "x": [
          -13.197102179360037,
          -12.918576723501182
         ],
         "y": [
          20.446227226217555,
          19.762632785571746
         ]
        },
        {
         "hoverinfo": "none",
         "line": {
          "color": "#888",
          "width": 1.074493439756516
         },
         "mode": "lines",
         "type": "scatter",
         "x": [
          -13.197102179360037,
          -13.485752324101506
         ],
         "y": [
          20.446227226217555,
          19.465977412591247
         ]
        },
        {
         "hoverinfo": "none",
         "line": {
          "color": "#888",
          "width": 1.1148568168788477
         },
         "mode": "lines",
         "type": "scatter",
         "x": [
          -13.197102179360037,
          -13.351672055886201
         ],
         "y": [
          20.446227226217555,
          19.867140863497806
         ]
        },
        {
         "hoverinfo": "none",
         "line": {
          "color": "#888",
          "width": 2.1872722361747963
         },
         "mode": "lines",
         "type": "scatter",
         "x": [
          -13.197102179360037,
          -12.910843834401481
         ],
         "y": [
          20.446227226217555,
          21.01436659376408
         ]
        },
        {
         "hoverinfo": "none",
         "line": {
          "color": "#888",
          "width": 1.5780503013019398
         },
         "mode": "lines",
         "type": "scatter",
         "x": [
          -13.197102179360037,
          -12.154447470436555
         ],
         "y": [
          20.446227226217555,
          20.687358998302738
         ]
        },
        {
         "hoverinfo": "none",
         "line": {
          "color": "#888",
          "width": 1.4450332099193164
         },
         "mode": "lines",
         "type": "scatter",
         "x": [
          -13.197102179360037,
          -13.7703511169154
         ],
         "y": [
          20.446227226217555,
          21.085508206964032
         ]
        },
        {
         "hoverinfo": "none",
         "line": {
          "color": "#888",
          "width": 1.3154972210087321
         },
         "mode": "lines",
         "type": "scatter",
         "x": [
          -13.197102179360037,
          -13.991559819591165
         ],
         "y": [
          20.446227226217555,
          20.390716009399764
         ]
        },
        {
         "hoverinfo": "none",
         "line": {
          "color": "#888",
          "width": 1.2385843657988345
         },
         "mode": "lines",
         "type": "scatter",
         "x": [
          -13.197102179360037,
          -13.23643931550353
         ],
         "y": [
          20.446227226217555,
          20.945151973986814
         ]
        },
        {
         "hoverinfo": "none",
         "line": {
          "color": "#888",
          "width": 1.0404031945162697
         },
         "mode": "lines",
         "type": "scatter",
         "x": [
          -13.197102179360037,
          -13.030036553810685
         ],
         "y": [
          20.446227226217555,
          21.519701600461545
         ]
        },
        {
         "hoverinfo": "none",
         "line": {
          "color": "#888",
          "width": 1.0852401352493468
         },
         "mode": "lines",
         "type": "scatter",
         "x": [
          -13.197102179360037,
          -12.734203853902583
         ],
         "y": [
          20.446227226217555,
          21.55340460756357
         ]
        },
        {
         "hoverinfo": "none",
         "line": {
          "color": "#888",
          "width": 1.3615631482798145
         },
         "mode": "lines",
         "type": "scatter",
         "x": [
          -13.197102179360037,
          -13.272428838714013
         ],
         "y": [
          20.446227226217555,
          21.97460394894528
         ]
        },
        {
         "hoverinfo": "none",
         "line": {
          "color": "#888",
          "width": 1.88146236894806
         },
         "mode": "lines",
         "type": "scatter",
         "x": [
          -13.197102179360037,
          -12.77601031504658
         ],
         "y": [
          20.446227226217555,
          21.12541781408756
         ]
        },
        {
         "hoverinfo": "none",
         "line": {
          "color": "#888",
          "width": 1.0948792638072153
         },
         "mode": "lines",
         "type": "scatter",
         "x": [
          -13.197102179360037,
          -14.233251817518356
         ],
         "y": [
          20.446227226217555,
          19.446136122802898
         ]
        },
        {
         "hoverinfo": "none",
         "line": {
          "color": "#888",
          "width": 1.1768508449521695
         },
         "mode": "lines",
         "type": "scatter",
         "x": [
          -11.96986801292686,
          -12.345143556966459
         ],
         "y": [
          22.41278980421849,
          21.995363443026463
         ]
        },
        {
         "hoverinfo": "none",
         "line": {
          "color": "#888",
          "width": 1.1403599810656184
         },
         "mode": "lines",
         "type": "scatter",
         "x": [
          -12.345143556966459,
          -12.39070970399015
         ],
         "y": [
          21.995363443026463,
          22.673929128949084
         ]
        },
        {
         "hoverinfo": "none",
         "line": {
          "color": "#888",
          "width": 1.2126837123212695
         },
         "mode": "lines",
         "type": "scatter",
         "x": [
          -12.345143556966459,
          -12.040651155801354
         ],
         "y": [
          21.995363443026463,
          21.209858966184818
         ]
        },
        {
         "hoverinfo": "none",
         "line": {
          "color": "#888",
          "width": 1.2839448025401863
         },
         "mode": "lines",
         "type": "scatter",
         "x": [
          -12.345143556966459,
          -12.910843834401481
         ],
         "y": [
          21.995363443026463,
          21.01436659376408
         ]
        },
        {
         "hoverinfo": "none",
         "line": {
          "color": "#888",
          "width": 1.0867502706949521
         },
         "mode": "lines",
         "type": "scatter",
         "x": [
          -12.345143556966459,
          -12.77601031504658
         ],
         "y": [
          21.995363443026463,
          21.12541781408756
         ]
        },
        {
         "hoverinfo": "none",
         "line": {
          "color": "#888",
          "width": 1.0169021877525928
         },
         "mode": "lines",
         "type": "scatter",
         "x": [
          -12.345143556966459,
          -13.263024710033392
         ],
         "y": [
          21.995363443026463,
          21.47913495742209
         ]
        },
        {
         "hoverinfo": "none",
         "line": {
          "color": "#888",
          "width": 1.0122180204210627
         },
         "mode": "lines",
         "type": "scatter",
         "x": [
          -12.345143556966459,
          -11.263788850048781
         ],
         "y": [
          21.995363443026463,
          22.384709120747623
         ]
        },
        {
         "hoverinfo": "none",
         "line": {
          "color": "#888",
          "width": 2.5970015432787803
         },
         "mode": "lines",
         "type": "scatter",
         "x": [
          -13.713867049753938,
          -12.850718139242009
         ],
         "y": [
          21.32277923138798,
          20.929101940708783
         ]
        },
        {
         "hoverinfo": "none",
         "line": {
          "color": "#888",
          "width": 1.316503749556375
         },
         "mode": "lines",
         "type": "scatter",
         "x": [
          -14.018918630615032,
          -12.850718139242009
         ],
         "y": [
          21.72493113956793,
          20.929101940708783
         ]
        },
        {
         "hoverinfo": "none",
         "line": {
          "color": "#888",
          "width": 1.9040831646216727
         },
         "mode": "lines",
         "type": "scatter",
         "x": [
          -13.72503864579122,
          -12.850718139242009
         ],
         "y": [
          20.752200827459543,
          20.929101940708783
         ]
        },
        {
         "hoverinfo": "none",
         "line": {
          "color": "#888",
          "width": 1.7510529183333121
         },
         "mode": "lines",
         "type": "scatter",
         "x": [
          -12.95422029598588,
          -12.850718139242009
         ],
         "y": [
          22.173012221957887,
          20.929101940708783
         ]
        },
        {
         "hoverinfo": "none",
         "line": {
          "color": "#888",
          "width": 1.1269075202535626
         },
         "mode": "lines",
         "type": "scatter",
         "x": [
          -13.889868260640972,
          -12.850718139242009
         ],
         "y": [
          20.43968106318603,
          20.929101940708783
         ]
        },
        {
         "hoverinfo": "none",
         "line": {
          "color": "#888",
          "width": 1.0025563006527958
         },
         "mode": "lines",
         "type": "scatter",
         "x": [
          -11.722208057949885,
          -12.850718139242009
         ],
         "y": [
          20.221982900095632,
          20.929101940708783
         ]
        },
        {
         "hoverinfo": "none",
         "line": {
          "color": "#888",
          "width": 1.9291399195771364
         },
         "mode": "lines",
         "type": "scatter",
         "x": [
          -13.469602721182888,
          -12.850718139242009
         ],
         "y": [
          21.366730828241682,
          20.929101940708783
         ]
        },
        {
         "hoverinfo": "none",
         "line": {
          "color": "#888",
          "width": 1.713190769748516
         },
         "mode": "lines",
         "type": "scatter",
         "x": [
          -13.421282842315208,
          -12.850718139242009
         ],
         "y": [
          20.731208327312252,
          20.929101940708783
         ]
        },
        {
         "hoverinfo": "none",
         "line": {
          "color": "#888",
          "width": 1.0539283700693882
         },
         "mode": "lines",
         "type": "scatter",
         "x": [
          -12.075137469042582,
          -12.850718139242009
         ],
         "y": [
          21.88172971181922,
          20.929101940708783
         ]
        },
        {
         "hoverinfo": "none",
         "line": {
          "color": "#888",
          "width": 1.0423669327280327
         },
         "mode": "lines",
         "type": "scatter",
         "x": [
          -12.88079425450245,
          -12.850718139242009
         ],
         "y": [
          20.00414689876472,
          20.929101940708783
         ]
        },
        {
         "hoverinfo": "none",
         "line": {
          "color": "#888",
          "width": 1.3313657603805105
         },
         "mode": "lines",
         "type": "scatter",
         "x": [
          -11.949124589899004,
          -12.850718139242009
         ],
         "y": [
          21.792200991998797,
          20.929101940708783
         ]
        },
        {
         "hoverinfo": "none",
         "line": {
          "color": "#888",
          "width": 1.2693981784240256
         },
         "mode": "lines",
         "type": "scatter",
         "x": [
          -12.341464452775313,
          -12.850718139242009
         ],
         "y": [
          20.311362961497515,
          20.929101940708783
         ]
        },
        {
         "hoverinfo": "none",
         "line": {
          "color": "#888",
          "width": 1.381587268864401
         },
         "mode": "lines",
         "type": "scatter",
         "x": [
          -13.488239384273696,
          -12.850718139242009
         ],
         "y": [
          22.052657171590635,
          20.929101940708783
         ]
        },
        {
         "hoverinfo": "none",
         "line": {
          "color": "#888",
          "width": 1.1464411942901618
         },
         "mode": "lines",
         "type": "scatter",
         "x": [
          -13.642983348705675,
          -12.850718139242009
         ],
         "y": [
          20.519633212486255,
          20.929101940708783
         ]
        },
        {
         "hoverinfo": "none",
         "line": {
          "color": "#888",
          "width": 1.0183573234405014
         },
         "mode": "lines",
         "type": "scatter",
         "x": [
          -11.942871546634484,
          -12.850718139242009
         ],
         "y": [
          20.943028751942535,
          20.929101940708783
         ]
        },
        {
         "hoverinfo": "none",
         "line": {
          "color": "#888",
          "width": 2.2141121478938164
         },
         "mode": "lines",
         "type": "scatter",
         "x": [
          -13.197102179360037,
          -12.850718139242009
         ],
         "y": [
          20.446227226217555,
          20.929101940708783
         ]
        },
        {
         "hoverinfo": "none",
         "line": {
          "color": "#888",
          "width": 1.1712860523167408
         },
         "mode": "lines",
         "type": "scatter",
         "x": [
          -12.850718139242009,
          -13.236477225987986
         ],
         "y": [
          20.929101940708783,
          20.35065703675912
         ]
        },
        {
         "hoverinfo": "none",
         "line": {
          "color": "#888",
          "width": 1.4412857713781093
         },
         "mode": "lines",
         "type": "scatter",
         "x": [
          -12.850718139242009,
          -13.537096610506756
         ],
         "y": [
          20.929101940708783,
          19.92320307519968
         ]
        },
        {
         "hoverinfo": "none",
         "line": {
          "color": "#888",
          "width": 2.429011397785476
         },
         "mode": "lines",
         "type": "scatter",
         "x": [
          -12.850718139242009,
          -13.427726029882152
         ],
         "y": [
          20.929101940708783,
          21.052187341494502
         ]
        },
        {
         "hoverinfo": "none",
         "line": {
          "color": "#888",
          "width": 1.3331325105622227
         },
         "mode": "lines",
         "type": "scatter",
         "x": [
          -12.850718139242009,
          -13.04465356572712
         ],
         "y": [
          20.929101940708783,
          19.63101236622079
         ]
        },
        {
         "hoverinfo": "none",
         "line": {
          "color": "#888",
          "width": 1.6901053602020606
         },
         "mode": "lines",
         "type": "scatter",
         "x": [
          -12.850718139242009,
          -14.027395794310534
         ],
         "y": [
          20.929101940708783,
          21.396105270096907
         ]
        },
        {
         "hoverinfo": "none",
         "line": {
          "color": "#888",
          "width": 1.416011696579956
         },
         "mode": "lines",
         "type": "scatter",
         "x": [
          -12.850718139242009,
          -13.584146493457986
         ],
         "y": [
          20.929101940708783,
          21.910867822678476
         ]
        },
        {
         "hoverinfo": "none",
         "line": {
          "color": "#888",
          "width": 1.6820375473378413
         },
         "mode": "lines",
         "type": "scatter",
         "x": [
          -12.850718139242009,
          -12.907640754729615
         ],
         "y": [
          20.929101940708783,
          20.469607616408755
         ]
        },
        {
         "hoverinfo": "none",
         "line": {
          "color": "#888",
          "width": 3.1577487523157908
         },
         "mode": "lines",
         "type": "scatter",
         "x": [
          -12.850718139242009,
          -13.046705351336772
         ],
         "y": [
          20.929101940708783,
          20.77588764099713
         ]
        },
        {
         "hoverinfo": "none",
         "line": {
          "color": "#888",
          "width": 1.3355783082579442
         },
         "mode": "lines",
         "type": "scatter",
         "x": [
          -12.850718139242009,
          -11.670530996185668
         ],
         "y": [
          20.929101940708783,
          21.09066706630328
         ]
        },
        {
         "hoverinfo": "none",
         "line": {
          "color": "#888",
          "width": 1.0218575318561447
         },
         "mode": "lines",
         "type": "scatter",
         "x": [
          -12.850718139242009,
          -12.700498433924094
         ],
         "y": [
          20.929101940708783,
          22.212152083511462
         ]
        },
        {
         "hoverinfo": "none",
         "line": {
          "color": "#888",
          "width": 1.1112082173446767
         },
         "mode": "lines",
         "type": "scatter",
         "x": [
          -12.850718139242009,
          -12.14572655546444
         ],
         "y": [
          20.929101940708783,
          20.401750449215392
         ]
        },
        {
         "hoverinfo": "none",
         "line": {
          "color": "#888",
          "width": 1.1081264330164462
         },
         "mode": "lines",
         "type": "scatter",
         "x": [
          -12.850718139242009,
          -12.918576723501182
         ],
         "y": [
          20.929101940708783,
          19.762632785571746
         ]
        },
        {
         "hoverinfo": "none",
         "line": {
          "color": "#888",
          "width": 1.7038625293784184
         },
         "mode": "lines",
         "type": "scatter",
         "x": [
          -12.850718139242009,
          -12.608722745064354
         ],
         "y": [
          20.929101940708783,
          21.38991608678275
         ]
        },
        {
         "hoverinfo": "none",
         "line": {
          "color": "#888",
          "width": 1.2481703996943403
         },
         "mode": "lines",
         "type": "scatter",
         "x": [
          -12.850718139242009,
          -13.912717315656698
         ],
         "y": [
          20.929101940708783,
          21.454212393115643
         ]
        },
        {
         "hoverinfo": "none",
         "line": {
          "color": "#888",
          "width": 1.5675087240431738
         },
         "mode": "lines",
         "type": "scatter",
         "x": [
          -12.850718139242009,
          -12.629951858941117
         ],
         "y": [
          20.929101940708783,
          20.42458920482799
         ]
        },
        {
         "hoverinfo": "none",
         "line": {
          "color": "#888",
          "width": 2.065971345037072
         },
         "mode": "lines",
         "type": "scatter",
         "x": [
          -12.850718139242009,
          -13.551675742174377
         ],
         "y": [
          20.929101940708783,
          20.329212509114274
         ]
        },
        {
         "hoverinfo": "none",
         "line": {
          "color": "#888",
          "width": 1.396281197964648
         },
         "mode": "lines",
         "type": "scatter",
         "x": [
          -12.850718139242009,
          -12.245780801073543
         ],
         "y": [
          20.929101940708783,
          22.05487676021708
         ]
        },
        {
         "hoverinfo": "none",
         "line": {
          "color": "#888",
          "width": 1.0785351354543908
         },
         "mode": "lines",
         "type": "scatter",
         "x": [
          -12.850718139242009,
          -13.351672055886201
         ],
         "y": [
          20.929101940708783,
          19.867140863497806
         ]
        },
        {
         "hoverinfo": "none",
         "line": {
          "color": "#888",
          "width": 1.0897274601483349
         },
         "mode": "lines",
         "type": "scatter",
         "x": [
          -12.850718139242009,
          -14.113963476444026
         ],
         "y": [
          20.929101940708783,
          20.733964232542867
         ]
        },
        {
         "hoverinfo": "none",
         "line": {
          "color": "#888",
          "width": 1.3018585044066486
         },
         "mode": "lines",
         "type": "scatter",
         "x": [
          -12.850718139242009,
          -12.170458243867694
         ],
         "y": [
          20.929101940708783,
          19.971879414718284
         ]
        },
        {
         "hoverinfo": "none",
         "line": {
          "color": "#888",
          "width": 10
         },
         "mode": "lines",
         "type": "scatter",
         "x": [
          -12.850718139242009,
          -12.910843834401481
         ],
         "y": [
          20.929101940708783,
          21.01436659376408
         ]
        },
        {
         "hoverinfo": "none",
         "line": {
          "color": "#888",
          "width": 2.532758298862073
         },
         "mode": "lines",
         "type": "scatter",
         "x": [
          -12.850718139242009,
          -13.637993460243793
         ],
         "y": [
          20.929101940708783,
          21.53220459934256
         ]
        },
        {
         "hoverinfo": "none",
         "line": {
          "color": "#888",
          "width": 1.1674054637034508
         },
         "mode": "lines",
         "type": "scatter",
         "x": [
          -12.850718139242009,
          -12.154447470436555
         ],
         "y": [
          20.929101940708783,
          20.687358998302738
         ]
        },
        {
         "hoverinfo": "none",
         "line": {
          "color": "#888",
          "width": 1.5771108142790777
         },
         "mode": "lines",
         "type": "scatter",
         "x": [
          -12.850718139242009,
          -12.284441948806446
         ],
         "y": [
          20.929101940708783,
          21.025645557579107
         ]
        },
        {
         "hoverinfo": "none",
         "line": {
          "color": "#888",
          "width": 1.6595256306523098
         },
         "mode": "lines",
         "type": "scatter",
         "x": [
          -12.850718139242009,
          -13.7703511169154
         ],
         "y": [
          20.929101940708783,
          21.085508206964032
         ]
        },
        {
         "hoverinfo": "none",
         "line": {
          "color": "#888",
          "width": 1.605423384514806
         },
         "mode": "lines",
         "type": "scatter",
         "x": [
          -12.850718139242009,
          -13.991559819591165
         ],
         "y": [
          20.929101940708783,
          20.390716009399764
         ]
        },
        {
         "hoverinfo": "none",
         "line": {
          "color": "#888",
          "width": 1.7173305471245446
         },
         "mode": "lines",
         "type": "scatter",
         "x": [
          -12.850718139242009,
          -13.23643931550353
         ],
         "y": [
          20.929101940708783,
          20.945151973986814
         ]
        },
        {
         "hoverinfo": "none",
         "line": {
          "color": "#888",
          "width": 1.2028357067820319
         },
         "mode": "lines",
         "type": "scatter",
         "x": [
          -12.850718139242009,
          -11.85499862010832
         ],
         "y": [
          20.929101940708783,
          20.494921025806526
         ]
        },
        {
         "hoverinfo": "none",
         "line": {
          "color": "#888",
          "width": 1.5369501912484806
         },
         "mode": "lines",
         "type": "scatter",
         "x": [
          -12.850718139242009,
          -11.80173372332277
         ],
         "y": [
          20.929101940708783,
          21.45649671999348
         ]
        },
        {
         "hoverinfo": "none",
         "line": {
          "color": "#888",
          "width": 1.1810347859256036
         },
         "mode": "lines",
         "type": "scatter",
         "x": [
          -12.850718139242009,
          -12.413627755794588
         ],
         "y": [
          20.929101940708783,
          19.886962274912875
         ]
        },
        {
         "hoverinfo": "none",
         "line": {
          "color": "#888",
          "width": 3.24239654650267
         },
         "mode": "lines",
         "type": "scatter",
         "x": [
          -12.850718139242009,
          -13.030036553810685
         ],
         "y": [
          20.929101940708783,
          21.519701600461545
         ]
        },
        {
         "hoverinfo": "none",
         "line": {
          "color": "#888",
          "width": 1.2797654542636812
         },
         "mode": "lines",
         "type": "scatter",
         "x": [
          -12.850718139242009,
          -13.007084255175895
         ],
         "y": [
          20.929101940708783,
          21.86972207748751
         ]
        },
        {
         "hoverinfo": "none",
         "line": {
          "color": "#888",
          "width": 1.4560617117653787
         },
         "mode": "lines",
         "type": "scatter",
         "x": [
          -12.850718139242009,
          -14.197638723341639
         ],
         "y": [
          20.929101940708783,
          21.267662103421003
         ]
        },
        {
         "hoverinfo": "none",
         "line": {
          "color": "#888",
          "width": 1.9377941741220632
         },
         "mode": "lines",
         "type": "scatter",
         "x": [
          -12.850718139242009,
          -12.734203853902583
         ],
         "y": [
          20.929101940708783,
          21.55340460756357
         ]
        },
        {
         "hoverinfo": "none",
         "line": {
          "color": "#888",
          "width": 1.3973979854360747
         },
         "mode": "lines",
         "type": "scatter",
         "x": [
          -12.850718139242009,
          -13.272428838714013
         ],
         "y": [
          20.929101940708783,
          21.97460394894528
         ]
        },
        {
         "hoverinfo": "none",
         "line": {
          "color": "#888",
          "width": 2.907335717315135
         },
         "mode": "lines",
         "type": "scatter",
         "x": [
          -12.850718139242009,
          -12.77601031504658
         ],
         "y": [
          20.929101940708783,
          21.12541781408756
         ]
        },
        {
         "hoverinfo": "none",
         "line": {
          "color": "#888",
          "width": 1.4338591409924732
         },
         "mode": "lines",
         "type": "scatter",
         "x": [
          -12.850718139242009,
          -13.402038872682441
         ],
         "y": [
          20.929101940708783,
          21.793632774845815
         ]
        },
        {
         "hoverinfo": "none",
         "line": {
          "color": "#888",
          "width": 1.9541320687366572
         },
         "mode": "lines",
         "type": "scatter",
         "x": [
          -12.850718139242009,
          -12.800082302337206
         ],
         "y": [
          20.929101940708783,
          21.797200858097636
         ]
        },
        {
         "hoverinfo": "none",
         "line": {
          "color": "#888",
          "width": 1.7395038261794245
         },
         "mode": "lines",
         "type": "scatter",
         "x": [
          -12.850718139242009,
          -13.263024710033392
         ],
         "y": [
          20.929101940708783,
          21.47913495742209
         ]
        },
        {
         "hoverinfo": "none",
         "line": {
          "color": "#888",
          "width": 1.1972331711801998
         },
         "mode": "lines",
         "type": "scatter",
         "x": [
          -12.850718139242009,
          -12.0448503313882
         ],
         "y": [
          20.929101940708783,
          21.57539053726569
         ]
        },
        {
         "hoverinfo": "none",
         "line": {
          "color": "#888",
          "width": 1.089909315951797
         },
         "mode": "lines",
         "type": "scatter",
         "x": [
          -12.850718139242009,
          -13.994286400461116
         ],
         "y": [
          20.929101940708783,
          20.881168702489436
         ]
        },
        {
         "hoverinfo": "none",
         "line": {
          "color": "#888",
          "width": 1.2813328864664955
         },
         "mode": "lines",
         "type": "scatter",
         "x": [
          -12.850718139242009,
          -11.573787898129877
         ],
         "y": [
          20.929101940708783,
          20.603582672482666
         ]
        },
        {
         "hoverinfo": "none",
         "line": {
          "color": "#888",
          "width": 1.115282557992097
         },
         "mode": "lines",
         "type": "scatter",
         "x": [
          -11.355176247912755,
          -10.483350600146865
         ],
         "y": [
          13.682171823284031,
          13.87370946702034
         ]
        },
        {
         "hoverinfo": "none",
         "line": {
          "color": "#888",
          "width": 1.221336861129728
         },
         "mode": "lines",
         "type": "scatter",
         "x": [
          -12.900087281018456,
          -12.918576723501182
         ],
         "y": [
          18.488429619802535,
          19.762632785571746
         ]
        },
        {
         "hoverinfo": "none",
         "line": {
          "color": "#888",
          "width": 1.0300976654409664
         },
         "mode": "lines",
         "type": "scatter",
         "x": [
          -14.018918630615032,
          -15.185335092491869
         ],
         "y": [
          21.72493113956793,
          21.033890967174504
         ]
        },
        {
         "hoverinfo": "none",
         "line": {
          "color": "#888",
          "width": 1.0103215443084737
         },
         "mode": "lines",
         "type": "scatter",
         "x": [
          -13.889868260640972,
          -15.185335092491869
         ],
         "y": [
          20.43968106318603,
          21.033890967174504
         ]
        },
        {
         "hoverinfo": "none",
         "line": {
          "color": "#888",
          "width": 1.1019618551845796
         },
         "mode": "lines",
         "type": "scatter",
         "x": [
          -14.858379268270992,
          -15.185335092491869
         ],
         "y": [
          21.526061738550137,
          21.033890967174504
         ]
        },
        {
         "hoverinfo": "none",
         "line": {
          "color": "#888",
          "width": 1.0804621489566602
         },
         "mode": "lines",
         "type": "scatter",
         "x": [
          -15.185335092491869,
          -15.827375056035295
         ],
         "y": [
          21.033890967174504,
          21.850844621105583
         ]
        },
        {
         "hoverinfo": "none",
         "line": {
          "color": "#888",
          "width": 1.076168477283597
         },
         "mode": "lines",
         "type": "scatter",
         "x": [
          -15.185335092491869,
          -14.986087504472923
         ],
         "y": [
          21.033890967174504,
          22.39991748096667
         ]
        },
        {
         "hoverinfo": "none",
         "line": {
          "color": "#888",
          "width": 1.04064663228925
         },
         "mode": "lines",
         "type": "scatter",
         "x": [
          -12.88079425450245,
          -13.236477225987986
         ],
         "y": [
          20.00414689876472,
          20.35065703675912
         ]
        },
        {
         "hoverinfo": "none",
         "line": {
          "color": "#888",
          "width": 1.0170497165325973
         },
         "mode": "lines",
         "type": "scatter",
         "x": [
          -12.341464452775313,
          -13.236477225987986
         ],
         "y": [
          20.311362961497515,
          20.35065703675912
         ]
        },
        {
         "hoverinfo": "none",
         "line": {
          "color": "#888",
          "width": 1.1138911894863133
         },
         "mode": "lines",
         "type": "scatter",
         "x": [
          -14.489168620811169,
          -13.236477225987986
         ],
         "y": [
          21.091249032371852,
          20.35065703675912
         ]
        },
        {
         "hoverinfo": "none",
         "line": {
          "color": "#888",
          "width": 1.2534008462211892
         },
         "mode": "lines",
         "type": "scatter",
         "x": [
          -13.642983348705675,
          -13.236477225987986
         ],
         "y": [
          20.519633212486255,
          20.35065703675912
         ]
        },
        {
         "hoverinfo": "none",
         "line": {
          "color": "#888",
          "width": 1.1712860523167408
         },
         "mode": "lines",
         "type": "scatter",
         "x": [
          -12.850718139242009,
          -13.236477225987986
         ],
         "y": [
          20.929101940708783,
          20.35065703675912
         ]
        },
        {
         "hoverinfo": "none",
         "line": {
          "color": "#888",
          "width": 1.0038389531599077
         },
         "mode": "lines",
         "type": "scatter",
         "x": [
          -13.236477225987986,
          -13.537096610506756
         ],
         "y": [
          20.35065703675912,
          19.92320307519968
         ]
        },
        {
         "hoverinfo": "none",
         "line": {
          "color": "#888",
          "width": 1.1304683064154144
         },
         "mode": "lines",
         "type": "scatter",
         "x": [
          -13.236477225987986,
          -12.32242407686812
         ],
         "y": [
          20.35065703675912,
          19.080863426314938
         ]
        },
        {
         "hoverinfo": "none",
         "line": {
          "color": "#888",
          "width": 1.5414979966204365
         },
         "mode": "lines",
         "type": "scatter",
         "x": [
          -13.236477225987986,
          -13.427726029882152
         ],
         "y": [
          20.35065703675912,
          21.052187341494502
         ]
        },
        {
         "hoverinfo": "none",
         "line": {
          "color": "#888",
          "width": 1.271461417643486
         },
         "mode": "lines",
         "type": "scatter",
         "x": [
          -13.236477225987986,
          -12.608722745064354
         ],
         "y": [
          20.35065703675912,
          21.38991608678275
         ]
        },
        {
         "hoverinfo": "none",
         "line": {
          "color": "#888",
          "width": 1.16603137124147
         },
         "mode": "lines",
         "type": "scatter",
         "x": [
          -13.236477225987986,
          -12.356415919830226
         ],
         "y": [
          20.35065703675912,
          19.76080027239755
         ]
        },
        {
         "hoverinfo": "none",
         "line": {
          "color": "#888",
          "width": 1.61317668208167
         },
         "mode": "lines",
         "type": "scatter",
         "x": [
          -13.236477225987986,
          -13.912717315656698
         ],
         "y": [
          20.35065703675912,
          21.454212393115643
         ]
        },
        {
         "hoverinfo": "none",
         "line": {
          "color": "#888",
          "width": 1.092005958482648
         },
         "mode": "lines",
         "type": "scatter",
         "x": [
          -13.236477225987986,
          -12.773844683472381
         ],
         "y": [
          20.35065703675912,
          19.566330422843407
         ]
        },
        {
         "hoverinfo": "none",
         "line": {
          "color": "#888",
          "width": 1.173381555970102
         },
         "mode": "lines",
         "type": "scatter",
         "x": [
          -13.236477225987986,
          -14.113963476444026
         ],
         "y": [
          20.35065703675912,
          20.733964232542867
         ]
        },
        {
         "hoverinfo": "none",
         "line": {
          "color": "#888",
          "width": 1.1574776734716477
         },
         "mode": "lines",
         "type": "scatter",
         "x": [
          -13.236477225987986,
          -12.910843834401481
         ],
         "y": [
          20.35065703675912,
          21.01436659376408
         ]
        },
        {
         "hoverinfo": "none",
         "line": {
          "color": "#888",
          "width": 1.0179305802804943
         },
         "mode": "lines",
         "type": "scatter",
         "x": [
          -13.236477225987986,
          -13.637993460243793
         ],
         "y": [
          20.35065703675912,
          21.53220459934256
         ]
        },
        {
         "hoverinfo": "none",
         "line": {
          "color": "#888",
          "width": 1.041508649846482
         },
         "mode": "lines",
         "type": "scatter",
         "x": [
          -13.236477225987986,
          -13.23643931550353
         ],
         "y": [
          20.35065703675912,
          20.945151973986814
         ]
        },
        {
         "hoverinfo": "none",
         "line": {
          "color": "#888",
          "width": 1.1258718759742317
         },
         "mode": "lines",
         "type": "scatter",
         "x": [
          -13.236477225987986,
          -13.402038872682441
         ],
         "y": [
          20.35065703675912,
          21.793632774845815
         ]
        },
        {
         "hoverinfo": "none",
         "line": {
          "color": "#888",
          "width": 1.4722270411545835
         },
         "mode": "lines",
         "type": "scatter",
         "x": [
          -13.236477225987986,
          -13.263024710033392
         ],
         "y": [
          20.35065703675912,
          21.47913495742209
         ]
        },
        {
         "hoverinfo": "none",
         "line": {
          "color": "#888",
          "width": 1.027904451194665
         },
         "mode": "lines",
         "type": "scatter",
         "x": [
          -13.236477225987986,
          -13.994286400461116
         ],
         "y": [
          20.35065703675912,
          20.881168702489436
         ]
        },
        {
         "hoverinfo": "none",
         "line": {
          "color": "#888",
          "width": 1.0237158988547368
         },
         "mode": "lines",
         "type": "scatter",
         "x": [
          -10.805873149921057,
          -10.980994182527269
         ],
         "y": [
          20.42653191608568,
          18.92772968732724
         ]
        },
        {
         "hoverinfo": "none",
         "line": {
          "color": "#888",
          "width": 1.0445088892609804
         },
         "mode": "lines",
         "type": "scatter",
         "x": [
          -10.980994182527269,
          -10.917791500255126
         ],
         "y": [
          18.92772968732724,
          19.742127029568135
         ]
        },
        {
         "hoverinfo": "none",
         "line": {
          "color": "#888",
          "width": 1.0168162068323456
         },
         "mode": "lines",
         "type": "scatter",
         "x": [
          -10.980994182527269,
          -11.903242820535906
         ],
         "y": [
          18.92772968732724,
          19.6044514246644
         ]
        },
        {
         "hoverinfo": "none",
         "line": {
          "color": "#888",
          "width": 1.0622303470365777
         },
         "mode": "lines",
         "type": "scatter",
         "x": [
          -4.299798236115684,
          -4.081654789066221
         ],
         "y": [
          15.189864370818551,
          16.05254792635598
         ]
        },
        {
         "hoverinfo": "none",
         "line": {
          "color": "#888",
          "width": 1.0829103671353115
         },
         "mode": "lines",
         "type": "scatter",
         "x": [
          -13.889868260640972,
          -13.537096610506756
         ],
         "y": [
          20.43968106318603,
          19.92320307519968
         ]
        },
        {
         "hoverinfo": "none",
         "line": {
          "color": "#888",
          "width": 1.1107568299331017
         },
         "mode": "lines",
         "type": "scatter",
         "x": [
          -12.88079425450245,
          -13.537096610506756
         ],
         "y": [
          20.00414689876472,
          19.92320307519968
         ]
        },
        {
         "hoverinfo": "none",
         "line": {
          "color": "#888",
          "width": 1.3890291732029427
         },
         "mode": "lines",
         "type": "scatter",
         "x": [
          -13.642983348705675,
          -13.537096610506756
         ],
         "y": [
          20.519633212486255,
          19.92320307519968
         ]
        },
        {
         "hoverinfo": "none",
         "line": {
          "color": "#888",
          "width": 1.094290245698182
         },
         "mode": "lines",
         "type": "scatter",
         "x": [
          -14.550581404051927,
          -13.537096610506756
         ],
         "y": [
          19.624642271113515,
          19.92320307519968
         ]
        },
        {
         "hoverinfo": "none",
         "line": {
          "color": "#888",
          "width": 1.4412857713781093
         },
         "mode": "lines",
         "type": "scatter",
         "x": [
          -12.850718139242009,
          -13.537096610506756
         ],
         "y": [
          20.929101940708783,
          19.92320307519968
         ]
        },
        {
         "hoverinfo": "none",
         "line": {
          "color": "#888",
          "width": 1.0038389531599077
         },
         "mode": "lines",
         "type": "scatter",
         "x": [
          -13.236477225987986,
          -13.537096610506756
         ],
         "y": [
          20.35065703675912,
          19.92320307519968
         ]
        },
        {
         "hoverinfo": "none",
         "line": {
          "color": "#888",
          "width": 1.1635025317885093
         },
         "mode": "lines",
         "type": "scatter",
         "x": [
          -13.537096610506756,
          -13.85101503582916
         ],
         "y": [
          19.92320307519968,
          19.70968323427432
         ]
        },
        {
         "hoverinfo": "none",
         "line": {
          "color": "#888",
          "width": 1.033951930204585
         },
         "mode": "lines",
         "type": "scatter",
         "x": [
          -13.537096610506756,
          -13.427726029882152
         ],
         "y": [
          19.92320307519968,
          21.052187341494502
         ]
        },
        {
         "hoverinfo": "none",
         "line": {
          "color": "#888",
          "width": 1.1452165338943878
         },
         "mode": "lines",
         "type": "scatter",
         "x": [
          -13.537096610506756,
          -13.04465356572712
         ],
         "y": [
          19.92320307519968,
          19.63101236622079
         ]
        },
        {
         "hoverinfo": "none",
         "line": {
          "color": "#888",
          "width": 1.0167819311066197
         },
         "mode": "lines",
         "type": "scatter",
         "x": [
          -13.537096610506756,
          -14.582278534558517
         ],
         "y": [
          19.92320307519968,
          20.217135258366874
         ]
        },
        {
         "hoverinfo": "none",
         "line": {
          "color": "#888",
          "width": 1.002568567903429
         },
         "mode": "lines",
         "type": "scatter",
         "x": [
          -13.537096610506756,
          -13.046705351336772
         ],
         "y": [
          19.92320307519968,
          20.77588764099713
         ]
        },
        {
         "hoverinfo": "none",
         "line": {
          "color": "#888",
          "width": 1.103419965826937
         },
         "mode": "lines",
         "type": "scatter",
         "x": [
          -13.537096610506756,
          -12.918576723501182
         ],
         "y": [
          19.92320307519968,
          19.762632785571746
         ]
        },
        {
         "hoverinfo": "none",
         "line": {
          "color": "#888",
          "width": 1.1755908676233198
         },
         "mode": "lines",
         "type": "scatter",
         "x": [
          -13.537096610506756,
          -13.610912637176686
         ],
         "y": [
          19.92320307519968,
          18.6772196523297
         ]
        },
        {
         "hoverinfo": "none",
         "line": {
          "color": "#888",
          "width": 1.2118755430433457
         },
         "mode": "lines",
         "type": "scatter",
         "x": [
          -13.537096610506756,
          -14.113963476444026
         ],
         "y": [
          19.92320307519968,
          20.733964232542867
         ]
        },
        {
         "hoverinfo": "none",
         "line": {
          "color": "#888",
          "width": 1.4227295360483014
         },
         "mode": "lines",
         "type": "scatter",
         "x": [
          -13.537096610506756,
          -12.910843834401481
         ],
         "y": [
          19.92320307519968,
          21.01436659376408
         ]
        },
        {
         "hoverinfo": "none",
         "line": {
          "color": "#888",
          "width": 1.1369270258579665
         },
         "mode": "lines",
         "type": "scatter",
         "x": [
          -13.537096610506756,
          -13.23643931550353
         ],
         "y": [
          19.92320307519968,
          20.945151973986814
         ]
        },
        {
         "hoverinfo": "none",
         "line": {
          "color": "#888",
          "width": 1.0364107351616023
         },
         "mode": "lines",
         "type": "scatter",
         "x": [
          -13.537096610506756,
          -12.791751733740055
         ],
         "y": [
          19.92320307519968,
          19.008361465721478
         ]
        },
        {
         "hoverinfo": "none",
         "line": {
          "color": "#888",
          "width": 1.0446384886259727
         },
         "mode": "lines",
         "type": "scatter",
         "x": [
          -13.889868260640972,
          -14.005021731026002
         ],
         "y": [
          20.43968106318603,
          21.876050068264206
         ]
        },
        {
         "hoverinfo": "none",
         "line": {
          "color": "#888",
          "width": 1.1790582434587684
         },
         "mode": "lines",
         "type": "scatter",
         "x": [
          -13.488239384273696,
          -14.005021731026002
         ],
         "y": [
          22.052657171590635,
          21.876050068264206
         ]
        },
        {
         "hoverinfo": "none",
         "line": {
          "color": "#888",
          "width": 1.0405786368769883
         },
         "mode": "lines",
         "type": "scatter",
         "x": [
          -14.005021731026002,
          -15.318409941350346
         ],
         "y": [
          21.876050068264206,
          21.07416326794205
         ]
        },
        {
         "hoverinfo": "none",
         "line": {
          "color": "#888",
          "width": 1.0735111654177543
         },
         "mode": "lines",
         "type": "scatter",
         "x": [
          -14.005021731026002,
          -14.113963476444026
         ],
         "y": [
          21.876050068264206,
          20.733964232542867
         ]
        },
        {
         "hoverinfo": "none",
         "line": {
          "color": "#888",
          "width": 1.2890306469390533
         },
         "mode": "lines",
         "type": "scatter",
         "x": [
          -14.005021731026002,
          -12.910843834401481
         ],
         "y": [
          21.876050068264206,
          21.01436659376408
         ]
        },
        {
         "hoverinfo": "none",
         "line": {
          "color": "#888",
          "width": 1.0145381811725789
         },
         "mode": "lines",
         "type": "scatter",
         "x": [
          -14.005021731026002,
          -13.78065772681429
         ],
         "y": [
          21.876050068264206,
          23.09455563508934
         ]
        },
        {
         "hoverinfo": "none",
         "line": {
          "color": "#888",
          "width": 1.1313400880463478
         },
         "mode": "lines",
         "type": "scatter",
         "x": [
          -14.005021731026002,
          -12.800082302337206
         ],
         "y": [
          21.876050068264206,
          21.797200858097636
         ]
        },
        {
         "hoverinfo": "none",
         "line": {
          "color": "#888",
          "width": 1.093322173938592
         },
         "mode": "lines",
         "type": "scatter",
         "x": [
          -13.488239384273696,
          -14.462891867935248
         ],
         "y": [
          22.052657171590635,
          22.701920767788163
         ]
        },
        {
         "hoverinfo": "none",
         "line": {
          "color": "#888",
          "width": 1.0092980987433702
         },
         "mode": "lines",
         "type": "scatter",
         "x": [
          -14.462891867935248,
          -14.027395794310534
         ],
         "y": [
          22.701920767788163,
          21.396105270096907
         ]
        },
        {
         "hoverinfo": "none",
         "line": {
          "color": "#888",
          "width": 1.1304683064154144
         },
         "mode": "lines",
         "type": "scatter",
         "x": [
          -13.236477225987986,
          -12.32242407686812
         ],
         "y": [
          20.35065703675912,
          19.080863426314938
         ]
        },
        {
         "hoverinfo": "none",
         "line": {
          "color": "#888",
          "width": 1.2244702682820012
         },
         "mode": "lines",
         "type": "scatter",
         "x": [
          -12.32242407686812,
          -12.356415919830226
         ],
         "y": [
          19.080863426314938,
          19.76080027239755
         ]
        },
        {
         "hoverinfo": "none",
         "line": {
          "color": "#888",
          "width": 1.1256842604748887
         },
         "mode": "lines",
         "type": "scatter",
         "x": [
          -12.32242407686812,
          -12.773844683472381
         ],
         "y": [
          19.080863426314938,
          19.566330422843407
         ]
        },
        {
         "hoverinfo": "none",
         "line": {
          "color": "#888",
          "width": 1.3893448469619396
         },
         "mode": "lines",
         "type": "scatter",
         "x": [
          -13.72503864579122,
          -13.85101503582916
         ],
         "y": [
          20.752200827459543,
          19.70968323427432
         ]
        },
        {
         "hoverinfo": "none",
         "line": {
          "color": "#888",
          "width": 1.205932253920299
         },
         "mode": "lines",
         "type": "scatter",
         "x": [
          -13.889868260640972,
          -13.85101503582916
         ],
         "y": [
          20.43968106318603,
          19.70968323427432
         ]
        },
        {
         "hoverinfo": "none",
         "line": {
          "color": "#888",
          "width": 1.0249025539761067
         },
         "mode": "lines",
         "type": "scatter",
         "x": [
          -14.838886373833402,
          -13.85101503582916
         ],
         "y": [
          19.128537172554875,
          19.70968323427432
         ]
        },
        {
         "hoverinfo": "none",
         "line": {
          "color": "#888",
          "width": 1.0647654045022001
         },
         "mode": "lines",
         "type": "scatter",
         "x": [
          -13.979715599240638,
          -13.85101503582916
         ],
         "y": [
          19.090615747944213,
          19.70968323427432
         ]
        },
        {
         "hoverinfo": "none",
         "line": {
          "color": "#888",
          "width": 1.2481614234145846
         },
         "mode": "lines",
         "type": "scatter",
         "x": [
          -12.88079425450245,
          -13.85101503582916
         ],
         "y": [
          20.00414689876472,
          19.70968323427432
         ]
        },
        {
         "hoverinfo": "none",
         "line": {
          "color": "#888",
          "width": 1.0119653962338753
         },
         "mode": "lines",
         "type": "scatter",
         "x": [
          -13.197102179360037,
          -13.85101503582916
         ],
         "y": [
          20.446227226217555,
          19.70968323427432
         ]
        },
        {
         "hoverinfo": "none",
         "line": {
          "color": "#888",
          "width": 1.1635025317885093
         },
         "mode": "lines",
         "type": "scatter",
         "x": [
          -13.537096610506756,
          -13.85101503582916
         ],
         "y": [
          19.92320307519968,
          19.70968323427432
         ]
        },
        {
         "hoverinfo": "none",
         "line": {
          "color": "#888",
          "width": 1.0143047809372914
         },
         "mode": "lines",
         "type": "scatter",
         "x": [
          -13.85101503582916,
          -12.907640754729615
         ],
         "y": [
          19.70968323427432,
          20.469607616408755
         ]
        },
        {
         "hoverinfo": "none",
         "line": {
          "color": "#888",
          "width": 1.1244919231162438
         },
         "mode": "lines",
         "type": "scatter",
         "x": [
          -13.85101503582916,
          -13.046705351336772
         ],
         "y": [
          19.70968323427432,
          20.77588764099713
         ]
        },
        {
         "hoverinfo": "none",
         "line": {
          "color": "#888",
          "width": 1.2313168875863947
         },
         "mode": "lines",
         "type": "scatter",
         "x": [
          -13.85101503582916,
          -12.918576723501182
         ],
         "y": [
          19.70968323427432,
          19.762632785571746
         ]
        },
        {
         "hoverinfo": "none",
         "line": {
          "color": "#888",
          "width": 1.327113634493792
         },
         "mode": "lines",
         "type": "scatter",
         "x": [
          -13.85101503582916,
          -13.485752324101506
         ],
         "y": [
          19.70968323427432,
          19.465977412591247
         ]
        },
        {
         "hoverinfo": "none",
         "line": {
          "color": "#888",
          "width": 1.009360717823278
         },
         "mode": "lines",
         "type": "scatter",
         "x": [
          -13.85101503582916,
          -13.610912637176686
         ],
         "y": [
          19.70968323427432,
          18.6772196523297
         ]
        },
        {
         "hoverinfo": "none",
         "line": {
          "color": "#888",
          "width": 1.0614058798952004
         },
         "mode": "lines",
         "type": "scatter",
         "x": [
          -13.85101503582916,
          -14.113963476444026
         ],
         "y": [
          19.70968323427432,
          20.733964232542867
         ]
        },
        {
         "hoverinfo": "none",
         "line": {
          "color": "#888",
          "width": 1.0791758042523893
         },
         "mode": "lines",
         "type": "scatter",
         "x": [
          -13.85101503582916,
          -14.284782287057334
         ],
         "y": [
          19.70968323427432,
          18.6935520818868
         ]
        },
        {
         "hoverinfo": "none",
         "line": {
          "color": "#888",
          "width": 1.0701516595661367
         },
         "mode": "lines",
         "type": "scatter",
         "x": [
          -13.713867049753938,
          -13.427726029882152
         ],
         "y": [
          21.32277923138798,
          21.052187341494502
         ]
        },
        {
         "hoverinfo": "none",
         "line": {
          "color": "#888",
          "width": 1.0333383319246838
         },
         "mode": "lines",
         "type": "scatter",
         "x": [
          -13.488239384273696,
          -13.427726029882152
         ],
         "y": [
          22.052657171590635,
          21.052187341494502
         ]
        },
        {
         "hoverinfo": "none",
         "line": {
          "color": "#888",
          "width": 1.176426936885183
         },
         "mode": "lines",
         "type": "scatter",
         "x": [
          -14.489168620811169,
          -13.427726029882152
         ],
         "y": [
          21.091249032371852,
          21.052187341494502
         ]
        },
        {
         "hoverinfo": "none",
         "line": {
          "color": "#888",
          "width": 1.2511525607865748
         },
         "mode": "lines",
         "type": "scatter",
         "x": [
          -13.642983348705675,
          -13.427726029882152
         ],
         "y": [
          20.519633212486255,
          21.052187341494502
         ]
        },
        {
         "hoverinfo": "none",
         "line": {
          "color": "#888",
          "width": 1.1752154149617038
         },
         "mode": "lines",
         "type": "scatter",
         "x": [
          -11.942871546634484,
          -13.427726029882152
         ],
         "y": [
          20.943028751942535,
          21.052187341494502
         ]
        },
        {
         "hoverinfo": "none",
         "line": {
          "color": "#888",
          "width": 1.335460570441208
         },
         "mode": "lines",
         "type": "scatter",
         "x": [
          -13.197102179360037,
          -13.427726029882152
         ],
         "y": [
          20.446227226217555,
          21.052187341494502
         ]
        },
        {
         "hoverinfo": "none",
         "line": {
          "color": "#888",
          "width": 2.429011397785476
         },
         "mode": "lines",
         "type": "scatter",
         "x": [
          -12.850718139242009,
          -13.427726029882152
         ],
         "y": [
          20.929101940708783,
          21.052187341494502
         ]
        },
        {
         "hoverinfo": "none",
         "line": {
          "color": "#888",
          "width": 1.5414979966204365
         },
         "mode": "lines",
         "type": "scatter",
         "x": [
          -13.236477225987986,
          -13.427726029882152
         ],
         "y": [
          20.35065703675912,
          21.052187341494502
         ]
        },
        {
         "hoverinfo": "none",
         "line": {
          "color": "#888",
          "width": 1.033951930204585
         },
         "mode": "lines",
         "type": "scatter",
         "x": [
          -13.537096610506756,
          -13.427726029882152
         ],
         "y": [
          19.92320307519968,
          21.052187341494502
         ]
        },
        {
         "hoverinfo": "none",
         "line": {
          "color": "#888",
          "width": 1.4674605309560251
         },
         "mode": "lines",
         "type": "scatter",
         "x": [
          -13.427726029882152,
          -12.907640754729615
         ],
         "y": [
          21.052187341494502,
          20.469607616408755
         ]
        },
        {
         "hoverinfo": "none",
         "line": {
          "color": "#888",
          "width": 1.053994823587032
         },
         "mode": "lines",
         "type": "scatter",
         "x": [
          -13.427726029882152,
          -14.582278534558517
         ],
         "y": [
          21.052187341494502,
          20.217135258366874
         ]
        },
        {
         "hoverinfo": "none",
         "line": {
          "color": "#888",
          "width": 1.3592743584515317
         },
         "mode": "lines",
         "type": "scatter",
         "x": [
          -13.427726029882152,
          -12.608722745064354
         ],
         "y": [
          21.052187341494502,
          21.38991608678275
         ]
        },
        {
         "hoverinfo": "none",
         "line": {
          "color": "#888",
          "width": 1.5832465181556696
         },
         "mode": "lines",
         "type": "scatter",
         "x": [
          -13.427726029882152,
          -13.912717315656698
         ],
         "y": [
          21.052187341494502,
          21.454212393115643
         ]
        },
        {
         "hoverinfo": "none",
         "line": {
          "color": "#888",
          "width": 1.130544911080376
         },
         "mode": "lines",
         "type": "scatter",
         "x": [
          -13.427726029882152,
          -14.113963476444026
         ],
         "y": [
          21.052187341494502,
          20.733964232542867
         ]
        },
        {
         "hoverinfo": "none",
         "line": {
          "color": "#888",
          "width": 2.451719595282226
         },
         "mode": "lines",
         "type": "scatter",
         "x": [
          -13.427726029882152,
          -12.910843834401481
         ],
         "y": [
          21.052187341494502,
          21.01436659376408
         ]
        },
        {
         "hoverinfo": "none",
         "line": {
          "color": "#888",
          "width": 1.6266760524529809
         },
         "mode": "lines",
         "type": "scatter",
         "x": [
          -13.427726029882152,
          -13.637993460243793
         ],
         "y": [
          21.052187341494502,
          21.53220459934256
         ]
        },
        {
         "hoverinfo": "none",
         "line": {
          "color": "#888",
          "width": 1.0230303952199367
         },
         "mode": "lines",
         "type": "scatter",
         "x": [
          -13.427726029882152,
          -13.7703511169154
         ],
         "y": [
          21.052187341494502,
          21.085508206964032
         ]
        },
        {
         "hoverinfo": "none",
         "line": {
          "color": "#888",
          "width": 1.6122770662747037
         },
         "mode": "lines",
         "type": "scatter",
         "x": [
          -13.427726029882152,
          -13.23643931550353
         ],
         "y": [
          21.052187341494502,
          20.945151973986814
         ]
        },
        {
         "hoverinfo": "none",
         "line": {
          "color": "#888",
          "width": 1.3095900127910887
         },
         "mode": "lines",
         "type": "scatter",
         "x": [
          -13.427726029882152,
          -13.030036553810685
         ],
         "y": [
          21.052187341494502,
          21.519701600461545
         ]
        },
        {
         "hoverinfo": "none",
         "line": {
          "color": "#888",
          "width": 1.1573426694228401
         },
         "mode": "lines",
         "type": "scatter",
         "x": [
          -13.427726029882152,
          -12.734203853902583
         ],
         "y": [
          21.052187341494502,
          21.55340460756357
         ]
        },
        {
         "hoverinfo": "none",
         "line": {
          "color": "#888",
          "width": 1.0436904503602946
         },
         "mode": "lines",
         "type": "scatter",
         "x": [
          -13.427726029882152,
          -13.272428838714013
         ],
         "y": [
          21.052187341494502,
          21.97460394894528
         ]
        },
        {
         "hoverinfo": "none",
         "line": {
          "color": "#888",
          "width": 1.3594148605638678
         },
         "mode": "lines",
         "type": "scatter",
         "x": [
          -13.427726029882152,
          -12.77601031504658
         ],
         "y": [
          21.052187341494502,
          21.12541781408756
         ]
        },
        {
         "hoverinfo": "none",
         "line": {
          "color": "#888",
          "width": 1.2102107003567921
         },
         "mode": "lines",
         "type": "scatter",
         "x": [
          -13.427726029882152,
          -13.402038872682441
         ],
         "y": [
          21.052187341494502,
          21.793632774845815
         ]
        },
        {
         "hoverinfo": "none",
         "line": {
          "color": "#888",
          "width": 1.5906730894489571
         },
         "mode": "lines",
         "type": "scatter",
         "x": [
          -13.427726029882152,
          -13.263024710033392
         ],
         "y": [
          21.052187341494502,
          21.47913495742209
         ]
        },
        {
         "hoverinfo": "none",
         "line": {
          "color": "#888",
          "width": 1.3004335332881456
         },
         "mode": "lines",
         "type": "scatter",
         "x": [
          -13.427726029882152,
          -13.994286400461116
         ],
         "y": [
          21.052187341494502,
          20.881168702489436
         ]
        },
        {
         "hoverinfo": "none",
         "line": {
          "color": "#888",
          "width": 1.0926655470758238
         },
         "mode": "lines",
         "type": "scatter",
         "x": [
          -13.427726029882152,
          -14.498939637577397
         ],
         "y": [
          21.052187341494502,
          22.044399357519538
         ]
        },
        {
         "hoverinfo": "none",
         "line": {
          "color": "#888",
          "width": 1.2188812465617447
         },
         "mode": "lines",
         "type": "scatter",
         "x": [
          -12.88079425450245,
          -11.815965872922868
         ],
         "y": [
          20.00414689876472,
          19.29060423218079
         ]
        },
        {
         "hoverinfo": "none",
         "line": {
          "color": "#888",
          "width": 1.1612526769517293
         },
         "mode": "lines",
         "type": "scatter",
         "x": [
          -12.341464452775313,
          -11.815965872922868
         ],
         "y": [
          20.311362961497515,
          19.29060423218079
         ]
        },
        {
         "hoverinfo": "none",
         "line": {
          "color": "#888",
          "width": 1.1128435382088495
         },
         "mode": "lines",
         "type": "scatter",
         "x": [
          -11.815965872922868,
          -12.918576723501182
         ],
         "y": [
          19.29060423218079,
          19.762632785571746
         ]
        },
        {
         "hoverinfo": "none",
         "line": {
          "color": "#888",
          "width": 1.0388527872993045
         },
         "mode": "lines",
         "type": "scatter",
         "x": [
          -11.815965872922868,
          -11.85499862010832
         ],
         "y": [
          19.29060423218079,
          20.494921025806526
         ]
        },
        {
         "hoverinfo": "none",
         "line": {
          "color": "#888",
          "width": 1.1771971437456932
         },
         "mode": "lines",
         "type": "scatter",
         "x": [
          -12.88079425450245,
          -13.04465356572712
         ],
         "y": [
          20.00414689876472,
          19.63101236622079
         ]
        },
        {
         "hoverinfo": "none",
         "line": {
          "color": "#888",
          "width": 1.0483439079351167
         },
         "mode": "lines",
         "type": "scatter",
         "x": [
          -13.642983348705675,
          -13.04465356572712
         ],
         "y": [
          20.519633212486255,
          19.63101236622079
         ]
        },
        {
         "hoverinfo": "none",
         "line": {
          "color": "#888",
          "width": 1.3331325105622227
         },
         "mode": "lines",
         "type": "scatter",
         "x": [
          -12.850718139242009,
          -13.04465356572712
         ],
         "y": [
          20.929101940708783,
          19.63101236622079
         ]
        },
        {
         "hoverinfo": "none",
         "line": {
          "color": "#888",
          "width": 1.1452165338943878
         },
         "mode": "lines",
         "type": "scatter",
         "x": [
          -13.537096610506756,
          -13.04465356572712
         ],
         "y": [
          19.92320307519968,
          19.63101236622079
         ]
        },
        {
         "hoverinfo": "none",
         "line": {
          "color": "#888",
          "width": 1.3947798602143577
         },
         "mode": "lines",
         "type": "scatter",
         "x": [
          -13.04465356572712,
          -12.407573428884401
         ],
         "y": [
          19.63101236622079,
          18.483892921314833
         ]
        },
        {
         "hoverinfo": "none",
         "line": {
          "color": "#888",
          "width": 1.3165820698061634
         },
         "mode": "lines",
         "type": "scatter",
         "x": [
          -13.04465356572712,
          -12.910843834401481
         ],
         "y": [
          19.63101236622079,
          21.01436659376408
         ]
        },
        {
         "hoverinfo": "none",
         "line": {
          "color": "#888",
          "width": 1.244686116798018
         },
         "mode": "lines",
         "type": "scatter",
         "x": [
          -13.04465356572712,
          -12.413627755794588
         ],
         "y": [
          19.63101236622079,
          19.886962274912875
         ]
        },
        {
         "hoverinfo": "none",
         "line": {
          "color": "#888",
          "width": 1.0856711298133694
         },
         "mode": "lines",
         "type": "scatter",
         "x": [
          -13.04465356572712,
          -12.791751733740055
         ],
         "y": [
          19.63101236622079,
          19.008361465721478
         ]
        },
        {
         "hoverinfo": "none",
         "line": {
          "color": "#888",
          "width": 1.222713154871356
         },
         "mode": "lines",
         "type": "scatter",
         "x": [
          -13.04465356572712,
          -13.207424864625844
         ],
         "y": [
          19.63101236622079,
          18.380917228599227
         ]
        },
        {
         "hoverinfo": "none",
         "line": {
          "color": "#888",
          "width": 1.2615964429238864
         },
         "mode": "lines",
         "type": "scatter",
         "x": [
          -13.488239384273696,
          -14.027395794310534
         ],
         "y": [
          22.052657171590635,
          21.396105270096907
         ]
        },
        {
         "hoverinfo": "none",
         "line": {
          "color": "#888",
          "width": 1.0759072517601342
         },
         "mode": "lines",
         "type": "scatter",
         "x": [
          -13.642983348705675,
          -14.027395794310534
         ],
         "y": [
          20.519633212486255,
          21.396105270096907
         ]
        },
        {
         "hoverinfo": "none",
         "line": {
          "color": "#888",
          "width": 1.0572669306738274
         },
         "mode": "lines",
         "type": "scatter",
         "x": [
          -14.858379268270992,
          -14.027395794310534
         ],
         "y": [
          21.526061738550137,
          21.396105270096907
         ]
        },
        {
         "hoverinfo": "none",
         "line": {
          "color": "#888",
          "width": 1.6901053602020606
         },
         "mode": "lines",
         "type": "scatter",
         "x": [
          -12.850718139242009,
          -14.027395794310534
         ],
         "y": [
          20.929101940708783,
          21.396105270096907
         ]
        },
        {
         "hoverinfo": "none",
         "line": {
          "color": "#888",
          "width": 1.0092980987433702
         },
         "mode": "lines",
         "type": "scatter",
         "x": [
          -14.462891867935248,
          -14.027395794310534
         ],
         "y": [
          22.701920767788163,
          21.396105270096907
         ]
        },
        {
         "hoverinfo": "none",
         "line": {
          "color": "#888",
          "width": 1.0504322590998842
         },
         "mode": "lines",
         "type": "scatter",
         "x": [
          -14.027395794310534,
          -14.582278534558517
         ],
         "y": [
          21.396105270096907,
          20.217135258366874
         ]
        },
        {
         "hoverinfo": "none",
         "line": {
          "color": "#888",
          "width": 1.670467809013335
         },
         "mode": "lines",
         "type": "scatter",
         "x": [
          -14.027395794310534,
          -12.910843834401481
         ],
         "y": [
          21.396105270096907,
          21.01436659376408
         ]
        },
        {
         "hoverinfo": "none",
         "line": {
          "color": "#888",
          "width": 1.0534466711766322
         },
         "mode": "lines",
         "type": "scatter",
         "x": [
          -14.027395794310534,
          -12.77601031504658
         ],
         "y": [
          21.396105270096907,
          21.12541781408756
         ]
        },
        {
         "hoverinfo": "none",
         "line": {
          "color": "#888",
          "width": 1.5110825476412013
         },
         "mode": "lines",
         "type": "scatter",
         "x": [
          -14.027395794310534,
          -12.800082302337206
         ],
         "y": [
          21.396105270096907,
          21.797200858097636
         ]
        },
        {
         "hoverinfo": "none",
         "line": {
          "color": "#888",
          "width": 1.0622303470365777
         },
         "mode": "lines",
         "type": "scatter",
         "x": [
          -4.299798236115684,
          -4.081654789066221
         ],
         "y": [
          15.189864370818551,
          16.05254792635598
         ]
        },
        {
         "hoverinfo": "none",
         "line": {
          "color": "#888",
          "width": 1.074719847328358
         },
         "mode": "lines",
         "type": "scatter",
         "x": [
          -11.722208057949885,
          -10.917791500255126
         ],
         "y": [
          20.221982900095632,
          19.742127029568135
         ]
        },
        {
         "hoverinfo": "none",
         "line": {
          "color": "#888",
          "width": 1.2664803789354053
         },
         "mode": "lines",
         "type": "scatter",
         "x": [
          -10.805873149921057,
          -10.917791500255126
         ],
         "y": [
          20.42653191608568,
          19.742127029568135
         ]
        },
        {
         "hoverinfo": "none",
         "line": {
          "color": "#888",
          "width": 1.0445088892609804
         },
         "mode": "lines",
         "type": "scatter",
         "x": [
          -10.980994182527269,
          -10.917791500255126
         ],
         "y": [
          18.92772968732724,
          19.742127029568135
         ]
        },
        {
         "hoverinfo": "none",
         "line": {
          "color": "#888",
          "width": 1.2270503994606037
         },
         "mode": "lines",
         "type": "scatter",
         "x": [
          -10.917791500255126,
          -10.990246823384478
         ],
         "y": [
          19.742127029568135,
          19.324611435865272
         ]
        },
        {
         "hoverinfo": "none",
         "line": {
          "color": "#888",
          "width": 1.4403795439450626
         },
         "mode": "lines",
         "type": "scatter",
         "x": [
          -10.917791500255126,
          -11.903242820535906
         ],
         "y": [
          19.742127029568135,
          19.6044514246644
         ]
        },
        {
         "hoverinfo": "none",
         "line": {
          "color": "#888",
          "width": 1.100376917776423
         },
         "mode": "lines",
         "type": "scatter",
         "x": [
          -10.917791500255126,
          -10.58466903998632
         ],
         "y": [
          19.742127029568135,
          20.122288006184224
         ]
        },
        {
         "hoverinfo": "none",
         "line": {
          "color": "#888",
          "width": 1.0468996025352004
         },
         "mode": "lines",
         "type": "scatter",
         "x": [
          -10.917791500255126,
          -11.573787898129877
         ],
         "y": [
          19.742127029568135,
          20.603582672482666
         ]
        },
        {
         "hoverinfo": "none",
         "line": {
          "color": "#888",
          "width": 1.000820496717732
         },
         "mode": "lines",
         "type": "scatter",
         "x": [
          -3.684136594292169,
          -4.584947224697205
         ],
         "y": [
          15.828362727646057,
          15.71948327575617
         ]
        },
        {
         "hoverinfo": "none",
         "line": {
          "color": "#888",
          "width": 1.2668221814392555
         },
         "mode": "lines",
         "type": "scatter",
         "x": [
          -4.584947224697205,
          -5.073089420651273
         ],
         "y": [
          15.71948327575617,
          16.459245976619137
         ]
        },
        {
         "hoverinfo": "none",
         "line": {
          "color": "#888",
          "width": 1.164958932558884
         },
         "mode": "lines",
         "type": "scatter",
         "x": [
          -4.584947224697205,
          -4.223973842704066
         ],
         "y": [
          15.71948327575617,
          16.553054912084303
         ]
        },
        {
         "hoverinfo": "none",
         "line": {
          "color": "#888",
          "width": 1.3700281403734758
         },
         "mode": "lines",
         "type": "scatter",
         "x": [
          -13.713867049753938,
          -13.584146493457986
         ],
         "y": [
          21.32277923138798,
          21.910867822678476
         ]
        },
        {
         "hoverinfo": "none",
         "line": {
          "color": "#888",
          "width": 1.1609738192550456
         },
         "mode": "lines",
         "type": "scatter",
         "x": [
          -13.469602721182888,
          -13.584146493457986
         ],
         "y": [
          21.366730828241682,
          21.910867822678476
         ]
        },
        {
         "hoverinfo": "none",
         "line": {
          "color": "#888",
          "width": 1.0176904302730432
         },
         "mode": "lines",
         "type": "scatter",
         "x": [
          -13.421282842315208,
          -13.584146493457986
         ],
         "y": [
          20.731208327312252,
          21.910867822678476
         ]
        },
        {
         "hoverinfo": "none",
         "line": {
          "color": "#888",
          "width": 1.0094404198980842
         },
         "mode": "lines",
         "type": "scatter",
         "x": [
          -13.197102179360037,
          -13.584146493457986
         ],
         "y": [
          20.446227226217555,
          21.910867822678476
         ]
        },
        {
         "hoverinfo": "none",
         "line": {
          "color": "#888",
          "width": 1.416011696579956
         },
         "mode": "lines",
         "type": "scatter",
         "x": [
          -12.850718139242009,
          -13.584146493457986
         ],
         "y": [
          20.929101940708783,
          21.910867822678476
         ]
        },
        {
         "hoverinfo": "none",
         "line": {
          "color": "#888",
          "width": 1.2350702599665488
         },
         "mode": "lines",
         "type": "scatter",
         "x": [
          -13.584146493457986,
          -13.673386623300873
         ],
         "y": [
          21.910867822678476,
          23.094740292057637
         ]
        },
        {
         "hoverinfo": "none",
         "line": {
          "color": "#888",
          "width": 1.196512882959736
         },
         "mode": "lines",
         "type": "scatter",
         "x": [
          -13.584146493457986,
          -14.424618497382848
         ],
         "y": [
          21.910867822678476,
          22.43415239791516
         ]
        },
        {
         "hoverinfo": "none",
         "line": {
          "color": "#888",
          "width": 1.0179709864903281
         },
         "mode": "lines",
         "type": "scatter",
         "x": [
          -13.584146493457986,
          -14.17718698076056
         ],
         "y": [
          21.910867822678476,
          22.950125329389966
         ]
        },
        {
         "hoverinfo": "none",
         "line": {
          "color": "#888",
          "width": 1.3993620914043623
         },
         "mode": "lines",
         "type": "scatter",
         "x": [
          -13.584146493457986,
          -12.910843834401481
         ],
         "y": [
          21.910867822678476,
          21.01436659376408
         ]
        },
        {
         "hoverinfo": "none",
         "line": {
          "color": "#888",
          "width": 1.478924330674631
         },
         "mode": "lines",
         "type": "scatter",
         "x": [
          -13.584146493457986,
          -13.7703511169154
         ],
         "y": [
          21.910867822678476,
          21.085508206964032
         ]
        },
        {
         "hoverinfo": "none",
         "line": {
          "color": "#888",
          "width": 1.297877318297527
         },
         "mode": "lines",
         "type": "scatter",
         "x": [
          -13.584146493457986,
          -13.030036553810685
         ],
         "y": [
          21.910867822678476,
          21.519701600461545
         ]
        },
        {
         "hoverinfo": "none",
         "line": {
          "color": "#888",
          "width": 1.0882085589507369
         },
         "mode": "lines",
         "type": "scatter",
         "x": [
          -13.584146493457986,
          -13.007084255175895
         ],
         "y": [
          21.910867822678476,
          21.86972207748751
         ]
        },
        {
         "hoverinfo": "none",
         "line": {
          "color": "#888",
          "width": 1.0913043640973121
         },
         "mode": "lines",
         "type": "scatter",
         "x": [
          -13.584146493457986,
          -12.734203853902583
         ],
         "y": [
          21.910867822678476,
          21.55340460756357
         ]
        },
        {
         "hoverinfo": "none",
         "line": {
          "color": "#888",
          "width": 1.6273683924272078
         },
         "mode": "lines",
         "type": "scatter",
         "x": [
          -13.584146493457986,
          -13.272428838714013
         ],
         "y": [
          21.910867822678476,
          21.97460394894528
         ]
        },
        {
         "hoverinfo": "none",
         "line": {
          "color": "#888",
          "width": 1.0247511735071613
         },
         "mode": "lines",
         "type": "scatter",
         "x": [
          -13.584146493457986,
          -12.77601031504658
         ],
         "y": [
          21.910867822678476,
          21.12541781408756
         ]
        },
        {
         "hoverinfo": "none",
         "line": {
          "color": "#888",
          "width": 1.1226976775080013
         },
         "mode": "lines",
         "type": "scatter",
         "x": [
          -13.584146493457986,
          -14.498939637577397
         ],
         "y": [
          21.910867822678476,
          22.044399357519538
         ]
        },
        {
         "hoverinfo": "none",
         "line": {
          "color": "#888",
          "width": 1.0190214973025375
         },
         "mode": "lines",
         "type": "scatter",
         "x": [
          -13.441751089432334,
          -13.610912637176686
         ],
         "y": [
          17.589690474392604,
          18.6772196523297
         ]
        },
        {
         "hoverinfo": "none",
         "line": {
          "color": "#888",
          "width": 1.2592419968009052
         },
         "mode": "lines",
         "type": "scatter",
         "x": [
          -13.441751089432334,
          -13.865413814385875
         ],
         "y": [
          17.589690474392604,
          16.73569458910048
         ]
        },
        {
         "hoverinfo": "none",
         "line": {
          "color": "#888",
          "width": 1.131212427299267
         },
         "mode": "lines",
         "type": "scatter",
         "x": [
          -13.713867049753938,
          -12.907640754729615
         ],
         "y": [
          21.32277923138798,
          20.469607616408755
         ]
        },
        {
         "hoverinfo": "none",
         "line": {
          "color": "#888",
          "width": 1.1821213295208606
         },
         "mode": "lines",
         "type": "scatter",
         "x": [
          -13.72503864579122,
          -12.907640754729615
         ],
         "y": [
          20.752200827459543,
          20.469607616408755
         ]
        },
        {
         "hoverinfo": "none",
         "line": {
          "color": "#888",
          "width": 1.2804779185775017
         },
         "mode": "lines",
         "type": "scatter",
         "x": [
          -13.469602721182888,
          -12.907640754729615
         ],
         "y": [
          21.366730828241682,
          20.469607616408755
         ]
        },
        {
         "hoverinfo": "none",
         "line": {
          "color": "#888",
          "width": 1.1432091321237943
         },
         "mode": "lines",
         "type": "scatter",
         "x": [
          -13.421282842315208,
          -12.907640754729615
         ],
         "y": [
          20.731208327312252,
          20.469607616408755
         ]
        },
        {
         "hoverinfo": "none",
         "line": {
          "color": "#888",
          "width": 1.0109850138118492
         },
         "mode": "lines",
         "type": "scatter",
         "x": [
          -12.88079425450245,
          -12.907640754729615
         ],
         "y": [
          20.00414689876472,
          20.469607616408755
         ]
        },
        {
         "hoverinfo": "none",
         "line": {
          "color": "#888",
          "width": 1.76520562498758
         },
         "mode": "lines",
         "type": "scatter",
         "x": [
          -13.197102179360037,
          -12.907640754729615
         ],
         "y": [
          20.446227226217555,
          20.469607616408755
         ]
        },
        {
         "hoverinfo": "none",
         "line": {
          "color": "#888",
          "width": 1.6820375473378413
         },
         "mode": "lines",
         "type": "scatter",
         "x": [
          -12.850718139242009,
          -12.907640754729615
         ],
         "y": [
          20.929101940708783,
          20.469607616408755
         ]
        },
        {
         "hoverinfo": "none",
         "line": {
          "color": "#888",
          "width": 1.0143047809372914
         },
         "mode": "lines",
         "type": "scatter",
         "x": [
          -13.85101503582916,
          -12.907640754729615
         ],
         "y": [
          19.70968323427432,
          20.469607616408755
         ]
        },
        {
         "hoverinfo": "none",
         "line": {
          "color": "#888",
          "width": 1.4674605309560251
         },
         "mode": "lines",
         "type": "scatter",
         "x": [
          -13.427726029882152,
          -12.907640754729615
         ],
         "y": [
          21.052187341494502,
          20.469607616408755
         ]
        },
        {
         "hoverinfo": "none",
         "line": {
          "color": "#888",
          "width": 1.3098397302699072
         },
         "mode": "lines",
         "type": "scatter",
         "x": [
          -12.907640754729615,
          -13.046705351336772
         ],
         "y": [
          20.469607616408755,
          20.77588764099713
         ]
        },
        {
         "hoverinfo": "none",
         "line": {
          "color": "#888",
          "width": 1.7288782060789272
         },
         "mode": "lines",
         "type": "scatter",
         "x": [
          -12.907640754729615,
          -12.910843834401481
         ],
         "y": [
          20.469607616408755,
          21.01436659376408
         ]
        },
        {
         "hoverinfo": "none",
         "line": {
          "color": "#888",
          "width": 1.4582984459131114
         },
         "mode": "lines",
         "type": "scatter",
         "x": [
          -12.907640754729615,
          -12.154447470436555
         ],
         "y": [
          20.469607616408755,
          20.687358998302738
         ]
        },
        {
         "hoverinfo": "none",
         "line": {
          "color": "#888",
          "width": 1.2602232837316554
         },
         "mode": "lines",
         "type": "scatter",
         "x": [
          -12.907640754729615,
          -13.7703511169154
         ],
         "y": [
          20.469607616408755,
          21.085508206964032
         ]
        },
        {
         "hoverinfo": "none",
         "line": {
          "color": "#888",
          "width": 1.2228433796542193
         },
         "mode": "lines",
         "type": "scatter",
         "x": [
          -12.907640754729615,
          -13.23643931550353
         ],
         "y": [
          20.469607616408755,
          20.945151973986814
         ]
        },
        {
         "hoverinfo": "none",
         "line": {
          "color": "#888",
          "width": 1.2374462400830846
         },
         "mode": "lines",
         "type": "scatter",
         "x": [
          -12.907640754729615,
          -13.030036553810685
         ],
         "y": [
          20.469607616408755,
          21.519701600461545
         ]
        },
        {
         "hoverinfo": "none",
         "line": {
          "color": "#888",
          "width": 1.4371306234018377
         },
         "mode": "lines",
         "type": "scatter",
         "x": [
          -12.907640754729615,
          -12.734203853902583
         ],
         "y": [
          20.469607616408755,
          21.55340460756357
         ]
        },
        {
         "hoverinfo": "none",
         "line": {
          "color": "#888",
          "width": 1.4523772699679673
         },
         "mode": "lines",
         "type": "scatter",
         "x": [
          -12.907640754729615,
          -12.77601031504658
         ],
         "y": [
          20.469607616408755,
          21.12541781408756
         ]
        },
        {
         "hoverinfo": "none",
         "line": {
          "color": "#888",
          "width": 1.0167985173673035
         },
         "mode": "lines",
         "type": "scatter",
         "x": [
          -12.907640754729615,
          -12.800082302337206
         ],
         "y": [
          20.469607616408755,
          21.797200858097636
         ]
        },
        {
         "hoverinfo": "none",
         "line": {
          "color": "#888",
          "width": 1.101530761467507
         },
         "mode": "lines",
         "type": "scatter",
         "x": [
          -13.979715599240638,
          -14.582278534558517
         ],
         "y": [
          19.090615747944213,
          20.217135258366874
         ]
        },
        {
         "hoverinfo": "none",
         "line": {
          "color": "#888",
          "width": 1.0229105301520915
         },
         "mode": "lines",
         "type": "scatter",
         "x": [
          -14.489168620811169,
          -14.582278534558517
         ],
         "y": [
          21.091249032371852,
          20.217135258366874
         ]
        },
        {
         "hoverinfo": "none",
         "line": {
          "color": "#888",
          "width": 1.1483881519259036
         },
         "mode": "lines",
         "type": "scatter",
         "x": [
          -13.642983348705675,
          -14.582278534558517
         ],
         "y": [
          20.519633212486255,
          20.217135258366874
         ]
        },
        {
         "hoverinfo": "none",
         "line": {
          "color": "#888",
          "width": 1.2597641475622958
         },
         "mode": "lines",
         "type": "scatter",
         "x": [
          -14.550581404051927,
          -14.582278534558517
         ],
         "y": [
          19.624642271113515,
          20.217135258366874
         ]
        },
        {
         "hoverinfo": "none",
         "line": {
          "color": "#888",
          "width": 1.3428936221763546
         },
         "mode": "lines",
         "type": "scatter",
         "x": [
          -14.311419458172569,
          -14.582278534558517
         ],
         "y": [
          19.971822262725137,
          20.217135258366874
         ]
        },
        {
         "hoverinfo": "none",
         "line": {
          "color": "#888",
          "width": 1.0167819311066197
         },
         "mode": "lines",
         "type": "scatter",
         "x": [
          -13.537096610506756,
          -14.582278534558517
         ],
         "y": [
          19.92320307519968,
          20.217135258366874
         ]
        },
        {
         "hoverinfo": "none",
         "line": {
          "color": "#888",
          "width": 1.053994823587032
         },
         "mode": "lines",
         "type": "scatter",
         "x": [
          -13.427726029882152,
          -14.582278534558517
         ],
         "y": [
          21.052187341494502,
          20.217135258366874
         ]
        },
        {
         "hoverinfo": "none",
         "line": {
          "color": "#888",
          "width": 1.0504322590998842
         },
         "mode": "lines",
         "type": "scatter",
         "x": [
          -14.027395794310534,
          -14.582278534558517
         ],
         "y": [
          21.396105270096907,
          20.217135258366874
         ]
        },
        {
         "hoverinfo": "none",
         "line": {
          "color": "#888",
          "width": 1.1152978365695407
         },
         "mode": "lines",
         "type": "scatter",
         "x": [
          -14.582278534558517,
          -15.067822716688191
         ],
         "y": [
          20.217135258366874,
          19.80585907837482
         ]
        },
        {
         "hoverinfo": "none",
         "line": {
          "color": "#888",
          "width": 1.0161543434297555
         },
         "mode": "lines",
         "type": "scatter",
         "x": [
          -14.582278534558517,
          -13.991559819591165
         ],
         "y": [
          20.217135258366874,
          20.390716009399764
         ]
        },
        {
         "hoverinfo": "none",
         "line": {
          "color": "#888",
          "width": 1.078982649507148
         },
         "mode": "lines",
         "type": "scatter",
         "x": [
          -14.582278534558517,
          -14.233251817518356
         ],
         "y": [
          20.217135258366874,
          19.446136122802898
         ]
        },
        {
         "hoverinfo": "none",
         "line": {
          "color": "#888",
          "width": 1.2447500216097875
         },
         "mode": "lines",
         "type": "scatter",
         "x": [
          -14.582278534558517,
          -15.174279426119066
         ],
         "y": [
          20.217135258366874,
          20.114788448159768
         ]
        },
        {
         "hoverinfo": "none",
         "line": {
          "color": "#888",
          "width": 1.0027186546159308
         },
         "mode": "lines",
         "type": "scatter",
         "x": [
          -14.582278534558517,
          -13.994286400461116
         ],
         "y": [
          20.217135258366874,
          20.881168702489436
         ]
        },
        {
         "hoverinfo": "none",
         "line": {
          "color": "#888",
          "width": 1.029667423443561
         },
         "mode": "lines",
         "type": "scatter",
         "x": [
          -13.197102179360037,
          -14.7570657120828
         ],
         "y": [
          20.446227226217555,
          20.50506469374403
         ]
        },
        {
         "hoverinfo": "none",
         "line": {
          "color": "#888",
          "width": 1.0520572593229847
         },
         "mode": "lines",
         "type": "scatter",
         "x": [
          -14.7570657120828,
          -13.991559819591165
         ],
         "y": [
          20.50506469374403,
          20.390716009399764
         ]
        },
        {
         "hoverinfo": "none",
         "line": {
          "color": "#888",
          "width": 1.0197896529476522
         },
         "mode": "lines",
         "type": "scatter",
         "x": [
          -14.7570657120828,
          -13.994286400461116
         ],
         "y": [
          20.50506469374403,
          20.881168702489436
         ]
        },
        {
         "hoverinfo": "none",
         "line": {
          "color": "#888",
          "width": 1.0700143707609076
         },
         "mode": "lines",
         "type": "scatter",
         "x": [
          -14.7570657120828,
          -15.270951640163304
         ],
         "y": [
          20.50506469374403,
          21.325945280292714
         ]
        },
        {
         "hoverinfo": "none",
         "line": {
          "color": "#888",
          "width": 1.1525315474835547
         },
         "mode": "lines",
         "type": "scatter",
         "x": [
          -13.713867049753938,
          -13.046705351336772
         ],
         "y": [
          21.32277923138798,
          20.77588764099713
         ]
        },
        {
         "hoverinfo": "none",
         "line": {
          "color": "#888",
          "width": 1.2848271338362474
         },
         "mode": "lines",
         "type": "scatter",
         "x": [
          -13.72503864579122,
          -13.046705351336772
         ],
         "y": [
          20.752200827459543,
          20.77588764099713
         ]
        },
        {
         "hoverinfo": "none",
         "line": {
          "color": "#888",
          "width": 1.39459880184587
         },
         "mode": "lines",
         "type": "scatter",
         "x": [
          -12.95422029598588,
          -13.046705351336772
         ],
         "y": [
          22.173012221957887,
          20.77588764099713
         ]
        },
        {
         "hoverinfo": "none",
         "line": {
          "color": "#888",
          "width": 1.0679677767616238
         },
         "mode": "lines",
         "type": "scatter",
         "x": [
          -13.889868260640972,
          -13.046705351336772
         ],
         "y": [
          20.43968106318603,
          20.77588764099713
         ]
        },
        {
         "hoverinfo": "none",
         "line": {
          "color": "#888",
          "width": 1.2091363920549865
         },
         "mode": "lines",
         "type": "scatter",
         "x": [
          -13.469602721182888,
          -13.046705351336772
         ],
         "y": [
          21.366730828241682,
          20.77588764099713
         ]
        },
        {
         "hoverinfo": "none",
         "line": {
          "color": "#888",
          "width": 1.4659683233129517
         },
         "mode": "lines",
         "type": "scatter",
         "x": [
          -13.421282842315208,
          -13.046705351336772
         ],
         "y": [
          20.731208327312252,
          20.77588764099713
         ]
        },
        {
         "hoverinfo": "none",
         "line": {
          "color": "#888",
          "width": 1.0707331961635507
         },
         "mode": "lines",
         "type": "scatter",
         "x": [
          -12.88079425450245,
          -13.046705351336772
         ],
         "y": [
          20.00414689876472,
          20.77588764099713
         ]
        },
        {
         "hoverinfo": "none",
         "line": {
          "color": "#888",
          "width": 1.0623490685536305
         },
         "mode": "lines",
         "type": "scatter",
         "x": [
          -12.341464452775313,
          -13.046705351336772
         ],
         "y": [
          20.311362961497515,
          20.77588764099713
         ]
        },
        {
         "hoverinfo": "none",
         "line": {
          "color": "#888",
          "width": 3.1577487523157908
         },
         "mode": "lines",
         "type": "scatter",
         "x": [
          -12.850718139242009,
          -13.046705351336772
         ],
         "y": [
          20.929101940708783,
          20.77588764099713
         ]
        },
        {
         "hoverinfo": "none",
         "line": {
          "color": "#888",
          "width": 1.002568567903429
         },
         "mode": "lines",
         "type": "scatter",
         "x": [
          -13.537096610506756,
          -13.046705351336772
         ],
         "y": [
          19.92320307519968,
          20.77588764099713
         ]
        },
        {
         "hoverinfo": "none",
         "line": {
          "color": "#888",
          "width": 1.1244919231162438
         },
         "mode": "lines",
         "type": "scatter",
         "x": [
          -13.85101503582916,
          -13.046705351336772
         ],
         "y": [
          19.70968323427432,
          20.77588764099713
         ]
        },
        {
         "hoverinfo": "none",
         "line": {
          "color": "#888",
          "width": 1.3098397302699072
         },
         "mode": "lines",
         "type": "scatter",
         "x": [
          -12.907640754729615,
          -13.046705351336772
         ],
         "y": [
          20.469607616408755,
          20.77588764099713
         ]
        },
        {
         "hoverinfo": "none",
         "line": {
          "color": "#888",
          "width": 1.2043646237228836
         },
         "mode": "lines",
         "type": "scatter",
         "x": [
          -13.046705351336772,
          -12.700498433924094
         ],
         "y": [
          20.77588764099713,
          22.212152083511462
         ]
        },
        {
         "hoverinfo": "none",
         "line": {
          "color": "#888",
          "width": 1.3154254437573294
         },
         "mode": "lines",
         "type": "scatter",
         "x": [
          -13.046705351336772,
          -12.14572655546444
         ],
         "y": [
          20.77588764099713,
          20.401750449215392
         ]
        },
        {
         "hoverinfo": "none",
         "line": {
          "color": "#888",
          "width": 1.061090247532779
         },
         "mode": "lines",
         "type": "scatter",
         "x": [
          -13.046705351336772,
          -12.918576723501182
         ],
         "y": [
          20.77588764099713,
          19.762632785571746
         ]
        },
        {
         "hoverinfo": "none",
         "line": {
          "color": "#888",
          "width": 1.0635755566987102
         },
         "mode": "lines",
         "type": "scatter",
         "x": [
          -13.046705351336772,
          -11.549799157354075
         ],
         "y": [
          20.77588764099713,
          21.33677004673493
         ]
        },
        {
         "hoverinfo": "none",
         "line": {
          "color": "#888",
          "width": 3.1879587570809687
         },
         "mode": "lines",
         "type": "scatter",
         "x": [
          -13.046705351336772,
          -12.910843834401481
         ],
         "y": [
          20.77588764099713,
          21.01436659376408
         ]
        },
        {
         "hoverinfo": "none",
         "line": {
          "color": "#888",
          "width": 1.5810522423550677
         },
         "mode": "lines",
         "type": "scatter",
         "x": [
          -13.046705351336772,
          -13.637993460243793
         ],
         "y": [
          20.77588764099713,
          21.53220459934256
         ]
        },
        {
         "hoverinfo": "none",
         "line": {
          "color": "#888",
          "width": 1.8419867660504172
         },
         "mode": "lines",
         "type": "scatter",
         "x": [
          -13.046705351336772,
          -12.284441948806446
         ],
         "y": [
          20.77588764099713,
          21.025645557579107
         ]
        },
        {
         "hoverinfo": "none",
         "line": {
          "color": "#888",
          "width": 1.0831408595155747
         },
         "mode": "lines",
         "type": "scatter",
         "x": [
          -13.046705351336772,
          -13.7703511169154
         ],
         "y": [
          20.77588764099713,
          21.085508206964032
         ]
        },
        {
         "hoverinfo": "none",
         "line": {
          "color": "#888",
          "width": 1.2495373637579967
         },
         "mode": "lines",
         "type": "scatter",
         "x": [
          -13.046705351336772,
          -13.991559819591165
         ],
         "y": [
          20.77588764099713,
          20.390716009399764
         ]
        },
        {
         "hoverinfo": "none",
         "line": {
          "color": "#888",
          "width": 2.7921176984334677
         },
         "mode": "lines",
         "type": "scatter",
         "x": [
          -13.046705351336772,
          -13.030036553810685
         ],
         "y": [
          20.77588764099713,
          21.519701600461545
         ]
        },
        {
         "hoverinfo": "none",
         "line": {
          "color": "#888",
          "width": 1.420054194033269
         },
         "mode": "lines",
         "type": "scatter",
         "x": [
          -13.046705351336772,
          -13.007084255175895
         ],
         "y": [
          20.77588764099713,
          21.86972207748751
         ]
        },
        {
         "hoverinfo": "none",
         "line": {
          "color": "#888",
          "width": 1.7487037506264238
         },
         "mode": "lines",
         "type": "scatter",
         "x": [
          -13.046705351336772,
          -12.734203853902583
         ],
         "y": [
          20.77588764099713,
          21.55340460756357
         ]
        },
        {
         "hoverinfo": "none",
         "line": {
          "color": "#888",
          "width": 1.7087654595076642
         },
         "mode": "lines",
         "type": "scatter",
         "x": [
          -13.046705351336772,
          -12.77601031504658
         ],
         "y": [
          20.77588764099713,
          21.12541781408756
         ]
        },
        {
         "hoverinfo": "none",
         "line": {
          "color": "#888",
          "width": 1.0991598353620051
         },
         "mode": "lines",
         "type": "scatter",
         "x": [
          -8.912182757525217,
          -8.029049197824259
         ],
         "y": [
          26.184647635585637,
          25.94364112739702
         ]
        },
        {
         "hoverinfo": "none",
         "line": {
          "color": "#888",
          "width": 1.1563698198762682
         },
         "mode": "lines",
         "type": "scatter",
         "x": [
          -11.722208057949885,
          -10.990246823384478
         ],
         "y": [
          20.221982900095632,
          19.324611435865272
         ]
        },
        {
         "hoverinfo": "none",
         "line": {
          "color": "#888",
          "width": 1.2270503994606037
         },
         "mode": "lines",
         "type": "scatter",
         "x": [
          -10.917791500255126,
          -10.990246823384478
         ],
         "y": [
          19.742127029568135,
          19.324611435865272
         ]
        },
        {
         "hoverinfo": "none",
         "line": {
          "color": "#888",
          "width": 1.0687625347010412
         },
         "mode": "lines",
         "type": "scatter",
         "x": [
          -10.990246823384478,
          -10.159999711093475
         ],
         "y": [
          19.324611435865272,
          18.707322792195
         ]
        },
        {
         "hoverinfo": "none",
         "line": {
          "color": "#888",
          "width": 1.1831457714480567
         },
         "mode": "lines",
         "type": "scatter",
         "x": [
          -10.990246823384478,
          -10.58466903998632
         ],
         "y": [
          19.324611435865272,
          20.122288006184224
         ]
        },
        {
         "hoverinfo": "none",
         "line": {
          "color": "#888",
          "width": 1.1462998844642627
         },
         "mode": "lines",
         "type": "scatter",
         "x": [
          -10.990246823384478,
          -10.738609963494902
         ],
         "y": [
          19.324611435865272,
          18.197924148628765
         ]
        },
        {
         "hoverinfo": "none",
         "line": {
          "color": "#888",
          "width": 1.133629876515718
         },
         "mode": "lines",
         "type": "scatter",
         "x": [
          -10.990246823384478,
          -11.573787898129877
         ],
         "y": [
          19.324611435865272,
          20.603582672482666
         ]
        },
        {
         "hoverinfo": "none",
         "line": {
          "color": "#888",
          "width": 1.0245518414506591
         },
         "mode": "lines",
         "type": "scatter",
         "x": [
          -5.386818926161954,
          -6.1944511846115295
         ],
         "y": [
          24.440457183874862,
          24.720580155078387
         ]
        },
        {
         "hoverinfo": "none",
         "line": {
          "color": "#888",
          "width": 1.1908454484178237
         },
         "mode": "lines",
         "type": "scatter",
         "x": [
          -12.714023615727218,
          -13.40775776308866
         ],
         "y": [
          24.189137248261808,
          23.16466309028817
         ]
        },
        {
         "hoverinfo": "none",
         "line": {
          "color": "#888",
          "width": 1.118949889885228
         },
         "mode": "lines",
         "type": "scatter",
         "x": [
          -12.714023615727218,
          -12.863841475837656
         ],
         "y": [
          24.189137248261808,
          23.15284384716926
         ]
        },
        {
         "hoverinfo": "none",
         "line": {
          "color": "#888",
          "width": 1.0129143583647515
         },
         "mode": "lines",
         "type": "scatter",
         "x": [
          -10.805873149921057,
          -11.670530996185668
         ],
         "y": [
          20.42653191608568,
          21.09066706630328
         ]
        },
        {
         "hoverinfo": "none",
         "line": {
          "color": "#888",
          "width": 1.1073355126124376
         },
         "mode": "lines",
         "type": "scatter",
         "x": [
          -10.703500072515022,
          -11.670530996185668
         ],
         "y": [
          22.01548801480612,
          21.09066706630328
         ]
        },
        {
         "hoverinfo": "none",
         "line": {
          "color": "#888",
          "width": 1.3355783082579442
         },
         "mode": "lines",
         "type": "scatter",
         "x": [
          -12.850718139242009,
          -11.670530996185668
         ],
         "y": [
          20.929101940708783,
          21.09066706630328
         ]
        },
        {
         "hoverinfo": "none",
         "line": {
          "color": "#888",
          "width": 1.0353462718347628
         },
         "mode": "lines",
         "type": "scatter",
         "x": [
          -11.670530996185668,
          -12.608722745064354
         ],
         "y": [
          21.09066706630328,
          21.38991608678275
         ]
        },
        {
         "hoverinfo": "none",
         "line": {
          "color": "#888",
          "width": 1.318747306507667
         },
         "mode": "lines",
         "type": "scatter",
         "x": [
          -11.670530996185668,
          -12.910843834401481
         ],
         "y": [
          21.09066706630328,
          21.01436659376408
         ]
        },
        {
         "hoverinfo": "none",
         "line": {
          "color": "#888",
          "width": 1.0674598078983306
         },
         "mode": "lines",
         "type": "scatter",
         "x": [
          -16.235438648181255,
          -15.318409941350346
         ],
         "y": [
          20.36576649576142,
          21.07416326794205
         ]
        },
        {
         "hoverinfo": "none",
         "line": {
          "color": "#888",
          "width": 1.0218575318561447
         },
         "mode": "lines",
         "type": "scatter",
         "x": [
          -12.850718139242009,
          -12.700498433924094
         ],
         "y": [
          20.929101940708783,
          22.212152083511462
         ]
        },
        {
         "hoverinfo": "none",
         "line": {
          "color": "#888",
          "width": 1.2043646237228836
         },
         "mode": "lines",
         "type": "scatter",
         "x": [
          -13.046705351336772,
          -12.700498433924094
         ],
         "y": [
          20.77588764099713,
          22.212152083511462
         ]
        },
        {
         "hoverinfo": "none",
         "line": {
          "color": "#888",
          "width": 1.0524442281058517
         },
         "mode": "lines",
         "type": "scatter",
         "x": [
          -12.700498433924094,
          -13.40775776308866
         ],
         "y": [
          22.212152083511462,
          23.16466309028817
         ]
        },
        {
         "hoverinfo": "none",
         "line": {
          "color": "#888",
          "width": 1.062441482693396
         },
         "mode": "lines",
         "type": "scatter",
         "x": [
          -12.700498433924094,
          -12.863841475837656
         ],
         "y": [
          22.212152083511462,
          23.15284384716926
         ]
        },
        {
         "hoverinfo": "none",
         "line": {
          "color": "#888",
          "width": 1.0098721890370026
         },
         "mode": "lines",
         "type": "scatter",
         "x": [
          -12.700498433924094,
          -12.910843834401481
         ],
         "y": [
          22.212152083511462,
          21.01436659376408
         ]
        },
        {
         "hoverinfo": "none",
         "line": {
          "color": "#888",
          "width": 1.047565162276737
         },
         "mode": "lines",
         "type": "scatter",
         "x": [
          -12.700498433924094,
          -13.402038872682441
         ],
         "y": [
          22.212152083511462,
          21.793632774845815
         ]
        },
        {
         "hoverinfo": "none",
         "line": {
          "color": "#888",
          "width": 1.0221615441390333
         },
         "mode": "lines",
         "type": "scatter",
         "x": [
          -5.5606868628221475,
          -5.7850883907942015
         ],
         "y": [
          21.621054958225788,
          22.47767071441628
         ]
        },
        {
         "hoverinfo": "none",
         "line": {
          "color": "#888",
          "width": 1.1197407888849389
         },
         "mode": "lines",
         "type": "scatter",
         "x": [
          -11.942871546634484,
          -11.903242820535906
         ],
         "y": [
          20.943028751942535,
          19.6044514246644
         ]
        },
        {
         "hoverinfo": "none",
         "line": {
          "color": "#888",
          "width": 1.1358728561908775
         },
         "mode": "lines",
         "type": "scatter",
         "x": [
          -13.197102179360037,
          -11.903242820535906
         ],
         "y": [
          20.446227226217555,
          19.6044514246644
         ]
        },
        {
         "hoverinfo": "none",
         "line": {
          "color": "#888",
          "width": 1.0168162068323456
         },
         "mode": "lines",
         "type": "scatter",
         "x": [
          -10.980994182527269,
          -11.903242820535906
         ],
         "y": [
          18.92772968732724,
          19.6044514246644
         ]
        },
        {
         "hoverinfo": "none",
         "line": {
          "color": "#888",
          "width": 1.4403795439450626
         },
         "mode": "lines",
         "type": "scatter",
         "x": [
          -10.917791500255126,
          -11.903242820535906
         ],
         "y": [
          19.742127029568135,
          19.6044514246644
         ]
        },
        {
         "hoverinfo": "none",
         "line": {
          "color": "#888",
          "width": 1.0644477275027557
         },
         "mode": "lines",
         "type": "scatter",
         "x": [
          -13.421282842315208,
          -12.14572655546444
         ],
         "y": [
          20.731208327312252,
          20.401750449215392
         ]
        },
        {
         "hoverinfo": "none",
         "line": {
          "color": "#888",
          "width": 1.1112082173446767
         },
         "mode": "lines",
         "type": "scatter",
         "x": [
          -12.850718139242009,
          -12.14572655546444
         ],
         "y": [
          20.929101940708783,
          20.401750449215392
         ]
        },
        {
         "hoverinfo": "none",
         "line": {
          "color": "#888",
          "width": 1.3154254437573294
         },
         "mode": "lines",
         "type": "scatter",
         "x": [
          -13.046705351336772,
          -12.14572655546444
         ],
         "y": [
          20.77588764099713,
          20.401750449215392
         ]
        },
        {
         "hoverinfo": "none",
         "line": {
          "color": "#888",
          "width": 1.0970820709105817
         },
         "mode": "lines",
         "type": "scatter",
         "x": [
          -12.14572655546444,
          -12.910843834401481
         ],
         "y": [
          20.401750449215392,
          21.01436659376408
         ]
        },
        {
         "hoverinfo": "none",
         "line": {
          "color": "#888",
          "width": 1.6290562870466516
         },
         "mode": "lines",
         "type": "scatter",
         "x": [
          -12.14572655546444,
          -12.284441948806446
         ],
         "y": [
          20.401750449215392,
          21.025645557579107
         ]
        },
        {
         "hoverinfo": "none",
         "line": {
          "color": "#888",
          "width": 1.2350702599665488
         },
         "mode": "lines",
         "type": "scatter",
         "x": [
          -13.584146493457986,
          -13.673386623300873
         ],
         "y": [
          21.910867822678476,
          23.094740292057637
         ]
        },
        {
         "hoverinfo": "none",
         "line": {
          "color": "#888",
          "width": 1.3024196191895037
         },
         "mode": "lines",
         "type": "scatter",
         "x": [
          -13.673386623300873,
          -14.424618497382848
         ],
         "y": [
          23.094740292057637,
          22.43415239791516
         ]
        },
        {
         "hoverinfo": "none",
         "line": {
          "color": "#888",
          "width": 1.2067091142521453
         },
         "mode": "lines",
         "type": "scatter",
         "x": [
          -13.673386623300873,
          -13.272428838714013
         ],
         "y": [
          23.094740292057637,
          21.97460394894528
         ]
        },
        {
         "hoverinfo": "none",
         "line": {
          "color": "#888",
          "width": 1.0687625347010412
         },
         "mode": "lines",
         "type": "scatter",
         "x": [
          -10.990246823384478,
          -10.159999711093475
         ],
         "y": [
          19.324611435865272,
          18.707322792195
         ]
        },
        {
         "hoverinfo": "none",
         "line": {
          "color": "#888",
          "width": 1.062697577792586
         },
         "mode": "lines",
         "type": "scatter",
         "x": [
          -10.159999711093475,
          -10.738609963494902
         ],
         "y": [
          18.707322792195,
          18.197924148628765
         ]
        },
        {
         "hoverinfo": "none",
         "line": {
          "color": "#888",
          "width": 1.2391513453871246
         },
         "mode": "lines",
         "type": "scatter",
         "x": [
          -13.889868260640972,
          -12.918576723501182
         ],
         "y": [
          20.43968106318603,
          19.762632785571746
         ]
        },
        {
         "hoverinfo": "none",
         "line": {
          "color": "#888",
          "width": 1.0087318120004038
         },
         "mode": "lines",
         "type": "scatter",
         "x": [
          -13.979715599240638,
          -12.918576723501182
         ],
         "y": [
          19.090615747944213,
          19.762632785571746
         ]
        },
        {
         "hoverinfo": "none",
         "line": {
          "color": "#888",
          "width": 1.4832930434014333
         },
         "mode": "lines",
         "type": "scatter",
         "x": [
          -12.88079425450245,
          -12.918576723501182
         ],
         "y": [
          20.00414689876472,
          19.762632785571746
         ]
        },
        {
         "hoverinfo": "none",
         "line": {
          "color": "#888",
          "width": 1.300990766960133
         },
         "mode": "lines",
         "type": "scatter",
         "x": [
          -12.341464452775313,
          -12.918576723501182
         ],
         "y": [
          20.311362961497515,
          19.762632785571746
         ]
        },
        {
         "hoverinfo": "none",
         "line": {
          "color": "#888",
          "width": 1.0539800831501809
         },
         "mode": "lines",
         "type": "scatter",
         "x": [
          -13.197102179360037,
          -12.918576723501182
         ],
         "y": [
          20.446227226217555,
          19.762632785571746
         ]
        },
        {
         "hoverinfo": "none",
         "line": {
          "color": "#888",
          "width": 1.1081264330164462
         },
         "mode": "lines",
         "type": "scatter",
         "x": [
          -12.850718139242009,
          -12.918576723501182
         ],
         "y": [
          20.929101940708783,
          19.762632785571746
         ]
        },
        {
         "hoverinfo": "none",
         "line": {
          "color": "#888",
          "width": 1.221336861129728
         },
         "mode": "lines",
         "type": "scatter",
         "x": [
          -12.900087281018456,
          -12.918576723501182
         ],
         "y": [
          18.488429619802535,
          19.762632785571746
         ]
        },
        {
         "hoverinfo": "none",
         "line": {
          "color": "#888",
          "width": 1.103419965826937
         },
         "mode": "lines",
         "type": "scatter",
         "x": [
          -13.537096610506756,
          -12.918576723501182
         ],
         "y": [
          19.92320307519968,
          19.762632785571746
         ]
        },
        {
         "hoverinfo": "none",
         "line": {
          "color": "#888",
          "width": 1.2313168875863947
         },
         "mode": "lines",
         "type": "scatter",
         "x": [
          -13.85101503582916,
          -12.918576723501182
         ],
         "y": [
          19.70968323427432,
          19.762632785571746
         ]
        },
        {
         "hoverinfo": "none",
         "line": {
          "color": "#888",
          "width": 1.1128435382088495
         },
         "mode": "lines",
         "type": "scatter",
         "x": [
          -11.815965872922868,
          -12.918576723501182
         ],
         "y": [
          19.29060423218079,
          19.762632785571746
         ]
        },
        {
         "hoverinfo": "none",
         "line": {
          "color": "#888",
          "width": 1.061090247532779
         },
         "mode": "lines",
         "type": "scatter",
         "x": [
          -13.046705351336772,
          -12.918576723501182
         ],
         "y": [
          20.77588764099713,
          19.762632785571746
         ]
        },
        {
         "hoverinfo": "none",
         "line": {
          "color": "#888",
          "width": 1.0788074979192634
         },
         "mode": "lines",
         "type": "scatter",
         "x": [
          -12.918576723501182,
          -13.485752324101506
         ],
         "y": [
          19.762632785571746,
          19.465977412591247
         ]
        },
        {
         "hoverinfo": "none",
         "line": {
          "color": "#888",
          "width": 1.0345768076262605
         },
         "mode": "lines",
         "type": "scatter",
         "x": [
          -12.918576723501182,
          -12.356415919830226
         ],
         "y": [
          19.762632785571746,
          19.76080027239755
         ]
        },
        {
         "hoverinfo": "none",
         "line": {
          "color": "#888",
          "width": 1.0919393118939638
         },
         "mode": "lines",
         "type": "scatter",
         "x": [
          -12.918576723501182,
          -12.910843834401481
         ],
         "y": [
          19.762632785571746,
          21.01436659376408
         ]
        },
        {
         "hoverinfo": "none",
         "line": {
          "color": "#888",
          "width": 1.009643827301647
         },
         "mode": "lines",
         "type": "scatter",
         "x": [
          -12.918576723501182,
          -11.85499862010832
         ],
         "y": [
          19.762632785571746,
          20.494921025806526
         ]
        },
        {
         "hoverinfo": "none",
         "line": {
          "color": "#888",
          "width": 1.204001702132995
         },
         "mode": "lines",
         "type": "scatter",
         "x": [
          -12.918576723501182,
          -12.392539355144063
         ],
         "y": [
          19.762632785571746,
          18.707558784445492
         ]
        },
        {
         "hoverinfo": "none",
         "line": {
          "color": "#888",
          "width": 1.145445114520896
         },
         "mode": "lines",
         "type": "scatter",
         "x": [
          -12.918576723501182,
          -12.791751733740055
         ],
         "y": [
          19.762632785571746,
          19.008361465721478
         ]
        },
        {
         "hoverinfo": "none",
         "line": {
          "color": "#888",
          "width": 1.0390646546923523
         },
         "mode": "lines",
         "type": "scatter",
         "x": [
          -13.72503864579122,
          -13.485752324101506
         ],
         "y": [
          20.752200827459543,
          19.465977412591247
         ]
        },
        {
         "hoverinfo": "none",
         "line": {
          "color": "#888",
          "width": 1.0103277113363722
         },
         "mode": "lines",
         "type": "scatter",
         "x": [
          -13.889868260640972,
          -13.485752324101506
         ],
         "y": [
          20.43968106318603,
          19.465977412591247
         ]
        },
        {
         "hoverinfo": "none",
         "line": {
          "color": "#888",
          "width": 1.0174386683931247
         },
         "mode": "lines",
         "type": "scatter",
         "x": [
          -13.979715599240638,
          -13.485752324101506
         ],
         "y": [
          19.090615747944213,
          19.465977412591247
         ]
        },
        {
         "hoverinfo": "none",
         "line": {
          "color": "#888",
          "width": 1.0159194953047692
         },
         "mode": "lines",
         "type": "scatter",
         "x": [
          -12.88079425450245,
          -13.485752324101506
         ],
         "y": [
          20.00414689876472,
          19.465977412591247
         ]
        },
        {
         "hoverinfo": "none",
         "line": {
          "color": "#888",
          "width": 1.016731652620529
         },
         "mode": "lines",
         "type": "scatter",
         "x": [
          -12.341464452775313,
          -13.485752324101506
         ],
         "y": [
          20.311362961497515,
          19.465977412591247
         ]
        },
        {
         "hoverinfo": "none",
         "line": {
          "color": "#888",
          "width": 1.074493439756516
         },
         "mode": "lines",
         "type": "scatter",
         "x": [
          -13.197102179360037,
          -13.485752324101506
         ],
         "y": [
          20.446227226217555,
          19.465977412591247
         ]
        },
        {
         "hoverinfo": "none",
         "line": {
          "color": "#888",
          "width": 1.327113634493792
         },
         "mode": "lines",
         "type": "scatter",
         "x": [
          -13.85101503582916,
          -13.485752324101506
         ],
         "y": [
          19.70968323427432,
          19.465977412591247
         ]
        },
        {
         "hoverinfo": "none",
         "line": {
          "color": "#888",
          "width": 1.0788074979192634
         },
         "mode": "lines",
         "type": "scatter",
         "x": [
          -12.918576723501182,
          -13.485752324101506
         ],
         "y": [
          19.762632785571746,
          19.465977412591247
         ]
        },
        {
         "hoverinfo": "none",
         "line": {
          "color": "#888",
          "width": 1.109759620016767
         },
         "mode": "lines",
         "type": "scatter",
         "x": [
          -13.485752324101506,
          -14.284782287057334
         ],
         "y": [
          19.465977412591247,
          18.6935520818868
         ]
        },
        {
         "hoverinfo": "none",
         "line": {
          "color": "#888",
          "width": 1.0835943663577714
         },
         "mode": "lines",
         "type": "scatter",
         "x": [
          -13.713867049753938,
          -12.608722745064354
         ],
         "y": [
          21.32277923138798,
          21.38991608678275
         ]
        },
        {
         "hoverinfo": "none",
         "line": {
          "color": "#888",
          "width": 1.1398534458016778
         },
         "mode": "lines",
         "type": "scatter",
         "x": [
          -12.95422029598588,
          -12.608722745064354
         ],
         "y": [
          22.173012221957887,
          21.38991608678275
         ]
        },
        {
         "hoverinfo": "none",
         "line": {
          "color": "#888",
          "width": 1.1984960462707082
         },
         "mode": "lines",
         "type": "scatter",
         "x": [
          -12.341464452775313,
          -12.608722745064354
         ],
         "y": [
          20.311362961497515,
          21.38991608678275
         ]
        },
        {
         "hoverinfo": "none",
         "line": {
          "color": "#888",
          "width": 1.0291797412739954
         },
         "mode": "lines",
         "type": "scatter",
         "x": [
          -13.488239384273696,
          -12.608722745064354
         ],
         "y": [
          22.052657171590635,
          21.38991608678275
         ]
        },
        {
         "hoverinfo": "none",
         "line": {
          "color": "#888",
          "width": 1.0844524091290217
         },
         "mode": "lines",
         "type": "scatter",
         "x": [
          -13.642983348705675,
          -12.608722745064354
         ],
         "y": [
          20.519633212486255,
          21.38991608678275
         ]
        },
        {
         "hoverinfo": "none",
         "line": {
          "color": "#888",
          "width": 1.7038625293784184
         },
         "mode": "lines",
         "type": "scatter",
         "x": [
          -12.850718139242009,
          -12.608722745064354
         ],
         "y": [
          20.929101940708783,
          21.38991608678275
         ]
        },
        {
         "hoverinfo": "none",
         "line": {
          "color": "#888",
          "width": 1.271461417643486
         },
         "mode": "lines",
         "type": "scatter",
         "x": [
          -13.236477225987986,
          -12.608722745064354
         ],
         "y": [
          20.35065703675912,
          21.38991608678275
         ]
        },
        {
         "hoverinfo": "none",
         "line": {
          "color": "#888",
          "width": 1.3592743584515317
         },
         "mode": "lines",
         "type": "scatter",
         "x": [
          -13.427726029882152,
          -12.608722745064354
         ],
         "y": [
          21.052187341494502,
          21.38991608678275
         ]
        },
        {
         "hoverinfo": "none",
         "line": {
          "color": "#888",
          "width": 1.0353462718347628
         },
         "mode": "lines",
         "type": "scatter",
         "x": [
          -11.670530996185668,
          -12.608722745064354
         ],
         "y": [
          21.09066706630328,
          21.38991608678275
         ]
        },
        {
         "hoverinfo": "none",
         "line": {
          "color": "#888",
          "width": 1.277912477086186
         },
         "mode": "lines",
         "type": "scatter",
         "x": [
          -12.608722745064354,
          -11.549799157354075
         ],
         "y": [
          21.38991608678275,
          21.33677004673493
         ]
        },
        {
         "hoverinfo": "none",
         "line": {
          "color": "#888",
          "width": 1.0879176777993202
         },
         "mode": "lines",
         "type": "scatter",
         "x": [
          -12.608722745064354,
          -12.040651155801354
         ],
         "y": [
          21.38991608678275,
          21.209858966184818
         ]
        },
        {
         "hoverinfo": "none",
         "line": {
          "color": "#888",
          "width": 1.6830778944015319
         },
         "mode": "lines",
         "type": "scatter",
         "x": [
          -12.608722745064354,
          -12.910843834401481
         ],
         "y": [
          21.38991608678275,
          21.01436659376408
         ]
        },
        {
         "hoverinfo": "none",
         "line": {
          "color": "#888",
          "width": 1.104830326321568
         },
         "mode": "lines",
         "type": "scatter",
         "x": [
          -12.608722745064354,
          -13.637993460243793
         ],
         "y": [
          21.38991608678275,
          21.53220459934256
         ]
        },
        {
         "hoverinfo": "none",
         "line": {
          "color": "#888",
          "width": 1.053952866482968
         },
         "mode": "lines",
         "type": "scatter",
         "x": [
          -12.608722745064354,
          -13.23643931550353
         ],
         "y": [
          21.38991608678275,
          20.945151973986814
         ]
        },
        {
         "hoverinfo": "none",
         "line": {
          "color": "#888",
          "width": 1.1110581512755304
         },
         "mode": "lines",
         "type": "scatter",
         "x": [
          -12.608722745064354,
          -13.030036553810685
         ],
         "y": [
          21.38991608678275,
          21.519701600461545
         ]
        },
        {
         "hoverinfo": "none",
         "line": {
          "color": "#888",
          "width": 1.0058964092324805
         },
         "mode": "lines",
         "type": "scatter",
         "x": [
          -12.608722745064354,
          -13.402038872682441
         ],
         "y": [
          21.38991608678275,
          21.793632774845815
         ]
        },
        {
         "hoverinfo": "none",
         "line": {
          "color": "#888",
          "width": 1.106498364464699
         },
         "mode": "lines",
         "type": "scatter",
         "x": [
          -12.608722745064354,
          -13.263024710033392
         ],
         "y": [
          21.38991608678275,
          21.47913495742209
         ]
        },
        {
         "hoverinfo": "none",
         "line": {
          "color": "#888",
          "width": 1.5356393979216454
         },
         "mode": "lines",
         "type": "scatter",
         "x": [
          -12.608722745064354,
          -12.0448503313882
         ],
         "y": [
          21.38991608678275,
          21.57539053726569
         ]
        },
        {
         "hoverinfo": "none",
         "line": {
          "color": "#888",
          "width": 1.151756002717777
         },
         "mode": "lines",
         "type": "scatter",
         "x": [
          -12.608722745064354,
          -13.994286400461116
         ],
         "y": [
          21.38991608678275,
          20.881168702489436
         ]
        },
        {
         "hoverinfo": "none",
         "line": {
          "color": "#888",
          "width": 1.013897428648376
         },
         "mode": "lines",
         "type": "scatter",
         "x": [
          -12.95422029598588,
          -12.548259461364738
         ],
         "y": [
          22.173012221957887,
          23.299629798486237
         ]
        },
        {
         "hoverinfo": "none",
         "line": {
          "color": "#888",
          "width": 1.3184957335227359
         },
         "mode": "lines",
         "type": "scatter",
         "x": [
          -12.548259461364738,
          -13.78065772681429
         ],
         "y": [
          23.299629798486237,
          23.09455563508934
         ]
        },
        {
         "hoverinfo": "none",
         "line": {
          "color": "#888",
          "width": 1.0329961997871857
         },
         "mode": "lines",
         "type": "scatter",
         "x": [
          -11.890506936706867,
          -12.170458243867694
         ],
         "y": [
          18.6555510556014,
          19.971879414718284
         ]
        },
        {
         "hoverinfo": "none",
         "line": {
          "color": "#888",
          "width": 1.0180330958204062
         },
         "mode": "lines",
         "type": "scatter",
         "x": [
          -11.890506936706867,
          -12.791751733740055
         ],
         "y": [
          18.6555510556014,
          19.008361465721478
         ]
        },
        {
         "hoverinfo": "none",
         "line": {
          "color": "#888",
          "width": 1.0134647643600974
         },
         "mode": "lines",
         "type": "scatter",
         "x": [
          -13.979715599240638,
          -13.610912637176686
         ],
         "y": [
          19.090615747944213,
          18.6772196523297
         ]
        },
        {
         "hoverinfo": "none",
         "line": {
          "color": "#888",
          "width": 1.1755908676233198
         },
         "mode": "lines",
         "type": "scatter",
         "x": [
          -13.537096610506756,
          -13.610912637176686
         ],
         "y": [
          19.92320307519968,
          18.6772196523297
         ]
        },
        {
         "hoverinfo": "none",
         "line": {
          "color": "#888",
          "width": 1.009360717823278
         },
         "mode": "lines",
         "type": "scatter",
         "x": [
          -13.85101503582916,
          -13.610912637176686
         ],
         "y": [
          19.70968323427432,
          18.6772196523297
         ]
        },
        {
         "hoverinfo": "none",
         "line": {
          "color": "#888",
          "width": 1.0190214973025375
         },
         "mode": "lines",
         "type": "scatter",
         "x": [
          -13.441751089432334,
          -13.610912637176686
         ],
         "y": [
          17.589690474392604,
          18.6772196523297
         ]
        },
        {
         "hoverinfo": "none",
         "line": {
          "color": "#888",
          "width": 1.0627746145541674
         },
         "mode": "lines",
         "type": "scatter",
         "x": [
          -13.610912637176686,
          -14.067819366407043
         ],
         "y": [
          18.6772196523297,
          17.758137808118644
         ]
        },
        {
         "hoverinfo": "none",
         "line": {
          "color": "#888",
          "width": 1.0413919691563902
         },
         "mode": "lines",
         "type": "scatter",
         "x": [
          -13.610912637176686,
          -12.791751733740055
         ],
         "y": [
          18.6772196523297,
          19.008361465721478
         ]
        },
        {
         "hoverinfo": "none",
         "line": {
          "color": "#888",
          "width": 1.389027847120075
         },
         "mode": "lines",
         "type": "scatter",
         "x": [
          -12.88079425450245,
          -12.356415919830226
         ],
         "y": [
          20.00414689876472,
          19.76080027239755
         ]
        },
        {
         "hoverinfo": "none",
         "line": {
          "color": "#888",
          "width": 1.3038656131771333
         },
         "mode": "lines",
         "type": "scatter",
         "x": [
          -12.341464452775313,
          -12.356415919830226
         ],
         "y": [
          20.311362961497515,
          19.76080027239755
         ]
        },
        {
         "hoverinfo": "none",
         "line": {
          "color": "#888",
          "width": 1.16603137124147
         },
         "mode": "lines",
         "type": "scatter",
         "x": [
          -13.236477225987986,
          -12.356415919830226
         ],
         "y": [
          20.35065703675912,
          19.76080027239755
         ]
        },
        {
         "hoverinfo": "none",
         "line": {
          "color": "#888",
          "width": 1.2244702682820012
         },
         "mode": "lines",
         "type": "scatter",
         "x": [
          -12.32242407686812,
          -12.356415919830226
         ],
         "y": [
          19.080863426314938,
          19.76080027239755
         ]
        },
        {
         "hoverinfo": "none",
         "line": {
          "color": "#888",
          "width": 1.0345768076262605
         },
         "mode": "lines",
         "type": "scatter",
         "x": [
          -12.918576723501182,
          -12.356415919830226
         ],
         "y": [
          19.762632785571746,
          19.76080027239755
         ]
        },
        {
         "hoverinfo": "none",
         "line": {
          "color": "#888",
          "width": 1.0162944108489014
         },
         "mode": "lines",
         "type": "scatter",
         "x": [
          -12.356415919830226,
          -12.629951858941117
         ],
         "y": [
          19.76080027239755,
          20.42458920482799
         ]
        },
        {
         "hoverinfo": "none",
         "line": {
          "color": "#888",
          "width": 1.4972459540613943
         },
         "mode": "lines",
         "type": "scatter",
         "x": [
          -12.356415919830226,
          -12.773844683472381
         ],
         "y": [
          19.76080027239755,
          19.566330422843407
         ]
        },
        {
         "hoverinfo": "none",
         "line": {
          "color": "#888",
          "width": 1.0142546881249672
         },
         "mode": "lines",
         "type": "scatter",
         "x": [
          -12.356415919830226,
          -12.040651155801354
         ],
         "y": [
          19.76080027239755,
          21.209858966184818
         ]
        },
        {
         "hoverinfo": "none",
         "line": {
          "color": "#888",
          "width": 1.0175916030272816
         },
         "mode": "lines",
         "type": "scatter",
         "x": [
          -12.356415919830226,
          -12.392539355144063
         ],
         "y": [
          19.76080027239755,
          18.707558784445492
         ]
        },
        {
         "hoverinfo": "none",
         "line": {
          "color": "#888",
          "width": 1.2182606704755221
         },
         "mode": "lines",
         "type": "scatter",
         "x": [
          -12.356415919830226,
          -12.77601031504658
         ],
         "y": [
          19.76080027239755,
          21.12541781408756
         ]
        },
        {
         "hoverinfo": "none",
         "line": {
          "color": "#888",
          "width": 1.1356608572780873
         },
         "mode": "lines",
         "type": "scatter",
         "x": [
          -12.356415919830226,
          -12.791751733740055
         ],
         "y": [
          19.76080027239755,
          19.008361465721478
         ]
        },
        {
         "hoverinfo": "none",
         "line": {
          "color": "#888",
          "width": 1.015098821210063
         },
         "mode": "lines",
         "type": "scatter",
         "x": [
          -14.858379268270992,
          -15.827375056035295
         ],
         "y": [
          21.526061738550137,
          21.850844621105583
         ]
        },
        {
         "hoverinfo": "none",
         "line": {
          "color": "#888",
          "width": 1.0804621489566602
         },
         "mode": "lines",
         "type": "scatter",
         "x": [
          -15.185335092491869,
          -15.827375056035295
         ],
         "y": [
          21.033890967174504,
          21.850844621105583
         ]
        },
        {
         "hoverinfo": "none",
         "line": {
          "color": "#888",
          "width": 1.0702078111080118
         },
         "mode": "lines",
         "type": "scatter",
         "x": [
          -15.827375056035295,
          -14.986087504472923
         ],
         "y": [
          21.850844621105583,
          22.39991748096667
         ]
        },
        {
         "hoverinfo": "none",
         "line": {
          "color": "#888",
          "width": 1.0883751627417442
         },
         "mode": "lines",
         "type": "scatter",
         "x": [
          -11.991544400059553,
          -12.446518716199456
         ],
         "y": [
          12.592942074869844,
          13.373204901803744
         ]
        },
        {
         "hoverinfo": "none",
         "line": {
          "color": "#888",
          "width": 1.2349254072573603
         },
         "mode": "lines",
         "type": "scatter",
         "x": [
          -13.612405873935117,
          -12.938629206266983
         ],
         "y": [
          24.22476022160976,
          23.42759014175165
         ]
        },
        {
         "hoverinfo": "none",
         "line": {
          "color": "#888",
          "width": 1.0101562757158438
         },
         "mode": "lines",
         "type": "scatter",
         "x": [
          -13.612405873935117,
          -14.720725521153799
         ],
         "y": [
          24.22476022160976,
          23.67530227963661
         ]
        },
        {
         "hoverinfo": "none",
         "line": {
          "color": "#888",
          "width": 1.0405786368769883
         },
         "mode": "lines",
         "type": "scatter",
         "x": [
          -14.005021731026002,
          -15.318409941350346
         ],
         "y": [
          21.876050068264206,
          21.07416326794205
         ]
        },
        {
         "hoverinfo": "none",
         "line": {
          "color": "#888",
          "width": 1.0674598078983306
         },
         "mode": "lines",
         "type": "scatter",
         "x": [
          -16.235438648181255,
          -15.318409941350346
         ],
         "y": [
          20.36576649576142,
          21.07416326794205
         ]
        },
        {
         "hoverinfo": "none",
         "line": {
          "color": "#888",
          "width": 1.0127579753703615
         },
         "mode": "lines",
         "type": "scatter",
         "x": [
          -15.318409941350346,
          -14.113963476444026
         ],
         "y": [
          21.07416326794205,
          20.733964232542867
         ]
        },
        {
         "hoverinfo": "none",
         "line": {
          "color": "#888",
          "width": 1.2245279375100873
         },
         "mode": "lines",
         "type": "scatter",
         "x": [
          -14.489168620811169,
          -13.912717315656698
         ],
         "y": [
          21.091249032371852,
          21.454212393115643
         ]
        },
        {
         "hoverinfo": "none",
         "line": {
          "color": "#888",
          "width": 1.22046042938976
         },
         "mode": "lines",
         "type": "scatter",
         "x": [
          -13.642983348705675,
          -13.912717315656698
         ],
         "y": [
          20.519633212486255,
          21.454212393115643
         ]
        },
        {
         "hoverinfo": "none",
         "line": {
          "color": "#888",
          "width": 1.2481703996943403
         },
         "mode": "lines",
         "type": "scatter",
         "x": [
          -12.850718139242009,
          -13.912717315656698
         ],
         "y": [
          20.929101940708783,
          21.454212393115643
         ]
        },
        {
         "hoverinfo": "none",
         "line": {
          "color": "#888",
          "width": 1.61317668208167
         },
         "mode": "lines",
         "type": "scatter",
         "x": [
          -13.236477225987986,
          -13.912717315656698
         ],
         "y": [
          20.35065703675912,
          21.454212393115643
         ]
        },
        {
         "hoverinfo": "none",
         "line": {
          "color": "#888",
          "width": 1.5832465181556696
         },
         "mode": "lines",
         "type": "scatter",
         "x": [
          -13.427726029882152,
          -13.912717315656698
         ],
         "y": [
          21.052187341494502,
          21.454212393115643
         ]
        },
        {
         "hoverinfo": "none",
         "line": {
          "color": "#888",
          "width": 1.5661984593213938
         },
         "mode": "lines",
         "type": "scatter",
         "x": [
          -13.912717315656698,
          -14.113963476444026
         ],
         "y": [
          21.454212393115643,
          20.733964232542867
         ]
        },
        {
         "hoverinfo": "none",
         "line": {
          "color": "#888",
          "width": 1.2351605638156031
         },
         "mode": "lines",
         "type": "scatter",
         "x": [
          -13.912717315656698,
          -12.910843834401481
         ],
         "y": [
          21.454212393115643,
          21.01436659376408
         ]
        },
        {
         "hoverinfo": "none",
         "line": {
          "color": "#888",
          "width": 1.352459951505115
         },
         "mode": "lines",
         "type": "scatter",
         "x": [
          -13.912717315656698,
          -13.402038872682441
         ],
         "y": [
          21.454212393115643,
          21.793632774845815
         ]
        },
        {
         "hoverinfo": "none",
         "line": {
          "color": "#888",
          "width": 1.3906614488536624
         },
         "mode": "lines",
         "type": "scatter",
         "x": [
          -13.912717315656698,
          -13.263024710033392
         ],
         "y": [
          21.454212393115643,
          21.47913495742209
         ]
        },
        {
         "hoverinfo": "none",
         "line": {
          "color": "#888",
          "width": 1.1165727971710275
         },
         "mode": "lines",
         "type": "scatter",
         "x": [
          -13.912717315656698,
          -13.994286400461116
         ],
         "y": [
          21.454212393115643,
          20.881168702489436
         ]
        },
        {
         "hoverinfo": "none",
         "line": {
          "color": "#888",
          "width": 1.5760945006102047
         },
         "mode": "lines",
         "type": "scatter",
         "x": [
          -11.722208057949885,
          -10.58466903998632
         ],
         "y": [
          20.221982900095632,
          20.122288006184224
         ]
        },
        {
         "hoverinfo": "none",
         "line": {
          "color": "#888",
          "width": 1.0073463770523887
         },
         "mode": "lines",
         "type": "scatter",
         "x": [
          -10.38428518250311,
          -10.58466903998632
         ],
         "y": [
          20.858640990884304,
          20.122288006184224
         ]
        },
        {
         "hoverinfo": "none",
         "line": {
          "color": "#888",
          "width": 1.100376917776423
         },
         "mode": "lines",
         "type": "scatter",
         "x": [
          -10.917791500255126,
          -10.58466903998632
         ],
         "y": [
          19.742127029568135,
          20.122288006184224
         ]
        },
        {
         "hoverinfo": "none",
         "line": {
          "color": "#888",
          "width": 1.1831457714480567
         },
         "mode": "lines",
         "type": "scatter",
         "x": [
          -10.990246823384478,
          -10.58466903998632
         ],
         "y": [
          19.324611435865272,
          20.122288006184224
         ]
        },
        {
         "hoverinfo": "none",
         "line": {
          "color": "#888",
          "width": 1.4945432348836736
         },
         "mode": "lines",
         "type": "scatter",
         "x": [
          -10.58466903998632,
          -11.573787898129877
         ],
         "y": [
          20.122288006184224,
          20.603582672482666
         ]
        },
        {
         "hoverinfo": "none",
         "line": {
          "color": "#888",
          "width": 1.1089762962374756
         },
         "mode": "lines",
         "type": "scatter",
         "x": [
          -13.713867049753938,
          -14.424618497382848
         ],
         "y": [
          21.32277923138798,
          22.43415239791516
         ]
        },
        {
         "hoverinfo": "none",
         "line": {
          "color": "#888",
          "width": 1.196512882959736
         },
         "mode": "lines",
         "type": "scatter",
         "x": [
          -13.584146493457986,
          -14.424618497382848
         ],
         "y": [
          21.910867822678476,
          22.43415239791516
         ]
        },
        {
         "hoverinfo": "none",
         "line": {
          "color": "#888",
          "width": 1.3024196191895037
         },
         "mode": "lines",
         "type": "scatter",
         "x": [
          -13.673386623300873,
          -14.424618497382848
         ],
         "y": [
          23.094740292057637,
          22.43415239791516
         ]
        },
        {
         "hoverinfo": "none",
         "line": {
          "color": "#888",
          "width": 1.3907664816518606
         },
         "mode": "lines",
         "type": "scatter",
         "x": [
          -14.424618497382848,
          -13.272428838714013
         ],
         "y": [
          22.43415239791516,
          21.97460394894528
         ]
        },
        {
         "hoverinfo": "none",
         "line": {
          "color": "#888",
          "width": 1.0435661629413735
         },
         "mode": "lines",
         "type": "scatter",
         "x": [
          -12.95422029598588,
          -12.938629206266983
         ],
         "y": [
          22.173012221957887,
          23.42759014175165
         ]
        },
        {
         "hoverinfo": "none",
         "line": {
          "color": "#888",
          "width": 1.2349254072573603
         },
         "mode": "lines",
         "type": "scatter",
         "x": [
          -13.612405873935117,
          -12.938629206266983
         ],
         "y": [
          24.22476022160976,
          23.42759014175165
         ]
        },
        {
         "hoverinfo": "none",
         "line": {
          "color": "#888",
          "width": 1.3533992334207599
         },
         "mode": "lines",
         "type": "scatter",
         "x": [
          -11.96986801292686,
          -12.39070970399015
         ],
         "y": [
          22.41278980421849,
          22.673929128949084
         ]
        },
        {
         "hoverinfo": "none",
         "line": {
          "color": "#888",
          "width": 1.1403599810656184
         },
         "mode": "lines",
         "type": "scatter",
         "x": [
          -12.345143556966459,
          -12.39070970399015
         ],
         "y": [
          21.995363443026463,
          22.673929128949084
         ]
        },
        {
         "hoverinfo": "none",
         "line": {
          "color": "#888",
          "width": 1.0283338879595503
         },
         "mode": "lines",
         "type": "scatter",
         "x": [
          -12.39070970399015,
          -12.040651155801354
         ],
         "y": [
          22.673929128949084,
          21.209858966184818
         ]
        },
        {
         "hoverinfo": "none",
         "line": {
          "color": "#888",
          "width": 1.2116987039885405
         },
         "mode": "lines",
         "type": "scatter",
         "x": [
          -12.39070970399015,
          -11.897670571538791
         ],
         "y": [
          22.673929128949084,
          23.71837686093763
         ]
        },
        {
         "hoverinfo": "none",
         "line": {
          "color": "#888",
          "width": 1.0398802290374018
         },
         "mode": "lines",
         "type": "scatter",
         "x": [
          -12.39070970399015,
          -12.77601031504658
         ],
         "y": [
          22.673929128949084,
          21.12541781408756
         ]
        },
        {
         "hoverinfo": "none",
         "line": {
          "color": "#888",
          "width": 1.0289377033892784
         },
         "mode": "lines",
         "type": "scatter",
         "x": [
          -10.680705289400953,
          -11.549799157354075
         ],
         "y": [
          22.22966651010958,
          21.33677004673493
         ]
        },
        {
         "hoverinfo": "none",
         "line": {
          "color": "#888",
          "width": 1.2236205374900375
         },
         "mode": "lines",
         "type": "scatter",
         "x": [
          -12.341464452775313,
          -11.549799157354075
         ],
         "y": [
          20.311362961497515,
          21.33677004673493
         ]
        },
        {
         "hoverinfo": "none",
         "line": {
          "color": "#888",
          "width": 1.0635755566987102
         },
         "mode": "lines",
         "type": "scatter",
         "x": [
          -13.046705351336772,
          -11.549799157354075
         ],
         "y": [
          20.77588764099713,
          21.33677004673493
         ]
        },
        {
         "hoverinfo": "none",
         "line": {
          "color": "#888",
          "width": 1.277912477086186
         },
         "mode": "lines",
         "type": "scatter",
         "x": [
          -12.608722745064354,
          -11.549799157354075
         ],
         "y": [
          21.38991608678275,
          21.33677004673493
         ]
        },
        {
         "hoverinfo": "none",
         "line": {
          "color": "#888",
          "width": 1.0774768598511477
         },
         "mode": "lines",
         "type": "scatter",
         "x": [
          -11.549799157354075,
          -12.040651155801354
         ],
         "y": [
          21.33677004673493,
          21.209858966184818
         ]
        },
        {
         "hoverinfo": "none",
         "line": {
          "color": "#888",
          "width": 1.1351113980145828
         },
         "mode": "lines",
         "type": "scatter",
         "x": [
          -11.549799157354075,
          -11.85499862010832
         ],
         "y": [
          21.33677004673493,
          20.494921025806526
         ]
        },
        {
         "hoverinfo": "none",
         "line": {
          "color": "#888",
          "width": 1.0641720417438782
         },
         "mode": "lines",
         "type": "scatter",
         "x": [
          -11.549799157354075,
          -11.263788850048781
         ],
         "y": [
          21.33677004673493,
          22.384709120747623
         ]
        },
        {
         "hoverinfo": "none",
         "line": {
          "color": "#888",
          "width": 1.0387838639467775
         },
         "mode": "lines",
         "type": "scatter",
         "x": [
          -11.549799157354075,
          -11.429739365262359
         ],
         "y": [
          21.33677004673493,
          22.733989773796388
         ]
        },
        {
         "hoverinfo": "none",
         "line": {
          "color": "#888",
          "width": 1.651069403466463
         },
         "mode": "lines",
         "type": "scatter",
         "x": [
          -11.549799157354075,
          -12.0448503313882
         ],
         "y": [
          21.33677004673493,
          21.57539053726569
         ]
        },
        {
         "hoverinfo": "none",
         "line": {
          "color": "#888",
          "width": 1.3322819258072858
         },
         "mode": "lines",
         "type": "scatter",
         "x": [
          -14.018918630615032,
          -12.629951858941117
         ],
         "y": [
          21.72493113956793,
          20.42458920482799
         ]
        },
        {
         "hoverinfo": "none",
         "line": {
          "color": "#888",
          "width": 1.5675087240431738
         },
         "mode": "lines",
         "type": "scatter",
         "x": [
          -12.850718139242009,
          -12.629951858941117
         ],
         "y": [
          20.929101940708783,
          20.42458920482799
         ]
        },
        {
         "hoverinfo": "none",
         "line": {
          "color": "#888",
          "width": 1.0162944108489014
         },
         "mode": "lines",
         "type": "scatter",
         "x": [
          -12.356415919830226,
          -12.629951858941117
         ],
         "y": [
          19.76080027239755,
          20.42458920482799
         ]
        },
        {
         "hoverinfo": "none",
         "line": {
          "color": "#888",
          "width": 1.0252000739065614
         },
         "mode": "lines",
         "type": "scatter",
         "x": [
          -12.629951858941117,
          -12.773844683472381
         ],
         "y": [
          20.42458920482799,
          19.566330422843407
         ]
        },
        {
         "hoverinfo": "none",
         "line": {
          "color": "#888",
          "width": 1.1028578207143278
         },
         "mode": "lines",
         "type": "scatter",
         "x": [
          -12.629951858941117,
          -13.551675742174377
         ],
         "y": [
          20.42458920482799,
          20.329212509114274
         ]
        },
        {
         "hoverinfo": "none",
         "line": {
          "color": "#888",
          "width": 1.5508367495811979
         },
         "mode": "lines",
         "type": "scatter",
         "x": [
          -12.629951858941117,
          -12.910843834401481
         ],
         "y": [
          20.42458920482799,
          21.01436659376408
         ]
        },
        {
         "hoverinfo": "none",
         "line": {
          "color": "#888",
          "width": 1.1765150063895184
         },
         "mode": "lines",
         "type": "scatter",
         "x": [
          -12.629951858941117,
          -12.77601031504658
         ],
         "y": [
          20.42458920482799,
          21.12541781408756
         ]
        },
        {
         "hoverinfo": "none",
         "line": {
          "color": "#888",
          "width": 1.0777260918306837
         },
         "mode": "lines",
         "type": "scatter",
         "x": [
          -10.876620155685893,
          -11.722835280723642
         ],
         "y": [
          13.40737124310082,
          13.116750930492408
         ]
        },
        {
         "hoverinfo": "none",
         "line": {
          "color": "#888",
          "width": 1.1582870114175923
         },
         "mode": "lines",
         "type": "scatter",
         "x": [
          -6.980617299185159,
          -6.8613395668689945
         ],
         "y": [
          24.381654675868525,
          25.28721818848291
         ]
        },
        {
         "hoverinfo": "none",
         "line": {
          "color": "#888",
          "width": 1.1771785420367555
         },
         "mode": "lines",
         "type": "scatter",
         "x": [
          -7.56483637469179,
          -6.8613395668689945
         ],
         "y": [
          25.792349324258,
          25.28721818848291
         ]
        },
        {
         "hoverinfo": "none",
         "line": {
          "color": "#888",
          "width": 1.0340728797538277
         },
         "mode": "lines",
         "type": "scatter",
         "x": [
          -6.8613395668689945,
          -6.1944511846115295
         ],
         "y": [
          25.28721818848291,
          24.720580155078387
         ]
        },
        {
         "hoverinfo": "none",
         "line": {
          "color": "#888",
          "width": 1.2809816368191018
         },
         "mode": "lines",
         "type": "scatter",
         "x": [
          -12.88079425450245,
          -12.773844683472381
         ],
         "y": [
          20.00414689876472,
          19.566330422843407
         ]
        },
        {
         "hoverinfo": "none",
         "line": {
          "color": "#888",
          "width": 1.27430688221318
         },
         "mode": "lines",
         "type": "scatter",
         "x": [
          -12.341464452775313,
          -12.773844683472381
         ],
         "y": [
          20.311362961497515,
          19.566330422843407
         ]
        },
        {
         "hoverinfo": "none",
         "line": {
          "color": "#888",
          "width": 1.092005958482648
         },
         "mode": "lines",
         "type": "scatter",
         "x": [
          -13.236477225987986,
          -12.773844683472381
         ],
         "y": [
          20.35065703675912,
          19.566330422843407
         ]
        },
        {
         "hoverinfo": "none",
         "line": {
          "color": "#888",
          "width": 1.1256842604748887
         },
         "mode": "lines",
         "type": "scatter",
         "x": [
          -12.32242407686812,
          -12.773844683472381
         ],
         "y": [
          19.080863426314938,
          19.566330422843407
         ]
        },
        {
         "hoverinfo": "none",
         "line": {
          "color": "#888",
          "width": 1.4972459540613943
         },
         "mode": "lines",
         "type": "scatter",
         "x": [
          -12.356415919830226,
          -12.773844683472381
         ],
         "y": [
          19.76080027239755,
          19.566330422843407
         ]
        },
        {
         "hoverinfo": "none",
         "line": {
          "color": "#888",
          "width": 1.0252000739065614
         },
         "mode": "lines",
         "type": "scatter",
         "x": [
          -12.629951858941117,
          -12.773844683472381
         ],
         "y": [
          20.42458920482799,
          19.566330422843407
         ]
        },
        {
         "hoverinfo": "none",
         "line": {
          "color": "#888",
          "width": 1.0674512939533738
         },
         "mode": "lines",
         "type": "scatter",
         "x": [
          -12.773844683472381,
          -12.77601031504658
         ],
         "y": [
          19.566330422843407,
          21.12541781408756
         ]
        },
        {
         "hoverinfo": "none",
         "line": {
          "color": "#888",
          "width": 1.0716382727419616
         },
         "mode": "lines",
         "type": "scatter",
         "x": [
          -12.773844683472381,
          -12.791751733740055
         ],
         "y": [
          19.566330422843407,
          19.008361465721478
         ]
        },
        {
         "hoverinfo": "none",
         "line": {
          "color": "#888",
          "width": 1.0639997301915696
         },
         "mode": "lines",
         "type": "scatter",
         "x": [
          -13.469602721182888,
          -13.551675742174377
         ],
         "y": [
          21.366730828241682,
          20.329212509114274
         ]
        },
        {
         "hoverinfo": "none",
         "line": {
          "color": "#888",
          "width": 1.0146031495542491
         },
         "mode": "lines",
         "type": "scatter",
         "x": [
          -13.488239384273696,
          -13.551675742174377
         ],
         "y": [
          22.052657171590635,
          20.329212509114274
         ]
        },
        {
         "hoverinfo": "none",
         "line": {
          "color": "#888",
          "width": 1.009891226732699
         },
         "mode": "lines",
         "type": "scatter",
         "x": [
          -14.550581404051927,
          -13.551675742174377
         ],
         "y": [
          19.624642271113515,
          20.329212509114274
         ]
        },
        {
         "hoverinfo": "none",
         "line": {
          "color": "#888",
          "width": 2.065971345037072
         },
         "mode": "lines",
         "type": "scatter",
         "x": [
          -12.850718139242009,
          -13.551675742174377
         ],
         "y": [
          20.929101940708783,
          20.329212509114274
         ]
        },
        {
         "hoverinfo": "none",
         "line": {
          "color": "#888",
          "width": 1.1028578207143278
         },
         "mode": "lines",
         "type": "scatter",
         "x": [
          -12.629951858941117,
          -13.551675742174377
         ],
         "y": [
          20.42458920482799,
          20.329212509114274
         ]
        },
        {
         "hoverinfo": "none",
         "line": {
          "color": "#888",
          "width": 2.0438351601555285
         },
         "mode": "lines",
         "type": "scatter",
         "x": [
          -13.551675742174377,
          -12.910843834401481
         ],
         "y": [
          20.329212509114274,
          21.01436659376408
         ]
        },
        {
         "hoverinfo": "none",
         "line": {
          "color": "#888",
          "width": 1.182845607700317
         },
         "mode": "lines",
         "type": "scatter",
         "x": [
          -13.551675742174377,
          -12.284441948806446
         ],
         "y": [
          20.329212509114274,
          21.025645557579107
         ]
        },
        {
         "hoverinfo": "none",
         "line": {
          "color": "#888",
          "width": 1.1053318702016692
         },
         "mode": "lines",
         "type": "scatter",
         "x": [
          -13.551675742174377,
          -13.23643931550353
         ],
         "y": [
          20.329212509114274,
          20.945151973986814
         ]
        },
        {
         "hoverinfo": "none",
         "line": {
          "color": "#888",
          "width": 1.6214786080697199
         },
         "mode": "lines",
         "type": "scatter",
         "x": [
          -13.551675742174377,
          -14.197638723341639
         ],
         "y": [
          20.329212509114274,
          21.267662103421003
         ]
        },
        {
         "hoverinfo": "none",
         "line": {
          "color": "#888",
          "width": 1.478063701708963
         },
         "mode": "lines",
         "type": "scatter",
         "x": [
          -13.551675742174377,
          -13.263024710033392
         ],
         "y": [
          20.329212509114274,
          21.47913495742209
         ]
        },
        {
         "hoverinfo": "none",
         "line": {
          "color": "#888",
          "width": 1.024851807316002
         },
         "mode": "lines",
         "type": "scatter",
         "x": [
          -15.234399201561038,
          -14.113963476444026
         ],
         "y": [
          21.622923707016,
          20.733964232542867
         ]
        },
        {
         "hoverinfo": "none",
         "line": {
          "color": "#888",
          "width": 1.227184181781318
         },
         "mode": "lines",
         "type": "scatter",
         "x": [
          -6.3972927373085495,
          -7.173322289908699
         ],
         "y": [
          15.241339929201953,
          15.323501465363748
         ]
        },
        {
         "hoverinfo": "none",
         "line": {
          "color": "#888",
          "width": 1.292876417243475
         },
         "mode": "lines",
         "type": "scatter",
         "x": [
          -7.173322289908699,
          -7.0968782985042065
         ],
         "y": [
          15.323501465363748,
          16.098146229260884
         ]
        },
        {
         "hoverinfo": "none",
         "line": {
          "color": "#888",
          "width": 1.1894481478399692
         },
         "mode": "lines",
         "type": "scatter",
         "x": [
          -7.173322289908699,
          -6.370044307639769
         ],
         "y": [
          15.323501465363748,
          15.983076688771783
         ]
        },
        {
         "hoverinfo": "none",
         "line": {
          "color": "#888",
          "width": 1.023739986080041
         },
         "mode": "lines",
         "type": "scatter",
         "x": [
          -7.173322289908699,
          -7.894341793927663
         ],
         "y": [
          15.323501465363748,
          14.811120528398838
         ]
        },
        {
         "hoverinfo": "none",
         "line": {
          "color": "#888",
          "width": 1.1375442406461065
         },
         "mode": "lines",
         "type": "scatter",
         "x": [
          -11.96986801292686,
          -12.040651155801354
         ],
         "y": [
          22.41278980421849,
          21.209858966184818
         ]
        },
        {
         "hoverinfo": "none",
         "line": {
          "color": "#888",
          "width": 1.3020081673906392
         },
         "mode": "lines",
         "type": "scatter",
         "x": [
          -12.341464452775313,
          -12.040651155801354
         ],
         "y": [
          20.311362961497515,
          21.209858966184818
         ]
        },
        {
         "hoverinfo": "none",
         "line": {
          "color": "#888",
          "width": 1.2126837123212695
         },
         "mode": "lines",
         "type": "scatter",
         "x": [
          -12.345143556966459,
          -12.040651155801354
         ],
         "y": [
          21.995363443026463,
          21.209858966184818
         ]
        },
        {
         "hoverinfo": "none",
         "line": {
          "color": "#888",
          "width": 1.0879176777993202
         },
         "mode": "lines",
         "type": "scatter",
         "x": [
          -12.608722745064354,
          -12.040651155801354
         ],
         "y": [
          21.38991608678275,
          21.209858966184818
         ]
        },
        {
         "hoverinfo": "none",
         "line": {
          "color": "#888",
          "width": 1.0142546881249672
         },
         "mode": "lines",
         "type": "scatter",
         "x": [
          -12.356415919830226,
          -12.040651155801354
         ],
         "y": [
          19.76080027239755,
          21.209858966184818
         ]
        },
        {
         "hoverinfo": "none",
         "line": {
          "color": "#888",
          "width": 1.0283338879595503
         },
         "mode": "lines",
         "type": "scatter",
         "x": [
          -12.39070970399015,
          -12.040651155801354
         ],
         "y": [
          22.673929128949084,
          21.209858966184818
         ]
        },
        {
         "hoverinfo": "none",
         "line": {
          "color": "#888",
          "width": 1.0774768598511477
         },
         "mode": "lines",
         "type": "scatter",
         "x": [
          -11.549799157354075,
          -12.040651155801354
         ],
         "y": [
          21.33677004673493,
          21.209858966184818
         ]
        },
        {
         "hoverinfo": "none",
         "line": {
          "color": "#888",
          "width": 1.0017036219199675
         },
         "mode": "lines",
         "type": "scatter",
         "x": [
          -12.040651155801354,
          -12.910843834401481
         ],
         "y": [
          21.209858966184818,
          21.01436659376408
         ]
        },
        {
         "hoverinfo": "none",
         "line": {
          "color": "#888",
          "width": 1.0044307703095177
         },
         "mode": "lines",
         "type": "scatter",
         "x": [
          -12.040651155801354,
          -13.23643931550353
         ],
         "y": [
          21.209858966184818,
          20.945151973986814
         ]
        },
        {
         "hoverinfo": "none",
         "line": {
          "color": "#888",
          "width": 1.0661448204254618
         },
         "mode": "lines",
         "type": "scatter",
         "x": [
          -12.040651155801354,
          -12.77601031504658
         ],
         "y": [
          21.209858966184818,
          21.12541781408756
         ]
        },
        {
         "hoverinfo": "none",
         "line": {
          "color": "#888",
          "width": 1.0434783024942098
         },
         "mode": "lines",
         "type": "scatter",
         "x": [
          -12.040651155801354,
          -12.0448503313882
         ],
         "y": [
          21.209858966184818,
          21.57539053726569
         ]
        },
        {
         "hoverinfo": "none",
         "line": {
          "color": "#888",
          "width": 1.0315361785896977
         },
         "mode": "lines",
         "type": "scatter",
         "x": [
          -14.710043075976875,
          -13.865413814385875
         ],
         "y": [
          16.190377164988895,
          16.73569458910048
         ]
        },
        {
         "hoverinfo": "none",
         "line": {
          "color": "#888",
          "width": 1.2592419968009052
         },
         "mode": "lines",
         "type": "scatter",
         "x": [
          -13.441751089432334,
          -13.865413814385875
         ],
         "y": [
          17.589690474392604,
          16.73569458910048
         ]
        },
        {
         "hoverinfo": "none",
         "line": {
          "color": "#888",
          "width": 1.071128511782815
         },
         "mode": "lines",
         "type": "scatter",
         "x": [
          -6.980617299185159,
          -6.1944511846115295
         ],
         "y": [
          24.381654675868525,
          24.720580155078387
         ]
        },
        {
         "hoverinfo": "none",
         "line": {
          "color": "#888",
          "width": 1.0245518414506591
         },
         "mode": "lines",
         "type": "scatter",
         "x": [
          -5.386818926161954,
          -6.1944511846115295
         ],
         "y": [
          24.440457183874862,
          24.720580155078387
         ]
        },
        {
         "hoverinfo": "none",
         "line": {
          "color": "#888",
          "width": 1.0340728797538277
         },
         "mode": "lines",
         "type": "scatter",
         "x": [
          -6.8613395668689945,
          -6.1944511846115295
         ],
         "y": [
          25.28721818848291,
          24.720580155078387
         ]
        },
        {
         "hoverinfo": "none",
         "line": {
          "color": "#888",
          "width": 1.1908454484178237
         },
         "mode": "lines",
         "type": "scatter",
         "x": [
          -12.714023615727218,
          -13.40775776308866
         ],
         "y": [
          24.189137248261808,
          23.16466309028817
         ]
        },
        {
         "hoverinfo": "none",
         "line": {
          "color": "#888",
          "width": 1.0524442281058517
         },
         "mode": "lines",
         "type": "scatter",
         "x": [
          -12.700498433924094,
          -13.40775776308866
         ],
         "y": [
          22.212152083511462,
          23.16466309028817
         ]
        },
        {
         "hoverinfo": "none",
         "line": {
          "color": "#888",
          "width": 1.175874262213163
         },
         "mode": "lines",
         "type": "scatter",
         "x": [
          -13.40775776308866,
          -12.863841475837656
         ],
         "y": [
          23.16466309028817,
          23.15284384716926
         ]
        },
        {
         "hoverinfo": "none",
         "line": {
          "color": "#888",
          "width": 1.004178189054917
         },
         "mode": "lines",
         "type": "scatter",
         "x": [
          -13.40775776308866,
          -13.402038872682441
         ],
         "y": [
          23.16466309028817,
          21.793632774845815
         ]
        },
        {
         "hoverinfo": "none",
         "line": {
          "color": "#888",
          "width": 1.0016258231537143
         },
         "mode": "lines",
         "type": "scatter",
         "x": [
          -15.372073600338794,
          -13.991559819591165
         ],
         "y": [
          20.491665880790695,
          20.390716009399764
         ]
        },
        {
         "hoverinfo": "none",
         "line": {
          "color": "#888",
          "width": 1.396281197964648
         },
         "mode": "lines",
         "type": "scatter",
         "x": [
          -12.850718139242009,
          -12.245780801073543
         ],
         "y": [
          20.929101940708783,
          22.05487676021708
         ]
        },
        {
         "hoverinfo": "none",
         "line": {
          "color": "#888",
          "width": 1.381764395450621
         },
         "mode": "lines",
         "type": "scatter",
         "x": [
          -12.245780801073543,
          -12.910843834401481
         ],
         "y": [
          22.05487676021708,
          21.01436659376408
         ]
        },
        {
         "hoverinfo": "none",
         "line": {
          "color": "#888",
          "width": 1.158520250127273
         },
         "mode": "lines",
         "type": "scatter",
         "x": [
          -12.245780801073543,
          -13.030036553810685
         ],
         "y": [
          22.05487676021708,
          21.519701600461545
         ]
        },
        {
         "hoverinfo": "none",
         "line": {
          "color": "#888",
          "width": 1.3947798602143577
         },
         "mode": "lines",
         "type": "scatter",
         "x": [
          -13.04465356572712,
          -12.407573428884401
         ],
         "y": [
          19.63101236622079,
          18.483892921314833
         ]
        },
        {
         "hoverinfo": "none",
         "line": {
          "color": "#888",
          "width": 1.4270424796927508
         },
         "mode": "lines",
         "type": "scatter",
         "x": [
          -12.407573428884401,
          -12.413627755794588
         ],
         "y": [
          18.483892921314833,
          19.886962274912875
         ]
        },
        {
         "hoverinfo": "none",
         "line": {
          "color": "#888",
          "width": 1.1074856560433903
         },
         "mode": "lines",
         "type": "scatter",
         "x": [
          -13.889868260640972,
          -13.351672055886201
         ],
         "y": [
          20.43968106318603,
          19.867140863497806
         ]
        },
        {
         "hoverinfo": "none",
         "line": {
          "color": "#888",
          "width": 1.1148568168788477
         },
         "mode": "lines",
         "type": "scatter",
         "x": [
          -13.197102179360037,
          -13.351672055886201
         ],
         "y": [
          20.446227226217555,
          19.867140863497806
         ]
        },
        {
         "hoverinfo": "none",
         "line": {
          "color": "#888",
          "width": 1.0785351354543908
         },
         "mode": "lines",
         "type": "scatter",
         "x": [
          -12.850718139242009,
          -13.351672055886201
         ],
         "y": [
          20.929101940708783,
          19.867140863497806
         ]
        },
        {
         "hoverinfo": "none",
         "line": {
          "color": "#888",
          "width": 1.0649763823028287
         },
         "mode": "lines",
         "type": "scatter",
         "x": [
          -13.351672055886201,
          -12.910843834401481
         ],
         "y": [
          19.867140863497806,
          21.01436659376408
         ]
        },
        {
         "hoverinfo": "none",
         "line": {
          "color": "#888",
          "width": 1.0694843331904502
         },
         "mode": "lines",
         "type": "scatter",
         "x": [
          -13.351672055886201,
          -13.991559819591165
         ],
         "y": [
          19.867140863497806,
          20.390716009399764
         ]
        },
        {
         "hoverinfo": "none",
         "line": {
          "color": "#888",
          "width": 1.2668221814392555
         },
         "mode": "lines",
         "type": "scatter",
         "x": [
          -4.584947224697205,
          -5.073089420651273
         ],
         "y": [
          15.71948327575617,
          16.459245976619137
         ]
        },
        {
         "hoverinfo": "none",
         "line": {
          "color": "#888",
          "width": 1.347942889518921
         },
         "mode": "lines",
         "type": "scatter",
         "x": [
          -5.073089420651273,
          -5.86844856996267
         ],
         "y": [
          16.459245976619137,
          16.760373276774367
         ]
        },
        {
         "hoverinfo": "none",
         "line": {
          "color": "#888",
          "width": 1.1256280676713315
         },
         "mode": "lines",
         "type": "scatter",
         "x": [
          -5.073089420651273,
          -4.223973842704066
         ],
         "y": [
          16.459245976619137,
          16.553054912084303
         ]
        },
        {
         "hoverinfo": "none",
         "line": {
          "color": "#888",
          "width": 1.08702934324447
         },
         "mode": "lines",
         "type": "scatter",
         "x": [
          -14.878990974107236,
          -13.991559819591165
         ],
         "y": [
          19.390836062858266,
          20.390716009399764
         ]
        },
        {
         "hoverinfo": "none",
         "line": {
          "color": "#888",
          "width": 1.0312463278416266
         },
         "mode": "lines",
         "type": "scatter",
         "x": [
          -14.878990974107236,
          -15.64783094935959
         ],
         "y": [
          19.390836062858266,
          18.70206518528754
         ]
        },
        {
         "hoverinfo": "none",
         "line": {
          "color": "#888",
          "width": 1.101846943540752
         },
         "mode": "lines",
         "type": "scatter",
         "x": [
          -14.489168620811169,
          -14.113963476444026
         ],
         "y": [
          21.091249032371852,
          20.733964232542867
         ]
        },
        {
         "hoverinfo": "none",
         "line": {
          "color": "#888",
          "width": 1.2360856728275742
         },
         "mode": "lines",
         "type": "scatter",
         "x": [
          -13.642983348705675,
          -14.113963476444026
         ],
         "y": [
          20.519633212486255,
          20.733964232542867
         ]
        },
        {
         "hoverinfo": "none",
         "line": {
          "color": "#888",
          "width": 1.0897274601483349
         },
         "mode": "lines",
         "type": "scatter",
         "x": [
          -12.850718139242009,
          -14.113963476444026
         ],
         "y": [
          20.929101940708783,
          20.733964232542867
         ]
        },
        {
         "hoverinfo": "none",
         "line": {
          "color": "#888",
          "width": 1.173381555970102
         },
         "mode": "lines",
         "type": "scatter",
         "x": [
          -13.236477225987986,
          -14.113963476444026
         ],
         "y": [
          20.35065703675912,
          20.733964232542867
         ]
        },
        {
         "hoverinfo": "none",
         "line": {
          "color": "#888",
          "width": 1.2118755430433457
         },
         "mode": "lines",
         "type": "scatter",
         "x": [
          -13.537096610506756,
          -14.113963476444026
         ],
         "y": [
          19.92320307519968,
          20.733964232542867
         ]
        },
        {
         "hoverinfo": "none",
         "line": {
          "color": "#888",
          "width": 1.0735111654177543
         },
         "mode": "lines",
         "type": "scatter",
         "x": [
          -14.005021731026002,
          -14.113963476444026
         ],
         "y": [
          21.876050068264206,
          20.733964232542867
         ]
        },
        {
         "hoverinfo": "none",
         "line": {
          "color": "#888",
          "width": 1.0614058798952004
         },
         "mode": "lines",
         "type": "scatter",
         "x": [
          -13.85101503582916,
          -14.113963476444026
         ],
         "y": [
          19.70968323427432,
          20.733964232542867
         ]
        },
        {
         "hoverinfo": "none",
         "line": {
          "color": "#888",
          "width": 1.130544911080376
         },
         "mode": "lines",
         "type": "scatter",
         "x": [
          -13.427726029882152,
          -14.113963476444026
         ],
         "y": [
          21.052187341494502,
          20.733964232542867
         ]
        },
        {
         "hoverinfo": "none",
         "line": {
          "color": "#888",
          "width": 1.0127579753703615
         },
         "mode": "lines",
         "type": "scatter",
         "x": [
          -15.318409941350346,
          -14.113963476444026
         ],
         "y": [
          21.07416326794205,
          20.733964232542867
         ]
        },
        {
         "hoverinfo": "none",
         "line": {
          "color": "#888",
          "width": 1.5661984593213938
         },
         "mode": "lines",
         "type": "scatter",
         "x": [
          -13.912717315656698,
          -14.113963476444026
         ],
         "y": [
          21.454212393115643,
          20.733964232542867
         ]
        },
        {
         "hoverinfo": "none",
         "line": {
          "color": "#888",
          "width": 1.024851807316002
         },
         "mode": "lines",
         "type": "scatter",
         "x": [
          -15.234399201561038,
          -14.113963476444026
         ],
         "y": [
          21.622923707016,
          20.733964232542867
         ]
        },
        {
         "hoverinfo": "none",
         "line": {
          "color": "#888",
          "width": 1.3790216487161453
         },
         "mode": "lines",
         "type": "scatter",
         "x": [
          -14.113963476444026,
          -12.910843834401481
         ],
         "y": [
          20.733964232542867,
          21.01436659376408
         ]
        },
        {
         "hoverinfo": "none",
         "line": {
          "color": "#888",
          "width": 1.0147711859151491
         },
         "mode": "lines",
         "type": "scatter",
         "x": [
          -14.113963476444026,
          -13.637993460243793
         ],
         "y": [
          20.733964232542867,
          21.53220459934256
         ]
        },
        {
         "hoverinfo": "none",
         "line": {
          "color": "#888",
          "width": 1.418570868399821
         },
         "mode": "lines",
         "type": "scatter",
         "x": [
          -14.113963476444026,
          -13.23643931550353
         ],
         "y": [
          20.733964232542867,
          20.945151973986814
         ]
        },
        {
         "hoverinfo": "none",
         "line": {
          "color": "#888",
          "width": 1.1205473960343013
         },
         "mode": "lines",
         "type": "scatter",
         "x": [
          -14.113963476444026,
          -13.402038872682441
         ],
         "y": [
          20.733964232542867,
          21.793632774845815
         ]
        },
        {
         "hoverinfo": "none",
         "line": {
          "color": "#888",
          "width": 1.478343144437317
         },
         "mode": "lines",
         "type": "scatter",
         "x": [
          -14.113963476444026,
          -13.263024710033392
         ],
         "y": [
          20.733964232542867,
          21.47913495742209
         ]
        },
        {
         "hoverinfo": "none",
         "line": {
          "color": "#888",
          "width": 1.0239793226778227
         },
         "mode": "lines",
         "type": "scatter",
         "x": [
          -14.113963476444026,
          -13.994286400461116
         ],
         "y": [
          20.733964232542867,
          20.881168702489436
         ]
        },
        {
         "hoverinfo": "none",
         "line": {
          "color": "#888",
          "width": 1.1687158288165795
         },
         "mode": "lines",
         "type": "scatter",
         "x": [
          -14.311419458172569,
          -15.067822716688191
         ],
         "y": [
          19.971822262725137,
          19.80585907837482
         ]
        },
        {
         "hoverinfo": "none",
         "line": {
          "color": "#888",
          "width": 1.1152978365695407
         },
         "mode": "lines",
         "type": "scatter",
         "x": [
          -14.582278534558517,
          -15.067822716688191
         ],
         "y": [
          20.217135258366874,
          19.80585907837482
         ]
        },
        {
         "hoverinfo": "none",
         "line": {
          "color": "#888",
          "width": 1.0063678625099115
         },
         "mode": "lines",
         "type": "scatter",
         "x": [
          -15.067822716688191,
          -13.991559819591165
         ],
         "y": [
          19.80585907837482,
          20.390716009399764
         ]
        },
        {
         "hoverinfo": "none",
         "line": {
          "color": "#888",
          "width": 1.239663977993973
         },
         "mode": "lines",
         "type": "scatter",
         "x": [
          -15.067822716688191,
          -15.174279426119066
         ],
         "y": [
          19.80585907837482,
          20.114788448159768
         ]
        },
        {
         "hoverinfo": "none",
         "line": {
          "color": "#888",
          "width": 1.065898236688193
         },
         "mode": "lines",
         "type": "scatter",
         "x": [
          -12.341464452775313,
          -11.206212473786957
         ],
         "y": [
          20.311362961497515,
          19.700944560761023
         ]
        },
        {
         "hoverinfo": "none",
         "line": {
          "color": "#888",
          "width": 1.0203869560990926
         },
         "mode": "lines",
         "type": "scatter",
         "x": [
          -11.206212473786957,
          -11.85499862010832
         ],
         "y": [
          19.700944560761023,
          20.494921025806526
         ]
        },
        {
         "hoverinfo": "none",
         "line": {
          "color": "#888",
          "width": 1.0777260918306837
         },
         "mode": "lines",
         "type": "scatter",
         "x": [
          -10.876620155685893,
          -11.722835280723642
         ],
         "y": [
          13.40737124310082,
          13.116750930492408
         ]
        },
        {
         "hoverinfo": "none",
         "line": {
          "color": "#888",
          "width": 1.0179709864903281
         },
         "mode": "lines",
         "type": "scatter",
         "x": [
          -13.584146493457986,
          -14.17718698076056
         ],
         "y": [
          21.910867822678476,
          22.950125329389966
         ]
        },
        {
         "hoverinfo": "none",
         "line": {
          "color": "#888",
          "width": 1.0835187560359603
         },
         "mode": "lines",
         "type": "scatter",
         "x": [
          -14.17718698076056,
          -14.498939637577397
         ],
         "y": [
          22.950125329389966,
          22.044399357519538
         ]
        },
        {
         "hoverinfo": "none",
         "line": {
          "color": "#888",
          "width": 1.118949889885228
         },
         "mode": "lines",
         "type": "scatter",
         "x": [
          -12.714023615727218,
          -12.863841475837656
         ],
         "y": [
          24.189137248261808,
          23.15284384716926
         ]
        },
        {
         "hoverinfo": "none",
         "line": {
          "color": "#888",
          "width": 1.062441482693396
         },
         "mode": "lines",
         "type": "scatter",
         "x": [
          -12.700498433924094,
          -12.863841475837656
         ],
         "y": [
          22.212152083511462,
          23.15284384716926
         ]
        },
        {
         "hoverinfo": "none",
         "line": {
          "color": "#888",
          "width": 1.175874262213163
         },
         "mode": "lines",
         "type": "scatter",
         "x": [
          -13.40775776308866,
          -12.863841475837656
         ],
         "y": [
          23.16466309028817,
          23.15284384716926
         ]
        },
        {
         "hoverinfo": "none",
         "line": {
          "color": "#888",
          "width": 1.0031936006915716
         },
         "mode": "lines",
         "type": "scatter",
         "x": [
          -12.863841475837656,
          -13.402038872682441
         ],
         "y": [
          23.15284384716926,
          21.793632774845815
         ]
        },
        {
         "hoverinfo": "none",
         "line": {
          "color": "#888",
          "width": 1.0037672094831849
         },
         "mode": "lines",
         "type": "scatter",
         "x": [
          -14.916485071497744,
          -14.628261411278487
         ],
         "y": [
          13.489550636378056,
          14.221291596828324
         ]
        },
        {
         "hoverinfo": "none",
         "line": {
          "color": "#888",
          "width": 1.0009002263479672
         },
         "mode": "lines",
         "type": "scatter",
         "x": [
          -14.628261411278487,
          -15.523142350203068
         ],
         "y": [
          14.221291596828324,
          14.189823829652912
         ]
        },
        {
         "hoverinfo": "none",
         "line": {
          "color": "#888",
          "width": 1.0402369266799911
         },
         "mode": "lines",
         "type": "scatter",
         "x": [
          -10.94275863783377,
          -11.14647911771022
         ],
         "y": [
          23.596121969629742,
          22.371393610371104
         ]
        },
        {
         "hoverinfo": "none",
         "line": {
          "color": "#888",
          "width": 1.013889391058027
         },
         "mode": "lines",
         "type": "scatter",
         "x": [
          -14.018918630615032,
          -14.986087504472923
         ],
         "y": [
          21.72493113956793,
          22.39991748096667
         ]
        },
        {
         "hoverinfo": "none",
         "line": {
          "color": "#888",
          "width": 1.0665600340541475
         },
         "mode": "lines",
         "type": "scatter",
         "x": [
          -14.858379268270992,
          -14.986087504472923
         ],
         "y": [
          21.526061738550137,
          22.39991748096667
         ]
        },
        {
         "hoverinfo": "none",
         "line": {
          "color": "#888",
          "width": 1.076168477283597
         },
         "mode": "lines",
         "type": "scatter",
         "x": [
          -15.185335092491869,
          -14.986087504472923
         ],
         "y": [
          21.033890967174504,
          22.39991748096667
         ]
        },
        {
         "hoverinfo": "none",
         "line": {
          "color": "#888",
          "width": 1.0702078111080118
         },
         "mode": "lines",
         "type": "scatter",
         "x": [
          -15.827375056035295,
          -14.986087504472923
         ],
         "y": [
          21.850844621105583,
          22.39991748096667
         ]
        },
        {
         "hoverinfo": "none",
         "line": {
          "color": "#888",
          "width": 1.2061507937740665
         },
         "mode": "lines",
         "type": "scatter",
         "x": [
          -14.986087504472923,
          -14.720725521153799
         ],
         "y": [
          22.39991748096667,
          23.67530227963661
         ]
        },
        {
         "hoverinfo": "none",
         "line": {
          "color": "#888",
          "width": 1.3018585044066486
         },
         "mode": "lines",
         "type": "scatter",
         "x": [
          -12.850718139242009,
          -12.170458243867694
         ],
         "y": [
          20.929101940708783,
          19.971879414718284
         ]
        },
        {
         "hoverinfo": "none",
         "line": {
          "color": "#888",
          "width": 1.0329961997871857
         },
         "mode": "lines",
         "type": "scatter",
         "x": [
          -11.890506936706867,
          -12.170458243867694
         ],
         "y": [
          18.6555510556014,
          19.971879414718284
         ]
        },
        {
         "hoverinfo": "none",
         "line": {
          "color": "#888",
          "width": 1.2864468529583373
         },
         "mode": "lines",
         "type": "scatter",
         "x": [
          -12.170458243867694,
          -12.910843834401481
         ],
         "y": [
          19.971879414718284,
          21.01436659376408
         ]
        },
        {
         "hoverinfo": "none",
         "line": {
          "color": "#888",
          "width": 1.0952915075625365
         },
         "mode": "lines",
         "type": "scatter",
         "x": [
          -12.170458243867694,
          -12.791751733740055
         ],
         "y": [
          19.971879414718284,
          19.008361465721478
         ]
        },
        {
         "hoverinfo": "none",
         "line": {
          "color": "#888",
          "width": 2.566209840487566
         },
         "mode": "lines",
         "type": "scatter",
         "x": [
          -13.713867049753938,
          -12.910843834401481
         ],
         "y": [
          21.32277923138798,
          21.01436659376408
         ]
        },
        {
         "hoverinfo": "none",
         "line": {
          "color": "#888",
          "width": 1.3015663196802976
         },
         "mode": "lines",
         "type": "scatter",
         "x": [
          -14.018918630615032,
          -12.910843834401481
         ],
         "y": [
          21.72493113956793,
          21.01436659376408
         ]
        },
        {
         "hoverinfo": "none",
         "line": {
          "color": "#888",
          "width": 1.8814560634855202
         },
         "mode": "lines",
         "type": "scatter",
         "x": [
          -13.72503864579122,
          -12.910843834401481
         ],
         "y": [
          20.752200827459543,
          21.01436659376408
         ]
        },
        {
         "hoverinfo": "none",
         "line": {
          "color": "#888",
          "width": 1.7937621694778214
         },
         "mode": "lines",
         "type": "scatter",
         "x": [
          -12.95422029598588,
          -12.910843834401481
         ],
         "y": [
          22.173012221957887,
          21.01436659376408
         ]
        },
        {
         "hoverinfo": "none",
         "line": {
          "color": "#888",
          "width": 1.1107805467841665
         },
         "mode": "lines",
         "type": "scatter",
         "x": [
          -13.889868260640972,
          -12.910843834401481
         ],
         "y": [
          20.43968106318603,
          21.01436659376408
         ]
        },
        {
         "hoverinfo": "none",
         "line": {
          "color": "#888",
          "width": 1.9066601669415097
         },
         "mode": "lines",
         "type": "scatter",
         "x": [
          -13.469602721182888,
          -12.910843834401481
         ],
         "y": [
          21.366730828241682,
          21.01436659376408
         ]
        },
        {
         "hoverinfo": "none",
         "line": {
          "color": "#888",
          "width": 1.6918335657476147
         },
         "mode": "lines",
         "type": "scatter",
         "x": [
          -13.421282842315208,
          -12.910843834401481
         ],
         "y": [
          20.731208327312252,
          21.01436659376408
         ]
        },
        {
         "hoverinfo": "none",
         "line": {
          "color": "#888",
          "width": 1.0412559036608944
         },
         "mode": "lines",
         "type": "scatter",
         "x": [
          -12.075137469042582,
          -12.910843834401481
         ],
         "y": [
          21.88172971181922,
          21.01436659376408
         ]
        },
        {
         "hoverinfo": "none",
         "line": {
          "color": "#888",
          "width": 1.0274528679010728
         },
         "mode": "lines",
         "type": "scatter",
         "x": [
          -12.88079425450245,
          -12.910843834401481
         ],
         "y": [
          20.00414689876472,
          21.01436659376408
         ]
        },
        {
         "hoverinfo": "none",
         "line": {
          "color": "#888",
          "width": 1.315584544815094
         },
         "mode": "lines",
         "type": "scatter",
         "x": [
          -11.949124589899004,
          -12.910843834401481
         ],
         "y": [
          21.792200991998797,
          21.01436659376408
         ]
        },
        {
         "hoverinfo": "none",
         "line": {
          "color": "#888",
          "width": 1.251505001338207
         },
         "mode": "lines",
         "type": "scatter",
         "x": [
          -12.341464452775313,
          -12.910843834401481
         ],
         "y": [
          20.311362961497515,
          21.01436659376408
         ]
        },
        {
         "hoverinfo": "none",
         "line": {
          "color": "#888",
          "width": 1.3636061225836045
         },
         "mode": "lines",
         "type": "scatter",
         "x": [
          -13.488239384273696,
          -12.910843834401481
         ],
         "y": [
          22.052657171590635,
          21.01436659376408
         ]
        },
        {
         "hoverinfo": "none",
         "line": {
          "color": "#888",
          "width": 1.132076111448573
         },
         "mode": "lines",
         "type": "scatter",
         "x": [
          -13.642983348705675,
          -12.910843834401481
         ],
         "y": [
          20.519633212486255,
          21.01436659376408
         ]
        },
        {
         "hoverinfo": "none",
         "line": {
          "color": "#888",
          "width": 1.0566396278035435
         },
         "mode": "lines",
         "type": "scatter",
         "x": [
          -11.942871546634484,
          -12.910843834401481
         ],
         "y": [
          20.943028751942535,
          21.01436659376408
         ]
        },
        {
         "hoverinfo": "none",
         "line": {
          "color": "#888",
          "width": 2.1872722361747963
         },
         "mode": "lines",
         "type": "scatter",
         "x": [
          -13.197102179360037,
          -12.910843834401481
         ],
         "y": [
          20.446227226217555,
          21.01436659376408
         ]
        },
        {
         "hoverinfo": "none",
         "line": {
          "color": "#888",
          "width": 1.2839448025401863
         },
         "mode": "lines",
         "type": "scatter",
         "x": [
          -12.345143556966459,
          -12.910843834401481
         ],
         "y": [
          21.995363443026463,
          21.01436659376408
         ]
        },
        {
         "hoverinfo": "none",
         "line": {
          "color": "#888",
          "width": 10
         },
         "mode": "lines",
         "type": "scatter",
         "x": [
          -12.850718139242009,
          -12.910843834401481
         ],
         "y": [
          20.929101940708783,
          21.01436659376408
         ]
        },
        {
         "hoverinfo": "none",
         "line": {
          "color": "#888",
          "width": 1.1574776734716477
         },
         "mode": "lines",
         "type": "scatter",
         "x": [
          -13.236477225987986,
          -12.910843834401481
         ],
         "y": [
          20.35065703675912,
          21.01436659376408
         ]
        },
        {
         "hoverinfo": "none",
         "line": {
          "color": "#888",
          "width": 1.4227295360483014
         },
         "mode": "lines",
         "type": "scatter",
         "x": [
          -13.537096610506756,
          -12.910843834401481
         ],
         "y": [
          19.92320307519968,
          21.01436659376408
         ]
        },
        {
         "hoverinfo": "none",
         "line": {
          "color": "#888",
          "width": 1.2890306469390533
         },
         "mode": "lines",
         "type": "scatter",
         "x": [
          -14.005021731026002,
          -12.910843834401481
         ],
         "y": [
          21.876050068264206,
          21.01436659376408
         ]
        },
        {
         "hoverinfo": "none",
         "line": {
          "color": "#888",
          "width": 2.451719595282226
         },
         "mode": "lines",
         "type": "scatter",
         "x": [
          -13.427726029882152,
          -12.910843834401481
         ],
         "y": [
          21.052187341494502,
          21.01436659376408
         ]
        },
        {
         "hoverinfo": "none",
         "line": {
          "color": "#888",
          "width": 1.3165820698061634
         },
         "mode": "lines",
         "type": "scatter",
         "x": [
          -13.04465356572712,
          -12.910843834401481
         ],
         "y": [
          19.63101236622079,
          21.01436659376408
         ]
        },
        {
         "hoverinfo": "none",
         "line": {
          "color": "#888",
          "width": 1.670467809013335
         },
         "mode": "lines",
         "type": "scatter",
         "x": [
          -14.027395794310534,
          -12.910843834401481
         ],
         "y": [
          21.396105270096907,
          21.01436659376408
         ]
        },
        {
         "hoverinfo": "none",
         "line": {
          "color": "#888",
          "width": 1.3993620914043623
         },
         "mode": "lines",
         "type": "scatter",
         "x": [
          -13.584146493457986,
          -12.910843834401481
         ],
         "y": [
          21.910867822678476,
          21.01436659376408
         ]
        },
        {
         "hoverinfo": "none",
         "line": {
          "color": "#888",
          "width": 1.7288782060789272
         },
         "mode": "lines",
         "type": "scatter",
         "x": [
          -12.907640754729615,
          -12.910843834401481
         ],
         "y": [
          20.469607616408755,
          21.01436659376408
         ]
        },
        {
         "hoverinfo": "none",
         "line": {
          "color": "#888",
          "width": 3.1879587570809687
         },
         "mode": "lines",
         "type": "scatter",
         "x": [
          -13.046705351336772,
          -12.910843834401481
         ],
         "y": [
          20.77588764099713,
          21.01436659376408
         ]
        },
        {
         "hoverinfo": "none",
         "line": {
          "color": "#888",
          "width": 1.318747306507667
         },
         "mode": "lines",
         "type": "scatter",
         "x": [
          -11.670530996185668,
          -12.910843834401481
         ],
         "y": [
          21.09066706630328,
          21.01436659376408
         ]
        },
        {
         "hoverinfo": "none",
         "line": {
          "color": "#888",
          "width": 1.0098721890370026
         },
         "mode": "lines",
         "type": "scatter",
         "x": [
          -12.700498433924094,
          -12.910843834401481
         ],
         "y": [
          22.212152083511462,
          21.01436659376408
         ]
        },
        {
         "hoverinfo": "none",
         "line": {
          "color": "#888",
          "width": 1.0970820709105817
         },
         "mode": "lines",
         "type": "scatter",
         "x": [
          -12.14572655546444,
          -12.910843834401481
         ],
         "y": [
          20.401750449215392,
          21.01436659376408
         ]
        },
        {
         "hoverinfo": "none",
         "line": {
          "color": "#888",
          "width": 1.0919393118939638
         },
         "mode": "lines",
         "type": "scatter",
         "x": [
          -12.918576723501182,
          -12.910843834401481
         ],
         "y": [
          19.762632785571746,
          21.01436659376408
         ]
        },
        {
         "hoverinfo": "none",
         "line": {
          "color": "#888",
          "width": 1.6830778944015319
         },
         "mode": "lines",
         "type": "scatter",
         "x": [
          -12.608722745064354,
          -12.910843834401481
         ],
         "y": [
          21.38991608678275,
          21.01436659376408
         ]
        },
        {
         "hoverinfo": "none",
         "line": {
          "color": "#888",
          "width": 1.2351605638156031
         },
         "mode": "lines",
         "type": "scatter",
         "x": [
          -13.912717315656698,
          -12.910843834401481
         ],
         "y": [
          21.454212393115643,
          21.01436659376408
         ]
        },
        {
         "hoverinfo": "none",
         "line": {
          "color": "#888",
          "width": 1.5508367495811979
         },
         "mode": "lines",
         "type": "scatter",
         "x": [
          -12.629951858941117,
          -12.910843834401481
         ],
         "y": [
          20.42458920482799,
          21.01436659376408
         ]
        },
        {
         "hoverinfo": "none",
         "line": {
          "color": "#888",
          "width": 2.0438351601555285
         },
         "mode": "lines",
         "type": "scatter",
         "x": [
          -13.551675742174377,
          -12.910843834401481
         ],
         "y": [
          20.329212509114274,
          21.01436659376408
         ]
        },
        {
         "hoverinfo": "none",
         "line": {
          "color": "#888",
          "width": 1.0017036219199675
         },
         "mode": "lines",
         "type": "scatter",
         "x": [
          -12.040651155801354,
          -12.910843834401481
         ],
         "y": [
          21.209858966184818,
          21.01436659376408
         ]
        },
        {
         "hoverinfo": "none",
         "line": {
          "color": "#888",
          "width": 1.381764395450621
         },
         "mode": "lines",
         "type": "scatter",
         "x": [
          -12.245780801073543,
          -12.910843834401481
         ],
         "y": [
          22.05487676021708,
          21.01436659376408
         ]
        },
        {
         "hoverinfo": "none",
         "line": {
          "color": "#888",
          "width": 1.0649763823028287
         },
         "mode": "lines",
         "type": "scatter",
         "x": [
          -13.351672055886201,
          -12.910843834401481
         ],
         "y": [
          19.867140863497806,
          21.01436659376408
         ]
        },
        {
         "hoverinfo": "none",
         "line": {
          "color": "#888",
          "width": 1.3790216487161453
         },
         "mode": "lines",
         "type": "scatter",
         "x": [
          -14.113963476444026,
          -12.910843834401481
         ],
         "y": [
          20.733964232542867,
          21.01436659376408
         ]
        },
        {
         "hoverinfo": "none",
         "line": {
          "color": "#888",
          "width": 1.2864468529583373
         },
         "mode": "lines",
         "type": "scatter",
         "x": [
          -12.170458243867694,
          -12.910843834401481
         ],
         "y": [
          19.971879414718284,
          21.01436659376408
         ]
        },
        {
         "hoverinfo": "none",
         "line": {
          "color": "#888",
          "width": 2.567642998280728
         },
         "mode": "lines",
         "type": "scatter",
         "x": [
          -12.910843834401481,
          -13.637993460243793
         ],
         "y": [
          21.01436659376408,
          21.53220459934256
         ]
        },
        {
         "hoverinfo": "none",
         "line": {
          "color": "#888",
          "width": 1.1523676617484837
         },
         "mode": "lines",
         "type": "scatter",
         "x": [
          -12.910843834401481,
          -12.154447470436555
         ],
         "y": [
          21.01436659376408,
          20.687358998302738
         ]
        },
        {
         "hoverinfo": "none",
         "line": {
          "color": "#888",
          "width": 1.5587087842051919
         },
         "mode": "lines",
         "type": "scatter",
         "x": [
          -12.910843834401481,
          -12.284441948806446
         ],
         "y": [
          21.01436659376408,
          21.025645557579107
         ]
        },
        {
         "hoverinfo": "none",
         "line": {
          "color": "#888",
          "width": 1.6392799883916123
         },
         "mode": "lines",
         "type": "scatter",
         "x": [
          -12.910843834401481,
          -13.7703511169154
         ],
         "y": [
          21.01436659376408,
          21.085508206964032
         ]
        },
        {
         "hoverinfo": "none",
         "line": {
          "color": "#888",
          "width": 1.586531690322458
         },
         "mode": "lines",
         "type": "scatter",
         "x": [
          -12.910843834401481,
          -13.991559819591165
         ],
         "y": [
          21.01436659376408,
          20.390716009399764
         ]
        },
        {
         "hoverinfo": "none",
         "line": {
          "color": "#888",
          "width": 1.9869900085489416
         },
         "mode": "lines",
         "type": "scatter",
         "x": [
          -12.910843834401481,
          -13.23643931550353
         ],
         "y": [
          21.01436659376408,
          20.945151973986814
         ]
        },
        {
         "hoverinfo": "none",
         "line": {
          "color": "#888",
          "width": 1.1860759821042963
         },
         "mode": "lines",
         "type": "scatter",
         "x": [
          -12.910843834401481,
          -11.85499862010832
         ],
         "y": [
          21.01436659376408,
          20.494921025806526
         ]
        },
        {
         "hoverinfo": "none",
         "line": {
          "color": "#888",
          "width": 1.5222648642649248
         },
         "mode": "lines",
         "type": "scatter",
         "x": [
          -12.910843834401481,
          -11.80173372332277
         ],
         "y": [
          21.01436659376408,
          21.45649671999348
         ]
        },
        {
         "hoverinfo": "none",
         "line": {
          "color": "#888",
          "width": 1.1696652479867022
         },
         "mode": "lines",
         "type": "scatter",
         "x": [
          -12.910843834401481,
          -12.413627755794588
         ],
         "y": [
          21.01436659376408,
          19.886962274912875
         ]
        },
        {
         "hoverinfo": "none",
         "line": {
          "color": "#888",
          "width": 3.265376284739778
         },
         "mode": "lines",
         "type": "scatter",
         "x": [
          -12.910843834401481,
          -13.030036553810685
         ],
         "y": [
          21.01436659376408,
          21.519701600461545
         ]
        },
        {
         "hoverinfo": "none",
         "line": {
          "color": "#888",
          "width": 1.2638409296305433
         },
         "mode": "lines",
         "type": "scatter",
         "x": [
          -12.910843834401481,
          -13.007084255175895
         ],
         "y": [
          21.01436659376408,
          21.86972207748751
         ]
        },
        {
         "hoverinfo": "none",
         "line": {
          "color": "#888",
          "width": 1.438687743390058
         },
         "mode": "lines",
         "type": "scatter",
         "x": [
          -12.910843834401481,
          -14.197638723341639
         ],
         "y": [
          21.01436659376408,
          21.267662103421003
         ]
        },
        {
         "hoverinfo": "none",
         "line": {
          "color": "#888",
          "width": 1.9833157453205779
         },
         "mode": "lines",
         "type": "scatter",
         "x": [
          -12.910843834401481,
          -12.734203853902583
         ],
         "y": [
          21.01436659376408,
          21.55340460756357
         ]
        },
        {
         "hoverinfo": "none",
         "line": {
          "color": "#888",
          "width": 1.3812304868980876
         },
         "mode": "lines",
         "type": "scatter",
         "x": [
          -12.910843834401481,
          -13.272428838714013
         ],
         "y": [
          21.01436659376408,
          21.97460394894528
         ]
        },
        {
         "hoverinfo": "none",
         "line": {
          "color": "#888",
          "width": 3.1927690423116966
         },
         "mode": "lines",
         "type": "scatter",
         "x": [
          -12.910843834401481,
          -12.77601031504658
         ],
         "y": [
          21.01436659376408,
          21.12541781408756
         ]
        },
        {
         "hoverinfo": "none",
         "line": {
          "color": "#888",
          "width": 1.4190282225804427
         },
         "mode": "lines",
         "type": "scatter",
         "x": [
          -12.910843834401481,
          -13.402038872682441
         ],
         "y": [
          21.01436659376408,
          21.793632774845815
         ]
        },
        {
         "hoverinfo": "none",
         "line": {
          "color": "#888",
          "width": 2.2726446736519508
         },
         "mode": "lines",
         "type": "scatter",
         "x": [
          -12.910843834401481,
          -12.800082302337206
         ],
         "y": [
          21.01436659376408,
          21.797200858097636
         ]
        },
        {
         "hoverinfo": "none",
         "line": {
          "color": "#888",
          "width": 2.0270887765427292
         },
         "mode": "lines",
         "type": "scatter",
         "x": [
          -12.910843834401481,
          -13.263024710033392
         ],
         "y": [
          21.01436659376408,
          21.47913495742209
         ]
        },
        {
         "hoverinfo": "none",
         "line": {
          "color": "#888",
          "width": 1.1820325920296575
         },
         "mode": "lines",
         "type": "scatter",
         "x": [
          -12.910843834401481,
          -12.0448503313882
         ],
         "y": [
          21.01436659376408,
          21.57539053726569
         ]
        },
        {
         "hoverinfo": "none",
         "line": {
          "color": "#888",
          "width": 1.077722628508547
         },
         "mode": "lines",
         "type": "scatter",
         "x": [
          -12.910843834401481,
          -13.994286400461116
         ],
         "y": [
          21.01436659376408,
          20.881168702489436
         ]
        },
        {
         "hoverinfo": "none",
         "line": {
          "color": "#888",
          "width": 1.2684677691401385
         },
         "mode": "lines",
         "type": "scatter",
         "x": [
          -12.910843834401481,
          -11.573787898129877
         ],
         "y": [
          21.01436659376408,
          20.603582672482666
         ]
        },
        {
         "hoverinfo": "none",
         "line": {
          "color": "#888",
          "width": 1.1276664619108372
         },
         "mode": "lines",
         "type": "scatter",
         "x": [
          -14.489168620811169,
          -13.637993460243793
         ],
         "y": [
          21.091249032371852,
          21.53220459934256
         ]
        },
        {
         "hoverinfo": "none",
         "line": {
          "color": "#888",
          "width": 1.0652308067936342
         },
         "mode": "lines",
         "type": "scatter",
         "x": [
          -13.642983348705675,
          -13.637993460243793
         ],
         "y": [
          20.519633212486255,
          21.53220459934256
         ]
        },
        {
         "hoverinfo": "none",
         "line": {
          "color": "#888",
          "width": 2.532758298862073
         },
         "mode": "lines",
         "type": "scatter",
         "x": [
          -12.850718139242009,
          -13.637993460243793
         ],
         "y": [
          20.929101940708783,
          21.53220459934256
         ]
        },
        {
         "hoverinfo": "none",
         "line": {
          "color": "#888",
          "width": 1.0179305802804943
         },
         "mode": "lines",
         "type": "scatter",
         "x": [
          -13.236477225987986,
          -13.637993460243793
         ],
         "y": [
          20.35065703675912,
          21.53220459934256
         ]
        },
        {
         "hoverinfo": "none",
         "line": {
          "color": "#888",
          "width": 1.6266760524529809
         },
         "mode": "lines",
         "type": "scatter",
         "x": [
          -13.427726029882152,
          -13.637993460243793
         ],
         "y": [
          21.052187341494502,
          21.53220459934256
         ]
        },
        {
         "hoverinfo": "none",
         "line": {
          "color": "#888",
          "width": 1.5810522423550677
         },
         "mode": "lines",
         "type": "scatter",
         "x": [
          -13.046705351336772,
          -13.637993460243793
         ],
         "y": [
          20.77588764099713,
          21.53220459934256
         ]
        },
        {
         "hoverinfo": "none",
         "line": {
          "color": "#888",
          "width": 1.104830326321568
         },
         "mode": "lines",
         "type": "scatter",
         "x": [
          -12.608722745064354,
          -13.637993460243793
         ],
         "y": [
          21.38991608678275,
          21.53220459934256
         ]
        },
        {
         "hoverinfo": "none",
         "line": {
          "color": "#888",
          "width": 1.0147711859151491
         },
         "mode": "lines",
         "type": "scatter",
         "x": [
          -14.113963476444026,
          -13.637993460243793
         ],
         "y": [
          20.733964232542867,
          21.53220459934256
         ]
        },
        {
         "hoverinfo": "none",
         "line": {
          "color": "#888",
          "width": 2.567642998280728
         },
         "mode": "lines",
         "type": "scatter",
         "x": [
          -12.910843834401481,
          -13.637993460243793
         ],
         "y": [
          21.01436659376408,
          21.53220459934256
         ]
        },
        {
         "hoverinfo": "none",
         "line": {
          "color": "#888",
          "width": 1.3336206764030232
         },
         "mode": "lines",
         "type": "scatter",
         "x": [
          -13.637993460243793,
          -13.030036553810685
         ],
         "y": [
          21.53220459934256,
          21.519701600461545
         ]
        },
        {
         "hoverinfo": "none",
         "line": {
          "color": "#888",
          "width": 1.086429851750809
         },
         "mode": "lines",
         "type": "scatter",
         "x": [
          -13.637993460243793,
          -13.007084255175895
         ],
         "y": [
          21.53220459934256,
          21.86972207748751
         ]
        },
        {
         "hoverinfo": "none",
         "line": {
          "color": "#888",
          "width": 1.1011584011383928
         },
         "mode": "lines",
         "type": "scatter",
         "x": [
          -13.637993460243793,
          -12.734203853902583
         ],
         "y": [
          21.53220459934256,
          21.55340460756357
         ]
        },
        {
         "hoverinfo": "none",
         "line": {
          "color": "#888",
          "width": 1.040614552209747
         },
         "mode": "lines",
         "type": "scatter",
         "x": [
          -13.637993460243793,
          -13.263024710033392
         ],
         "y": [
          21.53220459934256,
          21.47913495742209
         ]
        },
        {
         "hoverinfo": "none",
         "line": {
          "color": "#888",
          "width": 1.053502937462228
         },
         "mode": "lines",
         "type": "scatter",
         "x": [
          -13.637993460243793,
          -13.994286400461116
         ],
         "y": [
          21.53220459934256,
          20.881168702489436
         ]
        },
        {
         "hoverinfo": "none",
         "line": {
          "color": "#888",
          "width": 1.5780503013019398
         },
         "mode": "lines",
         "type": "scatter",
         "x": [
          -13.197102179360037,
          -12.154447470436555
         ],
         "y": [
          20.446227226217555,
          20.687358998302738
         ]
        },
        {
         "hoverinfo": "none",
         "line": {
          "color": "#888",
          "width": 1.1674054637034508
         },
         "mode": "lines",
         "type": "scatter",
         "x": [
          -12.850718139242009,
          -12.154447470436555
         ],
         "y": [
          20.929101940708783,
          20.687358998302738
         ]
        },
        {
         "hoverinfo": "none",
         "line": {
          "color": "#888",
          "width": 1.4582984459131114
         },
         "mode": "lines",
         "type": "scatter",
         "x": [
          -12.907640754729615,
          -12.154447470436555
         ],
         "y": [
          20.469607616408755,
          20.687358998302738
         ]
        },
        {
         "hoverinfo": "none",
         "line": {
          "color": "#888",
          "width": 1.1523676617484837
         },
         "mode": "lines",
         "type": "scatter",
         "x": [
          -12.910843834401481,
          -12.154447470436555
         ],
         "y": [
          21.01436659376408,
          20.687358998302738
         ]
        },
        {
         "hoverinfo": "none",
         "line": {
          "color": "#888",
          "width": 1.1089316483860638
         },
         "mode": "lines",
         "type": "scatter",
         "x": [
          -12.154447470436555,
          -12.800082302337206
         ],
         "y": [
          20.687358998302738,
          21.797200858097636
         ]
        },
        {
         "hoverinfo": "none",
         "line": {
          "color": "#888",
          "width": 1.3569822072722615
         },
         "mode": "lines",
         "type": "scatter",
         "x": [
          -13.421282842315208,
          -12.284441948806446
         ],
         "y": [
          20.731208327312252,
          21.025645557579107
         ]
        },
        {
         "hoverinfo": "none",
         "line": {
          "color": "#888",
          "width": 1.5771108142790777
         },
         "mode": "lines",
         "type": "scatter",
         "x": [
          -12.850718139242009,
          -12.284441948806446
         ],
         "y": [
          20.929101940708783,
          21.025645557579107
         ]
        },
        {
         "hoverinfo": "none",
         "line": {
          "color": "#888",
          "width": 1.8419867660504172
         },
         "mode": "lines",
         "type": "scatter",
         "x": [
          -13.046705351336772,
          -12.284441948806446
         ],
         "y": [
          20.77588764099713,
          21.025645557579107
         ]
        },
        {
         "hoverinfo": "none",
         "line": {
          "color": "#888",
          "width": 1.6290562870466516
         },
         "mode": "lines",
         "type": "scatter",
         "x": [
          -12.14572655546444,
          -12.284441948806446
         ],
         "y": [
          20.401750449215392,
          21.025645557579107
         ]
        },
        {
         "hoverinfo": "none",
         "line": {
          "color": "#888",
          "width": 1.182845607700317
         },
         "mode": "lines",
         "type": "scatter",
         "x": [
          -13.551675742174377,
          -12.284441948806446
         ],
         "y": [
          20.329212509114274,
          21.025645557579107
         ]
        },
        {
         "hoverinfo": "none",
         "line": {
          "color": "#888",
          "width": 1.5587087842051919
         },
         "mode": "lines",
         "type": "scatter",
         "x": [
          -12.910843834401481,
          -12.284441948806446
         ],
         "y": [
          21.01436659376408,
          21.025645557579107
         ]
        },
        {
         "hoverinfo": "none",
         "line": {
          "color": "#888",
          "width": 1.2371831217988247
         },
         "mode": "lines",
         "type": "scatter",
         "x": [
          -12.284441948806446,
          -13.030036553810685
         ],
         "y": [
          21.025645557579107,
          21.519701600461545
         ]
        },
        {
         "hoverinfo": "none",
         "line": {
          "color": "#888",
          "width": 1.0994350344114456
         },
         "mode": "lines",
         "type": "scatter",
         "x": [
          -12.284441948806446,
          -13.007084255175895
         ],
         "y": [
          21.025645557579107,
          21.86972207748751
         ]
        },
        {
         "hoverinfo": "none",
         "line": {
          "color": "#888",
          "width": 1.8558220971677355
         },
         "mode": "lines",
         "type": "scatter",
         "x": [
          -13.713867049753938,
          -13.7703511169154
         ],
         "y": [
          21.32277923138798,
          21.085508206964032
         ]
        },
        {
         "hoverinfo": "none",
         "line": {
          "color": "#888",
          "width": 1.5971025916330828
         },
         "mode": "lines",
         "type": "scatter",
         "x": [
          -13.72503864579122,
          -13.7703511169154
         ],
         "y": [
          20.752200827459543,
          21.085508206964032
         ]
        },
        {
         "hoverinfo": "none",
         "line": {
          "color": "#888",
          "width": 1.6347214072895269
         },
         "mode": "lines",
         "type": "scatter",
         "x": [
          -13.469602721182888,
          -13.7703511169154
         ],
         "y": [
          21.366730828241682,
          21.085508206964032
         ]
        },
        {
         "hoverinfo": "none",
         "line": {
          "color": "#888",
          "width": 2.060139133022109
         },
         "mode": "lines",
         "type": "scatter",
         "x": [
          -13.421282842315208,
          -13.7703511169154
         ],
         "y": [
          20.731208327312252,
          21.085508206964032
         ]
        },
        {
         "hoverinfo": "none",
         "line": {
          "color": "#888",
          "width": 1.1458170895486544
         },
         "mode": "lines",
         "type": "scatter",
         "x": [
          -14.311419458172569,
          -13.7703511169154
         ],
         "y": [
          19.971822262725137,
          21.085508206964032
         ]
        },
        {
         "hoverinfo": "none",
         "line": {
          "color": "#888",
          "width": 1.4450332099193164
         },
         "mode": "lines",
         "type": "scatter",
         "x": [
          -13.197102179360037,
          -13.7703511169154
         ],
         "y": [
          20.446227226217555,
          21.085508206964032
         ]
        },
        {
         "hoverinfo": "none",
         "line": {
          "color": "#888",
          "width": 1.6595256306523098
         },
         "mode": "lines",
         "type": "scatter",
         "x": [
          -12.850718139242009,
          -13.7703511169154
         ],
         "y": [
          20.929101940708783,
          21.085508206964032
         ]
        },
        {
         "hoverinfo": "none",
         "line": {
          "color": "#888",
          "width": 1.0230303952199367
         },
         "mode": "lines",
         "type": "scatter",
         "x": [
          -13.427726029882152,
          -13.7703511169154
         ],
         "y": [
          21.052187341494502,
          21.085508206964032
         ]
        },
        {
         "hoverinfo": "none",
         "line": {
          "color": "#888",
          "width": 1.478924330674631
         },
         "mode": "lines",
         "type": "scatter",
         "x": [
          -13.584146493457986,
          -13.7703511169154
         ],
         "y": [
          21.910867822678476,
          21.085508206964032
         ]
        },
        {
         "hoverinfo": "none",
         "line": {
          "color": "#888",
          "width": 1.2602232837316554
         },
         "mode": "lines",
         "type": "scatter",
         "x": [
          -12.907640754729615,
          -13.7703511169154
         ],
         "y": [
          20.469607616408755,
          21.085508206964032
         ]
        },
        {
         "hoverinfo": "none",
         "line": {
          "color": "#888",
          "width": 1.0831408595155747
         },
         "mode": "lines",
         "type": "scatter",
         "x": [
          -13.046705351336772,
          -13.7703511169154
         ],
         "y": [
          20.77588764099713,
          21.085508206964032
         ]
        },
        {
         "hoverinfo": "none",
         "line": {
          "color": "#888",
          "width": 1.6392799883916123
         },
         "mode": "lines",
         "type": "scatter",
         "x": [
          -12.910843834401481,
          -13.7703511169154
         ],
         "y": [
          21.01436659376408,
          21.085508206964032
         ]
        },
        {
         "hoverinfo": "none",
         "line": {
          "color": "#888",
          "width": 1.9884491520043113
         },
         "mode": "lines",
         "type": "scatter",
         "x": [
          -13.7703511169154,
          -13.030036553810685
         ],
         "y": [
          21.085508206964032,
          21.519701600461545
         ]
        },
        {
         "hoverinfo": "none",
         "line": {
          "color": "#888",
          "width": 1.4204921773882484
         },
         "mode": "lines",
         "type": "scatter",
         "x": [
          -13.7703511169154,
          -13.007084255175895
         ],
         "y": [
          21.085508206964032,
          21.86972207748751
         ]
        },
        {
         "hoverinfo": "none",
         "line": {
          "color": "#888",
          "width": 1.8511518866483965
         },
         "mode": "lines",
         "type": "scatter",
         "x": [
          -13.7703511169154,
          -12.734203853902583
         ],
         "y": [
          21.085508206964032,
          21.55340460756357
         ]
        },
        {
         "hoverinfo": "none",
         "line": {
          "color": "#888",
          "width": 1.4541960121198971
         },
         "mode": "lines",
         "type": "scatter",
         "x": [
          -13.7703511169154,
          -13.272428838714013
         ],
         "y": [
          21.085508206964032,
          21.97460394894528
         ]
        },
        {
         "hoverinfo": "none",
         "line": {
          "color": "#888",
          "width": 1.256441085017973
         },
         "mode": "lines",
         "type": "scatter",
         "x": [
          -13.7703511169154,
          -12.77601031504658
         ],
         "y": [
          21.085508206964032,
          21.12541781408756
         ]
        },
        {
         "hoverinfo": "none",
         "line": {
          "color": "#888",
          "width": 1.014786162987643
         },
         "mode": "lines",
         "type": "scatter",
         "x": [
          -13.7703511169154,
          -14.498939637577397
         ],
         "y": [
          21.085508206964032,
          22.044399357519538
         ]
        },
        {
         "hoverinfo": "none",
         "line": {
          "color": "#888",
          "width": 1.0478064520326373
         },
         "mode": "lines",
         "type": "scatter",
         "x": [
          -12.95422029598588,
          -13.78065772681429
         ],
         "y": [
          22.173012221957887,
          23.09455563508934
         ]
        },
        {
         "hoverinfo": "none",
         "line": {
          "color": "#888",
          "width": 1.0145381811725789
         },
         "mode": "lines",
         "type": "scatter",
         "x": [
          -14.005021731026002,
          -13.78065772681429
         ],
         "y": [
          21.876050068264206,
          23.09455563508934
         ]
        },
        {
         "hoverinfo": "none",
         "line": {
          "color": "#888",
          "width": 1.3184957335227359
         },
         "mode": "lines",
         "type": "scatter",
         "x": [
          -12.548259461364738,
          -13.78065772681429
         ],
         "y": [
          23.299629798486237,
          23.09455563508934
         ]
        },
        {
         "hoverinfo": "none",
         "line": {
          "color": "#888",
          "width": 1.040035629749341
         },
         "mode": "lines",
         "type": "scatter",
         "x": [
          -10.56826368128901,
          -9.611014621595755
         ],
         "y": [
          20.824710298876187,
          20.24224676178515
         ]
        },
        {
         "hoverinfo": "none",
         "line": {
          "color": "#888",
          "width": 1.3967176642256418
         },
         "mode": "lines",
         "type": "scatter",
         "x": [
          -13.713867049753938,
          -13.991559819591165
         ],
         "y": [
          21.32277923138798,
          20.390716009399764
         ]
        },
        {
         "hoverinfo": "none",
         "line": {
          "color": "#888",
          "width": 1.1569261667352864
         },
         "mode": "lines",
         "type": "scatter",
         "x": [
          -13.72503864579122,
          -13.991559819591165
         ],
         "y": [
          20.752200827459543,
          20.390716009399764
         ]
        },
        {
         "hoverinfo": "none",
         "line": {
          "color": "#888",
          "width": 1.2206520106249243
         },
         "mode": "lines",
         "type": "scatter",
         "x": [
          -13.421282842315208,
          -13.991559819591165
         ],
         "y": [
          20.731208327312252,
          20.390716009399764
         ]
        },
        {
         "hoverinfo": "none",
         "line": {
          "color": "#888",
          "width": 1.231759241353672
         },
         "mode": "lines",
         "type": "scatter",
         "x": [
          -14.311419458172569,
          -13.991559819591165
         ],
         "y": [
          19.971822262725137,
          20.390716009399764
         ]
        },
        {
         "hoverinfo": "none",
         "line": {
          "color": "#888",
          "width": 1.3154972210087321
         },
         "mode": "lines",
         "type": "scatter",
         "x": [
          -13.197102179360037,
          -13.991559819591165
         ],
         "y": [
          20.446227226217555,
          20.390716009399764
         ]
        },
        {
         "hoverinfo": "none",
         "line": {
          "color": "#888",
          "width": 1.605423384514806
         },
         "mode": "lines",
         "type": "scatter",
         "x": [
          -12.850718139242009,
          -13.991559819591165
         ],
         "y": [
          20.929101940708783,
          20.390716009399764
         ]
        },
        {
         "hoverinfo": "none",
         "line": {
          "color": "#888",
          "width": 1.0161543434297555
         },
         "mode": "lines",
         "type": "scatter",
         "x": [
          -14.582278534558517,
          -13.991559819591165
         ],
         "y": [
          20.217135258366874,
          20.390716009399764
         ]
        },
        {
         "hoverinfo": "none",
         "line": {
          "color": "#888",
          "width": 1.0520572593229847
         },
         "mode": "lines",
         "type": "scatter",
         "x": [
          -14.7570657120828,
          -13.991559819591165
         ],
         "y": [
          20.50506469374403,
          20.390716009399764
         ]
        },
        {
         "hoverinfo": "none",
         "line": {
          "color": "#888",
          "width": 1.2495373637579967
         },
         "mode": "lines",
         "type": "scatter",
         "x": [
          -13.046705351336772,
          -13.991559819591165
         ],
         "y": [
          20.77588764099713,
          20.390716009399764
         ]
        },
        {
         "hoverinfo": "none",
         "line": {
          "color": "#888",
          "width": 1.0016258231537143
         },
         "mode": "lines",
         "type": "scatter",
         "x": [
          -15.372073600338794,
          -13.991559819591165
         ],
         "y": [
          20.491665880790695,
          20.390716009399764
         ]
        },
        {
         "hoverinfo": "none",
         "line": {
          "color": "#888",
          "width": 1.0694843331904502
         },
         "mode": "lines",
         "type": "scatter",
         "x": [
          -13.351672055886201,
          -13.991559819591165
         ],
         "y": [
          19.867140863497806,
          20.390716009399764
         ]
        },
        {
         "hoverinfo": "none",
         "line": {
          "color": "#888",
          "width": 1.08702934324447
         },
         "mode": "lines",
         "type": "scatter",
         "x": [
          -14.878990974107236,
          -13.991559819591165
         ],
         "y": [
          19.390836062858266,
          20.390716009399764
         ]
        },
        {
         "hoverinfo": "none",
         "line": {
          "color": "#888",
          "width": 1.0063678625099115
         },
         "mode": "lines",
         "type": "scatter",
         "x": [
          -15.067822716688191,
          -13.991559819591165
         ],
         "y": [
          19.80585907837482,
          20.390716009399764
         ]
        },
        {
         "hoverinfo": "none",
         "line": {
          "color": "#888",
          "width": 1.586531690322458
         },
         "mode": "lines",
         "type": "scatter",
         "x": [
          -12.910843834401481,
          -13.991559819591165
         ],
         "y": [
          21.01436659376408,
          20.390716009399764
         ]
        },
        {
         "hoverinfo": "none",
         "line": {
          "color": "#888",
          "width": 1.1491570273075111
         },
         "mode": "lines",
         "type": "scatter",
         "x": [
          -13.991559819591165,
          -13.030036553810685
         ],
         "y": [
          20.390716009399764,
          21.519701600461545
         ]
        },
        {
         "hoverinfo": "none",
         "line": {
          "color": "#888",
          "width": 1.5190640300325973
         },
         "mode": "lines",
         "type": "scatter",
         "x": [
          -13.991559819591165,
          -12.77601031504658
         ],
         "y": [
          20.390716009399764,
          21.12541781408756
         ]
        },
        {
         "hoverinfo": "none",
         "line": {
          "color": "#888",
          "width": 1.2038286935424476
         },
         "mode": "lines",
         "type": "scatter",
         "x": [
          -13.991559819591165,
          -15.174279426119066
         ],
         "y": [
          20.390716009399764,
          20.114788448159768
         ]
        },
        {
         "hoverinfo": "none",
         "line": {
          "color": "#888",
          "width": 1.097869395831777
         },
         "mode": "lines",
         "type": "scatter",
         "x": [
          -13.72503864579122,
          -15.195076323567228
         ],
         "y": [
          20.752200827459543,
          20.79969237926028
         ]
        },
        {
         "hoverinfo": "none",
         "line": {
          "color": "#888",
          "width": 1.1077490252860276
         },
         "mode": "lines",
         "type": "scatter",
         "x": [
          -14.898728528329402,
          -14.700800349225393
         ],
         "y": [
          17.282184837691222,
          18.224889530040656
         ]
        },
        {
         "hoverinfo": "none",
         "line": {
          "color": "#888",
          "width": 1.2458909163736462
         },
         "mode": "lines",
         "type": "scatter",
         "x": [
          -14.898728528329402,
          -15.503181246044218
         ],
         "y": [
          17.282184837691222,
          17.694796174436846
         ]
        },
        {
         "hoverinfo": "none",
         "line": {
          "color": "#888",
          "width": 1.0013450411217402
         },
         "mode": "lines",
         "type": "scatter",
         "x": [
          -13.713867049753938,
          -13.23643931550353
         ],
         "y": [
          21.32277923138798,
          20.945151973986814
         ]
        },
        {
         "hoverinfo": "none",
         "line": {
          "color": "#888",
          "width": 1.0816923517036232
         },
         "mode": "lines",
         "type": "scatter",
         "x": [
          -13.421282842315208,
          -13.23643931550353
         ],
         "y": [
          20.731208327312252,
          20.945151973986814
         ]
        },
        {
         "hoverinfo": "none",
         "line": {
          "color": "#888",
          "width": 1.1143542077789714
         },
         "mode": "lines",
         "type": "scatter",
         "x": [
          -14.489168620811169,
          -13.23643931550353
         ],
         "y": [
          21.091249032371852,
          20.945151973986814
         ]
        },
        {
         "hoverinfo": "none",
         "line": {
          "color": "#888",
          "width": 1.324592715833349
         },
         "mode": "lines",
         "type": "scatter",
         "x": [
          -13.642983348705675,
          -13.23643931550353
         ],
         "y": [
          20.519633212486255,
          20.945151973986814
         ]
        },
        {
         "hoverinfo": "none",
         "line": {
          "color": "#888",
          "width": 1.2385843657988345
         },
         "mode": "lines",
         "type": "scatter",
         "x": [
          -13.197102179360037,
          -13.23643931550353
         ],
         "y": [
          20.446227226217555,
          20.945151973986814
         ]
        },
        {
         "hoverinfo": "none",
         "line": {
          "color": "#888",
          "width": 1.7173305471245446
         },
         "mode": "lines",
         "type": "scatter",
         "x": [
          -12.850718139242009,
          -13.23643931550353
         ],
         "y": [
          20.929101940708783,
          20.945151973986814
         ]
        },
        {
         "hoverinfo": "none",
         "line": {
          "color": "#888",
          "width": 1.041508649846482
         },
         "mode": "lines",
         "type": "scatter",
         "x": [
          -13.236477225987986,
          -13.23643931550353
         ],
         "y": [
          20.35065703675912,
          20.945151973986814
         ]
        },
        {
         "hoverinfo": "none",
         "line": {
          "color": "#888",
          "width": 1.1369270258579665
         },
         "mode": "lines",
         "type": "scatter",
         "x": [
          -13.537096610506756,
          -13.23643931550353
         ],
         "y": [
          19.92320307519968,
          20.945151973986814
         ]
        },
        {
         "hoverinfo": "none",
         "line": {
          "color": "#888",
          "width": 1.6122770662747037
         },
         "mode": "lines",
         "type": "scatter",
         "x": [
          -13.427726029882152,
          -13.23643931550353
         ],
         "y": [
          21.052187341494502,
          20.945151973986814
         ]
        },
        {
         "hoverinfo": "none",
         "line": {
          "color": "#888",
          "width": 1.2228433796542193
         },
         "mode": "lines",
         "type": "scatter",
         "x": [
          -12.907640754729615,
          -13.23643931550353
         ],
         "y": [
          20.469607616408755,
          20.945151973986814
         ]
        },
        {
         "hoverinfo": "none",
         "line": {
          "color": "#888",
          "width": 1.053952866482968
         },
         "mode": "lines",
         "type": "scatter",
         "x": [
          -12.608722745064354,
          -13.23643931550353
         ],
         "y": [
          21.38991608678275,
          20.945151973986814
         ]
        },
        {
         "hoverinfo": "none",
         "line": {
          "color": "#888",
          "width": 1.1053318702016692
         },
         "mode": "lines",
         "type": "scatter",
         "x": [
          -13.551675742174377,
          -13.23643931550353
         ],
         "y": [
          20.329212509114274,
          20.945151973986814
         ]
        },
        {
         "hoverinfo": "none",
         "line": {
          "color": "#888",
          "width": 1.0044307703095177
         },
         "mode": "lines",
         "type": "scatter",
         "x": [
          -12.040651155801354,
          -13.23643931550353
         ],
         "y": [
          21.209858966184818,
          20.945151973986814
         ]
        },
        {
         "hoverinfo": "none",
         "line": {
          "color": "#888",
          "width": 1.418570868399821
         },
         "mode": "lines",
         "type": "scatter",
         "x": [
          -14.113963476444026,
          -13.23643931550353
         ],
         "y": [
          20.733964232542867,
          20.945151973986814
         ]
        },
        {
         "hoverinfo": "none",
         "line": {
          "color": "#888",
          "width": 1.9869900085489416
         },
         "mode": "lines",
         "type": "scatter",
         "x": [
          -12.910843834401481,
          -13.23643931550353
         ],
         "y": [
          21.01436659376408,
          20.945151973986814
         ]
        },
        {
         "hoverinfo": "none",
         "line": {
          "color": "#888",
          "width": 1.353755754295898
         },
         "mode": "lines",
         "type": "scatter",
         "x": [
          -13.23643931550353,
          -12.77601031504658
         ],
         "y": [
          20.945151973986814,
          21.12541781408756
         ]
        },
        {
         "hoverinfo": "none",
         "line": {
          "color": "#888",
          "width": 1.0632125341034118
         },
         "mode": "lines",
         "type": "scatter",
         "x": [
          -13.23643931550353,
          -13.402038872682441
         ],
         "y": [
          20.945151973986814,
          21.793632774845815
         ]
        },
        {
         "hoverinfo": "none",
         "line": {
          "color": "#888",
          "width": 1.2951378385510615
         },
         "mode": "lines",
         "type": "scatter",
         "x": [
          -13.23643931550353,
          -12.800082302337206
         ],
         "y": [
          20.945151973986814,
          21.797200858097636
         ]
        },
        {
         "hoverinfo": "none",
         "line": {
          "color": "#888",
          "width": 1.3914289384895409
         },
         "mode": "lines",
         "type": "scatter",
         "x": [
          -13.23643931550353,
          -13.263024710033392
         ],
         "y": [
          20.945151973986814,
          21.47913495742209
         ]
        },
        {
         "hoverinfo": "none",
         "line": {
          "color": "#888",
          "width": 1.0437708461110915
         },
         "mode": "lines",
         "type": "scatter",
         "x": [
          -13.23643931550353,
          -13.994286400461116
         ],
         "y": [
          20.945151973986814,
          20.881168702489436
         ]
        },
        {
         "hoverinfo": "none",
         "line": {
          "color": "#888",
          "width": 1.0484313095452267
         },
         "mode": "lines",
         "type": "scatter",
         "x": [
          -12.88079425450245,
          -11.85499862010832
         ],
         "y": [
          20.00414689876472,
          20.494921025806526
         ]
        },
        {
         "hoverinfo": "none",
         "line": {
          "color": "#888",
          "width": 1.3884330604881154
         },
         "mode": "lines",
         "type": "scatter",
         "x": [
          -12.341464452775313,
          -11.85499862010832
         ],
         "y": [
          20.311362961497515,
          20.494921025806526
         ]
        },
        {
         "hoverinfo": "none",
         "line": {
          "color": "#888",
          "width": 1.0080409976690115
         },
         "mode": "lines",
         "type": "scatter",
         "x": [
          -10.56826368128901,
          -11.85499862010832
         ],
         "y": [
          20.824710298876187,
          20.494921025806526
         ]
        },
        {
         "hoverinfo": "none",
         "line": {
          "color": "#888",
          "width": 1.2028357067820319
         },
         "mode": "lines",
         "type": "scatter",
         "x": [
          -12.850718139242009,
          -11.85499862010832
         ],
         "y": [
          20.929101940708783,
          20.494921025806526
         ]
        },
        {
         "hoverinfo": "none",
         "line": {
          "color": "#888",
          "width": 1.0388527872993045
         },
         "mode": "lines",
         "type": "scatter",
         "x": [
          -11.815965872922868,
          -11.85499862010832
         ],
         "y": [
          19.29060423218079,
          20.494921025806526
         ]
        },
        {
         "hoverinfo": "none",
         "line": {
          "color": "#888",
          "width": 1.009643827301647
         },
         "mode": "lines",
         "type": "scatter",
         "x": [
          -12.918576723501182,
          -11.85499862010832
         ],
         "y": [
          19.762632785571746,
          20.494921025806526
         ]
        },
        {
         "hoverinfo": "none",
         "line": {
          "color": "#888",
          "width": 1.1351113980145828
         },
         "mode": "lines",
         "type": "scatter",
         "x": [
          -11.549799157354075,
          -11.85499862010832
         ],
         "y": [
          21.33677004673493,
          20.494921025806526
         ]
        },
        {
         "hoverinfo": "none",
         "line": {
          "color": "#888",
          "width": 1.0203869560990926
         },
         "mode": "lines",
         "type": "scatter",
         "x": [
          -11.206212473786957,
          -11.85499862010832
         ],
         "y": [
          19.700944560761023,
          20.494921025806526
         ]
        },
        {
         "hoverinfo": "none",
         "line": {
          "color": "#888",
          "width": 1.1860759821042963
         },
         "mode": "lines",
         "type": "scatter",
         "x": [
          -12.910843834401481,
          -11.85499862010832
         ],
         "y": [
          21.01436659376408,
          20.494921025806526
         ]
        },
        {
         "hoverinfo": "none",
         "line": {
          "color": "#888",
          "width": 1.0278805197458825
         },
         "mode": "lines",
         "type": "scatter",
         "x": [
          -11.85499862010832,
          -12.0448503313882
         ],
         "y": [
          20.494921025806526,
          21.57539053726569
         ]
        },
        {
         "hoverinfo": "none",
         "line": {
          "color": "#888",
          "width": 1.5369501912484806
         },
         "mode": "lines",
         "type": "scatter",
         "x": [
          -12.850718139242009,
          -11.80173372332277
         ],
         "y": [
          20.929101940708783,
          21.45649671999348
         ]
        },
        {
         "hoverinfo": "none",
         "line": {
          "color": "#888",
          "width": 1.5222648642649248
         },
         "mode": "lines",
         "type": "scatter",
         "x": [
          -12.910843834401481,
          -11.80173372332277
         ],
         "y": [
          21.01436659376408,
          21.45649671999348
         ]
        },
        {
         "hoverinfo": "none",
         "line": {
          "color": "#888",
          "width": 1.204001702132995
         },
         "mode": "lines",
         "type": "scatter",
         "x": [
          -12.918576723501182,
          -12.392539355144063
         ],
         "y": [
          19.762632785571746,
          18.707558784445492
         ]
        },
        {
         "hoverinfo": "none",
         "line": {
          "color": "#888",
          "width": 1.0175916030272816
         },
         "mode": "lines",
         "type": "scatter",
         "x": [
          -12.356415919830226,
          -12.392539355144063
         ],
         "y": [
          19.76080027239755,
          18.707558784445492
         ]
        },
        {
         "hoverinfo": "none",
         "line": {
          "color": "#888",
          "width": 1.1230425979043548
         },
         "mode": "lines",
         "type": "scatter",
         "x": [
          -14.916485071497744,
          -15.523142350203068
         ],
         "y": [
          13.489550636378056,
          14.189823829652912
         ]
        },
        {
         "hoverinfo": "none",
         "line": {
          "color": "#888",
          "width": 1.0009002263479672
         },
         "mode": "lines",
         "type": "scatter",
         "x": [
          -14.628261411278487,
          -15.523142350203068
         ],
         "y": [
          14.221291596828324,
          14.189823829652912
         ]
        },
        {
         "hoverinfo": "none",
         "line": {
          "color": "#888",
          "width": 1.0247627551096392
         },
         "mode": "lines",
         "type": "scatter",
         "x": [
          -11.949124589899004,
          -11.14647911771022
         ],
         "y": [
          21.792200991998797,
          22.371393610371104
         ]
        },
        {
         "hoverinfo": "none",
         "line": {
          "color": "#888",
          "width": 1.1350118308234052
         },
         "mode": "lines",
         "type": "scatter",
         "x": [
          -11.942871546634484,
          -11.14647911771022
         ],
         "y": [
          20.943028751942535,
          22.371393610371104
         ]
        },
        {
         "hoverinfo": "none",
         "line": {
          "color": "#888",
          "width": 1.0402369266799911
         },
         "mode": "lines",
         "type": "scatter",
         "x": [
          -10.94275863783377,
          -11.14647911771022
         ],
         "y": [
          23.596121969629742,
          22.371393610371104
         ]
        },
        {
         "hoverinfo": "none",
         "line": {
          "color": "#888",
          "width": 1.0180766611920444
         },
         "mode": "lines",
         "type": "scatter",
         "x": [
          -11.14647911771022,
          -10.251007645281458
         ],
         "y": [
          22.371393610371104,
          22.96466467303902
         ]
        },
        {
         "hoverinfo": "none",
         "line": {
          "color": "#888",
          "width": 1.1343655629458087
         },
         "mode": "lines",
         "type": "scatter",
         "x": [
          -6.3972927373085495,
          -7.0968782985042065
         ],
         "y": [
          15.241339929201953,
          16.098146229260884
         ]
        },
        {
         "hoverinfo": "none",
         "line": {
          "color": "#888",
          "width": 1.292876417243475
         },
         "mode": "lines",
         "type": "scatter",
         "x": [
          -7.173322289908699,
          -7.0968782985042065
         ],
         "y": [
          15.323501465363748,
          16.098146229260884
         ]
        },
        {
         "hoverinfo": "none",
         "line": {
          "color": "#888",
          "width": 1.033928888143376
         },
         "mode": "lines",
         "type": "scatter",
         "x": [
          -7.0968782985042065,
          -6.370044307639769
         ],
         "y": [
          16.098146229260884,
          15.983076688771783
         ]
        },
        {
         "hoverinfo": "none",
         "line": {
          "color": "#888",
          "width": 1.1810347859256036
         },
         "mode": "lines",
         "type": "scatter",
         "x": [
          -12.850718139242009,
          -12.413627755794588
         ],
         "y": [
          20.929101940708783,
          19.886962274912875
         ]
        },
        {
         "hoverinfo": "none",
         "line": {
          "color": "#888",
          "width": 1.244686116798018
         },
         "mode": "lines",
         "type": "scatter",
         "x": [
          -13.04465356572712,
          -12.413627755794588
         ],
         "y": [
          19.63101236622079,
          19.886962274912875
         ]
        },
        {
         "hoverinfo": "none",
         "line": {
          "color": "#888",
          "width": 1.4270424796927508
         },
         "mode": "lines",
         "type": "scatter",
         "x": [
          -12.407573428884401,
          -12.413627755794588
         ],
         "y": [
          18.483892921314833,
          19.886962274912875
         ]
        },
        {
         "hoverinfo": "none",
         "line": {
          "color": "#888",
          "width": 1.1696652479867022
         },
         "mode": "lines",
         "type": "scatter",
         "x": [
          -12.910843834401481,
          -12.413627755794588
         ],
         "y": [
          21.01436659376408,
          19.886962274912875
         ]
        },
        {
         "hoverinfo": "none",
         "line": {
          "color": "#888",
          "width": 1.347942889518921
         },
         "mode": "lines",
         "type": "scatter",
         "x": [
          -5.073089420651273,
          -5.86844856996267
         ],
         "y": [
          16.459245976619137,
          16.760373276774367
         ]
        },
        {
         "hoverinfo": "none",
         "line": {
          "color": "#888",
          "width": 1.0627746145541674
         },
         "mode": "lines",
         "type": "scatter",
         "x": [
          -13.610912637176686,
          -14.067819366407043
         ],
         "y": [
          18.6772196523297,
          17.758137808118644
         ]
        },
        {
         "hoverinfo": "none",
         "line": {
          "color": "#888",
          "width": 2.594732521752629
         },
         "mode": "lines",
         "type": "scatter",
         "x": [
          -13.713867049753938,
          -13.030036553810685
         ],
         "y": [
          21.32277923138798,
          21.519701600461545
         ]
        },
        {
         "hoverinfo": "none",
         "line": {
          "color": "#888",
          "width": 2.1605356418869786
         },
         "mode": "lines",
         "type": "scatter",
         "x": [
          -13.72503864579122,
          -13.030036553810685
         ],
         "y": [
          20.752200827459543,
          21.519701600461545
         ]
        },
        {
         "hoverinfo": "none",
         "line": {
          "color": "#888",
          "width": 1.8961156323569186
         },
         "mode": "lines",
         "type": "scatter",
         "x": [
          -12.95422029598588,
          -13.030036553810685
         ],
         "y": [
          22.173012221957887,
          21.519701600461545
         ]
        },
        {
         "hoverinfo": "none",
         "line": {
          "color": "#888",
          "width": 1.2278487481778746
         },
         "mode": "lines",
         "type": "scatter",
         "x": [
          -13.469602721182888,
          -13.030036553810685
         ],
         "y": [
          21.366730828241682,
          21.519701600461545
         ]
        },
        {
         "hoverinfo": "none",
         "line": {
          "color": "#888",
          "width": 2.2385073862396254
         },
         "mode": "lines",
         "type": "scatter",
         "x": [
          -13.421282842315208,
          -13.030036553810685
         ],
         "y": [
          20.731208327312252,
          21.519701600461545
         ]
        },
        {
         "hoverinfo": "none",
         "line": {
          "color": "#888",
          "width": 1.039148394464184
         },
         "mode": "lines",
         "type": "scatter",
         "x": [
          -11.949124589899004,
          -13.030036553810685
         ],
         "y": [
          21.792200991998797,
          21.519701600461545
         ]
        },
        {
         "hoverinfo": "none",
         "line": {
          "color": "#888",
          "width": 1.0404031945162697
         },
         "mode": "lines",
         "type": "scatter",
         "x": [
          -13.197102179360037,
          -13.030036553810685
         ],
         "y": [
          20.446227226217555,
          21.519701600461545
         ]
        },
        {
         "hoverinfo": "none",
         "line": {
          "color": "#888",
          "width": 3.24239654650267
         },
         "mode": "lines",
         "type": "scatter",
         "x": [
          -12.850718139242009,
          -13.030036553810685
         ],
         "y": [
          20.929101940708783,
          21.519701600461545
         ]
        },
        {
         "hoverinfo": "none",
         "line": {
          "color": "#888",
          "width": 1.3095900127910887
         },
         "mode": "lines",
         "type": "scatter",
         "x": [
          -13.427726029882152,
          -13.030036553810685
         ],
         "y": [
          21.052187341494502,
          21.519701600461545
         ]
        },
        {
         "hoverinfo": "none",
         "line": {
          "color": "#888",
          "width": 1.297877318297527
         },
         "mode": "lines",
         "type": "scatter",
         "x": [
          -13.584146493457986,
          -13.030036553810685
         ],
         "y": [
          21.910867822678476,
          21.519701600461545
         ]
        },
        {
         "hoverinfo": "none",
         "line": {
          "color": "#888",
          "width": 1.2374462400830846
         },
         "mode": "lines",
         "type": "scatter",
         "x": [
          -12.907640754729615,
          -13.030036553810685
         ],
         "y": [
          20.469607616408755,
          21.519701600461545
         ]
        },
        {
         "hoverinfo": "none",
         "line": {
          "color": "#888",
          "width": 2.7921176984334677
         },
         "mode": "lines",
         "type": "scatter",
         "x": [
          -13.046705351336772,
          -13.030036553810685
         ],
         "y": [
          20.77588764099713,
          21.519701600461545
         ]
        },
        {
         "hoverinfo": "none",
         "line": {
          "color": "#888",
          "width": 1.1110581512755304
         },
         "mode": "lines",
         "type": "scatter",
         "x": [
          -12.608722745064354,
          -13.030036553810685
         ],
         "y": [
          21.38991608678275,
          21.519701600461545
         ]
        },
        {
         "hoverinfo": "none",
         "line": {
          "color": "#888",
          "width": 1.158520250127273
         },
         "mode": "lines",
         "type": "scatter",
         "x": [
          -12.245780801073543,
          -13.030036553810685
         ],
         "y": [
          22.05487676021708,
          21.519701600461545
         ]
        },
        {
         "hoverinfo": "none",
         "line": {
          "color": "#888",
          "width": 3.265376284739778
         },
         "mode": "lines",
         "type": "scatter",
         "x": [
          -12.910843834401481,
          -13.030036553810685
         ],
         "y": [
          21.01436659376408,
          21.519701600461545
         ]
        },
        {
         "hoverinfo": "none",
         "line": {
          "color": "#888",
          "width": 1.3336206764030232
         },
         "mode": "lines",
         "type": "scatter",
         "x": [
          -13.637993460243793,
          -13.030036553810685
         ],
         "y": [
          21.53220459934256,
          21.519701600461545
         ]
        },
        {
         "hoverinfo": "none",
         "line": {
          "color": "#888",
          "width": 1.2371831217988247
         },
         "mode": "lines",
         "type": "scatter",
         "x": [
          -12.284441948806446,
          -13.030036553810685
         ],
         "y": [
          21.025645557579107,
          21.519701600461545
         ]
        },
        {
         "hoverinfo": "none",
         "line": {
          "color": "#888",
          "width": 1.9884491520043113
         },
         "mode": "lines",
         "type": "scatter",
         "x": [
          -13.7703511169154,
          -13.030036553810685
         ],
         "y": [
          21.085508206964032,
          21.519701600461545
         ]
        },
        {
         "hoverinfo": "none",
         "line": {
          "color": "#888",
          "width": 1.1491570273075111
         },
         "mode": "lines",
         "type": "scatter",
         "x": [
          -13.991559819591165,
          -13.030036553810685
         ],
         "y": [
          20.390716009399764,
          21.519701600461545
         ]
        },
        {
         "hoverinfo": "none",
         "line": {
          "color": "#888",
          "width": 1.4791446582936123
         },
         "mode": "lines",
         "type": "scatter",
         "x": [
          -13.030036553810685,
          -13.007084255175895
         ],
         "y": [
          21.519701600461545,
          21.86972207748751
         ]
        },
        {
         "hoverinfo": "none",
         "line": {
          "color": "#888",
          "width": 2.846396028031555
         },
         "mode": "lines",
         "type": "scatter",
         "x": [
          -13.030036553810685,
          -12.734203853902583
         ],
         "y": [
          21.519701600461545,
          21.55340460756357
         ]
        },
        {
         "hoverinfo": "none",
         "line": {
          "color": "#888",
          "width": 1.280174730198176
         },
         "mode": "lines",
         "type": "scatter",
         "x": [
          -13.030036553810685,
          -13.272428838714013
         ],
         "y": [
          21.519701600461545,
          21.97460394894528
         ]
        },
        {
         "hoverinfo": "none",
         "line": {
          "color": "#888",
          "width": 1.6947150700585731
         },
         "mode": "lines",
         "type": "scatter",
         "x": [
          -13.030036553810685,
          -12.77601031504658
         ],
         "y": [
          21.519701600461545,
          21.12541781408756
         ]
        },
        {
         "hoverinfo": "none",
         "line": {
          "color": "#888",
          "width": 1.0018889806675997
         },
         "mode": "lines",
         "type": "scatter",
         "x": [
          -13.030036553810685,
          -13.197963156136154
         ],
         "y": [
          21.519701600461545,
          22.97893370367655
         ]
        },
        {
         "hoverinfo": "none",
         "line": {
          "color": "#888",
          "width": 1.1495563524753216
         },
         "mode": "lines",
         "type": "scatter",
         "x": [
          -13.030036553810685,
          -12.0448503313882
         ],
         "y": [
          21.519701600461545,
          21.57539053726569
         ]
        },
        {
         "hoverinfo": "none",
         "line": {
          "color": "#888",
          "width": 1.125722206490517
         },
         "mode": "lines",
         "type": "scatter",
         "x": [
          -13.713867049753938,
          -13.007084255175895
         ],
         "y": [
          21.32277923138798,
          21.86972207748751
         ]
        },
        {
         "hoverinfo": "none",
         "line": {
          "color": "#888",
          "width": 1.2420276032284574
         },
         "mode": "lines",
         "type": "scatter",
         "x": [
          -13.72503864579122,
          -13.007084255175895
         ],
         "y": [
          20.752200827459543,
          21.86972207748751
         ]
        },
        {
         "hoverinfo": "none",
         "line": {
          "color": "#888",
          "width": 1.0943983333337945
         },
         "mode": "lines",
         "type": "scatter",
         "x": [
          -13.469602721182888,
          -13.007084255175895
         ],
         "y": [
          21.366730828241682,
          21.86972207748751
         ]
        },
        {
         "hoverinfo": "none",
         "line": {
          "color": "#888",
          "width": 1.4715750407683883
         },
         "mode": "lines",
         "type": "scatter",
         "x": [
          -13.421282842315208,
          -13.007084255175895
         ],
         "y": [
          20.731208327312252,
          21.86972207748751
         ]
        },
        {
         "hoverinfo": "none",
         "line": {
          "color": "#888",
          "width": 1.2797654542636812
         },
         "mode": "lines",
         "type": "scatter",
         "x": [
          -12.850718139242009,
          -13.007084255175895
         ],
         "y": [
          20.929101940708783,
          21.86972207748751
         ]
        },
        {
         "hoverinfo": "none",
         "line": {
          "color": "#888",
          "width": 1.0882085589507369
         },
         "mode": "lines",
         "type": "scatter",
         "x": [
          -13.584146493457986,
          -13.007084255175895
         ],
         "y": [
          21.910867822678476,
          21.86972207748751
         ]
        },
        {
         "hoverinfo": "none",
         "line": {
          "color": "#888",
          "width": 1.420054194033269
         },
         "mode": "lines",
         "type": "scatter",
         "x": [
          -13.046705351336772,
          -13.007084255175895
         ],
         "y": [
          20.77588764099713,
          21.86972207748751
         ]
        },
        {
         "hoverinfo": "none",
         "line": {
          "color": "#888",
          "width": 1.2638409296305433
         },
         "mode": "lines",
         "type": "scatter",
         "x": [
          -12.910843834401481,
          -13.007084255175895
         ],
         "y": [
          21.01436659376408,
          21.86972207748751
         ]
        },
        {
         "hoverinfo": "none",
         "line": {
          "color": "#888",
          "width": 1.086429851750809
         },
         "mode": "lines",
         "type": "scatter",
         "x": [
          -13.637993460243793,
          -13.007084255175895
         ],
         "y": [
          21.53220459934256,
          21.86972207748751
         ]
        },
        {
         "hoverinfo": "none",
         "line": {
          "color": "#888",
          "width": 1.0994350344114456
         },
         "mode": "lines",
         "type": "scatter",
         "x": [
          -12.284441948806446,
          -13.007084255175895
         ],
         "y": [
          21.025645557579107,
          21.86972207748751
         ]
        },
        {
         "hoverinfo": "none",
         "line": {
          "color": "#888",
          "width": 1.4204921773882484
         },
         "mode": "lines",
         "type": "scatter",
         "x": [
          -13.7703511169154,
          -13.007084255175895
         ],
         "y": [
          21.085508206964032,
          21.86972207748751
         ]
        },
        {
         "hoverinfo": "none",
         "line": {
          "color": "#888",
          "width": 1.4791446582936123
         },
         "mode": "lines",
         "type": "scatter",
         "x": [
          -13.030036553810685,
          -13.007084255175895
         ],
         "y": [
          21.519701600461545,
          21.86972207748751
         ]
        },
        {
         "hoverinfo": "none",
         "line": {
          "color": "#888",
          "width": 1.1005697410928188
         },
         "mode": "lines",
         "type": "scatter",
         "x": [
          -3.3609183195267143,
          -4.223973842704066
         ],
         "y": [
          16.678399283326424,
          16.553054912084303
         ]
        },
        {
         "hoverinfo": "none",
         "line": {
          "color": "#888",
          "width": 1.141494085803745
         },
         "mode": "lines",
         "type": "scatter",
         "x": [
          -3.684136594292169,
          -4.223973842704066
         ],
         "y": [
          15.828362727646057,
          16.553054912084303
         ]
        },
        {
         "hoverinfo": "none",
         "line": {
          "color": "#888",
          "width": 1.164958932558884
         },
         "mode": "lines",
         "type": "scatter",
         "x": [
          -4.584947224697205,
          -4.223973842704066
         ],
         "y": [
          15.71948327575617,
          16.553054912084303
         ]
        },
        {
         "hoverinfo": "none",
         "line": {
          "color": "#888",
          "width": 1.1256280676713315
         },
         "mode": "lines",
         "type": "scatter",
         "x": [
          -5.073089420651273,
          -4.223973842704066
         ],
         "y": [
          16.459245976619137,
          16.553054912084303
         ]
        },
        {
         "hoverinfo": "none",
         "line": {
          "color": "#888",
          "width": 1.6196872997136325
         },
         "mode": "lines",
         "type": "scatter",
         "x": [
          -13.469602721182888,
          -14.197638723341639
         ],
         "y": [
          21.366730828241682,
          21.267662103421003
         ]
        },
        {
         "hoverinfo": "none",
         "line": {
          "color": "#888",
          "width": 1.0164502373755715
         },
         "mode": "lines",
         "type": "scatter",
         "x": [
          -13.488239384273696,
          -14.197638723341639
         ],
         "y": [
          22.052657171590635,
          21.267662103421003
         ]
        },
        {
         "hoverinfo": "none",
         "line": {
          "color": "#888",
          "width": 1.0602471199975425
         },
         "mode": "lines",
         "type": "scatter",
         "x": [
          -14.858379268270992,
          -14.197638723341639
         ],
         "y": [
          21.526061738550137,
          21.267662103421003
         ]
        },
        {
         "hoverinfo": "none",
         "line": {
          "color": "#888",
          "width": 1.4560617117653787
         },
         "mode": "lines",
         "type": "scatter",
         "x": [
          -12.850718139242009,
          -14.197638723341639
         ],
         "y": [
          20.929101940708783,
          21.267662103421003
         ]
        },
        {
         "hoverinfo": "none",
         "line": {
          "color": "#888",
          "width": 1.6214786080697199
         },
         "mode": "lines",
         "type": "scatter",
         "x": [
          -13.551675742174377,
          -14.197638723341639
         ],
         "y": [
          20.329212509114274,
          21.267662103421003
         ]
        },
        {
         "hoverinfo": "none",
         "line": {
          "color": "#888",
          "width": 1.438687743390058
         },
         "mode": "lines",
         "type": "scatter",
         "x": [
          -12.910843834401481,
          -14.197638723341639
         ],
         "y": [
          21.01436659376408,
          21.267662103421003
         ]
        },
        {
         "hoverinfo": "none",
         "line": {
          "color": "#888",
          "width": 1.4856575845695517
         },
         "mode": "lines",
         "type": "scatter",
         "x": [
          -13.713867049753938,
          -12.734203853902583
         ],
         "y": [
          21.32277923138798,
          21.55340460756357
         ]
        },
        {
         "hoverinfo": "none",
         "line": {
          "color": "#888",
          "width": 1.295861474926493
         },
         "mode": "lines",
         "type": "scatter",
         "x": [
          -13.469602721182888,
          -12.734203853902583
         ],
         "y": [
          21.366730828241682,
          21.55340460756357
         ]
        },
        {
         "hoverinfo": "none",
         "line": {
          "color": "#888",
          "width": 2.0153679748019826
         },
         "mode": "lines",
         "type": "scatter",
         "x": [
          -13.421282842315208,
          -12.734203853902583
         ],
         "y": [
          20.731208327312252,
          21.55340460756357
         ]
        },
        {
         "hoverinfo": "none",
         "line": {
          "color": "#888",
          "width": 1.087335300402193
         },
         "mode": "lines",
         "type": "scatter",
         "x": [
          -11.949124589899004,
          -12.734203853902583
         ],
         "y": [
          21.792200991998797,
          21.55340460756357
         ]
        },
        {
         "hoverinfo": "none",
         "line": {
          "color": "#888",
          "width": 1.0852401352493468
         },
         "mode": "lines",
         "type": "scatter",
         "x": [
          -13.197102179360037,
          -12.734203853902583
         ],
         "y": [
          20.446227226217555,
          21.55340460756357
         ]
        },
        {
         "hoverinfo": "none",
         "line": {
          "color": "#888",
          "width": 1.9377941741220632
         },
         "mode": "lines",
         "type": "scatter",
         "x": [
          -12.850718139242009,
          -12.734203853902583
         ],
         "y": [
          20.929101940708783,
          21.55340460756357
         ]
        },
        {
         "hoverinfo": "none",
         "line": {
          "color": "#888",
          "width": 1.1573426694228401
         },
         "mode": "lines",
         "type": "scatter",
         "x": [
          -13.427726029882152,
          -12.734203853902583
         ],
         "y": [
          21.052187341494502,
          21.55340460756357
         ]
        },
        {
         "hoverinfo": "none",
         "line": {
          "color": "#888",
          "width": 1.0913043640973121
         },
         "mode": "lines",
         "type": "scatter",
         "x": [
          -13.584146493457986,
          -12.734203853902583
         ],
         "y": [
          21.910867822678476,
          21.55340460756357
         ]
        },
        {
         "hoverinfo": "none",
         "line": {
          "color": "#888",
          "width": 1.4371306234018377
         },
         "mode": "lines",
         "type": "scatter",
         "x": [
          -12.907640754729615,
          -12.734203853902583
         ],
         "y": [
          20.469607616408755,
          21.55340460756357
         ]
        },
        {
         "hoverinfo": "none",
         "line": {
          "color": "#888",
          "width": 1.7487037506264238
         },
         "mode": "lines",
         "type": "scatter",
         "x": [
          -13.046705351336772,
          -12.734203853902583
         ],
         "y": [
          20.77588764099713,
          21.55340460756357
         ]
        },
        {
         "hoverinfo": "none",
         "line": {
          "color": "#888",
          "width": 1.9833157453205779
         },
         "mode": "lines",
         "type": "scatter",
         "x": [
          -12.910843834401481,
          -12.734203853902583
         ],
         "y": [
          21.01436659376408,
          21.55340460756357
         ]
        },
        {
         "hoverinfo": "none",
         "line": {
          "color": "#888",
          "width": 1.1011584011383928
         },
         "mode": "lines",
         "type": "scatter",
         "x": [
          -13.637993460243793,
          -12.734203853902583
         ],
         "y": [
          21.53220459934256,
          21.55340460756357
         ]
        },
        {
         "hoverinfo": "none",
         "line": {
          "color": "#888",
          "width": 1.8511518866483965
         },
         "mode": "lines",
         "type": "scatter",
         "x": [
          -13.7703511169154,
          -12.734203853902583
         ],
         "y": [
          21.085508206964032,
          21.55340460756357
         ]
        },
        {
         "hoverinfo": "none",
         "line": {
          "color": "#888",
          "width": 2.846396028031555
         },
         "mode": "lines",
         "type": "scatter",
         "x": [
          -13.030036553810685,
          -12.734203853902583
         ],
         "y": [
          21.519701600461545,
          21.55340460756357
         ]
        },
        {
         "hoverinfo": "none",
         "line": {
          "color": "#888",
          "width": 1.0379621394129621
         },
         "mode": "lines",
         "type": "scatter",
         "x": [
          -12.734203853902583,
          -13.272428838714013
         ],
         "y": [
          21.55340460756357,
          21.97460394894528
         ]
        },
        {
         "hoverinfo": "none",
         "line": {
          "color": "#888",
          "width": 1.3936006338251459
         },
         "mode": "lines",
         "type": "scatter",
         "x": [
          -12.734203853902583,
          -12.77601031504658
         ],
         "y": [
          21.55340460756357,
          21.12541781408756
         ]
        },
        {
         "hoverinfo": "none",
         "line": {
          "color": "#888",
          "width": 1.1046334590206233
         },
         "mode": "lines",
         "type": "scatter",
         "x": [
          -6.3972927373085495,
          -6.370044307639769
         ],
         "y": [
          15.241339929201953,
          15.983076688771783
         ]
        },
        {
         "hoverinfo": "none",
         "line": {
          "color": "#888",
          "width": 1.1894481478399692
         },
         "mode": "lines",
         "type": "scatter",
         "x": [
          -7.173322289908699,
          -6.370044307639769
         ],
         "y": [
          15.323501465363748,
          15.983076688771783
         ]
        },
        {
         "hoverinfo": "none",
         "line": {
          "color": "#888",
          "width": 1.033928888143376
         },
         "mode": "lines",
         "type": "scatter",
         "x": [
          -7.0968782985042065,
          -6.370044307639769
         ],
         "y": [
          16.098146229260884,
          15.983076688771783
         ]
        },
        {
         "hoverinfo": "none",
         "line": {
          "color": "#888",
          "width": 1.0953804566139196
         },
         "mode": "lines",
         "type": "scatter",
         "x": [
          -13.979715599240638,
          -14.700800349225393
         ],
         "y": [
          19.090615747944213,
          18.224889530040656
         ]
        },
        {
         "hoverinfo": "none",
         "line": {
          "color": "#888",
          "width": 1.1077490252860276
         },
         "mode": "lines",
         "type": "scatter",
         "x": [
          -14.898728528329402,
          -14.700800349225393
         ],
         "y": [
          17.282184837691222,
          18.224889530040656
         ]
        },
        {
         "hoverinfo": "none",
         "line": {
          "color": "#888",
          "width": 1.003400308949595
         },
         "mode": "lines",
         "type": "scatter",
         "x": [
          -14.700800349225393,
          -15.503181246044218
         ],
         "y": [
          18.224889530040656,
          17.694796174436846
         ]
        },
        {
         "hoverinfo": "none",
         "line": {
          "color": "#888",
          "width": 1.037404716365907
         },
         "mode": "lines",
         "type": "scatter",
         "x": [
          -6.674868422834263,
          -5.775718274359518
         ],
         "y": [
          24.73162030680945,
          24.600740149694694
         ]
        },
        {
         "hoverinfo": "none",
         "line": {
          "color": "#888",
          "width": 1.0180766611920444
         },
         "mode": "lines",
         "type": "scatter",
         "x": [
          -11.14647911771022,
          -10.251007645281458
         ],
         "y": [
          22.371393610371104,
          22.96466467303902
         ]
        },
        {
         "hoverinfo": "none",
         "line": {
          "color": "#888",
          "width": 1.9203746711802538
         },
         "mode": "lines",
         "type": "scatter",
         "x": [
          -13.713867049753938,
          -13.272428838714013
         ],
         "y": [
          21.32277923138798,
          21.97460394894528
         ]
        },
        {
         "hoverinfo": "none",
         "line": {
          "color": "#888",
          "width": 1.3615631482798145
         },
         "mode": "lines",
         "type": "scatter",
         "x": [
          -13.197102179360037,
          -13.272428838714013
         ],
         "y": [
          20.446227226217555,
          21.97460394894528
         ]
        },
        {
         "hoverinfo": "none",
         "line": {
          "color": "#888",
          "width": 1.3973979854360747
         },
         "mode": "lines",
         "type": "scatter",
         "x": [
          -12.850718139242009,
          -13.272428838714013
         ],
         "y": [
          20.929101940708783,
          21.97460394894528
         ]
        },
        {
         "hoverinfo": "none",
         "line": {
          "color": "#888",
          "width": 1.0436904503602946
         },
         "mode": "lines",
         "type": "scatter",
         "x": [
          -13.427726029882152,
          -13.272428838714013
         ],
         "y": [
          21.052187341494502,
          21.97460394894528
         ]
        },
        {
         "hoverinfo": "none",
         "line": {
          "color": "#888",
          "width": 1.6273683924272078
         },
         "mode": "lines",
         "type": "scatter",
         "x": [
          -13.584146493457986,
          -13.272428838714013
         ],
         "y": [
          21.910867822678476,
          21.97460394894528
         ]
        },
        {
         "hoverinfo": "none",
         "line": {
          "color": "#888",
          "width": 1.2067091142521453
         },
         "mode": "lines",
         "type": "scatter",
         "x": [
          -13.673386623300873,
          -13.272428838714013
         ],
         "y": [
          23.094740292057637,
          21.97460394894528
         ]
        },
        {
         "hoverinfo": "none",
         "line": {
          "color": "#888",
          "width": 1.3907664816518606
         },
         "mode": "lines",
         "type": "scatter",
         "x": [
          -14.424618497382848,
          -13.272428838714013
         ],
         "y": [
          22.43415239791516,
          21.97460394894528
         ]
        },
        {
         "hoverinfo": "none",
         "line": {
          "color": "#888",
          "width": 1.3812304868980876
         },
         "mode": "lines",
         "type": "scatter",
         "x": [
          -12.910843834401481,
          -13.272428838714013
         ],
         "y": [
          21.01436659376408,
          21.97460394894528
         ]
        },
        {
         "hoverinfo": "none",
         "line": {
          "color": "#888",
          "width": 1.4541960121198971
         },
         "mode": "lines",
         "type": "scatter",
         "x": [
          -13.7703511169154,
          -13.272428838714013
         ],
         "y": [
          21.085508206964032,
          21.97460394894528
         ]
        },
        {
         "hoverinfo": "none",
         "line": {
          "color": "#888",
          "width": 1.280174730198176
         },
         "mode": "lines",
         "type": "scatter",
         "x": [
          -13.030036553810685,
          -13.272428838714013
         ],
         "y": [
          21.519701600461545,
          21.97460394894528
         ]
        },
        {
         "hoverinfo": "none",
         "line": {
          "color": "#888",
          "width": 1.0379621394129621
         },
         "mode": "lines",
         "type": "scatter",
         "x": [
          -12.734203853902583,
          -13.272428838714013
         ],
         "y": [
          21.55340460756357,
          21.97460394894528
         ]
        },
        {
         "hoverinfo": "none",
         "line": {
          "color": "#888",
          "width": 1.2656924913973984
         },
         "mode": "lines",
         "type": "scatter",
         "x": [
          -13.272428838714013,
          -12.77601031504658
         ],
         "y": [
          21.97460394894528,
          21.12541781408756
         ]
        },
        {
         "hoverinfo": "none",
         "line": {
          "color": "#888",
          "width": 1.00190217130656
         },
         "mode": "lines",
         "type": "scatter",
         "x": [
          -13.272428838714013,
          -14.498939637577397
         ],
         "y": [
          21.97460394894528,
          22.044399357519538
         ]
        },
        {
         "hoverinfo": "none",
         "line": {
          "color": "#888",
          "width": 1.0791758042523893
         },
         "mode": "lines",
         "type": "scatter",
         "x": [
          -13.85101503582916,
          -14.284782287057334
         ],
         "y": [
          19.70968323427432,
          18.6935520818868
         ]
        },
        {
         "hoverinfo": "none",
         "line": {
          "color": "#888",
          "width": 1.109759620016767
         },
         "mode": "lines",
         "type": "scatter",
         "x": [
          -13.485752324101506,
          -14.284782287057334
         ],
         "y": [
          19.465977412591247,
          18.6935520818868
         ]
        },
        {
         "hoverinfo": "none",
         "line": {
          "color": "#888",
          "width": 1.0079553659585874
         },
         "mode": "lines",
         "type": "scatter",
         "x": [
          -15.774714817128526,
          -15.64783094935959
         ],
         "y": [
          17.61586869831081,
          18.70206518528754
         ]
        },
        {
         "hoverinfo": "none",
         "line": {
          "color": "#888",
          "width": 1.0883751627417442
         },
         "mode": "lines",
         "type": "scatter",
         "x": [
          -11.991544400059553,
          -12.446518716199456
         ],
         "y": [
          12.592942074869844,
          13.373204901803744
         ]
        },
        {
         "hoverinfo": "none",
         "line": {
          "color": "#888",
          "width": 1.2458909163736462
         },
         "mode": "lines",
         "type": "scatter",
         "x": [
          -14.898728528329402,
          -15.503181246044218
         ],
         "y": [
          17.282184837691222,
          17.694796174436846
         ]
        },
        {
         "hoverinfo": "none",
         "line": {
          "color": "#888",
          "width": 1.003400308949595
         },
         "mode": "lines",
         "type": "scatter",
         "x": [
          -14.700800349225393,
          -15.503181246044218
         ],
         "y": [
          18.224889530040656,
          17.694796174436846
         ]
        },
        {
         "hoverinfo": "none",
         "line": {
          "color": "#888",
          "width": 1.0991598353620051
         },
         "mode": "lines",
         "type": "scatter",
         "x": [
          -8.912182757525217,
          -8.029049197824259
         ],
         "y": [
          26.184647635585637,
          25.94364112739702
         ]
        },
        {
         "hoverinfo": "none",
         "line": {
          "color": "#888",
          "width": 1.2312097071671984
         },
         "mode": "lines",
         "type": "scatter",
         "x": [
          -10.56826368128901,
          -9.741210458737246
         ],
         "y": [
          20.824710298876187,
          21.914039008164817
         ]
        },
        {
         "hoverinfo": "none",
         "line": {
          "color": "#888",
          "width": 1.0390282193040616
         },
         "mode": "lines",
         "type": "scatter",
         "x": [
          -9.741210458737246,
          -9.595275245512976
         ],
         "y": [
          21.914039008164817,
          21.215455714750416
         ]
        },
        {
         "hoverinfo": "none",
         "line": {
          "color": "#888",
          "width": 1.0101562757158438
         },
         "mode": "lines",
         "type": "scatter",
         "x": [
          -13.612405873935117,
          -14.720725521153799
         ],
         "y": [
          24.22476022160976,
          23.67530227963661
         ]
        },
        {
         "hoverinfo": "none",
         "line": {
          "color": "#888",
          "width": 1.2061507937740665
         },
         "mode": "lines",
         "type": "scatter",
         "x": [
          -14.986087504472923,
          -14.720725521153799
         ],
         "y": [
          22.39991748096667,
          23.67530227963661
         ]
        },
        {
         "hoverinfo": "none",
         "line": {
          "color": "#888",
          "width": 1.2012258368689315
         },
         "mode": "lines",
         "type": "scatter",
         "x": [
          -11.40201413065946,
          -11.897670571538791
         ],
         "y": [
          24.523596583004885,
          23.71837686093763
         ]
        },
        {
         "hoverinfo": "none",
         "line": {
          "color": "#888",
          "width": 1.2116987039885405
         },
         "mode": "lines",
         "type": "scatter",
         "x": [
          -12.39070970399015,
          -11.897670571538791
         ],
         "y": [
          22.673929128949084,
          23.71837686093763
         ]
        },
        {
         "hoverinfo": "none",
         "line": {
          "color": "#888",
          "width": 1.037404716365907
         },
         "mode": "lines",
         "type": "scatter",
         "x": [
          -6.674868422834263,
          -5.775718274359518
         ],
         "y": [
          24.73162030680945,
          24.600740149694694
         ]
        },
        {
         "hoverinfo": "none",
         "line": {
          "color": "#888",
          "width": 1.8380743319748538
         },
         "mode": "lines",
         "type": "scatter",
         "x": [
          -13.713867049753938,
          -12.77601031504658
         ],
         "y": [
          21.32277923138798,
          21.12541781408756
         ]
        },
        {
         "hoverinfo": "none",
         "line": {
          "color": "#888",
          "width": 1.3210428627216877
         },
         "mode": "lines",
         "type": "scatter",
         "x": [
          -13.72503864579122,
          -12.77601031504658
         ],
         "y": [
          20.752200827459543,
          21.12541781408756
         ]
        },
        {
         "hoverinfo": "none",
         "line": {
          "color": "#888",
          "width": 1.1099042947056785
         },
         "mode": "lines",
         "type": "scatter",
         "x": [
          -13.469602721182888,
          -12.77601031504658
         ],
         "y": [
          21.366730828241682,
          21.12541781408756
         ]
        },
        {
         "hoverinfo": "none",
         "line": {
          "color": "#888",
          "width": 1.5885974793911686
         },
         "mode": "lines",
         "type": "scatter",
         "x": [
          -13.421282842315208,
          -12.77601031504658
         ],
         "y": [
          20.731208327312252,
          21.12541781408756
         ]
        },
        {
         "hoverinfo": "none",
         "line": {
          "color": "#888",
          "width": 1.214072670173321
         },
         "mode": "lines",
         "type": "scatter",
         "x": [
          -12.88079425450245,
          -12.77601031504658
         ],
         "y": [
          20.00414689876472,
          21.12541781408756
         ]
        },
        {
         "hoverinfo": "none",
         "line": {
          "color": "#888",
          "width": 1.1071821399859498
         },
         "mode": "lines",
         "type": "scatter",
         "x": [
          -11.96986801292686,
          -12.77601031504658
         ],
         "y": [
          22.41278980421849,
          21.12541781408756
         ]
        },
        {
         "hoverinfo": "none",
         "line": {
          "color": "#888",
          "width": 1.1489777860747632
         },
         "mode": "lines",
         "type": "scatter",
         "x": [
          -12.341464452775313,
          -12.77601031504658
         ],
         "y": [
          20.311362961497515,
          21.12541781408756
         ]
        },
        {
         "hoverinfo": "none",
         "line": {
          "color": "#888",
          "width": 1.88146236894806
         },
         "mode": "lines",
         "type": "scatter",
         "x": [
          -13.197102179360037,
          -12.77601031504658
         ],
         "y": [
          20.446227226217555,
          21.12541781408756
         ]
        },
        {
         "hoverinfo": "none",
         "line": {
          "color": "#888",
          "width": 1.0867502706949521
         },
         "mode": "lines",
         "type": "scatter",
         "x": [
          -12.345143556966459,
          -12.77601031504658
         ],
         "y": [
          21.995363443026463,
          21.12541781408756
         ]
        },
        {
         "hoverinfo": "none",
         "line": {
          "color": "#888",
          "width": 2.907335717315135
         },
         "mode": "lines",
         "type": "scatter",
         "x": [
          -12.850718139242009,
          -12.77601031504658
         ],
         "y": [
          20.929101940708783,
          21.12541781408756
         ]
        },
        {
         "hoverinfo": "none",
         "line": {
          "color": "#888",
          "width": 1.3594148605638678
         },
         "mode": "lines",
         "type": "scatter",
         "x": [
          -13.427726029882152,
          -12.77601031504658
         ],
         "y": [
          21.052187341494502,
          21.12541781408756
         ]
        },
        {
         "hoverinfo": "none",
         "line": {
          "color": "#888",
          "width": 1.0534466711766322
         },
         "mode": "lines",
         "type": "scatter",
         "x": [
          -14.027395794310534,
          -12.77601031504658
         ],
         "y": [
          21.396105270096907,
          21.12541781408756
         ]
        },
        {
         "hoverinfo": "none",
         "line": {
          "color": "#888",
          "width": 1.0247511735071613
         },
         "mode": "lines",
         "type": "scatter",
         "x": [
          -13.584146493457986,
          -12.77601031504658
         ],
         "y": [
          21.910867822678476,
          21.12541781408756
         ]
        },
        {
         "hoverinfo": "none",
         "line": {
          "color": "#888",
          "width": 1.4523772699679673
         },
         "mode": "lines",
         "type": "scatter",
         "x": [
          -12.907640754729615,
          -12.77601031504658
         ],
         "y": [
          20.469607616408755,
          21.12541781408756
         ]
        },
        {
         "hoverinfo": "none",
         "line": {
          "color": "#888",
          "width": 1.7087654595076642
         },
         "mode": "lines",
         "type": "scatter",
         "x": [
          -13.046705351336772,
          -12.77601031504658
         ],
         "y": [
          20.77588764099713,
          21.12541781408756
         ]
        },
        {
         "hoverinfo": "none",
         "line": {
          "color": "#888",
          "width": 1.2182606704755221
         },
         "mode": "lines",
         "type": "scatter",
         "x": [
          -12.356415919830226,
          -12.77601031504658
         ],
         "y": [
          19.76080027239755,
          21.12541781408756
         ]
        },
        {
         "hoverinfo": "none",
         "line": {
          "color": "#888",
          "width": 1.0398802290374018
         },
         "mode": "lines",
         "type": "scatter",
         "x": [
          -12.39070970399015,
          -12.77601031504658
         ],
         "y": [
          22.673929128949084,
          21.12541781408756
         ]
        },
        {
         "hoverinfo": "none",
         "line": {
          "color": "#888",
          "width": 1.1765150063895184
         },
         "mode": "lines",
         "type": "scatter",
         "x": [
          -12.629951858941117,
          -12.77601031504658
         ],
         "y": [
          20.42458920482799,
          21.12541781408756
         ]
        },
        {
         "hoverinfo": "none",
         "line": {
          "color": "#888",
          "width": 1.0674512939533738
         },
         "mode": "lines",
         "type": "scatter",
         "x": [
          -12.773844683472381,
          -12.77601031504658
         ],
         "y": [
          19.566330422843407,
          21.12541781408756
         ]
        },
        {
         "hoverinfo": "none",
         "line": {
          "color": "#888",
          "width": 1.0661448204254618
         },
         "mode": "lines",
         "type": "scatter",
         "x": [
          -12.040651155801354,
          -12.77601031504658
         ],
         "y": [
          21.209858966184818,
          21.12541781408756
         ]
        },
        {
         "hoverinfo": "none",
         "line": {
          "color": "#888",
          "width": 3.1927690423116966
         },
         "mode": "lines",
         "type": "scatter",
         "x": [
          -12.910843834401481,
          -12.77601031504658
         ],
         "y": [
          21.01436659376408,
          21.12541781408756
         ]
        },
        {
         "hoverinfo": "none",
         "line": {
          "color": "#888",
          "width": 1.256441085017973
         },
         "mode": "lines",
         "type": "scatter",
         "x": [
          -13.7703511169154,
          -12.77601031504658
         ],
         "y": [
          21.085508206964032,
          21.12541781408756
         ]
        },
        {
         "hoverinfo": "none",
         "line": {
          "color": "#888",
          "width": 1.5190640300325973
         },
         "mode": "lines",
         "type": "scatter",
         "x": [
          -13.991559819591165,
          -12.77601031504658
         ],
         "y": [
          20.390716009399764,
          21.12541781408756
         ]
        },
        {
         "hoverinfo": "none",
         "line": {
          "color": "#888",
          "width": 1.353755754295898
         },
         "mode": "lines",
         "type": "scatter",
         "x": [
          -13.23643931550353,
          -12.77601031504658
         ],
         "y": [
          20.945151973986814,
          21.12541781408756
         ]
        },
        {
         "hoverinfo": "none",
         "line": {
          "color": "#888",
          "width": 1.6947150700585731
         },
         "mode": "lines",
         "type": "scatter",
         "x": [
          -13.030036553810685,
          -12.77601031504658
         ],
         "y": [
          21.519701600461545,
          21.12541781408756
         ]
        },
        {
         "hoverinfo": "none",
         "line": {
          "color": "#888",
          "width": 1.3936006338251459
         },
         "mode": "lines",
         "type": "scatter",
         "x": [
          -12.734203853902583,
          -12.77601031504658
         ],
         "y": [
          21.55340460756357,
          21.12541781408756
         ]
        },
        {
         "hoverinfo": "none",
         "line": {
          "color": "#888",
          "width": 1.2656924913973984
         },
         "mode": "lines",
         "type": "scatter",
         "x": [
          -13.272428838714013,
          -12.77601031504658
         ],
         "y": [
          21.97460394894528,
          21.12541781408756
         ]
        },
        {
         "hoverinfo": "none",
         "line": {
          "color": "#888",
          "width": 1.3270704938366504
         },
         "mode": "lines",
         "type": "scatter",
         "x": [
          -12.77601031504658,
          -12.800082302337206
         ],
         "y": [
          21.12541781408756,
          21.797200858097636
         ]
        },
        {
         "hoverinfo": "none",
         "line": {
          "color": "#888",
          "width": 1.2841756270730427
         },
         "mode": "lines",
         "type": "scatter",
         "x": [
          -14.489168620811169,
          -13.402038872682441
         ],
         "y": [
          21.091249032371852,
          21.793632774845815
         ]
        },
        {
         "hoverinfo": "none",
         "line": {
          "color": "#888",
          "width": 1.3032063597556576
         },
         "mode": "lines",
         "type": "scatter",
         "x": [
          -13.642983348705675,
          -13.402038872682441
         ],
         "y": [
          20.519633212486255,
          21.793632774845815
         ]
        },
        {
         "hoverinfo": "none",
         "line": {
          "color": "#888",
          "width": 1.4338591409924732
         },
         "mode": "lines",
         "type": "scatter",
         "x": [
          -12.850718139242009,
          -13.402038872682441
         ],
         "y": [
          20.929101940708783,
          21.793632774845815
         ]
        },
        {
         "hoverinfo": "none",
         "line": {
          "color": "#888",
          "width": 1.1258718759742317
         },
         "mode": "lines",
         "type": "scatter",
         "x": [
          -13.236477225987986,
          -13.402038872682441
         ],
         "y": [
          20.35065703675912,
          21.793632774845815
         ]
        },
        {
         "hoverinfo": "none",
         "line": {
          "color": "#888",
          "width": 1.2102107003567921
         },
         "mode": "lines",
         "type": "scatter",
         "x": [
          -13.427726029882152,
          -13.402038872682441
         ],
         "y": [
          21.052187341494502,
          21.793632774845815
         ]
        },
        {
         "hoverinfo": "none",
         "line": {
          "color": "#888",
          "width": 1.047565162276737
         },
         "mode": "lines",
         "type": "scatter",
         "x": [
          -12.700498433924094,
          -13.402038872682441
         ],
         "y": [
          22.212152083511462,
          21.793632774845815
         ]
        },
        {
         "hoverinfo": "none",
         "line": {
          "color": "#888",
          "width": 1.0058964092324805
         },
         "mode": "lines",
         "type": "scatter",
         "x": [
          -12.608722745064354,
          -13.402038872682441
         ],
         "y": [
          21.38991608678275,
          21.793632774845815
         ]
        },
        {
         "hoverinfo": "none",
         "line": {
          "color": "#888",
          "width": 1.352459951505115
         },
         "mode": "lines",
         "type": "scatter",
         "x": [
          -13.912717315656698,
          -13.402038872682441
         ],
         "y": [
          21.454212393115643,
          21.793632774845815
         ]
        },
        {
         "hoverinfo": "none",
         "line": {
          "color": "#888",
          "width": 1.004178189054917
         },
         "mode": "lines",
         "type": "scatter",
         "x": [
          -13.40775776308866,
          -13.402038872682441
         ],
         "y": [
          23.16466309028817,
          21.793632774845815
         ]
        },
        {
         "hoverinfo": "none",
         "line": {
          "color": "#888",
          "width": 1.1205473960343013
         },
         "mode": "lines",
         "type": "scatter",
         "x": [
          -14.113963476444026,
          -13.402038872682441
         ],
         "y": [
          20.733964232542867,
          21.793632774845815
         ]
        },
        {
         "hoverinfo": "none",
         "line": {
          "color": "#888",
          "width": 1.0031936006915716
         },
         "mode": "lines",
         "type": "scatter",
         "x": [
          -12.863841475837656,
          -13.402038872682441
         ],
         "y": [
          23.15284384716926,
          21.793632774845815
         ]
        },
        {
         "hoverinfo": "none",
         "line": {
          "color": "#888",
          "width": 1.4190282225804427
         },
         "mode": "lines",
         "type": "scatter",
         "x": [
          -12.910843834401481,
          -13.402038872682441
         ],
         "y": [
          21.01436659376408,
          21.793632774845815
         ]
        },
        {
         "hoverinfo": "none",
         "line": {
          "color": "#888",
          "width": 1.0632125341034118
         },
         "mode": "lines",
         "type": "scatter",
         "x": [
          -13.23643931550353,
          -13.402038872682441
         ],
         "y": [
          20.945151973986814,
          21.793632774845815
         ]
        },
        {
         "hoverinfo": "none",
         "line": {
          "color": "#888",
          "width": 1.1856153212912333
         },
         "mode": "lines",
         "type": "scatter",
         "x": [
          -13.402038872682441,
          -13.994286400461116
         ],
         "y": [
          21.793632774845815,
          20.881168702489436
         ]
        },
        {
         "hoverinfo": "none",
         "line": {
          "color": "#888",
          "width": 1.1462998844642627
         },
         "mode": "lines",
         "type": "scatter",
         "x": [
          -10.990246823384478,
          -10.738609963494902
         ],
         "y": [
          19.324611435865272,
          18.197924148628765
         ]
        },
        {
         "hoverinfo": "none",
         "line": {
          "color": "#888",
          "width": 1.062697577792586
         },
         "mode": "lines",
         "type": "scatter",
         "x": [
          -10.159999711093475,
          -10.738609963494902
         ],
         "y": [
          18.707322792195,
          18.197924148628765
         ]
        },
        {
         "hoverinfo": "none",
         "line": {
          "color": "#888",
          "width": 1.0018889806675997
         },
         "mode": "lines",
         "type": "scatter",
         "x": [
          -13.030036553810685,
          -13.197963156136154
         ],
         "y": [
          21.519701600461545,
          22.97893370367655
         ]
        },
        {
         "hoverinfo": "none",
         "line": {
          "color": "#888",
          "width": 1.3857138204432617
         },
         "mode": "lines",
         "type": "scatter",
         "x": [
          -13.469602721182888,
          -12.800082302337206
         ],
         "y": [
          21.366730828241682,
          21.797200858097636
         ]
        },
        {
         "hoverinfo": "none",
         "line": {
          "color": "#888",
          "width": 1.9541320687366572
         },
         "mode": "lines",
         "type": "scatter",
         "x": [
          -12.850718139242009,
          -12.800082302337206
         ],
         "y": [
          20.929101940708783,
          21.797200858097636
         ]
        },
        {
         "hoverinfo": "none",
         "line": {
          "color": "#888",
          "width": 1.1313400880463478
         },
         "mode": "lines",
         "type": "scatter",
         "x": [
          -14.005021731026002,
          -12.800082302337206
         ],
         "y": [
          21.876050068264206,
          21.797200858097636
         ]
        },
        {
         "hoverinfo": "none",
         "line": {
          "color": "#888",
          "width": 1.5110825476412013
         },
         "mode": "lines",
         "type": "scatter",
         "x": [
          -14.027395794310534,
          -12.800082302337206
         ],
         "y": [
          21.396105270096907,
          21.797200858097636
         ]
        },
        {
         "hoverinfo": "none",
         "line": {
          "color": "#888",
          "width": 1.0167985173673035
         },
         "mode": "lines",
         "type": "scatter",
         "x": [
          -12.907640754729615,
          -12.800082302337206
         ],
         "y": [
          20.469607616408755,
          21.797200858097636
         ]
        },
        {
         "hoverinfo": "none",
         "line": {
          "color": "#888",
          "width": 2.2726446736519508
         },
         "mode": "lines",
         "type": "scatter",
         "x": [
          -12.910843834401481,
          -12.800082302337206
         ],
         "y": [
          21.01436659376408,
          21.797200858097636
         ]
        },
        {
         "hoverinfo": "none",
         "line": {
          "color": "#888",
          "width": 1.1089316483860638
         },
         "mode": "lines",
         "type": "scatter",
         "x": [
          -12.154447470436555,
          -12.800082302337206
         ],
         "y": [
          20.687358998302738,
          21.797200858097636
         ]
        },
        {
         "hoverinfo": "none",
         "line": {
          "color": "#888",
          "width": 1.2951378385510615
         },
         "mode": "lines",
         "type": "scatter",
         "x": [
          -13.23643931550353,
          -12.800082302337206
         ],
         "y": [
          20.945151973986814,
          21.797200858097636
         ]
        },
        {
         "hoverinfo": "none",
         "line": {
          "color": "#888",
          "width": 1.3270704938366504
         },
         "mode": "lines",
         "type": "scatter",
         "x": [
          -12.77601031504658,
          -12.800082302337206
         ],
         "y": [
          21.12541781408756,
          21.797200858097636
         ]
        },
        {
         "hoverinfo": "none",
         "line": {
          "color": "#888",
          "width": 1.0312463278416266
         },
         "mode": "lines",
         "type": "scatter",
         "x": [
          -14.878990974107236,
          -15.64783094935959
         ],
         "y": [
          19.390836062858266,
          18.70206518528754
         ]
        },
        {
         "hoverinfo": "none",
         "line": {
          "color": "#888",
          "width": 1.0079553659585874
         },
         "mode": "lines",
         "type": "scatter",
         "x": [
          -15.774714817128526,
          -15.64783094935959
         ],
         "y": [
          17.61586869831081,
          18.70206518528754
         ]
        },
        {
         "hoverinfo": "none",
         "line": {
          "color": "#888",
          "width": 1.0867528801867548
         },
         "mode": "lines",
         "type": "scatter",
         "x": [
          -15.64783094935959,
          -16.358131788434502
         ],
         "y": [
          18.70206518528754,
          18.236593206452522
         ]
        },
        {
         "hoverinfo": "none",
         "line": {
          "color": "#888",
          "width": 1.0948792638072153
         },
         "mode": "lines",
         "type": "scatter",
         "x": [
          -13.197102179360037,
          -14.233251817518356
         ],
         "y": [
          20.446227226217555,
          19.446136122802898
         ]
        },
        {
         "hoverinfo": "none",
         "line": {
          "color": "#888",
          "width": 1.078982649507148
         },
         "mode": "lines",
         "type": "scatter",
         "x": [
          -14.582278534558517,
          -14.233251817518356
         ],
         "y": [
          20.217135258366874,
          19.446136122802898
         ]
        },
        {
         "hoverinfo": "none",
         "line": {
          "color": "#888",
          "width": 1.075865858397991
         },
         "mode": "lines",
         "type": "scatter",
         "x": [
          -14.233251817518356,
          -15.174279426119066
         ],
         "y": [
          19.446136122802898,
          20.114788448159768
         ]
        },
        {
         "hoverinfo": "none",
         "line": {
          "color": "#888",
          "width": 1.165453709031058
         },
         "mode": "lines",
         "type": "scatter",
         "x": [
          -10.56826368128901,
          -9.595275245512976
         ],
         "y": [
          20.824710298876187,
          21.215455714750416
         ]
        },
        {
         "hoverinfo": "none",
         "line": {
          "color": "#888",
          "width": 1.0390282193040616
         },
         "mode": "lines",
         "type": "scatter",
         "x": [
          -9.741210458737246,
          -9.595275245512976
         ],
         "y": [
          21.914039008164817,
          21.215455714750416
         ]
        },
        {
         "hoverinfo": "none",
         "line": {
          "color": "#888",
          "width": 1.1164940239974934
         },
         "mode": "lines",
         "type": "scatter",
         "x": [
          -14.311419458172569,
          -15.174279426119066
         ],
         "y": [
          19.971822262725137,
          20.114788448159768
         ]
        },
        {
         "hoverinfo": "none",
         "line": {
          "color": "#888",
          "width": 1.2447500216097875
         },
         "mode": "lines",
         "type": "scatter",
         "x": [
          -14.582278534558517,
          -15.174279426119066
         ],
         "y": [
          20.217135258366874,
          20.114788448159768
         ]
        },
        {
         "hoverinfo": "none",
         "line": {
          "color": "#888",
          "width": 1.239663977993973
         },
         "mode": "lines",
         "type": "scatter",
         "x": [
          -15.067822716688191,
          -15.174279426119066
         ],
         "y": [
          19.80585907837482,
          20.114788448159768
         ]
        },
        {
         "hoverinfo": "none",
         "line": {
          "color": "#888",
          "width": 1.2038286935424476
         },
         "mode": "lines",
         "type": "scatter",
         "x": [
          -13.991559819591165,
          -15.174279426119066
         ],
         "y": [
          20.390716009399764,
          20.114788448159768
         ]
        },
        {
         "hoverinfo": "none",
         "line": {
          "color": "#888",
          "width": 1.075865858397991
         },
         "mode": "lines",
         "type": "scatter",
         "x": [
          -14.233251817518356,
          -15.174279426119066
         ],
         "y": [
          19.446136122802898,
          20.114788448159768
         ]
        },
        {
         "hoverinfo": "none",
         "line": {
          "color": "#888",
          "width": 1.1269710207281634
         },
         "mode": "lines",
         "type": "scatter",
         "x": [
          -14.489168620811169,
          -13.263024710033392
         ],
         "y": [
          21.091249032371852,
          21.47913495742209
         ]
        },
        {
         "hoverinfo": "none",
         "line": {
          "color": "#888",
          "width": 1.1172234268593138
         },
         "mode": "lines",
         "type": "scatter",
         "x": [
          -13.642983348705675,
          -13.263024710033392
         ],
         "y": [
          20.519633212486255,
          21.47913495742209
         ]
        },
        {
         "hoverinfo": "none",
         "line": {
          "color": "#888",
          "width": 1.0169021877525928
         },
         "mode": "lines",
         "type": "scatter",
         "x": [
          -12.345143556966459,
          -13.263024710033392
         ],
         "y": [
          21.995363443026463,
          21.47913495742209
         ]
        },
        {
         "hoverinfo": "none",
         "line": {
          "color": "#888",
          "width": 1.7395038261794245
         },
         "mode": "lines",
         "type": "scatter",
         "x": [
          -12.850718139242009,
          -13.263024710033392
         ],
         "y": [
          20.929101940708783,
          21.47913495742209
         ]
        },
        {
         "hoverinfo": "none",
         "line": {
          "color": "#888",
          "width": 1.4722270411545835
         },
         "mode": "lines",
         "type": "scatter",
         "x": [
          -13.236477225987986,
          -13.263024710033392
         ],
         "y": [
          20.35065703675912,
          21.47913495742209
         ]
        },
        {
         "hoverinfo": "none",
         "line": {
          "color": "#888",
          "width": 1.5906730894489571
         },
         "mode": "lines",
         "type": "scatter",
         "x": [
          -13.427726029882152,
          -13.263024710033392
         ],
         "y": [
          21.052187341494502,
          21.47913495742209
         ]
        },
        {
         "hoverinfo": "none",
         "line": {
          "color": "#888",
          "width": 1.106498364464699
         },
         "mode": "lines",
         "type": "scatter",
         "x": [
          -12.608722745064354,
          -13.263024710033392
         ],
         "y": [
          21.38991608678275,
          21.47913495742209
         ]
        },
        {
         "hoverinfo": "none",
         "line": {
          "color": "#888",
          "width": 1.3906614488536624
         },
         "mode": "lines",
         "type": "scatter",
         "x": [
          -13.912717315656698,
          -13.263024710033392
         ],
         "y": [
          21.454212393115643,
          21.47913495742209
         ]
        },
        {
         "hoverinfo": "none",
         "line": {
          "color": "#888",
          "width": 1.478063701708963
         },
         "mode": "lines",
         "type": "scatter",
         "x": [
          -13.551675742174377,
          -13.263024710033392
         ],
         "y": [
          20.329212509114274,
          21.47913495742209
         ]
        },
        {
         "hoverinfo": "none",
         "line": {
          "color": "#888",
          "width": 1.478343144437317
         },
         "mode": "lines",
         "type": "scatter",
         "x": [
          -14.113963476444026,
          -13.263024710033392
         ],
         "y": [
          20.733964232542867,
          21.47913495742209
         ]
        },
        {
         "hoverinfo": "none",
         "line": {
          "color": "#888",
          "width": 2.0270887765427292
         },
         "mode": "lines",
         "type": "scatter",
         "x": [
          -12.910843834401481,
          -13.263024710033392
         ],
         "y": [
          21.01436659376408,
          21.47913495742209
         ]
        },
        {
         "hoverinfo": "none",
         "line": {
          "color": "#888",
          "width": 1.040614552209747
         },
         "mode": "lines",
         "type": "scatter",
         "x": [
          -13.637993460243793,
          -13.263024710033392
         ],
         "y": [
          21.53220459934256,
          21.47913495742209
         ]
        },
        {
         "hoverinfo": "none",
         "line": {
          "color": "#888",
          "width": 1.3914289384895409
         },
         "mode": "lines",
         "type": "scatter",
         "x": [
          -13.23643931550353,
          -13.263024710033392
         ],
         "y": [
          20.945151973986814,
          21.47913495742209
         ]
        },
        {
         "hoverinfo": "none",
         "line": {
          "color": "#888",
          "width": 1.3254519840613108
         },
         "mode": "lines",
         "type": "scatter",
         "x": [
          -13.263024710033392,
          -13.994286400461116
         ],
         "y": [
          21.47913495742209,
          20.881168702489436
         ]
        },
        {
         "hoverinfo": "none",
         "line": {
          "color": "#888",
          "width": 1.023739986080041
         },
         "mode": "lines",
         "type": "scatter",
         "x": [
          -7.173322289908699,
          -7.894341793927663
         ],
         "y": [
          15.323501465363748,
          14.811120528398838
         ]
        },
        {
         "hoverinfo": "none",
         "line": {
          "color": "#888",
          "width": 1.059544427587481
         },
         "mode": "lines",
         "type": "scatter",
         "x": [
          -10.680705289400953,
          -11.263788850048781
         ],
         "y": [
          22.22966651010958,
          22.384709120747623
         ]
        },
        {
         "hoverinfo": "none",
         "line": {
          "color": "#888",
          "width": 1.0122180204210627
         },
         "mode": "lines",
         "type": "scatter",
         "x": [
          -12.345143556966459,
          -11.263788850048781
         ],
         "y": [
          21.995363443026463,
          22.384709120747623
         ]
        },
        {
         "hoverinfo": "none",
         "line": {
          "color": "#888",
          "width": 1.0641720417438782
         },
         "mode": "lines",
         "type": "scatter",
         "x": [
          -11.549799157354075,
          -11.263788850048781
         ],
         "y": [
          21.33677004673493,
          22.384709120747623
         ]
        },
        {
         "hoverinfo": "none",
         "line": {
          "color": "#888",
          "width": 1.1273677457334534
         },
         "mode": "lines",
         "type": "scatter",
         "x": [
          -11.263788850048781,
          -11.429739365262359
         ],
         "y": [
          22.384709120747623,
          22.733989773796388
         ]
        },
        {
         "hoverinfo": "none",
         "line": {
          "color": "#888",
          "width": 1.0218224762401709
         },
         "mode": "lines",
         "type": "scatter",
         "x": [
          -11.263788850048781,
          -12.0448503313882
         ],
         "y": [
          22.384709120747623,
          21.57539053726569
         ]
        },
        {
         "hoverinfo": "none",
         "line": {
          "color": "#888",
          "width": 1.10698679284716
         },
         "mode": "lines",
         "type": "scatter",
         "x": [
          -12.88079425450245,
          -12.791751733740055
         ],
         "y": [
          20.00414689876472,
          19.008361465721478
         ]
        },
        {
         "hoverinfo": "none",
         "line": {
          "color": "#888",
          "width": 1.0262180960617426
         },
         "mode": "lines",
         "type": "scatter",
         "x": [
          -12.341464452775313,
          -12.791751733740055
         ],
         "y": [
          20.311362961497515,
          19.008361465721478
         ]
        },
        {
         "hoverinfo": "none",
         "line": {
          "color": "#888",
          "width": 1.0364107351616023
         },
         "mode": "lines",
         "type": "scatter",
         "x": [
          -13.537096610506756,
          -12.791751733740055
         ],
         "y": [
          19.92320307519968,
          19.008361465721478
         ]
        },
        {
         "hoverinfo": "none",
         "line": {
          "color": "#888",
          "width": 1.0856711298133694
         },
         "mode": "lines",
         "type": "scatter",
         "x": [
          -13.04465356572712,
          -12.791751733740055
         ],
         "y": [
          19.63101236622079,
          19.008361465721478
         ]
        },
        {
         "hoverinfo": "none",
         "line": {
          "color": "#888",
          "width": 1.145445114520896
         },
         "mode": "lines",
         "type": "scatter",
         "x": [
          -12.918576723501182,
          -12.791751733740055
         ],
         "y": [
          19.762632785571746,
          19.008361465721478
         ]
        },
        {
         "hoverinfo": "none",
         "line": {
          "color": "#888",
          "width": 1.0180330958204062
         },
         "mode": "lines",
         "type": "scatter",
         "x": [
          -11.890506936706867,
          -12.791751733740055
         ],
         "y": [
          18.6555510556014,
          19.008361465721478
         ]
        },
        {
         "hoverinfo": "none",
         "line": {
          "color": "#888",
          "width": 1.0413919691563902
         },
         "mode": "lines",
         "type": "scatter",
         "x": [
          -13.610912637176686,
          -12.791751733740055
         ],
         "y": [
          18.6772196523297,
          19.008361465721478
         ]
        },
        {
         "hoverinfo": "none",
         "line": {
          "color": "#888",
          "width": 1.1356608572780873
         },
         "mode": "lines",
         "type": "scatter",
         "x": [
          -12.356415919830226,
          -12.791751733740055
         ],
         "y": [
          19.76080027239755,
          19.008361465721478
         ]
        },
        {
         "hoverinfo": "none",
         "line": {
          "color": "#888",
          "width": 1.0716382727419616
         },
         "mode": "lines",
         "type": "scatter",
         "x": [
          -12.773844683472381,
          -12.791751733740055
         ],
         "y": [
          19.566330422843407,
          19.008361465721478
         ]
        },
        {
         "hoverinfo": "none",
         "line": {
          "color": "#888",
          "width": 1.0952915075625365
         },
         "mode": "lines",
         "type": "scatter",
         "x": [
          -12.170458243867694,
          -12.791751733740055
         ],
         "y": [
          19.971879414718284,
          19.008361465721478
         ]
        },
        {
         "hoverinfo": "none",
         "line": {
          "color": "#888",
          "width": 1.0276082742675392
         },
         "mode": "lines",
         "type": "scatter",
         "x": [
          -10.680705289400953,
          -11.429739365262359
         ],
         "y": [
          22.22966651010958,
          22.733989773796388
         ]
        },
        {
         "hoverinfo": "none",
         "line": {
          "color": "#888",
          "width": 1.0387838639467775
         },
         "mode": "lines",
         "type": "scatter",
         "x": [
          -11.549799157354075,
          -11.429739365262359
         ],
         "y": [
          21.33677004673493,
          22.733989773796388
         ]
        },
        {
         "hoverinfo": "none",
         "line": {
          "color": "#888",
          "width": 1.1273677457334534
         },
         "mode": "lines",
         "type": "scatter",
         "x": [
          -11.263788850048781,
          -11.429739365262359
         ],
         "y": [
          22.384709120747623,
          22.733989773796388
         ]
        },
        {
         "hoverinfo": "none",
         "line": {
          "color": "#888",
          "width": 1.0049729373092302
         },
         "mode": "lines",
         "type": "scatter",
         "x": [
          -11.429739365262359,
          -12.0448503313882
         ],
         "y": [
          22.733989773796388,
          21.57539053726569
         ]
        },
        {
         "hoverinfo": "none",
         "line": {
          "color": "#888",
          "width": 1.000399796657459
         },
         "mode": "lines",
         "type": "scatter",
         "x": [
          -12.95422029598588,
          -12.0448503313882
         ],
         "y": [
          22.173012221957887,
          21.57539053726569
         ]
        },
        {
         "hoverinfo": "none",
         "line": {
          "color": "#888",
          "width": 1.14065775250979
         },
         "mode": "lines",
         "type": "scatter",
         "x": [
          -12.341464452775313,
          -12.0448503313882
         ],
         "y": [
          20.311362961497515,
          21.57539053726569
         ]
        },
        {
         "hoverinfo": "none",
         "line": {
          "color": "#888",
          "width": 1.1972331711801998
         },
         "mode": "lines",
         "type": "scatter",
         "x": [
          -12.850718139242009,
          -12.0448503313882
         ],
         "y": [
          20.929101940708783,
          21.57539053726569
         ]
        },
        {
         "hoverinfo": "none",
         "line": {
          "color": "#888",
          "width": 1.5356393979216454
         },
         "mode": "lines",
         "type": "scatter",
         "x": [
          -12.608722745064354,
          -12.0448503313882
         ],
         "y": [
          21.38991608678275,
          21.57539053726569
         ]
        },
        {
         "hoverinfo": "none",
         "line": {
          "color": "#888",
          "width": 1.651069403466463
         },
         "mode": "lines",
         "type": "scatter",
         "x": [
          -11.549799157354075,
          -12.0448503313882
         ],
         "y": [
          21.33677004673493,
          21.57539053726569
         ]
        },
        {
         "hoverinfo": "none",
         "line": {
          "color": "#888",
          "width": 1.0434783024942098
         },
         "mode": "lines",
         "type": "scatter",
         "x": [
          -12.040651155801354,
          -12.0448503313882
         ],
         "y": [
          21.209858966184818,
          21.57539053726569
         ]
        },
        {
         "hoverinfo": "none",
         "line": {
          "color": "#888",
          "width": 1.1820325920296575
         },
         "mode": "lines",
         "type": "scatter",
         "x": [
          -12.910843834401481,
          -12.0448503313882
         ],
         "y": [
          21.01436659376408,
          21.57539053726569
         ]
        },
        {
         "hoverinfo": "none",
         "line": {
          "color": "#888",
          "width": 1.0278805197458825
         },
         "mode": "lines",
         "type": "scatter",
         "x": [
          -11.85499862010832,
          -12.0448503313882
         ],
         "y": [
          20.494921025806526,
          21.57539053726569
         ]
        },
        {
         "hoverinfo": "none",
         "line": {
          "color": "#888",
          "width": 1.1495563524753216
         },
         "mode": "lines",
         "type": "scatter",
         "x": [
          -13.030036553810685,
          -12.0448503313882
         ],
         "y": [
          21.519701600461545,
          21.57539053726569
         ]
        },
        {
         "hoverinfo": "none",
         "line": {
          "color": "#888",
          "width": 1.0218224762401709
         },
         "mode": "lines",
         "type": "scatter",
         "x": [
          -11.263788850048781,
          -12.0448503313882
         ],
         "y": [
          22.384709120747623,
          21.57539053726569
         ]
        },
        {
         "hoverinfo": "none",
         "line": {
          "color": "#888",
          "width": 1.0049729373092302
         },
         "mode": "lines",
         "type": "scatter",
         "x": [
          -11.429739365262359,
          -12.0448503313882
         ],
         "y": [
          22.733989773796388,
          21.57539053726569
         ]
        },
        {
         "hoverinfo": "none",
         "line": {
          "color": "#888",
          "width": 1.8293488207175532
         },
         "mode": "lines",
         "type": "scatter",
         "x": [
          -14.489168620811169,
          -13.994286400461116
         ],
         "y": [
          21.091249032371852,
          20.881168702489436
         ]
        },
        {
         "hoverinfo": "none",
         "line": {
          "color": "#888",
          "width": 1.1146414038575085
         },
         "mode": "lines",
         "type": "scatter",
         "x": [
          -13.642983348705675,
          -13.994286400461116
         ],
         "y": [
          20.519633212486255,
          20.881168702489436
         ]
        },
        {
         "hoverinfo": "none",
         "line": {
          "color": "#888",
          "width": 1.1455749507040294
         },
         "mode": "lines",
         "type": "scatter",
         "x": [
          -14.550581404051927,
          -13.994286400461116
         ],
         "y": [
          19.624642271113515,
          20.881168702489436
         ]
        },
        {
         "hoverinfo": "none",
         "line": {
          "color": "#888",
          "width": 1.089909315951797
         },
         "mode": "lines",
         "type": "scatter",
         "x": [
          -12.850718139242009,
          -13.994286400461116
         ],
         "y": [
          20.929101940708783,
          20.881168702489436
         ]
        },
        {
         "hoverinfo": "none",
         "line": {
          "color": "#888",
          "width": 1.027904451194665
         },
         "mode": "lines",
         "type": "scatter",
         "x": [
          -13.236477225987986,
          -13.994286400461116
         ],
         "y": [
          20.35065703675912,
          20.881168702489436
         ]
        },
        {
         "hoverinfo": "none",
         "line": {
          "color": "#888",
          "width": 1.3004335332881456
         },
         "mode": "lines",
         "type": "scatter",
         "x": [
          -13.427726029882152,
          -13.994286400461116
         ],
         "y": [
          21.052187341494502,
          20.881168702489436
         ]
        },
        {
         "hoverinfo": "none",
         "line": {
          "color": "#888",
          "width": 1.0027186546159308
         },
         "mode": "lines",
         "type": "scatter",
         "x": [
          -14.582278534558517,
          -13.994286400461116
         ],
         "y": [
          20.217135258366874,
          20.881168702489436
         ]
        },
        {
         "hoverinfo": "none",
         "line": {
          "color": "#888",
          "width": 1.0197896529476522
         },
         "mode": "lines",
         "type": "scatter",
         "x": [
          -14.7570657120828,
          -13.994286400461116
         ],
         "y": [
          20.50506469374403,
          20.881168702489436
         ]
        },
        {
         "hoverinfo": "none",
         "line": {
          "color": "#888",
          "width": 1.151756002717777
         },
         "mode": "lines",
         "type": "scatter",
         "x": [
          -12.608722745064354,
          -13.994286400461116
         ],
         "y": [
          21.38991608678275,
          20.881168702489436
         ]
        },
        {
         "hoverinfo": "none",
         "line": {
          "color": "#888",
          "width": 1.1165727971710275
         },
         "mode": "lines",
         "type": "scatter",
         "x": [
          -13.912717315656698,
          -13.994286400461116
         ],
         "y": [
          21.454212393115643,
          20.881168702489436
         ]
        },
        {
         "hoverinfo": "none",
         "line": {
          "color": "#888",
          "width": 1.0239793226778227
         },
         "mode": "lines",
         "type": "scatter",
         "x": [
          -14.113963476444026,
          -13.994286400461116
         ],
         "y": [
          20.733964232542867,
          20.881168702489436
         ]
        },
        {
         "hoverinfo": "none",
         "line": {
          "color": "#888",
          "width": 1.077722628508547
         },
         "mode": "lines",
         "type": "scatter",
         "x": [
          -12.910843834401481,
          -13.994286400461116
         ],
         "y": [
          21.01436659376408,
          20.881168702489436
         ]
        },
        {
         "hoverinfo": "none",
         "line": {
          "color": "#888",
          "width": 1.053502937462228
         },
         "mode": "lines",
         "type": "scatter",
         "x": [
          -13.637993460243793,
          -13.994286400461116
         ],
         "y": [
          21.53220459934256,
          20.881168702489436
         ]
        },
        {
         "hoverinfo": "none",
         "line": {
          "color": "#888",
          "width": 1.0437708461110915
         },
         "mode": "lines",
         "type": "scatter",
         "x": [
          -13.23643931550353,
          -13.994286400461116
         ],
         "y": [
          20.945151973986814,
          20.881168702489436
         ]
        },
        {
         "hoverinfo": "none",
         "line": {
          "color": "#888",
          "width": 1.1856153212912333
         },
         "mode": "lines",
         "type": "scatter",
         "x": [
          -13.402038872682441,
          -13.994286400461116
         ],
         "y": [
          21.793632774845815,
          20.881168702489436
         ]
        },
        {
         "hoverinfo": "none",
         "line": {
          "color": "#888",
          "width": 1.3254519840613108
         },
         "mode": "lines",
         "type": "scatter",
         "x": [
          -13.263024710033392,
          -13.994286400461116
         ],
         "y": [
          21.47913495742209,
          20.881168702489436
         ]
        },
        {
         "hoverinfo": "none",
         "line": {
          "color": "#888",
          "width": 1.0489272549700317
         },
         "mode": "lines",
         "type": "scatter",
         "x": [
          -13.994286400461116,
          -15.270951640163304
         ],
         "y": [
          20.881168702489436,
          21.325945280292714
         ]
        },
        {
         "hoverinfo": "none",
         "line": {
          "color": "#888",
          "width": 1.0867528801867548
         },
         "mode": "lines",
         "type": "scatter",
         "x": [
          -15.64783094935959,
          -16.358131788434502
         ],
         "y": [
          18.70206518528754,
          18.236593206452522
         ]
        },
        {
         "hoverinfo": "none",
         "line": {
          "color": "#888",
          "width": 1.139791026075272
         },
         "mode": "lines",
         "type": "scatter",
         "x": [
          -13.713867049753938,
          -14.498939637577397
         ],
         "y": [
          21.32277923138798,
          22.044399357519538
         ]
        },
        {
         "hoverinfo": "none",
         "line": {
          "color": "#888",
          "width": 1.0926655470758238
         },
         "mode": "lines",
         "type": "scatter",
         "x": [
          -13.427726029882152,
          -14.498939637577397
         ],
         "y": [
          21.052187341494502,
          22.044399357519538
         ]
        },
        {
         "hoverinfo": "none",
         "line": {
          "color": "#888",
          "width": 1.1226976775080013
         },
         "mode": "lines",
         "type": "scatter",
         "x": [
          -13.584146493457986,
          -14.498939637577397
         ],
         "y": [
          21.910867822678476,
          22.044399357519538
         ]
        },
        {
         "hoverinfo": "none",
         "line": {
          "color": "#888",
          "width": 1.0835187560359603
         },
         "mode": "lines",
         "type": "scatter",
         "x": [
          -14.17718698076056,
          -14.498939637577397
         ],
         "y": [
          22.950125329389966,
          22.044399357519538
         ]
        },
        {
         "hoverinfo": "none",
         "line": {
          "color": "#888",
          "width": 1.014786162987643
         },
         "mode": "lines",
         "type": "scatter",
         "x": [
          -13.7703511169154,
          -14.498939637577397
         ],
         "y": [
          21.085508206964032,
          22.044399357519538
         ]
        },
        {
         "hoverinfo": "none",
         "line": {
          "color": "#888",
          "width": 1.00190217130656
         },
         "mode": "lines",
         "type": "scatter",
         "x": [
          -13.272428838714013,
          -14.498939637577397
         ],
         "y": [
          21.97460394894528,
          22.044399357519538
         ]
        },
        {
         "hoverinfo": "none",
         "line": {
          "color": "#888",
          "width": 1.0700143707609076
         },
         "mode": "lines",
         "type": "scatter",
         "x": [
          -14.7570657120828,
          -15.270951640163304
         ],
         "y": [
          20.50506469374403,
          21.325945280292714
         ]
        },
        {
         "hoverinfo": "none",
         "line": {
          "color": "#888",
          "width": 1.0489272549700317
         },
         "mode": "lines",
         "type": "scatter",
         "x": [
          -13.994286400461116,
          -15.270951640163304
         ],
         "y": [
          20.881168702489436,
          21.325945280292714
         ]
        },
        {
         "hoverinfo": "none",
         "line": {
          "color": "#888",
          "width": 1.222713154871356
         },
         "mode": "lines",
         "type": "scatter",
         "x": [
          -13.04465356572712,
          -13.207424864625844
         ],
         "y": [
          19.63101236622079,
          18.380917228599227
         ]
        },
        {
         "hoverinfo": "none",
         "line": {
          "color": "#888",
          "width": 1.4590317114047062
         },
         "mode": "lines",
         "type": "scatter",
         "x": [
          -11.722208057949885,
          -11.573787898129877
         ],
         "y": [
          20.221982900095632,
          20.603582672482666
         ]
        },
        {
         "hoverinfo": "none",
         "line": {
          "color": "#888",
          "width": 1.0182271896430728
         },
         "mode": "lines",
         "type": "scatter",
         "x": [
          -10.38428518250311,
          -11.573787898129877
         ],
         "y": [
          20.858640990884304,
          20.603582672482666
         ]
        },
        {
         "hoverinfo": "none",
         "line": {
          "color": "#888",
          "width": 1.2813328864664955
         },
         "mode": "lines",
         "type": "scatter",
         "x": [
          -12.850718139242009,
          -11.573787898129877
         ],
         "y": [
          20.929101940708783,
          20.603582672482666
         ]
        },
        {
         "hoverinfo": "none",
         "line": {
          "color": "#888",
          "width": 1.0468996025352004
         },
         "mode": "lines",
         "type": "scatter",
         "x": [
          -10.917791500255126,
          -11.573787898129877
         ],
         "y": [
          19.742127029568135,
          20.603582672482666
         ]
        },
        {
         "hoverinfo": "none",
         "line": {
          "color": "#888",
          "width": 1.133629876515718
         },
         "mode": "lines",
         "type": "scatter",
         "x": [
          -10.990246823384478,
          -11.573787898129877
         ],
         "y": [
          19.324611435865272,
          20.603582672482666
         ]
        },
        {
         "hoverinfo": "none",
         "line": {
          "color": "#888",
          "width": 1.4945432348836736
         },
         "mode": "lines",
         "type": "scatter",
         "x": [
          -10.58466903998632,
          -11.573787898129877
         ],
         "y": [
          20.122288006184224,
          20.603582672482666
         ]
        },
        {
         "hoverinfo": "none",
         "line": {
          "color": "#888",
          "width": 1.2684677691401385
         },
         "mode": "lines",
         "type": "scatter",
         "x": [
          -12.910843834401481,
          -11.573787898129877
         ],
         "y": [
          21.01436659376408,
          20.603582672482666
         ]
        },
        {
         "hoverinfo": "text",
         "marker": {
          "color": [
           0,
           1,
           1,
           0,
           0,
           1,
           1,
           1,
           1,
           0,
           1,
           1,
           0,
           1,
           0,
           0,
           0,
           0,
           0,
           0,
           0,
           0,
           0,
           1,
           1,
           0,
           1,
           1,
           1,
           1,
           1,
           1,
           1,
           1,
           0,
           0,
           1,
           0,
           1,
           1,
           0,
           1,
           1,
           0,
           1,
           1,
           0,
           1,
           0,
           1,
           0,
           2,
           1,
           1,
           1,
           1,
           1,
           1,
           1,
           1,
           1,
           0,
           0,
           1,
           0,
           0,
           0,
           1,
           1,
           1,
           0,
           1,
           0,
           0,
           0,
           1,
           1,
           1,
           0,
           1,
           1,
           1,
           0,
           0,
           1,
           1,
           1,
           1,
           0,
           0,
           1,
           1,
           0,
           0,
           0,
           1,
           0,
           1,
           0,
           1,
           1,
           1,
           1,
           1,
           0,
           0,
           1,
           0,
           0,
           0,
           0,
           1,
           1,
           1,
           0,
           0,
           1,
           1,
           1,
           1,
           1,
           1,
           1,
           1,
           1,
           0,
           1,
           1,
           1,
           1,
           0,
           1,
           1,
           0,
           1,
           0,
           1,
           0,
           0,
           0,
           1,
           0,
           0,
           0,
           0,
           1,
           1,
           1,
           1,
           1,
           1,
           1,
           0,
           1,
           1,
           0,
           1,
           1,
           0,
           0,
           1,
           0,
           1,
           1,
           0,
           0,
           1,
           2,
           1,
           1,
           1,
           1,
           1,
           0,
           0,
           1,
           1,
           1,
           1,
           1,
           0,
           1,
           1,
           0,
           1,
           1,
           0,
           1,
           1,
           0,
           1,
           1,
           0,
           1,
           1,
           1,
           1,
           1,
           1,
           1,
           1,
           1,
           0,
           1,
           1,
           1,
           1,
           1,
           1,
           1,
           0,
           0,
           1,
           0,
           0,
           0,
           1,
           1,
           0,
           1,
           0,
           1,
           3,
           0,
           1,
           1,
           1,
           1,
           1,
           1,
           1,
           0,
           1,
           1,
           1,
           1,
           1,
           0,
           0,
           1,
           1,
           1,
           0,
           1,
           1,
           1,
           1,
           1,
           1,
           1,
           0,
           1,
           1,
           0,
           0,
           0,
           0,
           1,
           1,
           1,
           0,
           0,
           0,
           1,
           1,
           1,
           1,
           1,
           0,
           1,
           0,
           1,
           1,
           1,
           0,
           1,
           0,
           1,
           1,
           1,
           1,
           1,
           1,
           1,
           1,
           1,
           1,
           1,
           1,
           1,
           0,
           1,
           0,
           1,
           1,
           1,
           0,
           0,
           1,
           0,
           1,
           1,
           1,
           1,
           1,
           0,
           1,
           1,
           1,
           1,
           1,
           0,
           1,
           0,
           0,
           1,
           0,
           1,
           1,
           1,
           1,
           1,
           1
          ],
          "colorbar": {
           "thickness": 15,
           "title": "",
           "titleside": "right",
           "xanchor": "left"
          },
          "colorscale": "Jet",
          "line": {
           "width": 2
          },
          "reversescale": true,
          "showscale": false,
          "size": 10
         },
         "mode": "markers",
         "showlegend": true,
         "text": [
          "Winners: Tom Brady’s(0)",
          "3 suspects handed te(1)",
          "David Brooks: I Fear(1)",
          "Scuffling, heckling (0)",
          "Former Clinton aides(0)",
          "Krauthammer: Rewrite(1)",
          "Is it a dream or a n(1)",
          "New approach for the(1)",
          "Marilyn's dress to B(1)",
          "Autism diagnosis by (0)",
          "PPE: the Oxford degr(1)",
          "Dresses that tell a (1)",
          "Fight breaks out in (0)",
          "Ageing gracefully as(1)",
          "Kremlin: Turkey gave(0)",
          "Who is Paul Manafort(0)",
          "IAAF clears 3 more R(0)",
          "21 more questions fo(0)",
          "FT podcast: World We(0)",
          "French officials str(0)",
          "After April’s March (0)",
          "Dems gird for battle(0)",
          "King: Leakers should(0)",
          "Free Network Foundat(1)",
          "Portuguese teens who(1)",
          "Clearly, the Trump a(0)",
          "The Wove Band: Don't(1)",
          "Catwalk models put c(1)",
          "To better understand(1)",
          "Facebook CEO Mark Zu(1)",
          "Cartel Radio Network(1)",
          "Krauthammer: 9th Cir(1)",
          "CNN Review: 'Big Lit(1)",
          "Love your local? Liv(1)",
          "Nick Cannon Quits ‘A(0)",
          "Ann Coulter on Trump(0)",
          "MILO to Appear on Re(1)",
          "Senator who disclose(0)",
          "It's North Korea's f(1)",
          "Schlapp: Trump needs(1)",
          "Master the art of pr(0)",
          "How quantum effects (1)",
          "UFC Fighter Responds(1)",
          "NYT’s Thomas Friedma(0)",
          "Absurd Creatures | C(1)",
          "Game|Life - Greg Kas(1)",
          "Columnist: Flynn's o(0)",
          "Texas Sheriff Dupes (1)",
          "Dem Sen Murphy: Trum(0)",
          "Mexican says she was(1)",
          "Abrams: Flynn 'piece(0)",
          "Japan pension fund i(2)",
          "Knicks owner James D(1)",
          "Q&amp;A: \"La La Land(1)",
          "Do Charles Darwin's (1)",
          "School curricula are(1)",
          "Banking Collapse of (1)",
          "A world safe for rob(1)",
          "All Work and All Pla(1)",
          "Bunscoil an Lúir: Re(1)",
          "Prescription-drug mo(1)",
          "Guardian Opinion Wri(0)",
          "Deportation orders t(0)",
          "Murdoch secretly sat(1)",
          "Pressure builds for (0)",
          "Spicer: 'Clearly mea(0)",
          "China ‘Highly Commen(0)",
          "Brussels watchdog la(1)",
          "Fujitsu develops ana(1)",
          "Chiefs GM non-commit(1)",
          "Watch: Ellison Press(0)",
          "Who is Charles Woodb(1)",
          "Maxine Waters: Trump(0)",
          "WaPo’s Ruth Marcus: (0)",
          "FBI refused White Ho(0)",
          "Tyrese Gibson on 'un(1)",
          "Nigeria court: Forfe(1)",
          "Researchers clearly (1)",
          "36 Top State Republi(0)",
          "Campaigners reject p(1)",
          "Twin tragedies give (1)",
          "Scientists show how (1)",
          "Terror fears take to(0)",
          "Michael Wolff: Media(0)",
          "Pope says indigenous(1)",
          "HBOS manager and oth(1)",
          "Attackers can make i(1)",
          "Kellyanne Conway's r(1)",
          "Scarborough: Trump M(0)",
          "Russians remain pati(0)",
          "Reading, Writing, An(1)",
          "Peter King: Leaks Ag(1)",
          "Michelle Malkin blas(0)",
          "Should financial adv(0)",
          "CNN’s Acosta: Trump (0)",
          "Facebook ‘Fake News’(1)",
          "Opinion: Facts still(0)",
          "Designing the best c(1)",
          "Pelosi Calls for FBI(0)",
          "Six Nations 2017: Sc(1)",
          "Lloyds apologises fo(1)",
          "Troops deploy to pro(1)",
          "No Tiger is no longe(1)",
          "Goodwin: Trump can q(1)",
          "Squirrels Keep Menac(0)",
          "The Russians Are NOT(0)",
          "Soft skills training(1)",
          "New York Times Accus(0)",
          "How Congress could g(0)",
          "First on CNN: John K(0)",
          "Nancy Pelosi: ‘We’ve(0)",
          "Green Investment Ban(1)",
          "Personal attacks on (1)",
          "'Hamilton' creator s(1)",
          "At 70, JBL still kno(0)",
          "US officials corrobo(0)",
          "Ex-NY Knick Oakley d(1)",
          "Six billion plastic (1)",
          "The unique shame of (1)",
          "Before the Beatles(1)",
          "How languages shape (1)",
          "Oakley's ban from Ma(1)",
          "Do we need a credit (1)",
          "University of Washin(1)",
          "Half of Welsh counci(1)",
          "Sen. Johnson on Flyn(0)",
          "Russian's ban may ma(1)",
          "Researchers develop (1)",
          "TalkTalk: reconnecti(1)",
          "Fraud case and falli(1)",
          "FT column: Donald Tr(0)",
          "The Noble Writer - S(1)",
          "Waiver yet to be sec(1)",
          "Source: \"knives out\"(0)",
          "Body of Egypt's so-c(1)",
          "Twitter: not even Do(0)",
          "Who Was Detective X?(1)",
          "Meet the rightwing p(0)",
          "NYT’s Friedman: Flyn(0)",
          "EXCLUSIVE: Felix Sat(0)",
          "Elon Musk in union s(1)",
          "The Nuclear Option —(0)",
          "Gibraltar seizes Rus(0)",
          "As Trump tweets, leg(0)",
          "Columnist to Brian S(0)",
          "Snapchat's young use(1)",
          "Lost in translation:(1)",
          "'Lossless' metamater(1)",
          "Alan Simpson: Comedy(1)",
          "Magic Leap faces sex(1)",
          "Sir Charles Dunstone(1)",
          "Boeing workers in So(1)",
          "Viacom debt deal tur(0)",
          "LSE fines independen(1)",
          "France strikes down (1)",
          "Trump advisers in 'c(0)",
          "Database of software(1)",
          "Krauthammer on Congr(1)",
          "A neuroscientist exp(0)",
          "Opinion: Can SNL top(0)",
          "Why is Dirty Dancing(1)",
          "Even Trump isn't eno(0)",
          "Issa Rae on How She (1)",
          "Germany's Bavaria to(1)",
          "Columnist: Distrust (0)",
          "KLEIN – Trump-Russia(0)",
          "The mechanics of cav(1)",
          "Bank results spotlig(2)",
          "Prince Charles' god-(1)",
          "Connection control t(1)",
          "Far beyond crime-rid(1)",
          "Less of the burden w(1)",
          "Results will reveal (1)",
          "George Will: Conserv(0)",
          "Are journalists tipt(0)",
          "Pro12: Zebre v Ulste(1)",
          "ESPN reporters writi(1)",
          "Report: Trump not fu(1)",
          "Cop caught on tape s(1)",
          "World's largest sail(1)",
          "Cyber experts report(0)",
          "The dangers of writi(1)",
          "AP Exclusive: Twin t(1)",
          "In-memory de-duplica(0)",
          "Mick Jagger's autobi(1)",
          "What makes influenti(1)",
          "Differences in the r(0)",
          "'Thank you and stay (1)",
          "Board overseeing pro(1)",
          "'This is Us' cast pa(0)",
          "Global pariah(1)",
          "Where are the tools (1)",
          "AP Explains: The obs(0)",
          "Booker: Kellyanne Co(1)",
          "Ivanka, Melania bran(1)",
          "Jawing away: Bahama (1)",
          "NBA Capsules(1)",
          "How can I tell if a (1)",
          "CES 2013: Tactus Tec(1)",
          "Tamara Ecclestone br(1)",
          "War criminal Charles(1)",
          "Markets Spotlight: t(1)",
          "Fmr Clinton Campaign(0)",
          "Trump fully briefed (1)",
          "Tremors in newborn p(1)",
          "Dow Jones industrial(1)",
          "Researchers discover(1)",
          "PERK protein opens l(1)",
          "Faking it: Jake Tapp(1)",
          "Twitter accounts rea(1)",
          "Original Doc(0)",
          "White House was warn(0)",
          "Scotland needs publi(1)",
          "Kremlin: Trump assoc(0)",
          "Trump steps into sec(0)",
          "Lewandowski: If Mana(0)",
          "Music helps and pick(1)",
          "HBOS fraud trial(1)",
          "Russians optimistic (0)",
          "Trading off costs an(1)",
          "Russia has assumed a(0)",
          "Sister of Bataclan t(1)",
          "MSG bans ex-Knicks s(3)",
          "LIVE UPDATES: Former(0)",
          "Last orders at the b(1)",
          "Lloyds to review cus(1)",
          "Federal judge blocks(1)",
          "Microsoft's Surface (1)",
          "Unique project to im(1)",
          "UK real wage growth (1)",
          "MSG bans Charles Oak(1)",
          "Dem Rep Moulton: If (0)",
          "Alt-right leader Ric(1)",
          "Lloyds should act ho(1)",
          "Sherry Turkle: ‘I am(1)",
          "Great Valentine's Da(1)",
          "MPs press Lloyds to (1)",
          "French far-right can(0)",
          "Philly Archbishop ‘A(0)",
          "Imperial Brands back(1)",
          "Rampant narcissism a(1)",
          "Transgender politica(1)",
          "Data Attack - How Te(0)",
          "APNewsBreak: Grand j(1)",
          "One Husband’s Tribut(1)",
          "Lloyds to review HBO(1)",
          "Facts are the reason(1)",
          "Senator keeps cool i(1)",
          "NIST partners 'cutti(1)",
          "Researchers emphasiz(1)",
          "Trump talks about tr(0)",
          "Heterosexual couple (1)",
          "Yes, Warhammer chara(1)",
          "Remember Nixon? Ther(0)",
          "Trump aides spoke re(0)",
          "Manafort, Flynn spok(0)",
          "What's Inside - Vodk(0)",
          "Accounting standards(1)",
          "Journalist apologize(1)",
          "Charles Krauthammer (1)",
          "GOP Senate Intel Mem(0)",
          "Trump campaign aides(0)",
          "Communications exper(0)",
          "Researcher explores (1)",
          "Hate Trump supporter(1)",
          "How former Mexican p(1)",
          "Design FX - Game of (1)",
          "Silence—everyday bet(1)",
          "Trump counters Russi(0)",
          "Microhotplates for a(1)",
          "Spotlight on 3 judge(0)",
          "Doubt over Everest's(1)",
          "'In 50 years, readin(1)",
          "Teens sentenced to r(1)",
          "Knock knock, moos th(0)",
          "15 risks and opportu(1)",
          "Russians Engineer a (0)",
          "Electricity pricing (1)",
          "Dinosaur embryos rev(1)",
          "WIRED April 2014 - C(1)",
          "Dolan says MSG banni(1)",
          "Tiger knocks drone f(1)",
          "AP source: Oakley's (1)",
          "NBPA officers expres(1)",
          "Video: The search fo(1)",
          "Krauthammer: The dan(1)",
          "Queueing technique t(1)",
          "Late-night comedy ru(1)",
          "Abbreviations exclud(1)",
          "Nasa begins testing (1)",
          "Donald Trump Denounc(0)",
          "Am I using this emoj(1)",
          "Congress struggles t(0)",
          "Why are most people (1)",
          "Facts, beliefs, and (1)",
          "Chris Packham: Why I(1)",
          "VIDEO: Charles Oakle(0)",
          "Dems see disparity i(0)",
          "Spill-Proof Cups Are(1)",
          "Brady Campaign: Sess(0)",
          "Charles Oakley: I’ve(1)",
          "Call for scrutiny of(1)",
          "Researchers show via(1)",
          "Tesco-Booker — a ‘me(1)",
          "Defense clearly not (1)",
          "Media escalate Trump(0)",
          "First-ever GPS data (1)",
          "Trump Adviser Miller(1)",
          "Pope spurs Republica(1)",
          "A neuroscientist exp(1)",
          "A neuroscientist exp(1)",
          "Chinese feminists ta(0)",
          "A neuroscientist exp(1)",
          "A neuroscientist exp(0)",
          "Spicer: President Tr(0)",
          "World's tiniest hamm(1)",
          "Lewandowski disagree(0)",
          "Power amplifiers for(1)",
          "Quest to find the 'm(1)",
          "Reducing animal test(1)",
          "It appears the Oiler(1)",
          "Why the Earth is act(1)",
          "Suit over artifact l(1)"
         ],
         "type": "scatter",
         "x": [
          -6.178078991139053,
          -11.355176247912755,
          -3.6471931270329176,
          -3.3609183195267143,
          -13.713867049753938,
          -11.40201413065946,
          -5.305668135625852,
          -6.193642594694446,
          -3.002581208383172,
          -14.018918630615032,
          -4.956455677841072,
          -15.953797481176617,
          -3.684136594292169,
          -5.188763117731376,
          -3.014217307136744,
          -13.72503864579122,
          -5.5606868628221475,
          -12.95422029598588,
          -13.889868260640972,
          -11.722208057949885,
          -14.838886373833402,
          -13.469602721182888,
          -13.421282842315208,
          -5.836113003442199,
          -9.43984702464178,
          -13.979715599240638,
          -14.916485071497744,
          -5.8965513857332645,
          -4.247558337404943,
          -4.903133224618565,
          -9.243291695175037,
          -3.2059529811666354,
          -10.747730119044457,
          -6.561573385093098,
          -12.075137469042582,
          -12.88079425450245,
          -5.503206711226998,
          -14.710043075976875,
          -10.680705289400953,
          -11.96986801292686,
          -11.949124589899004,
          -6.589920670341657,
          -9.445001182998627,
          -12.341464452775313,
          -3.631834298512965,
          -6.980617299185159,
          -13.812869194951775,
          -10.38428518250311,
          -13.488239384273696,
          -3.102271830176371,
          -14.489168620811169,
          -8.335498136427804,
          -3.5450981614441988,
          -8.12741631741353,
          -10.56826368128901,
          -7.424733648768898,
          -10.805873149921057,
          -10.703500072515022,
          -3.0544085152806226,
          -7.56483637469179,
          -15.163142974362497,
          -13.642983348705675,
          -14.550581404051927,
          -5.681597879840976,
          -10.775938171698414,
          -14.311419458172569,
          -14.858379268270992,
          -10.263851384429456,
          -6.3972927373085495,
          -3.819931000860899,
          -11.942871546634484,
          -5.442919590804905,
          -13.197102179360037,
          -12.345143556966459,
          -12.850718139242009,
          -7.128178395063848,
          -10.483350600146865,
          -12.261498943665345,
          -12.900087281018456,
          -10.619988258810183,
          -3.1929490395849145,
          -15.185335092491869,
          -5.282775778011974,
          -13.236477225987986,
          -3.890018096390595,
          -10.980994182527269,
          -4.299798236115684,
          -2.9912284552317407,
          -13.537096610506756,
          -14.005021731026002,
          -5.24974695048549,
          -14.462891867935248,
          -12.32242407686812,
          -13.85101503582916,
          -13.427726029882152,
          -11.815965872922868,
          -13.04465356572712,
          -8.264927994017075,
          -14.027395794310534,
          -4.081654789066221,
          -10.917791500255126,
          -4.584947224697205,
          -5.916898731695291,
          -7.716247023436898,
          -16.162781362707026,
          -12.904237041823563,
          -3.7596532020254823,
          -13.584146493457986,
          -13.441751089432334,
          -12.907640754729615,
          -14.582278534558517,
          -8.853526486805437,
          -8.057948898392322,
          -7.4257473647227,
          -14.7570657120828,
          -13.046705351336772,
          -8.912182757525217,
          -10.990246823384478,
          -5.386818926161954,
          -5.519577826190566,
          -9.469752493698453,
          -12.714023615727218,
          -11.670530996185668,
          -16.235438648181255,
          -5.995951520428974,
          -12.700498433924094,
          -5.7850883907942015,
          -7.864511977425826,
          -10.200372188564254,
          -11.903242820535906,
          -12.14572655546444,
          -4.7539436701421955,
          -9.556638250374549,
          -13.673386623300873,
          -10.159999711093475,
          -12.918576723501182,
          -15.336715642843775,
          -13.485752324101506,
          -12.608722745064354,
          -12.548259461364738,
          -4.012121028534619,
          -11.890506936706867,
          -9.897251272268578,
          -13.610912637176686,
          -12.356415919830226,
          -5.409996295488232,
          -15.827375056035295,
          -6.627431086674426,
          -11.991544400059553,
          -13.612405873935117,
          -5.063765911723638,
          -15.318409941350346,
          -13.912717315656698,
          -6.704239598525509,
          -10.58466903998632,
          -14.424618497382848,
          -12.938629206266983,
          -12.39070970399015,
          -11.549799157354075,
          -12.629951858941117,
          -10.876620155685893,
          -10.207892789581681,
          -6.8613395668689945,
          -8.302042388511717,
          -12.773844683472381,
          -13.551675742174377,
          -15.234399201561038,
          -4.973446428194076,
          -3.5478330858898817,
          -7.173322289908699,
          -7.020803229293822,
          -3.238908987392713,
          -7.54412436447866,
          -12.040651155801354,
          -13.865413814385875,
          -14.197938134224469,
          -6.1944511846115295,
          -13.40775776308866,
          -9.19495706687349,
          -7.782578657657182,
          -15.372073600338794,
          -8.774052337077563,
          -12.684965408096383,
          -12.245780801073543,
          -6.542945921138455,
          -12.407573428884401,
          -13.351672055886201,
          -5.073089420651273,
          -13.453489017595148,
          -14.878990974107236,
          -15.737559793156395,
          -11.007824500327079,
          -14.113963476444026,
          -15.067822716688191,
          -3.9446621061892078,
          -4.603555572052818,
          -3.7193524355014564,
          -11.206212473786957,
          -11.722835280723642,
          -13.808607237373636,
          -4.935844928075623,
          -8.964013651277991,
          -14.17718698076056,
          -12.863841475837656,
          -11.323641335171017,
          -14.628261411278487,
          -10.94275863783377,
          -14.986087504472923,
          -5.376237758369234,
          -12.170458243867694,
          -12.910843834401481,
          -13.637993460243793,
          -14.753674588371817,
          -12.154447470436555,
          -12.284441948806446,
          -13.7703511169154,
          -4.296717978040918,
          -4.903517563765048,
          -13.78065772681429,
          -9.611014621595755,
          -13.991559819591165,
          -5.608249974810387,
          -11.397089114550562,
          -15.195076323567228,
          -11.991238975062986,
          -6.194481379381291,
          -4.31808942168579,
          -7.173525483136541,
          -8.58702779235337,
          -14.898728528329402,
          -11.793479938333844,
          -13.23643931550353,
          -7.1809600431379375,
          -4.564505592387997,
          -11.85499862010832,
          -6.444405956697366,
          -4.462211749629674,
          -11.80173372332277,
          -12.392539355144063,
          -4.221884276582237,
          -13.184852784513687,
          -3.437837457834608,
          -15.523142350203068,
          -5.852849948391481,
          -5.41465654674616,
          -4.915879004064119,
          -11.14647911771022,
          -8.413782367410025,
          -7.0968782985042065,
          -12.413627755794588,
          -5.86844856996267,
          -9.615908603591969,
          -12.581493614509737,
          -14.067819366407043,
          -13.030036553810685,
          -13.007084255175895,
          -5.549642565507122,
          -13.465604535569918,
          -4.223973842704066,
          -13.074216629741809,
          -14.197638723341639,
          -12.734203853902583,
          -6.370044307639769,
          -14.457100733102376,
          -14.700800349225393,
          -3.524424986127427,
          -6.674868422834263,
          -10.251007645281458,
          -13.272428838714013,
          -4.598314248896089,
          -14.284782287057334,
          -15.774714817128526,
          -12.446518716199456,
          -3.0897016600795317,
          -8.703797827218127,
          -6.270261406472756,
          -9.201269049547529,
          -7.865558942575845,
          -15.503181246044218,
          -8.029049197824259,
          -3.0241083257881582,
          -9.750116580698037,
          -3.9308394228096115,
          -9.741210458737246,
          -14.720725521153799,
          -11.897670571538791,
          -5.0768538219521595,
          -5.775718274359518,
          -3.6142497941627334,
          -14.125869821147415,
          -12.77601031504658,
          -4.9915844496230815,
          -13.402038872682441,
          -10.738609963494902,
          -8.74187556148041,
          -4.377264753664229,
          -13.197963156136154,
          -12.800082302337206,
          -15.64783094935959,
          -14.233251817518356,
          -9.595275245512976,
          -4.532628690237402,
          -3.38415529315882,
          -6.104412943086472,
          -15.174279426119066,
          -13.263024710033392,
          -7.894341793927663,
          -9.507361244290879,
          -7.240845118015869,
          -4.237336510651352,
          -11.263788850048781,
          -12.791751733740055,
          -11.429739365262359,
          -12.0448503313882,
          -13.994286400461116,
          -16.358131788434502,
          -14.498939637577397,
          -4.737261954113291,
          -4.084352917242304,
          -5.657622390567298,
          -15.270951640163304,
          -13.207424864625844,
          -11.573787898129877
         ],
         "y": [
          23.511350781712014,
          13.682171823284031,
          21.9614949827932,
          16.678399283326424,
          21.32277923138798,
          24.523596583004885,
          21.1234302883608,
          17.347653024193317,
          19.565545795476,
          21.72493113956793,
          17.903783077932047,
          14.723370676686015,
          15.828362727646057,
          13.880011034251341,
          18.740033298134513,
          20.752200827459543,
          21.621054958225788,
          22.173012221957887,
          20.43968106318603,
          20.221982900095632,
          19.128537172554875,
          21.366730828241682,
          20.731208327312252,
          17.900925919602162,
          21.339818981480747,
          19.090615747944213,
          13.489550636378056,
          23.03248007247587,
          18.20723771351856,
          18.667456380416407,
          14.359347566187658,
          20.815107331999823,
          21.48888986020604,
          13.326895684065411,
          21.88172971181922,
          20.00414689876472,
          13.594778758250092,
          16.190377164988895,
          22.22966651010958,
          22.41278980421849,
          21.792200991998797,
          16.652044531974692,
          20.15381998481574,
          20.311362961497515,
          18.694375092233436,
          24.381654675868525,
          13.406803583378514,
          20.858640990884304,
          22.052657171590635,
          20.369869157186322,
          21.091249032371852,
          12.634582622674323,
          18.06846775961994,
          13.343149698139895,
          20.824710298876187,
          12.42254211584126,
          20.42653191608568,
          22.01548801480612,
          17.898904772306505,
          25.792349324258,
          13.98825681931959,
          20.519633212486255,
          19.624642271113515,
          15.004687954829317,
          12.6197369165944,
          19.971822262725137,
          21.526061738550137,
          13.180947630767221,
          15.241339929201953,
          22.323891335250945,
          20.943028751942535,
          23.422168336300224,
          20.446227226217555,
          21.995363443026463,
          20.929101940708783,
          14.537128600819543,
          13.87370946702034,
          12.238534377286223,
          18.488429619802535,
          11.961946347787869,
          17.50590598550164,
          21.033890967174504,
          17.239596798033094,
          20.35065703675912,
          17.55302531932343,
          18.92772968732724,
          15.189864370818551,
          19.14149122681906,
          19.92320307519968,
          21.876050068264206,
          22.55265933595852,
          22.701920767788163,
          19.080863426314938,
          19.70968323427432,
          21.052187341494502,
          19.29060423218079,
          19.63101236622079,
          25.71094912693479,
          21.396105270096907,
          16.05254792635598,
          19.742127029568135,
          15.71948327575617,
          24.032499863673273,
          12.824026720948323,
          14.93515977310673,
          13.617506805280312,
          16.94465550182758,
          21.910867822678476,
          17.589690474392604,
          20.469607616408755,
          20.217135258366874,
          13.167039122644805,
          14.116563679509301,
          13.737260132183534,
          20.50506469374403,
          20.77588764099713,
          26.184647635585637,
          19.324611435865272,
          24.440457183874862,
          14.300590739520784,
          26.321057245111167,
          24.189137248261808,
          21.09066706630328,
          20.36576649576142,
          13.831379527280129,
          22.212152083511462,
          22.47767071441628,
          25.522594430070836,
          11.922964812624823,
          19.6044514246644,
          20.401750449215392,
          23.654811469072257,
          12.280087375733052,
          23.094740292057637,
          18.707322792195,
          19.762632785571746,
          14.349853673855897,
          19.465977412591247,
          21.38991608678275,
          23.299629798486237,
          22.679285575076463,
          18.6555510556014,
          14.052588038898007,
          18.6772196523297,
          19.76080027239755,
          20.523847554406498,
          21.850844621105583,
          12.809697152722487,
          12.592942074869844,
          24.22476022160976,
          21.951365898195558,
          21.07416326794205,
          21.454212393115643,
          13.918473576630886,
          20.122288006184224,
          22.43415239791516,
          23.42759014175165,
          22.673929128949084,
          21.33677004673493,
          20.42458920482799,
          13.40737124310082,
          12.43642966938347,
          25.28721818848291,
          12.139443993354385,
          19.566330422843407,
          20.329212509114274,
          21.622923707016,
          23.990162409019344,
          16.27108395019927,
          15.323501465363748,
          12.615237212467978,
          17.114270986672878,
          25.28266826000195,
          21.209858966184818,
          16.73569458910048,
          13.171418506614845,
          24.720580155078387,
          23.16466309028817,
          26.237524730304603,
          15.398914607468845,
          20.491665880790695,
          13.937782411028664,
          12.388715803443342,
          22.05487676021708,
          25.239521064691697,
          18.483892921314833,
          19.867140863497806,
          16.459245976619137,
          12.746076823662671,
          19.390836062858266,
          14.528967073400914,
          12.010702243664854,
          20.733964232542867,
          19.80585907837482,
          15.425834940679847,
          21.37025806034987,
          19.879722244960156,
          19.700944560761023,
          13.116750930492408,
          12.94172248974204,
          23.115006610849502,
          12.493078510292026,
          22.950125329389966,
          23.15284384716926,
          12.642694691310354,
          14.221291596828324,
          23.596121969629742,
          22.39991748096667,
          24.007938031916044,
          19.971879414718284,
          21.01436659376408,
          21.53220459934256,
          13.844328509198633,
          20.687358998302738,
          21.025645557579107,
          21.085508206964032,
          22.000730370684224,
          14.184605048080831,
          23.09455563508934,
          20.24224676178515,
          20.390716009399764,
          15.899860088502546,
          12.061235987796394,
          20.79969237926028,
          13.637157603037698,
          13.055318791358825,
          14.829031832203485,
          13.117384168483431,
          14.726888785306425,
          17.282184837691222,
          12.127161410271798,
          20.945151973986814,
          25.569479020139408,
          22.5586678181517,
          20.494921025806526,
          24.044155734734847,
          23.365997578228498,
          21.45649671999348,
          18.707558784445492,
          19.085285869748297,
          13.139941786307634,
          21.578783076053774,
          14.189823829652912,
          13.324639635577109,
          19.900818434305915,
          19.464997279457236,
          22.371393610371104,
          26.053530164042687,
          16.098146229260884,
          19.886962274912875,
          16.760373276774367,
          12.889239374948156,
          12.83296644193224,
          17.758137808118644,
          21.519701600461545,
          21.86972207748751,
          19.154410392274336,
          13.68824090887644,
          16.553054912084303,
          12.582181253713543,
          21.267662103421003,
          21.55340460756357,
          15.983076688771783,
          13.47329359882845,
          18.224889530040656,
          19.318398618640618,
          24.73162030680945,
          22.96466467303902,
          21.97460394894528,
          14.501049453198563,
          18.6935520818868,
          17.61586869831081,
          13.373204901803744,
          19.955648967452934,
          26.008936146912376,
          14.501068749627716,
          11.956331024135874,
          12.271911467707557,
          17.694796174436846,
          25.94364112739702,
          18.335260566523544,
          11.902772732327653,
          21.435441728777914,
          21.914039008164817,
          23.67530227963661,
          23.71837686093763,
          15.429524648393873,
          24.600740149694694,
          20.483709158436724,
          13.791937632405219,
          21.12541781408756,
          14.782233388884098,
          21.793632774845815,
          18.197924148628765,
          12.044580306346445,
          19.938780945288702,
          22.97893370367655,
          21.797200858097636,
          18.70206518528754,
          19.446136122802898,
          21.215455714750416,
          17.181679127231373,
          21.171344360383074,
          25.013008606403165,
          20.114788448159768,
          21.47913495742209,
          14.811120528398838,
          13.580167625007862,
          24.973653896023915,
          23.02538460041186,
          22.384709120747623,
          19.008361465721478,
          22.733989773796388,
          21.57539053726569,
          20.881168702489436,
          18.236593206452522,
          22.044399357519538,
          20.53556028938958,
          20.810603627916294,
          18.49143379140355,
          21.325945280292714,
          18.380917228599227,
          20.603582672482666
         ]
        }
       ],
       "layout": {
        "annotations": [
         {
          "showarrow": false,
          "text": "",
          "x": 0.005,
          "xref": "paper",
          "y": -0.002,
          "yref": "paper"
         }
        ],
        "height": 650,
        "hovermode": "closest",
        "margin": {
         "b": 20,
         "l": 5,
         "r": 5,
         "t": 40
        },
        "showlegend": false,
        "title": "",
        "titlefont": {
         "size": 16
        },
        "width": 650,
        "xaxis": {
         "showgrid": false,
         "showticklabels": false,
         "zeroline": false
        },
        "yaxis": {
         "showgrid": false,
         "showticklabels": false,
         "zeroline": false
        }
       }
      },
      "text/html": [
       "<div id=\"8f3d572e-1ba1-4815-a25c-b5718ade5a50\" style=\"height: 650px; width: 650px;\" class=\"plotly-graph-div\"></div><script type=\"text/javascript\">require([\"plotly\"], function(Plotly) { window.PLOTLYENV=window.PLOTLYENV || {};window.PLOTLYENV.BASE_URL=\"https://plot.ly\";Plotly.newPlot(\"8f3d572e-1ba1-4815-a25c-b5718ade5a50\", [{\"line\": {\"width\": 1.115282557992097, \"color\": \"#888\"}, \"hoverinfo\": \"none\", \"x\": [-11.355176247912755, -10.483350600146865], \"type\": \"scatter\", \"mode\": \"lines\", \"y\": [13.682171823284031, 13.87370946702034]}, {\"line\": {\"width\": 1.2440474851518823, \"color\": \"#888\"}, \"hoverinfo\": \"none\", \"x\": [-3.3609183195267143, -3.684136594292169], \"type\": \"scatter\", \"mode\": \"lines\", \"y\": [16.678399283326424, 15.828362727646057]}, {\"line\": {\"width\": 1.1005697410928188, \"color\": \"#888\"}, \"hoverinfo\": \"none\", \"x\": [-3.3609183195267143, -4.223973842704066], \"type\": \"scatter\", \"mode\": \"lines\", \"y\": [16.678399283326424, 16.553054912084303]}, {\"line\": {\"width\": 2.57796079280327, \"color\": \"#888\"}, \"hoverinfo\": \"none\", \"x\": [-13.713867049753938, -13.72503864579122], \"type\": \"scatter\", \"mode\": \"lines\", \"y\": [21.32277923138798, 20.752200827459543]}, {\"line\": {\"width\": 1.688432886253182, \"color\": \"#888\"}, \"hoverinfo\": \"none\", \"x\": [-13.713867049753938, -12.95422029598588], \"type\": \"scatter\", \"mode\": \"lines\", \"y\": [21.32277923138798, 22.173012221957887]}, {\"line\": {\"width\": 1.2257949000301616, \"color\": \"#888\"}, \"hoverinfo\": \"none\", \"x\": [-13.713867049753938, -13.889868260640972], \"type\": \"scatter\", \"mode\": \"lines\", \"y\": [21.32277923138798, 20.43968106318603]}, {\"line\": {\"width\": 1.0391568865601106, \"color\": \"#888\"}, \"hoverinfo\": \"none\", \"x\": [-13.713867049753938, -13.469602721182888], \"type\": \"scatter\", \"mode\": \"lines\", \"y\": [21.32277923138798, 21.366730828241682]}, {\"line\": {\"width\": 2.2116175509868015, \"color\": \"#888\"}, \"hoverinfo\": \"none\", \"x\": [-13.713867049753938, -13.421282842315208], \"type\": \"scatter\", \"mode\": \"lines\", \"y\": [21.32277923138798, 20.731208327312252]}, {\"line\": {\"width\": 1.0146110052408288, \"color\": \"#888\"}, \"hoverinfo\": \"none\", \"x\": [-13.713867049753938, -13.488239384273696], \"type\": \"scatter\", \"mode\": \"lines\", \"y\": [21.32277923138798, 22.052657171590635]}, {\"line\": {\"width\": 1.0658626000410127, \"color\": \"#888\"}, \"hoverinfo\": \"none\", \"x\": [-13.713867049753938, -14.311419458172569], \"type\": \"scatter\", \"mode\": \"lines\", \"y\": [21.32277923138798, 19.971822262725137]}, {\"line\": {\"width\": 1.9540570469077267, \"color\": \"#888\"}, \"hoverinfo\": \"none\", \"x\": [-13.713867049753938, -13.197102179360037], \"type\": \"scatter\", \"mode\": \"lines\", \"y\": [21.32277923138798, 20.446227226217555]}, {\"line\": {\"width\": 2.5970015432787803, \"color\": \"#888\"}, \"hoverinfo\": \"none\", \"x\": [-13.713867049753938, -12.850718139242009], \"type\": \"scatter\", \"mode\": \"lines\", \"y\": [21.32277923138798, 20.929101940708783]}, {\"line\": {\"width\": 1.0701516595661367, \"color\": \"#888\"}, \"hoverinfo\": \"none\", \"x\": [-13.713867049753938, -13.427726029882152], \"type\": \"scatter\", \"mode\": \"lines\", \"y\": [21.32277923138798, 21.052187341494502]}, {\"line\": {\"width\": 1.3700281403734758, \"color\": \"#888\"}, \"hoverinfo\": \"none\", \"x\": [-13.713867049753938, -13.584146493457986], \"type\": \"scatter\", \"mode\": \"lines\", \"y\": [21.32277923138798, 21.910867822678476]}, {\"line\": {\"width\": 1.131212427299267, \"color\": \"#888\"}, \"hoverinfo\": \"none\", \"x\": [-13.713867049753938, -12.907640754729615], \"type\": \"scatter\", \"mode\": \"lines\", \"y\": [21.32277923138798, 20.469607616408755]}, {\"line\": {\"width\": 1.1525315474835547, \"color\": \"#888\"}, \"hoverinfo\": \"none\", \"x\": [-13.713867049753938, -13.046705351336772], \"type\": \"scatter\", \"mode\": \"lines\", \"y\": [21.32277923138798, 20.77588764099713]}, {\"line\": {\"width\": 1.0835943663577714, \"color\": \"#888\"}, \"hoverinfo\": \"none\", \"x\": [-13.713867049753938, -12.608722745064354], \"type\": \"scatter\", \"mode\": \"lines\", \"y\": [21.32277923138798, 21.38991608678275]}, {\"line\": {\"width\": 1.1089762962374756, \"color\": \"#888\"}, \"hoverinfo\": \"none\", \"x\": [-13.713867049753938, -14.424618497382848], \"type\": \"scatter\", \"mode\": \"lines\", \"y\": [21.32277923138798, 22.43415239791516]}, {\"line\": {\"width\": 2.566209840487566, \"color\": \"#888\"}, \"hoverinfo\": \"none\", \"x\": [-13.713867049753938, -12.910843834401481], \"type\": \"scatter\", \"mode\": \"lines\", \"y\": [21.32277923138798, 21.01436659376408]}, {\"line\": {\"width\": 1.8558220971677355, \"color\": \"#888\"}, \"hoverinfo\": \"none\", \"x\": [-13.713867049753938, -13.7703511169154], \"type\": \"scatter\", \"mode\": \"lines\", \"y\": [21.32277923138798, 21.085508206964032]}, {\"line\": {\"width\": 1.3967176642256418, \"color\": \"#888\"}, \"hoverinfo\": \"none\", \"x\": [-13.713867049753938, -13.991559819591165], \"type\": \"scatter\", \"mode\": \"lines\", \"y\": [21.32277923138798, 20.390716009399764]}, {\"line\": {\"width\": 1.0013450411217402, \"color\": \"#888\"}, \"hoverinfo\": \"none\", \"x\": [-13.713867049753938, -13.23643931550353], \"type\": \"scatter\", \"mode\": \"lines\", \"y\": [21.32277923138798, 20.945151973986814]}, {\"line\": {\"width\": 2.594732521752629, \"color\": \"#888\"}, \"hoverinfo\": \"none\", \"x\": [-13.713867049753938, -13.030036553810685], \"type\": \"scatter\", \"mode\": \"lines\", \"y\": [21.32277923138798, 21.519701600461545]}, {\"line\": {\"width\": 1.125722206490517, \"color\": \"#888\"}, \"hoverinfo\": \"none\", \"x\": [-13.713867049753938, -13.007084255175895], \"type\": \"scatter\", \"mode\": \"lines\", \"y\": [21.32277923138798, 21.86972207748751]}, {\"line\": {\"width\": 1.4856575845695517, \"color\": \"#888\"}, \"hoverinfo\": \"none\", \"x\": [-13.713867049753938, -12.734203853902583], \"type\": \"scatter\", \"mode\": \"lines\", \"y\": [21.32277923138798, 21.55340460756357]}, {\"line\": {\"width\": 1.9203746711802538, \"color\": \"#888\"}, \"hoverinfo\": \"none\", \"x\": [-13.713867049753938, -13.272428838714013], \"type\": \"scatter\", \"mode\": \"lines\", \"y\": [21.32277923138798, 21.97460394894528]}, {\"line\": {\"width\": 1.8380743319748538, \"color\": \"#888\"}, \"hoverinfo\": \"none\", \"x\": [-13.713867049753938, -12.77601031504658], \"type\": \"scatter\", \"mode\": \"lines\", \"y\": [21.32277923138798, 21.12541781408756]}, {\"line\": {\"width\": 1.139791026075272, \"color\": \"#888\"}, \"hoverinfo\": \"none\", \"x\": [-13.713867049753938, -14.498939637577397], \"type\": \"scatter\", \"mode\": \"lines\", \"y\": [21.32277923138798, 22.044399357519538]}, {\"line\": {\"width\": 1.2012258368689315, \"color\": \"#888\"}, \"hoverinfo\": \"none\", \"x\": [-11.40201413065946, -11.897670571538791], \"type\": \"scatter\", \"mode\": \"lines\", \"y\": [24.523596583004885, 23.71837686093763]}, {\"line\": {\"width\": 1.0782829460041476, \"color\": \"#888\"}, \"hoverinfo\": \"none\", \"x\": [-14.018918630615032, -14.858379268270992], \"type\": \"scatter\", \"mode\": \"lines\", \"y\": [21.72493113956793, 21.526061738550137]}, {\"line\": {\"width\": 1.316503749556375, \"color\": \"#888\"}, \"hoverinfo\": \"none\", \"x\": [-14.018918630615032, -12.850718139242009], \"type\": \"scatter\", \"mode\": \"lines\", \"y\": [21.72493113956793, 20.929101940708783]}, {\"line\": {\"width\": 1.0300976654409664, \"color\": \"#888\"}, \"hoverinfo\": \"none\", \"x\": [-14.018918630615032, -15.185335092491869], \"type\": \"scatter\", \"mode\": \"lines\", \"y\": [21.72493113956793, 21.033890967174504]}, {\"line\": {\"width\": 1.3322819258072858, \"color\": \"#888\"}, \"hoverinfo\": \"none\", \"x\": [-14.018918630615032, -12.629951858941117], \"type\": \"scatter\", \"mode\": \"lines\", \"y\": [21.72493113956793, 20.42458920482799]}, {\"line\": {\"width\": 1.013889391058027, \"color\": \"#888\"}, \"hoverinfo\": \"none\", \"x\": [-14.018918630615032, -14.986087504472923], \"type\": \"scatter\", \"mode\": \"lines\", \"y\": [21.72493113956793, 22.39991748096667]}, {\"line\": {\"width\": 1.3015663196802976, \"color\": \"#888\"}, \"hoverinfo\": \"none\", \"x\": [-14.018918630615032, -12.910843834401481], \"type\": \"scatter\", \"mode\": \"lines\", \"y\": [21.72493113956793, 21.01436659376408]}, {\"line\": {\"width\": 1.2440474851518823, \"color\": \"#888\"}, \"hoverinfo\": \"none\", \"x\": [-3.3609183195267143, -3.684136594292169], \"type\": \"scatter\", \"mode\": \"lines\", \"y\": [16.678399283326424, 15.828362727646057]}, {\"line\": {\"width\": 1.000820496717732, \"color\": \"#888\"}, \"hoverinfo\": \"none\", \"x\": [-3.684136594292169, -4.584947224697205], \"type\": \"scatter\", \"mode\": \"lines\", \"y\": [15.828362727646057, 15.71948327575617]}, {\"line\": {\"width\": 1.141494085803745, \"color\": \"#888\"}, \"hoverinfo\": \"none\", \"x\": [-3.684136594292169, -4.223973842704066], \"type\": \"scatter\", \"mode\": \"lines\", \"y\": [15.828362727646057, 16.553054912084303]}, {\"line\": {\"width\": 2.57796079280327, \"color\": \"#888\"}, \"hoverinfo\": \"none\", \"x\": [-13.713867049753938, -13.72503864579122], \"type\": \"scatter\", \"mode\": \"lines\", \"y\": [21.32277923138798, 20.752200827459543]}, {\"line\": {\"width\": 1.6462838852561803, \"color\": \"#888\"}, \"hoverinfo\": \"none\", \"x\": [-13.72503864579122, -12.95422029598588], \"type\": \"scatter\", \"mode\": \"lines\", \"y\": [20.752200827459543, 22.173012221957887]}, {\"line\": {\"width\": 1.0898044016075892, \"color\": \"#888\"}, \"hoverinfo\": \"none\", \"x\": [-13.72503864579122, -13.469602721182888], \"type\": \"scatter\", \"mode\": \"lines\", \"y\": [20.752200827459543, 21.366730828241682]}, {\"line\": {\"width\": 1.5516215965526432, \"color\": \"#888\"}, \"hoverinfo\": \"none\", \"x\": [-13.72503864579122, -13.421282842315208], \"type\": \"scatter\", \"mode\": \"lines\", \"y\": [20.752200827459543, 20.731208327312252]}, {\"line\": {\"width\": 1.056647300658568, \"color\": \"#888\"}, \"hoverinfo\": \"none\", \"x\": [-13.72503864579122, -13.197102179360037], \"type\": \"scatter\", \"mode\": \"lines\", \"y\": [20.752200827459543, 20.446227226217555]}, {\"line\": {\"width\": 1.9040831646216727, \"color\": \"#888\"}, \"hoverinfo\": \"none\", \"x\": [-13.72503864579122, -12.850718139242009], \"type\": \"scatter\", \"mode\": \"lines\", \"y\": [20.752200827459543, 20.929101940708783]}, {\"line\": {\"width\": 1.3893448469619396, \"color\": \"#888\"}, \"hoverinfo\": \"none\", \"x\": [-13.72503864579122, -13.85101503582916], \"type\": \"scatter\", \"mode\": \"lines\", \"y\": [20.752200827459543, 19.70968323427432]}, {\"line\": {\"width\": 1.1821213295208606, \"color\": \"#888\"}, \"hoverinfo\": \"none\", \"x\": [-13.72503864579122, -12.907640754729615], \"type\": \"scatter\", \"mode\": \"lines\", \"y\": [20.752200827459543, 20.469607616408755]}, {\"line\": {\"width\": 1.2848271338362474, \"color\": \"#888\"}, \"hoverinfo\": \"none\", \"x\": [-13.72503864579122, -13.046705351336772], \"type\": \"scatter\", \"mode\": \"lines\", \"y\": [20.752200827459543, 20.77588764099713]}, {\"line\": {\"width\": 1.0390646546923523, \"color\": \"#888\"}, \"hoverinfo\": \"none\", \"x\": [-13.72503864579122, -13.485752324101506], \"type\": \"scatter\", \"mode\": \"lines\", \"y\": [20.752200827459543, 19.465977412591247]}, {\"line\": {\"width\": 1.8814560634855202, \"color\": \"#888\"}, \"hoverinfo\": \"none\", \"x\": [-13.72503864579122, -12.910843834401481], \"type\": \"scatter\", \"mode\": \"lines\", \"y\": [20.752200827459543, 21.01436659376408]}, {\"line\": {\"width\": 1.5971025916330828, \"color\": \"#888\"}, \"hoverinfo\": \"none\", \"x\": [-13.72503864579122, -13.7703511169154], \"type\": \"scatter\", \"mode\": \"lines\", \"y\": [20.752200827459543, 21.085508206964032]}, {\"line\": {\"width\": 1.1569261667352864, \"color\": \"#888\"}, \"hoverinfo\": \"none\", \"x\": [-13.72503864579122, -13.991559819591165], \"type\": \"scatter\", \"mode\": \"lines\", \"y\": [20.752200827459543, 20.390716009399764]}, {\"line\": {\"width\": 1.097869395831777, \"color\": \"#888\"}, \"hoverinfo\": \"none\", \"x\": [-13.72503864579122, -15.195076323567228], \"type\": \"scatter\", \"mode\": \"lines\", \"y\": [20.752200827459543, 20.79969237926028]}, {\"line\": {\"width\": 2.1605356418869786, \"color\": \"#888\"}, \"hoverinfo\": \"none\", \"x\": [-13.72503864579122, -13.030036553810685], \"type\": \"scatter\", \"mode\": \"lines\", \"y\": [20.752200827459543, 21.519701600461545]}, {\"line\": {\"width\": 1.2420276032284574, \"color\": \"#888\"}, \"hoverinfo\": \"none\", \"x\": [-13.72503864579122, -13.007084255175895], \"type\": \"scatter\", \"mode\": \"lines\", \"y\": [20.752200827459543, 21.86972207748751]}, {\"line\": {\"width\": 1.3210428627216877, \"color\": \"#888\"}, \"hoverinfo\": \"none\", \"x\": [-13.72503864579122, -12.77601031504658], \"type\": \"scatter\", \"mode\": \"lines\", \"y\": [20.752200827459543, 21.12541781408756]}, {\"line\": {\"width\": 1.0221615441390333, \"color\": \"#888\"}, \"hoverinfo\": \"none\", \"x\": [-5.5606868628221475, -5.7850883907942015], \"type\": \"scatter\", \"mode\": \"lines\", \"y\": [21.621054958225788, 22.47767071441628]}, {\"line\": {\"width\": 1.688432886253182, \"color\": \"#888\"}, \"hoverinfo\": \"none\", \"x\": [-13.713867049753938, -12.95422029598588], \"type\": \"scatter\", \"mode\": \"lines\", \"y\": [21.32277923138798, 22.173012221957887]}, {\"line\": {\"width\": 1.6462838852561803, \"color\": \"#888\"}, \"hoverinfo\": \"none\", \"x\": [-13.72503864579122, -12.95422029598588], \"type\": \"scatter\", \"mode\": \"lines\", \"y\": [20.752200827459543, 22.173012221957887]}, {\"line\": {\"width\": 1.0243173114834625, \"color\": \"#888\"}, \"hoverinfo\": \"none\", \"x\": [-12.95422029598588, -13.488239384273696], \"type\": \"scatter\", \"mode\": \"lines\", \"y\": [22.173012221957887, 22.052657171590635]}, {\"line\": {\"width\": 1.7510529183333121, \"color\": \"#888\"}, \"hoverinfo\": \"none\", \"x\": [-12.95422029598588, -12.850718139242009], \"type\": \"scatter\", \"mode\": \"lines\", \"y\": [22.173012221957887, 20.929101940708783]}, {\"line\": {\"width\": 1.39459880184587, \"color\": \"#888\"}, \"hoverinfo\": \"none\", \"x\": [-12.95422029598588, -13.046705351336772], \"type\": \"scatter\", \"mode\": \"lines\", \"y\": [22.173012221957887, 20.77588764099713]}, {\"line\": {\"width\": 1.1398534458016778, \"color\": \"#888\"}, \"hoverinfo\": \"none\", \"x\": [-12.95422029598588, -12.608722745064354], \"type\": \"scatter\", \"mode\": \"lines\", \"y\": [22.173012221957887, 21.38991608678275]}, {\"line\": {\"width\": 1.013897428648376, \"color\": \"#888\"}, \"hoverinfo\": \"none\", \"x\": [-12.95422029598588, -12.548259461364738], \"type\": \"scatter\", \"mode\": \"lines\", \"y\": [22.173012221957887, 23.299629798486237]}, {\"line\": {\"width\": 1.0435661629413735, \"color\": \"#888\"}, \"hoverinfo\": \"none\", \"x\": [-12.95422029598588, -12.938629206266983], \"type\": \"scatter\", \"mode\": \"lines\", \"y\": [22.173012221957887, 23.42759014175165]}, {\"line\": {\"width\": 1.7937621694778214, \"color\": \"#888\"}, \"hoverinfo\": \"none\", \"x\": [-12.95422029598588, -12.910843834401481], \"type\": \"scatter\", \"mode\": \"lines\", \"y\": [22.173012221957887, 21.01436659376408]}, {\"line\": {\"width\": 1.0478064520326373, \"color\": \"#888\"}, \"hoverinfo\": \"none\", \"x\": [-12.95422029598588, -13.78065772681429], \"type\": \"scatter\", \"mode\": \"lines\", \"y\": [22.173012221957887, 23.09455563508934]}, {\"line\": {\"width\": 1.8961156323569186, \"color\": \"#888\"}, \"hoverinfo\": \"none\", \"x\": [-12.95422029598588, -13.030036553810685], \"type\": \"scatter\", \"mode\": \"lines\", \"y\": [22.173012221957887, 21.519701600461545]}, {\"line\": {\"width\": 1.000399796657459, \"color\": \"#888\"}, \"hoverinfo\": \"none\", \"x\": [-12.95422029598588, -12.0448503313882], \"type\": \"scatter\", \"mode\": \"lines\", \"y\": [22.173012221957887, 21.57539053726569]}, {\"line\": {\"width\": 1.2257949000301616, \"color\": \"#888\"}, \"hoverinfo\": \"none\", \"x\": [-13.713867049753938, -13.889868260640972], \"type\": \"scatter\", \"mode\": \"lines\", \"y\": [21.32277923138798, 20.43968106318603]}, {\"line\": {\"width\": 1.1894159615287128, \"color\": \"#888\"}, \"hoverinfo\": \"none\", \"x\": [-13.889868260640972, -13.469602721182888], \"type\": \"scatter\", \"mode\": \"lines\", \"y\": [20.43968106318603, 21.366730828241682]}, {\"line\": {\"width\": 1.0391893033339408, \"color\": \"#888\"}, \"hoverinfo\": \"none\", \"x\": [-13.889868260640972, -13.421282842315208], \"type\": \"scatter\", \"mode\": \"lines\", \"y\": [20.43968106318603, 20.731208327312252]}, {\"line\": {\"width\": 1.1543609904258387, \"color\": \"#888\"}, \"hoverinfo\": \"none\", \"x\": [-13.889868260640972, -12.88079425450245], \"type\": \"scatter\", \"mode\": \"lines\", \"y\": [20.43968106318603, 20.00414689876472]}, {\"line\": {\"width\": 1.257201928708477, \"color\": \"#888\"}, \"hoverinfo\": \"none\", \"x\": [-13.889868260640972, -14.858379268270992], \"type\": \"scatter\", \"mode\": \"lines\", \"y\": [20.43968106318603, 21.526061738550137]}, {\"line\": {\"width\": 1.1269075202535626, \"color\": \"#888\"}, \"hoverinfo\": \"none\", \"x\": [-13.889868260640972, -12.850718139242009], \"type\": \"scatter\", \"mode\": \"lines\", \"y\": [20.43968106318603, 20.929101940708783]}, {\"line\": {\"width\": 1.0103215443084737, \"color\": \"#888\"}, \"hoverinfo\": \"none\", \"x\": [-13.889868260640972, -15.185335092491869], \"type\": \"scatter\", \"mode\": \"lines\", \"y\": [20.43968106318603, 21.033890967174504]}, {\"line\": {\"width\": 1.0829103671353115, \"color\": \"#888\"}, \"hoverinfo\": \"none\", \"x\": [-13.889868260640972, -13.537096610506756], \"type\": \"scatter\", \"mode\": \"lines\", \"y\": [20.43968106318603, 19.92320307519968]}, {\"line\": {\"width\": 1.0446384886259727, \"color\": \"#888\"}, \"hoverinfo\": \"none\", \"x\": [-13.889868260640972, -14.005021731026002], \"type\": \"scatter\", \"mode\": \"lines\", \"y\": [20.43968106318603, 21.876050068264206]}, {\"line\": {\"width\": 1.205932253920299, \"color\": \"#888\"}, \"hoverinfo\": \"none\", \"x\": [-13.889868260640972, -13.85101503582916], \"type\": \"scatter\", \"mode\": \"lines\", \"y\": [20.43968106318603, 19.70968323427432]}, {\"line\": {\"width\": 1.0679677767616238, \"color\": \"#888\"}, \"hoverinfo\": \"none\", \"x\": [-13.889868260640972, -13.046705351336772], \"type\": \"scatter\", \"mode\": \"lines\", \"y\": [20.43968106318603, 20.77588764099713]}, {\"line\": {\"width\": 1.2391513453871246, \"color\": \"#888\"}, \"hoverinfo\": \"none\", \"x\": [-13.889868260640972, -12.918576723501182], \"type\": \"scatter\", \"mode\": \"lines\", \"y\": [20.43968106318603, 19.762632785571746]}, {\"line\": {\"width\": 1.0103277113363722, \"color\": \"#888\"}, \"hoverinfo\": \"none\", \"x\": [-13.889868260640972, -13.485752324101506], \"type\": \"scatter\", \"mode\": \"lines\", \"y\": [20.43968106318603, 19.465977412591247]}, {\"line\": {\"width\": 1.1074856560433903, \"color\": \"#888\"}, \"hoverinfo\": \"none\", \"x\": [-13.889868260640972, -13.351672055886201], \"type\": \"scatter\", \"mode\": \"lines\", \"y\": [20.43968106318603, 19.867140863497806]}, {\"line\": {\"width\": 1.1107805467841665, \"color\": \"#888\"}, \"hoverinfo\": \"none\", \"x\": [-13.889868260640972, -12.910843834401481], \"type\": \"scatter\", \"mode\": \"lines\", \"y\": [20.43968106318603, 21.01436659376408]}, {\"line\": {\"width\": 1.0025563006527958, \"color\": \"#888\"}, \"hoverinfo\": \"none\", \"x\": [-11.722208057949885, -12.850718139242009], \"type\": \"scatter\", \"mode\": \"lines\", \"y\": [20.221982900095632, 20.929101940708783]}, {\"line\": {\"width\": 1.074719847328358, \"color\": \"#888\"}, \"hoverinfo\": \"none\", \"x\": [-11.722208057949885, -10.917791500255126], \"type\": \"scatter\", \"mode\": \"lines\", \"y\": [20.221982900095632, 19.742127029568135]}, {\"line\": {\"width\": 1.1563698198762682, \"color\": \"#888\"}, \"hoverinfo\": \"none\", \"x\": [-11.722208057949885, -10.990246823384478], \"type\": \"scatter\", \"mode\": \"lines\", \"y\": [20.221982900095632, 19.324611435865272]}, {\"line\": {\"width\": 1.5760945006102047, \"color\": \"#888\"}, \"hoverinfo\": \"none\", \"x\": [-11.722208057949885, -10.58466903998632], \"type\": \"scatter\", \"mode\": \"lines\", \"y\": [20.221982900095632, 20.122288006184224]}, {\"line\": {\"width\": 1.4590317114047062, \"color\": \"#888\"}, \"hoverinfo\": \"none\", \"x\": [-11.722208057949885, -11.573787898129877], \"type\": \"scatter\", \"mode\": \"lines\", \"y\": [20.221982900095632, 20.603582672482666]}, {\"line\": {\"width\": 1.1648818215959975, \"color\": \"#888\"}, \"hoverinfo\": \"none\", \"x\": [-14.838886373833402, -13.979715599240638], \"type\": \"scatter\", \"mode\": \"lines\", \"y\": [19.128537172554875, 19.090615747944213]}, {\"line\": {\"width\": 1.01777505967313, \"color\": \"#888\"}, \"hoverinfo\": \"none\", \"x\": [-14.838886373833402, -14.550581404051927], \"type\": \"scatter\", \"mode\": \"lines\", \"y\": [19.128537172554875, 19.624642271113515]}, {\"line\": {\"width\": 1.12938419146808, \"color\": \"#888\"}, \"hoverinfo\": \"none\", \"x\": [-14.838886373833402, -14.311419458172569], \"type\": \"scatter\", \"mode\": \"lines\", \"y\": [19.128537172554875, 19.971822262725137]}, {\"line\": {\"width\": 1.0249025539761067, \"color\": \"#888\"}, \"hoverinfo\": \"none\", \"x\": [-14.838886373833402, -13.85101503582916], \"type\": \"scatter\", \"mode\": \"lines\", \"y\": [19.128537172554875, 19.70968323427432]}, {\"line\": {\"width\": 1.0391568865601106, \"color\": \"#888\"}, \"hoverinfo\": \"none\", \"x\": [-13.713867049753938, -13.469602721182888], \"type\": \"scatter\", \"mode\": \"lines\", \"y\": [21.32277923138798, 21.366730828241682]}, {\"line\": {\"width\": 1.0898044016075892, \"color\": \"#888\"}, \"hoverinfo\": \"none\", \"x\": [-13.72503864579122, -13.469602721182888], \"type\": \"scatter\", \"mode\": \"lines\", \"y\": [20.752200827459543, 21.366730828241682]}, {\"line\": {\"width\": 1.1894159615287128, \"color\": \"#888\"}, \"hoverinfo\": \"none\", \"x\": [-13.889868260640972, -13.469602721182888], \"type\": \"scatter\", \"mode\": \"lines\", \"y\": [20.43968106318603, 21.366730828241682]}, {\"line\": {\"width\": 1.519327217101608, \"color\": \"#888\"}, \"hoverinfo\": \"none\", \"x\": [-13.469602721182888, -13.421282842315208], \"type\": \"scatter\", \"mode\": \"lines\", \"y\": [21.366730828241682, 20.731208327312252]}, {\"line\": {\"width\": 1.0172628459319746, \"color\": \"#888\"}, \"hoverinfo\": \"none\", \"x\": [-13.469602721182888, -14.858379268270992], \"type\": \"scatter\", \"mode\": \"lines\", \"y\": [21.366730828241682, 21.526061738550137]}, {\"line\": {\"width\": 1.1856272885034096, \"color\": \"#888\"}, \"hoverinfo\": \"none\", \"x\": [-13.469602721182888, -13.197102179360037], \"type\": \"scatter\", \"mode\": \"lines\", \"y\": [21.366730828241682, 20.446227226217555]}, {\"line\": {\"width\": 1.9291399195771364, \"color\": \"#888\"}, \"hoverinfo\": \"none\", \"x\": [-13.469602721182888, -12.850718139242009], \"type\": \"scatter\", \"mode\": \"lines\", \"y\": [21.366730828241682, 20.929101940708783]}, {\"line\": {\"width\": 1.1609738192550456, \"color\": \"#888\"}, \"hoverinfo\": \"none\", \"x\": [-13.469602721182888, -13.584146493457986], \"type\": \"scatter\", \"mode\": \"lines\", \"y\": [21.366730828241682, 21.910867822678476]}, {\"line\": {\"width\": 1.2804779185775017, \"color\": \"#888\"}, \"hoverinfo\": \"none\", \"x\": [-13.469602721182888, -12.907640754729615], \"type\": \"scatter\", \"mode\": \"lines\", \"y\": [21.366730828241682, 20.469607616408755]}, {\"line\": {\"width\": 1.2091363920549865, \"color\": \"#888\"}, \"hoverinfo\": \"none\", \"x\": [-13.469602721182888, -13.046705351336772], \"type\": \"scatter\", \"mode\": \"lines\", \"y\": [21.366730828241682, 20.77588764099713]}, {\"line\": {\"width\": 1.0639997301915696, \"color\": \"#888\"}, \"hoverinfo\": \"none\", \"x\": [-13.469602721182888, -13.551675742174377], \"type\": \"scatter\", \"mode\": \"lines\", \"y\": [21.366730828241682, 20.329212509114274]}, {\"line\": {\"width\": 1.9066601669415097, \"color\": \"#888\"}, \"hoverinfo\": \"none\", \"x\": [-13.469602721182888, -12.910843834401481], \"type\": \"scatter\", \"mode\": \"lines\", \"y\": [21.366730828241682, 21.01436659376408]}, {\"line\": {\"width\": 1.6347214072895269, \"color\": \"#888\"}, \"hoverinfo\": \"none\", \"x\": [-13.469602721182888, -13.7703511169154], \"type\": \"scatter\", \"mode\": \"lines\", \"y\": [21.366730828241682, 21.085508206964032]}, {\"line\": {\"width\": 1.2278487481778746, \"color\": \"#888\"}, \"hoverinfo\": \"none\", \"x\": [-13.469602721182888, -13.030036553810685], \"type\": \"scatter\", \"mode\": \"lines\", \"y\": [21.366730828241682, 21.519701600461545]}, {\"line\": {\"width\": 1.0943983333337945, \"color\": \"#888\"}, \"hoverinfo\": \"none\", \"x\": [-13.469602721182888, -13.007084255175895], \"type\": \"scatter\", \"mode\": \"lines\", \"y\": [21.366730828241682, 21.86972207748751]}, {\"line\": {\"width\": 1.6196872997136325, \"color\": \"#888\"}, \"hoverinfo\": \"none\", \"x\": [-13.469602721182888, -14.197638723341639], \"type\": \"scatter\", \"mode\": \"lines\", \"y\": [21.366730828241682, 21.267662103421003]}, {\"line\": {\"width\": 1.295861474926493, \"color\": \"#888\"}, \"hoverinfo\": \"none\", \"x\": [-13.469602721182888, -12.734203853902583], \"type\": \"scatter\", \"mode\": \"lines\", \"y\": [21.366730828241682, 21.55340460756357]}, {\"line\": {\"width\": 1.1099042947056785, \"color\": \"#888\"}, \"hoverinfo\": \"none\", \"x\": [-13.469602721182888, -12.77601031504658], \"type\": \"scatter\", \"mode\": \"lines\", \"y\": [21.366730828241682, 21.12541781408756]}, {\"line\": {\"width\": 1.3857138204432617, \"color\": \"#888\"}, \"hoverinfo\": \"none\", \"x\": [-13.469602721182888, -12.800082302337206], \"type\": \"scatter\", \"mode\": \"lines\", \"y\": [21.366730828241682, 21.797200858097636]}, {\"line\": {\"width\": 2.2116175509868015, \"color\": \"#888\"}, \"hoverinfo\": \"none\", \"x\": [-13.713867049753938, -13.421282842315208], \"type\": \"scatter\", \"mode\": \"lines\", \"y\": [21.32277923138798, 20.731208327312252]}, {\"line\": {\"width\": 1.5516215965526432, \"color\": \"#888\"}, \"hoverinfo\": \"none\", \"x\": [-13.72503864579122, -13.421282842315208], \"type\": \"scatter\", \"mode\": \"lines\", \"y\": [20.752200827459543, 20.731208327312252]}, {\"line\": {\"width\": 1.0391893033339408, \"color\": \"#888\"}, \"hoverinfo\": \"none\", \"x\": [-13.889868260640972, -13.421282842315208], \"type\": \"scatter\", \"mode\": \"lines\", \"y\": [20.43968106318603, 20.731208327312252]}, {\"line\": {\"width\": 1.519327217101608, \"color\": \"#888\"}, \"hoverinfo\": \"none\", \"x\": [-13.469602721182888, -13.421282842315208], \"type\": \"scatter\", \"mode\": \"lines\", \"y\": [21.366730828241682, 20.731208327312252]}, {\"line\": {\"width\": 1.1219332819026966, \"color\": \"#888\"}, \"hoverinfo\": \"none\", \"x\": [-13.421282842315208, -14.311419458172569], \"type\": \"scatter\", \"mode\": \"lines\", \"y\": [20.731208327312252, 19.971822262725137]}, {\"line\": {\"width\": 1.4691872548797291, \"color\": \"#888\"}, \"hoverinfo\": \"none\", \"x\": [-13.421282842315208, -13.197102179360037], \"type\": \"scatter\", \"mode\": \"lines\", \"y\": [20.731208327312252, 20.446227226217555]}, {\"line\": {\"width\": 1.713190769748516, \"color\": \"#888\"}, \"hoverinfo\": \"none\", \"x\": [-13.421282842315208, -12.850718139242009], \"type\": \"scatter\", \"mode\": \"lines\", \"y\": [20.731208327312252, 20.929101940708783]}, {\"line\": {\"width\": 1.0176904302730432, \"color\": \"#888\"}, \"hoverinfo\": \"none\", \"x\": [-13.421282842315208, -13.584146493457986], \"type\": \"scatter\", \"mode\": \"lines\", \"y\": [20.731208327312252, 21.910867822678476]}, {\"line\": {\"width\": 1.1432091321237943, \"color\": \"#888\"}, \"hoverinfo\": \"none\", \"x\": [-13.421282842315208, -12.907640754729615], \"type\": \"scatter\", \"mode\": \"lines\", \"y\": [20.731208327312252, 20.469607616408755]}, {\"line\": {\"width\": 1.4659683233129517, \"color\": \"#888\"}, \"hoverinfo\": \"none\", \"x\": [-13.421282842315208, -13.046705351336772], \"type\": \"scatter\", \"mode\": \"lines\", \"y\": [20.731208327312252, 20.77588764099713]}, {\"line\": {\"width\": 1.0644477275027557, \"color\": \"#888\"}, \"hoverinfo\": \"none\", \"x\": [-13.421282842315208, -12.14572655546444], \"type\": \"scatter\", \"mode\": \"lines\", \"y\": [20.731208327312252, 20.401750449215392]}, {\"line\": {\"width\": 1.6918335657476147, \"color\": \"#888\"}, \"hoverinfo\": \"none\", \"x\": [-13.421282842315208, -12.910843834401481], \"type\": \"scatter\", \"mode\": \"lines\", \"y\": [20.731208327312252, 21.01436659376408]}, {\"line\": {\"width\": 1.3569822072722615, \"color\": \"#888\"}, \"hoverinfo\": \"none\", \"x\": [-13.421282842315208, -12.284441948806446], \"type\": \"scatter\", \"mode\": \"lines\", \"y\": [20.731208327312252, 21.025645557579107]}, {\"line\": {\"width\": 2.060139133022109, \"color\": \"#888\"}, \"hoverinfo\": \"none\", \"x\": [-13.421282842315208, -13.7703511169154], \"type\": \"scatter\", \"mode\": \"lines\", \"y\": [20.731208327312252, 21.085508206964032]}, {\"line\": {\"width\": 1.2206520106249243, \"color\": \"#888\"}, \"hoverinfo\": \"none\", \"x\": [-13.421282842315208, -13.991559819591165], \"type\": \"scatter\", \"mode\": \"lines\", \"y\": [20.731208327312252, 20.390716009399764]}, {\"line\": {\"width\": 1.0816923517036232, \"color\": \"#888\"}, \"hoverinfo\": \"none\", \"x\": [-13.421282842315208, -13.23643931550353], \"type\": \"scatter\", \"mode\": \"lines\", \"y\": [20.731208327312252, 20.945151973986814]}, {\"line\": {\"width\": 2.2385073862396254, \"color\": \"#888\"}, \"hoverinfo\": \"none\", \"x\": [-13.421282842315208, -13.030036553810685], \"type\": \"scatter\", \"mode\": \"lines\", \"y\": [20.731208327312252, 21.519701600461545]}, {\"line\": {\"width\": 1.4715750407683883, \"color\": \"#888\"}, \"hoverinfo\": \"none\", \"x\": [-13.421282842315208, -13.007084255175895], \"type\": \"scatter\", \"mode\": \"lines\", \"y\": [20.731208327312252, 21.86972207748751]}, {\"line\": {\"width\": 2.0153679748019826, \"color\": \"#888\"}, \"hoverinfo\": \"none\", \"x\": [-13.421282842315208, -12.734203853902583], \"type\": \"scatter\", \"mode\": \"lines\", \"y\": [20.731208327312252, 21.55340460756357]}, {\"line\": {\"width\": 1.5885974793911686, \"color\": \"#888\"}, \"hoverinfo\": \"none\", \"x\": [-13.421282842315208, -12.77601031504658], \"type\": \"scatter\", \"mode\": \"lines\", \"y\": [20.731208327312252, 21.12541781408756]}, {\"line\": {\"width\": 1.0081743046431522, \"color\": \"#888\"}, \"hoverinfo\": \"none\", \"x\": [-9.43984702464178, -10.38428518250311], \"type\": \"scatter\", \"mode\": \"lines\", \"y\": [21.339818981480747, 20.858640990884304]}, {\"line\": {\"width\": 1.1648818215959975, \"color\": \"#888\"}, \"hoverinfo\": \"none\", \"x\": [-14.838886373833402, -13.979715599240638], \"type\": \"scatter\", \"mode\": \"lines\", \"y\": [19.128537172554875, 19.090615747944213]}, {\"line\": {\"width\": 1.0316981655733792, \"color\": \"#888\"}, \"hoverinfo\": \"none\", \"x\": [-13.979715599240638, -12.88079425450245], \"type\": \"scatter\", \"mode\": \"lines\", \"y\": [19.090615747944213, 20.00414689876472]}, {\"line\": {\"width\": 1.2360378978834887, \"color\": \"#888\"}, \"hoverinfo\": \"none\", \"x\": [-13.979715599240638, -14.550581404051927], \"type\": \"scatter\", \"mode\": \"lines\", \"y\": [19.090615747944213, 19.624642271113515]}, {\"line\": {\"width\": 1.3481984995945968, \"color\": \"#888\"}, \"hoverinfo\": \"none\", \"x\": [-13.979715599240638, -14.311419458172569], \"type\": \"scatter\", \"mode\": \"lines\", \"y\": [19.090615747944213, 19.971822262725137]}, {\"line\": {\"width\": 1.0647654045022001, \"color\": \"#888\"}, \"hoverinfo\": \"none\", \"x\": [-13.979715599240638, -13.85101503582916], \"type\": \"scatter\", \"mode\": \"lines\", \"y\": [19.090615747944213, 19.70968323427432]}, {\"line\": {\"width\": 1.101530761467507, \"color\": \"#888\"}, \"hoverinfo\": \"none\", \"x\": [-13.979715599240638, -14.582278534558517], \"type\": \"scatter\", \"mode\": \"lines\", \"y\": [19.090615747944213, 20.217135258366874]}, {\"line\": {\"width\": 1.0087318120004038, \"color\": \"#888\"}, \"hoverinfo\": \"none\", \"x\": [-13.979715599240638, -12.918576723501182], \"type\": \"scatter\", \"mode\": \"lines\", \"y\": [19.090615747944213, 19.762632785571746]}, {\"line\": {\"width\": 1.0174386683931247, \"color\": \"#888\"}, \"hoverinfo\": \"none\", \"x\": [-13.979715599240638, -13.485752324101506], \"type\": \"scatter\", \"mode\": \"lines\", \"y\": [19.090615747944213, 19.465977412591247]}, {\"line\": {\"width\": 1.0134647643600974, \"color\": \"#888\"}, \"hoverinfo\": \"none\", \"x\": [-13.979715599240638, -13.610912637176686], \"type\": \"scatter\", \"mode\": \"lines\", \"y\": [19.090615747944213, 18.6772196523297]}, {\"line\": {\"width\": 1.0953804566139196, \"color\": \"#888\"}, \"hoverinfo\": \"none\", \"x\": [-13.979715599240638, -14.700800349225393], \"type\": \"scatter\", \"mode\": \"lines\", \"y\": [19.090615747944213, 18.224889530040656]}, {\"line\": {\"width\": 1.0037672094831849, \"color\": \"#888\"}, \"hoverinfo\": \"none\", \"x\": [-14.916485071497744, -14.628261411278487], \"type\": \"scatter\", \"mode\": \"lines\", \"y\": [13.489550636378056, 14.221291596828324]}, {\"line\": {\"width\": 1.1230425979043548, \"color\": \"#888\"}, \"hoverinfo\": \"none\", \"x\": [-14.916485071497744, -15.523142350203068], \"type\": \"scatter\", \"mode\": \"lines\", \"y\": [13.489550636378056, 14.189823829652912]}, {\"line\": {\"width\": 1.1418051911270168, \"color\": \"#888\"}, \"hoverinfo\": \"none\", \"x\": [-10.747730119044457, -11.942871546634484], \"type\": \"scatter\", \"mode\": \"lines\", \"y\": [21.48888986020604, 20.943028751942535]}, {\"line\": {\"width\": 1.0539283700693882, \"color\": \"#888\"}, \"hoverinfo\": \"none\", \"x\": [-12.075137469042582, -12.850718139242009], \"type\": \"scatter\", \"mode\": \"lines\", \"y\": [21.88172971181922, 20.929101940708783]}, {\"line\": {\"width\": 1.0412559036608944, \"color\": \"#888\"}, \"hoverinfo\": \"none\", \"x\": [-12.075137469042582, -12.910843834401481], \"type\": \"scatter\", \"mode\": \"lines\", \"y\": [21.88172971181922, 21.01436659376408]}, {\"line\": {\"width\": 1.1543609904258387, \"color\": \"#888\"}, \"hoverinfo\": \"none\", \"x\": [-13.889868260640972, -12.88079425450245], \"type\": \"scatter\", \"mode\": \"lines\", \"y\": [20.43968106318603, 20.00414689876472]}, {\"line\": {\"width\": 1.0316981655733792, \"color\": \"#888\"}, \"hoverinfo\": \"none\", \"x\": [-13.979715599240638, -12.88079425450245], \"type\": \"scatter\", \"mode\": \"lines\", \"y\": [19.090615747944213, 20.00414689876472]}, {\"line\": {\"width\": 1.6371534026308052, \"color\": \"#888\"}, \"hoverinfo\": \"none\", \"x\": [-12.88079425450245, -12.341464452775313], \"type\": \"scatter\", \"mode\": \"lines\", \"y\": [20.00414689876472, 20.311362961497515]}, {\"line\": {\"width\": 1.0141833903659176, \"color\": \"#888\"}, \"hoverinfo\": \"none\", \"x\": [-12.88079425450245, -13.642983348705675], \"type\": \"scatter\", \"mode\": \"lines\", \"y\": [20.00414689876472, 20.519633212486255]}, {\"line\": {\"width\": 1.0423669327280327, \"color\": \"#888\"}, \"hoverinfo\": \"none\", \"x\": [-12.88079425450245, -12.850718139242009], \"type\": \"scatter\", \"mode\": \"lines\", \"y\": [20.00414689876472, 20.929101940708783]}, {\"line\": {\"width\": 1.04064663228925, \"color\": \"#888\"}, \"hoverinfo\": \"none\", \"x\": [-12.88079425450245, -13.236477225987986], \"type\": \"scatter\", \"mode\": \"lines\", \"y\": [20.00414689876472, 20.35065703675912]}, {\"line\": {\"width\": 1.1107568299331017, \"color\": \"#888\"}, \"hoverinfo\": \"none\", \"x\": [-12.88079425450245, -13.537096610506756], \"type\": \"scatter\", \"mode\": \"lines\", \"y\": [20.00414689876472, 19.92320307519968]}, {\"line\": {\"width\": 1.2481614234145846, \"color\": \"#888\"}, \"hoverinfo\": \"none\", \"x\": [-12.88079425450245, -13.85101503582916], \"type\": \"scatter\", \"mode\": \"lines\", \"y\": [20.00414689876472, 19.70968323427432]}, {\"line\": {\"width\": 1.2188812465617447, \"color\": \"#888\"}, \"hoverinfo\": \"none\", \"x\": [-12.88079425450245, -11.815965872922868], \"type\": \"scatter\", \"mode\": \"lines\", \"y\": [20.00414689876472, 19.29060423218079]}, {\"line\": {\"width\": 1.1771971437456932, \"color\": \"#888\"}, \"hoverinfo\": \"none\", \"x\": [-12.88079425450245, -13.04465356572712], \"type\": \"scatter\", \"mode\": \"lines\", \"y\": [20.00414689876472, 19.63101236622079]}, {\"line\": {\"width\": 1.0109850138118492, \"color\": \"#888\"}, \"hoverinfo\": \"none\", \"x\": [-12.88079425450245, -12.907640754729615], \"type\": \"scatter\", \"mode\": \"lines\", \"y\": [20.00414689876472, 20.469607616408755]}, {\"line\": {\"width\": 1.0707331961635507, \"color\": \"#888\"}, \"hoverinfo\": \"none\", \"x\": [-12.88079425450245, -13.046705351336772], \"type\": \"scatter\", \"mode\": \"lines\", \"y\": [20.00414689876472, 20.77588764099713]}, {\"line\": {\"width\": 1.4832930434014333, \"color\": \"#888\"}, \"hoverinfo\": \"none\", \"x\": [-12.88079425450245, -12.918576723501182], \"type\": \"scatter\", \"mode\": \"lines\", \"y\": [20.00414689876472, 19.762632785571746]}, {\"line\": {\"width\": 1.0159194953047692, \"color\": \"#888\"}, \"hoverinfo\": \"none\", \"x\": [-12.88079425450245, -13.485752324101506], \"type\": \"scatter\", \"mode\": \"lines\", \"y\": [20.00414689876472, 19.465977412591247]}, {\"line\": {\"width\": 1.389027847120075, \"color\": \"#888\"}, \"hoverinfo\": \"none\", \"x\": [-12.88079425450245, -12.356415919830226], \"type\": \"scatter\", \"mode\": \"lines\", \"y\": [20.00414689876472, 19.76080027239755]}, {\"line\": {\"width\": 1.2809816368191018, \"color\": \"#888\"}, \"hoverinfo\": \"none\", \"x\": [-12.88079425450245, -12.773844683472381], \"type\": \"scatter\", \"mode\": \"lines\", \"y\": [20.00414689876472, 19.566330422843407]}, {\"line\": {\"width\": 1.0274528679010728, \"color\": \"#888\"}, \"hoverinfo\": \"none\", \"x\": [-12.88079425450245, -12.910843834401481], \"type\": \"scatter\", \"mode\": \"lines\", \"y\": [20.00414689876472, 21.01436659376408]}, {\"line\": {\"width\": 1.0484313095452267, \"color\": \"#888\"}, \"hoverinfo\": \"none\", \"x\": [-12.88079425450245, -11.85499862010832], \"type\": \"scatter\", \"mode\": \"lines\", \"y\": [20.00414689876472, 20.494921025806526]}, {\"line\": {\"width\": 1.214072670173321, \"color\": \"#888\"}, \"hoverinfo\": \"none\", \"x\": [-12.88079425450245, -12.77601031504658], \"type\": \"scatter\", \"mode\": \"lines\", \"y\": [20.00414689876472, 21.12541781408756]}, {\"line\": {\"width\": 1.10698679284716, \"color\": \"#888\"}, \"hoverinfo\": \"none\", \"x\": [-12.88079425450245, -12.791751733740055], \"type\": \"scatter\", \"mode\": \"lines\", \"y\": [20.00414689876472, 19.008361465721478]}, {\"line\": {\"width\": 1.0315361785896977, \"color\": \"#888\"}, \"hoverinfo\": \"none\", \"x\": [-14.710043075976875, -13.865413814385875], \"type\": \"scatter\", \"mode\": \"lines\", \"y\": [16.190377164988895, 16.73569458910048]}, {\"line\": {\"width\": 1.0289377033892784, \"color\": \"#888\"}, \"hoverinfo\": \"none\", \"x\": [-10.680705289400953, -11.549799157354075], \"type\": \"scatter\", \"mode\": \"lines\", \"y\": [22.22966651010958, 21.33677004673493]}, {\"line\": {\"width\": 1.059544427587481, \"color\": \"#888\"}, \"hoverinfo\": \"none\", \"x\": [-10.680705289400953, -11.263788850048781], \"type\": \"scatter\", \"mode\": \"lines\", \"y\": [22.22966651010958, 22.384709120747623]}, {\"line\": {\"width\": 1.0276082742675392, \"color\": \"#888\"}, \"hoverinfo\": \"none\", \"x\": [-10.680705289400953, -11.429739365262359], \"type\": \"scatter\", \"mode\": \"lines\", \"y\": [22.22966651010958, 22.733989773796388]}, {\"line\": {\"width\": 1.1768508449521695, \"color\": \"#888\"}, \"hoverinfo\": \"none\", \"x\": [-11.96986801292686, -12.345143556966459], \"type\": \"scatter\", \"mode\": \"lines\", \"y\": [22.41278980421849, 21.995363443026463]}, {\"line\": {\"width\": 1.3533992334207599, \"color\": \"#888\"}, \"hoverinfo\": \"none\", \"x\": [-11.96986801292686, -12.39070970399015], \"type\": \"scatter\", \"mode\": \"lines\", \"y\": [22.41278980421849, 22.673929128949084]}, {\"line\": {\"width\": 1.1375442406461065, \"color\": \"#888\"}, \"hoverinfo\": \"none\", \"x\": [-11.96986801292686, -12.040651155801354], \"type\": \"scatter\", \"mode\": \"lines\", \"y\": [22.41278980421849, 21.209858966184818]}, {\"line\": {\"width\": 1.1071821399859498, \"color\": \"#888\"}, \"hoverinfo\": \"none\", \"x\": [-11.96986801292686, -12.77601031504658], \"type\": \"scatter\", \"mode\": \"lines\", \"y\": [22.41278980421849, 21.12541781408756]}, {\"line\": {\"width\": 1.3313657603805105, \"color\": \"#888\"}, \"hoverinfo\": \"none\", \"x\": [-11.949124589899004, -12.850718139242009], \"type\": \"scatter\", \"mode\": \"lines\", \"y\": [21.792200991998797, 20.929101940708783]}, {\"line\": {\"width\": 1.315584544815094, \"color\": \"#888\"}, \"hoverinfo\": \"none\", \"x\": [-11.949124589899004, -12.910843834401481], \"type\": \"scatter\", \"mode\": \"lines\", \"y\": [21.792200991998797, 21.01436659376408]}, {\"line\": {\"width\": 1.0247627551096392, \"color\": \"#888\"}, \"hoverinfo\": \"none\", \"x\": [-11.949124589899004, -11.14647911771022], \"type\": \"scatter\", \"mode\": \"lines\", \"y\": [21.792200991998797, 22.371393610371104]}, {\"line\": {\"width\": 1.039148394464184, \"color\": \"#888\"}, \"hoverinfo\": \"none\", \"x\": [-11.949124589899004, -13.030036553810685], \"type\": \"scatter\", \"mode\": \"lines\", \"y\": [21.792200991998797, 21.519701600461545]}, {\"line\": {\"width\": 1.087335300402193, \"color\": \"#888\"}, \"hoverinfo\": \"none\", \"x\": [-11.949124589899004, -12.734203853902583], \"type\": \"scatter\", \"mode\": \"lines\", \"y\": [21.792200991998797, 21.55340460756357]}, {\"line\": {\"width\": 1.0567132183017802, \"color\": \"#888\"}, \"hoverinfo\": \"none\", \"x\": [-9.445001182998627, -10.38428518250311], \"type\": \"scatter\", \"mode\": \"lines\", \"y\": [20.15381998481574, 20.858640990884304]}, {\"line\": {\"width\": 1.6371534026308052, \"color\": \"#888\"}, \"hoverinfo\": \"none\", \"x\": [-12.88079425450245, -12.341464452775313], \"type\": \"scatter\", \"mode\": \"lines\", \"y\": [20.00414689876472, 20.311362961497515]}, {\"line\": {\"width\": 1.1270270101437254, \"color\": \"#888\"}, \"hoverinfo\": \"none\", \"x\": [-12.341464452775313, -13.197102179360037], \"type\": \"scatter\", \"mode\": \"lines\", \"y\": [20.311362961497515, 20.446227226217555]}, {\"line\": {\"width\": 1.2693981784240256, \"color\": \"#888\"}, \"hoverinfo\": \"none\", \"x\": [-12.341464452775313, -12.850718139242009], \"type\": \"scatter\", \"mode\": \"lines\", \"y\": [20.311362961497515, 20.929101940708783]}, {\"line\": {\"width\": 1.0170497165325973, \"color\": \"#888\"}, \"hoverinfo\": \"none\", \"x\": [-12.341464452775313, -13.236477225987986], \"type\": \"scatter\", \"mode\": \"lines\", \"y\": [20.311362961497515, 20.35065703675912]}, {\"line\": {\"width\": 1.1612526769517293, \"color\": \"#888\"}, \"hoverinfo\": \"none\", \"x\": [-12.341464452775313, -11.815965872922868], \"type\": \"scatter\", \"mode\": \"lines\", \"y\": [20.311362961497515, 19.29060423218079]}, {\"line\": {\"width\": 1.0623490685536305, \"color\": \"#888\"}, \"hoverinfo\": \"none\", \"x\": [-12.341464452775313, -13.046705351336772], \"type\": \"scatter\", \"mode\": \"lines\", \"y\": [20.311362961497515, 20.77588764099713]}, {\"line\": {\"width\": 1.300990766960133, \"color\": \"#888\"}, \"hoverinfo\": \"none\", \"x\": [-12.341464452775313, -12.918576723501182], \"type\": \"scatter\", \"mode\": \"lines\", \"y\": [20.311362961497515, 19.762632785571746]}, {\"line\": {\"width\": 1.016731652620529, \"color\": \"#888\"}, \"hoverinfo\": \"none\", \"x\": [-12.341464452775313, -13.485752324101506], \"type\": \"scatter\", \"mode\": \"lines\", \"y\": [20.311362961497515, 19.465977412591247]}, {\"line\": {\"width\": 1.1984960462707082, \"color\": \"#888\"}, \"hoverinfo\": \"none\", \"x\": [-12.341464452775313, -12.608722745064354], \"type\": \"scatter\", \"mode\": \"lines\", \"y\": [20.311362961497515, 21.38991608678275]}, {\"line\": {\"width\": 1.3038656131771333, \"color\": \"#888\"}, \"hoverinfo\": \"none\", \"x\": [-12.341464452775313, -12.356415919830226], \"type\": \"scatter\", \"mode\": \"lines\", \"y\": [20.311362961497515, 19.76080027239755]}, {\"line\": {\"width\": 1.2236205374900375, \"color\": \"#888\"}, \"hoverinfo\": \"none\", \"x\": [-12.341464452775313, -11.549799157354075], \"type\": \"scatter\", \"mode\": \"lines\", \"y\": [20.311362961497515, 21.33677004673493]}, {\"line\": {\"width\": 1.27430688221318, \"color\": \"#888\"}, \"hoverinfo\": \"none\", \"x\": [-12.341464452775313, -12.773844683472381], \"type\": \"scatter\", \"mode\": \"lines\", \"y\": [20.311362961497515, 19.566330422843407]}, {\"line\": {\"width\": 1.3020081673906392, \"color\": \"#888\"}, \"hoverinfo\": \"none\", \"x\": [-12.341464452775313, -12.040651155801354], \"type\": \"scatter\", \"mode\": \"lines\", \"y\": [20.311362961497515, 21.209858966184818]}, {\"line\": {\"width\": 1.065898236688193, \"color\": \"#888\"}, \"hoverinfo\": \"none\", \"x\": [-12.341464452775313, -11.206212473786957], \"type\": \"scatter\", \"mode\": \"lines\", \"y\": [20.311362961497515, 19.700944560761023]}, {\"line\": {\"width\": 1.251505001338207, \"color\": \"#888\"}, \"hoverinfo\": \"none\", \"x\": [-12.341464452775313, -12.910843834401481], \"type\": \"scatter\", \"mode\": \"lines\", \"y\": [20.311362961497515, 21.01436659376408]}, {\"line\": {\"width\": 1.3884330604881154, \"color\": \"#888\"}, \"hoverinfo\": \"none\", \"x\": [-12.341464452775313, -11.85499862010832], \"type\": \"scatter\", \"mode\": \"lines\", \"y\": [20.311362961497515, 20.494921025806526]}, {\"line\": {\"width\": 1.1489777860747632, \"color\": \"#888\"}, \"hoverinfo\": \"none\", \"x\": [-12.341464452775313, -12.77601031504658], \"type\": \"scatter\", \"mode\": \"lines\", \"y\": [20.311362961497515, 21.12541781408756]}, {\"line\": {\"width\": 1.0262180960617426, \"color\": \"#888\"}, \"hoverinfo\": \"none\", \"x\": [-12.341464452775313, -12.791751733740055], \"type\": \"scatter\", \"mode\": \"lines\", \"y\": [20.311362961497515, 19.008361465721478]}, {\"line\": {\"width\": 1.14065775250979, \"color\": \"#888\"}, \"hoverinfo\": \"none\", \"x\": [-12.341464452775313, -12.0448503313882], \"type\": \"scatter\", \"mode\": \"lines\", \"y\": [20.311362961497515, 21.57539053726569]}, {\"line\": {\"width\": 1.1582870114175923, \"color\": \"#888\"}, \"hoverinfo\": \"none\", \"x\": [-6.980617299185159, -6.8613395668689945], \"type\": \"scatter\", \"mode\": \"lines\", \"y\": [24.381654675868525, 25.28721818848291]}, {\"line\": {\"width\": 1.071128511782815, \"color\": \"#888\"}, \"hoverinfo\": \"none\", \"x\": [-6.980617299185159, -6.1944511846115295], \"type\": \"scatter\", \"mode\": \"lines\", \"y\": [24.381654675868525, 24.720580155078387]}, {\"line\": {\"width\": 1.0081743046431522, \"color\": \"#888\"}, \"hoverinfo\": \"none\", \"x\": [-9.43984702464178, -10.38428518250311], \"type\": \"scatter\", \"mode\": \"lines\", \"y\": [21.339818981480747, 20.858640990884304]}, {\"line\": {\"width\": 1.0567132183017802, \"color\": \"#888\"}, \"hoverinfo\": \"none\", \"x\": [-9.445001182998627, -10.38428518250311], \"type\": \"scatter\", \"mode\": \"lines\", \"y\": [20.15381998481574, 20.858640990884304]}, {\"line\": {\"width\": 1.0073463770523887, \"color\": \"#888\"}, \"hoverinfo\": \"none\", \"x\": [-10.38428518250311, -10.58466903998632], \"type\": \"scatter\", \"mode\": \"lines\", \"y\": [20.858640990884304, 20.122288006184224]}, {\"line\": {\"width\": 1.0182271896430728, \"color\": \"#888\"}, \"hoverinfo\": \"none\", \"x\": [-10.38428518250311, -11.573787898129877], \"type\": \"scatter\", \"mode\": \"lines\", \"y\": [20.858640990884304, 20.603582672482666]}, {\"line\": {\"width\": 1.0146110052408288, \"color\": \"#888\"}, \"hoverinfo\": \"none\", \"x\": [-13.713867049753938, -13.488239384273696], \"type\": \"scatter\", \"mode\": \"lines\", \"y\": [21.32277923138798, 22.052657171590635]}, {\"line\": {\"width\": 1.0243173114834625, \"color\": \"#888\"}, \"hoverinfo\": \"none\", \"x\": [-12.95422029598588, -13.488239384273696], \"type\": \"scatter\", \"mode\": \"lines\", \"y\": [22.173012221957887, 22.052657171590635]}, {\"line\": {\"width\": 1.381587268864401, \"color\": \"#888\"}, \"hoverinfo\": \"none\", \"x\": [-13.488239384273696, -12.850718139242009], \"type\": \"scatter\", \"mode\": \"lines\", \"y\": [22.052657171590635, 20.929101940708783]}, {\"line\": {\"width\": 1.1790582434587684, \"color\": \"#888\"}, \"hoverinfo\": \"none\", \"x\": [-13.488239384273696, -14.005021731026002], \"type\": \"scatter\", \"mode\": \"lines\", \"y\": [22.052657171590635, 21.876050068264206]}, {\"line\": {\"width\": 1.093322173938592, \"color\": \"#888\"}, \"hoverinfo\": \"none\", \"x\": [-13.488239384273696, -14.462891867935248], \"type\": \"scatter\", \"mode\": \"lines\", \"y\": [22.052657171590635, 22.701920767788163]}, {\"line\": {\"width\": 1.0333383319246838, \"color\": \"#888\"}, \"hoverinfo\": \"none\", \"x\": [-13.488239384273696, -13.427726029882152], \"type\": \"scatter\", \"mode\": \"lines\", \"y\": [22.052657171590635, 21.052187341494502]}, {\"line\": {\"width\": 1.2615964429238864, \"color\": \"#888\"}, \"hoverinfo\": \"none\", \"x\": [-13.488239384273696, -14.027395794310534], \"type\": \"scatter\", \"mode\": \"lines\", \"y\": [22.052657171590635, 21.396105270096907]}, {\"line\": {\"width\": 1.0291797412739954, \"color\": \"#888\"}, \"hoverinfo\": \"none\", \"x\": [-13.488239384273696, -12.608722745064354], \"type\": \"scatter\", \"mode\": \"lines\", \"y\": [22.052657171590635, 21.38991608678275]}, {\"line\": {\"width\": 1.0146031495542491, \"color\": \"#888\"}, \"hoverinfo\": \"none\", \"x\": [-13.488239384273696, -13.551675742174377], \"type\": \"scatter\", \"mode\": \"lines\", \"y\": [22.052657171590635, 20.329212509114274]}, {\"line\": {\"width\": 1.3636061225836045, \"color\": \"#888\"}, \"hoverinfo\": \"none\", \"x\": [-13.488239384273696, -12.910843834401481], \"type\": \"scatter\", \"mode\": \"lines\", \"y\": [22.052657171590635, 21.01436659376408]}, {\"line\": {\"width\": 1.0164502373755715, \"color\": \"#888\"}, \"hoverinfo\": \"none\", \"x\": [-13.488239384273696, -14.197638723341639], \"type\": \"scatter\", \"mode\": \"lines\", \"y\": [22.052657171590635, 21.267662103421003]}, {\"line\": {\"width\": 1.2014805783755724, \"color\": \"#888\"}, \"hoverinfo\": \"none\", \"x\": [-14.489168620811169, -13.642983348705675], \"type\": \"scatter\", \"mode\": \"lines\", \"y\": [21.091249032371852, 20.519633212486255]}, {\"line\": {\"width\": 1.1138911894863133, \"color\": \"#888\"}, \"hoverinfo\": \"none\", \"x\": [-14.489168620811169, -13.236477225987986], \"type\": \"scatter\", \"mode\": \"lines\", \"y\": [21.091249032371852, 20.35065703675912]}, {\"line\": {\"width\": 1.176426936885183, \"color\": \"#888\"}, \"hoverinfo\": \"none\", \"x\": [-14.489168620811169, -13.427726029882152], \"type\": \"scatter\", \"mode\": \"lines\", \"y\": [21.091249032371852, 21.052187341494502]}, {\"line\": {\"width\": 1.0229105301520915, \"color\": \"#888\"}, \"hoverinfo\": \"none\", \"x\": [-14.489168620811169, -14.582278534558517], \"type\": \"scatter\", \"mode\": \"lines\", \"y\": [21.091249032371852, 20.217135258366874]}, {\"line\": {\"width\": 1.2245279375100873, \"color\": \"#888\"}, \"hoverinfo\": \"none\", \"x\": [-14.489168620811169, -13.912717315656698], \"type\": \"scatter\", \"mode\": \"lines\", \"y\": [21.091249032371852, 21.454212393115643]}, {\"line\": {\"width\": 1.101846943540752, \"color\": \"#888\"}, \"hoverinfo\": \"none\", \"x\": [-14.489168620811169, -14.113963476444026], \"type\": \"scatter\", \"mode\": \"lines\", \"y\": [21.091249032371852, 20.733964232542867]}, {\"line\": {\"width\": 1.1276664619108372, \"color\": \"#888\"}, \"hoverinfo\": \"none\", \"x\": [-14.489168620811169, -13.637993460243793], \"type\": \"scatter\", \"mode\": \"lines\", \"y\": [21.091249032371852, 21.53220459934256]}, {\"line\": {\"width\": 1.1143542077789714, \"color\": \"#888\"}, \"hoverinfo\": \"none\", \"x\": [-14.489168620811169, -13.23643931550353], \"type\": \"scatter\", \"mode\": \"lines\", \"y\": [21.091249032371852, 20.945151973986814]}, {\"line\": {\"width\": 1.2841756270730427, \"color\": \"#888\"}, \"hoverinfo\": \"none\", \"x\": [-14.489168620811169, -13.402038872682441], \"type\": \"scatter\", \"mode\": \"lines\", \"y\": [21.091249032371852, 21.793632774845815]}, {\"line\": {\"width\": 1.1269710207281634, \"color\": \"#888\"}, \"hoverinfo\": \"none\", \"x\": [-14.489168620811169, -13.263024710033392], \"type\": \"scatter\", \"mode\": \"lines\", \"y\": [21.091249032371852, 21.47913495742209]}, {\"line\": {\"width\": 1.8293488207175532, \"color\": \"#888\"}, \"hoverinfo\": \"none\", \"x\": [-14.489168620811169, -13.994286400461116], \"type\": \"scatter\", \"mode\": \"lines\", \"y\": [21.091249032371852, 20.881168702489436]}, {\"line\": {\"width\": 1.040035629749341, \"color\": \"#888\"}, \"hoverinfo\": \"none\", \"x\": [-10.56826368128901, -9.611014621595755], \"type\": \"scatter\", \"mode\": \"lines\", \"y\": [20.824710298876187, 20.24224676178515]}, {\"line\": {\"width\": 1.0080409976690115, \"color\": \"#888\"}, \"hoverinfo\": \"none\", \"x\": [-10.56826368128901, -11.85499862010832], \"type\": \"scatter\", \"mode\": \"lines\", \"y\": [20.824710298876187, 20.494921025806526]}, {\"line\": {\"width\": 1.2312097071671984, \"color\": \"#888\"}, \"hoverinfo\": \"none\", \"x\": [-10.56826368128901, -9.741210458737246], \"type\": \"scatter\", \"mode\": \"lines\", \"y\": [20.824710298876187, 21.914039008164817]}, {\"line\": {\"width\": 1.165453709031058, \"color\": \"#888\"}, \"hoverinfo\": \"none\", \"x\": [-10.56826368128901, -9.595275245512976], \"type\": \"scatter\", \"mode\": \"lines\", \"y\": [20.824710298876187, 21.215455714750416]}, {\"line\": {\"width\": 1.049328234297132, \"color\": \"#888\"}, \"hoverinfo\": \"none\", \"x\": [-10.805873149921057, -11.942871546634484], \"type\": \"scatter\", \"mode\": \"lines\", \"y\": [20.42653191608568, 20.943028751942535]}, {\"line\": {\"width\": 1.0237158988547368, \"color\": \"#888\"}, \"hoverinfo\": \"none\", \"x\": [-10.805873149921057, -10.980994182527269], \"type\": \"scatter\", \"mode\": \"lines\", \"y\": [20.42653191608568, 18.92772968732724]}, {\"line\": {\"width\": 1.2664803789354053, \"color\": \"#888\"}, \"hoverinfo\": \"none\", \"x\": [-10.805873149921057, -10.917791500255126], \"type\": \"scatter\", \"mode\": \"lines\", \"y\": [20.42653191608568, 19.742127029568135]}, {\"line\": {\"width\": 1.0129143583647515, \"color\": \"#888\"}, \"hoverinfo\": \"none\", \"x\": [-10.805873149921057, -11.670530996185668], \"type\": \"scatter\", \"mode\": \"lines\", \"y\": [20.42653191608568, 21.09066706630328]}, {\"line\": {\"width\": 1.1073355126124376, \"color\": \"#888\"}, \"hoverinfo\": \"none\", \"x\": [-10.703500072515022, -11.670530996185668], \"type\": \"scatter\", \"mode\": \"lines\", \"y\": [22.01548801480612, 21.09066706630328]}, {\"line\": {\"width\": 1.1771785420367555, \"color\": \"#888\"}, \"hoverinfo\": \"none\", \"x\": [-7.56483637469179, -6.8613395668689945], \"type\": \"scatter\", \"mode\": \"lines\", \"y\": [25.792349324258, 25.28721818848291]}, {\"line\": {\"width\": 1.0141833903659176, \"color\": \"#888\"}, \"hoverinfo\": \"none\", \"x\": [-12.88079425450245, -13.642983348705675], \"type\": \"scatter\", \"mode\": \"lines\", \"y\": [20.00414689876472, 20.519633212486255]}, {\"line\": {\"width\": 1.2014805783755724, \"color\": \"#888\"}, \"hoverinfo\": \"none\", \"x\": [-14.489168620811169, -13.642983348705675], \"type\": \"scatter\", \"mode\": \"lines\", \"y\": [21.091249032371852, 20.519633212486255]}, {\"line\": {\"width\": 1.1464411942901618, \"color\": \"#888\"}, \"hoverinfo\": \"none\", \"x\": [-13.642983348705675, -12.850718139242009], \"type\": \"scatter\", \"mode\": \"lines\", \"y\": [20.519633212486255, 20.929101940708783]}, {\"line\": {\"width\": 1.2534008462211892, \"color\": \"#888\"}, \"hoverinfo\": \"none\", \"x\": [-13.642983348705675, -13.236477225987986], \"type\": \"scatter\", \"mode\": \"lines\", \"y\": [20.519633212486255, 20.35065703675912]}, {\"line\": {\"width\": 1.3890291732029427, \"color\": \"#888\"}, \"hoverinfo\": \"none\", \"x\": [-13.642983348705675, -13.537096610506756], \"type\": \"scatter\", \"mode\": \"lines\", \"y\": [20.519633212486255, 19.92320307519968]}, {\"line\": {\"width\": 1.2511525607865748, \"color\": \"#888\"}, \"hoverinfo\": \"none\", \"x\": [-13.642983348705675, -13.427726029882152], \"type\": \"scatter\", \"mode\": \"lines\", \"y\": [20.519633212486255, 21.052187341494502]}, {\"line\": {\"width\": 1.0483439079351167, \"color\": \"#888\"}, \"hoverinfo\": \"none\", \"x\": [-13.642983348705675, -13.04465356572712], \"type\": \"scatter\", \"mode\": \"lines\", \"y\": [20.519633212486255, 19.63101236622079]}, {\"line\": {\"width\": 1.0759072517601342, \"color\": \"#888\"}, \"hoverinfo\": \"none\", \"x\": [-13.642983348705675, -14.027395794310534], \"type\": \"scatter\", \"mode\": \"lines\", \"y\": [20.519633212486255, 21.396105270096907]}, {\"line\": {\"width\": 1.1483881519259036, \"color\": \"#888\"}, \"hoverinfo\": \"none\", \"x\": [-13.642983348705675, -14.582278534558517], \"type\": \"scatter\", \"mode\": \"lines\", \"y\": [20.519633212486255, 20.217135258366874]}, {\"line\": {\"width\": 1.0844524091290217, \"color\": \"#888\"}, \"hoverinfo\": \"none\", \"x\": [-13.642983348705675, -12.608722745064354], \"type\": \"scatter\", \"mode\": \"lines\", \"y\": [20.519633212486255, 21.38991608678275]}, {\"line\": {\"width\": 1.22046042938976, \"color\": \"#888\"}, \"hoverinfo\": \"none\", \"x\": [-13.642983348705675, -13.912717315656698], \"type\": \"scatter\", \"mode\": \"lines\", \"y\": [20.519633212486255, 21.454212393115643]}, {\"line\": {\"width\": 1.2360856728275742, \"color\": \"#888\"}, \"hoverinfo\": \"none\", \"x\": [-13.642983348705675, -14.113963476444026], \"type\": \"scatter\", \"mode\": \"lines\", \"y\": [20.519633212486255, 20.733964232542867]}, {\"line\": {\"width\": 1.132076111448573, \"color\": \"#888\"}, \"hoverinfo\": \"none\", \"x\": [-13.642983348705675, -12.910843834401481], \"type\": \"scatter\", \"mode\": \"lines\", \"y\": [20.519633212486255, 21.01436659376408]}, {\"line\": {\"width\": 1.0652308067936342, \"color\": \"#888\"}, \"hoverinfo\": \"none\", \"x\": [-13.642983348705675, -13.637993460243793], \"type\": \"scatter\", \"mode\": \"lines\", \"y\": [20.519633212486255, 21.53220459934256]}, {\"line\": {\"width\": 1.324592715833349, \"color\": \"#888\"}, \"hoverinfo\": \"none\", \"x\": [-13.642983348705675, -13.23643931550353], \"type\": \"scatter\", \"mode\": \"lines\", \"y\": [20.519633212486255, 20.945151973986814]}, {\"line\": {\"width\": 1.3032063597556576, \"color\": \"#888\"}, \"hoverinfo\": \"none\", \"x\": [-13.642983348705675, -13.402038872682441], \"type\": \"scatter\", \"mode\": \"lines\", \"y\": [20.519633212486255, 21.793632774845815]}, {\"line\": {\"width\": 1.1172234268593138, \"color\": \"#888\"}, \"hoverinfo\": \"none\", \"x\": [-13.642983348705675, -13.263024710033392], \"type\": \"scatter\", \"mode\": \"lines\", \"y\": [20.519633212486255, 21.47913495742209]}, {\"line\": {\"width\": 1.1146414038575085, \"color\": \"#888\"}, \"hoverinfo\": \"none\", \"x\": [-13.642983348705675, -13.994286400461116], \"type\": \"scatter\", \"mode\": \"lines\", \"y\": [20.519633212486255, 20.881168702489436]}, {\"line\": {\"width\": 1.01777505967313, \"color\": \"#888\"}, \"hoverinfo\": \"none\", \"x\": [-14.838886373833402, -14.550581404051927], \"type\": \"scatter\", \"mode\": \"lines\", \"y\": [19.128537172554875, 19.624642271113515]}, {\"line\": {\"width\": 1.2360378978834887, \"color\": \"#888\"}, \"hoverinfo\": \"none\", \"x\": [-13.979715599240638, -14.550581404051927], \"type\": \"scatter\", \"mode\": \"lines\", \"y\": [19.090615747944213, 19.624642271113515]}, {\"line\": {\"width\": 1.146699615623318, \"color\": \"#888\"}, \"hoverinfo\": \"none\", \"x\": [-14.550581404051927, -14.311419458172569], \"type\": \"scatter\", \"mode\": \"lines\", \"y\": [19.624642271113515, 19.971822262725137]}, {\"line\": {\"width\": 1.094290245698182, \"color\": \"#888\"}, \"hoverinfo\": \"none\", \"x\": [-14.550581404051927, -13.537096610506756], \"type\": \"scatter\", \"mode\": \"lines\", \"y\": [19.624642271113515, 19.92320307519968]}, {\"line\": {\"width\": 1.2597641475622958, \"color\": \"#888\"}, \"hoverinfo\": \"none\", \"x\": [-14.550581404051927, -14.582278534558517], \"type\": \"scatter\", \"mode\": \"lines\", \"y\": [19.624642271113515, 20.217135258366874]}, {\"line\": {\"width\": 1.009891226732699, \"color\": \"#888\"}, \"hoverinfo\": \"none\", \"x\": [-14.550581404051927, -13.551675742174377], \"type\": \"scatter\", \"mode\": \"lines\", \"y\": [19.624642271113515, 20.329212509114274]}, {\"line\": {\"width\": 1.1455749507040294, \"color\": \"#888\"}, \"hoverinfo\": \"none\", \"x\": [-14.550581404051927, -13.994286400461116], \"type\": \"scatter\", \"mode\": \"lines\", \"y\": [19.624642271113515, 20.881168702489436]}, {\"line\": {\"width\": 1.0658626000410127, \"color\": \"#888\"}, \"hoverinfo\": \"none\", \"x\": [-13.713867049753938, -14.311419458172569], \"type\": \"scatter\", \"mode\": \"lines\", \"y\": [21.32277923138798, 19.971822262725137]}, {\"line\": {\"width\": 1.12938419146808, \"color\": \"#888\"}, \"hoverinfo\": \"none\", \"x\": [-14.838886373833402, -14.311419458172569], \"type\": \"scatter\", \"mode\": \"lines\", \"y\": [19.128537172554875, 19.971822262725137]}, {\"line\": {\"width\": 1.1219332819026966, \"color\": \"#888\"}, \"hoverinfo\": \"none\", \"x\": [-13.421282842315208, -14.311419458172569], \"type\": \"scatter\", \"mode\": \"lines\", \"y\": [20.731208327312252, 19.971822262725137]}, {\"line\": {\"width\": 1.3481984995945968, \"color\": \"#888\"}, \"hoverinfo\": \"none\", \"x\": [-13.979715599240638, -14.311419458172569], \"type\": \"scatter\", \"mode\": \"lines\", \"y\": [19.090615747944213, 19.971822262725137]}, {\"line\": {\"width\": 1.146699615623318, \"color\": \"#888\"}, \"hoverinfo\": \"none\", \"x\": [-14.550581404051927, -14.311419458172569], \"type\": \"scatter\", \"mode\": \"lines\", \"y\": [19.624642271113515, 19.971822262725137]}, {\"line\": {\"width\": 1.2640652763479268, \"color\": \"#888\"}, \"hoverinfo\": \"none\", \"x\": [-14.311419458172569, -13.197102179360037], \"type\": \"scatter\", \"mode\": \"lines\", \"y\": [19.971822262725137, 20.446227226217555]}, {\"line\": {\"width\": 1.3428936221763546, \"color\": \"#888\"}, \"hoverinfo\": \"none\", \"x\": [-14.311419458172569, -14.582278534558517], \"type\": \"scatter\", \"mode\": \"lines\", \"y\": [19.971822262725137, 20.217135258366874]}, {\"line\": {\"width\": 1.1687158288165795, \"color\": \"#888\"}, \"hoverinfo\": \"none\", \"x\": [-14.311419458172569, -15.067822716688191], \"type\": \"scatter\", \"mode\": \"lines\", \"y\": [19.971822262725137, 19.80585907837482]}, {\"line\": {\"width\": 1.1458170895486544, \"color\": \"#888\"}, \"hoverinfo\": \"none\", \"x\": [-14.311419458172569, -13.7703511169154], \"type\": \"scatter\", \"mode\": \"lines\", \"y\": [19.971822262725137, 21.085508206964032]}, {\"line\": {\"width\": 1.231759241353672, \"color\": \"#888\"}, \"hoverinfo\": \"none\", \"x\": [-14.311419458172569, -13.991559819591165], \"type\": \"scatter\", \"mode\": \"lines\", \"y\": [19.971822262725137, 20.390716009399764]}, {\"line\": {\"width\": 1.1164940239974934, \"color\": \"#888\"}, \"hoverinfo\": \"none\", \"x\": [-14.311419458172569, -15.174279426119066], \"type\": \"scatter\", \"mode\": \"lines\", \"y\": [19.971822262725137, 20.114788448159768]}, {\"line\": {\"width\": 1.0782829460041476, \"color\": \"#888\"}, \"hoverinfo\": \"none\", \"x\": [-14.018918630615032, -14.858379268270992], \"type\": \"scatter\", \"mode\": \"lines\", \"y\": [21.72493113956793, 21.526061738550137]}, {\"line\": {\"width\": 1.257201928708477, \"color\": \"#888\"}, \"hoverinfo\": \"none\", \"x\": [-13.889868260640972, -14.858379268270992], \"type\": \"scatter\", \"mode\": \"lines\", \"y\": [20.43968106318603, 21.526061738550137]}, {\"line\": {\"width\": 1.0172628459319746, \"color\": \"#888\"}, \"hoverinfo\": \"none\", \"x\": [-13.469602721182888, -14.858379268270992], \"type\": \"scatter\", \"mode\": \"lines\", \"y\": [21.366730828241682, 21.526061738550137]}, {\"line\": {\"width\": 1.1019618551845796, \"color\": \"#888\"}, \"hoverinfo\": \"none\", \"x\": [-14.858379268270992, -15.185335092491869], \"type\": \"scatter\", \"mode\": \"lines\", \"y\": [21.526061738550137, 21.033890967174504]}, {\"line\": {\"width\": 1.0572669306738274, \"color\": \"#888\"}, \"hoverinfo\": \"none\", \"x\": [-14.858379268270992, -14.027395794310534], \"type\": \"scatter\", \"mode\": \"lines\", \"y\": [21.526061738550137, 21.396105270096907]}, {\"line\": {\"width\": 1.015098821210063, \"color\": \"#888\"}, \"hoverinfo\": \"none\", \"x\": [-14.858379268270992, -15.827375056035295], \"type\": \"scatter\", \"mode\": \"lines\", \"y\": [21.526061738550137, 21.850844621105583]}, {\"line\": {\"width\": 1.0665600340541475, \"color\": \"#888\"}, \"hoverinfo\": \"none\", \"x\": [-14.858379268270992, -14.986087504472923], \"type\": \"scatter\", \"mode\": \"lines\", \"y\": [21.526061738550137, 22.39991748096667]}, {\"line\": {\"width\": 1.0602471199975425, \"color\": \"#888\"}, \"hoverinfo\": \"none\", \"x\": [-14.858379268270992, -14.197638723341639], \"type\": \"scatter\", \"mode\": \"lines\", \"y\": [21.526061738550137, 21.267662103421003]}, {\"line\": {\"width\": 1.227184181781318, \"color\": \"#888\"}, \"hoverinfo\": \"none\", \"x\": [-6.3972927373085495, -7.173322289908699], \"type\": \"scatter\", \"mode\": \"lines\", \"y\": [15.241339929201953, 15.323501465363748]}, {\"line\": {\"width\": 1.1343655629458087, \"color\": \"#888\"}, \"hoverinfo\": \"none\", \"x\": [-6.3972927373085495, -7.0968782985042065], \"type\": \"scatter\", \"mode\": \"lines\", \"y\": [15.241339929201953, 16.098146229260884]}, {\"line\": {\"width\": 1.1046334590206233, \"color\": \"#888\"}, \"hoverinfo\": \"none\", \"x\": [-6.3972927373085495, -6.370044307639769], \"type\": \"scatter\", \"mode\": \"lines\", \"y\": [15.241339929201953, 15.983076688771783]}, {\"line\": {\"width\": 1.1418051911270168, \"color\": \"#888\"}, \"hoverinfo\": \"none\", \"x\": [-10.747730119044457, -11.942871546634484], \"type\": \"scatter\", \"mode\": \"lines\", \"y\": [21.48888986020604, 20.943028751942535]}, {\"line\": {\"width\": 1.049328234297132, \"color\": \"#888\"}, \"hoverinfo\": \"none\", \"x\": [-10.805873149921057, -11.942871546634484], \"type\": \"scatter\", \"mode\": \"lines\", \"y\": [20.42653191608568, 20.943028751942535]}, {\"line\": {\"width\": 1.0034623961709634, \"color\": \"#888\"}, \"hoverinfo\": \"none\", \"x\": [-11.942871546634484, -13.197102179360037], \"type\": \"scatter\", \"mode\": \"lines\", \"y\": [20.943028751942535, 20.446227226217555]}, {\"line\": {\"width\": 1.0183573234405014, \"color\": \"#888\"}, \"hoverinfo\": \"none\", \"x\": [-11.942871546634484, -12.850718139242009], \"type\": \"scatter\", \"mode\": \"lines\", \"y\": [20.943028751942535, 20.929101940708783]}, {\"line\": {\"width\": 1.1752154149617038, \"color\": \"#888\"}, \"hoverinfo\": \"none\", \"x\": [-11.942871546634484, -13.427726029882152], \"type\": \"scatter\", \"mode\": \"lines\", \"y\": [20.943028751942535, 21.052187341494502]}, {\"line\": {\"width\": 1.1197407888849389, \"color\": \"#888\"}, \"hoverinfo\": \"none\", \"x\": [-11.942871546634484, -11.903242820535906], \"type\": \"scatter\", \"mode\": \"lines\", \"y\": [20.943028751942535, 19.6044514246644]}, {\"line\": {\"width\": 1.0566396278035435, \"color\": \"#888\"}, \"hoverinfo\": \"none\", \"x\": [-11.942871546634484, -12.910843834401481], \"type\": \"scatter\", \"mode\": \"lines\", \"y\": [20.943028751942535, 21.01436659376408]}, {\"line\": {\"width\": 1.1350118308234052, \"color\": \"#888\"}, \"hoverinfo\": \"none\", \"x\": [-11.942871546634484, -11.14647911771022], \"type\": \"scatter\", \"mode\": \"lines\", \"y\": [20.943028751942535, 22.371393610371104]}, {\"line\": {\"width\": 1.9540570469077267, \"color\": \"#888\"}, \"hoverinfo\": \"none\", \"x\": [-13.713867049753938, -13.197102179360037], \"type\": \"scatter\", \"mode\": \"lines\", \"y\": [21.32277923138798, 20.446227226217555]}, {\"line\": {\"width\": 1.056647300658568, \"color\": \"#888\"}, \"hoverinfo\": \"none\", \"x\": [-13.72503864579122, -13.197102179360037], \"type\": \"scatter\", \"mode\": \"lines\", \"y\": [20.752200827459543, 20.446227226217555]}, {\"line\": {\"width\": 1.1856272885034096, \"color\": \"#888\"}, \"hoverinfo\": \"none\", \"x\": [-13.469602721182888, -13.197102179360037], \"type\": \"scatter\", \"mode\": \"lines\", \"y\": [21.366730828241682, 20.446227226217555]}, {\"line\": {\"width\": 1.4691872548797291, \"color\": \"#888\"}, \"hoverinfo\": \"none\", \"x\": [-13.421282842315208, -13.197102179360037], \"type\": \"scatter\", \"mode\": \"lines\", \"y\": [20.731208327312252, 20.446227226217555]}, {\"line\": {\"width\": 1.1270270101437254, \"color\": \"#888\"}, \"hoverinfo\": \"none\", \"x\": [-12.341464452775313, -13.197102179360037], \"type\": \"scatter\", \"mode\": \"lines\", \"y\": [20.311362961497515, 20.446227226217555]}, {\"line\": {\"width\": 1.2640652763479268, \"color\": \"#888\"}, \"hoverinfo\": \"none\", \"x\": [-14.311419458172569, -13.197102179360037], \"type\": \"scatter\", \"mode\": \"lines\", \"y\": [19.971822262725137, 20.446227226217555]}, {\"line\": {\"width\": 1.0034623961709634, \"color\": \"#888\"}, \"hoverinfo\": \"none\", \"x\": [-11.942871546634484, -13.197102179360037], \"type\": \"scatter\", \"mode\": \"lines\", \"y\": [20.943028751942535, 20.446227226217555]}, {\"line\": {\"width\": 2.2141121478938164, \"color\": \"#888\"}, \"hoverinfo\": \"none\", \"x\": [-13.197102179360037, -12.850718139242009], \"type\": \"scatter\", \"mode\": \"lines\", \"y\": [20.446227226217555, 20.929101940708783]}, {\"line\": {\"width\": 1.0119653962338753, \"color\": \"#888\"}, \"hoverinfo\": \"none\", \"x\": [-13.197102179360037, -13.85101503582916], \"type\": \"scatter\", \"mode\": \"lines\", \"y\": [20.446227226217555, 19.70968323427432]}, {\"line\": {\"width\": 1.335460570441208, \"color\": \"#888\"}, \"hoverinfo\": \"none\", \"x\": [-13.197102179360037, -13.427726029882152], \"type\": \"scatter\", \"mode\": \"lines\", \"y\": [20.446227226217555, 21.052187341494502]}, {\"line\": {\"width\": 1.0094404198980842, \"color\": \"#888\"}, \"hoverinfo\": \"none\", \"x\": [-13.197102179360037, -13.584146493457986], \"type\": \"scatter\", \"mode\": \"lines\", \"y\": [20.446227226217555, 21.910867822678476]}, {\"line\": {\"width\": 1.76520562498758, \"color\": \"#888\"}, \"hoverinfo\": \"none\", \"x\": [-13.197102179360037, -12.907640754729615], \"type\": \"scatter\", \"mode\": \"lines\", \"y\": [20.446227226217555, 20.469607616408755]}, {\"line\": {\"width\": 1.029667423443561, \"color\": \"#888\"}, \"hoverinfo\": \"none\", \"x\": [-13.197102179360037, -14.7570657120828], \"type\": \"scatter\", \"mode\": \"lines\", \"y\": [20.446227226217555, 20.50506469374403]}, {\"line\": {\"width\": 1.1358728561908775, \"color\": \"#888\"}, \"hoverinfo\": \"none\", \"x\": [-13.197102179360037, -11.903242820535906], \"type\": \"scatter\", \"mode\": \"lines\", \"y\": [20.446227226217555, 19.6044514246644]}, {\"line\": {\"width\": 1.0539800831501809, \"color\": \"#888\"}, \"hoverinfo\": \"none\", \"x\": [-13.197102179360037, -12.918576723501182], \"type\": \"scatter\", \"mode\": \"lines\", \"y\": [20.446227226217555, 19.762632785571746]}, {\"line\": {\"width\": 1.074493439756516, \"color\": \"#888\"}, \"hoverinfo\": \"none\", \"x\": [-13.197102179360037, -13.485752324101506], \"type\": \"scatter\", \"mode\": \"lines\", \"y\": [20.446227226217555, 19.465977412591247]}, {\"line\": {\"width\": 1.1148568168788477, \"color\": \"#888\"}, \"hoverinfo\": \"none\", \"x\": [-13.197102179360037, -13.351672055886201], \"type\": \"scatter\", \"mode\": \"lines\", \"y\": [20.446227226217555, 19.867140863497806]}, {\"line\": {\"width\": 2.1872722361747963, \"color\": \"#888\"}, \"hoverinfo\": \"none\", \"x\": [-13.197102179360037, -12.910843834401481], \"type\": \"scatter\", \"mode\": \"lines\", \"y\": [20.446227226217555, 21.01436659376408]}, {\"line\": {\"width\": 1.5780503013019398, \"color\": \"#888\"}, \"hoverinfo\": \"none\", \"x\": [-13.197102179360037, -12.154447470436555], \"type\": \"scatter\", \"mode\": \"lines\", \"y\": [20.446227226217555, 20.687358998302738]}, {\"line\": {\"width\": 1.4450332099193164, \"color\": \"#888\"}, \"hoverinfo\": \"none\", \"x\": [-13.197102179360037, -13.7703511169154], \"type\": \"scatter\", \"mode\": \"lines\", \"y\": [20.446227226217555, 21.085508206964032]}, {\"line\": {\"width\": 1.3154972210087321, \"color\": \"#888\"}, \"hoverinfo\": \"none\", \"x\": [-13.197102179360037, -13.991559819591165], \"type\": \"scatter\", \"mode\": \"lines\", \"y\": [20.446227226217555, 20.390716009399764]}, {\"line\": {\"width\": 1.2385843657988345, \"color\": \"#888\"}, \"hoverinfo\": \"none\", \"x\": [-13.197102179360037, -13.23643931550353], \"type\": \"scatter\", \"mode\": \"lines\", \"y\": [20.446227226217555, 20.945151973986814]}, {\"line\": {\"width\": 1.0404031945162697, \"color\": \"#888\"}, \"hoverinfo\": \"none\", \"x\": [-13.197102179360037, -13.030036553810685], \"type\": \"scatter\", \"mode\": \"lines\", \"y\": [20.446227226217555, 21.519701600461545]}, {\"line\": {\"width\": 1.0852401352493468, \"color\": \"#888\"}, \"hoverinfo\": \"none\", \"x\": [-13.197102179360037, -12.734203853902583], \"type\": \"scatter\", \"mode\": \"lines\", \"y\": [20.446227226217555, 21.55340460756357]}, {\"line\": {\"width\": 1.3615631482798145, \"color\": \"#888\"}, \"hoverinfo\": \"none\", \"x\": [-13.197102179360037, -13.272428838714013], \"type\": \"scatter\", \"mode\": \"lines\", \"y\": [20.446227226217555, 21.97460394894528]}, {\"line\": {\"width\": 1.88146236894806, \"color\": \"#888\"}, \"hoverinfo\": \"none\", \"x\": [-13.197102179360037, -12.77601031504658], \"type\": \"scatter\", \"mode\": \"lines\", \"y\": [20.446227226217555, 21.12541781408756]}, {\"line\": {\"width\": 1.0948792638072153, \"color\": \"#888\"}, \"hoverinfo\": \"none\", \"x\": [-13.197102179360037, -14.233251817518356], \"type\": \"scatter\", \"mode\": \"lines\", \"y\": [20.446227226217555, 19.446136122802898]}, {\"line\": {\"width\": 1.1768508449521695, \"color\": \"#888\"}, \"hoverinfo\": \"none\", \"x\": [-11.96986801292686, -12.345143556966459], \"type\": \"scatter\", \"mode\": \"lines\", \"y\": [22.41278980421849, 21.995363443026463]}, {\"line\": {\"width\": 1.1403599810656184, \"color\": \"#888\"}, \"hoverinfo\": \"none\", \"x\": [-12.345143556966459, -12.39070970399015], \"type\": \"scatter\", \"mode\": \"lines\", \"y\": [21.995363443026463, 22.673929128949084]}, {\"line\": {\"width\": 1.2126837123212695, \"color\": \"#888\"}, \"hoverinfo\": \"none\", \"x\": [-12.345143556966459, -12.040651155801354], \"type\": \"scatter\", \"mode\": \"lines\", \"y\": [21.995363443026463, 21.209858966184818]}, {\"line\": {\"width\": 1.2839448025401863, \"color\": \"#888\"}, \"hoverinfo\": \"none\", \"x\": [-12.345143556966459, -12.910843834401481], \"type\": \"scatter\", \"mode\": \"lines\", \"y\": [21.995363443026463, 21.01436659376408]}, {\"line\": {\"width\": 1.0867502706949521, \"color\": \"#888\"}, \"hoverinfo\": \"none\", \"x\": [-12.345143556966459, -12.77601031504658], \"type\": \"scatter\", \"mode\": \"lines\", \"y\": [21.995363443026463, 21.12541781408756]}, {\"line\": {\"width\": 1.0169021877525928, \"color\": \"#888\"}, \"hoverinfo\": \"none\", \"x\": [-12.345143556966459, -13.263024710033392], \"type\": \"scatter\", \"mode\": \"lines\", \"y\": [21.995363443026463, 21.47913495742209]}, {\"line\": {\"width\": 1.0122180204210627, \"color\": \"#888\"}, \"hoverinfo\": \"none\", \"x\": [-12.345143556966459, -11.263788850048781], \"type\": \"scatter\", \"mode\": \"lines\", \"y\": [21.995363443026463, 22.384709120747623]}, {\"line\": {\"width\": 2.5970015432787803, \"color\": \"#888\"}, \"hoverinfo\": \"none\", \"x\": [-13.713867049753938, -12.850718139242009], \"type\": \"scatter\", \"mode\": \"lines\", \"y\": [21.32277923138798, 20.929101940708783]}, {\"line\": {\"width\": 1.316503749556375, \"color\": \"#888\"}, \"hoverinfo\": \"none\", \"x\": [-14.018918630615032, -12.850718139242009], \"type\": \"scatter\", \"mode\": \"lines\", \"y\": [21.72493113956793, 20.929101940708783]}, {\"line\": {\"width\": 1.9040831646216727, \"color\": \"#888\"}, \"hoverinfo\": \"none\", \"x\": [-13.72503864579122, -12.850718139242009], \"type\": \"scatter\", \"mode\": \"lines\", \"y\": [20.752200827459543, 20.929101940708783]}, {\"line\": {\"width\": 1.7510529183333121, \"color\": \"#888\"}, \"hoverinfo\": \"none\", \"x\": [-12.95422029598588, -12.850718139242009], \"type\": \"scatter\", \"mode\": \"lines\", \"y\": [22.173012221957887, 20.929101940708783]}, {\"line\": {\"width\": 1.1269075202535626, \"color\": \"#888\"}, \"hoverinfo\": \"none\", \"x\": [-13.889868260640972, -12.850718139242009], \"type\": \"scatter\", \"mode\": \"lines\", \"y\": [20.43968106318603, 20.929101940708783]}, {\"line\": {\"width\": 1.0025563006527958, \"color\": \"#888\"}, \"hoverinfo\": \"none\", \"x\": [-11.722208057949885, -12.850718139242009], \"type\": \"scatter\", \"mode\": \"lines\", \"y\": [20.221982900095632, 20.929101940708783]}, {\"line\": {\"width\": 1.9291399195771364, \"color\": \"#888\"}, \"hoverinfo\": \"none\", \"x\": [-13.469602721182888, -12.850718139242009], \"type\": \"scatter\", \"mode\": \"lines\", \"y\": [21.366730828241682, 20.929101940708783]}, {\"line\": {\"width\": 1.713190769748516, \"color\": \"#888\"}, \"hoverinfo\": \"none\", \"x\": [-13.421282842315208, -12.850718139242009], \"type\": \"scatter\", \"mode\": \"lines\", \"y\": [20.731208327312252, 20.929101940708783]}, {\"line\": {\"width\": 1.0539283700693882, \"color\": \"#888\"}, \"hoverinfo\": \"none\", \"x\": [-12.075137469042582, -12.850718139242009], \"type\": \"scatter\", \"mode\": \"lines\", \"y\": [21.88172971181922, 20.929101940708783]}, {\"line\": {\"width\": 1.0423669327280327, \"color\": \"#888\"}, \"hoverinfo\": \"none\", \"x\": [-12.88079425450245, -12.850718139242009], \"type\": \"scatter\", \"mode\": \"lines\", \"y\": [20.00414689876472, 20.929101940708783]}, {\"line\": {\"width\": 1.3313657603805105, \"color\": \"#888\"}, \"hoverinfo\": \"none\", \"x\": [-11.949124589899004, -12.850718139242009], \"type\": \"scatter\", \"mode\": \"lines\", \"y\": [21.792200991998797, 20.929101940708783]}, {\"line\": {\"width\": 1.2693981784240256, \"color\": \"#888\"}, \"hoverinfo\": \"none\", \"x\": [-12.341464452775313, -12.850718139242009], \"type\": \"scatter\", \"mode\": \"lines\", \"y\": [20.311362961497515, 20.929101940708783]}, {\"line\": {\"width\": 1.381587268864401, \"color\": \"#888\"}, \"hoverinfo\": \"none\", \"x\": [-13.488239384273696, -12.850718139242009], \"type\": \"scatter\", \"mode\": \"lines\", \"y\": [22.052657171590635, 20.929101940708783]}, {\"line\": {\"width\": 1.1464411942901618, \"color\": \"#888\"}, \"hoverinfo\": \"none\", \"x\": [-13.642983348705675, -12.850718139242009], \"type\": \"scatter\", \"mode\": \"lines\", \"y\": [20.519633212486255, 20.929101940708783]}, {\"line\": {\"width\": 1.0183573234405014, \"color\": \"#888\"}, \"hoverinfo\": \"none\", \"x\": [-11.942871546634484, -12.850718139242009], \"type\": \"scatter\", \"mode\": \"lines\", \"y\": [20.943028751942535, 20.929101940708783]}, {\"line\": {\"width\": 2.2141121478938164, \"color\": \"#888\"}, \"hoverinfo\": \"none\", \"x\": [-13.197102179360037, -12.850718139242009], \"type\": \"scatter\", \"mode\": \"lines\", \"y\": [20.446227226217555, 20.929101940708783]}, {\"line\": {\"width\": 1.1712860523167408, \"color\": \"#888\"}, \"hoverinfo\": \"none\", \"x\": [-12.850718139242009, -13.236477225987986], \"type\": \"scatter\", \"mode\": \"lines\", \"y\": [20.929101940708783, 20.35065703675912]}, {\"line\": {\"width\": 1.4412857713781093, \"color\": \"#888\"}, \"hoverinfo\": \"none\", \"x\": [-12.850718139242009, -13.537096610506756], \"type\": \"scatter\", \"mode\": \"lines\", \"y\": [20.929101940708783, 19.92320307519968]}, {\"line\": {\"width\": 2.429011397785476, \"color\": \"#888\"}, \"hoverinfo\": \"none\", \"x\": [-12.850718139242009, -13.427726029882152], \"type\": \"scatter\", \"mode\": \"lines\", \"y\": [20.929101940708783, 21.052187341494502]}, {\"line\": {\"width\": 1.3331325105622227, \"color\": \"#888\"}, \"hoverinfo\": \"none\", \"x\": [-12.850718139242009, -13.04465356572712], \"type\": \"scatter\", \"mode\": \"lines\", \"y\": [20.929101940708783, 19.63101236622079]}, {\"line\": {\"width\": 1.6901053602020606, \"color\": \"#888\"}, \"hoverinfo\": \"none\", \"x\": [-12.850718139242009, -14.027395794310534], \"type\": \"scatter\", \"mode\": \"lines\", \"y\": [20.929101940708783, 21.396105270096907]}, {\"line\": {\"width\": 1.416011696579956, \"color\": \"#888\"}, \"hoverinfo\": \"none\", \"x\": [-12.850718139242009, -13.584146493457986], \"type\": \"scatter\", \"mode\": \"lines\", \"y\": [20.929101940708783, 21.910867822678476]}, {\"line\": {\"width\": 1.6820375473378413, \"color\": \"#888\"}, \"hoverinfo\": \"none\", \"x\": [-12.850718139242009, -12.907640754729615], \"type\": \"scatter\", \"mode\": \"lines\", \"y\": [20.929101940708783, 20.469607616408755]}, {\"line\": {\"width\": 3.1577487523157908, \"color\": \"#888\"}, \"hoverinfo\": \"none\", \"x\": [-12.850718139242009, -13.046705351336772], \"type\": \"scatter\", \"mode\": \"lines\", \"y\": [20.929101940708783, 20.77588764099713]}, {\"line\": {\"width\": 1.3355783082579442, \"color\": \"#888\"}, \"hoverinfo\": \"none\", \"x\": [-12.850718139242009, -11.670530996185668], \"type\": \"scatter\", \"mode\": \"lines\", \"y\": [20.929101940708783, 21.09066706630328]}, {\"line\": {\"width\": 1.0218575318561447, \"color\": \"#888\"}, \"hoverinfo\": \"none\", \"x\": [-12.850718139242009, -12.700498433924094], \"type\": \"scatter\", \"mode\": \"lines\", \"y\": [20.929101940708783, 22.212152083511462]}, {\"line\": {\"width\": 1.1112082173446767, \"color\": \"#888\"}, \"hoverinfo\": \"none\", \"x\": [-12.850718139242009, -12.14572655546444], \"type\": \"scatter\", \"mode\": \"lines\", \"y\": [20.929101940708783, 20.401750449215392]}, {\"line\": {\"width\": 1.1081264330164462, \"color\": \"#888\"}, \"hoverinfo\": \"none\", \"x\": [-12.850718139242009, -12.918576723501182], \"type\": \"scatter\", \"mode\": \"lines\", \"y\": [20.929101940708783, 19.762632785571746]}, {\"line\": {\"width\": 1.7038625293784184, \"color\": \"#888\"}, \"hoverinfo\": \"none\", \"x\": [-12.850718139242009, -12.608722745064354], \"type\": \"scatter\", \"mode\": \"lines\", \"y\": [20.929101940708783, 21.38991608678275]}, {\"line\": {\"width\": 1.2481703996943403, \"color\": \"#888\"}, \"hoverinfo\": \"none\", \"x\": [-12.850718139242009, -13.912717315656698], \"type\": \"scatter\", \"mode\": \"lines\", \"y\": [20.929101940708783, 21.454212393115643]}, {\"line\": {\"width\": 1.5675087240431738, \"color\": \"#888\"}, \"hoverinfo\": \"none\", \"x\": [-12.850718139242009, -12.629951858941117], \"type\": \"scatter\", \"mode\": \"lines\", \"y\": [20.929101940708783, 20.42458920482799]}, {\"line\": {\"width\": 2.065971345037072, \"color\": \"#888\"}, \"hoverinfo\": \"none\", \"x\": [-12.850718139242009, -13.551675742174377], \"type\": \"scatter\", \"mode\": \"lines\", \"y\": [20.929101940708783, 20.329212509114274]}, {\"line\": {\"width\": 1.396281197964648, \"color\": \"#888\"}, \"hoverinfo\": \"none\", \"x\": [-12.850718139242009, -12.245780801073543], \"type\": \"scatter\", \"mode\": \"lines\", \"y\": [20.929101940708783, 22.05487676021708]}, {\"line\": {\"width\": 1.0785351354543908, \"color\": \"#888\"}, \"hoverinfo\": \"none\", \"x\": [-12.850718139242009, -13.351672055886201], \"type\": \"scatter\", \"mode\": \"lines\", \"y\": [20.929101940708783, 19.867140863497806]}, {\"line\": {\"width\": 1.0897274601483349, \"color\": \"#888\"}, \"hoverinfo\": \"none\", \"x\": [-12.850718139242009, -14.113963476444026], \"type\": \"scatter\", \"mode\": \"lines\", \"y\": [20.929101940708783, 20.733964232542867]}, {\"line\": {\"width\": 1.3018585044066486, \"color\": \"#888\"}, \"hoverinfo\": \"none\", \"x\": [-12.850718139242009, -12.170458243867694], \"type\": \"scatter\", \"mode\": \"lines\", \"y\": [20.929101940708783, 19.971879414718284]}, {\"line\": {\"width\": 10.0, \"color\": \"#888\"}, \"hoverinfo\": \"none\", \"x\": [-12.850718139242009, -12.910843834401481], \"type\": \"scatter\", \"mode\": \"lines\", \"y\": [20.929101940708783, 21.01436659376408]}, {\"line\": {\"width\": 2.532758298862073, \"color\": \"#888\"}, \"hoverinfo\": \"none\", \"x\": [-12.850718139242009, -13.637993460243793], \"type\": \"scatter\", \"mode\": \"lines\", \"y\": [20.929101940708783, 21.53220459934256]}, {\"line\": {\"width\": 1.1674054637034508, \"color\": \"#888\"}, \"hoverinfo\": \"none\", \"x\": [-12.850718139242009, -12.154447470436555], \"type\": \"scatter\", \"mode\": \"lines\", \"y\": [20.929101940708783, 20.687358998302738]}, {\"line\": {\"width\": 1.5771108142790777, \"color\": \"#888\"}, \"hoverinfo\": \"none\", \"x\": [-12.850718139242009, -12.284441948806446], \"type\": \"scatter\", \"mode\": \"lines\", \"y\": [20.929101940708783, 21.025645557579107]}, {\"line\": {\"width\": 1.6595256306523098, \"color\": \"#888\"}, \"hoverinfo\": \"none\", \"x\": [-12.850718139242009, -13.7703511169154], \"type\": \"scatter\", \"mode\": \"lines\", \"y\": [20.929101940708783, 21.085508206964032]}, {\"line\": {\"width\": 1.605423384514806, \"color\": \"#888\"}, \"hoverinfo\": \"none\", \"x\": [-12.850718139242009, -13.991559819591165], \"type\": \"scatter\", \"mode\": \"lines\", \"y\": [20.929101940708783, 20.390716009399764]}, {\"line\": {\"width\": 1.7173305471245446, \"color\": \"#888\"}, \"hoverinfo\": \"none\", \"x\": [-12.850718139242009, -13.23643931550353], \"type\": \"scatter\", \"mode\": \"lines\", \"y\": [20.929101940708783, 20.945151973986814]}, {\"line\": {\"width\": 1.2028357067820319, \"color\": \"#888\"}, \"hoverinfo\": \"none\", \"x\": [-12.850718139242009, -11.85499862010832], \"type\": \"scatter\", \"mode\": \"lines\", \"y\": [20.929101940708783, 20.494921025806526]}, {\"line\": {\"width\": 1.5369501912484806, \"color\": \"#888\"}, \"hoverinfo\": \"none\", \"x\": [-12.850718139242009, -11.80173372332277], \"type\": \"scatter\", \"mode\": \"lines\", \"y\": [20.929101940708783, 21.45649671999348]}, {\"line\": {\"width\": 1.1810347859256036, \"color\": \"#888\"}, \"hoverinfo\": \"none\", \"x\": [-12.850718139242009, -12.413627755794588], \"type\": \"scatter\", \"mode\": \"lines\", \"y\": [20.929101940708783, 19.886962274912875]}, {\"line\": {\"width\": 3.24239654650267, \"color\": \"#888\"}, \"hoverinfo\": \"none\", \"x\": [-12.850718139242009, -13.030036553810685], \"type\": \"scatter\", \"mode\": \"lines\", \"y\": [20.929101940708783, 21.519701600461545]}, {\"line\": {\"width\": 1.2797654542636812, \"color\": \"#888\"}, \"hoverinfo\": \"none\", \"x\": [-12.850718139242009, -13.007084255175895], \"type\": \"scatter\", \"mode\": \"lines\", \"y\": [20.929101940708783, 21.86972207748751]}, {\"line\": {\"width\": 1.4560617117653787, \"color\": \"#888\"}, \"hoverinfo\": \"none\", \"x\": [-12.850718139242009, -14.197638723341639], \"type\": \"scatter\", \"mode\": \"lines\", \"y\": [20.929101940708783, 21.267662103421003]}, {\"line\": {\"width\": 1.9377941741220632, \"color\": \"#888\"}, \"hoverinfo\": \"none\", \"x\": [-12.850718139242009, -12.734203853902583], \"type\": \"scatter\", \"mode\": \"lines\", \"y\": [20.929101940708783, 21.55340460756357]}, {\"line\": {\"width\": 1.3973979854360747, \"color\": \"#888\"}, \"hoverinfo\": \"none\", \"x\": [-12.850718139242009, -13.272428838714013], \"type\": \"scatter\", \"mode\": \"lines\", \"y\": [20.929101940708783, 21.97460394894528]}, {\"line\": {\"width\": 2.907335717315135, \"color\": \"#888\"}, \"hoverinfo\": \"none\", \"x\": [-12.850718139242009, -12.77601031504658], \"type\": \"scatter\", \"mode\": \"lines\", \"y\": [20.929101940708783, 21.12541781408756]}, {\"line\": {\"width\": 1.4338591409924732, \"color\": \"#888\"}, \"hoverinfo\": \"none\", \"x\": [-12.850718139242009, -13.402038872682441], \"type\": \"scatter\", \"mode\": \"lines\", \"y\": [20.929101940708783, 21.793632774845815]}, {\"line\": {\"width\": 1.9541320687366572, \"color\": \"#888\"}, \"hoverinfo\": \"none\", \"x\": [-12.850718139242009, -12.800082302337206], \"type\": \"scatter\", \"mode\": \"lines\", \"y\": [20.929101940708783, 21.797200858097636]}, {\"line\": {\"width\": 1.7395038261794245, \"color\": \"#888\"}, \"hoverinfo\": \"none\", \"x\": [-12.850718139242009, -13.263024710033392], \"type\": \"scatter\", \"mode\": \"lines\", \"y\": [20.929101940708783, 21.47913495742209]}, {\"line\": {\"width\": 1.1972331711801998, \"color\": \"#888\"}, \"hoverinfo\": \"none\", \"x\": [-12.850718139242009, -12.0448503313882], \"type\": \"scatter\", \"mode\": \"lines\", \"y\": [20.929101940708783, 21.57539053726569]}, {\"line\": {\"width\": 1.089909315951797, \"color\": \"#888\"}, \"hoverinfo\": \"none\", \"x\": [-12.850718139242009, -13.994286400461116], \"type\": \"scatter\", \"mode\": \"lines\", \"y\": [20.929101940708783, 20.881168702489436]}, {\"line\": {\"width\": 1.2813328864664955, \"color\": \"#888\"}, \"hoverinfo\": \"none\", \"x\": [-12.850718139242009, -11.573787898129877], \"type\": \"scatter\", \"mode\": \"lines\", \"y\": [20.929101940708783, 20.603582672482666]}, {\"line\": {\"width\": 1.115282557992097, \"color\": \"#888\"}, \"hoverinfo\": \"none\", \"x\": [-11.355176247912755, -10.483350600146865], \"type\": \"scatter\", \"mode\": \"lines\", \"y\": [13.682171823284031, 13.87370946702034]}, {\"line\": {\"width\": 1.221336861129728, \"color\": \"#888\"}, \"hoverinfo\": \"none\", \"x\": [-12.900087281018456, -12.918576723501182], \"type\": \"scatter\", \"mode\": \"lines\", \"y\": [18.488429619802535, 19.762632785571746]}, {\"line\": {\"width\": 1.0300976654409664, \"color\": \"#888\"}, \"hoverinfo\": \"none\", \"x\": [-14.018918630615032, -15.185335092491869], \"type\": \"scatter\", \"mode\": \"lines\", \"y\": [21.72493113956793, 21.033890967174504]}, {\"line\": {\"width\": 1.0103215443084737, \"color\": \"#888\"}, \"hoverinfo\": \"none\", \"x\": [-13.889868260640972, -15.185335092491869], \"type\": \"scatter\", \"mode\": \"lines\", \"y\": [20.43968106318603, 21.033890967174504]}, {\"line\": {\"width\": 1.1019618551845796, \"color\": \"#888\"}, \"hoverinfo\": \"none\", \"x\": [-14.858379268270992, -15.185335092491869], \"type\": \"scatter\", \"mode\": \"lines\", \"y\": [21.526061738550137, 21.033890967174504]}, {\"line\": {\"width\": 1.0804621489566602, \"color\": \"#888\"}, \"hoverinfo\": \"none\", \"x\": [-15.185335092491869, -15.827375056035295], \"type\": \"scatter\", \"mode\": \"lines\", \"y\": [21.033890967174504, 21.850844621105583]}, {\"line\": {\"width\": 1.076168477283597, \"color\": \"#888\"}, \"hoverinfo\": \"none\", \"x\": [-15.185335092491869, -14.986087504472923], \"type\": \"scatter\", \"mode\": \"lines\", \"y\": [21.033890967174504, 22.39991748096667]}, {\"line\": {\"width\": 1.04064663228925, \"color\": \"#888\"}, \"hoverinfo\": \"none\", \"x\": [-12.88079425450245, -13.236477225987986], \"type\": \"scatter\", \"mode\": \"lines\", \"y\": [20.00414689876472, 20.35065703675912]}, {\"line\": {\"width\": 1.0170497165325973, \"color\": \"#888\"}, \"hoverinfo\": \"none\", \"x\": [-12.341464452775313, -13.236477225987986], \"type\": \"scatter\", \"mode\": \"lines\", \"y\": [20.311362961497515, 20.35065703675912]}, {\"line\": {\"width\": 1.1138911894863133, \"color\": \"#888\"}, \"hoverinfo\": \"none\", \"x\": [-14.489168620811169, -13.236477225987986], \"type\": \"scatter\", \"mode\": \"lines\", \"y\": [21.091249032371852, 20.35065703675912]}, {\"line\": {\"width\": 1.2534008462211892, \"color\": \"#888\"}, \"hoverinfo\": \"none\", \"x\": [-13.642983348705675, -13.236477225987986], \"type\": \"scatter\", \"mode\": \"lines\", \"y\": [20.519633212486255, 20.35065703675912]}, {\"line\": {\"width\": 1.1712860523167408, \"color\": \"#888\"}, \"hoverinfo\": \"none\", \"x\": [-12.850718139242009, -13.236477225987986], \"type\": \"scatter\", \"mode\": \"lines\", \"y\": [20.929101940708783, 20.35065703675912]}, {\"line\": {\"width\": 1.0038389531599077, \"color\": \"#888\"}, \"hoverinfo\": \"none\", \"x\": [-13.236477225987986, -13.537096610506756], \"type\": \"scatter\", \"mode\": \"lines\", \"y\": [20.35065703675912, 19.92320307519968]}, {\"line\": {\"width\": 1.1304683064154144, \"color\": \"#888\"}, \"hoverinfo\": \"none\", \"x\": [-13.236477225987986, -12.32242407686812], \"type\": \"scatter\", \"mode\": \"lines\", \"y\": [20.35065703675912, 19.080863426314938]}, {\"line\": {\"width\": 1.5414979966204365, \"color\": \"#888\"}, \"hoverinfo\": \"none\", \"x\": [-13.236477225987986, -13.427726029882152], \"type\": \"scatter\", \"mode\": \"lines\", \"y\": [20.35065703675912, 21.052187341494502]}, {\"line\": {\"width\": 1.271461417643486, \"color\": \"#888\"}, \"hoverinfo\": \"none\", \"x\": [-13.236477225987986, -12.608722745064354], \"type\": \"scatter\", \"mode\": \"lines\", \"y\": [20.35065703675912, 21.38991608678275]}, {\"line\": {\"width\": 1.16603137124147, \"color\": \"#888\"}, \"hoverinfo\": \"none\", \"x\": [-13.236477225987986, -12.356415919830226], \"type\": \"scatter\", \"mode\": \"lines\", \"y\": [20.35065703675912, 19.76080027239755]}, {\"line\": {\"width\": 1.61317668208167, \"color\": \"#888\"}, \"hoverinfo\": \"none\", \"x\": [-13.236477225987986, -13.912717315656698], \"type\": \"scatter\", \"mode\": \"lines\", \"y\": [20.35065703675912, 21.454212393115643]}, {\"line\": {\"width\": 1.092005958482648, \"color\": \"#888\"}, \"hoverinfo\": \"none\", \"x\": [-13.236477225987986, -12.773844683472381], \"type\": \"scatter\", \"mode\": \"lines\", \"y\": [20.35065703675912, 19.566330422843407]}, {\"line\": {\"width\": 1.173381555970102, \"color\": \"#888\"}, \"hoverinfo\": \"none\", \"x\": [-13.236477225987986, -14.113963476444026], \"type\": \"scatter\", \"mode\": \"lines\", \"y\": [20.35065703675912, 20.733964232542867]}, {\"line\": {\"width\": 1.1574776734716477, \"color\": \"#888\"}, \"hoverinfo\": \"none\", \"x\": [-13.236477225987986, -12.910843834401481], \"type\": \"scatter\", \"mode\": \"lines\", \"y\": [20.35065703675912, 21.01436659376408]}, {\"line\": {\"width\": 1.0179305802804943, \"color\": \"#888\"}, \"hoverinfo\": \"none\", \"x\": [-13.236477225987986, -13.637993460243793], \"type\": \"scatter\", \"mode\": \"lines\", \"y\": [20.35065703675912, 21.53220459934256]}, {\"line\": {\"width\": 1.041508649846482, \"color\": \"#888\"}, \"hoverinfo\": \"none\", \"x\": [-13.236477225987986, -13.23643931550353], \"type\": \"scatter\", \"mode\": \"lines\", \"y\": [20.35065703675912, 20.945151973986814]}, {\"line\": {\"width\": 1.1258718759742317, \"color\": \"#888\"}, \"hoverinfo\": \"none\", \"x\": [-13.236477225987986, -13.402038872682441], \"type\": \"scatter\", \"mode\": \"lines\", \"y\": [20.35065703675912, 21.793632774845815]}, {\"line\": {\"width\": 1.4722270411545835, \"color\": \"#888\"}, \"hoverinfo\": \"none\", \"x\": [-13.236477225987986, -13.263024710033392], \"type\": \"scatter\", \"mode\": \"lines\", \"y\": [20.35065703675912, 21.47913495742209]}, {\"line\": {\"width\": 1.027904451194665, \"color\": \"#888\"}, \"hoverinfo\": \"none\", \"x\": [-13.236477225987986, -13.994286400461116], \"type\": \"scatter\", \"mode\": \"lines\", \"y\": [20.35065703675912, 20.881168702489436]}, {\"line\": {\"width\": 1.0237158988547368, \"color\": \"#888\"}, \"hoverinfo\": \"none\", \"x\": [-10.805873149921057, -10.980994182527269], \"type\": \"scatter\", \"mode\": \"lines\", \"y\": [20.42653191608568, 18.92772968732724]}, {\"line\": {\"width\": 1.0445088892609804, \"color\": \"#888\"}, \"hoverinfo\": \"none\", \"x\": [-10.980994182527269, -10.917791500255126], \"type\": \"scatter\", \"mode\": \"lines\", \"y\": [18.92772968732724, 19.742127029568135]}, {\"line\": {\"width\": 1.0168162068323456, \"color\": \"#888\"}, \"hoverinfo\": \"none\", \"x\": [-10.980994182527269, -11.903242820535906], \"type\": \"scatter\", \"mode\": \"lines\", \"y\": [18.92772968732724, 19.6044514246644]}, {\"line\": {\"width\": 1.0622303470365777, \"color\": \"#888\"}, \"hoverinfo\": \"none\", \"x\": [-4.299798236115684, -4.081654789066221], \"type\": \"scatter\", \"mode\": \"lines\", \"y\": [15.189864370818551, 16.05254792635598]}, {\"line\": {\"width\": 1.0829103671353115, \"color\": \"#888\"}, \"hoverinfo\": \"none\", \"x\": [-13.889868260640972, -13.537096610506756], \"type\": \"scatter\", \"mode\": \"lines\", \"y\": [20.43968106318603, 19.92320307519968]}, {\"line\": {\"width\": 1.1107568299331017, \"color\": \"#888\"}, \"hoverinfo\": \"none\", \"x\": [-12.88079425450245, -13.537096610506756], \"type\": \"scatter\", \"mode\": \"lines\", \"y\": [20.00414689876472, 19.92320307519968]}, {\"line\": {\"width\": 1.3890291732029427, \"color\": \"#888\"}, \"hoverinfo\": \"none\", \"x\": [-13.642983348705675, -13.537096610506756], \"type\": \"scatter\", \"mode\": \"lines\", \"y\": [20.519633212486255, 19.92320307519968]}, {\"line\": {\"width\": 1.094290245698182, \"color\": \"#888\"}, \"hoverinfo\": \"none\", \"x\": [-14.550581404051927, -13.537096610506756], \"type\": \"scatter\", \"mode\": \"lines\", \"y\": [19.624642271113515, 19.92320307519968]}, {\"line\": {\"width\": 1.4412857713781093, \"color\": \"#888\"}, \"hoverinfo\": \"none\", \"x\": [-12.850718139242009, -13.537096610506756], \"type\": \"scatter\", \"mode\": \"lines\", \"y\": [20.929101940708783, 19.92320307519968]}, {\"line\": {\"width\": 1.0038389531599077, \"color\": \"#888\"}, \"hoverinfo\": \"none\", \"x\": [-13.236477225987986, -13.537096610506756], \"type\": \"scatter\", \"mode\": \"lines\", \"y\": [20.35065703675912, 19.92320307519968]}, {\"line\": {\"width\": 1.1635025317885093, \"color\": \"#888\"}, \"hoverinfo\": \"none\", \"x\": [-13.537096610506756, -13.85101503582916], \"type\": \"scatter\", \"mode\": \"lines\", \"y\": [19.92320307519968, 19.70968323427432]}, {\"line\": {\"width\": 1.033951930204585, \"color\": \"#888\"}, \"hoverinfo\": \"none\", \"x\": [-13.537096610506756, -13.427726029882152], \"type\": \"scatter\", \"mode\": \"lines\", \"y\": [19.92320307519968, 21.052187341494502]}, {\"line\": {\"width\": 1.1452165338943878, \"color\": \"#888\"}, \"hoverinfo\": \"none\", \"x\": [-13.537096610506756, -13.04465356572712], \"type\": \"scatter\", \"mode\": \"lines\", \"y\": [19.92320307519968, 19.63101236622079]}, {\"line\": {\"width\": 1.0167819311066197, \"color\": \"#888\"}, \"hoverinfo\": \"none\", \"x\": [-13.537096610506756, -14.582278534558517], \"type\": \"scatter\", \"mode\": \"lines\", \"y\": [19.92320307519968, 20.217135258366874]}, {\"line\": {\"width\": 1.002568567903429, \"color\": \"#888\"}, \"hoverinfo\": \"none\", \"x\": [-13.537096610506756, -13.046705351336772], \"type\": \"scatter\", \"mode\": \"lines\", \"y\": [19.92320307519968, 20.77588764099713]}, {\"line\": {\"width\": 1.103419965826937, \"color\": \"#888\"}, \"hoverinfo\": \"none\", \"x\": [-13.537096610506756, -12.918576723501182], \"type\": \"scatter\", \"mode\": \"lines\", \"y\": [19.92320307519968, 19.762632785571746]}, {\"line\": {\"width\": 1.1755908676233198, \"color\": \"#888\"}, \"hoverinfo\": \"none\", \"x\": [-13.537096610506756, -13.610912637176686], \"type\": \"scatter\", \"mode\": \"lines\", \"y\": [19.92320307519968, 18.6772196523297]}, {\"line\": {\"width\": 1.2118755430433457, \"color\": \"#888\"}, \"hoverinfo\": \"none\", \"x\": [-13.537096610506756, -14.113963476444026], \"type\": \"scatter\", \"mode\": \"lines\", \"y\": [19.92320307519968, 20.733964232542867]}, {\"line\": {\"width\": 1.4227295360483014, \"color\": \"#888\"}, \"hoverinfo\": \"none\", \"x\": [-13.537096610506756, -12.910843834401481], \"type\": \"scatter\", \"mode\": \"lines\", \"y\": [19.92320307519968, 21.01436659376408]}, {\"line\": {\"width\": 1.1369270258579665, \"color\": \"#888\"}, \"hoverinfo\": \"none\", \"x\": [-13.537096610506756, -13.23643931550353], \"type\": \"scatter\", \"mode\": \"lines\", \"y\": [19.92320307519968, 20.945151973986814]}, {\"line\": {\"width\": 1.0364107351616023, \"color\": \"#888\"}, \"hoverinfo\": \"none\", \"x\": [-13.537096610506756, -12.791751733740055], \"type\": \"scatter\", \"mode\": \"lines\", \"y\": [19.92320307519968, 19.008361465721478]}, {\"line\": {\"width\": 1.0446384886259727, \"color\": \"#888\"}, \"hoverinfo\": \"none\", \"x\": [-13.889868260640972, -14.005021731026002], \"type\": \"scatter\", \"mode\": \"lines\", \"y\": [20.43968106318603, 21.876050068264206]}, {\"line\": {\"width\": 1.1790582434587684, \"color\": \"#888\"}, \"hoverinfo\": \"none\", \"x\": [-13.488239384273696, -14.005021731026002], \"type\": \"scatter\", \"mode\": \"lines\", \"y\": [22.052657171590635, 21.876050068264206]}, {\"line\": {\"width\": 1.0405786368769883, \"color\": \"#888\"}, \"hoverinfo\": \"none\", \"x\": [-14.005021731026002, -15.318409941350346], \"type\": \"scatter\", \"mode\": \"lines\", \"y\": [21.876050068264206, 21.07416326794205]}, {\"line\": {\"width\": 1.0735111654177543, \"color\": \"#888\"}, \"hoverinfo\": \"none\", \"x\": [-14.005021731026002, -14.113963476444026], \"type\": \"scatter\", \"mode\": \"lines\", \"y\": [21.876050068264206, 20.733964232542867]}, {\"line\": {\"width\": 1.2890306469390533, \"color\": \"#888\"}, \"hoverinfo\": \"none\", \"x\": [-14.005021731026002, -12.910843834401481], \"type\": \"scatter\", \"mode\": \"lines\", \"y\": [21.876050068264206, 21.01436659376408]}, {\"line\": {\"width\": 1.0145381811725789, \"color\": \"#888\"}, \"hoverinfo\": \"none\", \"x\": [-14.005021731026002, -13.78065772681429], \"type\": \"scatter\", \"mode\": \"lines\", \"y\": [21.876050068264206, 23.09455563508934]}, {\"line\": {\"width\": 1.1313400880463478, \"color\": \"#888\"}, \"hoverinfo\": \"none\", \"x\": [-14.005021731026002, -12.800082302337206], \"type\": \"scatter\", \"mode\": \"lines\", \"y\": [21.876050068264206, 21.797200858097636]}, {\"line\": {\"width\": 1.093322173938592, \"color\": \"#888\"}, \"hoverinfo\": \"none\", \"x\": [-13.488239384273696, -14.462891867935248], \"type\": \"scatter\", \"mode\": \"lines\", \"y\": [22.052657171590635, 22.701920767788163]}, {\"line\": {\"width\": 1.0092980987433702, \"color\": \"#888\"}, \"hoverinfo\": \"none\", \"x\": [-14.462891867935248, -14.027395794310534], \"type\": \"scatter\", \"mode\": \"lines\", \"y\": [22.701920767788163, 21.396105270096907]}, {\"line\": {\"width\": 1.1304683064154144, \"color\": \"#888\"}, \"hoverinfo\": \"none\", \"x\": [-13.236477225987986, -12.32242407686812], \"type\": \"scatter\", \"mode\": \"lines\", \"y\": [20.35065703675912, 19.080863426314938]}, {\"line\": {\"width\": 1.2244702682820012, \"color\": \"#888\"}, \"hoverinfo\": \"none\", \"x\": [-12.32242407686812, -12.356415919830226], \"type\": \"scatter\", \"mode\": \"lines\", \"y\": [19.080863426314938, 19.76080027239755]}, {\"line\": {\"width\": 1.1256842604748887, \"color\": \"#888\"}, \"hoverinfo\": \"none\", \"x\": [-12.32242407686812, -12.773844683472381], \"type\": \"scatter\", \"mode\": \"lines\", \"y\": [19.080863426314938, 19.566330422843407]}, {\"line\": {\"width\": 1.3893448469619396, \"color\": \"#888\"}, \"hoverinfo\": \"none\", \"x\": [-13.72503864579122, -13.85101503582916], \"type\": \"scatter\", \"mode\": \"lines\", \"y\": [20.752200827459543, 19.70968323427432]}, {\"line\": {\"width\": 1.205932253920299, \"color\": \"#888\"}, \"hoverinfo\": \"none\", \"x\": [-13.889868260640972, -13.85101503582916], \"type\": \"scatter\", \"mode\": \"lines\", \"y\": [20.43968106318603, 19.70968323427432]}, {\"line\": {\"width\": 1.0249025539761067, \"color\": \"#888\"}, \"hoverinfo\": \"none\", \"x\": [-14.838886373833402, -13.85101503582916], \"type\": \"scatter\", \"mode\": \"lines\", \"y\": [19.128537172554875, 19.70968323427432]}, {\"line\": {\"width\": 1.0647654045022001, \"color\": \"#888\"}, \"hoverinfo\": \"none\", \"x\": [-13.979715599240638, -13.85101503582916], \"type\": \"scatter\", \"mode\": \"lines\", \"y\": [19.090615747944213, 19.70968323427432]}, {\"line\": {\"width\": 1.2481614234145846, \"color\": \"#888\"}, \"hoverinfo\": \"none\", \"x\": [-12.88079425450245, -13.85101503582916], \"type\": \"scatter\", \"mode\": \"lines\", \"y\": [20.00414689876472, 19.70968323427432]}, {\"line\": {\"width\": 1.0119653962338753, \"color\": \"#888\"}, \"hoverinfo\": \"none\", \"x\": [-13.197102179360037, -13.85101503582916], \"type\": \"scatter\", \"mode\": \"lines\", \"y\": [20.446227226217555, 19.70968323427432]}, {\"line\": {\"width\": 1.1635025317885093, \"color\": \"#888\"}, \"hoverinfo\": \"none\", \"x\": [-13.537096610506756, -13.85101503582916], \"type\": \"scatter\", \"mode\": \"lines\", \"y\": [19.92320307519968, 19.70968323427432]}, {\"line\": {\"width\": 1.0143047809372914, \"color\": \"#888\"}, \"hoverinfo\": \"none\", \"x\": [-13.85101503582916, -12.907640754729615], \"type\": \"scatter\", \"mode\": \"lines\", \"y\": [19.70968323427432, 20.469607616408755]}, {\"line\": {\"width\": 1.1244919231162438, \"color\": \"#888\"}, \"hoverinfo\": \"none\", \"x\": [-13.85101503582916, -13.046705351336772], \"type\": \"scatter\", \"mode\": \"lines\", \"y\": [19.70968323427432, 20.77588764099713]}, {\"line\": {\"width\": 1.2313168875863947, \"color\": \"#888\"}, \"hoverinfo\": \"none\", \"x\": [-13.85101503582916, -12.918576723501182], \"type\": \"scatter\", \"mode\": \"lines\", \"y\": [19.70968323427432, 19.762632785571746]}, {\"line\": {\"width\": 1.327113634493792, \"color\": \"#888\"}, \"hoverinfo\": \"none\", \"x\": [-13.85101503582916, -13.485752324101506], \"type\": \"scatter\", \"mode\": \"lines\", \"y\": [19.70968323427432, 19.465977412591247]}, {\"line\": {\"width\": 1.009360717823278, \"color\": \"#888\"}, \"hoverinfo\": \"none\", \"x\": [-13.85101503582916, -13.610912637176686], \"type\": \"scatter\", \"mode\": \"lines\", \"y\": [19.70968323427432, 18.6772196523297]}, {\"line\": {\"width\": 1.0614058798952004, \"color\": \"#888\"}, \"hoverinfo\": \"none\", \"x\": [-13.85101503582916, -14.113963476444026], \"type\": \"scatter\", \"mode\": \"lines\", \"y\": [19.70968323427432, 20.733964232542867]}, {\"line\": {\"width\": 1.0791758042523893, \"color\": \"#888\"}, \"hoverinfo\": \"none\", \"x\": [-13.85101503582916, -14.284782287057334], \"type\": \"scatter\", \"mode\": \"lines\", \"y\": [19.70968323427432, 18.6935520818868]}, {\"line\": {\"width\": 1.0701516595661367, \"color\": \"#888\"}, \"hoverinfo\": \"none\", \"x\": [-13.713867049753938, -13.427726029882152], \"type\": \"scatter\", \"mode\": \"lines\", \"y\": [21.32277923138798, 21.052187341494502]}, {\"line\": {\"width\": 1.0333383319246838, \"color\": \"#888\"}, \"hoverinfo\": \"none\", \"x\": [-13.488239384273696, -13.427726029882152], \"type\": \"scatter\", \"mode\": \"lines\", \"y\": [22.052657171590635, 21.052187341494502]}, {\"line\": {\"width\": 1.176426936885183, \"color\": \"#888\"}, \"hoverinfo\": \"none\", \"x\": [-14.489168620811169, -13.427726029882152], \"type\": \"scatter\", \"mode\": \"lines\", \"y\": [21.091249032371852, 21.052187341494502]}, {\"line\": {\"width\": 1.2511525607865748, \"color\": \"#888\"}, \"hoverinfo\": \"none\", \"x\": [-13.642983348705675, -13.427726029882152], \"type\": \"scatter\", \"mode\": \"lines\", \"y\": [20.519633212486255, 21.052187341494502]}, {\"line\": {\"width\": 1.1752154149617038, \"color\": \"#888\"}, \"hoverinfo\": \"none\", \"x\": [-11.942871546634484, -13.427726029882152], \"type\": \"scatter\", \"mode\": \"lines\", \"y\": [20.943028751942535, 21.052187341494502]}, {\"line\": {\"width\": 1.335460570441208, \"color\": \"#888\"}, \"hoverinfo\": \"none\", \"x\": [-13.197102179360037, -13.427726029882152], \"type\": \"scatter\", \"mode\": \"lines\", \"y\": [20.446227226217555, 21.052187341494502]}, {\"line\": {\"width\": 2.429011397785476, \"color\": \"#888\"}, \"hoverinfo\": \"none\", \"x\": [-12.850718139242009, -13.427726029882152], \"type\": \"scatter\", \"mode\": \"lines\", \"y\": [20.929101940708783, 21.052187341494502]}, {\"line\": {\"width\": 1.5414979966204365, \"color\": \"#888\"}, \"hoverinfo\": \"none\", \"x\": [-13.236477225987986, -13.427726029882152], \"type\": \"scatter\", \"mode\": \"lines\", \"y\": [20.35065703675912, 21.052187341494502]}, {\"line\": {\"width\": 1.033951930204585, \"color\": \"#888\"}, \"hoverinfo\": \"none\", \"x\": [-13.537096610506756, -13.427726029882152], \"type\": \"scatter\", \"mode\": \"lines\", \"y\": [19.92320307519968, 21.052187341494502]}, {\"line\": {\"width\": 1.4674605309560251, \"color\": \"#888\"}, \"hoverinfo\": \"none\", \"x\": [-13.427726029882152, -12.907640754729615], \"type\": \"scatter\", \"mode\": \"lines\", \"y\": [21.052187341494502, 20.469607616408755]}, {\"line\": {\"width\": 1.053994823587032, \"color\": \"#888\"}, \"hoverinfo\": \"none\", \"x\": [-13.427726029882152, -14.582278534558517], \"type\": \"scatter\", \"mode\": \"lines\", \"y\": [21.052187341494502, 20.217135258366874]}, {\"line\": {\"width\": 1.3592743584515317, \"color\": \"#888\"}, \"hoverinfo\": \"none\", \"x\": [-13.427726029882152, -12.608722745064354], \"type\": \"scatter\", \"mode\": \"lines\", \"y\": [21.052187341494502, 21.38991608678275]}, {\"line\": {\"width\": 1.5832465181556696, \"color\": \"#888\"}, \"hoverinfo\": \"none\", \"x\": [-13.427726029882152, -13.912717315656698], \"type\": \"scatter\", \"mode\": \"lines\", \"y\": [21.052187341494502, 21.454212393115643]}, {\"line\": {\"width\": 1.130544911080376, \"color\": \"#888\"}, \"hoverinfo\": \"none\", \"x\": [-13.427726029882152, -14.113963476444026], \"type\": \"scatter\", \"mode\": \"lines\", \"y\": [21.052187341494502, 20.733964232542867]}, {\"line\": {\"width\": 2.451719595282226, \"color\": \"#888\"}, \"hoverinfo\": \"none\", \"x\": [-13.427726029882152, -12.910843834401481], \"type\": \"scatter\", \"mode\": \"lines\", \"y\": [21.052187341494502, 21.01436659376408]}, {\"line\": {\"width\": 1.6266760524529809, \"color\": \"#888\"}, \"hoverinfo\": \"none\", \"x\": [-13.427726029882152, -13.637993460243793], \"type\": \"scatter\", \"mode\": \"lines\", \"y\": [21.052187341494502, 21.53220459934256]}, {\"line\": {\"width\": 1.0230303952199367, \"color\": \"#888\"}, \"hoverinfo\": \"none\", \"x\": [-13.427726029882152, -13.7703511169154], \"type\": \"scatter\", \"mode\": \"lines\", \"y\": [21.052187341494502, 21.085508206964032]}, {\"line\": {\"width\": 1.6122770662747037, \"color\": \"#888\"}, \"hoverinfo\": \"none\", \"x\": [-13.427726029882152, -13.23643931550353], \"type\": \"scatter\", \"mode\": \"lines\", \"y\": [21.052187341494502, 20.945151973986814]}, {\"line\": {\"width\": 1.3095900127910887, \"color\": \"#888\"}, \"hoverinfo\": \"none\", \"x\": [-13.427726029882152, -13.030036553810685], \"type\": \"scatter\", \"mode\": \"lines\", \"y\": [21.052187341494502, 21.519701600461545]}, {\"line\": {\"width\": 1.1573426694228401, \"color\": \"#888\"}, \"hoverinfo\": \"none\", \"x\": [-13.427726029882152, -12.734203853902583], \"type\": \"scatter\", \"mode\": \"lines\", \"y\": [21.052187341494502, 21.55340460756357]}, {\"line\": {\"width\": 1.0436904503602946, \"color\": \"#888\"}, \"hoverinfo\": \"none\", \"x\": [-13.427726029882152, -13.272428838714013], \"type\": \"scatter\", \"mode\": \"lines\", \"y\": [21.052187341494502, 21.97460394894528]}, {\"line\": {\"width\": 1.3594148605638678, \"color\": \"#888\"}, \"hoverinfo\": \"none\", \"x\": [-13.427726029882152, -12.77601031504658], \"type\": \"scatter\", \"mode\": \"lines\", \"y\": [21.052187341494502, 21.12541781408756]}, {\"line\": {\"width\": 1.2102107003567921, \"color\": \"#888\"}, \"hoverinfo\": \"none\", \"x\": [-13.427726029882152, -13.402038872682441], \"type\": \"scatter\", \"mode\": \"lines\", \"y\": [21.052187341494502, 21.793632774845815]}, {\"line\": {\"width\": 1.5906730894489571, \"color\": \"#888\"}, \"hoverinfo\": \"none\", \"x\": [-13.427726029882152, -13.263024710033392], \"type\": \"scatter\", \"mode\": \"lines\", \"y\": [21.052187341494502, 21.47913495742209]}, {\"line\": {\"width\": 1.3004335332881456, \"color\": \"#888\"}, \"hoverinfo\": \"none\", \"x\": [-13.427726029882152, -13.994286400461116], \"type\": \"scatter\", \"mode\": \"lines\", \"y\": [21.052187341494502, 20.881168702489436]}, {\"line\": {\"width\": 1.0926655470758238, \"color\": \"#888\"}, \"hoverinfo\": \"none\", \"x\": [-13.427726029882152, -14.498939637577397], \"type\": \"scatter\", \"mode\": \"lines\", \"y\": [21.052187341494502, 22.044399357519538]}, {\"line\": {\"width\": 1.2188812465617447, \"color\": \"#888\"}, \"hoverinfo\": \"none\", \"x\": [-12.88079425450245, -11.815965872922868], \"type\": \"scatter\", \"mode\": \"lines\", \"y\": [20.00414689876472, 19.29060423218079]}, {\"line\": {\"width\": 1.1612526769517293, \"color\": \"#888\"}, \"hoverinfo\": \"none\", \"x\": [-12.341464452775313, -11.815965872922868], \"type\": \"scatter\", \"mode\": \"lines\", \"y\": [20.311362961497515, 19.29060423218079]}, {\"line\": {\"width\": 1.1128435382088495, \"color\": \"#888\"}, \"hoverinfo\": \"none\", \"x\": [-11.815965872922868, -12.918576723501182], \"type\": \"scatter\", \"mode\": \"lines\", \"y\": [19.29060423218079, 19.762632785571746]}, {\"line\": {\"width\": 1.0388527872993045, \"color\": \"#888\"}, \"hoverinfo\": \"none\", \"x\": [-11.815965872922868, -11.85499862010832], \"type\": \"scatter\", \"mode\": \"lines\", \"y\": [19.29060423218079, 20.494921025806526]}, {\"line\": {\"width\": 1.1771971437456932, \"color\": \"#888\"}, \"hoverinfo\": \"none\", \"x\": [-12.88079425450245, -13.04465356572712], \"type\": \"scatter\", \"mode\": \"lines\", \"y\": [20.00414689876472, 19.63101236622079]}, {\"line\": {\"width\": 1.0483439079351167, \"color\": \"#888\"}, \"hoverinfo\": \"none\", \"x\": [-13.642983348705675, -13.04465356572712], \"type\": \"scatter\", \"mode\": \"lines\", \"y\": [20.519633212486255, 19.63101236622079]}, {\"line\": {\"width\": 1.3331325105622227, \"color\": \"#888\"}, \"hoverinfo\": \"none\", \"x\": [-12.850718139242009, -13.04465356572712], \"type\": \"scatter\", \"mode\": \"lines\", \"y\": [20.929101940708783, 19.63101236622079]}, {\"line\": {\"width\": 1.1452165338943878, \"color\": \"#888\"}, \"hoverinfo\": \"none\", \"x\": [-13.537096610506756, -13.04465356572712], \"type\": \"scatter\", \"mode\": \"lines\", \"y\": [19.92320307519968, 19.63101236622079]}, {\"line\": {\"width\": 1.3947798602143577, \"color\": \"#888\"}, \"hoverinfo\": \"none\", \"x\": [-13.04465356572712, -12.407573428884401], \"type\": \"scatter\", \"mode\": \"lines\", \"y\": [19.63101236622079, 18.483892921314833]}, {\"line\": {\"width\": 1.3165820698061634, \"color\": \"#888\"}, \"hoverinfo\": \"none\", \"x\": [-13.04465356572712, -12.910843834401481], \"type\": \"scatter\", \"mode\": \"lines\", \"y\": [19.63101236622079, 21.01436659376408]}, {\"line\": {\"width\": 1.244686116798018, \"color\": \"#888\"}, \"hoverinfo\": \"none\", \"x\": [-13.04465356572712, -12.413627755794588], \"type\": \"scatter\", \"mode\": \"lines\", \"y\": [19.63101236622079, 19.886962274912875]}, {\"line\": {\"width\": 1.0856711298133694, \"color\": \"#888\"}, \"hoverinfo\": \"none\", \"x\": [-13.04465356572712, -12.791751733740055], \"type\": \"scatter\", \"mode\": \"lines\", \"y\": [19.63101236622079, 19.008361465721478]}, {\"line\": {\"width\": 1.222713154871356, \"color\": \"#888\"}, \"hoverinfo\": \"none\", \"x\": [-13.04465356572712, -13.207424864625844], \"type\": \"scatter\", \"mode\": \"lines\", \"y\": [19.63101236622079, 18.380917228599227]}, {\"line\": {\"width\": 1.2615964429238864, \"color\": \"#888\"}, \"hoverinfo\": \"none\", \"x\": [-13.488239384273696, -14.027395794310534], \"type\": \"scatter\", \"mode\": \"lines\", \"y\": [22.052657171590635, 21.396105270096907]}, {\"line\": {\"width\": 1.0759072517601342, \"color\": \"#888\"}, \"hoverinfo\": \"none\", \"x\": [-13.642983348705675, -14.027395794310534], \"type\": \"scatter\", \"mode\": \"lines\", \"y\": [20.519633212486255, 21.396105270096907]}, {\"line\": {\"width\": 1.0572669306738274, \"color\": \"#888\"}, \"hoverinfo\": \"none\", \"x\": [-14.858379268270992, -14.027395794310534], \"type\": \"scatter\", \"mode\": \"lines\", \"y\": [21.526061738550137, 21.396105270096907]}, {\"line\": {\"width\": 1.6901053602020606, \"color\": \"#888\"}, \"hoverinfo\": \"none\", \"x\": [-12.850718139242009, -14.027395794310534], \"type\": \"scatter\", \"mode\": \"lines\", \"y\": [20.929101940708783, 21.396105270096907]}, {\"line\": {\"width\": 1.0092980987433702, \"color\": \"#888\"}, \"hoverinfo\": \"none\", \"x\": [-14.462891867935248, -14.027395794310534], \"type\": \"scatter\", \"mode\": \"lines\", \"y\": [22.701920767788163, 21.396105270096907]}, {\"line\": {\"width\": 1.0504322590998842, \"color\": \"#888\"}, \"hoverinfo\": \"none\", \"x\": [-14.027395794310534, -14.582278534558517], \"type\": \"scatter\", \"mode\": \"lines\", \"y\": [21.396105270096907, 20.217135258366874]}, {\"line\": {\"width\": 1.670467809013335, \"color\": \"#888\"}, \"hoverinfo\": \"none\", \"x\": [-14.027395794310534, -12.910843834401481], \"type\": \"scatter\", \"mode\": \"lines\", \"y\": [21.396105270096907, 21.01436659376408]}, {\"line\": {\"width\": 1.0534466711766322, \"color\": \"#888\"}, \"hoverinfo\": \"none\", \"x\": [-14.027395794310534, -12.77601031504658], \"type\": \"scatter\", \"mode\": \"lines\", \"y\": [21.396105270096907, 21.12541781408756]}, {\"line\": {\"width\": 1.5110825476412013, \"color\": \"#888\"}, \"hoverinfo\": \"none\", \"x\": [-14.027395794310534, -12.800082302337206], \"type\": \"scatter\", \"mode\": \"lines\", \"y\": [21.396105270096907, 21.797200858097636]}, {\"line\": {\"width\": 1.0622303470365777, \"color\": \"#888\"}, \"hoverinfo\": \"none\", \"x\": [-4.299798236115684, -4.081654789066221], \"type\": \"scatter\", \"mode\": \"lines\", \"y\": [15.189864370818551, 16.05254792635598]}, {\"line\": {\"width\": 1.074719847328358, \"color\": \"#888\"}, \"hoverinfo\": \"none\", \"x\": [-11.722208057949885, -10.917791500255126], \"type\": \"scatter\", \"mode\": \"lines\", \"y\": [20.221982900095632, 19.742127029568135]}, {\"line\": {\"width\": 1.2664803789354053, \"color\": \"#888\"}, \"hoverinfo\": \"none\", \"x\": [-10.805873149921057, -10.917791500255126], \"type\": \"scatter\", \"mode\": \"lines\", \"y\": [20.42653191608568, 19.742127029568135]}, {\"line\": {\"width\": 1.0445088892609804, \"color\": \"#888\"}, \"hoverinfo\": \"none\", \"x\": [-10.980994182527269, -10.917791500255126], \"type\": \"scatter\", \"mode\": \"lines\", \"y\": [18.92772968732724, 19.742127029568135]}, {\"line\": {\"width\": 1.2270503994606037, \"color\": \"#888\"}, \"hoverinfo\": \"none\", \"x\": [-10.917791500255126, -10.990246823384478], \"type\": \"scatter\", \"mode\": \"lines\", \"y\": [19.742127029568135, 19.324611435865272]}, {\"line\": {\"width\": 1.4403795439450626, \"color\": \"#888\"}, \"hoverinfo\": \"none\", \"x\": [-10.917791500255126, -11.903242820535906], \"type\": \"scatter\", \"mode\": \"lines\", \"y\": [19.742127029568135, 19.6044514246644]}, {\"line\": {\"width\": 1.100376917776423, \"color\": \"#888\"}, \"hoverinfo\": \"none\", \"x\": [-10.917791500255126, -10.58466903998632], \"type\": \"scatter\", \"mode\": \"lines\", \"y\": [19.742127029568135, 20.122288006184224]}, {\"line\": {\"width\": 1.0468996025352004, \"color\": \"#888\"}, \"hoverinfo\": \"none\", \"x\": [-10.917791500255126, -11.573787898129877], \"type\": \"scatter\", \"mode\": \"lines\", \"y\": [19.742127029568135, 20.603582672482666]}, {\"line\": {\"width\": 1.000820496717732, \"color\": \"#888\"}, \"hoverinfo\": \"none\", \"x\": [-3.684136594292169, -4.584947224697205], \"type\": \"scatter\", \"mode\": \"lines\", \"y\": [15.828362727646057, 15.71948327575617]}, {\"line\": {\"width\": 1.2668221814392555, \"color\": \"#888\"}, \"hoverinfo\": \"none\", \"x\": [-4.584947224697205, -5.073089420651273], \"type\": \"scatter\", \"mode\": \"lines\", \"y\": [15.71948327575617, 16.459245976619137]}, {\"line\": {\"width\": 1.164958932558884, \"color\": \"#888\"}, \"hoverinfo\": \"none\", \"x\": [-4.584947224697205, -4.223973842704066], \"type\": \"scatter\", \"mode\": \"lines\", \"y\": [15.71948327575617, 16.553054912084303]}, {\"line\": {\"width\": 1.3700281403734758, \"color\": \"#888\"}, \"hoverinfo\": \"none\", \"x\": [-13.713867049753938, -13.584146493457986], \"type\": \"scatter\", \"mode\": \"lines\", \"y\": [21.32277923138798, 21.910867822678476]}, {\"line\": {\"width\": 1.1609738192550456, \"color\": \"#888\"}, \"hoverinfo\": \"none\", \"x\": [-13.469602721182888, -13.584146493457986], \"type\": \"scatter\", \"mode\": \"lines\", \"y\": [21.366730828241682, 21.910867822678476]}, {\"line\": {\"width\": 1.0176904302730432, \"color\": \"#888\"}, \"hoverinfo\": \"none\", \"x\": [-13.421282842315208, -13.584146493457986], \"type\": \"scatter\", \"mode\": \"lines\", \"y\": [20.731208327312252, 21.910867822678476]}, {\"line\": {\"width\": 1.0094404198980842, \"color\": \"#888\"}, \"hoverinfo\": \"none\", \"x\": [-13.197102179360037, -13.584146493457986], \"type\": \"scatter\", \"mode\": \"lines\", \"y\": [20.446227226217555, 21.910867822678476]}, {\"line\": {\"width\": 1.416011696579956, \"color\": \"#888\"}, \"hoverinfo\": \"none\", \"x\": [-12.850718139242009, -13.584146493457986], \"type\": \"scatter\", \"mode\": \"lines\", \"y\": [20.929101940708783, 21.910867822678476]}, {\"line\": {\"width\": 1.2350702599665488, \"color\": \"#888\"}, \"hoverinfo\": \"none\", \"x\": [-13.584146493457986, -13.673386623300873], \"type\": \"scatter\", \"mode\": \"lines\", \"y\": [21.910867822678476, 23.094740292057637]}, {\"line\": {\"width\": 1.196512882959736, \"color\": \"#888\"}, \"hoverinfo\": \"none\", \"x\": [-13.584146493457986, -14.424618497382848], \"type\": \"scatter\", \"mode\": \"lines\", \"y\": [21.910867822678476, 22.43415239791516]}, {\"line\": {\"width\": 1.0179709864903281, \"color\": \"#888\"}, \"hoverinfo\": \"none\", \"x\": [-13.584146493457986, -14.17718698076056], \"type\": \"scatter\", \"mode\": \"lines\", \"y\": [21.910867822678476, 22.950125329389966]}, {\"line\": {\"width\": 1.3993620914043623, \"color\": \"#888\"}, \"hoverinfo\": \"none\", \"x\": [-13.584146493457986, -12.910843834401481], \"type\": \"scatter\", \"mode\": \"lines\", \"y\": [21.910867822678476, 21.01436659376408]}, {\"line\": {\"width\": 1.478924330674631, \"color\": \"#888\"}, \"hoverinfo\": \"none\", \"x\": [-13.584146493457986, -13.7703511169154], \"type\": \"scatter\", \"mode\": \"lines\", \"y\": [21.910867822678476, 21.085508206964032]}, {\"line\": {\"width\": 1.297877318297527, \"color\": \"#888\"}, \"hoverinfo\": \"none\", \"x\": [-13.584146493457986, -13.030036553810685], \"type\": \"scatter\", \"mode\": \"lines\", \"y\": [21.910867822678476, 21.519701600461545]}, {\"line\": {\"width\": 1.0882085589507369, \"color\": \"#888\"}, \"hoverinfo\": \"none\", \"x\": [-13.584146493457986, -13.007084255175895], \"type\": \"scatter\", \"mode\": \"lines\", \"y\": [21.910867822678476, 21.86972207748751]}, {\"line\": {\"width\": 1.0913043640973121, \"color\": \"#888\"}, \"hoverinfo\": \"none\", \"x\": [-13.584146493457986, -12.734203853902583], \"type\": \"scatter\", \"mode\": \"lines\", \"y\": [21.910867822678476, 21.55340460756357]}, {\"line\": {\"width\": 1.6273683924272078, \"color\": \"#888\"}, \"hoverinfo\": \"none\", \"x\": [-13.584146493457986, -13.272428838714013], \"type\": \"scatter\", \"mode\": \"lines\", \"y\": [21.910867822678476, 21.97460394894528]}, {\"line\": {\"width\": 1.0247511735071613, \"color\": \"#888\"}, \"hoverinfo\": \"none\", \"x\": [-13.584146493457986, -12.77601031504658], \"type\": \"scatter\", \"mode\": \"lines\", \"y\": [21.910867822678476, 21.12541781408756]}, {\"line\": {\"width\": 1.1226976775080013, \"color\": \"#888\"}, \"hoverinfo\": \"none\", \"x\": [-13.584146493457986, -14.498939637577397], \"type\": \"scatter\", \"mode\": \"lines\", \"y\": [21.910867822678476, 22.044399357519538]}, {\"line\": {\"width\": 1.0190214973025375, \"color\": \"#888\"}, \"hoverinfo\": \"none\", \"x\": [-13.441751089432334, -13.610912637176686], \"type\": \"scatter\", \"mode\": \"lines\", \"y\": [17.589690474392604, 18.6772196523297]}, {\"line\": {\"width\": 1.2592419968009052, \"color\": \"#888\"}, \"hoverinfo\": \"none\", \"x\": [-13.441751089432334, -13.865413814385875], \"type\": \"scatter\", \"mode\": \"lines\", \"y\": [17.589690474392604, 16.73569458910048]}, {\"line\": {\"width\": 1.131212427299267, \"color\": \"#888\"}, \"hoverinfo\": \"none\", \"x\": [-13.713867049753938, -12.907640754729615], \"type\": \"scatter\", \"mode\": \"lines\", \"y\": [21.32277923138798, 20.469607616408755]}, {\"line\": {\"width\": 1.1821213295208606, \"color\": \"#888\"}, \"hoverinfo\": \"none\", \"x\": [-13.72503864579122, -12.907640754729615], \"type\": \"scatter\", \"mode\": \"lines\", \"y\": [20.752200827459543, 20.469607616408755]}, {\"line\": {\"width\": 1.2804779185775017, \"color\": \"#888\"}, \"hoverinfo\": \"none\", \"x\": [-13.469602721182888, -12.907640754729615], \"type\": \"scatter\", \"mode\": \"lines\", \"y\": [21.366730828241682, 20.469607616408755]}, {\"line\": {\"width\": 1.1432091321237943, \"color\": \"#888\"}, \"hoverinfo\": \"none\", \"x\": [-13.421282842315208, -12.907640754729615], \"type\": \"scatter\", \"mode\": \"lines\", \"y\": [20.731208327312252, 20.469607616408755]}, {\"line\": {\"width\": 1.0109850138118492, \"color\": \"#888\"}, \"hoverinfo\": \"none\", \"x\": [-12.88079425450245, -12.907640754729615], \"type\": \"scatter\", \"mode\": \"lines\", \"y\": [20.00414689876472, 20.469607616408755]}, {\"line\": {\"width\": 1.76520562498758, \"color\": \"#888\"}, \"hoverinfo\": \"none\", \"x\": [-13.197102179360037, -12.907640754729615], \"type\": \"scatter\", \"mode\": \"lines\", \"y\": [20.446227226217555, 20.469607616408755]}, {\"line\": {\"width\": 1.6820375473378413, \"color\": \"#888\"}, \"hoverinfo\": \"none\", \"x\": [-12.850718139242009, -12.907640754729615], \"type\": \"scatter\", \"mode\": \"lines\", \"y\": [20.929101940708783, 20.469607616408755]}, {\"line\": {\"width\": 1.0143047809372914, \"color\": \"#888\"}, \"hoverinfo\": \"none\", \"x\": [-13.85101503582916, -12.907640754729615], \"type\": \"scatter\", \"mode\": \"lines\", \"y\": [19.70968323427432, 20.469607616408755]}, {\"line\": {\"width\": 1.4674605309560251, \"color\": \"#888\"}, \"hoverinfo\": \"none\", \"x\": [-13.427726029882152, -12.907640754729615], \"type\": \"scatter\", \"mode\": \"lines\", \"y\": [21.052187341494502, 20.469607616408755]}, {\"line\": {\"width\": 1.3098397302699072, \"color\": \"#888\"}, \"hoverinfo\": \"none\", \"x\": [-12.907640754729615, -13.046705351336772], \"type\": \"scatter\", \"mode\": \"lines\", \"y\": [20.469607616408755, 20.77588764099713]}, {\"line\": {\"width\": 1.7288782060789272, \"color\": \"#888\"}, \"hoverinfo\": \"none\", \"x\": [-12.907640754729615, -12.910843834401481], \"type\": \"scatter\", \"mode\": \"lines\", \"y\": [20.469607616408755, 21.01436659376408]}, {\"line\": {\"width\": 1.4582984459131114, \"color\": \"#888\"}, \"hoverinfo\": \"none\", \"x\": [-12.907640754729615, -12.154447470436555], \"type\": \"scatter\", \"mode\": \"lines\", \"y\": [20.469607616408755, 20.687358998302738]}, {\"line\": {\"width\": 1.2602232837316554, \"color\": \"#888\"}, \"hoverinfo\": \"none\", \"x\": [-12.907640754729615, -13.7703511169154], \"type\": \"scatter\", \"mode\": \"lines\", \"y\": [20.469607616408755, 21.085508206964032]}, {\"line\": {\"width\": 1.2228433796542193, \"color\": \"#888\"}, \"hoverinfo\": \"none\", \"x\": [-12.907640754729615, -13.23643931550353], \"type\": \"scatter\", \"mode\": \"lines\", \"y\": [20.469607616408755, 20.945151973986814]}, {\"line\": {\"width\": 1.2374462400830846, \"color\": \"#888\"}, \"hoverinfo\": \"none\", \"x\": [-12.907640754729615, -13.030036553810685], \"type\": \"scatter\", \"mode\": \"lines\", \"y\": [20.469607616408755, 21.519701600461545]}, {\"line\": {\"width\": 1.4371306234018377, \"color\": \"#888\"}, \"hoverinfo\": \"none\", \"x\": [-12.907640754729615, -12.734203853902583], \"type\": \"scatter\", \"mode\": \"lines\", \"y\": [20.469607616408755, 21.55340460756357]}, {\"line\": {\"width\": 1.4523772699679673, \"color\": \"#888\"}, \"hoverinfo\": \"none\", \"x\": [-12.907640754729615, -12.77601031504658], \"type\": \"scatter\", \"mode\": \"lines\", \"y\": [20.469607616408755, 21.12541781408756]}, {\"line\": {\"width\": 1.0167985173673035, \"color\": \"#888\"}, \"hoverinfo\": \"none\", \"x\": [-12.907640754729615, -12.800082302337206], \"type\": \"scatter\", \"mode\": \"lines\", \"y\": [20.469607616408755, 21.797200858097636]}, {\"line\": {\"width\": 1.101530761467507, \"color\": \"#888\"}, \"hoverinfo\": \"none\", \"x\": [-13.979715599240638, -14.582278534558517], \"type\": \"scatter\", \"mode\": \"lines\", \"y\": [19.090615747944213, 20.217135258366874]}, {\"line\": {\"width\": 1.0229105301520915, \"color\": \"#888\"}, \"hoverinfo\": \"none\", \"x\": [-14.489168620811169, -14.582278534558517], \"type\": \"scatter\", \"mode\": \"lines\", \"y\": [21.091249032371852, 20.217135258366874]}, {\"line\": {\"width\": 1.1483881519259036, \"color\": \"#888\"}, \"hoverinfo\": \"none\", \"x\": [-13.642983348705675, -14.582278534558517], \"type\": \"scatter\", \"mode\": \"lines\", \"y\": [20.519633212486255, 20.217135258366874]}, {\"line\": {\"width\": 1.2597641475622958, \"color\": \"#888\"}, \"hoverinfo\": \"none\", \"x\": [-14.550581404051927, -14.582278534558517], \"type\": \"scatter\", \"mode\": \"lines\", \"y\": [19.624642271113515, 20.217135258366874]}, {\"line\": {\"width\": 1.3428936221763546, \"color\": \"#888\"}, \"hoverinfo\": \"none\", \"x\": [-14.311419458172569, -14.582278534558517], \"type\": \"scatter\", \"mode\": \"lines\", \"y\": [19.971822262725137, 20.217135258366874]}, {\"line\": {\"width\": 1.0167819311066197, \"color\": \"#888\"}, \"hoverinfo\": \"none\", \"x\": [-13.537096610506756, -14.582278534558517], \"type\": \"scatter\", \"mode\": \"lines\", \"y\": [19.92320307519968, 20.217135258366874]}, {\"line\": {\"width\": 1.053994823587032, \"color\": \"#888\"}, \"hoverinfo\": \"none\", \"x\": [-13.427726029882152, -14.582278534558517], \"type\": \"scatter\", \"mode\": \"lines\", \"y\": [21.052187341494502, 20.217135258366874]}, {\"line\": {\"width\": 1.0504322590998842, \"color\": \"#888\"}, \"hoverinfo\": \"none\", \"x\": [-14.027395794310534, -14.582278534558517], \"type\": \"scatter\", \"mode\": \"lines\", \"y\": [21.396105270096907, 20.217135258366874]}, {\"line\": {\"width\": 1.1152978365695407, \"color\": \"#888\"}, \"hoverinfo\": \"none\", \"x\": [-14.582278534558517, -15.067822716688191], \"type\": \"scatter\", \"mode\": \"lines\", \"y\": [20.217135258366874, 19.80585907837482]}, {\"line\": {\"width\": 1.0161543434297555, \"color\": \"#888\"}, \"hoverinfo\": \"none\", \"x\": [-14.582278534558517, -13.991559819591165], \"type\": \"scatter\", \"mode\": \"lines\", \"y\": [20.217135258366874, 20.390716009399764]}, {\"line\": {\"width\": 1.078982649507148, \"color\": \"#888\"}, \"hoverinfo\": \"none\", \"x\": [-14.582278534558517, -14.233251817518356], \"type\": \"scatter\", \"mode\": \"lines\", \"y\": [20.217135258366874, 19.446136122802898]}, {\"line\": {\"width\": 1.2447500216097875, \"color\": \"#888\"}, \"hoverinfo\": \"none\", \"x\": [-14.582278534558517, -15.174279426119066], \"type\": \"scatter\", \"mode\": \"lines\", \"y\": [20.217135258366874, 20.114788448159768]}, {\"line\": {\"width\": 1.0027186546159308, \"color\": \"#888\"}, \"hoverinfo\": \"none\", \"x\": [-14.582278534558517, -13.994286400461116], \"type\": \"scatter\", \"mode\": \"lines\", \"y\": [20.217135258366874, 20.881168702489436]}, {\"line\": {\"width\": 1.029667423443561, \"color\": \"#888\"}, \"hoverinfo\": \"none\", \"x\": [-13.197102179360037, -14.7570657120828], \"type\": \"scatter\", \"mode\": \"lines\", \"y\": [20.446227226217555, 20.50506469374403]}, {\"line\": {\"width\": 1.0520572593229847, \"color\": \"#888\"}, \"hoverinfo\": \"none\", \"x\": [-14.7570657120828, -13.991559819591165], \"type\": \"scatter\", \"mode\": \"lines\", \"y\": [20.50506469374403, 20.390716009399764]}, {\"line\": {\"width\": 1.0197896529476522, \"color\": \"#888\"}, \"hoverinfo\": \"none\", \"x\": [-14.7570657120828, -13.994286400461116], \"type\": \"scatter\", \"mode\": \"lines\", \"y\": [20.50506469374403, 20.881168702489436]}, {\"line\": {\"width\": 1.0700143707609076, \"color\": \"#888\"}, \"hoverinfo\": \"none\", \"x\": [-14.7570657120828, -15.270951640163304], \"type\": \"scatter\", \"mode\": \"lines\", \"y\": [20.50506469374403, 21.325945280292714]}, {\"line\": {\"width\": 1.1525315474835547, \"color\": \"#888\"}, \"hoverinfo\": \"none\", \"x\": [-13.713867049753938, -13.046705351336772], \"type\": \"scatter\", \"mode\": \"lines\", \"y\": [21.32277923138798, 20.77588764099713]}, {\"line\": {\"width\": 1.2848271338362474, \"color\": \"#888\"}, \"hoverinfo\": \"none\", \"x\": [-13.72503864579122, -13.046705351336772], \"type\": \"scatter\", \"mode\": \"lines\", \"y\": [20.752200827459543, 20.77588764099713]}, {\"line\": {\"width\": 1.39459880184587, \"color\": \"#888\"}, \"hoverinfo\": \"none\", \"x\": [-12.95422029598588, -13.046705351336772], \"type\": \"scatter\", \"mode\": \"lines\", \"y\": [22.173012221957887, 20.77588764099713]}, {\"line\": {\"width\": 1.0679677767616238, \"color\": \"#888\"}, \"hoverinfo\": \"none\", \"x\": [-13.889868260640972, -13.046705351336772], \"type\": \"scatter\", \"mode\": \"lines\", \"y\": [20.43968106318603, 20.77588764099713]}, {\"line\": {\"width\": 1.2091363920549865, \"color\": \"#888\"}, \"hoverinfo\": \"none\", \"x\": [-13.469602721182888, -13.046705351336772], \"type\": \"scatter\", \"mode\": \"lines\", \"y\": [21.366730828241682, 20.77588764099713]}, {\"line\": {\"width\": 1.4659683233129517, \"color\": \"#888\"}, \"hoverinfo\": \"none\", \"x\": [-13.421282842315208, -13.046705351336772], \"type\": \"scatter\", \"mode\": \"lines\", \"y\": [20.731208327312252, 20.77588764099713]}, {\"line\": {\"width\": 1.0707331961635507, \"color\": \"#888\"}, \"hoverinfo\": \"none\", \"x\": [-12.88079425450245, -13.046705351336772], \"type\": \"scatter\", \"mode\": \"lines\", \"y\": [20.00414689876472, 20.77588764099713]}, {\"line\": {\"width\": 1.0623490685536305, \"color\": \"#888\"}, \"hoverinfo\": \"none\", \"x\": [-12.341464452775313, -13.046705351336772], \"type\": \"scatter\", \"mode\": \"lines\", \"y\": [20.311362961497515, 20.77588764099713]}, {\"line\": {\"width\": 3.1577487523157908, \"color\": \"#888\"}, \"hoverinfo\": \"none\", \"x\": [-12.850718139242009, -13.046705351336772], \"type\": \"scatter\", \"mode\": \"lines\", \"y\": [20.929101940708783, 20.77588764099713]}, {\"line\": {\"width\": 1.002568567903429, \"color\": \"#888\"}, \"hoverinfo\": \"none\", \"x\": [-13.537096610506756, -13.046705351336772], \"type\": \"scatter\", \"mode\": \"lines\", \"y\": [19.92320307519968, 20.77588764099713]}, {\"line\": {\"width\": 1.1244919231162438, \"color\": \"#888\"}, \"hoverinfo\": \"none\", \"x\": [-13.85101503582916, -13.046705351336772], \"type\": \"scatter\", \"mode\": \"lines\", \"y\": [19.70968323427432, 20.77588764099713]}, {\"line\": {\"width\": 1.3098397302699072, \"color\": \"#888\"}, \"hoverinfo\": \"none\", \"x\": [-12.907640754729615, -13.046705351336772], \"type\": \"scatter\", \"mode\": \"lines\", \"y\": [20.469607616408755, 20.77588764099713]}, {\"line\": {\"width\": 1.2043646237228836, \"color\": \"#888\"}, \"hoverinfo\": \"none\", \"x\": [-13.046705351336772, -12.700498433924094], \"type\": \"scatter\", \"mode\": \"lines\", \"y\": [20.77588764099713, 22.212152083511462]}, {\"line\": {\"width\": 1.3154254437573294, \"color\": \"#888\"}, \"hoverinfo\": \"none\", \"x\": [-13.046705351336772, -12.14572655546444], \"type\": \"scatter\", \"mode\": \"lines\", \"y\": [20.77588764099713, 20.401750449215392]}, {\"line\": {\"width\": 1.061090247532779, \"color\": \"#888\"}, \"hoverinfo\": \"none\", \"x\": [-13.046705351336772, -12.918576723501182], \"type\": \"scatter\", \"mode\": \"lines\", \"y\": [20.77588764099713, 19.762632785571746]}, {\"line\": {\"width\": 1.0635755566987102, \"color\": \"#888\"}, \"hoverinfo\": \"none\", \"x\": [-13.046705351336772, -11.549799157354075], \"type\": \"scatter\", \"mode\": \"lines\", \"y\": [20.77588764099713, 21.33677004673493]}, {\"line\": {\"width\": 3.1879587570809687, \"color\": \"#888\"}, \"hoverinfo\": \"none\", \"x\": [-13.046705351336772, -12.910843834401481], \"type\": \"scatter\", \"mode\": \"lines\", \"y\": [20.77588764099713, 21.01436659376408]}, {\"line\": {\"width\": 1.5810522423550677, \"color\": \"#888\"}, \"hoverinfo\": \"none\", \"x\": [-13.046705351336772, -13.637993460243793], \"type\": \"scatter\", \"mode\": \"lines\", \"y\": [20.77588764099713, 21.53220459934256]}, {\"line\": {\"width\": 1.8419867660504172, \"color\": \"#888\"}, \"hoverinfo\": \"none\", \"x\": [-13.046705351336772, -12.284441948806446], \"type\": \"scatter\", \"mode\": \"lines\", \"y\": [20.77588764099713, 21.025645557579107]}, {\"line\": {\"width\": 1.0831408595155747, \"color\": \"#888\"}, \"hoverinfo\": \"none\", \"x\": [-13.046705351336772, -13.7703511169154], \"type\": \"scatter\", \"mode\": \"lines\", \"y\": [20.77588764099713, 21.085508206964032]}, {\"line\": {\"width\": 1.2495373637579967, \"color\": \"#888\"}, \"hoverinfo\": \"none\", \"x\": [-13.046705351336772, -13.991559819591165], \"type\": \"scatter\", \"mode\": \"lines\", \"y\": [20.77588764099713, 20.390716009399764]}, {\"line\": {\"width\": 2.7921176984334677, \"color\": \"#888\"}, \"hoverinfo\": \"none\", \"x\": [-13.046705351336772, -13.030036553810685], \"type\": \"scatter\", \"mode\": \"lines\", \"y\": [20.77588764099713, 21.519701600461545]}, {\"line\": {\"width\": 1.420054194033269, \"color\": \"#888\"}, \"hoverinfo\": \"none\", \"x\": [-13.046705351336772, -13.007084255175895], \"type\": \"scatter\", \"mode\": \"lines\", \"y\": [20.77588764099713, 21.86972207748751]}, {\"line\": {\"width\": 1.7487037506264238, \"color\": \"#888\"}, \"hoverinfo\": \"none\", \"x\": [-13.046705351336772, -12.734203853902583], \"type\": \"scatter\", \"mode\": \"lines\", \"y\": [20.77588764099713, 21.55340460756357]}, {\"line\": {\"width\": 1.7087654595076642, \"color\": \"#888\"}, \"hoverinfo\": \"none\", \"x\": [-13.046705351336772, -12.77601031504658], \"type\": \"scatter\", \"mode\": \"lines\", \"y\": [20.77588764099713, 21.12541781408756]}, {\"line\": {\"width\": 1.0991598353620051, \"color\": \"#888\"}, \"hoverinfo\": \"none\", \"x\": [-8.912182757525217, -8.029049197824259], \"type\": \"scatter\", \"mode\": \"lines\", \"y\": [26.184647635585637, 25.94364112739702]}, {\"line\": {\"width\": 1.1563698198762682, \"color\": \"#888\"}, \"hoverinfo\": \"none\", \"x\": [-11.722208057949885, -10.990246823384478], \"type\": \"scatter\", \"mode\": \"lines\", \"y\": [20.221982900095632, 19.324611435865272]}, {\"line\": {\"width\": 1.2270503994606037, \"color\": \"#888\"}, \"hoverinfo\": \"none\", \"x\": [-10.917791500255126, -10.990246823384478], \"type\": \"scatter\", \"mode\": \"lines\", \"y\": [19.742127029568135, 19.324611435865272]}, {\"line\": {\"width\": 1.0687625347010412, \"color\": \"#888\"}, \"hoverinfo\": \"none\", \"x\": [-10.990246823384478, -10.159999711093475], \"type\": \"scatter\", \"mode\": \"lines\", \"y\": [19.324611435865272, 18.707322792195]}, {\"line\": {\"width\": 1.1831457714480567, \"color\": \"#888\"}, \"hoverinfo\": \"none\", \"x\": [-10.990246823384478, -10.58466903998632], \"type\": \"scatter\", \"mode\": \"lines\", \"y\": [19.324611435865272, 20.122288006184224]}, {\"line\": {\"width\": 1.1462998844642627, \"color\": \"#888\"}, \"hoverinfo\": \"none\", \"x\": [-10.990246823384478, -10.738609963494902], \"type\": \"scatter\", \"mode\": \"lines\", \"y\": [19.324611435865272, 18.197924148628765]}, {\"line\": {\"width\": 1.133629876515718, \"color\": \"#888\"}, \"hoverinfo\": \"none\", \"x\": [-10.990246823384478, -11.573787898129877], \"type\": \"scatter\", \"mode\": \"lines\", \"y\": [19.324611435865272, 20.603582672482666]}, {\"line\": {\"width\": 1.0245518414506591, \"color\": \"#888\"}, \"hoverinfo\": \"none\", \"x\": [-5.386818926161954, -6.1944511846115295], \"type\": \"scatter\", \"mode\": \"lines\", \"y\": [24.440457183874862, 24.720580155078387]}, {\"line\": {\"width\": 1.1908454484178237, \"color\": \"#888\"}, \"hoverinfo\": \"none\", \"x\": [-12.714023615727218, -13.40775776308866], \"type\": \"scatter\", \"mode\": \"lines\", \"y\": [24.189137248261808, 23.16466309028817]}, {\"line\": {\"width\": 1.118949889885228, \"color\": \"#888\"}, \"hoverinfo\": \"none\", \"x\": [-12.714023615727218, -12.863841475837656], \"type\": \"scatter\", \"mode\": \"lines\", \"y\": [24.189137248261808, 23.15284384716926]}, {\"line\": {\"width\": 1.0129143583647515, \"color\": \"#888\"}, \"hoverinfo\": \"none\", \"x\": [-10.805873149921057, -11.670530996185668], \"type\": \"scatter\", \"mode\": \"lines\", \"y\": [20.42653191608568, 21.09066706630328]}, {\"line\": {\"width\": 1.1073355126124376, \"color\": \"#888\"}, \"hoverinfo\": \"none\", \"x\": [-10.703500072515022, -11.670530996185668], \"type\": \"scatter\", \"mode\": \"lines\", \"y\": [22.01548801480612, 21.09066706630328]}, {\"line\": {\"width\": 1.3355783082579442, \"color\": \"#888\"}, \"hoverinfo\": \"none\", \"x\": [-12.850718139242009, -11.670530996185668], \"type\": \"scatter\", \"mode\": \"lines\", \"y\": [20.929101940708783, 21.09066706630328]}, {\"line\": {\"width\": 1.0353462718347628, \"color\": \"#888\"}, \"hoverinfo\": \"none\", \"x\": [-11.670530996185668, -12.608722745064354], \"type\": \"scatter\", \"mode\": \"lines\", \"y\": [21.09066706630328, 21.38991608678275]}, {\"line\": {\"width\": 1.318747306507667, \"color\": \"#888\"}, \"hoverinfo\": \"none\", \"x\": [-11.670530996185668, -12.910843834401481], \"type\": \"scatter\", \"mode\": \"lines\", \"y\": [21.09066706630328, 21.01436659376408]}, {\"line\": {\"width\": 1.0674598078983306, \"color\": \"#888\"}, \"hoverinfo\": \"none\", \"x\": [-16.235438648181255, -15.318409941350346], \"type\": \"scatter\", \"mode\": \"lines\", \"y\": [20.36576649576142, 21.07416326794205]}, {\"line\": {\"width\": 1.0218575318561447, \"color\": \"#888\"}, \"hoverinfo\": \"none\", \"x\": [-12.850718139242009, -12.700498433924094], \"type\": \"scatter\", \"mode\": \"lines\", \"y\": [20.929101940708783, 22.212152083511462]}, {\"line\": {\"width\": 1.2043646237228836, \"color\": \"#888\"}, \"hoverinfo\": \"none\", \"x\": [-13.046705351336772, -12.700498433924094], \"type\": \"scatter\", \"mode\": \"lines\", \"y\": [20.77588764099713, 22.212152083511462]}, {\"line\": {\"width\": 1.0524442281058517, \"color\": \"#888\"}, \"hoverinfo\": \"none\", \"x\": [-12.700498433924094, -13.40775776308866], \"type\": \"scatter\", \"mode\": \"lines\", \"y\": [22.212152083511462, 23.16466309028817]}, {\"line\": {\"width\": 1.062441482693396, \"color\": \"#888\"}, \"hoverinfo\": \"none\", \"x\": [-12.700498433924094, -12.863841475837656], \"type\": \"scatter\", \"mode\": \"lines\", \"y\": [22.212152083511462, 23.15284384716926]}, {\"line\": {\"width\": 1.0098721890370026, \"color\": \"#888\"}, \"hoverinfo\": \"none\", \"x\": [-12.700498433924094, -12.910843834401481], \"type\": \"scatter\", \"mode\": \"lines\", \"y\": [22.212152083511462, 21.01436659376408]}, {\"line\": {\"width\": 1.047565162276737, \"color\": \"#888\"}, \"hoverinfo\": \"none\", \"x\": [-12.700498433924094, -13.402038872682441], \"type\": \"scatter\", \"mode\": \"lines\", \"y\": [22.212152083511462, 21.793632774845815]}, {\"line\": {\"width\": 1.0221615441390333, \"color\": \"#888\"}, \"hoverinfo\": \"none\", \"x\": [-5.5606868628221475, -5.7850883907942015], \"type\": \"scatter\", \"mode\": \"lines\", \"y\": [21.621054958225788, 22.47767071441628]}, {\"line\": {\"width\": 1.1197407888849389, \"color\": \"#888\"}, \"hoverinfo\": \"none\", \"x\": [-11.942871546634484, -11.903242820535906], \"type\": \"scatter\", \"mode\": \"lines\", \"y\": [20.943028751942535, 19.6044514246644]}, {\"line\": {\"width\": 1.1358728561908775, \"color\": \"#888\"}, \"hoverinfo\": \"none\", \"x\": [-13.197102179360037, -11.903242820535906], \"type\": \"scatter\", \"mode\": \"lines\", \"y\": [20.446227226217555, 19.6044514246644]}, {\"line\": {\"width\": 1.0168162068323456, \"color\": \"#888\"}, \"hoverinfo\": \"none\", \"x\": [-10.980994182527269, -11.903242820535906], \"type\": \"scatter\", \"mode\": \"lines\", \"y\": [18.92772968732724, 19.6044514246644]}, {\"line\": {\"width\": 1.4403795439450626, \"color\": \"#888\"}, \"hoverinfo\": \"none\", \"x\": [-10.917791500255126, -11.903242820535906], \"type\": \"scatter\", \"mode\": \"lines\", \"y\": [19.742127029568135, 19.6044514246644]}, {\"line\": {\"width\": 1.0644477275027557, \"color\": \"#888\"}, \"hoverinfo\": \"none\", \"x\": [-13.421282842315208, -12.14572655546444], \"type\": \"scatter\", \"mode\": \"lines\", \"y\": [20.731208327312252, 20.401750449215392]}, {\"line\": {\"width\": 1.1112082173446767, \"color\": \"#888\"}, \"hoverinfo\": \"none\", \"x\": [-12.850718139242009, -12.14572655546444], \"type\": \"scatter\", \"mode\": \"lines\", \"y\": [20.929101940708783, 20.401750449215392]}, {\"line\": {\"width\": 1.3154254437573294, \"color\": \"#888\"}, \"hoverinfo\": \"none\", \"x\": [-13.046705351336772, -12.14572655546444], \"type\": \"scatter\", \"mode\": \"lines\", \"y\": [20.77588764099713, 20.401750449215392]}, {\"line\": {\"width\": 1.0970820709105817, \"color\": \"#888\"}, \"hoverinfo\": \"none\", \"x\": [-12.14572655546444, -12.910843834401481], \"type\": \"scatter\", \"mode\": \"lines\", \"y\": [20.401750449215392, 21.01436659376408]}, {\"line\": {\"width\": 1.6290562870466516, \"color\": \"#888\"}, \"hoverinfo\": \"none\", \"x\": [-12.14572655546444, -12.284441948806446], \"type\": \"scatter\", \"mode\": \"lines\", \"y\": [20.401750449215392, 21.025645557579107]}, {\"line\": {\"width\": 1.2350702599665488, \"color\": \"#888\"}, \"hoverinfo\": \"none\", \"x\": [-13.584146493457986, -13.673386623300873], \"type\": \"scatter\", \"mode\": \"lines\", \"y\": [21.910867822678476, 23.094740292057637]}, {\"line\": {\"width\": 1.3024196191895037, \"color\": \"#888\"}, \"hoverinfo\": \"none\", \"x\": [-13.673386623300873, -14.424618497382848], \"type\": \"scatter\", \"mode\": \"lines\", \"y\": [23.094740292057637, 22.43415239791516]}, {\"line\": {\"width\": 1.2067091142521453, \"color\": \"#888\"}, \"hoverinfo\": \"none\", \"x\": [-13.673386623300873, -13.272428838714013], \"type\": \"scatter\", \"mode\": \"lines\", \"y\": [23.094740292057637, 21.97460394894528]}, {\"line\": {\"width\": 1.0687625347010412, \"color\": \"#888\"}, \"hoverinfo\": \"none\", \"x\": [-10.990246823384478, -10.159999711093475], \"type\": \"scatter\", \"mode\": \"lines\", \"y\": [19.324611435865272, 18.707322792195]}, {\"line\": {\"width\": 1.062697577792586, \"color\": \"#888\"}, \"hoverinfo\": \"none\", \"x\": [-10.159999711093475, -10.738609963494902], \"type\": \"scatter\", \"mode\": \"lines\", \"y\": [18.707322792195, 18.197924148628765]}, {\"line\": {\"width\": 1.2391513453871246, \"color\": \"#888\"}, \"hoverinfo\": \"none\", \"x\": [-13.889868260640972, -12.918576723501182], \"type\": \"scatter\", \"mode\": \"lines\", \"y\": [20.43968106318603, 19.762632785571746]}, {\"line\": {\"width\": 1.0087318120004038, \"color\": \"#888\"}, \"hoverinfo\": \"none\", \"x\": [-13.979715599240638, -12.918576723501182], \"type\": \"scatter\", \"mode\": \"lines\", \"y\": [19.090615747944213, 19.762632785571746]}, {\"line\": {\"width\": 1.4832930434014333, \"color\": \"#888\"}, \"hoverinfo\": \"none\", \"x\": [-12.88079425450245, -12.918576723501182], \"type\": \"scatter\", \"mode\": \"lines\", \"y\": [20.00414689876472, 19.762632785571746]}, {\"line\": {\"width\": 1.300990766960133, \"color\": \"#888\"}, \"hoverinfo\": \"none\", \"x\": [-12.341464452775313, -12.918576723501182], \"type\": \"scatter\", \"mode\": \"lines\", \"y\": [20.311362961497515, 19.762632785571746]}, {\"line\": {\"width\": 1.0539800831501809, \"color\": \"#888\"}, \"hoverinfo\": \"none\", \"x\": [-13.197102179360037, -12.918576723501182], \"type\": \"scatter\", \"mode\": \"lines\", \"y\": [20.446227226217555, 19.762632785571746]}, {\"line\": {\"width\": 1.1081264330164462, \"color\": \"#888\"}, \"hoverinfo\": \"none\", \"x\": [-12.850718139242009, -12.918576723501182], \"type\": \"scatter\", \"mode\": \"lines\", \"y\": [20.929101940708783, 19.762632785571746]}, {\"line\": {\"width\": 1.221336861129728, \"color\": \"#888\"}, \"hoverinfo\": \"none\", \"x\": [-12.900087281018456, -12.918576723501182], \"type\": \"scatter\", \"mode\": \"lines\", \"y\": [18.488429619802535, 19.762632785571746]}, {\"line\": {\"width\": 1.103419965826937, \"color\": \"#888\"}, \"hoverinfo\": \"none\", \"x\": [-13.537096610506756, -12.918576723501182], \"type\": \"scatter\", \"mode\": \"lines\", \"y\": [19.92320307519968, 19.762632785571746]}, {\"line\": {\"width\": 1.2313168875863947, \"color\": \"#888\"}, \"hoverinfo\": \"none\", \"x\": [-13.85101503582916, -12.918576723501182], \"type\": \"scatter\", \"mode\": \"lines\", \"y\": [19.70968323427432, 19.762632785571746]}, {\"line\": {\"width\": 1.1128435382088495, \"color\": \"#888\"}, \"hoverinfo\": \"none\", \"x\": [-11.815965872922868, -12.918576723501182], \"type\": \"scatter\", \"mode\": \"lines\", \"y\": [19.29060423218079, 19.762632785571746]}, {\"line\": {\"width\": 1.061090247532779, \"color\": \"#888\"}, \"hoverinfo\": \"none\", \"x\": [-13.046705351336772, -12.918576723501182], \"type\": \"scatter\", \"mode\": \"lines\", \"y\": [20.77588764099713, 19.762632785571746]}, {\"line\": {\"width\": 1.0788074979192634, \"color\": \"#888\"}, \"hoverinfo\": \"none\", \"x\": [-12.918576723501182, -13.485752324101506], \"type\": \"scatter\", \"mode\": \"lines\", \"y\": [19.762632785571746, 19.465977412591247]}, {\"line\": {\"width\": 1.0345768076262605, \"color\": \"#888\"}, \"hoverinfo\": \"none\", \"x\": [-12.918576723501182, -12.356415919830226], \"type\": \"scatter\", \"mode\": \"lines\", \"y\": [19.762632785571746, 19.76080027239755]}, {\"line\": {\"width\": 1.0919393118939638, \"color\": \"#888\"}, \"hoverinfo\": \"none\", \"x\": [-12.918576723501182, -12.910843834401481], \"type\": \"scatter\", \"mode\": \"lines\", \"y\": [19.762632785571746, 21.01436659376408]}, {\"line\": {\"width\": 1.009643827301647, \"color\": \"#888\"}, \"hoverinfo\": \"none\", \"x\": [-12.918576723501182, -11.85499862010832], \"type\": \"scatter\", \"mode\": \"lines\", \"y\": [19.762632785571746, 20.494921025806526]}, {\"line\": {\"width\": 1.204001702132995, \"color\": \"#888\"}, \"hoverinfo\": \"none\", \"x\": [-12.918576723501182, -12.392539355144063], \"type\": \"scatter\", \"mode\": \"lines\", \"y\": [19.762632785571746, 18.707558784445492]}, {\"line\": {\"width\": 1.145445114520896, \"color\": \"#888\"}, \"hoverinfo\": \"none\", \"x\": [-12.918576723501182, -12.791751733740055], \"type\": \"scatter\", \"mode\": \"lines\", \"y\": [19.762632785571746, 19.008361465721478]}, {\"line\": {\"width\": 1.0390646546923523, \"color\": \"#888\"}, \"hoverinfo\": \"none\", \"x\": [-13.72503864579122, -13.485752324101506], \"type\": \"scatter\", \"mode\": \"lines\", \"y\": [20.752200827459543, 19.465977412591247]}, {\"line\": {\"width\": 1.0103277113363722, \"color\": \"#888\"}, \"hoverinfo\": \"none\", \"x\": [-13.889868260640972, -13.485752324101506], \"type\": \"scatter\", \"mode\": \"lines\", \"y\": [20.43968106318603, 19.465977412591247]}, {\"line\": {\"width\": 1.0174386683931247, \"color\": \"#888\"}, \"hoverinfo\": \"none\", \"x\": [-13.979715599240638, -13.485752324101506], \"type\": \"scatter\", \"mode\": \"lines\", \"y\": [19.090615747944213, 19.465977412591247]}, {\"line\": {\"width\": 1.0159194953047692, \"color\": \"#888\"}, \"hoverinfo\": \"none\", \"x\": [-12.88079425450245, -13.485752324101506], \"type\": \"scatter\", \"mode\": \"lines\", \"y\": [20.00414689876472, 19.465977412591247]}, {\"line\": {\"width\": 1.016731652620529, \"color\": \"#888\"}, \"hoverinfo\": \"none\", \"x\": [-12.341464452775313, -13.485752324101506], \"type\": \"scatter\", \"mode\": \"lines\", \"y\": [20.311362961497515, 19.465977412591247]}, {\"line\": {\"width\": 1.074493439756516, \"color\": \"#888\"}, \"hoverinfo\": \"none\", \"x\": [-13.197102179360037, -13.485752324101506], \"type\": \"scatter\", \"mode\": \"lines\", \"y\": [20.446227226217555, 19.465977412591247]}, {\"line\": {\"width\": 1.327113634493792, \"color\": \"#888\"}, \"hoverinfo\": \"none\", \"x\": [-13.85101503582916, -13.485752324101506], \"type\": \"scatter\", \"mode\": \"lines\", \"y\": [19.70968323427432, 19.465977412591247]}, {\"line\": {\"width\": 1.0788074979192634, \"color\": \"#888\"}, \"hoverinfo\": \"none\", \"x\": [-12.918576723501182, -13.485752324101506], \"type\": \"scatter\", \"mode\": \"lines\", \"y\": [19.762632785571746, 19.465977412591247]}, {\"line\": {\"width\": 1.109759620016767, \"color\": \"#888\"}, \"hoverinfo\": \"none\", \"x\": [-13.485752324101506, -14.284782287057334], \"type\": \"scatter\", \"mode\": \"lines\", \"y\": [19.465977412591247, 18.6935520818868]}, {\"line\": {\"width\": 1.0835943663577714, \"color\": \"#888\"}, \"hoverinfo\": \"none\", \"x\": [-13.713867049753938, -12.608722745064354], \"type\": \"scatter\", \"mode\": \"lines\", \"y\": [21.32277923138798, 21.38991608678275]}, {\"line\": {\"width\": 1.1398534458016778, \"color\": \"#888\"}, \"hoverinfo\": \"none\", \"x\": [-12.95422029598588, -12.608722745064354], \"type\": \"scatter\", \"mode\": \"lines\", \"y\": [22.173012221957887, 21.38991608678275]}, {\"line\": {\"width\": 1.1984960462707082, \"color\": \"#888\"}, \"hoverinfo\": \"none\", \"x\": [-12.341464452775313, -12.608722745064354], \"type\": \"scatter\", \"mode\": \"lines\", \"y\": [20.311362961497515, 21.38991608678275]}, {\"line\": {\"width\": 1.0291797412739954, \"color\": \"#888\"}, \"hoverinfo\": \"none\", \"x\": [-13.488239384273696, -12.608722745064354], \"type\": \"scatter\", \"mode\": \"lines\", \"y\": [22.052657171590635, 21.38991608678275]}, {\"line\": {\"width\": 1.0844524091290217, \"color\": \"#888\"}, \"hoverinfo\": \"none\", \"x\": [-13.642983348705675, -12.608722745064354], \"type\": \"scatter\", \"mode\": \"lines\", \"y\": [20.519633212486255, 21.38991608678275]}, {\"line\": {\"width\": 1.7038625293784184, \"color\": \"#888\"}, \"hoverinfo\": \"none\", \"x\": [-12.850718139242009, -12.608722745064354], \"type\": \"scatter\", \"mode\": \"lines\", \"y\": [20.929101940708783, 21.38991608678275]}, {\"line\": {\"width\": 1.271461417643486, \"color\": \"#888\"}, \"hoverinfo\": \"none\", \"x\": [-13.236477225987986, -12.608722745064354], \"type\": \"scatter\", \"mode\": \"lines\", \"y\": [20.35065703675912, 21.38991608678275]}, {\"line\": {\"width\": 1.3592743584515317, \"color\": \"#888\"}, \"hoverinfo\": \"none\", \"x\": [-13.427726029882152, -12.608722745064354], \"type\": \"scatter\", \"mode\": \"lines\", \"y\": [21.052187341494502, 21.38991608678275]}, {\"line\": {\"width\": 1.0353462718347628, \"color\": \"#888\"}, \"hoverinfo\": \"none\", \"x\": [-11.670530996185668, -12.608722745064354], \"type\": \"scatter\", \"mode\": \"lines\", \"y\": [21.09066706630328, 21.38991608678275]}, {\"line\": {\"width\": 1.277912477086186, \"color\": \"#888\"}, \"hoverinfo\": \"none\", \"x\": [-12.608722745064354, -11.549799157354075], \"type\": \"scatter\", \"mode\": \"lines\", \"y\": [21.38991608678275, 21.33677004673493]}, {\"line\": {\"width\": 1.0879176777993202, \"color\": \"#888\"}, \"hoverinfo\": \"none\", \"x\": [-12.608722745064354, -12.040651155801354], \"type\": \"scatter\", \"mode\": \"lines\", \"y\": [21.38991608678275, 21.209858966184818]}, {\"line\": {\"width\": 1.6830778944015319, \"color\": \"#888\"}, \"hoverinfo\": \"none\", \"x\": [-12.608722745064354, -12.910843834401481], \"type\": \"scatter\", \"mode\": \"lines\", \"y\": [21.38991608678275, 21.01436659376408]}, {\"line\": {\"width\": 1.104830326321568, \"color\": \"#888\"}, \"hoverinfo\": \"none\", \"x\": [-12.608722745064354, -13.637993460243793], \"type\": \"scatter\", \"mode\": \"lines\", \"y\": [21.38991608678275, 21.53220459934256]}, {\"line\": {\"width\": 1.053952866482968, \"color\": \"#888\"}, \"hoverinfo\": \"none\", \"x\": [-12.608722745064354, -13.23643931550353], \"type\": \"scatter\", \"mode\": \"lines\", \"y\": [21.38991608678275, 20.945151973986814]}, {\"line\": {\"width\": 1.1110581512755304, \"color\": \"#888\"}, \"hoverinfo\": \"none\", \"x\": [-12.608722745064354, -13.030036553810685], \"type\": \"scatter\", \"mode\": \"lines\", \"y\": [21.38991608678275, 21.519701600461545]}, {\"line\": {\"width\": 1.0058964092324805, \"color\": \"#888\"}, \"hoverinfo\": \"none\", \"x\": [-12.608722745064354, -13.402038872682441], \"type\": \"scatter\", \"mode\": \"lines\", \"y\": [21.38991608678275, 21.793632774845815]}, {\"line\": {\"width\": 1.106498364464699, \"color\": \"#888\"}, \"hoverinfo\": \"none\", \"x\": [-12.608722745064354, -13.263024710033392], \"type\": \"scatter\", \"mode\": \"lines\", \"y\": [21.38991608678275, 21.47913495742209]}, {\"line\": {\"width\": 1.5356393979216454, \"color\": \"#888\"}, \"hoverinfo\": \"none\", \"x\": [-12.608722745064354, -12.0448503313882], \"type\": \"scatter\", \"mode\": \"lines\", \"y\": [21.38991608678275, 21.57539053726569]}, {\"line\": {\"width\": 1.151756002717777, \"color\": \"#888\"}, \"hoverinfo\": \"none\", \"x\": [-12.608722745064354, -13.994286400461116], \"type\": \"scatter\", \"mode\": \"lines\", \"y\": [21.38991608678275, 20.881168702489436]}, {\"line\": {\"width\": 1.013897428648376, \"color\": \"#888\"}, \"hoverinfo\": \"none\", \"x\": [-12.95422029598588, -12.548259461364738], \"type\": \"scatter\", \"mode\": \"lines\", \"y\": [22.173012221957887, 23.299629798486237]}, {\"line\": {\"width\": 1.3184957335227359, \"color\": \"#888\"}, \"hoverinfo\": \"none\", \"x\": [-12.548259461364738, -13.78065772681429], \"type\": \"scatter\", \"mode\": \"lines\", \"y\": [23.299629798486237, 23.09455563508934]}, {\"line\": {\"width\": 1.0329961997871857, \"color\": \"#888\"}, \"hoverinfo\": \"none\", \"x\": [-11.890506936706867, -12.170458243867694], \"type\": \"scatter\", \"mode\": \"lines\", \"y\": [18.6555510556014, 19.971879414718284]}, {\"line\": {\"width\": 1.0180330958204062, \"color\": \"#888\"}, \"hoverinfo\": \"none\", \"x\": [-11.890506936706867, -12.791751733740055], \"type\": \"scatter\", \"mode\": \"lines\", \"y\": [18.6555510556014, 19.008361465721478]}, {\"line\": {\"width\": 1.0134647643600974, \"color\": \"#888\"}, \"hoverinfo\": \"none\", \"x\": [-13.979715599240638, -13.610912637176686], \"type\": \"scatter\", \"mode\": \"lines\", \"y\": [19.090615747944213, 18.6772196523297]}, {\"line\": {\"width\": 1.1755908676233198, \"color\": \"#888\"}, \"hoverinfo\": \"none\", \"x\": [-13.537096610506756, -13.610912637176686], \"type\": \"scatter\", \"mode\": \"lines\", \"y\": [19.92320307519968, 18.6772196523297]}, {\"line\": {\"width\": 1.009360717823278, \"color\": \"#888\"}, \"hoverinfo\": \"none\", \"x\": [-13.85101503582916, -13.610912637176686], \"type\": \"scatter\", \"mode\": \"lines\", \"y\": [19.70968323427432, 18.6772196523297]}, {\"line\": {\"width\": 1.0190214973025375, \"color\": \"#888\"}, \"hoverinfo\": \"none\", \"x\": [-13.441751089432334, -13.610912637176686], \"type\": \"scatter\", \"mode\": \"lines\", \"y\": [17.589690474392604, 18.6772196523297]}, {\"line\": {\"width\": 1.0627746145541674, \"color\": \"#888\"}, \"hoverinfo\": \"none\", \"x\": [-13.610912637176686, -14.067819366407043], \"type\": \"scatter\", \"mode\": \"lines\", \"y\": [18.6772196523297, 17.758137808118644]}, {\"line\": {\"width\": 1.0413919691563902, \"color\": \"#888\"}, \"hoverinfo\": \"none\", \"x\": [-13.610912637176686, -12.791751733740055], \"type\": \"scatter\", \"mode\": \"lines\", \"y\": [18.6772196523297, 19.008361465721478]}, {\"line\": {\"width\": 1.389027847120075, \"color\": \"#888\"}, \"hoverinfo\": \"none\", \"x\": [-12.88079425450245, -12.356415919830226], \"type\": \"scatter\", \"mode\": \"lines\", \"y\": [20.00414689876472, 19.76080027239755]}, {\"line\": {\"width\": 1.3038656131771333, \"color\": \"#888\"}, \"hoverinfo\": \"none\", \"x\": [-12.341464452775313, -12.356415919830226], \"type\": \"scatter\", \"mode\": \"lines\", \"y\": [20.311362961497515, 19.76080027239755]}, {\"line\": {\"width\": 1.16603137124147, \"color\": \"#888\"}, \"hoverinfo\": \"none\", \"x\": [-13.236477225987986, -12.356415919830226], \"type\": \"scatter\", \"mode\": \"lines\", \"y\": [20.35065703675912, 19.76080027239755]}, {\"line\": {\"width\": 1.2244702682820012, \"color\": \"#888\"}, \"hoverinfo\": \"none\", \"x\": [-12.32242407686812, -12.356415919830226], \"type\": \"scatter\", \"mode\": \"lines\", \"y\": [19.080863426314938, 19.76080027239755]}, {\"line\": {\"width\": 1.0345768076262605, \"color\": \"#888\"}, \"hoverinfo\": \"none\", \"x\": [-12.918576723501182, -12.356415919830226], \"type\": \"scatter\", \"mode\": \"lines\", \"y\": [19.762632785571746, 19.76080027239755]}, {\"line\": {\"width\": 1.0162944108489014, \"color\": \"#888\"}, \"hoverinfo\": \"none\", \"x\": [-12.356415919830226, -12.629951858941117], \"type\": \"scatter\", \"mode\": \"lines\", \"y\": [19.76080027239755, 20.42458920482799]}, {\"line\": {\"width\": 1.4972459540613943, \"color\": \"#888\"}, \"hoverinfo\": \"none\", \"x\": [-12.356415919830226, -12.773844683472381], \"type\": \"scatter\", \"mode\": \"lines\", \"y\": [19.76080027239755, 19.566330422843407]}, {\"line\": {\"width\": 1.0142546881249672, \"color\": \"#888\"}, \"hoverinfo\": \"none\", \"x\": [-12.356415919830226, -12.040651155801354], \"type\": \"scatter\", \"mode\": \"lines\", \"y\": [19.76080027239755, 21.209858966184818]}, {\"line\": {\"width\": 1.0175916030272816, \"color\": \"#888\"}, \"hoverinfo\": \"none\", \"x\": [-12.356415919830226, -12.392539355144063], \"type\": \"scatter\", \"mode\": \"lines\", \"y\": [19.76080027239755, 18.707558784445492]}, {\"line\": {\"width\": 1.2182606704755221, \"color\": \"#888\"}, \"hoverinfo\": \"none\", \"x\": [-12.356415919830226, -12.77601031504658], \"type\": \"scatter\", \"mode\": \"lines\", \"y\": [19.76080027239755, 21.12541781408756]}, {\"line\": {\"width\": 1.1356608572780873, \"color\": \"#888\"}, \"hoverinfo\": \"none\", \"x\": [-12.356415919830226, -12.791751733740055], \"type\": \"scatter\", \"mode\": \"lines\", \"y\": [19.76080027239755, 19.008361465721478]}, {\"line\": {\"width\": 1.015098821210063, \"color\": \"#888\"}, \"hoverinfo\": \"none\", \"x\": [-14.858379268270992, -15.827375056035295], \"type\": \"scatter\", \"mode\": \"lines\", \"y\": [21.526061738550137, 21.850844621105583]}, {\"line\": {\"width\": 1.0804621489566602, \"color\": \"#888\"}, \"hoverinfo\": \"none\", \"x\": [-15.185335092491869, -15.827375056035295], \"type\": \"scatter\", \"mode\": \"lines\", \"y\": [21.033890967174504, 21.850844621105583]}, {\"line\": {\"width\": 1.0702078111080118, \"color\": \"#888\"}, \"hoverinfo\": \"none\", \"x\": [-15.827375056035295, -14.986087504472923], \"type\": \"scatter\", \"mode\": \"lines\", \"y\": [21.850844621105583, 22.39991748096667]}, {\"line\": {\"width\": 1.0883751627417442, \"color\": \"#888\"}, \"hoverinfo\": \"none\", \"x\": [-11.991544400059553, -12.446518716199456], \"type\": \"scatter\", \"mode\": \"lines\", \"y\": [12.592942074869844, 13.373204901803744]}, {\"line\": {\"width\": 1.2349254072573603, \"color\": \"#888\"}, \"hoverinfo\": \"none\", \"x\": [-13.612405873935117, -12.938629206266983], \"type\": \"scatter\", \"mode\": \"lines\", \"y\": [24.22476022160976, 23.42759014175165]}, {\"line\": {\"width\": 1.0101562757158438, \"color\": \"#888\"}, \"hoverinfo\": \"none\", \"x\": [-13.612405873935117, -14.720725521153799], \"type\": \"scatter\", \"mode\": \"lines\", \"y\": [24.22476022160976, 23.67530227963661]}, {\"line\": {\"width\": 1.0405786368769883, \"color\": \"#888\"}, \"hoverinfo\": \"none\", \"x\": [-14.005021731026002, -15.318409941350346], \"type\": \"scatter\", \"mode\": \"lines\", \"y\": [21.876050068264206, 21.07416326794205]}, {\"line\": {\"width\": 1.0674598078983306, \"color\": \"#888\"}, \"hoverinfo\": \"none\", \"x\": [-16.235438648181255, -15.318409941350346], \"type\": \"scatter\", \"mode\": \"lines\", \"y\": [20.36576649576142, 21.07416326794205]}, {\"line\": {\"width\": 1.0127579753703615, \"color\": \"#888\"}, \"hoverinfo\": \"none\", \"x\": [-15.318409941350346, -14.113963476444026], \"type\": \"scatter\", \"mode\": \"lines\", \"y\": [21.07416326794205, 20.733964232542867]}, {\"line\": {\"width\": 1.2245279375100873, \"color\": \"#888\"}, \"hoverinfo\": \"none\", \"x\": [-14.489168620811169, -13.912717315656698], \"type\": \"scatter\", \"mode\": \"lines\", \"y\": [21.091249032371852, 21.454212393115643]}, {\"line\": {\"width\": 1.22046042938976, \"color\": \"#888\"}, \"hoverinfo\": \"none\", \"x\": [-13.642983348705675, -13.912717315656698], \"type\": \"scatter\", \"mode\": \"lines\", \"y\": [20.519633212486255, 21.454212393115643]}, {\"line\": {\"width\": 1.2481703996943403, \"color\": \"#888\"}, \"hoverinfo\": \"none\", \"x\": [-12.850718139242009, -13.912717315656698], \"type\": \"scatter\", \"mode\": \"lines\", \"y\": [20.929101940708783, 21.454212393115643]}, {\"line\": {\"width\": 1.61317668208167, \"color\": \"#888\"}, \"hoverinfo\": \"none\", \"x\": [-13.236477225987986, -13.912717315656698], \"type\": \"scatter\", \"mode\": \"lines\", \"y\": [20.35065703675912, 21.454212393115643]}, {\"line\": {\"width\": 1.5832465181556696, \"color\": \"#888\"}, \"hoverinfo\": \"none\", \"x\": [-13.427726029882152, -13.912717315656698], \"type\": \"scatter\", \"mode\": \"lines\", \"y\": [21.052187341494502, 21.454212393115643]}, {\"line\": {\"width\": 1.5661984593213938, \"color\": \"#888\"}, \"hoverinfo\": \"none\", \"x\": [-13.912717315656698, -14.113963476444026], \"type\": \"scatter\", \"mode\": \"lines\", \"y\": [21.454212393115643, 20.733964232542867]}, {\"line\": {\"width\": 1.2351605638156031, \"color\": \"#888\"}, \"hoverinfo\": \"none\", \"x\": [-13.912717315656698, -12.910843834401481], \"type\": \"scatter\", \"mode\": \"lines\", \"y\": [21.454212393115643, 21.01436659376408]}, {\"line\": {\"width\": 1.352459951505115, \"color\": \"#888\"}, \"hoverinfo\": \"none\", \"x\": [-13.912717315656698, -13.402038872682441], \"type\": \"scatter\", \"mode\": \"lines\", \"y\": [21.454212393115643, 21.793632774845815]}, {\"line\": {\"width\": 1.3906614488536624, \"color\": \"#888\"}, \"hoverinfo\": \"none\", \"x\": [-13.912717315656698, -13.263024710033392], \"type\": \"scatter\", \"mode\": \"lines\", \"y\": [21.454212393115643, 21.47913495742209]}, {\"line\": {\"width\": 1.1165727971710275, \"color\": \"#888\"}, \"hoverinfo\": \"none\", \"x\": [-13.912717315656698, -13.994286400461116], \"type\": \"scatter\", \"mode\": \"lines\", \"y\": [21.454212393115643, 20.881168702489436]}, {\"line\": {\"width\": 1.5760945006102047, \"color\": \"#888\"}, \"hoverinfo\": \"none\", \"x\": [-11.722208057949885, -10.58466903998632], \"type\": \"scatter\", \"mode\": \"lines\", \"y\": [20.221982900095632, 20.122288006184224]}, {\"line\": {\"width\": 1.0073463770523887, \"color\": \"#888\"}, \"hoverinfo\": \"none\", \"x\": [-10.38428518250311, -10.58466903998632], \"type\": \"scatter\", \"mode\": \"lines\", \"y\": [20.858640990884304, 20.122288006184224]}, {\"line\": {\"width\": 1.100376917776423, \"color\": \"#888\"}, \"hoverinfo\": \"none\", \"x\": [-10.917791500255126, -10.58466903998632], \"type\": \"scatter\", \"mode\": \"lines\", \"y\": [19.742127029568135, 20.122288006184224]}, {\"line\": {\"width\": 1.1831457714480567, \"color\": \"#888\"}, \"hoverinfo\": \"none\", \"x\": [-10.990246823384478, -10.58466903998632], \"type\": \"scatter\", \"mode\": \"lines\", \"y\": [19.324611435865272, 20.122288006184224]}, {\"line\": {\"width\": 1.4945432348836736, \"color\": \"#888\"}, \"hoverinfo\": \"none\", \"x\": [-10.58466903998632, -11.573787898129877], \"type\": \"scatter\", \"mode\": \"lines\", \"y\": [20.122288006184224, 20.603582672482666]}, {\"line\": {\"width\": 1.1089762962374756, \"color\": \"#888\"}, \"hoverinfo\": \"none\", \"x\": [-13.713867049753938, -14.424618497382848], \"type\": \"scatter\", \"mode\": \"lines\", \"y\": [21.32277923138798, 22.43415239791516]}, {\"line\": {\"width\": 1.196512882959736, \"color\": \"#888\"}, \"hoverinfo\": \"none\", \"x\": [-13.584146493457986, -14.424618497382848], \"type\": \"scatter\", \"mode\": \"lines\", \"y\": [21.910867822678476, 22.43415239791516]}, {\"line\": {\"width\": 1.3024196191895037, \"color\": \"#888\"}, \"hoverinfo\": \"none\", \"x\": [-13.673386623300873, -14.424618497382848], \"type\": \"scatter\", \"mode\": \"lines\", \"y\": [23.094740292057637, 22.43415239791516]}, {\"line\": {\"width\": 1.3907664816518606, \"color\": \"#888\"}, \"hoverinfo\": \"none\", \"x\": [-14.424618497382848, -13.272428838714013], \"type\": \"scatter\", \"mode\": \"lines\", \"y\": [22.43415239791516, 21.97460394894528]}, {\"line\": {\"width\": 1.0435661629413735, \"color\": \"#888\"}, \"hoverinfo\": \"none\", \"x\": [-12.95422029598588, -12.938629206266983], \"type\": \"scatter\", \"mode\": \"lines\", \"y\": [22.173012221957887, 23.42759014175165]}, {\"line\": {\"width\": 1.2349254072573603, \"color\": \"#888\"}, \"hoverinfo\": \"none\", \"x\": [-13.612405873935117, -12.938629206266983], \"type\": \"scatter\", \"mode\": \"lines\", \"y\": [24.22476022160976, 23.42759014175165]}, {\"line\": {\"width\": 1.3533992334207599, \"color\": \"#888\"}, \"hoverinfo\": \"none\", \"x\": [-11.96986801292686, -12.39070970399015], \"type\": \"scatter\", \"mode\": \"lines\", \"y\": [22.41278980421849, 22.673929128949084]}, {\"line\": {\"width\": 1.1403599810656184, \"color\": \"#888\"}, \"hoverinfo\": \"none\", \"x\": [-12.345143556966459, -12.39070970399015], \"type\": \"scatter\", \"mode\": \"lines\", \"y\": [21.995363443026463, 22.673929128949084]}, {\"line\": {\"width\": 1.0283338879595503, \"color\": \"#888\"}, \"hoverinfo\": \"none\", \"x\": [-12.39070970399015, -12.040651155801354], \"type\": \"scatter\", \"mode\": \"lines\", \"y\": [22.673929128949084, 21.209858966184818]}, {\"line\": {\"width\": 1.2116987039885405, \"color\": \"#888\"}, \"hoverinfo\": \"none\", \"x\": [-12.39070970399015, -11.897670571538791], \"type\": \"scatter\", \"mode\": \"lines\", \"y\": [22.673929128949084, 23.71837686093763]}, {\"line\": {\"width\": 1.0398802290374018, \"color\": \"#888\"}, \"hoverinfo\": \"none\", \"x\": [-12.39070970399015, -12.77601031504658], \"type\": \"scatter\", \"mode\": \"lines\", \"y\": [22.673929128949084, 21.12541781408756]}, {\"line\": {\"width\": 1.0289377033892784, \"color\": \"#888\"}, \"hoverinfo\": \"none\", \"x\": [-10.680705289400953, -11.549799157354075], \"type\": \"scatter\", \"mode\": \"lines\", \"y\": [22.22966651010958, 21.33677004673493]}, {\"line\": {\"width\": 1.2236205374900375, \"color\": \"#888\"}, \"hoverinfo\": \"none\", \"x\": [-12.341464452775313, -11.549799157354075], \"type\": \"scatter\", \"mode\": \"lines\", \"y\": [20.311362961497515, 21.33677004673493]}, {\"line\": {\"width\": 1.0635755566987102, \"color\": \"#888\"}, \"hoverinfo\": \"none\", \"x\": [-13.046705351336772, -11.549799157354075], \"type\": \"scatter\", \"mode\": \"lines\", \"y\": [20.77588764099713, 21.33677004673493]}, {\"line\": {\"width\": 1.277912477086186, \"color\": \"#888\"}, \"hoverinfo\": \"none\", \"x\": [-12.608722745064354, -11.549799157354075], \"type\": \"scatter\", \"mode\": \"lines\", \"y\": [21.38991608678275, 21.33677004673493]}, {\"line\": {\"width\": 1.0774768598511477, \"color\": \"#888\"}, \"hoverinfo\": \"none\", \"x\": [-11.549799157354075, -12.040651155801354], \"type\": \"scatter\", \"mode\": \"lines\", \"y\": [21.33677004673493, 21.209858966184818]}, {\"line\": {\"width\": 1.1351113980145828, \"color\": \"#888\"}, \"hoverinfo\": \"none\", \"x\": [-11.549799157354075, -11.85499862010832], \"type\": \"scatter\", \"mode\": \"lines\", \"y\": [21.33677004673493, 20.494921025806526]}, {\"line\": {\"width\": 1.0641720417438782, \"color\": \"#888\"}, \"hoverinfo\": \"none\", \"x\": [-11.549799157354075, -11.263788850048781], \"type\": \"scatter\", \"mode\": \"lines\", \"y\": [21.33677004673493, 22.384709120747623]}, {\"line\": {\"width\": 1.0387838639467775, \"color\": \"#888\"}, \"hoverinfo\": \"none\", \"x\": [-11.549799157354075, -11.429739365262359], \"type\": \"scatter\", \"mode\": \"lines\", \"y\": [21.33677004673493, 22.733989773796388]}, {\"line\": {\"width\": 1.651069403466463, \"color\": \"#888\"}, \"hoverinfo\": \"none\", \"x\": [-11.549799157354075, -12.0448503313882], \"type\": \"scatter\", \"mode\": \"lines\", \"y\": [21.33677004673493, 21.57539053726569]}, {\"line\": {\"width\": 1.3322819258072858, \"color\": \"#888\"}, \"hoverinfo\": \"none\", \"x\": [-14.018918630615032, -12.629951858941117], \"type\": \"scatter\", \"mode\": \"lines\", \"y\": [21.72493113956793, 20.42458920482799]}, {\"line\": {\"width\": 1.5675087240431738, \"color\": \"#888\"}, \"hoverinfo\": \"none\", \"x\": [-12.850718139242009, -12.629951858941117], \"type\": \"scatter\", \"mode\": \"lines\", \"y\": [20.929101940708783, 20.42458920482799]}, {\"line\": {\"width\": 1.0162944108489014, \"color\": \"#888\"}, \"hoverinfo\": \"none\", \"x\": [-12.356415919830226, -12.629951858941117], \"type\": \"scatter\", \"mode\": \"lines\", \"y\": [19.76080027239755, 20.42458920482799]}, {\"line\": {\"width\": 1.0252000739065614, \"color\": \"#888\"}, \"hoverinfo\": \"none\", \"x\": [-12.629951858941117, -12.773844683472381], \"type\": \"scatter\", \"mode\": \"lines\", \"y\": [20.42458920482799, 19.566330422843407]}, {\"line\": {\"width\": 1.1028578207143278, \"color\": \"#888\"}, \"hoverinfo\": \"none\", \"x\": [-12.629951858941117, -13.551675742174377], \"type\": \"scatter\", \"mode\": \"lines\", \"y\": [20.42458920482799, 20.329212509114274]}, {\"line\": {\"width\": 1.5508367495811979, \"color\": \"#888\"}, \"hoverinfo\": \"none\", \"x\": [-12.629951858941117, -12.910843834401481], \"type\": \"scatter\", \"mode\": \"lines\", \"y\": [20.42458920482799, 21.01436659376408]}, {\"line\": {\"width\": 1.1765150063895184, \"color\": \"#888\"}, \"hoverinfo\": \"none\", \"x\": [-12.629951858941117, -12.77601031504658], \"type\": \"scatter\", \"mode\": \"lines\", \"y\": [20.42458920482799, 21.12541781408756]}, {\"line\": {\"width\": 1.0777260918306837, \"color\": \"#888\"}, \"hoverinfo\": \"none\", \"x\": [-10.876620155685893, -11.722835280723642], \"type\": \"scatter\", \"mode\": \"lines\", \"y\": [13.40737124310082, 13.116750930492408]}, {\"line\": {\"width\": 1.1582870114175923, \"color\": \"#888\"}, \"hoverinfo\": \"none\", \"x\": [-6.980617299185159, -6.8613395668689945], \"type\": \"scatter\", \"mode\": \"lines\", \"y\": [24.381654675868525, 25.28721818848291]}, {\"line\": {\"width\": 1.1771785420367555, \"color\": \"#888\"}, \"hoverinfo\": \"none\", \"x\": [-7.56483637469179, -6.8613395668689945], \"type\": \"scatter\", \"mode\": \"lines\", \"y\": [25.792349324258, 25.28721818848291]}, {\"line\": {\"width\": 1.0340728797538277, \"color\": \"#888\"}, \"hoverinfo\": \"none\", \"x\": [-6.8613395668689945, -6.1944511846115295], \"type\": \"scatter\", \"mode\": \"lines\", \"y\": [25.28721818848291, 24.720580155078387]}, {\"line\": {\"width\": 1.2809816368191018, \"color\": \"#888\"}, \"hoverinfo\": \"none\", \"x\": [-12.88079425450245, -12.773844683472381], \"type\": \"scatter\", \"mode\": \"lines\", \"y\": [20.00414689876472, 19.566330422843407]}, {\"line\": {\"width\": 1.27430688221318, \"color\": \"#888\"}, \"hoverinfo\": \"none\", \"x\": [-12.341464452775313, -12.773844683472381], \"type\": \"scatter\", \"mode\": \"lines\", \"y\": [20.311362961497515, 19.566330422843407]}, {\"line\": {\"width\": 1.092005958482648, \"color\": \"#888\"}, \"hoverinfo\": \"none\", \"x\": [-13.236477225987986, -12.773844683472381], \"type\": \"scatter\", \"mode\": \"lines\", \"y\": [20.35065703675912, 19.566330422843407]}, {\"line\": {\"width\": 1.1256842604748887, \"color\": \"#888\"}, \"hoverinfo\": \"none\", \"x\": [-12.32242407686812, -12.773844683472381], \"type\": \"scatter\", \"mode\": \"lines\", \"y\": [19.080863426314938, 19.566330422843407]}, {\"line\": {\"width\": 1.4972459540613943, \"color\": \"#888\"}, \"hoverinfo\": \"none\", \"x\": [-12.356415919830226, -12.773844683472381], \"type\": \"scatter\", \"mode\": \"lines\", \"y\": [19.76080027239755, 19.566330422843407]}, {\"line\": {\"width\": 1.0252000739065614, \"color\": \"#888\"}, \"hoverinfo\": \"none\", \"x\": [-12.629951858941117, -12.773844683472381], \"type\": \"scatter\", \"mode\": \"lines\", \"y\": [20.42458920482799, 19.566330422843407]}, {\"line\": {\"width\": 1.0674512939533738, \"color\": \"#888\"}, \"hoverinfo\": \"none\", \"x\": [-12.773844683472381, -12.77601031504658], \"type\": \"scatter\", \"mode\": \"lines\", \"y\": [19.566330422843407, 21.12541781408756]}, {\"line\": {\"width\": 1.0716382727419616, \"color\": \"#888\"}, \"hoverinfo\": \"none\", \"x\": [-12.773844683472381, -12.791751733740055], \"type\": \"scatter\", \"mode\": \"lines\", \"y\": [19.566330422843407, 19.008361465721478]}, {\"line\": {\"width\": 1.0639997301915696, \"color\": \"#888\"}, \"hoverinfo\": \"none\", \"x\": [-13.469602721182888, -13.551675742174377], \"type\": \"scatter\", \"mode\": \"lines\", \"y\": [21.366730828241682, 20.329212509114274]}, {\"line\": {\"width\": 1.0146031495542491, \"color\": \"#888\"}, \"hoverinfo\": \"none\", \"x\": [-13.488239384273696, -13.551675742174377], \"type\": \"scatter\", \"mode\": \"lines\", \"y\": [22.052657171590635, 20.329212509114274]}, {\"line\": {\"width\": 1.009891226732699, \"color\": \"#888\"}, \"hoverinfo\": \"none\", \"x\": [-14.550581404051927, -13.551675742174377], \"type\": \"scatter\", \"mode\": \"lines\", \"y\": [19.624642271113515, 20.329212509114274]}, {\"line\": {\"width\": 2.065971345037072, \"color\": \"#888\"}, \"hoverinfo\": \"none\", \"x\": [-12.850718139242009, -13.551675742174377], \"type\": \"scatter\", \"mode\": \"lines\", \"y\": [20.929101940708783, 20.329212509114274]}, {\"line\": {\"width\": 1.1028578207143278, \"color\": \"#888\"}, \"hoverinfo\": \"none\", \"x\": [-12.629951858941117, -13.551675742174377], \"type\": \"scatter\", \"mode\": \"lines\", \"y\": [20.42458920482799, 20.329212509114274]}, {\"line\": {\"width\": 2.0438351601555285, \"color\": \"#888\"}, \"hoverinfo\": \"none\", \"x\": [-13.551675742174377, -12.910843834401481], \"type\": \"scatter\", \"mode\": \"lines\", \"y\": [20.329212509114274, 21.01436659376408]}, {\"line\": {\"width\": 1.182845607700317, \"color\": \"#888\"}, \"hoverinfo\": \"none\", \"x\": [-13.551675742174377, -12.284441948806446], \"type\": \"scatter\", \"mode\": \"lines\", \"y\": [20.329212509114274, 21.025645557579107]}, {\"line\": {\"width\": 1.1053318702016692, \"color\": \"#888\"}, \"hoverinfo\": \"none\", \"x\": [-13.551675742174377, -13.23643931550353], \"type\": \"scatter\", \"mode\": \"lines\", \"y\": [20.329212509114274, 20.945151973986814]}, {\"line\": {\"width\": 1.6214786080697199, \"color\": \"#888\"}, \"hoverinfo\": \"none\", \"x\": [-13.551675742174377, -14.197638723341639], \"type\": \"scatter\", \"mode\": \"lines\", \"y\": [20.329212509114274, 21.267662103421003]}, {\"line\": {\"width\": 1.478063701708963, \"color\": \"#888\"}, \"hoverinfo\": \"none\", \"x\": [-13.551675742174377, -13.263024710033392], \"type\": \"scatter\", \"mode\": \"lines\", \"y\": [20.329212509114274, 21.47913495742209]}, {\"line\": {\"width\": 1.024851807316002, \"color\": \"#888\"}, \"hoverinfo\": \"none\", \"x\": [-15.234399201561038, -14.113963476444026], \"type\": \"scatter\", \"mode\": \"lines\", \"y\": [21.622923707016, 20.733964232542867]}, {\"line\": {\"width\": 1.227184181781318, \"color\": \"#888\"}, \"hoverinfo\": \"none\", \"x\": [-6.3972927373085495, -7.173322289908699], \"type\": \"scatter\", \"mode\": \"lines\", \"y\": [15.241339929201953, 15.323501465363748]}, {\"line\": {\"width\": 1.292876417243475, \"color\": \"#888\"}, \"hoverinfo\": \"none\", \"x\": [-7.173322289908699, -7.0968782985042065], \"type\": \"scatter\", \"mode\": \"lines\", \"y\": [15.323501465363748, 16.098146229260884]}, {\"line\": {\"width\": 1.1894481478399692, \"color\": \"#888\"}, \"hoverinfo\": \"none\", \"x\": [-7.173322289908699, -6.370044307639769], \"type\": \"scatter\", \"mode\": \"lines\", \"y\": [15.323501465363748, 15.983076688771783]}, {\"line\": {\"width\": 1.023739986080041, \"color\": \"#888\"}, \"hoverinfo\": \"none\", \"x\": [-7.173322289908699, -7.894341793927663], \"type\": \"scatter\", \"mode\": \"lines\", \"y\": [15.323501465363748, 14.811120528398838]}, {\"line\": {\"width\": 1.1375442406461065, \"color\": \"#888\"}, \"hoverinfo\": \"none\", \"x\": [-11.96986801292686, -12.040651155801354], \"type\": \"scatter\", \"mode\": \"lines\", \"y\": [22.41278980421849, 21.209858966184818]}, {\"line\": {\"width\": 1.3020081673906392, \"color\": \"#888\"}, \"hoverinfo\": \"none\", \"x\": [-12.341464452775313, -12.040651155801354], \"type\": \"scatter\", \"mode\": \"lines\", \"y\": [20.311362961497515, 21.209858966184818]}, {\"line\": {\"width\": 1.2126837123212695, \"color\": \"#888\"}, \"hoverinfo\": \"none\", \"x\": [-12.345143556966459, -12.040651155801354], \"type\": \"scatter\", \"mode\": \"lines\", \"y\": [21.995363443026463, 21.209858966184818]}, {\"line\": {\"width\": 1.0879176777993202, \"color\": \"#888\"}, \"hoverinfo\": \"none\", \"x\": [-12.608722745064354, -12.040651155801354], \"type\": \"scatter\", \"mode\": \"lines\", \"y\": [21.38991608678275, 21.209858966184818]}, {\"line\": {\"width\": 1.0142546881249672, \"color\": \"#888\"}, \"hoverinfo\": \"none\", \"x\": [-12.356415919830226, -12.040651155801354], \"type\": \"scatter\", \"mode\": \"lines\", \"y\": [19.76080027239755, 21.209858966184818]}, {\"line\": {\"width\": 1.0283338879595503, \"color\": \"#888\"}, \"hoverinfo\": \"none\", \"x\": [-12.39070970399015, -12.040651155801354], \"type\": \"scatter\", \"mode\": \"lines\", \"y\": [22.673929128949084, 21.209858966184818]}, {\"line\": {\"width\": 1.0774768598511477, \"color\": \"#888\"}, \"hoverinfo\": \"none\", \"x\": [-11.549799157354075, -12.040651155801354], \"type\": \"scatter\", \"mode\": \"lines\", \"y\": [21.33677004673493, 21.209858966184818]}, {\"line\": {\"width\": 1.0017036219199675, \"color\": \"#888\"}, \"hoverinfo\": \"none\", \"x\": [-12.040651155801354, -12.910843834401481], \"type\": \"scatter\", \"mode\": \"lines\", \"y\": [21.209858966184818, 21.01436659376408]}, {\"line\": {\"width\": 1.0044307703095177, \"color\": \"#888\"}, \"hoverinfo\": \"none\", \"x\": [-12.040651155801354, -13.23643931550353], \"type\": \"scatter\", \"mode\": \"lines\", \"y\": [21.209858966184818, 20.945151973986814]}, {\"line\": {\"width\": 1.0661448204254618, \"color\": \"#888\"}, \"hoverinfo\": \"none\", \"x\": [-12.040651155801354, -12.77601031504658], \"type\": \"scatter\", \"mode\": \"lines\", \"y\": [21.209858966184818, 21.12541781408756]}, {\"line\": {\"width\": 1.0434783024942098, \"color\": \"#888\"}, \"hoverinfo\": \"none\", \"x\": [-12.040651155801354, -12.0448503313882], \"type\": \"scatter\", \"mode\": \"lines\", \"y\": [21.209858966184818, 21.57539053726569]}, {\"line\": {\"width\": 1.0315361785896977, \"color\": \"#888\"}, \"hoverinfo\": \"none\", \"x\": [-14.710043075976875, -13.865413814385875], \"type\": \"scatter\", \"mode\": \"lines\", \"y\": [16.190377164988895, 16.73569458910048]}, {\"line\": {\"width\": 1.2592419968009052, \"color\": \"#888\"}, \"hoverinfo\": \"none\", \"x\": [-13.441751089432334, -13.865413814385875], \"type\": \"scatter\", \"mode\": \"lines\", \"y\": [17.589690474392604, 16.73569458910048]}, {\"line\": {\"width\": 1.071128511782815, \"color\": \"#888\"}, \"hoverinfo\": \"none\", \"x\": [-6.980617299185159, -6.1944511846115295], \"type\": \"scatter\", \"mode\": \"lines\", \"y\": [24.381654675868525, 24.720580155078387]}, {\"line\": {\"width\": 1.0245518414506591, \"color\": \"#888\"}, \"hoverinfo\": \"none\", \"x\": [-5.386818926161954, -6.1944511846115295], \"type\": \"scatter\", \"mode\": \"lines\", \"y\": [24.440457183874862, 24.720580155078387]}, {\"line\": {\"width\": 1.0340728797538277, \"color\": \"#888\"}, \"hoverinfo\": \"none\", \"x\": [-6.8613395668689945, -6.1944511846115295], \"type\": \"scatter\", \"mode\": \"lines\", \"y\": [25.28721818848291, 24.720580155078387]}, {\"line\": {\"width\": 1.1908454484178237, \"color\": \"#888\"}, \"hoverinfo\": \"none\", \"x\": [-12.714023615727218, -13.40775776308866], \"type\": \"scatter\", \"mode\": \"lines\", \"y\": [24.189137248261808, 23.16466309028817]}, {\"line\": {\"width\": 1.0524442281058517, \"color\": \"#888\"}, \"hoverinfo\": \"none\", \"x\": [-12.700498433924094, -13.40775776308866], \"type\": \"scatter\", \"mode\": \"lines\", \"y\": [22.212152083511462, 23.16466309028817]}, {\"line\": {\"width\": 1.175874262213163, \"color\": \"#888\"}, \"hoverinfo\": \"none\", \"x\": [-13.40775776308866, -12.863841475837656], \"type\": \"scatter\", \"mode\": \"lines\", \"y\": [23.16466309028817, 23.15284384716926]}, {\"line\": {\"width\": 1.004178189054917, \"color\": \"#888\"}, \"hoverinfo\": \"none\", \"x\": [-13.40775776308866, -13.402038872682441], \"type\": \"scatter\", \"mode\": \"lines\", \"y\": [23.16466309028817, 21.793632774845815]}, {\"line\": {\"width\": 1.0016258231537143, \"color\": \"#888\"}, \"hoverinfo\": \"none\", \"x\": [-15.372073600338794, -13.991559819591165], \"type\": \"scatter\", \"mode\": \"lines\", \"y\": [20.491665880790695, 20.390716009399764]}, {\"line\": {\"width\": 1.396281197964648, \"color\": \"#888\"}, \"hoverinfo\": \"none\", \"x\": [-12.850718139242009, -12.245780801073543], \"type\": \"scatter\", \"mode\": \"lines\", \"y\": [20.929101940708783, 22.05487676021708]}, {\"line\": {\"width\": 1.381764395450621, \"color\": \"#888\"}, \"hoverinfo\": \"none\", \"x\": [-12.245780801073543, -12.910843834401481], \"type\": \"scatter\", \"mode\": \"lines\", \"y\": [22.05487676021708, 21.01436659376408]}, {\"line\": {\"width\": 1.158520250127273, \"color\": \"#888\"}, \"hoverinfo\": \"none\", \"x\": [-12.245780801073543, -13.030036553810685], \"type\": \"scatter\", \"mode\": \"lines\", \"y\": [22.05487676021708, 21.519701600461545]}, {\"line\": {\"width\": 1.3947798602143577, \"color\": \"#888\"}, \"hoverinfo\": \"none\", \"x\": [-13.04465356572712, -12.407573428884401], \"type\": \"scatter\", \"mode\": \"lines\", \"y\": [19.63101236622079, 18.483892921314833]}, {\"line\": {\"width\": 1.4270424796927508, \"color\": \"#888\"}, \"hoverinfo\": \"none\", \"x\": [-12.407573428884401, -12.413627755794588], \"type\": \"scatter\", \"mode\": \"lines\", \"y\": [18.483892921314833, 19.886962274912875]}, {\"line\": {\"width\": 1.1074856560433903, \"color\": \"#888\"}, \"hoverinfo\": \"none\", \"x\": [-13.889868260640972, -13.351672055886201], \"type\": \"scatter\", \"mode\": \"lines\", \"y\": [20.43968106318603, 19.867140863497806]}, {\"line\": {\"width\": 1.1148568168788477, \"color\": \"#888\"}, \"hoverinfo\": \"none\", \"x\": [-13.197102179360037, -13.351672055886201], \"type\": \"scatter\", \"mode\": \"lines\", \"y\": [20.446227226217555, 19.867140863497806]}, {\"line\": {\"width\": 1.0785351354543908, \"color\": \"#888\"}, \"hoverinfo\": \"none\", \"x\": [-12.850718139242009, -13.351672055886201], \"type\": \"scatter\", \"mode\": \"lines\", \"y\": [20.929101940708783, 19.867140863497806]}, {\"line\": {\"width\": 1.0649763823028287, \"color\": \"#888\"}, \"hoverinfo\": \"none\", \"x\": [-13.351672055886201, -12.910843834401481], \"type\": \"scatter\", \"mode\": \"lines\", \"y\": [19.867140863497806, 21.01436659376408]}, {\"line\": {\"width\": 1.0694843331904502, \"color\": \"#888\"}, \"hoverinfo\": \"none\", \"x\": [-13.351672055886201, -13.991559819591165], \"type\": \"scatter\", \"mode\": \"lines\", \"y\": [19.867140863497806, 20.390716009399764]}, {\"line\": {\"width\": 1.2668221814392555, \"color\": \"#888\"}, \"hoverinfo\": \"none\", \"x\": [-4.584947224697205, -5.073089420651273], \"type\": \"scatter\", \"mode\": \"lines\", \"y\": [15.71948327575617, 16.459245976619137]}, {\"line\": {\"width\": 1.347942889518921, \"color\": \"#888\"}, \"hoverinfo\": \"none\", \"x\": [-5.073089420651273, -5.86844856996267], \"type\": \"scatter\", \"mode\": \"lines\", \"y\": [16.459245976619137, 16.760373276774367]}, {\"line\": {\"width\": 1.1256280676713315, \"color\": \"#888\"}, \"hoverinfo\": \"none\", \"x\": [-5.073089420651273, -4.223973842704066], \"type\": \"scatter\", \"mode\": \"lines\", \"y\": [16.459245976619137, 16.553054912084303]}, {\"line\": {\"width\": 1.08702934324447, \"color\": \"#888\"}, \"hoverinfo\": \"none\", \"x\": [-14.878990974107236, -13.991559819591165], \"type\": \"scatter\", \"mode\": \"lines\", \"y\": [19.390836062858266, 20.390716009399764]}, {\"line\": {\"width\": 1.0312463278416266, \"color\": \"#888\"}, \"hoverinfo\": \"none\", \"x\": [-14.878990974107236, -15.64783094935959], \"type\": \"scatter\", \"mode\": \"lines\", \"y\": [19.390836062858266, 18.70206518528754]}, {\"line\": {\"width\": 1.101846943540752, \"color\": \"#888\"}, \"hoverinfo\": \"none\", \"x\": [-14.489168620811169, -14.113963476444026], \"type\": \"scatter\", \"mode\": \"lines\", \"y\": [21.091249032371852, 20.733964232542867]}, {\"line\": {\"width\": 1.2360856728275742, \"color\": \"#888\"}, \"hoverinfo\": \"none\", \"x\": [-13.642983348705675, -14.113963476444026], \"type\": \"scatter\", \"mode\": \"lines\", \"y\": [20.519633212486255, 20.733964232542867]}, {\"line\": {\"width\": 1.0897274601483349, \"color\": \"#888\"}, \"hoverinfo\": \"none\", \"x\": [-12.850718139242009, -14.113963476444026], \"type\": \"scatter\", \"mode\": \"lines\", \"y\": [20.929101940708783, 20.733964232542867]}, {\"line\": {\"width\": 1.173381555970102, \"color\": \"#888\"}, \"hoverinfo\": \"none\", \"x\": [-13.236477225987986, -14.113963476444026], \"type\": \"scatter\", \"mode\": \"lines\", \"y\": [20.35065703675912, 20.733964232542867]}, {\"line\": {\"width\": 1.2118755430433457, \"color\": \"#888\"}, \"hoverinfo\": \"none\", \"x\": [-13.537096610506756, -14.113963476444026], \"type\": \"scatter\", \"mode\": \"lines\", \"y\": [19.92320307519968, 20.733964232542867]}, {\"line\": {\"width\": 1.0735111654177543, \"color\": \"#888\"}, \"hoverinfo\": \"none\", \"x\": [-14.005021731026002, -14.113963476444026], \"type\": \"scatter\", \"mode\": \"lines\", \"y\": [21.876050068264206, 20.733964232542867]}, {\"line\": {\"width\": 1.0614058798952004, \"color\": \"#888\"}, \"hoverinfo\": \"none\", \"x\": [-13.85101503582916, -14.113963476444026], \"type\": \"scatter\", \"mode\": \"lines\", \"y\": [19.70968323427432, 20.733964232542867]}, {\"line\": {\"width\": 1.130544911080376, \"color\": \"#888\"}, \"hoverinfo\": \"none\", \"x\": [-13.427726029882152, -14.113963476444026], \"type\": \"scatter\", \"mode\": \"lines\", \"y\": [21.052187341494502, 20.733964232542867]}, {\"line\": {\"width\": 1.0127579753703615, \"color\": \"#888\"}, \"hoverinfo\": \"none\", \"x\": [-15.318409941350346, -14.113963476444026], \"type\": \"scatter\", \"mode\": \"lines\", \"y\": [21.07416326794205, 20.733964232542867]}, {\"line\": {\"width\": 1.5661984593213938, \"color\": \"#888\"}, \"hoverinfo\": \"none\", \"x\": [-13.912717315656698, -14.113963476444026], \"type\": \"scatter\", \"mode\": \"lines\", \"y\": [21.454212393115643, 20.733964232542867]}, {\"line\": {\"width\": 1.024851807316002, \"color\": \"#888\"}, \"hoverinfo\": \"none\", \"x\": [-15.234399201561038, -14.113963476444026], \"type\": \"scatter\", \"mode\": \"lines\", \"y\": [21.622923707016, 20.733964232542867]}, {\"line\": {\"width\": 1.3790216487161453, \"color\": \"#888\"}, \"hoverinfo\": \"none\", \"x\": [-14.113963476444026, -12.910843834401481], \"type\": \"scatter\", \"mode\": \"lines\", \"y\": [20.733964232542867, 21.01436659376408]}, {\"line\": {\"width\": 1.0147711859151491, \"color\": \"#888\"}, \"hoverinfo\": \"none\", \"x\": [-14.113963476444026, -13.637993460243793], \"type\": \"scatter\", \"mode\": \"lines\", \"y\": [20.733964232542867, 21.53220459934256]}, {\"line\": {\"width\": 1.418570868399821, \"color\": \"#888\"}, \"hoverinfo\": \"none\", \"x\": [-14.113963476444026, -13.23643931550353], \"type\": \"scatter\", \"mode\": \"lines\", \"y\": [20.733964232542867, 20.945151973986814]}, {\"line\": {\"width\": 1.1205473960343013, \"color\": \"#888\"}, \"hoverinfo\": \"none\", \"x\": [-14.113963476444026, -13.402038872682441], \"type\": \"scatter\", \"mode\": \"lines\", \"y\": [20.733964232542867, 21.793632774845815]}, {\"line\": {\"width\": 1.478343144437317, \"color\": \"#888\"}, \"hoverinfo\": \"none\", \"x\": [-14.113963476444026, -13.263024710033392], \"type\": \"scatter\", \"mode\": \"lines\", \"y\": [20.733964232542867, 21.47913495742209]}, {\"line\": {\"width\": 1.0239793226778227, \"color\": \"#888\"}, \"hoverinfo\": \"none\", \"x\": [-14.113963476444026, -13.994286400461116], \"type\": \"scatter\", \"mode\": \"lines\", \"y\": [20.733964232542867, 20.881168702489436]}, {\"line\": {\"width\": 1.1687158288165795, \"color\": \"#888\"}, \"hoverinfo\": \"none\", \"x\": [-14.311419458172569, -15.067822716688191], \"type\": \"scatter\", \"mode\": \"lines\", \"y\": [19.971822262725137, 19.80585907837482]}, {\"line\": {\"width\": 1.1152978365695407, \"color\": \"#888\"}, \"hoverinfo\": \"none\", \"x\": [-14.582278534558517, -15.067822716688191], \"type\": \"scatter\", \"mode\": \"lines\", \"y\": [20.217135258366874, 19.80585907837482]}, {\"line\": {\"width\": 1.0063678625099115, \"color\": \"#888\"}, \"hoverinfo\": \"none\", \"x\": [-15.067822716688191, -13.991559819591165], \"type\": \"scatter\", \"mode\": \"lines\", \"y\": [19.80585907837482, 20.390716009399764]}, {\"line\": {\"width\": 1.239663977993973, \"color\": \"#888\"}, \"hoverinfo\": \"none\", \"x\": [-15.067822716688191, -15.174279426119066], \"type\": \"scatter\", \"mode\": \"lines\", \"y\": [19.80585907837482, 20.114788448159768]}, {\"line\": {\"width\": 1.065898236688193, \"color\": \"#888\"}, \"hoverinfo\": \"none\", \"x\": [-12.341464452775313, -11.206212473786957], \"type\": \"scatter\", \"mode\": \"lines\", \"y\": [20.311362961497515, 19.700944560761023]}, {\"line\": {\"width\": 1.0203869560990926, \"color\": \"#888\"}, \"hoverinfo\": \"none\", \"x\": [-11.206212473786957, -11.85499862010832], \"type\": \"scatter\", \"mode\": \"lines\", \"y\": [19.700944560761023, 20.494921025806526]}, {\"line\": {\"width\": 1.0777260918306837, \"color\": \"#888\"}, \"hoverinfo\": \"none\", \"x\": [-10.876620155685893, -11.722835280723642], \"type\": \"scatter\", \"mode\": \"lines\", \"y\": [13.40737124310082, 13.116750930492408]}, {\"line\": {\"width\": 1.0179709864903281, \"color\": \"#888\"}, \"hoverinfo\": \"none\", \"x\": [-13.584146493457986, -14.17718698076056], \"type\": \"scatter\", \"mode\": \"lines\", \"y\": [21.910867822678476, 22.950125329389966]}, {\"line\": {\"width\": 1.0835187560359603, \"color\": \"#888\"}, \"hoverinfo\": \"none\", \"x\": [-14.17718698076056, -14.498939637577397], \"type\": \"scatter\", \"mode\": \"lines\", \"y\": [22.950125329389966, 22.044399357519538]}, {\"line\": {\"width\": 1.118949889885228, \"color\": \"#888\"}, \"hoverinfo\": \"none\", \"x\": [-12.714023615727218, -12.863841475837656], \"type\": \"scatter\", \"mode\": \"lines\", \"y\": [24.189137248261808, 23.15284384716926]}, {\"line\": {\"width\": 1.062441482693396, \"color\": \"#888\"}, \"hoverinfo\": \"none\", \"x\": [-12.700498433924094, -12.863841475837656], \"type\": \"scatter\", \"mode\": \"lines\", \"y\": [22.212152083511462, 23.15284384716926]}, {\"line\": {\"width\": 1.175874262213163, \"color\": \"#888\"}, \"hoverinfo\": \"none\", \"x\": [-13.40775776308866, -12.863841475837656], \"type\": \"scatter\", \"mode\": \"lines\", \"y\": [23.16466309028817, 23.15284384716926]}, {\"line\": {\"width\": 1.0031936006915716, \"color\": \"#888\"}, \"hoverinfo\": \"none\", \"x\": [-12.863841475837656, -13.402038872682441], \"type\": \"scatter\", \"mode\": \"lines\", \"y\": [23.15284384716926, 21.793632774845815]}, {\"line\": {\"width\": 1.0037672094831849, \"color\": \"#888\"}, \"hoverinfo\": \"none\", \"x\": [-14.916485071497744, -14.628261411278487], \"type\": \"scatter\", \"mode\": \"lines\", \"y\": [13.489550636378056, 14.221291596828324]}, {\"line\": {\"width\": 1.0009002263479672, \"color\": \"#888\"}, \"hoverinfo\": \"none\", \"x\": [-14.628261411278487, -15.523142350203068], \"type\": \"scatter\", \"mode\": \"lines\", \"y\": [14.221291596828324, 14.189823829652912]}, {\"line\": {\"width\": 1.0402369266799911, \"color\": \"#888\"}, \"hoverinfo\": \"none\", \"x\": [-10.94275863783377, -11.14647911771022], \"type\": \"scatter\", \"mode\": \"lines\", \"y\": [23.596121969629742, 22.371393610371104]}, {\"line\": {\"width\": 1.013889391058027, \"color\": \"#888\"}, \"hoverinfo\": \"none\", \"x\": [-14.018918630615032, -14.986087504472923], \"type\": \"scatter\", \"mode\": \"lines\", \"y\": [21.72493113956793, 22.39991748096667]}, {\"line\": {\"width\": 1.0665600340541475, \"color\": \"#888\"}, \"hoverinfo\": \"none\", \"x\": [-14.858379268270992, -14.986087504472923], \"type\": \"scatter\", \"mode\": \"lines\", \"y\": [21.526061738550137, 22.39991748096667]}, {\"line\": {\"width\": 1.076168477283597, \"color\": \"#888\"}, \"hoverinfo\": \"none\", \"x\": [-15.185335092491869, -14.986087504472923], \"type\": \"scatter\", \"mode\": \"lines\", \"y\": [21.033890967174504, 22.39991748096667]}, {\"line\": {\"width\": 1.0702078111080118, \"color\": \"#888\"}, \"hoverinfo\": \"none\", \"x\": [-15.827375056035295, -14.986087504472923], \"type\": \"scatter\", \"mode\": \"lines\", \"y\": [21.850844621105583, 22.39991748096667]}, {\"line\": {\"width\": 1.2061507937740665, \"color\": \"#888\"}, \"hoverinfo\": \"none\", \"x\": [-14.986087504472923, -14.720725521153799], \"type\": \"scatter\", \"mode\": \"lines\", \"y\": [22.39991748096667, 23.67530227963661]}, {\"line\": {\"width\": 1.3018585044066486, \"color\": \"#888\"}, \"hoverinfo\": \"none\", \"x\": [-12.850718139242009, -12.170458243867694], \"type\": \"scatter\", \"mode\": \"lines\", \"y\": [20.929101940708783, 19.971879414718284]}, {\"line\": {\"width\": 1.0329961997871857, \"color\": \"#888\"}, \"hoverinfo\": \"none\", \"x\": [-11.890506936706867, -12.170458243867694], \"type\": \"scatter\", \"mode\": \"lines\", \"y\": [18.6555510556014, 19.971879414718284]}, {\"line\": {\"width\": 1.2864468529583373, \"color\": \"#888\"}, \"hoverinfo\": \"none\", \"x\": [-12.170458243867694, -12.910843834401481], \"type\": \"scatter\", \"mode\": \"lines\", \"y\": [19.971879414718284, 21.01436659376408]}, {\"line\": {\"width\": 1.0952915075625365, \"color\": \"#888\"}, \"hoverinfo\": \"none\", \"x\": [-12.170458243867694, -12.791751733740055], \"type\": \"scatter\", \"mode\": \"lines\", \"y\": [19.971879414718284, 19.008361465721478]}, {\"line\": {\"width\": 2.566209840487566, \"color\": \"#888\"}, \"hoverinfo\": \"none\", \"x\": [-13.713867049753938, -12.910843834401481], \"type\": \"scatter\", \"mode\": \"lines\", \"y\": [21.32277923138798, 21.01436659376408]}, {\"line\": {\"width\": 1.3015663196802976, \"color\": \"#888\"}, \"hoverinfo\": \"none\", \"x\": [-14.018918630615032, -12.910843834401481], \"type\": \"scatter\", \"mode\": \"lines\", \"y\": [21.72493113956793, 21.01436659376408]}, {\"line\": {\"width\": 1.8814560634855202, \"color\": \"#888\"}, \"hoverinfo\": \"none\", \"x\": [-13.72503864579122, -12.910843834401481], \"type\": \"scatter\", \"mode\": \"lines\", \"y\": [20.752200827459543, 21.01436659376408]}, {\"line\": {\"width\": 1.7937621694778214, \"color\": \"#888\"}, \"hoverinfo\": \"none\", \"x\": [-12.95422029598588, -12.910843834401481], \"type\": \"scatter\", \"mode\": \"lines\", \"y\": [22.173012221957887, 21.01436659376408]}, {\"line\": {\"width\": 1.1107805467841665, \"color\": \"#888\"}, \"hoverinfo\": \"none\", \"x\": [-13.889868260640972, -12.910843834401481], \"type\": \"scatter\", \"mode\": \"lines\", \"y\": [20.43968106318603, 21.01436659376408]}, {\"line\": {\"width\": 1.9066601669415097, \"color\": \"#888\"}, \"hoverinfo\": \"none\", \"x\": [-13.469602721182888, -12.910843834401481], \"type\": \"scatter\", \"mode\": \"lines\", \"y\": [21.366730828241682, 21.01436659376408]}, {\"line\": {\"width\": 1.6918335657476147, \"color\": \"#888\"}, \"hoverinfo\": \"none\", \"x\": [-13.421282842315208, -12.910843834401481], \"type\": \"scatter\", \"mode\": \"lines\", \"y\": [20.731208327312252, 21.01436659376408]}, {\"line\": {\"width\": 1.0412559036608944, \"color\": \"#888\"}, \"hoverinfo\": \"none\", \"x\": [-12.075137469042582, -12.910843834401481], \"type\": \"scatter\", \"mode\": \"lines\", \"y\": [21.88172971181922, 21.01436659376408]}, {\"line\": {\"width\": 1.0274528679010728, \"color\": \"#888\"}, \"hoverinfo\": \"none\", \"x\": [-12.88079425450245, -12.910843834401481], \"type\": \"scatter\", \"mode\": \"lines\", \"y\": [20.00414689876472, 21.01436659376408]}, {\"line\": {\"width\": 1.315584544815094, \"color\": \"#888\"}, \"hoverinfo\": \"none\", \"x\": [-11.949124589899004, -12.910843834401481], \"type\": \"scatter\", \"mode\": \"lines\", \"y\": [21.792200991998797, 21.01436659376408]}, {\"line\": {\"width\": 1.251505001338207, \"color\": \"#888\"}, \"hoverinfo\": \"none\", \"x\": [-12.341464452775313, -12.910843834401481], \"type\": \"scatter\", \"mode\": \"lines\", \"y\": [20.311362961497515, 21.01436659376408]}, {\"line\": {\"width\": 1.3636061225836045, \"color\": \"#888\"}, \"hoverinfo\": \"none\", \"x\": [-13.488239384273696, -12.910843834401481], \"type\": \"scatter\", \"mode\": \"lines\", \"y\": [22.052657171590635, 21.01436659376408]}, {\"line\": {\"width\": 1.132076111448573, \"color\": \"#888\"}, \"hoverinfo\": \"none\", \"x\": [-13.642983348705675, -12.910843834401481], \"type\": \"scatter\", \"mode\": \"lines\", \"y\": [20.519633212486255, 21.01436659376408]}, {\"line\": {\"width\": 1.0566396278035435, \"color\": \"#888\"}, \"hoverinfo\": \"none\", \"x\": [-11.942871546634484, -12.910843834401481], \"type\": \"scatter\", \"mode\": \"lines\", \"y\": [20.943028751942535, 21.01436659376408]}, {\"line\": {\"width\": 2.1872722361747963, \"color\": \"#888\"}, \"hoverinfo\": \"none\", \"x\": [-13.197102179360037, -12.910843834401481], \"type\": \"scatter\", \"mode\": \"lines\", \"y\": [20.446227226217555, 21.01436659376408]}, {\"line\": {\"width\": 1.2839448025401863, \"color\": \"#888\"}, \"hoverinfo\": \"none\", \"x\": [-12.345143556966459, -12.910843834401481], \"type\": \"scatter\", \"mode\": \"lines\", \"y\": [21.995363443026463, 21.01436659376408]}, {\"line\": {\"width\": 10.0, \"color\": \"#888\"}, \"hoverinfo\": \"none\", \"x\": [-12.850718139242009, -12.910843834401481], \"type\": \"scatter\", \"mode\": \"lines\", \"y\": [20.929101940708783, 21.01436659376408]}, {\"line\": {\"width\": 1.1574776734716477, \"color\": \"#888\"}, \"hoverinfo\": \"none\", \"x\": [-13.236477225987986, -12.910843834401481], \"type\": \"scatter\", \"mode\": \"lines\", \"y\": [20.35065703675912, 21.01436659376408]}, {\"line\": {\"width\": 1.4227295360483014, \"color\": \"#888\"}, \"hoverinfo\": \"none\", \"x\": [-13.537096610506756, -12.910843834401481], \"type\": \"scatter\", \"mode\": \"lines\", \"y\": [19.92320307519968, 21.01436659376408]}, {\"line\": {\"width\": 1.2890306469390533, \"color\": \"#888\"}, \"hoverinfo\": \"none\", \"x\": [-14.005021731026002, -12.910843834401481], \"type\": \"scatter\", \"mode\": \"lines\", \"y\": [21.876050068264206, 21.01436659376408]}, {\"line\": {\"width\": 2.451719595282226, \"color\": \"#888\"}, \"hoverinfo\": \"none\", \"x\": [-13.427726029882152, -12.910843834401481], \"type\": \"scatter\", \"mode\": \"lines\", \"y\": [21.052187341494502, 21.01436659376408]}, {\"line\": {\"width\": 1.3165820698061634, \"color\": \"#888\"}, \"hoverinfo\": \"none\", \"x\": [-13.04465356572712, -12.910843834401481], \"type\": \"scatter\", \"mode\": \"lines\", \"y\": [19.63101236622079, 21.01436659376408]}, {\"line\": {\"width\": 1.670467809013335, \"color\": \"#888\"}, \"hoverinfo\": \"none\", \"x\": [-14.027395794310534, -12.910843834401481], \"type\": \"scatter\", \"mode\": \"lines\", \"y\": [21.396105270096907, 21.01436659376408]}, {\"line\": {\"width\": 1.3993620914043623, \"color\": \"#888\"}, \"hoverinfo\": \"none\", \"x\": [-13.584146493457986, -12.910843834401481], \"type\": \"scatter\", \"mode\": \"lines\", \"y\": [21.910867822678476, 21.01436659376408]}, {\"line\": {\"width\": 1.7288782060789272, \"color\": \"#888\"}, \"hoverinfo\": \"none\", \"x\": [-12.907640754729615, -12.910843834401481], \"type\": \"scatter\", \"mode\": \"lines\", \"y\": [20.469607616408755, 21.01436659376408]}, {\"line\": {\"width\": 3.1879587570809687, \"color\": \"#888\"}, \"hoverinfo\": \"none\", \"x\": [-13.046705351336772, -12.910843834401481], \"type\": \"scatter\", \"mode\": \"lines\", \"y\": [20.77588764099713, 21.01436659376408]}, {\"line\": {\"width\": 1.318747306507667, \"color\": \"#888\"}, \"hoverinfo\": \"none\", \"x\": [-11.670530996185668, -12.910843834401481], \"type\": \"scatter\", \"mode\": \"lines\", \"y\": [21.09066706630328, 21.01436659376408]}, {\"line\": {\"width\": 1.0098721890370026, \"color\": \"#888\"}, \"hoverinfo\": \"none\", \"x\": [-12.700498433924094, -12.910843834401481], \"type\": \"scatter\", \"mode\": \"lines\", \"y\": [22.212152083511462, 21.01436659376408]}, {\"line\": {\"width\": 1.0970820709105817, \"color\": \"#888\"}, \"hoverinfo\": \"none\", \"x\": [-12.14572655546444, -12.910843834401481], \"type\": \"scatter\", \"mode\": \"lines\", \"y\": [20.401750449215392, 21.01436659376408]}, {\"line\": {\"width\": 1.0919393118939638, \"color\": \"#888\"}, \"hoverinfo\": \"none\", \"x\": [-12.918576723501182, -12.910843834401481], \"type\": \"scatter\", \"mode\": \"lines\", \"y\": [19.762632785571746, 21.01436659376408]}, {\"line\": {\"width\": 1.6830778944015319, \"color\": \"#888\"}, \"hoverinfo\": \"none\", \"x\": [-12.608722745064354, -12.910843834401481], \"type\": \"scatter\", \"mode\": \"lines\", \"y\": [21.38991608678275, 21.01436659376408]}, {\"line\": {\"width\": 1.2351605638156031, \"color\": \"#888\"}, \"hoverinfo\": \"none\", \"x\": [-13.912717315656698, -12.910843834401481], \"type\": \"scatter\", \"mode\": \"lines\", \"y\": [21.454212393115643, 21.01436659376408]}, {\"line\": {\"width\": 1.5508367495811979, \"color\": \"#888\"}, \"hoverinfo\": \"none\", \"x\": [-12.629951858941117, -12.910843834401481], \"type\": \"scatter\", \"mode\": \"lines\", \"y\": [20.42458920482799, 21.01436659376408]}, {\"line\": {\"width\": 2.0438351601555285, \"color\": \"#888\"}, \"hoverinfo\": \"none\", \"x\": [-13.551675742174377, -12.910843834401481], \"type\": \"scatter\", \"mode\": \"lines\", \"y\": [20.329212509114274, 21.01436659376408]}, {\"line\": {\"width\": 1.0017036219199675, \"color\": \"#888\"}, \"hoverinfo\": \"none\", \"x\": [-12.040651155801354, -12.910843834401481], \"type\": \"scatter\", \"mode\": \"lines\", \"y\": [21.209858966184818, 21.01436659376408]}, {\"line\": {\"width\": 1.381764395450621, \"color\": \"#888\"}, \"hoverinfo\": \"none\", \"x\": [-12.245780801073543, -12.910843834401481], \"type\": \"scatter\", \"mode\": \"lines\", \"y\": [22.05487676021708, 21.01436659376408]}, {\"line\": {\"width\": 1.0649763823028287, \"color\": \"#888\"}, \"hoverinfo\": \"none\", \"x\": [-13.351672055886201, -12.910843834401481], \"type\": \"scatter\", \"mode\": \"lines\", \"y\": [19.867140863497806, 21.01436659376408]}, {\"line\": {\"width\": 1.3790216487161453, \"color\": \"#888\"}, \"hoverinfo\": \"none\", \"x\": [-14.113963476444026, -12.910843834401481], \"type\": \"scatter\", \"mode\": \"lines\", \"y\": [20.733964232542867, 21.01436659376408]}, {\"line\": {\"width\": 1.2864468529583373, \"color\": \"#888\"}, \"hoverinfo\": \"none\", \"x\": [-12.170458243867694, -12.910843834401481], \"type\": \"scatter\", \"mode\": \"lines\", \"y\": [19.971879414718284, 21.01436659376408]}, {\"line\": {\"width\": 2.567642998280728, \"color\": \"#888\"}, \"hoverinfo\": \"none\", \"x\": [-12.910843834401481, -13.637993460243793], \"type\": \"scatter\", \"mode\": \"lines\", \"y\": [21.01436659376408, 21.53220459934256]}, {\"line\": {\"width\": 1.1523676617484837, \"color\": \"#888\"}, \"hoverinfo\": \"none\", \"x\": [-12.910843834401481, -12.154447470436555], \"type\": \"scatter\", \"mode\": \"lines\", \"y\": [21.01436659376408, 20.687358998302738]}, {\"line\": {\"width\": 1.5587087842051919, \"color\": \"#888\"}, \"hoverinfo\": \"none\", \"x\": [-12.910843834401481, -12.284441948806446], \"type\": \"scatter\", \"mode\": \"lines\", \"y\": [21.01436659376408, 21.025645557579107]}, {\"line\": {\"width\": 1.6392799883916123, \"color\": \"#888\"}, \"hoverinfo\": \"none\", \"x\": [-12.910843834401481, -13.7703511169154], \"type\": \"scatter\", \"mode\": \"lines\", \"y\": [21.01436659376408, 21.085508206964032]}, {\"line\": {\"width\": 1.586531690322458, \"color\": \"#888\"}, \"hoverinfo\": \"none\", \"x\": [-12.910843834401481, -13.991559819591165], \"type\": \"scatter\", \"mode\": \"lines\", \"y\": [21.01436659376408, 20.390716009399764]}, {\"line\": {\"width\": 1.9869900085489416, \"color\": \"#888\"}, \"hoverinfo\": \"none\", \"x\": [-12.910843834401481, -13.23643931550353], \"type\": \"scatter\", \"mode\": \"lines\", \"y\": [21.01436659376408, 20.945151973986814]}, {\"line\": {\"width\": 1.1860759821042963, \"color\": \"#888\"}, \"hoverinfo\": \"none\", \"x\": [-12.910843834401481, -11.85499862010832], \"type\": \"scatter\", \"mode\": \"lines\", \"y\": [21.01436659376408, 20.494921025806526]}, {\"line\": {\"width\": 1.5222648642649248, \"color\": \"#888\"}, \"hoverinfo\": \"none\", \"x\": [-12.910843834401481, -11.80173372332277], \"type\": \"scatter\", \"mode\": \"lines\", \"y\": [21.01436659376408, 21.45649671999348]}, {\"line\": {\"width\": 1.1696652479867022, \"color\": \"#888\"}, \"hoverinfo\": \"none\", \"x\": [-12.910843834401481, -12.413627755794588], \"type\": \"scatter\", \"mode\": \"lines\", \"y\": [21.01436659376408, 19.886962274912875]}, {\"line\": {\"width\": 3.265376284739778, \"color\": \"#888\"}, \"hoverinfo\": \"none\", \"x\": [-12.910843834401481, -13.030036553810685], \"type\": \"scatter\", \"mode\": \"lines\", \"y\": [21.01436659376408, 21.519701600461545]}, {\"line\": {\"width\": 1.2638409296305433, \"color\": \"#888\"}, \"hoverinfo\": \"none\", \"x\": [-12.910843834401481, -13.007084255175895], \"type\": \"scatter\", \"mode\": \"lines\", \"y\": [21.01436659376408, 21.86972207748751]}, {\"line\": {\"width\": 1.438687743390058, \"color\": \"#888\"}, \"hoverinfo\": \"none\", \"x\": [-12.910843834401481, -14.197638723341639], \"type\": \"scatter\", \"mode\": \"lines\", \"y\": [21.01436659376408, 21.267662103421003]}, {\"line\": {\"width\": 1.9833157453205779, \"color\": \"#888\"}, \"hoverinfo\": \"none\", \"x\": [-12.910843834401481, -12.734203853902583], \"type\": \"scatter\", \"mode\": \"lines\", \"y\": [21.01436659376408, 21.55340460756357]}, {\"line\": {\"width\": 1.3812304868980876, \"color\": \"#888\"}, \"hoverinfo\": \"none\", \"x\": [-12.910843834401481, -13.272428838714013], \"type\": \"scatter\", \"mode\": \"lines\", \"y\": [21.01436659376408, 21.97460394894528]}, {\"line\": {\"width\": 3.1927690423116966, \"color\": \"#888\"}, \"hoverinfo\": \"none\", \"x\": [-12.910843834401481, -12.77601031504658], \"type\": \"scatter\", \"mode\": \"lines\", \"y\": [21.01436659376408, 21.12541781408756]}, {\"line\": {\"width\": 1.4190282225804427, \"color\": \"#888\"}, \"hoverinfo\": \"none\", \"x\": [-12.910843834401481, -13.402038872682441], \"type\": \"scatter\", \"mode\": \"lines\", \"y\": [21.01436659376408, 21.793632774845815]}, {\"line\": {\"width\": 2.2726446736519508, \"color\": \"#888\"}, \"hoverinfo\": \"none\", \"x\": [-12.910843834401481, -12.800082302337206], \"type\": \"scatter\", \"mode\": \"lines\", \"y\": [21.01436659376408, 21.797200858097636]}, {\"line\": {\"width\": 2.0270887765427292, \"color\": \"#888\"}, \"hoverinfo\": \"none\", \"x\": [-12.910843834401481, -13.263024710033392], \"type\": \"scatter\", \"mode\": \"lines\", \"y\": [21.01436659376408, 21.47913495742209]}, {\"line\": {\"width\": 1.1820325920296575, \"color\": \"#888\"}, \"hoverinfo\": \"none\", \"x\": [-12.910843834401481, -12.0448503313882], \"type\": \"scatter\", \"mode\": \"lines\", \"y\": [21.01436659376408, 21.57539053726569]}, {\"line\": {\"width\": 1.077722628508547, \"color\": \"#888\"}, \"hoverinfo\": \"none\", \"x\": [-12.910843834401481, -13.994286400461116], \"type\": \"scatter\", \"mode\": \"lines\", \"y\": [21.01436659376408, 20.881168702489436]}, {\"line\": {\"width\": 1.2684677691401385, \"color\": \"#888\"}, \"hoverinfo\": \"none\", \"x\": [-12.910843834401481, -11.573787898129877], \"type\": \"scatter\", \"mode\": \"lines\", \"y\": [21.01436659376408, 20.603582672482666]}, {\"line\": {\"width\": 1.1276664619108372, \"color\": \"#888\"}, \"hoverinfo\": \"none\", \"x\": [-14.489168620811169, -13.637993460243793], \"type\": \"scatter\", \"mode\": \"lines\", \"y\": [21.091249032371852, 21.53220459934256]}, {\"line\": {\"width\": 1.0652308067936342, \"color\": \"#888\"}, \"hoverinfo\": \"none\", \"x\": [-13.642983348705675, -13.637993460243793], \"type\": \"scatter\", \"mode\": \"lines\", \"y\": [20.519633212486255, 21.53220459934256]}, {\"line\": {\"width\": 2.532758298862073, \"color\": \"#888\"}, \"hoverinfo\": \"none\", \"x\": [-12.850718139242009, -13.637993460243793], \"type\": \"scatter\", \"mode\": \"lines\", \"y\": [20.929101940708783, 21.53220459934256]}, {\"line\": {\"width\": 1.0179305802804943, \"color\": \"#888\"}, \"hoverinfo\": \"none\", \"x\": [-13.236477225987986, -13.637993460243793], \"type\": \"scatter\", \"mode\": \"lines\", \"y\": [20.35065703675912, 21.53220459934256]}, {\"line\": {\"width\": 1.6266760524529809, \"color\": \"#888\"}, \"hoverinfo\": \"none\", \"x\": [-13.427726029882152, -13.637993460243793], \"type\": \"scatter\", \"mode\": \"lines\", \"y\": [21.052187341494502, 21.53220459934256]}, {\"line\": {\"width\": 1.5810522423550677, \"color\": \"#888\"}, \"hoverinfo\": \"none\", \"x\": [-13.046705351336772, -13.637993460243793], \"type\": \"scatter\", \"mode\": \"lines\", \"y\": [20.77588764099713, 21.53220459934256]}, {\"line\": {\"width\": 1.104830326321568, \"color\": \"#888\"}, \"hoverinfo\": \"none\", \"x\": [-12.608722745064354, -13.637993460243793], \"type\": \"scatter\", \"mode\": \"lines\", \"y\": [21.38991608678275, 21.53220459934256]}, {\"line\": {\"width\": 1.0147711859151491, \"color\": \"#888\"}, \"hoverinfo\": \"none\", \"x\": [-14.113963476444026, -13.637993460243793], \"type\": \"scatter\", \"mode\": \"lines\", \"y\": [20.733964232542867, 21.53220459934256]}, {\"line\": {\"width\": 2.567642998280728, \"color\": \"#888\"}, \"hoverinfo\": \"none\", \"x\": [-12.910843834401481, -13.637993460243793], \"type\": \"scatter\", \"mode\": \"lines\", \"y\": [21.01436659376408, 21.53220459934256]}, {\"line\": {\"width\": 1.3336206764030232, \"color\": \"#888\"}, \"hoverinfo\": \"none\", \"x\": [-13.637993460243793, -13.030036553810685], \"type\": \"scatter\", \"mode\": \"lines\", \"y\": [21.53220459934256, 21.519701600461545]}, {\"line\": {\"width\": 1.086429851750809, \"color\": \"#888\"}, \"hoverinfo\": \"none\", \"x\": [-13.637993460243793, -13.007084255175895], \"type\": \"scatter\", \"mode\": \"lines\", \"y\": [21.53220459934256, 21.86972207748751]}, {\"line\": {\"width\": 1.1011584011383928, \"color\": \"#888\"}, \"hoverinfo\": \"none\", \"x\": [-13.637993460243793, -12.734203853902583], \"type\": \"scatter\", \"mode\": \"lines\", \"y\": [21.53220459934256, 21.55340460756357]}, {\"line\": {\"width\": 1.040614552209747, \"color\": \"#888\"}, \"hoverinfo\": \"none\", \"x\": [-13.637993460243793, -13.263024710033392], \"type\": \"scatter\", \"mode\": \"lines\", \"y\": [21.53220459934256, 21.47913495742209]}, {\"line\": {\"width\": 1.053502937462228, \"color\": \"#888\"}, \"hoverinfo\": \"none\", \"x\": [-13.637993460243793, -13.994286400461116], \"type\": \"scatter\", \"mode\": \"lines\", \"y\": [21.53220459934256, 20.881168702489436]}, {\"line\": {\"width\": 1.5780503013019398, \"color\": \"#888\"}, \"hoverinfo\": \"none\", \"x\": [-13.197102179360037, -12.154447470436555], \"type\": \"scatter\", \"mode\": \"lines\", \"y\": [20.446227226217555, 20.687358998302738]}, {\"line\": {\"width\": 1.1674054637034508, \"color\": \"#888\"}, \"hoverinfo\": \"none\", \"x\": [-12.850718139242009, -12.154447470436555], \"type\": \"scatter\", \"mode\": \"lines\", \"y\": [20.929101940708783, 20.687358998302738]}, {\"line\": {\"width\": 1.4582984459131114, \"color\": \"#888\"}, \"hoverinfo\": \"none\", \"x\": [-12.907640754729615, -12.154447470436555], \"type\": \"scatter\", \"mode\": \"lines\", \"y\": [20.469607616408755, 20.687358998302738]}, {\"line\": {\"width\": 1.1523676617484837, \"color\": \"#888\"}, \"hoverinfo\": \"none\", \"x\": [-12.910843834401481, -12.154447470436555], \"type\": \"scatter\", \"mode\": \"lines\", \"y\": [21.01436659376408, 20.687358998302738]}, {\"line\": {\"width\": 1.1089316483860638, \"color\": \"#888\"}, \"hoverinfo\": \"none\", \"x\": [-12.154447470436555, -12.800082302337206], \"type\": \"scatter\", \"mode\": \"lines\", \"y\": [20.687358998302738, 21.797200858097636]}, {\"line\": {\"width\": 1.3569822072722615, \"color\": \"#888\"}, \"hoverinfo\": \"none\", \"x\": [-13.421282842315208, -12.284441948806446], \"type\": \"scatter\", \"mode\": \"lines\", \"y\": [20.731208327312252, 21.025645557579107]}, {\"line\": {\"width\": 1.5771108142790777, \"color\": \"#888\"}, \"hoverinfo\": \"none\", \"x\": [-12.850718139242009, -12.284441948806446], \"type\": \"scatter\", \"mode\": \"lines\", \"y\": [20.929101940708783, 21.025645557579107]}, {\"line\": {\"width\": 1.8419867660504172, \"color\": \"#888\"}, \"hoverinfo\": \"none\", \"x\": [-13.046705351336772, -12.284441948806446], \"type\": \"scatter\", \"mode\": \"lines\", \"y\": [20.77588764099713, 21.025645557579107]}, {\"line\": {\"width\": 1.6290562870466516, \"color\": \"#888\"}, \"hoverinfo\": \"none\", \"x\": [-12.14572655546444, -12.284441948806446], \"type\": \"scatter\", \"mode\": \"lines\", \"y\": [20.401750449215392, 21.025645557579107]}, {\"line\": {\"width\": 1.182845607700317, \"color\": \"#888\"}, \"hoverinfo\": \"none\", \"x\": [-13.551675742174377, -12.284441948806446], \"type\": \"scatter\", \"mode\": \"lines\", \"y\": [20.329212509114274, 21.025645557579107]}, {\"line\": {\"width\": 1.5587087842051919, \"color\": \"#888\"}, \"hoverinfo\": \"none\", \"x\": [-12.910843834401481, -12.284441948806446], \"type\": \"scatter\", \"mode\": \"lines\", \"y\": [21.01436659376408, 21.025645557579107]}, {\"line\": {\"width\": 1.2371831217988247, \"color\": \"#888\"}, \"hoverinfo\": \"none\", \"x\": [-12.284441948806446, -13.030036553810685], \"type\": \"scatter\", \"mode\": \"lines\", \"y\": [21.025645557579107, 21.519701600461545]}, {\"line\": {\"width\": 1.0994350344114456, \"color\": \"#888\"}, \"hoverinfo\": \"none\", \"x\": [-12.284441948806446, -13.007084255175895], \"type\": \"scatter\", \"mode\": \"lines\", \"y\": [21.025645557579107, 21.86972207748751]}, {\"line\": {\"width\": 1.8558220971677355, \"color\": \"#888\"}, \"hoverinfo\": \"none\", \"x\": [-13.713867049753938, -13.7703511169154], \"type\": \"scatter\", \"mode\": \"lines\", \"y\": [21.32277923138798, 21.085508206964032]}, {\"line\": {\"width\": 1.5971025916330828, \"color\": \"#888\"}, \"hoverinfo\": \"none\", \"x\": [-13.72503864579122, -13.7703511169154], \"type\": \"scatter\", \"mode\": \"lines\", \"y\": [20.752200827459543, 21.085508206964032]}, {\"line\": {\"width\": 1.6347214072895269, \"color\": \"#888\"}, \"hoverinfo\": \"none\", \"x\": [-13.469602721182888, -13.7703511169154], \"type\": \"scatter\", \"mode\": \"lines\", \"y\": [21.366730828241682, 21.085508206964032]}, {\"line\": {\"width\": 2.060139133022109, \"color\": \"#888\"}, \"hoverinfo\": \"none\", \"x\": [-13.421282842315208, -13.7703511169154], \"type\": \"scatter\", \"mode\": \"lines\", \"y\": [20.731208327312252, 21.085508206964032]}, {\"line\": {\"width\": 1.1458170895486544, \"color\": \"#888\"}, \"hoverinfo\": \"none\", \"x\": [-14.311419458172569, -13.7703511169154], \"type\": \"scatter\", \"mode\": \"lines\", \"y\": [19.971822262725137, 21.085508206964032]}, {\"line\": {\"width\": 1.4450332099193164, \"color\": \"#888\"}, \"hoverinfo\": \"none\", \"x\": [-13.197102179360037, -13.7703511169154], \"type\": \"scatter\", \"mode\": \"lines\", \"y\": [20.446227226217555, 21.085508206964032]}, {\"line\": {\"width\": 1.6595256306523098, \"color\": \"#888\"}, \"hoverinfo\": \"none\", \"x\": [-12.850718139242009, -13.7703511169154], \"type\": \"scatter\", \"mode\": \"lines\", \"y\": [20.929101940708783, 21.085508206964032]}, {\"line\": {\"width\": 1.0230303952199367, \"color\": \"#888\"}, \"hoverinfo\": \"none\", \"x\": [-13.427726029882152, -13.7703511169154], \"type\": \"scatter\", \"mode\": \"lines\", \"y\": [21.052187341494502, 21.085508206964032]}, {\"line\": {\"width\": 1.478924330674631, \"color\": \"#888\"}, \"hoverinfo\": \"none\", \"x\": [-13.584146493457986, -13.7703511169154], \"type\": \"scatter\", \"mode\": \"lines\", \"y\": [21.910867822678476, 21.085508206964032]}, {\"line\": {\"width\": 1.2602232837316554, \"color\": \"#888\"}, \"hoverinfo\": \"none\", \"x\": [-12.907640754729615, -13.7703511169154], \"type\": \"scatter\", \"mode\": \"lines\", \"y\": [20.469607616408755, 21.085508206964032]}, {\"line\": {\"width\": 1.0831408595155747, \"color\": \"#888\"}, \"hoverinfo\": \"none\", \"x\": [-13.046705351336772, -13.7703511169154], \"type\": \"scatter\", \"mode\": \"lines\", \"y\": [20.77588764099713, 21.085508206964032]}, {\"line\": {\"width\": 1.6392799883916123, \"color\": \"#888\"}, \"hoverinfo\": \"none\", \"x\": [-12.910843834401481, -13.7703511169154], \"type\": \"scatter\", \"mode\": \"lines\", \"y\": [21.01436659376408, 21.085508206964032]}, {\"line\": {\"width\": 1.9884491520043113, \"color\": \"#888\"}, \"hoverinfo\": \"none\", \"x\": [-13.7703511169154, -13.030036553810685], \"type\": \"scatter\", \"mode\": \"lines\", \"y\": [21.085508206964032, 21.519701600461545]}, {\"line\": {\"width\": 1.4204921773882484, \"color\": \"#888\"}, \"hoverinfo\": \"none\", \"x\": [-13.7703511169154, -13.007084255175895], \"type\": \"scatter\", \"mode\": \"lines\", \"y\": [21.085508206964032, 21.86972207748751]}, {\"line\": {\"width\": 1.8511518866483965, \"color\": \"#888\"}, \"hoverinfo\": \"none\", \"x\": [-13.7703511169154, -12.734203853902583], \"type\": \"scatter\", \"mode\": \"lines\", \"y\": [21.085508206964032, 21.55340460756357]}, {\"line\": {\"width\": 1.4541960121198971, \"color\": \"#888\"}, \"hoverinfo\": \"none\", \"x\": [-13.7703511169154, -13.272428838714013], \"type\": \"scatter\", \"mode\": \"lines\", \"y\": [21.085508206964032, 21.97460394894528]}, {\"line\": {\"width\": 1.256441085017973, \"color\": \"#888\"}, \"hoverinfo\": \"none\", \"x\": [-13.7703511169154, -12.77601031504658], \"type\": \"scatter\", \"mode\": \"lines\", \"y\": [21.085508206964032, 21.12541781408756]}, {\"line\": {\"width\": 1.014786162987643, \"color\": \"#888\"}, \"hoverinfo\": \"none\", \"x\": [-13.7703511169154, -14.498939637577397], \"type\": \"scatter\", \"mode\": \"lines\", \"y\": [21.085508206964032, 22.044399357519538]}, {\"line\": {\"width\": 1.0478064520326373, \"color\": \"#888\"}, \"hoverinfo\": \"none\", \"x\": [-12.95422029598588, -13.78065772681429], \"type\": \"scatter\", \"mode\": \"lines\", \"y\": [22.173012221957887, 23.09455563508934]}, {\"line\": {\"width\": 1.0145381811725789, \"color\": \"#888\"}, \"hoverinfo\": \"none\", \"x\": [-14.005021731026002, -13.78065772681429], \"type\": \"scatter\", \"mode\": \"lines\", \"y\": [21.876050068264206, 23.09455563508934]}, {\"line\": {\"width\": 1.3184957335227359, \"color\": \"#888\"}, \"hoverinfo\": \"none\", \"x\": [-12.548259461364738, -13.78065772681429], \"type\": \"scatter\", \"mode\": \"lines\", \"y\": [23.299629798486237, 23.09455563508934]}, {\"line\": {\"width\": 1.040035629749341, \"color\": \"#888\"}, \"hoverinfo\": \"none\", \"x\": [-10.56826368128901, -9.611014621595755], \"type\": \"scatter\", \"mode\": \"lines\", \"y\": [20.824710298876187, 20.24224676178515]}, {\"line\": {\"width\": 1.3967176642256418, \"color\": \"#888\"}, \"hoverinfo\": \"none\", \"x\": [-13.713867049753938, -13.991559819591165], \"type\": \"scatter\", \"mode\": \"lines\", \"y\": [21.32277923138798, 20.390716009399764]}, {\"line\": {\"width\": 1.1569261667352864, \"color\": \"#888\"}, \"hoverinfo\": \"none\", \"x\": [-13.72503864579122, -13.991559819591165], \"type\": \"scatter\", \"mode\": \"lines\", \"y\": [20.752200827459543, 20.390716009399764]}, {\"line\": {\"width\": 1.2206520106249243, \"color\": \"#888\"}, \"hoverinfo\": \"none\", \"x\": [-13.421282842315208, -13.991559819591165], \"type\": \"scatter\", \"mode\": \"lines\", \"y\": [20.731208327312252, 20.390716009399764]}, {\"line\": {\"width\": 1.231759241353672, \"color\": \"#888\"}, \"hoverinfo\": \"none\", \"x\": [-14.311419458172569, -13.991559819591165], \"type\": \"scatter\", \"mode\": \"lines\", \"y\": [19.971822262725137, 20.390716009399764]}, {\"line\": {\"width\": 1.3154972210087321, \"color\": \"#888\"}, \"hoverinfo\": \"none\", \"x\": [-13.197102179360037, -13.991559819591165], \"type\": \"scatter\", \"mode\": \"lines\", \"y\": [20.446227226217555, 20.390716009399764]}, {\"line\": {\"width\": 1.605423384514806, \"color\": \"#888\"}, \"hoverinfo\": \"none\", \"x\": [-12.850718139242009, -13.991559819591165], \"type\": \"scatter\", \"mode\": \"lines\", \"y\": [20.929101940708783, 20.390716009399764]}, {\"line\": {\"width\": 1.0161543434297555, \"color\": \"#888\"}, \"hoverinfo\": \"none\", \"x\": [-14.582278534558517, -13.991559819591165], \"type\": \"scatter\", \"mode\": \"lines\", \"y\": [20.217135258366874, 20.390716009399764]}, {\"line\": {\"width\": 1.0520572593229847, \"color\": \"#888\"}, \"hoverinfo\": \"none\", \"x\": [-14.7570657120828, -13.991559819591165], \"type\": \"scatter\", \"mode\": \"lines\", \"y\": [20.50506469374403, 20.390716009399764]}, {\"line\": {\"width\": 1.2495373637579967, \"color\": \"#888\"}, \"hoverinfo\": \"none\", \"x\": [-13.046705351336772, -13.991559819591165], \"type\": \"scatter\", \"mode\": \"lines\", \"y\": [20.77588764099713, 20.390716009399764]}, {\"line\": {\"width\": 1.0016258231537143, \"color\": \"#888\"}, \"hoverinfo\": \"none\", \"x\": [-15.372073600338794, -13.991559819591165], \"type\": \"scatter\", \"mode\": \"lines\", \"y\": [20.491665880790695, 20.390716009399764]}, {\"line\": {\"width\": 1.0694843331904502, \"color\": \"#888\"}, \"hoverinfo\": \"none\", \"x\": [-13.351672055886201, -13.991559819591165], \"type\": \"scatter\", \"mode\": \"lines\", \"y\": [19.867140863497806, 20.390716009399764]}, {\"line\": {\"width\": 1.08702934324447, \"color\": \"#888\"}, \"hoverinfo\": \"none\", \"x\": [-14.878990974107236, -13.991559819591165], \"type\": \"scatter\", \"mode\": \"lines\", \"y\": [19.390836062858266, 20.390716009399764]}, {\"line\": {\"width\": 1.0063678625099115, \"color\": \"#888\"}, \"hoverinfo\": \"none\", \"x\": [-15.067822716688191, -13.991559819591165], \"type\": \"scatter\", \"mode\": \"lines\", \"y\": [19.80585907837482, 20.390716009399764]}, {\"line\": {\"width\": 1.586531690322458, \"color\": \"#888\"}, \"hoverinfo\": \"none\", \"x\": [-12.910843834401481, -13.991559819591165], \"type\": \"scatter\", \"mode\": \"lines\", \"y\": [21.01436659376408, 20.390716009399764]}, {\"line\": {\"width\": 1.1491570273075111, \"color\": \"#888\"}, \"hoverinfo\": \"none\", \"x\": [-13.991559819591165, -13.030036553810685], \"type\": \"scatter\", \"mode\": \"lines\", \"y\": [20.390716009399764, 21.519701600461545]}, {\"line\": {\"width\": 1.5190640300325973, \"color\": \"#888\"}, \"hoverinfo\": \"none\", \"x\": [-13.991559819591165, -12.77601031504658], \"type\": \"scatter\", \"mode\": \"lines\", \"y\": [20.390716009399764, 21.12541781408756]}, {\"line\": {\"width\": 1.2038286935424476, \"color\": \"#888\"}, \"hoverinfo\": \"none\", \"x\": [-13.991559819591165, -15.174279426119066], \"type\": \"scatter\", \"mode\": \"lines\", \"y\": [20.390716009399764, 20.114788448159768]}, {\"line\": {\"width\": 1.097869395831777, \"color\": \"#888\"}, \"hoverinfo\": \"none\", \"x\": [-13.72503864579122, -15.195076323567228], \"type\": \"scatter\", \"mode\": \"lines\", \"y\": [20.752200827459543, 20.79969237926028]}, {\"line\": {\"width\": 1.1077490252860276, \"color\": \"#888\"}, \"hoverinfo\": \"none\", \"x\": [-14.898728528329402, -14.700800349225393], \"type\": \"scatter\", \"mode\": \"lines\", \"y\": [17.282184837691222, 18.224889530040656]}, {\"line\": {\"width\": 1.2458909163736462, \"color\": \"#888\"}, \"hoverinfo\": \"none\", \"x\": [-14.898728528329402, -15.503181246044218], \"type\": \"scatter\", \"mode\": \"lines\", \"y\": [17.282184837691222, 17.694796174436846]}, {\"line\": {\"width\": 1.0013450411217402, \"color\": \"#888\"}, \"hoverinfo\": \"none\", \"x\": [-13.713867049753938, -13.23643931550353], \"type\": \"scatter\", \"mode\": \"lines\", \"y\": [21.32277923138798, 20.945151973986814]}, {\"line\": {\"width\": 1.0816923517036232, \"color\": \"#888\"}, \"hoverinfo\": \"none\", \"x\": [-13.421282842315208, -13.23643931550353], \"type\": \"scatter\", \"mode\": \"lines\", \"y\": [20.731208327312252, 20.945151973986814]}, {\"line\": {\"width\": 1.1143542077789714, \"color\": \"#888\"}, \"hoverinfo\": \"none\", \"x\": [-14.489168620811169, -13.23643931550353], \"type\": \"scatter\", \"mode\": \"lines\", \"y\": [21.091249032371852, 20.945151973986814]}, {\"line\": {\"width\": 1.324592715833349, \"color\": \"#888\"}, \"hoverinfo\": \"none\", \"x\": [-13.642983348705675, -13.23643931550353], \"type\": \"scatter\", \"mode\": \"lines\", \"y\": [20.519633212486255, 20.945151973986814]}, {\"line\": {\"width\": 1.2385843657988345, \"color\": \"#888\"}, \"hoverinfo\": \"none\", \"x\": [-13.197102179360037, -13.23643931550353], \"type\": \"scatter\", \"mode\": \"lines\", \"y\": [20.446227226217555, 20.945151973986814]}, {\"line\": {\"width\": 1.7173305471245446, \"color\": \"#888\"}, \"hoverinfo\": \"none\", \"x\": [-12.850718139242009, -13.23643931550353], \"type\": \"scatter\", \"mode\": \"lines\", \"y\": [20.929101940708783, 20.945151973986814]}, {\"line\": {\"width\": 1.041508649846482, \"color\": \"#888\"}, \"hoverinfo\": \"none\", \"x\": [-13.236477225987986, -13.23643931550353], \"type\": \"scatter\", \"mode\": \"lines\", \"y\": [20.35065703675912, 20.945151973986814]}, {\"line\": {\"width\": 1.1369270258579665, \"color\": \"#888\"}, \"hoverinfo\": \"none\", \"x\": [-13.537096610506756, -13.23643931550353], \"type\": \"scatter\", \"mode\": \"lines\", \"y\": [19.92320307519968, 20.945151973986814]}, {\"line\": {\"width\": 1.6122770662747037, \"color\": \"#888\"}, \"hoverinfo\": \"none\", \"x\": [-13.427726029882152, -13.23643931550353], \"type\": \"scatter\", \"mode\": \"lines\", \"y\": [21.052187341494502, 20.945151973986814]}, {\"line\": {\"width\": 1.2228433796542193, \"color\": \"#888\"}, \"hoverinfo\": \"none\", \"x\": [-12.907640754729615, -13.23643931550353], \"type\": \"scatter\", \"mode\": \"lines\", \"y\": [20.469607616408755, 20.945151973986814]}, {\"line\": {\"width\": 1.053952866482968, \"color\": \"#888\"}, \"hoverinfo\": \"none\", \"x\": [-12.608722745064354, -13.23643931550353], \"type\": \"scatter\", \"mode\": \"lines\", \"y\": [21.38991608678275, 20.945151973986814]}, {\"line\": {\"width\": 1.1053318702016692, \"color\": \"#888\"}, \"hoverinfo\": \"none\", \"x\": [-13.551675742174377, -13.23643931550353], \"type\": \"scatter\", \"mode\": \"lines\", \"y\": [20.329212509114274, 20.945151973986814]}, {\"line\": {\"width\": 1.0044307703095177, \"color\": \"#888\"}, \"hoverinfo\": \"none\", \"x\": [-12.040651155801354, -13.23643931550353], \"type\": \"scatter\", \"mode\": \"lines\", \"y\": [21.209858966184818, 20.945151973986814]}, {\"line\": {\"width\": 1.418570868399821, \"color\": \"#888\"}, \"hoverinfo\": \"none\", \"x\": [-14.113963476444026, -13.23643931550353], \"type\": \"scatter\", \"mode\": \"lines\", \"y\": [20.733964232542867, 20.945151973986814]}, {\"line\": {\"width\": 1.9869900085489416, \"color\": \"#888\"}, \"hoverinfo\": \"none\", \"x\": [-12.910843834401481, -13.23643931550353], \"type\": \"scatter\", \"mode\": \"lines\", \"y\": [21.01436659376408, 20.945151973986814]}, {\"line\": {\"width\": 1.353755754295898, \"color\": \"#888\"}, \"hoverinfo\": \"none\", \"x\": [-13.23643931550353, -12.77601031504658], \"type\": \"scatter\", \"mode\": \"lines\", \"y\": [20.945151973986814, 21.12541781408756]}, {\"line\": {\"width\": 1.0632125341034118, \"color\": \"#888\"}, \"hoverinfo\": \"none\", \"x\": [-13.23643931550353, -13.402038872682441], \"type\": \"scatter\", \"mode\": \"lines\", \"y\": [20.945151973986814, 21.793632774845815]}, {\"line\": {\"width\": 1.2951378385510615, \"color\": \"#888\"}, \"hoverinfo\": \"none\", \"x\": [-13.23643931550353, -12.800082302337206], \"type\": \"scatter\", \"mode\": \"lines\", \"y\": [20.945151973986814, 21.797200858097636]}, {\"line\": {\"width\": 1.3914289384895409, \"color\": \"#888\"}, \"hoverinfo\": \"none\", \"x\": [-13.23643931550353, -13.263024710033392], \"type\": \"scatter\", \"mode\": \"lines\", \"y\": [20.945151973986814, 21.47913495742209]}, {\"line\": {\"width\": 1.0437708461110915, \"color\": \"#888\"}, \"hoverinfo\": \"none\", \"x\": [-13.23643931550353, -13.994286400461116], \"type\": \"scatter\", \"mode\": \"lines\", \"y\": [20.945151973986814, 20.881168702489436]}, {\"line\": {\"width\": 1.0484313095452267, \"color\": \"#888\"}, \"hoverinfo\": \"none\", \"x\": [-12.88079425450245, -11.85499862010832], \"type\": \"scatter\", \"mode\": \"lines\", \"y\": [20.00414689876472, 20.494921025806526]}, {\"line\": {\"width\": 1.3884330604881154, \"color\": \"#888\"}, \"hoverinfo\": \"none\", \"x\": [-12.341464452775313, -11.85499862010832], \"type\": \"scatter\", \"mode\": \"lines\", \"y\": [20.311362961497515, 20.494921025806526]}, {\"line\": {\"width\": 1.0080409976690115, \"color\": \"#888\"}, \"hoverinfo\": \"none\", \"x\": [-10.56826368128901, -11.85499862010832], \"type\": \"scatter\", \"mode\": \"lines\", \"y\": [20.824710298876187, 20.494921025806526]}, {\"line\": {\"width\": 1.2028357067820319, \"color\": \"#888\"}, \"hoverinfo\": \"none\", \"x\": [-12.850718139242009, -11.85499862010832], \"type\": \"scatter\", \"mode\": \"lines\", \"y\": [20.929101940708783, 20.494921025806526]}, {\"line\": {\"width\": 1.0388527872993045, \"color\": \"#888\"}, \"hoverinfo\": \"none\", \"x\": [-11.815965872922868, -11.85499862010832], \"type\": \"scatter\", \"mode\": \"lines\", \"y\": [19.29060423218079, 20.494921025806526]}, {\"line\": {\"width\": 1.009643827301647, \"color\": \"#888\"}, \"hoverinfo\": \"none\", \"x\": [-12.918576723501182, -11.85499862010832], \"type\": \"scatter\", \"mode\": \"lines\", \"y\": [19.762632785571746, 20.494921025806526]}, {\"line\": {\"width\": 1.1351113980145828, \"color\": \"#888\"}, \"hoverinfo\": \"none\", \"x\": [-11.549799157354075, -11.85499862010832], \"type\": \"scatter\", \"mode\": \"lines\", \"y\": [21.33677004673493, 20.494921025806526]}, {\"line\": {\"width\": 1.0203869560990926, \"color\": \"#888\"}, \"hoverinfo\": \"none\", \"x\": [-11.206212473786957, -11.85499862010832], \"type\": \"scatter\", \"mode\": \"lines\", \"y\": [19.700944560761023, 20.494921025806526]}, {\"line\": {\"width\": 1.1860759821042963, \"color\": \"#888\"}, \"hoverinfo\": \"none\", \"x\": [-12.910843834401481, -11.85499862010832], \"type\": \"scatter\", \"mode\": \"lines\", \"y\": [21.01436659376408, 20.494921025806526]}, {\"line\": {\"width\": 1.0278805197458825, \"color\": \"#888\"}, \"hoverinfo\": \"none\", \"x\": [-11.85499862010832, -12.0448503313882], \"type\": \"scatter\", \"mode\": \"lines\", \"y\": [20.494921025806526, 21.57539053726569]}, {\"line\": {\"width\": 1.5369501912484806, \"color\": \"#888\"}, \"hoverinfo\": \"none\", \"x\": [-12.850718139242009, -11.80173372332277], \"type\": \"scatter\", \"mode\": \"lines\", \"y\": [20.929101940708783, 21.45649671999348]}, {\"line\": {\"width\": 1.5222648642649248, \"color\": \"#888\"}, \"hoverinfo\": \"none\", \"x\": [-12.910843834401481, -11.80173372332277], \"type\": \"scatter\", \"mode\": \"lines\", \"y\": [21.01436659376408, 21.45649671999348]}, {\"line\": {\"width\": 1.204001702132995, \"color\": \"#888\"}, \"hoverinfo\": \"none\", \"x\": [-12.918576723501182, -12.392539355144063], \"type\": \"scatter\", \"mode\": \"lines\", \"y\": [19.762632785571746, 18.707558784445492]}, {\"line\": {\"width\": 1.0175916030272816, \"color\": \"#888\"}, \"hoverinfo\": \"none\", \"x\": [-12.356415919830226, -12.392539355144063], \"type\": \"scatter\", \"mode\": \"lines\", \"y\": [19.76080027239755, 18.707558784445492]}, {\"line\": {\"width\": 1.1230425979043548, \"color\": \"#888\"}, \"hoverinfo\": \"none\", \"x\": [-14.916485071497744, -15.523142350203068], \"type\": \"scatter\", \"mode\": \"lines\", \"y\": [13.489550636378056, 14.189823829652912]}, {\"line\": {\"width\": 1.0009002263479672, \"color\": \"#888\"}, \"hoverinfo\": \"none\", \"x\": [-14.628261411278487, -15.523142350203068], \"type\": \"scatter\", \"mode\": \"lines\", \"y\": [14.221291596828324, 14.189823829652912]}, {\"line\": {\"width\": 1.0247627551096392, \"color\": \"#888\"}, \"hoverinfo\": \"none\", \"x\": [-11.949124589899004, -11.14647911771022], \"type\": \"scatter\", \"mode\": \"lines\", \"y\": [21.792200991998797, 22.371393610371104]}, {\"line\": {\"width\": 1.1350118308234052, \"color\": \"#888\"}, \"hoverinfo\": \"none\", \"x\": [-11.942871546634484, -11.14647911771022], \"type\": \"scatter\", \"mode\": \"lines\", \"y\": [20.943028751942535, 22.371393610371104]}, {\"line\": {\"width\": 1.0402369266799911, \"color\": \"#888\"}, \"hoverinfo\": \"none\", \"x\": [-10.94275863783377, -11.14647911771022], \"type\": \"scatter\", \"mode\": \"lines\", \"y\": [23.596121969629742, 22.371393610371104]}, {\"line\": {\"width\": 1.0180766611920444, \"color\": \"#888\"}, \"hoverinfo\": \"none\", \"x\": [-11.14647911771022, -10.251007645281458], \"type\": \"scatter\", \"mode\": \"lines\", \"y\": [22.371393610371104, 22.96466467303902]}, {\"line\": {\"width\": 1.1343655629458087, \"color\": \"#888\"}, \"hoverinfo\": \"none\", \"x\": [-6.3972927373085495, -7.0968782985042065], \"type\": \"scatter\", \"mode\": \"lines\", \"y\": [15.241339929201953, 16.098146229260884]}, {\"line\": {\"width\": 1.292876417243475, \"color\": \"#888\"}, \"hoverinfo\": \"none\", \"x\": [-7.173322289908699, -7.0968782985042065], \"type\": \"scatter\", \"mode\": \"lines\", \"y\": [15.323501465363748, 16.098146229260884]}, {\"line\": {\"width\": 1.033928888143376, \"color\": \"#888\"}, \"hoverinfo\": \"none\", \"x\": [-7.0968782985042065, -6.370044307639769], \"type\": \"scatter\", \"mode\": \"lines\", \"y\": [16.098146229260884, 15.983076688771783]}, {\"line\": {\"width\": 1.1810347859256036, \"color\": \"#888\"}, \"hoverinfo\": \"none\", \"x\": [-12.850718139242009, -12.413627755794588], \"type\": \"scatter\", \"mode\": \"lines\", \"y\": [20.929101940708783, 19.886962274912875]}, {\"line\": {\"width\": 1.244686116798018, \"color\": \"#888\"}, \"hoverinfo\": \"none\", \"x\": [-13.04465356572712, -12.413627755794588], \"type\": \"scatter\", \"mode\": \"lines\", \"y\": [19.63101236622079, 19.886962274912875]}, {\"line\": {\"width\": 1.4270424796927508, \"color\": \"#888\"}, \"hoverinfo\": \"none\", \"x\": [-12.407573428884401, -12.413627755794588], \"type\": \"scatter\", \"mode\": \"lines\", \"y\": [18.483892921314833, 19.886962274912875]}, {\"line\": {\"width\": 1.1696652479867022, \"color\": \"#888\"}, \"hoverinfo\": \"none\", \"x\": [-12.910843834401481, -12.413627755794588], \"type\": \"scatter\", \"mode\": \"lines\", \"y\": [21.01436659376408, 19.886962274912875]}, {\"line\": {\"width\": 1.347942889518921, \"color\": \"#888\"}, \"hoverinfo\": \"none\", \"x\": [-5.073089420651273, -5.86844856996267], \"type\": \"scatter\", \"mode\": \"lines\", \"y\": [16.459245976619137, 16.760373276774367]}, {\"line\": {\"width\": 1.0627746145541674, \"color\": \"#888\"}, \"hoverinfo\": \"none\", \"x\": [-13.610912637176686, -14.067819366407043], \"type\": \"scatter\", \"mode\": \"lines\", \"y\": [18.6772196523297, 17.758137808118644]}, {\"line\": {\"width\": 2.594732521752629, \"color\": \"#888\"}, \"hoverinfo\": \"none\", \"x\": [-13.713867049753938, -13.030036553810685], \"type\": \"scatter\", \"mode\": \"lines\", \"y\": [21.32277923138798, 21.519701600461545]}, {\"line\": {\"width\": 2.1605356418869786, \"color\": \"#888\"}, \"hoverinfo\": \"none\", \"x\": [-13.72503864579122, -13.030036553810685], \"type\": \"scatter\", \"mode\": \"lines\", \"y\": [20.752200827459543, 21.519701600461545]}, {\"line\": {\"width\": 1.8961156323569186, \"color\": \"#888\"}, \"hoverinfo\": \"none\", \"x\": [-12.95422029598588, -13.030036553810685], \"type\": \"scatter\", \"mode\": \"lines\", \"y\": [22.173012221957887, 21.519701600461545]}, {\"line\": {\"width\": 1.2278487481778746, \"color\": \"#888\"}, \"hoverinfo\": \"none\", \"x\": [-13.469602721182888, -13.030036553810685], \"type\": \"scatter\", \"mode\": \"lines\", \"y\": [21.366730828241682, 21.519701600461545]}, {\"line\": {\"width\": 2.2385073862396254, \"color\": \"#888\"}, \"hoverinfo\": \"none\", \"x\": [-13.421282842315208, -13.030036553810685], \"type\": \"scatter\", \"mode\": \"lines\", \"y\": [20.731208327312252, 21.519701600461545]}, {\"line\": {\"width\": 1.039148394464184, \"color\": \"#888\"}, \"hoverinfo\": \"none\", \"x\": [-11.949124589899004, -13.030036553810685], \"type\": \"scatter\", \"mode\": \"lines\", \"y\": [21.792200991998797, 21.519701600461545]}, {\"line\": {\"width\": 1.0404031945162697, \"color\": \"#888\"}, \"hoverinfo\": \"none\", \"x\": [-13.197102179360037, -13.030036553810685], \"type\": \"scatter\", \"mode\": \"lines\", \"y\": [20.446227226217555, 21.519701600461545]}, {\"line\": {\"width\": 3.24239654650267, \"color\": \"#888\"}, \"hoverinfo\": \"none\", \"x\": [-12.850718139242009, -13.030036553810685], \"type\": \"scatter\", \"mode\": \"lines\", \"y\": [20.929101940708783, 21.519701600461545]}, {\"line\": {\"width\": 1.3095900127910887, \"color\": \"#888\"}, \"hoverinfo\": \"none\", \"x\": [-13.427726029882152, -13.030036553810685], \"type\": \"scatter\", \"mode\": \"lines\", \"y\": [21.052187341494502, 21.519701600461545]}, {\"line\": {\"width\": 1.297877318297527, \"color\": \"#888\"}, \"hoverinfo\": \"none\", \"x\": [-13.584146493457986, -13.030036553810685], \"type\": \"scatter\", \"mode\": \"lines\", \"y\": [21.910867822678476, 21.519701600461545]}, {\"line\": {\"width\": 1.2374462400830846, \"color\": \"#888\"}, \"hoverinfo\": \"none\", \"x\": [-12.907640754729615, -13.030036553810685], \"type\": \"scatter\", \"mode\": \"lines\", \"y\": [20.469607616408755, 21.519701600461545]}, {\"line\": {\"width\": 2.7921176984334677, \"color\": \"#888\"}, \"hoverinfo\": \"none\", \"x\": [-13.046705351336772, -13.030036553810685], \"type\": \"scatter\", \"mode\": \"lines\", \"y\": [20.77588764099713, 21.519701600461545]}, {\"line\": {\"width\": 1.1110581512755304, \"color\": \"#888\"}, \"hoverinfo\": \"none\", \"x\": [-12.608722745064354, -13.030036553810685], \"type\": \"scatter\", \"mode\": \"lines\", \"y\": [21.38991608678275, 21.519701600461545]}, {\"line\": {\"width\": 1.158520250127273, \"color\": \"#888\"}, \"hoverinfo\": \"none\", \"x\": [-12.245780801073543, -13.030036553810685], \"type\": \"scatter\", \"mode\": \"lines\", \"y\": [22.05487676021708, 21.519701600461545]}, {\"line\": {\"width\": 3.265376284739778, \"color\": \"#888\"}, \"hoverinfo\": \"none\", \"x\": [-12.910843834401481, -13.030036553810685], \"type\": \"scatter\", \"mode\": \"lines\", \"y\": [21.01436659376408, 21.519701600461545]}, {\"line\": {\"width\": 1.3336206764030232, \"color\": \"#888\"}, \"hoverinfo\": \"none\", \"x\": [-13.637993460243793, -13.030036553810685], \"type\": \"scatter\", \"mode\": \"lines\", \"y\": [21.53220459934256, 21.519701600461545]}, {\"line\": {\"width\": 1.2371831217988247, \"color\": \"#888\"}, \"hoverinfo\": \"none\", \"x\": [-12.284441948806446, -13.030036553810685], \"type\": \"scatter\", \"mode\": \"lines\", \"y\": [21.025645557579107, 21.519701600461545]}, {\"line\": {\"width\": 1.9884491520043113, \"color\": \"#888\"}, \"hoverinfo\": \"none\", \"x\": [-13.7703511169154, -13.030036553810685], \"type\": \"scatter\", \"mode\": \"lines\", \"y\": [21.085508206964032, 21.519701600461545]}, {\"line\": {\"width\": 1.1491570273075111, \"color\": \"#888\"}, \"hoverinfo\": \"none\", \"x\": [-13.991559819591165, -13.030036553810685], \"type\": \"scatter\", \"mode\": \"lines\", \"y\": [20.390716009399764, 21.519701600461545]}, {\"line\": {\"width\": 1.4791446582936123, \"color\": \"#888\"}, \"hoverinfo\": \"none\", \"x\": [-13.030036553810685, -13.007084255175895], \"type\": \"scatter\", \"mode\": \"lines\", \"y\": [21.519701600461545, 21.86972207748751]}, {\"line\": {\"width\": 2.846396028031555, \"color\": \"#888\"}, \"hoverinfo\": \"none\", \"x\": [-13.030036553810685, -12.734203853902583], \"type\": \"scatter\", \"mode\": \"lines\", \"y\": [21.519701600461545, 21.55340460756357]}, {\"line\": {\"width\": 1.280174730198176, \"color\": \"#888\"}, \"hoverinfo\": \"none\", \"x\": [-13.030036553810685, -13.272428838714013], \"type\": \"scatter\", \"mode\": \"lines\", \"y\": [21.519701600461545, 21.97460394894528]}, {\"line\": {\"width\": 1.6947150700585731, \"color\": \"#888\"}, \"hoverinfo\": \"none\", \"x\": [-13.030036553810685, -12.77601031504658], \"type\": \"scatter\", \"mode\": \"lines\", \"y\": [21.519701600461545, 21.12541781408756]}, {\"line\": {\"width\": 1.0018889806675997, \"color\": \"#888\"}, \"hoverinfo\": \"none\", \"x\": [-13.030036553810685, -13.197963156136154], \"type\": \"scatter\", \"mode\": \"lines\", \"y\": [21.519701600461545, 22.97893370367655]}, {\"line\": {\"width\": 1.1495563524753216, \"color\": \"#888\"}, \"hoverinfo\": \"none\", \"x\": [-13.030036553810685, -12.0448503313882], \"type\": \"scatter\", \"mode\": \"lines\", \"y\": [21.519701600461545, 21.57539053726569]}, {\"line\": {\"width\": 1.125722206490517, \"color\": \"#888\"}, \"hoverinfo\": \"none\", \"x\": [-13.713867049753938, -13.007084255175895], \"type\": \"scatter\", \"mode\": \"lines\", \"y\": [21.32277923138798, 21.86972207748751]}, {\"line\": {\"width\": 1.2420276032284574, \"color\": \"#888\"}, \"hoverinfo\": \"none\", \"x\": [-13.72503864579122, -13.007084255175895], \"type\": \"scatter\", \"mode\": \"lines\", \"y\": [20.752200827459543, 21.86972207748751]}, {\"line\": {\"width\": 1.0943983333337945, \"color\": \"#888\"}, \"hoverinfo\": \"none\", \"x\": [-13.469602721182888, -13.007084255175895], \"type\": \"scatter\", \"mode\": \"lines\", \"y\": [21.366730828241682, 21.86972207748751]}, {\"line\": {\"width\": 1.4715750407683883, \"color\": \"#888\"}, \"hoverinfo\": \"none\", \"x\": [-13.421282842315208, -13.007084255175895], \"type\": \"scatter\", \"mode\": \"lines\", \"y\": [20.731208327312252, 21.86972207748751]}, {\"line\": {\"width\": 1.2797654542636812, \"color\": \"#888\"}, \"hoverinfo\": \"none\", \"x\": [-12.850718139242009, -13.007084255175895], \"type\": \"scatter\", \"mode\": \"lines\", \"y\": [20.929101940708783, 21.86972207748751]}, {\"line\": {\"width\": 1.0882085589507369, \"color\": \"#888\"}, \"hoverinfo\": \"none\", \"x\": [-13.584146493457986, -13.007084255175895], \"type\": \"scatter\", \"mode\": \"lines\", \"y\": [21.910867822678476, 21.86972207748751]}, {\"line\": {\"width\": 1.420054194033269, \"color\": \"#888\"}, \"hoverinfo\": \"none\", \"x\": [-13.046705351336772, -13.007084255175895], \"type\": \"scatter\", \"mode\": \"lines\", \"y\": [20.77588764099713, 21.86972207748751]}, {\"line\": {\"width\": 1.2638409296305433, \"color\": \"#888\"}, \"hoverinfo\": \"none\", \"x\": [-12.910843834401481, -13.007084255175895], \"type\": \"scatter\", \"mode\": \"lines\", \"y\": [21.01436659376408, 21.86972207748751]}, {\"line\": {\"width\": 1.086429851750809, \"color\": \"#888\"}, \"hoverinfo\": \"none\", \"x\": [-13.637993460243793, -13.007084255175895], \"type\": \"scatter\", \"mode\": \"lines\", \"y\": [21.53220459934256, 21.86972207748751]}, {\"line\": {\"width\": 1.0994350344114456, \"color\": \"#888\"}, \"hoverinfo\": \"none\", \"x\": [-12.284441948806446, -13.007084255175895], \"type\": \"scatter\", \"mode\": \"lines\", \"y\": [21.025645557579107, 21.86972207748751]}, {\"line\": {\"width\": 1.4204921773882484, \"color\": \"#888\"}, \"hoverinfo\": \"none\", \"x\": [-13.7703511169154, -13.007084255175895], \"type\": \"scatter\", \"mode\": \"lines\", \"y\": [21.085508206964032, 21.86972207748751]}, {\"line\": {\"width\": 1.4791446582936123, \"color\": \"#888\"}, \"hoverinfo\": \"none\", \"x\": [-13.030036553810685, -13.007084255175895], \"type\": \"scatter\", \"mode\": \"lines\", \"y\": [21.519701600461545, 21.86972207748751]}, {\"line\": {\"width\": 1.1005697410928188, \"color\": \"#888\"}, \"hoverinfo\": \"none\", \"x\": [-3.3609183195267143, -4.223973842704066], \"type\": \"scatter\", \"mode\": \"lines\", \"y\": [16.678399283326424, 16.553054912084303]}, {\"line\": {\"width\": 1.141494085803745, \"color\": \"#888\"}, \"hoverinfo\": \"none\", \"x\": [-3.684136594292169, -4.223973842704066], \"type\": \"scatter\", \"mode\": \"lines\", \"y\": [15.828362727646057, 16.553054912084303]}, {\"line\": {\"width\": 1.164958932558884, \"color\": \"#888\"}, \"hoverinfo\": \"none\", \"x\": [-4.584947224697205, -4.223973842704066], \"type\": \"scatter\", \"mode\": \"lines\", \"y\": [15.71948327575617, 16.553054912084303]}, {\"line\": {\"width\": 1.1256280676713315, \"color\": \"#888\"}, \"hoverinfo\": \"none\", \"x\": [-5.073089420651273, -4.223973842704066], \"type\": \"scatter\", \"mode\": \"lines\", \"y\": [16.459245976619137, 16.553054912084303]}, {\"line\": {\"width\": 1.6196872997136325, \"color\": \"#888\"}, \"hoverinfo\": \"none\", \"x\": [-13.469602721182888, -14.197638723341639], \"type\": \"scatter\", \"mode\": \"lines\", \"y\": [21.366730828241682, 21.267662103421003]}, {\"line\": {\"width\": 1.0164502373755715, \"color\": \"#888\"}, \"hoverinfo\": \"none\", \"x\": [-13.488239384273696, -14.197638723341639], \"type\": \"scatter\", \"mode\": \"lines\", \"y\": [22.052657171590635, 21.267662103421003]}, {\"line\": {\"width\": 1.0602471199975425, \"color\": \"#888\"}, \"hoverinfo\": \"none\", \"x\": [-14.858379268270992, -14.197638723341639], \"type\": \"scatter\", \"mode\": \"lines\", \"y\": [21.526061738550137, 21.267662103421003]}, {\"line\": {\"width\": 1.4560617117653787, \"color\": \"#888\"}, \"hoverinfo\": \"none\", \"x\": [-12.850718139242009, -14.197638723341639], \"type\": \"scatter\", \"mode\": \"lines\", \"y\": [20.929101940708783, 21.267662103421003]}, {\"line\": {\"width\": 1.6214786080697199, \"color\": \"#888\"}, \"hoverinfo\": \"none\", \"x\": [-13.551675742174377, -14.197638723341639], \"type\": \"scatter\", \"mode\": \"lines\", \"y\": [20.329212509114274, 21.267662103421003]}, {\"line\": {\"width\": 1.438687743390058, \"color\": \"#888\"}, \"hoverinfo\": \"none\", \"x\": [-12.910843834401481, -14.197638723341639], \"type\": \"scatter\", \"mode\": \"lines\", \"y\": [21.01436659376408, 21.267662103421003]}, {\"line\": {\"width\": 1.4856575845695517, \"color\": \"#888\"}, \"hoverinfo\": \"none\", \"x\": [-13.713867049753938, -12.734203853902583], \"type\": \"scatter\", \"mode\": \"lines\", \"y\": [21.32277923138798, 21.55340460756357]}, {\"line\": {\"width\": 1.295861474926493, \"color\": \"#888\"}, \"hoverinfo\": \"none\", \"x\": [-13.469602721182888, -12.734203853902583], \"type\": \"scatter\", \"mode\": \"lines\", \"y\": [21.366730828241682, 21.55340460756357]}, {\"line\": {\"width\": 2.0153679748019826, \"color\": \"#888\"}, \"hoverinfo\": \"none\", \"x\": [-13.421282842315208, -12.734203853902583], \"type\": \"scatter\", \"mode\": \"lines\", \"y\": [20.731208327312252, 21.55340460756357]}, {\"line\": {\"width\": 1.087335300402193, \"color\": \"#888\"}, \"hoverinfo\": \"none\", \"x\": [-11.949124589899004, -12.734203853902583], \"type\": \"scatter\", \"mode\": \"lines\", \"y\": [21.792200991998797, 21.55340460756357]}, {\"line\": {\"width\": 1.0852401352493468, \"color\": \"#888\"}, \"hoverinfo\": \"none\", \"x\": [-13.197102179360037, -12.734203853902583], \"type\": \"scatter\", \"mode\": \"lines\", \"y\": [20.446227226217555, 21.55340460756357]}, {\"line\": {\"width\": 1.9377941741220632, \"color\": \"#888\"}, \"hoverinfo\": \"none\", \"x\": [-12.850718139242009, -12.734203853902583], \"type\": \"scatter\", \"mode\": \"lines\", \"y\": [20.929101940708783, 21.55340460756357]}, {\"line\": {\"width\": 1.1573426694228401, \"color\": \"#888\"}, \"hoverinfo\": \"none\", \"x\": [-13.427726029882152, -12.734203853902583], \"type\": \"scatter\", \"mode\": \"lines\", \"y\": [21.052187341494502, 21.55340460756357]}, {\"line\": {\"width\": 1.0913043640973121, \"color\": \"#888\"}, \"hoverinfo\": \"none\", \"x\": [-13.584146493457986, -12.734203853902583], \"type\": \"scatter\", \"mode\": \"lines\", \"y\": [21.910867822678476, 21.55340460756357]}, {\"line\": {\"width\": 1.4371306234018377, \"color\": \"#888\"}, \"hoverinfo\": \"none\", \"x\": [-12.907640754729615, -12.734203853902583], \"type\": \"scatter\", \"mode\": \"lines\", \"y\": [20.469607616408755, 21.55340460756357]}, {\"line\": {\"width\": 1.7487037506264238, \"color\": \"#888\"}, \"hoverinfo\": \"none\", \"x\": [-13.046705351336772, -12.734203853902583], \"type\": \"scatter\", \"mode\": \"lines\", \"y\": [20.77588764099713, 21.55340460756357]}, {\"line\": {\"width\": 1.9833157453205779, \"color\": \"#888\"}, \"hoverinfo\": \"none\", \"x\": [-12.910843834401481, -12.734203853902583], \"type\": \"scatter\", \"mode\": \"lines\", \"y\": [21.01436659376408, 21.55340460756357]}, {\"line\": {\"width\": 1.1011584011383928, \"color\": \"#888\"}, \"hoverinfo\": \"none\", \"x\": [-13.637993460243793, -12.734203853902583], \"type\": \"scatter\", \"mode\": \"lines\", \"y\": [21.53220459934256, 21.55340460756357]}, {\"line\": {\"width\": 1.8511518866483965, \"color\": \"#888\"}, \"hoverinfo\": \"none\", \"x\": [-13.7703511169154, -12.734203853902583], \"type\": \"scatter\", \"mode\": \"lines\", \"y\": [21.085508206964032, 21.55340460756357]}, {\"line\": {\"width\": 2.846396028031555, \"color\": \"#888\"}, \"hoverinfo\": \"none\", \"x\": [-13.030036553810685, -12.734203853902583], \"type\": \"scatter\", \"mode\": \"lines\", \"y\": [21.519701600461545, 21.55340460756357]}, {\"line\": {\"width\": 1.0379621394129621, \"color\": \"#888\"}, \"hoverinfo\": \"none\", \"x\": [-12.734203853902583, -13.272428838714013], \"type\": \"scatter\", \"mode\": \"lines\", \"y\": [21.55340460756357, 21.97460394894528]}, {\"line\": {\"width\": 1.3936006338251459, \"color\": \"#888\"}, \"hoverinfo\": \"none\", \"x\": [-12.734203853902583, -12.77601031504658], \"type\": \"scatter\", \"mode\": \"lines\", \"y\": [21.55340460756357, 21.12541781408756]}, {\"line\": {\"width\": 1.1046334590206233, \"color\": \"#888\"}, \"hoverinfo\": \"none\", \"x\": [-6.3972927373085495, -6.370044307639769], \"type\": \"scatter\", \"mode\": \"lines\", \"y\": [15.241339929201953, 15.983076688771783]}, {\"line\": {\"width\": 1.1894481478399692, \"color\": \"#888\"}, \"hoverinfo\": \"none\", \"x\": [-7.173322289908699, -6.370044307639769], \"type\": \"scatter\", \"mode\": \"lines\", \"y\": [15.323501465363748, 15.983076688771783]}, {\"line\": {\"width\": 1.033928888143376, \"color\": \"#888\"}, \"hoverinfo\": \"none\", \"x\": [-7.0968782985042065, -6.370044307639769], \"type\": \"scatter\", \"mode\": \"lines\", \"y\": [16.098146229260884, 15.983076688771783]}, {\"line\": {\"width\": 1.0953804566139196, \"color\": \"#888\"}, \"hoverinfo\": \"none\", \"x\": [-13.979715599240638, -14.700800349225393], \"type\": \"scatter\", \"mode\": \"lines\", \"y\": [19.090615747944213, 18.224889530040656]}, {\"line\": {\"width\": 1.1077490252860276, \"color\": \"#888\"}, \"hoverinfo\": \"none\", \"x\": [-14.898728528329402, -14.700800349225393], \"type\": \"scatter\", \"mode\": \"lines\", \"y\": [17.282184837691222, 18.224889530040656]}, {\"line\": {\"width\": 1.003400308949595, \"color\": \"#888\"}, \"hoverinfo\": \"none\", \"x\": [-14.700800349225393, -15.503181246044218], \"type\": \"scatter\", \"mode\": \"lines\", \"y\": [18.224889530040656, 17.694796174436846]}, {\"line\": {\"width\": 1.037404716365907, \"color\": \"#888\"}, \"hoverinfo\": \"none\", \"x\": [-6.674868422834263, -5.775718274359518], \"type\": \"scatter\", \"mode\": \"lines\", \"y\": [24.73162030680945, 24.600740149694694]}, {\"line\": {\"width\": 1.0180766611920444, \"color\": \"#888\"}, \"hoverinfo\": \"none\", \"x\": [-11.14647911771022, -10.251007645281458], \"type\": \"scatter\", \"mode\": \"lines\", \"y\": [22.371393610371104, 22.96466467303902]}, {\"line\": {\"width\": 1.9203746711802538, \"color\": \"#888\"}, \"hoverinfo\": \"none\", \"x\": [-13.713867049753938, -13.272428838714013], \"type\": \"scatter\", \"mode\": \"lines\", \"y\": [21.32277923138798, 21.97460394894528]}, {\"line\": {\"width\": 1.3615631482798145, \"color\": \"#888\"}, \"hoverinfo\": \"none\", \"x\": [-13.197102179360037, -13.272428838714013], \"type\": \"scatter\", \"mode\": \"lines\", \"y\": [20.446227226217555, 21.97460394894528]}, {\"line\": {\"width\": 1.3973979854360747, \"color\": \"#888\"}, \"hoverinfo\": \"none\", \"x\": [-12.850718139242009, -13.272428838714013], \"type\": \"scatter\", \"mode\": \"lines\", \"y\": [20.929101940708783, 21.97460394894528]}, {\"line\": {\"width\": 1.0436904503602946, \"color\": \"#888\"}, \"hoverinfo\": \"none\", \"x\": [-13.427726029882152, -13.272428838714013], \"type\": \"scatter\", \"mode\": \"lines\", \"y\": [21.052187341494502, 21.97460394894528]}, {\"line\": {\"width\": 1.6273683924272078, \"color\": \"#888\"}, \"hoverinfo\": \"none\", \"x\": [-13.584146493457986, -13.272428838714013], \"type\": \"scatter\", \"mode\": \"lines\", \"y\": [21.910867822678476, 21.97460394894528]}, {\"line\": {\"width\": 1.2067091142521453, \"color\": \"#888\"}, \"hoverinfo\": \"none\", \"x\": [-13.673386623300873, -13.272428838714013], \"type\": \"scatter\", \"mode\": \"lines\", \"y\": [23.094740292057637, 21.97460394894528]}, {\"line\": {\"width\": 1.3907664816518606, \"color\": \"#888\"}, \"hoverinfo\": \"none\", \"x\": [-14.424618497382848, -13.272428838714013], \"type\": \"scatter\", \"mode\": \"lines\", \"y\": [22.43415239791516, 21.97460394894528]}, {\"line\": {\"width\": 1.3812304868980876, \"color\": \"#888\"}, \"hoverinfo\": \"none\", \"x\": [-12.910843834401481, -13.272428838714013], \"type\": \"scatter\", \"mode\": \"lines\", \"y\": [21.01436659376408, 21.97460394894528]}, {\"line\": {\"width\": 1.4541960121198971, \"color\": \"#888\"}, \"hoverinfo\": \"none\", \"x\": [-13.7703511169154, -13.272428838714013], \"type\": \"scatter\", \"mode\": \"lines\", \"y\": [21.085508206964032, 21.97460394894528]}, {\"line\": {\"width\": 1.280174730198176, \"color\": \"#888\"}, \"hoverinfo\": \"none\", \"x\": [-13.030036553810685, -13.272428838714013], \"type\": \"scatter\", \"mode\": \"lines\", \"y\": [21.519701600461545, 21.97460394894528]}, {\"line\": {\"width\": 1.0379621394129621, \"color\": \"#888\"}, \"hoverinfo\": \"none\", \"x\": [-12.734203853902583, -13.272428838714013], \"type\": \"scatter\", \"mode\": \"lines\", \"y\": [21.55340460756357, 21.97460394894528]}, {\"line\": {\"width\": 1.2656924913973984, \"color\": \"#888\"}, \"hoverinfo\": \"none\", \"x\": [-13.272428838714013, -12.77601031504658], \"type\": \"scatter\", \"mode\": \"lines\", \"y\": [21.97460394894528, 21.12541781408756]}, {\"line\": {\"width\": 1.00190217130656, \"color\": \"#888\"}, \"hoverinfo\": \"none\", \"x\": [-13.272428838714013, -14.498939637577397], \"type\": \"scatter\", \"mode\": \"lines\", \"y\": [21.97460394894528, 22.044399357519538]}, {\"line\": {\"width\": 1.0791758042523893, \"color\": \"#888\"}, \"hoverinfo\": \"none\", \"x\": [-13.85101503582916, -14.284782287057334], \"type\": \"scatter\", \"mode\": \"lines\", \"y\": [19.70968323427432, 18.6935520818868]}, {\"line\": {\"width\": 1.109759620016767, \"color\": \"#888\"}, \"hoverinfo\": \"none\", \"x\": [-13.485752324101506, -14.284782287057334], \"type\": \"scatter\", \"mode\": \"lines\", \"y\": [19.465977412591247, 18.6935520818868]}, {\"line\": {\"width\": 1.0079553659585874, \"color\": \"#888\"}, \"hoverinfo\": \"none\", \"x\": [-15.774714817128526, -15.64783094935959], \"type\": \"scatter\", \"mode\": \"lines\", \"y\": [17.61586869831081, 18.70206518528754]}, {\"line\": {\"width\": 1.0883751627417442, \"color\": \"#888\"}, \"hoverinfo\": \"none\", \"x\": [-11.991544400059553, -12.446518716199456], \"type\": \"scatter\", \"mode\": \"lines\", \"y\": [12.592942074869844, 13.373204901803744]}, {\"line\": {\"width\": 1.2458909163736462, \"color\": \"#888\"}, \"hoverinfo\": \"none\", \"x\": [-14.898728528329402, -15.503181246044218], \"type\": \"scatter\", \"mode\": \"lines\", \"y\": [17.282184837691222, 17.694796174436846]}, {\"line\": {\"width\": 1.003400308949595, \"color\": \"#888\"}, \"hoverinfo\": \"none\", \"x\": [-14.700800349225393, -15.503181246044218], \"type\": \"scatter\", \"mode\": \"lines\", \"y\": [18.224889530040656, 17.694796174436846]}, {\"line\": {\"width\": 1.0991598353620051, \"color\": \"#888\"}, \"hoverinfo\": \"none\", \"x\": [-8.912182757525217, -8.029049197824259], \"type\": \"scatter\", \"mode\": \"lines\", \"y\": [26.184647635585637, 25.94364112739702]}, {\"line\": {\"width\": 1.2312097071671984, \"color\": \"#888\"}, \"hoverinfo\": \"none\", \"x\": [-10.56826368128901, -9.741210458737246], \"type\": \"scatter\", \"mode\": \"lines\", \"y\": [20.824710298876187, 21.914039008164817]}, {\"line\": {\"width\": 1.0390282193040616, \"color\": \"#888\"}, \"hoverinfo\": \"none\", \"x\": [-9.741210458737246, -9.595275245512976], \"type\": \"scatter\", \"mode\": \"lines\", \"y\": [21.914039008164817, 21.215455714750416]}, {\"line\": {\"width\": 1.0101562757158438, \"color\": \"#888\"}, \"hoverinfo\": \"none\", \"x\": [-13.612405873935117, -14.720725521153799], \"type\": \"scatter\", \"mode\": \"lines\", \"y\": [24.22476022160976, 23.67530227963661]}, {\"line\": {\"width\": 1.2061507937740665, \"color\": \"#888\"}, \"hoverinfo\": \"none\", \"x\": [-14.986087504472923, -14.720725521153799], \"type\": \"scatter\", \"mode\": \"lines\", \"y\": [22.39991748096667, 23.67530227963661]}, {\"line\": {\"width\": 1.2012258368689315, \"color\": \"#888\"}, \"hoverinfo\": \"none\", \"x\": [-11.40201413065946, -11.897670571538791], \"type\": \"scatter\", \"mode\": \"lines\", \"y\": [24.523596583004885, 23.71837686093763]}, {\"line\": {\"width\": 1.2116987039885405, \"color\": \"#888\"}, \"hoverinfo\": \"none\", \"x\": [-12.39070970399015, -11.897670571538791], \"type\": \"scatter\", \"mode\": \"lines\", \"y\": [22.673929128949084, 23.71837686093763]}, {\"line\": {\"width\": 1.037404716365907, \"color\": \"#888\"}, \"hoverinfo\": \"none\", \"x\": [-6.674868422834263, -5.775718274359518], \"type\": \"scatter\", \"mode\": \"lines\", \"y\": [24.73162030680945, 24.600740149694694]}, {\"line\": {\"width\": 1.8380743319748538, \"color\": \"#888\"}, \"hoverinfo\": \"none\", \"x\": [-13.713867049753938, -12.77601031504658], \"type\": \"scatter\", \"mode\": \"lines\", \"y\": [21.32277923138798, 21.12541781408756]}, {\"line\": {\"width\": 1.3210428627216877, \"color\": \"#888\"}, \"hoverinfo\": \"none\", \"x\": [-13.72503864579122, -12.77601031504658], \"type\": \"scatter\", \"mode\": \"lines\", \"y\": [20.752200827459543, 21.12541781408756]}, {\"line\": {\"width\": 1.1099042947056785, \"color\": \"#888\"}, \"hoverinfo\": \"none\", \"x\": [-13.469602721182888, -12.77601031504658], \"type\": \"scatter\", \"mode\": \"lines\", \"y\": [21.366730828241682, 21.12541781408756]}, {\"line\": {\"width\": 1.5885974793911686, \"color\": \"#888\"}, \"hoverinfo\": \"none\", \"x\": [-13.421282842315208, -12.77601031504658], \"type\": \"scatter\", \"mode\": \"lines\", \"y\": [20.731208327312252, 21.12541781408756]}, {\"line\": {\"width\": 1.214072670173321, \"color\": \"#888\"}, \"hoverinfo\": \"none\", \"x\": [-12.88079425450245, -12.77601031504658], \"type\": \"scatter\", \"mode\": \"lines\", \"y\": [20.00414689876472, 21.12541781408756]}, {\"line\": {\"width\": 1.1071821399859498, \"color\": \"#888\"}, \"hoverinfo\": \"none\", \"x\": [-11.96986801292686, -12.77601031504658], \"type\": \"scatter\", \"mode\": \"lines\", \"y\": [22.41278980421849, 21.12541781408756]}, {\"line\": {\"width\": 1.1489777860747632, \"color\": \"#888\"}, \"hoverinfo\": \"none\", \"x\": [-12.341464452775313, -12.77601031504658], \"type\": \"scatter\", \"mode\": \"lines\", \"y\": [20.311362961497515, 21.12541781408756]}, {\"line\": {\"width\": 1.88146236894806, \"color\": \"#888\"}, \"hoverinfo\": \"none\", \"x\": [-13.197102179360037, -12.77601031504658], \"type\": \"scatter\", \"mode\": \"lines\", \"y\": [20.446227226217555, 21.12541781408756]}, {\"line\": {\"width\": 1.0867502706949521, \"color\": \"#888\"}, \"hoverinfo\": \"none\", \"x\": [-12.345143556966459, -12.77601031504658], \"type\": \"scatter\", \"mode\": \"lines\", \"y\": [21.995363443026463, 21.12541781408756]}, {\"line\": {\"width\": 2.907335717315135, \"color\": \"#888\"}, \"hoverinfo\": \"none\", \"x\": [-12.850718139242009, -12.77601031504658], \"type\": \"scatter\", \"mode\": \"lines\", \"y\": [20.929101940708783, 21.12541781408756]}, {\"line\": {\"width\": 1.3594148605638678, \"color\": \"#888\"}, \"hoverinfo\": \"none\", \"x\": [-13.427726029882152, -12.77601031504658], \"type\": \"scatter\", \"mode\": \"lines\", \"y\": [21.052187341494502, 21.12541781408756]}, {\"line\": {\"width\": 1.0534466711766322, \"color\": \"#888\"}, \"hoverinfo\": \"none\", \"x\": [-14.027395794310534, -12.77601031504658], \"type\": \"scatter\", \"mode\": \"lines\", \"y\": [21.396105270096907, 21.12541781408756]}, {\"line\": {\"width\": 1.0247511735071613, \"color\": \"#888\"}, \"hoverinfo\": \"none\", \"x\": [-13.584146493457986, -12.77601031504658], \"type\": \"scatter\", \"mode\": \"lines\", \"y\": [21.910867822678476, 21.12541781408756]}, {\"line\": {\"width\": 1.4523772699679673, \"color\": \"#888\"}, \"hoverinfo\": \"none\", \"x\": [-12.907640754729615, -12.77601031504658], \"type\": \"scatter\", \"mode\": \"lines\", \"y\": [20.469607616408755, 21.12541781408756]}, {\"line\": {\"width\": 1.7087654595076642, \"color\": \"#888\"}, \"hoverinfo\": \"none\", \"x\": [-13.046705351336772, -12.77601031504658], \"type\": \"scatter\", \"mode\": \"lines\", \"y\": [20.77588764099713, 21.12541781408756]}, {\"line\": {\"width\": 1.2182606704755221, \"color\": \"#888\"}, \"hoverinfo\": \"none\", \"x\": [-12.356415919830226, -12.77601031504658], \"type\": \"scatter\", \"mode\": \"lines\", \"y\": [19.76080027239755, 21.12541781408756]}, {\"line\": {\"width\": 1.0398802290374018, \"color\": \"#888\"}, \"hoverinfo\": \"none\", \"x\": [-12.39070970399015, -12.77601031504658], \"type\": \"scatter\", \"mode\": \"lines\", \"y\": [22.673929128949084, 21.12541781408756]}, {\"line\": {\"width\": 1.1765150063895184, \"color\": \"#888\"}, \"hoverinfo\": \"none\", \"x\": [-12.629951858941117, -12.77601031504658], \"type\": \"scatter\", \"mode\": \"lines\", \"y\": [20.42458920482799, 21.12541781408756]}, {\"line\": {\"width\": 1.0674512939533738, \"color\": \"#888\"}, \"hoverinfo\": \"none\", \"x\": [-12.773844683472381, -12.77601031504658], \"type\": \"scatter\", \"mode\": \"lines\", \"y\": [19.566330422843407, 21.12541781408756]}, {\"line\": {\"width\": 1.0661448204254618, \"color\": \"#888\"}, \"hoverinfo\": \"none\", \"x\": [-12.040651155801354, -12.77601031504658], \"type\": \"scatter\", \"mode\": \"lines\", \"y\": [21.209858966184818, 21.12541781408756]}, {\"line\": {\"width\": 3.1927690423116966, \"color\": \"#888\"}, \"hoverinfo\": \"none\", \"x\": [-12.910843834401481, -12.77601031504658], \"type\": \"scatter\", \"mode\": \"lines\", \"y\": [21.01436659376408, 21.12541781408756]}, {\"line\": {\"width\": 1.256441085017973, \"color\": \"#888\"}, \"hoverinfo\": \"none\", \"x\": [-13.7703511169154, -12.77601031504658], \"type\": \"scatter\", \"mode\": \"lines\", \"y\": [21.085508206964032, 21.12541781408756]}, {\"line\": {\"width\": 1.5190640300325973, \"color\": \"#888\"}, \"hoverinfo\": \"none\", \"x\": [-13.991559819591165, -12.77601031504658], \"type\": \"scatter\", \"mode\": \"lines\", \"y\": [20.390716009399764, 21.12541781408756]}, {\"line\": {\"width\": 1.353755754295898, \"color\": \"#888\"}, \"hoverinfo\": \"none\", \"x\": [-13.23643931550353, -12.77601031504658], \"type\": \"scatter\", \"mode\": \"lines\", \"y\": [20.945151973986814, 21.12541781408756]}, {\"line\": {\"width\": 1.6947150700585731, \"color\": \"#888\"}, \"hoverinfo\": \"none\", \"x\": [-13.030036553810685, -12.77601031504658], \"type\": \"scatter\", \"mode\": \"lines\", \"y\": [21.519701600461545, 21.12541781408756]}, {\"line\": {\"width\": 1.3936006338251459, \"color\": \"#888\"}, \"hoverinfo\": \"none\", \"x\": [-12.734203853902583, -12.77601031504658], \"type\": \"scatter\", \"mode\": \"lines\", \"y\": [21.55340460756357, 21.12541781408756]}, {\"line\": {\"width\": 1.2656924913973984, \"color\": \"#888\"}, \"hoverinfo\": \"none\", \"x\": [-13.272428838714013, -12.77601031504658], \"type\": \"scatter\", \"mode\": \"lines\", \"y\": [21.97460394894528, 21.12541781408756]}, {\"line\": {\"width\": 1.3270704938366504, \"color\": \"#888\"}, \"hoverinfo\": \"none\", \"x\": [-12.77601031504658, -12.800082302337206], \"type\": \"scatter\", \"mode\": \"lines\", \"y\": [21.12541781408756, 21.797200858097636]}, {\"line\": {\"width\": 1.2841756270730427, \"color\": \"#888\"}, \"hoverinfo\": \"none\", \"x\": [-14.489168620811169, -13.402038872682441], \"type\": \"scatter\", \"mode\": \"lines\", \"y\": [21.091249032371852, 21.793632774845815]}, {\"line\": {\"width\": 1.3032063597556576, \"color\": \"#888\"}, \"hoverinfo\": \"none\", \"x\": [-13.642983348705675, -13.402038872682441], \"type\": \"scatter\", \"mode\": \"lines\", \"y\": [20.519633212486255, 21.793632774845815]}, {\"line\": {\"width\": 1.4338591409924732, \"color\": \"#888\"}, \"hoverinfo\": \"none\", \"x\": [-12.850718139242009, -13.402038872682441], \"type\": \"scatter\", \"mode\": \"lines\", \"y\": [20.929101940708783, 21.793632774845815]}, {\"line\": {\"width\": 1.1258718759742317, \"color\": \"#888\"}, \"hoverinfo\": \"none\", \"x\": [-13.236477225987986, -13.402038872682441], \"type\": \"scatter\", \"mode\": \"lines\", \"y\": [20.35065703675912, 21.793632774845815]}, {\"line\": {\"width\": 1.2102107003567921, \"color\": \"#888\"}, \"hoverinfo\": \"none\", \"x\": [-13.427726029882152, -13.402038872682441], \"type\": \"scatter\", \"mode\": \"lines\", \"y\": [21.052187341494502, 21.793632774845815]}, {\"line\": {\"width\": 1.047565162276737, \"color\": \"#888\"}, \"hoverinfo\": \"none\", \"x\": [-12.700498433924094, -13.402038872682441], \"type\": \"scatter\", \"mode\": \"lines\", \"y\": [22.212152083511462, 21.793632774845815]}, {\"line\": {\"width\": 1.0058964092324805, \"color\": \"#888\"}, \"hoverinfo\": \"none\", \"x\": [-12.608722745064354, -13.402038872682441], \"type\": \"scatter\", \"mode\": \"lines\", \"y\": [21.38991608678275, 21.793632774845815]}, {\"line\": {\"width\": 1.352459951505115, \"color\": \"#888\"}, \"hoverinfo\": \"none\", \"x\": [-13.912717315656698, -13.402038872682441], \"type\": \"scatter\", \"mode\": \"lines\", \"y\": [21.454212393115643, 21.793632774845815]}, {\"line\": {\"width\": 1.004178189054917, \"color\": \"#888\"}, \"hoverinfo\": \"none\", \"x\": [-13.40775776308866, -13.402038872682441], \"type\": \"scatter\", \"mode\": \"lines\", \"y\": [23.16466309028817, 21.793632774845815]}, {\"line\": {\"width\": 1.1205473960343013, \"color\": \"#888\"}, \"hoverinfo\": \"none\", \"x\": [-14.113963476444026, -13.402038872682441], \"type\": \"scatter\", \"mode\": \"lines\", \"y\": [20.733964232542867, 21.793632774845815]}, {\"line\": {\"width\": 1.0031936006915716, \"color\": \"#888\"}, \"hoverinfo\": \"none\", \"x\": [-12.863841475837656, -13.402038872682441], \"type\": \"scatter\", \"mode\": \"lines\", \"y\": [23.15284384716926, 21.793632774845815]}, {\"line\": {\"width\": 1.4190282225804427, \"color\": \"#888\"}, \"hoverinfo\": \"none\", \"x\": [-12.910843834401481, -13.402038872682441], \"type\": \"scatter\", \"mode\": \"lines\", \"y\": [21.01436659376408, 21.793632774845815]}, {\"line\": {\"width\": 1.0632125341034118, \"color\": \"#888\"}, \"hoverinfo\": \"none\", \"x\": [-13.23643931550353, -13.402038872682441], \"type\": \"scatter\", \"mode\": \"lines\", \"y\": [20.945151973986814, 21.793632774845815]}, {\"line\": {\"width\": 1.1856153212912333, \"color\": \"#888\"}, \"hoverinfo\": \"none\", \"x\": [-13.402038872682441, -13.994286400461116], \"type\": \"scatter\", \"mode\": \"lines\", \"y\": [21.793632774845815, 20.881168702489436]}, {\"line\": {\"width\": 1.1462998844642627, \"color\": \"#888\"}, \"hoverinfo\": \"none\", \"x\": [-10.990246823384478, -10.738609963494902], \"type\": \"scatter\", \"mode\": \"lines\", \"y\": [19.324611435865272, 18.197924148628765]}, {\"line\": {\"width\": 1.062697577792586, \"color\": \"#888\"}, \"hoverinfo\": \"none\", \"x\": [-10.159999711093475, -10.738609963494902], \"type\": \"scatter\", \"mode\": \"lines\", \"y\": [18.707322792195, 18.197924148628765]}, {\"line\": {\"width\": 1.0018889806675997, \"color\": \"#888\"}, \"hoverinfo\": \"none\", \"x\": [-13.030036553810685, -13.197963156136154], \"type\": \"scatter\", \"mode\": \"lines\", \"y\": [21.519701600461545, 22.97893370367655]}, {\"line\": {\"width\": 1.3857138204432617, \"color\": \"#888\"}, \"hoverinfo\": \"none\", \"x\": [-13.469602721182888, -12.800082302337206], \"type\": \"scatter\", \"mode\": \"lines\", \"y\": [21.366730828241682, 21.797200858097636]}, {\"line\": {\"width\": 1.9541320687366572, \"color\": \"#888\"}, \"hoverinfo\": \"none\", \"x\": [-12.850718139242009, -12.800082302337206], \"type\": \"scatter\", \"mode\": \"lines\", \"y\": [20.929101940708783, 21.797200858097636]}, {\"line\": {\"width\": 1.1313400880463478, \"color\": \"#888\"}, \"hoverinfo\": \"none\", \"x\": [-14.005021731026002, -12.800082302337206], \"type\": \"scatter\", \"mode\": \"lines\", \"y\": [21.876050068264206, 21.797200858097636]}, {\"line\": {\"width\": 1.5110825476412013, \"color\": \"#888\"}, \"hoverinfo\": \"none\", \"x\": [-14.027395794310534, -12.800082302337206], \"type\": \"scatter\", \"mode\": \"lines\", \"y\": [21.396105270096907, 21.797200858097636]}, {\"line\": {\"width\": 1.0167985173673035, \"color\": \"#888\"}, \"hoverinfo\": \"none\", \"x\": [-12.907640754729615, -12.800082302337206], \"type\": \"scatter\", \"mode\": \"lines\", \"y\": [20.469607616408755, 21.797200858097636]}, {\"line\": {\"width\": 2.2726446736519508, \"color\": \"#888\"}, \"hoverinfo\": \"none\", \"x\": [-12.910843834401481, -12.800082302337206], \"type\": \"scatter\", \"mode\": \"lines\", \"y\": [21.01436659376408, 21.797200858097636]}, {\"line\": {\"width\": 1.1089316483860638, \"color\": \"#888\"}, \"hoverinfo\": \"none\", \"x\": [-12.154447470436555, -12.800082302337206], \"type\": \"scatter\", \"mode\": \"lines\", \"y\": [20.687358998302738, 21.797200858097636]}, {\"line\": {\"width\": 1.2951378385510615, \"color\": \"#888\"}, \"hoverinfo\": \"none\", \"x\": [-13.23643931550353, -12.800082302337206], \"type\": \"scatter\", \"mode\": \"lines\", \"y\": [20.945151973986814, 21.797200858097636]}, {\"line\": {\"width\": 1.3270704938366504, \"color\": \"#888\"}, \"hoverinfo\": \"none\", \"x\": [-12.77601031504658, -12.800082302337206], \"type\": \"scatter\", \"mode\": \"lines\", \"y\": [21.12541781408756, 21.797200858097636]}, {\"line\": {\"width\": 1.0312463278416266, \"color\": \"#888\"}, \"hoverinfo\": \"none\", \"x\": [-14.878990974107236, -15.64783094935959], \"type\": \"scatter\", \"mode\": \"lines\", \"y\": [19.390836062858266, 18.70206518528754]}, {\"line\": {\"width\": 1.0079553659585874, \"color\": \"#888\"}, \"hoverinfo\": \"none\", \"x\": [-15.774714817128526, -15.64783094935959], \"type\": \"scatter\", \"mode\": \"lines\", \"y\": [17.61586869831081, 18.70206518528754]}, {\"line\": {\"width\": 1.0867528801867548, \"color\": \"#888\"}, \"hoverinfo\": \"none\", \"x\": [-15.64783094935959, -16.358131788434502], \"type\": \"scatter\", \"mode\": \"lines\", \"y\": [18.70206518528754, 18.236593206452522]}, {\"line\": {\"width\": 1.0948792638072153, \"color\": \"#888\"}, \"hoverinfo\": \"none\", \"x\": [-13.197102179360037, -14.233251817518356], \"type\": \"scatter\", \"mode\": \"lines\", \"y\": [20.446227226217555, 19.446136122802898]}, {\"line\": {\"width\": 1.078982649507148, \"color\": \"#888\"}, \"hoverinfo\": \"none\", \"x\": [-14.582278534558517, -14.233251817518356], \"type\": \"scatter\", \"mode\": \"lines\", \"y\": [20.217135258366874, 19.446136122802898]}, {\"line\": {\"width\": 1.075865858397991, \"color\": \"#888\"}, \"hoverinfo\": \"none\", \"x\": [-14.233251817518356, -15.174279426119066], \"type\": \"scatter\", \"mode\": \"lines\", \"y\": [19.446136122802898, 20.114788448159768]}, {\"line\": {\"width\": 1.165453709031058, \"color\": \"#888\"}, \"hoverinfo\": \"none\", \"x\": [-10.56826368128901, -9.595275245512976], \"type\": \"scatter\", \"mode\": \"lines\", \"y\": [20.824710298876187, 21.215455714750416]}, {\"line\": {\"width\": 1.0390282193040616, \"color\": \"#888\"}, \"hoverinfo\": \"none\", \"x\": [-9.741210458737246, -9.595275245512976], \"type\": \"scatter\", \"mode\": \"lines\", \"y\": [21.914039008164817, 21.215455714750416]}, {\"line\": {\"width\": 1.1164940239974934, \"color\": \"#888\"}, \"hoverinfo\": \"none\", \"x\": [-14.311419458172569, -15.174279426119066], \"type\": \"scatter\", \"mode\": \"lines\", \"y\": [19.971822262725137, 20.114788448159768]}, {\"line\": {\"width\": 1.2447500216097875, \"color\": \"#888\"}, \"hoverinfo\": \"none\", \"x\": [-14.582278534558517, -15.174279426119066], \"type\": \"scatter\", \"mode\": \"lines\", \"y\": [20.217135258366874, 20.114788448159768]}, {\"line\": {\"width\": 1.239663977993973, \"color\": \"#888\"}, \"hoverinfo\": \"none\", \"x\": [-15.067822716688191, -15.174279426119066], \"type\": \"scatter\", \"mode\": \"lines\", \"y\": [19.80585907837482, 20.114788448159768]}, {\"line\": {\"width\": 1.2038286935424476, \"color\": \"#888\"}, \"hoverinfo\": \"none\", \"x\": [-13.991559819591165, -15.174279426119066], \"type\": \"scatter\", \"mode\": \"lines\", \"y\": [20.390716009399764, 20.114788448159768]}, {\"line\": {\"width\": 1.075865858397991, \"color\": \"#888\"}, \"hoverinfo\": \"none\", \"x\": [-14.233251817518356, -15.174279426119066], \"type\": \"scatter\", \"mode\": \"lines\", \"y\": [19.446136122802898, 20.114788448159768]}, {\"line\": {\"width\": 1.1269710207281634, \"color\": \"#888\"}, \"hoverinfo\": \"none\", \"x\": [-14.489168620811169, -13.263024710033392], \"type\": \"scatter\", \"mode\": \"lines\", \"y\": [21.091249032371852, 21.47913495742209]}, {\"line\": {\"width\": 1.1172234268593138, \"color\": \"#888\"}, \"hoverinfo\": \"none\", \"x\": [-13.642983348705675, -13.263024710033392], \"type\": \"scatter\", \"mode\": \"lines\", \"y\": [20.519633212486255, 21.47913495742209]}, {\"line\": {\"width\": 1.0169021877525928, \"color\": \"#888\"}, \"hoverinfo\": \"none\", \"x\": [-12.345143556966459, -13.263024710033392], \"type\": \"scatter\", \"mode\": \"lines\", \"y\": [21.995363443026463, 21.47913495742209]}, {\"line\": {\"width\": 1.7395038261794245, \"color\": \"#888\"}, \"hoverinfo\": \"none\", \"x\": [-12.850718139242009, -13.263024710033392], \"type\": \"scatter\", \"mode\": \"lines\", \"y\": [20.929101940708783, 21.47913495742209]}, {\"line\": {\"width\": 1.4722270411545835, \"color\": \"#888\"}, \"hoverinfo\": \"none\", \"x\": [-13.236477225987986, -13.263024710033392], \"type\": \"scatter\", \"mode\": \"lines\", \"y\": [20.35065703675912, 21.47913495742209]}, {\"line\": {\"width\": 1.5906730894489571, \"color\": \"#888\"}, \"hoverinfo\": \"none\", \"x\": [-13.427726029882152, -13.263024710033392], \"type\": \"scatter\", \"mode\": \"lines\", \"y\": [21.052187341494502, 21.47913495742209]}, {\"line\": {\"width\": 1.106498364464699, \"color\": \"#888\"}, \"hoverinfo\": \"none\", \"x\": [-12.608722745064354, -13.263024710033392], \"type\": \"scatter\", \"mode\": \"lines\", \"y\": [21.38991608678275, 21.47913495742209]}, {\"line\": {\"width\": 1.3906614488536624, \"color\": \"#888\"}, \"hoverinfo\": \"none\", \"x\": [-13.912717315656698, -13.263024710033392], \"type\": \"scatter\", \"mode\": \"lines\", \"y\": [21.454212393115643, 21.47913495742209]}, {\"line\": {\"width\": 1.478063701708963, \"color\": \"#888\"}, \"hoverinfo\": \"none\", \"x\": [-13.551675742174377, -13.263024710033392], \"type\": \"scatter\", \"mode\": \"lines\", \"y\": [20.329212509114274, 21.47913495742209]}, {\"line\": {\"width\": 1.478343144437317, \"color\": \"#888\"}, \"hoverinfo\": \"none\", \"x\": [-14.113963476444026, -13.263024710033392], \"type\": \"scatter\", \"mode\": \"lines\", \"y\": [20.733964232542867, 21.47913495742209]}, {\"line\": {\"width\": 2.0270887765427292, \"color\": \"#888\"}, \"hoverinfo\": \"none\", \"x\": [-12.910843834401481, -13.263024710033392], \"type\": \"scatter\", \"mode\": \"lines\", \"y\": [21.01436659376408, 21.47913495742209]}, {\"line\": {\"width\": 1.040614552209747, \"color\": \"#888\"}, \"hoverinfo\": \"none\", \"x\": [-13.637993460243793, -13.263024710033392], \"type\": \"scatter\", \"mode\": \"lines\", \"y\": [21.53220459934256, 21.47913495742209]}, {\"line\": {\"width\": 1.3914289384895409, \"color\": \"#888\"}, \"hoverinfo\": \"none\", \"x\": [-13.23643931550353, -13.263024710033392], \"type\": \"scatter\", \"mode\": \"lines\", \"y\": [20.945151973986814, 21.47913495742209]}, {\"line\": {\"width\": 1.3254519840613108, \"color\": \"#888\"}, \"hoverinfo\": \"none\", \"x\": [-13.263024710033392, -13.994286400461116], \"type\": \"scatter\", \"mode\": \"lines\", \"y\": [21.47913495742209, 20.881168702489436]}, {\"line\": {\"width\": 1.023739986080041, \"color\": \"#888\"}, \"hoverinfo\": \"none\", \"x\": [-7.173322289908699, -7.894341793927663], \"type\": \"scatter\", \"mode\": \"lines\", \"y\": [15.323501465363748, 14.811120528398838]}, {\"line\": {\"width\": 1.059544427587481, \"color\": \"#888\"}, \"hoverinfo\": \"none\", \"x\": [-10.680705289400953, -11.263788850048781], \"type\": \"scatter\", \"mode\": \"lines\", \"y\": [22.22966651010958, 22.384709120747623]}, {\"line\": {\"width\": 1.0122180204210627, \"color\": \"#888\"}, \"hoverinfo\": \"none\", \"x\": [-12.345143556966459, -11.263788850048781], \"type\": \"scatter\", \"mode\": \"lines\", \"y\": [21.995363443026463, 22.384709120747623]}, {\"line\": {\"width\": 1.0641720417438782, \"color\": \"#888\"}, \"hoverinfo\": \"none\", \"x\": [-11.549799157354075, -11.263788850048781], \"type\": \"scatter\", \"mode\": \"lines\", \"y\": [21.33677004673493, 22.384709120747623]}, {\"line\": {\"width\": 1.1273677457334534, \"color\": \"#888\"}, \"hoverinfo\": \"none\", \"x\": [-11.263788850048781, -11.429739365262359], \"type\": \"scatter\", \"mode\": \"lines\", \"y\": [22.384709120747623, 22.733989773796388]}, {\"line\": {\"width\": 1.0218224762401709, \"color\": \"#888\"}, \"hoverinfo\": \"none\", \"x\": [-11.263788850048781, -12.0448503313882], \"type\": \"scatter\", \"mode\": \"lines\", \"y\": [22.384709120747623, 21.57539053726569]}, {\"line\": {\"width\": 1.10698679284716, \"color\": \"#888\"}, \"hoverinfo\": \"none\", \"x\": [-12.88079425450245, -12.791751733740055], \"type\": \"scatter\", \"mode\": \"lines\", \"y\": [20.00414689876472, 19.008361465721478]}, {\"line\": {\"width\": 1.0262180960617426, \"color\": \"#888\"}, \"hoverinfo\": \"none\", \"x\": [-12.341464452775313, -12.791751733740055], \"type\": \"scatter\", \"mode\": \"lines\", \"y\": [20.311362961497515, 19.008361465721478]}, {\"line\": {\"width\": 1.0364107351616023, \"color\": \"#888\"}, \"hoverinfo\": \"none\", \"x\": [-13.537096610506756, -12.791751733740055], \"type\": \"scatter\", \"mode\": \"lines\", \"y\": [19.92320307519968, 19.008361465721478]}, {\"line\": {\"width\": 1.0856711298133694, \"color\": \"#888\"}, \"hoverinfo\": \"none\", \"x\": [-13.04465356572712, -12.791751733740055], \"type\": \"scatter\", \"mode\": \"lines\", \"y\": [19.63101236622079, 19.008361465721478]}, {\"line\": {\"width\": 1.145445114520896, \"color\": \"#888\"}, \"hoverinfo\": \"none\", \"x\": [-12.918576723501182, -12.791751733740055], \"type\": \"scatter\", \"mode\": \"lines\", \"y\": [19.762632785571746, 19.008361465721478]}, {\"line\": {\"width\": 1.0180330958204062, \"color\": \"#888\"}, \"hoverinfo\": \"none\", \"x\": [-11.890506936706867, -12.791751733740055], \"type\": \"scatter\", \"mode\": \"lines\", \"y\": [18.6555510556014, 19.008361465721478]}, {\"line\": {\"width\": 1.0413919691563902, \"color\": \"#888\"}, \"hoverinfo\": \"none\", \"x\": [-13.610912637176686, -12.791751733740055], \"type\": \"scatter\", \"mode\": \"lines\", \"y\": [18.6772196523297, 19.008361465721478]}, {\"line\": {\"width\": 1.1356608572780873, \"color\": \"#888\"}, \"hoverinfo\": \"none\", \"x\": [-12.356415919830226, -12.791751733740055], \"type\": \"scatter\", \"mode\": \"lines\", \"y\": [19.76080027239755, 19.008361465721478]}, {\"line\": {\"width\": 1.0716382727419616, \"color\": \"#888\"}, \"hoverinfo\": \"none\", \"x\": [-12.773844683472381, -12.791751733740055], \"type\": \"scatter\", \"mode\": \"lines\", \"y\": [19.566330422843407, 19.008361465721478]}, {\"line\": {\"width\": 1.0952915075625365, \"color\": \"#888\"}, \"hoverinfo\": \"none\", \"x\": [-12.170458243867694, -12.791751733740055], \"type\": \"scatter\", \"mode\": \"lines\", \"y\": [19.971879414718284, 19.008361465721478]}, {\"line\": {\"width\": 1.0276082742675392, \"color\": \"#888\"}, \"hoverinfo\": \"none\", \"x\": [-10.680705289400953, -11.429739365262359], \"type\": \"scatter\", \"mode\": \"lines\", \"y\": [22.22966651010958, 22.733989773796388]}, {\"line\": {\"width\": 1.0387838639467775, \"color\": \"#888\"}, \"hoverinfo\": \"none\", \"x\": [-11.549799157354075, -11.429739365262359], \"type\": \"scatter\", \"mode\": \"lines\", \"y\": [21.33677004673493, 22.733989773796388]}, {\"line\": {\"width\": 1.1273677457334534, \"color\": \"#888\"}, \"hoverinfo\": \"none\", \"x\": [-11.263788850048781, -11.429739365262359], \"type\": \"scatter\", \"mode\": \"lines\", \"y\": [22.384709120747623, 22.733989773796388]}, {\"line\": {\"width\": 1.0049729373092302, \"color\": \"#888\"}, \"hoverinfo\": \"none\", \"x\": [-11.429739365262359, -12.0448503313882], \"type\": \"scatter\", \"mode\": \"lines\", \"y\": [22.733989773796388, 21.57539053726569]}, {\"line\": {\"width\": 1.000399796657459, \"color\": \"#888\"}, \"hoverinfo\": \"none\", \"x\": [-12.95422029598588, -12.0448503313882], \"type\": \"scatter\", \"mode\": \"lines\", \"y\": [22.173012221957887, 21.57539053726569]}, {\"line\": {\"width\": 1.14065775250979, \"color\": \"#888\"}, \"hoverinfo\": \"none\", \"x\": [-12.341464452775313, -12.0448503313882], \"type\": \"scatter\", \"mode\": \"lines\", \"y\": [20.311362961497515, 21.57539053726569]}, {\"line\": {\"width\": 1.1972331711801998, \"color\": \"#888\"}, \"hoverinfo\": \"none\", \"x\": [-12.850718139242009, -12.0448503313882], \"type\": \"scatter\", \"mode\": \"lines\", \"y\": [20.929101940708783, 21.57539053726569]}, {\"line\": {\"width\": 1.5356393979216454, \"color\": \"#888\"}, \"hoverinfo\": \"none\", \"x\": [-12.608722745064354, -12.0448503313882], \"type\": \"scatter\", \"mode\": \"lines\", \"y\": [21.38991608678275, 21.57539053726569]}, {\"line\": {\"width\": 1.651069403466463, \"color\": \"#888\"}, \"hoverinfo\": \"none\", \"x\": [-11.549799157354075, -12.0448503313882], \"type\": \"scatter\", \"mode\": \"lines\", \"y\": [21.33677004673493, 21.57539053726569]}, {\"line\": {\"width\": 1.0434783024942098, \"color\": \"#888\"}, \"hoverinfo\": \"none\", \"x\": [-12.040651155801354, -12.0448503313882], \"type\": \"scatter\", \"mode\": \"lines\", \"y\": [21.209858966184818, 21.57539053726569]}, {\"line\": {\"width\": 1.1820325920296575, \"color\": \"#888\"}, \"hoverinfo\": \"none\", \"x\": [-12.910843834401481, -12.0448503313882], \"type\": \"scatter\", \"mode\": \"lines\", \"y\": [21.01436659376408, 21.57539053726569]}, {\"line\": {\"width\": 1.0278805197458825, \"color\": \"#888\"}, \"hoverinfo\": \"none\", \"x\": [-11.85499862010832, -12.0448503313882], \"type\": \"scatter\", \"mode\": \"lines\", \"y\": [20.494921025806526, 21.57539053726569]}, {\"line\": {\"width\": 1.1495563524753216, \"color\": \"#888\"}, \"hoverinfo\": \"none\", \"x\": [-13.030036553810685, -12.0448503313882], \"type\": \"scatter\", \"mode\": \"lines\", \"y\": [21.519701600461545, 21.57539053726569]}, {\"line\": {\"width\": 1.0218224762401709, \"color\": \"#888\"}, \"hoverinfo\": \"none\", \"x\": [-11.263788850048781, -12.0448503313882], \"type\": \"scatter\", \"mode\": \"lines\", \"y\": [22.384709120747623, 21.57539053726569]}, {\"line\": {\"width\": 1.0049729373092302, \"color\": \"#888\"}, \"hoverinfo\": \"none\", \"x\": [-11.429739365262359, -12.0448503313882], \"type\": \"scatter\", \"mode\": \"lines\", \"y\": [22.733989773796388, 21.57539053726569]}, {\"line\": {\"width\": 1.8293488207175532, \"color\": \"#888\"}, \"hoverinfo\": \"none\", \"x\": [-14.489168620811169, -13.994286400461116], \"type\": \"scatter\", \"mode\": \"lines\", \"y\": [21.091249032371852, 20.881168702489436]}, {\"line\": {\"width\": 1.1146414038575085, \"color\": \"#888\"}, \"hoverinfo\": \"none\", \"x\": [-13.642983348705675, -13.994286400461116], \"type\": \"scatter\", \"mode\": \"lines\", \"y\": [20.519633212486255, 20.881168702489436]}, {\"line\": {\"width\": 1.1455749507040294, \"color\": \"#888\"}, \"hoverinfo\": \"none\", \"x\": [-14.550581404051927, -13.994286400461116], \"type\": \"scatter\", \"mode\": \"lines\", \"y\": [19.624642271113515, 20.881168702489436]}, {\"line\": {\"width\": 1.089909315951797, \"color\": \"#888\"}, \"hoverinfo\": \"none\", \"x\": [-12.850718139242009, -13.994286400461116], \"type\": \"scatter\", \"mode\": \"lines\", \"y\": [20.929101940708783, 20.881168702489436]}, {\"line\": {\"width\": 1.027904451194665, \"color\": \"#888\"}, \"hoverinfo\": \"none\", \"x\": [-13.236477225987986, -13.994286400461116], \"type\": \"scatter\", \"mode\": \"lines\", \"y\": [20.35065703675912, 20.881168702489436]}, {\"line\": {\"width\": 1.3004335332881456, \"color\": \"#888\"}, \"hoverinfo\": \"none\", \"x\": [-13.427726029882152, -13.994286400461116], \"type\": \"scatter\", \"mode\": \"lines\", \"y\": [21.052187341494502, 20.881168702489436]}, {\"line\": {\"width\": 1.0027186546159308, \"color\": \"#888\"}, \"hoverinfo\": \"none\", \"x\": [-14.582278534558517, -13.994286400461116], \"type\": \"scatter\", \"mode\": \"lines\", \"y\": [20.217135258366874, 20.881168702489436]}, {\"line\": {\"width\": 1.0197896529476522, \"color\": \"#888\"}, \"hoverinfo\": \"none\", \"x\": [-14.7570657120828, -13.994286400461116], \"type\": \"scatter\", \"mode\": \"lines\", \"y\": [20.50506469374403, 20.881168702489436]}, {\"line\": {\"width\": 1.151756002717777, \"color\": \"#888\"}, \"hoverinfo\": \"none\", \"x\": [-12.608722745064354, -13.994286400461116], \"type\": \"scatter\", \"mode\": \"lines\", \"y\": [21.38991608678275, 20.881168702489436]}, {\"line\": {\"width\": 1.1165727971710275, \"color\": \"#888\"}, \"hoverinfo\": \"none\", \"x\": [-13.912717315656698, -13.994286400461116], \"type\": \"scatter\", \"mode\": \"lines\", \"y\": [21.454212393115643, 20.881168702489436]}, {\"line\": {\"width\": 1.0239793226778227, \"color\": \"#888\"}, \"hoverinfo\": \"none\", \"x\": [-14.113963476444026, -13.994286400461116], \"type\": \"scatter\", \"mode\": \"lines\", \"y\": [20.733964232542867, 20.881168702489436]}, {\"line\": {\"width\": 1.077722628508547, \"color\": \"#888\"}, \"hoverinfo\": \"none\", \"x\": [-12.910843834401481, -13.994286400461116], \"type\": \"scatter\", \"mode\": \"lines\", \"y\": [21.01436659376408, 20.881168702489436]}, {\"line\": {\"width\": 1.053502937462228, \"color\": \"#888\"}, \"hoverinfo\": \"none\", \"x\": [-13.637993460243793, -13.994286400461116], \"type\": \"scatter\", \"mode\": \"lines\", \"y\": [21.53220459934256, 20.881168702489436]}, {\"line\": {\"width\": 1.0437708461110915, \"color\": \"#888\"}, \"hoverinfo\": \"none\", \"x\": [-13.23643931550353, -13.994286400461116], \"type\": \"scatter\", \"mode\": \"lines\", \"y\": [20.945151973986814, 20.881168702489436]}, {\"line\": {\"width\": 1.1856153212912333, \"color\": \"#888\"}, \"hoverinfo\": \"none\", \"x\": [-13.402038872682441, -13.994286400461116], \"type\": \"scatter\", \"mode\": \"lines\", \"y\": [21.793632774845815, 20.881168702489436]}, {\"line\": {\"width\": 1.3254519840613108, \"color\": \"#888\"}, \"hoverinfo\": \"none\", \"x\": [-13.263024710033392, -13.994286400461116], \"type\": \"scatter\", \"mode\": \"lines\", \"y\": [21.47913495742209, 20.881168702489436]}, {\"line\": {\"width\": 1.0489272549700317, \"color\": \"#888\"}, \"hoverinfo\": \"none\", \"x\": [-13.994286400461116, -15.270951640163304], \"type\": \"scatter\", \"mode\": \"lines\", \"y\": [20.881168702489436, 21.325945280292714]}, {\"line\": {\"width\": 1.0867528801867548, \"color\": \"#888\"}, \"hoverinfo\": \"none\", \"x\": [-15.64783094935959, -16.358131788434502], \"type\": \"scatter\", \"mode\": \"lines\", \"y\": [18.70206518528754, 18.236593206452522]}, {\"line\": {\"width\": 1.139791026075272, \"color\": \"#888\"}, \"hoverinfo\": \"none\", \"x\": [-13.713867049753938, -14.498939637577397], \"type\": \"scatter\", \"mode\": \"lines\", \"y\": [21.32277923138798, 22.044399357519538]}, {\"line\": {\"width\": 1.0926655470758238, \"color\": \"#888\"}, \"hoverinfo\": \"none\", \"x\": [-13.427726029882152, -14.498939637577397], \"type\": \"scatter\", \"mode\": \"lines\", \"y\": [21.052187341494502, 22.044399357519538]}, {\"line\": {\"width\": 1.1226976775080013, \"color\": \"#888\"}, \"hoverinfo\": \"none\", \"x\": [-13.584146493457986, -14.498939637577397], \"type\": \"scatter\", \"mode\": \"lines\", \"y\": [21.910867822678476, 22.044399357519538]}, {\"line\": {\"width\": 1.0835187560359603, \"color\": \"#888\"}, \"hoverinfo\": \"none\", \"x\": [-14.17718698076056, -14.498939637577397], \"type\": \"scatter\", \"mode\": \"lines\", \"y\": [22.950125329389966, 22.044399357519538]}, {\"line\": {\"width\": 1.014786162987643, \"color\": \"#888\"}, \"hoverinfo\": \"none\", \"x\": [-13.7703511169154, -14.498939637577397], \"type\": \"scatter\", \"mode\": \"lines\", \"y\": [21.085508206964032, 22.044399357519538]}, {\"line\": {\"width\": 1.00190217130656, \"color\": \"#888\"}, \"hoverinfo\": \"none\", \"x\": [-13.272428838714013, -14.498939637577397], \"type\": \"scatter\", \"mode\": \"lines\", \"y\": [21.97460394894528, 22.044399357519538]}, {\"line\": {\"width\": 1.0700143707609076, \"color\": \"#888\"}, \"hoverinfo\": \"none\", \"x\": [-14.7570657120828, -15.270951640163304], \"type\": \"scatter\", \"mode\": \"lines\", \"y\": [20.50506469374403, 21.325945280292714]}, {\"line\": {\"width\": 1.0489272549700317, \"color\": \"#888\"}, \"hoverinfo\": \"none\", \"x\": [-13.994286400461116, -15.270951640163304], \"type\": \"scatter\", \"mode\": \"lines\", \"y\": [20.881168702489436, 21.325945280292714]}, {\"line\": {\"width\": 1.222713154871356, \"color\": \"#888\"}, \"hoverinfo\": \"none\", \"x\": [-13.04465356572712, -13.207424864625844], \"type\": \"scatter\", \"mode\": \"lines\", \"y\": [19.63101236622079, 18.380917228599227]}, {\"line\": {\"width\": 1.4590317114047062, \"color\": \"#888\"}, \"hoverinfo\": \"none\", \"x\": [-11.722208057949885, -11.573787898129877], \"type\": \"scatter\", \"mode\": \"lines\", \"y\": [20.221982900095632, 20.603582672482666]}, {\"line\": {\"width\": 1.0182271896430728, \"color\": \"#888\"}, \"hoverinfo\": \"none\", \"x\": [-10.38428518250311, -11.573787898129877], \"type\": \"scatter\", \"mode\": \"lines\", \"y\": [20.858640990884304, 20.603582672482666]}, {\"line\": {\"width\": 1.2813328864664955, \"color\": \"#888\"}, \"hoverinfo\": \"none\", \"x\": [-12.850718139242009, -11.573787898129877], \"type\": \"scatter\", \"mode\": \"lines\", \"y\": [20.929101940708783, 20.603582672482666]}, {\"line\": {\"width\": 1.0468996025352004, \"color\": \"#888\"}, \"hoverinfo\": \"none\", \"x\": [-10.917791500255126, -11.573787898129877], \"type\": \"scatter\", \"mode\": \"lines\", \"y\": [19.742127029568135, 20.603582672482666]}, {\"line\": {\"width\": 1.133629876515718, \"color\": \"#888\"}, \"hoverinfo\": \"none\", \"x\": [-10.990246823384478, -11.573787898129877], \"type\": \"scatter\", \"mode\": \"lines\", \"y\": [19.324611435865272, 20.603582672482666]}, {\"line\": {\"width\": 1.4945432348836736, \"color\": \"#888\"}, \"hoverinfo\": \"none\", \"x\": [-10.58466903998632, -11.573787898129877], \"type\": \"scatter\", \"mode\": \"lines\", \"y\": [20.122288006184224, 20.603582672482666]}, {\"line\": {\"width\": 1.2684677691401385, \"color\": \"#888\"}, \"hoverinfo\": \"none\", \"x\": [-12.910843834401481, -11.573787898129877], \"type\": \"scatter\", \"mode\": \"lines\", \"y\": [21.01436659376408, 20.603582672482666]}, {\"showlegend\": true, \"mode\": \"markers\", \"hoverinfo\": \"text\", \"x\": [-6.178078991139053, -11.355176247912755, -3.6471931270329176, -3.3609183195267143, -13.713867049753938, -11.40201413065946, -5.305668135625852, -6.193642594694446, -3.002581208383172, -14.018918630615032, -4.956455677841072, -15.953797481176617, -3.684136594292169, -5.188763117731376, -3.014217307136744, -13.72503864579122, -5.5606868628221475, -12.95422029598588, -13.889868260640972, -11.722208057949885, -14.838886373833402, -13.469602721182888, -13.421282842315208, -5.836113003442199, -9.43984702464178, -13.979715599240638, -14.916485071497744, -5.8965513857332645, -4.247558337404943, -4.903133224618565, -9.243291695175037, -3.2059529811666354, -10.747730119044457, -6.561573385093098, -12.075137469042582, -12.88079425450245, -5.503206711226998, -14.710043075976875, -10.680705289400953, -11.96986801292686, -11.949124589899004, -6.589920670341657, -9.445001182998627, -12.341464452775313, -3.631834298512965, -6.980617299185159, -13.812869194951775, -10.38428518250311, -13.488239384273696, -3.102271830176371, -14.489168620811169, -8.335498136427804, -3.5450981614441988, -8.12741631741353, -10.56826368128901, -7.424733648768898, -10.805873149921057, -10.703500072515022, -3.0544085152806226, -7.56483637469179, -15.163142974362497, -13.642983348705675, -14.550581404051927, -5.681597879840976, -10.775938171698414, -14.311419458172569, -14.858379268270992, -10.263851384429456, -6.3972927373085495, -3.819931000860899, -11.942871546634484, -5.442919590804905, -13.197102179360037, -12.345143556966459, -12.850718139242009, -7.128178395063848, -10.483350600146865, -12.261498943665345, -12.900087281018456, -10.619988258810183, -3.1929490395849145, -15.185335092491869, -5.282775778011974, -13.236477225987986, -3.890018096390595, -10.980994182527269, -4.299798236115684, -2.9912284552317407, -13.537096610506756, -14.005021731026002, -5.24974695048549, -14.462891867935248, -12.32242407686812, -13.85101503582916, -13.427726029882152, -11.815965872922868, -13.04465356572712, -8.264927994017075, -14.027395794310534, -4.081654789066221, -10.917791500255126, -4.584947224697205, -5.916898731695291, -7.716247023436898, -16.162781362707026, -12.904237041823563, -3.7596532020254823, -13.584146493457986, -13.441751089432334, -12.907640754729615, -14.582278534558517, -8.853526486805437, -8.057948898392322, -7.4257473647227, -14.7570657120828, -13.046705351336772, -8.912182757525217, -10.990246823384478, -5.386818926161954, -5.519577826190566, -9.469752493698453, -12.714023615727218, -11.670530996185668, -16.235438648181255, -5.995951520428974, -12.700498433924094, -5.7850883907942015, -7.864511977425826, -10.200372188564254, -11.903242820535906, -12.14572655546444, -4.7539436701421955, -9.556638250374549, -13.673386623300873, -10.159999711093475, -12.918576723501182, -15.336715642843775, -13.485752324101506, -12.608722745064354, -12.548259461364738, -4.012121028534619, -11.890506936706867, -9.897251272268578, -13.610912637176686, -12.356415919830226, -5.409996295488232, -15.827375056035295, -6.627431086674426, -11.991544400059553, -13.612405873935117, -5.063765911723638, -15.318409941350346, -13.912717315656698, -6.704239598525509, -10.58466903998632, -14.424618497382848, -12.938629206266983, -12.39070970399015, -11.549799157354075, -12.629951858941117, -10.876620155685893, -10.207892789581681, -6.8613395668689945, -8.302042388511717, -12.773844683472381, -13.551675742174377, -15.234399201561038, -4.973446428194076, -3.5478330858898817, -7.173322289908699, -7.020803229293822, -3.238908987392713, -7.54412436447866, -12.040651155801354, -13.865413814385875, -14.197938134224469, -6.1944511846115295, -13.40775776308866, -9.19495706687349, -7.782578657657182, -15.372073600338794, -8.774052337077563, -12.684965408096383, -12.245780801073543, -6.542945921138455, -12.407573428884401, -13.351672055886201, -5.073089420651273, -13.453489017595148, -14.878990974107236, -15.737559793156395, -11.007824500327079, -14.113963476444026, -15.067822716688191, -3.9446621061892078, -4.603555572052818, -3.7193524355014564, -11.206212473786957, -11.722835280723642, -13.808607237373636, -4.935844928075623, -8.964013651277991, -14.17718698076056, -12.863841475837656, -11.323641335171017, -14.628261411278487, -10.94275863783377, -14.986087504472923, -5.376237758369234, -12.170458243867694, -12.910843834401481, -13.637993460243793, -14.753674588371817, -12.154447470436555, -12.284441948806446, -13.7703511169154, -4.296717978040918, -4.903517563765048, -13.78065772681429, -9.611014621595755, -13.991559819591165, -5.608249974810387, -11.397089114550562, -15.195076323567228, -11.991238975062986, -6.194481379381291, -4.31808942168579, -7.173525483136541, -8.58702779235337, -14.898728528329402, -11.793479938333844, -13.23643931550353, -7.1809600431379375, -4.564505592387997, -11.85499862010832, -6.444405956697366, -4.462211749629674, -11.80173372332277, -12.392539355144063, -4.221884276582237, -13.184852784513687, -3.437837457834608, -15.523142350203068, -5.852849948391481, -5.41465654674616, -4.915879004064119, -11.14647911771022, -8.413782367410025, -7.0968782985042065, -12.413627755794588, -5.86844856996267, -9.615908603591969, -12.581493614509737, -14.067819366407043, -13.030036553810685, -13.007084255175895, -5.549642565507122, -13.465604535569918, -4.223973842704066, -13.074216629741809, -14.197638723341639, -12.734203853902583, -6.370044307639769, -14.457100733102376, -14.700800349225393, -3.524424986127427, -6.674868422834263, -10.251007645281458, -13.272428838714013, -4.598314248896089, -14.284782287057334, -15.774714817128526, -12.446518716199456, -3.0897016600795317, -8.703797827218127, -6.270261406472756, -9.201269049547529, -7.865558942575845, -15.503181246044218, -8.029049197824259, -3.0241083257881582, -9.750116580698037, -3.9308394228096115, -9.741210458737246, -14.720725521153799, -11.897670571538791, -5.0768538219521595, -5.775718274359518, -3.6142497941627334, -14.125869821147415, -12.77601031504658, -4.9915844496230815, -13.402038872682441, -10.738609963494902, -8.74187556148041, -4.377264753664229, -13.197963156136154, -12.800082302337206, -15.64783094935959, -14.233251817518356, -9.595275245512976, -4.532628690237402, -3.38415529315882, -6.104412943086472, -15.174279426119066, -13.263024710033392, -7.894341793927663, -9.507361244290879, -7.240845118015869, -4.237336510651352, -11.263788850048781, -12.791751733740055, -11.429739365262359, -12.0448503313882, -13.994286400461116, -16.358131788434502, -14.498939637577397, -4.737261954113291, -4.084352917242304, -5.657622390567298, -15.270951640163304, -13.207424864625844, -11.573787898129877], \"type\": \"scatter\", \"text\": [\"Winners: Tom Brady\\u2019s(0)\", \"3 suspects handed te(1)\", \"David Brooks: I Fear(1)\", \"Scuffling, heckling (0)\", \"Former Clinton aides(0)\", \"Krauthammer: Rewrite(1)\", \"Is it a dream or a n(1)\", \"New approach for the(1)\", \"Marilyn's dress to B(1)\", \"Autism diagnosis by (0)\", \"PPE: the Oxford degr(1)\", \"Dresses that tell a (1)\", \"Fight breaks out in (0)\", \"Ageing gracefully as(1)\", \"Kremlin: Turkey gave(0)\", \"Who is Paul Manafort(0)\", \"IAAF clears 3 more R(0)\", \"21 more questions fo(0)\", \"FT podcast: World We(0)\", \"French officials str(0)\", \"After April\\u2019s March (0)\", \"Dems gird for battle(0)\", \"King: Leakers should(0)\", \"Free Network Foundat(1)\", \"Portuguese teens who(1)\", \"Clearly, the Trump a(0)\", \"The Wove Band: Don't(1)\", \"Catwalk models put c(1)\", \"To better understand(1)\", \"Facebook CEO Mark Zu(1)\", \"Cartel Radio Network(1)\", \"Krauthammer: 9th Cir(1)\", \"CNN Review: 'Big Lit(1)\", \"Love your local? Liv(1)\", \"Nick Cannon Quits \\u2018A(0)\", \"Ann Coulter on Trump(0)\", \"MILO to Appear on Re(1)\", \"Senator who disclose(0)\", \"It's North Korea's f(1)\", \"Schlapp: Trump needs(1)\", \"Master the art of pr(0)\", \"How quantum effects (1)\", \"UFC Fighter Responds(1)\", \"NYT\\u2019s Thomas Friedma(0)\", \"Absurd Creatures | C(1)\", \"Game|Life - Greg Kas(1)\", \"Columnist: Flynn's o(0)\", \"Texas Sheriff Dupes (1)\", \"Dem Sen Murphy: Trum(0)\", \"Mexican says she was(1)\", \"Abrams: Flynn 'piece(0)\", \"Japan pension fund i(2)\", \"Knicks owner James D(1)\", \"Q&amp;A: \\\"La La Land(1)\", \"Do Charles Darwin's (1)\", \"School curricula are(1)\", \"Banking Collapse of (1)\", \"A world safe for rob(1)\", \"All Work and All Pla(1)\", \"Bunscoil an L\\u00fair: Re(1)\", \"Prescription-drug mo(1)\", \"Guardian Opinion Wri(0)\", \"Deportation orders t(0)\", \"Murdoch secretly sat(1)\", \"Pressure builds for (0)\", \"Spicer: 'Clearly mea(0)\", \"China \\u2018Highly Commen(0)\", \"Brussels watchdog la(1)\", \"Fujitsu develops ana(1)\", \"Chiefs GM non-commit(1)\", \"Watch: Ellison Press(0)\", \"Who is Charles Woodb(1)\", \"Maxine Waters: Trump(0)\", \"WaPo\\u2019s Ruth Marcus: (0)\", \"FBI refused White Ho(0)\", \"Tyrese Gibson on 'un(1)\", \"Nigeria court: Forfe(1)\", \"Researchers clearly (1)\", \"36 Top State Republi(0)\", \"Campaigners reject p(1)\", \"Twin tragedies give (1)\", \"Scientists show how (1)\", \"Terror fears take to(0)\", \"Michael Wolff: Media(0)\", \"Pope says indigenous(1)\", \"HBOS manager and oth(1)\", \"Attackers can make i(1)\", \"Kellyanne Conway's r(1)\", \"Scarborough: Trump M(0)\", \"Russians remain pati(0)\", \"Reading, Writing, An(1)\", \"Peter King: Leaks Ag(1)\", \"Michelle Malkin blas(0)\", \"Should financial adv(0)\", \"CNN\\u2019s Acosta: Trump (0)\", \"Facebook \\u2018Fake News\\u2019(1)\", \"Opinion: Facts still(0)\", \"Designing the best c(1)\", \"Pelosi Calls for FBI(0)\", \"Six Nations 2017: Sc(1)\", \"Lloyds apologises fo(1)\", \"Troops deploy to pro(1)\", \"No Tiger is no longe(1)\", \"Goodwin: Trump can q(1)\", \"Squirrels Keep Menac(0)\", \"The Russians Are NOT(0)\", \"Soft skills training(1)\", \"New York Times Accus(0)\", \"How Congress could g(0)\", \"First on CNN: John K(0)\", \"Nancy Pelosi: \\u2018We\\u2019ve(0)\", \"Green Investment Ban(1)\", \"Personal attacks on (1)\", \"'Hamilton' creator s(1)\", \"At 70, JBL still kno(0)\", \"US officials corrobo(0)\", \"Ex-NY Knick Oakley d(1)\", \"Six billion plastic (1)\", \"The unique shame of (1)\", \"Before the Beatles(1)\", \"How languages shape (1)\", \"Oakley's ban from Ma(1)\", \"Do we need a credit (1)\", \"University of Washin(1)\", \"Half of Welsh counci(1)\", \"Sen. Johnson on Flyn(0)\", \"Russian's ban may ma(1)\", \"Researchers develop (1)\", \"TalkTalk: reconnecti(1)\", \"Fraud case and falli(1)\", \"FT column: Donald Tr(0)\", \"The Noble Writer - S(1)\", \"Waiver yet to be sec(1)\", \"Source: \\\"knives out\\\"(0)\", \"Body of Egypt's so-c(1)\", \"Twitter: not even Do(0)\", \"Who Was Detective X?(1)\", \"Meet the rightwing p(0)\", \"NYT\\u2019s Friedman: Flyn(0)\", \"EXCLUSIVE: Felix Sat(0)\", \"Elon Musk in union s(1)\", \"The Nuclear Option \\u2014(0)\", \"Gibraltar seizes Rus(0)\", \"As Trump tweets, leg(0)\", \"Columnist to Brian S(0)\", \"Snapchat's young use(1)\", \"Lost in translation:(1)\", \"'Lossless' metamater(1)\", \"Alan Simpson: Comedy(1)\", \"Magic Leap faces sex(1)\", \"Sir Charles Dunstone(1)\", \"Boeing workers in So(1)\", \"Viacom debt deal tur(0)\", \"LSE fines independen(1)\", \"France strikes down (1)\", \"Trump advisers in 'c(0)\", \"Database of software(1)\", \"Krauthammer on Congr(1)\", \"A neuroscientist exp(0)\", \"Opinion: Can SNL top(0)\", \"Why is Dirty Dancing(1)\", \"Even Trump isn't eno(0)\", \"Issa Rae on How She (1)\", \"Germany's Bavaria to(1)\", \"Columnist: Distrust (0)\", \"KLEIN \\u2013 Trump-Russia(0)\", \"The mechanics of cav(1)\", \"Bank results spotlig(2)\", \"Prince Charles' god-(1)\", \"Connection control t(1)\", \"Far beyond crime-rid(1)\", \"Less of the burden w(1)\", \"Results will reveal (1)\", \"George Will: Conserv(0)\", \"Are journalists tipt(0)\", \"Pro12: Zebre v Ulste(1)\", \"ESPN reporters writi(1)\", \"Report: Trump not fu(1)\", \"Cop caught on tape s(1)\", \"World's largest sail(1)\", \"Cyber experts report(0)\", \"The dangers of writi(1)\", \"AP Exclusive: Twin t(1)\", \"In-memory de-duplica(0)\", \"Mick Jagger's autobi(1)\", \"What makes influenti(1)\", \"Differences in the r(0)\", \"'Thank you and stay (1)\", \"Board overseeing pro(1)\", \"'This is Us' cast pa(0)\", \"Global pariah(1)\", \"Where are the tools (1)\", \"AP Explains: The obs(0)\", \"Booker: Kellyanne Co(1)\", \"Ivanka, Melania bran(1)\", \"Jawing away: Bahama (1)\", \"NBA Capsules(1)\", \"How can I tell if a (1)\", \"CES 2013: Tactus Tec(1)\", \"Tamara Ecclestone br(1)\", \"War criminal Charles(1)\", \"Markets Spotlight: t(1)\", \"Fmr Clinton Campaign(0)\", \"Trump fully briefed (1)\", \"Tremors in newborn p(1)\", \"Dow Jones industrial(1)\", \"Researchers discover(1)\", \"PERK protein opens l(1)\", \"Faking it: Jake Tapp(1)\", \"Twitter accounts rea(1)\", \"Original Doc(0)\", \"White House was warn(0)\", \"Scotland needs publi(1)\", \"Kremlin: Trump assoc(0)\", \"Trump steps into sec(0)\", \"Lewandowski: If Mana(0)\", \"Music helps and pick(1)\", \"HBOS fraud trial(1)\", \"Russians optimistic (0)\", \"Trading off costs an(1)\", \"Russia has assumed a(0)\", \"Sister of Bataclan t(1)\", \"MSG bans ex-Knicks s(3)\", \"LIVE UPDATES: Former(0)\", \"Last orders at the b(1)\", \"Lloyds to review cus(1)\", \"Federal judge blocks(1)\", \"Microsoft's Surface (1)\", \"Unique project to im(1)\", \"UK real wage growth (1)\", \"MSG bans Charles Oak(1)\", \"Dem Rep Moulton: If (0)\", \"Alt-right leader Ric(1)\", \"Lloyds should act ho(1)\", \"Sherry Turkle: \\u2018I am(1)\", \"Great Valentine's Da(1)\", \"MPs press Lloyds to (1)\", \"French far-right can(0)\", \"Philly Archbishop \\u2018A(0)\", \"Imperial Brands back(1)\", \"Rampant narcissism a(1)\", \"Transgender politica(1)\", \"Data Attack - How Te(0)\", \"APNewsBreak: Grand j(1)\", \"One Husband\\u2019s Tribut(1)\", \"Lloyds to review HBO(1)\", \"Facts are the reason(1)\", \"Senator keeps cool i(1)\", \"NIST partners 'cutti(1)\", \"Researchers emphasiz(1)\", \"Trump talks about tr(0)\", \"Heterosexual couple (1)\", \"Yes, Warhammer chara(1)\", \"Remember Nixon? Ther(0)\", \"Trump aides spoke re(0)\", \"Manafort, Flynn spok(0)\", \"What's Inside - Vodk(0)\", \"Accounting standards(1)\", \"Journalist apologize(1)\", \"Charles Krauthammer (1)\", \"GOP Senate Intel Mem(0)\", \"Trump campaign aides(0)\", \"Communications exper(0)\", \"Researcher explores (1)\", \"Hate Trump supporter(1)\", \"How former Mexican p(1)\", \"Design FX - Game of (1)\", \"Silence\\u2014everyday bet(1)\", \"Trump counters Russi(0)\", \"Microhotplates for a(1)\", \"Spotlight on 3 judge(0)\", \"Doubt over Everest's(1)\", \"'In 50 years, readin(1)\", \"Teens sentenced to r(1)\", \"Knock knock, moos th(0)\", \"15 risks and opportu(1)\", \"Russians Engineer a (0)\", \"Electricity pricing (1)\", \"Dinosaur embryos rev(1)\", \"WIRED April 2014 - C(1)\", \"Dolan says MSG banni(1)\", \"Tiger knocks drone f(1)\", \"AP source: Oakley's (1)\", \"NBPA officers expres(1)\", \"Video: The search fo(1)\", \"Krauthammer: The dan(1)\", \"Queueing technique t(1)\", \"Late-night comedy ru(1)\", \"Abbreviations exclud(1)\", \"Nasa begins testing (1)\", \"Donald Trump Denounc(0)\", \"Am I using this emoj(1)\", \"Congress struggles t(0)\", \"Why are most people (1)\", \"Facts, beliefs, and (1)\", \"Chris Packham: Why I(1)\", \"VIDEO: Charles Oakle(0)\", \"Dems see disparity i(0)\", \"Spill-Proof Cups Are(1)\", \"Brady Campaign: Sess(0)\", \"Charles Oakley: I\\u2019ve(1)\", \"Call for scrutiny of(1)\", \"Researchers show via(1)\", \"Tesco-Booker \\u2014 a \\u2018me(1)\", \"Defense clearly not (1)\", \"Media escalate Trump(0)\", \"First-ever GPS data (1)\", \"Trump Adviser Miller(1)\", \"Pope spurs Republica(1)\", \"A neuroscientist exp(1)\", \"A neuroscientist exp(1)\", \"Chinese feminists ta(0)\", \"A neuroscientist exp(1)\", \"A neuroscientist exp(0)\", \"Spicer: President Tr(0)\", \"World's tiniest hamm(1)\", \"Lewandowski disagree(0)\", \"Power amplifiers for(1)\", \"Quest to find the 'm(1)\", \"Reducing animal test(1)\", \"It appears the Oiler(1)\", \"Why the Earth is act(1)\", \"Suit over artifact l(1)\"], \"marker\": {\"size\": 10, \"colorscale\": \"Jet\", \"line\": {\"width\": 2}, \"showscale\": false, \"reversescale\": true, \"color\": [0, 1, 1, 0, 0, 1, 1, 1, 1, 0, 1, 1, 0, 1, 0, 0, 0, 0, 0, 0, 0, 0, 0, 1, 1, 0, 1, 1, 1, 1, 1, 1, 1, 1, 0, 0, 1, 0, 1, 1, 0, 1, 1, 0, 1, 1, 0, 1, 0, 1, 0, 2, 1, 1, 1, 1, 1, 1, 1, 1, 1, 0, 0, 1, 0, 0, 0, 1, 1, 1, 0, 1, 0, 0, 0, 1, 1, 1, 0, 1, 1, 1, 0, 0, 1, 1, 1, 1, 0, 0, 1, 1, 0, 0, 0, 1, 0, 1, 0, 1, 1, 1, 1, 1, 0, 0, 1, 0, 0, 0, 0, 1, 1, 1, 0, 0, 1, 1, 1, 1, 1, 1, 1, 1, 1, 0, 1, 1, 1, 1, 0, 1, 1, 0, 1, 0, 1, 0, 0, 0, 1, 0, 0, 0, 0, 1, 1, 1, 1, 1, 1, 1, 0, 1, 1, 0, 1, 1, 0, 0, 1, 0, 1, 1, 0, 0, 1, 2, 1, 1, 1, 1, 1, 0, 0, 1, 1, 1, 1, 1, 0, 1, 1, 0, 1, 1, 0, 1, 1, 0, 1, 1, 0, 1, 1, 1, 1, 1, 1, 1, 1, 1, 0, 1, 1, 1, 1, 1, 1, 1, 0, 0, 1, 0, 0, 0, 1, 1, 0, 1, 0, 1, 3, 0, 1, 1, 1, 1, 1, 1, 1, 0, 1, 1, 1, 1, 1, 0, 0, 1, 1, 1, 0, 1, 1, 1, 1, 1, 1, 1, 0, 1, 1, 0, 0, 0, 0, 1, 1, 1, 0, 0, 0, 1, 1, 1, 1, 1, 0, 1, 0, 1, 1, 1, 0, 1, 0, 1, 1, 1, 1, 1, 1, 1, 1, 1, 1, 1, 1, 1, 0, 1, 0, 1, 1, 1, 0, 0, 1, 0, 1, 1, 1, 1, 1, 0, 1, 1, 1, 1, 1, 0, 1, 0, 0, 1, 0, 1, 1, 1, 1, 1, 1], \"colorbar\": {\"titleside\": \"right\", \"title\": \"\", \"xanchor\": \"left\", \"thickness\": 15}}, \"y\": [23.511350781712014, 13.682171823284031, 21.9614949827932, 16.678399283326424, 21.32277923138798, 24.523596583004885, 21.1234302883608, 17.347653024193317, 19.565545795476, 21.72493113956793, 17.903783077932047, 14.723370676686015, 15.828362727646057, 13.880011034251341, 18.740033298134513, 20.752200827459543, 21.621054958225788, 22.173012221957887, 20.43968106318603, 20.221982900095632, 19.128537172554875, 21.366730828241682, 20.731208327312252, 17.900925919602162, 21.339818981480747, 19.090615747944213, 13.489550636378056, 23.03248007247587, 18.20723771351856, 18.667456380416407, 14.359347566187658, 20.815107331999823, 21.48888986020604, 13.326895684065411, 21.88172971181922, 20.00414689876472, 13.594778758250092, 16.190377164988895, 22.22966651010958, 22.41278980421849, 21.792200991998797, 16.652044531974692, 20.15381998481574, 20.311362961497515, 18.694375092233436, 24.381654675868525, 13.406803583378514, 20.858640990884304, 22.052657171590635, 20.369869157186322, 21.091249032371852, 12.634582622674323, 18.06846775961994, 13.343149698139895, 20.824710298876187, 12.42254211584126, 20.42653191608568, 22.01548801480612, 17.898904772306505, 25.792349324258, 13.98825681931959, 20.519633212486255, 19.624642271113515, 15.004687954829317, 12.6197369165944, 19.971822262725137, 21.526061738550137, 13.180947630767221, 15.241339929201953, 22.323891335250945, 20.943028751942535, 23.422168336300224, 20.446227226217555, 21.995363443026463, 20.929101940708783, 14.537128600819543, 13.87370946702034, 12.238534377286223, 18.488429619802535, 11.961946347787869, 17.50590598550164, 21.033890967174504, 17.239596798033094, 20.35065703675912, 17.55302531932343, 18.92772968732724, 15.189864370818551, 19.14149122681906, 19.92320307519968, 21.876050068264206, 22.55265933595852, 22.701920767788163, 19.080863426314938, 19.70968323427432, 21.052187341494502, 19.29060423218079, 19.63101236622079, 25.71094912693479, 21.396105270096907, 16.05254792635598, 19.742127029568135, 15.71948327575617, 24.032499863673273, 12.824026720948323, 14.93515977310673, 13.617506805280312, 16.94465550182758, 21.910867822678476, 17.589690474392604, 20.469607616408755, 20.217135258366874, 13.167039122644805, 14.116563679509301, 13.737260132183534, 20.50506469374403, 20.77588764099713, 26.184647635585637, 19.324611435865272, 24.440457183874862, 14.300590739520784, 26.321057245111167, 24.189137248261808, 21.09066706630328, 20.36576649576142, 13.831379527280129, 22.212152083511462, 22.47767071441628, 25.522594430070836, 11.922964812624823, 19.6044514246644, 20.401750449215392, 23.654811469072257, 12.280087375733052, 23.094740292057637, 18.707322792195, 19.762632785571746, 14.349853673855897, 19.465977412591247, 21.38991608678275, 23.299629798486237, 22.679285575076463, 18.6555510556014, 14.052588038898007, 18.6772196523297, 19.76080027239755, 20.523847554406498, 21.850844621105583, 12.809697152722487, 12.592942074869844, 24.22476022160976, 21.951365898195558, 21.07416326794205, 21.454212393115643, 13.918473576630886, 20.122288006184224, 22.43415239791516, 23.42759014175165, 22.673929128949084, 21.33677004673493, 20.42458920482799, 13.40737124310082, 12.43642966938347, 25.28721818848291, 12.139443993354385, 19.566330422843407, 20.329212509114274, 21.622923707016, 23.990162409019344, 16.27108395019927, 15.323501465363748, 12.615237212467978, 17.114270986672878, 25.28266826000195, 21.209858966184818, 16.73569458910048, 13.171418506614845, 24.720580155078387, 23.16466309028817, 26.237524730304603, 15.398914607468845, 20.491665880790695, 13.937782411028664, 12.388715803443342, 22.05487676021708, 25.239521064691697, 18.483892921314833, 19.867140863497806, 16.459245976619137, 12.746076823662671, 19.390836062858266, 14.528967073400914, 12.010702243664854, 20.733964232542867, 19.80585907837482, 15.425834940679847, 21.37025806034987, 19.879722244960156, 19.700944560761023, 13.116750930492408, 12.94172248974204, 23.115006610849502, 12.493078510292026, 22.950125329389966, 23.15284384716926, 12.642694691310354, 14.221291596828324, 23.596121969629742, 22.39991748096667, 24.007938031916044, 19.971879414718284, 21.01436659376408, 21.53220459934256, 13.844328509198633, 20.687358998302738, 21.025645557579107, 21.085508206964032, 22.000730370684224, 14.184605048080831, 23.09455563508934, 20.24224676178515, 20.390716009399764, 15.899860088502546, 12.061235987796394, 20.79969237926028, 13.637157603037698, 13.055318791358825, 14.829031832203485, 13.117384168483431, 14.726888785306425, 17.282184837691222, 12.127161410271798, 20.945151973986814, 25.569479020139408, 22.5586678181517, 20.494921025806526, 24.044155734734847, 23.365997578228498, 21.45649671999348, 18.707558784445492, 19.085285869748297, 13.139941786307634, 21.578783076053774, 14.189823829652912, 13.324639635577109, 19.900818434305915, 19.464997279457236, 22.371393610371104, 26.053530164042687, 16.098146229260884, 19.886962274912875, 16.760373276774367, 12.889239374948156, 12.83296644193224, 17.758137808118644, 21.519701600461545, 21.86972207748751, 19.154410392274336, 13.68824090887644, 16.553054912084303, 12.582181253713543, 21.267662103421003, 21.55340460756357, 15.983076688771783, 13.47329359882845, 18.224889530040656, 19.318398618640618, 24.73162030680945, 22.96466467303902, 21.97460394894528, 14.501049453198563, 18.6935520818868, 17.61586869831081, 13.373204901803744, 19.955648967452934, 26.008936146912376, 14.501068749627716, 11.956331024135874, 12.271911467707557, 17.694796174436846, 25.94364112739702, 18.335260566523544, 11.902772732327653, 21.435441728777914, 21.914039008164817, 23.67530227963661, 23.71837686093763, 15.429524648393873, 24.600740149694694, 20.483709158436724, 13.791937632405219, 21.12541781408756, 14.782233388884098, 21.793632774845815, 18.197924148628765, 12.044580306346445, 19.938780945288702, 22.97893370367655, 21.797200858097636, 18.70206518528754, 19.446136122802898, 21.215455714750416, 17.181679127231373, 21.171344360383074, 25.013008606403165, 20.114788448159768, 21.47913495742209, 14.811120528398838, 13.580167625007862, 24.973653896023915, 23.02538460041186, 22.384709120747623, 19.008361465721478, 22.733989773796388, 21.57539053726569, 20.881168702489436, 18.236593206452522, 22.044399357519538, 20.53556028938958, 20.810603627916294, 18.49143379140355, 21.325945280292714, 18.380917228599227, 20.603582672482666]}], {\"showlegend\": false, \"yaxis\": {\"zeroline\": false, \"showgrid\": false, \"showticklabels\": false}, \"title\": \"\", \"hovermode\": \"closest\", \"xaxis\": {\"zeroline\": false, \"showgrid\": false, \"showticklabels\": false}, \"height\": 650, \"annotations\": [{\"showarrow\": false, \"x\": 0.005, \"text\": \"\", \"xref\": \"paper\", \"y\": -0.002, \"yref\": \"paper\"}], \"width\": 650, \"titlefont\": {\"size\": 16}, \"margin\": {\"t\": 40, \"b\": 20, \"l\": 5, \"r\": 5}}, {\"linkText\": \"Export to plot.ly\", \"showLink\": true})});</script>"
      ]
     },
     "metadata": {},
     "output_type": "display_data"
    }
   ],
   "source": [
    "iplot(fig)"
   ]
  },
  {
   "cell_type": "code",
   "execution_count": 37,
   "metadata": {
    "collapsed": true
   },
   "outputs": [],
   "source": [
    "graph_plot_url = plot(fig, filename='images/spec23_groupsGraph.html', auto_open=False,)\n",
    "graph_plot_url = graph_plot_url[7:]"
   ]
  },
  {
   "cell_type": "markdown",
   "metadata": {},
   "source": [
    "## Main Article"
   ]
  },
  {
   "cell_type": "code",
   "execution_count": null,
   "metadata": {
    "collapsed": true
   },
   "outputs": [],
   "source": [
    "orig_article_title = doc['title']\n",
    "orig_article_content = doc['summary']"
   ]
  },
  {
   "cell_type": "code",
   "execution_count": null,
   "metadata": {
    "collapsed": false
   },
   "outputs": [],
   "source": [
    "wil01 = word_info['l01']\n",
    "wil01.head()"
   ]
  },
  {
   "cell_type": "markdown",
   "metadata": {},
   "source": [
    "## Level 1 Information"
   ]
  },
  {
   "cell_type": "code",
   "execution_count": null,
   "metadata": {
    "collapsed": false
   },
   "outputs": [],
   "source": [
    "qwl01 = mysql_utils.query_idWordLookup(words['l01'])\n",
    "qwl01"
   ]
  },
  {
   "cell_type": "code",
   "execution_count": null,
   "metadata": {
    "collapsed": true
   },
   "outputs": [],
   "source": [
    "nl01_docs = len(docs['l01'])"
   ]
  },
  {
   "cell_type": "code",
   "execution_count": null,
   "metadata": {
    "collapsed": false
   },
   "outputs": [],
   "source": [
    "wil02 = word_info['l02']\n",
    "wil02.head()"
   ]
  },
  {
   "cell_type": "code",
   "execution_count": null,
   "metadata": {
    "collapsed": false
   },
   "outputs": [],
   "source": [
    "set(bow.keys()).intersection(set([words_all]))"
   ]
  },
  {
   "cell_type": "code",
   "execution_count": null,
   "metadata": {
    "collapsed": false
   },
   "outputs": [],
   "source": [
    "set(bow.keys()).intersection(words_all)"
   ]
  },
  {
   "cell_type": "markdown",
   "metadata": {},
   "source": [
    "## Generate HTML as String and Write to File"
   ]
  },
  {
   "cell_type": "code",
   "execution_count": 38,
   "metadata": {
    "collapsed": true
   },
   "outputs": [],
   "source": [
    "html_string = '''\n",
    "<html>\n",
    "    <head>\n",
    "        <link rel=\"stylesheet\" href=\"https://maxcdn.bootstrapcdn.com/bootstrap/3.3.1/css/bootstrap.min.css\">\n",
    "        <style>body{ margin:0 100; background:whitesmoke; }</style>\n",
    "    </head>\n",
    "    <body>\n",
    "        <h1>Comparison of JMS and Spectral Graph Methods</h1>\n",
    "        \n",
    "        <!-- *** Section 1 *** --->\n",
    "        <h2>Section 1: Document Overview</h2>\n",
    "        \n",
    "            \n",
    "            <h4>Document Source:</h4>\n",
    "                <a href=\"''' + url + '''\">Link</a>\n",
    "            <h4>Document Title:</h4>\n",
    "                <p><b>''' + doc['title'] + '''</b></p>\n",
    "            <h4>Document Content:</h4>\n",
    "                <p>\"''' + doc['summary'] + '''\"</p>\n",
    "\n",
    "        <!-- *** Section 3 *** --->\n",
    "        <h2>Section 3: \"Top Docs\" Review</h2>\n",
    "        \n",
    "                \n",
    "            <table width=\"100%\">\n",
    "                <tr>\n",
    "                    <td width=\"50%\"><h3>JMS Top Docs:</h3></td>\n",
    "                    <td width=\"47%\"><h3>Spectral Cluster Top Docs:</h3></td>\n",
    "                </tr>\n",
    "            </table>\n",
    "\n",
    "\n",
    "            <iframe style=\"padding:40px\" width=\"47%\" height=\"480\" frameborder=\"0\" seamless=\"seamless\" scrolling=\"yes\" align=\"left\"\\\n",
    "    src=\"''' + jms_dt_url + '''\"></iframe>\n",
    "\n",
    "            <iframe style=\"padding:40px\" width=\"47%\" height=\"480\" frameborder=\"0\" seamless=\"seamless\" scrolling=\"yes\" align=\"right\"\\\n",
    "    src=\"''' + spec_dt_url + '''\"></iframe>\n",
    "    \n",
    "            <h3>Spectral23 Communities Graph</h3>\n",
    "    \n",
    "            <iframe style=\"padding:40px\" width=\"1000\" height=\"1000\" frameborder=\"0\" seamless=\"seamless\" scrolling=\"no\"\\\n",
    "    src=\"''' + graph_plot_url + '''\"></iframe>\n",
    "\n",
    "\n",
    "    \n",
    "    </body>\n",
    "</html>'''"
   ]
  },
  {
   "cell_type": "code",
   "execution_count": 39,
   "metadata": {
    "collapsed": false
   },
   "outputs": [],
   "source": [
    "f = open(os.path.join(main_repo_dir,'reports/dashboards/MethCompare.html'),'w')\n",
    "f.write(html_string)\n",
    "f.close()"
   ]
  },
  {
   "cell_type": "code",
   "execution_count": null,
   "metadata": {
    "collapsed": true
   },
   "outputs": [],
   "source": []
  }
 ],
 "metadata": {
  "kernelspec": {
   "display_name": "rss (P3)",
   "language": "python",
   "name": "rss_p3"
  },
  "language_info": {
   "codemirror_mode": {
    "name": "ipython",
    "version": 3
   },
   "file_extension": ".py",
   "mimetype": "text/x-python",
   "name": "python",
   "nbconvert_exporter": "python",
   "pygments_lexer": "ipython3",
   "version": "3.5.2"
  }
 },
 "nbformat": 4,
 "nbformat_minor": 2
}
