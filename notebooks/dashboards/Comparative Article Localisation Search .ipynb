{
 "cells": [
  {
   "cell_type": "code",
   "execution_count": 1,
   "metadata": {
    "collapsed": true
   },
   "outputs": [],
   "source": [
    "import sys\n",
    "import os"
   ]
  },
  {
   "cell_type": "code",
   "execution_count": 2,
   "metadata": {
    "collapsed": true
   },
   "outputs": [],
   "source": [
    "from importlib import reload"
   ]
  },
  {
   "cell_type": "code",
   "execution_count": 3,
   "metadata": {
    "collapsed": true
   },
   "outputs": [],
   "source": [
    "sys.path.append(os.path.join(os.path.abspath(os.path.join('../..')), 'src'))"
   ]
  },
  {
   "cell_type": "code",
   "execution_count": 4,
   "metadata": {
    "collapsed": false
   },
   "outputs": [
    {
     "data": {
      "text/html": [
       "<script>requirejs.config({paths: { 'plotly': ['https://cdn.plot.ly/plotly-latest.min']},});if(!window.Plotly) {{require(['plotly'],function(plotly) {window.Plotly=plotly;});}}</script>"
      ],
      "text/plain": [
       "<IPython.core.display.HTML object>"
      ]
     },
     "metadata": {},
     "output_type": "display_data"
    }
   ],
   "source": [
    "import plotly as py\n",
    "from plotly.offline import download_plotlyjs, init_notebook_mode, plot, iplot\n",
    "from plotly import figure_factory as FF\n",
    "import plotly.graph_objs as pogo\n",
    "from plotly.graph_objs import Marker, Line, Data\n",
    "\n",
    "init_notebook_mode(connected=True)"
   ]
  },
  {
   "cell_type": "code",
   "execution_count": 5,
   "metadata": {
    "collapsed": true
   },
   "outputs": [],
   "source": [
    "from IPython.display import display, HTML"
   ]
  },
  {
   "cell_type": "code",
   "execution_count": 6,
   "metadata": {
    "collapsed": true
   },
   "outputs": [],
   "source": [
    "main_repo_dir = os.path.abspath(os.path.join('../..'))\n",
    "sys.path.append(os.path.join(main_repo_dir, 'src'))"
   ]
  },
  {
   "cell_type": "code",
   "execution_count": 7,
   "metadata": {
    "collapsed": true
   },
   "outputs": [],
   "source": [
    "import numpy\n",
    "import scipy\n",
    "import pandas"
   ]
  },
  {
   "cell_type": "code",
   "execution_count": 8,
   "metadata": {
    "collapsed": true
   },
   "outputs": [],
   "source": [
    "import mysql_utils\n",
    "import build_local_collection\n",
    "import find_best_related_docs\n",
    "import graph_plot_utils"
   ]
  },
  {
   "cell_type": "code",
   "execution_count": 9,
   "metadata": {
    "collapsed": false
   },
   "outputs": [
    {
     "data": {
      "text/plain": [
       "<module 'build_local_collection' from '/home/immersinn/gits/rssfeed_link_collector/src/build_local_collection.py'>"
      ]
     },
     "execution_count": 9,
     "metadata": {},
     "output_type": "execute_result"
    }
   ],
   "source": [
    "reload(build_local_collection)"
   ]
  },
  {
   "cell_type": "code",
   "execution_count": 10,
   "metadata": {
    "collapsed": false
   },
   "outputs": [
    {
     "data": {
      "text/plain": [
       "<module 'find_best_related_docs' from '/home/immersinn/gits/rssfeed_link_collector/src/find_best_related_docs.py'>"
      ]
     },
     "execution_count": 10,
     "metadata": {},
     "output_type": "execute_result"
    }
   ],
   "source": [
    "reload(find_best_related_docs)"
   ]
  },
  {
   "cell_type": "markdown",
   "metadata": {},
   "source": [
    "## Get the Data, Run the Process"
   ]
  },
  {
   "cell_type": "code",
   "execution_count": 11,
   "metadata": {
    "collapsed": true
   },
   "outputs": [],
   "source": [
    "url = \"http://www.cnn.com/2017/02/23/politics/fbi-refused-white-house-request-to-knock-down-recent-trump-russia-stories/index.html\""
   ]
  },
  {
   "cell_type": "code",
   "execution_count": 12,
   "metadata": {
    "collapsed": false
   },
   "outputs": [],
   "source": [
    "doc = {\"title\" : \"FBI refused White House request to knock down recent Trump-Russia stories\",\n",
    "       \"summary\" : (\"Washington (CNN) The FBI rejected a recent White House request to publicly knock \" \n",
    "       \"down media reports about communications between Donald Trump's associates and Russians known \"\n",
    "       \"to US intelligence during the 2016 presidential campaign, multiple US officials briefed on the \"\n",
    "       \"matter tell CNN.\")}"
   ]
  },
  {
   "cell_type": "code",
   "execution_count": 13,
   "metadata": {
    "collapsed": false
   },
   "outputs": [
    {
     "name": "stdout",
     "output_type": "stream",
     "text": [
      "Init-ing tools...\n",
      "Starting Level 0...\n",
      "Starting Level 1...\n",
      "Starting Level 2...\n",
      "Collecting data, getting BOWs and finishing up...\n"
     ]
    }
   ],
   "source": [
    "docs, words, word_info, bow = build_local_collection.get_localWordsAndDocs(doc, \n",
    "                                                                           l01_ndoc_cutoff=50,\n",
    "                                                                           l02_restrict={'n_docs_bg': {\n",
    "                                                                                                      'max' : 50\n",
    "                                                                                                      },\n",
    "                                                                                        'n_docs_qw' : {\n",
    "                                                                                                       'min' : 3\n",
    "                                                                                                       },\n",
    "                                                                                        'ratio' : 10\n",
    "                                                                                        },\n",
    "                                                                           verbose=True)"
   ]
  },
  {
   "cell_type": "code",
   "execution_count": 14,
   "metadata": {
    "collapsed": false
   },
   "outputs": [
    {
     "data": {
      "text/plain": [
       "97"
      ]
     },
     "execution_count": 14,
     "metadata": {},
     "output_type": "execute_result"
    }
   ],
   "source": [
    "len(docs['l01'])"
   ]
  },
  {
   "cell_type": "code",
   "execution_count": 15,
   "metadata": {
    "collapsed": false
   },
   "outputs": [
    {
     "data": {
      "text/plain": [
       "225"
      ]
     },
     "execution_count": 15,
     "metadata": {},
     "output_type": "execute_result"
    }
   ],
   "source": [
    "len(docs['l02'])"
   ]
  },
  {
   "cell_type": "code",
   "execution_count": 16,
   "metadata": {
    "collapsed": false
   },
   "outputs": [
    {
     "name": "stdout",
     "output_type": "stream",
     "text": [
      "Collecting words and creating BOWS...\n",
      "Calculating scores ...\n",
      "Finding best docs...\n",
      "\tJMS Method...\n",
      "\tSpectral Method...\n"
     ]
    }
   ],
   "source": [
    "results = find_best_related_docs.compare_methods(docs, words, bow, \n",
    "                                                 L=1.1, cutoff=0.029, min_grp_size=10,\n",
    "                                                 use_orig_bow_words=True,\n",
    "                                                 verbose=True)"
   ]
  },
  {
   "cell_type": "markdown",
   "metadata": {},
   "source": [
    "## Formatting Tools"
   ]
  },
  {
   "cell_type": "code",
   "execution_count": 17,
   "metadata": {
    "collapsed": false
   },
   "outputs": [],
   "source": [
    "def format_title(title, max_len):\n",
    "    if len(title) > max_len:\n",
    "        return(title[:max_len] + \"...\")\n",
    "    else:\n",
    "        return(title)\n",
    "\n",
    "ft = lambda tit: format_title(tit, 80)\n",
    "fs = lambda val: \"{:.3f}\".format(val)"
   ]
  },
  {
   "cell_type": "code",
   "execution_count": 18,
   "metadata": {
    "collapsed": true
   },
   "outputs": [],
   "source": [
    "def adjust_column_widths(ff_table, n_cols=2, new_xs=[1.]):\n",
    "    for i,entry in enumerate(ff_table['layout']['annotations']):\n",
    "        if i % n_cols!=0:\n",
    "            entry['x'] = new_xs[(i % n_cols)-1]"
   ]
  },
  {
   "cell_type": "code",
   "execution_count": 19,
   "metadata": {
    "collapsed": true
   },
   "outputs": [],
   "source": [
    "def score_table_prep(df, filename):\n",
    "    \n",
    "    df['Title'] = df.title.apply(ft)\n",
    "    df['Score'] = df.score.apply(fs)\n",
    "\n",
    "    table = FF.create_table(df[['Title', 'Score']])\n",
    "    adjust_column_widths(table)\n",
    "\n",
    "    url = plot(table, filename=filename, auto_open=False)\n",
    "    url = url[7:]\n",
    "    \n",
    "    return(url)"
   ]
  },
  {
   "cell_type": "markdown",
   "metadata": {},
   "source": [
    "# Content Format"
   ]
  },
  {
   "cell_type": "markdown",
   "metadata": {},
   "source": [
    "## Section 3: Results"
   ]
  },
  {
   "cell_type": "markdown",
   "metadata": {},
   "source": [
    "### JW Smoothing Results"
   ]
  },
  {
   "cell_type": "code",
   "execution_count": 20,
   "metadata": {
    "collapsed": false
   },
   "outputs": [],
   "source": [
    "jms_docs = results['jms_score']['docs_info']"
   ]
  },
  {
   "cell_type": "code",
   "execution_count": 21,
   "metadata": {
    "collapsed": false
   },
   "outputs": [
    {
     "data": {
      "text/plain": [
       "(223, 5)"
      ]
     },
     "execution_count": 21,
     "metadata": {},
     "output_type": "execute_result"
    }
   ],
   "source": [
    "jms_docs.shape"
   ]
  },
  {
   "cell_type": "code",
   "execution_count": 22,
   "metadata": {
    "collapsed": false
   },
   "outputs": [
    {
     "name": "stdout",
     "output_type": "stream",
     "text": [
      "Nbr of docs in top 5 not from 1st wave: 1\n",
      "Nbr of docs in top 10 not from 1st wave: 1\n",
      "Nbr of docs in top 15 not from 1st wave: 2\n",
      "Nbr of docs in top 25 not from 1st wave: 5\n",
      "Nbr of docs in top 50 not from 1st wave: 18\n"
     ]
    }
   ],
   "source": [
    "for limit in [5, 10, 15, 25, 50]:\n",
    "    jms_oo1 = sum([i not in docs['l01'] for i in jms_docs.index[:limit]])\n",
    "    print(\"Nbr of docs in top {} not from 1st wave: {}\".format(limit, jms_oo1))"
   ]
  },
  {
   "cell_type": "code",
   "execution_count": 23,
   "metadata": {
    "collapsed": false
   },
   "outputs": [
    {
     "data": {
      "text/html": [
       "<div>\n",
       "<table border=\"1\" class=\"dataframe\">\n",
       "  <thead>\n",
       "    <tr style=\"text-align: right;\">\n",
       "      <th></th>\n",
       "      <th>title</th>\n",
       "      <th>summary</th>\n",
       "      <th>score</th>\n",
       "    </tr>\n",
       "    <tr>\n",
       "      <th>id</th>\n",
       "      <th></th>\n",
       "      <th></th>\n",
       "      <th></th>\n",
       "    </tr>\n",
       "  </thead>\n",
       "  <tbody>\n",
       "    <tr>\n",
       "      <th>36469</th>\n",
       "      <td>FBI refused White House request to knock down ...</td>\n",
       "      <td>The FBI rejected a recent White House request ...</td>\n",
       "      <td>1.000000</td>\n",
       "    </tr>\n",
       "    <tr>\n",
       "      <th>15773</th>\n",
       "      <td>Trump aides spoke regularly to Russian officia...</td>\n",
       "      <td>High-level advisers close to then-presidential...</td>\n",
       "      <td>0.326538</td>\n",
       "    </tr>\n",
       "    <tr>\n",
       "      <th>966</th>\n",
       "      <td>Donald Trump Denounces ‘Un-American’ Intellige...</td>\n",
       "      <td>&lt;a href=\"http://www.breitbart.com/big-governme...</td>\n",
       "      <td>0.319277</td>\n",
       "    </tr>\n",
       "    <tr>\n",
       "      <th>15552</th>\n",
       "      <td>US officials corroborate aspects of Russia dos...</td>\n",
       "      <td>For the first time, US investigators say they ...</td>\n",
       "      <td>0.318796</td>\n",
       "    </tr>\n",
       "    <tr>\n",
       "      <th>15698</th>\n",
       "      <td>White House was warned Flynn could be blackmai...</td>\n",
       "      <td>The Justice Department warned the Trump admini...</td>\n",
       "      <td>0.256764</td>\n",
       "    </tr>\n",
       "    <tr>\n",
       "      <th>15880</th>\n",
       "      <td>Former Clinton aides apoplectic over Trump cam...</td>\n",
       "      <td>Hillary Clinton's former campaign aides are ap...</td>\n",
       "      <td>0.256621</td>\n",
       "    </tr>\n",
       "    <tr>\n",
       "      <th>672</th>\n",
       "      <td>CNN’s Acosta: Trump Only Calling on Conservati...</td>\n",
       "      <td>&lt;a href=\"http://www.breitbart.com/video/2017/0...</td>\n",
       "      <td>0.245172</td>\n",
       "    </tr>\n",
       "    <tr>\n",
       "      <th>8145</th>\n",
       "      <td>Dems see disparity in handling of Clinton, Rus...</td>\n",
       "      <td>WASHINGTON        (AP) -- Democrats are critic...</td>\n",
       "      <td>0.227264</td>\n",
       "    </tr>\n",
       "    <tr>\n",
       "      <th>115</th>\n",
       "      <td>Maxine Waters: Trump’s Administration, Associa...</td>\n",
       "      <td>&lt;a href=\"http://www.breitbart.com/video/2017/0...</td>\n",
       "      <td>0.218727</td>\n",
       "    </tr>\n",
       "    <tr>\n",
       "      <th>274</th>\n",
       "      <td>KLEIN – Trump-Russia Claims Rethought: How the...</td>\n",
       "      <td>&lt;a href=\"http://www.breitbart.com/jerusalem/20...</td>\n",
       "      <td>0.204384</td>\n",
       "    </tr>\n",
       "  </tbody>\n",
       "</table>\n",
       "</div>"
      ],
      "text/plain": [
       "                                                   title  \\\n",
       "id                                                         \n",
       "36469  FBI refused White House request to knock down ...   \n",
       "15773  Trump aides spoke regularly to Russian officia...   \n",
       "966    Donald Trump Denounces ‘Un-American’ Intellige...   \n",
       "15552  US officials corroborate aspects of Russia dos...   \n",
       "15698  White House was warned Flynn could be blackmai...   \n",
       "15880  Former Clinton aides apoplectic over Trump cam...   \n",
       "672    CNN’s Acosta: Trump Only Calling on Conservati...   \n",
       "8145   Dems see disparity in handling of Clinton, Rus...   \n",
       "115    Maxine Waters: Trump’s Administration, Associa...   \n",
       "274    KLEIN – Trump-Russia Claims Rethought: How the...   \n",
       "\n",
       "                                                 summary     score  \n",
       "id                                                                  \n",
       "36469  The FBI rejected a recent White House request ...  1.000000  \n",
       "15773  High-level advisers close to then-presidential...  0.326538  \n",
       "966    <a href=\"http://www.breitbart.com/big-governme...  0.319277  \n",
       "15552  For the first time, US investigators say they ...  0.318796  \n",
       "15698  The Justice Department warned the Trump admini...  0.256764  \n",
       "15880  Hillary Clinton's former campaign aides are ap...  0.256621  \n",
       "672    <a href=\"http://www.breitbart.com/video/2017/0...  0.245172  \n",
       "8145   WASHINGTON        (AP) -- Democrats are critic...  0.227264  \n",
       "115    <a href=\"http://www.breitbart.com/video/2017/0...  0.218727  \n",
       "274    <a href=\"http://www.breitbart.com/jerusalem/20...  0.204384  "
      ]
     },
     "execution_count": 23,
     "metadata": {},
     "output_type": "execute_result"
    }
   ],
   "source": [
    "jms_docs[['title', 'summary', 'score']].head(10)"
   ]
  },
  {
   "cell_type": "code",
   "execution_count": 24,
   "metadata": {
    "collapsed": false
   },
   "outputs": [],
   "source": [
    "jms_dt_url = score_table_prep(jms_docs, filename=\"images/jms_docs_table.html\")"
   ]
  },
  {
   "cell_type": "markdown",
   "metadata": {},
   "source": [
    "### Spectral Results"
   ]
  },
  {
   "cell_type": "code",
   "execution_count": 25,
   "metadata": {
    "collapsed": false
   },
   "outputs": [],
   "source": [
    "spec_docs = results['spectral']['docs_info']\n",
    "spec_out = results['spectral']['cluster_info']\n",
    "ig = results['spectral']['igraph']"
   ]
  },
  {
   "cell_type": "code",
   "execution_count": 26,
   "metadata": {
    "collapsed": false
   },
   "outputs": [
    {
     "data": {
      "text/plain": [
       "(109, 5)"
      ]
     },
     "execution_count": 26,
     "metadata": {},
     "output_type": "execute_result"
    }
   ],
   "source": [
    "spec_docs.shape"
   ]
  },
  {
   "cell_type": "code",
   "execution_count": 27,
   "metadata": {
    "collapsed": false
   },
   "outputs": [
    {
     "name": "stdout",
     "output_type": "stream",
     "text": [
      "Nbr of docs in top 5 not from 1st wave: 1\n",
      "Nbr of docs in top 10 not from 1st wave: 1\n",
      "Nbr of docs in top 15 not from 1st wave: 2\n",
      "Nbr of docs in top 25 not from 1st wave: 5\n",
      "Nbr of docs in top 50 not from 1st wave: 19\n"
     ]
    }
   ],
   "source": [
    "for limit in [5, 10, 15, 25, 50]:\n",
    "    spec_oo1 = sum([i not in docs['l01'] for i in spec_docs.index[:limit]])\n",
    "    print(\"Nbr of docs in top {} not from 1st wave: {}\".format(limit, spec_oo1))"
   ]
  },
  {
   "cell_type": "code",
   "execution_count": 28,
   "metadata": {
    "collapsed": false
   },
   "outputs": [
    {
     "data": {
      "text/html": [
       "<div>\n",
       "<table border=\"1\" class=\"dataframe\">\n",
       "  <thead>\n",
       "    <tr style=\"text-align: right;\">\n",
       "      <th></th>\n",
       "      <th>title</th>\n",
       "      <th>summary</th>\n",
       "      <th>score</th>\n",
       "    </tr>\n",
       "    <tr>\n",
       "      <th>id</th>\n",
       "      <th></th>\n",
       "      <th></th>\n",
       "      <th></th>\n",
       "    </tr>\n",
       "  </thead>\n",
       "  <tbody>\n",
       "    <tr>\n",
       "      <th>36469</th>\n",
       "      <td>FBI refused White House request to knock down ...</td>\n",
       "      <td>The FBI rejected a recent White House request ...</td>\n",
       "      <td>1.000000</td>\n",
       "    </tr>\n",
       "    <tr>\n",
       "      <th>15773</th>\n",
       "      <td>Trump aides spoke regularly to Russian officia...</td>\n",
       "      <td>High-level advisers close to then-presidential...</td>\n",
       "      <td>0.326538</td>\n",
       "    </tr>\n",
       "    <tr>\n",
       "      <th>966</th>\n",
       "      <td>Donald Trump Denounces ‘Un-American’ Intellige...</td>\n",
       "      <td>&lt;a href=\"http://www.breitbart.com/big-governme...</td>\n",
       "      <td>0.319277</td>\n",
       "    </tr>\n",
       "    <tr>\n",
       "      <th>15552</th>\n",
       "      <td>US officials corroborate aspects of Russia dos...</td>\n",
       "      <td>For the first time, US investigators say they ...</td>\n",
       "      <td>0.318796</td>\n",
       "    </tr>\n",
       "    <tr>\n",
       "      <th>15698</th>\n",
       "      <td>White House was warned Flynn could be blackmai...</td>\n",
       "      <td>The Justice Department warned the Trump admini...</td>\n",
       "      <td>0.256764</td>\n",
       "    </tr>\n",
       "    <tr>\n",
       "      <th>15880</th>\n",
       "      <td>Former Clinton aides apoplectic over Trump cam...</td>\n",
       "      <td>Hillary Clinton's former campaign aides are ap...</td>\n",
       "      <td>0.256621</td>\n",
       "    </tr>\n",
       "    <tr>\n",
       "      <th>672</th>\n",
       "      <td>CNN’s Acosta: Trump Only Calling on Conservati...</td>\n",
       "      <td>&lt;a href=\"http://www.breitbart.com/video/2017/0...</td>\n",
       "      <td>0.245172</td>\n",
       "    </tr>\n",
       "    <tr>\n",
       "      <th>8145</th>\n",
       "      <td>Dems see disparity in handling of Clinton, Rus...</td>\n",
       "      <td>WASHINGTON        (AP) -- Democrats are critic...</td>\n",
       "      <td>0.227264</td>\n",
       "    </tr>\n",
       "    <tr>\n",
       "      <th>115</th>\n",
       "      <td>Maxine Waters: Trump’s Administration, Associa...</td>\n",
       "      <td>&lt;a href=\"http://www.breitbart.com/video/2017/0...</td>\n",
       "      <td>0.218727</td>\n",
       "    </tr>\n",
       "    <tr>\n",
       "      <th>274</th>\n",
       "      <td>KLEIN – Trump-Russia Claims Rethought: How the...</td>\n",
       "      <td>&lt;a href=\"http://www.breitbart.com/jerusalem/20...</td>\n",
       "      <td>0.204384</td>\n",
       "    </tr>\n",
       "  </tbody>\n",
       "</table>\n",
       "</div>"
      ],
      "text/plain": [
       "                                                   title  \\\n",
       "id                                                         \n",
       "36469  FBI refused White House request to knock down ...   \n",
       "15773  Trump aides spoke regularly to Russian officia...   \n",
       "966    Donald Trump Denounces ‘Un-American’ Intellige...   \n",
       "15552  US officials corroborate aspects of Russia dos...   \n",
       "15698  White House was warned Flynn could be blackmai...   \n",
       "15880  Former Clinton aides apoplectic over Trump cam...   \n",
       "672    CNN’s Acosta: Trump Only Calling on Conservati...   \n",
       "8145   Dems see disparity in handling of Clinton, Rus...   \n",
       "115    Maxine Waters: Trump’s Administration, Associa...   \n",
       "274    KLEIN – Trump-Russia Claims Rethought: How the...   \n",
       "\n",
       "                                                 summary     score  \n",
       "id                                                                  \n",
       "36469  The FBI rejected a recent White House request ...  1.000000  \n",
       "15773  High-level advisers close to then-presidential...  0.326538  \n",
       "966    <a href=\"http://www.breitbart.com/big-governme...  0.319277  \n",
       "15552  For the first time, US investigators say they ...  0.318796  \n",
       "15698  The Justice Department warned the Trump admini...  0.256764  \n",
       "15880  Hillary Clinton's former campaign aides are ap...  0.256621  \n",
       "672    <a href=\"http://www.breitbart.com/video/2017/0...  0.245172  \n",
       "8145   WASHINGTON        (AP) -- Democrats are critic...  0.227264  \n",
       "115    <a href=\"http://www.breitbart.com/video/2017/0...  0.218727  \n",
       "274    <a href=\"http://www.breitbart.com/jerusalem/20...  0.204384  "
      ]
     },
     "execution_count": 28,
     "metadata": {},
     "output_type": "execute_result"
    }
   ],
   "source": [
    "spec_docs[['title', 'summary', 'score']].head(10)"
   ]
  },
  {
   "cell_type": "code",
   "execution_count": 29,
   "metadata": {
    "collapsed": false
   },
   "outputs": [],
   "source": [
    "spec_dt_url = score_table_prep(spec_docs, filename=\"images/spec_docs_table.html\")"
   ]
  },
  {
   "cell_type": "code",
   "execution_count": 30,
   "metadata": {
    "collapsed": false
   },
   "outputs": [
    {
     "data": {
      "text/plain": [
       "igraph.Vertex(<igraph.Graph object at 0x7f599987f4f8>, 0, {'name': '0', 'label': 'Winners: Tom Brady’s Donald Trump Friendship in Spotlight as Super Bowl Looms', 'group': 0})"
      ]
     },
     "execution_count": 30,
     "metadata": {},
     "output_type": "execute_result"
    }
   ],
   "source": [
    "ig.vs[0]"
   ]
  },
  {
   "cell_type": "code",
   "execution_count": 31,
   "metadata": {
    "collapsed": false
   },
   "outputs": [
    {
     "data": {
      "text/plain": [
       "<module 'graph_plot_utils' from '/home/immersinn/gits/rssfeed_link_collector/src/graph_plot_utils.py'>"
      ]
     },
     "execution_count": 31,
     "metadata": {},
     "output_type": "execute_result"
    }
   ],
   "source": [
    "reload(graph_plot_utils)"
   ]
  },
  {
   "cell_type": "code",
   "execution_count": 32,
   "metadata": {
    "collapsed": false
   },
   "outputs": [],
   "source": [
    "fig = graph_plot_utils.create_graph_fig(ig, show_groups=True)"
   ]
  },
  {
   "cell_type": "code",
   "execution_count": 33,
   "metadata": {
    "collapsed": false
   },
   "outputs": [
    {
     "data": {
      "application/vnd.plotly.v1+json": {
       "data": [
        {
         "hoverinfo": "none",
         "line": {
          "color": "#888",
          "width": 1.115282557992097
         },
         "mode": "lines",
         "type": "scatter",
         "x": [
          -7.421418756846107,
          -7.6285249237951955
         ],
         "y": [
          -3.72204827696227,
          -2.8322557421384027
         ]
        },
        {
         "hoverinfo": "none",
         "line": {
          "color": "#888",
          "width": 1.2440474851518823
         },
         "mode": "lines",
         "type": "scatter",
         "x": [
          -12.358110398384234,
          -12.416271014206234
         ],
         "y": [
          2.7597529883141663,
          2.0041417027951165
         ]
        },
        {
         "hoverinfo": "none",
         "line": {
          "color": "#888",
          "width": 1.1005697410928188
         },
         "mode": "lines",
         "type": "scatter",
         "x": [
          -12.358110398384234,
          -13.135557863345687
         ],
         "y": [
          2.7597529883141663,
          1.9936568055327668
         ]
        },
        {
         "hoverinfo": "none",
         "line": {
          "color": "#888",
          "width": 2.57796079280327
         },
         "mode": "lines",
         "type": "scatter",
         "x": [
          -13.875537710711491,
          -13.527157887205975
         ],
         "y": [
          -5.32928344518222,
          -5.464656038819423
         ]
        },
        {
         "hoverinfo": "none",
         "line": {
          "color": "#888",
          "width": 1.688432886253182
         },
         "mode": "lines",
         "type": "scatter",
         "x": [
          -13.875537710711491,
          -14.871497661265048
         ],
         "y": [
          -5.32928344518222,
          -4.4476025797803
         ]
        },
        {
         "hoverinfo": "none",
         "line": {
          "color": "#888",
          "width": 1.2257949000301616
         },
         "mode": "lines",
         "type": "scatter",
         "x": [
          -13.875537710711491,
          -14.954468630341605
         ],
         "y": [
          -5.32928344518222,
          -6.0025936578907055
         ]
        },
        {
         "hoverinfo": "none",
         "line": {
          "color": "#888",
          "width": 1.0391568865601106
         },
         "mode": "lines",
         "type": "scatter",
         "x": [
          -13.875537710711491,
          -14.362059659931681
         ],
         "y": [
          -5.32928344518222,
          -4.997657926517953
         ]
        },
        {
         "hoverinfo": "none",
         "line": {
          "color": "#888",
          "width": 2.2116175509868015
         },
         "mode": "lines",
         "type": "scatter",
         "x": [
          -13.875537710711491,
          -13.707209565894951
         ],
         "y": [
          -5.32928344518222,
          -5.531850608732078
         ]
        },
        {
         "hoverinfo": "none",
         "line": {
          "color": "#888",
          "width": 1.0146110052408288
         },
         "mode": "lines",
         "type": "scatter",
         "x": [
          -13.875537710711491,
          -15.190594501558186
         ],
         "y": [
          -5.32928344518222,
          -4.907635561614265
         ]
        },
        {
         "hoverinfo": "none",
         "line": {
          "color": "#888",
          "width": 1.0658626000410127
         },
         "mode": "lines",
         "type": "scatter",
         "x": [
          -13.875537710711491,
          -13.24315673940496
         ],
         "y": [
          -5.32928344518222,
          -6.689195662075548
         ]
        },
        {
         "hoverinfo": "none",
         "line": {
          "color": "#888",
          "width": 1.9540570469077267
         },
         "mode": "lines",
         "type": "scatter",
         "x": [
          -13.875537710711491,
          -13.611430736159944
         ],
         "y": [
          -5.32928344518222,
          -5.876190550342591
         ]
        },
        {
         "hoverinfo": "none",
         "line": {
          "color": "#888",
          "width": 2.5970015432787803
         },
         "mode": "lines",
         "type": "scatter",
         "x": [
          -13.875537710711491,
          -14.371871984258576
         ],
         "y": [
          -5.32928344518222,
          -5.309789890205194
         ]
        },
        {
         "hoverinfo": "none",
         "line": {
          "color": "#888",
          "width": 1.0701516595661367
         },
         "mode": "lines",
         "type": "scatter",
         "x": [
          -13.875537710711491,
          -14.189771826738772
         ],
         "y": [
          -5.32928344518222,
          -5.87173038695074
         ]
        },
        {
         "hoverinfo": "none",
         "line": {
          "color": "#888",
          "width": 1.3700281403734758
         },
         "mode": "lines",
         "type": "scatter",
         "x": [
          -13.875537710711491,
          -13.222042469817788
         ],
         "y": [
          -5.32928344518222,
          -5.142310599034572
         ]
        },
        {
         "hoverinfo": "none",
         "line": {
          "color": "#888",
          "width": 1.131212427299267
         },
         "mode": "lines",
         "type": "scatter",
         "x": [
          -13.875537710711491,
          -13.88035938362524
         ],
         "y": [
          -5.32928344518222,
          -5.930339137052623
         ]
        },
        {
         "hoverinfo": "none",
         "line": {
          "color": "#888",
          "width": 1.1525315474835547
         },
         "mode": "lines",
         "type": "scatter",
         "x": [
          -13.875537710711491,
          -14.337115099508948
         ],
         "y": [
          -5.32928344518222,
          -5.589642377557384
         ]
        },
        {
         "hoverinfo": "none",
         "line": {
          "color": "#888",
          "width": 2.566209840487566
         },
         "mode": "lines",
         "type": "scatter",
         "x": [
          -13.875537710711491,
          -14.43856045774682
         ],
         "y": [
          -5.32928344518222,
          -5.340015312798051
         ]
        },
        {
         "hoverinfo": "none",
         "line": {
          "color": "#888",
          "width": 1.0835943663577714
         },
         "mode": "lines",
         "type": "scatter",
         "x": [
          -13.875537710711491,
          -14.817113325705948
         ],
         "y": [
          -5.32928344518222,
          -5.149943024367288
         ]
        },
        {
         "hoverinfo": "none",
         "line": {
          "color": "#888",
          "width": 1.1089762962374756
         },
         "mode": "lines",
         "type": "scatter",
         "x": [
          -13.875537710711491,
          -12.518872512671223
         ],
         "y": [
          -5.32928344518222,
          -4.636006372940541
         ]
        },
        {
         "hoverinfo": "none",
         "line": {
          "color": "#888",
          "width": 1.8558220971677355
         },
         "mode": "lines",
         "type": "scatter",
         "x": [
          -13.875537710711491,
          -13.390218289739371
         ],
         "y": [
          -5.32928344518222,
          -5.733405128642964
         ]
        },
        {
         "hoverinfo": "none",
         "line": {
          "color": "#888",
          "width": 1.3967176642256418
         },
         "mode": "lines",
         "type": "scatter",
         "x": [
          -13.875537710711491,
          -13.273225990625084
         ],
         "y": [
          -5.32928344518222,
          -6.038017673214097
         ]
        },
        {
         "hoverinfo": "none",
         "line": {
          "color": "#888",
          "width": 1.0013450411217402
         },
         "mode": "lines",
         "type": "scatter",
         "x": [
          -13.875537710711491,
          -14.534578693420821
         ],
         "y": [
          -5.32928344518222,
          -5.867735650205169
         ]
        },
        {
         "hoverinfo": "none",
         "line": {
          "color": "#888",
          "width": 2.594732521752629
         },
         "mode": "lines",
         "type": "scatter",
         "x": [
          -13.875537710711491,
          -13.862864446562623
         ],
         "y": [
          -5.32928344518222,
          -4.948323816069961
         ]
        },
        {
         "hoverinfo": "none",
         "line": {
          "color": "#888",
          "width": 1.125722206490517
         },
         "mode": "lines",
         "type": "scatter",
         "x": [
          -13.875537710711491,
          -13.675589562249908
         ],
         "y": [
          -5.32928344518222,
          -4.746623249059541
         ]
        },
        {
         "hoverinfo": "none",
         "line": {
          "color": "#888",
          "width": 1.4856575845695517
         },
         "mode": "lines",
         "type": "scatter",
         "x": [
          -13.875537710711491,
          -13.595012385775345
         ],
         "y": [
          -5.32928344518222,
          -5.071548520780777
         ]
        },
        {
         "hoverinfo": "none",
         "line": {
          "color": "#888",
          "width": 1.9203746711802538
         },
         "mode": "lines",
         "type": "scatter",
         "x": [
          -13.875537710711491,
          -13.193598012960688
         ],
         "y": [
          -5.32928344518222,
          -5.37815957036336
         ]
        },
        {
         "hoverinfo": "none",
         "line": {
          "color": "#888",
          "width": 1.8380743319748538
         },
         "mode": "lines",
         "type": "scatter",
         "x": [
          -13.875537710711491,
          -13.94653562468436
         ],
         "y": [
          -5.32928344518222,
          -5.670154951244973
         ]
        },
        {
         "hoverinfo": "none",
         "line": {
          "color": "#888",
          "width": 1.139791026075272
         },
         "mode": "lines",
         "type": "scatter",
         "x": [
          -13.875537710711491,
          -12.761106201381423
         ],
         "y": [
          -5.32928344518222,
          -6.052174784794521
         ]
        },
        {
         "hoverinfo": "none",
         "line": {
          "color": "#888",
          "width": 1.2012258368689315
         },
         "mode": "lines",
         "type": "scatter",
         "x": [
          -10.375425299204139,
          -11.368386546885946
         ],
         "y": [
          -5.048295447133072,
          -4.868046072043308
         ]
        },
        {
         "hoverinfo": "none",
         "line": {
          "color": "#888",
          "width": 1.0782829460041476
         },
         "mode": "lines",
         "type": "scatter",
         "x": [
          -15.643188614776893,
          -16.060753847986447
         ],
         "y": [
          -4.920766736253973,
          -5.566587789910302
         ]
        },
        {
         "hoverinfo": "none",
         "line": {
          "color": "#888",
          "width": 1.316503749556375
         },
         "mode": "lines",
         "type": "scatter",
         "x": [
          -15.643188614776893,
          -14.371871984258576
         ],
         "y": [
          -4.920766736253973,
          -5.309789890205194
         ]
        },
        {
         "hoverinfo": "none",
         "line": {
          "color": "#888",
          "width": 1.0300976654409664
         },
         "mode": "lines",
         "type": "scatter",
         "x": [
          -15.643188614776893,
          -16.47167403284231
         ],
         "y": [
          -4.920766736253973,
          -5.924729640631664
         ]
        },
        {
         "hoverinfo": "none",
         "line": {
          "color": "#888",
          "width": 1.3015663196802976
         },
         "mode": "lines",
         "type": "scatter",
         "x": [
          -15.643188614776893,
          -14.43856045774682
         ],
         "y": [
          -4.920766736253973,
          -5.340015312798051
         ]
        },
        {
         "hoverinfo": "none",
         "line": {
          "color": "#888",
          "width": 1.3322819258072858
         },
         "mode": "lines",
         "type": "scatter",
         "x": [
          -15.643188614776893,
          -15.24633057040751
         ],
         "y": [
          -4.920766736253973,
          -5.916024529055278
         ]
        },
        {
         "hoverinfo": "none",
         "line": {
          "color": "#888",
          "width": 1.013889391058027
         },
         "mode": "lines",
         "type": "scatter",
         "x": [
          -15.643188614776893,
          -16.785895922940433
         ],
         "y": [
          -4.920766736253973,
          -4.840032384087389
         ]
        },
        {
         "hoverinfo": "none",
         "line": {
          "color": "#888",
          "width": 1.2440474851518823
         },
         "mode": "lines",
         "type": "scatter",
         "x": [
          -12.358110398384234,
          -12.416271014206234
         ],
         "y": [
          2.7597529883141663,
          2.0041417027951165
         ]
        },
        {
         "hoverinfo": "none",
         "line": {
          "color": "#888",
          "width": 1.000820496717732
         },
         "mode": "lines",
         "type": "scatter",
         "x": [
          -12.416271014206234,
          -13.259356029280449
         ],
         "y": [
          2.0041417027951165,
          2.7241682082273706
         ]
        },
        {
         "hoverinfo": "none",
         "line": {
          "color": "#888",
          "width": 1.141494085803745
         },
         "mode": "lines",
         "type": "scatter",
         "x": [
          -12.416271014206234,
          -13.135557863345687
         ],
         "y": [
          2.0041417027951165,
          1.9936568055327668
         ]
        },
        {
         "hoverinfo": "none",
         "line": {
          "color": "#888",
          "width": 2.57796079280327
         },
         "mode": "lines",
         "type": "scatter",
         "x": [
          -13.875537710711491,
          -13.527157887205975
         ],
         "y": [
          -5.32928344518222,
          -5.464656038819423
         ]
        },
        {
         "hoverinfo": "none",
         "line": {
          "color": "#888",
          "width": 1.6462838852561803
         },
         "mode": "lines",
         "type": "scatter",
         "x": [
          -13.527157887205975,
          -14.871497661265048
         ],
         "y": [
          -5.464656038819423,
          -4.4476025797803
         ]
        },
        {
         "hoverinfo": "none",
         "line": {
          "color": "#888",
          "width": 1.0898044016075892
         },
         "mode": "lines",
         "type": "scatter",
         "x": [
          -13.527157887205975,
          -14.362059659931681
         ],
         "y": [
          -5.464656038819423,
          -4.997657926517953
         ]
        },
        {
         "hoverinfo": "none",
         "line": {
          "color": "#888",
          "width": 1.5516215965526432
         },
         "mode": "lines",
         "type": "scatter",
         "x": [
          -13.527157887205975,
          -13.707209565894951
         ],
         "y": [
          -5.464656038819423,
          -5.531850608732078
         ]
        },
        {
         "hoverinfo": "none",
         "line": {
          "color": "#888",
          "width": 1.056647300658568
         },
         "mode": "lines",
         "type": "scatter",
         "x": [
          -13.527157887205975,
          -13.611430736159944
         ],
         "y": [
          -5.464656038819423,
          -5.876190550342591
         ]
        },
        {
         "hoverinfo": "none",
         "line": {
          "color": "#888",
          "width": 1.9040831646216727
         },
         "mode": "lines",
         "type": "scatter",
         "x": [
          -13.527157887205975,
          -14.371871984258576
         ],
         "y": [
          -5.464656038819423,
          -5.309789890205194
         ]
        },
        {
         "hoverinfo": "none",
         "line": {
          "color": "#888",
          "width": 1.3893448469619396
         },
         "mode": "lines",
         "type": "scatter",
         "x": [
          -13.527157887205975,
          -14.220471909568893
         ],
         "y": [
          -5.464656038819423,
          -6.888856057905963
         ]
        },
        {
         "hoverinfo": "none",
         "line": {
          "color": "#888",
          "width": 1.1821213295208606
         },
         "mode": "lines",
         "type": "scatter",
         "x": [
          -13.527157887205975,
          -13.88035938362524
         ],
         "y": [
          -5.464656038819423,
          -5.930339137052623
         ]
        },
        {
         "hoverinfo": "none",
         "line": {
          "color": "#888",
          "width": 1.2848271338362474
         },
         "mode": "lines",
         "type": "scatter",
         "x": [
          -13.527157887205975,
          -14.337115099508948
         ],
         "y": [
          -5.464656038819423,
          -5.589642377557384
         ]
        },
        {
         "hoverinfo": "none",
         "line": {
          "color": "#888",
          "width": 1.8814560634855202
         },
         "mode": "lines",
         "type": "scatter",
         "x": [
          -13.527157887205975,
          -14.43856045774682
         ],
         "y": [
          -5.464656038819423,
          -5.340015312798051
         ]
        },
        {
         "hoverinfo": "none",
         "line": {
          "color": "#888",
          "width": 1.0390646546923523
         },
         "mode": "lines",
         "type": "scatter",
         "x": [
          -13.527157887205975,
          -13.981029096872376
         ],
         "y": [
          -5.464656038819423,
          -6.832951899584617
         ]
        },
        {
         "hoverinfo": "none",
         "line": {
          "color": "#888",
          "width": 1.5971025916330828
         },
         "mode": "lines",
         "type": "scatter",
         "x": [
          -13.527157887205975,
          -13.390218289739371
         ],
         "y": [
          -5.464656038819423,
          -5.733405128642964
         ]
        },
        {
         "hoverinfo": "none",
         "line": {
          "color": "#888",
          "width": 1.1569261667352864
         },
         "mode": "lines",
         "type": "scatter",
         "x": [
          -13.527157887205975,
          -13.273225990625084
         ],
         "y": [
          -5.464656038819423,
          -6.038017673214097
         ]
        },
        {
         "hoverinfo": "none",
         "line": {
          "color": "#888",
          "width": 1.097869395831777
         },
         "mode": "lines",
         "type": "scatter",
         "x": [
          -13.527157887205975,
          -12.164876803560634
         ],
         "y": [
          -5.464656038819423,
          -5.511900788772261
         ]
        },
        {
         "hoverinfo": "none",
         "line": {
          "color": "#888",
          "width": 2.1605356418869786
         },
         "mode": "lines",
         "type": "scatter",
         "x": [
          -13.527157887205975,
          -13.862864446562623
         ],
         "y": [
          -5.464656038819423,
          -4.948323816069961
         ]
        },
        {
         "hoverinfo": "none",
         "line": {
          "color": "#888",
          "width": 1.2420276032284574
         },
         "mode": "lines",
         "type": "scatter",
         "x": [
          -13.527157887205975,
          -13.675589562249908
         ],
         "y": [
          -5.464656038819423,
          -4.746623249059541
         ]
        },
        {
         "hoverinfo": "none",
         "line": {
          "color": "#888",
          "width": 1.3210428627216877
         },
         "mode": "lines",
         "type": "scatter",
         "x": [
          -13.527157887205975,
          -13.94653562468436
         ],
         "y": [
          -5.464656038819423,
          -5.670154951244973
         ]
        },
        {
         "hoverinfo": "none",
         "line": {
          "color": "#888",
          "width": 1.0221615441390333
         },
         "mode": "lines",
         "type": "scatter",
         "x": [
          -10.783557959520174,
          -9.987279805570436
         ],
         "y": [
          4.269212475785679,
          3.842756612426725
         ]
        },
        {
         "hoverinfo": "none",
         "line": {
          "color": "#888",
          "width": 1.688432886253182
         },
         "mode": "lines",
         "type": "scatter",
         "x": [
          -13.875537710711491,
          -14.871497661265048
         ],
         "y": [
          -5.32928344518222,
          -4.4476025797803
         ]
        },
        {
         "hoverinfo": "none",
         "line": {
          "color": "#888",
          "width": 1.6462838852561803
         },
         "mode": "lines",
         "type": "scatter",
         "x": [
          -13.527157887205975,
          -14.871497661265048
         ],
         "y": [
          -5.464656038819423,
          -4.4476025797803
         ]
        },
        {
         "hoverinfo": "none",
         "line": {
          "color": "#888",
          "width": 1.0243173114834625
         },
         "mode": "lines",
         "type": "scatter",
         "x": [
          -14.871497661265048,
          -15.190594501558186
         ],
         "y": [
          -4.4476025797803,
          -4.907635561614265
         ]
        },
        {
         "hoverinfo": "none",
         "line": {
          "color": "#888",
          "width": 1.7510529183333121
         },
         "mode": "lines",
         "type": "scatter",
         "x": [
          -14.871497661265048,
          -14.371871984258576
         ],
         "y": [
          -4.4476025797803,
          -5.309789890205194
         ]
        },
        {
         "hoverinfo": "none",
         "line": {
          "color": "#888",
          "width": 1.39459880184587
         },
         "mode": "lines",
         "type": "scatter",
         "x": [
          -14.871497661265048,
          -14.337115099508948
         ],
         "y": [
          -4.4476025797803,
          -5.589642377557384
         ]
        },
        {
         "hoverinfo": "none",
         "line": {
          "color": "#888",
          "width": 1.7937621694778214
         },
         "mode": "lines",
         "type": "scatter",
         "x": [
          -14.871497661265048,
          -14.43856045774682
         ],
         "y": [
          -4.4476025797803,
          -5.340015312798051
         ]
        },
        {
         "hoverinfo": "none",
         "line": {
          "color": "#888",
          "width": 1.1398534458016778
         },
         "mode": "lines",
         "type": "scatter",
         "x": [
          -14.871497661265048,
          -14.817113325705948
         ],
         "y": [
          -4.4476025797803,
          -5.149943024367288
         ]
        },
        {
         "hoverinfo": "none",
         "line": {
          "color": "#888",
          "width": 1.013897428648376
         },
         "mode": "lines",
         "type": "scatter",
         "x": [
          -14.871497661265048,
          -16.00047798583634
         ],
         "y": [
          -4.4476025797803,
          -3.7533718180893545
         ]
        },
        {
         "hoverinfo": "none",
         "line": {
          "color": "#888",
          "width": 1.0435661629413735
         },
         "mode": "lines",
         "type": "scatter",
         "x": [
          -14.871497661265048,
          -15.81962269574201
         ],
         "y": [
          -4.4476025797803,
          -3.5077071554974637
         ]
        },
        {
         "hoverinfo": "none",
         "line": {
          "color": "#888",
          "width": 1.0478064520326373
         },
         "mode": "lines",
         "type": "scatter",
         "x": [
          -14.871497661265048,
          -16.303060544747147
         ],
         "y": [
          -4.4476025797803,
          -4.310670236828554
         ]
        },
        {
         "hoverinfo": "none",
         "line": {
          "color": "#888",
          "width": 1.8961156323569186
         },
         "mode": "lines",
         "type": "scatter",
         "x": [
          -14.871497661265048,
          -13.862864446562623
         ],
         "y": [
          -4.4476025797803,
          -4.948323816069961
         ]
        },
        {
         "hoverinfo": "none",
         "line": {
          "color": "#888",
          "width": 1.000399796657459
         },
         "mode": "lines",
         "type": "scatter",
         "x": [
          -14.871497661265048,
          -14.813549771834133
         ],
         "y": [
          -4.4476025797803,
          -4.598891617330923
         ]
        },
        {
         "hoverinfo": "none",
         "line": {
          "color": "#888",
          "width": 1.2257949000301616
         },
         "mode": "lines",
         "type": "scatter",
         "x": [
          -13.875537710711491,
          -14.954468630341605
         ],
         "y": [
          -5.32928344518222,
          -6.0025936578907055
         ]
        },
        {
         "hoverinfo": "none",
         "line": {
          "color": "#888",
          "width": 1.1894159615287128
         },
         "mode": "lines",
         "type": "scatter",
         "x": [
          -14.954468630341605,
          -14.362059659931681
         ],
         "y": [
          -6.0025936578907055,
          -4.997657926517953
         ]
        },
        {
         "hoverinfo": "none",
         "line": {
          "color": "#888",
          "width": 1.0391893033339408
         },
         "mode": "lines",
         "type": "scatter",
         "x": [
          -14.954468630341605,
          -13.707209565894951
         ],
         "y": [
          -6.0025936578907055,
          -5.531850608732078
         ]
        },
        {
         "hoverinfo": "none",
         "line": {
          "color": "#888",
          "width": 1.1543609904258387
         },
         "mode": "lines",
         "type": "scatter",
         "x": [
          -14.954468630341605,
          -14.47810030254798
         ],
         "y": [
          -6.0025936578907055,
          -6.400656932273691
         ]
        },
        {
         "hoverinfo": "none",
         "line": {
          "color": "#888",
          "width": 1.257201928708477
         },
         "mode": "lines",
         "type": "scatter",
         "x": [
          -14.954468630341605,
          -16.060753847986447
         ],
         "y": [
          -6.0025936578907055,
          -5.566587789910302
         ]
        },
        {
         "hoverinfo": "none",
         "line": {
          "color": "#888",
          "width": 1.1269075202535626
         },
         "mode": "lines",
         "type": "scatter",
         "x": [
          -14.954468630341605,
          -14.371871984258576
         ],
         "y": [
          -6.0025936578907055,
          -5.309789890205194
         ]
        },
        {
         "hoverinfo": "none",
         "line": {
          "color": "#888",
          "width": 1.0103215443084737
         },
         "mode": "lines",
         "type": "scatter",
         "x": [
          -14.954468630341605,
          -16.47167403284231
         ],
         "y": [
          -6.0025936578907055,
          -5.924729640631664
         ]
        },
        {
         "hoverinfo": "none",
         "line": {
          "color": "#888",
          "width": 1.0829103671353115
         },
         "mode": "lines",
         "type": "scatter",
         "x": [
          -14.954468630341605,
          -14.200026977870785
         ],
         "y": [
          -6.0025936578907055,
          -6.491007842347108
         ]
        },
        {
         "hoverinfo": "none",
         "line": {
          "color": "#888",
          "width": 1.0446384886259727
         },
         "mode": "lines",
         "type": "scatter",
         "x": [
          -14.954468630341605,
          -15.717211012483808
         ],
         "y": [
          -6.0025936578907055,
          -5.367590516567743
         ]
        },
        {
         "hoverinfo": "none",
         "line": {
          "color": "#888",
          "width": 1.205932253920299
         },
         "mode": "lines",
         "type": "scatter",
         "x": [
          -14.954468630341605,
          -14.220471909568893
         ],
         "y": [
          -6.0025936578907055,
          -6.888856057905963
         ]
        },
        {
         "hoverinfo": "none",
         "line": {
          "color": "#888",
          "width": 1.0679677767616238
         },
         "mode": "lines",
         "type": "scatter",
         "x": [
          -14.954468630341605,
          -14.337115099508948
         ],
         "y": [
          -6.0025936578907055,
          -5.589642377557384
         ]
        },
        {
         "hoverinfo": "none",
         "line": {
          "color": "#888",
          "width": 1.1107805467841665
         },
         "mode": "lines",
         "type": "scatter",
         "x": [
          -14.954468630341605,
          -14.43856045774682
         ],
         "y": [
          -6.0025936578907055,
          -5.340015312798051
         ]
        },
        {
         "hoverinfo": "none",
         "line": {
          "color": "#888",
          "width": 1.2391513453871246
         },
         "mode": "lines",
         "type": "scatter",
         "x": [
          -14.954468630341605,
          -14.895945710193905
         ],
         "y": [
          -6.0025936578907055,
          -6.507485318880583
         ]
        },
        {
         "hoverinfo": "none",
         "line": {
          "color": "#888",
          "width": 1.0103277113363722
         },
         "mode": "lines",
         "type": "scatter",
         "x": [
          -14.954468630341605,
          -13.981029096872376
         ],
         "y": [
          -6.0025936578907055,
          -6.832951899584617
         ]
        },
        {
         "hoverinfo": "none",
         "line": {
          "color": "#888",
          "width": 1.1074856560433903
         },
         "mode": "lines",
         "type": "scatter",
         "x": [
          -14.954468630341605,
          -13.894885252196177
         ],
         "y": [
          -6.0025936578907055,
          -6.193450742401886
         ]
        },
        {
         "hoverinfo": "none",
         "line": {
          "color": "#888",
          "width": 1.0025563006527958
         },
         "mode": "lines",
         "type": "scatter",
         "x": [
          -13.996742299482742,
          -14.371871984258576
         ],
         "y": [
          -3.9899647066405595,
          -5.309789890205194
         ]
        },
        {
         "hoverinfo": "none",
         "line": {
          "color": "#888",
          "width": 1.074719847328358
         },
         "mode": "lines",
         "type": "scatter",
         "x": [
          -13.996742299482742,
          -13.445922253012837
         ],
         "y": [
          -3.9899647066405595,
          -3.229877120455521
         ]
        },
        {
         "hoverinfo": "none",
         "line": {
          "color": "#888",
          "width": 1.1563698198762682
         },
         "mode": "lines",
         "type": "scatter",
         "x": [
          -13.996742299482742,
          -14.609022694834321
         ],
         "y": [
          -3.9899647066405595,
          -2.900222090616298
         ]
        },
        {
         "hoverinfo": "none",
         "line": {
          "color": "#888",
          "width": 1.5760945006102047
         },
         "mode": "lines",
         "type": "scatter",
         "x": [
          -13.996742299482742,
          -14.08296077725767
         ],
         "y": [
          -3.9899647066405595,
          -2.91931092816861
         ]
        },
        {
         "hoverinfo": "none",
         "line": {
          "color": "#888",
          "width": 1.4590317114047062
         },
         "mode": "lines",
         "type": "scatter",
         "x": [
          -13.996742299482742,
          -14.265225489671783
         ],
         "y": [
          -3.9899647066405595,
          -3.9299109157582914
         ]
        },
        {
         "hoverinfo": "none",
         "line": {
          "color": "#888",
          "width": 1.1648818215959975
         },
         "mode": "lines",
         "type": "scatter",
         "x": [
          -13.707691486982672,
          -14.121106121702685
         ],
         "y": [
          -7.849823638865185,
          -7.567300842448139
         ]
        },
        {
         "hoverinfo": "none",
         "line": {
          "color": "#888",
          "width": 1.01777505967313
         },
         "mode": "lines",
         "type": "scatter",
         "x": [
          -13.707691486982672,
          -14.610294342996928
         ],
         "y": [
          -7.849823638865185,
          -7.34091427117728
         ]
        },
        {
         "hoverinfo": "none",
         "line": {
          "color": "#888",
          "width": 1.12938419146808
         },
         "mode": "lines",
         "type": "scatter",
         "x": [
          -13.707691486982672,
          -13.24315673940496
         ],
         "y": [
          -7.849823638865185,
          -6.689195662075548
         ]
        },
        {
         "hoverinfo": "none",
         "line": {
          "color": "#888",
          "width": 1.0249025539761067
         },
         "mode": "lines",
         "type": "scatter",
         "x": [
          -13.707691486982672,
          -14.220471909568893
         ],
         "y": [
          -7.849823638865185,
          -6.888856057905963
         ]
        },
        {
         "hoverinfo": "none",
         "line": {
          "color": "#888",
          "width": 1.0391568865601106
         },
         "mode": "lines",
         "type": "scatter",
         "x": [
          -13.875537710711491,
          -14.362059659931681
         ],
         "y": [
          -5.32928344518222,
          -4.997657926517953
         ]
        },
        {
         "hoverinfo": "none",
         "line": {
          "color": "#888",
          "width": 1.0898044016075892
         },
         "mode": "lines",
         "type": "scatter",
         "x": [
          -13.527157887205975,
          -14.362059659931681
         ],
         "y": [
          -5.464656038819423,
          -4.997657926517953
         ]
        },
        {
         "hoverinfo": "none",
         "line": {
          "color": "#888",
          "width": 1.1894159615287128
         },
         "mode": "lines",
         "type": "scatter",
         "x": [
          -14.954468630341605,
          -14.362059659931681
         ],
         "y": [
          -6.0025936578907055,
          -4.997657926517953
         ]
        },
        {
         "hoverinfo": "none",
         "line": {
          "color": "#888",
          "width": 1.519327217101608
         },
         "mode": "lines",
         "type": "scatter",
         "x": [
          -14.362059659931681,
          -13.707209565894951
         ],
         "y": [
          -4.997657926517953,
          -5.531850608732078
         ]
        },
        {
         "hoverinfo": "none",
         "line": {
          "color": "#888",
          "width": 1.0172628459319746
         },
         "mode": "lines",
         "type": "scatter",
         "x": [
          -14.362059659931681,
          -16.060753847986447
         ],
         "y": [
          -4.997657926517953,
          -5.566587789910302
         ]
        },
        {
         "hoverinfo": "none",
         "line": {
          "color": "#888",
          "width": 1.1856272885034096
         },
         "mode": "lines",
         "type": "scatter",
         "x": [
          -14.362059659931681,
          -13.611430736159944
         ],
         "y": [
          -4.997657926517953,
          -5.876190550342591
         ]
        },
        {
         "hoverinfo": "none",
         "line": {
          "color": "#888",
          "width": 1.9291399195771364
         },
         "mode": "lines",
         "type": "scatter",
         "x": [
          -14.362059659931681,
          -14.371871984258576
         ],
         "y": [
          -4.997657926517953,
          -5.309789890205194
         ]
        },
        {
         "hoverinfo": "none",
         "line": {
          "color": "#888",
          "width": 1.1609738192550456
         },
         "mode": "lines",
         "type": "scatter",
         "x": [
          -14.362059659931681,
          -13.222042469817788
         ],
         "y": [
          -4.997657926517953,
          -5.142310599034572
         ]
        },
        {
         "hoverinfo": "none",
         "line": {
          "color": "#888",
          "width": 1.2804779185775017
         },
         "mode": "lines",
         "type": "scatter",
         "x": [
          -14.362059659931681,
          -13.88035938362524
         ],
         "y": [
          -4.997657926517953,
          -5.930339137052623
         ]
        },
        {
         "hoverinfo": "none",
         "line": {
          "color": "#888",
          "width": 1.2091363920549865
         },
         "mode": "lines",
         "type": "scatter",
         "x": [
          -14.362059659931681,
          -14.337115099508948
         ],
         "y": [
          -4.997657926517953,
          -5.589642377557384
         ]
        },
        {
         "hoverinfo": "none",
         "line": {
          "color": "#888",
          "width": 1.9066601669415097
         },
         "mode": "lines",
         "type": "scatter",
         "x": [
          -14.362059659931681,
          -14.43856045774682
         ],
         "y": [
          -4.997657926517953,
          -5.340015312798051
         ]
        },
        {
         "hoverinfo": "none",
         "line": {
          "color": "#888",
          "width": 1.0639997301915696
         },
         "mode": "lines",
         "type": "scatter",
         "x": [
          -14.362059659931681,
          -15.28225172984896
         ],
         "y": [
          -4.997657926517953,
          -5.387738780527072
         ]
        },
        {
         "hoverinfo": "none",
         "line": {
          "color": "#888",
          "width": 1.6347214072895269
         },
         "mode": "lines",
         "type": "scatter",
         "x": [
          -14.362059659931681,
          -13.390218289739371
         ],
         "y": [
          -4.997657926517953,
          -5.733405128642964
         ]
        },
        {
         "hoverinfo": "none",
         "line": {
          "color": "#888",
          "width": 1.2278487481778746
         },
         "mode": "lines",
         "type": "scatter",
         "x": [
          -14.362059659931681,
          -13.862864446562623
         ],
         "y": [
          -4.997657926517953,
          -4.948323816069961
         ]
        },
        {
         "hoverinfo": "none",
         "line": {
          "color": "#888",
          "width": 1.0943983333337945
         },
         "mode": "lines",
         "type": "scatter",
         "x": [
          -14.362059659931681,
          -13.675589562249908
         ],
         "y": [
          -4.997657926517953,
          -4.746623249059541
         ]
        },
        {
         "hoverinfo": "none",
         "line": {
          "color": "#888",
          "width": 1.6196872997136325
         },
         "mode": "lines",
         "type": "scatter",
         "x": [
          -14.362059659931681,
          -15.438938010325261
         ],
         "y": [
          -4.997657926517953,
          -4.675896407068778
         ]
        },
        {
         "hoverinfo": "none",
         "line": {
          "color": "#888",
          "width": 1.295861474926493
         },
         "mode": "lines",
         "type": "scatter",
         "x": [
          -14.362059659931681,
          -13.595012385775345
         ],
         "y": [
          -4.997657926517953,
          -5.071548520780777
         ]
        },
        {
         "hoverinfo": "none",
         "line": {
          "color": "#888",
          "width": 1.1099042947056785
         },
         "mode": "lines",
         "type": "scatter",
         "x": [
          -14.362059659931681,
          -13.94653562468436
         ],
         "y": [
          -4.997657926517953,
          -5.670154951244973
         ]
        },
        {
         "hoverinfo": "none",
         "line": {
          "color": "#888",
          "width": 1.3857138204432617
         },
         "mode": "lines",
         "type": "scatter",
         "x": [
          -14.362059659931681,
          -14.914940275618951
         ],
         "y": [
          -4.997657926517953,
          -4.9158561143212465
         ]
        },
        {
         "hoverinfo": "none",
         "line": {
          "color": "#888",
          "width": 2.2116175509868015
         },
         "mode": "lines",
         "type": "scatter",
         "x": [
          -13.875537710711491,
          -13.707209565894951
         ],
         "y": [
          -5.32928344518222,
          -5.531850608732078
         ]
        },
        {
         "hoverinfo": "none",
         "line": {
          "color": "#888",
          "width": 1.5516215965526432
         },
         "mode": "lines",
         "type": "scatter",
         "x": [
          -13.527157887205975,
          -13.707209565894951
         ],
         "y": [
          -5.464656038819423,
          -5.531850608732078
         ]
        },
        {
         "hoverinfo": "none",
         "line": {
          "color": "#888",
          "width": 1.0391893033339408
         },
         "mode": "lines",
         "type": "scatter",
         "x": [
          -14.954468630341605,
          -13.707209565894951
         ],
         "y": [
          -6.0025936578907055,
          -5.531850608732078
         ]
        },
        {
         "hoverinfo": "none",
         "line": {
          "color": "#888",
          "width": 1.519327217101608
         },
         "mode": "lines",
         "type": "scatter",
         "x": [
          -14.362059659931681,
          -13.707209565894951
         ],
         "y": [
          -4.997657926517953,
          -5.531850608732078
         ]
        },
        {
         "hoverinfo": "none",
         "line": {
          "color": "#888",
          "width": 1.1219332819026966
         },
         "mode": "lines",
         "type": "scatter",
         "x": [
          -13.707209565894951,
          -13.24315673940496
         ],
         "y": [
          -5.531850608732078,
          -6.689195662075548
         ]
        },
        {
         "hoverinfo": "none",
         "line": {
          "color": "#888",
          "width": 1.4691872548797291
         },
         "mode": "lines",
         "type": "scatter",
         "x": [
          -13.707209565894951,
          -13.611430736159944
         ],
         "y": [
          -5.531850608732078,
          -5.876190550342591
         ]
        },
        {
         "hoverinfo": "none",
         "line": {
          "color": "#888",
          "width": 1.713190769748516
         },
         "mode": "lines",
         "type": "scatter",
         "x": [
          -13.707209565894951,
          -14.371871984258576
         ],
         "y": [
          -5.531850608732078,
          -5.309789890205194
         ]
        },
        {
         "hoverinfo": "none",
         "line": {
          "color": "#888",
          "width": 1.0176904302730432
         },
         "mode": "lines",
         "type": "scatter",
         "x": [
          -13.707209565894951,
          -13.222042469817788
         ],
         "y": [
          -5.531850608732078,
          -5.142310599034572
         ]
        },
        {
         "hoverinfo": "none",
         "line": {
          "color": "#888",
          "width": 1.1432091321237943
         },
         "mode": "lines",
         "type": "scatter",
         "x": [
          -13.707209565894951,
          -13.88035938362524
         ],
         "y": [
          -5.531850608732078,
          -5.930339137052623
         ]
        },
        {
         "hoverinfo": "none",
         "line": {
          "color": "#888",
          "width": 1.4659683233129517
         },
         "mode": "lines",
         "type": "scatter",
         "x": [
          -13.707209565894951,
          -14.337115099508948
         ],
         "y": [
          -5.531850608732078,
          -5.589642377557384
         ]
        },
        {
         "hoverinfo": "none",
         "line": {
          "color": "#888",
          "width": 1.6918335657476147
         },
         "mode": "lines",
         "type": "scatter",
         "x": [
          -13.707209565894951,
          -14.43856045774682
         ],
         "y": [
          -5.531850608732078,
          -5.340015312798051
         ]
        },
        {
         "hoverinfo": "none",
         "line": {
          "color": "#888",
          "width": 1.0644477275027557
         },
         "mode": "lines",
         "type": "scatter",
         "x": [
          -13.707209565894951,
          -14.048169730697897
         ],
         "y": [
          -5.531850608732078,
          -4.402358898230442
         ]
        },
        {
         "hoverinfo": "none",
         "line": {
          "color": "#888",
          "width": 1.3569822072722615
         },
         "mode": "lines",
         "type": "scatter",
         "x": [
          -13.707209565894951,
          -14.475455276486759
         ],
         "y": [
          -5.531850608732078,
          -4.563713429774501
         ]
        },
        {
         "hoverinfo": "none",
         "line": {
          "color": "#888",
          "width": 2.060139133022109
         },
         "mode": "lines",
         "type": "scatter",
         "x": [
          -13.707209565894951,
          -13.390218289739371
         ],
         "y": [
          -5.531850608732078,
          -5.733405128642964
         ]
        },
        {
         "hoverinfo": "none",
         "line": {
          "color": "#888",
          "width": 1.2206520106249243
         },
         "mode": "lines",
         "type": "scatter",
         "x": [
          -13.707209565894951,
          -13.273225990625084
         ],
         "y": [
          -5.531850608732078,
          -6.038017673214097
         ]
        },
        {
         "hoverinfo": "none",
         "line": {
          "color": "#888",
          "width": 1.0816923517036232
         },
         "mode": "lines",
         "type": "scatter",
         "x": [
          -13.707209565894951,
          -14.534578693420821
         ],
         "y": [
          -5.531850608732078,
          -5.867735650205169
         ]
        },
        {
         "hoverinfo": "none",
         "line": {
          "color": "#888",
          "width": 2.2385073862396254
         },
         "mode": "lines",
         "type": "scatter",
         "x": [
          -13.707209565894951,
          -13.862864446562623
         ],
         "y": [
          -5.531850608732078,
          -4.948323816069961
         ]
        },
        {
         "hoverinfo": "none",
         "line": {
          "color": "#888",
          "width": 1.4715750407683883
         },
         "mode": "lines",
         "type": "scatter",
         "x": [
          -13.707209565894951,
          -13.675589562249908
         ],
         "y": [
          -5.531850608732078,
          -4.746623249059541
         ]
        },
        {
         "hoverinfo": "none",
         "line": {
          "color": "#888",
          "width": 2.0153679748019826
         },
         "mode": "lines",
         "type": "scatter",
         "x": [
          -13.707209565894951,
          -13.595012385775345
         ],
         "y": [
          -5.531850608732078,
          -5.071548520780777
         ]
        },
        {
         "hoverinfo": "none",
         "line": {
          "color": "#888",
          "width": 1.5885974793911686
         },
         "mode": "lines",
         "type": "scatter",
         "x": [
          -13.707209565894951,
          -13.94653562468436
         ],
         "y": [
          -5.531850608732078,
          -5.670154951244973
         ]
        },
        {
         "hoverinfo": "none",
         "line": {
          "color": "#888",
          "width": 1.0081743046431522
         },
         "mode": "lines",
         "type": "scatter",
         "x": [
          -13.775376605956216,
          -13.571478264075706
         ],
         "y": [
          -1.8631268355922337,
          -2.8918310027628173
         ]
        },
        {
         "hoverinfo": "none",
         "line": {
          "color": "#888",
          "width": 1.1648818215959975
         },
         "mode": "lines",
         "type": "scatter",
         "x": [
          -13.707691486982672,
          -14.121106121702685
         ],
         "y": [
          -7.849823638865185,
          -7.567300842448139
         ]
        },
        {
         "hoverinfo": "none",
         "line": {
          "color": "#888",
          "width": 1.0316981655733792
         },
         "mode": "lines",
         "type": "scatter",
         "x": [
          -14.121106121702685,
          -14.47810030254798
         ],
         "y": [
          -7.567300842448139,
          -6.400656932273691
         ]
        },
        {
         "hoverinfo": "none",
         "line": {
          "color": "#888",
          "width": 1.2360378978834887
         },
         "mode": "lines",
         "type": "scatter",
         "x": [
          -14.121106121702685,
          -14.610294342996928
         ],
         "y": [
          -7.567300842448139,
          -7.34091427117728
         ]
        },
        {
         "hoverinfo": "none",
         "line": {
          "color": "#888",
          "width": 1.3481984995945968
         },
         "mode": "lines",
         "type": "scatter",
         "x": [
          -14.121106121702685,
          -13.24315673940496
         ],
         "y": [
          -7.567300842448139,
          -6.689195662075548
         ]
        },
        {
         "hoverinfo": "none",
         "line": {
          "color": "#888",
          "width": 1.0647654045022001
         },
         "mode": "lines",
         "type": "scatter",
         "x": [
          -14.121106121702685,
          -14.220471909568893
         ],
         "y": [
          -7.567300842448139,
          -6.888856057905963
         ]
        },
        {
         "hoverinfo": "none",
         "line": {
          "color": "#888",
          "width": 1.101530761467507
         },
         "mode": "lines",
         "type": "scatter",
         "x": [
          -14.121106121702685,
          -13.770553405879493
         ],
         "y": [
          -7.567300842448139,
          -6.979374153748573
         ]
        },
        {
         "hoverinfo": "none",
         "line": {
          "color": "#888",
          "width": 1.0087318120004038
         },
         "mode": "lines",
         "type": "scatter",
         "x": [
          -14.121106121702685,
          -14.895945710193905
         ],
         "y": [
          -7.567300842448139,
          -6.507485318880583
         ]
        },
        {
         "hoverinfo": "none",
         "line": {
          "color": "#888",
          "width": 1.0174386683931247
         },
         "mode": "lines",
         "type": "scatter",
         "x": [
          -14.121106121702685,
          -13.981029096872376
         ],
         "y": [
          -7.567300842448139,
          -6.832951899584617
         ]
        },
        {
         "hoverinfo": "none",
         "line": {
          "color": "#888",
          "width": 1.0134647643600974
         },
         "mode": "lines",
         "type": "scatter",
         "x": [
          -14.121106121702685,
          -13.355349687799634
         ],
         "y": [
          -7.567300842448139,
          -7.536130655725203
         ]
        },
        {
         "hoverinfo": "none",
         "line": {
          "color": "#888",
          "width": 1.0953804566139196
         },
         "mode": "lines",
         "type": "scatter",
         "x": [
          -14.121106121702685,
          -14.531892159066423
         ],
         "y": [
          -7.567300842448139,
          -8.539402461952823
         ]
        },
        {
         "hoverinfo": "none",
         "line": {
          "color": "#888",
          "width": 1.0037672094831849
         },
         "mode": "lines",
         "type": "scatter",
         "x": [
          -20.721224786113666,
          -20.478424288576363
         ],
         "y": [
          -4.341927308619159,
          -3.368816112890574
         ]
        },
        {
         "hoverinfo": "none",
         "line": {
          "color": "#888",
          "width": 1.1230425979043548
         },
         "mode": "lines",
         "type": "scatter",
         "x": [
          -20.721224786113666,
          -21.13125455792967
         ],
         "y": [
          -4.341927308619159,
          -3.5884130542935395
         ]
        },
        {
         "hoverinfo": "none",
         "line": {
          "color": "#888",
          "width": 1.1418051911270168
         },
         "mode": "lines",
         "type": "scatter",
         "x": [
          -11.963572497166131,
          -13.270489320443948
         ],
         "y": [
          -4.7295253742747505,
          -4.814867740596674
         ]
        },
        {
         "hoverinfo": "none",
         "line": {
          "color": "#888",
          "width": 1.0539283700693882
         },
         "mode": "lines",
         "type": "scatter",
         "x": [
          -15.1943392716613,
          -14.371871984258576
         ],
         "y": [
          -4.331536967157103,
          -5.309789890205194
         ]
        },
        {
         "hoverinfo": "none",
         "line": {
          "color": "#888",
          "width": 1.0412559036608944
         },
         "mode": "lines",
         "type": "scatter",
         "x": [
          -15.1943392716613,
          -14.43856045774682
         ],
         "y": [
          -4.331536967157103,
          -5.340015312798051
         ]
        },
        {
         "hoverinfo": "none",
         "line": {
          "color": "#888",
          "width": 1.1543609904258387
         },
         "mode": "lines",
         "type": "scatter",
         "x": [
          -14.954468630341605,
          -14.47810030254798
         ],
         "y": [
          -6.0025936578907055,
          -6.400656932273691
         ]
        },
        {
         "hoverinfo": "none",
         "line": {
          "color": "#888",
          "width": 1.0316981655733792
         },
         "mode": "lines",
         "type": "scatter",
         "x": [
          -14.121106121702685,
          -14.47810030254798
         ],
         "y": [
          -7.567300842448139,
          -6.400656932273691
         ]
        },
        {
         "hoverinfo": "none",
         "line": {
          "color": "#888",
          "width": 1.6371534026308052
         },
         "mode": "lines",
         "type": "scatter",
         "x": [
          -14.47810030254798,
          -14.790576922423055
         ],
         "y": [
          -6.400656932273691,
          -5.938131240021356
         ]
        },
        {
         "hoverinfo": "none",
         "line": {
          "color": "#888",
          "width": 1.0141833903659176
         },
         "mode": "lines",
         "type": "scatter",
         "x": [
          -14.47810030254798,
          -14.645765529985793
         ],
         "y": [
          -6.400656932273691,
          -6.201254807051291
         ]
        },
        {
         "hoverinfo": "none",
         "line": {
          "color": "#888",
          "width": 1.0423669327280327
         },
         "mode": "lines",
         "type": "scatter",
         "x": [
          -14.47810030254798,
          -14.371871984258576
         ],
         "y": [
          -6.400656932273691,
          -5.309789890205194
         ]
        },
        {
         "hoverinfo": "none",
         "line": {
          "color": "#888",
          "width": 1.04064663228925
         },
         "mode": "lines",
         "type": "scatter",
         "x": [
          -14.47810030254798,
          -15.06299985540851
         ],
         "y": [
          -6.400656932273691,
          -6.295317665169309
         ]
        },
        {
         "hoverinfo": "none",
         "line": {
          "color": "#888",
          "width": 1.1107568299331017
         },
         "mode": "lines",
         "type": "scatter",
         "x": [
          -14.47810030254798,
          -14.200026977870785
         ],
         "y": [
          -6.400656932273691,
          -6.491007842347108
         ]
        },
        {
         "hoverinfo": "none",
         "line": {
          "color": "#888",
          "width": 1.2481614234145846
         },
         "mode": "lines",
         "type": "scatter",
         "x": [
          -14.47810030254798,
          -14.220471909568893
         ],
         "y": [
          -6.400656932273691,
          -6.888856057905963
         ]
        },
        {
         "hoverinfo": "none",
         "line": {
          "color": "#888",
          "width": 1.2188812465617447
         },
         "mode": "lines",
         "type": "scatter",
         "x": [
          -14.47810030254798,
          -15.851128569030708
         ],
         "y": [
          -6.400656932273691,
          -6.736423468652748
         ]
        },
        {
         "hoverinfo": "none",
         "line": {
          "color": "#888",
          "width": 1.1771971437456932
         },
         "mode": "lines",
         "type": "scatter",
         "x": [
          -14.47810030254798,
          -13.54321562440723
         ],
         "y": [
          -6.400656932273691,
          -6.325668381304119
         ]
        },
        {
         "hoverinfo": "none",
         "line": {
          "color": "#888",
          "width": 1.0109850138118492
         },
         "mode": "lines",
         "type": "scatter",
         "x": [
          -14.47810030254798,
          -13.88035938362524
         ],
         "y": [
          -6.400656932273691,
          -5.930339137052623
         ]
        },
        {
         "hoverinfo": "none",
         "line": {
          "color": "#888",
          "width": 1.0707331961635507
         },
         "mode": "lines",
         "type": "scatter",
         "x": [
          -14.47810030254798,
          -14.337115099508948
         ],
         "y": [
          -6.400656932273691,
          -5.589642377557384
         ]
        },
        {
         "hoverinfo": "none",
         "line": {
          "color": "#888",
          "width": 1.0274528679010728
         },
         "mode": "lines",
         "type": "scatter",
         "x": [
          -14.47810030254798,
          -14.43856045774682
         ],
         "y": [
          -6.400656932273691,
          -5.340015312798051
         ]
        },
        {
         "hoverinfo": "none",
         "line": {
          "color": "#888",
          "width": 1.4832930434014333
         },
         "mode": "lines",
         "type": "scatter",
         "x": [
          -14.47810030254798,
          -14.895945710193905
         ],
         "y": [
          -6.400656932273691,
          -6.507485318880583
         ]
        },
        {
         "hoverinfo": "none",
         "line": {
          "color": "#888",
          "width": 1.0159194953047692
         },
         "mode": "lines",
         "type": "scatter",
         "x": [
          -14.47810030254798,
          -13.981029096872376
         ],
         "y": [
          -6.400656932273691,
          -6.832951899584617
         ]
        },
        {
         "hoverinfo": "none",
         "line": {
          "color": "#888",
          "width": 1.389027847120075
         },
         "mode": "lines",
         "type": "scatter",
         "x": [
          -14.47810030254798,
          -14.616955577935325
         ],
         "y": [
          -6.400656932273691,
          -6.93972065520944
         ]
        },
        {
         "hoverinfo": "none",
         "line": {
          "color": "#888",
          "width": 1.2809816368191018
         },
         "mode": "lines",
         "type": "scatter",
         "x": [
          -14.47810030254798,
          -14.899682882110234
         ],
         "y": [
          -6.400656932273691,
          -7.017099143443842
         ]
        },
        {
         "hoverinfo": "none",
         "line": {
          "color": "#888",
          "width": 1.0484313095452267
         },
         "mode": "lines",
         "type": "scatter",
         "x": [
          -14.47810030254798,
          -15.573741906957562
         ],
         "y": [
          -6.400656932273691,
          -5.537184150233229
         ]
        },
        {
         "hoverinfo": "none",
         "line": {
          "color": "#888",
          "width": 1.214072670173321
         },
         "mode": "lines",
         "type": "scatter",
         "x": [
          -14.47810030254798,
          -13.94653562468436
         ],
         "y": [
          -6.400656932273691,
          -5.670154951244973
         ]
        },
        {
         "hoverinfo": "none",
         "line": {
          "color": "#888",
          "width": 1.10698679284716
         },
         "mode": "lines",
         "type": "scatter",
         "x": [
          -14.47810030254798,
          -14.251523252864162
         ],
         "y": [
          -6.400656932273691,
          -7.368519936234171
         ]
        },
        {
         "hoverinfo": "none",
         "line": {
          "color": "#888",
          "width": 1.0315361785896977
         },
         "mode": "lines",
         "type": "scatter",
         "x": [
          -10.126903261473295,
          -11.139560350679432
         ],
         "y": [
          -7.586881209202562,
          -7.89544110645823
         ]
        },
        {
         "hoverinfo": "none",
         "line": {
          "color": "#888",
          "width": 1.0289377033892784
         },
         "mode": "lines",
         "type": "scatter",
         "x": [
          -14.346046867248967,
          -15.270463960168538
         ],
         "y": [
          -3.0426116304140205,
          -4.5058576710257725
         ]
        },
        {
         "hoverinfo": "none",
         "line": {
          "color": "#888",
          "width": 1.059544427587481
         },
         "mode": "lines",
         "type": "scatter",
         "x": [
          -14.346046867248967,
          -14.644076666866233
         ],
         "y": [
          -3.0426116304140205,
          -3.3947456299180043
         ]
        },
        {
         "hoverinfo": "none",
         "line": {
          "color": "#888",
          "width": 1.0276082742675392
         },
         "mode": "lines",
         "type": "scatter",
         "x": [
          -14.346046867248967,
          -15.400830662632368
         ],
         "y": [
          -3.0426116304140205,
          -3.4263177964459928
         ]
        },
        {
         "hoverinfo": "none",
         "line": {
          "color": "#888",
          "width": 1.1768508449521695
         },
         "mode": "lines",
         "type": "scatter",
         "x": [
          -12.635773186908066,
          -13.787919497620946
         ],
         "y": [
          -5.155684006072663,
          -4.43010290727313
         ]
        },
        {
         "hoverinfo": "none",
         "line": {
          "color": "#888",
          "width": 1.3533992334207599
         },
         "mode": "lines",
         "type": "scatter",
         "x": [
          -12.635773186908066,
          -12.71233501434269
         ],
         "y": [
          -5.155684006072663,
          -4.7303986275351155
         ]
        },
        {
         "hoverinfo": "none",
         "line": {
          "color": "#888",
          "width": 1.1375442406461065
         },
         "mode": "lines",
         "type": "scatter",
         "x": [
          -12.635773186908066,
          -14.094060124693677
         ],
         "y": [
          -5.155684006072663,
          -5.024824129450616
         ]
        },
        {
         "hoverinfo": "none",
         "line": {
          "color": "#888",
          "width": 1.1071821399859498
         },
         "mode": "lines",
         "type": "scatter",
         "x": [
          -12.635773186908066,
          -13.94653562468436
         ],
         "y": [
          -5.155684006072663,
          -5.670154951244973
         ]
        },
        {
         "hoverinfo": "none",
         "line": {
          "color": "#888",
          "width": 1.3313657603805105
         },
         "mode": "lines",
         "type": "scatter",
         "x": [
          -13.488565177169946,
          -14.371871984258576
         ],
         "y": [
          -4.37128180082043,
          -5.309789890205194
         ]
        },
        {
         "hoverinfo": "none",
         "line": {
          "color": "#888",
          "width": 1.315584544815094
         },
         "mode": "lines",
         "type": "scatter",
         "x": [
          -13.488565177169946,
          -14.43856045774682
         ],
         "y": [
          -4.37128180082043,
          -5.340015312798051
         ]
        },
        {
         "hoverinfo": "none",
         "line": {
          "color": "#888",
          "width": 1.0247627551096392
         },
         "mode": "lines",
         "type": "scatter",
         "x": [
          -13.488565177169946,
          -12.241731349316966
         ],
         "y": [
          -4.37128180082043,
          -4.133770859505214
         ]
        },
        {
         "hoverinfo": "none",
         "line": {
          "color": "#888",
          "width": 1.039148394464184
         },
         "mode": "lines",
         "type": "scatter",
         "x": [
          -13.488565177169946,
          -13.862864446562623
         ],
         "y": [
          -4.37128180082043,
          -4.948323816069961
         ]
        },
        {
         "hoverinfo": "none",
         "line": {
          "color": "#888",
          "width": 1.087335300402193
         },
         "mode": "lines",
         "type": "scatter",
         "x": [
          -13.488565177169946,
          -13.595012385775345
         ],
         "y": [
          -4.37128180082043,
          -5.071548520780777
         ]
        },
        {
         "hoverinfo": "none",
         "line": {
          "color": "#888",
          "width": 1.0567132183017802
         },
         "mode": "lines",
         "type": "scatter",
         "x": [
          -12.768571916377084,
          -13.571478264075706
         ],
         "y": [
          -2.202834356611686,
          -2.8918310027628173
         ]
        },
        {
         "hoverinfo": "none",
         "line": {
          "color": "#888",
          "width": 1.6371534026308052
         },
         "mode": "lines",
         "type": "scatter",
         "x": [
          -14.47810030254798,
          -14.790576922423055
         ],
         "y": [
          -6.400656932273691,
          -5.938131240021356
         ]
        },
        {
         "hoverinfo": "none",
         "line": {
          "color": "#888",
          "width": 1.1270270101437254
         },
         "mode": "lines",
         "type": "scatter",
         "x": [
          -14.790576922423055,
          -13.611430736159944
         ],
         "y": [
          -5.938131240021356,
          -5.876190550342591
         ]
        },
        {
         "hoverinfo": "none",
         "line": {
          "color": "#888",
          "width": 1.2693981784240256
         },
         "mode": "lines",
         "type": "scatter",
         "x": [
          -14.790576922423055,
          -14.371871984258576
         ],
         "y": [
          -5.938131240021356,
          -5.309789890205194
         ]
        },
        {
         "hoverinfo": "none",
         "line": {
          "color": "#888",
          "width": 1.0170497165325973
         },
         "mode": "lines",
         "type": "scatter",
         "x": [
          -14.790576922423055,
          -15.06299985540851
         ],
         "y": [
          -5.938131240021356,
          -6.295317665169309
         ]
        },
        {
         "hoverinfo": "none",
         "line": {
          "color": "#888",
          "width": 1.1612526769517293
         },
         "mode": "lines",
         "type": "scatter",
         "x": [
          -14.790576922423055,
          -15.851128569030708
         ],
         "y": [
          -5.938131240021356,
          -6.736423468652748
         ]
        },
        {
         "hoverinfo": "none",
         "line": {
          "color": "#888",
          "width": 1.0623490685536305
         },
         "mode": "lines",
         "type": "scatter",
         "x": [
          -14.790576922423055,
          -14.337115099508948
         ],
         "y": [
          -5.938131240021356,
          -5.589642377557384
         ]
        },
        {
         "hoverinfo": "none",
         "line": {
          "color": "#888",
          "width": 1.251505001338207
         },
         "mode": "lines",
         "type": "scatter",
         "x": [
          -14.790576922423055,
          -14.43856045774682
         ],
         "y": [
          -5.938131240021356,
          -5.340015312798051
         ]
        },
        {
         "hoverinfo": "none",
         "line": {
          "color": "#888",
          "width": 1.300990766960133
         },
         "mode": "lines",
         "type": "scatter",
         "x": [
          -14.790576922423055,
          -14.895945710193905
         ],
         "y": [
          -5.938131240021356,
          -6.507485318880583
         ]
        },
        {
         "hoverinfo": "none",
         "line": {
          "color": "#888",
          "width": 1.016731652620529
         },
         "mode": "lines",
         "type": "scatter",
         "x": [
          -14.790576922423055,
          -13.981029096872376
         ],
         "y": [
          -5.938131240021356,
          -6.832951899584617
         ]
        },
        {
         "hoverinfo": "none",
         "line": {
          "color": "#888",
          "width": 1.1984960462707082
         },
         "mode": "lines",
         "type": "scatter",
         "x": [
          -14.790576922423055,
          -14.817113325705948
         ],
         "y": [
          -5.938131240021356,
          -5.149943024367288
         ]
        },
        {
         "hoverinfo": "none",
         "line": {
          "color": "#888",
          "width": 1.3038656131771333
         },
         "mode": "lines",
         "type": "scatter",
         "x": [
          -14.790576922423055,
          -14.616955577935325
         ],
         "y": [
          -5.938131240021356,
          -6.93972065520944
         ]
        },
        {
         "hoverinfo": "none",
         "line": {
          "color": "#888",
          "width": 1.2236205374900375
         },
         "mode": "lines",
         "type": "scatter",
         "x": [
          -14.790576922423055,
          -15.270463960168538
         ],
         "y": [
          -5.938131240021356,
          -4.5058576710257725
         ]
        },
        {
         "hoverinfo": "none",
         "line": {
          "color": "#888",
          "width": 1.27430688221318
         },
         "mode": "lines",
         "type": "scatter",
         "x": [
          -14.790576922423055,
          -14.899682882110234
         ],
         "y": [
          -5.938131240021356,
          -7.017099143443842
         ]
        },
        {
         "hoverinfo": "none",
         "line": {
          "color": "#888",
          "width": 1.3020081673906392
         },
         "mode": "lines",
         "type": "scatter",
         "x": [
          -14.790576922423055,
          -14.094060124693677
         ],
         "y": [
          -5.938131240021356,
          -5.024824129450616
         ]
        },
        {
         "hoverinfo": "none",
         "line": {
          "color": "#888",
          "width": 1.065898236688193
         },
         "mode": "lines",
         "type": "scatter",
         "x": [
          -14.790576922423055,
          -16.267835709249958
         ],
         "y": [
          -5.938131240021356,
          -6.355602529130001
         ]
        },
        {
         "hoverinfo": "none",
         "line": {
          "color": "#888",
          "width": 1.3884330604881154
         },
         "mode": "lines",
         "type": "scatter",
         "x": [
          -14.790576922423055,
          -15.573741906957562
         ],
         "y": [
          -5.938131240021356,
          -5.537184150233229
         ]
        },
        {
         "hoverinfo": "none",
         "line": {
          "color": "#888",
          "width": 1.1489777860747632
         },
         "mode": "lines",
         "type": "scatter",
         "x": [
          -14.790576922423055,
          -13.94653562468436
         ],
         "y": [
          -5.938131240021356,
          -5.670154951244973
         ]
        },
        {
         "hoverinfo": "none",
         "line": {
          "color": "#888",
          "width": 1.0262180960617426
         },
         "mode": "lines",
         "type": "scatter",
         "x": [
          -14.790576922423055,
          -14.251523252864162
         ],
         "y": [
          -5.938131240021356,
          -7.368519936234171
         ]
        },
        {
         "hoverinfo": "none",
         "line": {
          "color": "#888",
          "width": 1.14065775250979
         },
         "mode": "lines",
         "type": "scatter",
         "x": [
          -14.790576922423055,
          -14.813549771834133
         ],
         "y": [
          -5.938131240021356,
          -4.598891617330923
         ]
        },
        {
         "hoverinfo": "none",
         "line": {
          "color": "#888",
          "width": 1.1582870114175923
         },
         "mode": "lines",
         "type": "scatter",
         "x": [
          -11.244240282210873,
          -10.49470355259253
         ],
         "y": [
          1.4516582156974511,
          1.0265196601417719
         ]
        },
        {
         "hoverinfo": "none",
         "line": {
          "color": "#888",
          "width": 1.071128511782815
         },
         "mode": "lines",
         "type": "scatter",
         "x": [
          -11.244240282210873,
          -10.473368711807028
         ],
         "y": [
          1.4516582156974511,
          1.9014101903728275
         ]
        },
        {
         "hoverinfo": "none",
         "line": {
          "color": "#888",
          "width": 1.0081743046431522
         },
         "mode": "lines",
         "type": "scatter",
         "x": [
          -13.775376605956216,
          -13.571478264075706
         ],
         "y": [
          -1.8631268355922337,
          -2.8918310027628173
         ]
        },
        {
         "hoverinfo": "none",
         "line": {
          "color": "#888",
          "width": 1.0567132183017802
         },
         "mode": "lines",
         "type": "scatter",
         "x": [
          -12.768571916377084,
          -13.571478264075706
         ],
         "y": [
          -2.202834356611686,
          -2.8918310027628173
         ]
        },
        {
         "hoverinfo": "none",
         "line": {
          "color": "#888",
          "width": 1.0073463770523887
         },
         "mode": "lines",
         "type": "scatter",
         "x": [
          -13.571478264075706,
          -14.08296077725767
         ],
         "y": [
          -2.8918310027628173,
          -2.91931092816861
         ]
        },
        {
         "hoverinfo": "none",
         "line": {
          "color": "#888",
          "width": 1.0182271896430728
         },
         "mode": "lines",
         "type": "scatter",
         "x": [
          -13.571478264075706,
          -14.265225489671783
         ],
         "y": [
          -2.8918310027628173,
          -3.9299109157582914
         ]
        },
        {
         "hoverinfo": "none",
         "line": {
          "color": "#888",
          "width": 1.0146110052408288
         },
         "mode": "lines",
         "type": "scatter",
         "x": [
          -13.875537710711491,
          -15.190594501558186
         ],
         "y": [
          -5.32928344518222,
          -4.907635561614265
         ]
        },
        {
         "hoverinfo": "none",
         "line": {
          "color": "#888",
          "width": 1.0243173114834625
         },
         "mode": "lines",
         "type": "scatter",
         "x": [
          -14.871497661265048,
          -15.190594501558186
         ],
         "y": [
          -4.4476025797803,
          -4.907635561614265
         ]
        },
        {
         "hoverinfo": "none",
         "line": {
          "color": "#888",
          "width": 1.381587268864401
         },
         "mode": "lines",
         "type": "scatter",
         "x": [
          -15.190594501558186,
          -14.371871984258576
         ],
         "y": [
          -4.907635561614265,
          -5.309789890205194
         ]
        },
        {
         "hoverinfo": "none",
         "line": {
          "color": "#888",
          "width": 1.1790582434587684
         },
         "mode": "lines",
         "type": "scatter",
         "x": [
          -15.190594501558186,
          -15.717211012483808
         ],
         "y": [
          -4.907635561614265,
          -5.367590516567743
         ]
        },
        {
         "hoverinfo": "none",
         "line": {
          "color": "#888",
          "width": 1.093322173938592
         },
         "mode": "lines",
         "type": "scatter",
         "x": [
          -15.190594501558186,
          -16.369973290532833
         ],
         "y": [
          -4.907635561614265,
          -4.718698595445405
         ]
        },
        {
         "hoverinfo": "none",
         "line": {
          "color": "#888",
          "width": 1.0333383319246838
         },
         "mode": "lines",
         "type": "scatter",
         "x": [
          -15.190594501558186,
          -14.189771826738772
         ],
         "y": [
          -4.907635561614265,
          -5.87173038695074
         ]
        },
        {
         "hoverinfo": "none",
         "line": {
          "color": "#888",
          "width": 1.2615964429238864
         },
         "mode": "lines",
         "type": "scatter",
         "x": [
          -15.190594501558186,
          -15.150173669132453
         ],
         "y": [
          -4.907635561614265,
          -5.634570573180639
         ]
        },
        {
         "hoverinfo": "none",
         "line": {
          "color": "#888",
          "width": 1.3636061225836045
         },
         "mode": "lines",
         "type": "scatter",
         "x": [
          -15.190594501558186,
          -14.43856045774682
         ],
         "y": [
          -4.907635561614265,
          -5.340015312798051
         ]
        },
        {
         "hoverinfo": "none",
         "line": {
          "color": "#888",
          "width": 1.0291797412739954
         },
         "mode": "lines",
         "type": "scatter",
         "x": [
          -15.190594501558186,
          -14.817113325705948
         ],
         "y": [
          -4.907635561614265,
          -5.149943024367288
         ]
        },
        {
         "hoverinfo": "none",
         "line": {
          "color": "#888",
          "width": 1.0146031495542491
         },
         "mode": "lines",
         "type": "scatter",
         "x": [
          -15.190594501558186,
          -15.28225172984896
         ],
         "y": [
          -4.907635561614265,
          -5.387738780527072
         ]
        },
        {
         "hoverinfo": "none",
         "line": {
          "color": "#888",
          "width": 1.0164502373755715
         },
         "mode": "lines",
         "type": "scatter",
         "x": [
          -15.190594501558186,
          -15.438938010325261
         ],
         "y": [
          -4.907635561614265,
          -4.675896407068778
         ]
        },
        {
         "hoverinfo": "none",
         "line": {
          "color": "#888",
          "width": 1.2014805783755724
         },
         "mode": "lines",
         "type": "scatter",
         "x": [
          -15.031880911245818,
          -14.645765529985793
         ],
         "y": [
          -6.838172886473517,
          -6.201254807051291
         ]
        },
        {
         "hoverinfo": "none",
         "line": {
          "color": "#888",
          "width": 1.1138911894863133
         },
         "mode": "lines",
         "type": "scatter",
         "x": [
          -15.031880911245818,
          -15.06299985540851
         ],
         "y": [
          -6.838172886473517,
          -6.295317665169309
         ]
        },
        {
         "hoverinfo": "none",
         "line": {
          "color": "#888",
          "width": 1.176426936885183
         },
         "mode": "lines",
         "type": "scatter",
         "x": [
          -15.031880911245818,
          -14.189771826738772
         ],
         "y": [
          -6.838172886473517,
          -5.87173038695074
         ]
        },
        {
         "hoverinfo": "none",
         "line": {
          "color": "#888",
          "width": 1.0229105301520915
         },
         "mode": "lines",
         "type": "scatter",
         "x": [
          -15.031880911245818,
          -13.770553405879493
         ],
         "y": [
          -6.838172886473517,
          -6.979374153748573
         ]
        },
        {
         "hoverinfo": "none",
         "line": {
          "color": "#888",
          "width": 1.2245279375100873
         },
         "mode": "lines",
         "type": "scatter",
         "x": [
          -15.031880911245818,
          -15.41477323554502
         ],
         "y": [
          -6.838172886473517,
          -6.0598151704403165
         ]
        },
        {
         "hoverinfo": "none",
         "line": {
          "color": "#888",
          "width": 1.101846943540752
         },
         "mode": "lines",
         "type": "scatter",
         "x": [
          -15.031880911245818,
          -15.264536165409725
         ],
         "y": [
          -6.838172886473517,
          -6.329600572063244
         ]
        },
        {
         "hoverinfo": "none",
         "line": {
          "color": "#888",
          "width": 1.1276664619108372
         },
         "mode": "lines",
         "type": "scatter",
         "x": [
          -15.031880911245818,
          -14.753566114591269
         ],
         "y": [
          -6.838172886473517,
          -5.638625502914219
         ]
        },
        {
         "hoverinfo": "none",
         "line": {
          "color": "#888",
          "width": 1.1143542077789714
         },
         "mode": "lines",
         "type": "scatter",
         "x": [
          -15.031880911245818,
          -14.534578693420821
         ],
         "y": [
          -6.838172886473517,
          -5.867735650205169
         ]
        },
        {
         "hoverinfo": "none",
         "line": {
          "color": "#888",
          "width": 1.2841756270730427
         },
         "mode": "lines",
         "type": "scatter",
         "x": [
          -15.031880911245818,
          -15.497439241197572
         ],
         "y": [
          -6.838172886473517,
          -5.806596942822509
         ]
        },
        {
         "hoverinfo": "none",
         "line": {
          "color": "#888",
          "width": 1.1269710207281634
         },
         "mode": "lines",
         "type": "scatter",
         "x": [
          -15.031880911245818,
          -15.013124154598115
         ],
         "y": [
          -6.838172886473517,
          -5.529484149368032
         ]
        },
        {
         "hoverinfo": "none",
         "line": {
          "color": "#888",
          "width": 1.8293488207175532
         },
         "mode": "lines",
         "type": "scatter",
         "x": [
          -15.031880911245818,
          -14.61875612341671
         ],
         "y": [
          -6.838172886473517,
          -6.457956231183889
         ]
        },
        {
         "hoverinfo": "none",
         "line": {
          "color": "#888",
          "width": 1.040035629749341
         },
         "mode": "lines",
         "type": "scatter",
         "x": [
          -16.853929849925986,
          -17.872139148439057
         ],
         "y": [
          -5.206796894862642,
          -5.726698746391567
         ]
        },
        {
         "hoverinfo": "none",
         "line": {
          "color": "#888",
          "width": 1.0080409976690115
         },
         "mode": "lines",
         "type": "scatter",
         "x": [
          -16.853929849925986,
          -15.573741906957562
         ],
         "y": [
          -5.206796894862642,
          -5.537184150233229
         ]
        },
        {
         "hoverinfo": "none",
         "line": {
          "color": "#888",
          "width": 1.2312097071671984
         },
         "mode": "lines",
         "type": "scatter",
         "x": [
          -16.853929849925986,
          -17.694988821261077
         ],
         "y": [
          -5.206796894862642,
          -4.479264697716163
         ]
        },
        {
         "hoverinfo": "none",
         "line": {
          "color": "#888",
          "width": 1.165453709031058
         },
         "mode": "lines",
         "type": "scatter",
         "x": [
          -16.853929849925986,
          -17.866002807707734
         ],
         "y": [
          -5.206796894862642,
          -5.100824687457911
         ]
        },
        {
         "hoverinfo": "none",
         "line": {
          "color": "#888",
          "width": 1.049328234297132
         },
         "mode": "lines",
         "type": "scatter",
         "x": [
          -13.09713495454668,
          -13.270489320443948
         ],
         "y": [
          -3.5288621511908427,
          -4.814867740596674
         ]
        },
        {
         "hoverinfo": "none",
         "line": {
          "color": "#888",
          "width": 1.0237158988547368
         },
         "mode": "lines",
         "type": "scatter",
         "x": [
          -13.09713495454668,
          -12.371455468108477
         ],
         "y": [
          -3.5288621511908427,
          -3.315088065905645
         ]
        },
        {
         "hoverinfo": "none",
         "line": {
          "color": "#888",
          "width": 1.2664803789354053
         },
         "mode": "lines",
         "type": "scatter",
         "x": [
          -13.09713495454668,
          -13.445922253012837
         ],
         "y": [
          -3.5288621511908427,
          -3.229877120455521
         ]
        },
        {
         "hoverinfo": "none",
         "line": {
          "color": "#888",
          "width": 1.0129143583647515
         },
         "mode": "lines",
         "type": "scatter",
         "x": [
          -13.09713495454668,
          -14.531025161560613
         ],
         "y": [
          -3.5288621511908427,
          -4.080508516917675
         ]
        },
        {
         "hoverinfo": "none",
         "line": {
          "color": "#888",
          "width": 1.1073355126124376
         },
         "mode": "lines",
         "type": "scatter",
         "x": [
          -15.337884524937785,
          -14.531025161560613
         ],
         "y": [
          -3.0707153765384603,
          -4.080508516917675
         ]
        },
        {
         "hoverinfo": "none",
         "line": {
          "color": "#888",
          "width": 1.1771785420367555
         },
         "mode": "lines",
         "type": "scatter",
         "x": [
          -9.816578777142215,
          -10.49470355259253
         ],
         "y": [
          0.4565068393884585,
          1.0265196601417719
         ]
        },
        {
         "hoverinfo": "none",
         "line": {
          "color": "#888",
          "width": 1.0141833903659176
         },
         "mode": "lines",
         "type": "scatter",
         "x": [
          -14.47810030254798,
          -14.645765529985793
         ],
         "y": [
          -6.400656932273691,
          -6.201254807051291
         ]
        },
        {
         "hoverinfo": "none",
         "line": {
          "color": "#888",
          "width": 1.2014805783755724
         },
         "mode": "lines",
         "type": "scatter",
         "x": [
          -15.031880911245818,
          -14.645765529985793
         ],
         "y": [
          -6.838172886473517,
          -6.201254807051291
         ]
        },
        {
         "hoverinfo": "none",
         "line": {
          "color": "#888",
          "width": 1.1464411942901618
         },
         "mode": "lines",
         "type": "scatter",
         "x": [
          -14.645765529985793,
          -14.371871984258576
         ],
         "y": [
          -6.201254807051291,
          -5.309789890205194
         ]
        },
        {
         "hoverinfo": "none",
         "line": {
          "color": "#888",
          "width": 1.2534008462211892
         },
         "mode": "lines",
         "type": "scatter",
         "x": [
          -14.645765529985793,
          -15.06299985540851
         ],
         "y": [
          -6.201254807051291,
          -6.295317665169309
         ]
        },
        {
         "hoverinfo": "none",
         "line": {
          "color": "#888",
          "width": 1.3890291732029427
         },
         "mode": "lines",
         "type": "scatter",
         "x": [
          -14.645765529985793,
          -14.200026977870785
         ],
         "y": [
          -6.201254807051291,
          -6.491007842347108
         ]
        },
        {
         "hoverinfo": "none",
         "line": {
          "color": "#888",
          "width": 1.2511525607865748
         },
         "mode": "lines",
         "type": "scatter",
         "x": [
          -14.645765529985793,
          -14.189771826738772
         ],
         "y": [
          -6.201254807051291,
          -5.87173038695074
         ]
        },
        {
         "hoverinfo": "none",
         "line": {
          "color": "#888",
          "width": 1.0483439079351167
         },
         "mode": "lines",
         "type": "scatter",
         "x": [
          -14.645765529985793,
          -13.54321562440723
         ],
         "y": [
          -6.201254807051291,
          -6.325668381304119
         ]
        },
        {
         "hoverinfo": "none",
         "line": {
          "color": "#888",
          "width": 1.0759072517601342
         },
         "mode": "lines",
         "type": "scatter",
         "x": [
          -14.645765529985793,
          -15.150173669132453
         ],
         "y": [
          -6.201254807051291,
          -5.634570573180639
         ]
        },
        {
         "hoverinfo": "none",
         "line": {
          "color": "#888",
          "width": 1.1483881519259036
         },
         "mode": "lines",
         "type": "scatter",
         "x": [
          -14.645765529985793,
          -13.770553405879493
         ],
         "y": [
          -6.201254807051291,
          -6.979374153748573
         ]
        },
        {
         "hoverinfo": "none",
         "line": {
          "color": "#888",
          "width": 1.132076111448573
         },
         "mode": "lines",
         "type": "scatter",
         "x": [
          -14.645765529985793,
          -14.43856045774682
         ],
         "y": [
          -6.201254807051291,
          -5.340015312798051
         ]
        },
        {
         "hoverinfo": "none",
         "line": {
          "color": "#888",
          "width": 1.0844524091290217
         },
         "mode": "lines",
         "type": "scatter",
         "x": [
          -14.645765529985793,
          -14.817113325705948
         ],
         "y": [
          -6.201254807051291,
          -5.149943024367288
         ]
        },
        {
         "hoverinfo": "none",
         "line": {
          "color": "#888",
          "width": 1.22046042938976
         },
         "mode": "lines",
         "type": "scatter",
         "x": [
          -14.645765529985793,
          -15.41477323554502
         ],
         "y": [
          -6.201254807051291,
          -6.0598151704403165
         ]
        },
        {
         "hoverinfo": "none",
         "line": {
          "color": "#888",
          "width": 1.2360856728275742
         },
         "mode": "lines",
         "type": "scatter",
         "x": [
          -14.645765529985793,
          -15.264536165409725
         ],
         "y": [
          -6.201254807051291,
          -6.329600572063244
         ]
        },
        {
         "hoverinfo": "none",
         "line": {
          "color": "#888",
          "width": 1.0652308067936342
         },
         "mode": "lines",
         "type": "scatter",
         "x": [
          -14.645765529985793,
          -14.753566114591269
         ],
         "y": [
          -6.201254807051291,
          -5.638625502914219
         ]
        },
        {
         "hoverinfo": "none",
         "line": {
          "color": "#888",
          "width": 1.324592715833349
         },
         "mode": "lines",
         "type": "scatter",
         "x": [
          -14.645765529985793,
          -14.534578693420821
         ],
         "y": [
          -6.201254807051291,
          -5.867735650205169
         ]
        },
        {
         "hoverinfo": "none",
         "line": {
          "color": "#888",
          "width": 1.3032063597556576
         },
         "mode": "lines",
         "type": "scatter",
         "x": [
          -14.645765529985793,
          -15.497439241197572
         ],
         "y": [
          -6.201254807051291,
          -5.806596942822509
         ]
        },
        {
         "hoverinfo": "none",
         "line": {
          "color": "#888",
          "width": 1.1172234268593138
         },
         "mode": "lines",
         "type": "scatter",
         "x": [
          -14.645765529985793,
          -15.013124154598115
         ],
         "y": [
          -6.201254807051291,
          -5.529484149368032
         ]
        },
        {
         "hoverinfo": "none",
         "line": {
          "color": "#888",
          "width": 1.1146414038575085
         },
         "mode": "lines",
         "type": "scatter",
         "x": [
          -14.645765529985793,
          -14.61875612341671
         ],
         "y": [
          -6.201254807051291,
          -6.457956231183889
         ]
        },
        {
         "hoverinfo": "none",
         "line": {
          "color": "#888",
          "width": 1.01777505967313
         },
         "mode": "lines",
         "type": "scatter",
         "x": [
          -13.707691486982672,
          -14.610294342996928
         ],
         "y": [
          -7.849823638865185,
          -7.34091427117728
         ]
        },
        {
         "hoverinfo": "none",
         "line": {
          "color": "#888",
          "width": 1.2360378978834887
         },
         "mode": "lines",
         "type": "scatter",
         "x": [
          -14.121106121702685,
          -14.610294342996928
         ],
         "y": [
          -7.567300842448139,
          -7.34091427117728
         ]
        },
        {
         "hoverinfo": "none",
         "line": {
          "color": "#888",
          "width": 1.146699615623318
         },
         "mode": "lines",
         "type": "scatter",
         "x": [
          -14.610294342996928,
          -13.24315673940496
         ],
         "y": [
          -7.34091427117728,
          -6.689195662075548
         ]
        },
        {
         "hoverinfo": "none",
         "line": {
          "color": "#888",
          "width": 1.094290245698182
         },
         "mode": "lines",
         "type": "scatter",
         "x": [
          -14.610294342996928,
          -14.200026977870785
         ],
         "y": [
          -7.34091427117728,
          -6.491007842347108
         ]
        },
        {
         "hoverinfo": "none",
         "line": {
          "color": "#888",
          "width": 1.2597641475622958
         },
         "mode": "lines",
         "type": "scatter",
         "x": [
          -14.610294342996928,
          -13.770553405879493
         ],
         "y": [
          -7.34091427117728,
          -6.979374153748573
         ]
        },
        {
         "hoverinfo": "none",
         "line": {
          "color": "#888",
          "width": 1.009891226732699
         },
         "mode": "lines",
         "type": "scatter",
         "x": [
          -14.610294342996928,
          -15.28225172984896
         ],
         "y": [
          -7.34091427117728,
          -5.387738780527072
         ]
        },
        {
         "hoverinfo": "none",
         "line": {
          "color": "#888",
          "width": 1.1455749507040294
         },
         "mode": "lines",
         "type": "scatter",
         "x": [
          -14.610294342996928,
          -14.61875612341671
         ],
         "y": [
          -7.34091427117728,
          -6.457956231183889
         ]
        },
        {
         "hoverinfo": "none",
         "line": {
          "color": "#888",
          "width": 1.0658626000410127
         },
         "mode": "lines",
         "type": "scatter",
         "x": [
          -13.875537710711491,
          -13.24315673940496
         ],
         "y": [
          -5.32928344518222,
          -6.689195662075548
         ]
        },
        {
         "hoverinfo": "none",
         "line": {
          "color": "#888",
          "width": 1.12938419146808
         },
         "mode": "lines",
         "type": "scatter",
         "x": [
          -13.707691486982672,
          -13.24315673940496
         ],
         "y": [
          -7.849823638865185,
          -6.689195662075548
         ]
        },
        {
         "hoverinfo": "none",
         "line": {
          "color": "#888",
          "width": 1.1219332819026966
         },
         "mode": "lines",
         "type": "scatter",
         "x": [
          -13.707209565894951,
          -13.24315673940496
         ],
         "y": [
          -5.531850608732078,
          -6.689195662075548
         ]
        },
        {
         "hoverinfo": "none",
         "line": {
          "color": "#888",
          "width": 1.3481984995945968
         },
         "mode": "lines",
         "type": "scatter",
         "x": [
          -14.121106121702685,
          -13.24315673940496
         ],
         "y": [
          -7.567300842448139,
          -6.689195662075548
         ]
        },
        {
         "hoverinfo": "none",
         "line": {
          "color": "#888",
          "width": 1.146699615623318
         },
         "mode": "lines",
         "type": "scatter",
         "x": [
          -14.610294342996928,
          -13.24315673940496
         ],
         "y": [
          -7.34091427117728,
          -6.689195662075548
         ]
        },
        {
         "hoverinfo": "none",
         "line": {
          "color": "#888",
          "width": 1.2640652763479268
         },
         "mode": "lines",
         "type": "scatter",
         "x": [
          -13.24315673940496,
          -13.611430736159944
         ],
         "y": [
          -6.689195662075548,
          -5.876190550342591
         ]
        },
        {
         "hoverinfo": "none",
         "line": {
          "color": "#888",
          "width": 1.3428936221763546
         },
         "mode": "lines",
         "type": "scatter",
         "x": [
          -13.24315673940496,
          -13.770553405879493
         ],
         "y": [
          -6.689195662075548,
          -6.979374153748573
         ]
        },
        {
         "hoverinfo": "none",
         "line": {
          "color": "#888",
          "width": 1.1687158288165795
         },
         "mode": "lines",
         "type": "scatter",
         "x": [
          -13.24315673940496,
          -12.615706303724961
         ],
         "y": [
          -6.689195662075548,
          -6.909290102969761
         ]
        },
        {
         "hoverinfo": "none",
         "line": {
          "color": "#888",
          "width": 1.1458170895486544
         },
         "mode": "lines",
         "type": "scatter",
         "x": [
          -13.24315673940496,
          -13.390218289739371
         ],
         "y": [
          -6.689195662075548,
          -5.733405128642964
         ]
        },
        {
         "hoverinfo": "none",
         "line": {
          "color": "#888",
          "width": 1.231759241353672
         },
         "mode": "lines",
         "type": "scatter",
         "x": [
          -13.24315673940496,
          -13.273225990625084
         ],
         "y": [
          -6.689195662075548,
          -6.038017673214097
         ]
        },
        {
         "hoverinfo": "none",
         "line": {
          "color": "#888",
          "width": 1.1164940239974934
         },
         "mode": "lines",
         "type": "scatter",
         "x": [
          -13.24315673940496,
          -12.885570200590106
         ],
         "y": [
          -6.689195662075548,
          -7.21902777395607
         ]
        },
        {
         "hoverinfo": "none",
         "line": {
          "color": "#888",
          "width": 1.0782829460041476
         },
         "mode": "lines",
         "type": "scatter",
         "x": [
          -15.643188614776893,
          -16.060753847986447
         ],
         "y": [
          -4.920766736253973,
          -5.566587789910302
         ]
        },
        {
         "hoverinfo": "none",
         "line": {
          "color": "#888",
          "width": 1.257201928708477
         },
         "mode": "lines",
         "type": "scatter",
         "x": [
          -14.954468630341605,
          -16.060753847986447
         ],
         "y": [
          -6.0025936578907055,
          -5.566587789910302
         ]
        },
        {
         "hoverinfo": "none",
         "line": {
          "color": "#888",
          "width": 1.0172628459319746
         },
         "mode": "lines",
         "type": "scatter",
         "x": [
          -14.362059659931681,
          -16.060753847986447
         ],
         "y": [
          -4.997657926517953,
          -5.566587789910302
         ]
        },
        {
         "hoverinfo": "none",
         "line": {
          "color": "#888",
          "width": 1.1019618551845796
         },
         "mode": "lines",
         "type": "scatter",
         "x": [
          -16.060753847986447,
          -16.47167403284231
         ],
         "y": [
          -5.566587789910302,
          -5.924729640631664
         ]
        },
        {
         "hoverinfo": "none",
         "line": {
          "color": "#888",
          "width": 1.0572669306738274
         },
         "mode": "lines",
         "type": "scatter",
         "x": [
          -16.060753847986447,
          -15.150173669132453
         ],
         "y": [
          -5.566587789910302,
          -5.634570573180639
         ]
        },
        {
         "hoverinfo": "none",
         "line": {
          "color": "#888",
          "width": 1.015098821210063
         },
         "mode": "lines",
         "type": "scatter",
         "x": [
          -16.060753847986447,
          -17.258365055378444
         ],
         "y": [
          -5.566587789910302,
          -5.679377352894312
         ]
        },
        {
         "hoverinfo": "none",
         "line": {
          "color": "#888",
          "width": 1.0665600340541475
         },
         "mode": "lines",
         "type": "scatter",
         "x": [
          -16.060753847986447,
          -16.785895922940433
         ],
         "y": [
          -5.566587789910302,
          -4.840032384087389
         ]
        },
        {
         "hoverinfo": "none",
         "line": {
          "color": "#888",
          "width": 1.0602471199975425
         },
         "mode": "lines",
         "type": "scatter",
         "x": [
          -16.060753847986447,
          -15.438938010325261
         ],
         "y": [
          -5.566587789910302,
          -4.675896407068778
         ]
        },
        {
         "hoverinfo": "none",
         "line": {
          "color": "#888",
          "width": 1.227184181781318
         },
         "mode": "lines",
         "type": "scatter",
         "x": [
          -16.247519470395954,
          -16.275597595647916
         ],
         "y": [
          2.697920918097788,
          3.472963276886355
         ]
        },
        {
         "hoverinfo": "none",
         "line": {
          "color": "#888",
          "width": 1.1343655629458087
         },
         "mode": "lines",
         "type": "scatter",
         "x": [
          -16.247519470395954,
          -17.051515082605246
         ],
         "y": [
          2.697920918097788,
          3.462596947966528
         ]
        },
        {
         "hoverinfo": "none",
         "line": {
          "color": "#888",
          "width": 1.1046334590206233
         },
         "mode": "lines",
         "type": "scatter",
         "x": [
          -16.247519470395954,
          -16.98941606596727
         ],
         "y": [
          2.697920918097788,
          2.7278720592525088
         ]
        },
        {
         "hoverinfo": "none",
         "line": {
          "color": "#888",
          "width": 1.1418051911270168
         },
         "mode": "lines",
         "type": "scatter",
         "x": [
          -11.963572497166131,
          -13.270489320443948
         ],
         "y": [
          -4.7295253742747505,
          -4.814867740596674
         ]
        },
        {
         "hoverinfo": "none",
         "line": {
          "color": "#888",
          "width": 1.049328234297132
         },
         "mode": "lines",
         "type": "scatter",
         "x": [
          -13.09713495454668,
          -13.270489320443948
         ],
         "y": [
          -3.5288621511908427,
          -4.814867740596674
         ]
        },
        {
         "hoverinfo": "none",
         "line": {
          "color": "#888",
          "width": 1.0034623961709634
         },
         "mode": "lines",
         "type": "scatter",
         "x": [
          -13.270489320443948,
          -13.611430736159944
         ],
         "y": [
          -4.814867740596674,
          -5.876190550342591
         ]
        },
        {
         "hoverinfo": "none",
         "line": {
          "color": "#888",
          "width": 1.0183573234405014
         },
         "mode": "lines",
         "type": "scatter",
         "x": [
          -13.270489320443948,
          -14.371871984258576
         ],
         "y": [
          -4.814867740596674,
          -5.309789890205194
         ]
        },
        {
         "hoverinfo": "none",
         "line": {
          "color": "#888",
          "width": 1.1752154149617038
         },
         "mode": "lines",
         "type": "scatter",
         "x": [
          -13.270489320443948,
          -14.189771826738772
         ],
         "y": [
          -4.814867740596674,
          -5.87173038695074
         ]
        },
        {
         "hoverinfo": "none",
         "line": {
          "color": "#888",
          "width": 1.0566396278035435
         },
         "mode": "lines",
         "type": "scatter",
         "x": [
          -13.270489320443948,
          -14.43856045774682
         ],
         "y": [
          -4.814867740596674,
          -5.340015312798051
         ]
        },
        {
         "hoverinfo": "none",
         "line": {
          "color": "#888",
          "width": 1.1197407888849389
         },
         "mode": "lines",
         "type": "scatter",
         "x": [
          -13.270489320443948,
          -12.781972190065094
         ],
         "y": [
          -4.814867740596674,
          -4.390247982935071
         ]
        },
        {
         "hoverinfo": "none",
         "line": {
          "color": "#888",
          "width": 1.1350118308234052
         },
         "mode": "lines",
         "type": "scatter",
         "x": [
          -13.270489320443948,
          -12.241731349316966
         ],
         "y": [
          -4.814867740596674,
          -4.133770859505214
         ]
        },
        {
         "hoverinfo": "none",
         "line": {
          "color": "#888",
          "width": 1.9540570469077267
         },
         "mode": "lines",
         "type": "scatter",
         "x": [
          -13.875537710711491,
          -13.611430736159944
         ],
         "y": [
          -5.32928344518222,
          -5.876190550342591
         ]
        },
        {
         "hoverinfo": "none",
         "line": {
          "color": "#888",
          "width": 1.056647300658568
         },
         "mode": "lines",
         "type": "scatter",
         "x": [
          -13.527157887205975,
          -13.611430736159944
         ],
         "y": [
          -5.464656038819423,
          -5.876190550342591
         ]
        },
        {
         "hoverinfo": "none",
         "line": {
          "color": "#888",
          "width": 1.1856272885034096
         },
         "mode": "lines",
         "type": "scatter",
         "x": [
          -14.362059659931681,
          -13.611430736159944
         ],
         "y": [
          -4.997657926517953,
          -5.876190550342591
         ]
        },
        {
         "hoverinfo": "none",
         "line": {
          "color": "#888",
          "width": 1.4691872548797291
         },
         "mode": "lines",
         "type": "scatter",
         "x": [
          -13.707209565894951,
          -13.611430736159944
         ],
         "y": [
          -5.531850608732078,
          -5.876190550342591
         ]
        },
        {
         "hoverinfo": "none",
         "line": {
          "color": "#888",
          "width": 1.1270270101437254
         },
         "mode": "lines",
         "type": "scatter",
         "x": [
          -14.790576922423055,
          -13.611430736159944
         ],
         "y": [
          -5.938131240021356,
          -5.876190550342591
         ]
        },
        {
         "hoverinfo": "none",
         "line": {
          "color": "#888",
          "width": 1.2640652763479268
         },
         "mode": "lines",
         "type": "scatter",
         "x": [
          -13.24315673940496,
          -13.611430736159944
         ],
         "y": [
          -6.689195662075548,
          -5.876190550342591
         ]
        },
        {
         "hoverinfo": "none",
         "line": {
          "color": "#888",
          "width": 1.0034623961709634
         },
         "mode": "lines",
         "type": "scatter",
         "x": [
          -13.270489320443948,
          -13.611430736159944
         ],
         "y": [
          -4.814867740596674,
          -5.876190550342591
         ]
        },
        {
         "hoverinfo": "none",
         "line": {
          "color": "#888",
          "width": 2.2141121478938164
         },
         "mode": "lines",
         "type": "scatter",
         "x": [
          -13.611430736159944,
          -14.371871984258576
         ],
         "y": [
          -5.876190550342591,
          -5.309789890205194
         ]
        },
        {
         "hoverinfo": "none",
         "line": {
          "color": "#888",
          "width": 1.0119653962338753
         },
         "mode": "lines",
         "type": "scatter",
         "x": [
          -13.611430736159944,
          -14.220471909568893
         ],
         "y": [
          -5.876190550342591,
          -6.888856057905963
         ]
        },
        {
         "hoverinfo": "none",
         "line": {
          "color": "#888",
          "width": 1.335460570441208
         },
         "mode": "lines",
         "type": "scatter",
         "x": [
          -13.611430736159944,
          -14.189771826738772
         ],
         "y": [
          -5.876190550342591,
          -5.87173038695074
         ]
        },
        {
         "hoverinfo": "none",
         "line": {
          "color": "#888",
          "width": 1.0094404198980842
         },
         "mode": "lines",
         "type": "scatter",
         "x": [
          -13.611430736159944,
          -13.222042469817788
         ],
         "y": [
          -5.876190550342591,
          -5.142310599034572
         ]
        },
        {
         "hoverinfo": "none",
         "line": {
          "color": "#888",
          "width": 1.76520562498758
         },
         "mode": "lines",
         "type": "scatter",
         "x": [
          -13.611430736159944,
          -13.88035938362524
         ],
         "y": [
          -5.876190550342591,
          -5.930339137052623
         ]
        },
        {
         "hoverinfo": "none",
         "line": {
          "color": "#888",
          "width": 1.029667423443561
         },
         "mode": "lines",
         "type": "scatter",
         "x": [
          -13.611430736159944,
          -13.387726540267733
         ],
         "y": [
          -5.876190550342591,
          -7.033495540347158
         ]
        },
        {
         "hoverinfo": "none",
         "line": {
          "color": "#888",
          "width": 2.1872722361747963
         },
         "mode": "lines",
         "type": "scatter",
         "x": [
          -13.611430736159944,
          -14.43856045774682
         ],
         "y": [
          -5.876190550342591,
          -5.340015312798051
         ]
        },
        {
         "hoverinfo": "none",
         "line": {
          "color": "#888",
          "width": 1.1358728561908775
         },
         "mode": "lines",
         "type": "scatter",
         "x": [
          -13.611430736159944,
          -12.781972190065094
         ],
         "y": [
          -5.876190550342591,
          -4.390247982935071
         ]
        },
        {
         "hoverinfo": "none",
         "line": {
          "color": "#888",
          "width": 1.0539800831501809
         },
         "mode": "lines",
         "type": "scatter",
         "x": [
          -13.611430736159944,
          -14.895945710193905
         ],
         "y": [
          -5.876190550342591,
          -6.507485318880583
         ]
        },
        {
         "hoverinfo": "none",
         "line": {
          "color": "#888",
          "width": 1.074493439756516
         },
         "mode": "lines",
         "type": "scatter",
         "x": [
          -13.611430736159944,
          -13.981029096872376
         ],
         "y": [
          -5.876190550342591,
          -6.832951899584617
         ]
        },
        {
         "hoverinfo": "none",
         "line": {
          "color": "#888",
          "width": 1.1148568168788477
         },
         "mode": "lines",
         "type": "scatter",
         "x": [
          -13.611430736159944,
          -13.894885252196177
         ],
         "y": [
          -5.876190550342591,
          -6.193450742401886
         ]
        },
        {
         "hoverinfo": "none",
         "line": {
          "color": "#888",
          "width": 1.5780503013019398
         },
         "mode": "lines",
         "type": "scatter",
         "x": [
          -13.611430736159944,
          -13.929962859924492
         ],
         "y": [
          -5.876190550342591,
          -4.657229596896204
         ]
        },
        {
         "hoverinfo": "none",
         "line": {
          "color": "#888",
          "width": 1.4450332099193164
         },
         "mode": "lines",
         "type": "scatter",
         "x": [
          -13.611430736159944,
          -13.390218289739371
         ],
         "y": [
          -5.876190550342591,
          -5.733405128642964
         ]
        },
        {
         "hoverinfo": "none",
         "line": {
          "color": "#888",
          "width": 1.3154972210087321
         },
         "mode": "lines",
         "type": "scatter",
         "x": [
          -13.611430736159944,
          -13.273225990625084
         ],
         "y": [
          -5.876190550342591,
          -6.038017673214097
         ]
        },
        {
         "hoverinfo": "none",
         "line": {
          "color": "#888",
          "width": 1.2385843657988345
         },
         "mode": "lines",
         "type": "scatter",
         "x": [
          -13.611430736159944,
          -14.534578693420821
         ],
         "y": [
          -5.876190550342591,
          -5.867735650205169
         ]
        },
        {
         "hoverinfo": "none",
         "line": {
          "color": "#888",
          "width": 1.0404031945162697
         },
         "mode": "lines",
         "type": "scatter",
         "x": [
          -13.611430736159944,
          -13.862864446562623
         ],
         "y": [
          -5.876190550342591,
          -4.948323816069961
         ]
        },
        {
         "hoverinfo": "none",
         "line": {
          "color": "#888",
          "width": 1.0852401352493468
         },
         "mode": "lines",
         "type": "scatter",
         "x": [
          -13.611430736159944,
          -13.595012385775345
         ],
         "y": [
          -5.876190550342591,
          -5.071548520780777
         ]
        },
        {
         "hoverinfo": "none",
         "line": {
          "color": "#888",
          "width": 1.3615631482798145
         },
         "mode": "lines",
         "type": "scatter",
         "x": [
          -13.611430736159944,
          -13.193598012960688
         ],
         "y": [
          -5.876190550342591,
          -5.37815957036336
         ]
        },
        {
         "hoverinfo": "none",
         "line": {
          "color": "#888",
          "width": 1.88146236894806
         },
         "mode": "lines",
         "type": "scatter",
         "x": [
          -13.611430736159944,
          -13.94653562468436
         ],
         "y": [
          -5.876190550342591,
          -5.670154951244973
         ]
        },
        {
         "hoverinfo": "none",
         "line": {
          "color": "#888",
          "width": 1.0948792638072153
         },
         "mode": "lines",
         "type": "scatter",
         "x": [
          -13.611430736159944,
          -12.670155574037661
         ],
         "y": [
          -5.876190550342591,
          -6.560713072991087
         ]
        },
        {
         "hoverinfo": "none",
         "line": {
          "color": "#888",
          "width": 1.1768508449521695
         },
         "mode": "lines",
         "type": "scatter",
         "x": [
          -12.635773186908066,
          -13.787919497620946
         ],
         "y": [
          -5.155684006072663,
          -4.43010290727313
         ]
        },
        {
         "hoverinfo": "none",
         "line": {
          "color": "#888",
          "width": 1.2839448025401863
         },
         "mode": "lines",
         "type": "scatter",
         "x": [
          -13.787919497620946,
          -14.43856045774682
         ],
         "y": [
          -4.43010290727313,
          -5.340015312798051
         ]
        },
        {
         "hoverinfo": "none",
         "line": {
          "color": "#888",
          "width": 1.1403599810656184
         },
         "mode": "lines",
         "type": "scatter",
         "x": [
          -13.787919497620946,
          -12.71233501434269
         ],
         "y": [
          -4.43010290727313,
          -4.7303986275351155
         ]
        },
        {
         "hoverinfo": "none",
         "line": {
          "color": "#888",
          "width": 1.2126837123212695
         },
         "mode": "lines",
         "type": "scatter",
         "x": [
          -13.787919497620946,
          -14.094060124693677
         ],
         "y": [
          -4.43010290727313,
          -5.024824129450616
         ]
        },
        {
         "hoverinfo": "none",
         "line": {
          "color": "#888",
          "width": 1.0867502706949521
         },
         "mode": "lines",
         "type": "scatter",
         "x": [
          -13.787919497620946,
          -13.94653562468436
         ],
         "y": [
          -4.43010290727313,
          -5.670154951244973
         ]
        },
        {
         "hoverinfo": "none",
         "line": {
          "color": "#888",
          "width": 1.0169021877525928
         },
         "mode": "lines",
         "type": "scatter",
         "x": [
          -13.787919497620946,
          -15.013124154598115
         ],
         "y": [
          -4.43010290727313,
          -5.529484149368032
         ]
        },
        {
         "hoverinfo": "none",
         "line": {
          "color": "#888",
          "width": 1.0122180204210627
         },
         "mode": "lines",
         "type": "scatter",
         "x": [
          -13.787919497620946,
          -14.644076666866233
         ],
         "y": [
          -4.43010290727313,
          -3.3947456299180043
         ]
        },
        {
         "hoverinfo": "none",
         "line": {
          "color": "#888",
          "width": 2.5970015432787803
         },
         "mode": "lines",
         "type": "scatter",
         "x": [
          -13.875537710711491,
          -14.371871984258576
         ],
         "y": [
          -5.32928344518222,
          -5.309789890205194
         ]
        },
        {
         "hoverinfo": "none",
         "line": {
          "color": "#888",
          "width": 1.316503749556375
         },
         "mode": "lines",
         "type": "scatter",
         "x": [
          -15.643188614776893,
          -14.371871984258576
         ],
         "y": [
          -4.920766736253973,
          -5.309789890205194
         ]
        },
        {
         "hoverinfo": "none",
         "line": {
          "color": "#888",
          "width": 1.9040831646216727
         },
         "mode": "lines",
         "type": "scatter",
         "x": [
          -13.527157887205975,
          -14.371871984258576
         ],
         "y": [
          -5.464656038819423,
          -5.309789890205194
         ]
        },
        {
         "hoverinfo": "none",
         "line": {
          "color": "#888",
          "width": 1.7510529183333121
         },
         "mode": "lines",
         "type": "scatter",
         "x": [
          -14.871497661265048,
          -14.371871984258576
         ],
         "y": [
          -4.4476025797803,
          -5.309789890205194
         ]
        },
        {
         "hoverinfo": "none",
         "line": {
          "color": "#888",
          "width": 1.1269075202535626
         },
         "mode": "lines",
         "type": "scatter",
         "x": [
          -14.954468630341605,
          -14.371871984258576
         ],
         "y": [
          -6.0025936578907055,
          -5.309789890205194
         ]
        },
        {
         "hoverinfo": "none",
         "line": {
          "color": "#888",
          "width": 1.0025563006527958
         },
         "mode": "lines",
         "type": "scatter",
         "x": [
          -13.996742299482742,
          -14.371871984258576
         ],
         "y": [
          -3.9899647066405595,
          -5.309789890205194
         ]
        },
        {
         "hoverinfo": "none",
         "line": {
          "color": "#888",
          "width": 1.9291399195771364
         },
         "mode": "lines",
         "type": "scatter",
         "x": [
          -14.362059659931681,
          -14.371871984258576
         ],
         "y": [
          -4.997657926517953,
          -5.309789890205194
         ]
        },
        {
         "hoverinfo": "none",
         "line": {
          "color": "#888",
          "width": 1.713190769748516
         },
         "mode": "lines",
         "type": "scatter",
         "x": [
          -13.707209565894951,
          -14.371871984258576
         ],
         "y": [
          -5.531850608732078,
          -5.309789890205194
         ]
        },
        {
         "hoverinfo": "none",
         "line": {
          "color": "#888",
          "width": 1.0539283700693882
         },
         "mode": "lines",
         "type": "scatter",
         "x": [
          -15.1943392716613,
          -14.371871984258576
         ],
         "y": [
          -4.331536967157103,
          -5.309789890205194
         ]
        },
        {
         "hoverinfo": "none",
         "line": {
          "color": "#888",
          "width": 1.0423669327280327
         },
         "mode": "lines",
         "type": "scatter",
         "x": [
          -14.47810030254798,
          -14.371871984258576
         ],
         "y": [
          -6.400656932273691,
          -5.309789890205194
         ]
        },
        {
         "hoverinfo": "none",
         "line": {
          "color": "#888",
          "width": 1.3313657603805105
         },
         "mode": "lines",
         "type": "scatter",
         "x": [
          -13.488565177169946,
          -14.371871984258576
         ],
         "y": [
          -4.37128180082043,
          -5.309789890205194
         ]
        },
        {
         "hoverinfo": "none",
         "line": {
          "color": "#888",
          "width": 1.2693981784240256
         },
         "mode": "lines",
         "type": "scatter",
         "x": [
          -14.790576922423055,
          -14.371871984258576
         ],
         "y": [
          -5.938131240021356,
          -5.309789890205194
         ]
        },
        {
         "hoverinfo": "none",
         "line": {
          "color": "#888",
          "width": 1.381587268864401
         },
         "mode": "lines",
         "type": "scatter",
         "x": [
          -15.190594501558186,
          -14.371871984258576
         ],
         "y": [
          -4.907635561614265,
          -5.309789890205194
         ]
        },
        {
         "hoverinfo": "none",
         "line": {
          "color": "#888",
          "width": 1.1464411942901618
         },
         "mode": "lines",
         "type": "scatter",
         "x": [
          -14.645765529985793,
          -14.371871984258576
         ],
         "y": [
          -6.201254807051291,
          -5.309789890205194
         ]
        },
        {
         "hoverinfo": "none",
         "line": {
          "color": "#888",
          "width": 1.0183573234405014
         },
         "mode": "lines",
         "type": "scatter",
         "x": [
          -13.270489320443948,
          -14.371871984258576
         ],
         "y": [
          -4.814867740596674,
          -5.309789890205194
         ]
        },
        {
         "hoverinfo": "none",
         "line": {
          "color": "#888",
          "width": 2.2141121478938164
         },
         "mode": "lines",
         "type": "scatter",
         "x": [
          -13.611430736159944,
          -14.371871984258576
         ],
         "y": [
          -5.876190550342591,
          -5.309789890205194
         ]
        },
        {
         "hoverinfo": "none",
         "line": {
          "color": "#888",
          "width": 1.1712860523167408
         },
         "mode": "lines",
         "type": "scatter",
         "x": [
          -14.371871984258576,
          -15.06299985540851
         ],
         "y": [
          -5.309789890205194,
          -6.295317665169309
         ]
        },
        {
         "hoverinfo": "none",
         "line": {
          "color": "#888",
          "width": 1.4412857713781093
         },
         "mode": "lines",
         "type": "scatter",
         "x": [
          -14.371871984258576,
          -14.200026977870785
         ],
         "y": [
          -5.309789890205194,
          -6.491007842347108
         ]
        },
        {
         "hoverinfo": "none",
         "line": {
          "color": "#888",
          "width": 2.429011397785476
         },
         "mode": "lines",
         "type": "scatter",
         "x": [
          -14.371871984258576,
          -14.189771826738772
         ],
         "y": [
          -5.309789890205194,
          -5.87173038695074
         ]
        },
        {
         "hoverinfo": "none",
         "line": {
          "color": "#888",
          "width": 1.3331325105622227
         },
         "mode": "lines",
         "type": "scatter",
         "x": [
          -14.371871984258576,
          -13.54321562440723
         ],
         "y": [
          -5.309789890205194,
          -6.325668381304119
         ]
        },
        {
         "hoverinfo": "none",
         "line": {
          "color": "#888",
          "width": 1.6901053602020606
         },
         "mode": "lines",
         "type": "scatter",
         "x": [
          -14.371871984258576,
          -15.150173669132453
         ],
         "y": [
          -5.309789890205194,
          -5.634570573180639
         ]
        },
        {
         "hoverinfo": "none",
         "line": {
          "color": "#888",
          "width": 1.416011696579956
         },
         "mode": "lines",
         "type": "scatter",
         "x": [
          -14.371871984258576,
          -13.222042469817788
         ],
         "y": [
          -5.309789890205194,
          -5.142310599034572
         ]
        },
        {
         "hoverinfo": "none",
         "line": {
          "color": "#888",
          "width": 1.6820375473378413
         },
         "mode": "lines",
         "type": "scatter",
         "x": [
          -14.371871984258576,
          -13.88035938362524
         ],
         "y": [
          -5.309789890205194,
          -5.930339137052623
         ]
        },
        {
         "hoverinfo": "none",
         "line": {
          "color": "#888",
          "width": 3.1577487523157908
         },
         "mode": "lines",
         "type": "scatter",
         "x": [
          -14.371871984258576,
          -14.337115099508948
         ],
         "y": [
          -5.309789890205194,
          -5.589642377557384
         ]
        },
        {
         "hoverinfo": "none",
         "line": {
          "color": "#888",
          "width": 10
         },
         "mode": "lines",
         "type": "scatter",
         "x": [
          -14.371871984258576,
          -14.43856045774682
         ],
         "y": [
          -5.309789890205194,
          -5.340015312798051
         ]
        },
        {
         "hoverinfo": "none",
         "line": {
          "color": "#888",
          "width": 1.3355783082579442
         },
         "mode": "lines",
         "type": "scatter",
         "x": [
          -14.371871984258576,
          -14.531025161560613
         ],
         "y": [
          -5.309789890205194,
          -4.080508516917675
         ]
        },
        {
         "hoverinfo": "none",
         "line": {
          "color": "#888",
          "width": 1.0218575318561447
         },
         "mode": "lines",
         "type": "scatter",
         "x": [
          -14.371871984258576,
          -15.630598463545166
         ],
         "y": [
          -5.309789890205194,
          -5.151451315824695
         ]
        },
        {
         "hoverinfo": "none",
         "line": {
          "color": "#888",
          "width": 1.1112082173446767
         },
         "mode": "lines",
         "type": "scatter",
         "x": [
          -14.371871984258576,
          -14.048169730697897
         ],
         "y": [
          -5.309789890205194,
          -4.402358898230442
         ]
        },
        {
         "hoverinfo": "none",
         "line": {
          "color": "#888",
          "width": 1.1081264330164462
         },
         "mode": "lines",
         "type": "scatter",
         "x": [
          -14.371871984258576,
          -14.895945710193905
         ],
         "y": [
          -5.309789890205194,
          -6.507485318880583
         ]
        },
        {
         "hoverinfo": "none",
         "line": {
          "color": "#888",
          "width": 1.7038625293784184
         },
         "mode": "lines",
         "type": "scatter",
         "x": [
          -14.371871984258576,
          -14.817113325705948
         ],
         "y": [
          -5.309789890205194,
          -5.149943024367288
         ]
        },
        {
         "hoverinfo": "none",
         "line": {
          "color": "#888",
          "width": 1.2481703996943403
         },
         "mode": "lines",
         "type": "scatter",
         "x": [
          -14.371871984258576,
          -15.41477323554502
         ],
         "y": [
          -5.309789890205194,
          -6.0598151704403165
         ]
        },
        {
         "hoverinfo": "none",
         "line": {
          "color": "#888",
          "width": 1.5675087240431738
         },
         "mode": "lines",
         "type": "scatter",
         "x": [
          -14.371871984258576,
          -15.24633057040751
         ],
         "y": [
          -5.309789890205194,
          -5.916024529055278
         ]
        },
        {
         "hoverinfo": "none",
         "line": {
          "color": "#888",
          "width": 2.065971345037072
         },
         "mode": "lines",
         "type": "scatter",
         "x": [
          -14.371871984258576,
          -15.28225172984896
         ],
         "y": [
          -5.309789890205194,
          -5.387738780527072
         ]
        },
        {
         "hoverinfo": "none",
         "line": {
          "color": "#888",
          "width": 1.396281197964648
         },
         "mode": "lines",
         "type": "scatter",
         "x": [
          -14.371871984258576,
          -14.419498108553507
         ],
         "y": [
          -5.309789890205194,
          -4.216353478321253
         ]
        },
        {
         "hoverinfo": "none",
         "line": {
          "color": "#888",
          "width": 1.0785351354543908
         },
         "mode": "lines",
         "type": "scatter",
         "x": [
          -14.371871984258576,
          -13.894885252196177
         ],
         "y": [
          -5.309789890205194,
          -6.193450742401886
         ]
        },
        {
         "hoverinfo": "none",
         "line": {
          "color": "#888",
          "width": 1.0897274601483349
         },
         "mode": "lines",
         "type": "scatter",
         "x": [
          -14.371871984258576,
          -15.264536165409725
         ],
         "y": [
          -5.309789890205194,
          -6.329600572063244
         ]
        },
        {
         "hoverinfo": "none",
         "line": {
          "color": "#888",
          "width": 1.3018585044066486
         },
         "mode": "lines",
         "type": "scatter",
         "x": [
          -14.371871984258576,
          -13.79014750687308
         ],
         "y": [
          -5.309789890205194,
          -6.478932958412301
         ]
        },
        {
         "hoverinfo": "none",
         "line": {
          "color": "#888",
          "width": 2.532758298862073
         },
         "mode": "lines",
         "type": "scatter",
         "x": [
          -14.371871984258576,
          -14.753566114591269
         ],
         "y": [
          -5.309789890205194,
          -5.638625502914219
         ]
        },
        {
         "hoverinfo": "none",
         "line": {
          "color": "#888",
          "width": 1.1674054637034508
         },
         "mode": "lines",
         "type": "scatter",
         "x": [
          -14.371871984258576,
          -13.929962859924492
         ],
         "y": [
          -5.309789890205194,
          -4.657229596896204
         ]
        },
        {
         "hoverinfo": "none",
         "line": {
          "color": "#888",
          "width": 1.5771108142790777
         },
         "mode": "lines",
         "type": "scatter",
         "x": [
          -14.371871984258576,
          -14.475455276486759
         ],
         "y": [
          -5.309789890205194,
          -4.563713429774501
         ]
        },
        {
         "hoverinfo": "none",
         "line": {
          "color": "#888",
          "width": 1.6595256306523098
         },
         "mode": "lines",
         "type": "scatter",
         "x": [
          -14.371871984258576,
          -13.390218289739371
         ],
         "y": [
          -5.309789890205194,
          -5.733405128642964
         ]
        },
        {
         "hoverinfo": "none",
         "line": {
          "color": "#888",
          "width": 1.605423384514806
         },
         "mode": "lines",
         "type": "scatter",
         "x": [
          -14.371871984258576,
          -13.273225990625084
         ],
         "y": [
          -5.309789890205194,
          -6.038017673214097
         ]
        },
        {
         "hoverinfo": "none",
         "line": {
          "color": "#888",
          "width": 1.7173305471245446
         },
         "mode": "lines",
         "type": "scatter",
         "x": [
          -14.371871984258576,
          -14.534578693420821
         ],
         "y": [
          -5.309789890205194,
          -5.867735650205169
         ]
        },
        {
         "hoverinfo": "none",
         "line": {
          "color": "#888",
          "width": 1.2028357067820319
         },
         "mode": "lines",
         "type": "scatter",
         "x": [
          -14.371871984258576,
          -15.573741906957562
         ],
         "y": [
          -5.309789890205194,
          -5.537184150233229
         ]
        },
        {
         "hoverinfo": "none",
         "line": {
          "color": "#888",
          "width": 1.5369501912484806
         },
         "mode": "lines",
         "type": "scatter",
         "x": [
          -14.371871984258576,
          -14.933185749715992
         ],
         "y": [
          -5.309789890205194,
          -4.193392152224972
         ]
        },
        {
         "hoverinfo": "none",
         "line": {
          "color": "#888",
          "width": 1.1810347859256036
         },
         "mode": "lines",
         "type": "scatter",
         "x": [
          -14.371871984258576,
          -13.104395642507322
         ],
         "y": [
          -5.309789890205194,
          -5.620675211727626
         ]
        },
        {
         "hoverinfo": "none",
         "line": {
          "color": "#888",
          "width": 3.24239654650267
         },
         "mode": "lines",
         "type": "scatter",
         "x": [
          -14.371871984258576,
          -13.862864446562623
         ],
         "y": [
          -5.309789890205194,
          -4.948323816069961
         ]
        },
        {
         "hoverinfo": "none",
         "line": {
          "color": "#888",
          "width": 1.2797654542636812
         },
         "mode": "lines",
         "type": "scatter",
         "x": [
          -14.371871984258576,
          -13.675589562249908
         ],
         "y": [
          -5.309789890205194,
          -4.746623249059541
         ]
        },
        {
         "hoverinfo": "none",
         "line": {
          "color": "#888",
          "width": 1.4560617117653787
         },
         "mode": "lines",
         "type": "scatter",
         "x": [
          -14.371871984258576,
          -15.438938010325261
         ],
         "y": [
          -5.309789890205194,
          -4.675896407068778
         ]
        },
        {
         "hoverinfo": "none",
         "line": {
          "color": "#888",
          "width": 1.9377941741220632
         },
         "mode": "lines",
         "type": "scatter",
         "x": [
          -14.371871984258576,
          -13.595012385775345
         ],
         "y": [
          -5.309789890205194,
          -5.071548520780777
         ]
        },
        {
         "hoverinfo": "none",
         "line": {
          "color": "#888",
          "width": 1.3973979854360747
         },
         "mode": "lines",
         "type": "scatter",
         "x": [
          -14.371871984258576,
          -13.193598012960688
         ],
         "y": [
          -5.309789890205194,
          -5.37815957036336
         ]
        },
        {
         "hoverinfo": "none",
         "line": {
          "color": "#888",
          "width": 2.907335717315135
         },
         "mode": "lines",
         "type": "scatter",
         "x": [
          -14.371871984258576,
          -13.94653562468436
         ],
         "y": [
          -5.309789890205194,
          -5.670154951244973
         ]
        },
        {
         "hoverinfo": "none",
         "line": {
          "color": "#888",
          "width": 1.4338591409924732
         },
         "mode": "lines",
         "type": "scatter",
         "x": [
          -14.371871984258576,
          -15.497439241197572
         ],
         "y": [
          -5.309789890205194,
          -5.806596942822509
         ]
        },
        {
         "hoverinfo": "none",
         "line": {
          "color": "#888",
          "width": 1.9541320687366572
         },
         "mode": "lines",
         "type": "scatter",
         "x": [
          -14.371871984258576,
          -14.914940275618951
         ],
         "y": [
          -5.309789890205194,
          -4.9158561143212465
         ]
        },
        {
         "hoverinfo": "none",
         "line": {
          "color": "#888",
          "width": 1.7395038261794245
         },
         "mode": "lines",
         "type": "scatter",
         "x": [
          -14.371871984258576,
          -15.013124154598115
         ],
         "y": [
          -5.309789890205194,
          -5.529484149368032
         ]
        },
        {
         "hoverinfo": "none",
         "line": {
          "color": "#888",
          "width": 1.1972331711801998
         },
         "mode": "lines",
         "type": "scatter",
         "x": [
          -14.371871984258576,
          -14.813549771834133
         ],
         "y": [
          -5.309789890205194,
          -4.598891617330923
         ]
        },
        {
         "hoverinfo": "none",
         "line": {
          "color": "#888",
          "width": 1.089909315951797
         },
         "mode": "lines",
         "type": "scatter",
         "x": [
          -14.371871984258576,
          -14.61875612341671
         ],
         "y": [
          -5.309789890205194,
          -6.457956231183889
         ]
        },
        {
         "hoverinfo": "none",
         "line": {
          "color": "#888",
          "width": 1.2813328864664955
         },
         "mode": "lines",
         "type": "scatter",
         "x": [
          -14.371871984258576,
          -14.265225489671783
         ],
         "y": [
          -5.309789890205194,
          -3.9299109157582914
         ]
        },
        {
         "hoverinfo": "none",
         "line": {
          "color": "#888",
          "width": 1.115282557992097
         },
         "mode": "lines",
         "type": "scatter",
         "x": [
          -7.421418756846107,
          -7.6285249237951955
         ],
         "y": [
          -3.72204827696227,
          -2.8322557421384027
         ]
        },
        {
         "hoverinfo": "none",
         "line": {
          "color": "#888",
          "width": 1.221336861129728
         },
         "mode": "lines",
         "type": "scatter",
         "x": [
          -15.941719530610088,
          -14.895945710193905
         ],
         "y": [
          -7.277572243361705,
          -6.507485318880583
         ]
        },
        {
         "hoverinfo": "none",
         "line": {
          "color": "#888",
          "width": 1.0300976654409664
         },
         "mode": "lines",
         "type": "scatter",
         "x": [
          -15.643188614776893,
          -16.47167403284231
         ],
         "y": [
          -4.920766736253973,
          -5.924729640631664
         ]
        },
        {
         "hoverinfo": "none",
         "line": {
          "color": "#888",
          "width": 1.0103215443084737
         },
         "mode": "lines",
         "type": "scatter",
         "x": [
          -14.954468630341605,
          -16.47167403284231
         ],
         "y": [
          -6.0025936578907055,
          -5.924729640631664
         ]
        },
        {
         "hoverinfo": "none",
         "line": {
          "color": "#888",
          "width": 1.1019618551845796
         },
         "mode": "lines",
         "type": "scatter",
         "x": [
          -16.060753847986447,
          -16.47167403284231
         ],
         "y": [
          -5.566587789910302,
          -5.924729640631664
         ]
        },
        {
         "hoverinfo": "none",
         "line": {
          "color": "#888",
          "width": 1.0804621489566602
         },
         "mode": "lines",
         "type": "scatter",
         "x": [
          -16.47167403284231,
          -17.258365055378444
         ],
         "y": [
          -5.924729640631664,
          -5.679377352894312
         ]
        },
        {
         "hoverinfo": "none",
         "line": {
          "color": "#888",
          "width": 1.076168477283597
         },
         "mode": "lines",
         "type": "scatter",
         "x": [
          -16.47167403284231,
          -16.785895922940433
         ],
         "y": [
          -5.924729640631664,
          -4.840032384087389
         ]
        },
        {
         "hoverinfo": "none",
         "line": {
          "color": "#888",
          "width": 1.04064663228925
         },
         "mode": "lines",
         "type": "scatter",
         "x": [
          -14.47810030254798,
          -15.06299985540851
         ],
         "y": [
          -6.400656932273691,
          -6.295317665169309
         ]
        },
        {
         "hoverinfo": "none",
         "line": {
          "color": "#888",
          "width": 1.0170497165325973
         },
         "mode": "lines",
         "type": "scatter",
         "x": [
          -14.790576922423055,
          -15.06299985540851
         ],
         "y": [
          -5.938131240021356,
          -6.295317665169309
         ]
        },
        {
         "hoverinfo": "none",
         "line": {
          "color": "#888",
          "width": 1.1138911894863133
         },
         "mode": "lines",
         "type": "scatter",
         "x": [
          -15.031880911245818,
          -15.06299985540851
         ],
         "y": [
          -6.838172886473517,
          -6.295317665169309
         ]
        },
        {
         "hoverinfo": "none",
         "line": {
          "color": "#888",
          "width": 1.2534008462211892
         },
         "mode": "lines",
         "type": "scatter",
         "x": [
          -14.645765529985793,
          -15.06299985540851
         ],
         "y": [
          -6.201254807051291,
          -6.295317665169309
         ]
        },
        {
         "hoverinfo": "none",
         "line": {
          "color": "#888",
          "width": 1.1712860523167408
         },
         "mode": "lines",
         "type": "scatter",
         "x": [
          -14.371871984258576,
          -15.06299985540851
         ],
         "y": [
          -5.309789890205194,
          -6.295317665169309
         ]
        },
        {
         "hoverinfo": "none",
         "line": {
          "color": "#888",
          "width": 1.0038389531599077
         },
         "mode": "lines",
         "type": "scatter",
         "x": [
          -15.06299985540851,
          -14.200026977870785
         ],
         "y": [
          -6.295317665169309,
          -6.491007842347108
         ]
        },
        {
         "hoverinfo": "none",
         "line": {
          "color": "#888",
          "width": 1.1304683064154144
         },
         "mode": "lines",
         "type": "scatter",
         "x": [
          -15.06299985540851,
          -15.471579657370995
         ],
         "y": [
          -6.295317665169309,
          -7.48974954779173
         ]
        },
        {
         "hoverinfo": "none",
         "line": {
          "color": "#888",
          "width": 1.5414979966204365
         },
         "mode": "lines",
         "type": "scatter",
         "x": [
          -15.06299985540851,
          -14.189771826738772
         ],
         "y": [
          -6.295317665169309,
          -5.87173038695074
         ]
        },
        {
         "hoverinfo": "none",
         "line": {
          "color": "#888",
          "width": 1.1574776734716477
         },
         "mode": "lines",
         "type": "scatter",
         "x": [
          -15.06299985540851,
          -14.43856045774682
         ],
         "y": [
          -6.295317665169309,
          -5.340015312798051
         ]
        },
        {
         "hoverinfo": "none",
         "line": {
          "color": "#888",
          "width": 1.271461417643486
         },
         "mode": "lines",
         "type": "scatter",
         "x": [
          -15.06299985540851,
          -14.817113325705948
         ],
         "y": [
          -6.295317665169309,
          -5.149943024367288
         ]
        },
        {
         "hoverinfo": "none",
         "line": {
          "color": "#888",
          "width": 1.16603137124147
         },
         "mode": "lines",
         "type": "scatter",
         "x": [
          -15.06299985540851,
          -14.616955577935325
         ],
         "y": [
          -6.295317665169309,
          -6.93972065520944
         ]
        },
        {
         "hoverinfo": "none",
         "line": {
          "color": "#888",
          "width": 1.61317668208167
         },
         "mode": "lines",
         "type": "scatter",
         "x": [
          -15.06299985540851,
          -15.41477323554502
         ],
         "y": [
          -6.295317665169309,
          -6.0598151704403165
         ]
        },
        {
         "hoverinfo": "none",
         "line": {
          "color": "#888",
          "width": 1.092005958482648
         },
         "mode": "lines",
         "type": "scatter",
         "x": [
          -15.06299985540851,
          -14.899682882110234
         ],
         "y": [
          -6.295317665169309,
          -7.017099143443842
         ]
        },
        {
         "hoverinfo": "none",
         "line": {
          "color": "#888",
          "width": 1.173381555970102
         },
         "mode": "lines",
         "type": "scatter",
         "x": [
          -15.06299985540851,
          -15.264536165409725
         ],
         "y": [
          -6.295317665169309,
          -6.329600572063244
         ]
        },
        {
         "hoverinfo": "none",
         "line": {
          "color": "#888",
          "width": 1.0179305802804943
         },
         "mode": "lines",
         "type": "scatter",
         "x": [
          -15.06299985540851,
          -14.753566114591269
         ],
         "y": [
          -6.295317665169309,
          -5.638625502914219
         ]
        },
        {
         "hoverinfo": "none",
         "line": {
          "color": "#888",
          "width": 1.041508649846482
         },
         "mode": "lines",
         "type": "scatter",
         "x": [
          -15.06299985540851,
          -14.534578693420821
         ],
         "y": [
          -6.295317665169309,
          -5.867735650205169
         ]
        },
        {
         "hoverinfo": "none",
         "line": {
          "color": "#888",
          "width": 1.1258718759742317
         },
         "mode": "lines",
         "type": "scatter",
         "x": [
          -15.06299985540851,
          -15.497439241197572
         ],
         "y": [
          -6.295317665169309,
          -5.806596942822509
         ]
        },
        {
         "hoverinfo": "none",
         "line": {
          "color": "#888",
          "width": 1.4722270411545835
         },
         "mode": "lines",
         "type": "scatter",
         "x": [
          -15.06299985540851,
          -15.013124154598115
         ],
         "y": [
          -6.295317665169309,
          -5.529484149368032
         ]
        },
        {
         "hoverinfo": "none",
         "line": {
          "color": "#888",
          "width": 1.027904451194665
         },
         "mode": "lines",
         "type": "scatter",
         "x": [
          -15.06299985540851,
          -14.61875612341671
         ],
         "y": [
          -6.295317665169309,
          -6.457956231183889
         ]
        },
        {
         "hoverinfo": "none",
         "line": {
          "color": "#888",
          "width": 1.0237158988547368
         },
         "mode": "lines",
         "type": "scatter",
         "x": [
          -13.09713495454668,
          -12.371455468108477
         ],
         "y": [
          -3.5288621511908427,
          -3.315088065905645
         ]
        },
        {
         "hoverinfo": "none",
         "line": {
          "color": "#888",
          "width": 1.0445088892609804
         },
         "mode": "lines",
         "type": "scatter",
         "x": [
          -12.371455468108477,
          -13.445922253012837
         ],
         "y": [
          -3.315088065905645,
          -3.229877120455521
         ]
        },
        {
         "hoverinfo": "none",
         "line": {
          "color": "#888",
          "width": 1.0168162068323456
         },
         "mode": "lines",
         "type": "scatter",
         "x": [
          -12.371455468108477,
          -12.781972190065094
         ],
         "y": [
          -3.315088065905645,
          -4.390247982935071
         ]
        },
        {
         "hoverinfo": "none",
         "line": {
          "color": "#888",
          "width": 1.0622303470365777
         },
         "mode": "lines",
         "type": "scatter",
         "x": [
          -14.782715618588421,
          -15.655455770343659
         ],
         "y": [
          3.392934512293995,
          3.5674767716551976
         ]
        },
        {
         "hoverinfo": "none",
         "line": {
          "color": "#888",
          "width": 1.0829103671353115
         },
         "mode": "lines",
         "type": "scatter",
         "x": [
          -14.954468630341605,
          -14.200026977870785
         ],
         "y": [
          -6.0025936578907055,
          -6.491007842347108
         ]
        },
        {
         "hoverinfo": "none",
         "line": {
          "color": "#888",
          "width": 1.1107568299331017
         },
         "mode": "lines",
         "type": "scatter",
         "x": [
          -14.47810030254798,
          -14.200026977870785
         ],
         "y": [
          -6.400656932273691,
          -6.491007842347108
         ]
        },
        {
         "hoverinfo": "none",
         "line": {
          "color": "#888",
          "width": 1.3890291732029427
         },
         "mode": "lines",
         "type": "scatter",
         "x": [
          -14.645765529985793,
          -14.200026977870785
         ],
         "y": [
          -6.201254807051291,
          -6.491007842347108
         ]
        },
        {
         "hoverinfo": "none",
         "line": {
          "color": "#888",
          "width": 1.094290245698182
         },
         "mode": "lines",
         "type": "scatter",
         "x": [
          -14.610294342996928,
          -14.200026977870785
         ],
         "y": [
          -7.34091427117728,
          -6.491007842347108
         ]
        },
        {
         "hoverinfo": "none",
         "line": {
          "color": "#888",
          "width": 1.4412857713781093
         },
         "mode": "lines",
         "type": "scatter",
         "x": [
          -14.371871984258576,
          -14.200026977870785
         ],
         "y": [
          -5.309789890205194,
          -6.491007842347108
         ]
        },
        {
         "hoverinfo": "none",
         "line": {
          "color": "#888",
          "width": 1.0038389531599077
         },
         "mode": "lines",
         "type": "scatter",
         "x": [
          -15.06299985540851,
          -14.200026977870785
         ],
         "y": [
          -6.295317665169309,
          -6.491007842347108
         ]
        },
        {
         "hoverinfo": "none",
         "line": {
          "color": "#888",
          "width": 1.1635025317885093
         },
         "mode": "lines",
         "type": "scatter",
         "x": [
          -14.200026977870785,
          -14.220471909568893
         ],
         "y": [
          -6.491007842347108,
          -6.888856057905963
         ]
        },
        {
         "hoverinfo": "none",
         "line": {
          "color": "#888",
          "width": 1.033951930204585
         },
         "mode": "lines",
         "type": "scatter",
         "x": [
          -14.200026977870785,
          -14.189771826738772
         ],
         "y": [
          -6.491007842347108,
          -5.87173038695074
         ]
        },
        {
         "hoverinfo": "none",
         "line": {
          "color": "#888",
          "width": 1.1452165338943878
         },
         "mode": "lines",
         "type": "scatter",
         "x": [
          -14.200026977870785,
          -13.54321562440723
         ],
         "y": [
          -6.491007842347108,
          -6.325668381304119
         ]
        },
        {
         "hoverinfo": "none",
         "line": {
          "color": "#888",
          "width": 1.0167819311066197
         },
         "mode": "lines",
         "type": "scatter",
         "x": [
          -14.200026977870785,
          -13.770553405879493
         ],
         "y": [
          -6.491007842347108,
          -6.979374153748573
         ]
        },
        {
         "hoverinfo": "none",
         "line": {
          "color": "#888",
          "width": 1.002568567903429
         },
         "mode": "lines",
         "type": "scatter",
         "x": [
          -14.200026977870785,
          -14.337115099508948
         ],
         "y": [
          -6.491007842347108,
          -5.589642377557384
         ]
        },
        {
         "hoverinfo": "none",
         "line": {
          "color": "#888",
          "width": 1.4227295360483014
         },
         "mode": "lines",
         "type": "scatter",
         "x": [
          -14.200026977870785,
          -14.43856045774682
         ],
         "y": [
          -6.491007842347108,
          -5.340015312798051
         ]
        },
        {
         "hoverinfo": "none",
         "line": {
          "color": "#888",
          "width": 1.103419965826937
         },
         "mode": "lines",
         "type": "scatter",
         "x": [
          -14.200026977870785,
          -14.895945710193905
         ],
         "y": [
          -6.491007842347108,
          -6.507485318880583
         ]
        },
        {
         "hoverinfo": "none",
         "line": {
          "color": "#888",
          "width": 1.1755908676233198
         },
         "mode": "lines",
         "type": "scatter",
         "x": [
          -14.200026977870785,
          -13.355349687799634
         ],
         "y": [
          -6.491007842347108,
          -7.536130655725203
         ]
        },
        {
         "hoverinfo": "none",
         "line": {
          "color": "#888",
          "width": 1.2118755430433457
         },
         "mode": "lines",
         "type": "scatter",
         "x": [
          -14.200026977870785,
          -15.264536165409725
         ],
         "y": [
          -6.491007842347108,
          -6.329600572063244
         ]
        },
        {
         "hoverinfo": "none",
         "line": {
          "color": "#888",
          "width": 1.1369270258579665
         },
         "mode": "lines",
         "type": "scatter",
         "x": [
          -14.200026977870785,
          -14.534578693420821
         ],
         "y": [
          -6.491007842347108,
          -5.867735650205169
         ]
        },
        {
         "hoverinfo": "none",
         "line": {
          "color": "#888",
          "width": 1.0364107351616023
         },
         "mode": "lines",
         "type": "scatter",
         "x": [
          -14.200026977870785,
          -14.251523252864162
         ],
         "y": [
          -6.491007842347108,
          -7.368519936234171
         ]
        },
        {
         "hoverinfo": "none",
         "line": {
          "color": "#888",
          "width": 1.0446384886259727
         },
         "mode": "lines",
         "type": "scatter",
         "x": [
          -14.954468630341605,
          -15.717211012483808
         ],
         "y": [
          -6.0025936578907055,
          -5.367590516567743
         ]
        },
        {
         "hoverinfo": "none",
         "line": {
          "color": "#888",
          "width": 1.1790582434587684
         },
         "mode": "lines",
         "type": "scatter",
         "x": [
          -15.190594501558186,
          -15.717211012483808
         ],
         "y": [
          -4.907635561614265,
          -5.367590516567743
         ]
        },
        {
         "hoverinfo": "none",
         "line": {
          "color": "#888",
          "width": 1.2890306469390533
         },
         "mode": "lines",
         "type": "scatter",
         "x": [
          -15.717211012483808,
          -14.43856045774682
         ],
         "y": [
          -5.367590516567743,
          -5.340015312798051
         ]
        },
        {
         "hoverinfo": "none",
         "line": {
          "color": "#888",
          "width": 1.0405786368769883
         },
         "mode": "lines",
         "type": "scatter",
         "x": [
          -15.717211012483808,
          -16.41109013839647
         ],
         "y": [
          -5.367590516567743,
          -6.583920240965175
         ]
        },
        {
         "hoverinfo": "none",
         "line": {
          "color": "#888",
          "width": 1.0735111654177543
         },
         "mode": "lines",
         "type": "scatter",
         "x": [
          -15.717211012483808,
          -15.264536165409725
         ],
         "y": [
          -5.367590516567743,
          -6.329600572063244
         ]
        },
        {
         "hoverinfo": "none",
         "line": {
          "color": "#888",
          "width": 1.0145381811725789
         },
         "mode": "lines",
         "type": "scatter",
         "x": [
          -15.717211012483808,
          -16.303060544747147
         ],
         "y": [
          -5.367590516567743,
          -4.310670236828554
         ]
        },
        {
         "hoverinfo": "none",
         "line": {
          "color": "#888",
          "width": 1.1313400880463478
         },
         "mode": "lines",
         "type": "scatter",
         "x": [
          -15.717211012483808,
          -14.914940275618951
         ],
         "y": [
          -5.367590516567743,
          -4.9158561143212465
         ]
        },
        {
         "hoverinfo": "none",
         "line": {
          "color": "#888",
          "width": 1.093322173938592
         },
         "mode": "lines",
         "type": "scatter",
         "x": [
          -15.190594501558186,
          -16.369973290532833
         ],
         "y": [
          -4.907635561614265,
          -4.718698595445405
         ]
        },
        {
         "hoverinfo": "none",
         "line": {
          "color": "#888",
          "width": 1.0092980987433702
         },
         "mode": "lines",
         "type": "scatter",
         "x": [
          -16.369973290532833,
          -15.150173669132453
         ],
         "y": [
          -4.718698595445405,
          -5.634570573180639
         ]
        },
        {
         "hoverinfo": "none",
         "line": {
          "color": "#888",
          "width": 1.1304683064154144
         },
         "mode": "lines",
         "type": "scatter",
         "x": [
          -15.06299985540851,
          -15.471579657370995
         ],
         "y": [
          -6.295317665169309,
          -7.48974954779173
         ]
        },
        {
         "hoverinfo": "none",
         "line": {
          "color": "#888",
          "width": 1.2244702682820012
         },
         "mode": "lines",
         "type": "scatter",
         "x": [
          -15.471579657370995,
          -14.616955577935325
         ],
         "y": [
          -7.48974954779173,
          -6.93972065520944
         ]
        },
        {
         "hoverinfo": "none",
         "line": {
          "color": "#888",
          "width": 1.1256842604748887
         },
         "mode": "lines",
         "type": "scatter",
         "x": [
          -15.471579657370995,
          -14.899682882110234
         ],
         "y": [
          -7.48974954779173,
          -7.017099143443842
         ]
        },
        {
         "hoverinfo": "none",
         "line": {
          "color": "#888",
          "width": 1.3893448469619396
         },
         "mode": "lines",
         "type": "scatter",
         "x": [
          -13.527157887205975,
          -14.220471909568893
         ],
         "y": [
          -5.464656038819423,
          -6.888856057905963
         ]
        },
        {
         "hoverinfo": "none",
         "line": {
          "color": "#888",
          "width": 1.205932253920299
         },
         "mode": "lines",
         "type": "scatter",
         "x": [
          -14.954468630341605,
          -14.220471909568893
         ],
         "y": [
          -6.0025936578907055,
          -6.888856057905963
         ]
        },
        {
         "hoverinfo": "none",
         "line": {
          "color": "#888",
          "width": 1.0249025539761067
         },
         "mode": "lines",
         "type": "scatter",
         "x": [
          -13.707691486982672,
          -14.220471909568893
         ],
         "y": [
          -7.849823638865185,
          -6.888856057905963
         ]
        },
        {
         "hoverinfo": "none",
         "line": {
          "color": "#888",
          "width": 1.0647654045022001
         },
         "mode": "lines",
         "type": "scatter",
         "x": [
          -14.121106121702685,
          -14.220471909568893
         ],
         "y": [
          -7.567300842448139,
          -6.888856057905963
         ]
        },
        {
         "hoverinfo": "none",
         "line": {
          "color": "#888",
          "width": 1.2481614234145846
         },
         "mode": "lines",
         "type": "scatter",
         "x": [
          -14.47810030254798,
          -14.220471909568893
         ],
         "y": [
          -6.400656932273691,
          -6.888856057905963
         ]
        },
        {
         "hoverinfo": "none",
         "line": {
          "color": "#888",
          "width": 1.0119653962338753
         },
         "mode": "lines",
         "type": "scatter",
         "x": [
          -13.611430736159944,
          -14.220471909568893
         ],
         "y": [
          -5.876190550342591,
          -6.888856057905963
         ]
        },
        {
         "hoverinfo": "none",
         "line": {
          "color": "#888",
          "width": 1.1635025317885093
         },
         "mode": "lines",
         "type": "scatter",
         "x": [
          -14.200026977870785,
          -14.220471909568893
         ],
         "y": [
          -6.491007842347108,
          -6.888856057905963
         ]
        },
        {
         "hoverinfo": "none",
         "line": {
          "color": "#888",
          "width": 1.0143047809372914
         },
         "mode": "lines",
         "type": "scatter",
         "x": [
          -14.220471909568893,
          -13.88035938362524
         ],
         "y": [
          -6.888856057905963,
          -5.930339137052623
         ]
        },
        {
         "hoverinfo": "none",
         "line": {
          "color": "#888",
          "width": 1.1244919231162438
         },
         "mode": "lines",
         "type": "scatter",
         "x": [
          -14.220471909568893,
          -14.337115099508948
         ],
         "y": [
          -6.888856057905963,
          -5.589642377557384
         ]
        },
        {
         "hoverinfo": "none",
         "line": {
          "color": "#888",
          "width": 1.2313168875863947
         },
         "mode": "lines",
         "type": "scatter",
         "x": [
          -14.220471909568893,
          -14.895945710193905
         ],
         "y": [
          -6.888856057905963,
          -6.507485318880583
         ]
        },
        {
         "hoverinfo": "none",
         "line": {
          "color": "#888",
          "width": 1.327113634493792
         },
         "mode": "lines",
         "type": "scatter",
         "x": [
          -14.220471909568893,
          -13.981029096872376
         ],
         "y": [
          -6.888856057905963,
          -6.832951899584617
         ]
        },
        {
         "hoverinfo": "none",
         "line": {
          "color": "#888",
          "width": 1.009360717823278
         },
         "mode": "lines",
         "type": "scatter",
         "x": [
          -14.220471909568893,
          -13.355349687799634
         ],
         "y": [
          -6.888856057905963,
          -7.536130655725203
         ]
        },
        {
         "hoverinfo": "none",
         "line": {
          "color": "#888",
          "width": 1.0614058798952004
         },
         "mode": "lines",
         "type": "scatter",
         "x": [
          -14.220471909568893,
          -15.264536165409725
         ],
         "y": [
          -6.888856057905963,
          -6.329600572063244
         ]
        },
        {
         "hoverinfo": "none",
         "line": {
          "color": "#888",
          "width": 1.0791758042523893
         },
         "mode": "lines",
         "type": "scatter",
         "x": [
          -14.220471909568893,
          -14.500335134000432
         ],
         "y": [
          -6.888856057905963,
          -8.017373646677502
         ]
        },
        {
         "hoverinfo": "none",
         "line": {
          "color": "#888",
          "width": 1.0701516595661367
         },
         "mode": "lines",
         "type": "scatter",
         "x": [
          -13.875537710711491,
          -14.189771826738772
         ],
         "y": [
          -5.32928344518222,
          -5.87173038695074
         ]
        },
        {
         "hoverinfo": "none",
         "line": {
          "color": "#888",
          "width": 1.0333383319246838
         },
         "mode": "lines",
         "type": "scatter",
         "x": [
          -15.190594501558186,
          -14.189771826738772
         ],
         "y": [
          -4.907635561614265,
          -5.87173038695074
         ]
        },
        {
         "hoverinfo": "none",
         "line": {
          "color": "#888",
          "width": 1.176426936885183
         },
         "mode": "lines",
         "type": "scatter",
         "x": [
          -15.031880911245818,
          -14.189771826738772
         ],
         "y": [
          -6.838172886473517,
          -5.87173038695074
         ]
        },
        {
         "hoverinfo": "none",
         "line": {
          "color": "#888",
          "width": 1.2511525607865748
         },
         "mode": "lines",
         "type": "scatter",
         "x": [
          -14.645765529985793,
          -14.189771826738772
         ],
         "y": [
          -6.201254807051291,
          -5.87173038695074
         ]
        },
        {
         "hoverinfo": "none",
         "line": {
          "color": "#888",
          "width": 1.1752154149617038
         },
         "mode": "lines",
         "type": "scatter",
         "x": [
          -13.270489320443948,
          -14.189771826738772
         ],
         "y": [
          -4.814867740596674,
          -5.87173038695074
         ]
        },
        {
         "hoverinfo": "none",
         "line": {
          "color": "#888",
          "width": 1.335460570441208
         },
         "mode": "lines",
         "type": "scatter",
         "x": [
          -13.611430736159944,
          -14.189771826738772
         ],
         "y": [
          -5.876190550342591,
          -5.87173038695074
         ]
        },
        {
         "hoverinfo": "none",
         "line": {
          "color": "#888",
          "width": 2.429011397785476
         },
         "mode": "lines",
         "type": "scatter",
         "x": [
          -14.371871984258576,
          -14.189771826738772
         ],
         "y": [
          -5.309789890205194,
          -5.87173038695074
         ]
        },
        {
         "hoverinfo": "none",
         "line": {
          "color": "#888",
          "width": 1.5414979966204365
         },
         "mode": "lines",
         "type": "scatter",
         "x": [
          -15.06299985540851,
          -14.189771826738772
         ],
         "y": [
          -6.295317665169309,
          -5.87173038695074
         ]
        },
        {
         "hoverinfo": "none",
         "line": {
          "color": "#888",
          "width": 1.033951930204585
         },
         "mode": "lines",
         "type": "scatter",
         "x": [
          -14.200026977870785,
          -14.189771826738772
         ],
         "y": [
          -6.491007842347108,
          -5.87173038695074
         ]
        },
        {
         "hoverinfo": "none",
         "line": {
          "color": "#888",
          "width": 1.4674605309560251
         },
         "mode": "lines",
         "type": "scatter",
         "x": [
          -14.189771826738772,
          -13.88035938362524
         ],
         "y": [
          -5.87173038695074,
          -5.930339137052623
         ]
        },
        {
         "hoverinfo": "none",
         "line": {
          "color": "#888",
          "width": 1.053994823587032
         },
         "mode": "lines",
         "type": "scatter",
         "x": [
          -14.189771826738772,
          -13.770553405879493
         ],
         "y": [
          -5.87173038695074,
          -6.979374153748573
         ]
        },
        {
         "hoverinfo": "none",
         "line": {
          "color": "#888",
          "width": 2.451719595282226
         },
         "mode": "lines",
         "type": "scatter",
         "x": [
          -14.189771826738772,
          -14.43856045774682
         ],
         "y": [
          -5.87173038695074,
          -5.340015312798051
         ]
        },
        {
         "hoverinfo": "none",
         "line": {
          "color": "#888",
          "width": 1.3592743584515317
         },
         "mode": "lines",
         "type": "scatter",
         "x": [
          -14.189771826738772,
          -14.817113325705948
         ],
         "y": [
          -5.87173038695074,
          -5.149943024367288
         ]
        },
        {
         "hoverinfo": "none",
         "line": {
          "color": "#888",
          "width": 1.5832465181556696
         },
         "mode": "lines",
         "type": "scatter",
         "x": [
          -14.189771826738772,
          -15.41477323554502
         ],
         "y": [
          -5.87173038695074,
          -6.0598151704403165
         ]
        },
        {
         "hoverinfo": "none",
         "line": {
          "color": "#888",
          "width": 1.130544911080376
         },
         "mode": "lines",
         "type": "scatter",
         "x": [
          -14.189771826738772,
          -15.264536165409725
         ],
         "y": [
          -5.87173038695074,
          -6.329600572063244
         ]
        },
        {
         "hoverinfo": "none",
         "line": {
          "color": "#888",
          "width": 1.6266760524529809
         },
         "mode": "lines",
         "type": "scatter",
         "x": [
          -14.189771826738772,
          -14.753566114591269
         ],
         "y": [
          -5.87173038695074,
          -5.638625502914219
         ]
        },
        {
         "hoverinfo": "none",
         "line": {
          "color": "#888",
          "width": 1.0230303952199367
         },
         "mode": "lines",
         "type": "scatter",
         "x": [
          -14.189771826738772,
          -13.390218289739371
         ],
         "y": [
          -5.87173038695074,
          -5.733405128642964
         ]
        },
        {
         "hoverinfo": "none",
         "line": {
          "color": "#888",
          "width": 1.6122770662747037
         },
         "mode": "lines",
         "type": "scatter",
         "x": [
          -14.189771826738772,
          -14.534578693420821
         ],
         "y": [
          -5.87173038695074,
          -5.867735650205169
         ]
        },
        {
         "hoverinfo": "none",
         "line": {
          "color": "#888",
          "width": 1.3095900127910887
         },
         "mode": "lines",
         "type": "scatter",
         "x": [
          -14.189771826738772,
          -13.862864446562623
         ],
         "y": [
          -5.87173038695074,
          -4.948323816069961
         ]
        },
        {
         "hoverinfo": "none",
         "line": {
          "color": "#888",
          "width": 1.1573426694228401
         },
         "mode": "lines",
         "type": "scatter",
         "x": [
          -14.189771826738772,
          -13.595012385775345
         ],
         "y": [
          -5.87173038695074,
          -5.071548520780777
         ]
        },
        {
         "hoverinfo": "none",
         "line": {
          "color": "#888",
          "width": 1.0436904503602946
         },
         "mode": "lines",
         "type": "scatter",
         "x": [
          -14.189771826738772,
          -13.193598012960688
         ],
         "y": [
          -5.87173038695074,
          -5.37815957036336
         ]
        },
        {
         "hoverinfo": "none",
         "line": {
          "color": "#888",
          "width": 1.3594148605638678
         },
         "mode": "lines",
         "type": "scatter",
         "x": [
          -14.189771826738772,
          -13.94653562468436
         ],
         "y": [
          -5.87173038695074,
          -5.670154951244973
         ]
        },
        {
         "hoverinfo": "none",
         "line": {
          "color": "#888",
          "width": 1.2102107003567921
         },
         "mode": "lines",
         "type": "scatter",
         "x": [
          -14.189771826738772,
          -15.497439241197572
         ],
         "y": [
          -5.87173038695074,
          -5.806596942822509
         ]
        },
        {
         "hoverinfo": "none",
         "line": {
          "color": "#888",
          "width": 1.5906730894489571
         },
         "mode": "lines",
         "type": "scatter",
         "x": [
          -14.189771826738772,
          -15.013124154598115
         ],
         "y": [
          -5.87173038695074,
          -5.529484149368032
         ]
        },
        {
         "hoverinfo": "none",
         "line": {
          "color": "#888",
          "width": 1.3004335332881456
         },
         "mode": "lines",
         "type": "scatter",
         "x": [
          -14.189771826738772,
          -14.61875612341671
         ],
         "y": [
          -5.87173038695074,
          -6.457956231183889
         ]
        },
        {
         "hoverinfo": "none",
         "line": {
          "color": "#888",
          "width": 1.0926655470758238
         },
         "mode": "lines",
         "type": "scatter",
         "x": [
          -14.189771826738772,
          -12.761106201381423
         ],
         "y": [
          -5.87173038695074,
          -6.052174784794521
         ]
        },
        {
         "hoverinfo": "none",
         "line": {
          "color": "#888",
          "width": 1.2188812465617447
         },
         "mode": "lines",
         "type": "scatter",
         "x": [
          -14.47810030254798,
          -15.851128569030708
         ],
         "y": [
          -6.400656932273691,
          -6.736423468652748
         ]
        },
        {
         "hoverinfo": "none",
         "line": {
          "color": "#888",
          "width": 1.1612526769517293
         },
         "mode": "lines",
         "type": "scatter",
         "x": [
          -14.790576922423055,
          -15.851128569030708
         ],
         "y": [
          -5.938131240021356,
          -6.736423468652748
         ]
        },
        {
         "hoverinfo": "none",
         "line": {
          "color": "#888",
          "width": 1.1128435382088495
         },
         "mode": "lines",
         "type": "scatter",
         "x": [
          -15.851128569030708,
          -14.895945710193905
         ],
         "y": [
          -6.736423468652748,
          -6.507485318880583
         ]
        },
        {
         "hoverinfo": "none",
         "line": {
          "color": "#888",
          "width": 1.0388527872993045
         },
         "mode": "lines",
         "type": "scatter",
         "x": [
          -15.851128569030708,
          -15.573741906957562
         ],
         "y": [
          -6.736423468652748,
          -5.537184150233229
         ]
        },
        {
         "hoverinfo": "none",
         "line": {
          "color": "#888",
          "width": 1.1771971437456932
         },
         "mode": "lines",
         "type": "scatter",
         "x": [
          -14.47810030254798,
          -13.54321562440723
         ],
         "y": [
          -6.400656932273691,
          -6.325668381304119
         ]
        },
        {
         "hoverinfo": "none",
         "line": {
          "color": "#888",
          "width": 1.0483439079351167
         },
         "mode": "lines",
         "type": "scatter",
         "x": [
          -14.645765529985793,
          -13.54321562440723
         ],
         "y": [
          -6.201254807051291,
          -6.325668381304119
         ]
        },
        {
         "hoverinfo": "none",
         "line": {
          "color": "#888",
          "width": 1.3331325105622227
         },
         "mode": "lines",
         "type": "scatter",
         "x": [
          -14.371871984258576,
          -13.54321562440723
         ],
         "y": [
          -5.309789890205194,
          -6.325668381304119
         ]
        },
        {
         "hoverinfo": "none",
         "line": {
          "color": "#888",
          "width": 1.1452165338943878
         },
         "mode": "lines",
         "type": "scatter",
         "x": [
          -14.200026977870785,
          -13.54321562440723
         ],
         "y": [
          -6.491007842347108,
          -6.325668381304119
         ]
        },
        {
         "hoverinfo": "none",
         "line": {
          "color": "#888",
          "width": 1.3165820698061634
         },
         "mode": "lines",
         "type": "scatter",
         "x": [
          -13.54321562440723,
          -14.43856045774682
         ],
         "y": [
          -6.325668381304119,
          -5.340015312798051
         ]
        },
        {
         "hoverinfo": "none",
         "line": {
          "color": "#888",
          "width": 1.3947798602143577
         },
         "mode": "lines",
         "type": "scatter",
         "x": [
          -13.54321562440723,
          -12.240895411845935
         ],
         "y": [
          -6.325668381304119,
          -6.6072067290490715
         ]
        },
        {
         "hoverinfo": "none",
         "line": {
          "color": "#888",
          "width": 1.244686116798018
         },
         "mode": "lines",
         "type": "scatter",
         "x": [
          -13.54321562440723,
          -13.104395642507322
         ],
         "y": [
          -6.325668381304119,
          -5.620675211727626
         ]
        },
        {
         "hoverinfo": "none",
         "line": {
          "color": "#888",
          "width": 1.0856711298133694
         },
         "mode": "lines",
         "type": "scatter",
         "x": [
          -13.54321562440723,
          -14.251523252864162
         ],
         "y": [
          -6.325668381304119,
          -7.368519936234171
         ]
        },
        {
         "hoverinfo": "none",
         "line": {
          "color": "#888",
          "width": 1.222713154871356
         },
         "mode": "lines",
         "type": "scatter",
         "x": [
          -13.54321562440723,
          -12.520915935463885
         ],
         "y": [
          -6.325668381304119,
          -7.176854929509352
         ]
        },
        {
         "hoverinfo": "none",
         "line": {
          "color": "#888",
          "width": 1.2615964429238864
         },
         "mode": "lines",
         "type": "scatter",
         "x": [
          -15.190594501558186,
          -15.150173669132453
         ],
         "y": [
          -4.907635561614265,
          -5.634570573180639
         ]
        },
        {
         "hoverinfo": "none",
         "line": {
          "color": "#888",
          "width": 1.0759072517601342
         },
         "mode": "lines",
         "type": "scatter",
         "x": [
          -14.645765529985793,
          -15.150173669132453
         ],
         "y": [
          -6.201254807051291,
          -5.634570573180639
         ]
        },
        {
         "hoverinfo": "none",
         "line": {
          "color": "#888",
          "width": 1.0572669306738274
         },
         "mode": "lines",
         "type": "scatter",
         "x": [
          -16.060753847986447,
          -15.150173669132453
         ],
         "y": [
          -5.566587789910302,
          -5.634570573180639
         ]
        },
        {
         "hoverinfo": "none",
         "line": {
          "color": "#888",
          "width": 1.6901053602020606
         },
         "mode": "lines",
         "type": "scatter",
         "x": [
          -14.371871984258576,
          -15.150173669132453
         ],
         "y": [
          -5.309789890205194,
          -5.634570573180639
         ]
        },
        {
         "hoverinfo": "none",
         "line": {
          "color": "#888",
          "width": 1.0092980987433702
         },
         "mode": "lines",
         "type": "scatter",
         "x": [
          -16.369973290532833,
          -15.150173669132453
         ],
         "y": [
          -4.718698595445405,
          -5.634570573180639
         ]
        },
        {
         "hoverinfo": "none",
         "line": {
          "color": "#888",
          "width": 1.0504322590998842
         },
         "mode": "lines",
         "type": "scatter",
         "x": [
          -15.150173669132453,
          -13.770553405879493
         ],
         "y": [
          -5.634570573180639,
          -6.979374153748573
         ]
        },
        {
         "hoverinfo": "none",
         "line": {
          "color": "#888",
          "width": 1.670467809013335
         },
         "mode": "lines",
         "type": "scatter",
         "x": [
          -15.150173669132453,
          -14.43856045774682
         ],
         "y": [
          -5.634570573180639,
          -5.340015312798051
         ]
        },
        {
         "hoverinfo": "none",
         "line": {
          "color": "#888",
          "width": 1.0534466711766322
         },
         "mode": "lines",
         "type": "scatter",
         "x": [
          -15.150173669132453,
          -13.94653562468436
         ],
         "y": [
          -5.634570573180639,
          -5.670154951244973
         ]
        },
        {
         "hoverinfo": "none",
         "line": {
          "color": "#888",
          "width": 1.5110825476412013
         },
         "mode": "lines",
         "type": "scatter",
         "x": [
          -15.150173669132453,
          -14.914940275618951
         ],
         "y": [
          -5.634570573180639,
          -4.9158561143212465
         ]
        },
        {
         "hoverinfo": "none",
         "line": {
          "color": "#888",
          "width": 1.0622303470365777
         },
         "mode": "lines",
         "type": "scatter",
         "x": [
          -14.782715618588421,
          -15.655455770343659
         ],
         "y": [
          3.392934512293995,
          3.5674767716551976
         ]
        },
        {
         "hoverinfo": "none",
         "line": {
          "color": "#888",
          "width": 1.074719847328358
         },
         "mode": "lines",
         "type": "scatter",
         "x": [
          -13.996742299482742,
          -13.445922253012837
         ],
         "y": [
          -3.9899647066405595,
          -3.229877120455521
         ]
        },
        {
         "hoverinfo": "none",
         "line": {
          "color": "#888",
          "width": 1.2664803789354053
         },
         "mode": "lines",
         "type": "scatter",
         "x": [
          -13.09713495454668,
          -13.445922253012837
         ],
         "y": [
          -3.5288621511908427,
          -3.229877120455521
         ]
        },
        {
         "hoverinfo": "none",
         "line": {
          "color": "#888",
          "width": 1.0445088892609804
         },
         "mode": "lines",
         "type": "scatter",
         "x": [
          -12.371455468108477,
          -13.445922253012837
         ],
         "y": [
          -3.315088065905645,
          -3.229877120455521
         ]
        },
        {
         "hoverinfo": "none",
         "line": {
          "color": "#888",
          "width": 1.2270503994606037
         },
         "mode": "lines",
         "type": "scatter",
         "x": [
          -13.445922253012837,
          -14.609022694834321
         ],
         "y": [
          -3.229877120455521,
          -2.900222090616298
         ]
        },
        {
         "hoverinfo": "none",
         "line": {
          "color": "#888",
          "width": 1.4403795439450626
         },
         "mode": "lines",
         "type": "scatter",
         "x": [
          -13.445922253012837,
          -12.781972190065094
         ],
         "y": [
          -3.229877120455521,
          -4.390247982935071
         ]
        },
        {
         "hoverinfo": "none",
         "line": {
          "color": "#888",
          "width": 1.100376917776423
         },
         "mode": "lines",
         "type": "scatter",
         "x": [
          -13.445922253012837,
          -14.08296077725767
         ],
         "y": [
          -3.229877120455521,
          -2.91931092816861
         ]
        },
        {
         "hoverinfo": "none",
         "line": {
          "color": "#888",
          "width": 1.0468996025352004
         },
         "mode": "lines",
         "type": "scatter",
         "x": [
          -13.445922253012837,
          -14.265225489671783
         ],
         "y": [
          -3.229877120455521,
          -3.9299109157582914
         ]
        },
        {
         "hoverinfo": "none",
         "line": {
          "color": "#888",
          "width": 1.000820496717732
         },
         "mode": "lines",
         "type": "scatter",
         "x": [
          -12.416271014206234,
          -13.259356029280449
         ],
         "y": [
          2.0041417027951165,
          2.7241682082273706
         ]
        },
        {
         "hoverinfo": "none",
         "line": {
          "color": "#888",
          "width": 1.2668221814392555
         },
         "mode": "lines",
         "type": "scatter",
         "x": [
          -13.259356029280449,
          -13.983004156084545
         ],
         "y": [
          2.7241682082273706,
          2.1780318587774894
         ]
        },
        {
         "hoverinfo": "none",
         "line": {
          "color": "#888",
          "width": 1.164958932558884
         },
         "mode": "lines",
         "type": "scatter",
         "x": [
          -13.259356029280449,
          -13.135557863345687
         ],
         "y": [
          2.7241682082273706,
          1.9936568055327668
         ]
        },
        {
         "hoverinfo": "none",
         "line": {
          "color": "#888",
          "width": 1.3700281403734758
         },
         "mode": "lines",
         "type": "scatter",
         "x": [
          -13.875537710711491,
          -13.222042469817788
         ],
         "y": [
          -5.32928344518222,
          -5.142310599034572
         ]
        },
        {
         "hoverinfo": "none",
         "line": {
          "color": "#888",
          "width": 1.1609738192550456
         },
         "mode": "lines",
         "type": "scatter",
         "x": [
          -14.362059659931681,
          -13.222042469817788
         ],
         "y": [
          -4.997657926517953,
          -5.142310599034572
         ]
        },
        {
         "hoverinfo": "none",
         "line": {
          "color": "#888",
          "width": 1.0176904302730432
         },
         "mode": "lines",
         "type": "scatter",
         "x": [
          -13.707209565894951,
          -13.222042469817788
         ],
         "y": [
          -5.531850608732078,
          -5.142310599034572
         ]
        },
        {
         "hoverinfo": "none",
         "line": {
          "color": "#888",
          "width": 1.0094404198980842
         },
         "mode": "lines",
         "type": "scatter",
         "x": [
          -13.611430736159944,
          -13.222042469817788
         ],
         "y": [
          -5.876190550342591,
          -5.142310599034572
         ]
        },
        {
         "hoverinfo": "none",
         "line": {
          "color": "#888",
          "width": 1.416011696579956
         },
         "mode": "lines",
         "type": "scatter",
         "x": [
          -14.371871984258576,
          -13.222042469817788
         ],
         "y": [
          -5.309789890205194,
          -5.142310599034572
         ]
        },
        {
         "hoverinfo": "none",
         "line": {
          "color": "#888",
          "width": 1.3993620914043623
         },
         "mode": "lines",
         "type": "scatter",
         "x": [
          -13.222042469817788,
          -14.43856045774682
         ],
         "y": [
          -5.142310599034572,
          -5.340015312798051
         ]
        },
        {
         "hoverinfo": "none",
         "line": {
          "color": "#888",
          "width": 1.2350702599665488
         },
         "mode": "lines",
         "type": "scatter",
         "x": [
          -13.222042469817788,
          -12.033468151975097
         ],
         "y": [
          -5.142310599034572,
          -5.1083541514665365
         ]
        },
        {
         "hoverinfo": "none",
         "line": {
          "color": "#888",
          "width": 1.196512882959736
         },
         "mode": "lines",
         "type": "scatter",
         "x": [
          -13.222042469817788,
          -12.518872512671223
         ],
         "y": [
          -5.142310599034572,
          -4.636006372940541
         ]
        },
        {
         "hoverinfo": "none",
         "line": {
          "color": "#888",
          "width": 1.0179709864903281
         },
         "mode": "lines",
         "type": "scatter",
         "x": [
          -13.222042469817788,
          -11.978799223750462
         ],
         "y": [
          -5.142310599034572,
          -5.664048510630685
         ]
        },
        {
         "hoverinfo": "none",
         "line": {
          "color": "#888",
          "width": 1.478924330674631
         },
         "mode": "lines",
         "type": "scatter",
         "x": [
          -13.222042469817788,
          -13.390218289739371
         ],
         "y": [
          -5.142310599034572,
          -5.733405128642964
         ]
        },
        {
         "hoverinfo": "none",
         "line": {
          "color": "#888",
          "width": 1.297877318297527
         },
         "mode": "lines",
         "type": "scatter",
         "x": [
          -13.222042469817788,
          -13.862864446562623
         ],
         "y": [
          -5.142310599034572,
          -4.948323816069961
         ]
        },
        {
         "hoverinfo": "none",
         "line": {
          "color": "#888",
          "width": 1.0882085589507369
         },
         "mode": "lines",
         "type": "scatter",
         "x": [
          -13.222042469817788,
          -13.675589562249908
         ],
         "y": [
          -5.142310599034572,
          -4.746623249059541
         ]
        },
        {
         "hoverinfo": "none",
         "line": {
          "color": "#888",
          "width": 1.0913043640973121
         },
         "mode": "lines",
         "type": "scatter",
         "x": [
          -13.222042469817788,
          -13.595012385775345
         ],
         "y": [
          -5.142310599034572,
          -5.071548520780777
         ]
        },
        {
         "hoverinfo": "none",
         "line": {
          "color": "#888",
          "width": 1.6273683924272078
         },
         "mode": "lines",
         "type": "scatter",
         "x": [
          -13.222042469817788,
          -13.193598012960688
         ],
         "y": [
          -5.142310599034572,
          -5.37815957036336
         ]
        },
        {
         "hoverinfo": "none",
         "line": {
          "color": "#888",
          "width": 1.0247511735071613
         },
         "mode": "lines",
         "type": "scatter",
         "x": [
          -13.222042469817788,
          -13.94653562468436
         ],
         "y": [
          -5.142310599034572,
          -5.670154951244973
         ]
        },
        {
         "hoverinfo": "none",
         "line": {
          "color": "#888",
          "width": 1.1226976775080013
         },
         "mode": "lines",
         "type": "scatter",
         "x": [
          -13.222042469817788,
          -12.761106201381423
         ],
         "y": [
          -5.142310599034572,
          -6.052174784794521
         ]
        },
        {
         "hoverinfo": "none",
         "line": {
          "color": "#888",
          "width": 1.0190214973025375
         },
         "mode": "lines",
         "type": "scatter",
         "x": [
          -12.235378998295207,
          -13.355349687799634
         ],
         "y": [
          -7.94155896698412,
          -7.536130655725203
         ]
        },
        {
         "hoverinfo": "none",
         "line": {
          "color": "#888",
          "width": 1.2592419968009052
         },
         "mode": "lines",
         "type": "scatter",
         "x": [
          -12.235378998295207,
          -11.139560350679432
         ],
         "y": [
          -7.94155896698412,
          -7.89544110645823
         ]
        },
        {
         "hoverinfo": "none",
         "line": {
          "color": "#888",
          "width": 1.131212427299267
         },
         "mode": "lines",
         "type": "scatter",
         "x": [
          -13.875537710711491,
          -13.88035938362524
         ],
         "y": [
          -5.32928344518222,
          -5.930339137052623
         ]
        },
        {
         "hoverinfo": "none",
         "line": {
          "color": "#888",
          "width": 1.1821213295208606
         },
         "mode": "lines",
         "type": "scatter",
         "x": [
          -13.527157887205975,
          -13.88035938362524
         ],
         "y": [
          -5.464656038819423,
          -5.930339137052623
         ]
        },
        {
         "hoverinfo": "none",
         "line": {
          "color": "#888",
          "width": 1.2804779185775017
         },
         "mode": "lines",
         "type": "scatter",
         "x": [
          -14.362059659931681,
          -13.88035938362524
         ],
         "y": [
          -4.997657926517953,
          -5.930339137052623
         ]
        },
        {
         "hoverinfo": "none",
         "line": {
          "color": "#888",
          "width": 1.1432091321237943
         },
         "mode": "lines",
         "type": "scatter",
         "x": [
          -13.707209565894951,
          -13.88035938362524
         ],
         "y": [
          -5.531850608732078,
          -5.930339137052623
         ]
        },
        {
         "hoverinfo": "none",
         "line": {
          "color": "#888",
          "width": 1.0109850138118492
         },
         "mode": "lines",
         "type": "scatter",
         "x": [
          -14.47810030254798,
          -13.88035938362524
         ],
         "y": [
          -6.400656932273691,
          -5.930339137052623
         ]
        },
        {
         "hoverinfo": "none",
         "line": {
          "color": "#888",
          "width": 1.76520562498758
         },
         "mode": "lines",
         "type": "scatter",
         "x": [
          -13.611430736159944,
          -13.88035938362524
         ],
         "y": [
          -5.876190550342591,
          -5.930339137052623
         ]
        },
        {
         "hoverinfo": "none",
         "line": {
          "color": "#888",
          "width": 1.6820375473378413
         },
         "mode": "lines",
         "type": "scatter",
         "x": [
          -14.371871984258576,
          -13.88035938362524
         ],
         "y": [
          -5.309789890205194,
          -5.930339137052623
         ]
        },
        {
         "hoverinfo": "none",
         "line": {
          "color": "#888",
          "width": 1.0143047809372914
         },
         "mode": "lines",
         "type": "scatter",
         "x": [
          -14.220471909568893,
          -13.88035938362524
         ],
         "y": [
          -6.888856057905963,
          -5.930339137052623
         ]
        },
        {
         "hoverinfo": "none",
         "line": {
          "color": "#888",
          "width": 1.4674605309560251
         },
         "mode": "lines",
         "type": "scatter",
         "x": [
          -14.189771826738772,
          -13.88035938362524
         ],
         "y": [
          -5.87173038695074,
          -5.930339137052623
         ]
        },
        {
         "hoverinfo": "none",
         "line": {
          "color": "#888",
          "width": 1.3098397302699072
         },
         "mode": "lines",
         "type": "scatter",
         "x": [
          -13.88035938362524,
          -14.337115099508948
         ],
         "y": [
          -5.930339137052623,
          -5.589642377557384
         ]
        },
        {
         "hoverinfo": "none",
         "line": {
          "color": "#888",
          "width": 1.7288782060789272
         },
         "mode": "lines",
         "type": "scatter",
         "x": [
          -13.88035938362524,
          -14.43856045774682
         ],
         "y": [
          -5.930339137052623,
          -5.340015312798051
         ]
        },
        {
         "hoverinfo": "none",
         "line": {
          "color": "#888",
          "width": 1.4582984459131114
         },
         "mode": "lines",
         "type": "scatter",
         "x": [
          -13.88035938362524,
          -13.929962859924492
         ],
         "y": [
          -5.930339137052623,
          -4.657229596896204
         ]
        },
        {
         "hoverinfo": "none",
         "line": {
          "color": "#888",
          "width": 1.2602232837316554
         },
         "mode": "lines",
         "type": "scatter",
         "x": [
          -13.88035938362524,
          -13.390218289739371
         ],
         "y": [
          -5.930339137052623,
          -5.733405128642964
         ]
        },
        {
         "hoverinfo": "none",
         "line": {
          "color": "#888",
          "width": 1.2228433796542193
         },
         "mode": "lines",
         "type": "scatter",
         "x": [
          -13.88035938362524,
          -14.534578693420821
         ],
         "y": [
          -5.930339137052623,
          -5.867735650205169
         ]
        },
        {
         "hoverinfo": "none",
         "line": {
          "color": "#888",
          "width": 1.2374462400830846
         },
         "mode": "lines",
         "type": "scatter",
         "x": [
          -13.88035938362524,
          -13.862864446562623
         ],
         "y": [
          -5.930339137052623,
          -4.948323816069961
         ]
        },
        {
         "hoverinfo": "none",
         "line": {
          "color": "#888",
          "width": 1.4371306234018377
         },
         "mode": "lines",
         "type": "scatter",
         "x": [
          -13.88035938362524,
          -13.595012385775345
         ],
         "y": [
          -5.930339137052623,
          -5.071548520780777
         ]
        },
        {
         "hoverinfo": "none",
         "line": {
          "color": "#888",
          "width": 1.4523772699679673
         },
         "mode": "lines",
         "type": "scatter",
         "x": [
          -13.88035938362524,
          -13.94653562468436
         ],
         "y": [
          -5.930339137052623,
          -5.670154951244973
         ]
        },
        {
         "hoverinfo": "none",
         "line": {
          "color": "#888",
          "width": 1.0167985173673035
         },
         "mode": "lines",
         "type": "scatter",
         "x": [
          -13.88035938362524,
          -14.914940275618951
         ],
         "y": [
          -5.930339137052623,
          -4.9158561143212465
         ]
        },
        {
         "hoverinfo": "none",
         "line": {
          "color": "#888",
          "width": 1.101530761467507
         },
         "mode": "lines",
         "type": "scatter",
         "x": [
          -14.121106121702685,
          -13.770553405879493
         ],
         "y": [
          -7.567300842448139,
          -6.979374153748573
         ]
        },
        {
         "hoverinfo": "none",
         "line": {
          "color": "#888",
          "width": 1.0229105301520915
         },
         "mode": "lines",
         "type": "scatter",
         "x": [
          -15.031880911245818,
          -13.770553405879493
         ],
         "y": [
          -6.838172886473517,
          -6.979374153748573
         ]
        },
        {
         "hoverinfo": "none",
         "line": {
          "color": "#888",
          "width": 1.1483881519259036
         },
         "mode": "lines",
         "type": "scatter",
         "x": [
          -14.645765529985793,
          -13.770553405879493
         ],
         "y": [
          -6.201254807051291,
          -6.979374153748573
         ]
        },
        {
         "hoverinfo": "none",
         "line": {
          "color": "#888",
          "width": 1.2597641475622958
         },
         "mode": "lines",
         "type": "scatter",
         "x": [
          -14.610294342996928,
          -13.770553405879493
         ],
         "y": [
          -7.34091427117728,
          -6.979374153748573
         ]
        },
        {
         "hoverinfo": "none",
         "line": {
          "color": "#888",
          "width": 1.3428936221763546
         },
         "mode": "lines",
         "type": "scatter",
         "x": [
          -13.24315673940496,
          -13.770553405879493
         ],
         "y": [
          -6.689195662075548,
          -6.979374153748573
         ]
        },
        {
         "hoverinfo": "none",
         "line": {
          "color": "#888",
          "width": 1.0167819311066197
         },
         "mode": "lines",
         "type": "scatter",
         "x": [
          -14.200026977870785,
          -13.770553405879493
         ],
         "y": [
          -6.491007842347108,
          -6.979374153748573
         ]
        },
        {
         "hoverinfo": "none",
         "line": {
          "color": "#888",
          "width": 1.053994823587032
         },
         "mode": "lines",
         "type": "scatter",
         "x": [
          -14.189771826738772,
          -13.770553405879493
         ],
         "y": [
          -5.87173038695074,
          -6.979374153748573
         ]
        },
        {
         "hoverinfo": "none",
         "line": {
          "color": "#888",
          "width": 1.0504322590998842
         },
         "mode": "lines",
         "type": "scatter",
         "x": [
          -15.150173669132453,
          -13.770553405879493
         ],
         "y": [
          -5.634570573180639,
          -6.979374153748573
         ]
        },
        {
         "hoverinfo": "none",
         "line": {
          "color": "#888",
          "width": 1.1152978365695407
         },
         "mode": "lines",
         "type": "scatter",
         "x": [
          -13.770553405879493,
          -12.615706303724961
         ],
         "y": [
          -6.979374153748573,
          -6.909290102969761
         ]
        },
        {
         "hoverinfo": "none",
         "line": {
          "color": "#888",
          "width": 1.0161543434297555
         },
         "mode": "lines",
         "type": "scatter",
         "x": [
          -13.770553405879493,
          -13.273225990625084
         ],
         "y": [
          -6.979374153748573,
          -6.038017673214097
         ]
        },
        {
         "hoverinfo": "none",
         "line": {
          "color": "#888",
          "width": 1.078982649507148
         },
         "mode": "lines",
         "type": "scatter",
         "x": [
          -13.770553405879493,
          -12.670155574037661
         ],
         "y": [
          -6.979374153748573,
          -6.560713072991087
         ]
        },
        {
         "hoverinfo": "none",
         "line": {
          "color": "#888",
          "width": 1.2447500216097875
         },
         "mode": "lines",
         "type": "scatter",
         "x": [
          -13.770553405879493,
          -12.885570200590106
         ],
         "y": [
          -6.979374153748573,
          -7.21902777395607
         ]
        },
        {
         "hoverinfo": "none",
         "line": {
          "color": "#888",
          "width": 1.0027186546159308
         },
         "mode": "lines",
         "type": "scatter",
         "x": [
          -13.770553405879493,
          -14.61875612341671
         ],
         "y": [
          -6.979374153748573,
          -6.457956231183889
         ]
        },
        {
         "hoverinfo": "none",
         "line": {
          "color": "#888",
          "width": 1.029667423443561
         },
         "mode": "lines",
         "type": "scatter",
         "x": [
          -13.611430736159944,
          -13.387726540267733
         ],
         "y": [
          -5.876190550342591,
          -7.033495540347158
         ]
        },
        {
         "hoverinfo": "none",
         "line": {
          "color": "#888",
          "width": 1.0520572593229847
         },
         "mode": "lines",
         "type": "scatter",
         "x": [
          -13.387726540267733,
          -13.273225990625084
         ],
         "y": [
          -7.033495540347158,
          -6.038017673214097
         ]
        },
        {
         "hoverinfo": "none",
         "line": {
          "color": "#888",
          "width": 1.0197896529476522
         },
         "mode": "lines",
         "type": "scatter",
         "x": [
          -13.387726540267733,
          -14.61875612341671
         ],
         "y": [
          -7.033495540347158,
          -6.457956231183889
         ]
        },
        {
         "hoverinfo": "none",
         "line": {
          "color": "#888",
          "width": 1.0700143707609076
         },
         "mode": "lines",
         "type": "scatter",
         "x": [
          -13.387726540267733,
          -14.813500584136921
         ],
         "y": [
          -7.033495540347158,
          -7.702450581418244
         ]
        },
        {
         "hoverinfo": "none",
         "line": {
          "color": "#888",
          "width": 1.1525315474835547
         },
         "mode": "lines",
         "type": "scatter",
         "x": [
          -13.875537710711491,
          -14.337115099508948
         ],
         "y": [
          -5.32928344518222,
          -5.589642377557384
         ]
        },
        {
         "hoverinfo": "none",
         "line": {
          "color": "#888",
          "width": 1.2848271338362474
         },
         "mode": "lines",
         "type": "scatter",
         "x": [
          -13.527157887205975,
          -14.337115099508948
         ],
         "y": [
          -5.464656038819423,
          -5.589642377557384
         ]
        },
        {
         "hoverinfo": "none",
         "line": {
          "color": "#888",
          "width": 1.39459880184587
         },
         "mode": "lines",
         "type": "scatter",
         "x": [
          -14.871497661265048,
          -14.337115099508948
         ],
         "y": [
          -4.4476025797803,
          -5.589642377557384
         ]
        },
        {
         "hoverinfo": "none",
         "line": {
          "color": "#888",
          "width": 1.0679677767616238
         },
         "mode": "lines",
         "type": "scatter",
         "x": [
          -14.954468630341605,
          -14.337115099508948
         ],
         "y": [
          -6.0025936578907055,
          -5.589642377557384
         ]
        },
        {
         "hoverinfo": "none",
         "line": {
          "color": "#888",
          "width": 1.2091363920549865
         },
         "mode": "lines",
         "type": "scatter",
         "x": [
          -14.362059659931681,
          -14.337115099508948
         ],
         "y": [
          -4.997657926517953,
          -5.589642377557384
         ]
        },
        {
         "hoverinfo": "none",
         "line": {
          "color": "#888",
          "width": 1.4659683233129517
         },
         "mode": "lines",
         "type": "scatter",
         "x": [
          -13.707209565894951,
          -14.337115099508948
         ],
         "y": [
          -5.531850608732078,
          -5.589642377557384
         ]
        },
        {
         "hoverinfo": "none",
         "line": {
          "color": "#888",
          "width": 1.0707331961635507
         },
         "mode": "lines",
         "type": "scatter",
         "x": [
          -14.47810030254798,
          -14.337115099508948
         ],
         "y": [
          -6.400656932273691,
          -5.589642377557384
         ]
        },
        {
         "hoverinfo": "none",
         "line": {
          "color": "#888",
          "width": 1.0623490685536305
         },
         "mode": "lines",
         "type": "scatter",
         "x": [
          -14.790576922423055,
          -14.337115099508948
         ],
         "y": [
          -5.938131240021356,
          -5.589642377557384
         ]
        },
        {
         "hoverinfo": "none",
         "line": {
          "color": "#888",
          "width": 3.1577487523157908
         },
         "mode": "lines",
         "type": "scatter",
         "x": [
          -14.371871984258576,
          -14.337115099508948
         ],
         "y": [
          -5.309789890205194,
          -5.589642377557384
         ]
        },
        {
         "hoverinfo": "none",
         "line": {
          "color": "#888",
          "width": 1.002568567903429
         },
         "mode": "lines",
         "type": "scatter",
         "x": [
          -14.200026977870785,
          -14.337115099508948
         ],
         "y": [
          -6.491007842347108,
          -5.589642377557384
         ]
        },
        {
         "hoverinfo": "none",
         "line": {
          "color": "#888",
          "width": 1.1244919231162438
         },
         "mode": "lines",
         "type": "scatter",
         "x": [
          -14.220471909568893,
          -14.337115099508948
         ],
         "y": [
          -6.888856057905963,
          -5.589642377557384
         ]
        },
        {
         "hoverinfo": "none",
         "line": {
          "color": "#888",
          "width": 1.3098397302699072
         },
         "mode": "lines",
         "type": "scatter",
         "x": [
          -13.88035938362524,
          -14.337115099508948
         ],
         "y": [
          -5.930339137052623,
          -5.589642377557384
         ]
        },
        {
         "hoverinfo": "none",
         "line": {
          "color": "#888",
          "width": 3.1879587570809687
         },
         "mode": "lines",
         "type": "scatter",
         "x": [
          -14.337115099508948,
          -14.43856045774682
         ],
         "y": [
          -5.589642377557384,
          -5.340015312798051
         ]
        },
        {
         "hoverinfo": "none",
         "line": {
          "color": "#888",
          "width": 1.2043646237228836
         },
         "mode": "lines",
         "type": "scatter",
         "x": [
          -14.337115099508948,
          -15.630598463545166
         ],
         "y": [
          -5.589642377557384,
          -5.151451315824695
         ]
        },
        {
         "hoverinfo": "none",
         "line": {
          "color": "#888",
          "width": 1.3154254437573294
         },
         "mode": "lines",
         "type": "scatter",
         "x": [
          -14.337115099508948,
          -14.048169730697897
         ],
         "y": [
          -5.589642377557384,
          -4.402358898230442
         ]
        },
        {
         "hoverinfo": "none",
         "line": {
          "color": "#888",
          "width": 1.061090247532779
         },
         "mode": "lines",
         "type": "scatter",
         "x": [
          -14.337115099508948,
          -14.895945710193905
         ],
         "y": [
          -5.589642377557384,
          -6.507485318880583
         ]
        },
        {
         "hoverinfo": "none",
         "line": {
          "color": "#888",
          "width": 1.0635755566987102
         },
         "mode": "lines",
         "type": "scatter",
         "x": [
          -14.337115099508948,
          -15.270463960168538
         ],
         "y": [
          -5.589642377557384,
          -4.5058576710257725
         ]
        },
        {
         "hoverinfo": "none",
         "line": {
          "color": "#888",
          "width": 1.5810522423550677
         },
         "mode": "lines",
         "type": "scatter",
         "x": [
          -14.337115099508948,
          -14.753566114591269
         ],
         "y": [
          -5.589642377557384,
          -5.638625502914219
         ]
        },
        {
         "hoverinfo": "none",
         "line": {
          "color": "#888",
          "width": 1.8419867660504172
         },
         "mode": "lines",
         "type": "scatter",
         "x": [
          -14.337115099508948,
          -14.475455276486759
         ],
         "y": [
          -5.589642377557384,
          -4.563713429774501
         ]
        },
        {
         "hoverinfo": "none",
         "line": {
          "color": "#888",
          "width": 1.0831408595155747
         },
         "mode": "lines",
         "type": "scatter",
         "x": [
          -14.337115099508948,
          -13.390218289739371
         ],
         "y": [
          -5.589642377557384,
          -5.733405128642964
         ]
        },
        {
         "hoverinfo": "none",
         "line": {
          "color": "#888",
          "width": 1.2495373637579967
         },
         "mode": "lines",
         "type": "scatter",
         "x": [
          -14.337115099508948,
          -13.273225990625084
         ],
         "y": [
          -5.589642377557384,
          -6.038017673214097
         ]
        },
        {
         "hoverinfo": "none",
         "line": {
          "color": "#888",
          "width": 2.7921176984334677
         },
         "mode": "lines",
         "type": "scatter",
         "x": [
          -14.337115099508948,
          -13.862864446562623
         ],
         "y": [
          -5.589642377557384,
          -4.948323816069961
         ]
        },
        {
         "hoverinfo": "none",
         "line": {
          "color": "#888",
          "width": 1.420054194033269
         },
         "mode": "lines",
         "type": "scatter",
         "x": [
          -14.337115099508948,
          -13.675589562249908
         ],
         "y": [
          -5.589642377557384,
          -4.746623249059541
         ]
        },
        {
         "hoverinfo": "none",
         "line": {
          "color": "#888",
          "width": 1.7487037506264238
         },
         "mode": "lines",
         "type": "scatter",
         "x": [
          -14.337115099508948,
          -13.595012385775345
         ],
         "y": [
          -5.589642377557384,
          -5.071548520780777
         ]
        },
        {
         "hoverinfo": "none",
         "line": {
          "color": "#888",
          "width": 1.7087654595076642
         },
         "mode": "lines",
         "type": "scatter",
         "x": [
          -14.337115099508948,
          -13.94653562468436
         ],
         "y": [
          -5.589642377557384,
          -5.670154951244973
         ]
        },
        {
         "hoverinfo": "none",
         "line": {
          "color": "#888",
          "width": 1.0991598353620051
         },
         "mode": "lines",
         "type": "scatter",
         "x": [
          -11.632134763637355,
          -10.858252560086285
         ],
         "y": [
          2.4731819549983896,
          2.9443056051994283
         ]
        },
        {
         "hoverinfo": "none",
         "line": {
          "color": "#888",
          "width": 1.1563698198762682
         },
         "mode": "lines",
         "type": "scatter",
         "x": [
          -13.996742299482742,
          -14.609022694834321
         ],
         "y": [
          -3.9899647066405595,
          -2.900222090616298
         ]
        },
        {
         "hoverinfo": "none",
         "line": {
          "color": "#888",
          "width": 1.2270503994606037
         },
         "mode": "lines",
         "type": "scatter",
         "x": [
          -13.445922253012837,
          -14.609022694834321
         ],
         "y": [
          -3.229877120455521,
          -2.900222090616298
         ]
        },
        {
         "hoverinfo": "none",
         "line": {
          "color": "#888",
          "width": 1.0687625347010412
         },
         "mode": "lines",
         "type": "scatter",
         "x": [
          -14.609022694834321,
          -15.43199205428211
         ],
         "y": [
          -2.900222090616298,
          -2.12035182822722
         ]
        },
        {
         "hoverinfo": "none",
         "line": {
          "color": "#888",
          "width": 1.1831457714480567
         },
         "mode": "lines",
         "type": "scatter",
         "x": [
          -14.609022694834321,
          -14.08296077725767
         ],
         "y": [
          -2.900222090616298,
          -2.91931092816861
         ]
        },
        {
         "hoverinfo": "none",
         "line": {
          "color": "#888",
          "width": 1.1462998844642627
         },
         "mode": "lines",
         "type": "scatter",
         "x": [
          -14.609022694834321,
          -14.712868500732165
         ],
         "y": [
          -2.900222090616298,
          -1.9055694080867251
         ]
        },
        {
         "hoverinfo": "none",
         "line": {
          "color": "#888",
          "width": 1.133629876515718
         },
         "mode": "lines",
         "type": "scatter",
         "x": [
          -14.609022694834321,
          -14.265225489671783
         ],
         "y": [
          -2.900222090616298,
          -3.9299109157582914
         ]
        },
        {
         "hoverinfo": "none",
         "line": {
          "color": "#888",
          "width": 2.566209840487566
         },
         "mode": "lines",
         "type": "scatter",
         "x": [
          -13.875537710711491,
          -14.43856045774682
         ],
         "y": [
          -5.32928344518222,
          -5.340015312798051
         ]
        },
        {
         "hoverinfo": "none",
         "line": {
          "color": "#888",
          "width": 1.3015663196802976
         },
         "mode": "lines",
         "type": "scatter",
         "x": [
          -15.643188614776893,
          -14.43856045774682
         ],
         "y": [
          -4.920766736253973,
          -5.340015312798051
         ]
        },
        {
         "hoverinfo": "none",
         "line": {
          "color": "#888",
          "width": 1.8814560634855202
         },
         "mode": "lines",
         "type": "scatter",
         "x": [
          -13.527157887205975,
          -14.43856045774682
         ],
         "y": [
          -5.464656038819423,
          -5.340015312798051
         ]
        },
        {
         "hoverinfo": "none",
         "line": {
          "color": "#888",
          "width": 1.7937621694778214
         },
         "mode": "lines",
         "type": "scatter",
         "x": [
          -14.871497661265048,
          -14.43856045774682
         ],
         "y": [
          -4.4476025797803,
          -5.340015312798051
         ]
        },
        {
         "hoverinfo": "none",
         "line": {
          "color": "#888",
          "width": 1.1107805467841665
         },
         "mode": "lines",
         "type": "scatter",
         "x": [
          -14.954468630341605,
          -14.43856045774682
         ],
         "y": [
          -6.0025936578907055,
          -5.340015312798051
         ]
        },
        {
         "hoverinfo": "none",
         "line": {
          "color": "#888",
          "width": 1.9066601669415097
         },
         "mode": "lines",
         "type": "scatter",
         "x": [
          -14.362059659931681,
          -14.43856045774682
         ],
         "y": [
          -4.997657926517953,
          -5.340015312798051
         ]
        },
        {
         "hoverinfo": "none",
         "line": {
          "color": "#888",
          "width": 1.6918335657476147
         },
         "mode": "lines",
         "type": "scatter",
         "x": [
          -13.707209565894951,
          -14.43856045774682
         ],
         "y": [
          -5.531850608732078,
          -5.340015312798051
         ]
        },
        {
         "hoverinfo": "none",
         "line": {
          "color": "#888",
          "width": 1.0412559036608944
         },
         "mode": "lines",
         "type": "scatter",
         "x": [
          -15.1943392716613,
          -14.43856045774682
         ],
         "y": [
          -4.331536967157103,
          -5.340015312798051
         ]
        },
        {
         "hoverinfo": "none",
         "line": {
          "color": "#888",
          "width": 1.0274528679010728
         },
         "mode": "lines",
         "type": "scatter",
         "x": [
          -14.47810030254798,
          -14.43856045774682
         ],
         "y": [
          -6.400656932273691,
          -5.340015312798051
         ]
        },
        {
         "hoverinfo": "none",
         "line": {
          "color": "#888",
          "width": 1.315584544815094
         },
         "mode": "lines",
         "type": "scatter",
         "x": [
          -13.488565177169946,
          -14.43856045774682
         ],
         "y": [
          -4.37128180082043,
          -5.340015312798051
         ]
        },
        {
         "hoverinfo": "none",
         "line": {
          "color": "#888",
          "width": 1.251505001338207
         },
         "mode": "lines",
         "type": "scatter",
         "x": [
          -14.790576922423055,
          -14.43856045774682
         ],
         "y": [
          -5.938131240021356,
          -5.340015312798051
         ]
        },
        {
         "hoverinfo": "none",
         "line": {
          "color": "#888",
          "width": 1.3636061225836045
         },
         "mode": "lines",
         "type": "scatter",
         "x": [
          -15.190594501558186,
          -14.43856045774682
         ],
         "y": [
          -4.907635561614265,
          -5.340015312798051
         ]
        },
        {
         "hoverinfo": "none",
         "line": {
          "color": "#888",
          "width": 1.132076111448573
         },
         "mode": "lines",
         "type": "scatter",
         "x": [
          -14.645765529985793,
          -14.43856045774682
         ],
         "y": [
          -6.201254807051291,
          -5.340015312798051
         ]
        },
        {
         "hoverinfo": "none",
         "line": {
          "color": "#888",
          "width": 1.0566396278035435
         },
         "mode": "lines",
         "type": "scatter",
         "x": [
          -13.270489320443948,
          -14.43856045774682
         ],
         "y": [
          -4.814867740596674,
          -5.340015312798051
         ]
        },
        {
         "hoverinfo": "none",
         "line": {
          "color": "#888",
          "width": 2.1872722361747963
         },
         "mode": "lines",
         "type": "scatter",
         "x": [
          -13.611430736159944,
          -14.43856045774682
         ],
         "y": [
          -5.876190550342591,
          -5.340015312798051
         ]
        },
        {
         "hoverinfo": "none",
         "line": {
          "color": "#888",
          "width": 1.2839448025401863
         },
         "mode": "lines",
         "type": "scatter",
         "x": [
          -13.787919497620946,
          -14.43856045774682
         ],
         "y": [
          -4.43010290727313,
          -5.340015312798051
         ]
        },
        {
         "hoverinfo": "none",
         "line": {
          "color": "#888",
          "width": 10
         },
         "mode": "lines",
         "type": "scatter",
         "x": [
          -14.371871984258576,
          -14.43856045774682
         ],
         "y": [
          -5.309789890205194,
          -5.340015312798051
         ]
        },
        {
         "hoverinfo": "none",
         "line": {
          "color": "#888",
          "width": 1.1574776734716477
         },
         "mode": "lines",
         "type": "scatter",
         "x": [
          -15.06299985540851,
          -14.43856045774682
         ],
         "y": [
          -6.295317665169309,
          -5.340015312798051
         ]
        },
        {
         "hoverinfo": "none",
         "line": {
          "color": "#888",
          "width": 1.4227295360483014
         },
         "mode": "lines",
         "type": "scatter",
         "x": [
          -14.200026977870785,
          -14.43856045774682
         ],
         "y": [
          -6.491007842347108,
          -5.340015312798051
         ]
        },
        {
         "hoverinfo": "none",
         "line": {
          "color": "#888",
          "width": 1.2890306469390533
         },
         "mode": "lines",
         "type": "scatter",
         "x": [
          -15.717211012483808,
          -14.43856045774682
         ],
         "y": [
          -5.367590516567743,
          -5.340015312798051
         ]
        },
        {
         "hoverinfo": "none",
         "line": {
          "color": "#888",
          "width": 2.451719595282226
         },
         "mode": "lines",
         "type": "scatter",
         "x": [
          -14.189771826738772,
          -14.43856045774682
         ],
         "y": [
          -5.87173038695074,
          -5.340015312798051
         ]
        },
        {
         "hoverinfo": "none",
         "line": {
          "color": "#888",
          "width": 1.3165820698061634
         },
         "mode": "lines",
         "type": "scatter",
         "x": [
          -13.54321562440723,
          -14.43856045774682
         ],
         "y": [
          -6.325668381304119,
          -5.340015312798051
         ]
        },
        {
         "hoverinfo": "none",
         "line": {
          "color": "#888",
          "width": 1.670467809013335
         },
         "mode": "lines",
         "type": "scatter",
         "x": [
          -15.150173669132453,
          -14.43856045774682
         ],
         "y": [
          -5.634570573180639,
          -5.340015312798051
         ]
        },
        {
         "hoverinfo": "none",
         "line": {
          "color": "#888",
          "width": 1.3993620914043623
         },
         "mode": "lines",
         "type": "scatter",
         "x": [
          -13.222042469817788,
          -14.43856045774682
         ],
         "y": [
          -5.142310599034572,
          -5.340015312798051
         ]
        },
        {
         "hoverinfo": "none",
         "line": {
          "color": "#888",
          "width": 1.7288782060789272
         },
         "mode": "lines",
         "type": "scatter",
         "x": [
          -13.88035938362524,
          -14.43856045774682
         ],
         "y": [
          -5.930339137052623,
          -5.340015312798051
         ]
        },
        {
         "hoverinfo": "none",
         "line": {
          "color": "#888",
          "width": 3.1879587570809687
         },
         "mode": "lines",
         "type": "scatter",
         "x": [
          -14.337115099508948,
          -14.43856045774682
         ],
         "y": [
          -5.589642377557384,
          -5.340015312798051
         ]
        },
        {
         "hoverinfo": "none",
         "line": {
          "color": "#888",
          "width": 1.318747306507667
         },
         "mode": "lines",
         "type": "scatter",
         "x": [
          -14.43856045774682,
          -14.531025161560613
         ],
         "y": [
          -5.340015312798051,
          -4.080508516917675
         ]
        },
        {
         "hoverinfo": "none",
         "line": {
          "color": "#888",
          "width": 1.0098721890370026
         },
         "mode": "lines",
         "type": "scatter",
         "x": [
          -14.43856045774682,
          -15.630598463545166
         ],
         "y": [
          -5.340015312798051,
          -5.151451315824695
         ]
        },
        {
         "hoverinfo": "none",
         "line": {
          "color": "#888",
          "width": 1.0970820709105817
         },
         "mode": "lines",
         "type": "scatter",
         "x": [
          -14.43856045774682,
          -14.048169730697897
         ],
         "y": [
          -5.340015312798051,
          -4.402358898230442
         ]
        },
        {
         "hoverinfo": "none",
         "line": {
          "color": "#888",
          "width": 1.0919393118939638
         },
         "mode": "lines",
         "type": "scatter",
         "x": [
          -14.43856045774682,
          -14.895945710193905
         ],
         "y": [
          -5.340015312798051,
          -6.507485318880583
         ]
        },
        {
         "hoverinfo": "none",
         "line": {
          "color": "#888",
          "width": 1.6830778944015319
         },
         "mode": "lines",
         "type": "scatter",
         "x": [
          -14.43856045774682,
          -14.817113325705948
         ],
         "y": [
          -5.340015312798051,
          -5.149943024367288
         ]
        },
        {
         "hoverinfo": "none",
         "line": {
          "color": "#888",
          "width": 1.2351605638156031
         },
         "mode": "lines",
         "type": "scatter",
         "x": [
          -14.43856045774682,
          -15.41477323554502
         ],
         "y": [
          -5.340015312798051,
          -6.0598151704403165
         ]
        },
        {
         "hoverinfo": "none",
         "line": {
          "color": "#888",
          "width": 1.5508367495811979
         },
         "mode": "lines",
         "type": "scatter",
         "x": [
          -14.43856045774682,
          -15.24633057040751
         ],
         "y": [
          -5.340015312798051,
          -5.916024529055278
         ]
        },
        {
         "hoverinfo": "none",
         "line": {
          "color": "#888",
          "width": 2.0438351601555285
         },
         "mode": "lines",
         "type": "scatter",
         "x": [
          -14.43856045774682,
          -15.28225172984896
         ],
         "y": [
          -5.340015312798051,
          -5.387738780527072
         ]
        },
        {
         "hoverinfo": "none",
         "line": {
          "color": "#888",
          "width": 1.0017036219199675
         },
         "mode": "lines",
         "type": "scatter",
         "x": [
          -14.43856045774682,
          -14.094060124693677
         ],
         "y": [
          -5.340015312798051,
          -5.024824129450616
         ]
        },
        {
         "hoverinfo": "none",
         "line": {
          "color": "#888",
          "width": 1.381764395450621
         },
         "mode": "lines",
         "type": "scatter",
         "x": [
          -14.43856045774682,
          -14.419498108553507
         ],
         "y": [
          -5.340015312798051,
          -4.216353478321253
         ]
        },
        {
         "hoverinfo": "none",
         "line": {
          "color": "#888",
          "width": 1.0649763823028287
         },
         "mode": "lines",
         "type": "scatter",
         "x": [
          -14.43856045774682,
          -13.894885252196177
         ],
         "y": [
          -5.340015312798051,
          -6.193450742401886
         ]
        },
        {
         "hoverinfo": "none",
         "line": {
          "color": "#888",
          "width": 1.3790216487161453
         },
         "mode": "lines",
         "type": "scatter",
         "x": [
          -14.43856045774682,
          -15.264536165409725
         ],
         "y": [
          -5.340015312798051,
          -6.329600572063244
         ]
        },
        {
         "hoverinfo": "none",
         "line": {
          "color": "#888",
          "width": 1.2864468529583373
         },
         "mode": "lines",
         "type": "scatter",
         "x": [
          -14.43856045774682,
          -13.79014750687308
         ],
         "y": [
          -5.340015312798051,
          -6.478932958412301
         ]
        },
        {
         "hoverinfo": "none",
         "line": {
          "color": "#888",
          "width": 2.567642998280728
         },
         "mode": "lines",
         "type": "scatter",
         "x": [
          -14.43856045774682,
          -14.753566114591269
         ],
         "y": [
          -5.340015312798051,
          -5.638625502914219
         ]
        },
        {
         "hoverinfo": "none",
         "line": {
          "color": "#888",
          "width": 1.1523676617484837
         },
         "mode": "lines",
         "type": "scatter",
         "x": [
          -14.43856045774682,
          -13.929962859924492
         ],
         "y": [
          -5.340015312798051,
          -4.657229596896204
         ]
        },
        {
         "hoverinfo": "none",
         "line": {
          "color": "#888",
          "width": 1.5587087842051919
         },
         "mode": "lines",
         "type": "scatter",
         "x": [
          -14.43856045774682,
          -14.475455276486759
         ],
         "y": [
          -5.340015312798051,
          -4.563713429774501
         ]
        },
        {
         "hoverinfo": "none",
         "line": {
          "color": "#888",
          "width": 1.6392799883916123
         },
         "mode": "lines",
         "type": "scatter",
         "x": [
          -14.43856045774682,
          -13.390218289739371
         ],
         "y": [
          -5.340015312798051,
          -5.733405128642964
         ]
        },
        {
         "hoverinfo": "none",
         "line": {
          "color": "#888",
          "width": 1.586531690322458
         },
         "mode": "lines",
         "type": "scatter",
         "x": [
          -14.43856045774682,
          -13.273225990625084
         ],
         "y": [
          -5.340015312798051,
          -6.038017673214097
         ]
        },
        {
         "hoverinfo": "none",
         "line": {
          "color": "#888",
          "width": 1.9869900085489416
         },
         "mode": "lines",
         "type": "scatter",
         "x": [
          -14.43856045774682,
          -14.534578693420821
         ],
         "y": [
          -5.340015312798051,
          -5.867735650205169
         ]
        },
        {
         "hoverinfo": "none",
         "line": {
          "color": "#888",
          "width": 1.1860759821042963
         },
         "mode": "lines",
         "type": "scatter",
         "x": [
          -14.43856045774682,
          -15.573741906957562
         ],
         "y": [
          -5.340015312798051,
          -5.537184150233229
         ]
        },
        {
         "hoverinfo": "none",
         "line": {
          "color": "#888",
          "width": 1.5222648642649248
         },
         "mode": "lines",
         "type": "scatter",
         "x": [
          -14.43856045774682,
          -14.933185749715992
         ],
         "y": [
          -5.340015312798051,
          -4.193392152224972
         ]
        },
        {
         "hoverinfo": "none",
         "line": {
          "color": "#888",
          "width": 1.1696652479867022
         },
         "mode": "lines",
         "type": "scatter",
         "x": [
          -14.43856045774682,
          -13.104395642507322
         ],
         "y": [
          -5.340015312798051,
          -5.620675211727626
         ]
        },
        {
         "hoverinfo": "none",
         "line": {
          "color": "#888",
          "width": 3.265376284739778
         },
         "mode": "lines",
         "type": "scatter",
         "x": [
          -14.43856045774682,
          -13.862864446562623
         ],
         "y": [
          -5.340015312798051,
          -4.948323816069961
         ]
        },
        {
         "hoverinfo": "none",
         "line": {
          "color": "#888",
          "width": 1.2638409296305433
         },
         "mode": "lines",
         "type": "scatter",
         "x": [
          -14.43856045774682,
          -13.675589562249908
         ],
         "y": [
          -5.340015312798051,
          -4.746623249059541
         ]
        },
        {
         "hoverinfo": "none",
         "line": {
          "color": "#888",
          "width": 1.438687743390058
         },
         "mode": "lines",
         "type": "scatter",
         "x": [
          -14.43856045774682,
          -15.438938010325261
         ],
         "y": [
          -5.340015312798051,
          -4.675896407068778
         ]
        },
        {
         "hoverinfo": "none",
         "line": {
          "color": "#888",
          "width": 1.9833157453205779
         },
         "mode": "lines",
         "type": "scatter",
         "x": [
          -14.43856045774682,
          -13.595012385775345
         ],
         "y": [
          -5.340015312798051,
          -5.071548520780777
         ]
        },
        {
         "hoverinfo": "none",
         "line": {
          "color": "#888",
          "width": 1.3812304868980876
         },
         "mode": "lines",
         "type": "scatter",
         "x": [
          -14.43856045774682,
          -13.193598012960688
         ],
         "y": [
          -5.340015312798051,
          -5.37815957036336
         ]
        },
        {
         "hoverinfo": "none",
         "line": {
          "color": "#888",
          "width": 3.1927690423116966
         },
         "mode": "lines",
         "type": "scatter",
         "x": [
          -14.43856045774682,
          -13.94653562468436
         ],
         "y": [
          -5.340015312798051,
          -5.670154951244973
         ]
        },
        {
         "hoverinfo": "none",
         "line": {
          "color": "#888",
          "width": 1.4190282225804427
         },
         "mode": "lines",
         "type": "scatter",
         "x": [
          -14.43856045774682,
          -15.497439241197572
         ],
         "y": [
          -5.340015312798051,
          -5.806596942822509
         ]
        },
        {
         "hoverinfo": "none",
         "line": {
          "color": "#888",
          "width": 2.2726446736519508
         },
         "mode": "lines",
         "type": "scatter",
         "x": [
          -14.43856045774682,
          -14.914940275618951
         ],
         "y": [
          -5.340015312798051,
          -4.9158561143212465
         ]
        },
        {
         "hoverinfo": "none",
         "line": {
          "color": "#888",
          "width": 2.0270887765427292
         },
         "mode": "lines",
         "type": "scatter",
         "x": [
          -14.43856045774682,
          -15.013124154598115
         ],
         "y": [
          -5.340015312798051,
          -5.529484149368032
         ]
        },
        {
         "hoverinfo": "none",
         "line": {
          "color": "#888",
          "width": 1.1820325920296575
         },
         "mode": "lines",
         "type": "scatter",
         "x": [
          -14.43856045774682,
          -14.813549771834133
         ],
         "y": [
          -5.340015312798051,
          -4.598891617330923
         ]
        },
        {
         "hoverinfo": "none",
         "line": {
          "color": "#888",
          "width": 1.077722628508547
         },
         "mode": "lines",
         "type": "scatter",
         "x": [
          -14.43856045774682,
          -14.61875612341671
         ],
         "y": [
          -5.340015312798051,
          -6.457956231183889
         ]
        },
        {
         "hoverinfo": "none",
         "line": {
          "color": "#888",
          "width": 1.2684677691401385
         },
         "mode": "lines",
         "type": "scatter",
         "x": [
          -14.43856045774682,
          -14.265225489671783
         ],
         "y": [
          -5.340015312798051,
          -3.9299109157582914
         ]
        },
        {
         "hoverinfo": "none",
         "line": {
          "color": "#888",
          "width": 1.1908454484178237
         },
         "mode": "lines",
         "type": "scatter",
         "x": [
          -17.70580069741524,
          -16.71299347461052
         ],
         "y": [
          -6.106942030786656,
          -5.590205519431617
         ]
        },
        {
         "hoverinfo": "none",
         "line": {
          "color": "#888",
          "width": 1.118949889885228
         },
         "mode": "lines",
         "type": "scatter",
         "x": [
          -17.70580069741524,
          -16.660753934328383
         ],
         "y": [
          -6.106942030786656,
          -6.138199857768167
         ]
        },
        {
         "hoverinfo": "none",
         "line": {
          "color": "#888",
          "width": 1.0129143583647515
         },
         "mode": "lines",
         "type": "scatter",
         "x": [
          -13.09713495454668,
          -14.531025161560613
         ],
         "y": [
          -3.5288621511908427,
          -4.080508516917675
         ]
        },
        {
         "hoverinfo": "none",
         "line": {
          "color": "#888",
          "width": 1.1073355126124376
         },
         "mode": "lines",
         "type": "scatter",
         "x": [
          -15.337884524937785,
          -14.531025161560613
         ],
         "y": [
          -3.0707153765384603,
          -4.080508516917675
         ]
        },
        {
         "hoverinfo": "none",
         "line": {
          "color": "#888",
          "width": 1.3355783082579442
         },
         "mode": "lines",
         "type": "scatter",
         "x": [
          -14.371871984258576,
          -14.531025161560613
         ],
         "y": [
          -5.309789890205194,
          -4.080508516917675
         ]
        },
        {
         "hoverinfo": "none",
         "line": {
          "color": "#888",
          "width": 1.318747306507667
         },
         "mode": "lines",
         "type": "scatter",
         "x": [
          -14.43856045774682,
          -14.531025161560613
         ],
         "y": [
          -5.340015312798051,
          -4.080508516917675
         ]
        },
        {
         "hoverinfo": "none",
         "line": {
          "color": "#888",
          "width": 1.0353462718347628
         },
         "mode": "lines",
         "type": "scatter",
         "x": [
          -14.531025161560613,
          -14.817113325705948
         ],
         "y": [
          -4.080508516917675,
          -5.149943024367288
         ]
        },
        {
         "hoverinfo": "none",
         "line": {
          "color": "#888",
          "width": 1.0674598078983306
         },
         "mode": "lines",
         "type": "scatter",
         "x": [
          -17.398305802687364,
          -16.41109013839647
         ],
         "y": [
          -6.896377114987738,
          -6.583920240965175
         ]
        },
        {
         "hoverinfo": "none",
         "line": {
          "color": "#888",
          "width": 1.0218575318561447
         },
         "mode": "lines",
         "type": "scatter",
         "x": [
          -14.371871984258576,
          -15.630598463545166
         ],
         "y": [
          -5.309789890205194,
          -5.151451315824695
         ]
        },
        {
         "hoverinfo": "none",
         "line": {
          "color": "#888",
          "width": 1.2043646237228836
         },
         "mode": "lines",
         "type": "scatter",
         "x": [
          -14.337115099508948,
          -15.630598463545166
         ],
         "y": [
          -5.589642377557384,
          -5.151451315824695
         ]
        },
        {
         "hoverinfo": "none",
         "line": {
          "color": "#888",
          "width": 1.0098721890370026
         },
         "mode": "lines",
         "type": "scatter",
         "x": [
          -14.43856045774682,
          -15.630598463545166
         ],
         "y": [
          -5.340015312798051,
          -5.151451315824695
         ]
        },
        {
         "hoverinfo": "none",
         "line": {
          "color": "#888",
          "width": 1.0524442281058517
         },
         "mode": "lines",
         "type": "scatter",
         "x": [
          -15.630598463545166,
          -16.71299347461052
         ],
         "y": [
          -5.151451315824695,
          -5.590205519431617
         ]
        },
        {
         "hoverinfo": "none",
         "line": {
          "color": "#888",
          "width": 1.062441482693396
         },
         "mode": "lines",
         "type": "scatter",
         "x": [
          -15.630598463545166,
          -16.660753934328383
         ],
         "y": [
          -5.151451315824695,
          -6.138199857768167
         ]
        },
        {
         "hoverinfo": "none",
         "line": {
          "color": "#888",
          "width": 1.047565162276737
         },
         "mode": "lines",
         "type": "scatter",
         "x": [
          -15.630598463545166,
          -15.497439241197572
         ],
         "y": [
          -5.151451315824695,
          -5.806596942822509
         ]
        },
        {
         "hoverinfo": "none",
         "line": {
          "color": "#888",
          "width": 1.0221615441390333
         },
         "mode": "lines",
         "type": "scatter",
         "x": [
          -10.783557959520174,
          -9.987279805570436
         ],
         "y": [
          4.269212475785679,
          3.842756612426725
         ]
        },
        {
         "hoverinfo": "none",
         "line": {
          "color": "#888",
          "width": 1.1197407888849389
         },
         "mode": "lines",
         "type": "scatter",
         "x": [
          -13.270489320443948,
          -12.781972190065094
         ],
         "y": [
          -4.814867740596674,
          -4.390247982935071
         ]
        },
        {
         "hoverinfo": "none",
         "line": {
          "color": "#888",
          "width": 1.1358728561908775
         },
         "mode": "lines",
         "type": "scatter",
         "x": [
          -13.611430736159944,
          -12.781972190065094
         ],
         "y": [
          -5.876190550342591,
          -4.390247982935071
         ]
        },
        {
         "hoverinfo": "none",
         "line": {
          "color": "#888",
          "width": 1.0168162068323456
         },
         "mode": "lines",
         "type": "scatter",
         "x": [
          -12.371455468108477,
          -12.781972190065094
         ],
         "y": [
          -3.315088065905645,
          -4.390247982935071
         ]
        },
        {
         "hoverinfo": "none",
         "line": {
          "color": "#888",
          "width": 1.4403795439450626
         },
         "mode": "lines",
         "type": "scatter",
         "x": [
          -13.445922253012837,
          -12.781972190065094
         ],
         "y": [
          -3.229877120455521,
          -4.390247982935071
         ]
        },
        {
         "hoverinfo": "none",
         "line": {
          "color": "#888",
          "width": 1.0644477275027557
         },
         "mode": "lines",
         "type": "scatter",
         "x": [
          -13.707209565894951,
          -14.048169730697897
         ],
         "y": [
          -5.531850608732078,
          -4.402358898230442
         ]
        },
        {
         "hoverinfo": "none",
         "line": {
          "color": "#888",
          "width": 1.1112082173446767
         },
         "mode": "lines",
         "type": "scatter",
         "x": [
          -14.371871984258576,
          -14.048169730697897
         ],
         "y": [
          -5.309789890205194,
          -4.402358898230442
         ]
        },
        {
         "hoverinfo": "none",
         "line": {
          "color": "#888",
          "width": 1.3154254437573294
         },
         "mode": "lines",
         "type": "scatter",
         "x": [
          -14.337115099508948,
          -14.048169730697897
         ],
         "y": [
          -5.589642377557384,
          -4.402358898230442
         ]
        },
        {
         "hoverinfo": "none",
         "line": {
          "color": "#888",
          "width": 1.0970820709105817
         },
         "mode": "lines",
         "type": "scatter",
         "x": [
          -14.43856045774682,
          -14.048169730697897
         ],
         "y": [
          -5.340015312798051,
          -4.402358898230442
         ]
        },
        {
         "hoverinfo": "none",
         "line": {
          "color": "#888",
          "width": 1.6290562870466516
         },
         "mode": "lines",
         "type": "scatter",
         "x": [
          -14.048169730697897,
          -14.475455276486759
         ],
         "y": [
          -4.402358898230442,
          -4.563713429774501
         ]
        },
        {
         "hoverinfo": "none",
         "line": {
          "color": "#888",
          "width": 1.2350702599665488
         },
         "mode": "lines",
         "type": "scatter",
         "x": [
          -13.222042469817788,
          -12.033468151975097
         ],
         "y": [
          -5.142310599034572,
          -5.1083541514665365
         ]
        },
        {
         "hoverinfo": "none",
         "line": {
          "color": "#888",
          "width": 1.3024196191895037
         },
         "mode": "lines",
         "type": "scatter",
         "x": [
          -12.033468151975097,
          -12.518872512671223
         ],
         "y": [
          -5.1083541514665365,
          -4.636006372940541
         ]
        },
        {
         "hoverinfo": "none",
         "line": {
          "color": "#888",
          "width": 1.2067091142521453
         },
         "mode": "lines",
         "type": "scatter",
         "x": [
          -12.033468151975097,
          -13.193598012960688
         ],
         "y": [
          -5.1083541514665365,
          -5.37815957036336
         ]
        },
        {
         "hoverinfo": "none",
         "line": {
          "color": "#888",
          "width": 1.0687625347010412
         },
         "mode": "lines",
         "type": "scatter",
         "x": [
          -14.609022694834321,
          -15.43199205428211
         ],
         "y": [
          -2.900222090616298,
          -2.12035182822722
         ]
        },
        {
         "hoverinfo": "none",
         "line": {
          "color": "#888",
          "width": 1.062697577792586
         },
         "mode": "lines",
         "type": "scatter",
         "x": [
          -15.43199205428211,
          -14.712868500732165
         ],
         "y": [
          -2.12035182822722,
          -1.9055694080867251
         ]
        },
        {
         "hoverinfo": "none",
         "line": {
          "color": "#888",
          "width": 1.2391513453871246
         },
         "mode": "lines",
         "type": "scatter",
         "x": [
          -14.954468630341605,
          -14.895945710193905
         ],
         "y": [
          -6.0025936578907055,
          -6.507485318880583
         ]
        },
        {
         "hoverinfo": "none",
         "line": {
          "color": "#888",
          "width": 1.0087318120004038
         },
         "mode": "lines",
         "type": "scatter",
         "x": [
          -14.121106121702685,
          -14.895945710193905
         ],
         "y": [
          -7.567300842448139,
          -6.507485318880583
         ]
        },
        {
         "hoverinfo": "none",
         "line": {
          "color": "#888",
          "width": 1.4832930434014333
         },
         "mode": "lines",
         "type": "scatter",
         "x": [
          -14.47810030254798,
          -14.895945710193905
         ],
         "y": [
          -6.400656932273691,
          -6.507485318880583
         ]
        },
        {
         "hoverinfo": "none",
         "line": {
          "color": "#888",
          "width": 1.300990766960133
         },
         "mode": "lines",
         "type": "scatter",
         "x": [
          -14.790576922423055,
          -14.895945710193905
         ],
         "y": [
          -5.938131240021356,
          -6.507485318880583
         ]
        },
        {
         "hoverinfo": "none",
         "line": {
          "color": "#888",
          "width": 1.0539800831501809
         },
         "mode": "lines",
         "type": "scatter",
         "x": [
          -13.611430736159944,
          -14.895945710193905
         ],
         "y": [
          -5.876190550342591,
          -6.507485318880583
         ]
        },
        {
         "hoverinfo": "none",
         "line": {
          "color": "#888",
          "width": 1.1081264330164462
         },
         "mode": "lines",
         "type": "scatter",
         "x": [
          -14.371871984258576,
          -14.895945710193905
         ],
         "y": [
          -5.309789890205194,
          -6.507485318880583
         ]
        },
        {
         "hoverinfo": "none",
         "line": {
          "color": "#888",
          "width": 1.221336861129728
         },
         "mode": "lines",
         "type": "scatter",
         "x": [
          -15.941719530610088,
          -14.895945710193905
         ],
         "y": [
          -7.277572243361705,
          -6.507485318880583
         ]
        },
        {
         "hoverinfo": "none",
         "line": {
          "color": "#888",
          "width": 1.103419965826937
         },
         "mode": "lines",
         "type": "scatter",
         "x": [
          -14.200026977870785,
          -14.895945710193905
         ],
         "y": [
          -6.491007842347108,
          -6.507485318880583
         ]
        },
        {
         "hoverinfo": "none",
         "line": {
          "color": "#888",
          "width": 1.2313168875863947
         },
         "mode": "lines",
         "type": "scatter",
         "x": [
          -14.220471909568893,
          -14.895945710193905
         ],
         "y": [
          -6.888856057905963,
          -6.507485318880583
         ]
        },
        {
         "hoverinfo": "none",
         "line": {
          "color": "#888",
          "width": 1.1128435382088495
         },
         "mode": "lines",
         "type": "scatter",
         "x": [
          -15.851128569030708,
          -14.895945710193905
         ],
         "y": [
          -6.736423468652748,
          -6.507485318880583
         ]
        },
        {
         "hoverinfo": "none",
         "line": {
          "color": "#888",
          "width": 1.061090247532779
         },
         "mode": "lines",
         "type": "scatter",
         "x": [
          -14.337115099508948,
          -14.895945710193905
         ],
         "y": [
          -5.589642377557384,
          -6.507485318880583
         ]
        },
        {
         "hoverinfo": "none",
         "line": {
          "color": "#888",
          "width": 1.0919393118939638
         },
         "mode": "lines",
         "type": "scatter",
         "x": [
          -14.43856045774682,
          -14.895945710193905
         ],
         "y": [
          -5.340015312798051,
          -6.507485318880583
         ]
        },
        {
         "hoverinfo": "none",
         "line": {
          "color": "#888",
          "width": 1.0788074979192634
         },
         "mode": "lines",
         "type": "scatter",
         "x": [
          -14.895945710193905,
          -13.981029096872376
         ],
         "y": [
          -6.507485318880583,
          -6.832951899584617
         ]
        },
        {
         "hoverinfo": "none",
         "line": {
          "color": "#888",
          "width": 1.0345768076262605
         },
         "mode": "lines",
         "type": "scatter",
         "x": [
          -14.895945710193905,
          -14.616955577935325
         ],
         "y": [
          -6.507485318880583,
          -6.93972065520944
         ]
        },
        {
         "hoverinfo": "none",
         "line": {
          "color": "#888",
          "width": 1.009643827301647
         },
         "mode": "lines",
         "type": "scatter",
         "x": [
          -14.895945710193905,
          -15.573741906957562
         ],
         "y": [
          -6.507485318880583,
          -5.537184150233229
         ]
        },
        {
         "hoverinfo": "none",
         "line": {
          "color": "#888",
          "width": 1.204001702132995
         },
         "mode": "lines",
         "type": "scatter",
         "x": [
          -14.895945710193905,
          -15.634320764752584
         ],
         "y": [
          -6.507485318880583,
          -7.364165177722024
         ]
        },
        {
         "hoverinfo": "none",
         "line": {
          "color": "#888",
          "width": 1.145445114520896
         },
         "mode": "lines",
         "type": "scatter",
         "x": [
          -14.895945710193905,
          -14.251523252864162
         ],
         "y": [
          -6.507485318880583,
          -7.368519936234171
         ]
        },
        {
         "hoverinfo": "none",
         "line": {
          "color": "#888",
          "width": 1.0390646546923523
         },
         "mode": "lines",
         "type": "scatter",
         "x": [
          -13.527157887205975,
          -13.981029096872376
         ],
         "y": [
          -5.464656038819423,
          -6.832951899584617
         ]
        },
        {
         "hoverinfo": "none",
         "line": {
          "color": "#888",
          "width": 1.0103277113363722
         },
         "mode": "lines",
         "type": "scatter",
         "x": [
          -14.954468630341605,
          -13.981029096872376
         ],
         "y": [
          -6.0025936578907055,
          -6.832951899584617
         ]
        },
        {
         "hoverinfo": "none",
         "line": {
          "color": "#888",
          "width": 1.0174386683931247
         },
         "mode": "lines",
         "type": "scatter",
         "x": [
          -14.121106121702685,
          -13.981029096872376
         ],
         "y": [
          -7.567300842448139,
          -6.832951899584617
         ]
        },
        {
         "hoverinfo": "none",
         "line": {
          "color": "#888",
          "width": 1.0159194953047692
         },
         "mode": "lines",
         "type": "scatter",
         "x": [
          -14.47810030254798,
          -13.981029096872376
         ],
         "y": [
          -6.400656932273691,
          -6.832951899584617
         ]
        },
        {
         "hoverinfo": "none",
         "line": {
          "color": "#888",
          "width": 1.016731652620529
         },
         "mode": "lines",
         "type": "scatter",
         "x": [
          -14.790576922423055,
          -13.981029096872376
         ],
         "y": [
          -5.938131240021356,
          -6.832951899584617
         ]
        },
        {
         "hoverinfo": "none",
         "line": {
          "color": "#888",
          "width": 1.074493439756516
         },
         "mode": "lines",
         "type": "scatter",
         "x": [
          -13.611430736159944,
          -13.981029096872376
         ],
         "y": [
          -5.876190550342591,
          -6.832951899584617
         ]
        },
        {
         "hoverinfo": "none",
         "line": {
          "color": "#888",
          "width": 1.327113634493792
         },
         "mode": "lines",
         "type": "scatter",
         "x": [
          -14.220471909568893,
          -13.981029096872376
         ],
         "y": [
          -6.888856057905963,
          -6.832951899584617
         ]
        },
        {
         "hoverinfo": "none",
         "line": {
          "color": "#888",
          "width": 1.0788074979192634
         },
         "mode": "lines",
         "type": "scatter",
         "x": [
          -14.895945710193905,
          -13.981029096872376
         ],
         "y": [
          -6.507485318880583,
          -6.832951899584617
         ]
        },
        {
         "hoverinfo": "none",
         "line": {
          "color": "#888",
          "width": 1.109759620016767
         },
         "mode": "lines",
         "type": "scatter",
         "x": [
          -13.981029096872376,
          -14.500335134000432
         ],
         "y": [
          -6.832951899584617,
          -8.017373646677502
         ]
        },
        {
         "hoverinfo": "none",
         "line": {
          "color": "#888",
          "width": 1.0835943663577714
         },
         "mode": "lines",
         "type": "scatter",
         "x": [
          -13.875537710711491,
          -14.817113325705948
         ],
         "y": [
          -5.32928344518222,
          -5.149943024367288
         ]
        },
        {
         "hoverinfo": "none",
         "line": {
          "color": "#888",
          "width": 1.1398534458016778
         },
         "mode": "lines",
         "type": "scatter",
         "x": [
          -14.871497661265048,
          -14.817113325705948
         ],
         "y": [
          -4.4476025797803,
          -5.149943024367288
         ]
        },
        {
         "hoverinfo": "none",
         "line": {
          "color": "#888",
          "width": 1.1984960462707082
         },
         "mode": "lines",
         "type": "scatter",
         "x": [
          -14.790576922423055,
          -14.817113325705948
         ],
         "y": [
          -5.938131240021356,
          -5.149943024367288
         ]
        },
        {
         "hoverinfo": "none",
         "line": {
          "color": "#888",
          "width": 1.0291797412739954
         },
         "mode": "lines",
         "type": "scatter",
         "x": [
          -15.190594501558186,
          -14.817113325705948
         ],
         "y": [
          -4.907635561614265,
          -5.149943024367288
         ]
        },
        {
         "hoverinfo": "none",
         "line": {
          "color": "#888",
          "width": 1.0844524091290217
         },
         "mode": "lines",
         "type": "scatter",
         "x": [
          -14.645765529985793,
          -14.817113325705948
         ],
         "y": [
          -6.201254807051291,
          -5.149943024367288
         ]
        },
        {
         "hoverinfo": "none",
         "line": {
          "color": "#888",
          "width": 1.7038625293784184
         },
         "mode": "lines",
         "type": "scatter",
         "x": [
          -14.371871984258576,
          -14.817113325705948
         ],
         "y": [
          -5.309789890205194,
          -5.149943024367288
         ]
        },
        {
         "hoverinfo": "none",
         "line": {
          "color": "#888",
          "width": 1.271461417643486
         },
         "mode": "lines",
         "type": "scatter",
         "x": [
          -15.06299985540851,
          -14.817113325705948
         ],
         "y": [
          -6.295317665169309,
          -5.149943024367288
         ]
        },
        {
         "hoverinfo": "none",
         "line": {
          "color": "#888",
          "width": 1.3592743584515317
         },
         "mode": "lines",
         "type": "scatter",
         "x": [
          -14.189771826738772,
          -14.817113325705948
         ],
         "y": [
          -5.87173038695074,
          -5.149943024367288
         ]
        },
        {
         "hoverinfo": "none",
         "line": {
          "color": "#888",
          "width": 1.6830778944015319
         },
         "mode": "lines",
         "type": "scatter",
         "x": [
          -14.43856045774682,
          -14.817113325705948
         ],
         "y": [
          -5.340015312798051,
          -5.149943024367288
         ]
        },
        {
         "hoverinfo": "none",
         "line": {
          "color": "#888",
          "width": 1.0353462718347628
         },
         "mode": "lines",
         "type": "scatter",
         "x": [
          -14.531025161560613,
          -14.817113325705948
         ],
         "y": [
          -4.080508516917675,
          -5.149943024367288
         ]
        },
        {
         "hoverinfo": "none",
         "line": {
          "color": "#888",
          "width": 1.277912477086186
         },
         "mode": "lines",
         "type": "scatter",
         "x": [
          -14.817113325705948,
          -15.270463960168538
         ],
         "y": [
          -5.149943024367288,
          -4.5058576710257725
         ]
        },
        {
         "hoverinfo": "none",
         "line": {
          "color": "#888",
          "width": 1.0879176777993202
         },
         "mode": "lines",
         "type": "scatter",
         "x": [
          -14.817113325705948,
          -14.094060124693677
         ],
         "y": [
          -5.149943024367288,
          -5.024824129450616
         ]
        },
        {
         "hoverinfo": "none",
         "line": {
          "color": "#888",
          "width": 1.104830326321568
         },
         "mode": "lines",
         "type": "scatter",
         "x": [
          -14.817113325705948,
          -14.753566114591269
         ],
         "y": [
          -5.149943024367288,
          -5.638625502914219
         ]
        },
        {
         "hoverinfo": "none",
         "line": {
          "color": "#888",
          "width": 1.053952866482968
         },
         "mode": "lines",
         "type": "scatter",
         "x": [
          -14.817113325705948,
          -14.534578693420821
         ],
         "y": [
          -5.149943024367288,
          -5.867735650205169
         ]
        },
        {
         "hoverinfo": "none",
         "line": {
          "color": "#888",
          "width": 1.1110581512755304
         },
         "mode": "lines",
         "type": "scatter",
         "x": [
          -14.817113325705948,
          -13.862864446562623
         ],
         "y": [
          -5.149943024367288,
          -4.948323816069961
         ]
        },
        {
         "hoverinfo": "none",
         "line": {
          "color": "#888",
          "width": 1.0058964092324805
         },
         "mode": "lines",
         "type": "scatter",
         "x": [
          -14.817113325705948,
          -15.497439241197572
         ],
         "y": [
          -5.149943024367288,
          -5.806596942822509
         ]
        },
        {
         "hoverinfo": "none",
         "line": {
          "color": "#888",
          "width": 1.106498364464699
         },
         "mode": "lines",
         "type": "scatter",
         "x": [
          -14.817113325705948,
          -15.013124154598115
         ],
         "y": [
          -5.149943024367288,
          -5.529484149368032
         ]
        },
        {
         "hoverinfo": "none",
         "line": {
          "color": "#888",
          "width": 1.5356393979216454
         },
         "mode": "lines",
         "type": "scatter",
         "x": [
          -14.817113325705948,
          -14.813549771834133
         ],
         "y": [
          -5.149943024367288,
          -4.598891617330923
         ]
        },
        {
         "hoverinfo": "none",
         "line": {
          "color": "#888",
          "width": 1.151756002717777
         },
         "mode": "lines",
         "type": "scatter",
         "x": [
          -14.817113325705948,
          -14.61875612341671
         ],
         "y": [
          -5.149943024367288,
          -6.457956231183889
         ]
        },
        {
         "hoverinfo": "none",
         "line": {
          "color": "#888",
          "width": 1.013897428648376
         },
         "mode": "lines",
         "type": "scatter",
         "x": [
          -14.871497661265048,
          -16.00047798583634
         ],
         "y": [
          -4.4476025797803,
          -3.7533718180893545
         ]
        },
        {
         "hoverinfo": "none",
         "line": {
          "color": "#888",
          "width": 1.3184957335227359
         },
         "mode": "lines",
         "type": "scatter",
         "x": [
          -16.00047798583634,
          -16.303060544747147
         ],
         "y": [
          -3.7533718180893545,
          -4.310670236828554
         ]
        },
        {
         "hoverinfo": "none",
         "line": {
          "color": "#888",
          "width": 1.0329961997871857
         },
         "mode": "lines",
         "type": "scatter",
         "x": [
          -13.555182236786251,
          -13.79014750687308
         ],
         "y": [
          -7.798367216956849,
          -6.478932958412301
         ]
        },
        {
         "hoverinfo": "none",
         "line": {
          "color": "#888",
          "width": 1.0180330958204062
         },
         "mode": "lines",
         "type": "scatter",
         "x": [
          -13.555182236786251,
          -14.251523252864162
         ],
         "y": [
          -7.798367216956849,
          -7.368519936234171
         ]
        },
        {
         "hoverinfo": "none",
         "line": {
          "color": "#888",
          "width": 1.0134647643600974
         },
         "mode": "lines",
         "type": "scatter",
         "x": [
          -14.121106121702685,
          -13.355349687799634
         ],
         "y": [
          -7.567300842448139,
          -7.536130655725203
         ]
        },
        {
         "hoverinfo": "none",
         "line": {
          "color": "#888",
          "width": 1.1755908676233198
         },
         "mode": "lines",
         "type": "scatter",
         "x": [
          -14.200026977870785,
          -13.355349687799634
         ],
         "y": [
          -6.491007842347108,
          -7.536130655725203
         ]
        },
        {
         "hoverinfo": "none",
         "line": {
          "color": "#888",
          "width": 1.009360717823278
         },
         "mode": "lines",
         "type": "scatter",
         "x": [
          -14.220471909568893,
          -13.355349687799634
         ],
         "y": [
          -6.888856057905963,
          -7.536130655725203
         ]
        },
        {
         "hoverinfo": "none",
         "line": {
          "color": "#888",
          "width": 1.0190214973025375
         },
         "mode": "lines",
         "type": "scatter",
         "x": [
          -12.235378998295207,
          -13.355349687799634
         ],
         "y": [
          -7.94155896698412,
          -7.536130655725203
         ]
        },
        {
         "hoverinfo": "none",
         "line": {
          "color": "#888",
          "width": 1.0627746145541674
         },
         "mode": "lines",
         "type": "scatter",
         "x": [
          -13.355349687799634,
          -12.924120964256007
         ],
         "y": [
          -7.536130655725203,
          -8.419346170035725
         ]
        },
        {
         "hoverinfo": "none",
         "line": {
          "color": "#888",
          "width": 1.0413919691563902
         },
         "mode": "lines",
         "type": "scatter",
         "x": [
          -13.355349687799634,
          -14.251523252864162
         ],
         "y": [
          -7.536130655725203,
          -7.368519936234171
         ]
        },
        {
         "hoverinfo": "none",
         "line": {
          "color": "#888",
          "width": 1.389027847120075
         },
         "mode": "lines",
         "type": "scatter",
         "x": [
          -14.47810030254798,
          -14.616955577935325
         ],
         "y": [
          -6.400656932273691,
          -6.93972065520944
         ]
        },
        {
         "hoverinfo": "none",
         "line": {
          "color": "#888",
          "width": 1.3038656131771333
         },
         "mode": "lines",
         "type": "scatter",
         "x": [
          -14.790576922423055,
          -14.616955577935325
         ],
         "y": [
          -5.938131240021356,
          -6.93972065520944
         ]
        },
        {
         "hoverinfo": "none",
         "line": {
          "color": "#888",
          "width": 1.16603137124147
         },
         "mode": "lines",
         "type": "scatter",
         "x": [
          -15.06299985540851,
          -14.616955577935325
         ],
         "y": [
          -6.295317665169309,
          -6.93972065520944
         ]
        },
        {
         "hoverinfo": "none",
         "line": {
          "color": "#888",
          "width": 1.2244702682820012
         },
         "mode": "lines",
         "type": "scatter",
         "x": [
          -15.471579657370995,
          -14.616955577935325
         ],
         "y": [
          -7.48974954779173,
          -6.93972065520944
         ]
        },
        {
         "hoverinfo": "none",
         "line": {
          "color": "#888",
          "width": 1.0345768076262605
         },
         "mode": "lines",
         "type": "scatter",
         "x": [
          -14.895945710193905,
          -14.616955577935325
         ],
         "y": [
          -6.507485318880583,
          -6.93972065520944
         ]
        },
        {
         "hoverinfo": "none",
         "line": {
          "color": "#888",
          "width": 1.0162944108489014
         },
         "mode": "lines",
         "type": "scatter",
         "x": [
          -14.616955577935325,
          -15.24633057040751
         ],
         "y": [
          -6.93972065520944,
          -5.916024529055278
         ]
        },
        {
         "hoverinfo": "none",
         "line": {
          "color": "#888",
          "width": 1.4972459540613943
         },
         "mode": "lines",
         "type": "scatter",
         "x": [
          -14.616955577935325,
          -14.899682882110234
         ],
         "y": [
          -6.93972065520944,
          -7.017099143443842
         ]
        },
        {
         "hoverinfo": "none",
         "line": {
          "color": "#888",
          "width": 1.0142546881249672
         },
         "mode": "lines",
         "type": "scatter",
         "x": [
          -14.616955577935325,
          -14.094060124693677
         ],
         "y": [
          -6.93972065520944,
          -5.024824129450616
         ]
        },
        {
         "hoverinfo": "none",
         "line": {
          "color": "#888",
          "width": 1.0175916030272816
         },
         "mode": "lines",
         "type": "scatter",
         "x": [
          -14.616955577935325,
          -15.634320764752584
         ],
         "y": [
          -6.93972065520944,
          -7.364165177722024
         ]
        },
        {
         "hoverinfo": "none",
         "line": {
          "color": "#888",
          "width": 1.2182606704755221
         },
         "mode": "lines",
         "type": "scatter",
         "x": [
          -14.616955577935325,
          -13.94653562468436
         ],
         "y": [
          -6.93972065520944,
          -5.670154951244973
         ]
        },
        {
         "hoverinfo": "none",
         "line": {
          "color": "#888",
          "width": 1.1356608572780873
         },
         "mode": "lines",
         "type": "scatter",
         "x": [
          -14.616955577935325,
          -14.251523252864162
         ],
         "y": [
          -6.93972065520944,
          -7.368519936234171
         ]
        },
        {
         "hoverinfo": "none",
         "line": {
          "color": "#888",
          "width": 1.015098821210063
         },
         "mode": "lines",
         "type": "scatter",
         "x": [
          -16.060753847986447,
          -17.258365055378444
         ],
         "y": [
          -5.566587789910302,
          -5.679377352894312
         ]
        },
        {
         "hoverinfo": "none",
         "line": {
          "color": "#888",
          "width": 1.0804621489566602
         },
         "mode": "lines",
         "type": "scatter",
         "x": [
          -16.47167403284231,
          -17.258365055378444
         ],
         "y": [
          -5.924729640631664,
          -5.679377352894312
         ]
        },
        {
         "hoverinfo": "none",
         "line": {
          "color": "#888",
          "width": 1.0702078111080118
         },
         "mode": "lines",
         "type": "scatter",
         "x": [
          -17.258365055378444,
          -16.785895922940433
         ],
         "y": [
          -5.679377352894312,
          -4.840032384087389
         ]
        },
        {
         "hoverinfo": "none",
         "line": {
          "color": "#888",
          "width": 1.0883751627417442
         },
         "mode": "lines",
         "type": "scatter",
         "x": [
          -20.812533398291034,
          -20.865522260525488
         ],
         "y": [
          -4.1344958309908195,
          -3.2385614430233933
         ]
        },
        {
         "hoverinfo": "none",
         "line": {
          "color": "#888",
          "width": 1.2349254072573603
         },
         "mode": "lines",
         "type": "scatter",
         "x": [
          -16.971928943219055,
          -15.81962269574201
         ],
         "y": [
          -3.2598539629849386,
          -3.5077071554974637
         ]
        },
        {
         "hoverinfo": "none",
         "line": {
          "color": "#888",
          "width": 1.0101562757158438
         },
         "mode": "lines",
         "type": "scatter",
         "x": [
          -16.971928943219055,
          -17.53685282493772
         ],
         "y": [
          -3.2598539629849386,
          -4.063257079581255
         ]
        },
        {
         "hoverinfo": "none",
         "line": {
          "color": "#888",
          "width": 1.0405786368769883
         },
         "mode": "lines",
         "type": "scatter",
         "x": [
          -15.717211012483808,
          -16.41109013839647
         ],
         "y": [
          -5.367590516567743,
          -6.583920240965175
         ]
        },
        {
         "hoverinfo": "none",
         "line": {
          "color": "#888",
          "width": 1.0674598078983306
         },
         "mode": "lines",
         "type": "scatter",
         "x": [
          -17.398305802687364,
          -16.41109013839647
         ],
         "y": [
          -6.896377114987738,
          -6.583920240965175
         ]
        },
        {
         "hoverinfo": "none",
         "line": {
          "color": "#888",
          "width": 1.0127579753703615
         },
         "mode": "lines",
         "type": "scatter",
         "x": [
          -16.41109013839647,
          -15.264536165409725
         ],
         "y": [
          -6.583920240965175,
          -6.329600572063244
         ]
        },
        {
         "hoverinfo": "none",
         "line": {
          "color": "#888",
          "width": 1.2245279375100873
         },
         "mode": "lines",
         "type": "scatter",
         "x": [
          -15.031880911245818,
          -15.41477323554502
         ],
         "y": [
          -6.838172886473517,
          -6.0598151704403165
         ]
        },
        {
         "hoverinfo": "none",
         "line": {
          "color": "#888",
          "width": 1.22046042938976
         },
         "mode": "lines",
         "type": "scatter",
         "x": [
          -14.645765529985793,
          -15.41477323554502
         ],
         "y": [
          -6.201254807051291,
          -6.0598151704403165
         ]
        },
        {
         "hoverinfo": "none",
         "line": {
          "color": "#888",
          "width": 1.2481703996943403
         },
         "mode": "lines",
         "type": "scatter",
         "x": [
          -14.371871984258576,
          -15.41477323554502
         ],
         "y": [
          -5.309789890205194,
          -6.0598151704403165
         ]
        },
        {
         "hoverinfo": "none",
         "line": {
          "color": "#888",
          "width": 1.61317668208167
         },
         "mode": "lines",
         "type": "scatter",
         "x": [
          -15.06299985540851,
          -15.41477323554502
         ],
         "y": [
          -6.295317665169309,
          -6.0598151704403165
         ]
        },
        {
         "hoverinfo": "none",
         "line": {
          "color": "#888",
          "width": 1.5832465181556696
         },
         "mode": "lines",
         "type": "scatter",
         "x": [
          -14.189771826738772,
          -15.41477323554502
         ],
         "y": [
          -5.87173038695074,
          -6.0598151704403165
         ]
        },
        {
         "hoverinfo": "none",
         "line": {
          "color": "#888",
          "width": 1.2351605638156031
         },
         "mode": "lines",
         "type": "scatter",
         "x": [
          -14.43856045774682,
          -15.41477323554502
         ],
         "y": [
          -5.340015312798051,
          -6.0598151704403165
         ]
        },
        {
         "hoverinfo": "none",
         "line": {
          "color": "#888",
          "width": 1.5661984593213938
         },
         "mode": "lines",
         "type": "scatter",
         "x": [
          -15.41477323554502,
          -15.264536165409725
         ],
         "y": [
          -6.0598151704403165,
          -6.329600572063244
         ]
        },
        {
         "hoverinfo": "none",
         "line": {
          "color": "#888",
          "width": 1.352459951505115
         },
         "mode": "lines",
         "type": "scatter",
         "x": [
          -15.41477323554502,
          -15.497439241197572
         ],
         "y": [
          -6.0598151704403165,
          -5.806596942822509
         ]
        },
        {
         "hoverinfo": "none",
         "line": {
          "color": "#888",
          "width": 1.3906614488536624
         },
         "mode": "lines",
         "type": "scatter",
         "x": [
          -15.41477323554502,
          -15.013124154598115
         ],
         "y": [
          -6.0598151704403165,
          -5.529484149368032
         ]
        },
        {
         "hoverinfo": "none",
         "line": {
          "color": "#888",
          "width": 1.1165727971710275
         },
         "mode": "lines",
         "type": "scatter",
         "x": [
          -15.41477323554502,
          -14.61875612341671
         ],
         "y": [
          -6.0598151704403165,
          -6.457956231183889
         ]
        },
        {
         "hoverinfo": "none",
         "line": {
          "color": "#888",
          "width": 1.5760945006102047
         },
         "mode": "lines",
         "type": "scatter",
         "x": [
          -13.996742299482742,
          -14.08296077725767
         ],
         "y": [
          -3.9899647066405595,
          -2.91931092816861
         ]
        },
        {
         "hoverinfo": "none",
         "line": {
          "color": "#888",
          "width": 1.0073463770523887
         },
         "mode": "lines",
         "type": "scatter",
         "x": [
          -13.571478264075706,
          -14.08296077725767
         ],
         "y": [
          -2.8918310027628173,
          -2.91931092816861
         ]
        },
        {
         "hoverinfo": "none",
         "line": {
          "color": "#888",
          "width": 1.100376917776423
         },
         "mode": "lines",
         "type": "scatter",
         "x": [
          -13.445922253012837,
          -14.08296077725767
         ],
         "y": [
          -3.229877120455521,
          -2.91931092816861
         ]
        },
        {
         "hoverinfo": "none",
         "line": {
          "color": "#888",
          "width": 1.1831457714480567
         },
         "mode": "lines",
         "type": "scatter",
         "x": [
          -14.609022694834321,
          -14.08296077725767
         ],
         "y": [
          -2.900222090616298,
          -2.91931092816861
         ]
        },
        {
         "hoverinfo": "none",
         "line": {
          "color": "#888",
          "width": 1.4945432348836736
         },
         "mode": "lines",
         "type": "scatter",
         "x": [
          -14.08296077725767,
          -14.265225489671783
         ],
         "y": [
          -2.91931092816861,
          -3.9299109157582914
         ]
        },
        {
         "hoverinfo": "none",
         "line": {
          "color": "#888",
          "width": 1.1089762962374756
         },
         "mode": "lines",
         "type": "scatter",
         "x": [
          -13.875537710711491,
          -12.518872512671223
         ],
         "y": [
          -5.32928344518222,
          -4.636006372940541
         ]
        },
        {
         "hoverinfo": "none",
         "line": {
          "color": "#888",
          "width": 1.196512882959736
         },
         "mode": "lines",
         "type": "scatter",
         "x": [
          -13.222042469817788,
          -12.518872512671223
         ],
         "y": [
          -5.142310599034572,
          -4.636006372940541
         ]
        },
        {
         "hoverinfo": "none",
         "line": {
          "color": "#888",
          "width": 1.3024196191895037
         },
         "mode": "lines",
         "type": "scatter",
         "x": [
          -12.033468151975097,
          -12.518872512671223
         ],
         "y": [
          -5.1083541514665365,
          -4.636006372940541
         ]
        },
        {
         "hoverinfo": "none",
         "line": {
          "color": "#888",
          "width": 1.3907664816518606
         },
         "mode": "lines",
         "type": "scatter",
         "x": [
          -12.518872512671223,
          -13.193598012960688
         ],
         "y": [
          -4.636006372940541,
          -5.37815957036336
         ]
        },
        {
         "hoverinfo": "none",
         "line": {
          "color": "#888",
          "width": 1.0435661629413735
         },
         "mode": "lines",
         "type": "scatter",
         "x": [
          -14.871497661265048,
          -15.81962269574201
         ],
         "y": [
          -4.4476025797803,
          -3.5077071554974637
         ]
        },
        {
         "hoverinfo": "none",
         "line": {
          "color": "#888",
          "width": 1.2349254072573603
         },
         "mode": "lines",
         "type": "scatter",
         "x": [
          -16.971928943219055,
          -15.81962269574201
         ],
         "y": [
          -3.2598539629849386,
          -3.5077071554974637
         ]
        },
        {
         "hoverinfo": "none",
         "line": {
          "color": "#888",
          "width": 1.3533992334207599
         },
         "mode": "lines",
         "type": "scatter",
         "x": [
          -12.635773186908066,
          -12.71233501434269
         ],
         "y": [
          -5.155684006072663,
          -4.7303986275351155
         ]
        },
        {
         "hoverinfo": "none",
         "line": {
          "color": "#888",
          "width": 1.1403599810656184
         },
         "mode": "lines",
         "type": "scatter",
         "x": [
          -13.787919497620946,
          -12.71233501434269
         ],
         "y": [
          -4.43010290727313,
          -4.7303986275351155
         ]
        },
        {
         "hoverinfo": "none",
         "line": {
          "color": "#888",
          "width": 1.0283338879595503
         },
         "mode": "lines",
         "type": "scatter",
         "x": [
          -12.71233501434269,
          -14.094060124693677
         ],
         "y": [
          -4.7303986275351155,
          -5.024824129450616
         ]
        },
        {
         "hoverinfo": "none",
         "line": {
          "color": "#888",
          "width": 1.2116987039885405
         },
         "mode": "lines",
         "type": "scatter",
         "x": [
          -12.71233501434269,
          -11.368386546885946
         ],
         "y": [
          -4.7303986275351155,
          -4.868046072043308
         ]
        },
        {
         "hoverinfo": "none",
         "line": {
          "color": "#888",
          "width": 1.0398802290374018
         },
         "mode": "lines",
         "type": "scatter",
         "x": [
          -12.71233501434269,
          -13.94653562468436
         ],
         "y": [
          -4.7303986275351155,
          -5.670154951244973
         ]
        },
        {
         "hoverinfo": "none",
         "line": {
          "color": "#888",
          "width": 1.0289377033892784
         },
         "mode": "lines",
         "type": "scatter",
         "x": [
          -14.346046867248967,
          -15.270463960168538
         ],
         "y": [
          -3.0426116304140205,
          -4.5058576710257725
         ]
        },
        {
         "hoverinfo": "none",
         "line": {
          "color": "#888",
          "width": 1.2236205374900375
         },
         "mode": "lines",
         "type": "scatter",
         "x": [
          -14.790576922423055,
          -15.270463960168538
         ],
         "y": [
          -5.938131240021356,
          -4.5058576710257725
         ]
        },
        {
         "hoverinfo": "none",
         "line": {
          "color": "#888",
          "width": 1.0635755566987102
         },
         "mode": "lines",
         "type": "scatter",
         "x": [
          -14.337115099508948,
          -15.270463960168538
         ],
         "y": [
          -5.589642377557384,
          -4.5058576710257725
         ]
        },
        {
         "hoverinfo": "none",
         "line": {
          "color": "#888",
          "width": 1.277912477086186
         },
         "mode": "lines",
         "type": "scatter",
         "x": [
          -14.817113325705948,
          -15.270463960168538
         ],
         "y": [
          -5.149943024367288,
          -4.5058576710257725
         ]
        },
        {
         "hoverinfo": "none",
         "line": {
          "color": "#888",
          "width": 1.0774768598511477
         },
         "mode": "lines",
         "type": "scatter",
         "x": [
          -15.270463960168538,
          -14.094060124693677
         ],
         "y": [
          -4.5058576710257725,
          -5.024824129450616
         ]
        },
        {
         "hoverinfo": "none",
         "line": {
          "color": "#888",
          "width": 1.1351113980145828
         },
         "mode": "lines",
         "type": "scatter",
         "x": [
          -15.270463960168538,
          -15.573741906957562
         ],
         "y": [
          -4.5058576710257725,
          -5.537184150233229
         ]
        },
        {
         "hoverinfo": "none",
         "line": {
          "color": "#888",
          "width": 1.0641720417438782
         },
         "mode": "lines",
         "type": "scatter",
         "x": [
          -15.270463960168538,
          -14.644076666866233
         ],
         "y": [
          -4.5058576710257725,
          -3.3947456299180043
         ]
        },
        {
         "hoverinfo": "none",
         "line": {
          "color": "#888",
          "width": 1.0387838639467775
         },
         "mode": "lines",
         "type": "scatter",
         "x": [
          -15.270463960168538,
          -15.400830662632368
         ],
         "y": [
          -4.5058576710257725,
          -3.4263177964459928
         ]
        },
        {
         "hoverinfo": "none",
         "line": {
          "color": "#888",
          "width": 1.651069403466463
         },
         "mode": "lines",
         "type": "scatter",
         "x": [
          -15.270463960168538,
          -14.813549771834133
         ],
         "y": [
          -4.5058576710257725,
          -4.598891617330923
         ]
        },
        {
         "hoverinfo": "none",
         "line": {
          "color": "#888",
          "width": 1.3322819258072858
         },
         "mode": "lines",
         "type": "scatter",
         "x": [
          -15.643188614776893,
          -15.24633057040751
         ],
         "y": [
          -4.920766736253973,
          -5.916024529055278
         ]
        },
        {
         "hoverinfo": "none",
         "line": {
          "color": "#888",
          "width": 1.5675087240431738
         },
         "mode": "lines",
         "type": "scatter",
         "x": [
          -14.371871984258576,
          -15.24633057040751
         ],
         "y": [
          -5.309789890205194,
          -5.916024529055278
         ]
        },
        {
         "hoverinfo": "none",
         "line": {
          "color": "#888",
          "width": 1.5508367495811979
         },
         "mode": "lines",
         "type": "scatter",
         "x": [
          -14.43856045774682,
          -15.24633057040751
         ],
         "y": [
          -5.340015312798051,
          -5.916024529055278
         ]
        },
        {
         "hoverinfo": "none",
         "line": {
          "color": "#888",
          "width": 1.0162944108489014
         },
         "mode": "lines",
         "type": "scatter",
         "x": [
          -14.616955577935325,
          -15.24633057040751
         ],
         "y": [
          -6.93972065520944,
          -5.916024529055278
         ]
        },
        {
         "hoverinfo": "none",
         "line": {
          "color": "#888",
          "width": 1.0252000739065614
         },
         "mode": "lines",
         "type": "scatter",
         "x": [
          -15.24633057040751,
          -14.899682882110234
         ],
         "y": [
          -5.916024529055278,
          -7.017099143443842
         ]
        },
        {
         "hoverinfo": "none",
         "line": {
          "color": "#888",
          "width": 1.1028578207143278
         },
         "mode": "lines",
         "type": "scatter",
         "x": [
          -15.24633057040751,
          -15.28225172984896
         ],
         "y": [
          -5.916024529055278,
          -5.387738780527072
         ]
        },
        {
         "hoverinfo": "none",
         "line": {
          "color": "#888",
          "width": 1.1765150063895184
         },
         "mode": "lines",
         "type": "scatter",
         "x": [
          -15.24633057040751,
          -13.94653562468436
         ],
         "y": [
          -5.916024529055278,
          -5.670154951244973
         ]
        },
        {
         "hoverinfo": "none",
         "line": {
          "color": "#888",
          "width": 1.0777260918306837
         },
         "mode": "lines",
         "type": "scatter",
         "x": [
          -14.209287523861024,
          -15.031850675841348
         ],
         "y": [
          3.767058158114227,
          4.12424304394585
         ]
        },
        {
         "hoverinfo": "none",
         "line": {
          "color": "#888",
          "width": 1.1582870114175923
         },
         "mode": "lines",
         "type": "scatter",
         "x": [
          -11.244240282210873,
          -10.49470355259253
         ],
         "y": [
          1.4516582156974511,
          1.0265196601417719
         ]
        },
        {
         "hoverinfo": "none",
         "line": {
          "color": "#888",
          "width": 1.1771785420367555
         },
         "mode": "lines",
         "type": "scatter",
         "x": [
          -9.816578777142215,
          -10.49470355259253
         ],
         "y": [
          0.4565068393884585,
          1.0265196601417719
         ]
        },
        {
         "hoverinfo": "none",
         "line": {
          "color": "#888",
          "width": 1.0340728797538277
         },
         "mode": "lines",
         "type": "scatter",
         "x": [
          -10.49470355259253,
          -10.473368711807028
         ],
         "y": [
          1.0265196601417719,
          1.9014101903728275
         ]
        },
        {
         "hoverinfo": "none",
         "line": {
          "color": "#888",
          "width": 1.2809816368191018
         },
         "mode": "lines",
         "type": "scatter",
         "x": [
          -14.47810030254798,
          -14.899682882110234
         ],
         "y": [
          -6.400656932273691,
          -7.017099143443842
         ]
        },
        {
         "hoverinfo": "none",
         "line": {
          "color": "#888",
          "width": 1.27430688221318
         },
         "mode": "lines",
         "type": "scatter",
         "x": [
          -14.790576922423055,
          -14.899682882110234
         ],
         "y": [
          -5.938131240021356,
          -7.017099143443842
         ]
        },
        {
         "hoverinfo": "none",
         "line": {
          "color": "#888",
          "width": 1.092005958482648
         },
         "mode": "lines",
         "type": "scatter",
         "x": [
          -15.06299985540851,
          -14.899682882110234
         ],
         "y": [
          -6.295317665169309,
          -7.017099143443842
         ]
        },
        {
         "hoverinfo": "none",
         "line": {
          "color": "#888",
          "width": 1.1256842604748887
         },
         "mode": "lines",
         "type": "scatter",
         "x": [
          -15.471579657370995,
          -14.899682882110234
         ],
         "y": [
          -7.48974954779173,
          -7.017099143443842
         ]
        },
        {
         "hoverinfo": "none",
         "line": {
          "color": "#888",
          "width": 1.4972459540613943
         },
         "mode": "lines",
         "type": "scatter",
         "x": [
          -14.616955577935325,
          -14.899682882110234
         ],
         "y": [
          -6.93972065520944,
          -7.017099143443842
         ]
        },
        {
         "hoverinfo": "none",
         "line": {
          "color": "#888",
          "width": 1.0252000739065614
         },
         "mode": "lines",
         "type": "scatter",
         "x": [
          -15.24633057040751,
          -14.899682882110234
         ],
         "y": [
          -5.916024529055278,
          -7.017099143443842
         ]
        },
        {
         "hoverinfo": "none",
         "line": {
          "color": "#888",
          "width": 1.0674512939533738
         },
         "mode": "lines",
         "type": "scatter",
         "x": [
          -14.899682882110234,
          -13.94653562468436
         ],
         "y": [
          -7.017099143443842,
          -5.670154951244973
         ]
        },
        {
         "hoverinfo": "none",
         "line": {
          "color": "#888",
          "width": 1.0716382727419616
         },
         "mode": "lines",
         "type": "scatter",
         "x": [
          -14.899682882110234,
          -14.251523252864162
         ],
         "y": [
          -7.017099143443842,
          -7.368519936234171
         ]
        },
        {
         "hoverinfo": "none",
         "line": {
          "color": "#888",
          "width": 1.0639997301915696
         },
         "mode": "lines",
         "type": "scatter",
         "x": [
          -14.362059659931681,
          -15.28225172984896
         ],
         "y": [
          -4.997657926517953,
          -5.387738780527072
         ]
        },
        {
         "hoverinfo": "none",
         "line": {
          "color": "#888",
          "width": 1.0146031495542491
         },
         "mode": "lines",
         "type": "scatter",
         "x": [
          -15.190594501558186,
          -15.28225172984896
         ],
         "y": [
          -4.907635561614265,
          -5.387738780527072
         ]
        },
        {
         "hoverinfo": "none",
         "line": {
          "color": "#888",
          "width": 1.009891226732699
         },
         "mode": "lines",
         "type": "scatter",
         "x": [
          -14.610294342996928,
          -15.28225172984896
         ],
         "y": [
          -7.34091427117728,
          -5.387738780527072
         ]
        },
        {
         "hoverinfo": "none",
         "line": {
          "color": "#888",
          "width": 2.065971345037072
         },
         "mode": "lines",
         "type": "scatter",
         "x": [
          -14.371871984258576,
          -15.28225172984896
         ],
         "y": [
          -5.309789890205194,
          -5.387738780527072
         ]
        },
        {
         "hoverinfo": "none",
         "line": {
          "color": "#888",
          "width": 2.0438351601555285
         },
         "mode": "lines",
         "type": "scatter",
         "x": [
          -14.43856045774682,
          -15.28225172984896
         ],
         "y": [
          -5.340015312798051,
          -5.387738780527072
         ]
        },
        {
         "hoverinfo": "none",
         "line": {
          "color": "#888",
          "width": 1.1028578207143278
         },
         "mode": "lines",
         "type": "scatter",
         "x": [
          -15.24633057040751,
          -15.28225172984896
         ],
         "y": [
          -5.916024529055278,
          -5.387738780527072
         ]
        },
        {
         "hoverinfo": "none",
         "line": {
          "color": "#888",
          "width": 1.182845607700317
         },
         "mode": "lines",
         "type": "scatter",
         "x": [
          -15.28225172984896,
          -14.475455276486759
         ],
         "y": [
          -5.387738780527072,
          -4.563713429774501
         ]
        },
        {
         "hoverinfo": "none",
         "line": {
          "color": "#888",
          "width": 1.1053318702016692
         },
         "mode": "lines",
         "type": "scatter",
         "x": [
          -15.28225172984896,
          -14.534578693420821
         ],
         "y": [
          -5.387738780527072,
          -5.867735650205169
         ]
        },
        {
         "hoverinfo": "none",
         "line": {
          "color": "#888",
          "width": 1.6214786080697199
         },
         "mode": "lines",
         "type": "scatter",
         "x": [
          -15.28225172984896,
          -15.438938010325261
         ],
         "y": [
          -5.387738780527072,
          -4.675896407068778
         ]
        },
        {
         "hoverinfo": "none",
         "line": {
          "color": "#888",
          "width": 1.478063701708963
         },
         "mode": "lines",
         "type": "scatter",
         "x": [
          -15.28225172984896,
          -15.013124154598115
         ],
         "y": [
          -5.387738780527072,
          -5.529484149368032
         ]
        },
        {
         "hoverinfo": "none",
         "line": {
          "color": "#888",
          "width": 1.024851807316002
         },
         "mode": "lines",
         "type": "scatter",
         "x": [
          -16.187984692240587,
          -15.264536165409725
         ],
         "y": [
          -7.085519835317674,
          -6.329600572063244
         ]
        },
        {
         "hoverinfo": "none",
         "line": {
          "color": "#888",
          "width": 1.227184181781318
         },
         "mode": "lines",
         "type": "scatter",
         "x": [
          -16.247519470395954,
          -16.275597595647916
         ],
         "y": [
          2.697920918097788,
          3.472963276886355
         ]
        },
        {
         "hoverinfo": "none",
         "line": {
          "color": "#888",
          "width": 1.292876417243475
         },
         "mode": "lines",
         "type": "scatter",
         "x": [
          -16.275597595647916,
          -17.051515082605246
         ],
         "y": [
          3.472963276886355,
          3.462596947966528
         ]
        },
        {
         "hoverinfo": "none",
         "line": {
          "color": "#888",
          "width": 1.1894481478399692
         },
         "mode": "lines",
         "type": "scatter",
         "x": [
          -16.275597595647916,
          -16.98941606596727
         ],
         "y": [
          3.472963276886355,
          2.7278720592525088
         ]
        },
        {
         "hoverinfo": "none",
         "line": {
          "color": "#888",
          "width": 1.023739986080041
         },
         "mode": "lines",
         "type": "scatter",
         "x": [
          -16.275597595647916,
          -15.726023199273929
         ],
         "y": [
          3.472963276886355,
          4.168448266207457
         ]
        },
        {
         "hoverinfo": "none",
         "line": {
          "color": "#888",
          "width": 1.1375442406461065
         },
         "mode": "lines",
         "type": "scatter",
         "x": [
          -12.635773186908066,
          -14.094060124693677
         ],
         "y": [
          -5.155684006072663,
          -5.024824129450616
         ]
        },
        {
         "hoverinfo": "none",
         "line": {
          "color": "#888",
          "width": 1.3020081673906392
         },
         "mode": "lines",
         "type": "scatter",
         "x": [
          -14.790576922423055,
          -14.094060124693677
         ],
         "y": [
          -5.938131240021356,
          -5.024824129450616
         ]
        },
        {
         "hoverinfo": "none",
         "line": {
          "color": "#888",
          "width": 1.2126837123212695
         },
         "mode": "lines",
         "type": "scatter",
         "x": [
          -13.787919497620946,
          -14.094060124693677
         ],
         "y": [
          -4.43010290727313,
          -5.024824129450616
         ]
        },
        {
         "hoverinfo": "none",
         "line": {
          "color": "#888",
          "width": 1.0017036219199675
         },
         "mode": "lines",
         "type": "scatter",
         "x": [
          -14.43856045774682,
          -14.094060124693677
         ],
         "y": [
          -5.340015312798051,
          -5.024824129450616
         ]
        },
        {
         "hoverinfo": "none",
         "line": {
          "color": "#888",
          "width": 1.0879176777993202
         },
         "mode": "lines",
         "type": "scatter",
         "x": [
          -14.817113325705948,
          -14.094060124693677
         ],
         "y": [
          -5.149943024367288,
          -5.024824129450616
         ]
        },
        {
         "hoverinfo": "none",
         "line": {
          "color": "#888",
          "width": 1.0142546881249672
         },
         "mode": "lines",
         "type": "scatter",
         "x": [
          -14.616955577935325,
          -14.094060124693677
         ],
         "y": [
          -6.93972065520944,
          -5.024824129450616
         ]
        },
        {
         "hoverinfo": "none",
         "line": {
          "color": "#888",
          "width": 1.0283338879595503
         },
         "mode": "lines",
         "type": "scatter",
         "x": [
          -12.71233501434269,
          -14.094060124693677
         ],
         "y": [
          -4.7303986275351155,
          -5.024824129450616
         ]
        },
        {
         "hoverinfo": "none",
         "line": {
          "color": "#888",
          "width": 1.0774768598511477
         },
         "mode": "lines",
         "type": "scatter",
         "x": [
          -15.270463960168538,
          -14.094060124693677
         ],
         "y": [
          -4.5058576710257725,
          -5.024824129450616
         ]
        },
        {
         "hoverinfo": "none",
         "line": {
          "color": "#888",
          "width": 1.0044307703095177
         },
         "mode": "lines",
         "type": "scatter",
         "x": [
          -14.094060124693677,
          -14.534578693420821
         ],
         "y": [
          -5.024824129450616,
          -5.867735650205169
         ]
        },
        {
         "hoverinfo": "none",
         "line": {
          "color": "#888",
          "width": 1.0661448204254618
         },
         "mode": "lines",
         "type": "scatter",
         "x": [
          -14.094060124693677,
          -13.94653562468436
         ],
         "y": [
          -5.024824129450616,
          -5.670154951244973
         ]
        },
        {
         "hoverinfo": "none",
         "line": {
          "color": "#888",
          "width": 1.0434783024942098
         },
         "mode": "lines",
         "type": "scatter",
         "x": [
          -14.094060124693677,
          -14.813549771834133
         ],
         "y": [
          -5.024824129450616,
          -4.598891617330923
         ]
        },
        {
         "hoverinfo": "none",
         "line": {
          "color": "#888",
          "width": 1.0315361785896977
         },
         "mode": "lines",
         "type": "scatter",
         "x": [
          -10.126903261473295,
          -11.139560350679432
         ],
         "y": [
          -7.586881209202562,
          -7.89544110645823
         ]
        },
        {
         "hoverinfo": "none",
         "line": {
          "color": "#888",
          "width": 1.2592419968009052
         },
         "mode": "lines",
         "type": "scatter",
         "x": [
          -12.235378998295207,
          -11.139560350679432
         ],
         "y": [
          -7.94155896698412,
          -7.89544110645823
         ]
        },
        {
         "hoverinfo": "none",
         "line": {
          "color": "#888",
          "width": 1.071128511782815
         },
         "mode": "lines",
         "type": "scatter",
         "x": [
          -11.244240282210873,
          -10.473368711807028
         ],
         "y": [
          1.4516582156974511,
          1.9014101903728275
         ]
        },
        {
         "hoverinfo": "none",
         "line": {
          "color": "#888",
          "width": 1.0340728797538277
         },
         "mode": "lines",
         "type": "scatter",
         "x": [
          -10.49470355259253,
          -10.473368711807028
         ],
         "y": [
          1.0265196601417719,
          1.9014101903728275
         ]
        },
        {
         "hoverinfo": "none",
         "line": {
          "color": "#888",
          "width": 1.0245518414506591
         },
         "mode": "lines",
         "type": "scatter",
         "x": [
          -10.473368711807028,
          -10.054236951931182
         ],
         "y": [
          1.9014101903728275,
          2.6567307450672972
         ]
        },
        {
         "hoverinfo": "none",
         "line": {
          "color": "#888",
          "width": 1.1908454484178237
         },
         "mode": "lines",
         "type": "scatter",
         "x": [
          -17.70580069741524,
          -16.71299347461052
         ],
         "y": [
          -6.106942030786656,
          -5.590205519431617
         ]
        },
        {
         "hoverinfo": "none",
         "line": {
          "color": "#888",
          "width": 1.0524442281058517
         },
         "mode": "lines",
         "type": "scatter",
         "x": [
          -15.630598463545166,
          -16.71299347461052
         ],
         "y": [
          -5.151451315824695,
          -5.590205519431617
         ]
        },
        {
         "hoverinfo": "none",
         "line": {
          "color": "#888",
          "width": 1.175874262213163
         },
         "mode": "lines",
         "type": "scatter",
         "x": [
          -16.71299347461052,
          -16.660753934328383
         ],
         "y": [
          -5.590205519431617,
          -6.138199857768167
         ]
        },
        {
         "hoverinfo": "none",
         "line": {
          "color": "#888",
          "width": 1.004178189054917
         },
         "mode": "lines",
         "type": "scatter",
         "x": [
          -16.71299347461052,
          -15.497439241197572
         ],
         "y": [
          -5.590205519431617,
          -5.806596942822509
         ]
        },
        {
         "hoverinfo": "none",
         "line": {
          "color": "#888",
          "width": 1.0016258231537143
         },
         "mode": "lines",
         "type": "scatter",
         "x": [
          -12.1142728460046,
          -13.273225990625084
         ],
         "y": [
          -6.3666290923353985,
          -6.038017673214097
         ]
        },
        {
         "hoverinfo": "none",
         "line": {
          "color": "#888",
          "width": 1.396281197964648
         },
         "mode": "lines",
         "type": "scatter",
         "x": [
          -14.371871984258576,
          -14.419498108553507
         ],
         "y": [
          -5.309789890205194,
          -4.216353478321253
         ]
        },
        {
         "hoverinfo": "none",
         "line": {
          "color": "#888",
          "width": 1.381764395450621
         },
         "mode": "lines",
         "type": "scatter",
         "x": [
          -14.43856045774682,
          -14.419498108553507
         ],
         "y": [
          -5.340015312798051,
          -4.216353478321253
         ]
        },
        {
         "hoverinfo": "none",
         "line": {
          "color": "#888",
          "width": 1.158520250127273
         },
         "mode": "lines",
         "type": "scatter",
         "x": [
          -14.419498108553507,
          -13.862864446562623
         ],
         "y": [
          -4.216353478321253,
          -4.948323816069961
         ]
        },
        {
         "hoverinfo": "none",
         "line": {
          "color": "#888",
          "width": 1.3947798602143577
         },
         "mode": "lines",
         "type": "scatter",
         "x": [
          -13.54321562440723,
          -12.240895411845935
         ],
         "y": [
          -6.325668381304119,
          -6.6072067290490715
         ]
        },
        {
         "hoverinfo": "none",
         "line": {
          "color": "#888",
          "width": 1.4270424796927508
         },
         "mode": "lines",
         "type": "scatter",
         "x": [
          -12.240895411845935,
          -13.104395642507322
         ],
         "y": [
          -6.6072067290490715,
          -5.620675211727626
         ]
        },
        {
         "hoverinfo": "none",
         "line": {
          "color": "#888",
          "width": 1.1074856560433903
         },
         "mode": "lines",
         "type": "scatter",
         "x": [
          -14.954468630341605,
          -13.894885252196177
         ],
         "y": [
          -6.0025936578907055,
          -6.193450742401886
         ]
        },
        {
         "hoverinfo": "none",
         "line": {
          "color": "#888",
          "width": 1.1148568168788477
         },
         "mode": "lines",
         "type": "scatter",
         "x": [
          -13.611430736159944,
          -13.894885252196177
         ],
         "y": [
          -5.876190550342591,
          -6.193450742401886
         ]
        },
        {
         "hoverinfo": "none",
         "line": {
          "color": "#888",
          "width": 1.0785351354543908
         },
         "mode": "lines",
         "type": "scatter",
         "x": [
          -14.371871984258576,
          -13.894885252196177
         ],
         "y": [
          -5.309789890205194,
          -6.193450742401886
         ]
        },
        {
         "hoverinfo": "none",
         "line": {
          "color": "#888",
          "width": 1.0649763823028287
         },
         "mode": "lines",
         "type": "scatter",
         "x": [
          -14.43856045774682,
          -13.894885252196177
         ],
         "y": [
          -5.340015312798051,
          -6.193450742401886
         ]
        },
        {
         "hoverinfo": "none",
         "line": {
          "color": "#888",
          "width": 1.0694843331904502
         },
         "mode": "lines",
         "type": "scatter",
         "x": [
          -13.894885252196177,
          -13.273225990625084
         ],
         "y": [
          -6.193450742401886,
          -6.038017673214097
         ]
        },
        {
         "hoverinfo": "none",
         "line": {
          "color": "#888",
          "width": 1.2668221814392555
         },
         "mode": "lines",
         "type": "scatter",
         "x": [
          -13.259356029280449,
          -13.983004156084545
         ],
         "y": [
          2.7241682082273706,
          2.1780318587774894
         ]
        },
        {
         "hoverinfo": "none",
         "line": {
          "color": "#888",
          "width": 1.347942889518921
         },
         "mode": "lines",
         "type": "scatter",
         "x": [
          -13.983004156084545,
          -14.733694465052887
         ],
         "y": [
          2.1780318587774894,
          2.6492440475202015
         ]
        },
        {
         "hoverinfo": "none",
         "line": {
          "color": "#888",
          "width": 1.1256280676713315
         },
         "mode": "lines",
         "type": "scatter",
         "x": [
          -13.983004156084545,
          -13.135557863345687
         ],
         "y": [
          2.1780318587774894,
          1.9936568055327668
         ]
        },
        {
         "hoverinfo": "none",
         "line": {
          "color": "#888",
          "width": 1.08702934324447
         },
         "mode": "lines",
         "type": "scatter",
         "x": [
          -11.985612255044712,
          -13.273225990625084
         ],
         "y": [
          -6.083157751531359,
          -6.038017673214097
         ]
        },
        {
         "hoverinfo": "none",
         "line": {
          "color": "#888",
          "width": 1.0312463278416266
         },
         "mode": "lines",
         "type": "scatter",
         "x": [
          -11.985612255044712,
          -10.999768893206758
         ],
         "y": [
          -6.083157751531359,
          -6.375222374074013
         ]
        },
        {
         "hoverinfo": "none",
         "line": {
          "color": "#888",
          "width": 1.101846943540752
         },
         "mode": "lines",
         "type": "scatter",
         "x": [
          -15.031880911245818,
          -15.264536165409725
         ],
         "y": [
          -6.838172886473517,
          -6.329600572063244
         ]
        },
        {
         "hoverinfo": "none",
         "line": {
          "color": "#888",
          "width": 1.2360856728275742
         },
         "mode": "lines",
         "type": "scatter",
         "x": [
          -14.645765529985793,
          -15.264536165409725
         ],
         "y": [
          -6.201254807051291,
          -6.329600572063244
         ]
        },
        {
         "hoverinfo": "none",
         "line": {
          "color": "#888",
          "width": 1.0897274601483349
         },
         "mode": "lines",
         "type": "scatter",
         "x": [
          -14.371871984258576,
          -15.264536165409725
         ],
         "y": [
          -5.309789890205194,
          -6.329600572063244
         ]
        },
        {
         "hoverinfo": "none",
         "line": {
          "color": "#888",
          "width": 1.173381555970102
         },
         "mode": "lines",
         "type": "scatter",
         "x": [
          -15.06299985540851,
          -15.264536165409725
         ],
         "y": [
          -6.295317665169309,
          -6.329600572063244
         ]
        },
        {
         "hoverinfo": "none",
         "line": {
          "color": "#888",
          "width": 1.2118755430433457
         },
         "mode": "lines",
         "type": "scatter",
         "x": [
          -14.200026977870785,
          -15.264536165409725
         ],
         "y": [
          -6.491007842347108,
          -6.329600572063244
         ]
        },
        {
         "hoverinfo": "none",
         "line": {
          "color": "#888",
          "width": 1.0735111654177543
         },
         "mode": "lines",
         "type": "scatter",
         "x": [
          -15.717211012483808,
          -15.264536165409725
         ],
         "y": [
          -5.367590516567743,
          -6.329600572063244
         ]
        },
        {
         "hoverinfo": "none",
         "line": {
          "color": "#888",
          "width": 1.0614058798952004
         },
         "mode": "lines",
         "type": "scatter",
         "x": [
          -14.220471909568893,
          -15.264536165409725
         ],
         "y": [
          -6.888856057905963,
          -6.329600572063244
         ]
        },
        {
         "hoverinfo": "none",
         "line": {
          "color": "#888",
          "width": 1.130544911080376
         },
         "mode": "lines",
         "type": "scatter",
         "x": [
          -14.189771826738772,
          -15.264536165409725
         ],
         "y": [
          -5.87173038695074,
          -6.329600572063244
         ]
        },
        {
         "hoverinfo": "none",
         "line": {
          "color": "#888",
          "width": 1.3790216487161453
         },
         "mode": "lines",
         "type": "scatter",
         "x": [
          -14.43856045774682,
          -15.264536165409725
         ],
         "y": [
          -5.340015312798051,
          -6.329600572063244
         ]
        },
        {
         "hoverinfo": "none",
         "line": {
          "color": "#888",
          "width": 1.0127579753703615
         },
         "mode": "lines",
         "type": "scatter",
         "x": [
          -16.41109013839647,
          -15.264536165409725
         ],
         "y": [
          -6.583920240965175,
          -6.329600572063244
         ]
        },
        {
         "hoverinfo": "none",
         "line": {
          "color": "#888",
          "width": 1.5661984593213938
         },
         "mode": "lines",
         "type": "scatter",
         "x": [
          -15.41477323554502,
          -15.264536165409725
         ],
         "y": [
          -6.0598151704403165,
          -6.329600572063244
         ]
        },
        {
         "hoverinfo": "none",
         "line": {
          "color": "#888",
          "width": 1.024851807316002
         },
         "mode": "lines",
         "type": "scatter",
         "x": [
          -16.187984692240587,
          -15.264536165409725
         ],
         "y": [
          -7.085519835317674,
          -6.329600572063244
         ]
        },
        {
         "hoverinfo": "none",
         "line": {
          "color": "#888",
          "width": 1.0147711859151491
         },
         "mode": "lines",
         "type": "scatter",
         "x": [
          -15.264536165409725,
          -14.753566114591269
         ],
         "y": [
          -6.329600572063244,
          -5.638625502914219
         ]
        },
        {
         "hoverinfo": "none",
         "line": {
          "color": "#888",
          "width": 1.418570868399821
         },
         "mode": "lines",
         "type": "scatter",
         "x": [
          -15.264536165409725,
          -14.534578693420821
         ],
         "y": [
          -6.329600572063244,
          -5.867735650205169
         ]
        },
        {
         "hoverinfo": "none",
         "line": {
          "color": "#888",
          "width": 1.1205473960343013
         },
         "mode": "lines",
         "type": "scatter",
         "x": [
          -15.264536165409725,
          -15.497439241197572
         ],
         "y": [
          -6.329600572063244,
          -5.806596942822509
         ]
        },
        {
         "hoverinfo": "none",
         "line": {
          "color": "#888",
          "width": 1.478343144437317
         },
         "mode": "lines",
         "type": "scatter",
         "x": [
          -15.264536165409725,
          -15.013124154598115
         ],
         "y": [
          -6.329600572063244,
          -5.529484149368032
         ]
        },
        {
         "hoverinfo": "none",
         "line": {
          "color": "#888",
          "width": 1.0239793226778227
         },
         "mode": "lines",
         "type": "scatter",
         "x": [
          -15.264536165409725,
          -14.61875612341671
         ],
         "y": [
          -6.329600572063244,
          -6.457956231183889
         ]
        },
        {
         "hoverinfo": "none",
         "line": {
          "color": "#888",
          "width": 1.1687158288165795
         },
         "mode": "lines",
         "type": "scatter",
         "x": [
          -13.24315673940496,
          -12.615706303724961
         ],
         "y": [
          -6.689195662075548,
          -6.909290102969761
         ]
        },
        {
         "hoverinfo": "none",
         "line": {
          "color": "#888",
          "width": 1.1152978365695407
         },
         "mode": "lines",
         "type": "scatter",
         "x": [
          -13.770553405879493,
          -12.615706303724961
         ],
         "y": [
          -6.979374153748573,
          -6.909290102969761
         ]
        },
        {
         "hoverinfo": "none",
         "line": {
          "color": "#888",
          "width": 1.0063678625099115
         },
         "mode": "lines",
         "type": "scatter",
         "x": [
          -12.615706303724961,
          -13.273225990625084
         ],
         "y": [
          -6.909290102969761,
          -6.038017673214097
         ]
        },
        {
         "hoverinfo": "none",
         "line": {
          "color": "#888",
          "width": 1.239663977993973
         },
         "mode": "lines",
         "type": "scatter",
         "x": [
          -12.615706303724961,
          -12.885570200590106
         ],
         "y": [
          -6.909290102969761,
          -7.21902777395607
         ]
        },
        {
         "hoverinfo": "none",
         "line": {
          "color": "#888",
          "width": 1.065898236688193
         },
         "mode": "lines",
         "type": "scatter",
         "x": [
          -14.790576922423055,
          -16.267835709249958
         ],
         "y": [
          -5.938131240021356,
          -6.355602529130001
         ]
        },
        {
         "hoverinfo": "none",
         "line": {
          "color": "#888",
          "width": 1.0203869560990926
         },
         "mode": "lines",
         "type": "scatter",
         "x": [
          -16.267835709249958,
          -15.573741906957562
         ],
         "y": [
          -6.355602529130001,
          -5.537184150233229
         ]
        },
        {
         "hoverinfo": "none",
         "line": {
          "color": "#888",
          "width": 1.0777260918306837
         },
         "mode": "lines",
         "type": "scatter",
         "x": [
          -14.209287523861024,
          -15.031850675841348
         ],
         "y": [
          3.767058158114227,
          4.12424304394585
         ]
        },
        {
         "hoverinfo": "none",
         "line": {
          "color": "#888",
          "width": 1.0179709864903281
         },
         "mode": "lines",
         "type": "scatter",
         "x": [
          -13.222042469817788,
          -11.978799223750462
         ],
         "y": [
          -5.142310599034572,
          -5.664048510630685
         ]
        },
        {
         "hoverinfo": "none",
         "line": {
          "color": "#888",
          "width": 1.0835187560359603
         },
         "mode": "lines",
         "type": "scatter",
         "x": [
          -11.978799223750462,
          -12.761106201381423
         ],
         "y": [
          -5.664048510630685,
          -6.052174784794521
         ]
        },
        {
         "hoverinfo": "none",
         "line": {
          "color": "#888",
          "width": 1.118949889885228
         },
         "mode": "lines",
         "type": "scatter",
         "x": [
          -17.70580069741524,
          -16.660753934328383
         ],
         "y": [
          -6.106942030786656,
          -6.138199857768167
         ]
        },
        {
         "hoverinfo": "none",
         "line": {
          "color": "#888",
          "width": 1.062441482693396
         },
         "mode": "lines",
         "type": "scatter",
         "x": [
          -15.630598463545166,
          -16.660753934328383
         ],
         "y": [
          -5.151451315824695,
          -6.138199857768167
         ]
        },
        {
         "hoverinfo": "none",
         "line": {
          "color": "#888",
          "width": 1.175874262213163
         },
         "mode": "lines",
         "type": "scatter",
         "x": [
          -16.71299347461052,
          -16.660753934328383
         ],
         "y": [
          -5.590205519431617,
          -6.138199857768167
         ]
        },
        {
         "hoverinfo": "none",
         "line": {
          "color": "#888",
          "width": 1.0031936006915716
         },
         "mode": "lines",
         "type": "scatter",
         "x": [
          -16.660753934328383,
          -15.497439241197572
         ],
         "y": [
          -6.138199857768167,
          -5.806596942822509
         ]
        },
        {
         "hoverinfo": "none",
         "line": {
          "color": "#888",
          "width": 1.0037672094831849
         },
         "mode": "lines",
         "type": "scatter",
         "x": [
          -20.721224786113666,
          -20.478424288576363
         ],
         "y": [
          -4.341927308619159,
          -3.368816112890574
         ]
        },
        {
         "hoverinfo": "none",
         "line": {
          "color": "#888",
          "width": 1.0009002263479672
         },
         "mode": "lines",
         "type": "scatter",
         "x": [
          -20.478424288576363,
          -21.13125455792967
         ],
         "y": [
          -3.368816112890574,
          -3.5884130542935395
         ]
        },
        {
         "hoverinfo": "none",
         "line": {
          "color": "#888",
          "width": 1.0402369266799911
         },
         "mode": "lines",
         "type": "scatter",
         "x": [
          -11.072829348576285,
          -12.241731349316966
         ],
         "y": [
          -4.229563211540952,
          -4.133770859505214
         ]
        },
        {
         "hoverinfo": "none",
         "line": {
          "color": "#888",
          "width": 1.013889391058027
         },
         "mode": "lines",
         "type": "scatter",
         "x": [
          -15.643188614776893,
          -16.785895922940433
         ],
         "y": [
          -4.920766736253973,
          -4.840032384087389
         ]
        },
        {
         "hoverinfo": "none",
         "line": {
          "color": "#888",
          "width": 1.0665600340541475
         },
         "mode": "lines",
         "type": "scatter",
         "x": [
          -16.060753847986447,
          -16.785895922940433
         ],
         "y": [
          -5.566587789910302,
          -4.840032384087389
         ]
        },
        {
         "hoverinfo": "none",
         "line": {
          "color": "#888",
          "width": 1.076168477283597
         },
         "mode": "lines",
         "type": "scatter",
         "x": [
          -16.47167403284231,
          -16.785895922940433
         ],
         "y": [
          -5.924729640631664,
          -4.840032384087389
         ]
        },
        {
         "hoverinfo": "none",
         "line": {
          "color": "#888",
          "width": 1.0702078111080118
         },
         "mode": "lines",
         "type": "scatter",
         "x": [
          -17.258365055378444,
          -16.785895922940433
         ],
         "y": [
          -5.679377352894312,
          -4.840032384087389
         ]
        },
        {
         "hoverinfo": "none",
         "line": {
          "color": "#888",
          "width": 1.2061507937740665
         },
         "mode": "lines",
         "type": "scatter",
         "x": [
          -16.785895922940433,
          -17.53685282493772
         ],
         "y": [
          -4.840032384087389,
          -4.063257079581255
         ]
        },
        {
         "hoverinfo": "none",
         "line": {
          "color": "#888",
          "width": 1.3018585044066486
         },
         "mode": "lines",
         "type": "scatter",
         "x": [
          -14.371871984258576,
          -13.79014750687308
         ],
         "y": [
          -5.309789890205194,
          -6.478932958412301
         ]
        },
        {
         "hoverinfo": "none",
         "line": {
          "color": "#888",
          "width": 1.2864468529583373
         },
         "mode": "lines",
         "type": "scatter",
         "x": [
          -14.43856045774682,
          -13.79014750687308
         ],
         "y": [
          -5.340015312798051,
          -6.478932958412301
         ]
        },
        {
         "hoverinfo": "none",
         "line": {
          "color": "#888",
          "width": 1.0329961997871857
         },
         "mode": "lines",
         "type": "scatter",
         "x": [
          -13.555182236786251,
          -13.79014750687308
         ],
         "y": [
          -7.798367216956849,
          -6.478932958412301
         ]
        },
        {
         "hoverinfo": "none",
         "line": {
          "color": "#888",
          "width": 1.0952915075625365
         },
         "mode": "lines",
         "type": "scatter",
         "x": [
          -13.79014750687308,
          -14.251523252864162
         ],
         "y": [
          -6.478932958412301,
          -7.368519936234171
         ]
        },
        {
         "hoverinfo": "none",
         "line": {
          "color": "#888",
          "width": 1.1276664619108372
         },
         "mode": "lines",
         "type": "scatter",
         "x": [
          -15.031880911245818,
          -14.753566114591269
         ],
         "y": [
          -6.838172886473517,
          -5.638625502914219
         ]
        },
        {
         "hoverinfo": "none",
         "line": {
          "color": "#888",
          "width": 1.0652308067936342
         },
         "mode": "lines",
         "type": "scatter",
         "x": [
          -14.645765529985793,
          -14.753566114591269
         ],
         "y": [
          -6.201254807051291,
          -5.638625502914219
         ]
        },
        {
         "hoverinfo": "none",
         "line": {
          "color": "#888",
          "width": 2.532758298862073
         },
         "mode": "lines",
         "type": "scatter",
         "x": [
          -14.371871984258576,
          -14.753566114591269
         ],
         "y": [
          -5.309789890205194,
          -5.638625502914219
         ]
        },
        {
         "hoverinfo": "none",
         "line": {
          "color": "#888",
          "width": 1.0179305802804943
         },
         "mode": "lines",
         "type": "scatter",
         "x": [
          -15.06299985540851,
          -14.753566114591269
         ],
         "y": [
          -6.295317665169309,
          -5.638625502914219
         ]
        },
        {
         "hoverinfo": "none",
         "line": {
          "color": "#888",
          "width": 1.6266760524529809
         },
         "mode": "lines",
         "type": "scatter",
         "x": [
          -14.189771826738772,
          -14.753566114591269
         ],
         "y": [
          -5.87173038695074,
          -5.638625502914219
         ]
        },
        {
         "hoverinfo": "none",
         "line": {
          "color": "#888",
          "width": 1.5810522423550677
         },
         "mode": "lines",
         "type": "scatter",
         "x": [
          -14.337115099508948,
          -14.753566114591269
         ],
         "y": [
          -5.589642377557384,
          -5.638625502914219
         ]
        },
        {
         "hoverinfo": "none",
         "line": {
          "color": "#888",
          "width": 2.567642998280728
         },
         "mode": "lines",
         "type": "scatter",
         "x": [
          -14.43856045774682,
          -14.753566114591269
         ],
         "y": [
          -5.340015312798051,
          -5.638625502914219
         ]
        },
        {
         "hoverinfo": "none",
         "line": {
          "color": "#888",
          "width": 1.104830326321568
         },
         "mode": "lines",
         "type": "scatter",
         "x": [
          -14.817113325705948,
          -14.753566114591269
         ],
         "y": [
          -5.149943024367288,
          -5.638625502914219
         ]
        },
        {
         "hoverinfo": "none",
         "line": {
          "color": "#888",
          "width": 1.0147711859151491
         },
         "mode": "lines",
         "type": "scatter",
         "x": [
          -15.264536165409725,
          -14.753566114591269
         ],
         "y": [
          -6.329600572063244,
          -5.638625502914219
         ]
        },
        {
         "hoverinfo": "none",
         "line": {
          "color": "#888",
          "width": 1.3336206764030232
         },
         "mode": "lines",
         "type": "scatter",
         "x": [
          -14.753566114591269,
          -13.862864446562623
         ],
         "y": [
          -5.638625502914219,
          -4.948323816069961
         ]
        },
        {
         "hoverinfo": "none",
         "line": {
          "color": "#888",
          "width": 1.086429851750809
         },
         "mode": "lines",
         "type": "scatter",
         "x": [
          -14.753566114591269,
          -13.675589562249908
         ],
         "y": [
          -5.638625502914219,
          -4.746623249059541
         ]
        },
        {
         "hoverinfo": "none",
         "line": {
          "color": "#888",
          "width": 1.1011584011383928
         },
         "mode": "lines",
         "type": "scatter",
         "x": [
          -14.753566114591269,
          -13.595012385775345
         ],
         "y": [
          -5.638625502914219,
          -5.071548520780777
         ]
        },
        {
         "hoverinfo": "none",
         "line": {
          "color": "#888",
          "width": 1.040614552209747
         },
         "mode": "lines",
         "type": "scatter",
         "x": [
          -14.753566114591269,
          -15.013124154598115
         ],
         "y": [
          -5.638625502914219,
          -5.529484149368032
         ]
        },
        {
         "hoverinfo": "none",
         "line": {
          "color": "#888",
          "width": 1.053502937462228
         },
         "mode": "lines",
         "type": "scatter",
         "x": [
          -14.753566114591269,
          -14.61875612341671
         ],
         "y": [
          -5.638625502914219,
          -6.457956231183889
         ]
        },
        {
         "hoverinfo": "none",
         "line": {
          "color": "#888",
          "width": 1.5780503013019398
         },
         "mode": "lines",
         "type": "scatter",
         "x": [
          -13.611430736159944,
          -13.929962859924492
         ],
         "y": [
          -5.876190550342591,
          -4.657229596896204
         ]
        },
        {
         "hoverinfo": "none",
         "line": {
          "color": "#888",
          "width": 1.1674054637034508
         },
         "mode": "lines",
         "type": "scatter",
         "x": [
          -14.371871984258576,
          -13.929962859924492
         ],
         "y": [
          -5.309789890205194,
          -4.657229596896204
         ]
        },
        {
         "hoverinfo": "none",
         "line": {
          "color": "#888",
          "width": 1.4582984459131114
         },
         "mode": "lines",
         "type": "scatter",
         "x": [
          -13.88035938362524,
          -13.929962859924492
         ],
         "y": [
          -5.930339137052623,
          -4.657229596896204
         ]
        },
        {
         "hoverinfo": "none",
         "line": {
          "color": "#888",
          "width": 1.1523676617484837
         },
         "mode": "lines",
         "type": "scatter",
         "x": [
          -14.43856045774682,
          -13.929962859924492
         ],
         "y": [
          -5.340015312798051,
          -4.657229596896204
         ]
        },
        {
         "hoverinfo": "none",
         "line": {
          "color": "#888",
          "width": 1.1089316483860638
         },
         "mode": "lines",
         "type": "scatter",
         "x": [
          -13.929962859924492,
          -14.914940275618951
         ],
         "y": [
          -4.657229596896204,
          -4.9158561143212465
         ]
        },
        {
         "hoverinfo": "none",
         "line": {
          "color": "#888",
          "width": 1.3569822072722615
         },
         "mode": "lines",
         "type": "scatter",
         "x": [
          -13.707209565894951,
          -14.475455276486759
         ],
         "y": [
          -5.531850608732078,
          -4.563713429774501
         ]
        },
        {
         "hoverinfo": "none",
         "line": {
          "color": "#888",
          "width": 1.5771108142790777
         },
         "mode": "lines",
         "type": "scatter",
         "x": [
          -14.371871984258576,
          -14.475455276486759
         ],
         "y": [
          -5.309789890205194,
          -4.563713429774501
         ]
        },
        {
         "hoverinfo": "none",
         "line": {
          "color": "#888",
          "width": 1.8419867660504172
         },
         "mode": "lines",
         "type": "scatter",
         "x": [
          -14.337115099508948,
          -14.475455276486759
         ],
         "y": [
          -5.589642377557384,
          -4.563713429774501
         ]
        },
        {
         "hoverinfo": "none",
         "line": {
          "color": "#888",
          "width": 1.5587087842051919
         },
         "mode": "lines",
         "type": "scatter",
         "x": [
          -14.43856045774682,
          -14.475455276486759
         ],
         "y": [
          -5.340015312798051,
          -4.563713429774501
         ]
        },
        {
         "hoverinfo": "none",
         "line": {
          "color": "#888",
          "width": 1.6290562870466516
         },
         "mode": "lines",
         "type": "scatter",
         "x": [
          -14.048169730697897,
          -14.475455276486759
         ],
         "y": [
          -4.402358898230442,
          -4.563713429774501
         ]
        },
        {
         "hoverinfo": "none",
         "line": {
          "color": "#888",
          "width": 1.182845607700317
         },
         "mode": "lines",
         "type": "scatter",
         "x": [
          -15.28225172984896,
          -14.475455276486759
         ],
         "y": [
          -5.387738780527072,
          -4.563713429774501
         ]
        },
        {
         "hoverinfo": "none",
         "line": {
          "color": "#888",
          "width": 1.2371831217988247
         },
         "mode": "lines",
         "type": "scatter",
         "x": [
          -14.475455276486759,
          -13.862864446562623
         ],
         "y": [
          -4.563713429774501,
          -4.948323816069961
         ]
        },
        {
         "hoverinfo": "none",
         "line": {
          "color": "#888",
          "width": 1.0994350344114456
         },
         "mode": "lines",
         "type": "scatter",
         "x": [
          -14.475455276486759,
          -13.675589562249908
         ],
         "y": [
          -4.563713429774501,
          -4.746623249059541
         ]
        },
        {
         "hoverinfo": "none",
         "line": {
          "color": "#888",
          "width": 1.8558220971677355
         },
         "mode": "lines",
         "type": "scatter",
         "x": [
          -13.875537710711491,
          -13.390218289739371
         ],
         "y": [
          -5.32928344518222,
          -5.733405128642964
         ]
        },
        {
         "hoverinfo": "none",
         "line": {
          "color": "#888",
          "width": 1.5971025916330828
         },
         "mode": "lines",
         "type": "scatter",
         "x": [
          -13.527157887205975,
          -13.390218289739371
         ],
         "y": [
          -5.464656038819423,
          -5.733405128642964
         ]
        },
        {
         "hoverinfo": "none",
         "line": {
          "color": "#888",
          "width": 1.6347214072895269
         },
         "mode": "lines",
         "type": "scatter",
         "x": [
          -14.362059659931681,
          -13.390218289739371
         ],
         "y": [
          -4.997657926517953,
          -5.733405128642964
         ]
        },
        {
         "hoverinfo": "none",
         "line": {
          "color": "#888",
          "width": 2.060139133022109
         },
         "mode": "lines",
         "type": "scatter",
         "x": [
          -13.707209565894951,
          -13.390218289739371
         ],
         "y": [
          -5.531850608732078,
          -5.733405128642964
         ]
        },
        {
         "hoverinfo": "none",
         "line": {
          "color": "#888",
          "width": 1.1458170895486544
         },
         "mode": "lines",
         "type": "scatter",
         "x": [
          -13.24315673940496,
          -13.390218289739371
         ],
         "y": [
          -6.689195662075548,
          -5.733405128642964
         ]
        },
        {
         "hoverinfo": "none",
         "line": {
          "color": "#888",
          "width": 1.4450332099193164
         },
         "mode": "lines",
         "type": "scatter",
         "x": [
          -13.611430736159944,
          -13.390218289739371
         ],
         "y": [
          -5.876190550342591,
          -5.733405128642964
         ]
        },
        {
         "hoverinfo": "none",
         "line": {
          "color": "#888",
          "width": 1.6595256306523098
         },
         "mode": "lines",
         "type": "scatter",
         "x": [
          -14.371871984258576,
          -13.390218289739371
         ],
         "y": [
          -5.309789890205194,
          -5.733405128642964
         ]
        },
        {
         "hoverinfo": "none",
         "line": {
          "color": "#888",
          "width": 1.0230303952199367
         },
         "mode": "lines",
         "type": "scatter",
         "x": [
          -14.189771826738772,
          -13.390218289739371
         ],
         "y": [
          -5.87173038695074,
          -5.733405128642964
         ]
        },
        {
         "hoverinfo": "none",
         "line": {
          "color": "#888",
          "width": 1.478924330674631
         },
         "mode": "lines",
         "type": "scatter",
         "x": [
          -13.222042469817788,
          -13.390218289739371
         ],
         "y": [
          -5.142310599034572,
          -5.733405128642964
         ]
        },
        {
         "hoverinfo": "none",
         "line": {
          "color": "#888",
          "width": 1.2602232837316554
         },
         "mode": "lines",
         "type": "scatter",
         "x": [
          -13.88035938362524,
          -13.390218289739371
         ],
         "y": [
          -5.930339137052623,
          -5.733405128642964
         ]
        },
        {
         "hoverinfo": "none",
         "line": {
          "color": "#888",
          "width": 1.0831408595155747
         },
         "mode": "lines",
         "type": "scatter",
         "x": [
          -14.337115099508948,
          -13.390218289739371
         ],
         "y": [
          -5.589642377557384,
          -5.733405128642964
         ]
        },
        {
         "hoverinfo": "none",
         "line": {
          "color": "#888",
          "width": 1.6392799883916123
         },
         "mode": "lines",
         "type": "scatter",
         "x": [
          -14.43856045774682,
          -13.390218289739371
         ],
         "y": [
          -5.340015312798051,
          -5.733405128642964
         ]
        },
        {
         "hoverinfo": "none",
         "line": {
          "color": "#888",
          "width": 1.9884491520043113
         },
         "mode": "lines",
         "type": "scatter",
         "x": [
          -13.390218289739371,
          -13.862864446562623
         ],
         "y": [
          -5.733405128642964,
          -4.948323816069961
         ]
        },
        {
         "hoverinfo": "none",
         "line": {
          "color": "#888",
          "width": 1.4204921773882484
         },
         "mode": "lines",
         "type": "scatter",
         "x": [
          -13.390218289739371,
          -13.675589562249908
         ],
         "y": [
          -5.733405128642964,
          -4.746623249059541
         ]
        },
        {
         "hoverinfo": "none",
         "line": {
          "color": "#888",
          "width": 1.8511518866483965
         },
         "mode": "lines",
         "type": "scatter",
         "x": [
          -13.390218289739371,
          -13.595012385775345
         ],
         "y": [
          -5.733405128642964,
          -5.071548520780777
         ]
        },
        {
         "hoverinfo": "none",
         "line": {
          "color": "#888",
          "width": 1.4541960121198971
         },
         "mode": "lines",
         "type": "scatter",
         "x": [
          -13.390218289739371,
          -13.193598012960688
         ],
         "y": [
          -5.733405128642964,
          -5.37815957036336
         ]
        },
        {
         "hoverinfo": "none",
         "line": {
          "color": "#888",
          "width": 1.256441085017973
         },
         "mode": "lines",
         "type": "scatter",
         "x": [
          -13.390218289739371,
          -13.94653562468436
         ],
         "y": [
          -5.733405128642964,
          -5.670154951244973
         ]
        },
        {
         "hoverinfo": "none",
         "line": {
          "color": "#888",
          "width": 1.014786162987643
         },
         "mode": "lines",
         "type": "scatter",
         "x": [
          -13.390218289739371,
          -12.761106201381423
         ],
         "y": [
          -5.733405128642964,
          -6.052174784794521
         ]
        },
        {
         "hoverinfo": "none",
         "line": {
          "color": "#888",
          "width": 1.0478064520326373
         },
         "mode": "lines",
         "type": "scatter",
         "x": [
          -14.871497661265048,
          -16.303060544747147
         ],
         "y": [
          -4.4476025797803,
          -4.310670236828554
         ]
        },
        {
         "hoverinfo": "none",
         "line": {
          "color": "#888",
          "width": 1.0145381811725789
         },
         "mode": "lines",
         "type": "scatter",
         "x": [
          -15.717211012483808,
          -16.303060544747147
         ],
         "y": [
          -5.367590516567743,
          -4.310670236828554
         ]
        },
        {
         "hoverinfo": "none",
         "line": {
          "color": "#888",
          "width": 1.3184957335227359
         },
         "mode": "lines",
         "type": "scatter",
         "x": [
          -16.00047798583634,
          -16.303060544747147
         ],
         "y": [
          -3.7533718180893545,
          -4.310670236828554
         ]
        },
        {
         "hoverinfo": "none",
         "line": {
          "color": "#888",
          "width": 1.040035629749341
         },
         "mode": "lines",
         "type": "scatter",
         "x": [
          -16.853929849925986,
          -17.872139148439057
         ],
         "y": [
          -5.206796894862642,
          -5.726698746391567
         ]
        },
        {
         "hoverinfo": "none",
         "line": {
          "color": "#888",
          "width": 1.3967176642256418
         },
         "mode": "lines",
         "type": "scatter",
         "x": [
          -13.875537710711491,
          -13.273225990625084
         ],
         "y": [
          -5.32928344518222,
          -6.038017673214097
         ]
        },
        {
         "hoverinfo": "none",
         "line": {
          "color": "#888",
          "width": 1.1569261667352864
         },
         "mode": "lines",
         "type": "scatter",
         "x": [
          -13.527157887205975,
          -13.273225990625084
         ],
         "y": [
          -5.464656038819423,
          -6.038017673214097
         ]
        },
        {
         "hoverinfo": "none",
         "line": {
          "color": "#888",
          "width": 1.2206520106249243
         },
         "mode": "lines",
         "type": "scatter",
         "x": [
          -13.707209565894951,
          -13.273225990625084
         ],
         "y": [
          -5.531850608732078,
          -6.038017673214097
         ]
        },
        {
         "hoverinfo": "none",
         "line": {
          "color": "#888",
          "width": 1.231759241353672
         },
         "mode": "lines",
         "type": "scatter",
         "x": [
          -13.24315673940496,
          -13.273225990625084
         ],
         "y": [
          -6.689195662075548,
          -6.038017673214097
         ]
        },
        {
         "hoverinfo": "none",
         "line": {
          "color": "#888",
          "width": 1.3154972210087321
         },
         "mode": "lines",
         "type": "scatter",
         "x": [
          -13.611430736159944,
          -13.273225990625084
         ],
         "y": [
          -5.876190550342591,
          -6.038017673214097
         ]
        },
        {
         "hoverinfo": "none",
         "line": {
          "color": "#888",
          "width": 1.605423384514806
         },
         "mode": "lines",
         "type": "scatter",
         "x": [
          -14.371871984258576,
          -13.273225990625084
         ],
         "y": [
          -5.309789890205194,
          -6.038017673214097
         ]
        },
        {
         "hoverinfo": "none",
         "line": {
          "color": "#888",
          "width": 1.0161543434297555
         },
         "mode": "lines",
         "type": "scatter",
         "x": [
          -13.770553405879493,
          -13.273225990625084
         ],
         "y": [
          -6.979374153748573,
          -6.038017673214097
         ]
        },
        {
         "hoverinfo": "none",
         "line": {
          "color": "#888",
          "width": 1.0520572593229847
         },
         "mode": "lines",
         "type": "scatter",
         "x": [
          -13.387726540267733,
          -13.273225990625084
         ],
         "y": [
          -7.033495540347158,
          -6.038017673214097
         ]
        },
        {
         "hoverinfo": "none",
         "line": {
          "color": "#888",
          "width": 1.2495373637579967
         },
         "mode": "lines",
         "type": "scatter",
         "x": [
          -14.337115099508948,
          -13.273225990625084
         ],
         "y": [
          -5.589642377557384,
          -6.038017673214097
         ]
        },
        {
         "hoverinfo": "none",
         "line": {
          "color": "#888",
          "width": 1.586531690322458
         },
         "mode": "lines",
         "type": "scatter",
         "x": [
          -14.43856045774682,
          -13.273225990625084
         ],
         "y": [
          -5.340015312798051,
          -6.038017673214097
         ]
        },
        {
         "hoverinfo": "none",
         "line": {
          "color": "#888",
          "width": 1.0016258231537143
         },
         "mode": "lines",
         "type": "scatter",
         "x": [
          -12.1142728460046,
          -13.273225990625084
         ],
         "y": [
          -6.3666290923353985,
          -6.038017673214097
         ]
        },
        {
         "hoverinfo": "none",
         "line": {
          "color": "#888",
          "width": 1.0694843331904502
         },
         "mode": "lines",
         "type": "scatter",
         "x": [
          -13.894885252196177,
          -13.273225990625084
         ],
         "y": [
          -6.193450742401886,
          -6.038017673214097
         ]
        },
        {
         "hoverinfo": "none",
         "line": {
          "color": "#888",
          "width": 1.08702934324447
         },
         "mode": "lines",
         "type": "scatter",
         "x": [
          -11.985612255044712,
          -13.273225990625084
         ],
         "y": [
          -6.083157751531359,
          -6.038017673214097
         ]
        },
        {
         "hoverinfo": "none",
         "line": {
          "color": "#888",
          "width": 1.0063678625099115
         },
         "mode": "lines",
         "type": "scatter",
         "x": [
          -12.615706303724961,
          -13.273225990625084
         ],
         "y": [
          -6.909290102969761,
          -6.038017673214097
         ]
        },
        {
         "hoverinfo": "none",
         "line": {
          "color": "#888",
          "width": 1.1491570273075111
         },
         "mode": "lines",
         "type": "scatter",
         "x": [
          -13.273225990625084,
          -13.862864446562623
         ],
         "y": [
          -6.038017673214097,
          -4.948323816069961
         ]
        },
        {
         "hoverinfo": "none",
         "line": {
          "color": "#888",
          "width": 1.5190640300325973
         },
         "mode": "lines",
         "type": "scatter",
         "x": [
          -13.273225990625084,
          -13.94653562468436
         ],
         "y": [
          -6.038017673214097,
          -5.670154951244973
         ]
        },
        {
         "hoverinfo": "none",
         "line": {
          "color": "#888",
          "width": 1.2038286935424476
         },
         "mode": "lines",
         "type": "scatter",
         "x": [
          -13.273225990625084,
          -12.885570200590106
         ],
         "y": [
          -6.038017673214097,
          -7.21902777395607
         ]
        },
        {
         "hoverinfo": "none",
         "line": {
          "color": "#888",
          "width": 1.097869395831777
         },
         "mode": "lines",
         "type": "scatter",
         "x": [
          -13.527157887205975,
          -12.164876803560634
         ],
         "y": [
          -5.464656038819423,
          -5.511900788772261
         ]
        },
        {
         "hoverinfo": "none",
         "line": {
          "color": "#888",
          "width": 1.1077490252860276
         },
         "mode": "lines",
         "type": "scatter",
         "x": [
          -14.84114221746566,
          -14.531892159066423
         ],
         "y": [
          -9.212565350306901,
          -8.539402461952823
         ]
        },
        {
         "hoverinfo": "none",
         "line": {
          "color": "#888",
          "width": 1.2458909163736462
         },
         "mode": "lines",
         "type": "scatter",
         "x": [
          -14.84114221746566,
          -15.673912440502377
         ],
         "y": [
          -9.212565350306901,
          -8.904033643593513
         ]
        },
        {
         "hoverinfo": "none",
         "line": {
          "color": "#888",
          "width": 1.0013450411217402
         },
         "mode": "lines",
         "type": "scatter",
         "x": [
          -13.875537710711491,
          -14.534578693420821
         ],
         "y": [
          -5.32928344518222,
          -5.867735650205169
         ]
        },
        {
         "hoverinfo": "none",
         "line": {
          "color": "#888",
          "width": 1.0816923517036232
         },
         "mode": "lines",
         "type": "scatter",
         "x": [
          -13.707209565894951,
          -14.534578693420821
         ],
         "y": [
          -5.531850608732078,
          -5.867735650205169
         ]
        },
        {
         "hoverinfo": "none",
         "line": {
          "color": "#888",
          "width": 1.1143542077789714
         },
         "mode": "lines",
         "type": "scatter",
         "x": [
          -15.031880911245818,
          -14.534578693420821
         ],
         "y": [
          -6.838172886473517,
          -5.867735650205169
         ]
        },
        {
         "hoverinfo": "none",
         "line": {
          "color": "#888",
          "width": 1.324592715833349
         },
         "mode": "lines",
         "type": "scatter",
         "x": [
          -14.645765529985793,
          -14.534578693420821
         ],
         "y": [
          -6.201254807051291,
          -5.867735650205169
         ]
        },
        {
         "hoverinfo": "none",
         "line": {
          "color": "#888",
          "width": 1.2385843657988345
         },
         "mode": "lines",
         "type": "scatter",
         "x": [
          -13.611430736159944,
          -14.534578693420821
         ],
         "y": [
          -5.876190550342591,
          -5.867735650205169
         ]
        },
        {
         "hoverinfo": "none",
         "line": {
          "color": "#888",
          "width": 1.7173305471245446
         },
         "mode": "lines",
         "type": "scatter",
         "x": [
          -14.371871984258576,
          -14.534578693420821
         ],
         "y": [
          -5.309789890205194,
          -5.867735650205169
         ]
        },
        {
         "hoverinfo": "none",
         "line": {
          "color": "#888",
          "width": 1.041508649846482
         },
         "mode": "lines",
         "type": "scatter",
         "x": [
          -15.06299985540851,
          -14.534578693420821
         ],
         "y": [
          -6.295317665169309,
          -5.867735650205169
         ]
        },
        {
         "hoverinfo": "none",
         "line": {
          "color": "#888",
          "width": 1.1369270258579665
         },
         "mode": "lines",
         "type": "scatter",
         "x": [
          -14.200026977870785,
          -14.534578693420821
         ],
         "y": [
          -6.491007842347108,
          -5.867735650205169
         ]
        },
        {
         "hoverinfo": "none",
         "line": {
          "color": "#888",
          "width": 1.6122770662747037
         },
         "mode": "lines",
         "type": "scatter",
         "x": [
          -14.189771826738772,
          -14.534578693420821
         ],
         "y": [
          -5.87173038695074,
          -5.867735650205169
         ]
        },
        {
         "hoverinfo": "none",
         "line": {
          "color": "#888",
          "width": 1.2228433796542193
         },
         "mode": "lines",
         "type": "scatter",
         "x": [
          -13.88035938362524,
          -14.534578693420821
         ],
         "y": [
          -5.930339137052623,
          -5.867735650205169
         ]
        },
        {
         "hoverinfo": "none",
         "line": {
          "color": "#888",
          "width": 1.9869900085489416
         },
         "mode": "lines",
         "type": "scatter",
         "x": [
          -14.43856045774682,
          -14.534578693420821
         ],
         "y": [
          -5.340015312798051,
          -5.867735650205169
         ]
        },
        {
         "hoverinfo": "none",
         "line": {
          "color": "#888",
          "width": 1.053952866482968
         },
         "mode": "lines",
         "type": "scatter",
         "x": [
          -14.817113325705948,
          -14.534578693420821
         ],
         "y": [
          -5.149943024367288,
          -5.867735650205169
         ]
        },
        {
         "hoverinfo": "none",
         "line": {
          "color": "#888",
          "width": 1.1053318702016692
         },
         "mode": "lines",
         "type": "scatter",
         "x": [
          -15.28225172984896,
          -14.534578693420821
         ],
         "y": [
          -5.387738780527072,
          -5.867735650205169
         ]
        },
        {
         "hoverinfo": "none",
         "line": {
          "color": "#888",
          "width": 1.0044307703095177
         },
         "mode": "lines",
         "type": "scatter",
         "x": [
          -14.094060124693677,
          -14.534578693420821
         ],
         "y": [
          -5.024824129450616,
          -5.867735650205169
         ]
        },
        {
         "hoverinfo": "none",
         "line": {
          "color": "#888",
          "width": 1.418570868399821
         },
         "mode": "lines",
         "type": "scatter",
         "x": [
          -15.264536165409725,
          -14.534578693420821
         ],
         "y": [
          -6.329600572063244,
          -5.867735650205169
         ]
        },
        {
         "hoverinfo": "none",
         "line": {
          "color": "#888",
          "width": 1.353755754295898
         },
         "mode": "lines",
         "type": "scatter",
         "x": [
          -14.534578693420821,
          -13.94653562468436
         ],
         "y": [
          -5.867735650205169,
          -5.670154951244973
         ]
        },
        {
         "hoverinfo": "none",
         "line": {
          "color": "#888",
          "width": 1.0632125341034118
         },
         "mode": "lines",
         "type": "scatter",
         "x": [
          -14.534578693420821,
          -15.497439241197572
         ],
         "y": [
          -5.867735650205169,
          -5.806596942822509
         ]
        },
        {
         "hoverinfo": "none",
         "line": {
          "color": "#888",
          "width": 1.2951378385510615
         },
         "mode": "lines",
         "type": "scatter",
         "x": [
          -14.534578693420821,
          -14.914940275618951
         ],
         "y": [
          -5.867735650205169,
          -4.9158561143212465
         ]
        },
        {
         "hoverinfo": "none",
         "line": {
          "color": "#888",
          "width": 1.3914289384895409
         },
         "mode": "lines",
         "type": "scatter",
         "x": [
          -14.534578693420821,
          -15.013124154598115
         ],
         "y": [
          -5.867735650205169,
          -5.529484149368032
         ]
        },
        {
         "hoverinfo": "none",
         "line": {
          "color": "#888",
          "width": 1.0437708461110915
         },
         "mode": "lines",
         "type": "scatter",
         "x": [
          -14.534578693420821,
          -14.61875612341671
         ],
         "y": [
          -5.867735650205169,
          -6.457956231183889
         ]
        },
        {
         "hoverinfo": "none",
         "line": {
          "color": "#888",
          "width": 1.0484313095452267
         },
         "mode": "lines",
         "type": "scatter",
         "x": [
          -14.47810030254798,
          -15.573741906957562
         ],
         "y": [
          -6.400656932273691,
          -5.537184150233229
         ]
        },
        {
         "hoverinfo": "none",
         "line": {
          "color": "#888",
          "width": 1.3884330604881154
         },
         "mode": "lines",
         "type": "scatter",
         "x": [
          -14.790576922423055,
          -15.573741906957562
         ],
         "y": [
          -5.938131240021356,
          -5.537184150233229
         ]
        },
        {
         "hoverinfo": "none",
         "line": {
          "color": "#888",
          "width": 1.0080409976690115
         },
         "mode": "lines",
         "type": "scatter",
         "x": [
          -16.853929849925986,
          -15.573741906957562
         ],
         "y": [
          -5.206796894862642,
          -5.537184150233229
         ]
        },
        {
         "hoverinfo": "none",
         "line": {
          "color": "#888",
          "width": 1.2028357067820319
         },
         "mode": "lines",
         "type": "scatter",
         "x": [
          -14.371871984258576,
          -15.573741906957562
         ],
         "y": [
          -5.309789890205194,
          -5.537184150233229
         ]
        },
        {
         "hoverinfo": "none",
         "line": {
          "color": "#888",
          "width": 1.0388527872993045
         },
         "mode": "lines",
         "type": "scatter",
         "x": [
          -15.851128569030708,
          -15.573741906957562
         ],
         "y": [
          -6.736423468652748,
          -5.537184150233229
         ]
        },
        {
         "hoverinfo": "none",
         "line": {
          "color": "#888",
          "width": 1.1860759821042963
         },
         "mode": "lines",
         "type": "scatter",
         "x": [
          -14.43856045774682,
          -15.573741906957562
         ],
         "y": [
          -5.340015312798051,
          -5.537184150233229
         ]
        },
        {
         "hoverinfo": "none",
         "line": {
          "color": "#888",
          "width": 1.009643827301647
         },
         "mode": "lines",
         "type": "scatter",
         "x": [
          -14.895945710193905,
          -15.573741906957562
         ],
         "y": [
          -6.507485318880583,
          -5.537184150233229
         ]
        },
        {
         "hoverinfo": "none",
         "line": {
          "color": "#888",
          "width": 1.1351113980145828
         },
         "mode": "lines",
         "type": "scatter",
         "x": [
          -15.270463960168538,
          -15.573741906957562
         ],
         "y": [
          -4.5058576710257725,
          -5.537184150233229
         ]
        },
        {
         "hoverinfo": "none",
         "line": {
          "color": "#888",
          "width": 1.0203869560990926
         },
         "mode": "lines",
         "type": "scatter",
         "x": [
          -16.267835709249958,
          -15.573741906957562
         ],
         "y": [
          -6.355602529130001,
          -5.537184150233229
         ]
        },
        {
         "hoverinfo": "none",
         "line": {
          "color": "#888",
          "width": 1.0278805197458825
         },
         "mode": "lines",
         "type": "scatter",
         "x": [
          -15.573741906957562,
          -14.813549771834133
         ],
         "y": [
          -5.537184150233229,
          -4.598891617330923
         ]
        },
        {
         "hoverinfo": "none",
         "line": {
          "color": "#888",
          "width": 1.5369501912484806
         },
         "mode": "lines",
         "type": "scatter",
         "x": [
          -14.371871984258576,
          -14.933185749715992
         ],
         "y": [
          -5.309789890205194,
          -4.193392152224972
         ]
        },
        {
         "hoverinfo": "none",
         "line": {
          "color": "#888",
          "width": 1.5222648642649248
         },
         "mode": "lines",
         "type": "scatter",
         "x": [
          -14.43856045774682,
          -14.933185749715992
         ],
         "y": [
          -5.340015312798051,
          -4.193392152224972
         ]
        },
        {
         "hoverinfo": "none",
         "line": {
          "color": "#888",
          "width": 1.204001702132995
         },
         "mode": "lines",
         "type": "scatter",
         "x": [
          -14.895945710193905,
          -15.634320764752584
         ],
         "y": [
          -6.507485318880583,
          -7.364165177722024
         ]
        },
        {
         "hoverinfo": "none",
         "line": {
          "color": "#888",
          "width": 1.0175916030272816
         },
         "mode": "lines",
         "type": "scatter",
         "x": [
          -14.616955577935325,
          -15.634320764752584
         ],
         "y": [
          -6.93972065520944,
          -7.364165177722024
         ]
        },
        {
         "hoverinfo": "none",
         "line": {
          "color": "#888",
          "width": 1.1230425979043548
         },
         "mode": "lines",
         "type": "scatter",
         "x": [
          -20.721224786113666,
          -21.13125455792967
         ],
         "y": [
          -4.341927308619159,
          -3.5884130542935395
         ]
        },
        {
         "hoverinfo": "none",
         "line": {
          "color": "#888",
          "width": 1.0009002263479672
         },
         "mode": "lines",
         "type": "scatter",
         "x": [
          -20.478424288576363,
          -21.13125455792967
         ],
         "y": [
          -3.368816112890574,
          -3.5884130542935395
         ]
        },
        {
         "hoverinfo": "none",
         "line": {
          "color": "#888",
          "width": 1.0247627551096392
         },
         "mode": "lines",
         "type": "scatter",
         "x": [
          -13.488565177169946,
          -12.241731349316966
         ],
         "y": [
          -4.37128180082043,
          -4.133770859505214
         ]
        },
        {
         "hoverinfo": "none",
         "line": {
          "color": "#888",
          "width": 1.1350118308234052
         },
         "mode": "lines",
         "type": "scatter",
         "x": [
          -13.270489320443948,
          -12.241731349316966
         ],
         "y": [
          -4.814867740596674,
          -4.133770859505214
         ]
        },
        {
         "hoverinfo": "none",
         "line": {
          "color": "#888",
          "width": 1.0402369266799911
         },
         "mode": "lines",
         "type": "scatter",
         "x": [
          -11.072829348576285,
          -12.241731349316966
         ],
         "y": [
          -4.229563211540952,
          -4.133770859505214
         ]
        },
        {
         "hoverinfo": "none",
         "line": {
          "color": "#888",
          "width": 1.0180766611920444
         },
         "mode": "lines",
         "type": "scatter",
         "x": [
          -12.241731349316966,
          -11.494231615078888
         ],
         "y": [
          -4.133770859505214,
          -3.427102566484568
         ]
        },
        {
         "hoverinfo": "none",
         "line": {
          "color": "#888",
          "width": 1.1343655629458087
         },
         "mode": "lines",
         "type": "scatter",
         "x": [
          -16.247519470395954,
          -17.051515082605246
         ],
         "y": [
          2.697920918097788,
          3.462596947966528
         ]
        },
        {
         "hoverinfo": "none",
         "line": {
          "color": "#888",
          "width": 1.292876417243475
         },
         "mode": "lines",
         "type": "scatter",
         "x": [
          -16.275597595647916,
          -17.051515082605246
         ],
         "y": [
          3.472963276886355,
          3.462596947966528
         ]
        },
        {
         "hoverinfo": "none",
         "line": {
          "color": "#888",
          "width": 1.033928888143376
         },
         "mode": "lines",
         "type": "scatter",
         "x": [
          -17.051515082605246,
          -16.98941606596727
         ],
         "y": [
          3.462596947966528,
          2.7278720592525088
         ]
        },
        {
         "hoverinfo": "none",
         "line": {
          "color": "#888",
          "width": 1.1810347859256036
         },
         "mode": "lines",
         "type": "scatter",
         "x": [
          -14.371871984258576,
          -13.104395642507322
         ],
         "y": [
          -5.309789890205194,
          -5.620675211727626
         ]
        },
        {
         "hoverinfo": "none",
         "line": {
          "color": "#888",
          "width": 1.244686116798018
         },
         "mode": "lines",
         "type": "scatter",
         "x": [
          -13.54321562440723,
          -13.104395642507322
         ],
         "y": [
          -6.325668381304119,
          -5.620675211727626
         ]
        },
        {
         "hoverinfo": "none",
         "line": {
          "color": "#888",
          "width": 1.1696652479867022
         },
         "mode": "lines",
         "type": "scatter",
         "x": [
          -14.43856045774682,
          -13.104395642507322
         ],
         "y": [
          -5.340015312798051,
          -5.620675211727626
         ]
        },
        {
         "hoverinfo": "none",
         "line": {
          "color": "#888",
          "width": 1.4270424796927508
         },
         "mode": "lines",
         "type": "scatter",
         "x": [
          -12.240895411845935,
          -13.104395642507322
         ],
         "y": [
          -6.6072067290490715,
          -5.620675211727626
         ]
        },
        {
         "hoverinfo": "none",
         "line": {
          "color": "#888",
          "width": 1.347942889518921
         },
         "mode": "lines",
         "type": "scatter",
         "x": [
          -13.983004156084545,
          -14.733694465052887
         ],
         "y": [
          2.1780318587774894,
          2.6492440475202015
         ]
        },
        {
         "hoverinfo": "none",
         "line": {
          "color": "#888",
          "width": 1.0627746145541674
         },
         "mode": "lines",
         "type": "scatter",
         "x": [
          -13.355349687799634,
          -12.924120964256007
         ],
         "y": [
          -7.536130655725203,
          -8.419346170035725
         ]
        },
        {
         "hoverinfo": "none",
         "line": {
          "color": "#888",
          "width": 2.594732521752629
         },
         "mode": "lines",
         "type": "scatter",
         "x": [
          -13.875537710711491,
          -13.862864446562623
         ],
         "y": [
          -5.32928344518222,
          -4.948323816069961
         ]
        },
        {
         "hoverinfo": "none",
         "line": {
          "color": "#888",
          "width": 2.1605356418869786
         },
         "mode": "lines",
         "type": "scatter",
         "x": [
          -13.527157887205975,
          -13.862864446562623
         ],
         "y": [
          -5.464656038819423,
          -4.948323816069961
         ]
        },
        {
         "hoverinfo": "none",
         "line": {
          "color": "#888",
          "width": 1.8961156323569186
         },
         "mode": "lines",
         "type": "scatter",
         "x": [
          -14.871497661265048,
          -13.862864446562623
         ],
         "y": [
          -4.4476025797803,
          -4.948323816069961
         ]
        },
        {
         "hoverinfo": "none",
         "line": {
          "color": "#888",
          "width": 1.2278487481778746
         },
         "mode": "lines",
         "type": "scatter",
         "x": [
          -14.362059659931681,
          -13.862864446562623
         ],
         "y": [
          -4.997657926517953,
          -4.948323816069961
         ]
        },
        {
         "hoverinfo": "none",
         "line": {
          "color": "#888",
          "width": 2.2385073862396254
         },
         "mode": "lines",
         "type": "scatter",
         "x": [
          -13.707209565894951,
          -13.862864446562623
         ],
         "y": [
          -5.531850608732078,
          -4.948323816069961
         ]
        },
        {
         "hoverinfo": "none",
         "line": {
          "color": "#888",
          "width": 1.039148394464184
         },
         "mode": "lines",
         "type": "scatter",
         "x": [
          -13.488565177169946,
          -13.862864446562623
         ],
         "y": [
          -4.37128180082043,
          -4.948323816069961
         ]
        },
        {
         "hoverinfo": "none",
         "line": {
          "color": "#888",
          "width": 1.0404031945162697
         },
         "mode": "lines",
         "type": "scatter",
         "x": [
          -13.611430736159944,
          -13.862864446562623
         ],
         "y": [
          -5.876190550342591,
          -4.948323816069961
         ]
        },
        {
         "hoverinfo": "none",
         "line": {
          "color": "#888",
          "width": 3.24239654650267
         },
         "mode": "lines",
         "type": "scatter",
         "x": [
          -14.371871984258576,
          -13.862864446562623
         ],
         "y": [
          -5.309789890205194,
          -4.948323816069961
         ]
        },
        {
         "hoverinfo": "none",
         "line": {
          "color": "#888",
          "width": 1.3095900127910887
         },
         "mode": "lines",
         "type": "scatter",
         "x": [
          -14.189771826738772,
          -13.862864446562623
         ],
         "y": [
          -5.87173038695074,
          -4.948323816069961
         ]
        },
        {
         "hoverinfo": "none",
         "line": {
          "color": "#888",
          "width": 1.297877318297527
         },
         "mode": "lines",
         "type": "scatter",
         "x": [
          -13.222042469817788,
          -13.862864446562623
         ],
         "y": [
          -5.142310599034572,
          -4.948323816069961
         ]
        },
        {
         "hoverinfo": "none",
         "line": {
          "color": "#888",
          "width": 1.2374462400830846
         },
         "mode": "lines",
         "type": "scatter",
         "x": [
          -13.88035938362524,
          -13.862864446562623
         ],
         "y": [
          -5.930339137052623,
          -4.948323816069961
         ]
        },
        {
         "hoverinfo": "none",
         "line": {
          "color": "#888",
          "width": 2.7921176984334677
         },
         "mode": "lines",
         "type": "scatter",
         "x": [
          -14.337115099508948,
          -13.862864446562623
         ],
         "y": [
          -5.589642377557384,
          -4.948323816069961
         ]
        },
        {
         "hoverinfo": "none",
         "line": {
          "color": "#888",
          "width": 3.265376284739778
         },
         "mode": "lines",
         "type": "scatter",
         "x": [
          -14.43856045774682,
          -13.862864446562623
         ],
         "y": [
          -5.340015312798051,
          -4.948323816069961
         ]
        },
        {
         "hoverinfo": "none",
         "line": {
          "color": "#888",
          "width": 1.1110581512755304
         },
         "mode": "lines",
         "type": "scatter",
         "x": [
          -14.817113325705948,
          -13.862864446562623
         ],
         "y": [
          -5.149943024367288,
          -4.948323816069961
         ]
        },
        {
         "hoverinfo": "none",
         "line": {
          "color": "#888",
          "width": 1.158520250127273
         },
         "mode": "lines",
         "type": "scatter",
         "x": [
          -14.419498108553507,
          -13.862864446562623
         ],
         "y": [
          -4.216353478321253,
          -4.948323816069961
         ]
        },
        {
         "hoverinfo": "none",
         "line": {
          "color": "#888",
          "width": 1.3336206764030232
         },
         "mode": "lines",
         "type": "scatter",
         "x": [
          -14.753566114591269,
          -13.862864446562623
         ],
         "y": [
          -5.638625502914219,
          -4.948323816069961
         ]
        },
        {
         "hoverinfo": "none",
         "line": {
          "color": "#888",
          "width": 1.2371831217988247
         },
         "mode": "lines",
         "type": "scatter",
         "x": [
          -14.475455276486759,
          -13.862864446562623
         ],
         "y": [
          -4.563713429774501,
          -4.948323816069961
         ]
        },
        {
         "hoverinfo": "none",
         "line": {
          "color": "#888",
          "width": 1.9884491520043113
         },
         "mode": "lines",
         "type": "scatter",
         "x": [
          -13.390218289739371,
          -13.862864446562623
         ],
         "y": [
          -5.733405128642964,
          -4.948323816069961
         ]
        },
        {
         "hoverinfo": "none",
         "line": {
          "color": "#888",
          "width": 1.1491570273075111
         },
         "mode": "lines",
         "type": "scatter",
         "x": [
          -13.273225990625084,
          -13.862864446562623
         ],
         "y": [
          -6.038017673214097,
          -4.948323816069961
         ]
        },
        {
         "hoverinfo": "none",
         "line": {
          "color": "#888",
          "width": 1.4791446582936123
         },
         "mode": "lines",
         "type": "scatter",
         "x": [
          -13.862864446562623,
          -13.675589562249908
         ],
         "y": [
          -4.948323816069961,
          -4.746623249059541
         ]
        },
        {
         "hoverinfo": "none",
         "line": {
          "color": "#888",
          "width": 2.846396028031555
         },
         "mode": "lines",
         "type": "scatter",
         "x": [
          -13.862864446562623,
          -13.595012385775345
         ],
         "y": [
          -4.948323816069961,
          -5.071548520780777
         ]
        },
        {
         "hoverinfo": "none",
         "line": {
          "color": "#888",
          "width": 1.280174730198176
         },
         "mode": "lines",
         "type": "scatter",
         "x": [
          -13.862864446562623,
          -13.193598012960688
         ],
         "y": [
          -4.948323816069961,
          -5.37815957036336
         ]
        },
        {
         "hoverinfo": "none",
         "line": {
          "color": "#888",
          "width": 1.6947150700585731
         },
         "mode": "lines",
         "type": "scatter",
         "x": [
          -13.862864446562623,
          -13.94653562468436
         ],
         "y": [
          -4.948323816069961,
          -5.670154951244973
         ]
        },
        {
         "hoverinfo": "none",
         "line": {
          "color": "#888",
          "width": 1.0018889806675997
         },
         "mode": "lines",
         "type": "scatter",
         "x": [
          -13.862864446562623,
          -12.970106380325237
         ],
         "y": [
          -4.948323816069961,
          -3.876404275601538
         ]
        },
        {
         "hoverinfo": "none",
         "line": {
          "color": "#888",
          "width": 1.1495563524753216
         },
         "mode": "lines",
         "type": "scatter",
         "x": [
          -13.862864446562623,
          -14.813549771834133
         ],
         "y": [
          -4.948323816069961,
          -4.598891617330923
         ]
        },
        {
         "hoverinfo": "none",
         "line": {
          "color": "#888",
          "width": 1.125722206490517
         },
         "mode": "lines",
         "type": "scatter",
         "x": [
          -13.875537710711491,
          -13.675589562249908
         ],
         "y": [
          -5.32928344518222,
          -4.746623249059541
         ]
        },
        {
         "hoverinfo": "none",
         "line": {
          "color": "#888",
          "width": 1.2420276032284574
         },
         "mode": "lines",
         "type": "scatter",
         "x": [
          -13.527157887205975,
          -13.675589562249908
         ],
         "y": [
          -5.464656038819423,
          -4.746623249059541
         ]
        },
        {
         "hoverinfo": "none",
         "line": {
          "color": "#888",
          "width": 1.0943983333337945
         },
         "mode": "lines",
         "type": "scatter",
         "x": [
          -14.362059659931681,
          -13.675589562249908
         ],
         "y": [
          -4.997657926517953,
          -4.746623249059541
         ]
        },
        {
         "hoverinfo": "none",
         "line": {
          "color": "#888",
          "width": 1.4715750407683883
         },
         "mode": "lines",
         "type": "scatter",
         "x": [
          -13.707209565894951,
          -13.675589562249908
         ],
         "y": [
          -5.531850608732078,
          -4.746623249059541
         ]
        },
        {
         "hoverinfo": "none",
         "line": {
          "color": "#888",
          "width": 1.2797654542636812
         },
         "mode": "lines",
         "type": "scatter",
         "x": [
          -14.371871984258576,
          -13.675589562249908
         ],
         "y": [
          -5.309789890205194,
          -4.746623249059541
         ]
        },
        {
         "hoverinfo": "none",
         "line": {
          "color": "#888",
          "width": 1.0882085589507369
         },
         "mode": "lines",
         "type": "scatter",
         "x": [
          -13.222042469817788,
          -13.675589562249908
         ],
         "y": [
          -5.142310599034572,
          -4.746623249059541
         ]
        },
        {
         "hoverinfo": "none",
         "line": {
          "color": "#888",
          "width": 1.420054194033269
         },
         "mode": "lines",
         "type": "scatter",
         "x": [
          -14.337115099508948,
          -13.675589562249908
         ],
         "y": [
          -5.589642377557384,
          -4.746623249059541
         ]
        },
        {
         "hoverinfo": "none",
         "line": {
          "color": "#888",
          "width": 1.2638409296305433
         },
         "mode": "lines",
         "type": "scatter",
         "x": [
          -14.43856045774682,
          -13.675589562249908
         ],
         "y": [
          -5.340015312798051,
          -4.746623249059541
         ]
        },
        {
         "hoverinfo": "none",
         "line": {
          "color": "#888",
          "width": 1.086429851750809
         },
         "mode": "lines",
         "type": "scatter",
         "x": [
          -14.753566114591269,
          -13.675589562249908
         ],
         "y": [
          -5.638625502914219,
          -4.746623249059541
         ]
        },
        {
         "hoverinfo": "none",
         "line": {
          "color": "#888",
          "width": 1.0994350344114456
         },
         "mode": "lines",
         "type": "scatter",
         "x": [
          -14.475455276486759,
          -13.675589562249908
         ],
         "y": [
          -4.563713429774501,
          -4.746623249059541
         ]
        },
        {
         "hoverinfo": "none",
         "line": {
          "color": "#888",
          "width": 1.4204921773882484
         },
         "mode": "lines",
         "type": "scatter",
         "x": [
          -13.390218289739371,
          -13.675589562249908
         ],
         "y": [
          -5.733405128642964,
          -4.746623249059541
         ]
        },
        {
         "hoverinfo": "none",
         "line": {
          "color": "#888",
          "width": 1.4791446582936123
         },
         "mode": "lines",
         "type": "scatter",
         "x": [
          -13.862864446562623,
          -13.675589562249908
         ],
         "y": [
          -4.948323816069961,
          -4.746623249059541
         ]
        },
        {
         "hoverinfo": "none",
         "line": {
          "color": "#888",
          "width": 1.1005697410928188
         },
         "mode": "lines",
         "type": "scatter",
         "x": [
          -12.358110398384234,
          -13.135557863345687
         ],
         "y": [
          2.7597529883141663,
          1.9936568055327668
         ]
        },
        {
         "hoverinfo": "none",
         "line": {
          "color": "#888",
          "width": 1.141494085803745
         },
         "mode": "lines",
         "type": "scatter",
         "x": [
          -12.416271014206234,
          -13.135557863345687
         ],
         "y": [
          2.0041417027951165,
          1.9936568055327668
         ]
        },
        {
         "hoverinfo": "none",
         "line": {
          "color": "#888",
          "width": 1.164958932558884
         },
         "mode": "lines",
         "type": "scatter",
         "x": [
          -13.259356029280449,
          -13.135557863345687
         ],
         "y": [
          2.7241682082273706,
          1.9936568055327668
         ]
        },
        {
         "hoverinfo": "none",
         "line": {
          "color": "#888",
          "width": 1.1256280676713315
         },
         "mode": "lines",
         "type": "scatter",
         "x": [
          -13.983004156084545,
          -13.135557863345687
         ],
         "y": [
          2.1780318587774894,
          1.9936568055327668
         ]
        },
        {
         "hoverinfo": "none",
         "line": {
          "color": "#888",
          "width": 1.6196872997136325
         },
         "mode": "lines",
         "type": "scatter",
         "x": [
          -14.362059659931681,
          -15.438938010325261
         ],
         "y": [
          -4.997657926517953,
          -4.675896407068778
         ]
        },
        {
         "hoverinfo": "none",
         "line": {
          "color": "#888",
          "width": 1.0164502373755715
         },
         "mode": "lines",
         "type": "scatter",
         "x": [
          -15.190594501558186,
          -15.438938010325261
         ],
         "y": [
          -4.907635561614265,
          -4.675896407068778
         ]
        },
        {
         "hoverinfo": "none",
         "line": {
          "color": "#888",
          "width": 1.0602471199975425
         },
         "mode": "lines",
         "type": "scatter",
         "x": [
          -16.060753847986447,
          -15.438938010325261
         ],
         "y": [
          -5.566587789910302,
          -4.675896407068778
         ]
        },
        {
         "hoverinfo": "none",
         "line": {
          "color": "#888",
          "width": 1.4560617117653787
         },
         "mode": "lines",
         "type": "scatter",
         "x": [
          -14.371871984258576,
          -15.438938010325261
         ],
         "y": [
          -5.309789890205194,
          -4.675896407068778
         ]
        },
        {
         "hoverinfo": "none",
         "line": {
          "color": "#888",
          "width": 1.438687743390058
         },
         "mode": "lines",
         "type": "scatter",
         "x": [
          -14.43856045774682,
          -15.438938010325261
         ],
         "y": [
          -5.340015312798051,
          -4.675896407068778
         ]
        },
        {
         "hoverinfo": "none",
         "line": {
          "color": "#888",
          "width": 1.6214786080697199
         },
         "mode": "lines",
         "type": "scatter",
         "x": [
          -15.28225172984896,
          -15.438938010325261
         ],
         "y": [
          -5.387738780527072,
          -4.675896407068778
         ]
        },
        {
         "hoverinfo": "none",
         "line": {
          "color": "#888",
          "width": 1.4856575845695517
         },
         "mode": "lines",
         "type": "scatter",
         "x": [
          -13.875537710711491,
          -13.595012385775345
         ],
         "y": [
          -5.32928344518222,
          -5.071548520780777
         ]
        },
        {
         "hoverinfo": "none",
         "line": {
          "color": "#888",
          "width": 1.295861474926493
         },
         "mode": "lines",
         "type": "scatter",
         "x": [
          -14.362059659931681,
          -13.595012385775345
         ],
         "y": [
          -4.997657926517953,
          -5.071548520780777
         ]
        },
        {
         "hoverinfo": "none",
         "line": {
          "color": "#888",
          "width": 2.0153679748019826
         },
         "mode": "lines",
         "type": "scatter",
         "x": [
          -13.707209565894951,
          -13.595012385775345
         ],
         "y": [
          -5.531850608732078,
          -5.071548520780777
         ]
        },
        {
         "hoverinfo": "none",
         "line": {
          "color": "#888",
          "width": 1.087335300402193
         },
         "mode": "lines",
         "type": "scatter",
         "x": [
          -13.488565177169946,
          -13.595012385775345
         ],
         "y": [
          -4.37128180082043,
          -5.071548520780777
         ]
        },
        {
         "hoverinfo": "none",
         "line": {
          "color": "#888",
          "width": 1.0852401352493468
         },
         "mode": "lines",
         "type": "scatter",
         "x": [
          -13.611430736159944,
          -13.595012385775345
         ],
         "y": [
          -5.876190550342591,
          -5.071548520780777
         ]
        },
        {
         "hoverinfo": "none",
         "line": {
          "color": "#888",
          "width": 1.9377941741220632
         },
         "mode": "lines",
         "type": "scatter",
         "x": [
          -14.371871984258576,
          -13.595012385775345
         ],
         "y": [
          -5.309789890205194,
          -5.071548520780777
         ]
        },
        {
         "hoverinfo": "none",
         "line": {
          "color": "#888",
          "width": 1.1573426694228401
         },
         "mode": "lines",
         "type": "scatter",
         "x": [
          -14.189771826738772,
          -13.595012385775345
         ],
         "y": [
          -5.87173038695074,
          -5.071548520780777
         ]
        },
        {
         "hoverinfo": "none",
         "line": {
          "color": "#888",
          "width": 1.0913043640973121
         },
         "mode": "lines",
         "type": "scatter",
         "x": [
          -13.222042469817788,
          -13.595012385775345
         ],
         "y": [
          -5.142310599034572,
          -5.071548520780777
         ]
        },
        {
         "hoverinfo": "none",
         "line": {
          "color": "#888",
          "width": 1.4371306234018377
         },
         "mode": "lines",
         "type": "scatter",
         "x": [
          -13.88035938362524,
          -13.595012385775345
         ],
         "y": [
          -5.930339137052623,
          -5.071548520780777
         ]
        },
        {
         "hoverinfo": "none",
         "line": {
          "color": "#888",
          "width": 1.7487037506264238
         },
         "mode": "lines",
         "type": "scatter",
         "x": [
          -14.337115099508948,
          -13.595012385775345
         ],
         "y": [
          -5.589642377557384,
          -5.071548520780777
         ]
        },
        {
         "hoverinfo": "none",
         "line": {
          "color": "#888",
          "width": 1.9833157453205779
         },
         "mode": "lines",
         "type": "scatter",
         "x": [
          -14.43856045774682,
          -13.595012385775345
         ],
         "y": [
          -5.340015312798051,
          -5.071548520780777
         ]
        },
        {
         "hoverinfo": "none",
         "line": {
          "color": "#888",
          "width": 1.1011584011383928
         },
         "mode": "lines",
         "type": "scatter",
         "x": [
          -14.753566114591269,
          -13.595012385775345
         ],
         "y": [
          -5.638625502914219,
          -5.071548520780777
         ]
        },
        {
         "hoverinfo": "none",
         "line": {
          "color": "#888",
          "width": 1.8511518866483965
         },
         "mode": "lines",
         "type": "scatter",
         "x": [
          -13.390218289739371,
          -13.595012385775345
         ],
         "y": [
          -5.733405128642964,
          -5.071548520780777
         ]
        },
        {
         "hoverinfo": "none",
         "line": {
          "color": "#888",
          "width": 2.846396028031555
         },
         "mode": "lines",
         "type": "scatter",
         "x": [
          -13.862864446562623,
          -13.595012385775345
         ],
         "y": [
          -4.948323816069961,
          -5.071548520780777
         ]
        },
        {
         "hoverinfo": "none",
         "line": {
          "color": "#888",
          "width": 1.0379621394129621
         },
         "mode": "lines",
         "type": "scatter",
         "x": [
          -13.595012385775345,
          -13.193598012960688
         ],
         "y": [
          -5.071548520780777,
          -5.37815957036336
         ]
        },
        {
         "hoverinfo": "none",
         "line": {
          "color": "#888",
          "width": 1.3936006338251459
         },
         "mode": "lines",
         "type": "scatter",
         "x": [
          -13.595012385775345,
          -13.94653562468436
         ],
         "y": [
          -5.071548520780777,
          -5.670154951244973
         ]
        },
        {
         "hoverinfo": "none",
         "line": {
          "color": "#888",
          "width": 1.1046334590206233
         },
         "mode": "lines",
         "type": "scatter",
         "x": [
          -16.247519470395954,
          -16.98941606596727
         ],
         "y": [
          2.697920918097788,
          2.7278720592525088
         ]
        },
        {
         "hoverinfo": "none",
         "line": {
          "color": "#888",
          "width": 1.1894481478399692
         },
         "mode": "lines",
         "type": "scatter",
         "x": [
          -16.275597595647916,
          -16.98941606596727
         ],
         "y": [
          3.472963276886355,
          2.7278720592525088
         ]
        },
        {
         "hoverinfo": "none",
         "line": {
          "color": "#888",
          "width": 1.033928888143376
         },
         "mode": "lines",
         "type": "scatter",
         "x": [
          -17.051515082605246,
          -16.98941606596727
         ],
         "y": [
          3.462596947966528,
          2.7278720592525088
         ]
        },
        {
         "hoverinfo": "none",
         "line": {
          "color": "#888",
          "width": 1.0953804566139196
         },
         "mode": "lines",
         "type": "scatter",
         "x": [
          -14.121106121702685,
          -14.531892159066423
         ],
         "y": [
          -7.567300842448139,
          -8.539402461952823
         ]
        },
        {
         "hoverinfo": "none",
         "line": {
          "color": "#888",
          "width": 1.1077490252860276
         },
         "mode": "lines",
         "type": "scatter",
         "x": [
          -14.84114221746566,
          -14.531892159066423
         ],
         "y": [
          -9.212565350306901,
          -8.539402461952823
         ]
        },
        {
         "hoverinfo": "none",
         "line": {
          "color": "#888",
          "width": 1.003400308949595
         },
         "mode": "lines",
         "type": "scatter",
         "x": [
          -14.531892159066423,
          -15.673912440502377
         ],
         "y": [
          -8.539402461952823,
          -8.904033643593513
         ]
        },
        {
         "hoverinfo": "none",
         "line": {
          "color": "#888",
          "width": 1.0245518414506591
         },
         "mode": "lines",
         "type": "scatter",
         "x": [
          -10.473368711807028,
          -10.054236951931182
         ],
         "y": [
          1.9014101903728275,
          2.6567307450672972
         ]
        },
        {
         "hoverinfo": "none",
         "line": {
          "color": "#888",
          "width": 1.037404716365907
         },
         "mode": "lines",
         "type": "scatter",
         "x": [
          -7.046474158106071,
          -7.3629914688211375
         ],
         "y": [
          -4.635376105040488,
          -5.474202923270306
         ]
        },
        {
         "hoverinfo": "none",
         "line": {
          "color": "#888",
          "width": 1.0180766611920444
         },
         "mode": "lines",
         "type": "scatter",
         "x": [
          -12.241731349316966,
          -11.494231615078888
         ],
         "y": [
          -4.133770859505214,
          -3.427102566484568
         ]
        },
        {
         "hoverinfo": "none",
         "line": {
          "color": "#888",
          "width": 1.9203746711802538
         },
         "mode": "lines",
         "type": "scatter",
         "x": [
          -13.875537710711491,
          -13.193598012960688
         ],
         "y": [
          -5.32928344518222,
          -5.37815957036336
         ]
        },
        {
         "hoverinfo": "none",
         "line": {
          "color": "#888",
          "width": 1.3615631482798145
         },
         "mode": "lines",
         "type": "scatter",
         "x": [
          -13.611430736159944,
          -13.193598012960688
         ],
         "y": [
          -5.876190550342591,
          -5.37815957036336
         ]
        },
        {
         "hoverinfo": "none",
         "line": {
          "color": "#888",
          "width": 1.3973979854360747
         },
         "mode": "lines",
         "type": "scatter",
         "x": [
          -14.371871984258576,
          -13.193598012960688
         ],
         "y": [
          -5.309789890205194,
          -5.37815957036336
         ]
        },
        {
         "hoverinfo": "none",
         "line": {
          "color": "#888",
          "width": 1.0436904503602946
         },
         "mode": "lines",
         "type": "scatter",
         "x": [
          -14.189771826738772,
          -13.193598012960688
         ],
         "y": [
          -5.87173038695074,
          -5.37815957036336
         ]
        },
        {
         "hoverinfo": "none",
         "line": {
          "color": "#888",
          "width": 1.6273683924272078
         },
         "mode": "lines",
         "type": "scatter",
         "x": [
          -13.222042469817788,
          -13.193598012960688
         ],
         "y": [
          -5.142310599034572,
          -5.37815957036336
         ]
        },
        {
         "hoverinfo": "none",
         "line": {
          "color": "#888",
          "width": 1.3812304868980876
         },
         "mode": "lines",
         "type": "scatter",
         "x": [
          -14.43856045774682,
          -13.193598012960688
         ],
         "y": [
          -5.340015312798051,
          -5.37815957036336
         ]
        },
        {
         "hoverinfo": "none",
         "line": {
          "color": "#888",
          "width": 1.2067091142521453
         },
         "mode": "lines",
         "type": "scatter",
         "x": [
          -12.033468151975097,
          -13.193598012960688
         ],
         "y": [
          -5.1083541514665365,
          -5.37815957036336
         ]
        },
        {
         "hoverinfo": "none",
         "line": {
          "color": "#888",
          "width": 1.3907664816518606
         },
         "mode": "lines",
         "type": "scatter",
         "x": [
          -12.518872512671223,
          -13.193598012960688
         ],
         "y": [
          -4.636006372940541,
          -5.37815957036336
         ]
        },
        {
         "hoverinfo": "none",
         "line": {
          "color": "#888",
          "width": 1.4541960121198971
         },
         "mode": "lines",
         "type": "scatter",
         "x": [
          -13.390218289739371,
          -13.193598012960688
         ],
         "y": [
          -5.733405128642964,
          -5.37815957036336
         ]
        },
        {
         "hoverinfo": "none",
         "line": {
          "color": "#888",
          "width": 1.280174730198176
         },
         "mode": "lines",
         "type": "scatter",
         "x": [
          -13.862864446562623,
          -13.193598012960688
         ],
         "y": [
          -4.948323816069961,
          -5.37815957036336
         ]
        },
        {
         "hoverinfo": "none",
         "line": {
          "color": "#888",
          "width": 1.0379621394129621
         },
         "mode": "lines",
         "type": "scatter",
         "x": [
          -13.595012385775345,
          -13.193598012960688
         ],
         "y": [
          -5.071548520780777,
          -5.37815957036336
         ]
        },
        {
         "hoverinfo": "none",
         "line": {
          "color": "#888",
          "width": 1.2656924913973984
         },
         "mode": "lines",
         "type": "scatter",
         "x": [
          -13.193598012960688,
          -13.94653562468436
         ],
         "y": [
          -5.37815957036336,
          -5.670154951244973
         ]
        },
        {
         "hoverinfo": "none",
         "line": {
          "color": "#888",
          "width": 1.00190217130656
         },
         "mode": "lines",
         "type": "scatter",
         "x": [
          -13.193598012960688,
          -12.761106201381423
         ],
         "y": [
          -5.37815957036336,
          -6.052174784794521
         ]
        },
        {
         "hoverinfo": "none",
         "line": {
          "color": "#888",
          "width": 1.0791758042523893
         },
         "mode": "lines",
         "type": "scatter",
         "x": [
          -14.220471909568893,
          -14.500335134000432
         ],
         "y": [
          -6.888856057905963,
          -8.017373646677502
         ]
        },
        {
         "hoverinfo": "none",
         "line": {
          "color": "#888",
          "width": 1.109759620016767
         },
         "mode": "lines",
         "type": "scatter",
         "x": [
          -13.981029096872376,
          -14.500335134000432
         ],
         "y": [
          -6.832951899584617,
          -8.017373646677502
         ]
        },
        {
         "hoverinfo": "none",
         "line": {
          "color": "#888",
          "width": 1.0079553659585874
         },
         "mode": "lines",
         "type": "scatter",
         "x": [
          -10.246141118738755,
          -10.999768893206758
         ],
         "y": [
          -6.852809272545492,
          -6.375222374074013
         ]
        },
        {
         "hoverinfo": "none",
         "line": {
          "color": "#888",
          "width": 1.0883751627417442
         },
         "mode": "lines",
         "type": "scatter",
         "x": [
          -20.812533398291034,
          -20.865522260525488
         ],
         "y": [
          -4.1344958309908195,
          -3.2385614430233933
         ]
        },
        {
         "hoverinfo": "none",
         "line": {
          "color": "#888",
          "width": 1.2458909163736462
         },
         "mode": "lines",
         "type": "scatter",
         "x": [
          -14.84114221746566,
          -15.673912440502377
         ],
         "y": [
          -9.212565350306901,
          -8.904033643593513
         ]
        },
        {
         "hoverinfo": "none",
         "line": {
          "color": "#888",
          "width": 1.003400308949595
         },
         "mode": "lines",
         "type": "scatter",
         "x": [
          -14.531892159066423,
          -15.673912440502377
         ],
         "y": [
          -8.539402461952823,
          -8.904033643593513
         ]
        },
        {
         "hoverinfo": "none",
         "line": {
          "color": "#888",
          "width": 1.0991598353620051
         },
         "mode": "lines",
         "type": "scatter",
         "x": [
          -11.632134763637355,
          -10.858252560086285
         ],
         "y": [
          2.4731819549983896,
          2.9443056051994283
         ]
        },
        {
         "hoverinfo": "none",
         "line": {
          "color": "#888",
          "width": 1.2312097071671984
         },
         "mode": "lines",
         "type": "scatter",
         "x": [
          -16.853929849925986,
          -17.694988821261077
         ],
         "y": [
          -5.206796894862642,
          -4.479264697716163
         ]
        },
        {
         "hoverinfo": "none",
         "line": {
          "color": "#888",
          "width": 1.0390282193040616
         },
         "mode": "lines",
         "type": "scatter",
         "x": [
          -17.694988821261077,
          -17.866002807707734
         ],
         "y": [
          -4.479264697716163,
          -5.100824687457911
         ]
        },
        {
         "hoverinfo": "none",
         "line": {
          "color": "#888",
          "width": 1.0101562757158438
         },
         "mode": "lines",
         "type": "scatter",
         "x": [
          -16.971928943219055,
          -17.53685282493772
         ],
         "y": [
          -3.2598539629849386,
          -4.063257079581255
         ]
        },
        {
         "hoverinfo": "none",
         "line": {
          "color": "#888",
          "width": 1.2061507937740665
         },
         "mode": "lines",
         "type": "scatter",
         "x": [
          -16.785895922940433,
          -17.53685282493772
         ],
         "y": [
          -4.840032384087389,
          -4.063257079581255
         ]
        },
        {
         "hoverinfo": "none",
         "line": {
          "color": "#888",
          "width": 1.2012258368689315
         },
         "mode": "lines",
         "type": "scatter",
         "x": [
          -10.375425299204139,
          -11.368386546885946
         ],
         "y": [
          -5.048295447133072,
          -4.868046072043308
         ]
        },
        {
         "hoverinfo": "none",
         "line": {
          "color": "#888",
          "width": 1.2116987039885405
         },
         "mode": "lines",
         "type": "scatter",
         "x": [
          -12.71233501434269,
          -11.368386546885946
         ],
         "y": [
          -4.7303986275351155,
          -4.868046072043308
         ]
        },
        {
         "hoverinfo": "none",
         "line": {
          "color": "#888",
          "width": 1.037404716365907
         },
         "mode": "lines",
         "type": "scatter",
         "x": [
          -7.046474158106071,
          -7.3629914688211375
         ],
         "y": [
          -4.635376105040488,
          -5.474202923270306
         ]
        },
        {
         "hoverinfo": "none",
         "line": {
          "color": "#888",
          "width": 1.8380743319748538
         },
         "mode": "lines",
         "type": "scatter",
         "x": [
          -13.875537710711491,
          -13.94653562468436
         ],
         "y": [
          -5.32928344518222,
          -5.670154951244973
         ]
        },
        {
         "hoverinfo": "none",
         "line": {
          "color": "#888",
          "width": 1.3210428627216877
         },
         "mode": "lines",
         "type": "scatter",
         "x": [
          -13.527157887205975,
          -13.94653562468436
         ],
         "y": [
          -5.464656038819423,
          -5.670154951244973
         ]
        },
        {
         "hoverinfo": "none",
         "line": {
          "color": "#888",
          "width": 1.1099042947056785
         },
         "mode": "lines",
         "type": "scatter",
         "x": [
          -14.362059659931681,
          -13.94653562468436
         ],
         "y": [
          -4.997657926517953,
          -5.670154951244973
         ]
        },
        {
         "hoverinfo": "none",
         "line": {
          "color": "#888",
          "width": 1.5885974793911686
         },
         "mode": "lines",
         "type": "scatter",
         "x": [
          -13.707209565894951,
          -13.94653562468436
         ],
         "y": [
          -5.531850608732078,
          -5.670154951244973
         ]
        },
        {
         "hoverinfo": "none",
         "line": {
          "color": "#888",
          "width": 1.214072670173321
         },
         "mode": "lines",
         "type": "scatter",
         "x": [
          -14.47810030254798,
          -13.94653562468436
         ],
         "y": [
          -6.400656932273691,
          -5.670154951244973
         ]
        },
        {
         "hoverinfo": "none",
         "line": {
          "color": "#888",
          "width": 1.1071821399859498
         },
         "mode": "lines",
         "type": "scatter",
         "x": [
          -12.635773186908066,
          -13.94653562468436
         ],
         "y": [
          -5.155684006072663,
          -5.670154951244973
         ]
        },
        {
         "hoverinfo": "none",
         "line": {
          "color": "#888",
          "width": 1.1489777860747632
         },
         "mode": "lines",
         "type": "scatter",
         "x": [
          -14.790576922423055,
          -13.94653562468436
         ],
         "y": [
          -5.938131240021356,
          -5.670154951244973
         ]
        },
        {
         "hoverinfo": "none",
         "line": {
          "color": "#888",
          "width": 1.88146236894806
         },
         "mode": "lines",
         "type": "scatter",
         "x": [
          -13.611430736159944,
          -13.94653562468436
         ],
         "y": [
          -5.876190550342591,
          -5.670154951244973
         ]
        },
        {
         "hoverinfo": "none",
         "line": {
          "color": "#888",
          "width": 1.0867502706949521
         },
         "mode": "lines",
         "type": "scatter",
         "x": [
          -13.787919497620946,
          -13.94653562468436
         ],
         "y": [
          -4.43010290727313,
          -5.670154951244973
         ]
        },
        {
         "hoverinfo": "none",
         "line": {
          "color": "#888",
          "width": 2.907335717315135
         },
         "mode": "lines",
         "type": "scatter",
         "x": [
          -14.371871984258576,
          -13.94653562468436
         ],
         "y": [
          -5.309789890205194,
          -5.670154951244973
         ]
        },
        {
         "hoverinfo": "none",
         "line": {
          "color": "#888",
          "width": 1.3594148605638678
         },
         "mode": "lines",
         "type": "scatter",
         "x": [
          -14.189771826738772,
          -13.94653562468436
         ],
         "y": [
          -5.87173038695074,
          -5.670154951244973
         ]
        },
        {
         "hoverinfo": "none",
         "line": {
          "color": "#888",
          "width": 1.0534466711766322
         },
         "mode": "lines",
         "type": "scatter",
         "x": [
          -15.150173669132453,
          -13.94653562468436
         ],
         "y": [
          -5.634570573180639,
          -5.670154951244973
         ]
        },
        {
         "hoverinfo": "none",
         "line": {
          "color": "#888",
          "width": 1.0247511735071613
         },
         "mode": "lines",
         "type": "scatter",
         "x": [
          -13.222042469817788,
          -13.94653562468436
         ],
         "y": [
          -5.142310599034572,
          -5.670154951244973
         ]
        },
        {
         "hoverinfo": "none",
         "line": {
          "color": "#888",
          "width": 1.4523772699679673
         },
         "mode": "lines",
         "type": "scatter",
         "x": [
          -13.88035938362524,
          -13.94653562468436
         ],
         "y": [
          -5.930339137052623,
          -5.670154951244973
         ]
        },
        {
         "hoverinfo": "none",
         "line": {
          "color": "#888",
          "width": 1.7087654595076642
         },
         "mode": "lines",
         "type": "scatter",
         "x": [
          -14.337115099508948,
          -13.94653562468436
         ],
         "y": [
          -5.589642377557384,
          -5.670154951244973
         ]
        },
        {
         "hoverinfo": "none",
         "line": {
          "color": "#888",
          "width": 3.1927690423116966
         },
         "mode": "lines",
         "type": "scatter",
         "x": [
          -14.43856045774682,
          -13.94653562468436
         ],
         "y": [
          -5.340015312798051,
          -5.670154951244973
         ]
        },
        {
         "hoverinfo": "none",
         "line": {
          "color": "#888",
          "width": 1.2182606704755221
         },
         "mode": "lines",
         "type": "scatter",
         "x": [
          -14.616955577935325,
          -13.94653562468436
         ],
         "y": [
          -6.93972065520944,
          -5.670154951244973
         ]
        },
        {
         "hoverinfo": "none",
         "line": {
          "color": "#888",
          "width": 1.0398802290374018
         },
         "mode": "lines",
         "type": "scatter",
         "x": [
          -12.71233501434269,
          -13.94653562468436
         ],
         "y": [
          -4.7303986275351155,
          -5.670154951244973
         ]
        },
        {
         "hoverinfo": "none",
         "line": {
          "color": "#888",
          "width": 1.1765150063895184
         },
         "mode": "lines",
         "type": "scatter",
         "x": [
          -15.24633057040751,
          -13.94653562468436
         ],
         "y": [
          -5.916024529055278,
          -5.670154951244973
         ]
        },
        {
         "hoverinfo": "none",
         "line": {
          "color": "#888",
          "width": 1.0674512939533738
         },
         "mode": "lines",
         "type": "scatter",
         "x": [
          -14.899682882110234,
          -13.94653562468436
         ],
         "y": [
          -7.017099143443842,
          -5.670154951244973
         ]
        },
        {
         "hoverinfo": "none",
         "line": {
          "color": "#888",
          "width": 1.0661448204254618
         },
         "mode": "lines",
         "type": "scatter",
         "x": [
          -14.094060124693677,
          -13.94653562468436
         ],
         "y": [
          -5.024824129450616,
          -5.670154951244973
         ]
        },
        {
         "hoverinfo": "none",
         "line": {
          "color": "#888",
          "width": 1.256441085017973
         },
         "mode": "lines",
         "type": "scatter",
         "x": [
          -13.390218289739371,
          -13.94653562468436
         ],
         "y": [
          -5.733405128642964,
          -5.670154951244973
         ]
        },
        {
         "hoverinfo": "none",
         "line": {
          "color": "#888",
          "width": 1.5190640300325973
         },
         "mode": "lines",
         "type": "scatter",
         "x": [
          -13.273225990625084,
          -13.94653562468436
         ],
         "y": [
          -6.038017673214097,
          -5.670154951244973
         ]
        },
        {
         "hoverinfo": "none",
         "line": {
          "color": "#888",
          "width": 1.353755754295898
         },
         "mode": "lines",
         "type": "scatter",
         "x": [
          -14.534578693420821,
          -13.94653562468436
         ],
         "y": [
          -5.867735650205169,
          -5.670154951244973
         ]
        },
        {
         "hoverinfo": "none",
         "line": {
          "color": "#888",
          "width": 1.6947150700585731
         },
         "mode": "lines",
         "type": "scatter",
         "x": [
          -13.862864446562623,
          -13.94653562468436
         ],
         "y": [
          -4.948323816069961,
          -5.670154951244973
         ]
        },
        {
         "hoverinfo": "none",
         "line": {
          "color": "#888",
          "width": 1.3936006338251459
         },
         "mode": "lines",
         "type": "scatter",
         "x": [
          -13.595012385775345,
          -13.94653562468436
         ],
         "y": [
          -5.071548520780777,
          -5.670154951244973
         ]
        },
        {
         "hoverinfo": "none",
         "line": {
          "color": "#888",
          "width": 1.2656924913973984
         },
         "mode": "lines",
         "type": "scatter",
         "x": [
          -13.193598012960688,
          -13.94653562468436
         ],
         "y": [
          -5.37815957036336,
          -5.670154951244973
         ]
        },
        {
         "hoverinfo": "none",
         "line": {
          "color": "#888",
          "width": 1.3270704938366504
         },
         "mode": "lines",
         "type": "scatter",
         "x": [
          -13.94653562468436,
          -14.914940275618951
         ],
         "y": [
          -5.670154951244973,
          -4.9158561143212465
         ]
        },
        {
         "hoverinfo": "none",
         "line": {
          "color": "#888",
          "width": 1.2841756270730427
         },
         "mode": "lines",
         "type": "scatter",
         "x": [
          -15.031880911245818,
          -15.497439241197572
         ],
         "y": [
          -6.838172886473517,
          -5.806596942822509
         ]
        },
        {
         "hoverinfo": "none",
         "line": {
          "color": "#888",
          "width": 1.3032063597556576
         },
         "mode": "lines",
         "type": "scatter",
         "x": [
          -14.645765529985793,
          -15.497439241197572
         ],
         "y": [
          -6.201254807051291,
          -5.806596942822509
         ]
        },
        {
         "hoverinfo": "none",
         "line": {
          "color": "#888",
          "width": 1.4338591409924732
         },
         "mode": "lines",
         "type": "scatter",
         "x": [
          -14.371871984258576,
          -15.497439241197572
         ],
         "y": [
          -5.309789890205194,
          -5.806596942822509
         ]
        },
        {
         "hoverinfo": "none",
         "line": {
          "color": "#888",
          "width": 1.1258718759742317
         },
         "mode": "lines",
         "type": "scatter",
         "x": [
          -15.06299985540851,
          -15.497439241197572
         ],
         "y": [
          -6.295317665169309,
          -5.806596942822509
         ]
        },
        {
         "hoverinfo": "none",
         "line": {
          "color": "#888",
          "width": 1.2102107003567921
         },
         "mode": "lines",
         "type": "scatter",
         "x": [
          -14.189771826738772,
          -15.497439241197572
         ],
         "y": [
          -5.87173038695074,
          -5.806596942822509
         ]
        },
        {
         "hoverinfo": "none",
         "line": {
          "color": "#888",
          "width": 1.4190282225804427
         },
         "mode": "lines",
         "type": "scatter",
         "x": [
          -14.43856045774682,
          -15.497439241197572
         ],
         "y": [
          -5.340015312798051,
          -5.806596942822509
         ]
        },
        {
         "hoverinfo": "none",
         "line": {
          "color": "#888",
          "width": 1.047565162276737
         },
         "mode": "lines",
         "type": "scatter",
         "x": [
          -15.630598463545166,
          -15.497439241197572
         ],
         "y": [
          -5.151451315824695,
          -5.806596942822509
         ]
        },
        {
         "hoverinfo": "none",
         "line": {
          "color": "#888",
          "width": 1.0058964092324805
         },
         "mode": "lines",
         "type": "scatter",
         "x": [
          -14.817113325705948,
          -15.497439241197572
         ],
         "y": [
          -5.149943024367288,
          -5.806596942822509
         ]
        },
        {
         "hoverinfo": "none",
         "line": {
          "color": "#888",
          "width": 1.352459951505115
         },
         "mode": "lines",
         "type": "scatter",
         "x": [
          -15.41477323554502,
          -15.497439241197572
         ],
         "y": [
          -6.0598151704403165,
          -5.806596942822509
         ]
        },
        {
         "hoverinfo": "none",
         "line": {
          "color": "#888",
          "width": 1.004178189054917
         },
         "mode": "lines",
         "type": "scatter",
         "x": [
          -16.71299347461052,
          -15.497439241197572
         ],
         "y": [
          -5.590205519431617,
          -5.806596942822509
         ]
        },
        {
         "hoverinfo": "none",
         "line": {
          "color": "#888",
          "width": 1.1205473960343013
         },
         "mode": "lines",
         "type": "scatter",
         "x": [
          -15.264536165409725,
          -15.497439241197572
         ],
         "y": [
          -6.329600572063244,
          -5.806596942822509
         ]
        },
        {
         "hoverinfo": "none",
         "line": {
          "color": "#888",
          "width": 1.0031936006915716
         },
         "mode": "lines",
         "type": "scatter",
         "x": [
          -16.660753934328383,
          -15.497439241197572
         ],
         "y": [
          -6.138199857768167,
          -5.806596942822509
         ]
        },
        {
         "hoverinfo": "none",
         "line": {
          "color": "#888",
          "width": 1.0632125341034118
         },
         "mode": "lines",
         "type": "scatter",
         "x": [
          -14.534578693420821,
          -15.497439241197572
         ],
         "y": [
          -5.867735650205169,
          -5.806596942822509
         ]
        },
        {
         "hoverinfo": "none",
         "line": {
          "color": "#888",
          "width": 1.1856153212912333
         },
         "mode": "lines",
         "type": "scatter",
         "x": [
          -15.497439241197572,
          -14.61875612341671
         ],
         "y": [
          -5.806596942822509,
          -6.457956231183889
         ]
        },
        {
         "hoverinfo": "none",
         "line": {
          "color": "#888",
          "width": 1.1462998844642627
         },
         "mode": "lines",
         "type": "scatter",
         "x": [
          -14.609022694834321,
          -14.712868500732165
         ],
         "y": [
          -2.900222090616298,
          -1.9055694080867251
         ]
        },
        {
         "hoverinfo": "none",
         "line": {
          "color": "#888",
          "width": 1.062697577792586
         },
         "mode": "lines",
         "type": "scatter",
         "x": [
          -15.43199205428211,
          -14.712868500732165
         ],
         "y": [
          -2.12035182822722,
          -1.9055694080867251
         ]
        },
        {
         "hoverinfo": "none",
         "line": {
          "color": "#888",
          "width": 1.0018889806675997
         },
         "mode": "lines",
         "type": "scatter",
         "x": [
          -13.862864446562623,
          -12.970106380325237
         ],
         "y": [
          -4.948323816069961,
          -3.876404275601538
         ]
        },
        {
         "hoverinfo": "none",
         "line": {
          "color": "#888",
          "width": 1.3857138204432617
         },
         "mode": "lines",
         "type": "scatter",
         "x": [
          -14.362059659931681,
          -14.914940275618951
         ],
         "y": [
          -4.997657926517953,
          -4.9158561143212465
         ]
        },
        {
         "hoverinfo": "none",
         "line": {
          "color": "#888",
          "width": 1.9541320687366572
         },
         "mode": "lines",
         "type": "scatter",
         "x": [
          -14.371871984258576,
          -14.914940275618951
         ],
         "y": [
          -5.309789890205194,
          -4.9158561143212465
         ]
        },
        {
         "hoverinfo": "none",
         "line": {
          "color": "#888",
          "width": 1.1313400880463478
         },
         "mode": "lines",
         "type": "scatter",
         "x": [
          -15.717211012483808,
          -14.914940275618951
         ],
         "y": [
          -5.367590516567743,
          -4.9158561143212465
         ]
        },
        {
         "hoverinfo": "none",
         "line": {
          "color": "#888",
          "width": 1.5110825476412013
         },
         "mode": "lines",
         "type": "scatter",
         "x": [
          -15.150173669132453,
          -14.914940275618951
         ],
         "y": [
          -5.634570573180639,
          -4.9158561143212465
         ]
        },
        {
         "hoverinfo": "none",
         "line": {
          "color": "#888",
          "width": 1.0167985173673035
         },
         "mode": "lines",
         "type": "scatter",
         "x": [
          -13.88035938362524,
          -14.914940275618951
         ],
         "y": [
          -5.930339137052623,
          -4.9158561143212465
         ]
        },
        {
         "hoverinfo": "none",
         "line": {
          "color": "#888",
          "width": 2.2726446736519508
         },
         "mode": "lines",
         "type": "scatter",
         "x": [
          -14.43856045774682,
          -14.914940275618951
         ],
         "y": [
          -5.340015312798051,
          -4.9158561143212465
         ]
        },
        {
         "hoverinfo": "none",
         "line": {
          "color": "#888",
          "width": 1.1089316483860638
         },
         "mode": "lines",
         "type": "scatter",
         "x": [
          -13.929962859924492,
          -14.914940275618951
         ],
         "y": [
          -4.657229596896204,
          -4.9158561143212465
         ]
        },
        {
         "hoverinfo": "none",
         "line": {
          "color": "#888",
          "width": 1.2951378385510615
         },
         "mode": "lines",
         "type": "scatter",
         "x": [
          -14.534578693420821,
          -14.914940275618951
         ],
         "y": [
          -5.867735650205169,
          -4.9158561143212465
         ]
        },
        {
         "hoverinfo": "none",
         "line": {
          "color": "#888",
          "width": 1.3270704938366504
         },
         "mode": "lines",
         "type": "scatter",
         "x": [
          -13.94653562468436,
          -14.914940275618951
         ],
         "y": [
          -5.670154951244973,
          -4.9158561143212465
         ]
        },
        {
         "hoverinfo": "none",
         "line": {
          "color": "#888",
          "width": 1.0312463278416266
         },
         "mode": "lines",
         "type": "scatter",
         "x": [
          -11.985612255044712,
          -10.999768893206758
         ],
         "y": [
          -6.083157751531359,
          -6.375222374074013
         ]
        },
        {
         "hoverinfo": "none",
         "line": {
          "color": "#888",
          "width": 1.0079553659585874
         },
         "mode": "lines",
         "type": "scatter",
         "x": [
          -10.246141118738755,
          -10.999768893206758
         ],
         "y": [
          -6.852809272545492,
          -6.375222374074013
         ]
        },
        {
         "hoverinfo": "none",
         "line": {
          "color": "#888",
          "width": 1.0867528801867548
         },
         "mode": "lines",
         "type": "scatter",
         "x": [
          -10.999768893206758,
          -10.067557913534891
         ],
         "y": [
          -6.375222374074013,
          -6.01143745957482
         ]
        },
        {
         "hoverinfo": "none",
         "line": {
          "color": "#888",
          "width": 1.0948792638072153
         },
         "mode": "lines",
         "type": "scatter",
         "x": [
          -13.611430736159944,
          -12.670155574037661
         ],
         "y": [
          -5.876190550342591,
          -6.560713072991087
         ]
        },
        {
         "hoverinfo": "none",
         "line": {
          "color": "#888",
          "width": 1.078982649507148
         },
         "mode": "lines",
         "type": "scatter",
         "x": [
          -13.770553405879493,
          -12.670155574037661
         ],
         "y": [
          -6.979374153748573,
          -6.560713072991087
         ]
        },
        {
         "hoverinfo": "none",
         "line": {
          "color": "#888",
          "width": 1.075865858397991
         },
         "mode": "lines",
         "type": "scatter",
         "x": [
          -12.670155574037661,
          -12.885570200590106
         ],
         "y": [
          -6.560713072991087,
          -7.21902777395607
         ]
        },
        {
         "hoverinfo": "none",
         "line": {
          "color": "#888",
          "width": 1.165453709031058
         },
         "mode": "lines",
         "type": "scatter",
         "x": [
          -16.853929849925986,
          -17.866002807707734
         ],
         "y": [
          -5.206796894862642,
          -5.100824687457911
         ]
        },
        {
         "hoverinfo": "none",
         "line": {
          "color": "#888",
          "width": 1.0390282193040616
         },
         "mode": "lines",
         "type": "scatter",
         "x": [
          -17.694988821261077,
          -17.866002807707734
         ],
         "y": [
          -4.479264697716163,
          -5.100824687457911
         ]
        },
        {
         "hoverinfo": "none",
         "line": {
          "color": "#888",
          "width": 1.1164940239974934
         },
         "mode": "lines",
         "type": "scatter",
         "x": [
          -13.24315673940496,
          -12.885570200590106
         ],
         "y": [
          -6.689195662075548,
          -7.21902777395607
         ]
        },
        {
         "hoverinfo": "none",
         "line": {
          "color": "#888",
          "width": 1.2447500216097875
         },
         "mode": "lines",
         "type": "scatter",
         "x": [
          -13.770553405879493,
          -12.885570200590106
         ],
         "y": [
          -6.979374153748573,
          -7.21902777395607
         ]
        },
        {
         "hoverinfo": "none",
         "line": {
          "color": "#888",
          "width": 1.239663977993973
         },
         "mode": "lines",
         "type": "scatter",
         "x": [
          -12.615706303724961,
          -12.885570200590106
         ],
         "y": [
          -6.909290102969761,
          -7.21902777395607
         ]
        },
        {
         "hoverinfo": "none",
         "line": {
          "color": "#888",
          "width": 1.2038286935424476
         },
         "mode": "lines",
         "type": "scatter",
         "x": [
          -13.273225990625084,
          -12.885570200590106
         ],
         "y": [
          -6.038017673214097,
          -7.21902777395607
         ]
        },
        {
         "hoverinfo": "none",
         "line": {
          "color": "#888",
          "width": 1.075865858397991
         },
         "mode": "lines",
         "type": "scatter",
         "x": [
          -12.670155574037661,
          -12.885570200590106
         ],
         "y": [
          -6.560713072991087,
          -7.21902777395607
         ]
        },
        {
         "hoverinfo": "none",
         "line": {
          "color": "#888",
          "width": 1.1269710207281634
         },
         "mode": "lines",
         "type": "scatter",
         "x": [
          -15.031880911245818,
          -15.013124154598115
         ],
         "y": [
          -6.838172886473517,
          -5.529484149368032
         ]
        },
        {
         "hoverinfo": "none",
         "line": {
          "color": "#888",
          "width": 1.1172234268593138
         },
         "mode": "lines",
         "type": "scatter",
         "x": [
          -14.645765529985793,
          -15.013124154598115
         ],
         "y": [
          -6.201254807051291,
          -5.529484149368032
         ]
        },
        {
         "hoverinfo": "none",
         "line": {
          "color": "#888",
          "width": 1.0169021877525928
         },
         "mode": "lines",
         "type": "scatter",
         "x": [
          -13.787919497620946,
          -15.013124154598115
         ],
         "y": [
          -4.43010290727313,
          -5.529484149368032
         ]
        },
        {
         "hoverinfo": "none",
         "line": {
          "color": "#888",
          "width": 1.7395038261794245
         },
         "mode": "lines",
         "type": "scatter",
         "x": [
          -14.371871984258576,
          -15.013124154598115
         ],
         "y": [
          -5.309789890205194,
          -5.529484149368032
         ]
        },
        {
         "hoverinfo": "none",
         "line": {
          "color": "#888",
          "width": 1.4722270411545835
         },
         "mode": "lines",
         "type": "scatter",
         "x": [
          -15.06299985540851,
          -15.013124154598115
         ],
         "y": [
          -6.295317665169309,
          -5.529484149368032
         ]
        },
        {
         "hoverinfo": "none",
         "line": {
          "color": "#888",
          "width": 1.5906730894489571
         },
         "mode": "lines",
         "type": "scatter",
         "x": [
          -14.189771826738772,
          -15.013124154598115
         ],
         "y": [
          -5.87173038695074,
          -5.529484149368032
         ]
        },
        {
         "hoverinfo": "none",
         "line": {
          "color": "#888",
          "width": 2.0270887765427292
         },
         "mode": "lines",
         "type": "scatter",
         "x": [
          -14.43856045774682,
          -15.013124154598115
         ],
         "y": [
          -5.340015312798051,
          -5.529484149368032
         ]
        },
        {
         "hoverinfo": "none",
         "line": {
          "color": "#888",
          "width": 1.106498364464699
         },
         "mode": "lines",
         "type": "scatter",
         "x": [
          -14.817113325705948,
          -15.013124154598115
         ],
         "y": [
          -5.149943024367288,
          -5.529484149368032
         ]
        },
        {
         "hoverinfo": "none",
         "line": {
          "color": "#888",
          "width": 1.3906614488536624
         },
         "mode": "lines",
         "type": "scatter",
         "x": [
          -15.41477323554502,
          -15.013124154598115
         ],
         "y": [
          -6.0598151704403165,
          -5.529484149368032
         ]
        },
        {
         "hoverinfo": "none",
         "line": {
          "color": "#888",
          "width": 1.478063701708963
         },
         "mode": "lines",
         "type": "scatter",
         "x": [
          -15.28225172984896,
          -15.013124154598115
         ],
         "y": [
          -5.387738780527072,
          -5.529484149368032
         ]
        },
        {
         "hoverinfo": "none",
         "line": {
          "color": "#888",
          "width": 1.478343144437317
         },
         "mode": "lines",
         "type": "scatter",
         "x": [
          -15.264536165409725,
          -15.013124154598115
         ],
         "y": [
          -6.329600572063244,
          -5.529484149368032
         ]
        },
        {
         "hoverinfo": "none",
         "line": {
          "color": "#888",
          "width": 1.040614552209747
         },
         "mode": "lines",
         "type": "scatter",
         "x": [
          -14.753566114591269,
          -15.013124154598115
         ],
         "y": [
          -5.638625502914219,
          -5.529484149368032
         ]
        },
        {
         "hoverinfo": "none",
         "line": {
          "color": "#888",
          "width": 1.3914289384895409
         },
         "mode": "lines",
         "type": "scatter",
         "x": [
          -14.534578693420821,
          -15.013124154598115
         ],
         "y": [
          -5.867735650205169,
          -5.529484149368032
         ]
        },
        {
         "hoverinfo": "none",
         "line": {
          "color": "#888",
          "width": 1.3254519840613108
         },
         "mode": "lines",
         "type": "scatter",
         "x": [
          -15.013124154598115,
          -14.61875612341671
         ],
         "y": [
          -5.529484149368032,
          -6.457956231183889
         ]
        },
        {
         "hoverinfo": "none",
         "line": {
          "color": "#888",
          "width": 1.023739986080041
         },
         "mode": "lines",
         "type": "scatter",
         "x": [
          -16.275597595647916,
          -15.726023199273929
         ],
         "y": [
          3.472963276886355,
          4.168448266207457
         ]
        },
        {
         "hoverinfo": "none",
         "line": {
          "color": "#888",
          "width": 1.059544427587481
         },
         "mode": "lines",
         "type": "scatter",
         "x": [
          -14.346046867248967,
          -14.644076666866233
         ],
         "y": [
          -3.0426116304140205,
          -3.3947456299180043
         ]
        },
        {
         "hoverinfo": "none",
         "line": {
          "color": "#888",
          "width": 1.0122180204210627
         },
         "mode": "lines",
         "type": "scatter",
         "x": [
          -13.787919497620946,
          -14.644076666866233
         ],
         "y": [
          -4.43010290727313,
          -3.3947456299180043
         ]
        },
        {
         "hoverinfo": "none",
         "line": {
          "color": "#888",
          "width": 1.0641720417438782
         },
         "mode": "lines",
         "type": "scatter",
         "x": [
          -15.270463960168538,
          -14.644076666866233
         ],
         "y": [
          -4.5058576710257725,
          -3.3947456299180043
         ]
        },
        {
         "hoverinfo": "none",
         "line": {
          "color": "#888",
          "width": 1.1273677457334534
         },
         "mode": "lines",
         "type": "scatter",
         "x": [
          -14.644076666866233,
          -15.400830662632368
         ],
         "y": [
          -3.3947456299180043,
          -3.4263177964459928
         ]
        },
        {
         "hoverinfo": "none",
         "line": {
          "color": "#888",
          "width": 1.0218224762401709
         },
         "mode": "lines",
         "type": "scatter",
         "x": [
          -14.644076666866233,
          -14.813549771834133
         ],
         "y": [
          -3.3947456299180043,
          -4.598891617330923
         ]
        },
        {
         "hoverinfo": "none",
         "line": {
          "color": "#888",
          "width": 1.10698679284716
         },
         "mode": "lines",
         "type": "scatter",
         "x": [
          -14.47810030254798,
          -14.251523252864162
         ],
         "y": [
          -6.400656932273691,
          -7.368519936234171
         ]
        },
        {
         "hoverinfo": "none",
         "line": {
          "color": "#888",
          "width": 1.0262180960617426
         },
         "mode": "lines",
         "type": "scatter",
         "x": [
          -14.790576922423055,
          -14.251523252864162
         ],
         "y": [
          -5.938131240021356,
          -7.368519936234171
         ]
        },
        {
         "hoverinfo": "none",
         "line": {
          "color": "#888",
          "width": 1.0364107351616023
         },
         "mode": "lines",
         "type": "scatter",
         "x": [
          -14.200026977870785,
          -14.251523252864162
         ],
         "y": [
          -6.491007842347108,
          -7.368519936234171
         ]
        },
        {
         "hoverinfo": "none",
         "line": {
          "color": "#888",
          "width": 1.0856711298133694
         },
         "mode": "lines",
         "type": "scatter",
         "x": [
          -13.54321562440723,
          -14.251523252864162
         ],
         "y": [
          -6.325668381304119,
          -7.368519936234171
         ]
        },
        {
         "hoverinfo": "none",
         "line": {
          "color": "#888",
          "width": 1.145445114520896
         },
         "mode": "lines",
         "type": "scatter",
         "x": [
          -14.895945710193905,
          -14.251523252864162
         ],
         "y": [
          -6.507485318880583,
          -7.368519936234171
         ]
        },
        {
         "hoverinfo": "none",
         "line": {
          "color": "#888",
          "width": 1.0180330958204062
         },
         "mode": "lines",
         "type": "scatter",
         "x": [
          -13.555182236786251,
          -14.251523252864162
         ],
         "y": [
          -7.798367216956849,
          -7.368519936234171
         ]
        },
        {
         "hoverinfo": "none",
         "line": {
          "color": "#888",
          "width": 1.0413919691563902
         },
         "mode": "lines",
         "type": "scatter",
         "x": [
          -13.355349687799634,
          -14.251523252864162
         ],
         "y": [
          -7.536130655725203,
          -7.368519936234171
         ]
        },
        {
         "hoverinfo": "none",
         "line": {
          "color": "#888",
          "width": 1.1356608572780873
         },
         "mode": "lines",
         "type": "scatter",
         "x": [
          -14.616955577935325,
          -14.251523252864162
         ],
         "y": [
          -6.93972065520944,
          -7.368519936234171
         ]
        },
        {
         "hoverinfo": "none",
         "line": {
          "color": "#888",
          "width": 1.0716382727419616
         },
         "mode": "lines",
         "type": "scatter",
         "x": [
          -14.899682882110234,
          -14.251523252864162
         ],
         "y": [
          -7.017099143443842,
          -7.368519936234171
         ]
        },
        {
         "hoverinfo": "none",
         "line": {
          "color": "#888",
          "width": 1.0952915075625365
         },
         "mode": "lines",
         "type": "scatter",
         "x": [
          -13.79014750687308,
          -14.251523252864162
         ],
         "y": [
          -6.478932958412301,
          -7.368519936234171
         ]
        },
        {
         "hoverinfo": "none",
         "line": {
          "color": "#888",
          "width": 1.0276082742675392
         },
         "mode": "lines",
         "type": "scatter",
         "x": [
          -14.346046867248967,
          -15.400830662632368
         ],
         "y": [
          -3.0426116304140205,
          -3.4263177964459928
         ]
        },
        {
         "hoverinfo": "none",
         "line": {
          "color": "#888",
          "width": 1.0387838639467775
         },
         "mode": "lines",
         "type": "scatter",
         "x": [
          -15.270463960168538,
          -15.400830662632368
         ],
         "y": [
          -4.5058576710257725,
          -3.4263177964459928
         ]
        },
        {
         "hoverinfo": "none",
         "line": {
          "color": "#888",
          "width": 1.1273677457334534
         },
         "mode": "lines",
         "type": "scatter",
         "x": [
          -14.644076666866233,
          -15.400830662632368
         ],
         "y": [
          -3.3947456299180043,
          -3.4263177964459928
         ]
        },
        {
         "hoverinfo": "none",
         "line": {
          "color": "#888",
          "width": 1.0049729373092302
         },
         "mode": "lines",
         "type": "scatter",
         "x": [
          -15.400830662632368,
          -14.813549771834133
         ],
         "y": [
          -3.4263177964459928,
          -4.598891617330923
         ]
        },
        {
         "hoverinfo": "none",
         "line": {
          "color": "#888",
          "width": 1.000399796657459
         },
         "mode": "lines",
         "type": "scatter",
         "x": [
          -14.871497661265048,
          -14.813549771834133
         ],
         "y": [
          -4.4476025797803,
          -4.598891617330923
         ]
        },
        {
         "hoverinfo": "none",
         "line": {
          "color": "#888",
          "width": 1.14065775250979
         },
         "mode": "lines",
         "type": "scatter",
         "x": [
          -14.790576922423055,
          -14.813549771834133
         ],
         "y": [
          -5.938131240021356,
          -4.598891617330923
         ]
        },
        {
         "hoverinfo": "none",
         "line": {
          "color": "#888",
          "width": 1.1972331711801998
         },
         "mode": "lines",
         "type": "scatter",
         "x": [
          -14.371871984258576,
          -14.813549771834133
         ],
         "y": [
          -5.309789890205194,
          -4.598891617330923
         ]
        },
        {
         "hoverinfo": "none",
         "line": {
          "color": "#888",
          "width": 1.1820325920296575
         },
         "mode": "lines",
         "type": "scatter",
         "x": [
          -14.43856045774682,
          -14.813549771834133
         ],
         "y": [
          -5.340015312798051,
          -4.598891617330923
         ]
        },
        {
         "hoverinfo": "none",
         "line": {
          "color": "#888",
          "width": 1.5356393979216454
         },
         "mode": "lines",
         "type": "scatter",
         "x": [
          -14.817113325705948,
          -14.813549771834133
         ],
         "y": [
          -5.149943024367288,
          -4.598891617330923
         ]
        },
        {
         "hoverinfo": "none",
         "line": {
          "color": "#888",
          "width": 1.651069403466463
         },
         "mode": "lines",
         "type": "scatter",
         "x": [
          -15.270463960168538,
          -14.813549771834133
         ],
         "y": [
          -4.5058576710257725,
          -4.598891617330923
         ]
        },
        {
         "hoverinfo": "none",
         "line": {
          "color": "#888",
          "width": 1.0434783024942098
         },
         "mode": "lines",
         "type": "scatter",
         "x": [
          -14.094060124693677,
          -14.813549771834133
         ],
         "y": [
          -5.024824129450616,
          -4.598891617330923
         ]
        },
        {
         "hoverinfo": "none",
         "line": {
          "color": "#888",
          "width": 1.0278805197458825
         },
         "mode": "lines",
         "type": "scatter",
         "x": [
          -15.573741906957562,
          -14.813549771834133
         ],
         "y": [
          -5.537184150233229,
          -4.598891617330923
         ]
        },
        {
         "hoverinfo": "none",
         "line": {
          "color": "#888",
          "width": 1.1495563524753216
         },
         "mode": "lines",
         "type": "scatter",
         "x": [
          -13.862864446562623,
          -14.813549771834133
         ],
         "y": [
          -4.948323816069961,
          -4.598891617330923
         ]
        },
        {
         "hoverinfo": "none",
         "line": {
          "color": "#888",
          "width": 1.0218224762401709
         },
         "mode": "lines",
         "type": "scatter",
         "x": [
          -14.644076666866233,
          -14.813549771834133
         ],
         "y": [
          -3.3947456299180043,
          -4.598891617330923
         ]
        },
        {
         "hoverinfo": "none",
         "line": {
          "color": "#888",
          "width": 1.0049729373092302
         },
         "mode": "lines",
         "type": "scatter",
         "x": [
          -15.400830662632368,
          -14.813549771834133
         ],
         "y": [
          -3.4263177964459928,
          -4.598891617330923
         ]
        },
        {
         "hoverinfo": "none",
         "line": {
          "color": "#888",
          "width": 1.8293488207175532
         },
         "mode": "lines",
         "type": "scatter",
         "x": [
          -15.031880911245818,
          -14.61875612341671
         ],
         "y": [
          -6.838172886473517,
          -6.457956231183889
         ]
        },
        {
         "hoverinfo": "none",
         "line": {
          "color": "#888",
          "width": 1.1146414038575085
         },
         "mode": "lines",
         "type": "scatter",
         "x": [
          -14.645765529985793,
          -14.61875612341671
         ],
         "y": [
          -6.201254807051291,
          -6.457956231183889
         ]
        },
        {
         "hoverinfo": "none",
         "line": {
          "color": "#888",
          "width": 1.1455749507040294
         },
         "mode": "lines",
         "type": "scatter",
         "x": [
          -14.610294342996928,
          -14.61875612341671
         ],
         "y": [
          -7.34091427117728,
          -6.457956231183889
         ]
        },
        {
         "hoverinfo": "none",
         "line": {
          "color": "#888",
          "width": 1.089909315951797
         },
         "mode": "lines",
         "type": "scatter",
         "x": [
          -14.371871984258576,
          -14.61875612341671
         ],
         "y": [
          -5.309789890205194,
          -6.457956231183889
         ]
        },
        {
         "hoverinfo": "none",
         "line": {
          "color": "#888",
          "width": 1.027904451194665
         },
         "mode": "lines",
         "type": "scatter",
         "x": [
          -15.06299985540851,
          -14.61875612341671
         ],
         "y": [
          -6.295317665169309,
          -6.457956231183889
         ]
        },
        {
         "hoverinfo": "none",
         "line": {
          "color": "#888",
          "width": 1.3004335332881456
         },
         "mode": "lines",
         "type": "scatter",
         "x": [
          -14.189771826738772,
          -14.61875612341671
         ],
         "y": [
          -5.87173038695074,
          -6.457956231183889
         ]
        },
        {
         "hoverinfo": "none",
         "line": {
          "color": "#888",
          "width": 1.0027186546159308
         },
         "mode": "lines",
         "type": "scatter",
         "x": [
          -13.770553405879493,
          -14.61875612341671
         ],
         "y": [
          -6.979374153748573,
          -6.457956231183889
         ]
        },
        {
         "hoverinfo": "none",
         "line": {
          "color": "#888",
          "width": 1.0197896529476522
         },
         "mode": "lines",
         "type": "scatter",
         "x": [
          -13.387726540267733,
          -14.61875612341671
         ],
         "y": [
          -7.033495540347158,
          -6.457956231183889
         ]
        },
        {
         "hoverinfo": "none",
         "line": {
          "color": "#888",
          "width": 1.077722628508547
         },
         "mode": "lines",
         "type": "scatter",
         "x": [
          -14.43856045774682,
          -14.61875612341671
         ],
         "y": [
          -5.340015312798051,
          -6.457956231183889
         ]
        },
        {
         "hoverinfo": "none",
         "line": {
          "color": "#888",
          "width": 1.151756002717777
         },
         "mode": "lines",
         "type": "scatter",
         "x": [
          -14.817113325705948,
          -14.61875612341671
         ],
         "y": [
          -5.149943024367288,
          -6.457956231183889
         ]
        },
        {
         "hoverinfo": "none",
         "line": {
          "color": "#888",
          "width": 1.1165727971710275
         },
         "mode": "lines",
         "type": "scatter",
         "x": [
          -15.41477323554502,
          -14.61875612341671
         ],
         "y": [
          -6.0598151704403165,
          -6.457956231183889
         ]
        },
        {
         "hoverinfo": "none",
         "line": {
          "color": "#888",
          "width": 1.0239793226778227
         },
         "mode": "lines",
         "type": "scatter",
         "x": [
          -15.264536165409725,
          -14.61875612341671
         ],
         "y": [
          -6.329600572063244,
          -6.457956231183889
         ]
        },
        {
         "hoverinfo": "none",
         "line": {
          "color": "#888",
          "width": 1.053502937462228
         },
         "mode": "lines",
         "type": "scatter",
         "x": [
          -14.753566114591269,
          -14.61875612341671
         ],
         "y": [
          -5.638625502914219,
          -6.457956231183889
         ]
        },
        {
         "hoverinfo": "none",
         "line": {
          "color": "#888",
          "width": 1.0437708461110915
         },
         "mode": "lines",
         "type": "scatter",
         "x": [
          -14.534578693420821,
          -14.61875612341671
         ],
         "y": [
          -5.867735650205169,
          -6.457956231183889
         ]
        },
        {
         "hoverinfo": "none",
         "line": {
          "color": "#888",
          "width": 1.1856153212912333
         },
         "mode": "lines",
         "type": "scatter",
         "x": [
          -15.497439241197572,
          -14.61875612341671
         ],
         "y": [
          -5.806596942822509,
          -6.457956231183889
         ]
        },
        {
         "hoverinfo": "none",
         "line": {
          "color": "#888",
          "width": 1.3254519840613108
         },
         "mode": "lines",
         "type": "scatter",
         "x": [
          -15.013124154598115,
          -14.61875612341671
         ],
         "y": [
          -5.529484149368032,
          -6.457956231183889
         ]
        },
        {
         "hoverinfo": "none",
         "line": {
          "color": "#888",
          "width": 1.0489272549700317
         },
         "mode": "lines",
         "type": "scatter",
         "x": [
          -14.61875612341671,
          -14.813500584136921
         ],
         "y": [
          -6.457956231183889,
          -7.702450581418244
         ]
        },
        {
         "hoverinfo": "none",
         "line": {
          "color": "#888",
          "width": 1.0867528801867548
         },
         "mode": "lines",
         "type": "scatter",
         "x": [
          -10.999768893206758,
          -10.067557913534891
         ],
         "y": [
          -6.375222374074013,
          -6.01143745957482
         ]
        },
        {
         "hoverinfo": "none",
         "line": {
          "color": "#888",
          "width": 1.139791026075272
         },
         "mode": "lines",
         "type": "scatter",
         "x": [
          -13.875537710711491,
          -12.761106201381423
         ],
         "y": [
          -5.32928344518222,
          -6.052174784794521
         ]
        },
        {
         "hoverinfo": "none",
         "line": {
          "color": "#888",
          "width": 1.0926655470758238
         },
         "mode": "lines",
         "type": "scatter",
         "x": [
          -14.189771826738772,
          -12.761106201381423
         ],
         "y": [
          -5.87173038695074,
          -6.052174784794521
         ]
        },
        {
         "hoverinfo": "none",
         "line": {
          "color": "#888",
          "width": 1.1226976775080013
         },
         "mode": "lines",
         "type": "scatter",
         "x": [
          -13.222042469817788,
          -12.761106201381423
         ],
         "y": [
          -5.142310599034572,
          -6.052174784794521
         ]
        },
        {
         "hoverinfo": "none",
         "line": {
          "color": "#888",
          "width": 1.0835187560359603
         },
         "mode": "lines",
         "type": "scatter",
         "x": [
          -11.978799223750462,
          -12.761106201381423
         ],
         "y": [
          -5.664048510630685,
          -6.052174784794521
         ]
        },
        {
         "hoverinfo": "none",
         "line": {
          "color": "#888",
          "width": 1.014786162987643
         },
         "mode": "lines",
         "type": "scatter",
         "x": [
          -13.390218289739371,
          -12.761106201381423
         ],
         "y": [
          -5.733405128642964,
          -6.052174784794521
         ]
        },
        {
         "hoverinfo": "none",
         "line": {
          "color": "#888",
          "width": 1.00190217130656
         },
         "mode": "lines",
         "type": "scatter",
         "x": [
          -13.193598012960688,
          -12.761106201381423
         ],
         "y": [
          -5.37815957036336,
          -6.052174784794521
         ]
        },
        {
         "hoverinfo": "none",
         "line": {
          "color": "#888",
          "width": 1.0700143707609076
         },
         "mode": "lines",
         "type": "scatter",
         "x": [
          -13.387726540267733,
          -14.813500584136921
         ],
         "y": [
          -7.033495540347158,
          -7.702450581418244
         ]
        },
        {
         "hoverinfo": "none",
         "line": {
          "color": "#888",
          "width": 1.0489272549700317
         },
         "mode": "lines",
         "type": "scatter",
         "x": [
          -14.61875612341671,
          -14.813500584136921
         ],
         "y": [
          -6.457956231183889,
          -7.702450581418244
         ]
        },
        {
         "hoverinfo": "none",
         "line": {
          "color": "#888",
          "width": 1.222713154871356
         },
         "mode": "lines",
         "type": "scatter",
         "x": [
          -13.54321562440723,
          -12.520915935463885
         ],
         "y": [
          -6.325668381304119,
          -7.176854929509352
         ]
        },
        {
         "hoverinfo": "none",
         "line": {
          "color": "#888",
          "width": 1.4590317114047062
         },
         "mode": "lines",
         "type": "scatter",
         "x": [
          -13.996742299482742,
          -14.265225489671783
         ],
         "y": [
          -3.9899647066405595,
          -3.9299109157582914
         ]
        },
        {
         "hoverinfo": "none",
         "line": {
          "color": "#888",
          "width": 1.0182271896430728
         },
         "mode": "lines",
         "type": "scatter",
         "x": [
          -13.571478264075706,
          -14.265225489671783
         ],
         "y": [
          -2.8918310027628173,
          -3.9299109157582914
         ]
        },
        {
         "hoverinfo": "none",
         "line": {
          "color": "#888",
          "width": 1.2813328864664955
         },
         "mode": "lines",
         "type": "scatter",
         "x": [
          -14.371871984258576,
          -14.265225489671783
         ],
         "y": [
          -5.309789890205194,
          -3.9299109157582914
         ]
        },
        {
         "hoverinfo": "none",
         "line": {
          "color": "#888",
          "width": 1.0468996025352004
         },
         "mode": "lines",
         "type": "scatter",
         "x": [
          -13.445922253012837,
          -14.265225489671783
         ],
         "y": [
          -3.229877120455521,
          -3.9299109157582914
         ]
        },
        {
         "hoverinfo": "none",
         "line": {
          "color": "#888",
          "width": 1.133629876515718
         },
         "mode": "lines",
         "type": "scatter",
         "x": [
          -14.609022694834321,
          -14.265225489671783
         ],
         "y": [
          -2.900222090616298,
          -3.9299109157582914
         ]
        },
        {
         "hoverinfo": "none",
         "line": {
          "color": "#888",
          "width": 1.2684677691401385
         },
         "mode": "lines",
         "type": "scatter",
         "x": [
          -14.43856045774682,
          -14.265225489671783
         ],
         "y": [
          -5.340015312798051,
          -3.9299109157582914
         ]
        },
        {
         "hoverinfo": "none",
         "line": {
          "color": "#888",
          "width": 1.4945432348836736
         },
         "mode": "lines",
         "type": "scatter",
         "x": [
          -14.08296077725767,
          -14.265225489671783
         ],
         "y": [
          -2.91931092816861,
          -3.9299109157582914
         ]
        },
        {
         "hoverinfo": "text",
         "marker": {
          "color": [
           0,
           1,
           1,
           0,
           0,
           1,
           1,
           1,
           1,
           0,
           1,
           1,
           0,
           1,
           0,
           0,
           0,
           0,
           0,
           0,
           0,
           0,
           0,
           1,
           1,
           0,
           1,
           1,
           1,
           1,
           1,
           1,
           1,
           1,
           0,
           0,
           1,
           0,
           1,
           1,
           0,
           1,
           1,
           0,
           1,
           1,
           0,
           1,
           0,
           1,
           0,
           1,
           1,
           1,
           1,
           1,
           1,
           1,
           1,
           1,
           1,
           0,
           0,
           1,
           0,
           0,
           0,
           1,
           1,
           1,
           0,
           1,
           0,
           0,
           0,
           1,
           1,
           1,
           0,
           1,
           1,
           1,
           0,
           0,
           1,
           1,
           1,
           1,
           0,
           0,
           1,
           1,
           0,
           0,
           0,
           1,
           0,
           1,
           0,
           1,
           1,
           1,
           1,
           1,
           0,
           0,
           1,
           0,
           0,
           0,
           0,
           1,
           1,
           1,
           0,
           0,
           1,
           1,
           0,
           1,
           1,
           1,
           1,
           1,
           1,
           0,
           1,
           1,
           1,
           1,
           0,
           1,
           1,
           0,
           1,
           0,
           1,
           0,
           0,
           0,
           1,
           0,
           0,
           0,
           0,
           1,
           1,
           1,
           1,
           1,
           1,
           1,
           0,
           1,
           1,
           0,
           1,
           1,
           0,
           0,
           1,
           0,
           1,
           1,
           0,
           0,
           1,
           1,
           1,
           1,
           1,
           1,
           1,
           0,
           0,
           1,
           1,
           1,
           1,
           1,
           0,
           1,
           1,
           0,
           1,
           1,
           0,
           1,
           1,
           0,
           1,
           1,
           0,
           1,
           1,
           1,
           1,
           1,
           1,
           1,
           1,
           1,
           0,
           1,
           1,
           1,
           1,
           1,
           1,
           1,
           0,
           1,
           0,
           0,
           0,
           1,
           1,
           0,
           1,
           0,
           1,
           1,
           0,
           1,
           1,
           1,
           1,
           1,
           1,
           1,
           0,
           1,
           1,
           1,
           1,
           1,
           0,
           0,
           1,
           1,
           1,
           0,
           1,
           1,
           1,
           1,
           1,
           1,
           1,
           0,
           1,
           1,
           0,
           0,
           0,
           0,
           1,
           1,
           1,
           0,
           0,
           0,
           1,
           1,
           1,
           1,
           1,
           1,
           0,
           1,
           0,
           1,
           1,
           1,
           0,
           1,
           0,
           1,
           1,
           1,
           1,
           1,
           1,
           1,
           1,
           1,
           1,
           1,
           1,
           1,
           0,
           1,
           0,
           1,
           1,
           1,
           0,
           0,
           1,
           0,
           1,
           1,
           1,
           1,
           1,
           0,
           1,
           1,
           1,
           1,
           1,
           0,
           1,
           0,
           0,
           1,
           0,
           1,
           1,
           1,
           1,
           1,
           1
          ],
          "colorbar": {
           "thickness": 15,
           "title": "",
           "titleside": "right",
           "xanchor": "left"
          },
          "colorscale": "Jet",
          "line": {
           "width": 2
          },
          "reversescale": true,
          "showscale": false,
          "size": 10
         },
         "mode": "markers",
         "showlegend": true,
         "text": [
          "Winners: Tom Brady’s (0)",
          "3 suspects handed te (1)",
          "David Brooks: I Fear (1)",
          "Scuffling, heckling  (0)",
          "Former Clinton aides (0)",
          "Krauthammer: Rewrite (1)",
          "Is it a dream or a n (1)",
          "New approach for the (1)",
          "Marilyn's dress to B (1)",
          "Autism diagnosis by  (0)",
          "PPE: the Oxford degr (1)",
          "Dresses that tell a  (1)",
          "Fight breaks out in  (0)",
          "Ageing gracefully as (1)",
          "Kremlin: Turkey gave (0)",
          "Who is Paul Manafort (0)",
          "IAAF clears 3 more R (0)",
          "21 more questions fo (0)",
          "FT podcast: World We (0)",
          "French officials str (0)",
          "After April’s March  (0)",
          "Dems gird for battle (0)",
          "King: Leakers should (0)",
          "Free Network Foundat (1)",
          "Portuguese teens who (1)",
          "Clearly, the Trump a (0)",
          "The Wove Band: Don't (1)",
          "Catwalk models put c (1)",
          "To better understand (1)",
          "Facebook CEO Mark Zu (1)",
          "Cartel Radio Network (1)",
          "Krauthammer: 9th Cir (1)",
          "CNN Review: 'Big Lit (1)",
          "Love your local? Liv (1)",
          "Nick Cannon Quits ‘A (0)",
          "Ann Coulter on Trump (0)",
          "MILO to Appear on Re (1)",
          "Senator who disclose (0)",
          "It's North Korea's f (1)",
          "Schlapp: Trump needs (1)",
          "Master the art of pr (0)",
          "How quantum effects  (1)",
          "UFC Fighter Responds (1)",
          "NYT’s Thomas Friedma (0)",
          "Absurd Creatures | C (1)",
          "Game|Life - Greg Kas (1)",
          "Columnist: Flynn's o (0)",
          "Texas Sheriff Dupes  (1)",
          "Dem Sen Murphy: Trum (0)",
          "Mexican says she was (1)",
          "Abrams: Flynn 'piece (0)",
          "Japan pension fund i (1)",
          "Knicks owner James D (1)",
          "Q&amp;A: \"La La Land (1)",
          "Do Charles Darwin's  (1)",
          "School curricula are (1)",
          "Banking Collapse of  (1)",
          "A world safe for rob (1)",
          "All Work and All Pla (1)",
          "Bunscoil an Lúir: Re (1)",
          "Prescription-drug mo (1)",
          "Guardian Opinion Wri (0)",
          "Deportation orders t (0)",
          "Murdoch secretly sat (1)",
          "Pressure builds for  (0)",
          "Spicer: 'Clearly mea (0)",
          "China ‘Highly Commen (0)",
          "Brussels watchdog la (1)",
          "Fujitsu develops ana (1)",
          "Chiefs GM non-commit (1)",
          "Watch: Ellison Press (0)",
          "Who is Charles Woodb (1)",
          "Maxine Waters: Trump (0)",
          "WaPo’s Ruth Marcus:  (0)",
          "FBI refused White Ho (0)",
          "Tyrese Gibson on 'un (1)",
          "Nigeria court: Forfe (1)",
          "Researchers clearly  (1)",
          "36 Top State Republi (0)",
          "Campaigners reject p (1)",
          "Twin tragedies give  (1)",
          "Scientists show how  (1)",
          "Terror fears take to (0)",
          "Michael Wolff: Media (0)",
          "Pope says indigenous (1)",
          "HBOS manager and oth (1)",
          "Attackers can make i (1)",
          "Kellyanne Conway's r (1)",
          "Scarborough: Trump M (0)",
          "Russians remain pati (0)",
          "Reading, Writing, An (1)",
          "Peter King: Leaks Ag (1)",
          "Michelle Malkin blas (0)",
          "Should financial adv (0)",
          "CNN’s Acosta: Trump  (0)",
          "Facebook ‘Fake News’ (1)",
          "Opinion: Facts still (0)",
          "Designing the best c (1)",
          "Pelosi Calls for FBI (0)",
          "Six Nations 2017: Sc (1)",
          "Lloyds apologises fo (1)",
          "Troops deploy to pro (1)",
          "No Tiger is no longe (1)",
          "Goodwin: Trump can q (1)",
          "Squirrels Keep Menac (0)",
          "The Russians Are NOT (0)",
          "Soft skills training (1)",
          "New York Times Accus (0)",
          "How Congress could g (0)",
          "First on CNN: John K (0)",
          "Nancy Pelosi: ‘We’ve (0)",
          "Green Investment Ban (1)",
          "Personal attacks on  (1)",
          "'Hamilton' creator s (1)",
          "At 70, JBL still kno (0)",
          "US officials corrobo (0)",
          "Ex-NY Knick Oakley d (1)",
          "Six billion plastic  (1)",
          "Original Doc (0)",
          "Before the Beatles (1)",
          "How languages shape  (1)",
          "Oakley's ban from Ma (1)",
          "Do we need a credit  (1)",
          "University of Washin (1)",
          "Half of Welsh counci (1)",
          "Sen. Johnson on Flyn (0)",
          "Russian's ban may ma (1)",
          "Researchers develop  (1)",
          "TalkTalk: reconnecti (1)",
          "Fraud case and falli (1)",
          "FT column: Donald Tr (0)",
          "The Noble Writer - S (1)",
          "Waiver yet to be sec (1)",
          "Source: \"knives out\" (0)",
          "Body of Egypt's so-c (1)",
          "Twitter: not even Do (0)",
          "Who Was Detective X? (1)",
          "Meet the rightwing p (0)",
          "NYT’s Friedman: Flyn (0)",
          "EXCLUSIVE: Felix Sat (0)",
          "Elon Musk in union s (1)",
          "The Nuclear Option — (0)",
          "Gibraltar seizes Rus (0)",
          "As Trump tweets, leg (0)",
          "Columnist to Brian S (0)",
          "Snapchat's young use (1)",
          "Lost in translation: (1)",
          "'Lossless' metamater (1)",
          "Alan Simpson: Comedy (1)",
          "Magic Leap faces sex (1)",
          "Sir Charles Dunstone (1)",
          "Boeing workers in So (1)",
          "Viacom debt deal tur (0)",
          "LSE fines independen (1)",
          "France strikes down  (1)",
          "Trump advisers in 'c (0)",
          "Database of software (1)",
          "Krauthammer on Congr (1)",
          "A neuroscientist exp (0)",
          "Opinion: Can SNL top (0)",
          "Why is Dirty Dancing (1)",
          "Even Trump isn't eno (0)",
          "Issa Rae on How She  (1)",
          "Germany's Bavaria to (1)",
          "Columnist: Distrust  (0)",
          "KLEIN – Trump-Russia (0)",
          "The mechanics of cav (1)",
          "Bank results spotlig (1)",
          "Prince Charles' god- (1)",
          "Connection control t (1)",
          "Far beyond crime-rid (1)",
          "Less of the burden w (1)",
          "Results will reveal  (1)",
          "George Will: Conserv (0)",
          "Are journalists tipt (0)",
          "Pro12: Zebre v Ulste (1)",
          "ESPN reporters writi (1)",
          "Report: Trump not fu (1)",
          "Cop caught on tape s (1)",
          "World's largest sail (1)",
          "Cyber experts report (0)",
          "The dangers of writi (1)",
          "AP Exclusive: Twin t (1)",
          "In-memory de-duplica (0)",
          "Mick Jagger's autobi (1)",
          "What makes influenti (1)",
          "Differences in the r (0)",
          "'Thank you and stay  (1)",
          "Board overseeing pro (1)",
          "'This is Us' cast pa (0)",
          "Global pariah (1)",
          "Where are the tools  (1)",
          "AP Explains: The obs (0)",
          "Booker: Kellyanne Co (1)",
          "Ivanka, Melania bran (1)",
          "Jawing away: Bahama  (1)",
          "NBA Capsules (1)",
          "How can I tell if a  (1)",
          "CES 2013: Tactus Tec (1)",
          "Tamara Ecclestone br (1)",
          "War criminal Charles (1)",
          "Markets Spotlight: t (1)",
          "Fmr Clinton Campaign (0)",
          "Trump fully briefed  (1)",
          "Tremors in newborn p (1)",
          "Dow Jones industrial (1)",
          "Researchers discover (1)",
          "PERK protein opens l (1)",
          "Faking it: Jake Tapp (1)",
          "Twitter accounts rea (1)",
          "White House was warn (0)",
          "Scotland needs publi (1)",
          "Kremlin: Trump assoc (0)",
          "Trump steps into sec (0)",
          "Lewandowski: If Mana (0)",
          "Music helps and pick (1)",
          "HBOS fraud trial (1)",
          "Russians optimistic  (0)",
          "Trading off costs an (1)",
          "Russia has assumed a (0)",
          "Sister of Bataclan t (1)",
          "MSG bans ex-Knicks s (1)",
          "LIVE UPDATES: Former (0)",
          "Last orders at the b (1)",
          "Lloyds to review cus (1)",
          "Federal judge blocks (1)",
          "Microsoft's Surface  (1)",
          "Unique project to im (1)",
          "UK real wage growth  (1)",
          "MSG bans Charles Oak (1)",
          "Dem Rep Moulton: If  (0)",
          "Alt-right leader Ric (1)",
          "Lloyds should act ho (1)",
          "Sherry Turkle: ‘I am (1)",
          "Great Valentine's Da (1)",
          "MPs press Lloyds to  (1)",
          "French far-right can (0)",
          "Philly Archbishop ‘A (0)",
          "Imperial Brands back (1)",
          "Rampant narcissism a (1)",
          "Transgender politica (1)",
          "Data Attack - How Te (0)",
          "APNewsBreak: Grand j (1)",
          "One Husband’s Tribut (1)",
          "Lloyds to review HBO (1)",
          "Facts are the reason (1)",
          "Senator keeps cool i (1)",
          "NIST partners 'cutti (1)",
          "Researchers emphasiz (1)",
          "Trump talks about tr (0)",
          "Heterosexual couple  (1)",
          "Yes, Warhammer chara (1)",
          "Remember Nixon? Ther (0)",
          "Trump aides spoke re (0)",
          "Manafort, Flynn spok (0)",
          "What's Inside - Vodk (0)",
          "Accounting standards (1)",
          "Journalist apologize (1)",
          "Charles Krauthammer  (1)",
          "GOP Senate Intel Mem (0)",
          "Trump campaign aides (0)",
          "Communications exper (0)",
          "Researcher explores  (1)",
          "Hate Trump supporter (1)",
          "The unique shame of  (1)",
          "How former Mexican p (1)",
          "Design FX - Game of  (1)",
          "Silence—everyday bet (1)",
          "Trump counters Russi (0)",
          "Microhotplates for a (1)",
          "Spotlight on 3 judge (0)",
          "Doubt over Everest's (1)",
          "'In 50 years, readin (1)",
          "Teens sentenced to r (1)",
          "Knock knock, moos th (0)",
          "15 risks and opportu (1)",
          "Russians Engineer a  (0)",
          "Electricity pricing  (1)",
          "Dinosaur embryos rev (1)",
          "WIRED April 2014 - C (1)",
          "Dolan says MSG banni (1)",
          "Tiger knocks drone f (1)",
          "AP source: Oakley's  (1)",
          "NBPA officers expres (1)",
          "Video: The search fo (1)",
          "Krauthammer: The dan (1)",
          "Queueing technique t (1)",
          "Late-night comedy ru (1)",
          "Abbreviations exclud (1)",
          "Nasa begins testing  (1)",
          "Donald Trump Denounc (0)",
          "Am I using this emoj (1)",
          "Congress struggles t (0)",
          "Why are most people  (1)",
          "Facts, beliefs, and  (1)",
          "Chris Packham: Why I (1)",
          "VIDEO: Charles Oakle (0)",
          "Dems see disparity i (0)",
          "Spill-Proof Cups Are (1)",
          "Brady Campaign: Sess (0)",
          "Charles Oakley: I’ve (1)",
          "Call for scrutiny of (1)",
          "Researchers show via (1)",
          "Tesco-Booker — a ‘me (1)",
          "Defense clearly not  (1)",
          "Media escalate Trump (0)",
          "First-ever GPS data  (1)",
          "Trump Adviser Miller (1)",
          "Pope spurs Republica (1)",
          "A neuroscientist exp (1)",
          "A neuroscientist exp (1)",
          "Chinese feminists ta (0)",
          "A neuroscientist exp (1)",
          "A neuroscientist exp (0)",
          "Spicer: President Tr (0)",
          "World's tiniest hamm (1)",
          "Lewandowski disagree (0)",
          "Power amplifiers for (1)",
          "Quest to find the 'm (1)",
          "Reducing animal test (1)",
          "It appears the Oiler (1)",
          "Why the Earth is act (1)",
          "Suit over artifact l (1)"
         ],
         "type": "scatter",
         "x": [
          -12.791694856697605,
          -7.421418756846107,
          -9.13892112059935,
          -12.358110398384234,
          -13.875537710711491,
          -10.375425299204139,
          -10.012865436534561,
          -18.024637616387505,
          -13.680543652789536,
          -15.643188614776893,
          -6.673018507957949,
          -20.490564487456,
          -12.416271014206234,
          -7.628116181641645,
          -16.5343644467867,
          -13.527157887205975,
          -10.783557959520174,
          -14.871497661265048,
          -14.954468630341605,
          -13.996742299482742,
          -13.707691486982672,
          -14.362059659931681,
          -13.707209565894951,
          -7.180472216471618,
          -13.775376605956216,
          -14.121106121702685,
          -20.721224786113666,
          -17.1191815215398,
          -7.212942529383924,
          -17.553219122470008,
          -7.780094117740633,
          -11.829559560406214,
          -11.963572497166131,
          -18.136112586613294,
          -15.1943392716613,
          -14.47810030254798,
          -17.386622802542977,
          -10.126903261473295,
          -14.346046867248967,
          -12.635773186908066,
          -13.488565177169946,
          -13.937210056961858,
          -12.768571916377084,
          -14.790576922423055,
          -6.872760368500517,
          -11.244240282210873,
          -20.932780867477675,
          -13.571478264075706,
          -15.190594501558186,
          -18.82165975260408,
          -15.031880911245818,
          -18.680709033530196,
          -6.929253335648102,
          -17.75407818565452,
          -16.853929849925986,
          -13.470446214948264,
          -13.09713495454668,
          -15.337884524937785,
          -17.032016300951927,
          -9.816578777142215,
          -7.719186418261747,
          -14.645765529985793,
          -14.610294342996928,
          -20.066469363274162,
          -19.705208904637782,
          -13.24315673940496,
          -16.060753847986447,
          -17.22257725763278,
          -16.247519470395954,
          -8.703392728518546,
          -13.270489320443948,
          -7.2105040609706235,
          -13.611430736159944,
          -13.787919497620946,
          -14.371871984258576,
          -8.00958549100841,
          -7.6285249237951955,
          -7.403688628703874,
          -15.941719530610088,
          -8.430271282532775,
          -19.4342956933954,
          -16.47167403284231,
          -18.47608267276863,
          -15.06299985540851,
          -8.04081404219276,
          -12.371455468108477,
          -14.782715618588421,
          -15.825416099455003,
          -14.200026977870785,
          -15.717211012483808,
          -7.441354495590628,
          -16.369973290532833,
          -15.471579657370995,
          -14.220471909568893,
          -14.189771826738772,
          -15.851128569030708,
          -13.54321562440723,
          -19.863274094336887,
          -15.150173669132453,
          -15.655455770343659,
          -13.445922253012837,
          -13.259356029280449,
          -20.648867330217403,
          -18.522795656812793,
          -7.776811139876211,
          -16.19470776053283,
          -20.791734982355354,
          -13.222042469817788,
          -12.235378998295207,
          -13.88035938362524,
          -13.770553405879493,
          -8.495261606010882,
          -19.64060825529381,
          -6.950835021125967,
          -13.387726540267733,
          -14.337115099508948,
          -11.632134763637355,
          -14.609022694834321,
          -14.43856045774682,
          -7.274427767968971,
          -19.389929115286847,
          -17.70580069741524,
          -14.531025161560613,
          -17.398305802687364,
          -20.258947710232025,
          -15.630598463545166,
          -9.987279805570436,
          -6.93342515671077,
          -9.008014263412713,
          -12.781972190065094,
          -14.048169730697897,
          -11.541409681496233,
          -10.367047535096885,
          -12.033468151975097,
          -15.43199205428211,
          -14.895945710193905,
          -8.793386183798976,
          -13.981029096872376,
          -14.817113325705948,
          -16.00047798583634,
          -19.118467699068894,
          -13.555182236786251,
          -18.241854633496402,
          -13.355349687799634,
          -14.616955577935325,
          -20.395302642821868,
          -17.258365055378444,
          -15.478298874474142,
          -20.812533398291034,
          -16.971928943219055,
          -9.586966447195728,
          -16.41109013839647,
          -15.41477323554502,
          -14.654810221702519,
          -14.08296077725767,
          -12.518872512671223,
          -15.81962269574201,
          -12.71233501434269,
          -15.270463960168538,
          -15.24633057040751,
          -14.209287523861024,
          -11.658614554888103,
          -10.49470355259253,
          -10.049175856228072,
          -14.899682882110234,
          -15.28225172984896,
          -16.187984692240587,
          -17.76250177776421,
          -8.299654718213185,
          -16.275597595647916,
          -20.68562105666432,
          -7.063285890399681,
          -19.751366289380556,
          -14.094060124693677,
          -11.139560350679432,
          -8.960479987364074,
          -10.473368711807028,
          -16.71299347461052,
          -9.439952949594197,
          -7.631010629060515,
          -12.1142728460046,
          -6.7103159382413855,
          -16.074873967249907,
          -14.419498108553507,
          -9.619298873453001,
          -12.240895411845935,
          -13.894885252196177,
          -13.983004156084545,
          -7.115229351308848,
          -11.985612255044712,
          -14.433341977023286,
          -18.901008436064362,
          -15.264536165409725,
          -12.615706303724961,
          -20.598130097473337,
          -7.433214376322379,
          -20.072128038020647,
          -16.267835709249958,
          -15.031850675841348,
          -8.299742005702292,
          -12.760889801443795,
          -7.8420263406426685,
          -11.978799223750462,
          -16.660753934328383,
          -11.094891031559193,
          -20.478424288576363,
          -11.072829348576285,
          -16.785895922940433,
          -16.55101936751339,
          -13.79014750687308,
          -14.753566114591269,
          -13.002486050860597,
          -13.929962859924492,
          -14.475455276486759,
          -13.390218289739371,
          -13.506775998137794,
          -20.891544635054952,
          -16.303060544747147,
          -17.872139148439057,
          -13.273225990625084,
          -19.136102746014508,
          -15.034910843310591,
          -12.164876803560634,
          -7.596574347744786,
          -10.977916773592039,
          -11.962583560172003,
          -11.153991413543892,
          -18.60208194906342,
          -14.84114221746566,
          -11.550280378317726,
          -14.534578693420821,
          -20.765387175742834,
          -19.32018091610296,
          -15.573741906957562,
          -16.62116348959688,
          -6.670127019385477,
          -14.933185749715992,
          -15.634320764752584,
          -7.776628874709879,
          -8.003839328946258,
          -9.332909137248176,
          -21.13125455792967,
          -13.133795174946544,
          -9.442950903218682,
          -9.045164320801426,
          -12.241731349316966,
          -20.30889640379452,
          -17.051515082605246,
          -13.104395642507322,
          -14.733694465052887,
          -20.86709874582959,
          -8.365039478768855,
          -12.924120964256007,
          -13.862864446562623,
          -13.675589562249908,
          -6.734010448486848,
          -6.805284047746773,
          -13.135557863345687,
          -12.141184455965227,
          -15.438938010325261,
          -13.595012385775345,
          -16.98941606596727,
          -7.520617012901511,
          -14.531892159066423,
          -10.054236951931182,
          -10.522527209015633,
          -7.046474158106071,
          -11.494231615078888,
          -13.193598012960688,
          -6.773464595472113,
          -14.500335134000432,
          -10.246141118738755,
          -20.865522260525488,
          -7.38063520159107,
          -19.09134664012111,
          -18.119835408778254,
          -6.682087475178737,
          -20.09289064947903,
          -15.673912440502377,
          -10.858252560086285,
          -7.469831609790292,
          -12.362587908218854,
          -14.234083971011287,
          -17.694988821261077,
          -17.53685282493772,
          -11.368386546885946,
          -19.79202496973636,
          -7.3629914688211375,
          -7.170781107354456,
          -17.75572095633491,
          -13.94653562468436,
          -15.465817951369965,
          -15.497439241197572,
          -14.712868500732165,
          -8.874407306993195,
          -8.338931859661658,
          -12.970106380325237,
          -14.914940275618951,
          -10.999768893206758,
          -12.670155574037661,
          -17.866002807707734,
          -20.96582680490951,
          -14.709888394430271,
          -7.41297466354123,
          -12.885570200590106,
          -15.013124154598115,
          -15.726023199273929,
          -20.53918392299664,
          -20.303861810989936,
          -20.93743070493518,
          -14.644076666866233,
          -14.251523252864162,
          -15.400830662632368,
          -14.813549771834133,
          -14.61875612341671,
          -10.067557913534891,
          -12.761106201381423,
          -13.860376362168155,
          -12.407266435935849,
          -15.402273870946145,
          -14.813500584136921,
          -12.520915935463885,
          -14.265225489671783
         ],
         "y": [
          3.3500452338879425,
          -3.72204827696227,
          -0.10927399751245254,
          2.7597529883141663,
          -5.32928344518222,
          -5.048295447133072,
          1.3324106526763924,
          1.8128224430709403,
          4.30037192941897,
          -4.920766736253973,
          -2.4627044312828725,
          -2.16997626282708,
          2.0041417027951165,
          0.14833356250679602,
          3.9536194228828276,
          -5.464656038819423,
          4.269212475785679,
          -4.4476025797803,
          -6.0025936578907055,
          -3.9899647066405595,
          -7.849823638865185,
          -4.997657926517953,
          -5.531850608732078,
          -0.9980685387697906,
          -1.8631268355922337,
          -7.567300842448139,
          -4.341927308619159,
          2.077720627991576,
          -2.156773627237745,
          3.2077062244221772,
          -1.2097778779039277,
          1.7473034937992833,
          -4.7295253742747505,
          2.9878985313295887,
          -4.331536967157103,
          -6.400656932273691,
          3.937377628535035,
          -7.586881209202562,
          -3.0426116304140205,
          -5.155684006072663,
          -4.37128180082043,
          2.8596582224576563,
          -2.202834356611686,
          -5.938131240021356,
          -3.2493446154633276,
          1.4516582156974511,
          -2.1222013088418654,
          -2.8918310027628173,
          -4.907635561614265,
          2.836013149020437,
          -6.838172886473517,
          0.42357268072509513,
          -0.2937498136765137,
          3.736442861580407,
          -5.206796894862642,
          4.968470551459686,
          -3.5288621511908427,
          -3.0707153765384603,
          4.143641997559804,
          0.4565068393884585,
          -6.223428463540844,
          -6.201254807051291,
          -7.34091427117728,
          -1.3033012516271945,
          0.8362717388414874,
          -6.689195662075548,
          -5.566587789910302,
          1.4296409177792102,
          2.697920918097788,
          -0.5781182980622648,
          -4.814867740596674,
          0.5216580780527783,
          -5.876190550342591,
          -4.43010290727313,
          -5.309789890205194,
          1.9774134918177113,
          -2.8322557421384027,
          -0.4395092358071401,
          -7.277572243361705,
          0.8725277353393864,
          -0.3378096291355957,
          -5.924729640631664,
          2.414953612321502,
          -6.295317665169309,
          -0.5379619259378084,
          -3.315088065905645,
          3.392934512293995,
          4.66927531188247,
          -6.491007842347108,
          -5.367590516567743,
          -3.299270781082906,
          -4.718698595445405,
          -7.48974954779173,
          -6.888856057905963,
          -5.87173038695074,
          -6.736423468652748,
          -6.325668381304119,
          1.4905610434719252,
          -5.634570573180639,
          3.5674767716551976,
          -3.229877120455521,
          2.7241682082273706,
          -0.3453648916901289,
          3.1712619231012895,
          -2.276099893046741,
          4.488478907603388,
          -3.7895448546746207,
          -5.142310599034572,
          -7.94155896698412,
          -5.930339137052623,
          -6.979374153748573,
          2.5727954902282275,
          1.86305817938782,
          -4.280409836365334,
          -7.033495540347158,
          -5.589642377557384,
          2.4731819549983896,
          -2.900222090616298,
          -5.340015312798051,
          -1.616868384976179,
          2.195447303715368,
          -6.106942030786656,
          -4.080508516917675,
          -6.896377114987738,
          0.7475053637577607,
          -5.151451315824695,
          3.842756612426725,
          -3.918703856617983,
          0.43846519172104853,
          -4.390247982935071,
          -4.402358898230442,
          4.596967850927622,
          4.093127897403976,
          -5.1083541514665365,
          -2.12035182822722,
          -6.507485318880583,
          2.840483446988051,
          -6.832951899584617,
          -5.149943024367288,
          -3.7533718180893545,
          2.536205021411447,
          -7.798367216956849,
          0.8354258622178942,
          -7.536130655725203,
          -6.93972065520944,
          0.3774416392754466,
          -5.679377352894312,
          2.093217485170761,
          -4.1344958309908195,
          -3.2598539629849386,
          3.6159138176824213,
          -6.583920240965175,
          -6.0598151704403165,
          4.886685904186883,
          -2.91931092816861,
          -4.636006372940541,
          -3.5077071554974637,
          -4.7303986275351155,
          -4.5058576710257725,
          -5.916024529055278,
          3.767058158114227,
          4.097139609040481,
          1.0265196601417719,
          3.2533930515619813,
          -7.017099143443842,
          -5.387738780527072,
          -7.085519835317674,
          1.1790098293631488,
          2.2284146376125036,
          3.472963276886355,
          -1.4414964827966006,
          0.11582522393095539,
          -0.8019955899026534,
          -5.024824129450616,
          -7.89544110645823,
          1.4647882037567121,
          1.9014101903728275,
          -5.590205519431617,
          3.2387561293085803,
          1.2658094963546709,
          -6.3666290923353985,
          -1.6286719858856322,
          2.015300954884207,
          -4.216353478321253,
          1.9916240104549672,
          -6.6072067290490715,
          -6.193450742401886,
          2.1780318587774894,
          -2.71514241413126,
          -6.083157751531359,
          4.381079460666279,
          1.9889778929332573,
          -6.329600572063244,
          -6.909290102969761,
          -2.6218584841266863,
          -4.699406978801323,
          -0.26402668175318195,
          -6.355602529130001,
          4.12424304394585,
          1.5092792328132025,
          4.878872018581003,
          0.7191148789943658,
          -5.664048510630685,
          -6.138199857768167,
          3.7735969480678975,
          -3.368816112890574,
          -4.229563211540952,
          -4.840032384087389,
          1.7167798745645613,
          -6.478932958412301,
          -5.638625502914219,
          4.153837359341193,
          -4.657229596896204,
          -4.563713429774501,
          -5.733405128642964,
          3.567668912992538,
          -2.9012564940076726,
          -4.310670236828554,
          -5.726698746391567,
          -6.038017673214097,
          0.10371626251172848,
          4.802982720954687,
          -5.511900788772261,
          -5.964517603260667,
          2.1728176650111464,
          4.681633855592412,
          4.421671745054652,
          1.4208121420539825,
          -9.212565350306901,
          3.2347191326979,
          -5.867735650205169,
          -0.7355970398840043,
          1.4604912495412343,
          -5.537184150233229,
          4.393604319949954,
          -2.919353324630097,
          -4.193392152224972,
          -7.364165177722024,
          1.6120578872615365,
          -1.7590755683849963,
          2.6067091511826677,
          -3.5884130542935395,
          4.78369453957654,
          0.9743549840104115,
          3.166601021487981,
          -4.133770859505214,
          -0.8533893721280112,
          3.462596947966528,
          -5.620675211727626,
          2.6492440475202015,
          -1.135080241497009,
          -1.1573388756706557,
          -8.419346170035725,
          -4.948323816069961,
          -4.746623249059541,
          -1.2188774557236897,
          -0.734250283904104,
          1.9936568055327668,
          3.6414801842408226,
          -4.675896407068778,
          -5.071548520780777,
          2.7278720592525088,
          -5.699164844873593,
          -8.539402461952823,
          2.6567307450672972,
          3.601118024195489,
          -4.635376105040488,
          -3.427102566484568,
          -5.37815957036336,
          -3.599542387158948,
          -8.017373646677502,
          -6.852809272545492,
          -3.2385614430233933,
          0.9249305679404105,
          0.8633402346584658,
          3.4923781634703834,
          -2.038597755416471,
          1.1434859011978096,
          -8.904033643593513,
          2.9443056051994283,
          -5.182142963286871,
          4.807432003708958,
          4.937691601824357,
          -4.479264697716163,
          -4.063257079581255,
          -4.868046072043308,
          0.26242261267772515,
          -5.474202923270306,
          -5.026183788768841,
          2.468738406410987,
          -5.670154951244973,
          2.8585806140341923,
          -5.806596942822509,
          -1.9055694080867251,
          2.1015773570535576,
          0.08976932130424095,
          -3.876404275601538,
          -4.9158561143212465,
          -6.375222374074013,
          -6.560713072991087,
          -5.100824687457911,
          -2.512398650121046,
          2.0728847584011345,
          -4.212554914000195,
          -7.21902777395607,
          -5.529484149368032,
          4.168448266207457,
          0.03455434442993846,
          -1.757711337877467,
          -1.7386588095106434,
          -3.3947456299180043,
          -7.368519936234171,
          -3.4263177964459928,
          -4.598891617330923,
          -6.457956231183889,
          -6.01143745957482,
          -6.052174784794521,
          4.8643861858180815,
          4.2839629921127775,
          4.719251135348344,
          -7.702450581418244,
          -7.176854929509352,
          -3.9299109157582914
         ]
        }
       ],
       "layout": {
        "annotations": [
         {
          "showarrow": false,
          "text": "",
          "x": 0.005,
          "xref": "paper",
          "y": -0.002,
          "yref": "paper"
         }
        ],
        "height": 650,
        "hovermode": "closest",
        "margin": {
         "b": 20,
         "l": 5,
         "r": 5,
         "t": 40
        },
        "showlegend": false,
        "title": "",
        "titlefont": {
         "size": 16
        },
        "width": 650,
        "xaxis": {
         "showgrid": false,
         "showticklabels": false,
         "zeroline": false
        },
        "yaxis": {
         "showgrid": false,
         "showticklabels": false,
         "zeroline": false
        }
       }
      },
      "text/html": [
       "<div id=\"a584f7c4-28f9-43a2-b3a0-b5bd51d7dd24\" style=\"height: 650px; width: 650px;\" class=\"plotly-graph-div\"></div><script type=\"text/javascript\">require([\"plotly\"], function(Plotly) { window.PLOTLYENV=window.PLOTLYENV || {};window.PLOTLYENV.BASE_URL=\"https://plot.ly\";Plotly.newPlot(\"a584f7c4-28f9-43a2-b3a0-b5bd51d7dd24\", [{\"hoverinfo\": \"none\", \"y\": [-3.72204827696227, -2.8322557421384027], \"x\": [-7.421418756846107, -7.6285249237951955], \"type\": \"scatter\", \"line\": {\"width\": 1.115282557992097, \"color\": \"#888\"}, \"mode\": \"lines\"}, {\"hoverinfo\": \"none\", \"y\": [2.7597529883141663, 2.0041417027951165], \"x\": [-12.358110398384234, -12.416271014206234], \"type\": \"scatter\", \"line\": {\"width\": 1.2440474851518823, \"color\": \"#888\"}, \"mode\": \"lines\"}, {\"hoverinfo\": \"none\", \"y\": [2.7597529883141663, 1.9936568055327668], \"x\": [-12.358110398384234, -13.135557863345687], \"type\": \"scatter\", \"line\": {\"width\": 1.1005697410928188, \"color\": \"#888\"}, \"mode\": \"lines\"}, {\"hoverinfo\": \"none\", \"y\": [-5.32928344518222, -5.464656038819423], \"x\": [-13.875537710711491, -13.527157887205975], \"type\": \"scatter\", \"line\": {\"width\": 2.57796079280327, \"color\": \"#888\"}, \"mode\": \"lines\"}, {\"hoverinfo\": \"none\", \"y\": [-5.32928344518222, -4.4476025797803], \"x\": [-13.875537710711491, -14.871497661265048], \"type\": \"scatter\", \"line\": {\"width\": 1.688432886253182, \"color\": \"#888\"}, \"mode\": \"lines\"}, {\"hoverinfo\": \"none\", \"y\": [-5.32928344518222, -6.0025936578907055], \"x\": [-13.875537710711491, -14.954468630341605], \"type\": \"scatter\", \"line\": {\"width\": 1.2257949000301616, \"color\": \"#888\"}, \"mode\": \"lines\"}, {\"hoverinfo\": \"none\", \"y\": [-5.32928344518222, -4.997657926517953], \"x\": [-13.875537710711491, -14.362059659931681], \"type\": \"scatter\", \"line\": {\"width\": 1.0391568865601106, \"color\": \"#888\"}, \"mode\": \"lines\"}, {\"hoverinfo\": \"none\", \"y\": [-5.32928344518222, -5.531850608732078], \"x\": [-13.875537710711491, -13.707209565894951], \"type\": \"scatter\", \"line\": {\"width\": 2.2116175509868015, \"color\": \"#888\"}, \"mode\": \"lines\"}, {\"hoverinfo\": \"none\", \"y\": [-5.32928344518222, -4.907635561614265], \"x\": [-13.875537710711491, -15.190594501558186], \"type\": \"scatter\", \"line\": {\"width\": 1.0146110052408288, \"color\": \"#888\"}, \"mode\": \"lines\"}, {\"hoverinfo\": \"none\", \"y\": [-5.32928344518222, -6.689195662075548], \"x\": [-13.875537710711491, -13.24315673940496], \"type\": \"scatter\", \"line\": {\"width\": 1.0658626000410127, \"color\": \"#888\"}, \"mode\": \"lines\"}, {\"hoverinfo\": \"none\", \"y\": [-5.32928344518222, -5.876190550342591], \"x\": [-13.875537710711491, -13.611430736159944], \"type\": \"scatter\", \"line\": {\"width\": 1.9540570469077267, \"color\": \"#888\"}, \"mode\": \"lines\"}, {\"hoverinfo\": \"none\", \"y\": [-5.32928344518222, -5.309789890205194], \"x\": [-13.875537710711491, -14.371871984258576], \"type\": \"scatter\", \"line\": {\"width\": 2.5970015432787803, \"color\": \"#888\"}, \"mode\": \"lines\"}, {\"hoverinfo\": \"none\", \"y\": [-5.32928344518222, -5.87173038695074], \"x\": [-13.875537710711491, -14.189771826738772], \"type\": \"scatter\", \"line\": {\"width\": 1.0701516595661367, \"color\": \"#888\"}, \"mode\": \"lines\"}, {\"hoverinfo\": \"none\", \"y\": [-5.32928344518222, -5.142310599034572], \"x\": [-13.875537710711491, -13.222042469817788], \"type\": \"scatter\", \"line\": {\"width\": 1.3700281403734758, \"color\": \"#888\"}, \"mode\": \"lines\"}, {\"hoverinfo\": \"none\", \"y\": [-5.32928344518222, -5.930339137052623], \"x\": [-13.875537710711491, -13.88035938362524], \"type\": \"scatter\", \"line\": {\"width\": 1.131212427299267, \"color\": \"#888\"}, \"mode\": \"lines\"}, {\"hoverinfo\": \"none\", \"y\": [-5.32928344518222, -5.589642377557384], \"x\": [-13.875537710711491, -14.337115099508948], \"type\": \"scatter\", \"line\": {\"width\": 1.1525315474835547, \"color\": \"#888\"}, \"mode\": \"lines\"}, {\"hoverinfo\": \"none\", \"y\": [-5.32928344518222, -5.340015312798051], \"x\": [-13.875537710711491, -14.43856045774682], \"type\": \"scatter\", \"line\": {\"width\": 2.566209840487566, \"color\": \"#888\"}, \"mode\": \"lines\"}, {\"hoverinfo\": \"none\", \"y\": [-5.32928344518222, -5.149943024367288], \"x\": [-13.875537710711491, -14.817113325705948], \"type\": \"scatter\", \"line\": {\"width\": 1.0835943663577714, \"color\": \"#888\"}, \"mode\": \"lines\"}, {\"hoverinfo\": \"none\", \"y\": [-5.32928344518222, -4.636006372940541], \"x\": [-13.875537710711491, -12.518872512671223], \"type\": \"scatter\", \"line\": {\"width\": 1.1089762962374756, \"color\": \"#888\"}, \"mode\": \"lines\"}, {\"hoverinfo\": \"none\", \"y\": [-5.32928344518222, -5.733405128642964], \"x\": [-13.875537710711491, -13.390218289739371], \"type\": \"scatter\", \"line\": {\"width\": 1.8558220971677355, \"color\": \"#888\"}, \"mode\": \"lines\"}, {\"hoverinfo\": \"none\", \"y\": [-5.32928344518222, -6.038017673214097], \"x\": [-13.875537710711491, -13.273225990625084], \"type\": \"scatter\", \"line\": {\"width\": 1.3967176642256418, \"color\": \"#888\"}, \"mode\": \"lines\"}, {\"hoverinfo\": \"none\", \"y\": [-5.32928344518222, -5.867735650205169], \"x\": [-13.875537710711491, -14.534578693420821], \"type\": \"scatter\", \"line\": {\"width\": 1.0013450411217402, \"color\": \"#888\"}, \"mode\": \"lines\"}, {\"hoverinfo\": \"none\", \"y\": [-5.32928344518222, -4.948323816069961], \"x\": [-13.875537710711491, -13.862864446562623], \"type\": \"scatter\", \"line\": {\"width\": 2.594732521752629, \"color\": \"#888\"}, \"mode\": \"lines\"}, {\"hoverinfo\": \"none\", \"y\": [-5.32928344518222, -4.746623249059541], \"x\": [-13.875537710711491, -13.675589562249908], \"type\": \"scatter\", \"line\": {\"width\": 1.125722206490517, \"color\": \"#888\"}, \"mode\": \"lines\"}, {\"hoverinfo\": \"none\", \"y\": [-5.32928344518222, -5.071548520780777], \"x\": [-13.875537710711491, -13.595012385775345], \"type\": \"scatter\", \"line\": {\"width\": 1.4856575845695517, \"color\": \"#888\"}, \"mode\": \"lines\"}, {\"hoverinfo\": \"none\", \"y\": [-5.32928344518222, -5.37815957036336], \"x\": [-13.875537710711491, -13.193598012960688], \"type\": \"scatter\", \"line\": {\"width\": 1.9203746711802538, \"color\": \"#888\"}, \"mode\": \"lines\"}, {\"hoverinfo\": \"none\", \"y\": [-5.32928344518222, -5.670154951244973], \"x\": [-13.875537710711491, -13.94653562468436], \"type\": \"scatter\", \"line\": {\"width\": 1.8380743319748538, \"color\": \"#888\"}, \"mode\": \"lines\"}, {\"hoverinfo\": \"none\", \"y\": [-5.32928344518222, -6.052174784794521], \"x\": [-13.875537710711491, -12.761106201381423], \"type\": \"scatter\", \"line\": {\"width\": 1.139791026075272, \"color\": \"#888\"}, \"mode\": \"lines\"}, {\"hoverinfo\": \"none\", \"y\": [-5.048295447133072, -4.868046072043308], \"x\": [-10.375425299204139, -11.368386546885946], \"type\": \"scatter\", \"line\": {\"width\": 1.2012258368689315, \"color\": \"#888\"}, \"mode\": \"lines\"}, {\"hoverinfo\": \"none\", \"y\": [-4.920766736253973, -5.566587789910302], \"x\": [-15.643188614776893, -16.060753847986447], \"type\": \"scatter\", \"line\": {\"width\": 1.0782829460041476, \"color\": \"#888\"}, \"mode\": \"lines\"}, {\"hoverinfo\": \"none\", \"y\": [-4.920766736253973, -5.309789890205194], \"x\": [-15.643188614776893, -14.371871984258576], \"type\": \"scatter\", \"line\": {\"width\": 1.316503749556375, \"color\": \"#888\"}, \"mode\": \"lines\"}, {\"hoverinfo\": \"none\", \"y\": [-4.920766736253973, -5.924729640631664], \"x\": [-15.643188614776893, -16.47167403284231], \"type\": \"scatter\", \"line\": {\"width\": 1.0300976654409664, \"color\": \"#888\"}, \"mode\": \"lines\"}, {\"hoverinfo\": \"none\", \"y\": [-4.920766736253973, -5.340015312798051], \"x\": [-15.643188614776893, -14.43856045774682], \"type\": \"scatter\", \"line\": {\"width\": 1.3015663196802976, \"color\": \"#888\"}, \"mode\": \"lines\"}, {\"hoverinfo\": \"none\", \"y\": [-4.920766736253973, -5.916024529055278], \"x\": [-15.643188614776893, -15.24633057040751], \"type\": \"scatter\", \"line\": {\"width\": 1.3322819258072858, \"color\": \"#888\"}, \"mode\": \"lines\"}, {\"hoverinfo\": \"none\", \"y\": [-4.920766736253973, -4.840032384087389], \"x\": [-15.643188614776893, -16.785895922940433], \"type\": \"scatter\", \"line\": {\"width\": 1.013889391058027, \"color\": \"#888\"}, \"mode\": \"lines\"}, {\"hoverinfo\": \"none\", \"y\": [2.7597529883141663, 2.0041417027951165], \"x\": [-12.358110398384234, -12.416271014206234], \"type\": \"scatter\", \"line\": {\"width\": 1.2440474851518823, \"color\": \"#888\"}, \"mode\": \"lines\"}, {\"hoverinfo\": \"none\", \"y\": [2.0041417027951165, 2.7241682082273706], \"x\": [-12.416271014206234, -13.259356029280449], \"type\": \"scatter\", \"line\": {\"width\": 1.000820496717732, \"color\": \"#888\"}, \"mode\": \"lines\"}, {\"hoverinfo\": \"none\", \"y\": [2.0041417027951165, 1.9936568055327668], \"x\": [-12.416271014206234, -13.135557863345687], \"type\": \"scatter\", \"line\": {\"width\": 1.141494085803745, \"color\": \"#888\"}, \"mode\": \"lines\"}, {\"hoverinfo\": \"none\", \"y\": [-5.32928344518222, -5.464656038819423], \"x\": [-13.875537710711491, -13.527157887205975], \"type\": \"scatter\", \"line\": {\"width\": 2.57796079280327, \"color\": \"#888\"}, \"mode\": \"lines\"}, {\"hoverinfo\": \"none\", \"y\": [-5.464656038819423, -4.4476025797803], \"x\": [-13.527157887205975, -14.871497661265048], \"type\": \"scatter\", \"line\": {\"width\": 1.6462838852561803, \"color\": \"#888\"}, \"mode\": \"lines\"}, {\"hoverinfo\": \"none\", \"y\": [-5.464656038819423, -4.997657926517953], \"x\": [-13.527157887205975, -14.362059659931681], \"type\": \"scatter\", \"line\": {\"width\": 1.0898044016075892, \"color\": \"#888\"}, \"mode\": \"lines\"}, {\"hoverinfo\": \"none\", \"y\": [-5.464656038819423, -5.531850608732078], \"x\": [-13.527157887205975, -13.707209565894951], \"type\": \"scatter\", \"line\": {\"width\": 1.5516215965526432, \"color\": \"#888\"}, \"mode\": \"lines\"}, {\"hoverinfo\": \"none\", \"y\": [-5.464656038819423, -5.876190550342591], \"x\": [-13.527157887205975, -13.611430736159944], \"type\": \"scatter\", \"line\": {\"width\": 1.056647300658568, \"color\": \"#888\"}, \"mode\": \"lines\"}, {\"hoverinfo\": \"none\", \"y\": [-5.464656038819423, -5.309789890205194], \"x\": [-13.527157887205975, -14.371871984258576], \"type\": \"scatter\", \"line\": {\"width\": 1.9040831646216727, \"color\": \"#888\"}, \"mode\": \"lines\"}, {\"hoverinfo\": \"none\", \"y\": [-5.464656038819423, -6.888856057905963], \"x\": [-13.527157887205975, -14.220471909568893], \"type\": \"scatter\", \"line\": {\"width\": 1.3893448469619396, \"color\": \"#888\"}, \"mode\": \"lines\"}, {\"hoverinfo\": \"none\", \"y\": [-5.464656038819423, -5.930339137052623], \"x\": [-13.527157887205975, -13.88035938362524], \"type\": \"scatter\", \"line\": {\"width\": 1.1821213295208606, \"color\": \"#888\"}, \"mode\": \"lines\"}, {\"hoverinfo\": \"none\", \"y\": [-5.464656038819423, -5.589642377557384], \"x\": [-13.527157887205975, -14.337115099508948], \"type\": \"scatter\", \"line\": {\"width\": 1.2848271338362474, \"color\": \"#888\"}, \"mode\": \"lines\"}, {\"hoverinfo\": \"none\", \"y\": [-5.464656038819423, -5.340015312798051], \"x\": [-13.527157887205975, -14.43856045774682], \"type\": \"scatter\", \"line\": {\"width\": 1.8814560634855202, \"color\": \"#888\"}, \"mode\": \"lines\"}, {\"hoverinfo\": \"none\", \"y\": [-5.464656038819423, -6.832951899584617], \"x\": [-13.527157887205975, -13.981029096872376], \"type\": \"scatter\", \"line\": {\"width\": 1.0390646546923523, \"color\": \"#888\"}, \"mode\": \"lines\"}, {\"hoverinfo\": \"none\", \"y\": [-5.464656038819423, -5.733405128642964], \"x\": [-13.527157887205975, -13.390218289739371], \"type\": \"scatter\", \"line\": {\"width\": 1.5971025916330828, \"color\": \"#888\"}, \"mode\": \"lines\"}, {\"hoverinfo\": \"none\", \"y\": [-5.464656038819423, -6.038017673214097], \"x\": [-13.527157887205975, -13.273225990625084], \"type\": \"scatter\", \"line\": {\"width\": 1.1569261667352864, \"color\": \"#888\"}, \"mode\": \"lines\"}, {\"hoverinfo\": \"none\", \"y\": [-5.464656038819423, -5.511900788772261], \"x\": [-13.527157887205975, -12.164876803560634], \"type\": \"scatter\", \"line\": {\"width\": 1.097869395831777, \"color\": \"#888\"}, \"mode\": \"lines\"}, {\"hoverinfo\": \"none\", \"y\": [-5.464656038819423, -4.948323816069961], \"x\": [-13.527157887205975, -13.862864446562623], \"type\": \"scatter\", \"line\": {\"width\": 2.1605356418869786, \"color\": \"#888\"}, \"mode\": \"lines\"}, {\"hoverinfo\": \"none\", \"y\": [-5.464656038819423, -4.746623249059541], \"x\": [-13.527157887205975, -13.675589562249908], \"type\": \"scatter\", \"line\": {\"width\": 1.2420276032284574, \"color\": \"#888\"}, \"mode\": \"lines\"}, {\"hoverinfo\": \"none\", \"y\": [-5.464656038819423, -5.670154951244973], \"x\": [-13.527157887205975, -13.94653562468436], \"type\": \"scatter\", \"line\": {\"width\": 1.3210428627216877, \"color\": \"#888\"}, \"mode\": \"lines\"}, {\"hoverinfo\": \"none\", \"y\": [4.269212475785679, 3.842756612426725], \"x\": [-10.783557959520174, -9.987279805570436], \"type\": \"scatter\", \"line\": {\"width\": 1.0221615441390333, \"color\": \"#888\"}, \"mode\": \"lines\"}, {\"hoverinfo\": \"none\", \"y\": [-5.32928344518222, -4.4476025797803], \"x\": [-13.875537710711491, -14.871497661265048], \"type\": \"scatter\", \"line\": {\"width\": 1.688432886253182, \"color\": \"#888\"}, \"mode\": \"lines\"}, {\"hoverinfo\": \"none\", \"y\": [-5.464656038819423, -4.4476025797803], \"x\": [-13.527157887205975, -14.871497661265048], \"type\": \"scatter\", \"line\": {\"width\": 1.6462838852561803, \"color\": \"#888\"}, \"mode\": \"lines\"}, {\"hoverinfo\": \"none\", \"y\": [-4.4476025797803, -4.907635561614265], \"x\": [-14.871497661265048, -15.190594501558186], \"type\": \"scatter\", \"line\": {\"width\": 1.0243173114834625, \"color\": \"#888\"}, \"mode\": \"lines\"}, {\"hoverinfo\": \"none\", \"y\": [-4.4476025797803, -5.309789890205194], \"x\": [-14.871497661265048, -14.371871984258576], \"type\": \"scatter\", \"line\": {\"width\": 1.7510529183333121, \"color\": \"#888\"}, \"mode\": \"lines\"}, {\"hoverinfo\": \"none\", \"y\": [-4.4476025797803, -5.589642377557384], \"x\": [-14.871497661265048, -14.337115099508948], \"type\": \"scatter\", \"line\": {\"width\": 1.39459880184587, \"color\": \"#888\"}, \"mode\": \"lines\"}, {\"hoverinfo\": \"none\", \"y\": [-4.4476025797803, -5.340015312798051], \"x\": [-14.871497661265048, -14.43856045774682], \"type\": \"scatter\", \"line\": {\"width\": 1.7937621694778214, \"color\": \"#888\"}, \"mode\": \"lines\"}, {\"hoverinfo\": \"none\", \"y\": [-4.4476025797803, -5.149943024367288], \"x\": [-14.871497661265048, -14.817113325705948], \"type\": \"scatter\", \"line\": {\"width\": 1.1398534458016778, \"color\": \"#888\"}, \"mode\": \"lines\"}, {\"hoverinfo\": \"none\", \"y\": [-4.4476025797803, -3.7533718180893545], \"x\": [-14.871497661265048, -16.00047798583634], \"type\": \"scatter\", \"line\": {\"width\": 1.013897428648376, \"color\": \"#888\"}, \"mode\": \"lines\"}, {\"hoverinfo\": \"none\", \"y\": [-4.4476025797803, -3.5077071554974637], \"x\": [-14.871497661265048, -15.81962269574201], \"type\": \"scatter\", \"line\": {\"width\": 1.0435661629413735, \"color\": \"#888\"}, \"mode\": \"lines\"}, {\"hoverinfo\": \"none\", \"y\": [-4.4476025797803, -4.310670236828554], \"x\": [-14.871497661265048, -16.303060544747147], \"type\": \"scatter\", \"line\": {\"width\": 1.0478064520326373, \"color\": \"#888\"}, \"mode\": \"lines\"}, {\"hoverinfo\": \"none\", \"y\": [-4.4476025797803, -4.948323816069961], \"x\": [-14.871497661265048, -13.862864446562623], \"type\": \"scatter\", \"line\": {\"width\": 1.8961156323569186, \"color\": \"#888\"}, \"mode\": \"lines\"}, {\"hoverinfo\": \"none\", \"y\": [-4.4476025797803, -4.598891617330923], \"x\": [-14.871497661265048, -14.813549771834133], \"type\": \"scatter\", \"line\": {\"width\": 1.000399796657459, \"color\": \"#888\"}, \"mode\": \"lines\"}, {\"hoverinfo\": \"none\", \"y\": [-5.32928344518222, -6.0025936578907055], \"x\": [-13.875537710711491, -14.954468630341605], \"type\": \"scatter\", \"line\": {\"width\": 1.2257949000301616, \"color\": \"#888\"}, \"mode\": \"lines\"}, {\"hoverinfo\": \"none\", \"y\": [-6.0025936578907055, -4.997657926517953], \"x\": [-14.954468630341605, -14.362059659931681], \"type\": \"scatter\", \"line\": {\"width\": 1.1894159615287128, \"color\": \"#888\"}, \"mode\": \"lines\"}, {\"hoverinfo\": \"none\", \"y\": [-6.0025936578907055, -5.531850608732078], \"x\": [-14.954468630341605, -13.707209565894951], \"type\": \"scatter\", \"line\": {\"width\": 1.0391893033339408, \"color\": \"#888\"}, \"mode\": \"lines\"}, {\"hoverinfo\": \"none\", \"y\": [-6.0025936578907055, -6.400656932273691], \"x\": [-14.954468630341605, -14.47810030254798], \"type\": \"scatter\", \"line\": {\"width\": 1.1543609904258387, \"color\": \"#888\"}, \"mode\": \"lines\"}, {\"hoverinfo\": \"none\", \"y\": [-6.0025936578907055, -5.566587789910302], \"x\": [-14.954468630341605, -16.060753847986447], \"type\": \"scatter\", \"line\": {\"width\": 1.257201928708477, \"color\": \"#888\"}, \"mode\": \"lines\"}, {\"hoverinfo\": \"none\", \"y\": [-6.0025936578907055, -5.309789890205194], \"x\": [-14.954468630341605, -14.371871984258576], \"type\": \"scatter\", \"line\": {\"width\": 1.1269075202535626, \"color\": \"#888\"}, \"mode\": \"lines\"}, {\"hoverinfo\": \"none\", \"y\": [-6.0025936578907055, -5.924729640631664], \"x\": [-14.954468630341605, -16.47167403284231], \"type\": \"scatter\", \"line\": {\"width\": 1.0103215443084737, \"color\": \"#888\"}, \"mode\": \"lines\"}, {\"hoverinfo\": \"none\", \"y\": [-6.0025936578907055, -6.491007842347108], \"x\": [-14.954468630341605, -14.200026977870785], \"type\": \"scatter\", \"line\": {\"width\": 1.0829103671353115, \"color\": \"#888\"}, \"mode\": \"lines\"}, {\"hoverinfo\": \"none\", \"y\": [-6.0025936578907055, -5.367590516567743], \"x\": [-14.954468630341605, -15.717211012483808], \"type\": \"scatter\", \"line\": {\"width\": 1.0446384886259727, \"color\": \"#888\"}, \"mode\": \"lines\"}, {\"hoverinfo\": \"none\", \"y\": [-6.0025936578907055, -6.888856057905963], \"x\": [-14.954468630341605, -14.220471909568893], \"type\": \"scatter\", \"line\": {\"width\": 1.205932253920299, \"color\": \"#888\"}, \"mode\": \"lines\"}, {\"hoverinfo\": \"none\", \"y\": [-6.0025936578907055, -5.589642377557384], \"x\": [-14.954468630341605, -14.337115099508948], \"type\": \"scatter\", \"line\": {\"width\": 1.0679677767616238, \"color\": \"#888\"}, \"mode\": \"lines\"}, {\"hoverinfo\": \"none\", \"y\": [-6.0025936578907055, -5.340015312798051], \"x\": [-14.954468630341605, -14.43856045774682], \"type\": \"scatter\", \"line\": {\"width\": 1.1107805467841665, \"color\": \"#888\"}, \"mode\": \"lines\"}, {\"hoverinfo\": \"none\", \"y\": [-6.0025936578907055, -6.507485318880583], \"x\": [-14.954468630341605, -14.895945710193905], \"type\": \"scatter\", \"line\": {\"width\": 1.2391513453871246, \"color\": \"#888\"}, \"mode\": \"lines\"}, {\"hoverinfo\": \"none\", \"y\": [-6.0025936578907055, -6.832951899584617], \"x\": [-14.954468630341605, -13.981029096872376], \"type\": \"scatter\", \"line\": {\"width\": 1.0103277113363722, \"color\": \"#888\"}, \"mode\": \"lines\"}, {\"hoverinfo\": \"none\", \"y\": [-6.0025936578907055, -6.193450742401886], \"x\": [-14.954468630341605, -13.894885252196177], \"type\": \"scatter\", \"line\": {\"width\": 1.1074856560433903, \"color\": \"#888\"}, \"mode\": \"lines\"}, {\"hoverinfo\": \"none\", \"y\": [-3.9899647066405595, -5.309789890205194], \"x\": [-13.996742299482742, -14.371871984258576], \"type\": \"scatter\", \"line\": {\"width\": 1.0025563006527958, \"color\": \"#888\"}, \"mode\": \"lines\"}, {\"hoverinfo\": \"none\", \"y\": [-3.9899647066405595, -3.229877120455521], \"x\": [-13.996742299482742, -13.445922253012837], \"type\": \"scatter\", \"line\": {\"width\": 1.074719847328358, \"color\": \"#888\"}, \"mode\": \"lines\"}, {\"hoverinfo\": \"none\", \"y\": [-3.9899647066405595, -2.900222090616298], \"x\": [-13.996742299482742, -14.609022694834321], \"type\": \"scatter\", \"line\": {\"width\": 1.1563698198762682, \"color\": \"#888\"}, \"mode\": \"lines\"}, {\"hoverinfo\": \"none\", \"y\": [-3.9899647066405595, -2.91931092816861], \"x\": [-13.996742299482742, -14.08296077725767], \"type\": \"scatter\", \"line\": {\"width\": 1.5760945006102047, \"color\": \"#888\"}, \"mode\": \"lines\"}, {\"hoverinfo\": \"none\", \"y\": [-3.9899647066405595, -3.9299109157582914], \"x\": [-13.996742299482742, -14.265225489671783], \"type\": \"scatter\", \"line\": {\"width\": 1.4590317114047062, \"color\": \"#888\"}, \"mode\": \"lines\"}, {\"hoverinfo\": \"none\", \"y\": [-7.849823638865185, -7.567300842448139], \"x\": [-13.707691486982672, -14.121106121702685], \"type\": \"scatter\", \"line\": {\"width\": 1.1648818215959975, \"color\": \"#888\"}, \"mode\": \"lines\"}, {\"hoverinfo\": \"none\", \"y\": [-7.849823638865185, -7.34091427117728], \"x\": [-13.707691486982672, -14.610294342996928], \"type\": \"scatter\", \"line\": {\"width\": 1.01777505967313, \"color\": \"#888\"}, \"mode\": \"lines\"}, {\"hoverinfo\": \"none\", \"y\": [-7.849823638865185, -6.689195662075548], \"x\": [-13.707691486982672, -13.24315673940496], \"type\": \"scatter\", \"line\": {\"width\": 1.12938419146808, \"color\": \"#888\"}, \"mode\": \"lines\"}, {\"hoverinfo\": \"none\", \"y\": [-7.849823638865185, -6.888856057905963], \"x\": [-13.707691486982672, -14.220471909568893], \"type\": \"scatter\", \"line\": {\"width\": 1.0249025539761067, \"color\": \"#888\"}, \"mode\": \"lines\"}, {\"hoverinfo\": \"none\", \"y\": [-5.32928344518222, -4.997657926517953], \"x\": [-13.875537710711491, -14.362059659931681], \"type\": \"scatter\", \"line\": {\"width\": 1.0391568865601106, \"color\": \"#888\"}, \"mode\": \"lines\"}, {\"hoverinfo\": \"none\", \"y\": [-5.464656038819423, -4.997657926517953], \"x\": [-13.527157887205975, -14.362059659931681], \"type\": \"scatter\", \"line\": {\"width\": 1.0898044016075892, \"color\": \"#888\"}, \"mode\": \"lines\"}, {\"hoverinfo\": \"none\", \"y\": [-6.0025936578907055, -4.997657926517953], \"x\": [-14.954468630341605, -14.362059659931681], \"type\": \"scatter\", \"line\": {\"width\": 1.1894159615287128, \"color\": \"#888\"}, \"mode\": \"lines\"}, {\"hoverinfo\": \"none\", \"y\": [-4.997657926517953, -5.531850608732078], \"x\": [-14.362059659931681, -13.707209565894951], \"type\": \"scatter\", \"line\": {\"width\": 1.519327217101608, \"color\": \"#888\"}, \"mode\": \"lines\"}, {\"hoverinfo\": \"none\", \"y\": [-4.997657926517953, -5.566587789910302], \"x\": [-14.362059659931681, -16.060753847986447], \"type\": \"scatter\", \"line\": {\"width\": 1.0172628459319746, \"color\": \"#888\"}, \"mode\": \"lines\"}, {\"hoverinfo\": \"none\", \"y\": [-4.997657926517953, -5.876190550342591], \"x\": [-14.362059659931681, -13.611430736159944], \"type\": \"scatter\", \"line\": {\"width\": 1.1856272885034096, \"color\": \"#888\"}, \"mode\": \"lines\"}, {\"hoverinfo\": \"none\", \"y\": [-4.997657926517953, -5.309789890205194], \"x\": [-14.362059659931681, -14.371871984258576], \"type\": \"scatter\", \"line\": {\"width\": 1.9291399195771364, \"color\": \"#888\"}, \"mode\": \"lines\"}, {\"hoverinfo\": \"none\", \"y\": [-4.997657926517953, -5.142310599034572], \"x\": [-14.362059659931681, -13.222042469817788], \"type\": \"scatter\", \"line\": {\"width\": 1.1609738192550456, \"color\": \"#888\"}, \"mode\": \"lines\"}, {\"hoverinfo\": \"none\", \"y\": [-4.997657926517953, -5.930339137052623], \"x\": [-14.362059659931681, -13.88035938362524], \"type\": \"scatter\", \"line\": {\"width\": 1.2804779185775017, \"color\": \"#888\"}, \"mode\": \"lines\"}, {\"hoverinfo\": \"none\", \"y\": [-4.997657926517953, -5.589642377557384], \"x\": [-14.362059659931681, -14.337115099508948], \"type\": \"scatter\", \"line\": {\"width\": 1.2091363920549865, \"color\": \"#888\"}, \"mode\": \"lines\"}, {\"hoverinfo\": \"none\", \"y\": [-4.997657926517953, -5.340015312798051], \"x\": [-14.362059659931681, -14.43856045774682], \"type\": \"scatter\", \"line\": {\"width\": 1.9066601669415097, \"color\": \"#888\"}, \"mode\": \"lines\"}, {\"hoverinfo\": \"none\", \"y\": [-4.997657926517953, -5.387738780527072], \"x\": [-14.362059659931681, -15.28225172984896], \"type\": \"scatter\", \"line\": {\"width\": 1.0639997301915696, \"color\": \"#888\"}, \"mode\": \"lines\"}, {\"hoverinfo\": \"none\", \"y\": [-4.997657926517953, -5.733405128642964], \"x\": [-14.362059659931681, -13.390218289739371], \"type\": \"scatter\", \"line\": {\"width\": 1.6347214072895269, \"color\": \"#888\"}, \"mode\": \"lines\"}, {\"hoverinfo\": \"none\", \"y\": [-4.997657926517953, -4.948323816069961], \"x\": [-14.362059659931681, -13.862864446562623], \"type\": \"scatter\", \"line\": {\"width\": 1.2278487481778746, \"color\": \"#888\"}, \"mode\": \"lines\"}, {\"hoverinfo\": \"none\", \"y\": [-4.997657926517953, -4.746623249059541], \"x\": [-14.362059659931681, -13.675589562249908], \"type\": \"scatter\", \"line\": {\"width\": 1.0943983333337945, \"color\": \"#888\"}, \"mode\": \"lines\"}, {\"hoverinfo\": \"none\", \"y\": [-4.997657926517953, -4.675896407068778], \"x\": [-14.362059659931681, -15.438938010325261], \"type\": \"scatter\", \"line\": {\"width\": 1.6196872997136325, \"color\": \"#888\"}, \"mode\": \"lines\"}, {\"hoverinfo\": \"none\", \"y\": [-4.997657926517953, -5.071548520780777], \"x\": [-14.362059659931681, -13.595012385775345], \"type\": \"scatter\", \"line\": {\"width\": 1.295861474926493, \"color\": \"#888\"}, \"mode\": \"lines\"}, {\"hoverinfo\": \"none\", \"y\": [-4.997657926517953, -5.670154951244973], \"x\": [-14.362059659931681, -13.94653562468436], \"type\": \"scatter\", \"line\": {\"width\": 1.1099042947056785, \"color\": \"#888\"}, \"mode\": \"lines\"}, {\"hoverinfo\": \"none\", \"y\": [-4.997657926517953, -4.9158561143212465], \"x\": [-14.362059659931681, -14.914940275618951], \"type\": \"scatter\", \"line\": {\"width\": 1.3857138204432617, \"color\": \"#888\"}, \"mode\": \"lines\"}, {\"hoverinfo\": \"none\", \"y\": [-5.32928344518222, -5.531850608732078], \"x\": [-13.875537710711491, -13.707209565894951], \"type\": \"scatter\", \"line\": {\"width\": 2.2116175509868015, \"color\": \"#888\"}, \"mode\": \"lines\"}, {\"hoverinfo\": \"none\", \"y\": [-5.464656038819423, -5.531850608732078], \"x\": [-13.527157887205975, -13.707209565894951], \"type\": \"scatter\", \"line\": {\"width\": 1.5516215965526432, \"color\": \"#888\"}, \"mode\": \"lines\"}, {\"hoverinfo\": \"none\", \"y\": [-6.0025936578907055, -5.531850608732078], \"x\": [-14.954468630341605, -13.707209565894951], \"type\": \"scatter\", \"line\": {\"width\": 1.0391893033339408, \"color\": \"#888\"}, \"mode\": \"lines\"}, {\"hoverinfo\": \"none\", \"y\": [-4.997657926517953, -5.531850608732078], \"x\": [-14.362059659931681, -13.707209565894951], \"type\": \"scatter\", \"line\": {\"width\": 1.519327217101608, \"color\": \"#888\"}, \"mode\": \"lines\"}, {\"hoverinfo\": \"none\", \"y\": [-5.531850608732078, -6.689195662075548], \"x\": [-13.707209565894951, -13.24315673940496], \"type\": \"scatter\", \"line\": {\"width\": 1.1219332819026966, \"color\": \"#888\"}, \"mode\": \"lines\"}, {\"hoverinfo\": \"none\", \"y\": [-5.531850608732078, -5.876190550342591], \"x\": [-13.707209565894951, -13.611430736159944], \"type\": \"scatter\", \"line\": {\"width\": 1.4691872548797291, \"color\": \"#888\"}, \"mode\": \"lines\"}, {\"hoverinfo\": \"none\", \"y\": [-5.531850608732078, -5.309789890205194], \"x\": [-13.707209565894951, -14.371871984258576], \"type\": \"scatter\", \"line\": {\"width\": 1.713190769748516, \"color\": \"#888\"}, \"mode\": \"lines\"}, {\"hoverinfo\": \"none\", \"y\": [-5.531850608732078, -5.142310599034572], \"x\": [-13.707209565894951, -13.222042469817788], \"type\": \"scatter\", \"line\": {\"width\": 1.0176904302730432, \"color\": \"#888\"}, \"mode\": \"lines\"}, {\"hoverinfo\": \"none\", \"y\": [-5.531850608732078, -5.930339137052623], \"x\": [-13.707209565894951, -13.88035938362524], \"type\": \"scatter\", \"line\": {\"width\": 1.1432091321237943, \"color\": \"#888\"}, \"mode\": \"lines\"}, {\"hoverinfo\": \"none\", \"y\": [-5.531850608732078, -5.589642377557384], \"x\": [-13.707209565894951, -14.337115099508948], \"type\": \"scatter\", \"line\": {\"width\": 1.4659683233129517, \"color\": \"#888\"}, \"mode\": \"lines\"}, {\"hoverinfo\": \"none\", \"y\": [-5.531850608732078, -5.340015312798051], \"x\": [-13.707209565894951, -14.43856045774682], \"type\": \"scatter\", \"line\": {\"width\": 1.6918335657476147, \"color\": \"#888\"}, \"mode\": \"lines\"}, {\"hoverinfo\": \"none\", \"y\": [-5.531850608732078, -4.402358898230442], \"x\": [-13.707209565894951, -14.048169730697897], \"type\": \"scatter\", \"line\": {\"width\": 1.0644477275027557, \"color\": \"#888\"}, \"mode\": \"lines\"}, {\"hoverinfo\": \"none\", \"y\": [-5.531850608732078, -4.563713429774501], \"x\": [-13.707209565894951, -14.475455276486759], \"type\": \"scatter\", \"line\": {\"width\": 1.3569822072722615, \"color\": \"#888\"}, \"mode\": \"lines\"}, {\"hoverinfo\": \"none\", \"y\": [-5.531850608732078, -5.733405128642964], \"x\": [-13.707209565894951, -13.390218289739371], \"type\": \"scatter\", \"line\": {\"width\": 2.060139133022109, \"color\": \"#888\"}, \"mode\": \"lines\"}, {\"hoverinfo\": \"none\", \"y\": [-5.531850608732078, -6.038017673214097], \"x\": [-13.707209565894951, -13.273225990625084], \"type\": \"scatter\", \"line\": {\"width\": 1.2206520106249243, \"color\": \"#888\"}, \"mode\": \"lines\"}, {\"hoverinfo\": \"none\", \"y\": [-5.531850608732078, -5.867735650205169], \"x\": [-13.707209565894951, -14.534578693420821], \"type\": \"scatter\", \"line\": {\"width\": 1.0816923517036232, \"color\": \"#888\"}, \"mode\": \"lines\"}, {\"hoverinfo\": \"none\", \"y\": [-5.531850608732078, -4.948323816069961], \"x\": [-13.707209565894951, -13.862864446562623], \"type\": \"scatter\", \"line\": {\"width\": 2.2385073862396254, \"color\": \"#888\"}, \"mode\": \"lines\"}, {\"hoverinfo\": \"none\", \"y\": [-5.531850608732078, -4.746623249059541], \"x\": [-13.707209565894951, -13.675589562249908], \"type\": \"scatter\", \"line\": {\"width\": 1.4715750407683883, \"color\": \"#888\"}, \"mode\": \"lines\"}, {\"hoverinfo\": \"none\", \"y\": [-5.531850608732078, -5.071548520780777], \"x\": [-13.707209565894951, -13.595012385775345], \"type\": \"scatter\", \"line\": {\"width\": 2.0153679748019826, \"color\": \"#888\"}, \"mode\": \"lines\"}, {\"hoverinfo\": \"none\", \"y\": [-5.531850608732078, -5.670154951244973], \"x\": [-13.707209565894951, -13.94653562468436], \"type\": \"scatter\", \"line\": {\"width\": 1.5885974793911686, \"color\": \"#888\"}, \"mode\": \"lines\"}, {\"hoverinfo\": \"none\", \"y\": [-1.8631268355922337, -2.8918310027628173], \"x\": [-13.775376605956216, -13.571478264075706], \"type\": \"scatter\", \"line\": {\"width\": 1.0081743046431522, \"color\": \"#888\"}, \"mode\": \"lines\"}, {\"hoverinfo\": \"none\", \"y\": [-7.849823638865185, -7.567300842448139], \"x\": [-13.707691486982672, -14.121106121702685], \"type\": \"scatter\", \"line\": {\"width\": 1.1648818215959975, \"color\": \"#888\"}, \"mode\": \"lines\"}, {\"hoverinfo\": \"none\", \"y\": [-7.567300842448139, -6.400656932273691], \"x\": [-14.121106121702685, -14.47810030254798], \"type\": \"scatter\", \"line\": {\"width\": 1.0316981655733792, \"color\": \"#888\"}, \"mode\": \"lines\"}, {\"hoverinfo\": \"none\", \"y\": [-7.567300842448139, -7.34091427117728], \"x\": [-14.121106121702685, -14.610294342996928], \"type\": \"scatter\", \"line\": {\"width\": 1.2360378978834887, \"color\": \"#888\"}, \"mode\": \"lines\"}, {\"hoverinfo\": \"none\", \"y\": [-7.567300842448139, -6.689195662075548], \"x\": [-14.121106121702685, -13.24315673940496], \"type\": \"scatter\", \"line\": {\"width\": 1.3481984995945968, \"color\": \"#888\"}, \"mode\": \"lines\"}, {\"hoverinfo\": \"none\", \"y\": [-7.567300842448139, -6.888856057905963], \"x\": [-14.121106121702685, -14.220471909568893], \"type\": \"scatter\", \"line\": {\"width\": 1.0647654045022001, \"color\": \"#888\"}, \"mode\": \"lines\"}, {\"hoverinfo\": \"none\", \"y\": [-7.567300842448139, -6.979374153748573], \"x\": [-14.121106121702685, -13.770553405879493], \"type\": \"scatter\", \"line\": {\"width\": 1.101530761467507, \"color\": \"#888\"}, \"mode\": \"lines\"}, {\"hoverinfo\": \"none\", \"y\": [-7.567300842448139, -6.507485318880583], \"x\": [-14.121106121702685, -14.895945710193905], \"type\": \"scatter\", \"line\": {\"width\": 1.0087318120004038, \"color\": \"#888\"}, \"mode\": \"lines\"}, {\"hoverinfo\": \"none\", \"y\": [-7.567300842448139, -6.832951899584617], \"x\": [-14.121106121702685, -13.981029096872376], \"type\": \"scatter\", \"line\": {\"width\": 1.0174386683931247, \"color\": \"#888\"}, \"mode\": \"lines\"}, {\"hoverinfo\": \"none\", \"y\": [-7.567300842448139, -7.536130655725203], \"x\": [-14.121106121702685, -13.355349687799634], \"type\": \"scatter\", \"line\": {\"width\": 1.0134647643600974, \"color\": \"#888\"}, \"mode\": \"lines\"}, {\"hoverinfo\": \"none\", \"y\": [-7.567300842448139, -8.539402461952823], \"x\": [-14.121106121702685, -14.531892159066423], \"type\": \"scatter\", \"line\": {\"width\": 1.0953804566139196, \"color\": \"#888\"}, \"mode\": \"lines\"}, {\"hoverinfo\": \"none\", \"y\": [-4.341927308619159, -3.368816112890574], \"x\": [-20.721224786113666, -20.478424288576363], \"type\": \"scatter\", \"line\": {\"width\": 1.0037672094831849, \"color\": \"#888\"}, \"mode\": \"lines\"}, {\"hoverinfo\": \"none\", \"y\": [-4.341927308619159, -3.5884130542935395], \"x\": [-20.721224786113666, -21.13125455792967], \"type\": \"scatter\", \"line\": {\"width\": 1.1230425979043548, \"color\": \"#888\"}, \"mode\": \"lines\"}, {\"hoverinfo\": \"none\", \"y\": [-4.7295253742747505, -4.814867740596674], \"x\": [-11.963572497166131, -13.270489320443948], \"type\": \"scatter\", \"line\": {\"width\": 1.1418051911270168, \"color\": \"#888\"}, \"mode\": \"lines\"}, {\"hoverinfo\": \"none\", \"y\": [-4.331536967157103, -5.309789890205194], \"x\": [-15.1943392716613, -14.371871984258576], \"type\": \"scatter\", \"line\": {\"width\": 1.0539283700693882, \"color\": \"#888\"}, \"mode\": \"lines\"}, {\"hoverinfo\": \"none\", \"y\": [-4.331536967157103, -5.340015312798051], \"x\": [-15.1943392716613, -14.43856045774682], \"type\": \"scatter\", \"line\": {\"width\": 1.0412559036608944, \"color\": \"#888\"}, \"mode\": \"lines\"}, {\"hoverinfo\": \"none\", \"y\": [-6.0025936578907055, -6.400656932273691], \"x\": [-14.954468630341605, -14.47810030254798], \"type\": \"scatter\", \"line\": {\"width\": 1.1543609904258387, \"color\": \"#888\"}, \"mode\": \"lines\"}, {\"hoverinfo\": \"none\", \"y\": [-7.567300842448139, -6.400656932273691], \"x\": [-14.121106121702685, -14.47810030254798], \"type\": \"scatter\", \"line\": {\"width\": 1.0316981655733792, \"color\": \"#888\"}, \"mode\": \"lines\"}, {\"hoverinfo\": \"none\", \"y\": [-6.400656932273691, -5.938131240021356], \"x\": [-14.47810030254798, -14.790576922423055], \"type\": \"scatter\", \"line\": {\"width\": 1.6371534026308052, \"color\": \"#888\"}, \"mode\": \"lines\"}, {\"hoverinfo\": \"none\", \"y\": [-6.400656932273691, -6.201254807051291], \"x\": [-14.47810030254798, -14.645765529985793], \"type\": \"scatter\", \"line\": {\"width\": 1.0141833903659176, \"color\": \"#888\"}, \"mode\": \"lines\"}, {\"hoverinfo\": \"none\", \"y\": [-6.400656932273691, -5.309789890205194], \"x\": [-14.47810030254798, -14.371871984258576], \"type\": \"scatter\", \"line\": {\"width\": 1.0423669327280327, \"color\": \"#888\"}, \"mode\": \"lines\"}, {\"hoverinfo\": \"none\", \"y\": [-6.400656932273691, -6.295317665169309], \"x\": [-14.47810030254798, -15.06299985540851], \"type\": \"scatter\", \"line\": {\"width\": 1.04064663228925, \"color\": \"#888\"}, \"mode\": \"lines\"}, {\"hoverinfo\": \"none\", \"y\": [-6.400656932273691, -6.491007842347108], \"x\": [-14.47810030254798, -14.200026977870785], \"type\": \"scatter\", \"line\": {\"width\": 1.1107568299331017, \"color\": \"#888\"}, \"mode\": \"lines\"}, {\"hoverinfo\": \"none\", \"y\": [-6.400656932273691, -6.888856057905963], \"x\": [-14.47810030254798, -14.220471909568893], \"type\": \"scatter\", \"line\": {\"width\": 1.2481614234145846, \"color\": \"#888\"}, \"mode\": \"lines\"}, {\"hoverinfo\": \"none\", \"y\": [-6.400656932273691, -6.736423468652748], \"x\": [-14.47810030254798, -15.851128569030708], \"type\": \"scatter\", \"line\": {\"width\": 1.2188812465617447, \"color\": \"#888\"}, \"mode\": \"lines\"}, {\"hoverinfo\": \"none\", \"y\": [-6.400656932273691, -6.325668381304119], \"x\": [-14.47810030254798, -13.54321562440723], \"type\": \"scatter\", \"line\": {\"width\": 1.1771971437456932, \"color\": \"#888\"}, \"mode\": \"lines\"}, {\"hoverinfo\": \"none\", \"y\": [-6.400656932273691, -5.930339137052623], \"x\": [-14.47810030254798, -13.88035938362524], \"type\": \"scatter\", \"line\": {\"width\": 1.0109850138118492, \"color\": \"#888\"}, \"mode\": \"lines\"}, {\"hoverinfo\": \"none\", \"y\": [-6.400656932273691, -5.589642377557384], \"x\": [-14.47810030254798, -14.337115099508948], \"type\": \"scatter\", \"line\": {\"width\": 1.0707331961635507, \"color\": \"#888\"}, \"mode\": \"lines\"}, {\"hoverinfo\": \"none\", \"y\": [-6.400656932273691, -5.340015312798051], \"x\": [-14.47810030254798, -14.43856045774682], \"type\": \"scatter\", \"line\": {\"width\": 1.0274528679010728, \"color\": \"#888\"}, \"mode\": \"lines\"}, {\"hoverinfo\": \"none\", \"y\": [-6.400656932273691, -6.507485318880583], \"x\": [-14.47810030254798, -14.895945710193905], \"type\": \"scatter\", \"line\": {\"width\": 1.4832930434014333, \"color\": \"#888\"}, \"mode\": \"lines\"}, {\"hoverinfo\": \"none\", \"y\": [-6.400656932273691, -6.832951899584617], \"x\": [-14.47810030254798, -13.981029096872376], \"type\": \"scatter\", \"line\": {\"width\": 1.0159194953047692, \"color\": \"#888\"}, \"mode\": \"lines\"}, {\"hoverinfo\": \"none\", \"y\": [-6.400656932273691, -6.93972065520944], \"x\": [-14.47810030254798, -14.616955577935325], \"type\": \"scatter\", \"line\": {\"width\": 1.389027847120075, \"color\": \"#888\"}, \"mode\": \"lines\"}, {\"hoverinfo\": \"none\", \"y\": [-6.400656932273691, -7.017099143443842], \"x\": [-14.47810030254798, -14.899682882110234], \"type\": \"scatter\", \"line\": {\"width\": 1.2809816368191018, \"color\": \"#888\"}, \"mode\": \"lines\"}, {\"hoverinfo\": \"none\", \"y\": [-6.400656932273691, -5.537184150233229], \"x\": [-14.47810030254798, -15.573741906957562], \"type\": \"scatter\", \"line\": {\"width\": 1.0484313095452267, \"color\": \"#888\"}, \"mode\": \"lines\"}, {\"hoverinfo\": \"none\", \"y\": [-6.400656932273691, -5.670154951244973], \"x\": [-14.47810030254798, -13.94653562468436], \"type\": \"scatter\", \"line\": {\"width\": 1.214072670173321, \"color\": \"#888\"}, \"mode\": \"lines\"}, {\"hoverinfo\": \"none\", \"y\": [-6.400656932273691, -7.368519936234171], \"x\": [-14.47810030254798, -14.251523252864162], \"type\": \"scatter\", \"line\": {\"width\": 1.10698679284716, \"color\": \"#888\"}, \"mode\": \"lines\"}, {\"hoverinfo\": \"none\", \"y\": [-7.586881209202562, -7.89544110645823], \"x\": [-10.126903261473295, -11.139560350679432], \"type\": \"scatter\", \"line\": {\"width\": 1.0315361785896977, \"color\": \"#888\"}, \"mode\": \"lines\"}, {\"hoverinfo\": \"none\", \"y\": [-3.0426116304140205, -4.5058576710257725], \"x\": [-14.346046867248967, -15.270463960168538], \"type\": \"scatter\", \"line\": {\"width\": 1.0289377033892784, \"color\": \"#888\"}, \"mode\": \"lines\"}, {\"hoverinfo\": \"none\", \"y\": [-3.0426116304140205, -3.3947456299180043], \"x\": [-14.346046867248967, -14.644076666866233], \"type\": \"scatter\", \"line\": {\"width\": 1.059544427587481, \"color\": \"#888\"}, \"mode\": \"lines\"}, {\"hoverinfo\": \"none\", \"y\": [-3.0426116304140205, -3.4263177964459928], \"x\": [-14.346046867248967, -15.400830662632368], \"type\": \"scatter\", \"line\": {\"width\": 1.0276082742675392, \"color\": \"#888\"}, \"mode\": \"lines\"}, {\"hoverinfo\": \"none\", \"y\": [-5.155684006072663, -4.43010290727313], \"x\": [-12.635773186908066, -13.787919497620946], \"type\": \"scatter\", \"line\": {\"width\": 1.1768508449521695, \"color\": \"#888\"}, \"mode\": \"lines\"}, {\"hoverinfo\": \"none\", \"y\": [-5.155684006072663, -4.7303986275351155], \"x\": [-12.635773186908066, -12.71233501434269], \"type\": \"scatter\", \"line\": {\"width\": 1.3533992334207599, \"color\": \"#888\"}, \"mode\": \"lines\"}, {\"hoverinfo\": \"none\", \"y\": [-5.155684006072663, -5.024824129450616], \"x\": [-12.635773186908066, -14.094060124693677], \"type\": \"scatter\", \"line\": {\"width\": 1.1375442406461065, \"color\": \"#888\"}, \"mode\": \"lines\"}, {\"hoverinfo\": \"none\", \"y\": [-5.155684006072663, -5.670154951244973], \"x\": [-12.635773186908066, -13.94653562468436], \"type\": \"scatter\", \"line\": {\"width\": 1.1071821399859498, \"color\": \"#888\"}, \"mode\": \"lines\"}, {\"hoverinfo\": \"none\", \"y\": [-4.37128180082043, -5.309789890205194], \"x\": [-13.488565177169946, -14.371871984258576], \"type\": \"scatter\", \"line\": {\"width\": 1.3313657603805105, \"color\": \"#888\"}, \"mode\": \"lines\"}, {\"hoverinfo\": \"none\", \"y\": [-4.37128180082043, -5.340015312798051], \"x\": [-13.488565177169946, -14.43856045774682], \"type\": \"scatter\", \"line\": {\"width\": 1.315584544815094, \"color\": \"#888\"}, \"mode\": \"lines\"}, {\"hoverinfo\": \"none\", \"y\": [-4.37128180082043, -4.133770859505214], \"x\": [-13.488565177169946, -12.241731349316966], \"type\": \"scatter\", \"line\": {\"width\": 1.0247627551096392, \"color\": \"#888\"}, \"mode\": \"lines\"}, {\"hoverinfo\": \"none\", \"y\": [-4.37128180082043, -4.948323816069961], \"x\": [-13.488565177169946, -13.862864446562623], \"type\": \"scatter\", \"line\": {\"width\": 1.039148394464184, \"color\": \"#888\"}, \"mode\": \"lines\"}, {\"hoverinfo\": \"none\", \"y\": [-4.37128180082043, -5.071548520780777], \"x\": [-13.488565177169946, -13.595012385775345], \"type\": \"scatter\", \"line\": {\"width\": 1.087335300402193, \"color\": \"#888\"}, \"mode\": \"lines\"}, {\"hoverinfo\": \"none\", \"y\": [-2.202834356611686, -2.8918310027628173], \"x\": [-12.768571916377084, -13.571478264075706], \"type\": \"scatter\", \"line\": {\"width\": 1.0567132183017802, \"color\": \"#888\"}, \"mode\": \"lines\"}, {\"hoverinfo\": \"none\", \"y\": [-6.400656932273691, -5.938131240021356], \"x\": [-14.47810030254798, -14.790576922423055], \"type\": \"scatter\", \"line\": {\"width\": 1.6371534026308052, \"color\": \"#888\"}, \"mode\": \"lines\"}, {\"hoverinfo\": \"none\", \"y\": [-5.938131240021356, -5.876190550342591], \"x\": [-14.790576922423055, -13.611430736159944], \"type\": \"scatter\", \"line\": {\"width\": 1.1270270101437254, \"color\": \"#888\"}, \"mode\": \"lines\"}, {\"hoverinfo\": \"none\", \"y\": [-5.938131240021356, -5.309789890205194], \"x\": [-14.790576922423055, -14.371871984258576], \"type\": \"scatter\", \"line\": {\"width\": 1.2693981784240256, \"color\": \"#888\"}, \"mode\": \"lines\"}, {\"hoverinfo\": \"none\", \"y\": [-5.938131240021356, -6.295317665169309], \"x\": [-14.790576922423055, -15.06299985540851], \"type\": \"scatter\", \"line\": {\"width\": 1.0170497165325973, \"color\": \"#888\"}, \"mode\": \"lines\"}, {\"hoverinfo\": \"none\", \"y\": [-5.938131240021356, -6.736423468652748], \"x\": [-14.790576922423055, -15.851128569030708], \"type\": \"scatter\", \"line\": {\"width\": 1.1612526769517293, \"color\": \"#888\"}, \"mode\": \"lines\"}, {\"hoverinfo\": \"none\", \"y\": [-5.938131240021356, -5.589642377557384], \"x\": [-14.790576922423055, -14.337115099508948], \"type\": \"scatter\", \"line\": {\"width\": 1.0623490685536305, \"color\": \"#888\"}, \"mode\": \"lines\"}, {\"hoverinfo\": \"none\", \"y\": [-5.938131240021356, -5.340015312798051], \"x\": [-14.790576922423055, -14.43856045774682], \"type\": \"scatter\", \"line\": {\"width\": 1.251505001338207, \"color\": \"#888\"}, \"mode\": \"lines\"}, {\"hoverinfo\": \"none\", \"y\": [-5.938131240021356, -6.507485318880583], \"x\": [-14.790576922423055, -14.895945710193905], \"type\": \"scatter\", \"line\": {\"width\": 1.300990766960133, \"color\": \"#888\"}, \"mode\": \"lines\"}, {\"hoverinfo\": \"none\", \"y\": [-5.938131240021356, -6.832951899584617], \"x\": [-14.790576922423055, -13.981029096872376], \"type\": \"scatter\", \"line\": {\"width\": 1.016731652620529, \"color\": \"#888\"}, \"mode\": \"lines\"}, {\"hoverinfo\": \"none\", \"y\": [-5.938131240021356, -5.149943024367288], \"x\": [-14.790576922423055, -14.817113325705948], \"type\": \"scatter\", \"line\": {\"width\": 1.1984960462707082, \"color\": \"#888\"}, \"mode\": \"lines\"}, {\"hoverinfo\": \"none\", \"y\": [-5.938131240021356, -6.93972065520944], \"x\": [-14.790576922423055, -14.616955577935325], \"type\": \"scatter\", \"line\": {\"width\": 1.3038656131771333, \"color\": \"#888\"}, \"mode\": \"lines\"}, {\"hoverinfo\": \"none\", \"y\": [-5.938131240021356, -4.5058576710257725], \"x\": [-14.790576922423055, -15.270463960168538], \"type\": \"scatter\", \"line\": {\"width\": 1.2236205374900375, \"color\": \"#888\"}, \"mode\": \"lines\"}, {\"hoverinfo\": \"none\", \"y\": [-5.938131240021356, -7.017099143443842], \"x\": [-14.790576922423055, -14.899682882110234], \"type\": \"scatter\", \"line\": {\"width\": 1.27430688221318, \"color\": \"#888\"}, \"mode\": \"lines\"}, {\"hoverinfo\": \"none\", \"y\": [-5.938131240021356, -5.024824129450616], \"x\": [-14.790576922423055, -14.094060124693677], \"type\": \"scatter\", \"line\": {\"width\": 1.3020081673906392, \"color\": \"#888\"}, \"mode\": \"lines\"}, {\"hoverinfo\": \"none\", \"y\": [-5.938131240021356, -6.355602529130001], \"x\": [-14.790576922423055, -16.267835709249958], \"type\": \"scatter\", \"line\": {\"width\": 1.065898236688193, \"color\": \"#888\"}, \"mode\": \"lines\"}, {\"hoverinfo\": \"none\", \"y\": [-5.938131240021356, -5.537184150233229], \"x\": [-14.790576922423055, -15.573741906957562], \"type\": \"scatter\", \"line\": {\"width\": 1.3884330604881154, \"color\": \"#888\"}, \"mode\": \"lines\"}, {\"hoverinfo\": \"none\", \"y\": [-5.938131240021356, -5.670154951244973], \"x\": [-14.790576922423055, -13.94653562468436], \"type\": \"scatter\", \"line\": {\"width\": 1.1489777860747632, \"color\": \"#888\"}, \"mode\": \"lines\"}, {\"hoverinfo\": \"none\", \"y\": [-5.938131240021356, -7.368519936234171], \"x\": [-14.790576922423055, -14.251523252864162], \"type\": \"scatter\", \"line\": {\"width\": 1.0262180960617426, \"color\": \"#888\"}, \"mode\": \"lines\"}, {\"hoverinfo\": \"none\", \"y\": [-5.938131240021356, -4.598891617330923], \"x\": [-14.790576922423055, -14.813549771834133], \"type\": \"scatter\", \"line\": {\"width\": 1.14065775250979, \"color\": \"#888\"}, \"mode\": \"lines\"}, {\"hoverinfo\": \"none\", \"y\": [1.4516582156974511, 1.0265196601417719], \"x\": [-11.244240282210873, -10.49470355259253], \"type\": \"scatter\", \"line\": {\"width\": 1.1582870114175923, \"color\": \"#888\"}, \"mode\": \"lines\"}, {\"hoverinfo\": \"none\", \"y\": [1.4516582156974511, 1.9014101903728275], \"x\": [-11.244240282210873, -10.473368711807028], \"type\": \"scatter\", \"line\": {\"width\": 1.071128511782815, \"color\": \"#888\"}, \"mode\": \"lines\"}, {\"hoverinfo\": \"none\", \"y\": [-1.8631268355922337, -2.8918310027628173], \"x\": [-13.775376605956216, -13.571478264075706], \"type\": \"scatter\", \"line\": {\"width\": 1.0081743046431522, \"color\": \"#888\"}, \"mode\": \"lines\"}, {\"hoverinfo\": \"none\", \"y\": [-2.202834356611686, -2.8918310027628173], \"x\": [-12.768571916377084, -13.571478264075706], \"type\": \"scatter\", \"line\": {\"width\": 1.0567132183017802, \"color\": \"#888\"}, \"mode\": \"lines\"}, {\"hoverinfo\": \"none\", \"y\": [-2.8918310027628173, -2.91931092816861], \"x\": [-13.571478264075706, -14.08296077725767], \"type\": \"scatter\", \"line\": {\"width\": 1.0073463770523887, \"color\": \"#888\"}, \"mode\": \"lines\"}, {\"hoverinfo\": \"none\", \"y\": [-2.8918310027628173, -3.9299109157582914], \"x\": [-13.571478264075706, -14.265225489671783], \"type\": \"scatter\", \"line\": {\"width\": 1.0182271896430728, \"color\": \"#888\"}, \"mode\": \"lines\"}, {\"hoverinfo\": \"none\", \"y\": [-5.32928344518222, -4.907635561614265], \"x\": [-13.875537710711491, -15.190594501558186], \"type\": \"scatter\", \"line\": {\"width\": 1.0146110052408288, \"color\": \"#888\"}, \"mode\": \"lines\"}, {\"hoverinfo\": \"none\", \"y\": [-4.4476025797803, -4.907635561614265], \"x\": [-14.871497661265048, -15.190594501558186], \"type\": \"scatter\", \"line\": {\"width\": 1.0243173114834625, \"color\": \"#888\"}, \"mode\": \"lines\"}, {\"hoverinfo\": \"none\", \"y\": [-4.907635561614265, -5.309789890205194], \"x\": [-15.190594501558186, -14.371871984258576], \"type\": \"scatter\", \"line\": {\"width\": 1.381587268864401, \"color\": \"#888\"}, \"mode\": \"lines\"}, {\"hoverinfo\": \"none\", \"y\": [-4.907635561614265, -5.367590516567743], \"x\": [-15.190594501558186, -15.717211012483808], \"type\": \"scatter\", \"line\": {\"width\": 1.1790582434587684, \"color\": \"#888\"}, \"mode\": \"lines\"}, {\"hoverinfo\": \"none\", \"y\": [-4.907635561614265, -4.718698595445405], \"x\": [-15.190594501558186, -16.369973290532833], \"type\": \"scatter\", \"line\": {\"width\": 1.093322173938592, \"color\": \"#888\"}, \"mode\": \"lines\"}, {\"hoverinfo\": \"none\", \"y\": [-4.907635561614265, -5.87173038695074], \"x\": [-15.190594501558186, -14.189771826738772], \"type\": \"scatter\", \"line\": {\"width\": 1.0333383319246838, \"color\": \"#888\"}, \"mode\": \"lines\"}, {\"hoverinfo\": \"none\", \"y\": [-4.907635561614265, -5.634570573180639], \"x\": [-15.190594501558186, -15.150173669132453], \"type\": \"scatter\", \"line\": {\"width\": 1.2615964429238864, \"color\": \"#888\"}, \"mode\": \"lines\"}, {\"hoverinfo\": \"none\", \"y\": [-4.907635561614265, -5.340015312798051], \"x\": [-15.190594501558186, -14.43856045774682], \"type\": \"scatter\", \"line\": {\"width\": 1.3636061225836045, \"color\": \"#888\"}, \"mode\": \"lines\"}, {\"hoverinfo\": \"none\", \"y\": [-4.907635561614265, -5.149943024367288], \"x\": [-15.190594501558186, -14.817113325705948], \"type\": \"scatter\", \"line\": {\"width\": 1.0291797412739954, \"color\": \"#888\"}, \"mode\": \"lines\"}, {\"hoverinfo\": \"none\", \"y\": [-4.907635561614265, -5.387738780527072], \"x\": [-15.190594501558186, -15.28225172984896], \"type\": \"scatter\", \"line\": {\"width\": 1.0146031495542491, \"color\": \"#888\"}, \"mode\": \"lines\"}, {\"hoverinfo\": \"none\", \"y\": [-4.907635561614265, -4.675896407068778], \"x\": [-15.190594501558186, -15.438938010325261], \"type\": \"scatter\", \"line\": {\"width\": 1.0164502373755715, \"color\": \"#888\"}, \"mode\": \"lines\"}, {\"hoverinfo\": \"none\", \"y\": [-6.838172886473517, -6.201254807051291], \"x\": [-15.031880911245818, -14.645765529985793], \"type\": \"scatter\", \"line\": {\"width\": 1.2014805783755724, \"color\": \"#888\"}, \"mode\": \"lines\"}, {\"hoverinfo\": \"none\", \"y\": [-6.838172886473517, -6.295317665169309], \"x\": [-15.031880911245818, -15.06299985540851], \"type\": \"scatter\", \"line\": {\"width\": 1.1138911894863133, \"color\": \"#888\"}, \"mode\": \"lines\"}, {\"hoverinfo\": \"none\", \"y\": [-6.838172886473517, -5.87173038695074], \"x\": [-15.031880911245818, -14.189771826738772], \"type\": \"scatter\", \"line\": {\"width\": 1.176426936885183, \"color\": \"#888\"}, \"mode\": \"lines\"}, {\"hoverinfo\": \"none\", \"y\": [-6.838172886473517, -6.979374153748573], \"x\": [-15.031880911245818, -13.770553405879493], \"type\": \"scatter\", \"line\": {\"width\": 1.0229105301520915, \"color\": \"#888\"}, \"mode\": \"lines\"}, {\"hoverinfo\": \"none\", \"y\": [-6.838172886473517, -6.0598151704403165], \"x\": [-15.031880911245818, -15.41477323554502], \"type\": \"scatter\", \"line\": {\"width\": 1.2245279375100873, \"color\": \"#888\"}, \"mode\": \"lines\"}, {\"hoverinfo\": \"none\", \"y\": [-6.838172886473517, -6.329600572063244], \"x\": [-15.031880911245818, -15.264536165409725], \"type\": \"scatter\", \"line\": {\"width\": 1.101846943540752, \"color\": \"#888\"}, \"mode\": \"lines\"}, {\"hoverinfo\": \"none\", \"y\": [-6.838172886473517, -5.638625502914219], \"x\": [-15.031880911245818, -14.753566114591269], \"type\": \"scatter\", \"line\": {\"width\": 1.1276664619108372, \"color\": \"#888\"}, \"mode\": \"lines\"}, {\"hoverinfo\": \"none\", \"y\": [-6.838172886473517, -5.867735650205169], \"x\": [-15.031880911245818, -14.534578693420821], \"type\": \"scatter\", \"line\": {\"width\": 1.1143542077789714, \"color\": \"#888\"}, \"mode\": \"lines\"}, {\"hoverinfo\": \"none\", \"y\": [-6.838172886473517, -5.806596942822509], \"x\": [-15.031880911245818, -15.497439241197572], \"type\": \"scatter\", \"line\": {\"width\": 1.2841756270730427, \"color\": \"#888\"}, \"mode\": \"lines\"}, {\"hoverinfo\": \"none\", \"y\": [-6.838172886473517, -5.529484149368032], \"x\": [-15.031880911245818, -15.013124154598115], \"type\": \"scatter\", \"line\": {\"width\": 1.1269710207281634, \"color\": \"#888\"}, \"mode\": \"lines\"}, {\"hoverinfo\": \"none\", \"y\": [-6.838172886473517, -6.457956231183889], \"x\": [-15.031880911245818, -14.61875612341671], \"type\": \"scatter\", \"line\": {\"width\": 1.8293488207175532, \"color\": \"#888\"}, \"mode\": \"lines\"}, {\"hoverinfo\": \"none\", \"y\": [-5.206796894862642, -5.726698746391567], \"x\": [-16.853929849925986, -17.872139148439057], \"type\": \"scatter\", \"line\": {\"width\": 1.040035629749341, \"color\": \"#888\"}, \"mode\": \"lines\"}, {\"hoverinfo\": \"none\", \"y\": [-5.206796894862642, -5.537184150233229], \"x\": [-16.853929849925986, -15.573741906957562], \"type\": \"scatter\", \"line\": {\"width\": 1.0080409976690115, \"color\": \"#888\"}, \"mode\": \"lines\"}, {\"hoverinfo\": \"none\", \"y\": [-5.206796894862642, -4.479264697716163], \"x\": [-16.853929849925986, -17.694988821261077], \"type\": \"scatter\", \"line\": {\"width\": 1.2312097071671984, \"color\": \"#888\"}, \"mode\": \"lines\"}, {\"hoverinfo\": \"none\", \"y\": [-5.206796894862642, -5.100824687457911], \"x\": [-16.853929849925986, -17.866002807707734], \"type\": \"scatter\", \"line\": {\"width\": 1.165453709031058, \"color\": \"#888\"}, \"mode\": \"lines\"}, {\"hoverinfo\": \"none\", \"y\": [-3.5288621511908427, -4.814867740596674], \"x\": [-13.09713495454668, -13.270489320443948], \"type\": \"scatter\", \"line\": {\"width\": 1.049328234297132, \"color\": \"#888\"}, \"mode\": \"lines\"}, {\"hoverinfo\": \"none\", \"y\": [-3.5288621511908427, -3.315088065905645], \"x\": [-13.09713495454668, -12.371455468108477], \"type\": \"scatter\", \"line\": {\"width\": 1.0237158988547368, \"color\": \"#888\"}, \"mode\": \"lines\"}, {\"hoverinfo\": \"none\", \"y\": [-3.5288621511908427, -3.229877120455521], \"x\": [-13.09713495454668, -13.445922253012837], \"type\": \"scatter\", \"line\": {\"width\": 1.2664803789354053, \"color\": \"#888\"}, \"mode\": \"lines\"}, {\"hoverinfo\": \"none\", \"y\": [-3.5288621511908427, -4.080508516917675], \"x\": [-13.09713495454668, -14.531025161560613], \"type\": \"scatter\", \"line\": {\"width\": 1.0129143583647515, \"color\": \"#888\"}, \"mode\": \"lines\"}, {\"hoverinfo\": \"none\", \"y\": [-3.0707153765384603, -4.080508516917675], \"x\": [-15.337884524937785, -14.531025161560613], \"type\": \"scatter\", \"line\": {\"width\": 1.1073355126124376, \"color\": \"#888\"}, \"mode\": \"lines\"}, {\"hoverinfo\": \"none\", \"y\": [0.4565068393884585, 1.0265196601417719], \"x\": [-9.816578777142215, -10.49470355259253], \"type\": \"scatter\", \"line\": {\"width\": 1.1771785420367555, \"color\": \"#888\"}, \"mode\": \"lines\"}, {\"hoverinfo\": \"none\", \"y\": [-6.400656932273691, -6.201254807051291], \"x\": [-14.47810030254798, -14.645765529985793], \"type\": \"scatter\", \"line\": {\"width\": 1.0141833903659176, \"color\": \"#888\"}, \"mode\": \"lines\"}, {\"hoverinfo\": \"none\", \"y\": [-6.838172886473517, -6.201254807051291], \"x\": [-15.031880911245818, -14.645765529985793], \"type\": \"scatter\", \"line\": {\"width\": 1.2014805783755724, \"color\": \"#888\"}, \"mode\": \"lines\"}, {\"hoverinfo\": \"none\", \"y\": [-6.201254807051291, -5.309789890205194], \"x\": [-14.645765529985793, -14.371871984258576], \"type\": \"scatter\", \"line\": {\"width\": 1.1464411942901618, \"color\": \"#888\"}, \"mode\": \"lines\"}, {\"hoverinfo\": \"none\", \"y\": [-6.201254807051291, -6.295317665169309], \"x\": [-14.645765529985793, -15.06299985540851], \"type\": \"scatter\", \"line\": {\"width\": 1.2534008462211892, \"color\": \"#888\"}, \"mode\": \"lines\"}, {\"hoverinfo\": \"none\", \"y\": [-6.201254807051291, -6.491007842347108], \"x\": [-14.645765529985793, -14.200026977870785], \"type\": \"scatter\", \"line\": {\"width\": 1.3890291732029427, \"color\": \"#888\"}, \"mode\": \"lines\"}, {\"hoverinfo\": \"none\", \"y\": [-6.201254807051291, -5.87173038695074], \"x\": [-14.645765529985793, -14.189771826738772], \"type\": \"scatter\", \"line\": {\"width\": 1.2511525607865748, \"color\": \"#888\"}, \"mode\": \"lines\"}, {\"hoverinfo\": \"none\", \"y\": [-6.201254807051291, -6.325668381304119], \"x\": [-14.645765529985793, -13.54321562440723], \"type\": \"scatter\", \"line\": {\"width\": 1.0483439079351167, \"color\": \"#888\"}, \"mode\": \"lines\"}, {\"hoverinfo\": \"none\", \"y\": [-6.201254807051291, -5.634570573180639], \"x\": [-14.645765529985793, -15.150173669132453], \"type\": \"scatter\", \"line\": {\"width\": 1.0759072517601342, \"color\": \"#888\"}, \"mode\": \"lines\"}, {\"hoverinfo\": \"none\", \"y\": [-6.201254807051291, -6.979374153748573], \"x\": [-14.645765529985793, -13.770553405879493], \"type\": \"scatter\", \"line\": {\"width\": 1.1483881519259036, \"color\": \"#888\"}, \"mode\": \"lines\"}, {\"hoverinfo\": \"none\", \"y\": [-6.201254807051291, -5.340015312798051], \"x\": [-14.645765529985793, -14.43856045774682], \"type\": \"scatter\", \"line\": {\"width\": 1.132076111448573, \"color\": \"#888\"}, \"mode\": \"lines\"}, {\"hoverinfo\": \"none\", \"y\": [-6.201254807051291, -5.149943024367288], \"x\": [-14.645765529985793, -14.817113325705948], \"type\": \"scatter\", \"line\": {\"width\": 1.0844524091290217, \"color\": \"#888\"}, \"mode\": \"lines\"}, {\"hoverinfo\": \"none\", \"y\": [-6.201254807051291, -6.0598151704403165], \"x\": [-14.645765529985793, -15.41477323554502], \"type\": \"scatter\", \"line\": {\"width\": 1.22046042938976, \"color\": \"#888\"}, \"mode\": \"lines\"}, {\"hoverinfo\": \"none\", \"y\": [-6.201254807051291, -6.329600572063244], \"x\": [-14.645765529985793, -15.264536165409725], \"type\": \"scatter\", \"line\": {\"width\": 1.2360856728275742, \"color\": \"#888\"}, \"mode\": \"lines\"}, {\"hoverinfo\": \"none\", \"y\": [-6.201254807051291, -5.638625502914219], \"x\": [-14.645765529985793, -14.753566114591269], \"type\": \"scatter\", \"line\": {\"width\": 1.0652308067936342, \"color\": \"#888\"}, \"mode\": \"lines\"}, {\"hoverinfo\": \"none\", \"y\": [-6.201254807051291, -5.867735650205169], \"x\": [-14.645765529985793, -14.534578693420821], \"type\": \"scatter\", \"line\": {\"width\": 1.324592715833349, \"color\": \"#888\"}, \"mode\": \"lines\"}, {\"hoverinfo\": \"none\", \"y\": [-6.201254807051291, -5.806596942822509], \"x\": [-14.645765529985793, -15.497439241197572], \"type\": \"scatter\", \"line\": {\"width\": 1.3032063597556576, \"color\": \"#888\"}, \"mode\": \"lines\"}, {\"hoverinfo\": \"none\", \"y\": [-6.201254807051291, -5.529484149368032], \"x\": [-14.645765529985793, -15.013124154598115], \"type\": \"scatter\", \"line\": {\"width\": 1.1172234268593138, \"color\": \"#888\"}, \"mode\": \"lines\"}, {\"hoverinfo\": \"none\", \"y\": [-6.201254807051291, -6.457956231183889], \"x\": [-14.645765529985793, -14.61875612341671], \"type\": \"scatter\", \"line\": {\"width\": 1.1146414038575085, \"color\": \"#888\"}, \"mode\": \"lines\"}, {\"hoverinfo\": \"none\", \"y\": [-7.849823638865185, -7.34091427117728], \"x\": [-13.707691486982672, -14.610294342996928], \"type\": \"scatter\", \"line\": {\"width\": 1.01777505967313, \"color\": \"#888\"}, \"mode\": \"lines\"}, {\"hoverinfo\": \"none\", \"y\": [-7.567300842448139, -7.34091427117728], \"x\": [-14.121106121702685, -14.610294342996928], \"type\": \"scatter\", \"line\": {\"width\": 1.2360378978834887, \"color\": \"#888\"}, \"mode\": \"lines\"}, {\"hoverinfo\": \"none\", \"y\": [-7.34091427117728, -6.689195662075548], \"x\": [-14.610294342996928, -13.24315673940496], \"type\": \"scatter\", \"line\": {\"width\": 1.146699615623318, \"color\": \"#888\"}, \"mode\": \"lines\"}, {\"hoverinfo\": \"none\", \"y\": [-7.34091427117728, -6.491007842347108], \"x\": [-14.610294342996928, -14.200026977870785], \"type\": \"scatter\", \"line\": {\"width\": 1.094290245698182, \"color\": \"#888\"}, \"mode\": \"lines\"}, {\"hoverinfo\": \"none\", \"y\": [-7.34091427117728, -6.979374153748573], \"x\": [-14.610294342996928, -13.770553405879493], \"type\": \"scatter\", \"line\": {\"width\": 1.2597641475622958, \"color\": \"#888\"}, \"mode\": \"lines\"}, {\"hoverinfo\": \"none\", \"y\": [-7.34091427117728, -5.387738780527072], \"x\": [-14.610294342996928, -15.28225172984896], \"type\": \"scatter\", \"line\": {\"width\": 1.009891226732699, \"color\": \"#888\"}, \"mode\": \"lines\"}, {\"hoverinfo\": \"none\", \"y\": [-7.34091427117728, -6.457956231183889], \"x\": [-14.610294342996928, -14.61875612341671], \"type\": \"scatter\", \"line\": {\"width\": 1.1455749507040294, \"color\": \"#888\"}, \"mode\": \"lines\"}, {\"hoverinfo\": \"none\", \"y\": [-5.32928344518222, -6.689195662075548], \"x\": [-13.875537710711491, -13.24315673940496], \"type\": \"scatter\", \"line\": {\"width\": 1.0658626000410127, \"color\": \"#888\"}, \"mode\": \"lines\"}, {\"hoverinfo\": \"none\", \"y\": [-7.849823638865185, -6.689195662075548], \"x\": [-13.707691486982672, -13.24315673940496], \"type\": \"scatter\", \"line\": {\"width\": 1.12938419146808, \"color\": \"#888\"}, \"mode\": \"lines\"}, {\"hoverinfo\": \"none\", \"y\": [-5.531850608732078, -6.689195662075548], \"x\": [-13.707209565894951, -13.24315673940496], \"type\": \"scatter\", \"line\": {\"width\": 1.1219332819026966, \"color\": \"#888\"}, \"mode\": \"lines\"}, {\"hoverinfo\": \"none\", \"y\": [-7.567300842448139, -6.689195662075548], \"x\": [-14.121106121702685, -13.24315673940496], \"type\": \"scatter\", \"line\": {\"width\": 1.3481984995945968, \"color\": \"#888\"}, \"mode\": \"lines\"}, {\"hoverinfo\": \"none\", \"y\": [-7.34091427117728, -6.689195662075548], \"x\": [-14.610294342996928, -13.24315673940496], \"type\": \"scatter\", \"line\": {\"width\": 1.146699615623318, \"color\": \"#888\"}, \"mode\": \"lines\"}, {\"hoverinfo\": \"none\", \"y\": [-6.689195662075548, -5.876190550342591], \"x\": [-13.24315673940496, -13.611430736159944], \"type\": \"scatter\", \"line\": {\"width\": 1.2640652763479268, \"color\": \"#888\"}, \"mode\": \"lines\"}, {\"hoverinfo\": \"none\", \"y\": [-6.689195662075548, -6.979374153748573], \"x\": [-13.24315673940496, -13.770553405879493], \"type\": \"scatter\", \"line\": {\"width\": 1.3428936221763546, \"color\": \"#888\"}, \"mode\": \"lines\"}, {\"hoverinfo\": \"none\", \"y\": [-6.689195662075548, -6.909290102969761], \"x\": [-13.24315673940496, -12.615706303724961], \"type\": \"scatter\", \"line\": {\"width\": 1.1687158288165795, \"color\": \"#888\"}, \"mode\": \"lines\"}, {\"hoverinfo\": \"none\", \"y\": [-6.689195662075548, -5.733405128642964], \"x\": [-13.24315673940496, -13.390218289739371], \"type\": \"scatter\", \"line\": {\"width\": 1.1458170895486544, \"color\": \"#888\"}, \"mode\": \"lines\"}, {\"hoverinfo\": \"none\", \"y\": [-6.689195662075548, -6.038017673214097], \"x\": [-13.24315673940496, -13.273225990625084], \"type\": \"scatter\", \"line\": {\"width\": 1.231759241353672, \"color\": \"#888\"}, \"mode\": \"lines\"}, {\"hoverinfo\": \"none\", \"y\": [-6.689195662075548, -7.21902777395607], \"x\": [-13.24315673940496, -12.885570200590106], \"type\": \"scatter\", \"line\": {\"width\": 1.1164940239974934, \"color\": \"#888\"}, \"mode\": \"lines\"}, {\"hoverinfo\": \"none\", \"y\": [-4.920766736253973, -5.566587789910302], \"x\": [-15.643188614776893, -16.060753847986447], \"type\": \"scatter\", \"line\": {\"width\": 1.0782829460041476, \"color\": \"#888\"}, \"mode\": \"lines\"}, {\"hoverinfo\": \"none\", \"y\": [-6.0025936578907055, -5.566587789910302], \"x\": [-14.954468630341605, -16.060753847986447], \"type\": \"scatter\", \"line\": {\"width\": 1.257201928708477, \"color\": \"#888\"}, \"mode\": \"lines\"}, {\"hoverinfo\": \"none\", \"y\": [-4.997657926517953, -5.566587789910302], \"x\": [-14.362059659931681, -16.060753847986447], \"type\": \"scatter\", \"line\": {\"width\": 1.0172628459319746, \"color\": \"#888\"}, \"mode\": \"lines\"}, {\"hoverinfo\": \"none\", \"y\": [-5.566587789910302, -5.924729640631664], \"x\": [-16.060753847986447, -16.47167403284231], \"type\": \"scatter\", \"line\": {\"width\": 1.1019618551845796, \"color\": \"#888\"}, \"mode\": \"lines\"}, {\"hoverinfo\": \"none\", \"y\": [-5.566587789910302, -5.634570573180639], \"x\": [-16.060753847986447, -15.150173669132453], \"type\": \"scatter\", \"line\": {\"width\": 1.0572669306738274, \"color\": \"#888\"}, \"mode\": \"lines\"}, {\"hoverinfo\": \"none\", \"y\": [-5.566587789910302, -5.679377352894312], \"x\": [-16.060753847986447, -17.258365055378444], \"type\": \"scatter\", \"line\": {\"width\": 1.015098821210063, \"color\": \"#888\"}, \"mode\": \"lines\"}, {\"hoverinfo\": \"none\", \"y\": [-5.566587789910302, -4.840032384087389], \"x\": [-16.060753847986447, -16.785895922940433], \"type\": \"scatter\", \"line\": {\"width\": 1.0665600340541475, \"color\": \"#888\"}, \"mode\": \"lines\"}, {\"hoverinfo\": \"none\", \"y\": [-5.566587789910302, -4.675896407068778], \"x\": [-16.060753847986447, -15.438938010325261], \"type\": \"scatter\", \"line\": {\"width\": 1.0602471199975425, \"color\": \"#888\"}, \"mode\": \"lines\"}, {\"hoverinfo\": \"none\", \"y\": [2.697920918097788, 3.472963276886355], \"x\": [-16.247519470395954, -16.275597595647916], \"type\": \"scatter\", \"line\": {\"width\": 1.227184181781318, \"color\": \"#888\"}, \"mode\": \"lines\"}, {\"hoverinfo\": \"none\", \"y\": [2.697920918097788, 3.462596947966528], \"x\": [-16.247519470395954, -17.051515082605246], \"type\": \"scatter\", \"line\": {\"width\": 1.1343655629458087, \"color\": \"#888\"}, \"mode\": \"lines\"}, {\"hoverinfo\": \"none\", \"y\": [2.697920918097788, 2.7278720592525088], \"x\": [-16.247519470395954, -16.98941606596727], \"type\": \"scatter\", \"line\": {\"width\": 1.1046334590206233, \"color\": \"#888\"}, \"mode\": \"lines\"}, {\"hoverinfo\": \"none\", \"y\": [-4.7295253742747505, -4.814867740596674], \"x\": [-11.963572497166131, -13.270489320443948], \"type\": \"scatter\", \"line\": {\"width\": 1.1418051911270168, \"color\": \"#888\"}, \"mode\": \"lines\"}, {\"hoverinfo\": \"none\", \"y\": [-3.5288621511908427, -4.814867740596674], \"x\": [-13.09713495454668, -13.270489320443948], \"type\": \"scatter\", \"line\": {\"width\": 1.049328234297132, \"color\": \"#888\"}, \"mode\": \"lines\"}, {\"hoverinfo\": \"none\", \"y\": [-4.814867740596674, -5.876190550342591], \"x\": [-13.270489320443948, -13.611430736159944], \"type\": \"scatter\", \"line\": {\"width\": 1.0034623961709634, \"color\": \"#888\"}, \"mode\": \"lines\"}, {\"hoverinfo\": \"none\", \"y\": [-4.814867740596674, -5.309789890205194], \"x\": [-13.270489320443948, -14.371871984258576], \"type\": \"scatter\", \"line\": {\"width\": 1.0183573234405014, \"color\": \"#888\"}, \"mode\": \"lines\"}, {\"hoverinfo\": \"none\", \"y\": [-4.814867740596674, -5.87173038695074], \"x\": [-13.270489320443948, -14.189771826738772], \"type\": \"scatter\", \"line\": {\"width\": 1.1752154149617038, \"color\": \"#888\"}, \"mode\": \"lines\"}, {\"hoverinfo\": \"none\", \"y\": [-4.814867740596674, -5.340015312798051], \"x\": [-13.270489320443948, -14.43856045774682], \"type\": \"scatter\", \"line\": {\"width\": 1.0566396278035435, \"color\": \"#888\"}, \"mode\": \"lines\"}, {\"hoverinfo\": \"none\", \"y\": [-4.814867740596674, -4.390247982935071], \"x\": [-13.270489320443948, -12.781972190065094], \"type\": \"scatter\", \"line\": {\"width\": 1.1197407888849389, \"color\": \"#888\"}, \"mode\": \"lines\"}, {\"hoverinfo\": \"none\", \"y\": [-4.814867740596674, -4.133770859505214], \"x\": [-13.270489320443948, -12.241731349316966], \"type\": \"scatter\", \"line\": {\"width\": 1.1350118308234052, \"color\": \"#888\"}, \"mode\": \"lines\"}, {\"hoverinfo\": \"none\", \"y\": [-5.32928344518222, -5.876190550342591], \"x\": [-13.875537710711491, -13.611430736159944], \"type\": \"scatter\", \"line\": {\"width\": 1.9540570469077267, \"color\": \"#888\"}, \"mode\": \"lines\"}, {\"hoverinfo\": \"none\", \"y\": [-5.464656038819423, -5.876190550342591], \"x\": [-13.527157887205975, -13.611430736159944], \"type\": \"scatter\", \"line\": {\"width\": 1.056647300658568, \"color\": \"#888\"}, \"mode\": \"lines\"}, {\"hoverinfo\": \"none\", \"y\": [-4.997657926517953, -5.876190550342591], \"x\": [-14.362059659931681, -13.611430736159944], \"type\": \"scatter\", \"line\": {\"width\": 1.1856272885034096, \"color\": \"#888\"}, \"mode\": \"lines\"}, {\"hoverinfo\": \"none\", \"y\": [-5.531850608732078, -5.876190550342591], \"x\": [-13.707209565894951, -13.611430736159944], \"type\": \"scatter\", \"line\": {\"width\": 1.4691872548797291, \"color\": \"#888\"}, \"mode\": \"lines\"}, {\"hoverinfo\": \"none\", \"y\": [-5.938131240021356, -5.876190550342591], \"x\": [-14.790576922423055, -13.611430736159944], \"type\": \"scatter\", \"line\": {\"width\": 1.1270270101437254, \"color\": \"#888\"}, \"mode\": \"lines\"}, {\"hoverinfo\": \"none\", \"y\": [-6.689195662075548, -5.876190550342591], \"x\": [-13.24315673940496, -13.611430736159944], \"type\": \"scatter\", \"line\": {\"width\": 1.2640652763479268, \"color\": \"#888\"}, \"mode\": \"lines\"}, {\"hoverinfo\": \"none\", \"y\": [-4.814867740596674, -5.876190550342591], \"x\": [-13.270489320443948, -13.611430736159944], \"type\": \"scatter\", \"line\": {\"width\": 1.0034623961709634, \"color\": \"#888\"}, \"mode\": \"lines\"}, {\"hoverinfo\": \"none\", \"y\": [-5.876190550342591, -5.309789890205194], \"x\": [-13.611430736159944, -14.371871984258576], \"type\": \"scatter\", \"line\": {\"width\": 2.2141121478938164, \"color\": \"#888\"}, \"mode\": \"lines\"}, {\"hoverinfo\": \"none\", \"y\": [-5.876190550342591, -6.888856057905963], \"x\": [-13.611430736159944, -14.220471909568893], \"type\": \"scatter\", \"line\": {\"width\": 1.0119653962338753, \"color\": \"#888\"}, \"mode\": \"lines\"}, {\"hoverinfo\": \"none\", \"y\": [-5.876190550342591, -5.87173038695074], \"x\": [-13.611430736159944, -14.189771826738772], \"type\": \"scatter\", \"line\": {\"width\": 1.335460570441208, \"color\": \"#888\"}, \"mode\": \"lines\"}, {\"hoverinfo\": \"none\", \"y\": [-5.876190550342591, -5.142310599034572], \"x\": [-13.611430736159944, -13.222042469817788], \"type\": \"scatter\", \"line\": {\"width\": 1.0094404198980842, \"color\": \"#888\"}, \"mode\": \"lines\"}, {\"hoverinfo\": \"none\", \"y\": [-5.876190550342591, -5.930339137052623], \"x\": [-13.611430736159944, -13.88035938362524], \"type\": \"scatter\", \"line\": {\"width\": 1.76520562498758, \"color\": \"#888\"}, \"mode\": \"lines\"}, {\"hoverinfo\": \"none\", \"y\": [-5.876190550342591, -7.033495540347158], \"x\": [-13.611430736159944, -13.387726540267733], \"type\": \"scatter\", \"line\": {\"width\": 1.029667423443561, \"color\": \"#888\"}, \"mode\": \"lines\"}, {\"hoverinfo\": \"none\", \"y\": [-5.876190550342591, -5.340015312798051], \"x\": [-13.611430736159944, -14.43856045774682], \"type\": \"scatter\", \"line\": {\"width\": 2.1872722361747963, \"color\": \"#888\"}, \"mode\": \"lines\"}, {\"hoverinfo\": \"none\", \"y\": [-5.876190550342591, -4.390247982935071], \"x\": [-13.611430736159944, -12.781972190065094], \"type\": \"scatter\", \"line\": {\"width\": 1.1358728561908775, \"color\": \"#888\"}, \"mode\": \"lines\"}, {\"hoverinfo\": \"none\", \"y\": [-5.876190550342591, -6.507485318880583], \"x\": [-13.611430736159944, -14.895945710193905], \"type\": \"scatter\", \"line\": {\"width\": 1.0539800831501809, \"color\": \"#888\"}, \"mode\": \"lines\"}, {\"hoverinfo\": \"none\", \"y\": [-5.876190550342591, -6.832951899584617], \"x\": [-13.611430736159944, -13.981029096872376], \"type\": \"scatter\", \"line\": {\"width\": 1.074493439756516, \"color\": \"#888\"}, \"mode\": \"lines\"}, {\"hoverinfo\": \"none\", \"y\": [-5.876190550342591, -6.193450742401886], \"x\": [-13.611430736159944, -13.894885252196177], \"type\": \"scatter\", \"line\": {\"width\": 1.1148568168788477, \"color\": \"#888\"}, \"mode\": \"lines\"}, {\"hoverinfo\": \"none\", \"y\": [-5.876190550342591, -4.657229596896204], \"x\": [-13.611430736159944, -13.929962859924492], \"type\": \"scatter\", \"line\": {\"width\": 1.5780503013019398, \"color\": \"#888\"}, \"mode\": \"lines\"}, {\"hoverinfo\": \"none\", \"y\": [-5.876190550342591, -5.733405128642964], \"x\": [-13.611430736159944, -13.390218289739371], \"type\": \"scatter\", \"line\": {\"width\": 1.4450332099193164, \"color\": \"#888\"}, \"mode\": \"lines\"}, {\"hoverinfo\": \"none\", \"y\": [-5.876190550342591, -6.038017673214097], \"x\": [-13.611430736159944, -13.273225990625084], \"type\": \"scatter\", \"line\": {\"width\": 1.3154972210087321, \"color\": \"#888\"}, \"mode\": \"lines\"}, {\"hoverinfo\": \"none\", \"y\": [-5.876190550342591, -5.867735650205169], \"x\": [-13.611430736159944, -14.534578693420821], \"type\": \"scatter\", \"line\": {\"width\": 1.2385843657988345, \"color\": \"#888\"}, \"mode\": \"lines\"}, {\"hoverinfo\": \"none\", \"y\": [-5.876190550342591, -4.948323816069961], \"x\": [-13.611430736159944, -13.862864446562623], \"type\": \"scatter\", \"line\": {\"width\": 1.0404031945162697, \"color\": \"#888\"}, \"mode\": \"lines\"}, {\"hoverinfo\": \"none\", \"y\": [-5.876190550342591, -5.071548520780777], \"x\": [-13.611430736159944, -13.595012385775345], \"type\": \"scatter\", \"line\": {\"width\": 1.0852401352493468, \"color\": \"#888\"}, \"mode\": \"lines\"}, {\"hoverinfo\": \"none\", \"y\": [-5.876190550342591, -5.37815957036336], \"x\": [-13.611430736159944, -13.193598012960688], \"type\": \"scatter\", \"line\": {\"width\": 1.3615631482798145, \"color\": \"#888\"}, \"mode\": \"lines\"}, {\"hoverinfo\": \"none\", \"y\": [-5.876190550342591, -5.670154951244973], \"x\": [-13.611430736159944, -13.94653562468436], \"type\": \"scatter\", \"line\": {\"width\": 1.88146236894806, \"color\": \"#888\"}, \"mode\": \"lines\"}, {\"hoverinfo\": \"none\", \"y\": [-5.876190550342591, -6.560713072991087], \"x\": [-13.611430736159944, -12.670155574037661], \"type\": \"scatter\", \"line\": {\"width\": 1.0948792638072153, \"color\": \"#888\"}, \"mode\": \"lines\"}, {\"hoverinfo\": \"none\", \"y\": [-5.155684006072663, -4.43010290727313], \"x\": [-12.635773186908066, -13.787919497620946], \"type\": \"scatter\", \"line\": {\"width\": 1.1768508449521695, \"color\": \"#888\"}, \"mode\": \"lines\"}, {\"hoverinfo\": \"none\", \"y\": [-4.43010290727313, -5.340015312798051], \"x\": [-13.787919497620946, -14.43856045774682], \"type\": \"scatter\", \"line\": {\"width\": 1.2839448025401863, \"color\": \"#888\"}, \"mode\": \"lines\"}, {\"hoverinfo\": \"none\", \"y\": [-4.43010290727313, -4.7303986275351155], \"x\": [-13.787919497620946, -12.71233501434269], \"type\": \"scatter\", \"line\": {\"width\": 1.1403599810656184, \"color\": \"#888\"}, \"mode\": \"lines\"}, {\"hoverinfo\": \"none\", \"y\": [-4.43010290727313, -5.024824129450616], \"x\": [-13.787919497620946, -14.094060124693677], \"type\": \"scatter\", \"line\": {\"width\": 1.2126837123212695, \"color\": \"#888\"}, \"mode\": \"lines\"}, {\"hoverinfo\": \"none\", \"y\": [-4.43010290727313, -5.670154951244973], \"x\": [-13.787919497620946, -13.94653562468436], \"type\": \"scatter\", \"line\": {\"width\": 1.0867502706949521, \"color\": \"#888\"}, \"mode\": \"lines\"}, {\"hoverinfo\": \"none\", \"y\": [-4.43010290727313, -5.529484149368032], \"x\": [-13.787919497620946, -15.013124154598115], \"type\": \"scatter\", \"line\": {\"width\": 1.0169021877525928, \"color\": \"#888\"}, \"mode\": \"lines\"}, {\"hoverinfo\": \"none\", \"y\": [-4.43010290727313, -3.3947456299180043], \"x\": [-13.787919497620946, -14.644076666866233], \"type\": \"scatter\", \"line\": {\"width\": 1.0122180204210627, \"color\": \"#888\"}, \"mode\": \"lines\"}, {\"hoverinfo\": \"none\", \"y\": [-5.32928344518222, -5.309789890205194], \"x\": [-13.875537710711491, -14.371871984258576], \"type\": \"scatter\", \"line\": {\"width\": 2.5970015432787803, \"color\": \"#888\"}, \"mode\": \"lines\"}, {\"hoverinfo\": \"none\", \"y\": [-4.920766736253973, -5.309789890205194], \"x\": [-15.643188614776893, -14.371871984258576], \"type\": \"scatter\", \"line\": {\"width\": 1.316503749556375, \"color\": \"#888\"}, \"mode\": \"lines\"}, {\"hoverinfo\": \"none\", \"y\": [-5.464656038819423, -5.309789890205194], \"x\": [-13.527157887205975, -14.371871984258576], \"type\": \"scatter\", \"line\": {\"width\": 1.9040831646216727, \"color\": \"#888\"}, \"mode\": \"lines\"}, {\"hoverinfo\": \"none\", \"y\": [-4.4476025797803, -5.309789890205194], \"x\": [-14.871497661265048, -14.371871984258576], \"type\": \"scatter\", \"line\": {\"width\": 1.7510529183333121, \"color\": \"#888\"}, \"mode\": \"lines\"}, {\"hoverinfo\": \"none\", \"y\": [-6.0025936578907055, -5.309789890205194], \"x\": [-14.954468630341605, -14.371871984258576], \"type\": \"scatter\", \"line\": {\"width\": 1.1269075202535626, \"color\": \"#888\"}, \"mode\": \"lines\"}, {\"hoverinfo\": \"none\", \"y\": [-3.9899647066405595, -5.309789890205194], \"x\": [-13.996742299482742, -14.371871984258576], \"type\": \"scatter\", \"line\": {\"width\": 1.0025563006527958, \"color\": \"#888\"}, \"mode\": \"lines\"}, {\"hoverinfo\": \"none\", \"y\": [-4.997657926517953, -5.309789890205194], \"x\": [-14.362059659931681, -14.371871984258576], \"type\": \"scatter\", \"line\": {\"width\": 1.9291399195771364, \"color\": \"#888\"}, \"mode\": \"lines\"}, {\"hoverinfo\": \"none\", \"y\": [-5.531850608732078, -5.309789890205194], \"x\": [-13.707209565894951, -14.371871984258576], \"type\": \"scatter\", \"line\": {\"width\": 1.713190769748516, \"color\": \"#888\"}, \"mode\": \"lines\"}, {\"hoverinfo\": \"none\", \"y\": [-4.331536967157103, -5.309789890205194], \"x\": [-15.1943392716613, -14.371871984258576], \"type\": \"scatter\", \"line\": {\"width\": 1.0539283700693882, \"color\": \"#888\"}, \"mode\": \"lines\"}, {\"hoverinfo\": \"none\", \"y\": [-6.400656932273691, -5.309789890205194], \"x\": [-14.47810030254798, -14.371871984258576], \"type\": \"scatter\", \"line\": {\"width\": 1.0423669327280327, \"color\": \"#888\"}, \"mode\": \"lines\"}, {\"hoverinfo\": \"none\", \"y\": [-4.37128180082043, -5.309789890205194], \"x\": [-13.488565177169946, -14.371871984258576], \"type\": \"scatter\", \"line\": {\"width\": 1.3313657603805105, \"color\": \"#888\"}, \"mode\": \"lines\"}, {\"hoverinfo\": \"none\", \"y\": [-5.938131240021356, -5.309789890205194], \"x\": [-14.790576922423055, -14.371871984258576], \"type\": \"scatter\", \"line\": {\"width\": 1.2693981784240256, \"color\": \"#888\"}, \"mode\": \"lines\"}, {\"hoverinfo\": \"none\", \"y\": [-4.907635561614265, -5.309789890205194], \"x\": [-15.190594501558186, -14.371871984258576], \"type\": \"scatter\", \"line\": {\"width\": 1.381587268864401, \"color\": \"#888\"}, \"mode\": \"lines\"}, {\"hoverinfo\": \"none\", \"y\": [-6.201254807051291, -5.309789890205194], \"x\": [-14.645765529985793, -14.371871984258576], \"type\": \"scatter\", \"line\": {\"width\": 1.1464411942901618, \"color\": \"#888\"}, \"mode\": \"lines\"}, {\"hoverinfo\": \"none\", \"y\": [-4.814867740596674, -5.309789890205194], \"x\": [-13.270489320443948, -14.371871984258576], \"type\": \"scatter\", \"line\": {\"width\": 1.0183573234405014, \"color\": \"#888\"}, \"mode\": \"lines\"}, {\"hoverinfo\": \"none\", \"y\": [-5.876190550342591, -5.309789890205194], \"x\": [-13.611430736159944, -14.371871984258576], \"type\": \"scatter\", \"line\": {\"width\": 2.2141121478938164, \"color\": \"#888\"}, \"mode\": \"lines\"}, {\"hoverinfo\": \"none\", \"y\": [-5.309789890205194, -6.295317665169309], \"x\": [-14.371871984258576, -15.06299985540851], \"type\": \"scatter\", \"line\": {\"width\": 1.1712860523167408, \"color\": \"#888\"}, \"mode\": \"lines\"}, {\"hoverinfo\": \"none\", \"y\": [-5.309789890205194, -6.491007842347108], \"x\": [-14.371871984258576, -14.200026977870785], \"type\": \"scatter\", \"line\": {\"width\": 1.4412857713781093, \"color\": \"#888\"}, \"mode\": \"lines\"}, {\"hoverinfo\": \"none\", \"y\": [-5.309789890205194, -5.87173038695074], \"x\": [-14.371871984258576, -14.189771826738772], \"type\": \"scatter\", \"line\": {\"width\": 2.429011397785476, \"color\": \"#888\"}, \"mode\": \"lines\"}, {\"hoverinfo\": \"none\", \"y\": [-5.309789890205194, -6.325668381304119], \"x\": [-14.371871984258576, -13.54321562440723], \"type\": \"scatter\", \"line\": {\"width\": 1.3331325105622227, \"color\": \"#888\"}, \"mode\": \"lines\"}, {\"hoverinfo\": \"none\", \"y\": [-5.309789890205194, -5.634570573180639], \"x\": [-14.371871984258576, -15.150173669132453], \"type\": \"scatter\", \"line\": {\"width\": 1.6901053602020606, \"color\": \"#888\"}, \"mode\": \"lines\"}, {\"hoverinfo\": \"none\", \"y\": [-5.309789890205194, -5.142310599034572], \"x\": [-14.371871984258576, -13.222042469817788], \"type\": \"scatter\", \"line\": {\"width\": 1.416011696579956, \"color\": \"#888\"}, \"mode\": \"lines\"}, {\"hoverinfo\": \"none\", \"y\": [-5.309789890205194, -5.930339137052623], \"x\": [-14.371871984258576, -13.88035938362524], \"type\": \"scatter\", \"line\": {\"width\": 1.6820375473378413, \"color\": \"#888\"}, \"mode\": \"lines\"}, {\"hoverinfo\": \"none\", \"y\": [-5.309789890205194, -5.589642377557384], \"x\": [-14.371871984258576, -14.337115099508948], \"type\": \"scatter\", \"line\": {\"width\": 3.1577487523157908, \"color\": \"#888\"}, \"mode\": \"lines\"}, {\"hoverinfo\": \"none\", \"y\": [-5.309789890205194, -5.340015312798051], \"x\": [-14.371871984258576, -14.43856045774682], \"type\": \"scatter\", \"line\": {\"width\": 10.0, \"color\": \"#888\"}, \"mode\": \"lines\"}, {\"hoverinfo\": \"none\", \"y\": [-5.309789890205194, -4.080508516917675], \"x\": [-14.371871984258576, -14.531025161560613], \"type\": \"scatter\", \"line\": {\"width\": 1.3355783082579442, \"color\": \"#888\"}, \"mode\": \"lines\"}, {\"hoverinfo\": \"none\", \"y\": [-5.309789890205194, -5.151451315824695], \"x\": [-14.371871984258576, -15.630598463545166], \"type\": \"scatter\", \"line\": {\"width\": 1.0218575318561447, \"color\": \"#888\"}, \"mode\": \"lines\"}, {\"hoverinfo\": \"none\", \"y\": [-5.309789890205194, -4.402358898230442], \"x\": [-14.371871984258576, -14.048169730697897], \"type\": \"scatter\", \"line\": {\"width\": 1.1112082173446767, \"color\": \"#888\"}, \"mode\": \"lines\"}, {\"hoverinfo\": \"none\", \"y\": [-5.309789890205194, -6.507485318880583], \"x\": [-14.371871984258576, -14.895945710193905], \"type\": \"scatter\", \"line\": {\"width\": 1.1081264330164462, \"color\": \"#888\"}, \"mode\": \"lines\"}, {\"hoverinfo\": \"none\", \"y\": [-5.309789890205194, -5.149943024367288], \"x\": [-14.371871984258576, -14.817113325705948], \"type\": \"scatter\", \"line\": {\"width\": 1.7038625293784184, \"color\": \"#888\"}, \"mode\": \"lines\"}, {\"hoverinfo\": \"none\", \"y\": [-5.309789890205194, -6.0598151704403165], \"x\": [-14.371871984258576, -15.41477323554502], \"type\": \"scatter\", \"line\": {\"width\": 1.2481703996943403, \"color\": \"#888\"}, \"mode\": \"lines\"}, {\"hoverinfo\": \"none\", \"y\": [-5.309789890205194, -5.916024529055278], \"x\": [-14.371871984258576, -15.24633057040751], \"type\": \"scatter\", \"line\": {\"width\": 1.5675087240431738, \"color\": \"#888\"}, \"mode\": \"lines\"}, {\"hoverinfo\": \"none\", \"y\": [-5.309789890205194, -5.387738780527072], \"x\": [-14.371871984258576, -15.28225172984896], \"type\": \"scatter\", \"line\": {\"width\": 2.065971345037072, \"color\": \"#888\"}, \"mode\": \"lines\"}, {\"hoverinfo\": \"none\", \"y\": [-5.309789890205194, -4.216353478321253], \"x\": [-14.371871984258576, -14.419498108553507], \"type\": \"scatter\", \"line\": {\"width\": 1.396281197964648, \"color\": \"#888\"}, \"mode\": \"lines\"}, {\"hoverinfo\": \"none\", \"y\": [-5.309789890205194, -6.193450742401886], \"x\": [-14.371871984258576, -13.894885252196177], \"type\": \"scatter\", \"line\": {\"width\": 1.0785351354543908, \"color\": \"#888\"}, \"mode\": \"lines\"}, {\"hoverinfo\": \"none\", \"y\": [-5.309789890205194, -6.329600572063244], \"x\": [-14.371871984258576, -15.264536165409725], \"type\": \"scatter\", \"line\": {\"width\": 1.0897274601483349, \"color\": \"#888\"}, \"mode\": \"lines\"}, {\"hoverinfo\": \"none\", \"y\": [-5.309789890205194, -6.478932958412301], \"x\": [-14.371871984258576, -13.79014750687308], \"type\": \"scatter\", \"line\": {\"width\": 1.3018585044066486, \"color\": \"#888\"}, \"mode\": \"lines\"}, {\"hoverinfo\": \"none\", \"y\": [-5.309789890205194, -5.638625502914219], \"x\": [-14.371871984258576, -14.753566114591269], \"type\": \"scatter\", \"line\": {\"width\": 2.532758298862073, \"color\": \"#888\"}, \"mode\": \"lines\"}, {\"hoverinfo\": \"none\", \"y\": [-5.309789890205194, -4.657229596896204], \"x\": [-14.371871984258576, -13.929962859924492], \"type\": \"scatter\", \"line\": {\"width\": 1.1674054637034508, \"color\": \"#888\"}, \"mode\": \"lines\"}, {\"hoverinfo\": \"none\", \"y\": [-5.309789890205194, -4.563713429774501], \"x\": [-14.371871984258576, -14.475455276486759], \"type\": \"scatter\", \"line\": {\"width\": 1.5771108142790777, \"color\": \"#888\"}, \"mode\": \"lines\"}, {\"hoverinfo\": \"none\", \"y\": [-5.309789890205194, -5.733405128642964], \"x\": [-14.371871984258576, -13.390218289739371], \"type\": \"scatter\", \"line\": {\"width\": 1.6595256306523098, \"color\": \"#888\"}, \"mode\": \"lines\"}, {\"hoverinfo\": \"none\", \"y\": [-5.309789890205194, -6.038017673214097], \"x\": [-14.371871984258576, -13.273225990625084], \"type\": \"scatter\", \"line\": {\"width\": 1.605423384514806, \"color\": \"#888\"}, \"mode\": \"lines\"}, {\"hoverinfo\": \"none\", \"y\": [-5.309789890205194, -5.867735650205169], \"x\": [-14.371871984258576, -14.534578693420821], \"type\": \"scatter\", \"line\": {\"width\": 1.7173305471245446, \"color\": \"#888\"}, \"mode\": \"lines\"}, {\"hoverinfo\": \"none\", \"y\": [-5.309789890205194, -5.537184150233229], \"x\": [-14.371871984258576, -15.573741906957562], \"type\": \"scatter\", \"line\": {\"width\": 1.2028357067820319, \"color\": \"#888\"}, \"mode\": \"lines\"}, {\"hoverinfo\": \"none\", \"y\": [-5.309789890205194, -4.193392152224972], \"x\": [-14.371871984258576, -14.933185749715992], \"type\": \"scatter\", \"line\": {\"width\": 1.5369501912484806, \"color\": \"#888\"}, \"mode\": \"lines\"}, {\"hoverinfo\": \"none\", \"y\": [-5.309789890205194, -5.620675211727626], \"x\": [-14.371871984258576, -13.104395642507322], \"type\": \"scatter\", \"line\": {\"width\": 1.1810347859256036, \"color\": \"#888\"}, \"mode\": \"lines\"}, {\"hoverinfo\": \"none\", \"y\": [-5.309789890205194, -4.948323816069961], \"x\": [-14.371871984258576, -13.862864446562623], \"type\": \"scatter\", \"line\": {\"width\": 3.24239654650267, \"color\": \"#888\"}, \"mode\": \"lines\"}, {\"hoverinfo\": \"none\", \"y\": [-5.309789890205194, -4.746623249059541], \"x\": [-14.371871984258576, -13.675589562249908], \"type\": \"scatter\", \"line\": {\"width\": 1.2797654542636812, \"color\": \"#888\"}, \"mode\": \"lines\"}, {\"hoverinfo\": \"none\", \"y\": [-5.309789890205194, -4.675896407068778], \"x\": [-14.371871984258576, -15.438938010325261], \"type\": \"scatter\", \"line\": {\"width\": 1.4560617117653787, \"color\": \"#888\"}, \"mode\": \"lines\"}, {\"hoverinfo\": \"none\", \"y\": [-5.309789890205194, -5.071548520780777], \"x\": [-14.371871984258576, -13.595012385775345], \"type\": \"scatter\", \"line\": {\"width\": 1.9377941741220632, \"color\": \"#888\"}, \"mode\": \"lines\"}, {\"hoverinfo\": \"none\", \"y\": [-5.309789890205194, -5.37815957036336], \"x\": [-14.371871984258576, -13.193598012960688], \"type\": \"scatter\", \"line\": {\"width\": 1.3973979854360747, \"color\": \"#888\"}, \"mode\": \"lines\"}, {\"hoverinfo\": \"none\", \"y\": [-5.309789890205194, -5.670154951244973], \"x\": [-14.371871984258576, -13.94653562468436], \"type\": \"scatter\", \"line\": {\"width\": 2.907335717315135, \"color\": \"#888\"}, \"mode\": \"lines\"}, {\"hoverinfo\": \"none\", \"y\": [-5.309789890205194, -5.806596942822509], \"x\": [-14.371871984258576, -15.497439241197572], \"type\": \"scatter\", \"line\": {\"width\": 1.4338591409924732, \"color\": \"#888\"}, \"mode\": \"lines\"}, {\"hoverinfo\": \"none\", \"y\": [-5.309789890205194, -4.9158561143212465], \"x\": [-14.371871984258576, -14.914940275618951], \"type\": \"scatter\", \"line\": {\"width\": 1.9541320687366572, \"color\": \"#888\"}, \"mode\": \"lines\"}, {\"hoverinfo\": \"none\", \"y\": [-5.309789890205194, -5.529484149368032], \"x\": [-14.371871984258576, -15.013124154598115], \"type\": \"scatter\", \"line\": {\"width\": 1.7395038261794245, \"color\": \"#888\"}, \"mode\": \"lines\"}, {\"hoverinfo\": \"none\", \"y\": [-5.309789890205194, -4.598891617330923], \"x\": [-14.371871984258576, -14.813549771834133], \"type\": \"scatter\", \"line\": {\"width\": 1.1972331711801998, \"color\": \"#888\"}, \"mode\": \"lines\"}, {\"hoverinfo\": \"none\", \"y\": [-5.309789890205194, -6.457956231183889], \"x\": [-14.371871984258576, -14.61875612341671], \"type\": \"scatter\", \"line\": {\"width\": 1.089909315951797, \"color\": \"#888\"}, \"mode\": \"lines\"}, {\"hoverinfo\": \"none\", \"y\": [-5.309789890205194, -3.9299109157582914], \"x\": [-14.371871984258576, -14.265225489671783], \"type\": \"scatter\", \"line\": {\"width\": 1.2813328864664955, \"color\": \"#888\"}, \"mode\": \"lines\"}, {\"hoverinfo\": \"none\", \"y\": [-3.72204827696227, -2.8322557421384027], \"x\": [-7.421418756846107, -7.6285249237951955], \"type\": \"scatter\", \"line\": {\"width\": 1.115282557992097, \"color\": \"#888\"}, \"mode\": \"lines\"}, {\"hoverinfo\": \"none\", \"y\": [-7.277572243361705, -6.507485318880583], \"x\": [-15.941719530610088, -14.895945710193905], \"type\": \"scatter\", \"line\": {\"width\": 1.221336861129728, \"color\": \"#888\"}, \"mode\": \"lines\"}, {\"hoverinfo\": \"none\", \"y\": [-4.920766736253973, -5.924729640631664], \"x\": [-15.643188614776893, -16.47167403284231], \"type\": \"scatter\", \"line\": {\"width\": 1.0300976654409664, \"color\": \"#888\"}, \"mode\": \"lines\"}, {\"hoverinfo\": \"none\", \"y\": [-6.0025936578907055, -5.924729640631664], \"x\": [-14.954468630341605, -16.47167403284231], \"type\": \"scatter\", \"line\": {\"width\": 1.0103215443084737, \"color\": \"#888\"}, \"mode\": \"lines\"}, {\"hoverinfo\": \"none\", \"y\": [-5.566587789910302, -5.924729640631664], \"x\": [-16.060753847986447, -16.47167403284231], \"type\": \"scatter\", \"line\": {\"width\": 1.1019618551845796, \"color\": \"#888\"}, \"mode\": \"lines\"}, {\"hoverinfo\": \"none\", \"y\": [-5.924729640631664, -5.679377352894312], \"x\": [-16.47167403284231, -17.258365055378444], \"type\": \"scatter\", \"line\": {\"width\": 1.0804621489566602, \"color\": \"#888\"}, \"mode\": \"lines\"}, {\"hoverinfo\": \"none\", \"y\": [-5.924729640631664, -4.840032384087389], \"x\": [-16.47167403284231, -16.785895922940433], \"type\": \"scatter\", \"line\": {\"width\": 1.076168477283597, \"color\": \"#888\"}, \"mode\": \"lines\"}, {\"hoverinfo\": \"none\", \"y\": [-6.400656932273691, -6.295317665169309], \"x\": [-14.47810030254798, -15.06299985540851], \"type\": \"scatter\", \"line\": {\"width\": 1.04064663228925, \"color\": \"#888\"}, \"mode\": \"lines\"}, {\"hoverinfo\": \"none\", \"y\": [-5.938131240021356, -6.295317665169309], \"x\": [-14.790576922423055, -15.06299985540851], \"type\": \"scatter\", \"line\": {\"width\": 1.0170497165325973, \"color\": \"#888\"}, \"mode\": \"lines\"}, {\"hoverinfo\": \"none\", \"y\": [-6.838172886473517, -6.295317665169309], \"x\": [-15.031880911245818, -15.06299985540851], \"type\": \"scatter\", \"line\": {\"width\": 1.1138911894863133, \"color\": \"#888\"}, \"mode\": \"lines\"}, {\"hoverinfo\": \"none\", \"y\": [-6.201254807051291, -6.295317665169309], \"x\": [-14.645765529985793, -15.06299985540851], \"type\": \"scatter\", \"line\": {\"width\": 1.2534008462211892, \"color\": \"#888\"}, \"mode\": \"lines\"}, {\"hoverinfo\": \"none\", \"y\": [-5.309789890205194, -6.295317665169309], \"x\": [-14.371871984258576, -15.06299985540851], \"type\": \"scatter\", \"line\": {\"width\": 1.1712860523167408, \"color\": \"#888\"}, \"mode\": \"lines\"}, {\"hoverinfo\": \"none\", \"y\": [-6.295317665169309, -6.491007842347108], \"x\": [-15.06299985540851, -14.200026977870785], \"type\": \"scatter\", \"line\": {\"width\": 1.0038389531599077, \"color\": \"#888\"}, \"mode\": \"lines\"}, {\"hoverinfo\": \"none\", \"y\": [-6.295317665169309, -7.48974954779173], \"x\": [-15.06299985540851, -15.471579657370995], \"type\": \"scatter\", \"line\": {\"width\": 1.1304683064154144, \"color\": \"#888\"}, \"mode\": \"lines\"}, {\"hoverinfo\": \"none\", \"y\": [-6.295317665169309, -5.87173038695074], \"x\": [-15.06299985540851, -14.189771826738772], \"type\": \"scatter\", \"line\": {\"width\": 1.5414979966204365, \"color\": \"#888\"}, \"mode\": \"lines\"}, {\"hoverinfo\": \"none\", \"y\": [-6.295317665169309, -5.340015312798051], \"x\": [-15.06299985540851, -14.43856045774682], \"type\": \"scatter\", \"line\": {\"width\": 1.1574776734716477, \"color\": \"#888\"}, \"mode\": \"lines\"}, {\"hoverinfo\": \"none\", \"y\": [-6.295317665169309, -5.149943024367288], \"x\": [-15.06299985540851, -14.817113325705948], \"type\": \"scatter\", \"line\": {\"width\": 1.271461417643486, \"color\": \"#888\"}, \"mode\": \"lines\"}, {\"hoverinfo\": \"none\", \"y\": [-6.295317665169309, -6.93972065520944], \"x\": [-15.06299985540851, -14.616955577935325], \"type\": \"scatter\", \"line\": {\"width\": 1.16603137124147, \"color\": \"#888\"}, \"mode\": \"lines\"}, {\"hoverinfo\": \"none\", \"y\": [-6.295317665169309, -6.0598151704403165], \"x\": [-15.06299985540851, -15.41477323554502], \"type\": \"scatter\", \"line\": {\"width\": 1.61317668208167, \"color\": \"#888\"}, \"mode\": \"lines\"}, {\"hoverinfo\": \"none\", \"y\": [-6.295317665169309, -7.017099143443842], \"x\": [-15.06299985540851, -14.899682882110234], \"type\": \"scatter\", \"line\": {\"width\": 1.092005958482648, \"color\": \"#888\"}, \"mode\": \"lines\"}, {\"hoverinfo\": \"none\", \"y\": [-6.295317665169309, -6.329600572063244], \"x\": [-15.06299985540851, -15.264536165409725], \"type\": \"scatter\", \"line\": {\"width\": 1.173381555970102, \"color\": \"#888\"}, \"mode\": \"lines\"}, {\"hoverinfo\": \"none\", \"y\": [-6.295317665169309, -5.638625502914219], \"x\": [-15.06299985540851, -14.753566114591269], \"type\": \"scatter\", \"line\": {\"width\": 1.0179305802804943, \"color\": \"#888\"}, \"mode\": \"lines\"}, {\"hoverinfo\": \"none\", \"y\": [-6.295317665169309, -5.867735650205169], \"x\": [-15.06299985540851, -14.534578693420821], \"type\": \"scatter\", \"line\": {\"width\": 1.041508649846482, \"color\": \"#888\"}, \"mode\": \"lines\"}, {\"hoverinfo\": \"none\", \"y\": [-6.295317665169309, -5.806596942822509], \"x\": [-15.06299985540851, -15.497439241197572], \"type\": \"scatter\", \"line\": {\"width\": 1.1258718759742317, \"color\": \"#888\"}, \"mode\": \"lines\"}, {\"hoverinfo\": \"none\", \"y\": [-6.295317665169309, -5.529484149368032], \"x\": [-15.06299985540851, -15.013124154598115], \"type\": \"scatter\", \"line\": {\"width\": 1.4722270411545835, \"color\": \"#888\"}, \"mode\": \"lines\"}, {\"hoverinfo\": \"none\", \"y\": [-6.295317665169309, -6.457956231183889], \"x\": [-15.06299985540851, -14.61875612341671], \"type\": \"scatter\", \"line\": {\"width\": 1.027904451194665, \"color\": \"#888\"}, \"mode\": \"lines\"}, {\"hoverinfo\": \"none\", \"y\": [-3.5288621511908427, -3.315088065905645], \"x\": [-13.09713495454668, -12.371455468108477], \"type\": \"scatter\", \"line\": {\"width\": 1.0237158988547368, \"color\": \"#888\"}, \"mode\": \"lines\"}, {\"hoverinfo\": \"none\", \"y\": [-3.315088065905645, -3.229877120455521], \"x\": [-12.371455468108477, -13.445922253012837], \"type\": \"scatter\", \"line\": {\"width\": 1.0445088892609804, \"color\": \"#888\"}, \"mode\": \"lines\"}, {\"hoverinfo\": \"none\", \"y\": [-3.315088065905645, -4.390247982935071], \"x\": [-12.371455468108477, -12.781972190065094], \"type\": \"scatter\", \"line\": {\"width\": 1.0168162068323456, \"color\": \"#888\"}, \"mode\": \"lines\"}, {\"hoverinfo\": \"none\", \"y\": [3.392934512293995, 3.5674767716551976], \"x\": [-14.782715618588421, -15.655455770343659], \"type\": \"scatter\", \"line\": {\"width\": 1.0622303470365777, \"color\": \"#888\"}, \"mode\": \"lines\"}, {\"hoverinfo\": \"none\", \"y\": [-6.0025936578907055, -6.491007842347108], \"x\": [-14.954468630341605, -14.200026977870785], \"type\": \"scatter\", \"line\": {\"width\": 1.0829103671353115, \"color\": \"#888\"}, \"mode\": \"lines\"}, {\"hoverinfo\": \"none\", \"y\": [-6.400656932273691, -6.491007842347108], \"x\": [-14.47810030254798, -14.200026977870785], \"type\": \"scatter\", \"line\": {\"width\": 1.1107568299331017, \"color\": \"#888\"}, \"mode\": \"lines\"}, {\"hoverinfo\": \"none\", \"y\": [-6.201254807051291, -6.491007842347108], \"x\": [-14.645765529985793, -14.200026977870785], \"type\": \"scatter\", \"line\": {\"width\": 1.3890291732029427, \"color\": \"#888\"}, \"mode\": \"lines\"}, {\"hoverinfo\": \"none\", \"y\": [-7.34091427117728, -6.491007842347108], \"x\": [-14.610294342996928, -14.200026977870785], \"type\": \"scatter\", \"line\": {\"width\": 1.094290245698182, \"color\": \"#888\"}, \"mode\": \"lines\"}, {\"hoverinfo\": \"none\", \"y\": [-5.309789890205194, -6.491007842347108], \"x\": [-14.371871984258576, -14.200026977870785], \"type\": \"scatter\", \"line\": {\"width\": 1.4412857713781093, \"color\": \"#888\"}, \"mode\": \"lines\"}, {\"hoverinfo\": \"none\", \"y\": [-6.295317665169309, -6.491007842347108], \"x\": [-15.06299985540851, -14.200026977870785], \"type\": \"scatter\", \"line\": {\"width\": 1.0038389531599077, \"color\": \"#888\"}, \"mode\": \"lines\"}, {\"hoverinfo\": \"none\", \"y\": [-6.491007842347108, -6.888856057905963], \"x\": [-14.200026977870785, -14.220471909568893], \"type\": \"scatter\", \"line\": {\"width\": 1.1635025317885093, \"color\": \"#888\"}, \"mode\": \"lines\"}, {\"hoverinfo\": \"none\", \"y\": [-6.491007842347108, -5.87173038695074], \"x\": [-14.200026977870785, -14.189771826738772], \"type\": \"scatter\", \"line\": {\"width\": 1.033951930204585, \"color\": \"#888\"}, \"mode\": \"lines\"}, {\"hoverinfo\": \"none\", \"y\": [-6.491007842347108, -6.325668381304119], \"x\": [-14.200026977870785, -13.54321562440723], \"type\": \"scatter\", \"line\": {\"width\": 1.1452165338943878, \"color\": \"#888\"}, \"mode\": \"lines\"}, {\"hoverinfo\": \"none\", \"y\": [-6.491007842347108, -6.979374153748573], \"x\": [-14.200026977870785, -13.770553405879493], \"type\": \"scatter\", \"line\": {\"width\": 1.0167819311066197, \"color\": \"#888\"}, \"mode\": \"lines\"}, {\"hoverinfo\": \"none\", \"y\": [-6.491007842347108, -5.589642377557384], \"x\": [-14.200026977870785, -14.337115099508948], \"type\": \"scatter\", \"line\": {\"width\": 1.002568567903429, \"color\": \"#888\"}, \"mode\": \"lines\"}, {\"hoverinfo\": \"none\", \"y\": [-6.491007842347108, -5.340015312798051], \"x\": [-14.200026977870785, -14.43856045774682], \"type\": \"scatter\", \"line\": {\"width\": 1.4227295360483014, \"color\": \"#888\"}, \"mode\": \"lines\"}, {\"hoverinfo\": \"none\", \"y\": [-6.491007842347108, -6.507485318880583], \"x\": [-14.200026977870785, -14.895945710193905], \"type\": \"scatter\", \"line\": {\"width\": 1.103419965826937, \"color\": \"#888\"}, \"mode\": \"lines\"}, {\"hoverinfo\": \"none\", \"y\": [-6.491007842347108, -7.536130655725203], \"x\": [-14.200026977870785, -13.355349687799634], \"type\": \"scatter\", \"line\": {\"width\": 1.1755908676233198, \"color\": \"#888\"}, \"mode\": \"lines\"}, {\"hoverinfo\": \"none\", \"y\": [-6.491007842347108, -6.329600572063244], \"x\": [-14.200026977870785, -15.264536165409725], \"type\": \"scatter\", \"line\": {\"width\": 1.2118755430433457, \"color\": \"#888\"}, \"mode\": \"lines\"}, {\"hoverinfo\": \"none\", \"y\": [-6.491007842347108, -5.867735650205169], \"x\": [-14.200026977870785, -14.534578693420821], \"type\": \"scatter\", \"line\": {\"width\": 1.1369270258579665, \"color\": \"#888\"}, \"mode\": \"lines\"}, {\"hoverinfo\": \"none\", \"y\": [-6.491007842347108, -7.368519936234171], \"x\": [-14.200026977870785, -14.251523252864162], \"type\": \"scatter\", \"line\": {\"width\": 1.0364107351616023, \"color\": \"#888\"}, \"mode\": \"lines\"}, {\"hoverinfo\": \"none\", \"y\": [-6.0025936578907055, -5.367590516567743], \"x\": [-14.954468630341605, -15.717211012483808], \"type\": \"scatter\", \"line\": {\"width\": 1.0446384886259727, \"color\": \"#888\"}, \"mode\": \"lines\"}, {\"hoverinfo\": \"none\", \"y\": [-4.907635561614265, -5.367590516567743], \"x\": [-15.190594501558186, -15.717211012483808], \"type\": \"scatter\", \"line\": {\"width\": 1.1790582434587684, \"color\": \"#888\"}, \"mode\": \"lines\"}, {\"hoverinfo\": \"none\", \"y\": [-5.367590516567743, -5.340015312798051], \"x\": [-15.717211012483808, -14.43856045774682], \"type\": \"scatter\", \"line\": {\"width\": 1.2890306469390533, \"color\": \"#888\"}, \"mode\": \"lines\"}, {\"hoverinfo\": \"none\", \"y\": [-5.367590516567743, -6.583920240965175], \"x\": [-15.717211012483808, -16.41109013839647], \"type\": \"scatter\", \"line\": {\"width\": 1.0405786368769883, \"color\": \"#888\"}, \"mode\": \"lines\"}, {\"hoverinfo\": \"none\", \"y\": [-5.367590516567743, -6.329600572063244], \"x\": [-15.717211012483808, -15.264536165409725], \"type\": \"scatter\", \"line\": {\"width\": 1.0735111654177543, \"color\": \"#888\"}, \"mode\": \"lines\"}, {\"hoverinfo\": \"none\", \"y\": [-5.367590516567743, -4.310670236828554], \"x\": [-15.717211012483808, -16.303060544747147], \"type\": \"scatter\", \"line\": {\"width\": 1.0145381811725789, \"color\": \"#888\"}, \"mode\": \"lines\"}, {\"hoverinfo\": \"none\", \"y\": [-5.367590516567743, -4.9158561143212465], \"x\": [-15.717211012483808, -14.914940275618951], \"type\": \"scatter\", \"line\": {\"width\": 1.1313400880463478, \"color\": \"#888\"}, \"mode\": \"lines\"}, {\"hoverinfo\": \"none\", \"y\": [-4.907635561614265, -4.718698595445405], \"x\": [-15.190594501558186, -16.369973290532833], \"type\": \"scatter\", \"line\": {\"width\": 1.093322173938592, \"color\": \"#888\"}, \"mode\": \"lines\"}, {\"hoverinfo\": \"none\", \"y\": [-4.718698595445405, -5.634570573180639], \"x\": [-16.369973290532833, -15.150173669132453], \"type\": \"scatter\", \"line\": {\"width\": 1.0092980987433702, \"color\": \"#888\"}, \"mode\": \"lines\"}, {\"hoverinfo\": \"none\", \"y\": [-6.295317665169309, -7.48974954779173], \"x\": [-15.06299985540851, -15.471579657370995], \"type\": \"scatter\", \"line\": {\"width\": 1.1304683064154144, \"color\": \"#888\"}, \"mode\": \"lines\"}, {\"hoverinfo\": \"none\", \"y\": [-7.48974954779173, -6.93972065520944], \"x\": [-15.471579657370995, -14.616955577935325], \"type\": \"scatter\", \"line\": {\"width\": 1.2244702682820012, \"color\": \"#888\"}, \"mode\": \"lines\"}, {\"hoverinfo\": \"none\", \"y\": [-7.48974954779173, -7.017099143443842], \"x\": [-15.471579657370995, -14.899682882110234], \"type\": \"scatter\", \"line\": {\"width\": 1.1256842604748887, \"color\": \"#888\"}, \"mode\": \"lines\"}, {\"hoverinfo\": \"none\", \"y\": [-5.464656038819423, -6.888856057905963], \"x\": [-13.527157887205975, -14.220471909568893], \"type\": \"scatter\", \"line\": {\"width\": 1.3893448469619396, \"color\": \"#888\"}, \"mode\": \"lines\"}, {\"hoverinfo\": \"none\", \"y\": [-6.0025936578907055, -6.888856057905963], \"x\": [-14.954468630341605, -14.220471909568893], \"type\": \"scatter\", \"line\": {\"width\": 1.205932253920299, \"color\": \"#888\"}, \"mode\": \"lines\"}, {\"hoverinfo\": \"none\", \"y\": [-7.849823638865185, -6.888856057905963], \"x\": [-13.707691486982672, -14.220471909568893], \"type\": \"scatter\", \"line\": {\"width\": 1.0249025539761067, \"color\": \"#888\"}, \"mode\": \"lines\"}, {\"hoverinfo\": \"none\", \"y\": [-7.567300842448139, -6.888856057905963], \"x\": [-14.121106121702685, -14.220471909568893], \"type\": \"scatter\", \"line\": {\"width\": 1.0647654045022001, \"color\": \"#888\"}, \"mode\": \"lines\"}, {\"hoverinfo\": \"none\", \"y\": [-6.400656932273691, -6.888856057905963], \"x\": [-14.47810030254798, -14.220471909568893], \"type\": \"scatter\", \"line\": {\"width\": 1.2481614234145846, \"color\": \"#888\"}, \"mode\": \"lines\"}, {\"hoverinfo\": \"none\", \"y\": [-5.876190550342591, -6.888856057905963], \"x\": [-13.611430736159944, -14.220471909568893], \"type\": \"scatter\", \"line\": {\"width\": 1.0119653962338753, \"color\": \"#888\"}, \"mode\": \"lines\"}, {\"hoverinfo\": \"none\", \"y\": [-6.491007842347108, -6.888856057905963], \"x\": [-14.200026977870785, -14.220471909568893], \"type\": \"scatter\", \"line\": {\"width\": 1.1635025317885093, \"color\": \"#888\"}, \"mode\": \"lines\"}, {\"hoverinfo\": \"none\", \"y\": [-6.888856057905963, -5.930339137052623], \"x\": [-14.220471909568893, -13.88035938362524], \"type\": \"scatter\", \"line\": {\"width\": 1.0143047809372914, \"color\": \"#888\"}, \"mode\": \"lines\"}, {\"hoverinfo\": \"none\", \"y\": [-6.888856057905963, -5.589642377557384], \"x\": [-14.220471909568893, -14.337115099508948], \"type\": \"scatter\", \"line\": {\"width\": 1.1244919231162438, \"color\": \"#888\"}, \"mode\": \"lines\"}, {\"hoverinfo\": \"none\", \"y\": [-6.888856057905963, -6.507485318880583], \"x\": [-14.220471909568893, -14.895945710193905], \"type\": \"scatter\", \"line\": {\"width\": 1.2313168875863947, \"color\": \"#888\"}, \"mode\": \"lines\"}, {\"hoverinfo\": \"none\", \"y\": [-6.888856057905963, -6.832951899584617], \"x\": [-14.220471909568893, -13.981029096872376], \"type\": \"scatter\", \"line\": {\"width\": 1.327113634493792, \"color\": \"#888\"}, \"mode\": \"lines\"}, {\"hoverinfo\": \"none\", \"y\": [-6.888856057905963, -7.536130655725203], \"x\": [-14.220471909568893, -13.355349687799634], \"type\": \"scatter\", \"line\": {\"width\": 1.009360717823278, \"color\": \"#888\"}, \"mode\": \"lines\"}, {\"hoverinfo\": \"none\", \"y\": [-6.888856057905963, -6.329600572063244], \"x\": [-14.220471909568893, -15.264536165409725], \"type\": \"scatter\", \"line\": {\"width\": 1.0614058798952004, \"color\": \"#888\"}, \"mode\": \"lines\"}, {\"hoverinfo\": \"none\", \"y\": [-6.888856057905963, -8.017373646677502], \"x\": [-14.220471909568893, -14.500335134000432], \"type\": \"scatter\", \"line\": {\"width\": 1.0791758042523893, \"color\": \"#888\"}, \"mode\": \"lines\"}, {\"hoverinfo\": \"none\", \"y\": [-5.32928344518222, -5.87173038695074], \"x\": [-13.875537710711491, -14.189771826738772], \"type\": \"scatter\", \"line\": {\"width\": 1.0701516595661367, \"color\": \"#888\"}, \"mode\": \"lines\"}, {\"hoverinfo\": \"none\", \"y\": [-4.907635561614265, -5.87173038695074], \"x\": [-15.190594501558186, -14.189771826738772], \"type\": \"scatter\", \"line\": {\"width\": 1.0333383319246838, \"color\": \"#888\"}, \"mode\": \"lines\"}, {\"hoverinfo\": \"none\", \"y\": [-6.838172886473517, -5.87173038695074], \"x\": [-15.031880911245818, -14.189771826738772], \"type\": \"scatter\", \"line\": {\"width\": 1.176426936885183, \"color\": \"#888\"}, \"mode\": \"lines\"}, {\"hoverinfo\": \"none\", \"y\": [-6.201254807051291, -5.87173038695074], \"x\": [-14.645765529985793, -14.189771826738772], \"type\": \"scatter\", \"line\": {\"width\": 1.2511525607865748, \"color\": \"#888\"}, \"mode\": \"lines\"}, {\"hoverinfo\": \"none\", \"y\": [-4.814867740596674, -5.87173038695074], \"x\": [-13.270489320443948, -14.189771826738772], \"type\": \"scatter\", \"line\": {\"width\": 1.1752154149617038, \"color\": \"#888\"}, \"mode\": \"lines\"}, {\"hoverinfo\": \"none\", \"y\": [-5.876190550342591, -5.87173038695074], \"x\": [-13.611430736159944, -14.189771826738772], \"type\": \"scatter\", \"line\": {\"width\": 1.335460570441208, \"color\": \"#888\"}, \"mode\": \"lines\"}, {\"hoverinfo\": \"none\", \"y\": [-5.309789890205194, -5.87173038695074], \"x\": [-14.371871984258576, -14.189771826738772], \"type\": \"scatter\", \"line\": {\"width\": 2.429011397785476, \"color\": \"#888\"}, \"mode\": \"lines\"}, {\"hoverinfo\": \"none\", \"y\": [-6.295317665169309, -5.87173038695074], \"x\": [-15.06299985540851, -14.189771826738772], \"type\": \"scatter\", \"line\": {\"width\": 1.5414979966204365, \"color\": \"#888\"}, \"mode\": \"lines\"}, {\"hoverinfo\": \"none\", \"y\": [-6.491007842347108, -5.87173038695074], \"x\": [-14.200026977870785, -14.189771826738772], \"type\": \"scatter\", \"line\": {\"width\": 1.033951930204585, \"color\": \"#888\"}, \"mode\": \"lines\"}, {\"hoverinfo\": \"none\", \"y\": [-5.87173038695074, -5.930339137052623], \"x\": [-14.189771826738772, -13.88035938362524], \"type\": \"scatter\", \"line\": {\"width\": 1.4674605309560251, \"color\": \"#888\"}, \"mode\": \"lines\"}, {\"hoverinfo\": \"none\", \"y\": [-5.87173038695074, -6.979374153748573], \"x\": [-14.189771826738772, -13.770553405879493], \"type\": \"scatter\", \"line\": {\"width\": 1.053994823587032, \"color\": \"#888\"}, \"mode\": \"lines\"}, {\"hoverinfo\": \"none\", \"y\": [-5.87173038695074, -5.340015312798051], \"x\": [-14.189771826738772, -14.43856045774682], \"type\": \"scatter\", \"line\": {\"width\": 2.451719595282226, \"color\": \"#888\"}, \"mode\": \"lines\"}, {\"hoverinfo\": \"none\", \"y\": [-5.87173038695074, -5.149943024367288], \"x\": [-14.189771826738772, -14.817113325705948], \"type\": \"scatter\", \"line\": {\"width\": 1.3592743584515317, \"color\": \"#888\"}, \"mode\": \"lines\"}, {\"hoverinfo\": \"none\", \"y\": [-5.87173038695074, -6.0598151704403165], \"x\": [-14.189771826738772, -15.41477323554502], \"type\": \"scatter\", \"line\": {\"width\": 1.5832465181556696, \"color\": \"#888\"}, \"mode\": \"lines\"}, {\"hoverinfo\": \"none\", \"y\": [-5.87173038695074, -6.329600572063244], \"x\": [-14.189771826738772, -15.264536165409725], \"type\": \"scatter\", \"line\": {\"width\": 1.130544911080376, \"color\": \"#888\"}, \"mode\": \"lines\"}, {\"hoverinfo\": \"none\", \"y\": [-5.87173038695074, -5.638625502914219], \"x\": [-14.189771826738772, -14.753566114591269], \"type\": \"scatter\", \"line\": {\"width\": 1.6266760524529809, \"color\": \"#888\"}, \"mode\": \"lines\"}, {\"hoverinfo\": \"none\", \"y\": [-5.87173038695074, -5.733405128642964], \"x\": [-14.189771826738772, -13.390218289739371], \"type\": \"scatter\", \"line\": {\"width\": 1.0230303952199367, \"color\": \"#888\"}, \"mode\": \"lines\"}, {\"hoverinfo\": \"none\", \"y\": [-5.87173038695074, -5.867735650205169], \"x\": [-14.189771826738772, -14.534578693420821], \"type\": \"scatter\", \"line\": {\"width\": 1.6122770662747037, \"color\": \"#888\"}, \"mode\": \"lines\"}, {\"hoverinfo\": \"none\", \"y\": [-5.87173038695074, -4.948323816069961], \"x\": [-14.189771826738772, -13.862864446562623], \"type\": \"scatter\", \"line\": {\"width\": 1.3095900127910887, \"color\": \"#888\"}, \"mode\": \"lines\"}, {\"hoverinfo\": \"none\", \"y\": [-5.87173038695074, -5.071548520780777], \"x\": [-14.189771826738772, -13.595012385775345], \"type\": \"scatter\", \"line\": {\"width\": 1.1573426694228401, \"color\": \"#888\"}, \"mode\": \"lines\"}, {\"hoverinfo\": \"none\", \"y\": [-5.87173038695074, -5.37815957036336], \"x\": [-14.189771826738772, -13.193598012960688], \"type\": \"scatter\", \"line\": {\"width\": 1.0436904503602946, \"color\": \"#888\"}, \"mode\": \"lines\"}, {\"hoverinfo\": \"none\", \"y\": [-5.87173038695074, -5.670154951244973], \"x\": [-14.189771826738772, -13.94653562468436], \"type\": \"scatter\", \"line\": {\"width\": 1.3594148605638678, \"color\": \"#888\"}, \"mode\": \"lines\"}, {\"hoverinfo\": \"none\", \"y\": [-5.87173038695074, -5.806596942822509], \"x\": [-14.189771826738772, -15.497439241197572], \"type\": \"scatter\", \"line\": {\"width\": 1.2102107003567921, \"color\": \"#888\"}, \"mode\": \"lines\"}, {\"hoverinfo\": \"none\", \"y\": [-5.87173038695074, -5.529484149368032], \"x\": [-14.189771826738772, -15.013124154598115], \"type\": \"scatter\", \"line\": {\"width\": 1.5906730894489571, \"color\": \"#888\"}, \"mode\": \"lines\"}, {\"hoverinfo\": \"none\", \"y\": [-5.87173038695074, -6.457956231183889], \"x\": [-14.189771826738772, -14.61875612341671], \"type\": \"scatter\", \"line\": {\"width\": 1.3004335332881456, \"color\": \"#888\"}, \"mode\": \"lines\"}, {\"hoverinfo\": \"none\", \"y\": [-5.87173038695074, -6.052174784794521], \"x\": [-14.189771826738772, -12.761106201381423], \"type\": \"scatter\", \"line\": {\"width\": 1.0926655470758238, \"color\": \"#888\"}, \"mode\": \"lines\"}, {\"hoverinfo\": \"none\", \"y\": [-6.400656932273691, -6.736423468652748], \"x\": [-14.47810030254798, -15.851128569030708], \"type\": \"scatter\", \"line\": {\"width\": 1.2188812465617447, \"color\": \"#888\"}, \"mode\": \"lines\"}, {\"hoverinfo\": \"none\", \"y\": [-5.938131240021356, -6.736423468652748], \"x\": [-14.790576922423055, -15.851128569030708], \"type\": \"scatter\", \"line\": {\"width\": 1.1612526769517293, \"color\": \"#888\"}, \"mode\": \"lines\"}, {\"hoverinfo\": \"none\", \"y\": [-6.736423468652748, -6.507485318880583], \"x\": [-15.851128569030708, -14.895945710193905], \"type\": \"scatter\", \"line\": {\"width\": 1.1128435382088495, \"color\": \"#888\"}, \"mode\": \"lines\"}, {\"hoverinfo\": \"none\", \"y\": [-6.736423468652748, -5.537184150233229], \"x\": [-15.851128569030708, -15.573741906957562], \"type\": \"scatter\", \"line\": {\"width\": 1.0388527872993045, \"color\": \"#888\"}, \"mode\": \"lines\"}, {\"hoverinfo\": \"none\", \"y\": [-6.400656932273691, -6.325668381304119], \"x\": [-14.47810030254798, -13.54321562440723], \"type\": \"scatter\", \"line\": {\"width\": 1.1771971437456932, \"color\": \"#888\"}, \"mode\": \"lines\"}, {\"hoverinfo\": \"none\", \"y\": [-6.201254807051291, -6.325668381304119], \"x\": [-14.645765529985793, -13.54321562440723], \"type\": \"scatter\", \"line\": {\"width\": 1.0483439079351167, \"color\": \"#888\"}, \"mode\": \"lines\"}, {\"hoverinfo\": \"none\", \"y\": [-5.309789890205194, -6.325668381304119], \"x\": [-14.371871984258576, -13.54321562440723], \"type\": \"scatter\", \"line\": {\"width\": 1.3331325105622227, \"color\": \"#888\"}, \"mode\": \"lines\"}, {\"hoverinfo\": \"none\", \"y\": [-6.491007842347108, -6.325668381304119], \"x\": [-14.200026977870785, -13.54321562440723], \"type\": \"scatter\", \"line\": {\"width\": 1.1452165338943878, \"color\": \"#888\"}, \"mode\": \"lines\"}, {\"hoverinfo\": \"none\", \"y\": [-6.325668381304119, -5.340015312798051], \"x\": [-13.54321562440723, -14.43856045774682], \"type\": \"scatter\", \"line\": {\"width\": 1.3165820698061634, \"color\": \"#888\"}, \"mode\": \"lines\"}, {\"hoverinfo\": \"none\", \"y\": [-6.325668381304119, -6.6072067290490715], \"x\": [-13.54321562440723, -12.240895411845935], \"type\": \"scatter\", \"line\": {\"width\": 1.3947798602143577, \"color\": \"#888\"}, \"mode\": \"lines\"}, {\"hoverinfo\": \"none\", \"y\": [-6.325668381304119, -5.620675211727626], \"x\": [-13.54321562440723, -13.104395642507322], \"type\": \"scatter\", \"line\": {\"width\": 1.244686116798018, \"color\": \"#888\"}, \"mode\": \"lines\"}, {\"hoverinfo\": \"none\", \"y\": [-6.325668381304119, -7.368519936234171], \"x\": [-13.54321562440723, -14.251523252864162], \"type\": \"scatter\", \"line\": {\"width\": 1.0856711298133694, \"color\": \"#888\"}, \"mode\": \"lines\"}, {\"hoverinfo\": \"none\", \"y\": [-6.325668381304119, -7.176854929509352], \"x\": [-13.54321562440723, -12.520915935463885], \"type\": \"scatter\", \"line\": {\"width\": 1.222713154871356, \"color\": \"#888\"}, \"mode\": \"lines\"}, {\"hoverinfo\": \"none\", \"y\": [-4.907635561614265, -5.634570573180639], \"x\": [-15.190594501558186, -15.150173669132453], \"type\": \"scatter\", \"line\": {\"width\": 1.2615964429238864, \"color\": \"#888\"}, \"mode\": \"lines\"}, {\"hoverinfo\": \"none\", \"y\": [-6.201254807051291, -5.634570573180639], \"x\": [-14.645765529985793, -15.150173669132453], \"type\": \"scatter\", \"line\": {\"width\": 1.0759072517601342, \"color\": \"#888\"}, \"mode\": \"lines\"}, {\"hoverinfo\": \"none\", \"y\": [-5.566587789910302, -5.634570573180639], \"x\": [-16.060753847986447, -15.150173669132453], \"type\": \"scatter\", \"line\": {\"width\": 1.0572669306738274, \"color\": \"#888\"}, \"mode\": \"lines\"}, {\"hoverinfo\": \"none\", \"y\": [-5.309789890205194, -5.634570573180639], \"x\": [-14.371871984258576, -15.150173669132453], \"type\": \"scatter\", \"line\": {\"width\": 1.6901053602020606, \"color\": \"#888\"}, \"mode\": \"lines\"}, {\"hoverinfo\": \"none\", \"y\": [-4.718698595445405, -5.634570573180639], \"x\": [-16.369973290532833, -15.150173669132453], \"type\": \"scatter\", \"line\": {\"width\": 1.0092980987433702, \"color\": \"#888\"}, \"mode\": \"lines\"}, {\"hoverinfo\": \"none\", \"y\": [-5.634570573180639, -6.979374153748573], \"x\": [-15.150173669132453, -13.770553405879493], \"type\": \"scatter\", \"line\": {\"width\": 1.0504322590998842, \"color\": \"#888\"}, \"mode\": \"lines\"}, {\"hoverinfo\": \"none\", \"y\": [-5.634570573180639, -5.340015312798051], \"x\": [-15.150173669132453, -14.43856045774682], \"type\": \"scatter\", \"line\": {\"width\": 1.670467809013335, \"color\": \"#888\"}, \"mode\": \"lines\"}, {\"hoverinfo\": \"none\", \"y\": [-5.634570573180639, -5.670154951244973], \"x\": [-15.150173669132453, -13.94653562468436], \"type\": \"scatter\", \"line\": {\"width\": 1.0534466711766322, \"color\": \"#888\"}, \"mode\": \"lines\"}, {\"hoverinfo\": \"none\", \"y\": [-5.634570573180639, -4.9158561143212465], \"x\": [-15.150173669132453, -14.914940275618951], \"type\": \"scatter\", \"line\": {\"width\": 1.5110825476412013, \"color\": \"#888\"}, \"mode\": \"lines\"}, {\"hoverinfo\": \"none\", \"y\": [3.392934512293995, 3.5674767716551976], \"x\": [-14.782715618588421, -15.655455770343659], \"type\": \"scatter\", \"line\": {\"width\": 1.0622303470365777, \"color\": \"#888\"}, \"mode\": \"lines\"}, {\"hoverinfo\": \"none\", \"y\": [-3.9899647066405595, -3.229877120455521], \"x\": [-13.996742299482742, -13.445922253012837], \"type\": \"scatter\", \"line\": {\"width\": 1.074719847328358, \"color\": \"#888\"}, \"mode\": \"lines\"}, {\"hoverinfo\": \"none\", \"y\": [-3.5288621511908427, -3.229877120455521], \"x\": [-13.09713495454668, -13.445922253012837], \"type\": \"scatter\", \"line\": {\"width\": 1.2664803789354053, \"color\": \"#888\"}, \"mode\": \"lines\"}, {\"hoverinfo\": \"none\", \"y\": [-3.315088065905645, -3.229877120455521], \"x\": [-12.371455468108477, -13.445922253012837], \"type\": \"scatter\", \"line\": {\"width\": 1.0445088892609804, \"color\": \"#888\"}, \"mode\": \"lines\"}, {\"hoverinfo\": \"none\", \"y\": [-3.229877120455521, -2.900222090616298], \"x\": [-13.445922253012837, -14.609022694834321], \"type\": \"scatter\", \"line\": {\"width\": 1.2270503994606037, \"color\": \"#888\"}, \"mode\": \"lines\"}, {\"hoverinfo\": \"none\", \"y\": [-3.229877120455521, -4.390247982935071], \"x\": [-13.445922253012837, -12.781972190065094], \"type\": \"scatter\", \"line\": {\"width\": 1.4403795439450626, \"color\": \"#888\"}, \"mode\": \"lines\"}, {\"hoverinfo\": \"none\", \"y\": [-3.229877120455521, -2.91931092816861], \"x\": [-13.445922253012837, -14.08296077725767], \"type\": \"scatter\", \"line\": {\"width\": 1.100376917776423, \"color\": \"#888\"}, \"mode\": \"lines\"}, {\"hoverinfo\": \"none\", \"y\": [-3.229877120455521, -3.9299109157582914], \"x\": [-13.445922253012837, -14.265225489671783], \"type\": \"scatter\", \"line\": {\"width\": 1.0468996025352004, \"color\": \"#888\"}, \"mode\": \"lines\"}, {\"hoverinfo\": \"none\", \"y\": [2.0041417027951165, 2.7241682082273706], \"x\": [-12.416271014206234, -13.259356029280449], \"type\": \"scatter\", \"line\": {\"width\": 1.000820496717732, \"color\": \"#888\"}, \"mode\": \"lines\"}, {\"hoverinfo\": \"none\", \"y\": [2.7241682082273706, 2.1780318587774894], \"x\": [-13.259356029280449, -13.983004156084545], \"type\": \"scatter\", \"line\": {\"width\": 1.2668221814392555, \"color\": \"#888\"}, \"mode\": \"lines\"}, {\"hoverinfo\": \"none\", \"y\": [2.7241682082273706, 1.9936568055327668], \"x\": [-13.259356029280449, -13.135557863345687], \"type\": \"scatter\", \"line\": {\"width\": 1.164958932558884, \"color\": \"#888\"}, \"mode\": \"lines\"}, {\"hoverinfo\": \"none\", \"y\": [-5.32928344518222, -5.142310599034572], \"x\": [-13.875537710711491, -13.222042469817788], \"type\": \"scatter\", \"line\": {\"width\": 1.3700281403734758, \"color\": \"#888\"}, \"mode\": \"lines\"}, {\"hoverinfo\": \"none\", \"y\": [-4.997657926517953, -5.142310599034572], \"x\": [-14.362059659931681, -13.222042469817788], \"type\": \"scatter\", \"line\": {\"width\": 1.1609738192550456, \"color\": \"#888\"}, \"mode\": \"lines\"}, {\"hoverinfo\": \"none\", \"y\": [-5.531850608732078, -5.142310599034572], \"x\": [-13.707209565894951, -13.222042469817788], \"type\": \"scatter\", \"line\": {\"width\": 1.0176904302730432, \"color\": \"#888\"}, \"mode\": \"lines\"}, {\"hoverinfo\": \"none\", \"y\": [-5.876190550342591, -5.142310599034572], \"x\": [-13.611430736159944, -13.222042469817788], \"type\": \"scatter\", \"line\": {\"width\": 1.0094404198980842, \"color\": \"#888\"}, \"mode\": \"lines\"}, {\"hoverinfo\": \"none\", \"y\": [-5.309789890205194, -5.142310599034572], \"x\": [-14.371871984258576, -13.222042469817788], \"type\": \"scatter\", \"line\": {\"width\": 1.416011696579956, \"color\": \"#888\"}, \"mode\": \"lines\"}, {\"hoverinfo\": \"none\", \"y\": [-5.142310599034572, -5.340015312798051], \"x\": [-13.222042469817788, -14.43856045774682], \"type\": \"scatter\", \"line\": {\"width\": 1.3993620914043623, \"color\": \"#888\"}, \"mode\": \"lines\"}, {\"hoverinfo\": \"none\", \"y\": [-5.142310599034572, -5.1083541514665365], \"x\": [-13.222042469817788, -12.033468151975097], \"type\": \"scatter\", \"line\": {\"width\": 1.2350702599665488, \"color\": \"#888\"}, \"mode\": \"lines\"}, {\"hoverinfo\": \"none\", \"y\": [-5.142310599034572, -4.636006372940541], \"x\": [-13.222042469817788, -12.518872512671223], \"type\": \"scatter\", \"line\": {\"width\": 1.196512882959736, \"color\": \"#888\"}, \"mode\": \"lines\"}, {\"hoverinfo\": \"none\", \"y\": [-5.142310599034572, -5.664048510630685], \"x\": [-13.222042469817788, -11.978799223750462], \"type\": \"scatter\", \"line\": {\"width\": 1.0179709864903281, \"color\": \"#888\"}, \"mode\": \"lines\"}, {\"hoverinfo\": \"none\", \"y\": [-5.142310599034572, -5.733405128642964], \"x\": [-13.222042469817788, -13.390218289739371], \"type\": \"scatter\", \"line\": {\"width\": 1.478924330674631, \"color\": \"#888\"}, \"mode\": \"lines\"}, {\"hoverinfo\": \"none\", \"y\": [-5.142310599034572, -4.948323816069961], \"x\": [-13.222042469817788, -13.862864446562623], \"type\": \"scatter\", \"line\": {\"width\": 1.297877318297527, \"color\": \"#888\"}, \"mode\": \"lines\"}, {\"hoverinfo\": \"none\", \"y\": [-5.142310599034572, -4.746623249059541], \"x\": [-13.222042469817788, -13.675589562249908], \"type\": \"scatter\", \"line\": {\"width\": 1.0882085589507369, \"color\": \"#888\"}, \"mode\": \"lines\"}, {\"hoverinfo\": \"none\", \"y\": [-5.142310599034572, -5.071548520780777], \"x\": [-13.222042469817788, -13.595012385775345], \"type\": \"scatter\", \"line\": {\"width\": 1.0913043640973121, \"color\": \"#888\"}, \"mode\": \"lines\"}, {\"hoverinfo\": \"none\", \"y\": [-5.142310599034572, -5.37815957036336], \"x\": [-13.222042469817788, -13.193598012960688], \"type\": \"scatter\", \"line\": {\"width\": 1.6273683924272078, \"color\": \"#888\"}, \"mode\": \"lines\"}, {\"hoverinfo\": \"none\", \"y\": [-5.142310599034572, -5.670154951244973], \"x\": [-13.222042469817788, -13.94653562468436], \"type\": \"scatter\", \"line\": {\"width\": 1.0247511735071613, \"color\": \"#888\"}, \"mode\": \"lines\"}, {\"hoverinfo\": \"none\", \"y\": [-5.142310599034572, -6.052174784794521], \"x\": [-13.222042469817788, -12.761106201381423], \"type\": \"scatter\", \"line\": {\"width\": 1.1226976775080013, \"color\": \"#888\"}, \"mode\": \"lines\"}, {\"hoverinfo\": \"none\", \"y\": [-7.94155896698412, -7.536130655725203], \"x\": [-12.235378998295207, -13.355349687799634], \"type\": \"scatter\", \"line\": {\"width\": 1.0190214973025375, \"color\": \"#888\"}, \"mode\": \"lines\"}, {\"hoverinfo\": \"none\", \"y\": [-7.94155896698412, -7.89544110645823], \"x\": [-12.235378998295207, -11.139560350679432], \"type\": \"scatter\", \"line\": {\"width\": 1.2592419968009052, \"color\": \"#888\"}, \"mode\": \"lines\"}, {\"hoverinfo\": \"none\", \"y\": [-5.32928344518222, -5.930339137052623], \"x\": [-13.875537710711491, -13.88035938362524], \"type\": \"scatter\", \"line\": {\"width\": 1.131212427299267, \"color\": \"#888\"}, \"mode\": \"lines\"}, {\"hoverinfo\": \"none\", \"y\": [-5.464656038819423, -5.930339137052623], \"x\": [-13.527157887205975, -13.88035938362524], \"type\": \"scatter\", \"line\": {\"width\": 1.1821213295208606, \"color\": \"#888\"}, \"mode\": \"lines\"}, {\"hoverinfo\": \"none\", \"y\": [-4.997657926517953, -5.930339137052623], \"x\": [-14.362059659931681, -13.88035938362524], \"type\": \"scatter\", \"line\": {\"width\": 1.2804779185775017, \"color\": \"#888\"}, \"mode\": \"lines\"}, {\"hoverinfo\": \"none\", \"y\": [-5.531850608732078, -5.930339137052623], \"x\": [-13.707209565894951, -13.88035938362524], \"type\": \"scatter\", \"line\": {\"width\": 1.1432091321237943, \"color\": \"#888\"}, \"mode\": \"lines\"}, {\"hoverinfo\": \"none\", \"y\": [-6.400656932273691, -5.930339137052623], \"x\": [-14.47810030254798, -13.88035938362524], \"type\": \"scatter\", \"line\": {\"width\": 1.0109850138118492, \"color\": \"#888\"}, \"mode\": \"lines\"}, {\"hoverinfo\": \"none\", \"y\": [-5.876190550342591, -5.930339137052623], \"x\": [-13.611430736159944, -13.88035938362524], \"type\": \"scatter\", \"line\": {\"width\": 1.76520562498758, \"color\": \"#888\"}, \"mode\": \"lines\"}, {\"hoverinfo\": \"none\", \"y\": [-5.309789890205194, -5.930339137052623], \"x\": [-14.371871984258576, -13.88035938362524], \"type\": \"scatter\", \"line\": {\"width\": 1.6820375473378413, \"color\": \"#888\"}, \"mode\": \"lines\"}, {\"hoverinfo\": \"none\", \"y\": [-6.888856057905963, -5.930339137052623], \"x\": [-14.220471909568893, -13.88035938362524], \"type\": \"scatter\", \"line\": {\"width\": 1.0143047809372914, \"color\": \"#888\"}, \"mode\": \"lines\"}, {\"hoverinfo\": \"none\", \"y\": [-5.87173038695074, -5.930339137052623], \"x\": [-14.189771826738772, -13.88035938362524], \"type\": \"scatter\", \"line\": {\"width\": 1.4674605309560251, \"color\": \"#888\"}, \"mode\": \"lines\"}, {\"hoverinfo\": \"none\", \"y\": [-5.930339137052623, -5.589642377557384], \"x\": [-13.88035938362524, -14.337115099508948], \"type\": \"scatter\", \"line\": {\"width\": 1.3098397302699072, \"color\": \"#888\"}, \"mode\": \"lines\"}, {\"hoverinfo\": \"none\", \"y\": [-5.930339137052623, -5.340015312798051], \"x\": [-13.88035938362524, -14.43856045774682], \"type\": \"scatter\", \"line\": {\"width\": 1.7288782060789272, \"color\": \"#888\"}, \"mode\": \"lines\"}, {\"hoverinfo\": \"none\", \"y\": [-5.930339137052623, -4.657229596896204], \"x\": [-13.88035938362524, -13.929962859924492], \"type\": \"scatter\", \"line\": {\"width\": 1.4582984459131114, \"color\": \"#888\"}, \"mode\": \"lines\"}, {\"hoverinfo\": \"none\", \"y\": [-5.930339137052623, -5.733405128642964], \"x\": [-13.88035938362524, -13.390218289739371], \"type\": \"scatter\", \"line\": {\"width\": 1.2602232837316554, \"color\": \"#888\"}, \"mode\": \"lines\"}, {\"hoverinfo\": \"none\", \"y\": [-5.930339137052623, -5.867735650205169], \"x\": [-13.88035938362524, -14.534578693420821], \"type\": \"scatter\", \"line\": {\"width\": 1.2228433796542193, \"color\": \"#888\"}, \"mode\": \"lines\"}, {\"hoverinfo\": \"none\", \"y\": [-5.930339137052623, -4.948323816069961], \"x\": [-13.88035938362524, -13.862864446562623], \"type\": \"scatter\", \"line\": {\"width\": 1.2374462400830846, \"color\": \"#888\"}, \"mode\": \"lines\"}, {\"hoverinfo\": \"none\", \"y\": [-5.930339137052623, -5.071548520780777], \"x\": [-13.88035938362524, -13.595012385775345], \"type\": \"scatter\", \"line\": {\"width\": 1.4371306234018377, \"color\": \"#888\"}, \"mode\": \"lines\"}, {\"hoverinfo\": \"none\", \"y\": [-5.930339137052623, -5.670154951244973], \"x\": [-13.88035938362524, -13.94653562468436], \"type\": \"scatter\", \"line\": {\"width\": 1.4523772699679673, \"color\": \"#888\"}, \"mode\": \"lines\"}, {\"hoverinfo\": \"none\", \"y\": [-5.930339137052623, -4.9158561143212465], \"x\": [-13.88035938362524, -14.914940275618951], \"type\": \"scatter\", \"line\": {\"width\": 1.0167985173673035, \"color\": \"#888\"}, \"mode\": \"lines\"}, {\"hoverinfo\": \"none\", \"y\": [-7.567300842448139, -6.979374153748573], \"x\": [-14.121106121702685, -13.770553405879493], \"type\": \"scatter\", \"line\": {\"width\": 1.101530761467507, \"color\": \"#888\"}, \"mode\": \"lines\"}, {\"hoverinfo\": \"none\", \"y\": [-6.838172886473517, -6.979374153748573], \"x\": [-15.031880911245818, -13.770553405879493], \"type\": \"scatter\", \"line\": {\"width\": 1.0229105301520915, \"color\": \"#888\"}, \"mode\": \"lines\"}, {\"hoverinfo\": \"none\", \"y\": [-6.201254807051291, -6.979374153748573], \"x\": [-14.645765529985793, -13.770553405879493], \"type\": \"scatter\", \"line\": {\"width\": 1.1483881519259036, \"color\": \"#888\"}, \"mode\": \"lines\"}, {\"hoverinfo\": \"none\", \"y\": [-7.34091427117728, -6.979374153748573], \"x\": [-14.610294342996928, -13.770553405879493], \"type\": \"scatter\", \"line\": {\"width\": 1.2597641475622958, \"color\": \"#888\"}, \"mode\": \"lines\"}, {\"hoverinfo\": \"none\", \"y\": [-6.689195662075548, -6.979374153748573], \"x\": [-13.24315673940496, -13.770553405879493], \"type\": \"scatter\", \"line\": {\"width\": 1.3428936221763546, \"color\": \"#888\"}, \"mode\": \"lines\"}, {\"hoverinfo\": \"none\", \"y\": [-6.491007842347108, -6.979374153748573], \"x\": [-14.200026977870785, -13.770553405879493], \"type\": \"scatter\", \"line\": {\"width\": 1.0167819311066197, \"color\": \"#888\"}, \"mode\": \"lines\"}, {\"hoverinfo\": \"none\", \"y\": [-5.87173038695074, -6.979374153748573], \"x\": [-14.189771826738772, -13.770553405879493], \"type\": \"scatter\", \"line\": {\"width\": 1.053994823587032, \"color\": \"#888\"}, \"mode\": \"lines\"}, {\"hoverinfo\": \"none\", \"y\": [-5.634570573180639, -6.979374153748573], \"x\": [-15.150173669132453, -13.770553405879493], \"type\": \"scatter\", \"line\": {\"width\": 1.0504322590998842, \"color\": \"#888\"}, \"mode\": \"lines\"}, {\"hoverinfo\": \"none\", \"y\": [-6.979374153748573, -6.909290102969761], \"x\": [-13.770553405879493, -12.615706303724961], \"type\": \"scatter\", \"line\": {\"width\": 1.1152978365695407, \"color\": \"#888\"}, \"mode\": \"lines\"}, {\"hoverinfo\": \"none\", \"y\": [-6.979374153748573, -6.038017673214097], \"x\": [-13.770553405879493, -13.273225990625084], \"type\": \"scatter\", \"line\": {\"width\": 1.0161543434297555, \"color\": \"#888\"}, \"mode\": \"lines\"}, {\"hoverinfo\": \"none\", \"y\": [-6.979374153748573, -6.560713072991087], \"x\": [-13.770553405879493, -12.670155574037661], \"type\": \"scatter\", \"line\": {\"width\": 1.078982649507148, \"color\": \"#888\"}, \"mode\": \"lines\"}, {\"hoverinfo\": \"none\", \"y\": [-6.979374153748573, -7.21902777395607], \"x\": [-13.770553405879493, -12.885570200590106], \"type\": \"scatter\", \"line\": {\"width\": 1.2447500216097875, \"color\": \"#888\"}, \"mode\": \"lines\"}, {\"hoverinfo\": \"none\", \"y\": [-6.979374153748573, -6.457956231183889], \"x\": [-13.770553405879493, -14.61875612341671], \"type\": \"scatter\", \"line\": {\"width\": 1.0027186546159308, \"color\": \"#888\"}, \"mode\": \"lines\"}, {\"hoverinfo\": \"none\", \"y\": [-5.876190550342591, -7.033495540347158], \"x\": [-13.611430736159944, -13.387726540267733], \"type\": \"scatter\", \"line\": {\"width\": 1.029667423443561, \"color\": \"#888\"}, \"mode\": \"lines\"}, {\"hoverinfo\": \"none\", \"y\": [-7.033495540347158, -6.038017673214097], \"x\": [-13.387726540267733, -13.273225990625084], \"type\": \"scatter\", \"line\": {\"width\": 1.0520572593229847, \"color\": \"#888\"}, \"mode\": \"lines\"}, {\"hoverinfo\": \"none\", \"y\": [-7.033495540347158, -6.457956231183889], \"x\": [-13.387726540267733, -14.61875612341671], \"type\": \"scatter\", \"line\": {\"width\": 1.0197896529476522, \"color\": \"#888\"}, \"mode\": \"lines\"}, {\"hoverinfo\": \"none\", \"y\": [-7.033495540347158, -7.702450581418244], \"x\": [-13.387726540267733, -14.813500584136921], \"type\": \"scatter\", \"line\": {\"width\": 1.0700143707609076, \"color\": \"#888\"}, \"mode\": \"lines\"}, {\"hoverinfo\": \"none\", \"y\": [-5.32928344518222, -5.589642377557384], \"x\": [-13.875537710711491, -14.337115099508948], \"type\": \"scatter\", \"line\": {\"width\": 1.1525315474835547, \"color\": \"#888\"}, \"mode\": \"lines\"}, {\"hoverinfo\": \"none\", \"y\": [-5.464656038819423, -5.589642377557384], \"x\": [-13.527157887205975, -14.337115099508948], \"type\": \"scatter\", \"line\": {\"width\": 1.2848271338362474, \"color\": \"#888\"}, \"mode\": \"lines\"}, {\"hoverinfo\": \"none\", \"y\": [-4.4476025797803, -5.589642377557384], \"x\": [-14.871497661265048, -14.337115099508948], \"type\": \"scatter\", \"line\": {\"width\": 1.39459880184587, \"color\": \"#888\"}, \"mode\": \"lines\"}, {\"hoverinfo\": \"none\", \"y\": [-6.0025936578907055, -5.589642377557384], \"x\": [-14.954468630341605, -14.337115099508948], \"type\": \"scatter\", \"line\": {\"width\": 1.0679677767616238, \"color\": \"#888\"}, \"mode\": \"lines\"}, {\"hoverinfo\": \"none\", \"y\": [-4.997657926517953, -5.589642377557384], \"x\": [-14.362059659931681, -14.337115099508948], \"type\": \"scatter\", \"line\": {\"width\": 1.2091363920549865, \"color\": \"#888\"}, \"mode\": \"lines\"}, {\"hoverinfo\": \"none\", \"y\": [-5.531850608732078, -5.589642377557384], \"x\": [-13.707209565894951, -14.337115099508948], \"type\": \"scatter\", \"line\": {\"width\": 1.4659683233129517, \"color\": \"#888\"}, \"mode\": \"lines\"}, {\"hoverinfo\": \"none\", \"y\": [-6.400656932273691, -5.589642377557384], \"x\": [-14.47810030254798, -14.337115099508948], \"type\": \"scatter\", \"line\": {\"width\": 1.0707331961635507, \"color\": \"#888\"}, \"mode\": \"lines\"}, {\"hoverinfo\": \"none\", \"y\": [-5.938131240021356, -5.589642377557384], \"x\": [-14.790576922423055, -14.337115099508948], \"type\": \"scatter\", \"line\": {\"width\": 1.0623490685536305, \"color\": \"#888\"}, \"mode\": \"lines\"}, {\"hoverinfo\": \"none\", \"y\": [-5.309789890205194, -5.589642377557384], \"x\": [-14.371871984258576, -14.337115099508948], \"type\": \"scatter\", \"line\": {\"width\": 3.1577487523157908, \"color\": \"#888\"}, \"mode\": \"lines\"}, {\"hoverinfo\": \"none\", \"y\": [-6.491007842347108, -5.589642377557384], \"x\": [-14.200026977870785, -14.337115099508948], \"type\": \"scatter\", \"line\": {\"width\": 1.002568567903429, \"color\": \"#888\"}, \"mode\": \"lines\"}, {\"hoverinfo\": \"none\", \"y\": [-6.888856057905963, -5.589642377557384], \"x\": [-14.220471909568893, -14.337115099508948], \"type\": \"scatter\", \"line\": {\"width\": 1.1244919231162438, \"color\": \"#888\"}, \"mode\": \"lines\"}, {\"hoverinfo\": \"none\", \"y\": [-5.930339137052623, -5.589642377557384], \"x\": [-13.88035938362524, -14.337115099508948], \"type\": \"scatter\", \"line\": {\"width\": 1.3098397302699072, \"color\": \"#888\"}, \"mode\": \"lines\"}, {\"hoverinfo\": \"none\", \"y\": [-5.589642377557384, -5.340015312798051], \"x\": [-14.337115099508948, -14.43856045774682], \"type\": \"scatter\", \"line\": {\"width\": 3.1879587570809687, \"color\": \"#888\"}, \"mode\": \"lines\"}, {\"hoverinfo\": \"none\", \"y\": [-5.589642377557384, -5.151451315824695], \"x\": [-14.337115099508948, -15.630598463545166], \"type\": \"scatter\", \"line\": {\"width\": 1.2043646237228836, \"color\": \"#888\"}, \"mode\": \"lines\"}, {\"hoverinfo\": \"none\", \"y\": [-5.589642377557384, -4.402358898230442], \"x\": [-14.337115099508948, -14.048169730697897], \"type\": \"scatter\", \"line\": {\"width\": 1.3154254437573294, \"color\": \"#888\"}, \"mode\": \"lines\"}, {\"hoverinfo\": \"none\", \"y\": [-5.589642377557384, -6.507485318880583], \"x\": [-14.337115099508948, -14.895945710193905], \"type\": \"scatter\", \"line\": {\"width\": 1.061090247532779, \"color\": \"#888\"}, \"mode\": \"lines\"}, {\"hoverinfo\": \"none\", \"y\": [-5.589642377557384, -4.5058576710257725], \"x\": [-14.337115099508948, -15.270463960168538], \"type\": \"scatter\", \"line\": {\"width\": 1.0635755566987102, \"color\": \"#888\"}, \"mode\": \"lines\"}, {\"hoverinfo\": \"none\", \"y\": [-5.589642377557384, -5.638625502914219], \"x\": [-14.337115099508948, -14.753566114591269], \"type\": \"scatter\", \"line\": {\"width\": 1.5810522423550677, \"color\": \"#888\"}, \"mode\": \"lines\"}, {\"hoverinfo\": \"none\", \"y\": [-5.589642377557384, -4.563713429774501], \"x\": [-14.337115099508948, -14.475455276486759], \"type\": \"scatter\", \"line\": {\"width\": 1.8419867660504172, \"color\": \"#888\"}, \"mode\": \"lines\"}, {\"hoverinfo\": \"none\", \"y\": [-5.589642377557384, -5.733405128642964], \"x\": [-14.337115099508948, -13.390218289739371], \"type\": \"scatter\", \"line\": {\"width\": 1.0831408595155747, \"color\": \"#888\"}, \"mode\": \"lines\"}, {\"hoverinfo\": \"none\", \"y\": [-5.589642377557384, -6.038017673214097], \"x\": [-14.337115099508948, -13.273225990625084], \"type\": \"scatter\", \"line\": {\"width\": 1.2495373637579967, \"color\": \"#888\"}, \"mode\": \"lines\"}, {\"hoverinfo\": \"none\", \"y\": [-5.589642377557384, -4.948323816069961], \"x\": [-14.337115099508948, -13.862864446562623], \"type\": \"scatter\", \"line\": {\"width\": 2.7921176984334677, \"color\": \"#888\"}, \"mode\": \"lines\"}, {\"hoverinfo\": \"none\", \"y\": [-5.589642377557384, -4.746623249059541], \"x\": [-14.337115099508948, -13.675589562249908], \"type\": \"scatter\", \"line\": {\"width\": 1.420054194033269, \"color\": \"#888\"}, \"mode\": \"lines\"}, {\"hoverinfo\": \"none\", \"y\": [-5.589642377557384, -5.071548520780777], \"x\": [-14.337115099508948, -13.595012385775345], \"type\": \"scatter\", \"line\": {\"width\": 1.7487037506264238, \"color\": \"#888\"}, \"mode\": \"lines\"}, {\"hoverinfo\": \"none\", \"y\": [-5.589642377557384, -5.670154951244973], \"x\": [-14.337115099508948, -13.94653562468436], \"type\": \"scatter\", \"line\": {\"width\": 1.7087654595076642, \"color\": \"#888\"}, \"mode\": \"lines\"}, {\"hoverinfo\": \"none\", \"y\": [2.4731819549983896, 2.9443056051994283], \"x\": [-11.632134763637355, -10.858252560086285], \"type\": \"scatter\", \"line\": {\"width\": 1.0991598353620051, \"color\": \"#888\"}, \"mode\": \"lines\"}, {\"hoverinfo\": \"none\", \"y\": [-3.9899647066405595, -2.900222090616298], \"x\": [-13.996742299482742, -14.609022694834321], \"type\": \"scatter\", \"line\": {\"width\": 1.1563698198762682, \"color\": \"#888\"}, \"mode\": \"lines\"}, {\"hoverinfo\": \"none\", \"y\": [-3.229877120455521, -2.900222090616298], \"x\": [-13.445922253012837, -14.609022694834321], \"type\": \"scatter\", \"line\": {\"width\": 1.2270503994606037, \"color\": \"#888\"}, \"mode\": \"lines\"}, {\"hoverinfo\": \"none\", \"y\": [-2.900222090616298, -2.12035182822722], \"x\": [-14.609022694834321, -15.43199205428211], \"type\": \"scatter\", \"line\": {\"width\": 1.0687625347010412, \"color\": \"#888\"}, \"mode\": \"lines\"}, {\"hoverinfo\": \"none\", \"y\": [-2.900222090616298, -2.91931092816861], \"x\": [-14.609022694834321, -14.08296077725767], \"type\": \"scatter\", \"line\": {\"width\": 1.1831457714480567, \"color\": \"#888\"}, \"mode\": \"lines\"}, {\"hoverinfo\": \"none\", \"y\": [-2.900222090616298, -1.9055694080867251], \"x\": [-14.609022694834321, -14.712868500732165], \"type\": \"scatter\", \"line\": {\"width\": 1.1462998844642627, \"color\": \"#888\"}, \"mode\": \"lines\"}, {\"hoverinfo\": \"none\", \"y\": [-2.900222090616298, -3.9299109157582914], \"x\": [-14.609022694834321, -14.265225489671783], \"type\": \"scatter\", \"line\": {\"width\": 1.133629876515718, \"color\": \"#888\"}, \"mode\": \"lines\"}, {\"hoverinfo\": \"none\", \"y\": [-5.32928344518222, -5.340015312798051], \"x\": [-13.875537710711491, -14.43856045774682], \"type\": \"scatter\", \"line\": {\"width\": 2.566209840487566, \"color\": \"#888\"}, \"mode\": \"lines\"}, {\"hoverinfo\": \"none\", \"y\": [-4.920766736253973, -5.340015312798051], \"x\": [-15.643188614776893, -14.43856045774682], \"type\": \"scatter\", \"line\": {\"width\": 1.3015663196802976, \"color\": \"#888\"}, \"mode\": \"lines\"}, {\"hoverinfo\": \"none\", \"y\": [-5.464656038819423, -5.340015312798051], \"x\": [-13.527157887205975, -14.43856045774682], \"type\": \"scatter\", \"line\": {\"width\": 1.8814560634855202, \"color\": \"#888\"}, \"mode\": \"lines\"}, {\"hoverinfo\": \"none\", \"y\": [-4.4476025797803, -5.340015312798051], \"x\": [-14.871497661265048, -14.43856045774682], \"type\": \"scatter\", \"line\": {\"width\": 1.7937621694778214, \"color\": \"#888\"}, \"mode\": \"lines\"}, {\"hoverinfo\": \"none\", \"y\": [-6.0025936578907055, -5.340015312798051], \"x\": [-14.954468630341605, -14.43856045774682], \"type\": \"scatter\", \"line\": {\"width\": 1.1107805467841665, \"color\": \"#888\"}, \"mode\": \"lines\"}, {\"hoverinfo\": \"none\", \"y\": [-4.997657926517953, -5.340015312798051], \"x\": [-14.362059659931681, -14.43856045774682], \"type\": \"scatter\", \"line\": {\"width\": 1.9066601669415097, \"color\": \"#888\"}, \"mode\": \"lines\"}, {\"hoverinfo\": \"none\", \"y\": [-5.531850608732078, -5.340015312798051], \"x\": [-13.707209565894951, -14.43856045774682], \"type\": \"scatter\", \"line\": {\"width\": 1.6918335657476147, \"color\": \"#888\"}, \"mode\": \"lines\"}, {\"hoverinfo\": \"none\", \"y\": [-4.331536967157103, -5.340015312798051], \"x\": [-15.1943392716613, -14.43856045774682], \"type\": \"scatter\", \"line\": {\"width\": 1.0412559036608944, \"color\": \"#888\"}, \"mode\": \"lines\"}, {\"hoverinfo\": \"none\", \"y\": [-6.400656932273691, -5.340015312798051], \"x\": [-14.47810030254798, -14.43856045774682], \"type\": \"scatter\", \"line\": {\"width\": 1.0274528679010728, \"color\": \"#888\"}, \"mode\": \"lines\"}, {\"hoverinfo\": \"none\", \"y\": [-4.37128180082043, -5.340015312798051], \"x\": [-13.488565177169946, -14.43856045774682], \"type\": \"scatter\", \"line\": {\"width\": 1.315584544815094, \"color\": \"#888\"}, \"mode\": \"lines\"}, {\"hoverinfo\": \"none\", \"y\": [-5.938131240021356, -5.340015312798051], \"x\": [-14.790576922423055, -14.43856045774682], \"type\": \"scatter\", \"line\": {\"width\": 1.251505001338207, \"color\": \"#888\"}, \"mode\": \"lines\"}, {\"hoverinfo\": \"none\", \"y\": [-4.907635561614265, -5.340015312798051], \"x\": [-15.190594501558186, -14.43856045774682], \"type\": \"scatter\", \"line\": {\"width\": 1.3636061225836045, \"color\": \"#888\"}, \"mode\": \"lines\"}, {\"hoverinfo\": \"none\", \"y\": [-6.201254807051291, -5.340015312798051], \"x\": [-14.645765529985793, -14.43856045774682], \"type\": \"scatter\", \"line\": {\"width\": 1.132076111448573, \"color\": \"#888\"}, \"mode\": \"lines\"}, {\"hoverinfo\": \"none\", \"y\": [-4.814867740596674, -5.340015312798051], \"x\": [-13.270489320443948, -14.43856045774682], \"type\": \"scatter\", \"line\": {\"width\": 1.0566396278035435, \"color\": \"#888\"}, \"mode\": \"lines\"}, {\"hoverinfo\": \"none\", \"y\": [-5.876190550342591, -5.340015312798051], \"x\": [-13.611430736159944, -14.43856045774682], \"type\": \"scatter\", \"line\": {\"width\": 2.1872722361747963, \"color\": \"#888\"}, \"mode\": \"lines\"}, {\"hoverinfo\": \"none\", \"y\": [-4.43010290727313, -5.340015312798051], \"x\": [-13.787919497620946, -14.43856045774682], \"type\": \"scatter\", \"line\": {\"width\": 1.2839448025401863, \"color\": \"#888\"}, \"mode\": \"lines\"}, {\"hoverinfo\": \"none\", \"y\": [-5.309789890205194, -5.340015312798051], \"x\": [-14.371871984258576, -14.43856045774682], \"type\": \"scatter\", \"line\": {\"width\": 10.0, \"color\": \"#888\"}, \"mode\": \"lines\"}, {\"hoverinfo\": \"none\", \"y\": [-6.295317665169309, -5.340015312798051], \"x\": [-15.06299985540851, -14.43856045774682], \"type\": \"scatter\", \"line\": {\"width\": 1.1574776734716477, \"color\": \"#888\"}, \"mode\": \"lines\"}, {\"hoverinfo\": \"none\", \"y\": [-6.491007842347108, -5.340015312798051], \"x\": [-14.200026977870785, -14.43856045774682], \"type\": \"scatter\", \"line\": {\"width\": 1.4227295360483014, \"color\": \"#888\"}, \"mode\": \"lines\"}, {\"hoverinfo\": \"none\", \"y\": [-5.367590516567743, -5.340015312798051], \"x\": [-15.717211012483808, -14.43856045774682], \"type\": \"scatter\", \"line\": {\"width\": 1.2890306469390533, \"color\": \"#888\"}, \"mode\": \"lines\"}, {\"hoverinfo\": \"none\", \"y\": [-5.87173038695074, -5.340015312798051], \"x\": [-14.189771826738772, -14.43856045774682], \"type\": \"scatter\", \"line\": {\"width\": 2.451719595282226, \"color\": \"#888\"}, \"mode\": \"lines\"}, {\"hoverinfo\": \"none\", \"y\": [-6.325668381304119, -5.340015312798051], \"x\": [-13.54321562440723, -14.43856045774682], \"type\": \"scatter\", \"line\": {\"width\": 1.3165820698061634, \"color\": \"#888\"}, \"mode\": \"lines\"}, {\"hoverinfo\": \"none\", \"y\": [-5.634570573180639, -5.340015312798051], \"x\": [-15.150173669132453, -14.43856045774682], \"type\": \"scatter\", \"line\": {\"width\": 1.670467809013335, \"color\": \"#888\"}, \"mode\": \"lines\"}, {\"hoverinfo\": \"none\", \"y\": [-5.142310599034572, -5.340015312798051], \"x\": [-13.222042469817788, -14.43856045774682], \"type\": \"scatter\", \"line\": {\"width\": 1.3993620914043623, \"color\": \"#888\"}, \"mode\": \"lines\"}, {\"hoverinfo\": \"none\", \"y\": [-5.930339137052623, -5.340015312798051], \"x\": [-13.88035938362524, -14.43856045774682], \"type\": \"scatter\", \"line\": {\"width\": 1.7288782060789272, \"color\": \"#888\"}, \"mode\": \"lines\"}, {\"hoverinfo\": \"none\", \"y\": [-5.589642377557384, -5.340015312798051], \"x\": [-14.337115099508948, -14.43856045774682], \"type\": \"scatter\", \"line\": {\"width\": 3.1879587570809687, \"color\": \"#888\"}, \"mode\": \"lines\"}, {\"hoverinfo\": \"none\", \"y\": [-5.340015312798051, -4.080508516917675], \"x\": [-14.43856045774682, -14.531025161560613], \"type\": \"scatter\", \"line\": {\"width\": 1.318747306507667, \"color\": \"#888\"}, \"mode\": \"lines\"}, {\"hoverinfo\": \"none\", \"y\": [-5.340015312798051, -5.151451315824695], \"x\": [-14.43856045774682, -15.630598463545166], \"type\": \"scatter\", \"line\": {\"width\": 1.0098721890370026, \"color\": \"#888\"}, \"mode\": \"lines\"}, {\"hoverinfo\": \"none\", \"y\": [-5.340015312798051, -4.402358898230442], \"x\": [-14.43856045774682, -14.048169730697897], \"type\": \"scatter\", \"line\": {\"width\": 1.0970820709105817, \"color\": \"#888\"}, \"mode\": \"lines\"}, {\"hoverinfo\": \"none\", \"y\": [-5.340015312798051, -6.507485318880583], \"x\": [-14.43856045774682, -14.895945710193905], \"type\": \"scatter\", \"line\": {\"width\": 1.0919393118939638, \"color\": \"#888\"}, \"mode\": \"lines\"}, {\"hoverinfo\": \"none\", \"y\": [-5.340015312798051, -5.149943024367288], \"x\": [-14.43856045774682, -14.817113325705948], \"type\": \"scatter\", \"line\": {\"width\": 1.6830778944015319, \"color\": \"#888\"}, \"mode\": \"lines\"}, {\"hoverinfo\": \"none\", \"y\": [-5.340015312798051, -6.0598151704403165], \"x\": [-14.43856045774682, -15.41477323554502], \"type\": \"scatter\", \"line\": {\"width\": 1.2351605638156031, \"color\": \"#888\"}, \"mode\": \"lines\"}, {\"hoverinfo\": \"none\", \"y\": [-5.340015312798051, -5.916024529055278], \"x\": [-14.43856045774682, -15.24633057040751], \"type\": \"scatter\", \"line\": {\"width\": 1.5508367495811979, \"color\": \"#888\"}, \"mode\": \"lines\"}, {\"hoverinfo\": \"none\", \"y\": [-5.340015312798051, -5.387738780527072], \"x\": [-14.43856045774682, -15.28225172984896], \"type\": \"scatter\", \"line\": {\"width\": 2.0438351601555285, \"color\": \"#888\"}, \"mode\": \"lines\"}, {\"hoverinfo\": \"none\", \"y\": [-5.340015312798051, -5.024824129450616], \"x\": [-14.43856045774682, -14.094060124693677], \"type\": \"scatter\", \"line\": {\"width\": 1.0017036219199675, \"color\": \"#888\"}, \"mode\": \"lines\"}, {\"hoverinfo\": \"none\", \"y\": [-5.340015312798051, -4.216353478321253], \"x\": [-14.43856045774682, -14.419498108553507], \"type\": \"scatter\", \"line\": {\"width\": 1.381764395450621, \"color\": \"#888\"}, \"mode\": \"lines\"}, {\"hoverinfo\": \"none\", \"y\": [-5.340015312798051, -6.193450742401886], \"x\": [-14.43856045774682, -13.894885252196177], \"type\": \"scatter\", \"line\": {\"width\": 1.0649763823028287, \"color\": \"#888\"}, \"mode\": \"lines\"}, {\"hoverinfo\": \"none\", \"y\": [-5.340015312798051, -6.329600572063244], \"x\": [-14.43856045774682, -15.264536165409725], \"type\": \"scatter\", \"line\": {\"width\": 1.3790216487161453, \"color\": \"#888\"}, \"mode\": \"lines\"}, {\"hoverinfo\": \"none\", \"y\": [-5.340015312798051, -6.478932958412301], \"x\": [-14.43856045774682, -13.79014750687308], \"type\": \"scatter\", \"line\": {\"width\": 1.2864468529583373, \"color\": \"#888\"}, \"mode\": \"lines\"}, {\"hoverinfo\": \"none\", \"y\": [-5.340015312798051, -5.638625502914219], \"x\": [-14.43856045774682, -14.753566114591269], \"type\": \"scatter\", \"line\": {\"width\": 2.567642998280728, \"color\": \"#888\"}, \"mode\": \"lines\"}, {\"hoverinfo\": \"none\", \"y\": [-5.340015312798051, -4.657229596896204], \"x\": [-14.43856045774682, -13.929962859924492], \"type\": \"scatter\", \"line\": {\"width\": 1.1523676617484837, \"color\": \"#888\"}, \"mode\": \"lines\"}, {\"hoverinfo\": \"none\", \"y\": [-5.340015312798051, -4.563713429774501], \"x\": [-14.43856045774682, -14.475455276486759], \"type\": \"scatter\", \"line\": {\"width\": 1.5587087842051919, \"color\": \"#888\"}, \"mode\": \"lines\"}, {\"hoverinfo\": \"none\", \"y\": [-5.340015312798051, -5.733405128642964], \"x\": [-14.43856045774682, -13.390218289739371], \"type\": \"scatter\", \"line\": {\"width\": 1.6392799883916123, \"color\": \"#888\"}, \"mode\": \"lines\"}, {\"hoverinfo\": \"none\", \"y\": [-5.340015312798051, -6.038017673214097], \"x\": [-14.43856045774682, -13.273225990625084], \"type\": \"scatter\", \"line\": {\"width\": 1.586531690322458, \"color\": \"#888\"}, \"mode\": \"lines\"}, {\"hoverinfo\": \"none\", \"y\": [-5.340015312798051, -5.867735650205169], \"x\": [-14.43856045774682, -14.534578693420821], \"type\": \"scatter\", \"line\": {\"width\": 1.9869900085489416, \"color\": \"#888\"}, \"mode\": \"lines\"}, {\"hoverinfo\": \"none\", \"y\": [-5.340015312798051, -5.537184150233229], \"x\": [-14.43856045774682, -15.573741906957562], \"type\": \"scatter\", \"line\": {\"width\": 1.1860759821042963, \"color\": \"#888\"}, \"mode\": \"lines\"}, {\"hoverinfo\": \"none\", \"y\": [-5.340015312798051, -4.193392152224972], \"x\": [-14.43856045774682, -14.933185749715992], \"type\": \"scatter\", \"line\": {\"width\": 1.5222648642649248, \"color\": \"#888\"}, \"mode\": \"lines\"}, {\"hoverinfo\": \"none\", \"y\": [-5.340015312798051, -5.620675211727626], \"x\": [-14.43856045774682, -13.104395642507322], \"type\": \"scatter\", \"line\": {\"width\": 1.1696652479867022, \"color\": \"#888\"}, \"mode\": \"lines\"}, {\"hoverinfo\": \"none\", \"y\": [-5.340015312798051, -4.948323816069961], \"x\": [-14.43856045774682, -13.862864446562623], \"type\": \"scatter\", \"line\": {\"width\": 3.265376284739778, \"color\": \"#888\"}, \"mode\": \"lines\"}, {\"hoverinfo\": \"none\", \"y\": [-5.340015312798051, -4.746623249059541], \"x\": [-14.43856045774682, -13.675589562249908], \"type\": \"scatter\", \"line\": {\"width\": 1.2638409296305433, \"color\": \"#888\"}, \"mode\": \"lines\"}, {\"hoverinfo\": \"none\", \"y\": [-5.340015312798051, -4.675896407068778], \"x\": [-14.43856045774682, -15.438938010325261], \"type\": \"scatter\", \"line\": {\"width\": 1.438687743390058, \"color\": \"#888\"}, \"mode\": \"lines\"}, {\"hoverinfo\": \"none\", \"y\": [-5.340015312798051, -5.071548520780777], \"x\": [-14.43856045774682, -13.595012385775345], \"type\": \"scatter\", \"line\": {\"width\": 1.9833157453205779, \"color\": \"#888\"}, \"mode\": \"lines\"}, {\"hoverinfo\": \"none\", \"y\": [-5.340015312798051, -5.37815957036336], \"x\": [-14.43856045774682, -13.193598012960688], \"type\": \"scatter\", \"line\": {\"width\": 1.3812304868980876, \"color\": \"#888\"}, \"mode\": \"lines\"}, {\"hoverinfo\": \"none\", \"y\": [-5.340015312798051, -5.670154951244973], \"x\": [-14.43856045774682, -13.94653562468436], \"type\": \"scatter\", \"line\": {\"width\": 3.1927690423116966, \"color\": \"#888\"}, \"mode\": \"lines\"}, {\"hoverinfo\": \"none\", \"y\": [-5.340015312798051, -5.806596942822509], \"x\": [-14.43856045774682, -15.497439241197572], \"type\": \"scatter\", \"line\": {\"width\": 1.4190282225804427, \"color\": \"#888\"}, \"mode\": \"lines\"}, {\"hoverinfo\": \"none\", \"y\": [-5.340015312798051, -4.9158561143212465], \"x\": [-14.43856045774682, -14.914940275618951], \"type\": \"scatter\", \"line\": {\"width\": 2.2726446736519508, \"color\": \"#888\"}, \"mode\": \"lines\"}, {\"hoverinfo\": \"none\", \"y\": [-5.340015312798051, -5.529484149368032], \"x\": [-14.43856045774682, -15.013124154598115], \"type\": \"scatter\", \"line\": {\"width\": 2.0270887765427292, \"color\": \"#888\"}, \"mode\": \"lines\"}, {\"hoverinfo\": \"none\", \"y\": [-5.340015312798051, -4.598891617330923], \"x\": [-14.43856045774682, -14.813549771834133], \"type\": \"scatter\", \"line\": {\"width\": 1.1820325920296575, \"color\": \"#888\"}, \"mode\": \"lines\"}, {\"hoverinfo\": \"none\", \"y\": [-5.340015312798051, -6.457956231183889], \"x\": [-14.43856045774682, -14.61875612341671], \"type\": \"scatter\", \"line\": {\"width\": 1.077722628508547, \"color\": \"#888\"}, \"mode\": \"lines\"}, {\"hoverinfo\": \"none\", \"y\": [-5.340015312798051, -3.9299109157582914], \"x\": [-14.43856045774682, -14.265225489671783], \"type\": \"scatter\", \"line\": {\"width\": 1.2684677691401385, \"color\": \"#888\"}, \"mode\": \"lines\"}, {\"hoverinfo\": \"none\", \"y\": [-6.106942030786656, -5.590205519431617], \"x\": [-17.70580069741524, -16.71299347461052], \"type\": \"scatter\", \"line\": {\"width\": 1.1908454484178237, \"color\": \"#888\"}, \"mode\": \"lines\"}, {\"hoverinfo\": \"none\", \"y\": [-6.106942030786656, -6.138199857768167], \"x\": [-17.70580069741524, -16.660753934328383], \"type\": \"scatter\", \"line\": {\"width\": 1.118949889885228, \"color\": \"#888\"}, \"mode\": \"lines\"}, {\"hoverinfo\": \"none\", \"y\": [-3.5288621511908427, -4.080508516917675], \"x\": [-13.09713495454668, -14.531025161560613], \"type\": \"scatter\", \"line\": {\"width\": 1.0129143583647515, \"color\": \"#888\"}, \"mode\": \"lines\"}, {\"hoverinfo\": \"none\", \"y\": [-3.0707153765384603, -4.080508516917675], \"x\": [-15.337884524937785, -14.531025161560613], \"type\": \"scatter\", \"line\": {\"width\": 1.1073355126124376, \"color\": \"#888\"}, \"mode\": \"lines\"}, {\"hoverinfo\": \"none\", \"y\": [-5.309789890205194, -4.080508516917675], \"x\": [-14.371871984258576, -14.531025161560613], \"type\": \"scatter\", \"line\": {\"width\": 1.3355783082579442, \"color\": \"#888\"}, \"mode\": \"lines\"}, {\"hoverinfo\": \"none\", \"y\": [-5.340015312798051, -4.080508516917675], \"x\": [-14.43856045774682, -14.531025161560613], \"type\": \"scatter\", \"line\": {\"width\": 1.318747306507667, \"color\": \"#888\"}, \"mode\": \"lines\"}, {\"hoverinfo\": \"none\", \"y\": [-4.080508516917675, -5.149943024367288], \"x\": [-14.531025161560613, -14.817113325705948], \"type\": \"scatter\", \"line\": {\"width\": 1.0353462718347628, \"color\": \"#888\"}, \"mode\": \"lines\"}, {\"hoverinfo\": \"none\", \"y\": [-6.896377114987738, -6.583920240965175], \"x\": [-17.398305802687364, -16.41109013839647], \"type\": \"scatter\", \"line\": {\"width\": 1.0674598078983306, \"color\": \"#888\"}, \"mode\": \"lines\"}, {\"hoverinfo\": \"none\", \"y\": [-5.309789890205194, -5.151451315824695], \"x\": [-14.371871984258576, -15.630598463545166], \"type\": \"scatter\", \"line\": {\"width\": 1.0218575318561447, \"color\": \"#888\"}, \"mode\": \"lines\"}, {\"hoverinfo\": \"none\", \"y\": [-5.589642377557384, -5.151451315824695], \"x\": [-14.337115099508948, -15.630598463545166], \"type\": \"scatter\", \"line\": {\"width\": 1.2043646237228836, \"color\": \"#888\"}, \"mode\": \"lines\"}, {\"hoverinfo\": \"none\", \"y\": [-5.340015312798051, -5.151451315824695], \"x\": [-14.43856045774682, -15.630598463545166], \"type\": \"scatter\", \"line\": {\"width\": 1.0098721890370026, \"color\": \"#888\"}, \"mode\": \"lines\"}, {\"hoverinfo\": \"none\", \"y\": [-5.151451315824695, -5.590205519431617], \"x\": [-15.630598463545166, -16.71299347461052], \"type\": \"scatter\", \"line\": {\"width\": 1.0524442281058517, \"color\": \"#888\"}, \"mode\": \"lines\"}, {\"hoverinfo\": \"none\", \"y\": [-5.151451315824695, -6.138199857768167], \"x\": [-15.630598463545166, -16.660753934328383], \"type\": \"scatter\", \"line\": {\"width\": 1.062441482693396, \"color\": \"#888\"}, \"mode\": \"lines\"}, {\"hoverinfo\": \"none\", \"y\": [-5.151451315824695, -5.806596942822509], \"x\": [-15.630598463545166, -15.497439241197572], \"type\": \"scatter\", \"line\": {\"width\": 1.047565162276737, \"color\": \"#888\"}, \"mode\": \"lines\"}, {\"hoverinfo\": \"none\", \"y\": [4.269212475785679, 3.842756612426725], \"x\": [-10.783557959520174, -9.987279805570436], \"type\": \"scatter\", \"line\": {\"width\": 1.0221615441390333, \"color\": \"#888\"}, \"mode\": \"lines\"}, {\"hoverinfo\": \"none\", \"y\": [-4.814867740596674, -4.390247982935071], \"x\": [-13.270489320443948, -12.781972190065094], \"type\": \"scatter\", \"line\": {\"width\": 1.1197407888849389, \"color\": \"#888\"}, \"mode\": \"lines\"}, {\"hoverinfo\": \"none\", \"y\": [-5.876190550342591, -4.390247982935071], \"x\": [-13.611430736159944, -12.781972190065094], \"type\": \"scatter\", \"line\": {\"width\": 1.1358728561908775, \"color\": \"#888\"}, \"mode\": \"lines\"}, {\"hoverinfo\": \"none\", \"y\": [-3.315088065905645, -4.390247982935071], \"x\": [-12.371455468108477, -12.781972190065094], \"type\": \"scatter\", \"line\": {\"width\": 1.0168162068323456, \"color\": \"#888\"}, \"mode\": \"lines\"}, {\"hoverinfo\": \"none\", \"y\": [-3.229877120455521, -4.390247982935071], \"x\": [-13.445922253012837, -12.781972190065094], \"type\": \"scatter\", \"line\": {\"width\": 1.4403795439450626, \"color\": \"#888\"}, \"mode\": \"lines\"}, {\"hoverinfo\": \"none\", \"y\": [-5.531850608732078, -4.402358898230442], \"x\": [-13.707209565894951, -14.048169730697897], \"type\": \"scatter\", \"line\": {\"width\": 1.0644477275027557, \"color\": \"#888\"}, \"mode\": \"lines\"}, {\"hoverinfo\": \"none\", \"y\": [-5.309789890205194, -4.402358898230442], \"x\": [-14.371871984258576, -14.048169730697897], \"type\": \"scatter\", \"line\": {\"width\": 1.1112082173446767, \"color\": \"#888\"}, \"mode\": \"lines\"}, {\"hoverinfo\": \"none\", \"y\": [-5.589642377557384, -4.402358898230442], \"x\": [-14.337115099508948, -14.048169730697897], \"type\": \"scatter\", \"line\": {\"width\": 1.3154254437573294, \"color\": \"#888\"}, \"mode\": \"lines\"}, {\"hoverinfo\": \"none\", \"y\": [-5.340015312798051, -4.402358898230442], \"x\": [-14.43856045774682, -14.048169730697897], \"type\": \"scatter\", \"line\": {\"width\": 1.0970820709105817, \"color\": \"#888\"}, \"mode\": \"lines\"}, {\"hoverinfo\": \"none\", \"y\": [-4.402358898230442, -4.563713429774501], \"x\": [-14.048169730697897, -14.475455276486759], \"type\": \"scatter\", \"line\": {\"width\": 1.6290562870466516, \"color\": \"#888\"}, \"mode\": \"lines\"}, {\"hoverinfo\": \"none\", \"y\": [-5.142310599034572, -5.1083541514665365], \"x\": [-13.222042469817788, -12.033468151975097], \"type\": \"scatter\", \"line\": {\"width\": 1.2350702599665488, \"color\": \"#888\"}, \"mode\": \"lines\"}, {\"hoverinfo\": \"none\", \"y\": [-5.1083541514665365, -4.636006372940541], \"x\": [-12.033468151975097, -12.518872512671223], \"type\": \"scatter\", \"line\": {\"width\": 1.3024196191895037, \"color\": \"#888\"}, \"mode\": \"lines\"}, {\"hoverinfo\": \"none\", \"y\": [-5.1083541514665365, -5.37815957036336], \"x\": [-12.033468151975097, -13.193598012960688], \"type\": \"scatter\", \"line\": {\"width\": 1.2067091142521453, \"color\": \"#888\"}, \"mode\": \"lines\"}, {\"hoverinfo\": \"none\", \"y\": [-2.900222090616298, -2.12035182822722], \"x\": [-14.609022694834321, -15.43199205428211], \"type\": \"scatter\", \"line\": {\"width\": 1.0687625347010412, \"color\": \"#888\"}, \"mode\": \"lines\"}, {\"hoverinfo\": \"none\", \"y\": [-2.12035182822722, -1.9055694080867251], \"x\": [-15.43199205428211, -14.712868500732165], \"type\": \"scatter\", \"line\": {\"width\": 1.062697577792586, \"color\": \"#888\"}, \"mode\": \"lines\"}, {\"hoverinfo\": \"none\", \"y\": [-6.0025936578907055, -6.507485318880583], \"x\": [-14.954468630341605, -14.895945710193905], \"type\": \"scatter\", \"line\": {\"width\": 1.2391513453871246, \"color\": \"#888\"}, \"mode\": \"lines\"}, {\"hoverinfo\": \"none\", \"y\": [-7.567300842448139, -6.507485318880583], \"x\": [-14.121106121702685, -14.895945710193905], \"type\": \"scatter\", \"line\": {\"width\": 1.0087318120004038, \"color\": \"#888\"}, \"mode\": \"lines\"}, {\"hoverinfo\": \"none\", \"y\": [-6.400656932273691, -6.507485318880583], \"x\": [-14.47810030254798, -14.895945710193905], \"type\": \"scatter\", \"line\": {\"width\": 1.4832930434014333, \"color\": \"#888\"}, \"mode\": \"lines\"}, {\"hoverinfo\": \"none\", \"y\": [-5.938131240021356, -6.507485318880583], \"x\": [-14.790576922423055, -14.895945710193905], \"type\": \"scatter\", \"line\": {\"width\": 1.300990766960133, \"color\": \"#888\"}, \"mode\": \"lines\"}, {\"hoverinfo\": \"none\", \"y\": [-5.876190550342591, -6.507485318880583], \"x\": [-13.611430736159944, -14.895945710193905], \"type\": \"scatter\", \"line\": {\"width\": 1.0539800831501809, \"color\": \"#888\"}, \"mode\": \"lines\"}, {\"hoverinfo\": \"none\", \"y\": [-5.309789890205194, -6.507485318880583], \"x\": [-14.371871984258576, -14.895945710193905], \"type\": \"scatter\", \"line\": {\"width\": 1.1081264330164462, \"color\": \"#888\"}, \"mode\": \"lines\"}, {\"hoverinfo\": \"none\", \"y\": [-7.277572243361705, -6.507485318880583], \"x\": [-15.941719530610088, -14.895945710193905], \"type\": \"scatter\", \"line\": {\"width\": 1.221336861129728, \"color\": \"#888\"}, \"mode\": \"lines\"}, {\"hoverinfo\": \"none\", \"y\": [-6.491007842347108, -6.507485318880583], \"x\": [-14.200026977870785, -14.895945710193905], \"type\": \"scatter\", \"line\": {\"width\": 1.103419965826937, \"color\": \"#888\"}, \"mode\": \"lines\"}, {\"hoverinfo\": \"none\", \"y\": [-6.888856057905963, -6.507485318880583], \"x\": [-14.220471909568893, -14.895945710193905], \"type\": \"scatter\", \"line\": {\"width\": 1.2313168875863947, \"color\": \"#888\"}, \"mode\": \"lines\"}, {\"hoverinfo\": \"none\", \"y\": [-6.736423468652748, -6.507485318880583], \"x\": [-15.851128569030708, -14.895945710193905], \"type\": \"scatter\", \"line\": {\"width\": 1.1128435382088495, \"color\": \"#888\"}, \"mode\": \"lines\"}, {\"hoverinfo\": \"none\", \"y\": [-5.589642377557384, -6.507485318880583], \"x\": [-14.337115099508948, -14.895945710193905], \"type\": \"scatter\", \"line\": {\"width\": 1.061090247532779, \"color\": \"#888\"}, \"mode\": \"lines\"}, {\"hoverinfo\": \"none\", \"y\": [-5.340015312798051, -6.507485318880583], \"x\": [-14.43856045774682, -14.895945710193905], \"type\": \"scatter\", \"line\": {\"width\": 1.0919393118939638, \"color\": \"#888\"}, \"mode\": \"lines\"}, {\"hoverinfo\": \"none\", \"y\": [-6.507485318880583, -6.832951899584617], \"x\": [-14.895945710193905, -13.981029096872376], \"type\": \"scatter\", \"line\": {\"width\": 1.0788074979192634, \"color\": \"#888\"}, \"mode\": \"lines\"}, {\"hoverinfo\": \"none\", \"y\": [-6.507485318880583, -6.93972065520944], \"x\": [-14.895945710193905, -14.616955577935325], \"type\": \"scatter\", \"line\": {\"width\": 1.0345768076262605, \"color\": \"#888\"}, \"mode\": \"lines\"}, {\"hoverinfo\": \"none\", \"y\": [-6.507485318880583, -5.537184150233229], \"x\": [-14.895945710193905, -15.573741906957562], \"type\": \"scatter\", \"line\": {\"width\": 1.009643827301647, \"color\": \"#888\"}, \"mode\": \"lines\"}, {\"hoverinfo\": \"none\", \"y\": [-6.507485318880583, -7.364165177722024], \"x\": [-14.895945710193905, -15.634320764752584], \"type\": \"scatter\", \"line\": {\"width\": 1.204001702132995, \"color\": \"#888\"}, \"mode\": \"lines\"}, {\"hoverinfo\": \"none\", \"y\": [-6.507485318880583, -7.368519936234171], \"x\": [-14.895945710193905, -14.251523252864162], \"type\": \"scatter\", \"line\": {\"width\": 1.145445114520896, \"color\": \"#888\"}, \"mode\": \"lines\"}, {\"hoverinfo\": \"none\", \"y\": [-5.464656038819423, -6.832951899584617], \"x\": [-13.527157887205975, -13.981029096872376], \"type\": \"scatter\", \"line\": {\"width\": 1.0390646546923523, \"color\": \"#888\"}, \"mode\": \"lines\"}, {\"hoverinfo\": \"none\", \"y\": [-6.0025936578907055, -6.832951899584617], \"x\": [-14.954468630341605, -13.981029096872376], \"type\": \"scatter\", \"line\": {\"width\": 1.0103277113363722, \"color\": \"#888\"}, \"mode\": \"lines\"}, {\"hoverinfo\": \"none\", \"y\": [-7.567300842448139, -6.832951899584617], \"x\": [-14.121106121702685, -13.981029096872376], \"type\": \"scatter\", \"line\": {\"width\": 1.0174386683931247, \"color\": \"#888\"}, \"mode\": \"lines\"}, {\"hoverinfo\": \"none\", \"y\": [-6.400656932273691, -6.832951899584617], \"x\": [-14.47810030254798, -13.981029096872376], \"type\": \"scatter\", \"line\": {\"width\": 1.0159194953047692, \"color\": \"#888\"}, \"mode\": \"lines\"}, {\"hoverinfo\": \"none\", \"y\": [-5.938131240021356, -6.832951899584617], \"x\": [-14.790576922423055, -13.981029096872376], \"type\": \"scatter\", \"line\": {\"width\": 1.016731652620529, \"color\": \"#888\"}, \"mode\": \"lines\"}, {\"hoverinfo\": \"none\", \"y\": [-5.876190550342591, -6.832951899584617], \"x\": [-13.611430736159944, -13.981029096872376], \"type\": \"scatter\", \"line\": {\"width\": 1.074493439756516, \"color\": \"#888\"}, \"mode\": \"lines\"}, {\"hoverinfo\": \"none\", \"y\": [-6.888856057905963, -6.832951899584617], \"x\": [-14.220471909568893, -13.981029096872376], \"type\": \"scatter\", \"line\": {\"width\": 1.327113634493792, \"color\": \"#888\"}, \"mode\": \"lines\"}, {\"hoverinfo\": \"none\", \"y\": [-6.507485318880583, -6.832951899584617], \"x\": [-14.895945710193905, -13.981029096872376], \"type\": \"scatter\", \"line\": {\"width\": 1.0788074979192634, \"color\": \"#888\"}, \"mode\": \"lines\"}, {\"hoverinfo\": \"none\", \"y\": [-6.832951899584617, -8.017373646677502], \"x\": [-13.981029096872376, -14.500335134000432], \"type\": \"scatter\", \"line\": {\"width\": 1.109759620016767, \"color\": \"#888\"}, \"mode\": \"lines\"}, {\"hoverinfo\": \"none\", \"y\": [-5.32928344518222, -5.149943024367288], \"x\": [-13.875537710711491, -14.817113325705948], \"type\": \"scatter\", \"line\": {\"width\": 1.0835943663577714, \"color\": \"#888\"}, \"mode\": \"lines\"}, {\"hoverinfo\": \"none\", \"y\": [-4.4476025797803, -5.149943024367288], \"x\": [-14.871497661265048, -14.817113325705948], \"type\": \"scatter\", \"line\": {\"width\": 1.1398534458016778, \"color\": \"#888\"}, \"mode\": \"lines\"}, {\"hoverinfo\": \"none\", \"y\": [-5.938131240021356, -5.149943024367288], \"x\": [-14.790576922423055, -14.817113325705948], \"type\": \"scatter\", \"line\": {\"width\": 1.1984960462707082, \"color\": \"#888\"}, \"mode\": \"lines\"}, {\"hoverinfo\": \"none\", \"y\": [-4.907635561614265, -5.149943024367288], \"x\": [-15.190594501558186, -14.817113325705948], \"type\": \"scatter\", \"line\": {\"width\": 1.0291797412739954, \"color\": \"#888\"}, \"mode\": \"lines\"}, {\"hoverinfo\": \"none\", \"y\": [-6.201254807051291, -5.149943024367288], \"x\": [-14.645765529985793, -14.817113325705948], \"type\": \"scatter\", \"line\": {\"width\": 1.0844524091290217, \"color\": \"#888\"}, \"mode\": \"lines\"}, {\"hoverinfo\": \"none\", \"y\": [-5.309789890205194, -5.149943024367288], \"x\": [-14.371871984258576, -14.817113325705948], \"type\": \"scatter\", \"line\": {\"width\": 1.7038625293784184, \"color\": \"#888\"}, \"mode\": \"lines\"}, {\"hoverinfo\": \"none\", \"y\": [-6.295317665169309, -5.149943024367288], \"x\": [-15.06299985540851, -14.817113325705948], \"type\": \"scatter\", \"line\": {\"width\": 1.271461417643486, \"color\": \"#888\"}, \"mode\": \"lines\"}, {\"hoverinfo\": \"none\", \"y\": [-5.87173038695074, -5.149943024367288], \"x\": [-14.189771826738772, -14.817113325705948], \"type\": \"scatter\", \"line\": {\"width\": 1.3592743584515317, \"color\": \"#888\"}, \"mode\": \"lines\"}, {\"hoverinfo\": \"none\", \"y\": [-5.340015312798051, -5.149943024367288], \"x\": [-14.43856045774682, -14.817113325705948], \"type\": \"scatter\", \"line\": {\"width\": 1.6830778944015319, \"color\": \"#888\"}, \"mode\": \"lines\"}, {\"hoverinfo\": \"none\", \"y\": [-4.080508516917675, -5.149943024367288], \"x\": [-14.531025161560613, -14.817113325705948], \"type\": \"scatter\", \"line\": {\"width\": 1.0353462718347628, \"color\": \"#888\"}, \"mode\": \"lines\"}, {\"hoverinfo\": \"none\", \"y\": [-5.149943024367288, -4.5058576710257725], \"x\": [-14.817113325705948, -15.270463960168538], \"type\": \"scatter\", \"line\": {\"width\": 1.277912477086186, \"color\": \"#888\"}, \"mode\": \"lines\"}, {\"hoverinfo\": \"none\", \"y\": [-5.149943024367288, -5.024824129450616], \"x\": [-14.817113325705948, -14.094060124693677], \"type\": \"scatter\", \"line\": {\"width\": 1.0879176777993202, \"color\": \"#888\"}, \"mode\": \"lines\"}, {\"hoverinfo\": \"none\", \"y\": [-5.149943024367288, -5.638625502914219], \"x\": [-14.817113325705948, -14.753566114591269], \"type\": \"scatter\", \"line\": {\"width\": 1.104830326321568, \"color\": \"#888\"}, \"mode\": \"lines\"}, {\"hoverinfo\": \"none\", \"y\": [-5.149943024367288, -5.867735650205169], \"x\": [-14.817113325705948, -14.534578693420821], \"type\": \"scatter\", \"line\": {\"width\": 1.053952866482968, \"color\": \"#888\"}, \"mode\": \"lines\"}, {\"hoverinfo\": \"none\", \"y\": [-5.149943024367288, -4.948323816069961], \"x\": [-14.817113325705948, -13.862864446562623], \"type\": \"scatter\", \"line\": {\"width\": 1.1110581512755304, \"color\": \"#888\"}, \"mode\": \"lines\"}, {\"hoverinfo\": \"none\", \"y\": [-5.149943024367288, -5.806596942822509], \"x\": [-14.817113325705948, -15.497439241197572], \"type\": \"scatter\", \"line\": {\"width\": 1.0058964092324805, \"color\": \"#888\"}, \"mode\": \"lines\"}, {\"hoverinfo\": \"none\", \"y\": [-5.149943024367288, -5.529484149368032], \"x\": [-14.817113325705948, -15.013124154598115], \"type\": \"scatter\", \"line\": {\"width\": 1.106498364464699, \"color\": \"#888\"}, \"mode\": \"lines\"}, {\"hoverinfo\": \"none\", \"y\": [-5.149943024367288, -4.598891617330923], \"x\": [-14.817113325705948, -14.813549771834133], \"type\": \"scatter\", \"line\": {\"width\": 1.5356393979216454, \"color\": \"#888\"}, \"mode\": \"lines\"}, {\"hoverinfo\": \"none\", \"y\": [-5.149943024367288, -6.457956231183889], \"x\": [-14.817113325705948, -14.61875612341671], \"type\": \"scatter\", \"line\": {\"width\": 1.151756002717777, \"color\": \"#888\"}, \"mode\": \"lines\"}, {\"hoverinfo\": \"none\", \"y\": [-4.4476025797803, -3.7533718180893545], \"x\": [-14.871497661265048, -16.00047798583634], \"type\": \"scatter\", \"line\": {\"width\": 1.013897428648376, \"color\": \"#888\"}, \"mode\": \"lines\"}, {\"hoverinfo\": \"none\", \"y\": [-3.7533718180893545, -4.310670236828554], \"x\": [-16.00047798583634, -16.303060544747147], \"type\": \"scatter\", \"line\": {\"width\": 1.3184957335227359, \"color\": \"#888\"}, \"mode\": \"lines\"}, {\"hoverinfo\": \"none\", \"y\": [-7.798367216956849, -6.478932958412301], \"x\": [-13.555182236786251, -13.79014750687308], \"type\": \"scatter\", \"line\": {\"width\": 1.0329961997871857, \"color\": \"#888\"}, \"mode\": \"lines\"}, {\"hoverinfo\": \"none\", \"y\": [-7.798367216956849, -7.368519936234171], \"x\": [-13.555182236786251, -14.251523252864162], \"type\": \"scatter\", \"line\": {\"width\": 1.0180330958204062, \"color\": \"#888\"}, \"mode\": \"lines\"}, {\"hoverinfo\": \"none\", \"y\": [-7.567300842448139, -7.536130655725203], \"x\": [-14.121106121702685, -13.355349687799634], \"type\": \"scatter\", \"line\": {\"width\": 1.0134647643600974, \"color\": \"#888\"}, \"mode\": \"lines\"}, {\"hoverinfo\": \"none\", \"y\": [-6.491007842347108, -7.536130655725203], \"x\": [-14.200026977870785, -13.355349687799634], \"type\": \"scatter\", \"line\": {\"width\": 1.1755908676233198, \"color\": \"#888\"}, \"mode\": \"lines\"}, {\"hoverinfo\": \"none\", \"y\": [-6.888856057905963, -7.536130655725203], \"x\": [-14.220471909568893, -13.355349687799634], \"type\": \"scatter\", \"line\": {\"width\": 1.009360717823278, \"color\": \"#888\"}, \"mode\": \"lines\"}, {\"hoverinfo\": \"none\", \"y\": [-7.94155896698412, -7.536130655725203], \"x\": [-12.235378998295207, -13.355349687799634], \"type\": \"scatter\", \"line\": {\"width\": 1.0190214973025375, \"color\": \"#888\"}, \"mode\": \"lines\"}, {\"hoverinfo\": \"none\", \"y\": [-7.536130655725203, -8.419346170035725], \"x\": [-13.355349687799634, -12.924120964256007], \"type\": \"scatter\", \"line\": {\"width\": 1.0627746145541674, \"color\": \"#888\"}, \"mode\": \"lines\"}, {\"hoverinfo\": \"none\", \"y\": [-7.536130655725203, -7.368519936234171], \"x\": [-13.355349687799634, -14.251523252864162], \"type\": \"scatter\", \"line\": {\"width\": 1.0413919691563902, \"color\": \"#888\"}, \"mode\": \"lines\"}, {\"hoverinfo\": \"none\", \"y\": [-6.400656932273691, -6.93972065520944], \"x\": [-14.47810030254798, -14.616955577935325], \"type\": \"scatter\", \"line\": {\"width\": 1.389027847120075, \"color\": \"#888\"}, \"mode\": \"lines\"}, {\"hoverinfo\": \"none\", \"y\": [-5.938131240021356, -6.93972065520944], \"x\": [-14.790576922423055, -14.616955577935325], \"type\": \"scatter\", \"line\": {\"width\": 1.3038656131771333, \"color\": \"#888\"}, \"mode\": \"lines\"}, {\"hoverinfo\": \"none\", \"y\": [-6.295317665169309, -6.93972065520944], \"x\": [-15.06299985540851, -14.616955577935325], \"type\": \"scatter\", \"line\": {\"width\": 1.16603137124147, \"color\": \"#888\"}, \"mode\": \"lines\"}, {\"hoverinfo\": \"none\", \"y\": [-7.48974954779173, -6.93972065520944], \"x\": [-15.471579657370995, -14.616955577935325], \"type\": \"scatter\", \"line\": {\"width\": 1.2244702682820012, \"color\": \"#888\"}, \"mode\": \"lines\"}, {\"hoverinfo\": \"none\", \"y\": [-6.507485318880583, -6.93972065520944], \"x\": [-14.895945710193905, -14.616955577935325], \"type\": \"scatter\", \"line\": {\"width\": 1.0345768076262605, \"color\": \"#888\"}, \"mode\": \"lines\"}, {\"hoverinfo\": \"none\", \"y\": [-6.93972065520944, -5.916024529055278], \"x\": [-14.616955577935325, -15.24633057040751], \"type\": \"scatter\", \"line\": {\"width\": 1.0162944108489014, \"color\": \"#888\"}, \"mode\": \"lines\"}, {\"hoverinfo\": \"none\", \"y\": [-6.93972065520944, -7.017099143443842], \"x\": [-14.616955577935325, -14.899682882110234], \"type\": \"scatter\", \"line\": {\"width\": 1.4972459540613943, \"color\": \"#888\"}, \"mode\": \"lines\"}, {\"hoverinfo\": \"none\", \"y\": [-6.93972065520944, -5.024824129450616], \"x\": [-14.616955577935325, -14.094060124693677], \"type\": \"scatter\", \"line\": {\"width\": 1.0142546881249672, \"color\": \"#888\"}, \"mode\": \"lines\"}, {\"hoverinfo\": \"none\", \"y\": [-6.93972065520944, -7.364165177722024], \"x\": [-14.616955577935325, -15.634320764752584], \"type\": \"scatter\", \"line\": {\"width\": 1.0175916030272816, \"color\": \"#888\"}, \"mode\": \"lines\"}, {\"hoverinfo\": \"none\", \"y\": [-6.93972065520944, -5.670154951244973], \"x\": [-14.616955577935325, -13.94653562468436], \"type\": \"scatter\", \"line\": {\"width\": 1.2182606704755221, \"color\": \"#888\"}, \"mode\": \"lines\"}, {\"hoverinfo\": \"none\", \"y\": [-6.93972065520944, -7.368519936234171], \"x\": [-14.616955577935325, -14.251523252864162], \"type\": \"scatter\", \"line\": {\"width\": 1.1356608572780873, \"color\": \"#888\"}, \"mode\": \"lines\"}, {\"hoverinfo\": \"none\", \"y\": [-5.566587789910302, -5.679377352894312], \"x\": [-16.060753847986447, -17.258365055378444], \"type\": \"scatter\", \"line\": {\"width\": 1.015098821210063, \"color\": \"#888\"}, \"mode\": \"lines\"}, {\"hoverinfo\": \"none\", \"y\": [-5.924729640631664, -5.679377352894312], \"x\": [-16.47167403284231, -17.258365055378444], \"type\": \"scatter\", \"line\": {\"width\": 1.0804621489566602, \"color\": \"#888\"}, \"mode\": \"lines\"}, {\"hoverinfo\": \"none\", \"y\": [-5.679377352894312, -4.840032384087389], \"x\": [-17.258365055378444, -16.785895922940433], \"type\": \"scatter\", \"line\": {\"width\": 1.0702078111080118, \"color\": \"#888\"}, \"mode\": \"lines\"}, {\"hoverinfo\": \"none\", \"y\": [-4.1344958309908195, -3.2385614430233933], \"x\": [-20.812533398291034, -20.865522260525488], \"type\": \"scatter\", \"line\": {\"width\": 1.0883751627417442, \"color\": \"#888\"}, \"mode\": \"lines\"}, {\"hoverinfo\": \"none\", \"y\": [-3.2598539629849386, -3.5077071554974637], \"x\": [-16.971928943219055, -15.81962269574201], \"type\": \"scatter\", \"line\": {\"width\": 1.2349254072573603, \"color\": \"#888\"}, \"mode\": \"lines\"}, {\"hoverinfo\": \"none\", \"y\": [-3.2598539629849386, -4.063257079581255], \"x\": [-16.971928943219055, -17.53685282493772], \"type\": \"scatter\", \"line\": {\"width\": 1.0101562757158438, \"color\": \"#888\"}, \"mode\": \"lines\"}, {\"hoverinfo\": \"none\", \"y\": [-5.367590516567743, -6.583920240965175], \"x\": [-15.717211012483808, -16.41109013839647], \"type\": \"scatter\", \"line\": {\"width\": 1.0405786368769883, \"color\": \"#888\"}, \"mode\": \"lines\"}, {\"hoverinfo\": \"none\", \"y\": [-6.896377114987738, -6.583920240965175], \"x\": [-17.398305802687364, -16.41109013839647], \"type\": \"scatter\", \"line\": {\"width\": 1.0674598078983306, \"color\": \"#888\"}, \"mode\": \"lines\"}, {\"hoverinfo\": \"none\", \"y\": [-6.583920240965175, -6.329600572063244], \"x\": [-16.41109013839647, -15.264536165409725], \"type\": \"scatter\", \"line\": {\"width\": 1.0127579753703615, \"color\": \"#888\"}, \"mode\": \"lines\"}, {\"hoverinfo\": \"none\", \"y\": [-6.838172886473517, -6.0598151704403165], \"x\": [-15.031880911245818, -15.41477323554502], \"type\": \"scatter\", \"line\": {\"width\": 1.2245279375100873, \"color\": \"#888\"}, \"mode\": \"lines\"}, {\"hoverinfo\": \"none\", \"y\": [-6.201254807051291, -6.0598151704403165], \"x\": [-14.645765529985793, -15.41477323554502], \"type\": \"scatter\", \"line\": {\"width\": 1.22046042938976, \"color\": \"#888\"}, \"mode\": \"lines\"}, {\"hoverinfo\": \"none\", \"y\": [-5.309789890205194, -6.0598151704403165], \"x\": [-14.371871984258576, -15.41477323554502], \"type\": \"scatter\", \"line\": {\"width\": 1.2481703996943403, \"color\": \"#888\"}, \"mode\": \"lines\"}, {\"hoverinfo\": \"none\", \"y\": [-6.295317665169309, -6.0598151704403165], \"x\": [-15.06299985540851, -15.41477323554502], \"type\": \"scatter\", \"line\": {\"width\": 1.61317668208167, \"color\": \"#888\"}, \"mode\": \"lines\"}, {\"hoverinfo\": \"none\", \"y\": [-5.87173038695074, -6.0598151704403165], \"x\": [-14.189771826738772, -15.41477323554502], \"type\": \"scatter\", \"line\": {\"width\": 1.5832465181556696, \"color\": \"#888\"}, \"mode\": \"lines\"}, {\"hoverinfo\": \"none\", \"y\": [-5.340015312798051, -6.0598151704403165], \"x\": [-14.43856045774682, -15.41477323554502], \"type\": \"scatter\", \"line\": {\"width\": 1.2351605638156031, \"color\": \"#888\"}, \"mode\": \"lines\"}, {\"hoverinfo\": \"none\", \"y\": [-6.0598151704403165, -6.329600572063244], \"x\": [-15.41477323554502, -15.264536165409725], \"type\": \"scatter\", \"line\": {\"width\": 1.5661984593213938, \"color\": \"#888\"}, \"mode\": \"lines\"}, {\"hoverinfo\": \"none\", \"y\": [-6.0598151704403165, -5.806596942822509], \"x\": [-15.41477323554502, -15.497439241197572], \"type\": \"scatter\", \"line\": {\"width\": 1.352459951505115, \"color\": \"#888\"}, \"mode\": \"lines\"}, {\"hoverinfo\": \"none\", \"y\": [-6.0598151704403165, -5.529484149368032], \"x\": [-15.41477323554502, -15.013124154598115], \"type\": \"scatter\", \"line\": {\"width\": 1.3906614488536624, \"color\": \"#888\"}, \"mode\": \"lines\"}, {\"hoverinfo\": \"none\", \"y\": [-6.0598151704403165, -6.457956231183889], \"x\": [-15.41477323554502, -14.61875612341671], \"type\": \"scatter\", \"line\": {\"width\": 1.1165727971710275, \"color\": \"#888\"}, \"mode\": \"lines\"}, {\"hoverinfo\": \"none\", \"y\": [-3.9899647066405595, -2.91931092816861], \"x\": [-13.996742299482742, -14.08296077725767], \"type\": \"scatter\", \"line\": {\"width\": 1.5760945006102047, \"color\": \"#888\"}, \"mode\": \"lines\"}, {\"hoverinfo\": \"none\", \"y\": [-2.8918310027628173, -2.91931092816861], \"x\": [-13.571478264075706, -14.08296077725767], \"type\": \"scatter\", \"line\": {\"width\": 1.0073463770523887, \"color\": \"#888\"}, \"mode\": \"lines\"}, {\"hoverinfo\": \"none\", \"y\": [-3.229877120455521, -2.91931092816861], \"x\": [-13.445922253012837, -14.08296077725767], \"type\": \"scatter\", \"line\": {\"width\": 1.100376917776423, \"color\": \"#888\"}, \"mode\": \"lines\"}, {\"hoverinfo\": \"none\", \"y\": [-2.900222090616298, -2.91931092816861], \"x\": [-14.609022694834321, -14.08296077725767], \"type\": \"scatter\", \"line\": {\"width\": 1.1831457714480567, \"color\": \"#888\"}, \"mode\": \"lines\"}, {\"hoverinfo\": \"none\", \"y\": [-2.91931092816861, -3.9299109157582914], \"x\": [-14.08296077725767, -14.265225489671783], \"type\": \"scatter\", \"line\": {\"width\": 1.4945432348836736, \"color\": \"#888\"}, \"mode\": \"lines\"}, {\"hoverinfo\": \"none\", \"y\": [-5.32928344518222, -4.636006372940541], \"x\": [-13.875537710711491, -12.518872512671223], \"type\": \"scatter\", \"line\": {\"width\": 1.1089762962374756, \"color\": \"#888\"}, \"mode\": \"lines\"}, {\"hoverinfo\": \"none\", \"y\": [-5.142310599034572, -4.636006372940541], \"x\": [-13.222042469817788, -12.518872512671223], \"type\": \"scatter\", \"line\": {\"width\": 1.196512882959736, \"color\": \"#888\"}, \"mode\": \"lines\"}, {\"hoverinfo\": \"none\", \"y\": [-5.1083541514665365, -4.636006372940541], \"x\": [-12.033468151975097, -12.518872512671223], \"type\": \"scatter\", \"line\": {\"width\": 1.3024196191895037, \"color\": \"#888\"}, \"mode\": \"lines\"}, {\"hoverinfo\": \"none\", \"y\": [-4.636006372940541, -5.37815957036336], \"x\": [-12.518872512671223, -13.193598012960688], \"type\": \"scatter\", \"line\": {\"width\": 1.3907664816518606, \"color\": \"#888\"}, \"mode\": \"lines\"}, {\"hoverinfo\": \"none\", \"y\": [-4.4476025797803, -3.5077071554974637], \"x\": [-14.871497661265048, -15.81962269574201], \"type\": \"scatter\", \"line\": {\"width\": 1.0435661629413735, \"color\": \"#888\"}, \"mode\": \"lines\"}, {\"hoverinfo\": \"none\", \"y\": [-3.2598539629849386, -3.5077071554974637], \"x\": [-16.971928943219055, -15.81962269574201], \"type\": \"scatter\", \"line\": {\"width\": 1.2349254072573603, \"color\": \"#888\"}, \"mode\": \"lines\"}, {\"hoverinfo\": \"none\", \"y\": [-5.155684006072663, -4.7303986275351155], \"x\": [-12.635773186908066, -12.71233501434269], \"type\": \"scatter\", \"line\": {\"width\": 1.3533992334207599, \"color\": \"#888\"}, \"mode\": \"lines\"}, {\"hoverinfo\": \"none\", \"y\": [-4.43010290727313, -4.7303986275351155], \"x\": [-13.787919497620946, -12.71233501434269], \"type\": \"scatter\", \"line\": {\"width\": 1.1403599810656184, \"color\": \"#888\"}, \"mode\": \"lines\"}, {\"hoverinfo\": \"none\", \"y\": [-4.7303986275351155, -5.024824129450616], \"x\": [-12.71233501434269, -14.094060124693677], \"type\": \"scatter\", \"line\": {\"width\": 1.0283338879595503, \"color\": \"#888\"}, \"mode\": \"lines\"}, {\"hoverinfo\": \"none\", \"y\": [-4.7303986275351155, -4.868046072043308], \"x\": [-12.71233501434269, -11.368386546885946], \"type\": \"scatter\", \"line\": {\"width\": 1.2116987039885405, \"color\": \"#888\"}, \"mode\": \"lines\"}, {\"hoverinfo\": \"none\", \"y\": [-4.7303986275351155, -5.670154951244973], \"x\": [-12.71233501434269, -13.94653562468436], \"type\": \"scatter\", \"line\": {\"width\": 1.0398802290374018, \"color\": \"#888\"}, \"mode\": \"lines\"}, {\"hoverinfo\": \"none\", \"y\": [-3.0426116304140205, -4.5058576710257725], \"x\": [-14.346046867248967, -15.270463960168538], \"type\": \"scatter\", \"line\": {\"width\": 1.0289377033892784, \"color\": \"#888\"}, \"mode\": \"lines\"}, {\"hoverinfo\": \"none\", \"y\": [-5.938131240021356, -4.5058576710257725], \"x\": [-14.790576922423055, -15.270463960168538], \"type\": \"scatter\", \"line\": {\"width\": 1.2236205374900375, \"color\": \"#888\"}, \"mode\": \"lines\"}, {\"hoverinfo\": \"none\", \"y\": [-5.589642377557384, -4.5058576710257725], \"x\": [-14.337115099508948, -15.270463960168538], \"type\": \"scatter\", \"line\": {\"width\": 1.0635755566987102, \"color\": \"#888\"}, \"mode\": \"lines\"}, {\"hoverinfo\": \"none\", \"y\": [-5.149943024367288, -4.5058576710257725], \"x\": [-14.817113325705948, -15.270463960168538], \"type\": \"scatter\", \"line\": {\"width\": 1.277912477086186, \"color\": \"#888\"}, \"mode\": \"lines\"}, {\"hoverinfo\": \"none\", \"y\": [-4.5058576710257725, -5.024824129450616], \"x\": [-15.270463960168538, -14.094060124693677], \"type\": \"scatter\", \"line\": {\"width\": 1.0774768598511477, \"color\": \"#888\"}, \"mode\": \"lines\"}, {\"hoverinfo\": \"none\", \"y\": [-4.5058576710257725, -5.537184150233229], \"x\": [-15.270463960168538, -15.573741906957562], \"type\": \"scatter\", \"line\": {\"width\": 1.1351113980145828, \"color\": \"#888\"}, \"mode\": \"lines\"}, {\"hoverinfo\": \"none\", \"y\": [-4.5058576710257725, -3.3947456299180043], \"x\": [-15.270463960168538, -14.644076666866233], \"type\": \"scatter\", \"line\": {\"width\": 1.0641720417438782, \"color\": \"#888\"}, \"mode\": \"lines\"}, {\"hoverinfo\": \"none\", \"y\": [-4.5058576710257725, -3.4263177964459928], \"x\": [-15.270463960168538, -15.400830662632368], \"type\": \"scatter\", \"line\": {\"width\": 1.0387838639467775, \"color\": \"#888\"}, \"mode\": \"lines\"}, {\"hoverinfo\": \"none\", \"y\": [-4.5058576710257725, -4.598891617330923], \"x\": [-15.270463960168538, -14.813549771834133], \"type\": \"scatter\", \"line\": {\"width\": 1.651069403466463, \"color\": \"#888\"}, \"mode\": \"lines\"}, {\"hoverinfo\": \"none\", \"y\": [-4.920766736253973, -5.916024529055278], \"x\": [-15.643188614776893, -15.24633057040751], \"type\": \"scatter\", \"line\": {\"width\": 1.3322819258072858, \"color\": \"#888\"}, \"mode\": \"lines\"}, {\"hoverinfo\": \"none\", \"y\": [-5.309789890205194, -5.916024529055278], \"x\": [-14.371871984258576, -15.24633057040751], \"type\": \"scatter\", \"line\": {\"width\": 1.5675087240431738, \"color\": \"#888\"}, \"mode\": \"lines\"}, {\"hoverinfo\": \"none\", \"y\": [-5.340015312798051, -5.916024529055278], \"x\": [-14.43856045774682, -15.24633057040751], \"type\": \"scatter\", \"line\": {\"width\": 1.5508367495811979, \"color\": \"#888\"}, \"mode\": \"lines\"}, {\"hoverinfo\": \"none\", \"y\": [-6.93972065520944, -5.916024529055278], \"x\": [-14.616955577935325, -15.24633057040751], \"type\": \"scatter\", \"line\": {\"width\": 1.0162944108489014, \"color\": \"#888\"}, \"mode\": \"lines\"}, {\"hoverinfo\": \"none\", \"y\": [-5.916024529055278, -7.017099143443842], \"x\": [-15.24633057040751, -14.899682882110234], \"type\": \"scatter\", \"line\": {\"width\": 1.0252000739065614, \"color\": \"#888\"}, \"mode\": \"lines\"}, {\"hoverinfo\": \"none\", \"y\": [-5.916024529055278, -5.387738780527072], \"x\": [-15.24633057040751, -15.28225172984896], \"type\": \"scatter\", \"line\": {\"width\": 1.1028578207143278, \"color\": \"#888\"}, \"mode\": \"lines\"}, {\"hoverinfo\": \"none\", \"y\": [-5.916024529055278, -5.670154951244973], \"x\": [-15.24633057040751, -13.94653562468436], \"type\": \"scatter\", \"line\": {\"width\": 1.1765150063895184, \"color\": \"#888\"}, \"mode\": \"lines\"}, {\"hoverinfo\": \"none\", \"y\": [3.767058158114227, 4.12424304394585], \"x\": [-14.209287523861024, -15.031850675841348], \"type\": \"scatter\", \"line\": {\"width\": 1.0777260918306837, \"color\": \"#888\"}, \"mode\": \"lines\"}, {\"hoverinfo\": \"none\", \"y\": [1.4516582156974511, 1.0265196601417719], \"x\": [-11.244240282210873, -10.49470355259253], \"type\": \"scatter\", \"line\": {\"width\": 1.1582870114175923, \"color\": \"#888\"}, \"mode\": \"lines\"}, {\"hoverinfo\": \"none\", \"y\": [0.4565068393884585, 1.0265196601417719], \"x\": [-9.816578777142215, -10.49470355259253], \"type\": \"scatter\", \"line\": {\"width\": 1.1771785420367555, \"color\": \"#888\"}, \"mode\": \"lines\"}, {\"hoverinfo\": \"none\", \"y\": [1.0265196601417719, 1.9014101903728275], \"x\": [-10.49470355259253, -10.473368711807028], \"type\": \"scatter\", \"line\": {\"width\": 1.0340728797538277, \"color\": \"#888\"}, \"mode\": \"lines\"}, {\"hoverinfo\": \"none\", \"y\": [-6.400656932273691, -7.017099143443842], \"x\": [-14.47810030254798, -14.899682882110234], \"type\": \"scatter\", \"line\": {\"width\": 1.2809816368191018, \"color\": \"#888\"}, \"mode\": \"lines\"}, {\"hoverinfo\": \"none\", \"y\": [-5.938131240021356, -7.017099143443842], \"x\": [-14.790576922423055, -14.899682882110234], \"type\": \"scatter\", \"line\": {\"width\": 1.27430688221318, \"color\": \"#888\"}, \"mode\": \"lines\"}, {\"hoverinfo\": \"none\", \"y\": [-6.295317665169309, -7.017099143443842], \"x\": [-15.06299985540851, -14.899682882110234], \"type\": \"scatter\", \"line\": {\"width\": 1.092005958482648, \"color\": \"#888\"}, \"mode\": \"lines\"}, {\"hoverinfo\": \"none\", \"y\": [-7.48974954779173, -7.017099143443842], \"x\": [-15.471579657370995, -14.899682882110234], \"type\": \"scatter\", \"line\": {\"width\": 1.1256842604748887, \"color\": \"#888\"}, \"mode\": \"lines\"}, {\"hoverinfo\": \"none\", \"y\": [-6.93972065520944, -7.017099143443842], \"x\": [-14.616955577935325, -14.899682882110234], \"type\": \"scatter\", \"line\": {\"width\": 1.4972459540613943, \"color\": \"#888\"}, \"mode\": \"lines\"}, {\"hoverinfo\": \"none\", \"y\": [-5.916024529055278, -7.017099143443842], \"x\": [-15.24633057040751, -14.899682882110234], \"type\": \"scatter\", \"line\": {\"width\": 1.0252000739065614, \"color\": \"#888\"}, \"mode\": \"lines\"}, {\"hoverinfo\": \"none\", \"y\": [-7.017099143443842, -5.670154951244973], \"x\": [-14.899682882110234, -13.94653562468436], \"type\": \"scatter\", \"line\": {\"width\": 1.0674512939533738, \"color\": \"#888\"}, \"mode\": \"lines\"}, {\"hoverinfo\": \"none\", \"y\": [-7.017099143443842, -7.368519936234171], \"x\": [-14.899682882110234, -14.251523252864162], \"type\": \"scatter\", \"line\": {\"width\": 1.0716382727419616, \"color\": \"#888\"}, \"mode\": \"lines\"}, {\"hoverinfo\": \"none\", \"y\": [-4.997657926517953, -5.387738780527072], \"x\": [-14.362059659931681, -15.28225172984896], \"type\": \"scatter\", \"line\": {\"width\": 1.0639997301915696, \"color\": \"#888\"}, \"mode\": \"lines\"}, {\"hoverinfo\": \"none\", \"y\": [-4.907635561614265, -5.387738780527072], \"x\": [-15.190594501558186, -15.28225172984896], \"type\": \"scatter\", \"line\": {\"width\": 1.0146031495542491, \"color\": \"#888\"}, \"mode\": \"lines\"}, {\"hoverinfo\": \"none\", \"y\": [-7.34091427117728, -5.387738780527072], \"x\": [-14.610294342996928, -15.28225172984896], \"type\": \"scatter\", \"line\": {\"width\": 1.009891226732699, \"color\": \"#888\"}, \"mode\": \"lines\"}, {\"hoverinfo\": \"none\", \"y\": [-5.309789890205194, -5.387738780527072], \"x\": [-14.371871984258576, -15.28225172984896], \"type\": \"scatter\", \"line\": {\"width\": 2.065971345037072, \"color\": \"#888\"}, \"mode\": \"lines\"}, {\"hoverinfo\": \"none\", \"y\": [-5.340015312798051, -5.387738780527072], \"x\": [-14.43856045774682, -15.28225172984896], \"type\": \"scatter\", \"line\": {\"width\": 2.0438351601555285, \"color\": \"#888\"}, \"mode\": \"lines\"}, {\"hoverinfo\": \"none\", \"y\": [-5.916024529055278, -5.387738780527072], \"x\": [-15.24633057040751, -15.28225172984896], \"type\": \"scatter\", \"line\": {\"width\": 1.1028578207143278, \"color\": \"#888\"}, \"mode\": \"lines\"}, {\"hoverinfo\": \"none\", \"y\": [-5.387738780527072, -4.563713429774501], \"x\": [-15.28225172984896, -14.475455276486759], \"type\": \"scatter\", \"line\": {\"width\": 1.182845607700317, \"color\": \"#888\"}, \"mode\": \"lines\"}, {\"hoverinfo\": \"none\", \"y\": [-5.387738780527072, -5.867735650205169], \"x\": [-15.28225172984896, -14.534578693420821], \"type\": \"scatter\", \"line\": {\"width\": 1.1053318702016692, \"color\": \"#888\"}, \"mode\": \"lines\"}, {\"hoverinfo\": \"none\", \"y\": [-5.387738780527072, -4.675896407068778], \"x\": [-15.28225172984896, -15.438938010325261], \"type\": \"scatter\", \"line\": {\"width\": 1.6214786080697199, \"color\": \"#888\"}, \"mode\": \"lines\"}, {\"hoverinfo\": \"none\", \"y\": [-5.387738780527072, -5.529484149368032], \"x\": [-15.28225172984896, -15.013124154598115], \"type\": \"scatter\", \"line\": {\"width\": 1.478063701708963, \"color\": \"#888\"}, \"mode\": \"lines\"}, {\"hoverinfo\": \"none\", \"y\": [-7.085519835317674, -6.329600572063244], \"x\": [-16.187984692240587, -15.264536165409725], \"type\": \"scatter\", \"line\": {\"width\": 1.024851807316002, \"color\": \"#888\"}, \"mode\": \"lines\"}, {\"hoverinfo\": \"none\", \"y\": [2.697920918097788, 3.472963276886355], \"x\": [-16.247519470395954, -16.275597595647916], \"type\": \"scatter\", \"line\": {\"width\": 1.227184181781318, \"color\": \"#888\"}, \"mode\": \"lines\"}, {\"hoverinfo\": \"none\", \"y\": [3.472963276886355, 3.462596947966528], \"x\": [-16.275597595647916, -17.051515082605246], \"type\": \"scatter\", \"line\": {\"width\": 1.292876417243475, \"color\": \"#888\"}, \"mode\": \"lines\"}, {\"hoverinfo\": \"none\", \"y\": [3.472963276886355, 2.7278720592525088], \"x\": [-16.275597595647916, -16.98941606596727], \"type\": \"scatter\", \"line\": {\"width\": 1.1894481478399692, \"color\": \"#888\"}, \"mode\": \"lines\"}, {\"hoverinfo\": \"none\", \"y\": [3.472963276886355, 4.168448266207457], \"x\": [-16.275597595647916, -15.726023199273929], \"type\": \"scatter\", \"line\": {\"width\": 1.023739986080041, \"color\": \"#888\"}, \"mode\": \"lines\"}, {\"hoverinfo\": \"none\", \"y\": [-5.155684006072663, -5.024824129450616], \"x\": [-12.635773186908066, -14.094060124693677], \"type\": \"scatter\", \"line\": {\"width\": 1.1375442406461065, \"color\": \"#888\"}, \"mode\": \"lines\"}, {\"hoverinfo\": \"none\", \"y\": [-5.938131240021356, -5.024824129450616], \"x\": [-14.790576922423055, -14.094060124693677], \"type\": \"scatter\", \"line\": {\"width\": 1.3020081673906392, \"color\": \"#888\"}, \"mode\": \"lines\"}, {\"hoverinfo\": \"none\", \"y\": [-4.43010290727313, -5.024824129450616], \"x\": [-13.787919497620946, -14.094060124693677], \"type\": \"scatter\", \"line\": {\"width\": 1.2126837123212695, \"color\": \"#888\"}, \"mode\": \"lines\"}, {\"hoverinfo\": \"none\", \"y\": [-5.340015312798051, -5.024824129450616], \"x\": [-14.43856045774682, -14.094060124693677], \"type\": \"scatter\", \"line\": {\"width\": 1.0017036219199675, \"color\": \"#888\"}, \"mode\": \"lines\"}, {\"hoverinfo\": \"none\", \"y\": [-5.149943024367288, -5.024824129450616], \"x\": [-14.817113325705948, -14.094060124693677], \"type\": \"scatter\", \"line\": {\"width\": 1.0879176777993202, \"color\": \"#888\"}, \"mode\": \"lines\"}, {\"hoverinfo\": \"none\", \"y\": [-6.93972065520944, -5.024824129450616], \"x\": [-14.616955577935325, -14.094060124693677], \"type\": \"scatter\", \"line\": {\"width\": 1.0142546881249672, \"color\": \"#888\"}, \"mode\": \"lines\"}, {\"hoverinfo\": \"none\", \"y\": [-4.7303986275351155, -5.024824129450616], \"x\": [-12.71233501434269, -14.094060124693677], \"type\": \"scatter\", \"line\": {\"width\": 1.0283338879595503, \"color\": \"#888\"}, \"mode\": \"lines\"}, {\"hoverinfo\": \"none\", \"y\": [-4.5058576710257725, -5.024824129450616], \"x\": [-15.270463960168538, -14.094060124693677], \"type\": \"scatter\", \"line\": {\"width\": 1.0774768598511477, \"color\": \"#888\"}, \"mode\": \"lines\"}, {\"hoverinfo\": \"none\", \"y\": [-5.024824129450616, -5.867735650205169], \"x\": [-14.094060124693677, -14.534578693420821], \"type\": \"scatter\", \"line\": {\"width\": 1.0044307703095177, \"color\": \"#888\"}, \"mode\": \"lines\"}, {\"hoverinfo\": \"none\", \"y\": [-5.024824129450616, -5.670154951244973], \"x\": [-14.094060124693677, -13.94653562468436], \"type\": \"scatter\", \"line\": {\"width\": 1.0661448204254618, \"color\": \"#888\"}, \"mode\": \"lines\"}, {\"hoverinfo\": \"none\", \"y\": [-5.024824129450616, -4.598891617330923], \"x\": [-14.094060124693677, -14.813549771834133], \"type\": \"scatter\", \"line\": {\"width\": 1.0434783024942098, \"color\": \"#888\"}, \"mode\": \"lines\"}, {\"hoverinfo\": \"none\", \"y\": [-7.586881209202562, -7.89544110645823], \"x\": [-10.126903261473295, -11.139560350679432], \"type\": \"scatter\", \"line\": {\"width\": 1.0315361785896977, \"color\": \"#888\"}, \"mode\": \"lines\"}, {\"hoverinfo\": \"none\", \"y\": [-7.94155896698412, -7.89544110645823], \"x\": [-12.235378998295207, -11.139560350679432], \"type\": \"scatter\", \"line\": {\"width\": 1.2592419968009052, \"color\": \"#888\"}, \"mode\": \"lines\"}, {\"hoverinfo\": \"none\", \"y\": [1.4516582156974511, 1.9014101903728275], \"x\": [-11.244240282210873, -10.473368711807028], \"type\": \"scatter\", \"line\": {\"width\": 1.071128511782815, \"color\": \"#888\"}, \"mode\": \"lines\"}, {\"hoverinfo\": \"none\", \"y\": [1.0265196601417719, 1.9014101903728275], \"x\": [-10.49470355259253, -10.473368711807028], \"type\": \"scatter\", \"line\": {\"width\": 1.0340728797538277, \"color\": \"#888\"}, \"mode\": \"lines\"}, {\"hoverinfo\": \"none\", \"y\": [1.9014101903728275, 2.6567307450672972], \"x\": [-10.473368711807028, -10.054236951931182], \"type\": \"scatter\", \"line\": {\"width\": 1.0245518414506591, \"color\": \"#888\"}, \"mode\": \"lines\"}, {\"hoverinfo\": \"none\", \"y\": [-6.106942030786656, -5.590205519431617], \"x\": [-17.70580069741524, -16.71299347461052], \"type\": \"scatter\", \"line\": {\"width\": 1.1908454484178237, \"color\": \"#888\"}, \"mode\": \"lines\"}, {\"hoverinfo\": \"none\", \"y\": [-5.151451315824695, -5.590205519431617], \"x\": [-15.630598463545166, -16.71299347461052], \"type\": \"scatter\", \"line\": {\"width\": 1.0524442281058517, \"color\": \"#888\"}, \"mode\": \"lines\"}, {\"hoverinfo\": \"none\", \"y\": [-5.590205519431617, -6.138199857768167], \"x\": [-16.71299347461052, -16.660753934328383], \"type\": \"scatter\", \"line\": {\"width\": 1.175874262213163, \"color\": \"#888\"}, \"mode\": \"lines\"}, {\"hoverinfo\": \"none\", \"y\": [-5.590205519431617, -5.806596942822509], \"x\": [-16.71299347461052, -15.497439241197572], \"type\": \"scatter\", \"line\": {\"width\": 1.004178189054917, \"color\": \"#888\"}, \"mode\": \"lines\"}, {\"hoverinfo\": \"none\", \"y\": [-6.3666290923353985, -6.038017673214097], \"x\": [-12.1142728460046, -13.273225990625084], \"type\": \"scatter\", \"line\": {\"width\": 1.0016258231537143, \"color\": \"#888\"}, \"mode\": \"lines\"}, {\"hoverinfo\": \"none\", \"y\": [-5.309789890205194, -4.216353478321253], \"x\": [-14.371871984258576, -14.419498108553507], \"type\": \"scatter\", \"line\": {\"width\": 1.396281197964648, \"color\": \"#888\"}, \"mode\": \"lines\"}, {\"hoverinfo\": \"none\", \"y\": [-5.340015312798051, -4.216353478321253], \"x\": [-14.43856045774682, -14.419498108553507], \"type\": \"scatter\", \"line\": {\"width\": 1.381764395450621, \"color\": \"#888\"}, \"mode\": \"lines\"}, {\"hoverinfo\": \"none\", \"y\": [-4.216353478321253, -4.948323816069961], \"x\": [-14.419498108553507, -13.862864446562623], \"type\": \"scatter\", \"line\": {\"width\": 1.158520250127273, \"color\": \"#888\"}, \"mode\": \"lines\"}, {\"hoverinfo\": \"none\", \"y\": [-6.325668381304119, -6.6072067290490715], \"x\": [-13.54321562440723, -12.240895411845935], \"type\": \"scatter\", \"line\": {\"width\": 1.3947798602143577, \"color\": \"#888\"}, \"mode\": \"lines\"}, {\"hoverinfo\": \"none\", \"y\": [-6.6072067290490715, -5.620675211727626], \"x\": [-12.240895411845935, -13.104395642507322], \"type\": \"scatter\", \"line\": {\"width\": 1.4270424796927508, \"color\": \"#888\"}, \"mode\": \"lines\"}, {\"hoverinfo\": \"none\", \"y\": [-6.0025936578907055, -6.193450742401886], \"x\": [-14.954468630341605, -13.894885252196177], \"type\": \"scatter\", \"line\": {\"width\": 1.1074856560433903, \"color\": \"#888\"}, \"mode\": \"lines\"}, {\"hoverinfo\": \"none\", \"y\": [-5.876190550342591, -6.193450742401886], \"x\": [-13.611430736159944, -13.894885252196177], \"type\": \"scatter\", \"line\": {\"width\": 1.1148568168788477, \"color\": \"#888\"}, \"mode\": \"lines\"}, {\"hoverinfo\": \"none\", \"y\": [-5.309789890205194, -6.193450742401886], \"x\": [-14.371871984258576, -13.894885252196177], \"type\": \"scatter\", \"line\": {\"width\": 1.0785351354543908, \"color\": \"#888\"}, \"mode\": \"lines\"}, {\"hoverinfo\": \"none\", \"y\": [-5.340015312798051, -6.193450742401886], \"x\": [-14.43856045774682, -13.894885252196177], \"type\": \"scatter\", \"line\": {\"width\": 1.0649763823028287, \"color\": \"#888\"}, \"mode\": \"lines\"}, {\"hoverinfo\": \"none\", \"y\": [-6.193450742401886, -6.038017673214097], \"x\": [-13.894885252196177, -13.273225990625084], \"type\": \"scatter\", \"line\": {\"width\": 1.0694843331904502, \"color\": \"#888\"}, \"mode\": \"lines\"}, {\"hoverinfo\": \"none\", \"y\": [2.7241682082273706, 2.1780318587774894], \"x\": [-13.259356029280449, -13.983004156084545], \"type\": \"scatter\", \"line\": {\"width\": 1.2668221814392555, \"color\": \"#888\"}, \"mode\": \"lines\"}, {\"hoverinfo\": \"none\", \"y\": [2.1780318587774894, 2.6492440475202015], \"x\": [-13.983004156084545, -14.733694465052887], \"type\": \"scatter\", \"line\": {\"width\": 1.347942889518921, \"color\": \"#888\"}, \"mode\": \"lines\"}, {\"hoverinfo\": \"none\", \"y\": [2.1780318587774894, 1.9936568055327668], \"x\": [-13.983004156084545, -13.135557863345687], \"type\": \"scatter\", \"line\": {\"width\": 1.1256280676713315, \"color\": \"#888\"}, \"mode\": \"lines\"}, {\"hoverinfo\": \"none\", \"y\": [-6.083157751531359, -6.038017673214097], \"x\": [-11.985612255044712, -13.273225990625084], \"type\": \"scatter\", \"line\": {\"width\": 1.08702934324447, \"color\": \"#888\"}, \"mode\": \"lines\"}, {\"hoverinfo\": \"none\", \"y\": [-6.083157751531359, -6.375222374074013], \"x\": [-11.985612255044712, -10.999768893206758], \"type\": \"scatter\", \"line\": {\"width\": 1.0312463278416266, \"color\": \"#888\"}, \"mode\": \"lines\"}, {\"hoverinfo\": \"none\", \"y\": [-6.838172886473517, -6.329600572063244], \"x\": [-15.031880911245818, -15.264536165409725], \"type\": \"scatter\", \"line\": {\"width\": 1.101846943540752, \"color\": \"#888\"}, \"mode\": \"lines\"}, {\"hoverinfo\": \"none\", \"y\": [-6.201254807051291, -6.329600572063244], \"x\": [-14.645765529985793, -15.264536165409725], \"type\": \"scatter\", \"line\": {\"width\": 1.2360856728275742, \"color\": \"#888\"}, \"mode\": \"lines\"}, {\"hoverinfo\": \"none\", \"y\": [-5.309789890205194, -6.329600572063244], \"x\": [-14.371871984258576, -15.264536165409725], \"type\": \"scatter\", \"line\": {\"width\": 1.0897274601483349, \"color\": \"#888\"}, \"mode\": \"lines\"}, {\"hoverinfo\": \"none\", \"y\": [-6.295317665169309, -6.329600572063244], \"x\": [-15.06299985540851, -15.264536165409725], \"type\": \"scatter\", \"line\": {\"width\": 1.173381555970102, \"color\": \"#888\"}, \"mode\": \"lines\"}, {\"hoverinfo\": \"none\", \"y\": [-6.491007842347108, -6.329600572063244], \"x\": [-14.200026977870785, -15.264536165409725], \"type\": \"scatter\", \"line\": {\"width\": 1.2118755430433457, \"color\": \"#888\"}, \"mode\": \"lines\"}, {\"hoverinfo\": \"none\", \"y\": [-5.367590516567743, -6.329600572063244], \"x\": [-15.717211012483808, -15.264536165409725], \"type\": \"scatter\", \"line\": {\"width\": 1.0735111654177543, \"color\": \"#888\"}, \"mode\": \"lines\"}, {\"hoverinfo\": \"none\", \"y\": [-6.888856057905963, -6.329600572063244], \"x\": [-14.220471909568893, -15.264536165409725], \"type\": \"scatter\", \"line\": {\"width\": 1.0614058798952004, \"color\": \"#888\"}, \"mode\": \"lines\"}, {\"hoverinfo\": \"none\", \"y\": [-5.87173038695074, -6.329600572063244], \"x\": [-14.189771826738772, -15.264536165409725], \"type\": \"scatter\", \"line\": {\"width\": 1.130544911080376, \"color\": \"#888\"}, \"mode\": \"lines\"}, {\"hoverinfo\": \"none\", \"y\": [-5.340015312798051, -6.329600572063244], \"x\": [-14.43856045774682, -15.264536165409725], \"type\": \"scatter\", \"line\": {\"width\": 1.3790216487161453, \"color\": \"#888\"}, \"mode\": \"lines\"}, {\"hoverinfo\": \"none\", \"y\": [-6.583920240965175, -6.329600572063244], \"x\": [-16.41109013839647, -15.264536165409725], \"type\": \"scatter\", \"line\": {\"width\": 1.0127579753703615, \"color\": \"#888\"}, \"mode\": \"lines\"}, {\"hoverinfo\": \"none\", \"y\": [-6.0598151704403165, -6.329600572063244], \"x\": [-15.41477323554502, -15.264536165409725], \"type\": \"scatter\", \"line\": {\"width\": 1.5661984593213938, \"color\": \"#888\"}, \"mode\": \"lines\"}, {\"hoverinfo\": \"none\", \"y\": [-7.085519835317674, -6.329600572063244], \"x\": [-16.187984692240587, -15.264536165409725], \"type\": \"scatter\", \"line\": {\"width\": 1.024851807316002, \"color\": \"#888\"}, \"mode\": \"lines\"}, {\"hoverinfo\": \"none\", \"y\": [-6.329600572063244, -5.638625502914219], \"x\": [-15.264536165409725, -14.753566114591269], \"type\": \"scatter\", \"line\": {\"width\": 1.0147711859151491, \"color\": \"#888\"}, \"mode\": \"lines\"}, {\"hoverinfo\": \"none\", \"y\": [-6.329600572063244, -5.867735650205169], \"x\": [-15.264536165409725, -14.534578693420821], \"type\": \"scatter\", \"line\": {\"width\": 1.418570868399821, \"color\": \"#888\"}, \"mode\": \"lines\"}, {\"hoverinfo\": \"none\", \"y\": [-6.329600572063244, -5.806596942822509], \"x\": [-15.264536165409725, -15.497439241197572], \"type\": \"scatter\", \"line\": {\"width\": 1.1205473960343013, \"color\": \"#888\"}, \"mode\": \"lines\"}, {\"hoverinfo\": \"none\", \"y\": [-6.329600572063244, -5.529484149368032], \"x\": [-15.264536165409725, -15.013124154598115], \"type\": \"scatter\", \"line\": {\"width\": 1.478343144437317, \"color\": \"#888\"}, \"mode\": \"lines\"}, {\"hoverinfo\": \"none\", \"y\": [-6.329600572063244, -6.457956231183889], \"x\": [-15.264536165409725, -14.61875612341671], \"type\": \"scatter\", \"line\": {\"width\": 1.0239793226778227, \"color\": \"#888\"}, \"mode\": \"lines\"}, {\"hoverinfo\": \"none\", \"y\": [-6.689195662075548, -6.909290102969761], \"x\": [-13.24315673940496, -12.615706303724961], \"type\": \"scatter\", \"line\": {\"width\": 1.1687158288165795, \"color\": \"#888\"}, \"mode\": \"lines\"}, {\"hoverinfo\": \"none\", \"y\": [-6.979374153748573, -6.909290102969761], \"x\": [-13.770553405879493, -12.615706303724961], \"type\": \"scatter\", \"line\": {\"width\": 1.1152978365695407, \"color\": \"#888\"}, \"mode\": \"lines\"}, {\"hoverinfo\": \"none\", \"y\": [-6.909290102969761, -6.038017673214097], \"x\": [-12.615706303724961, -13.273225990625084], \"type\": \"scatter\", \"line\": {\"width\": 1.0063678625099115, \"color\": \"#888\"}, \"mode\": \"lines\"}, {\"hoverinfo\": \"none\", \"y\": [-6.909290102969761, -7.21902777395607], \"x\": [-12.615706303724961, -12.885570200590106], \"type\": \"scatter\", \"line\": {\"width\": 1.239663977993973, \"color\": \"#888\"}, \"mode\": \"lines\"}, {\"hoverinfo\": \"none\", \"y\": [-5.938131240021356, -6.355602529130001], \"x\": [-14.790576922423055, -16.267835709249958], \"type\": \"scatter\", \"line\": {\"width\": 1.065898236688193, \"color\": \"#888\"}, \"mode\": \"lines\"}, {\"hoverinfo\": \"none\", \"y\": [-6.355602529130001, -5.537184150233229], \"x\": [-16.267835709249958, -15.573741906957562], \"type\": \"scatter\", \"line\": {\"width\": 1.0203869560990926, \"color\": \"#888\"}, \"mode\": \"lines\"}, {\"hoverinfo\": \"none\", \"y\": [3.767058158114227, 4.12424304394585], \"x\": [-14.209287523861024, -15.031850675841348], \"type\": \"scatter\", \"line\": {\"width\": 1.0777260918306837, \"color\": \"#888\"}, \"mode\": \"lines\"}, {\"hoverinfo\": \"none\", \"y\": [-5.142310599034572, -5.664048510630685], \"x\": [-13.222042469817788, -11.978799223750462], \"type\": \"scatter\", \"line\": {\"width\": 1.0179709864903281, \"color\": \"#888\"}, \"mode\": \"lines\"}, {\"hoverinfo\": \"none\", \"y\": [-5.664048510630685, -6.052174784794521], \"x\": [-11.978799223750462, -12.761106201381423], \"type\": \"scatter\", \"line\": {\"width\": 1.0835187560359603, \"color\": \"#888\"}, \"mode\": \"lines\"}, {\"hoverinfo\": \"none\", \"y\": [-6.106942030786656, -6.138199857768167], \"x\": [-17.70580069741524, -16.660753934328383], \"type\": \"scatter\", \"line\": {\"width\": 1.118949889885228, \"color\": \"#888\"}, \"mode\": \"lines\"}, {\"hoverinfo\": \"none\", \"y\": [-5.151451315824695, -6.138199857768167], \"x\": [-15.630598463545166, -16.660753934328383], \"type\": \"scatter\", \"line\": {\"width\": 1.062441482693396, \"color\": \"#888\"}, \"mode\": \"lines\"}, {\"hoverinfo\": \"none\", \"y\": [-5.590205519431617, -6.138199857768167], \"x\": [-16.71299347461052, -16.660753934328383], \"type\": \"scatter\", \"line\": {\"width\": 1.175874262213163, \"color\": \"#888\"}, \"mode\": \"lines\"}, {\"hoverinfo\": \"none\", \"y\": [-6.138199857768167, -5.806596942822509], \"x\": [-16.660753934328383, -15.497439241197572], \"type\": \"scatter\", \"line\": {\"width\": 1.0031936006915716, \"color\": \"#888\"}, \"mode\": \"lines\"}, {\"hoverinfo\": \"none\", \"y\": [-4.341927308619159, -3.368816112890574], \"x\": [-20.721224786113666, -20.478424288576363], \"type\": \"scatter\", \"line\": {\"width\": 1.0037672094831849, \"color\": \"#888\"}, \"mode\": \"lines\"}, {\"hoverinfo\": \"none\", \"y\": [-3.368816112890574, -3.5884130542935395], \"x\": [-20.478424288576363, -21.13125455792967], \"type\": \"scatter\", \"line\": {\"width\": 1.0009002263479672, \"color\": \"#888\"}, \"mode\": \"lines\"}, {\"hoverinfo\": \"none\", \"y\": [-4.229563211540952, -4.133770859505214], \"x\": [-11.072829348576285, -12.241731349316966], \"type\": \"scatter\", \"line\": {\"width\": 1.0402369266799911, \"color\": \"#888\"}, \"mode\": \"lines\"}, {\"hoverinfo\": \"none\", \"y\": [-4.920766736253973, -4.840032384087389], \"x\": [-15.643188614776893, -16.785895922940433], \"type\": \"scatter\", \"line\": {\"width\": 1.013889391058027, \"color\": \"#888\"}, \"mode\": \"lines\"}, {\"hoverinfo\": \"none\", \"y\": [-5.566587789910302, -4.840032384087389], \"x\": [-16.060753847986447, -16.785895922940433], \"type\": \"scatter\", \"line\": {\"width\": 1.0665600340541475, \"color\": \"#888\"}, \"mode\": \"lines\"}, {\"hoverinfo\": \"none\", \"y\": [-5.924729640631664, -4.840032384087389], \"x\": [-16.47167403284231, -16.785895922940433], \"type\": \"scatter\", \"line\": {\"width\": 1.076168477283597, \"color\": \"#888\"}, \"mode\": \"lines\"}, {\"hoverinfo\": \"none\", \"y\": [-5.679377352894312, -4.840032384087389], \"x\": [-17.258365055378444, -16.785895922940433], \"type\": \"scatter\", \"line\": {\"width\": 1.0702078111080118, \"color\": \"#888\"}, \"mode\": \"lines\"}, {\"hoverinfo\": \"none\", \"y\": [-4.840032384087389, -4.063257079581255], \"x\": [-16.785895922940433, -17.53685282493772], \"type\": \"scatter\", \"line\": {\"width\": 1.2061507937740665, \"color\": \"#888\"}, \"mode\": \"lines\"}, {\"hoverinfo\": \"none\", \"y\": [-5.309789890205194, -6.478932958412301], \"x\": [-14.371871984258576, -13.79014750687308], \"type\": \"scatter\", \"line\": {\"width\": 1.3018585044066486, \"color\": \"#888\"}, \"mode\": \"lines\"}, {\"hoverinfo\": \"none\", \"y\": [-5.340015312798051, -6.478932958412301], \"x\": [-14.43856045774682, -13.79014750687308], \"type\": \"scatter\", \"line\": {\"width\": 1.2864468529583373, \"color\": \"#888\"}, \"mode\": \"lines\"}, {\"hoverinfo\": \"none\", \"y\": [-7.798367216956849, -6.478932958412301], \"x\": [-13.555182236786251, -13.79014750687308], \"type\": \"scatter\", \"line\": {\"width\": 1.0329961997871857, \"color\": \"#888\"}, \"mode\": \"lines\"}, {\"hoverinfo\": \"none\", \"y\": [-6.478932958412301, -7.368519936234171], \"x\": [-13.79014750687308, -14.251523252864162], \"type\": \"scatter\", \"line\": {\"width\": 1.0952915075625365, \"color\": \"#888\"}, \"mode\": \"lines\"}, {\"hoverinfo\": \"none\", \"y\": [-6.838172886473517, -5.638625502914219], \"x\": [-15.031880911245818, -14.753566114591269], \"type\": \"scatter\", \"line\": {\"width\": 1.1276664619108372, \"color\": \"#888\"}, \"mode\": \"lines\"}, {\"hoverinfo\": \"none\", \"y\": [-6.201254807051291, -5.638625502914219], \"x\": [-14.645765529985793, -14.753566114591269], \"type\": \"scatter\", \"line\": {\"width\": 1.0652308067936342, \"color\": \"#888\"}, \"mode\": \"lines\"}, {\"hoverinfo\": \"none\", \"y\": [-5.309789890205194, -5.638625502914219], \"x\": [-14.371871984258576, -14.753566114591269], \"type\": \"scatter\", \"line\": {\"width\": 2.532758298862073, \"color\": \"#888\"}, \"mode\": \"lines\"}, {\"hoverinfo\": \"none\", \"y\": [-6.295317665169309, -5.638625502914219], \"x\": [-15.06299985540851, -14.753566114591269], \"type\": \"scatter\", \"line\": {\"width\": 1.0179305802804943, \"color\": \"#888\"}, \"mode\": \"lines\"}, {\"hoverinfo\": \"none\", \"y\": [-5.87173038695074, -5.638625502914219], \"x\": [-14.189771826738772, -14.753566114591269], \"type\": \"scatter\", \"line\": {\"width\": 1.6266760524529809, \"color\": \"#888\"}, \"mode\": \"lines\"}, {\"hoverinfo\": \"none\", \"y\": [-5.589642377557384, -5.638625502914219], \"x\": [-14.337115099508948, -14.753566114591269], \"type\": \"scatter\", \"line\": {\"width\": 1.5810522423550677, \"color\": \"#888\"}, \"mode\": \"lines\"}, {\"hoverinfo\": \"none\", \"y\": [-5.340015312798051, -5.638625502914219], \"x\": [-14.43856045774682, -14.753566114591269], \"type\": \"scatter\", \"line\": {\"width\": 2.567642998280728, \"color\": \"#888\"}, \"mode\": \"lines\"}, {\"hoverinfo\": \"none\", \"y\": [-5.149943024367288, -5.638625502914219], \"x\": [-14.817113325705948, -14.753566114591269], \"type\": \"scatter\", \"line\": {\"width\": 1.104830326321568, \"color\": \"#888\"}, \"mode\": \"lines\"}, {\"hoverinfo\": \"none\", \"y\": [-6.329600572063244, -5.638625502914219], \"x\": [-15.264536165409725, -14.753566114591269], \"type\": \"scatter\", \"line\": {\"width\": 1.0147711859151491, \"color\": \"#888\"}, \"mode\": \"lines\"}, {\"hoverinfo\": \"none\", \"y\": [-5.638625502914219, -4.948323816069961], \"x\": [-14.753566114591269, -13.862864446562623], \"type\": \"scatter\", \"line\": {\"width\": 1.3336206764030232, \"color\": \"#888\"}, \"mode\": \"lines\"}, {\"hoverinfo\": \"none\", \"y\": [-5.638625502914219, -4.746623249059541], \"x\": [-14.753566114591269, -13.675589562249908], \"type\": \"scatter\", \"line\": {\"width\": 1.086429851750809, \"color\": \"#888\"}, \"mode\": \"lines\"}, {\"hoverinfo\": \"none\", \"y\": [-5.638625502914219, -5.071548520780777], \"x\": [-14.753566114591269, -13.595012385775345], \"type\": \"scatter\", \"line\": {\"width\": 1.1011584011383928, \"color\": \"#888\"}, \"mode\": \"lines\"}, {\"hoverinfo\": \"none\", \"y\": [-5.638625502914219, -5.529484149368032], \"x\": [-14.753566114591269, -15.013124154598115], \"type\": \"scatter\", \"line\": {\"width\": 1.040614552209747, \"color\": \"#888\"}, \"mode\": \"lines\"}, {\"hoverinfo\": \"none\", \"y\": [-5.638625502914219, -6.457956231183889], \"x\": [-14.753566114591269, -14.61875612341671], \"type\": \"scatter\", \"line\": {\"width\": 1.053502937462228, \"color\": \"#888\"}, \"mode\": \"lines\"}, {\"hoverinfo\": \"none\", \"y\": [-5.876190550342591, -4.657229596896204], \"x\": [-13.611430736159944, -13.929962859924492], \"type\": \"scatter\", \"line\": {\"width\": 1.5780503013019398, \"color\": \"#888\"}, \"mode\": \"lines\"}, {\"hoverinfo\": \"none\", \"y\": [-5.309789890205194, -4.657229596896204], \"x\": [-14.371871984258576, -13.929962859924492], \"type\": \"scatter\", \"line\": {\"width\": 1.1674054637034508, \"color\": \"#888\"}, \"mode\": \"lines\"}, {\"hoverinfo\": \"none\", \"y\": [-5.930339137052623, -4.657229596896204], \"x\": [-13.88035938362524, -13.929962859924492], \"type\": \"scatter\", \"line\": {\"width\": 1.4582984459131114, \"color\": \"#888\"}, \"mode\": \"lines\"}, {\"hoverinfo\": \"none\", \"y\": [-5.340015312798051, -4.657229596896204], \"x\": [-14.43856045774682, -13.929962859924492], \"type\": \"scatter\", \"line\": {\"width\": 1.1523676617484837, \"color\": \"#888\"}, \"mode\": \"lines\"}, {\"hoverinfo\": \"none\", \"y\": [-4.657229596896204, -4.9158561143212465], \"x\": [-13.929962859924492, -14.914940275618951], \"type\": \"scatter\", \"line\": {\"width\": 1.1089316483860638, \"color\": \"#888\"}, \"mode\": \"lines\"}, {\"hoverinfo\": \"none\", \"y\": [-5.531850608732078, -4.563713429774501], \"x\": [-13.707209565894951, -14.475455276486759], \"type\": \"scatter\", \"line\": {\"width\": 1.3569822072722615, \"color\": \"#888\"}, \"mode\": \"lines\"}, {\"hoverinfo\": \"none\", \"y\": [-5.309789890205194, -4.563713429774501], \"x\": [-14.371871984258576, -14.475455276486759], \"type\": \"scatter\", \"line\": {\"width\": 1.5771108142790777, \"color\": \"#888\"}, \"mode\": \"lines\"}, {\"hoverinfo\": \"none\", \"y\": [-5.589642377557384, -4.563713429774501], \"x\": [-14.337115099508948, -14.475455276486759], \"type\": \"scatter\", \"line\": {\"width\": 1.8419867660504172, \"color\": \"#888\"}, \"mode\": \"lines\"}, {\"hoverinfo\": \"none\", \"y\": [-5.340015312798051, -4.563713429774501], \"x\": [-14.43856045774682, -14.475455276486759], \"type\": \"scatter\", \"line\": {\"width\": 1.5587087842051919, \"color\": \"#888\"}, \"mode\": \"lines\"}, {\"hoverinfo\": \"none\", \"y\": [-4.402358898230442, -4.563713429774501], \"x\": [-14.048169730697897, -14.475455276486759], \"type\": \"scatter\", \"line\": {\"width\": 1.6290562870466516, \"color\": \"#888\"}, \"mode\": \"lines\"}, {\"hoverinfo\": \"none\", \"y\": [-5.387738780527072, -4.563713429774501], \"x\": [-15.28225172984896, -14.475455276486759], \"type\": \"scatter\", \"line\": {\"width\": 1.182845607700317, \"color\": \"#888\"}, \"mode\": \"lines\"}, {\"hoverinfo\": \"none\", \"y\": [-4.563713429774501, -4.948323816069961], \"x\": [-14.475455276486759, -13.862864446562623], \"type\": \"scatter\", \"line\": {\"width\": 1.2371831217988247, \"color\": \"#888\"}, \"mode\": \"lines\"}, {\"hoverinfo\": \"none\", \"y\": [-4.563713429774501, -4.746623249059541], \"x\": [-14.475455276486759, -13.675589562249908], \"type\": \"scatter\", \"line\": {\"width\": 1.0994350344114456, \"color\": \"#888\"}, \"mode\": \"lines\"}, {\"hoverinfo\": \"none\", \"y\": [-5.32928344518222, -5.733405128642964], \"x\": [-13.875537710711491, -13.390218289739371], \"type\": \"scatter\", \"line\": {\"width\": 1.8558220971677355, \"color\": \"#888\"}, \"mode\": \"lines\"}, {\"hoverinfo\": \"none\", \"y\": [-5.464656038819423, -5.733405128642964], \"x\": [-13.527157887205975, -13.390218289739371], \"type\": \"scatter\", \"line\": {\"width\": 1.5971025916330828, \"color\": \"#888\"}, \"mode\": \"lines\"}, {\"hoverinfo\": \"none\", \"y\": [-4.997657926517953, -5.733405128642964], \"x\": [-14.362059659931681, -13.390218289739371], \"type\": \"scatter\", \"line\": {\"width\": 1.6347214072895269, \"color\": \"#888\"}, \"mode\": \"lines\"}, {\"hoverinfo\": \"none\", \"y\": [-5.531850608732078, -5.733405128642964], \"x\": [-13.707209565894951, -13.390218289739371], \"type\": \"scatter\", \"line\": {\"width\": 2.060139133022109, \"color\": \"#888\"}, \"mode\": \"lines\"}, {\"hoverinfo\": \"none\", \"y\": [-6.689195662075548, -5.733405128642964], \"x\": [-13.24315673940496, -13.390218289739371], \"type\": \"scatter\", \"line\": {\"width\": 1.1458170895486544, \"color\": \"#888\"}, \"mode\": \"lines\"}, {\"hoverinfo\": \"none\", \"y\": [-5.876190550342591, -5.733405128642964], \"x\": [-13.611430736159944, -13.390218289739371], \"type\": \"scatter\", \"line\": {\"width\": 1.4450332099193164, \"color\": \"#888\"}, \"mode\": \"lines\"}, {\"hoverinfo\": \"none\", \"y\": [-5.309789890205194, -5.733405128642964], \"x\": [-14.371871984258576, -13.390218289739371], \"type\": \"scatter\", \"line\": {\"width\": 1.6595256306523098, \"color\": \"#888\"}, \"mode\": \"lines\"}, {\"hoverinfo\": \"none\", \"y\": [-5.87173038695074, -5.733405128642964], \"x\": [-14.189771826738772, -13.390218289739371], \"type\": \"scatter\", \"line\": {\"width\": 1.0230303952199367, \"color\": \"#888\"}, \"mode\": \"lines\"}, {\"hoverinfo\": \"none\", \"y\": [-5.142310599034572, -5.733405128642964], \"x\": [-13.222042469817788, -13.390218289739371], \"type\": \"scatter\", \"line\": {\"width\": 1.478924330674631, \"color\": \"#888\"}, \"mode\": \"lines\"}, {\"hoverinfo\": \"none\", \"y\": [-5.930339137052623, -5.733405128642964], \"x\": [-13.88035938362524, -13.390218289739371], \"type\": \"scatter\", \"line\": {\"width\": 1.2602232837316554, \"color\": \"#888\"}, \"mode\": \"lines\"}, {\"hoverinfo\": \"none\", \"y\": [-5.589642377557384, -5.733405128642964], \"x\": [-14.337115099508948, -13.390218289739371], \"type\": \"scatter\", \"line\": {\"width\": 1.0831408595155747, \"color\": \"#888\"}, \"mode\": \"lines\"}, {\"hoverinfo\": \"none\", \"y\": [-5.340015312798051, -5.733405128642964], \"x\": [-14.43856045774682, -13.390218289739371], \"type\": \"scatter\", \"line\": {\"width\": 1.6392799883916123, \"color\": \"#888\"}, \"mode\": \"lines\"}, {\"hoverinfo\": \"none\", \"y\": [-5.733405128642964, -4.948323816069961], \"x\": [-13.390218289739371, -13.862864446562623], \"type\": \"scatter\", \"line\": {\"width\": 1.9884491520043113, \"color\": \"#888\"}, \"mode\": \"lines\"}, {\"hoverinfo\": \"none\", \"y\": [-5.733405128642964, -4.746623249059541], \"x\": [-13.390218289739371, -13.675589562249908], \"type\": \"scatter\", \"line\": {\"width\": 1.4204921773882484, \"color\": \"#888\"}, \"mode\": \"lines\"}, {\"hoverinfo\": \"none\", \"y\": [-5.733405128642964, -5.071548520780777], \"x\": [-13.390218289739371, -13.595012385775345], \"type\": \"scatter\", \"line\": {\"width\": 1.8511518866483965, \"color\": \"#888\"}, \"mode\": \"lines\"}, {\"hoverinfo\": \"none\", \"y\": [-5.733405128642964, -5.37815957036336], \"x\": [-13.390218289739371, -13.193598012960688], \"type\": \"scatter\", \"line\": {\"width\": 1.4541960121198971, \"color\": \"#888\"}, \"mode\": \"lines\"}, {\"hoverinfo\": \"none\", \"y\": [-5.733405128642964, -5.670154951244973], \"x\": [-13.390218289739371, -13.94653562468436], \"type\": \"scatter\", \"line\": {\"width\": 1.256441085017973, \"color\": \"#888\"}, \"mode\": \"lines\"}, {\"hoverinfo\": \"none\", \"y\": [-5.733405128642964, -6.052174784794521], \"x\": [-13.390218289739371, -12.761106201381423], \"type\": \"scatter\", \"line\": {\"width\": 1.014786162987643, \"color\": \"#888\"}, \"mode\": \"lines\"}, {\"hoverinfo\": \"none\", \"y\": [-4.4476025797803, -4.310670236828554], \"x\": [-14.871497661265048, -16.303060544747147], \"type\": \"scatter\", \"line\": {\"width\": 1.0478064520326373, \"color\": \"#888\"}, \"mode\": \"lines\"}, {\"hoverinfo\": \"none\", \"y\": [-5.367590516567743, -4.310670236828554], \"x\": [-15.717211012483808, -16.303060544747147], \"type\": \"scatter\", \"line\": {\"width\": 1.0145381811725789, \"color\": \"#888\"}, \"mode\": \"lines\"}, {\"hoverinfo\": \"none\", \"y\": [-3.7533718180893545, -4.310670236828554], \"x\": [-16.00047798583634, -16.303060544747147], \"type\": \"scatter\", \"line\": {\"width\": 1.3184957335227359, \"color\": \"#888\"}, \"mode\": \"lines\"}, {\"hoverinfo\": \"none\", \"y\": [-5.206796894862642, -5.726698746391567], \"x\": [-16.853929849925986, -17.872139148439057], \"type\": \"scatter\", \"line\": {\"width\": 1.040035629749341, \"color\": \"#888\"}, \"mode\": \"lines\"}, {\"hoverinfo\": \"none\", \"y\": [-5.32928344518222, -6.038017673214097], \"x\": [-13.875537710711491, -13.273225990625084], \"type\": \"scatter\", \"line\": {\"width\": 1.3967176642256418, \"color\": \"#888\"}, \"mode\": \"lines\"}, {\"hoverinfo\": \"none\", \"y\": [-5.464656038819423, -6.038017673214097], \"x\": [-13.527157887205975, -13.273225990625084], \"type\": \"scatter\", \"line\": {\"width\": 1.1569261667352864, \"color\": \"#888\"}, \"mode\": \"lines\"}, {\"hoverinfo\": \"none\", \"y\": [-5.531850608732078, -6.038017673214097], \"x\": [-13.707209565894951, -13.273225990625084], \"type\": \"scatter\", \"line\": {\"width\": 1.2206520106249243, \"color\": \"#888\"}, \"mode\": \"lines\"}, {\"hoverinfo\": \"none\", \"y\": [-6.689195662075548, -6.038017673214097], \"x\": [-13.24315673940496, -13.273225990625084], \"type\": \"scatter\", \"line\": {\"width\": 1.231759241353672, \"color\": \"#888\"}, \"mode\": \"lines\"}, {\"hoverinfo\": \"none\", \"y\": [-5.876190550342591, -6.038017673214097], \"x\": [-13.611430736159944, -13.273225990625084], \"type\": \"scatter\", \"line\": {\"width\": 1.3154972210087321, \"color\": \"#888\"}, \"mode\": \"lines\"}, {\"hoverinfo\": \"none\", \"y\": [-5.309789890205194, -6.038017673214097], \"x\": [-14.371871984258576, -13.273225990625084], \"type\": \"scatter\", \"line\": {\"width\": 1.605423384514806, \"color\": \"#888\"}, \"mode\": \"lines\"}, {\"hoverinfo\": \"none\", \"y\": [-6.979374153748573, -6.038017673214097], \"x\": [-13.770553405879493, -13.273225990625084], \"type\": \"scatter\", \"line\": {\"width\": 1.0161543434297555, \"color\": \"#888\"}, \"mode\": \"lines\"}, {\"hoverinfo\": \"none\", \"y\": [-7.033495540347158, -6.038017673214097], \"x\": [-13.387726540267733, -13.273225990625084], \"type\": \"scatter\", \"line\": {\"width\": 1.0520572593229847, \"color\": \"#888\"}, \"mode\": \"lines\"}, {\"hoverinfo\": \"none\", \"y\": [-5.589642377557384, -6.038017673214097], \"x\": [-14.337115099508948, -13.273225990625084], \"type\": \"scatter\", \"line\": {\"width\": 1.2495373637579967, \"color\": \"#888\"}, \"mode\": \"lines\"}, {\"hoverinfo\": \"none\", \"y\": [-5.340015312798051, -6.038017673214097], \"x\": [-14.43856045774682, -13.273225990625084], \"type\": \"scatter\", \"line\": {\"width\": 1.586531690322458, \"color\": \"#888\"}, \"mode\": \"lines\"}, {\"hoverinfo\": \"none\", \"y\": [-6.3666290923353985, -6.038017673214097], \"x\": [-12.1142728460046, -13.273225990625084], \"type\": \"scatter\", \"line\": {\"width\": 1.0016258231537143, \"color\": \"#888\"}, \"mode\": \"lines\"}, {\"hoverinfo\": \"none\", \"y\": [-6.193450742401886, -6.038017673214097], \"x\": [-13.894885252196177, -13.273225990625084], \"type\": \"scatter\", \"line\": {\"width\": 1.0694843331904502, \"color\": \"#888\"}, \"mode\": \"lines\"}, {\"hoverinfo\": \"none\", \"y\": [-6.083157751531359, -6.038017673214097], \"x\": [-11.985612255044712, -13.273225990625084], \"type\": \"scatter\", \"line\": {\"width\": 1.08702934324447, \"color\": \"#888\"}, \"mode\": \"lines\"}, {\"hoverinfo\": \"none\", \"y\": [-6.909290102969761, -6.038017673214097], \"x\": [-12.615706303724961, -13.273225990625084], \"type\": \"scatter\", \"line\": {\"width\": 1.0063678625099115, \"color\": \"#888\"}, \"mode\": \"lines\"}, {\"hoverinfo\": \"none\", \"y\": [-6.038017673214097, -4.948323816069961], \"x\": [-13.273225990625084, -13.862864446562623], \"type\": \"scatter\", \"line\": {\"width\": 1.1491570273075111, \"color\": \"#888\"}, \"mode\": \"lines\"}, {\"hoverinfo\": \"none\", \"y\": [-6.038017673214097, -5.670154951244973], \"x\": [-13.273225990625084, -13.94653562468436], \"type\": \"scatter\", \"line\": {\"width\": 1.5190640300325973, \"color\": \"#888\"}, \"mode\": \"lines\"}, {\"hoverinfo\": \"none\", \"y\": [-6.038017673214097, -7.21902777395607], \"x\": [-13.273225990625084, -12.885570200590106], \"type\": \"scatter\", \"line\": {\"width\": 1.2038286935424476, \"color\": \"#888\"}, \"mode\": \"lines\"}, {\"hoverinfo\": \"none\", \"y\": [-5.464656038819423, -5.511900788772261], \"x\": [-13.527157887205975, -12.164876803560634], \"type\": \"scatter\", \"line\": {\"width\": 1.097869395831777, \"color\": \"#888\"}, \"mode\": \"lines\"}, {\"hoverinfo\": \"none\", \"y\": [-9.212565350306901, -8.539402461952823], \"x\": [-14.84114221746566, -14.531892159066423], \"type\": \"scatter\", \"line\": {\"width\": 1.1077490252860276, \"color\": \"#888\"}, \"mode\": \"lines\"}, {\"hoverinfo\": \"none\", \"y\": [-9.212565350306901, -8.904033643593513], \"x\": [-14.84114221746566, -15.673912440502377], \"type\": \"scatter\", \"line\": {\"width\": 1.2458909163736462, \"color\": \"#888\"}, \"mode\": \"lines\"}, {\"hoverinfo\": \"none\", \"y\": [-5.32928344518222, -5.867735650205169], \"x\": [-13.875537710711491, -14.534578693420821], \"type\": \"scatter\", \"line\": {\"width\": 1.0013450411217402, \"color\": \"#888\"}, \"mode\": \"lines\"}, {\"hoverinfo\": \"none\", \"y\": [-5.531850608732078, -5.867735650205169], \"x\": [-13.707209565894951, -14.534578693420821], \"type\": \"scatter\", \"line\": {\"width\": 1.0816923517036232, \"color\": \"#888\"}, \"mode\": \"lines\"}, {\"hoverinfo\": \"none\", \"y\": [-6.838172886473517, -5.867735650205169], \"x\": [-15.031880911245818, -14.534578693420821], \"type\": \"scatter\", \"line\": {\"width\": 1.1143542077789714, \"color\": \"#888\"}, \"mode\": \"lines\"}, {\"hoverinfo\": \"none\", \"y\": [-6.201254807051291, -5.867735650205169], \"x\": [-14.645765529985793, -14.534578693420821], \"type\": \"scatter\", \"line\": {\"width\": 1.324592715833349, \"color\": \"#888\"}, \"mode\": \"lines\"}, {\"hoverinfo\": \"none\", \"y\": [-5.876190550342591, -5.867735650205169], \"x\": [-13.611430736159944, -14.534578693420821], \"type\": \"scatter\", \"line\": {\"width\": 1.2385843657988345, \"color\": \"#888\"}, \"mode\": \"lines\"}, {\"hoverinfo\": \"none\", \"y\": [-5.309789890205194, -5.867735650205169], \"x\": [-14.371871984258576, -14.534578693420821], \"type\": \"scatter\", \"line\": {\"width\": 1.7173305471245446, \"color\": \"#888\"}, \"mode\": \"lines\"}, {\"hoverinfo\": \"none\", \"y\": [-6.295317665169309, -5.867735650205169], \"x\": [-15.06299985540851, -14.534578693420821], \"type\": \"scatter\", \"line\": {\"width\": 1.041508649846482, \"color\": \"#888\"}, \"mode\": \"lines\"}, {\"hoverinfo\": \"none\", \"y\": [-6.491007842347108, -5.867735650205169], \"x\": [-14.200026977870785, -14.534578693420821], \"type\": \"scatter\", \"line\": {\"width\": 1.1369270258579665, \"color\": \"#888\"}, \"mode\": \"lines\"}, {\"hoverinfo\": \"none\", \"y\": [-5.87173038695074, -5.867735650205169], \"x\": [-14.189771826738772, -14.534578693420821], \"type\": \"scatter\", \"line\": {\"width\": 1.6122770662747037, \"color\": \"#888\"}, \"mode\": \"lines\"}, {\"hoverinfo\": \"none\", \"y\": [-5.930339137052623, -5.867735650205169], \"x\": [-13.88035938362524, -14.534578693420821], \"type\": \"scatter\", \"line\": {\"width\": 1.2228433796542193, \"color\": \"#888\"}, \"mode\": \"lines\"}, {\"hoverinfo\": \"none\", \"y\": [-5.340015312798051, -5.867735650205169], \"x\": [-14.43856045774682, -14.534578693420821], \"type\": \"scatter\", \"line\": {\"width\": 1.9869900085489416, \"color\": \"#888\"}, \"mode\": \"lines\"}, {\"hoverinfo\": \"none\", \"y\": [-5.149943024367288, -5.867735650205169], \"x\": [-14.817113325705948, -14.534578693420821], \"type\": \"scatter\", \"line\": {\"width\": 1.053952866482968, \"color\": \"#888\"}, \"mode\": \"lines\"}, {\"hoverinfo\": \"none\", \"y\": [-5.387738780527072, -5.867735650205169], \"x\": [-15.28225172984896, -14.534578693420821], \"type\": \"scatter\", \"line\": {\"width\": 1.1053318702016692, \"color\": \"#888\"}, \"mode\": \"lines\"}, {\"hoverinfo\": \"none\", \"y\": [-5.024824129450616, -5.867735650205169], \"x\": [-14.094060124693677, -14.534578693420821], \"type\": \"scatter\", \"line\": {\"width\": 1.0044307703095177, \"color\": \"#888\"}, \"mode\": \"lines\"}, {\"hoverinfo\": \"none\", \"y\": [-6.329600572063244, -5.867735650205169], \"x\": [-15.264536165409725, -14.534578693420821], \"type\": \"scatter\", \"line\": {\"width\": 1.418570868399821, \"color\": \"#888\"}, \"mode\": \"lines\"}, {\"hoverinfo\": \"none\", \"y\": [-5.867735650205169, -5.670154951244973], \"x\": [-14.534578693420821, -13.94653562468436], \"type\": \"scatter\", \"line\": {\"width\": 1.353755754295898, \"color\": \"#888\"}, \"mode\": \"lines\"}, {\"hoverinfo\": \"none\", \"y\": [-5.867735650205169, -5.806596942822509], \"x\": [-14.534578693420821, -15.497439241197572], \"type\": \"scatter\", \"line\": {\"width\": 1.0632125341034118, \"color\": \"#888\"}, \"mode\": \"lines\"}, {\"hoverinfo\": \"none\", \"y\": [-5.867735650205169, -4.9158561143212465], \"x\": [-14.534578693420821, -14.914940275618951], \"type\": \"scatter\", \"line\": {\"width\": 1.2951378385510615, \"color\": \"#888\"}, \"mode\": \"lines\"}, {\"hoverinfo\": \"none\", \"y\": [-5.867735650205169, -5.529484149368032], \"x\": [-14.534578693420821, -15.013124154598115], \"type\": \"scatter\", \"line\": {\"width\": 1.3914289384895409, \"color\": \"#888\"}, \"mode\": \"lines\"}, {\"hoverinfo\": \"none\", \"y\": [-5.867735650205169, -6.457956231183889], \"x\": [-14.534578693420821, -14.61875612341671], \"type\": \"scatter\", \"line\": {\"width\": 1.0437708461110915, \"color\": \"#888\"}, \"mode\": \"lines\"}, {\"hoverinfo\": \"none\", \"y\": [-6.400656932273691, -5.537184150233229], \"x\": [-14.47810030254798, -15.573741906957562], \"type\": \"scatter\", \"line\": {\"width\": 1.0484313095452267, \"color\": \"#888\"}, \"mode\": \"lines\"}, {\"hoverinfo\": \"none\", \"y\": [-5.938131240021356, -5.537184150233229], \"x\": [-14.790576922423055, -15.573741906957562], \"type\": \"scatter\", \"line\": {\"width\": 1.3884330604881154, \"color\": \"#888\"}, \"mode\": \"lines\"}, {\"hoverinfo\": \"none\", \"y\": [-5.206796894862642, -5.537184150233229], \"x\": [-16.853929849925986, -15.573741906957562], \"type\": \"scatter\", \"line\": {\"width\": 1.0080409976690115, \"color\": \"#888\"}, \"mode\": \"lines\"}, {\"hoverinfo\": \"none\", \"y\": [-5.309789890205194, -5.537184150233229], \"x\": [-14.371871984258576, -15.573741906957562], \"type\": \"scatter\", \"line\": {\"width\": 1.2028357067820319, \"color\": \"#888\"}, \"mode\": \"lines\"}, {\"hoverinfo\": \"none\", \"y\": [-6.736423468652748, -5.537184150233229], \"x\": [-15.851128569030708, -15.573741906957562], \"type\": \"scatter\", \"line\": {\"width\": 1.0388527872993045, \"color\": \"#888\"}, \"mode\": \"lines\"}, {\"hoverinfo\": \"none\", \"y\": [-5.340015312798051, -5.537184150233229], \"x\": [-14.43856045774682, -15.573741906957562], \"type\": \"scatter\", \"line\": {\"width\": 1.1860759821042963, \"color\": \"#888\"}, \"mode\": \"lines\"}, {\"hoverinfo\": \"none\", \"y\": [-6.507485318880583, -5.537184150233229], \"x\": [-14.895945710193905, -15.573741906957562], \"type\": \"scatter\", \"line\": {\"width\": 1.009643827301647, \"color\": \"#888\"}, \"mode\": \"lines\"}, {\"hoverinfo\": \"none\", \"y\": [-4.5058576710257725, -5.537184150233229], \"x\": [-15.270463960168538, -15.573741906957562], \"type\": \"scatter\", \"line\": {\"width\": 1.1351113980145828, \"color\": \"#888\"}, \"mode\": \"lines\"}, {\"hoverinfo\": \"none\", \"y\": [-6.355602529130001, -5.537184150233229], \"x\": [-16.267835709249958, -15.573741906957562], \"type\": \"scatter\", \"line\": {\"width\": 1.0203869560990926, \"color\": \"#888\"}, \"mode\": \"lines\"}, {\"hoverinfo\": \"none\", \"y\": [-5.537184150233229, -4.598891617330923], \"x\": [-15.573741906957562, -14.813549771834133], \"type\": \"scatter\", \"line\": {\"width\": 1.0278805197458825, \"color\": \"#888\"}, \"mode\": \"lines\"}, {\"hoverinfo\": \"none\", \"y\": [-5.309789890205194, -4.193392152224972], \"x\": [-14.371871984258576, -14.933185749715992], \"type\": \"scatter\", \"line\": {\"width\": 1.5369501912484806, \"color\": \"#888\"}, \"mode\": \"lines\"}, {\"hoverinfo\": \"none\", \"y\": [-5.340015312798051, -4.193392152224972], \"x\": [-14.43856045774682, -14.933185749715992], \"type\": \"scatter\", \"line\": {\"width\": 1.5222648642649248, \"color\": \"#888\"}, \"mode\": \"lines\"}, {\"hoverinfo\": \"none\", \"y\": [-6.507485318880583, -7.364165177722024], \"x\": [-14.895945710193905, -15.634320764752584], \"type\": \"scatter\", \"line\": {\"width\": 1.204001702132995, \"color\": \"#888\"}, \"mode\": \"lines\"}, {\"hoverinfo\": \"none\", \"y\": [-6.93972065520944, -7.364165177722024], \"x\": [-14.616955577935325, -15.634320764752584], \"type\": \"scatter\", \"line\": {\"width\": 1.0175916030272816, \"color\": \"#888\"}, \"mode\": \"lines\"}, {\"hoverinfo\": \"none\", \"y\": [-4.341927308619159, -3.5884130542935395], \"x\": [-20.721224786113666, -21.13125455792967], \"type\": \"scatter\", \"line\": {\"width\": 1.1230425979043548, \"color\": \"#888\"}, \"mode\": \"lines\"}, {\"hoverinfo\": \"none\", \"y\": [-3.368816112890574, -3.5884130542935395], \"x\": [-20.478424288576363, -21.13125455792967], \"type\": \"scatter\", \"line\": {\"width\": 1.0009002263479672, \"color\": \"#888\"}, \"mode\": \"lines\"}, {\"hoverinfo\": \"none\", \"y\": [-4.37128180082043, -4.133770859505214], \"x\": [-13.488565177169946, -12.241731349316966], \"type\": \"scatter\", \"line\": {\"width\": 1.0247627551096392, \"color\": \"#888\"}, \"mode\": \"lines\"}, {\"hoverinfo\": \"none\", \"y\": [-4.814867740596674, -4.133770859505214], \"x\": [-13.270489320443948, -12.241731349316966], \"type\": \"scatter\", \"line\": {\"width\": 1.1350118308234052, \"color\": \"#888\"}, \"mode\": \"lines\"}, {\"hoverinfo\": \"none\", \"y\": [-4.229563211540952, -4.133770859505214], \"x\": [-11.072829348576285, -12.241731349316966], \"type\": \"scatter\", \"line\": {\"width\": 1.0402369266799911, \"color\": \"#888\"}, \"mode\": \"lines\"}, {\"hoverinfo\": \"none\", \"y\": [-4.133770859505214, -3.427102566484568], \"x\": [-12.241731349316966, -11.494231615078888], \"type\": \"scatter\", \"line\": {\"width\": 1.0180766611920444, \"color\": \"#888\"}, \"mode\": \"lines\"}, {\"hoverinfo\": \"none\", \"y\": [2.697920918097788, 3.462596947966528], \"x\": [-16.247519470395954, -17.051515082605246], \"type\": \"scatter\", \"line\": {\"width\": 1.1343655629458087, \"color\": \"#888\"}, \"mode\": \"lines\"}, {\"hoverinfo\": \"none\", \"y\": [3.472963276886355, 3.462596947966528], \"x\": [-16.275597595647916, -17.051515082605246], \"type\": \"scatter\", \"line\": {\"width\": 1.292876417243475, \"color\": \"#888\"}, \"mode\": \"lines\"}, {\"hoverinfo\": \"none\", \"y\": [3.462596947966528, 2.7278720592525088], \"x\": [-17.051515082605246, -16.98941606596727], \"type\": \"scatter\", \"line\": {\"width\": 1.033928888143376, \"color\": \"#888\"}, \"mode\": \"lines\"}, {\"hoverinfo\": \"none\", \"y\": [-5.309789890205194, -5.620675211727626], \"x\": [-14.371871984258576, -13.104395642507322], \"type\": \"scatter\", \"line\": {\"width\": 1.1810347859256036, \"color\": \"#888\"}, \"mode\": \"lines\"}, {\"hoverinfo\": \"none\", \"y\": [-6.325668381304119, -5.620675211727626], \"x\": [-13.54321562440723, -13.104395642507322], \"type\": \"scatter\", \"line\": {\"width\": 1.244686116798018, \"color\": \"#888\"}, \"mode\": \"lines\"}, {\"hoverinfo\": \"none\", \"y\": [-5.340015312798051, -5.620675211727626], \"x\": [-14.43856045774682, -13.104395642507322], \"type\": \"scatter\", \"line\": {\"width\": 1.1696652479867022, \"color\": \"#888\"}, \"mode\": \"lines\"}, {\"hoverinfo\": \"none\", \"y\": [-6.6072067290490715, -5.620675211727626], \"x\": [-12.240895411845935, -13.104395642507322], \"type\": \"scatter\", \"line\": {\"width\": 1.4270424796927508, \"color\": \"#888\"}, \"mode\": \"lines\"}, {\"hoverinfo\": \"none\", \"y\": [2.1780318587774894, 2.6492440475202015], \"x\": [-13.983004156084545, -14.733694465052887], \"type\": \"scatter\", \"line\": {\"width\": 1.347942889518921, \"color\": \"#888\"}, \"mode\": \"lines\"}, {\"hoverinfo\": \"none\", \"y\": [-7.536130655725203, -8.419346170035725], \"x\": [-13.355349687799634, -12.924120964256007], \"type\": \"scatter\", \"line\": {\"width\": 1.0627746145541674, \"color\": \"#888\"}, \"mode\": \"lines\"}, {\"hoverinfo\": \"none\", \"y\": [-5.32928344518222, -4.948323816069961], \"x\": [-13.875537710711491, -13.862864446562623], \"type\": \"scatter\", \"line\": {\"width\": 2.594732521752629, \"color\": \"#888\"}, \"mode\": \"lines\"}, {\"hoverinfo\": \"none\", \"y\": [-5.464656038819423, -4.948323816069961], \"x\": [-13.527157887205975, -13.862864446562623], \"type\": \"scatter\", \"line\": {\"width\": 2.1605356418869786, \"color\": \"#888\"}, \"mode\": \"lines\"}, {\"hoverinfo\": \"none\", \"y\": [-4.4476025797803, -4.948323816069961], \"x\": [-14.871497661265048, -13.862864446562623], \"type\": \"scatter\", \"line\": {\"width\": 1.8961156323569186, \"color\": \"#888\"}, \"mode\": \"lines\"}, {\"hoverinfo\": \"none\", \"y\": [-4.997657926517953, -4.948323816069961], \"x\": [-14.362059659931681, -13.862864446562623], \"type\": \"scatter\", \"line\": {\"width\": 1.2278487481778746, \"color\": \"#888\"}, \"mode\": \"lines\"}, {\"hoverinfo\": \"none\", \"y\": [-5.531850608732078, -4.948323816069961], \"x\": [-13.707209565894951, -13.862864446562623], \"type\": \"scatter\", \"line\": {\"width\": 2.2385073862396254, \"color\": \"#888\"}, \"mode\": \"lines\"}, {\"hoverinfo\": \"none\", \"y\": [-4.37128180082043, -4.948323816069961], \"x\": [-13.488565177169946, -13.862864446562623], \"type\": \"scatter\", \"line\": {\"width\": 1.039148394464184, \"color\": \"#888\"}, \"mode\": \"lines\"}, {\"hoverinfo\": \"none\", \"y\": [-5.876190550342591, -4.948323816069961], \"x\": [-13.611430736159944, -13.862864446562623], \"type\": \"scatter\", \"line\": {\"width\": 1.0404031945162697, \"color\": \"#888\"}, \"mode\": \"lines\"}, {\"hoverinfo\": \"none\", \"y\": [-5.309789890205194, -4.948323816069961], \"x\": [-14.371871984258576, -13.862864446562623], \"type\": \"scatter\", \"line\": {\"width\": 3.24239654650267, \"color\": \"#888\"}, \"mode\": \"lines\"}, {\"hoverinfo\": \"none\", \"y\": [-5.87173038695074, -4.948323816069961], \"x\": [-14.189771826738772, -13.862864446562623], \"type\": \"scatter\", \"line\": {\"width\": 1.3095900127910887, \"color\": \"#888\"}, \"mode\": \"lines\"}, {\"hoverinfo\": \"none\", \"y\": [-5.142310599034572, -4.948323816069961], \"x\": [-13.222042469817788, -13.862864446562623], \"type\": \"scatter\", \"line\": {\"width\": 1.297877318297527, \"color\": \"#888\"}, \"mode\": \"lines\"}, {\"hoverinfo\": \"none\", \"y\": [-5.930339137052623, -4.948323816069961], \"x\": [-13.88035938362524, -13.862864446562623], \"type\": \"scatter\", \"line\": {\"width\": 1.2374462400830846, \"color\": \"#888\"}, \"mode\": \"lines\"}, {\"hoverinfo\": \"none\", \"y\": [-5.589642377557384, -4.948323816069961], \"x\": [-14.337115099508948, -13.862864446562623], \"type\": \"scatter\", \"line\": {\"width\": 2.7921176984334677, \"color\": \"#888\"}, \"mode\": \"lines\"}, {\"hoverinfo\": \"none\", \"y\": [-5.340015312798051, -4.948323816069961], \"x\": [-14.43856045774682, -13.862864446562623], \"type\": \"scatter\", \"line\": {\"width\": 3.265376284739778, \"color\": \"#888\"}, \"mode\": \"lines\"}, {\"hoverinfo\": \"none\", \"y\": [-5.149943024367288, -4.948323816069961], \"x\": [-14.817113325705948, -13.862864446562623], \"type\": \"scatter\", \"line\": {\"width\": 1.1110581512755304, \"color\": \"#888\"}, \"mode\": \"lines\"}, {\"hoverinfo\": \"none\", \"y\": [-4.216353478321253, -4.948323816069961], \"x\": [-14.419498108553507, -13.862864446562623], \"type\": \"scatter\", \"line\": {\"width\": 1.158520250127273, \"color\": \"#888\"}, \"mode\": \"lines\"}, {\"hoverinfo\": \"none\", \"y\": [-5.638625502914219, -4.948323816069961], \"x\": [-14.753566114591269, -13.862864446562623], \"type\": \"scatter\", \"line\": {\"width\": 1.3336206764030232, \"color\": \"#888\"}, \"mode\": \"lines\"}, {\"hoverinfo\": \"none\", \"y\": [-4.563713429774501, -4.948323816069961], \"x\": [-14.475455276486759, -13.862864446562623], \"type\": \"scatter\", \"line\": {\"width\": 1.2371831217988247, \"color\": \"#888\"}, \"mode\": \"lines\"}, {\"hoverinfo\": \"none\", \"y\": [-5.733405128642964, -4.948323816069961], \"x\": [-13.390218289739371, -13.862864446562623], \"type\": \"scatter\", \"line\": {\"width\": 1.9884491520043113, \"color\": \"#888\"}, \"mode\": \"lines\"}, {\"hoverinfo\": \"none\", \"y\": [-6.038017673214097, -4.948323816069961], \"x\": [-13.273225990625084, -13.862864446562623], \"type\": \"scatter\", \"line\": {\"width\": 1.1491570273075111, \"color\": \"#888\"}, \"mode\": \"lines\"}, {\"hoverinfo\": \"none\", \"y\": [-4.948323816069961, -4.746623249059541], \"x\": [-13.862864446562623, -13.675589562249908], \"type\": \"scatter\", \"line\": {\"width\": 1.4791446582936123, \"color\": \"#888\"}, \"mode\": \"lines\"}, {\"hoverinfo\": \"none\", \"y\": [-4.948323816069961, -5.071548520780777], \"x\": [-13.862864446562623, -13.595012385775345], \"type\": \"scatter\", \"line\": {\"width\": 2.846396028031555, \"color\": \"#888\"}, \"mode\": \"lines\"}, {\"hoverinfo\": \"none\", \"y\": [-4.948323816069961, -5.37815957036336], \"x\": [-13.862864446562623, -13.193598012960688], \"type\": \"scatter\", \"line\": {\"width\": 1.280174730198176, \"color\": \"#888\"}, \"mode\": \"lines\"}, {\"hoverinfo\": \"none\", \"y\": [-4.948323816069961, -5.670154951244973], \"x\": [-13.862864446562623, -13.94653562468436], \"type\": \"scatter\", \"line\": {\"width\": 1.6947150700585731, \"color\": \"#888\"}, \"mode\": \"lines\"}, {\"hoverinfo\": \"none\", \"y\": [-4.948323816069961, -3.876404275601538], \"x\": [-13.862864446562623, -12.970106380325237], \"type\": \"scatter\", \"line\": {\"width\": 1.0018889806675997, \"color\": \"#888\"}, \"mode\": \"lines\"}, {\"hoverinfo\": \"none\", \"y\": [-4.948323816069961, -4.598891617330923], \"x\": [-13.862864446562623, -14.813549771834133], \"type\": \"scatter\", \"line\": {\"width\": 1.1495563524753216, \"color\": \"#888\"}, \"mode\": \"lines\"}, {\"hoverinfo\": \"none\", \"y\": [-5.32928344518222, -4.746623249059541], \"x\": [-13.875537710711491, -13.675589562249908], \"type\": \"scatter\", \"line\": {\"width\": 1.125722206490517, \"color\": \"#888\"}, \"mode\": \"lines\"}, {\"hoverinfo\": \"none\", \"y\": [-5.464656038819423, -4.746623249059541], \"x\": [-13.527157887205975, -13.675589562249908], \"type\": \"scatter\", \"line\": {\"width\": 1.2420276032284574, \"color\": \"#888\"}, \"mode\": \"lines\"}, {\"hoverinfo\": \"none\", \"y\": [-4.997657926517953, -4.746623249059541], \"x\": [-14.362059659931681, -13.675589562249908], \"type\": \"scatter\", \"line\": {\"width\": 1.0943983333337945, \"color\": \"#888\"}, \"mode\": \"lines\"}, {\"hoverinfo\": \"none\", \"y\": [-5.531850608732078, -4.746623249059541], \"x\": [-13.707209565894951, -13.675589562249908], \"type\": \"scatter\", \"line\": {\"width\": 1.4715750407683883, \"color\": \"#888\"}, \"mode\": \"lines\"}, {\"hoverinfo\": \"none\", \"y\": [-5.309789890205194, -4.746623249059541], \"x\": [-14.371871984258576, -13.675589562249908], \"type\": \"scatter\", \"line\": {\"width\": 1.2797654542636812, \"color\": \"#888\"}, \"mode\": \"lines\"}, {\"hoverinfo\": \"none\", \"y\": [-5.142310599034572, -4.746623249059541], \"x\": [-13.222042469817788, -13.675589562249908], \"type\": \"scatter\", \"line\": {\"width\": 1.0882085589507369, \"color\": \"#888\"}, \"mode\": \"lines\"}, {\"hoverinfo\": \"none\", \"y\": [-5.589642377557384, -4.746623249059541], \"x\": [-14.337115099508948, -13.675589562249908], \"type\": \"scatter\", \"line\": {\"width\": 1.420054194033269, \"color\": \"#888\"}, \"mode\": \"lines\"}, {\"hoverinfo\": \"none\", \"y\": [-5.340015312798051, -4.746623249059541], \"x\": [-14.43856045774682, -13.675589562249908], \"type\": \"scatter\", \"line\": {\"width\": 1.2638409296305433, \"color\": \"#888\"}, \"mode\": \"lines\"}, {\"hoverinfo\": \"none\", \"y\": [-5.638625502914219, -4.746623249059541], \"x\": [-14.753566114591269, -13.675589562249908], \"type\": \"scatter\", \"line\": {\"width\": 1.086429851750809, \"color\": \"#888\"}, \"mode\": \"lines\"}, {\"hoverinfo\": \"none\", \"y\": [-4.563713429774501, -4.746623249059541], \"x\": [-14.475455276486759, -13.675589562249908], \"type\": \"scatter\", \"line\": {\"width\": 1.0994350344114456, \"color\": \"#888\"}, \"mode\": \"lines\"}, {\"hoverinfo\": \"none\", \"y\": [-5.733405128642964, -4.746623249059541], \"x\": [-13.390218289739371, -13.675589562249908], \"type\": \"scatter\", \"line\": {\"width\": 1.4204921773882484, \"color\": \"#888\"}, \"mode\": \"lines\"}, {\"hoverinfo\": \"none\", \"y\": [-4.948323816069961, -4.746623249059541], \"x\": [-13.862864446562623, -13.675589562249908], \"type\": \"scatter\", \"line\": {\"width\": 1.4791446582936123, \"color\": \"#888\"}, \"mode\": \"lines\"}, {\"hoverinfo\": \"none\", \"y\": [2.7597529883141663, 1.9936568055327668], \"x\": [-12.358110398384234, -13.135557863345687], \"type\": \"scatter\", \"line\": {\"width\": 1.1005697410928188, \"color\": \"#888\"}, \"mode\": \"lines\"}, {\"hoverinfo\": \"none\", \"y\": [2.0041417027951165, 1.9936568055327668], \"x\": [-12.416271014206234, -13.135557863345687], \"type\": \"scatter\", \"line\": {\"width\": 1.141494085803745, \"color\": \"#888\"}, \"mode\": \"lines\"}, {\"hoverinfo\": \"none\", \"y\": [2.7241682082273706, 1.9936568055327668], \"x\": [-13.259356029280449, -13.135557863345687], \"type\": \"scatter\", \"line\": {\"width\": 1.164958932558884, \"color\": \"#888\"}, \"mode\": \"lines\"}, {\"hoverinfo\": \"none\", \"y\": [2.1780318587774894, 1.9936568055327668], \"x\": [-13.983004156084545, -13.135557863345687], \"type\": \"scatter\", \"line\": {\"width\": 1.1256280676713315, \"color\": \"#888\"}, \"mode\": \"lines\"}, {\"hoverinfo\": \"none\", \"y\": [-4.997657926517953, -4.675896407068778], \"x\": [-14.362059659931681, -15.438938010325261], \"type\": \"scatter\", \"line\": {\"width\": 1.6196872997136325, \"color\": \"#888\"}, \"mode\": \"lines\"}, {\"hoverinfo\": \"none\", \"y\": [-4.907635561614265, -4.675896407068778], \"x\": [-15.190594501558186, -15.438938010325261], \"type\": \"scatter\", \"line\": {\"width\": 1.0164502373755715, \"color\": \"#888\"}, \"mode\": \"lines\"}, {\"hoverinfo\": \"none\", \"y\": [-5.566587789910302, -4.675896407068778], \"x\": [-16.060753847986447, -15.438938010325261], \"type\": \"scatter\", \"line\": {\"width\": 1.0602471199975425, \"color\": \"#888\"}, \"mode\": \"lines\"}, {\"hoverinfo\": \"none\", \"y\": [-5.309789890205194, -4.675896407068778], \"x\": [-14.371871984258576, -15.438938010325261], \"type\": \"scatter\", \"line\": {\"width\": 1.4560617117653787, \"color\": \"#888\"}, \"mode\": \"lines\"}, {\"hoverinfo\": \"none\", \"y\": [-5.340015312798051, -4.675896407068778], \"x\": [-14.43856045774682, -15.438938010325261], \"type\": \"scatter\", \"line\": {\"width\": 1.438687743390058, \"color\": \"#888\"}, \"mode\": \"lines\"}, {\"hoverinfo\": \"none\", \"y\": [-5.387738780527072, -4.675896407068778], \"x\": [-15.28225172984896, -15.438938010325261], \"type\": \"scatter\", \"line\": {\"width\": 1.6214786080697199, \"color\": \"#888\"}, \"mode\": \"lines\"}, {\"hoverinfo\": \"none\", \"y\": [-5.32928344518222, -5.071548520780777], \"x\": [-13.875537710711491, -13.595012385775345], \"type\": \"scatter\", \"line\": {\"width\": 1.4856575845695517, \"color\": \"#888\"}, \"mode\": \"lines\"}, {\"hoverinfo\": \"none\", \"y\": [-4.997657926517953, -5.071548520780777], \"x\": [-14.362059659931681, -13.595012385775345], \"type\": \"scatter\", \"line\": {\"width\": 1.295861474926493, \"color\": \"#888\"}, \"mode\": \"lines\"}, {\"hoverinfo\": \"none\", \"y\": [-5.531850608732078, -5.071548520780777], \"x\": [-13.707209565894951, -13.595012385775345], \"type\": \"scatter\", \"line\": {\"width\": 2.0153679748019826, \"color\": \"#888\"}, \"mode\": \"lines\"}, {\"hoverinfo\": \"none\", \"y\": [-4.37128180082043, -5.071548520780777], \"x\": [-13.488565177169946, -13.595012385775345], \"type\": \"scatter\", \"line\": {\"width\": 1.087335300402193, \"color\": \"#888\"}, \"mode\": \"lines\"}, {\"hoverinfo\": \"none\", \"y\": [-5.876190550342591, -5.071548520780777], \"x\": [-13.611430736159944, -13.595012385775345], \"type\": \"scatter\", \"line\": {\"width\": 1.0852401352493468, \"color\": \"#888\"}, \"mode\": \"lines\"}, {\"hoverinfo\": \"none\", \"y\": [-5.309789890205194, -5.071548520780777], \"x\": [-14.371871984258576, -13.595012385775345], \"type\": \"scatter\", \"line\": {\"width\": 1.9377941741220632, \"color\": \"#888\"}, \"mode\": \"lines\"}, {\"hoverinfo\": \"none\", \"y\": [-5.87173038695074, -5.071548520780777], \"x\": [-14.189771826738772, -13.595012385775345], \"type\": \"scatter\", \"line\": {\"width\": 1.1573426694228401, \"color\": \"#888\"}, \"mode\": \"lines\"}, {\"hoverinfo\": \"none\", \"y\": [-5.142310599034572, -5.071548520780777], \"x\": [-13.222042469817788, -13.595012385775345], \"type\": \"scatter\", \"line\": {\"width\": 1.0913043640973121, \"color\": \"#888\"}, \"mode\": \"lines\"}, {\"hoverinfo\": \"none\", \"y\": [-5.930339137052623, -5.071548520780777], \"x\": [-13.88035938362524, -13.595012385775345], \"type\": \"scatter\", \"line\": {\"width\": 1.4371306234018377, \"color\": \"#888\"}, \"mode\": \"lines\"}, {\"hoverinfo\": \"none\", \"y\": [-5.589642377557384, -5.071548520780777], \"x\": [-14.337115099508948, -13.595012385775345], \"type\": \"scatter\", \"line\": {\"width\": 1.7487037506264238, \"color\": \"#888\"}, \"mode\": \"lines\"}, {\"hoverinfo\": \"none\", \"y\": [-5.340015312798051, -5.071548520780777], \"x\": [-14.43856045774682, -13.595012385775345], \"type\": \"scatter\", \"line\": {\"width\": 1.9833157453205779, \"color\": \"#888\"}, \"mode\": \"lines\"}, {\"hoverinfo\": \"none\", \"y\": [-5.638625502914219, -5.071548520780777], \"x\": [-14.753566114591269, -13.595012385775345], \"type\": \"scatter\", \"line\": {\"width\": 1.1011584011383928, \"color\": \"#888\"}, \"mode\": \"lines\"}, {\"hoverinfo\": \"none\", \"y\": [-5.733405128642964, -5.071548520780777], \"x\": [-13.390218289739371, -13.595012385775345], \"type\": \"scatter\", \"line\": {\"width\": 1.8511518866483965, \"color\": \"#888\"}, \"mode\": \"lines\"}, {\"hoverinfo\": \"none\", \"y\": [-4.948323816069961, -5.071548520780777], \"x\": [-13.862864446562623, -13.595012385775345], \"type\": \"scatter\", \"line\": {\"width\": 2.846396028031555, \"color\": \"#888\"}, \"mode\": \"lines\"}, {\"hoverinfo\": \"none\", \"y\": [-5.071548520780777, -5.37815957036336], \"x\": [-13.595012385775345, -13.193598012960688], \"type\": \"scatter\", \"line\": {\"width\": 1.0379621394129621, \"color\": \"#888\"}, \"mode\": \"lines\"}, {\"hoverinfo\": \"none\", \"y\": [-5.071548520780777, -5.670154951244973], \"x\": [-13.595012385775345, -13.94653562468436], \"type\": \"scatter\", \"line\": {\"width\": 1.3936006338251459, \"color\": \"#888\"}, \"mode\": \"lines\"}, {\"hoverinfo\": \"none\", \"y\": [2.697920918097788, 2.7278720592525088], \"x\": [-16.247519470395954, -16.98941606596727], \"type\": \"scatter\", \"line\": {\"width\": 1.1046334590206233, \"color\": \"#888\"}, \"mode\": \"lines\"}, {\"hoverinfo\": \"none\", \"y\": [3.472963276886355, 2.7278720592525088], \"x\": [-16.275597595647916, -16.98941606596727], \"type\": \"scatter\", \"line\": {\"width\": 1.1894481478399692, \"color\": \"#888\"}, \"mode\": \"lines\"}, {\"hoverinfo\": \"none\", \"y\": [3.462596947966528, 2.7278720592525088], \"x\": [-17.051515082605246, -16.98941606596727], \"type\": \"scatter\", \"line\": {\"width\": 1.033928888143376, \"color\": \"#888\"}, \"mode\": \"lines\"}, {\"hoverinfo\": \"none\", \"y\": [-7.567300842448139, -8.539402461952823], \"x\": [-14.121106121702685, -14.531892159066423], \"type\": \"scatter\", \"line\": {\"width\": 1.0953804566139196, \"color\": \"#888\"}, \"mode\": \"lines\"}, {\"hoverinfo\": \"none\", \"y\": [-9.212565350306901, -8.539402461952823], \"x\": [-14.84114221746566, -14.531892159066423], \"type\": \"scatter\", \"line\": {\"width\": 1.1077490252860276, \"color\": \"#888\"}, \"mode\": \"lines\"}, {\"hoverinfo\": \"none\", \"y\": [-8.539402461952823, -8.904033643593513], \"x\": [-14.531892159066423, -15.673912440502377], \"type\": \"scatter\", \"line\": {\"width\": 1.003400308949595, \"color\": \"#888\"}, \"mode\": \"lines\"}, {\"hoverinfo\": \"none\", \"y\": [1.9014101903728275, 2.6567307450672972], \"x\": [-10.473368711807028, -10.054236951931182], \"type\": \"scatter\", \"line\": {\"width\": 1.0245518414506591, \"color\": \"#888\"}, \"mode\": \"lines\"}, {\"hoverinfo\": \"none\", \"y\": [-4.635376105040488, -5.474202923270306], \"x\": [-7.046474158106071, -7.3629914688211375], \"type\": \"scatter\", \"line\": {\"width\": 1.037404716365907, \"color\": \"#888\"}, \"mode\": \"lines\"}, {\"hoverinfo\": \"none\", \"y\": [-4.133770859505214, -3.427102566484568], \"x\": [-12.241731349316966, -11.494231615078888], \"type\": \"scatter\", \"line\": {\"width\": 1.0180766611920444, \"color\": \"#888\"}, \"mode\": \"lines\"}, {\"hoverinfo\": \"none\", \"y\": [-5.32928344518222, -5.37815957036336], \"x\": [-13.875537710711491, -13.193598012960688], \"type\": \"scatter\", \"line\": {\"width\": 1.9203746711802538, \"color\": \"#888\"}, \"mode\": \"lines\"}, {\"hoverinfo\": \"none\", \"y\": [-5.876190550342591, -5.37815957036336], \"x\": [-13.611430736159944, -13.193598012960688], \"type\": \"scatter\", \"line\": {\"width\": 1.3615631482798145, \"color\": \"#888\"}, \"mode\": \"lines\"}, {\"hoverinfo\": \"none\", \"y\": [-5.309789890205194, -5.37815957036336], \"x\": [-14.371871984258576, -13.193598012960688], \"type\": \"scatter\", \"line\": {\"width\": 1.3973979854360747, \"color\": \"#888\"}, \"mode\": \"lines\"}, {\"hoverinfo\": \"none\", \"y\": [-5.87173038695074, -5.37815957036336], \"x\": [-14.189771826738772, -13.193598012960688], \"type\": \"scatter\", \"line\": {\"width\": 1.0436904503602946, \"color\": \"#888\"}, \"mode\": \"lines\"}, {\"hoverinfo\": \"none\", \"y\": [-5.142310599034572, -5.37815957036336], \"x\": [-13.222042469817788, -13.193598012960688], \"type\": \"scatter\", \"line\": {\"width\": 1.6273683924272078, \"color\": \"#888\"}, \"mode\": \"lines\"}, {\"hoverinfo\": \"none\", \"y\": [-5.340015312798051, -5.37815957036336], \"x\": [-14.43856045774682, -13.193598012960688], \"type\": \"scatter\", \"line\": {\"width\": 1.3812304868980876, \"color\": \"#888\"}, \"mode\": \"lines\"}, {\"hoverinfo\": \"none\", \"y\": [-5.1083541514665365, -5.37815957036336], \"x\": [-12.033468151975097, -13.193598012960688], \"type\": \"scatter\", \"line\": {\"width\": 1.2067091142521453, \"color\": \"#888\"}, \"mode\": \"lines\"}, {\"hoverinfo\": \"none\", \"y\": [-4.636006372940541, -5.37815957036336], \"x\": [-12.518872512671223, -13.193598012960688], \"type\": \"scatter\", \"line\": {\"width\": 1.3907664816518606, \"color\": \"#888\"}, \"mode\": \"lines\"}, {\"hoverinfo\": \"none\", \"y\": [-5.733405128642964, -5.37815957036336], \"x\": [-13.390218289739371, -13.193598012960688], \"type\": \"scatter\", \"line\": {\"width\": 1.4541960121198971, \"color\": \"#888\"}, \"mode\": \"lines\"}, {\"hoverinfo\": \"none\", \"y\": [-4.948323816069961, -5.37815957036336], \"x\": [-13.862864446562623, -13.193598012960688], \"type\": \"scatter\", \"line\": {\"width\": 1.280174730198176, \"color\": \"#888\"}, \"mode\": \"lines\"}, {\"hoverinfo\": \"none\", \"y\": [-5.071548520780777, -5.37815957036336], \"x\": [-13.595012385775345, -13.193598012960688], \"type\": \"scatter\", \"line\": {\"width\": 1.0379621394129621, \"color\": \"#888\"}, \"mode\": \"lines\"}, {\"hoverinfo\": \"none\", \"y\": [-5.37815957036336, -5.670154951244973], \"x\": [-13.193598012960688, -13.94653562468436], \"type\": \"scatter\", \"line\": {\"width\": 1.2656924913973984, \"color\": \"#888\"}, \"mode\": \"lines\"}, {\"hoverinfo\": \"none\", \"y\": [-5.37815957036336, -6.052174784794521], \"x\": [-13.193598012960688, -12.761106201381423], \"type\": \"scatter\", \"line\": {\"width\": 1.00190217130656, \"color\": \"#888\"}, \"mode\": \"lines\"}, {\"hoverinfo\": \"none\", \"y\": [-6.888856057905963, -8.017373646677502], \"x\": [-14.220471909568893, -14.500335134000432], \"type\": \"scatter\", \"line\": {\"width\": 1.0791758042523893, \"color\": \"#888\"}, \"mode\": \"lines\"}, {\"hoverinfo\": \"none\", \"y\": [-6.832951899584617, -8.017373646677502], \"x\": [-13.981029096872376, -14.500335134000432], \"type\": \"scatter\", \"line\": {\"width\": 1.109759620016767, \"color\": \"#888\"}, \"mode\": \"lines\"}, {\"hoverinfo\": \"none\", \"y\": [-6.852809272545492, -6.375222374074013], \"x\": [-10.246141118738755, -10.999768893206758], \"type\": \"scatter\", \"line\": {\"width\": 1.0079553659585874, \"color\": \"#888\"}, \"mode\": \"lines\"}, {\"hoverinfo\": \"none\", \"y\": [-4.1344958309908195, -3.2385614430233933], \"x\": [-20.812533398291034, -20.865522260525488], \"type\": \"scatter\", \"line\": {\"width\": 1.0883751627417442, \"color\": \"#888\"}, \"mode\": \"lines\"}, {\"hoverinfo\": \"none\", \"y\": [-9.212565350306901, -8.904033643593513], \"x\": [-14.84114221746566, -15.673912440502377], \"type\": \"scatter\", \"line\": {\"width\": 1.2458909163736462, \"color\": \"#888\"}, \"mode\": \"lines\"}, {\"hoverinfo\": \"none\", \"y\": [-8.539402461952823, -8.904033643593513], \"x\": [-14.531892159066423, -15.673912440502377], \"type\": \"scatter\", \"line\": {\"width\": 1.003400308949595, \"color\": \"#888\"}, \"mode\": \"lines\"}, {\"hoverinfo\": \"none\", \"y\": [2.4731819549983896, 2.9443056051994283], \"x\": [-11.632134763637355, -10.858252560086285], \"type\": \"scatter\", \"line\": {\"width\": 1.0991598353620051, \"color\": \"#888\"}, \"mode\": \"lines\"}, {\"hoverinfo\": \"none\", \"y\": [-5.206796894862642, -4.479264697716163], \"x\": [-16.853929849925986, -17.694988821261077], \"type\": \"scatter\", \"line\": {\"width\": 1.2312097071671984, \"color\": \"#888\"}, \"mode\": \"lines\"}, {\"hoverinfo\": \"none\", \"y\": [-4.479264697716163, -5.100824687457911], \"x\": [-17.694988821261077, -17.866002807707734], \"type\": \"scatter\", \"line\": {\"width\": 1.0390282193040616, \"color\": \"#888\"}, \"mode\": \"lines\"}, {\"hoverinfo\": \"none\", \"y\": [-3.2598539629849386, -4.063257079581255], \"x\": [-16.971928943219055, -17.53685282493772], \"type\": \"scatter\", \"line\": {\"width\": 1.0101562757158438, \"color\": \"#888\"}, \"mode\": \"lines\"}, {\"hoverinfo\": \"none\", \"y\": [-4.840032384087389, -4.063257079581255], \"x\": [-16.785895922940433, -17.53685282493772], \"type\": \"scatter\", \"line\": {\"width\": 1.2061507937740665, \"color\": \"#888\"}, \"mode\": \"lines\"}, {\"hoverinfo\": \"none\", \"y\": [-5.048295447133072, -4.868046072043308], \"x\": [-10.375425299204139, -11.368386546885946], \"type\": \"scatter\", \"line\": {\"width\": 1.2012258368689315, \"color\": \"#888\"}, \"mode\": \"lines\"}, {\"hoverinfo\": \"none\", \"y\": [-4.7303986275351155, -4.868046072043308], \"x\": [-12.71233501434269, -11.368386546885946], \"type\": \"scatter\", \"line\": {\"width\": 1.2116987039885405, \"color\": \"#888\"}, \"mode\": \"lines\"}, {\"hoverinfo\": \"none\", \"y\": [-4.635376105040488, -5.474202923270306], \"x\": [-7.046474158106071, -7.3629914688211375], \"type\": \"scatter\", \"line\": {\"width\": 1.037404716365907, \"color\": \"#888\"}, \"mode\": \"lines\"}, {\"hoverinfo\": \"none\", \"y\": [-5.32928344518222, -5.670154951244973], \"x\": [-13.875537710711491, -13.94653562468436], \"type\": \"scatter\", \"line\": {\"width\": 1.8380743319748538, \"color\": \"#888\"}, \"mode\": \"lines\"}, {\"hoverinfo\": \"none\", \"y\": [-5.464656038819423, -5.670154951244973], \"x\": [-13.527157887205975, -13.94653562468436], \"type\": \"scatter\", \"line\": {\"width\": 1.3210428627216877, \"color\": \"#888\"}, \"mode\": \"lines\"}, {\"hoverinfo\": \"none\", \"y\": [-4.997657926517953, -5.670154951244973], \"x\": [-14.362059659931681, -13.94653562468436], \"type\": \"scatter\", \"line\": {\"width\": 1.1099042947056785, \"color\": \"#888\"}, \"mode\": \"lines\"}, {\"hoverinfo\": \"none\", \"y\": [-5.531850608732078, -5.670154951244973], \"x\": [-13.707209565894951, -13.94653562468436], \"type\": \"scatter\", \"line\": {\"width\": 1.5885974793911686, \"color\": \"#888\"}, \"mode\": \"lines\"}, {\"hoverinfo\": \"none\", \"y\": [-6.400656932273691, -5.670154951244973], \"x\": [-14.47810030254798, -13.94653562468436], \"type\": \"scatter\", \"line\": {\"width\": 1.214072670173321, \"color\": \"#888\"}, \"mode\": \"lines\"}, {\"hoverinfo\": \"none\", \"y\": [-5.155684006072663, -5.670154951244973], \"x\": [-12.635773186908066, -13.94653562468436], \"type\": \"scatter\", \"line\": {\"width\": 1.1071821399859498, \"color\": \"#888\"}, \"mode\": \"lines\"}, {\"hoverinfo\": \"none\", \"y\": [-5.938131240021356, -5.670154951244973], \"x\": [-14.790576922423055, -13.94653562468436], \"type\": \"scatter\", \"line\": {\"width\": 1.1489777860747632, \"color\": \"#888\"}, \"mode\": \"lines\"}, {\"hoverinfo\": \"none\", \"y\": [-5.876190550342591, -5.670154951244973], \"x\": [-13.611430736159944, -13.94653562468436], \"type\": \"scatter\", \"line\": {\"width\": 1.88146236894806, \"color\": \"#888\"}, \"mode\": \"lines\"}, {\"hoverinfo\": \"none\", \"y\": [-4.43010290727313, -5.670154951244973], \"x\": [-13.787919497620946, -13.94653562468436], \"type\": \"scatter\", \"line\": {\"width\": 1.0867502706949521, \"color\": \"#888\"}, \"mode\": \"lines\"}, {\"hoverinfo\": \"none\", \"y\": [-5.309789890205194, -5.670154951244973], \"x\": [-14.371871984258576, -13.94653562468436], \"type\": \"scatter\", \"line\": {\"width\": 2.907335717315135, \"color\": \"#888\"}, \"mode\": \"lines\"}, {\"hoverinfo\": \"none\", \"y\": [-5.87173038695074, -5.670154951244973], \"x\": [-14.189771826738772, -13.94653562468436], \"type\": \"scatter\", \"line\": {\"width\": 1.3594148605638678, \"color\": \"#888\"}, \"mode\": \"lines\"}, {\"hoverinfo\": \"none\", \"y\": [-5.634570573180639, -5.670154951244973], \"x\": [-15.150173669132453, -13.94653562468436], \"type\": \"scatter\", \"line\": {\"width\": 1.0534466711766322, \"color\": \"#888\"}, \"mode\": \"lines\"}, {\"hoverinfo\": \"none\", \"y\": [-5.142310599034572, -5.670154951244973], \"x\": [-13.222042469817788, -13.94653562468436], \"type\": \"scatter\", \"line\": {\"width\": 1.0247511735071613, \"color\": \"#888\"}, \"mode\": \"lines\"}, {\"hoverinfo\": \"none\", \"y\": [-5.930339137052623, -5.670154951244973], \"x\": [-13.88035938362524, -13.94653562468436], \"type\": \"scatter\", \"line\": {\"width\": 1.4523772699679673, \"color\": \"#888\"}, \"mode\": \"lines\"}, {\"hoverinfo\": \"none\", \"y\": [-5.589642377557384, -5.670154951244973], \"x\": [-14.337115099508948, -13.94653562468436], \"type\": \"scatter\", \"line\": {\"width\": 1.7087654595076642, \"color\": \"#888\"}, \"mode\": \"lines\"}, {\"hoverinfo\": \"none\", \"y\": [-5.340015312798051, -5.670154951244973], \"x\": [-14.43856045774682, -13.94653562468436], \"type\": \"scatter\", \"line\": {\"width\": 3.1927690423116966, \"color\": \"#888\"}, \"mode\": \"lines\"}, {\"hoverinfo\": \"none\", \"y\": [-6.93972065520944, -5.670154951244973], \"x\": [-14.616955577935325, -13.94653562468436], \"type\": \"scatter\", \"line\": {\"width\": 1.2182606704755221, \"color\": \"#888\"}, \"mode\": \"lines\"}, {\"hoverinfo\": \"none\", \"y\": [-4.7303986275351155, -5.670154951244973], \"x\": [-12.71233501434269, -13.94653562468436], \"type\": \"scatter\", \"line\": {\"width\": 1.0398802290374018, \"color\": \"#888\"}, \"mode\": \"lines\"}, {\"hoverinfo\": \"none\", \"y\": [-5.916024529055278, -5.670154951244973], \"x\": [-15.24633057040751, -13.94653562468436], \"type\": \"scatter\", \"line\": {\"width\": 1.1765150063895184, \"color\": \"#888\"}, \"mode\": \"lines\"}, {\"hoverinfo\": \"none\", \"y\": [-7.017099143443842, -5.670154951244973], \"x\": [-14.899682882110234, -13.94653562468436], \"type\": \"scatter\", \"line\": {\"width\": 1.0674512939533738, \"color\": \"#888\"}, \"mode\": \"lines\"}, {\"hoverinfo\": \"none\", \"y\": [-5.024824129450616, -5.670154951244973], \"x\": [-14.094060124693677, -13.94653562468436], \"type\": \"scatter\", \"line\": {\"width\": 1.0661448204254618, \"color\": \"#888\"}, \"mode\": \"lines\"}, {\"hoverinfo\": \"none\", \"y\": [-5.733405128642964, -5.670154951244973], \"x\": [-13.390218289739371, -13.94653562468436], \"type\": \"scatter\", \"line\": {\"width\": 1.256441085017973, \"color\": \"#888\"}, \"mode\": \"lines\"}, {\"hoverinfo\": \"none\", \"y\": [-6.038017673214097, -5.670154951244973], \"x\": [-13.273225990625084, -13.94653562468436], \"type\": \"scatter\", \"line\": {\"width\": 1.5190640300325973, \"color\": \"#888\"}, \"mode\": \"lines\"}, {\"hoverinfo\": \"none\", \"y\": [-5.867735650205169, -5.670154951244973], \"x\": [-14.534578693420821, -13.94653562468436], \"type\": \"scatter\", \"line\": {\"width\": 1.353755754295898, \"color\": \"#888\"}, \"mode\": \"lines\"}, {\"hoverinfo\": \"none\", \"y\": [-4.948323816069961, -5.670154951244973], \"x\": [-13.862864446562623, -13.94653562468436], \"type\": \"scatter\", \"line\": {\"width\": 1.6947150700585731, \"color\": \"#888\"}, \"mode\": \"lines\"}, {\"hoverinfo\": \"none\", \"y\": [-5.071548520780777, -5.670154951244973], \"x\": [-13.595012385775345, -13.94653562468436], \"type\": \"scatter\", \"line\": {\"width\": 1.3936006338251459, \"color\": \"#888\"}, \"mode\": \"lines\"}, {\"hoverinfo\": \"none\", \"y\": [-5.37815957036336, -5.670154951244973], \"x\": [-13.193598012960688, -13.94653562468436], \"type\": \"scatter\", \"line\": {\"width\": 1.2656924913973984, \"color\": \"#888\"}, \"mode\": \"lines\"}, {\"hoverinfo\": \"none\", \"y\": [-5.670154951244973, -4.9158561143212465], \"x\": [-13.94653562468436, -14.914940275618951], \"type\": \"scatter\", \"line\": {\"width\": 1.3270704938366504, \"color\": \"#888\"}, \"mode\": \"lines\"}, {\"hoverinfo\": \"none\", \"y\": [-6.838172886473517, -5.806596942822509], \"x\": [-15.031880911245818, -15.497439241197572], \"type\": \"scatter\", \"line\": {\"width\": 1.2841756270730427, \"color\": \"#888\"}, \"mode\": \"lines\"}, {\"hoverinfo\": \"none\", \"y\": [-6.201254807051291, -5.806596942822509], \"x\": [-14.645765529985793, -15.497439241197572], \"type\": \"scatter\", \"line\": {\"width\": 1.3032063597556576, \"color\": \"#888\"}, \"mode\": \"lines\"}, {\"hoverinfo\": \"none\", \"y\": [-5.309789890205194, -5.806596942822509], \"x\": [-14.371871984258576, -15.497439241197572], \"type\": \"scatter\", \"line\": {\"width\": 1.4338591409924732, \"color\": \"#888\"}, \"mode\": \"lines\"}, {\"hoverinfo\": \"none\", \"y\": [-6.295317665169309, -5.806596942822509], \"x\": [-15.06299985540851, -15.497439241197572], \"type\": \"scatter\", \"line\": {\"width\": 1.1258718759742317, \"color\": \"#888\"}, \"mode\": \"lines\"}, {\"hoverinfo\": \"none\", \"y\": [-5.87173038695074, -5.806596942822509], \"x\": [-14.189771826738772, -15.497439241197572], \"type\": \"scatter\", \"line\": {\"width\": 1.2102107003567921, \"color\": \"#888\"}, \"mode\": \"lines\"}, {\"hoverinfo\": \"none\", \"y\": [-5.340015312798051, -5.806596942822509], \"x\": [-14.43856045774682, -15.497439241197572], \"type\": \"scatter\", \"line\": {\"width\": 1.4190282225804427, \"color\": \"#888\"}, \"mode\": \"lines\"}, {\"hoverinfo\": \"none\", \"y\": [-5.151451315824695, -5.806596942822509], \"x\": [-15.630598463545166, -15.497439241197572], \"type\": \"scatter\", \"line\": {\"width\": 1.047565162276737, \"color\": \"#888\"}, \"mode\": \"lines\"}, {\"hoverinfo\": \"none\", \"y\": [-5.149943024367288, -5.806596942822509], \"x\": [-14.817113325705948, -15.497439241197572], \"type\": \"scatter\", \"line\": {\"width\": 1.0058964092324805, \"color\": \"#888\"}, \"mode\": \"lines\"}, {\"hoverinfo\": \"none\", \"y\": [-6.0598151704403165, -5.806596942822509], \"x\": [-15.41477323554502, -15.497439241197572], \"type\": \"scatter\", \"line\": {\"width\": 1.352459951505115, \"color\": \"#888\"}, \"mode\": \"lines\"}, {\"hoverinfo\": \"none\", \"y\": [-5.590205519431617, -5.806596942822509], \"x\": [-16.71299347461052, -15.497439241197572], \"type\": \"scatter\", \"line\": {\"width\": 1.004178189054917, \"color\": \"#888\"}, \"mode\": \"lines\"}, {\"hoverinfo\": \"none\", \"y\": [-6.329600572063244, -5.806596942822509], \"x\": [-15.264536165409725, -15.497439241197572], \"type\": \"scatter\", \"line\": {\"width\": 1.1205473960343013, \"color\": \"#888\"}, \"mode\": \"lines\"}, {\"hoverinfo\": \"none\", \"y\": [-6.138199857768167, -5.806596942822509], \"x\": [-16.660753934328383, -15.497439241197572], \"type\": \"scatter\", \"line\": {\"width\": 1.0031936006915716, \"color\": \"#888\"}, \"mode\": \"lines\"}, {\"hoverinfo\": \"none\", \"y\": [-5.867735650205169, -5.806596942822509], \"x\": [-14.534578693420821, -15.497439241197572], \"type\": \"scatter\", \"line\": {\"width\": 1.0632125341034118, \"color\": \"#888\"}, \"mode\": \"lines\"}, {\"hoverinfo\": \"none\", \"y\": [-5.806596942822509, -6.457956231183889], \"x\": [-15.497439241197572, -14.61875612341671], \"type\": \"scatter\", \"line\": {\"width\": 1.1856153212912333, \"color\": \"#888\"}, \"mode\": \"lines\"}, {\"hoverinfo\": \"none\", \"y\": [-2.900222090616298, -1.9055694080867251], \"x\": [-14.609022694834321, -14.712868500732165], \"type\": \"scatter\", \"line\": {\"width\": 1.1462998844642627, \"color\": \"#888\"}, \"mode\": \"lines\"}, {\"hoverinfo\": \"none\", \"y\": [-2.12035182822722, -1.9055694080867251], \"x\": [-15.43199205428211, -14.712868500732165], \"type\": \"scatter\", \"line\": {\"width\": 1.062697577792586, \"color\": \"#888\"}, \"mode\": \"lines\"}, {\"hoverinfo\": \"none\", \"y\": [-4.948323816069961, -3.876404275601538], \"x\": [-13.862864446562623, -12.970106380325237], \"type\": \"scatter\", \"line\": {\"width\": 1.0018889806675997, \"color\": \"#888\"}, \"mode\": \"lines\"}, {\"hoverinfo\": \"none\", \"y\": [-4.997657926517953, -4.9158561143212465], \"x\": [-14.362059659931681, -14.914940275618951], \"type\": \"scatter\", \"line\": {\"width\": 1.3857138204432617, \"color\": \"#888\"}, \"mode\": \"lines\"}, {\"hoverinfo\": \"none\", \"y\": [-5.309789890205194, -4.9158561143212465], \"x\": [-14.371871984258576, -14.914940275618951], \"type\": \"scatter\", \"line\": {\"width\": 1.9541320687366572, \"color\": \"#888\"}, \"mode\": \"lines\"}, {\"hoverinfo\": \"none\", \"y\": [-5.367590516567743, -4.9158561143212465], \"x\": [-15.717211012483808, -14.914940275618951], \"type\": \"scatter\", \"line\": {\"width\": 1.1313400880463478, \"color\": \"#888\"}, \"mode\": \"lines\"}, {\"hoverinfo\": \"none\", \"y\": [-5.634570573180639, -4.9158561143212465], \"x\": [-15.150173669132453, -14.914940275618951], \"type\": \"scatter\", \"line\": {\"width\": 1.5110825476412013, \"color\": \"#888\"}, \"mode\": \"lines\"}, {\"hoverinfo\": \"none\", \"y\": [-5.930339137052623, -4.9158561143212465], \"x\": [-13.88035938362524, -14.914940275618951], \"type\": \"scatter\", \"line\": {\"width\": 1.0167985173673035, \"color\": \"#888\"}, \"mode\": \"lines\"}, {\"hoverinfo\": \"none\", \"y\": [-5.340015312798051, -4.9158561143212465], \"x\": [-14.43856045774682, -14.914940275618951], \"type\": \"scatter\", \"line\": {\"width\": 2.2726446736519508, \"color\": \"#888\"}, \"mode\": \"lines\"}, {\"hoverinfo\": \"none\", \"y\": [-4.657229596896204, -4.9158561143212465], \"x\": [-13.929962859924492, -14.914940275618951], \"type\": \"scatter\", \"line\": {\"width\": 1.1089316483860638, \"color\": \"#888\"}, \"mode\": \"lines\"}, {\"hoverinfo\": \"none\", \"y\": [-5.867735650205169, -4.9158561143212465], \"x\": [-14.534578693420821, -14.914940275618951], \"type\": \"scatter\", \"line\": {\"width\": 1.2951378385510615, \"color\": \"#888\"}, \"mode\": \"lines\"}, {\"hoverinfo\": \"none\", \"y\": [-5.670154951244973, -4.9158561143212465], \"x\": [-13.94653562468436, -14.914940275618951], \"type\": \"scatter\", \"line\": {\"width\": 1.3270704938366504, \"color\": \"#888\"}, \"mode\": \"lines\"}, {\"hoverinfo\": \"none\", \"y\": [-6.083157751531359, -6.375222374074013], \"x\": [-11.985612255044712, -10.999768893206758], \"type\": \"scatter\", \"line\": {\"width\": 1.0312463278416266, \"color\": \"#888\"}, \"mode\": \"lines\"}, {\"hoverinfo\": \"none\", \"y\": [-6.852809272545492, -6.375222374074013], \"x\": [-10.246141118738755, -10.999768893206758], \"type\": \"scatter\", \"line\": {\"width\": 1.0079553659585874, \"color\": \"#888\"}, \"mode\": \"lines\"}, {\"hoverinfo\": \"none\", \"y\": [-6.375222374074013, -6.01143745957482], \"x\": [-10.999768893206758, -10.067557913534891], \"type\": \"scatter\", \"line\": {\"width\": 1.0867528801867548, \"color\": \"#888\"}, \"mode\": \"lines\"}, {\"hoverinfo\": \"none\", \"y\": [-5.876190550342591, -6.560713072991087], \"x\": [-13.611430736159944, -12.670155574037661], \"type\": \"scatter\", \"line\": {\"width\": 1.0948792638072153, \"color\": \"#888\"}, \"mode\": \"lines\"}, {\"hoverinfo\": \"none\", \"y\": [-6.979374153748573, -6.560713072991087], \"x\": [-13.770553405879493, -12.670155574037661], \"type\": \"scatter\", \"line\": {\"width\": 1.078982649507148, \"color\": \"#888\"}, \"mode\": \"lines\"}, {\"hoverinfo\": \"none\", \"y\": [-6.560713072991087, -7.21902777395607], \"x\": [-12.670155574037661, -12.885570200590106], \"type\": \"scatter\", \"line\": {\"width\": 1.075865858397991, \"color\": \"#888\"}, \"mode\": \"lines\"}, {\"hoverinfo\": \"none\", \"y\": [-5.206796894862642, -5.100824687457911], \"x\": [-16.853929849925986, -17.866002807707734], \"type\": \"scatter\", \"line\": {\"width\": 1.165453709031058, \"color\": \"#888\"}, \"mode\": \"lines\"}, {\"hoverinfo\": \"none\", \"y\": [-4.479264697716163, -5.100824687457911], \"x\": [-17.694988821261077, -17.866002807707734], \"type\": \"scatter\", \"line\": {\"width\": 1.0390282193040616, \"color\": \"#888\"}, \"mode\": \"lines\"}, {\"hoverinfo\": \"none\", \"y\": [-6.689195662075548, -7.21902777395607], \"x\": [-13.24315673940496, -12.885570200590106], \"type\": \"scatter\", \"line\": {\"width\": 1.1164940239974934, \"color\": \"#888\"}, \"mode\": \"lines\"}, {\"hoverinfo\": \"none\", \"y\": [-6.979374153748573, -7.21902777395607], \"x\": [-13.770553405879493, -12.885570200590106], \"type\": \"scatter\", \"line\": {\"width\": 1.2447500216097875, \"color\": \"#888\"}, \"mode\": \"lines\"}, {\"hoverinfo\": \"none\", \"y\": [-6.909290102969761, -7.21902777395607], \"x\": [-12.615706303724961, -12.885570200590106], \"type\": \"scatter\", \"line\": {\"width\": 1.239663977993973, \"color\": \"#888\"}, \"mode\": \"lines\"}, {\"hoverinfo\": \"none\", \"y\": [-6.038017673214097, -7.21902777395607], \"x\": [-13.273225990625084, -12.885570200590106], \"type\": \"scatter\", \"line\": {\"width\": 1.2038286935424476, \"color\": \"#888\"}, \"mode\": \"lines\"}, {\"hoverinfo\": \"none\", \"y\": [-6.560713072991087, -7.21902777395607], \"x\": [-12.670155574037661, -12.885570200590106], \"type\": \"scatter\", \"line\": {\"width\": 1.075865858397991, \"color\": \"#888\"}, \"mode\": \"lines\"}, {\"hoverinfo\": \"none\", \"y\": [-6.838172886473517, -5.529484149368032], \"x\": [-15.031880911245818, -15.013124154598115], \"type\": \"scatter\", \"line\": {\"width\": 1.1269710207281634, \"color\": \"#888\"}, \"mode\": \"lines\"}, {\"hoverinfo\": \"none\", \"y\": [-6.201254807051291, -5.529484149368032], \"x\": [-14.645765529985793, -15.013124154598115], \"type\": \"scatter\", \"line\": {\"width\": 1.1172234268593138, \"color\": \"#888\"}, \"mode\": \"lines\"}, {\"hoverinfo\": \"none\", \"y\": [-4.43010290727313, -5.529484149368032], \"x\": [-13.787919497620946, -15.013124154598115], \"type\": \"scatter\", \"line\": {\"width\": 1.0169021877525928, \"color\": \"#888\"}, \"mode\": \"lines\"}, {\"hoverinfo\": \"none\", \"y\": [-5.309789890205194, -5.529484149368032], \"x\": [-14.371871984258576, -15.013124154598115], \"type\": \"scatter\", \"line\": {\"width\": 1.7395038261794245, \"color\": \"#888\"}, \"mode\": \"lines\"}, {\"hoverinfo\": \"none\", \"y\": [-6.295317665169309, -5.529484149368032], \"x\": [-15.06299985540851, -15.013124154598115], \"type\": \"scatter\", \"line\": {\"width\": 1.4722270411545835, \"color\": \"#888\"}, \"mode\": \"lines\"}, {\"hoverinfo\": \"none\", \"y\": [-5.87173038695074, -5.529484149368032], \"x\": [-14.189771826738772, -15.013124154598115], \"type\": \"scatter\", \"line\": {\"width\": 1.5906730894489571, \"color\": \"#888\"}, \"mode\": \"lines\"}, {\"hoverinfo\": \"none\", \"y\": [-5.340015312798051, -5.529484149368032], \"x\": [-14.43856045774682, -15.013124154598115], \"type\": \"scatter\", \"line\": {\"width\": 2.0270887765427292, \"color\": \"#888\"}, \"mode\": \"lines\"}, {\"hoverinfo\": \"none\", \"y\": [-5.149943024367288, -5.529484149368032], \"x\": [-14.817113325705948, -15.013124154598115], \"type\": \"scatter\", \"line\": {\"width\": 1.106498364464699, \"color\": \"#888\"}, \"mode\": \"lines\"}, {\"hoverinfo\": \"none\", \"y\": [-6.0598151704403165, -5.529484149368032], \"x\": [-15.41477323554502, -15.013124154598115], \"type\": \"scatter\", \"line\": {\"width\": 1.3906614488536624, \"color\": \"#888\"}, \"mode\": \"lines\"}, {\"hoverinfo\": \"none\", \"y\": [-5.387738780527072, -5.529484149368032], \"x\": [-15.28225172984896, -15.013124154598115], \"type\": \"scatter\", \"line\": {\"width\": 1.478063701708963, \"color\": \"#888\"}, \"mode\": \"lines\"}, {\"hoverinfo\": \"none\", \"y\": [-6.329600572063244, -5.529484149368032], \"x\": [-15.264536165409725, -15.013124154598115], \"type\": \"scatter\", \"line\": {\"width\": 1.478343144437317, \"color\": \"#888\"}, \"mode\": \"lines\"}, {\"hoverinfo\": \"none\", \"y\": [-5.638625502914219, -5.529484149368032], \"x\": [-14.753566114591269, -15.013124154598115], \"type\": \"scatter\", \"line\": {\"width\": 1.040614552209747, \"color\": \"#888\"}, \"mode\": \"lines\"}, {\"hoverinfo\": \"none\", \"y\": [-5.867735650205169, -5.529484149368032], \"x\": [-14.534578693420821, -15.013124154598115], \"type\": \"scatter\", \"line\": {\"width\": 1.3914289384895409, \"color\": \"#888\"}, \"mode\": \"lines\"}, {\"hoverinfo\": \"none\", \"y\": [-5.529484149368032, -6.457956231183889], \"x\": [-15.013124154598115, -14.61875612341671], \"type\": \"scatter\", \"line\": {\"width\": 1.3254519840613108, \"color\": \"#888\"}, \"mode\": \"lines\"}, {\"hoverinfo\": \"none\", \"y\": [3.472963276886355, 4.168448266207457], \"x\": [-16.275597595647916, -15.726023199273929], \"type\": \"scatter\", \"line\": {\"width\": 1.023739986080041, \"color\": \"#888\"}, \"mode\": \"lines\"}, {\"hoverinfo\": \"none\", \"y\": [-3.0426116304140205, -3.3947456299180043], \"x\": [-14.346046867248967, -14.644076666866233], \"type\": \"scatter\", \"line\": {\"width\": 1.059544427587481, \"color\": \"#888\"}, \"mode\": \"lines\"}, {\"hoverinfo\": \"none\", \"y\": [-4.43010290727313, -3.3947456299180043], \"x\": [-13.787919497620946, -14.644076666866233], \"type\": \"scatter\", \"line\": {\"width\": 1.0122180204210627, \"color\": \"#888\"}, \"mode\": \"lines\"}, {\"hoverinfo\": \"none\", \"y\": [-4.5058576710257725, -3.3947456299180043], \"x\": [-15.270463960168538, -14.644076666866233], \"type\": \"scatter\", \"line\": {\"width\": 1.0641720417438782, \"color\": \"#888\"}, \"mode\": \"lines\"}, {\"hoverinfo\": \"none\", \"y\": [-3.3947456299180043, -3.4263177964459928], \"x\": [-14.644076666866233, -15.400830662632368], \"type\": \"scatter\", \"line\": {\"width\": 1.1273677457334534, \"color\": \"#888\"}, \"mode\": \"lines\"}, {\"hoverinfo\": \"none\", \"y\": [-3.3947456299180043, -4.598891617330923], \"x\": [-14.644076666866233, -14.813549771834133], \"type\": \"scatter\", \"line\": {\"width\": 1.0218224762401709, \"color\": \"#888\"}, \"mode\": \"lines\"}, {\"hoverinfo\": \"none\", \"y\": [-6.400656932273691, -7.368519936234171], \"x\": [-14.47810030254798, -14.251523252864162], \"type\": \"scatter\", \"line\": {\"width\": 1.10698679284716, \"color\": \"#888\"}, \"mode\": \"lines\"}, {\"hoverinfo\": \"none\", \"y\": [-5.938131240021356, -7.368519936234171], \"x\": [-14.790576922423055, -14.251523252864162], \"type\": \"scatter\", \"line\": {\"width\": 1.0262180960617426, \"color\": \"#888\"}, \"mode\": \"lines\"}, {\"hoverinfo\": \"none\", \"y\": [-6.491007842347108, -7.368519936234171], \"x\": [-14.200026977870785, -14.251523252864162], \"type\": \"scatter\", \"line\": {\"width\": 1.0364107351616023, \"color\": \"#888\"}, \"mode\": \"lines\"}, {\"hoverinfo\": \"none\", \"y\": [-6.325668381304119, -7.368519936234171], \"x\": [-13.54321562440723, -14.251523252864162], \"type\": \"scatter\", \"line\": {\"width\": 1.0856711298133694, \"color\": \"#888\"}, \"mode\": \"lines\"}, {\"hoverinfo\": \"none\", \"y\": [-6.507485318880583, -7.368519936234171], \"x\": [-14.895945710193905, -14.251523252864162], \"type\": \"scatter\", \"line\": {\"width\": 1.145445114520896, \"color\": \"#888\"}, \"mode\": \"lines\"}, {\"hoverinfo\": \"none\", \"y\": [-7.798367216956849, -7.368519936234171], \"x\": [-13.555182236786251, -14.251523252864162], \"type\": \"scatter\", \"line\": {\"width\": 1.0180330958204062, \"color\": \"#888\"}, \"mode\": \"lines\"}, {\"hoverinfo\": \"none\", \"y\": [-7.536130655725203, -7.368519936234171], \"x\": [-13.355349687799634, -14.251523252864162], \"type\": \"scatter\", \"line\": {\"width\": 1.0413919691563902, \"color\": \"#888\"}, \"mode\": \"lines\"}, {\"hoverinfo\": \"none\", \"y\": [-6.93972065520944, -7.368519936234171], \"x\": [-14.616955577935325, -14.251523252864162], \"type\": \"scatter\", \"line\": {\"width\": 1.1356608572780873, \"color\": \"#888\"}, \"mode\": \"lines\"}, {\"hoverinfo\": \"none\", \"y\": [-7.017099143443842, -7.368519936234171], \"x\": [-14.899682882110234, -14.251523252864162], \"type\": \"scatter\", \"line\": {\"width\": 1.0716382727419616, \"color\": \"#888\"}, \"mode\": \"lines\"}, {\"hoverinfo\": \"none\", \"y\": [-6.478932958412301, -7.368519936234171], \"x\": [-13.79014750687308, -14.251523252864162], \"type\": \"scatter\", \"line\": {\"width\": 1.0952915075625365, \"color\": \"#888\"}, \"mode\": \"lines\"}, {\"hoverinfo\": \"none\", \"y\": [-3.0426116304140205, -3.4263177964459928], \"x\": [-14.346046867248967, -15.400830662632368], \"type\": \"scatter\", \"line\": {\"width\": 1.0276082742675392, \"color\": \"#888\"}, \"mode\": \"lines\"}, {\"hoverinfo\": \"none\", \"y\": [-4.5058576710257725, -3.4263177964459928], \"x\": [-15.270463960168538, -15.400830662632368], \"type\": \"scatter\", \"line\": {\"width\": 1.0387838639467775, \"color\": \"#888\"}, \"mode\": \"lines\"}, {\"hoverinfo\": \"none\", \"y\": [-3.3947456299180043, -3.4263177964459928], \"x\": [-14.644076666866233, -15.400830662632368], \"type\": \"scatter\", \"line\": {\"width\": 1.1273677457334534, \"color\": \"#888\"}, \"mode\": \"lines\"}, {\"hoverinfo\": \"none\", \"y\": [-3.4263177964459928, -4.598891617330923], \"x\": [-15.400830662632368, -14.813549771834133], \"type\": \"scatter\", \"line\": {\"width\": 1.0049729373092302, \"color\": \"#888\"}, \"mode\": \"lines\"}, {\"hoverinfo\": \"none\", \"y\": [-4.4476025797803, -4.598891617330923], \"x\": [-14.871497661265048, -14.813549771834133], \"type\": \"scatter\", \"line\": {\"width\": 1.000399796657459, \"color\": \"#888\"}, \"mode\": \"lines\"}, {\"hoverinfo\": \"none\", \"y\": [-5.938131240021356, -4.598891617330923], \"x\": [-14.790576922423055, -14.813549771834133], \"type\": \"scatter\", \"line\": {\"width\": 1.14065775250979, \"color\": \"#888\"}, \"mode\": \"lines\"}, {\"hoverinfo\": \"none\", \"y\": [-5.309789890205194, -4.598891617330923], \"x\": [-14.371871984258576, -14.813549771834133], \"type\": \"scatter\", \"line\": {\"width\": 1.1972331711801998, \"color\": \"#888\"}, \"mode\": \"lines\"}, {\"hoverinfo\": \"none\", \"y\": [-5.340015312798051, -4.598891617330923], \"x\": [-14.43856045774682, -14.813549771834133], \"type\": \"scatter\", \"line\": {\"width\": 1.1820325920296575, \"color\": \"#888\"}, \"mode\": \"lines\"}, {\"hoverinfo\": \"none\", \"y\": [-5.149943024367288, -4.598891617330923], \"x\": [-14.817113325705948, -14.813549771834133], \"type\": \"scatter\", \"line\": {\"width\": 1.5356393979216454, \"color\": \"#888\"}, \"mode\": \"lines\"}, {\"hoverinfo\": \"none\", \"y\": [-4.5058576710257725, -4.598891617330923], \"x\": [-15.270463960168538, -14.813549771834133], \"type\": \"scatter\", \"line\": {\"width\": 1.651069403466463, \"color\": \"#888\"}, \"mode\": \"lines\"}, {\"hoverinfo\": \"none\", \"y\": [-5.024824129450616, -4.598891617330923], \"x\": [-14.094060124693677, -14.813549771834133], \"type\": \"scatter\", \"line\": {\"width\": 1.0434783024942098, \"color\": \"#888\"}, \"mode\": \"lines\"}, {\"hoverinfo\": \"none\", \"y\": [-5.537184150233229, -4.598891617330923], \"x\": [-15.573741906957562, -14.813549771834133], \"type\": \"scatter\", \"line\": {\"width\": 1.0278805197458825, \"color\": \"#888\"}, \"mode\": \"lines\"}, {\"hoverinfo\": \"none\", \"y\": [-4.948323816069961, -4.598891617330923], \"x\": [-13.862864446562623, -14.813549771834133], \"type\": \"scatter\", \"line\": {\"width\": 1.1495563524753216, \"color\": \"#888\"}, \"mode\": \"lines\"}, {\"hoverinfo\": \"none\", \"y\": [-3.3947456299180043, -4.598891617330923], \"x\": [-14.644076666866233, -14.813549771834133], \"type\": \"scatter\", \"line\": {\"width\": 1.0218224762401709, \"color\": \"#888\"}, \"mode\": \"lines\"}, {\"hoverinfo\": \"none\", \"y\": [-3.4263177964459928, -4.598891617330923], \"x\": [-15.400830662632368, -14.813549771834133], \"type\": \"scatter\", \"line\": {\"width\": 1.0049729373092302, \"color\": \"#888\"}, \"mode\": \"lines\"}, {\"hoverinfo\": \"none\", \"y\": [-6.838172886473517, -6.457956231183889], \"x\": [-15.031880911245818, -14.61875612341671], \"type\": \"scatter\", \"line\": {\"width\": 1.8293488207175532, \"color\": \"#888\"}, \"mode\": \"lines\"}, {\"hoverinfo\": \"none\", \"y\": [-6.201254807051291, -6.457956231183889], \"x\": [-14.645765529985793, -14.61875612341671], \"type\": \"scatter\", \"line\": {\"width\": 1.1146414038575085, \"color\": \"#888\"}, \"mode\": \"lines\"}, {\"hoverinfo\": \"none\", \"y\": [-7.34091427117728, -6.457956231183889], \"x\": [-14.610294342996928, -14.61875612341671], \"type\": \"scatter\", \"line\": {\"width\": 1.1455749507040294, \"color\": \"#888\"}, \"mode\": \"lines\"}, {\"hoverinfo\": \"none\", \"y\": [-5.309789890205194, -6.457956231183889], \"x\": [-14.371871984258576, -14.61875612341671], \"type\": \"scatter\", \"line\": {\"width\": 1.089909315951797, \"color\": \"#888\"}, \"mode\": \"lines\"}, {\"hoverinfo\": \"none\", \"y\": [-6.295317665169309, -6.457956231183889], \"x\": [-15.06299985540851, -14.61875612341671], \"type\": \"scatter\", \"line\": {\"width\": 1.027904451194665, \"color\": \"#888\"}, \"mode\": \"lines\"}, {\"hoverinfo\": \"none\", \"y\": [-5.87173038695074, -6.457956231183889], \"x\": [-14.189771826738772, -14.61875612341671], \"type\": \"scatter\", \"line\": {\"width\": 1.3004335332881456, \"color\": \"#888\"}, \"mode\": \"lines\"}, {\"hoverinfo\": \"none\", \"y\": [-6.979374153748573, -6.457956231183889], \"x\": [-13.770553405879493, -14.61875612341671], \"type\": \"scatter\", \"line\": {\"width\": 1.0027186546159308, \"color\": \"#888\"}, \"mode\": \"lines\"}, {\"hoverinfo\": \"none\", \"y\": [-7.033495540347158, -6.457956231183889], \"x\": [-13.387726540267733, -14.61875612341671], \"type\": \"scatter\", \"line\": {\"width\": 1.0197896529476522, \"color\": \"#888\"}, \"mode\": \"lines\"}, {\"hoverinfo\": \"none\", \"y\": [-5.340015312798051, -6.457956231183889], \"x\": [-14.43856045774682, -14.61875612341671], \"type\": \"scatter\", \"line\": {\"width\": 1.077722628508547, \"color\": \"#888\"}, \"mode\": \"lines\"}, {\"hoverinfo\": \"none\", \"y\": [-5.149943024367288, -6.457956231183889], \"x\": [-14.817113325705948, -14.61875612341671], \"type\": \"scatter\", \"line\": {\"width\": 1.151756002717777, \"color\": \"#888\"}, \"mode\": \"lines\"}, {\"hoverinfo\": \"none\", \"y\": [-6.0598151704403165, -6.457956231183889], \"x\": [-15.41477323554502, -14.61875612341671], \"type\": \"scatter\", \"line\": {\"width\": 1.1165727971710275, \"color\": \"#888\"}, \"mode\": \"lines\"}, {\"hoverinfo\": \"none\", \"y\": [-6.329600572063244, -6.457956231183889], \"x\": [-15.264536165409725, -14.61875612341671], \"type\": \"scatter\", \"line\": {\"width\": 1.0239793226778227, \"color\": \"#888\"}, \"mode\": \"lines\"}, {\"hoverinfo\": \"none\", \"y\": [-5.638625502914219, -6.457956231183889], \"x\": [-14.753566114591269, -14.61875612341671], \"type\": \"scatter\", \"line\": {\"width\": 1.053502937462228, \"color\": \"#888\"}, \"mode\": \"lines\"}, {\"hoverinfo\": \"none\", \"y\": [-5.867735650205169, -6.457956231183889], \"x\": [-14.534578693420821, -14.61875612341671], \"type\": \"scatter\", \"line\": {\"width\": 1.0437708461110915, \"color\": \"#888\"}, \"mode\": \"lines\"}, {\"hoverinfo\": \"none\", \"y\": [-5.806596942822509, -6.457956231183889], \"x\": [-15.497439241197572, -14.61875612341671], \"type\": \"scatter\", \"line\": {\"width\": 1.1856153212912333, \"color\": \"#888\"}, \"mode\": \"lines\"}, {\"hoverinfo\": \"none\", \"y\": [-5.529484149368032, -6.457956231183889], \"x\": [-15.013124154598115, -14.61875612341671], \"type\": \"scatter\", \"line\": {\"width\": 1.3254519840613108, \"color\": \"#888\"}, \"mode\": \"lines\"}, {\"hoverinfo\": \"none\", \"y\": [-6.457956231183889, -7.702450581418244], \"x\": [-14.61875612341671, -14.813500584136921], \"type\": \"scatter\", \"line\": {\"width\": 1.0489272549700317, \"color\": \"#888\"}, \"mode\": \"lines\"}, {\"hoverinfo\": \"none\", \"y\": [-6.375222374074013, -6.01143745957482], \"x\": [-10.999768893206758, -10.067557913534891], \"type\": \"scatter\", \"line\": {\"width\": 1.0867528801867548, \"color\": \"#888\"}, \"mode\": \"lines\"}, {\"hoverinfo\": \"none\", \"y\": [-5.32928344518222, -6.052174784794521], \"x\": [-13.875537710711491, -12.761106201381423], \"type\": \"scatter\", \"line\": {\"width\": 1.139791026075272, \"color\": \"#888\"}, \"mode\": \"lines\"}, {\"hoverinfo\": \"none\", \"y\": [-5.87173038695074, -6.052174784794521], \"x\": [-14.189771826738772, -12.761106201381423], \"type\": \"scatter\", \"line\": {\"width\": 1.0926655470758238, \"color\": \"#888\"}, \"mode\": \"lines\"}, {\"hoverinfo\": \"none\", \"y\": [-5.142310599034572, -6.052174784794521], \"x\": [-13.222042469817788, -12.761106201381423], \"type\": \"scatter\", \"line\": {\"width\": 1.1226976775080013, \"color\": \"#888\"}, \"mode\": \"lines\"}, {\"hoverinfo\": \"none\", \"y\": [-5.664048510630685, -6.052174784794521], \"x\": [-11.978799223750462, -12.761106201381423], \"type\": \"scatter\", \"line\": {\"width\": 1.0835187560359603, \"color\": \"#888\"}, \"mode\": \"lines\"}, {\"hoverinfo\": \"none\", \"y\": [-5.733405128642964, -6.052174784794521], \"x\": [-13.390218289739371, -12.761106201381423], \"type\": \"scatter\", \"line\": {\"width\": 1.014786162987643, \"color\": \"#888\"}, \"mode\": \"lines\"}, {\"hoverinfo\": \"none\", \"y\": [-5.37815957036336, -6.052174784794521], \"x\": [-13.193598012960688, -12.761106201381423], \"type\": \"scatter\", \"line\": {\"width\": 1.00190217130656, \"color\": \"#888\"}, \"mode\": \"lines\"}, {\"hoverinfo\": \"none\", \"y\": [-7.033495540347158, -7.702450581418244], \"x\": [-13.387726540267733, -14.813500584136921], \"type\": \"scatter\", \"line\": {\"width\": 1.0700143707609076, \"color\": \"#888\"}, \"mode\": \"lines\"}, {\"hoverinfo\": \"none\", \"y\": [-6.457956231183889, -7.702450581418244], \"x\": [-14.61875612341671, -14.813500584136921], \"type\": \"scatter\", \"line\": {\"width\": 1.0489272549700317, \"color\": \"#888\"}, \"mode\": \"lines\"}, {\"hoverinfo\": \"none\", \"y\": [-6.325668381304119, -7.176854929509352], \"x\": [-13.54321562440723, -12.520915935463885], \"type\": \"scatter\", \"line\": {\"width\": 1.222713154871356, \"color\": \"#888\"}, \"mode\": \"lines\"}, {\"hoverinfo\": \"none\", \"y\": [-3.9899647066405595, -3.9299109157582914], \"x\": [-13.996742299482742, -14.265225489671783], \"type\": \"scatter\", \"line\": {\"width\": 1.4590317114047062, \"color\": \"#888\"}, \"mode\": \"lines\"}, {\"hoverinfo\": \"none\", \"y\": [-2.8918310027628173, -3.9299109157582914], \"x\": [-13.571478264075706, -14.265225489671783], \"type\": \"scatter\", \"line\": {\"width\": 1.0182271896430728, \"color\": \"#888\"}, \"mode\": \"lines\"}, {\"hoverinfo\": \"none\", \"y\": [-5.309789890205194, -3.9299109157582914], \"x\": [-14.371871984258576, -14.265225489671783], \"type\": \"scatter\", \"line\": {\"width\": 1.2813328864664955, \"color\": \"#888\"}, \"mode\": \"lines\"}, {\"hoverinfo\": \"none\", \"y\": [-3.229877120455521, -3.9299109157582914], \"x\": [-13.445922253012837, -14.265225489671783], \"type\": \"scatter\", \"line\": {\"width\": 1.0468996025352004, \"color\": \"#888\"}, \"mode\": \"lines\"}, {\"hoverinfo\": \"none\", \"y\": [-2.900222090616298, -3.9299109157582914], \"x\": [-14.609022694834321, -14.265225489671783], \"type\": \"scatter\", \"line\": {\"width\": 1.133629876515718, \"color\": \"#888\"}, \"mode\": \"lines\"}, {\"hoverinfo\": \"none\", \"y\": [-5.340015312798051, -3.9299109157582914], \"x\": [-14.43856045774682, -14.265225489671783], \"type\": \"scatter\", \"line\": {\"width\": 1.2684677691401385, \"color\": \"#888\"}, \"mode\": \"lines\"}, {\"hoverinfo\": \"none\", \"y\": [-2.91931092816861, -3.9299109157582914], \"x\": [-14.08296077725767, -14.265225489671783], \"type\": \"scatter\", \"line\": {\"width\": 1.4945432348836736, \"color\": \"#888\"}, \"mode\": \"lines\"}, {\"hoverinfo\": \"text\", \"y\": [3.3500452338879425, -3.72204827696227, -0.10927399751245254, 2.7597529883141663, -5.32928344518222, -5.048295447133072, 1.3324106526763924, 1.8128224430709403, 4.30037192941897, -4.920766736253973, -2.4627044312828725, -2.16997626282708, 2.0041417027951165, 0.14833356250679602, 3.9536194228828276, -5.464656038819423, 4.269212475785679, -4.4476025797803, -6.0025936578907055, -3.9899647066405595, -7.849823638865185, -4.997657926517953, -5.531850608732078, -0.9980685387697906, -1.8631268355922337, -7.567300842448139, -4.341927308619159, 2.077720627991576, -2.156773627237745, 3.2077062244221772, -1.2097778779039277, 1.7473034937992833, -4.7295253742747505, 2.9878985313295887, -4.331536967157103, -6.400656932273691, 3.937377628535035, -7.586881209202562, -3.0426116304140205, -5.155684006072663, -4.37128180082043, 2.8596582224576563, -2.202834356611686, -5.938131240021356, -3.2493446154633276, 1.4516582156974511, -2.1222013088418654, -2.8918310027628173, -4.907635561614265, 2.836013149020437, -6.838172886473517, 0.42357268072509513, -0.2937498136765137, 3.736442861580407, -5.206796894862642, 4.968470551459686, -3.5288621511908427, -3.0707153765384603, 4.143641997559804, 0.4565068393884585, -6.223428463540844, -6.201254807051291, -7.34091427117728, -1.3033012516271945, 0.8362717388414874, -6.689195662075548, -5.566587789910302, 1.4296409177792102, 2.697920918097788, -0.5781182980622648, -4.814867740596674, 0.5216580780527783, -5.876190550342591, -4.43010290727313, -5.309789890205194, 1.9774134918177113, -2.8322557421384027, -0.4395092358071401, -7.277572243361705, 0.8725277353393864, -0.3378096291355957, -5.924729640631664, 2.414953612321502, -6.295317665169309, -0.5379619259378084, -3.315088065905645, 3.392934512293995, 4.66927531188247, -6.491007842347108, -5.367590516567743, -3.299270781082906, -4.718698595445405, -7.48974954779173, -6.888856057905963, -5.87173038695074, -6.736423468652748, -6.325668381304119, 1.4905610434719252, -5.634570573180639, 3.5674767716551976, -3.229877120455521, 2.7241682082273706, -0.3453648916901289, 3.1712619231012895, -2.276099893046741, 4.488478907603388, -3.7895448546746207, -5.142310599034572, -7.94155896698412, -5.930339137052623, -6.979374153748573, 2.5727954902282275, 1.86305817938782, -4.280409836365334, -7.033495540347158, -5.589642377557384, 2.4731819549983896, -2.900222090616298, -5.340015312798051, -1.616868384976179, 2.195447303715368, -6.106942030786656, -4.080508516917675, -6.896377114987738, 0.7475053637577607, -5.151451315824695, 3.842756612426725, -3.918703856617983, 0.43846519172104853, -4.390247982935071, -4.402358898230442, 4.596967850927622, 4.093127897403976, -5.1083541514665365, -2.12035182822722, -6.507485318880583, 2.840483446988051, -6.832951899584617, -5.149943024367288, -3.7533718180893545, 2.536205021411447, -7.798367216956849, 0.8354258622178942, -7.536130655725203, -6.93972065520944, 0.3774416392754466, -5.679377352894312, 2.093217485170761, -4.1344958309908195, -3.2598539629849386, 3.6159138176824213, -6.583920240965175, -6.0598151704403165, 4.886685904186883, -2.91931092816861, -4.636006372940541, -3.5077071554974637, -4.7303986275351155, -4.5058576710257725, -5.916024529055278, 3.767058158114227, 4.097139609040481, 1.0265196601417719, 3.2533930515619813, -7.017099143443842, -5.387738780527072, -7.085519835317674, 1.1790098293631488, 2.2284146376125036, 3.472963276886355, -1.4414964827966006, 0.11582522393095539, -0.8019955899026534, -5.024824129450616, -7.89544110645823, 1.4647882037567121, 1.9014101903728275, -5.590205519431617, 3.2387561293085803, 1.2658094963546709, -6.3666290923353985, -1.6286719858856322, 2.015300954884207, -4.216353478321253, 1.9916240104549672, -6.6072067290490715, -6.193450742401886, 2.1780318587774894, -2.71514241413126, -6.083157751531359, 4.381079460666279, 1.9889778929332573, -6.329600572063244, -6.909290102969761, -2.6218584841266863, -4.699406978801323, -0.26402668175318195, -6.355602529130001, 4.12424304394585, 1.5092792328132025, 4.878872018581003, 0.7191148789943658, -5.664048510630685, -6.138199857768167, 3.7735969480678975, -3.368816112890574, -4.229563211540952, -4.840032384087389, 1.7167798745645613, -6.478932958412301, -5.638625502914219, 4.153837359341193, -4.657229596896204, -4.563713429774501, -5.733405128642964, 3.567668912992538, -2.9012564940076726, -4.310670236828554, -5.726698746391567, -6.038017673214097, 0.10371626251172848, 4.802982720954687, -5.511900788772261, -5.964517603260667, 2.1728176650111464, 4.681633855592412, 4.421671745054652, 1.4208121420539825, -9.212565350306901, 3.2347191326979, -5.867735650205169, -0.7355970398840043, 1.4604912495412343, -5.537184150233229, 4.393604319949954, -2.919353324630097, -4.193392152224972, -7.364165177722024, 1.6120578872615365, -1.7590755683849963, 2.6067091511826677, -3.5884130542935395, 4.78369453957654, 0.9743549840104115, 3.166601021487981, -4.133770859505214, -0.8533893721280112, 3.462596947966528, -5.620675211727626, 2.6492440475202015, -1.135080241497009, -1.1573388756706557, -8.419346170035725, -4.948323816069961, -4.746623249059541, -1.2188774557236897, -0.734250283904104, 1.9936568055327668, 3.6414801842408226, -4.675896407068778, -5.071548520780777, 2.7278720592525088, -5.699164844873593, -8.539402461952823, 2.6567307450672972, 3.601118024195489, -4.635376105040488, -3.427102566484568, -5.37815957036336, -3.599542387158948, -8.017373646677502, -6.852809272545492, -3.2385614430233933, 0.9249305679404105, 0.8633402346584658, 3.4923781634703834, -2.038597755416471, 1.1434859011978096, -8.904033643593513, 2.9443056051994283, -5.182142963286871, 4.807432003708958, 4.937691601824357, -4.479264697716163, -4.063257079581255, -4.868046072043308, 0.26242261267772515, -5.474202923270306, -5.026183788768841, 2.468738406410987, -5.670154951244973, 2.8585806140341923, -5.806596942822509, -1.9055694080867251, 2.1015773570535576, 0.08976932130424095, -3.876404275601538, -4.9158561143212465, -6.375222374074013, -6.560713072991087, -5.100824687457911, -2.512398650121046, 2.0728847584011345, -4.212554914000195, -7.21902777395607, -5.529484149368032, 4.168448266207457, 0.03455434442993846, -1.757711337877467, -1.7386588095106434, -3.3947456299180043, -7.368519936234171, -3.4263177964459928, -4.598891617330923, -6.457956231183889, -6.01143745957482, -6.052174784794521, 4.8643861858180815, 4.2839629921127775, 4.719251135348344, -7.702450581418244, -7.176854929509352, -3.9299109157582914], \"showlegend\": true, \"x\": [-12.791694856697605, -7.421418756846107, -9.13892112059935, -12.358110398384234, -13.875537710711491, -10.375425299204139, -10.012865436534561, -18.024637616387505, -13.680543652789536, -15.643188614776893, -6.673018507957949, -20.490564487456, -12.416271014206234, -7.628116181641645, -16.5343644467867, -13.527157887205975, -10.783557959520174, -14.871497661265048, -14.954468630341605, -13.996742299482742, -13.707691486982672, -14.362059659931681, -13.707209565894951, -7.180472216471618, -13.775376605956216, -14.121106121702685, -20.721224786113666, -17.1191815215398, -7.212942529383924, -17.553219122470008, -7.780094117740633, -11.829559560406214, -11.963572497166131, -18.136112586613294, -15.1943392716613, -14.47810030254798, -17.386622802542977, -10.126903261473295, -14.346046867248967, -12.635773186908066, -13.488565177169946, -13.937210056961858, -12.768571916377084, -14.790576922423055, -6.872760368500517, -11.244240282210873, -20.932780867477675, -13.571478264075706, -15.190594501558186, -18.82165975260408, -15.031880911245818, -18.680709033530196, -6.929253335648102, -17.75407818565452, -16.853929849925986, -13.470446214948264, -13.09713495454668, -15.337884524937785, -17.032016300951927, -9.816578777142215, -7.719186418261747, -14.645765529985793, -14.610294342996928, -20.066469363274162, -19.705208904637782, -13.24315673940496, -16.060753847986447, -17.22257725763278, -16.247519470395954, -8.703392728518546, -13.270489320443948, -7.2105040609706235, -13.611430736159944, -13.787919497620946, -14.371871984258576, -8.00958549100841, -7.6285249237951955, -7.403688628703874, -15.941719530610088, -8.430271282532775, -19.4342956933954, -16.47167403284231, -18.47608267276863, -15.06299985540851, -8.04081404219276, -12.371455468108477, -14.782715618588421, -15.825416099455003, -14.200026977870785, -15.717211012483808, -7.441354495590628, -16.369973290532833, -15.471579657370995, -14.220471909568893, -14.189771826738772, -15.851128569030708, -13.54321562440723, -19.863274094336887, -15.150173669132453, -15.655455770343659, -13.445922253012837, -13.259356029280449, -20.648867330217403, -18.522795656812793, -7.776811139876211, -16.19470776053283, -20.791734982355354, -13.222042469817788, -12.235378998295207, -13.88035938362524, -13.770553405879493, -8.495261606010882, -19.64060825529381, -6.950835021125967, -13.387726540267733, -14.337115099508948, -11.632134763637355, -14.609022694834321, -14.43856045774682, -7.274427767968971, -19.389929115286847, -17.70580069741524, -14.531025161560613, -17.398305802687364, -20.258947710232025, -15.630598463545166, -9.987279805570436, -6.93342515671077, -9.008014263412713, -12.781972190065094, -14.048169730697897, -11.541409681496233, -10.367047535096885, -12.033468151975097, -15.43199205428211, -14.895945710193905, -8.793386183798976, -13.981029096872376, -14.817113325705948, -16.00047798583634, -19.118467699068894, -13.555182236786251, -18.241854633496402, -13.355349687799634, -14.616955577935325, -20.395302642821868, -17.258365055378444, -15.478298874474142, -20.812533398291034, -16.971928943219055, -9.586966447195728, -16.41109013839647, -15.41477323554502, -14.654810221702519, -14.08296077725767, -12.518872512671223, -15.81962269574201, -12.71233501434269, -15.270463960168538, -15.24633057040751, -14.209287523861024, -11.658614554888103, -10.49470355259253, -10.049175856228072, -14.899682882110234, -15.28225172984896, -16.187984692240587, -17.76250177776421, -8.299654718213185, -16.275597595647916, -20.68562105666432, -7.063285890399681, -19.751366289380556, -14.094060124693677, -11.139560350679432, -8.960479987364074, -10.473368711807028, -16.71299347461052, -9.439952949594197, -7.631010629060515, -12.1142728460046, -6.7103159382413855, -16.074873967249907, -14.419498108553507, -9.619298873453001, -12.240895411845935, -13.894885252196177, -13.983004156084545, -7.115229351308848, -11.985612255044712, -14.433341977023286, -18.901008436064362, -15.264536165409725, -12.615706303724961, -20.598130097473337, -7.433214376322379, -20.072128038020647, -16.267835709249958, -15.031850675841348, -8.299742005702292, -12.760889801443795, -7.8420263406426685, -11.978799223750462, -16.660753934328383, -11.094891031559193, -20.478424288576363, -11.072829348576285, -16.785895922940433, -16.55101936751339, -13.79014750687308, -14.753566114591269, -13.002486050860597, -13.929962859924492, -14.475455276486759, -13.390218289739371, -13.506775998137794, -20.891544635054952, -16.303060544747147, -17.872139148439057, -13.273225990625084, -19.136102746014508, -15.034910843310591, -12.164876803560634, -7.596574347744786, -10.977916773592039, -11.962583560172003, -11.153991413543892, -18.60208194906342, -14.84114221746566, -11.550280378317726, -14.534578693420821, -20.765387175742834, -19.32018091610296, -15.573741906957562, -16.62116348959688, -6.670127019385477, -14.933185749715992, -15.634320764752584, -7.776628874709879, -8.003839328946258, -9.332909137248176, -21.13125455792967, -13.133795174946544, -9.442950903218682, -9.045164320801426, -12.241731349316966, -20.30889640379452, -17.051515082605246, -13.104395642507322, -14.733694465052887, -20.86709874582959, -8.365039478768855, -12.924120964256007, -13.862864446562623, -13.675589562249908, -6.734010448486848, -6.805284047746773, -13.135557863345687, -12.141184455965227, -15.438938010325261, -13.595012385775345, -16.98941606596727, -7.520617012901511, -14.531892159066423, -10.054236951931182, -10.522527209015633, -7.046474158106071, -11.494231615078888, -13.193598012960688, -6.773464595472113, -14.500335134000432, -10.246141118738755, -20.865522260525488, -7.38063520159107, -19.09134664012111, -18.119835408778254, -6.682087475178737, -20.09289064947903, -15.673912440502377, -10.858252560086285, -7.469831609790292, -12.362587908218854, -14.234083971011287, -17.694988821261077, -17.53685282493772, -11.368386546885946, -19.79202496973636, -7.3629914688211375, -7.170781107354456, -17.75572095633491, -13.94653562468436, -15.465817951369965, -15.497439241197572, -14.712868500732165, -8.874407306993195, -8.338931859661658, -12.970106380325237, -14.914940275618951, -10.999768893206758, -12.670155574037661, -17.866002807707734, -20.96582680490951, -14.709888394430271, -7.41297466354123, -12.885570200590106, -15.013124154598115, -15.726023199273929, -20.53918392299664, -20.303861810989936, -20.93743070493518, -14.644076666866233, -14.251523252864162, -15.400830662632368, -14.813549771834133, -14.61875612341671, -10.067557913534891, -12.761106201381423, -13.860376362168155, -12.407266435935849, -15.402273870946145, -14.813500584136921, -12.520915935463885, -14.265225489671783], \"type\": \"scatter\", \"marker\": {\"size\": 10, \"reversescale\": true, \"colorscale\": \"Jet\", \"color\": [0, 1, 1, 0, 0, 1, 1, 1, 1, 0, 1, 1, 0, 1, 0, 0, 0, 0, 0, 0, 0, 0, 0, 1, 1, 0, 1, 1, 1, 1, 1, 1, 1, 1, 0, 0, 1, 0, 1, 1, 0, 1, 1, 0, 1, 1, 0, 1, 0, 1, 0, 1, 1, 1, 1, 1, 1, 1, 1, 1, 1, 0, 0, 1, 0, 0, 0, 1, 1, 1, 0, 1, 0, 0, 0, 1, 1, 1, 0, 1, 1, 1, 0, 0, 1, 1, 1, 1, 0, 0, 1, 1, 0, 0, 0, 1, 0, 1, 0, 1, 1, 1, 1, 1, 0, 0, 1, 0, 0, 0, 0, 1, 1, 1, 0, 0, 1, 1, 0, 1, 1, 1, 1, 1, 1, 0, 1, 1, 1, 1, 0, 1, 1, 0, 1, 0, 1, 0, 0, 0, 1, 0, 0, 0, 0, 1, 1, 1, 1, 1, 1, 1, 0, 1, 1, 0, 1, 1, 0, 0, 1, 0, 1, 1, 0, 0, 1, 1, 1, 1, 1, 1, 1, 0, 0, 1, 1, 1, 1, 1, 0, 1, 1, 0, 1, 1, 0, 1, 1, 0, 1, 1, 0, 1, 1, 1, 1, 1, 1, 1, 1, 1, 0, 1, 1, 1, 1, 1, 1, 1, 0, 1, 0, 0, 0, 1, 1, 0, 1, 0, 1, 1, 0, 1, 1, 1, 1, 1, 1, 1, 0, 1, 1, 1, 1, 1, 0, 0, 1, 1, 1, 0, 1, 1, 1, 1, 1, 1, 1, 0, 1, 1, 0, 0, 0, 0, 1, 1, 1, 0, 0, 0, 1, 1, 1, 1, 1, 1, 0, 1, 0, 1, 1, 1, 0, 1, 0, 1, 1, 1, 1, 1, 1, 1, 1, 1, 1, 1, 1, 1, 0, 1, 0, 1, 1, 1, 0, 0, 1, 0, 1, 1, 1, 1, 1, 0, 1, 1, 1, 1, 1, 0, 1, 0, 0, 1, 0, 1, 1, 1, 1, 1, 1], \"line\": {\"width\": 2}, \"colorbar\": {\"xanchor\": \"left\", \"titleside\": \"right\", \"title\": \"\", \"thickness\": 15}, \"showscale\": false}, \"text\": [\"Winners: Tom Brady\\u2019s (0)\", \"3 suspects handed te (1)\", \"David Brooks: I Fear (1)\", \"Scuffling, heckling  (0)\", \"Former Clinton aides (0)\", \"Krauthammer: Rewrite (1)\", \"Is it a dream or a n (1)\", \"New approach for the (1)\", \"Marilyn's dress to B (1)\", \"Autism diagnosis by  (0)\", \"PPE: the Oxford degr (1)\", \"Dresses that tell a  (1)\", \"Fight breaks out in  (0)\", \"Ageing gracefully as (1)\", \"Kremlin: Turkey gave (0)\", \"Who is Paul Manafort (0)\", \"IAAF clears 3 more R (0)\", \"21 more questions fo (0)\", \"FT podcast: World We (0)\", \"French officials str (0)\", \"After April\\u2019s March  (0)\", \"Dems gird for battle (0)\", \"King: Leakers should (0)\", \"Free Network Foundat (1)\", \"Portuguese teens who (1)\", \"Clearly, the Trump a (0)\", \"The Wove Band: Don't (1)\", \"Catwalk models put c (1)\", \"To better understand (1)\", \"Facebook CEO Mark Zu (1)\", \"Cartel Radio Network (1)\", \"Krauthammer: 9th Cir (1)\", \"CNN Review: 'Big Lit (1)\", \"Love your local? Liv (1)\", \"Nick Cannon Quits \\u2018A (0)\", \"Ann Coulter on Trump (0)\", \"MILO to Appear on Re (1)\", \"Senator who disclose (0)\", \"It's North Korea's f (1)\", \"Schlapp: Trump needs (1)\", \"Master the art of pr (0)\", \"How quantum effects  (1)\", \"UFC Fighter Responds (1)\", \"NYT\\u2019s Thomas Friedma (0)\", \"Absurd Creatures | C (1)\", \"Game|Life - Greg Kas (1)\", \"Columnist: Flynn's o (0)\", \"Texas Sheriff Dupes  (1)\", \"Dem Sen Murphy: Trum (0)\", \"Mexican says she was (1)\", \"Abrams: Flynn 'piece (0)\", \"Japan pension fund i (1)\", \"Knicks owner James D (1)\", \"Q&amp;A: \\\"La La Land (1)\", \"Do Charles Darwin's  (1)\", \"School curricula are (1)\", \"Banking Collapse of  (1)\", \"A world safe for rob (1)\", \"All Work and All Pla (1)\", \"Bunscoil an L\\u00fair: Re (1)\", \"Prescription-drug mo (1)\", \"Guardian Opinion Wri (0)\", \"Deportation orders t (0)\", \"Murdoch secretly sat (1)\", \"Pressure builds for  (0)\", \"Spicer: 'Clearly mea (0)\", \"China \\u2018Highly Commen (0)\", \"Brussels watchdog la (1)\", \"Fujitsu develops ana (1)\", \"Chiefs GM non-commit (1)\", \"Watch: Ellison Press (0)\", \"Who is Charles Woodb (1)\", \"Maxine Waters: Trump (0)\", \"WaPo\\u2019s Ruth Marcus:  (0)\", \"FBI refused White Ho (0)\", \"Tyrese Gibson on 'un (1)\", \"Nigeria court: Forfe (1)\", \"Researchers clearly  (1)\", \"36 Top State Republi (0)\", \"Campaigners reject p (1)\", \"Twin tragedies give  (1)\", \"Scientists show how  (1)\", \"Terror fears take to (0)\", \"Michael Wolff: Media (0)\", \"Pope says indigenous (1)\", \"HBOS manager and oth (1)\", \"Attackers can make i (1)\", \"Kellyanne Conway's r (1)\", \"Scarborough: Trump M (0)\", \"Russians remain pati (0)\", \"Reading, Writing, An (1)\", \"Peter King: Leaks Ag (1)\", \"Michelle Malkin blas (0)\", \"Should financial adv (0)\", \"CNN\\u2019s Acosta: Trump  (0)\", \"Facebook \\u2018Fake News\\u2019 (1)\", \"Opinion: Facts still (0)\", \"Designing the best c (1)\", \"Pelosi Calls for FBI (0)\", \"Six Nations 2017: Sc (1)\", \"Lloyds apologises fo (1)\", \"Troops deploy to pro (1)\", \"No Tiger is no longe (1)\", \"Goodwin: Trump can q (1)\", \"Squirrels Keep Menac (0)\", \"The Russians Are NOT (0)\", \"Soft skills training (1)\", \"New York Times Accus (0)\", \"How Congress could g (0)\", \"First on CNN: John K (0)\", \"Nancy Pelosi: \\u2018We\\u2019ve (0)\", \"Green Investment Ban (1)\", \"Personal attacks on  (1)\", \"'Hamilton' creator s (1)\", \"At 70, JBL still kno (0)\", \"US officials corrobo (0)\", \"Ex-NY Knick Oakley d (1)\", \"Six billion plastic  (1)\", \"Original Doc (0)\", \"Before the Beatles (1)\", \"How languages shape  (1)\", \"Oakley's ban from Ma (1)\", \"Do we need a credit  (1)\", \"University of Washin (1)\", \"Half of Welsh counci (1)\", \"Sen. Johnson on Flyn (0)\", \"Russian's ban may ma (1)\", \"Researchers develop  (1)\", \"TalkTalk: reconnecti (1)\", \"Fraud case and falli (1)\", \"FT column: Donald Tr (0)\", \"The Noble Writer - S (1)\", \"Waiver yet to be sec (1)\", \"Source: \\\"knives out\\\" (0)\", \"Body of Egypt's so-c (1)\", \"Twitter: not even Do (0)\", \"Who Was Detective X? (1)\", \"Meet the rightwing p (0)\", \"NYT\\u2019s Friedman: Flyn (0)\", \"EXCLUSIVE: Felix Sat (0)\", \"Elon Musk in union s (1)\", \"The Nuclear Option \\u2014 (0)\", \"Gibraltar seizes Rus (0)\", \"As Trump tweets, leg (0)\", \"Columnist to Brian S (0)\", \"Snapchat's young use (1)\", \"Lost in translation: (1)\", \"'Lossless' metamater (1)\", \"Alan Simpson: Comedy (1)\", \"Magic Leap faces sex (1)\", \"Sir Charles Dunstone (1)\", \"Boeing workers in So (1)\", \"Viacom debt deal tur (0)\", \"LSE fines independen (1)\", \"France strikes down  (1)\", \"Trump advisers in 'c (0)\", \"Database of software (1)\", \"Krauthammer on Congr (1)\", \"A neuroscientist exp (0)\", \"Opinion: Can SNL top (0)\", \"Why is Dirty Dancing (1)\", \"Even Trump isn't eno (0)\", \"Issa Rae on How She  (1)\", \"Germany's Bavaria to (1)\", \"Columnist: Distrust  (0)\", \"KLEIN \\u2013 Trump-Russia (0)\", \"The mechanics of cav (1)\", \"Bank results spotlig (1)\", \"Prince Charles' god- (1)\", \"Connection control t (1)\", \"Far beyond crime-rid (1)\", \"Less of the burden w (1)\", \"Results will reveal  (1)\", \"George Will: Conserv (0)\", \"Are journalists tipt (0)\", \"Pro12: Zebre v Ulste (1)\", \"ESPN reporters writi (1)\", \"Report: Trump not fu (1)\", \"Cop caught on tape s (1)\", \"World's largest sail (1)\", \"Cyber experts report (0)\", \"The dangers of writi (1)\", \"AP Exclusive: Twin t (1)\", \"In-memory de-duplica (0)\", \"Mick Jagger's autobi (1)\", \"What makes influenti (1)\", \"Differences in the r (0)\", \"'Thank you and stay  (1)\", \"Board overseeing pro (1)\", \"'This is Us' cast pa (0)\", \"Global pariah (1)\", \"Where are the tools  (1)\", \"AP Explains: The obs (0)\", \"Booker: Kellyanne Co (1)\", \"Ivanka, Melania bran (1)\", \"Jawing away: Bahama  (1)\", \"NBA Capsules (1)\", \"How can I tell if a  (1)\", \"CES 2013: Tactus Tec (1)\", \"Tamara Ecclestone br (1)\", \"War criminal Charles (1)\", \"Markets Spotlight: t (1)\", \"Fmr Clinton Campaign (0)\", \"Trump fully briefed  (1)\", \"Tremors in newborn p (1)\", \"Dow Jones industrial (1)\", \"Researchers discover (1)\", \"PERK protein opens l (1)\", \"Faking it: Jake Tapp (1)\", \"Twitter accounts rea (1)\", \"White House was warn (0)\", \"Scotland needs publi (1)\", \"Kremlin: Trump assoc (0)\", \"Trump steps into sec (0)\", \"Lewandowski: If Mana (0)\", \"Music helps and pick (1)\", \"HBOS fraud trial (1)\", \"Russians optimistic  (0)\", \"Trading off costs an (1)\", \"Russia has assumed a (0)\", \"Sister of Bataclan t (1)\", \"MSG bans ex-Knicks s (1)\", \"LIVE UPDATES: Former (0)\", \"Last orders at the b (1)\", \"Lloyds to review cus (1)\", \"Federal judge blocks (1)\", \"Microsoft's Surface  (1)\", \"Unique project to im (1)\", \"UK real wage growth  (1)\", \"MSG bans Charles Oak (1)\", \"Dem Rep Moulton: If  (0)\", \"Alt-right leader Ric (1)\", \"Lloyds should act ho (1)\", \"Sherry Turkle: \\u2018I am (1)\", \"Great Valentine's Da (1)\", \"MPs press Lloyds to  (1)\", \"French far-right can (0)\", \"Philly Archbishop \\u2018A (0)\", \"Imperial Brands back (1)\", \"Rampant narcissism a (1)\", \"Transgender politica (1)\", \"Data Attack - How Te (0)\", \"APNewsBreak: Grand j (1)\", \"One Husband\\u2019s Tribut (1)\", \"Lloyds to review HBO (1)\", \"Facts are the reason (1)\", \"Senator keeps cool i (1)\", \"NIST partners 'cutti (1)\", \"Researchers emphasiz (1)\", \"Trump talks about tr (0)\", \"Heterosexual couple  (1)\", \"Yes, Warhammer chara (1)\", \"Remember Nixon? Ther (0)\", \"Trump aides spoke re (0)\", \"Manafort, Flynn spok (0)\", \"What's Inside - Vodk (0)\", \"Accounting standards (1)\", \"Journalist apologize (1)\", \"Charles Krauthammer  (1)\", \"GOP Senate Intel Mem (0)\", \"Trump campaign aides (0)\", \"Communications exper (0)\", \"Researcher explores  (1)\", \"Hate Trump supporter (1)\", \"The unique shame of  (1)\", \"How former Mexican p (1)\", \"Design FX - Game of  (1)\", \"Silence\\u2014everyday bet (1)\", \"Trump counters Russi (0)\", \"Microhotplates for a (1)\", \"Spotlight on 3 judge (0)\", \"Doubt over Everest's (1)\", \"'In 50 years, readin (1)\", \"Teens sentenced to r (1)\", \"Knock knock, moos th (0)\", \"15 risks and opportu (1)\", \"Russians Engineer a  (0)\", \"Electricity pricing  (1)\", \"Dinosaur embryos rev (1)\", \"WIRED April 2014 - C (1)\", \"Dolan says MSG banni (1)\", \"Tiger knocks drone f (1)\", \"AP source: Oakley's  (1)\", \"NBPA officers expres (1)\", \"Video: The search fo (1)\", \"Krauthammer: The dan (1)\", \"Queueing technique t (1)\", \"Late-night comedy ru (1)\", \"Abbreviations exclud (1)\", \"Nasa begins testing  (1)\", \"Donald Trump Denounc (0)\", \"Am I using this emoj (1)\", \"Congress struggles t (0)\", \"Why are most people  (1)\", \"Facts, beliefs, and  (1)\", \"Chris Packham: Why I (1)\", \"VIDEO: Charles Oakle (0)\", \"Dems see disparity i (0)\", \"Spill-Proof Cups Are (1)\", \"Brady Campaign: Sess (0)\", \"Charles Oakley: I\\u2019ve (1)\", \"Call for scrutiny of (1)\", \"Researchers show via (1)\", \"Tesco-Booker \\u2014 a \\u2018me (1)\", \"Defense clearly not  (1)\", \"Media escalate Trump (0)\", \"First-ever GPS data  (1)\", \"Trump Adviser Miller (1)\", \"Pope spurs Republica (1)\", \"A neuroscientist exp (1)\", \"A neuroscientist exp (1)\", \"Chinese feminists ta (0)\", \"A neuroscientist exp (1)\", \"A neuroscientist exp (0)\", \"Spicer: President Tr (0)\", \"World's tiniest hamm (1)\", \"Lewandowski disagree (0)\", \"Power amplifiers for (1)\", \"Quest to find the 'm (1)\", \"Reducing animal test (1)\", \"It appears the Oiler (1)\", \"Why the Earth is act (1)\", \"Suit over artifact l (1)\"], \"mode\": \"markers\"}], {\"width\": 650, \"margin\": {\"t\": 40, \"r\": 5, \"l\": 5, \"b\": 20}, \"annotations\": [{\"y\": -0.002, \"x\": 0.005, \"showarrow\": false, \"xref\": \"paper\", \"text\": \"\", \"yref\": \"paper\"}], \"titlefont\": {\"size\": 16}, \"showlegend\": false, \"title\": \"\", \"hovermode\": \"closest\", \"xaxis\": {\"showticklabels\": false, \"showgrid\": false, \"zeroline\": false}, \"yaxis\": {\"showticklabels\": false, \"showgrid\": false, \"zeroline\": false}, \"height\": 650}, {\"showLink\": true, \"linkText\": \"Export to plot.ly\"})});</script>"
      ]
     },
     "metadata": {},
     "output_type": "display_data"
    }
   ],
   "source": [
    "iplot(fig)"
   ]
  },
  {
   "cell_type": "code",
   "execution_count": 34,
   "metadata": {
    "collapsed": true
   },
   "outputs": [],
   "source": [
    "graph_plot_url = plot(fig, filename='images/spec23_groupsGraph.html', auto_open=False,)\n",
    "graph_plot_url = graph_plot_url[7:]"
   ]
  },
  {
   "cell_type": "markdown",
   "metadata": {},
   "source": [
    "## Main Article"
   ]
  },
  {
   "cell_type": "code",
   "execution_count": 35,
   "metadata": {
    "collapsed": true
   },
   "outputs": [],
   "source": [
    "orig_article_title = doc['title']\n",
    "orig_article_content = doc['summary']"
   ]
  },
  {
   "cell_type": "code",
   "execution_count": 36,
   "metadata": {
    "collapsed": false
   },
   "outputs": [
    {
     "data": {
      "text/html": [
       "<div>\n",
       "<table border=\"1\" class=\"dataframe\">\n",
       "  <thead>\n",
       "    <tr style=\"text-align: right;\">\n",
       "      <th></th>\n",
       "      <th>word_id</th>\n",
       "      <th>n_docs</th>\n",
       "      <th>n_total</th>\n",
       "    </tr>\n",
       "  </thead>\n",
       "  <tbody>\n",
       "    <tr>\n",
       "      <th>0</th>\n",
       "      <td>3</td>\n",
       "      <td>7586</td>\n",
       "      <td>11670</td>\n",
       "    </tr>\n",
       "    <tr>\n",
       "      <th>1</th>\n",
       "      <td>124</td>\n",
       "      <td>1741</td>\n",
       "      <td>2093</td>\n",
       "    </tr>\n",
       "    <tr>\n",
       "      <th>2</th>\n",
       "      <td>147</td>\n",
       "      <td>1723</td>\n",
       "      <td>1889</td>\n",
       "    </tr>\n",
       "    <tr>\n",
       "      <th>3</th>\n",
       "      <td>155</td>\n",
       "      <td>3639</td>\n",
       "      <td>4332</td>\n",
       "    </tr>\n",
       "    <tr>\n",
       "      <th>4</th>\n",
       "      <td>302</td>\n",
       "      <td>1121</td>\n",
       "      <td>1372</td>\n",
       "    </tr>\n",
       "  </tbody>\n",
       "</table>\n",
       "</div>"
      ],
      "text/plain": [
       "   word_id  n_docs n_total\n",
       "0        3    7586   11670\n",
       "1      124    1741    2093\n",
       "2      147    1723    1889\n",
       "3      155    3639    4332\n",
       "4      302    1121    1372"
      ]
     },
     "execution_count": 36,
     "metadata": {},
     "output_type": "execute_result"
    }
   ],
   "source": [
    "wil01 = word_info['l01']\n",
    "wil01.head()"
   ]
  },
  {
   "cell_type": "markdown",
   "metadata": {},
   "source": [
    "## Level 1 Information"
   ]
  },
  {
   "cell_type": "code",
   "execution_count": 37,
   "metadata": {
    "collapsed": false
   },
   "outputs": [
    {
     "data": {
      "text/plain": [
       "{2294: 'associates',\n",
       " 2900: 'russians',\n",
       " 4148: 'trumprussia',\n",
       " 6327: 'publicly',\n",
       " 12578: 'briefed',\n",
       " 27973: 'knock'}"
      ]
     },
     "execution_count": 37,
     "metadata": {},
     "output_type": "execute_result"
    }
   ],
   "source": [
    "qwl01 = mysql_utils.query_idWordLookup(words['l01'])\n",
    "qwl01"
   ]
  },
  {
   "cell_type": "code",
   "execution_count": 38,
   "metadata": {
    "collapsed": true
   },
   "outputs": [],
   "source": [
    "nl01_docs = len(docs['l01'])"
   ]
  },
  {
   "cell_type": "code",
   "execution_count": 39,
   "metadata": {
    "collapsed": false
   },
   "outputs": [
    {
     "data": {
      "text/html": [
       "<div>\n",
       "<table border=\"1\" class=\"dataframe\">\n",
       "  <thead>\n",
       "    <tr style=\"text-align: right;\">\n",
       "      <th></th>\n",
       "      <th>word_id_bg</th>\n",
       "      <th>n_docs_bg</th>\n",
       "      <th>n_total_bg</th>\n",
       "      <th>frac_bg</th>\n",
       "      <th>word_id_qw</th>\n",
       "      <th>n_docs_qw</th>\n",
       "      <th>n_total_qw</th>\n",
       "      <th>frac_qw</th>\n",
       "      <th>ratio</th>\n",
       "    </tr>\n",
       "  </thead>\n",
       "  <tbody>\n",
       "    <tr>\n",
       "      <th>0</th>\n",
       "      <td>3</td>\n",
       "      <td>7586</td>\n",
       "      <td>11670</td>\n",
       "      <td>0.169895</td>\n",
       "      <td>16.0</td>\n",
       "      <td>1.0</td>\n",
       "      <td>1</td>\n",
       "      <td>0.008929</td>\n",
       "      <td>0.052553</td>\n",
       "    </tr>\n",
       "    <tr>\n",
       "      <th>1</th>\n",
       "      <td>11</td>\n",
       "      <td>803</td>\n",
       "      <td>932</td>\n",
       "      <td>0.017984</td>\n",
       "      <td>65.0</td>\n",
       "      <td>4.0</td>\n",
       "      <td>4</td>\n",
       "      <td>0.035714</td>\n",
       "      <td>1.985901</td>\n",
       "    </tr>\n",
       "    <tr>\n",
       "      <th>2</th>\n",
       "      <td>14</td>\n",
       "      <td>635</td>\n",
       "      <td>694</td>\n",
       "      <td>0.014221</td>\n",
       "      <td>71.0</td>\n",
       "      <td>1.0</td>\n",
       "      <td>1</td>\n",
       "      <td>0.008929</td>\n",
       "      <td>0.627826</td>\n",
       "    </tr>\n",
       "    <tr>\n",
       "      <th>3</th>\n",
       "      <td>16</td>\n",
       "      <td>435</td>\n",
       "      <td>563</td>\n",
       "      <td>0.009742</td>\n",
       "      <td>75.0</td>\n",
       "      <td>4.0</td>\n",
       "      <td>4</td>\n",
       "      <td>0.035714</td>\n",
       "      <td>3.665928</td>\n",
       "    </tr>\n",
       "    <tr>\n",
       "      <th>4</th>\n",
       "      <td>18</td>\n",
       "      <td>364</td>\n",
       "      <td>390</td>\n",
       "      <td>0.008152</td>\n",
       "      <td>82.0</td>\n",
       "      <td>1.0</td>\n",
       "      <td>1</td>\n",
       "      <td>0.008929</td>\n",
       "      <td>1.095246</td>\n",
       "    </tr>\n",
       "  </tbody>\n",
       "</table>\n",
       "</div>"
      ],
      "text/plain": [
       "   word_id_bg  n_docs_bg n_total_bg   frac_bg  word_id_qw  n_docs_qw  \\\n",
       "0           3       7586      11670  0.169895        16.0        1.0   \n",
       "1          11        803        932  0.017984        65.0        4.0   \n",
       "2          14        635        694  0.014221        71.0        1.0   \n",
       "3          16        435        563  0.009742        75.0        4.0   \n",
       "4          18        364        390  0.008152        82.0        1.0   \n",
       "\n",
       "  n_total_qw   frac_qw     ratio  \n",
       "0          1  0.008929  0.052553  \n",
       "1          4  0.035714  1.985901  \n",
       "2          1  0.008929  0.627826  \n",
       "3          4  0.035714  3.665928  \n",
       "4          1  0.008929  1.095246  "
      ]
     },
     "execution_count": 39,
     "metadata": {},
     "output_type": "execute_result"
    }
   ],
   "source": [
    "wil02 = word_info['l02']\n",
    "wil02.head()"
   ]
  },
  {
   "cell_type": "markdown",
   "metadata": {},
   "source": [
    "## Generate HTML as String and Write to File"
   ]
  },
  {
   "cell_type": "code",
   "execution_count": 41,
   "metadata": {
    "collapsed": true
   },
   "outputs": [],
   "source": [
    "html_string = '''\n",
    "<html>\n",
    "    <head>\n",
    "        <link rel=\"stylesheet\" href=\"https://maxcdn.bootstrapcdn.com/bootstrap/3.3.1/css/bootstrap.min.css\">\n",
    "        <style>body{ margin:0 100; background:whitesmoke; }</style>\n",
    "    </head>\n",
    "    <body>\n",
    "        <h1>Comparison of JMS and Spectral Graph Methods</h1>\n",
    "        \n",
    "        <!-- *** Section 1 *** --->\n",
    "        <h2>Section 1: Document Overview</h2>\n",
    "        \n",
    "            \n",
    "            <h4>Document Source:</h4>\n",
    "                <a href=\"''' + url + '''\">Link</a>\n",
    "            <h4>Document Title:</h4>\n",
    "                <p><b>''' + doc['title'] + '''</b></p>\n",
    "            <h4>Document Content:</h4>\n",
    "                <p>\"''' + doc['summary'] + '''\"</p>\n",
    "\n",
    "        <!-- *** Section 3 *** --->\n",
    "        <h2>Section 3: \"Top Docs\" Review</h2>\n",
    "        \n",
    "                \n",
    "            <table width=\"100%\">\n",
    "                <tr>\n",
    "                    <td width=\"50%\"><h3>JMS Top Docs:</h3></td>\n",
    "                    <td width=\"47%\"><h3>Spectral Cluster Top Docs:</h3></td>\n",
    "                </tr>\n",
    "            </table>\n",
    "\n",
    "\n",
    "            <iframe style=\"padding:40px\" width=\"47%\" height=\"480\" frameborder=\"0\" seamless=\"seamless\" scrolling=\"yes\" align=\"left\"\\\n",
    "    src=\"''' + jms_dt_url + '''\"></iframe>\n",
    "\n",
    "            <iframe style=\"padding:40px\" width=\"47%\" height=\"480\" frameborder=\"0\" seamless=\"seamless\" scrolling=\"yes\" align=\"right\"\\\n",
    "    src=\"''' + spec_dt_url + '''\"></iframe>\n",
    "    \n",
    "            <h3>Spectral23 Communities Graph</h3>\n",
    "    \n",
    "            <iframe style=\"padding:40px\" width=\"1000\" height=\"1000\" frameborder=\"0\" seamless=\"seamless\" scrolling=\"no\"\\\n",
    "    src=\"''' + graph_plot_url + '''\"></iframe>\n",
    "\n",
    "\n",
    "    \n",
    "    </body>\n",
    "</html>'''"
   ]
  },
  {
   "cell_type": "code",
   "execution_count": 42,
   "metadata": {
    "collapsed": false
   },
   "outputs": [],
   "source": [
    "f = open(os.path.join(main_repo_dir,'reports/dashboards/MethCompare.html'),'w')\n",
    "f.write(html_string)\n",
    "f.close()"
   ]
  },
  {
   "cell_type": "code",
   "execution_count": null,
   "metadata": {
    "collapsed": true
   },
   "outputs": [],
   "source": []
  }
 ],
 "metadata": {
  "kernelspec": {
   "display_name": "rss (P3)",
   "language": "python",
   "name": "rss_p3"
  },
  "language_info": {
   "codemirror_mode": {
    "name": "ipython",
    "version": 3
   },
   "file_extension": ".py",
   "mimetype": "text/x-python",
   "name": "python",
   "nbconvert_exporter": "python",
   "pygments_lexer": "ipython3",
   "version": "3.5.2"
  }
 },
 "nbformat": 4,
 "nbformat_minor": 2
}
