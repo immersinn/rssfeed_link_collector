{
 "cells": [
  {
   "cell_type": "code",
   "execution_count": 1,
   "metadata": {
    "collapsed": true
   },
   "outputs": [],
   "source": [
    "import sys\n",
    "import os"
   ]
  },
  {
   "cell_type": "code",
   "execution_count": 2,
   "metadata": {
    "collapsed": true
   },
   "outputs": [],
   "source": [
    "import datetime"
   ]
  },
  {
   "cell_type": "code",
   "execution_count": 3,
   "metadata": {
    "collapsed": true
   },
   "outputs": [],
   "source": [
    "import numpy\n",
    "import scipy\n",
    "import pandas"
   ]
  },
  {
   "cell_type": "code",
   "execution_count": 4,
   "metadata": {
    "collapsed": true
   },
   "outputs": [],
   "source": [
    "%matplotlib inline\n",
    "\n",
    "import matplotlib as mpl\n",
    "import matplotlib.pyplot as plt\n",
    "\n",
    "import seaborn as sns\n",
    "sns.set(style=\"whitegrid\", color_codes=True)"
   ]
  },
  {
   "cell_type": "code",
   "execution_count": 5,
   "metadata": {
    "collapsed": true
   },
   "outputs": [],
   "source": [
    "sys.path.append(os.path.join(os.path.abspath(os.path.join('../..')), 'src'))"
   ]
  },
  {
   "cell_type": "code",
   "execution_count": 6,
   "metadata": {
    "collapsed": true
   },
   "outputs": [],
   "source": [
    "import utils\n",
    "import mysql_utils\n",
    "import events_merge\n",
    "import spectral_partition"
   ]
  },
  {
   "cell_type": "code",
   "execution_count": 140,
   "metadata": {
    "collapsed": true
   },
   "outputs": [],
   "source": [
    "from importlib import reload"
   ]
  },
  {
   "cell_type": "code",
   "execution_count": 141,
   "metadata": {
    "collapsed": false
   },
   "outputs": [
    {
     "data": {
      "text/plain": [
       "<module 'events_merge' from '/home/immersinn/gits/rssfeed_link_collector/src/events_merge.py'>"
      ]
     },
     "execution_count": 141,
     "metadata": {},
     "output_type": "execute_result"
    }
   ],
   "source": [
    "reload(events_merge)"
   ]
  },
  {
   "cell_type": "markdown",
   "metadata": {},
   "source": [
    "## Prelims"
   ]
  },
  {
   "cell_type": "markdown",
   "metadata": {},
   "source": [
    "### Create Sequence of dates of interest"
   ]
  },
  {
   "cell_type": "code",
   "execution_count": 8,
   "metadata": {
    "collapsed": false
   },
   "outputs": [],
   "source": [
    "base = datetime.datetime.strptime('2017-02-01 00:00:00', '%Y-%m-%d %H:%M:%S')"
   ]
  },
  {
   "cell_type": "code",
   "execution_count": 9,
   "metadata": {
    "collapsed": true
   },
   "outputs": [],
   "source": [
    "date_list = [base + datetime.timedelta(hours=x) for x in range(0, 24*7, 6)]"
   ]
  },
  {
   "cell_type": "code",
   "execution_count": 14,
   "metadata": {
    "collapsed": false
   },
   "outputs": [
    {
     "data": {
      "text/plain": [
       "[datetime.datetime(2017, 2, 1, 0, 0),\n",
       " datetime.datetime(2017, 2, 1, 6, 0),\n",
       " datetime.datetime(2017, 2, 1, 12, 0),\n",
       " datetime.datetime(2017, 2, 1, 18, 0)]"
      ]
     },
     "execution_count": 14,
     "metadata": {},
     "output_type": "execute_result"
    }
   ],
   "source": [
    "date_list[:4]"
   ]
  },
  {
   "cell_type": "markdown",
   "metadata": {},
   "source": [
    "### Get MySQL Connection, Cursor"
   ]
  },
  {
   "cell_type": "code",
   "execution_count": 115,
   "metadata": {
    "collapsed": true
   },
   "outputs": [],
   "source": [
    "cnx = mysql_utils.getCnx()"
   ]
  },
  {
   "cell_type": "code",
   "execution_count": 116,
   "metadata": {
    "collapsed": true
   },
   "outputs": [],
   "source": [
    "cur = mysql_utils.getCur(cnx)"
   ]
  },
  {
   "cell_type": "markdown",
   "metadata": {},
   "source": [
    "## Communities on Single Slice"
   ]
  },
  {
   "cell_type": "markdown",
   "metadata": {},
   "source": [
    "### 00: Query and Prep Data"
   ]
  },
  {
   "cell_type": "code",
   "execution_count": 75,
   "metadata": {
    "collapsed": true
   },
   "outputs": [],
   "source": [
    "details ={'summary' : {'features' : ['title', 'summary'],\n",
    "                       'cutoff' : 0.15,\n",
    "                       'to_binary' : False,\n",
    "                       'make_symmetric' : True, 'sym_func' : lambda x,y : (x+y)/2}\n",
    "         }"
   ]
  },
  {
   "cell_type": "code",
   "execution_count": 145,
   "metadata": {
    "collapsed": false
   },
   "outputs": [],
   "source": [
    "out_01 = events_merge.process_timeslice_v2(mysql_utils.query_docs_by_datetime(cursor=cur,\n",
    "                                                                              start_dt=date_list[0],\n",
    "                                                                              end_dt=date_list[0 + 16]),\n",
    "                                           details=details)\n",
    "docids = out_01['summary']['doc_ids']\n",
    "ts = out_01['summary']['tslice']"
   ]
  },
  {
   "cell_type": "markdown",
   "metadata": {},
   "source": [
    "#### Test on Single Slice:"
   ]
  },
  {
   "cell_type": "code",
   "execution_count": 106,
   "metadata": {
    "collapsed": false
   },
   "outputs": [
    {
     "data": {
      "text/plain": [
       "<module 'spectral_partition' from '/home/immersinn/gits/rssfeed_link_collector/src/spectral_partition.py'>"
      ]
     },
     "execution_count": 106,
     "metadata": {},
     "output_type": "execute_result"
    }
   ],
   "source": [
    "reload(spectral_partition)"
   ]
  },
  {
   "cell_type": "code",
   "execution_count": 146,
   "metadata": {
    "collapsed": false
   },
   "outputs": [],
   "source": [
    "tsg = scipy.sparse.csr_matrix((ts['vals'], ts['ij']))"
   ]
  },
  {
   "cell_type": "code",
   "execution_count": 147,
   "metadata": {
    "collapsed": false
   },
   "outputs": [
    {
     "data": {
      "text/plain": [
       "0.008934593572778827"
      ]
     },
     "execution_count": 147,
     "metadata": {},
     "output_type": "execute_result"
    }
   ],
   "source": [
    "# Density of matrix\n",
    "tsg.nnz / tsg.shape[0] ** 2"
   ]
  },
  {
   "cell_type": "code",
   "execution_count": 148,
   "metadata": {
    "collapsed": false
   },
   "outputs": [
    {
     "data": {
      "text/plain": [
       "(1150, 1150)"
      ]
     },
     "execution_count": 148,
     "metadata": {},
     "output_type": "execute_result"
    }
   ],
   "source": [
    "tsg.shape"
   ]
  },
  {
   "cell_type": "code",
   "execution_count": 149,
   "metadata": {
    "collapsed": false
   },
   "outputs": [],
   "source": [
    "cci = numpy.where(tsg.sum(axis=1) > 0)[0]"
   ]
  },
  {
   "cell_type": "code",
   "execution_count": 150,
   "metadata": {
    "collapsed": true
   },
   "outputs": [],
   "source": [
    "tsg_cci = tsg[cci,:][:, cci]"
   ]
  },
  {
   "cell_type": "code",
   "execution_count": 151,
   "metadata": {
    "collapsed": false
   },
   "outputs": [
    {
     "data": {
      "text/plain": [
       "(937, 937)"
      ]
     },
     "execution_count": 151,
     "metadata": {},
     "output_type": "execute_result"
    }
   ],
   "source": [
    "tsg_cci.shape"
   ]
  },
  {
   "cell_type": "code",
   "execution_count": 152,
   "metadata": {
    "collapsed": false
   },
   "outputs": [],
   "source": [
    "groups, counts, history = spectral_partition.spectralGraphPartition23(tsg_cci, Bin='bNG', L=5, finetune=False)"
   ]
  },
  {
   "cell_type": "code",
   "execution_count": 153,
   "metadata": {
    "collapsed": false
   },
   "outputs": [
    {
     "data": {
      "text/plain": [
       "{'threeway-pair': 59, 'twoway-pair': 68, 'twoway-single': 0}"
      ]
     },
     "execution_count": 153,
     "metadata": {},
     "output_type": "execute_result"
    }
   ],
   "source": [
    "counts"
   ]
  },
  {
   "cell_type": "code",
   "execution_count": 154,
   "metadata": {
    "collapsed": true
   },
   "outputs": [],
   "source": [
    "h2 = history.copy()"
   ]
  },
  {
   "cell_type": "code",
   "execution_count": 155,
   "metadata": {
    "collapsed": false
   },
   "outputs": [],
   "source": [
    "def reorder_history_nodes(hhh):\n",
    "    \"\"\"\n",
    "    <Stuffs here>\n",
    "    \"\"\"\n",
    "    order_hist = []\n",
    "    n_nodes, n_levels = hhh.shape\n",
    "    \n",
    "    prev_grps = [0]\n",
    "    for lev in range(n_levels):\n",
    "        if len(prev_grps)==1:\n",
    "            new_order = numpy.argsort(hhh[:,0])\n",
    "            hhh = hhh[new_order,:]\n",
    "            prev_grps = list(numpy.unique(hhh[:,lev]))\n",
    "            order_hist.append(new_order)\n",
    "        else:\n",
    "            new_order = []\n",
    "            new_pgs = []\n",
    "            start = 0\n",
    "            for grp in prev_grps:\n",
    "                # Subset of nodes in \"grp\" from previous step\n",
    "                indx = hhh[:, lev-1] == grp\n",
    "                # Order subset from \"grp\" based on current level assignments\n",
    "                # and add \n",
    "                ns = [i + start for i in list(numpy.argsort(hhh[indx,lev]))]\n",
    "                new_order.extend(ns)\n",
    "                new_pgs.extend(list(numpy.unique(hhh[indx,lev])))\n",
    "                start += len(ns)\n",
    "            hhh = hhh[new_order,:]\n",
    "            prev_grps = new_pgs\n",
    "            order_hist.append(new_order)\n",
    "            \n",
    "    return(hhh)"
   ]
  },
  {
   "cell_type": "code",
   "execution_count": 156,
   "metadata": {
    "collapsed": false
   },
   "outputs": [],
   "source": [
    "h2 = reorder_history_nodes(h2)"
   ]
  },
  {
   "cell_type": "code",
   "execution_count": 157,
   "metadata": {
    "collapsed": false
   },
   "outputs": [
    {
     "data": {
      "image/png": "[encoded data removed]",
      "text/plain": [
       "<matplotlib.figure.Figure at 0x7fa33c0599e8>"
      ]
     },
     "metadata": {},
     "output_type": "display_data"
    }
   ],
   "source": [
    "sns.set(style=\"white\")\n",
    "\n",
    "f, ax = plt.subplots()\n",
    "\n",
    "# Draw the heatmap using seaborn\n",
    "colors = sns.color_palette(\"Paired\", n_colors=history.max())\n",
    "main = [1,3,5,7,9] # \"Paired\"\n",
    "#main = [0,1,2,3,4,5] # \"bright\"\n",
    "nmain = [i for i in range(history.max()) if i not in main]\n",
    "col, ors = [colors[i] for i in main], [colors[j] for j in nmain]\n",
    "numpy.random.shuffle(ors)\n",
    "colors = col; colors.extend(ors)\n",
    "numpy.random.shuffle\n",
    "g = sns.heatmap(h2, \n",
    "                cmap=mpl.colors.ListedColormap(colors),\n",
    "                linecolor='k', linewidths=0.1,\n",
    "                ax=ax, cbar=False, annot=False,\n",
    "                yticklabels=False,\n",
    "                );\n",
    "#g.set(yticks=[]);\n",
    "g.figure.set_size_inches(16, 24);"
   ]
  },
  {
   "cell_type": "code",
   "execution_count": 213,
   "metadata": {
    "collapsed": false
   },
   "outputs": [
    {
     "name": "stdout",
     "output_type": "stream",
     "text": [
      "3\n"
     ]
    }
   ],
   "source": [
    "gps = history[:,-1]\n",
    "c = 50\n",
    "indxs = numpy.where(gps== c)[0]\n",
    "grp = [docids[cci[i]] for i,v in enumerate((gps == c)) if v]\n",
    "print(len(grp))"
   ]
  },
  {
   "cell_type": "code",
   "execution_count": 214,
   "metadata": {
    "collapsed": false
   },
   "outputs": [],
   "source": [
    "ddd = mysql_utils.query_docs_details(cur, grp, fields=['link', 'title', 'summary', 'published', 'rss_link'])"
   ]
  },
  {
   "cell_type": "code",
   "execution_count": 215,
   "metadata": {
    "collapsed": false
   },
   "outputs": [
    {
     "data": {
      "text/html": [
       "<div>\n",
       "<table border=\"1\" class=\"dataframe\">\n",
       "  <thead>\n",
       "    <tr style=\"text-align: right;\">\n",
       "      <th></th>\n",
       "      <th>link</th>\n",
       "      <th>title</th>\n",
       "      <th>summary</th>\n",
       "    </tr>\n",
       "  </thead>\n",
       "  <tbody>\n",
       "    <tr>\n",
       "      <th>0</th>\n",
       "      <td>http://www.bbc.co.uk/news/health-38842561</td>\n",
       "      <td>Misophonia: Scientists crack why eating sounds...</td>\n",
       "      <td>The brains of misophonia patients like Olana a...</td>\n",
       "    </tr>\n",
       "    <tr>\n",
       "      <th>1</th>\n",
       "      <td>http://www.ft.com/cms/s/0/825e520c-c798-11e6-8...</td>\n",
       "      <td>Made-up men reflect changing $50bn grooming in...</td>\n",
       "      <td>Consumer goods companies from L’Oréal and Coty...</td>\n",
       "    </tr>\n",
       "    <tr>\n",
       "      <th>2</th>\n",
       "      <td>https://phys.org/news/2017-02-epa-oklahoma-cur...</td>\n",
       "      <td>EPA: Oklahoma regulators should do more to cur...</td>\n",
       "      <td>The Environmental Protection Agency has told O...</td>\n",
       "    </tr>\n",
       "  </tbody>\n",
       "</table>\n",
       "</div>"
      ],
      "text/plain": [
       "                                                link  \\\n",
       "0          http://www.bbc.co.uk/news/health-38842561   \n",
       "1  http://www.ft.com/cms/s/0/825e520c-c798-11e6-8...   \n",
       "2  https://phys.org/news/2017-02-epa-oklahoma-cur...   \n",
       "\n",
       "                                               title  \\\n",
       "0  Misophonia: Scientists crack why eating sounds...   \n",
       "1  Made-up men reflect changing $50bn grooming in...   \n",
       "2  EPA: Oklahoma regulators should do more to cur...   \n",
       "\n",
       "                                             summary  \n",
       "0  The brains of misophonia patients like Olana a...  \n",
       "1  Consumer goods companies from L’Oréal and Coty...  \n",
       "2  The Environmental Protection Agency has told O...  "
      ]
     },
     "execution_count": 215,
     "metadata": {},
     "output_type": "execute_result"
    }
   ],
   "source": [
    "ddd[['link', 'title', 'summary']].head(15)"
   ]
  },
  {
   "cell_type": "code",
   "execution_count": 216,
   "metadata": {
    "collapsed": false
   },
   "outputs": [
    {
     "name": "stdout",
     "output_type": "stream",
     "text": [
      "Misophonia: Scientists crack why eating sounds can make people angry\n",
      "\n",
      "\n",
      "Made-up men reflect changing $50bn grooming industry\n",
      "\n",
      "\n",
      "EPA: Oklahoma regulators should do more to curb earthquakes\n",
      "\n",
      "\n"
     ]
    }
   ],
   "source": [
    "for s in ddd['title']:\n",
    "    print(s)\n",
    "    print('\\n')"
   ]
  },
  {
   "cell_type": "code",
   "execution_count": 217,
   "metadata": {
    "collapsed": false
   },
   "outputs": [
    {
     "name": "stdout",
     "output_type": "stream",
     "text": [
      "The brains of misophonia patients like Olana are hardwired to produce excessive responses, scans show.\n",
      "\n",
      "\n",
      "Consumer goods companies from L’Oréal and Coty to Unilever see value in diversity\n",
      "\n",
      "\n",
      "The Environmental Protection Agency has told Oklahoma regulators to do more to protect the state from a surge in earthquake activity that scientists have linked to the underground disposal of oil and gas wastewater.\n",
      "\n",
      "\n"
     ]
    }
   ],
   "source": [
    "for s in ddd['summary']:\n",
    "    print(s)\n",
    "    print('\\n')"
   ]
  }
 ],
 "metadata": {
  "kernelspec": {
   "display_name": "conda3",
   "language": "python",
   "name": "conda3"
  },
  "language_info": {
   "codemirror_mode": {
    "name": "ipython",
    "version": 3
   },
   "file_extension": ".py",
   "mimetype": "text/x-python",
   "name": "python",
   "nbconvert_exporter": "python",
   "pygments_lexer": "ipython3",
   "version": "3.5.2"
  }
 },
 "nbformat": 4,
 "nbformat_minor": 2
}
