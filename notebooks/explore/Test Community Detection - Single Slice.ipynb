{
 "cells": [
  {
   "cell_type": "code",
   "execution_count": 1,
   "metadata": {
    "collapsed": true
   },
   "outputs": [],
   "source": [
    "import sys\n",
    "import os"
   ]
  },
  {
   "cell_type": "code",
   "execution_count": 2,
   "metadata": {
    "collapsed": true
   },
   "outputs": [],
   "source": [
    "import datetime"
   ]
  },
  {
   "cell_type": "code",
   "execution_count": 3,
   "metadata": {
    "collapsed": true
   },
   "outputs": [],
   "source": [
    "import numpy\n",
    "import scipy\n",
    "import pandas"
   ]
  },
  {
   "cell_type": "code",
   "execution_count": 4,
   "metadata": {
    "collapsed": true
   },
   "outputs": [],
   "source": [
    "%matplotlib inline\n",
    "\n",
    "import matplotlib as mpl\n",
    "import matplotlib.pyplot as plt\n",
    "\n",
    "import seaborn as sns\n",
    "sns.set(style=\"whitegrid\", color_codes=True)"
   ]
  },
  {
   "cell_type": "code",
   "execution_count": 5,
   "metadata": {
    "collapsed": true
   },
   "outputs": [],
   "source": [
    "sys.path.append(os.path.join(os.path.abspath(os.path.join('../..')), 'src'))"
   ]
  },
  {
   "cell_type": "code",
   "execution_count": 21,
   "metadata": {
    "collapsed": false
   },
   "outputs": [],
   "source": [
    "import utils\n",
    "import mysql_utils\n",
    "import events_merge\n",
    "import spectral_partition\n",
    "import kernighan_lin"
   ]
  },
  {
   "cell_type": "code",
   "execution_count": 7,
   "metadata": {
    "collapsed": true
   },
   "outputs": [],
   "source": [
    "from importlib import reload"
   ]
  },
  {
   "cell_type": "code",
   "execution_count": 37,
   "metadata": {
    "collapsed": false
   },
   "outputs": [
    {
     "data": {
      "text/plain": [
       "<module 'mysql_utils' from '/home/immersinn/gits/rssfeed_link_collector/src/mysql_utils.py'>"
      ]
     },
     "execution_count": 37,
     "metadata": {},
     "output_type": "execute_result"
    }
   ],
   "source": [
    "reload(mysql_utils)"
   ]
  },
  {
   "cell_type": "markdown",
   "metadata": {},
   "source": [
    "## Prelims"
   ]
  },
  {
   "cell_type": "markdown",
   "metadata": {},
   "source": [
    "### Create Sequence of dates of interest"
   ]
  },
  {
   "cell_type": "code",
   "execution_count": 8,
   "metadata": {
    "collapsed": false
   },
   "outputs": [],
   "source": [
    "base = datetime.datetime.strptime('2017-02-01 00:00:00', '%Y-%m-%d %H:%M:%S')"
   ]
  },
  {
   "cell_type": "code",
   "execution_count": 9,
   "metadata": {
    "collapsed": true
   },
   "outputs": [],
   "source": [
    "date_list = [base + datetime.timedelta(hours=x) for x in range(0, 24*7, 6)]"
   ]
  },
  {
   "cell_type": "code",
   "execution_count": 10,
   "metadata": {
    "collapsed": false
   },
   "outputs": [
    {
     "data": {
      "text/plain": [
       "[datetime.datetime(2017, 2, 1, 0, 0),\n",
       " datetime.datetime(2017, 2, 1, 6, 0),\n",
       " datetime.datetime(2017, 2, 1, 12, 0),\n",
       " datetime.datetime(2017, 2, 1, 18, 0)]"
      ]
     },
     "execution_count": 10,
     "metadata": {},
     "output_type": "execute_result"
    }
   ],
   "source": [
    "date_list[:4]"
   ]
  },
  {
   "cell_type": "markdown",
   "metadata": {},
   "source": [
    "## Communities on Single Slice"
   ]
  },
  {
   "cell_type": "markdown",
   "metadata": {},
   "source": [
    "### 00: Query and Prep Data"
   ]
  },
  {
   "cell_type": "code",
   "execution_count": 11,
   "metadata": {
    "collapsed": true
   },
   "outputs": [],
   "source": [
    "details ={'summary' : {'features' : ['title', 'summary'],\n",
    "                       'cutoff' : 0.15,\n",
    "                       'to_binary' : False,\n",
    "                       'make_symmetric' : True, 'sym_func' : lambda x,y : (x+y)/2}\n",
    "         }"
   ]
  },
  {
   "cell_type": "code",
   "execution_count": 12,
   "metadata": {
    "collapsed": false
   },
   "outputs": [],
   "source": [
    "out_01 = events_merge.process_timeslice_v2(mysql_utils.query_docsByDatetime(start_dt=date_list[0],\n",
    "                                                                              end_dt=date_list[0 + 16]),\n",
    "                                           details=details)\n",
    "docids = out_01['summary']['doc_ids']\n",
    "ts = out_01['summary']['tslice']"
   ]
  },
  {
   "cell_type": "markdown",
   "metadata": {},
   "source": [
    "#### Test on Single Slice:"
   ]
  },
  {
   "cell_type": "code",
   "execution_count": 63,
   "metadata": {
    "collapsed": false
   },
   "outputs": [
    {
     "data": {
      "text/plain": [
       "<module 'spectral_partition' from '/home/immersinn/gits/rssfeed_link_collector/src/spectral_partition.py'>"
      ]
     },
     "execution_count": 63,
     "metadata": {},
     "output_type": "execute_result"
    }
   ],
   "source": [
    "reload(spectral_partition)"
   ]
  },
  {
   "cell_type": "code",
   "execution_count": 13,
   "metadata": {
    "collapsed": false
   },
   "outputs": [],
   "source": [
    "tsg = scipy.sparse.csr_matrix((ts['vals'], ts['ij']))"
   ]
  },
  {
   "cell_type": "code",
   "execution_count": 14,
   "metadata": {
    "collapsed": false
   },
   "outputs": [
    {
     "data": {
      "text/plain": [
       "0.008928544423440453"
      ]
     },
     "execution_count": 14,
     "metadata": {},
     "output_type": "execute_result"
    }
   ],
   "source": [
    "# Density of matrix\n",
    "tsg.nnz / tsg.shape[0] ** 2"
   ]
  },
  {
   "cell_type": "code",
   "execution_count": 15,
   "metadata": {
    "collapsed": false
   },
   "outputs": [
    {
     "data": {
      "text/plain": [
       "(1150, 1150)"
      ]
     },
     "execution_count": 15,
     "metadata": {},
     "output_type": "execute_result"
    }
   ],
   "source": [
    "tsg.shape"
   ]
  },
  {
   "cell_type": "code",
   "execution_count": 16,
   "metadata": {
    "collapsed": false
   },
   "outputs": [],
   "source": [
    "cci = numpy.where(tsg.sum(axis=1) > 0)[0]"
   ]
  },
  {
   "cell_type": "code",
   "execution_count": 17,
   "metadata": {
    "collapsed": true
   },
   "outputs": [],
   "source": [
    "tsg_cci = tsg[cci,:][:, cci]"
   ]
  },
  {
   "cell_type": "code",
   "execution_count": 18,
   "metadata": {
    "collapsed": false
   },
   "outputs": [
    {
     "data": {
      "text/plain": [
       "(937, 937)"
      ]
     },
     "execution_count": 18,
     "metadata": {},
     "output_type": "execute_result"
    }
   ],
   "source": [
    "tsg_cci.shape"
   ]
  },
  {
   "cell_type": "code",
   "execution_count": 64,
   "metadata": {
    "collapsed": false
   },
   "outputs": [],
   "source": [
    "groups, counts, history = spectral_partition.spectralGraphPartition23(tsg_cci, Bin='bNG', L=1, finetune=False)"
   ]
  },
  {
   "cell_type": "code",
   "execution_count": 65,
   "metadata": {
    "collapsed": false
   },
   "outputs": [
    {
     "data": {
      "text/plain": [
       "{'threeway-pair': 0, 'twoway-pair': 27, 'twoway-single': 31}"
      ]
     },
     "execution_count": 65,
     "metadata": {},
     "output_type": "execute_result"
    }
   ],
   "source": [
    "counts"
   ]
  },
  {
   "cell_type": "code",
   "execution_count": 28,
   "metadata": {
    "collapsed": true
   },
   "outputs": [],
   "source": [
    "h2 = history.copy()"
   ]
  },
  {
   "cell_type": "code",
   "execution_count": 29,
   "metadata": {
    "collapsed": false
   },
   "outputs": [],
   "source": [
    "def reorder_history_nodes(hhh):\n",
    "    \"\"\"\n",
    "    <Stuffs here>\n",
    "    \"\"\"\n",
    "    order_hist = []\n",
    "    n_nodes, n_levels = hhh.shape\n",
    "    \n",
    "    prev_grps = [0]\n",
    "    for lev in range(n_levels):\n",
    "        if len(prev_grps)==1:\n",
    "            new_order = numpy.argsort(hhh[:,0])\n",
    "            hhh = hhh[new_order,:]\n",
    "            prev_grps = list(numpy.unique(hhh[:,lev]))\n",
    "            order_hist.append(new_order)\n",
    "        else:\n",
    "            new_order = []\n",
    "            new_pgs = []\n",
    "            start = 0\n",
    "            for grp in prev_grps:\n",
    "                # Subset of nodes in \"grp\" from previous step\n",
    "                indx = hhh[:, lev-1] == grp\n",
    "                # Order subset from \"grp\" based on current level assignments\n",
    "                # and add \n",
    "                ns = [i + start for i in list(numpy.argsort(hhh[indx,lev]))]\n",
    "                new_order.extend(ns)\n",
    "                new_pgs.extend(list(numpy.unique(hhh[indx,lev])))\n",
    "                start += len(ns)\n",
    "            hhh = hhh[new_order,:]\n",
    "            prev_grps = new_pgs\n",
    "            order_hist.append(new_order)\n",
    "            \n",
    "    return(hhh)"
   ]
  },
  {
   "cell_type": "code",
   "execution_count": 30,
   "metadata": {
    "collapsed": false
   },
   "outputs": [],
   "source": [
    "h2 = reorder_history_nodes(h2)"
   ]
  },
  {
   "cell_type": "code",
   "execution_count": 59,
   "metadata": {
    "collapsed": false
   },
   "outputs": [
    {
     "data": {
      "text/plain": [
       "150"
      ]
     },
     "execution_count": 59,
     "metadata": {},
     "output_type": "execute_result"
    }
   ],
   "source": [
    "len(numpy.unique(h2[:,-1]))"
   ]
  },
  {
   "cell_type": "code",
   "execution_count": 31,
   "metadata": {
    "collapsed": false
   },
   "outputs": [
    {
     "data": {
      "image/png": "[encoded data removed]",
      "text/plain": [
       "<matplotlib.figure.Figure at 0x7ff36ee8fa90>"
      ]
     },
     "metadata": {},
     "output_type": "display_data"
    }
   ],
   "source": [
    "sns.set(style=\"white\")\n",
    "\n",
    "f, ax = plt.subplots()\n",
    "\n",
    "# Draw the heatmap using seaborn\n",
    "colors = sns.color_palette(\"Paired\", n_colors=history.max())\n",
    "main = [1,3,5,7,9] # \"Paired\"\n",
    "#main = [0,1,2,3,4,5] # \"bright\"\n",
    "nmain = [i for i in range(history.max()) if i not in main]\n",
    "col, ors = [colors[i] for i in main], [colors[j] for j in nmain]\n",
    "numpy.random.shuffle(ors)\n",
    "colors = col; colors.extend(ors)\n",
    "numpy.random.shuffle\n",
    "g = sns.heatmap(h2, \n",
    "                cmap=mpl.colors.ListedColormap(colors),\n",
    "                linecolor='k', linewidths=0.1,\n",
    "                ax=ax, cbar=False, annot=False,\n",
    "                yticklabels=False,\n",
    "                );\n",
    "#g.set(yticks=[]);\n",
    "g.figure.set_size_inches(16, 24);"
   ]
  },
  {
   "cell_type": "code",
   "execution_count": 54,
   "metadata": {
    "collapsed": false
   },
   "outputs": [
    {
     "name": "stdout",
     "output_type": "stream",
     "text": [
      "4\n"
     ]
    }
   ],
   "source": [
    "gps = history[:,-1]\n",
    "c = 17\n",
    "indxs = numpy.where(gps== c)[0]\n",
    "grp = [docids[cci[i]] for i,v in enumerate((gps == c)) if v]\n",
    "print(len(grp))"
   ]
  },
  {
   "cell_type": "code",
   "execution_count": 55,
   "metadata": {
    "collapsed": false
   },
   "outputs": [],
   "source": [
    "ddd = mysql_utils.query_docsDetails(grp, \n",
    "                                    fields=['link', 'title', 'summary', 'published', 'rss_link'],\n",
    "                                    method='link')"
   ]
  },
  {
   "cell_type": "code",
   "execution_count": 56,
   "metadata": {
    "collapsed": false
   },
   "outputs": [
    {
     "data": {
      "text/html": [
       "<div>\n",
       "<table border=\"1\" class=\"dataframe\">\n",
       "  <thead>\n",
       "    <tr style=\"text-align: right;\">\n",
       "      <th></th>\n",
       "      <th>link</th>\n",
       "      <th>title</th>\n",
       "      <th>summary</th>\n",
       "    </tr>\n",
       "  </thead>\n",
       "  <tbody>\n",
       "    <tr>\n",
       "      <th>0</th>\n",
       "      <td>http://www.bbc.co.uk/news/uk-northern-ireland-...</td>\n",
       "      <td>Terror accused Eamon Bradley 'never fired shot'</td>\n",
       "      <td>A Londonderry man accused of terrorism in Syri...</td>\n",
       "    </tr>\n",
       "    <tr>\n",
       "      <th>1</th>\n",
       "      <td>http://www.bbc.co.uk/news/uk-northern-ireland-...</td>\n",
       "      <td>Syria terror accused Bradley 'walked free in D...</td>\n",
       "      <td>A Londonderry man accused of terrorism walked ...</td>\n",
       "    </tr>\n",
       "    <tr>\n",
       "      <th>2</th>\n",
       "      <td>http://www.cnn.com/2017/02/03/europe/france-pa...</td>\n",
       "      <td>Louvre knife attack: Authorities open terror i...</td>\n",
       "      <td>French authorities have opened a terror invest...</td>\n",
       "    </tr>\n",
       "    <tr>\n",
       "      <th>3</th>\n",
       "      <td>http://www.ft.com/cms/s/0/d1e8a51e-e9f5-11e6-9...</td>\n",
       "      <td>Louvre terror suspect identified as Egyptian</td>\n",
       "      <td>Trump warns of threat to US after knife-wieldi...</td>\n",
       "    </tr>\n",
       "  </tbody>\n",
       "</table>\n",
       "</div>"
      ],
      "text/plain": [
       "                                                link  \\\n",
       "0  http://www.bbc.co.uk/news/uk-northern-ireland-...   \n",
       "1  http://www.bbc.co.uk/news/uk-northern-ireland-...   \n",
       "2  http://www.cnn.com/2017/02/03/europe/france-pa...   \n",
       "3  http://www.ft.com/cms/s/0/d1e8a51e-e9f5-11e6-9...   \n",
       "\n",
       "                                               title  \\\n",
       "0    Terror accused Eamon Bradley 'never fired shot'   \n",
       "1  Syria terror accused Bradley 'walked free in D...   \n",
       "2  Louvre knife attack: Authorities open terror i...   \n",
       "3       Louvre terror suspect identified as Egyptian   \n",
       "\n",
       "                                             summary  \n",
       "0  A Londonderry man accused of terrorism in Syri...  \n",
       "1  A Londonderry man accused of terrorism walked ...  \n",
       "2  French authorities have opened a terror invest...  \n",
       "3  Trump warns of threat to US after knife-wieldi...  "
      ]
     },
     "execution_count": 56,
     "metadata": {},
     "output_type": "execute_result"
    }
   ],
   "source": [
    "ddd[['link', 'title', 'summary']].head(15)"
   ]
  },
  {
   "cell_type": "code",
   "execution_count": 57,
   "metadata": {
    "collapsed": false
   },
   "outputs": [
    {
     "name": "stdout",
     "output_type": "stream",
     "text": [
      "Terror accused Eamon Bradley 'never fired shot'\n",
      "\n",
      "\n",
      "Syria terror accused Bradley 'walked free in Derry'\n",
      "\n",
      "\n",
      "Louvre knife attack: Authorities open terror investigation\n",
      "\n",
      "\n",
      "Louvre terror suspect identified as Egyptian\n",
      "\n",
      "\n"
     ]
    }
   ],
   "source": [
    "for s in ddd['title']:\n",
    "    print(s)\n",
    "    print('\\n')"
   ]
  },
  {
   "cell_type": "code",
   "execution_count": 58,
   "metadata": {
    "collapsed": false
   },
   "outputs": [
    {
     "name": "stdout",
     "output_type": "stream",
     "text": [
      "A Londonderry man accused of terrorism in Syria told detectives he never fired a single shot against the enemy in his whole time there.\n",
      "\n",
      "\n",
      "A Londonderry man accused of terrorism walked around the city freely for a week after he returned home from Syria, a court hears.\n",
      "\n",
      "\n",
      "French authorities have opened a terror investigation after a soldier shot a man wielding a machete near the Louvre museum in Paris.<div class=\"feedflare\">\n",
      "<a href=\"http://rss.cnn.com/~ff/rss/cnn_world?a=EWlK1nX2w4g:TDnUeKUYP4g:yIl2AUoC8zA\"><img src=\"http://feeds.feedburner.com/~ff/rss/cnn_world?d=yIl2AUoC8zA\" border=\"0\"></img></a> <a href=\"http://rss.cnn.com/~ff/rss/cnn_world?a=EWlK1nX2w4g:TDnUeKUYP4g:7Q72WNTAKBA\"><img src=\"http://feeds.feedburner.com/~ff/rss/cnn_world?d=7Q72WNTAKBA\" border=\"0\"></img></a> <a href=\"http://rss.cnn.com/~ff/rss/cnn_world?a=EWlK1nX2w4g:TDnUeKUYP4g:V_sGLiPBpWU\"><img src=\"http://feeds.feedburner.com/~ff/rss/cnn_world?i=EWlK1nX2w4g:TDnUeKUYP4g:V_sGLiPBpWU\" border=\"0\"></img></a> <a href=\"http://rss.cnn.com/~ff/rss/cnn_world?a=EWlK1nX2w4g:TDnUeKUYP4g:qj6IDK7rITs\"><img src=\"http://feeds.feedburner.com/~ff/rss/cnn_world?d=qj6IDK7rITs\" border=\"0\"></img></a> <a href=\"http://rss.cnn.com/~ff/rss/cnn_world?a=EWlK1nX2w4g:TDnUeKUYP4g:gIN9vFwOqvQ\"><img src=\"http://feeds.feedburner.com/~ff/rss/cnn_world?i=EWlK1nX2w4g:TDnUeKUYP4g:gIN9vFwOqvQ\" border=\"0\"></img></a>\n",
      "</div><img src=\"http://feeds.feedburner.com/~r/rss/cnn_world/~4/EWlK1nX2w4g\" height=\"1\" width=\"1\" alt=\"\"/>\n",
      "\n",
      "\n",
      "Trump warns of threat to US after knife-wielding man injured near Paris museum\n",
      "\n",
      "\n"
     ]
    }
   ],
   "source": [
    "for s in ddd['summary']:\n",
    "    print(s)\n",
    "    print('\\n')"
   ]
  },
  {
   "cell_type": "code",
   "execution_count": null,
   "metadata": {
    "collapsed": true
   },
   "outputs": [],
   "source": []
  }
 ],
 "metadata": {
  "kernelspec": {
   "display_name": "conda3",
   "language": "python",
   "name": "conda3"
  },
  "language_info": {
   "codemirror_mode": {
    "name": "ipython",
    "version": 3
   },
   "file_extension": ".py",
   "mimetype": "text/x-python",
   "name": "python",
   "nbconvert_exporter": "python",
   "pygments_lexer": "ipython3",
   "version": "3.5.2"
  }
 },
 "nbformat": 4,
 "nbformat_minor": 2
}
