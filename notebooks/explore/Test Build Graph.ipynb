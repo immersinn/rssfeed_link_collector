{
 "cells": [
  {
   "cell_type": "code",
   "execution_count": 6,
   "metadata": {
    "collapsed": true
   },
   "outputs": [],
   "source": [
    "import sys\n",
    "import os"
   ]
  },
  {
   "cell_type": "code",
   "execution_count": 2,
   "metadata": {
    "collapsed": true
   },
   "outputs": [],
   "source": [
    "sys.path.append(os.path.join(os.path.abspath(os.path.join('../..')), 'src'))"
   ]
  },
  {
   "cell_type": "code",
   "execution_count": 3,
   "metadata": {
    "collapsed": true
   },
   "outputs": [],
   "source": [
    "from importlib import reload"
   ]
  },
  {
   "cell_type": "code",
   "execution_count": 4,
   "metadata": {
    "collapsed": true
   },
   "outputs": [],
   "source": [
    "import pickle"
   ]
  },
  {
   "cell_type": "code",
   "execution_count": 68,
   "metadata": {
    "collapsed": true
   },
   "outputs": [],
   "source": [
    "import feature_extract\n",
    "import build_graph"
   ]
  },
  {
   "cell_type": "code",
   "execution_count": 50,
   "metadata": {
    "collapsed": false
   },
   "outputs": [
    {
     "data": {
      "text/plain": [
       "<module 'build_graph' from '/home/immersinn/gits/rssfeed_link_collector/src/build_graph.py'>"
      ]
     },
     "execution_count": 50,
     "metadata": {},
     "output_type": "execute_result"
    }
   ],
   "source": [
    "reload(build_graph)"
   ]
  },
  {
   "cell_type": "code",
   "execution_count": 11,
   "metadata": {
    "collapsed": false
   },
   "outputs": [],
   "source": [
    "bows_path = os.path.join(os.path.abspath(os.path.join('../..')), 'src/data/sample_bows.pkl')"
   ]
  },
  {
   "cell_type": "code",
   "execution_count": 17,
   "metadata": {
    "collapsed": false
   },
   "outputs": [],
   "source": [
    "with open(bows_path, 'rb') as f:\n",
    "    bows = pickle.load(f)"
   ]
  },
  {
   "cell_type": "code",
   "execution_count": 69,
   "metadata": {
    "collapsed": true
   },
   "outputs": [],
   "source": [
    "cvs = feature_extract.CountVecSimple()"
   ]
  },
  {
   "cell_type": "code",
   "execution_count": 70,
   "metadata": {
    "collapsed": true
   },
   "outputs": [],
   "source": [
    "cvs.fit(bows)"
   ]
  },
  {
   "cell_type": "code",
   "execution_count": 71,
   "metadata": {
    "collapsed": false
   },
   "outputs": [],
   "source": [
    "bow_mat = cvs.transform(bows)"
   ]
  },
  {
   "cell_type": "code",
   "execution_count": 72,
   "metadata": {
    "collapsed": false
   },
   "outputs": [
    {
     "data": {
      "text/plain": [
       "(2075, 115)"
      ]
     },
     "execution_count": 72,
     "metadata": {},
     "output_type": "execute_result"
    }
   ],
   "source": [
    "bow_mat.shape"
   ]
  },
  {
   "cell_type": "code",
   "execution_count": 62,
   "metadata": {
    "collapsed": false
   },
   "outputs": [],
   "source": [
    "import numpy\n",
    "import pandas"
   ]
  },
  {
   "cell_type": "code",
   "execution_count": 64,
   "metadata": {
    "collapsed": false
   },
   "outputs": [
    {
     "data": {
      "text/plain": [
       "count    2075.000000\n",
       "mean        2.685783\n",
       "std         2.678095\n",
       "min         1.000000\n",
       "25%         1.000000\n",
       "50%         2.000000\n",
       "75%         3.000000\n",
       "max        53.000000\n",
       "dtype: float64"
      ]
     },
     "execution_count": 64,
     "metadata": {},
     "output_type": "execute_result"
    }
   ],
   "source": [
    "pandas.Series(numpy.array(bow_mat.sum(axis=1)).reshape(bow_mat.shape[0],)).describe()"
   ]
  },
  {
   "cell_type": "code",
   "execution_count": 73,
   "metadata": {
    "collapsed": true
   },
   "outputs": [],
   "source": [
    "import metrics"
   ]
  },
  {
   "cell_type": "code",
   "execution_count": 191,
   "metadata": {
    "collapsed": true
   },
   "outputs": [],
   "source": [
    "dds = metrics.calcJMSDocScores(bow_mat)"
   ]
  },
  {
   "cell_type": "code",
   "execution_count": 192,
   "metadata": {
    "collapsed": false
   },
   "outputs": [
    {
     "data": {
      "text/plain": [
       "(2075, 2075)"
      ]
     },
     "execution_count": 192,
     "metadata": {},
     "output_type": "execute_result"
    }
   ],
   "source": [
    "dds.shape"
   ]
  },
  {
   "cell_type": "markdown",
   "metadata": {},
   "source": [
    "### Simple JM Closeness Method"
   ]
  },
  {
   "cell_type": "code",
   "execution_count": 193,
   "metadata": {
    "collapsed": true
   },
   "outputs": [],
   "source": [
    "orig_index = cvs._bwm.lookup_docid('orig')"
   ]
  },
  {
   "cell_type": "code",
   "execution_count": 194,
   "metadata": {
    "collapsed": false
   },
   "outputs": [],
   "source": [
    "close_docs = numpy.argsort(dds[orig_index,:], )[-20:]\n",
    "close_docs = [cvs._bwm.revlookup_docid(did) for did in close_docs]"
   ]
  },
  {
   "cell_type": "code",
   "execution_count": 207,
   "metadata": {
    "collapsed": false
   },
   "outputs": [
    {
     "data": {
      "text/plain": [
       "<module 'mysql_utils' from '/home/immersinn/gits/rssfeed_link_collector/src/mysql_utils.py'>"
      ]
     },
     "execution_count": 207,
     "metadata": {},
     "output_type": "execute_result"
    }
   ],
   "source": [
    "reload(mysql_utils)"
   ]
  },
  {
   "cell_type": "code",
   "execution_count": 208,
   "metadata": {
    "collapsed": false
   },
   "outputs": [],
   "source": [
    "jms_close = mysql_utils.query_docsDetails(close_docs)"
   ]
  },
  {
   "cell_type": "code",
   "execution_count": 209,
   "metadata": {
    "collapsed": false
   },
   "outputs": [
    {
     "name": "stdout",
     "output_type": "stream",
     "text": [
      "KLEIN – Trump-Russia Claims Rethought: How the Obama Administration Was Caught Politicizing Intelligence\n",
      "\n",
      "\n",
      "CNN’s Acosta: Trump Only Calling on Conservative Media Can Only Be Described As ‘The Fix Is In’\n",
      "\n",
      "\n",
      "NYT’s Friedman: Flynn Resignation Shows Russia Hacking Was On Scale With 9/11, Pearl Harbor\n",
      "\n",
      "\n",
      "Dem Rep Moulton: If Trump Admin ‘Conspiring’ with Russia — That Is ‘The Definition of Treason’\n",
      "\n",
      "\n",
      "Donald Trump Denounces ‘Un-American’ Intelligence Leaks to ‘Fake News’\n",
      "\n",
      "\n",
      "Priebus: Take Trump Seriously When he Calls Media ‘The Enemy’\n",
      "\n",
      "\n",
      "Hollywood Reporter’s Wolff to CNN’s Stelter on Trump Coverage: Media Becoming ‘Quite a Ridiculous Figure’\n",
      "\n",
      "\n",
      "CNN’s Stelter: Flynn ‘A Big Moment for Investigative Journalism’\n",
      "\n",
      "\n",
      "Law Enforcement Applauds Trump’s Attack on the ’Dishonest Media’\n",
      "\n",
      "\n",
      "Media escalate Trump-Russia reporting as he rips 'fake news' conspiracies\n",
      "\n",
      "\n",
      "Dems see disparity in handling of Clinton, Russia inquiries\n",
      "\n",
      "\n",
      "First on CNN: John Kasich starts new political chapter\n",
      "\n",
      "\n",
      "US officials corroborate aspects of Russia dossier\n",
      "\n",
      "\n",
      "White House was warned Flynn could be blackmailed by Russia\n",
      "\n",
      "\n",
      "Trump aides spoke regularly to Russian officials during campaign\n",
      "\n",
      "\n",
      "Former Clinton aides apoplectic over Trump campaign-Russia reports\n",
      "\n",
      "\n",
      "21 more questions for President Trump\n",
      "\n",
      "\n",
      "Source: WH knew Flynn misled officials on Russia\n",
      "\n",
      "\n",
      "Coding theorem defines decoding error capacity for general scenarios\n",
      "\n",
      "\n",
      "FBI refused White House request to knock down recent Trump-Russia stories\n",
      "\n",
      "\n"
     ]
    }
   ],
   "source": [
    "for t in jms_close.title:\n",
    "    print(t)\n",
    "    print('\\n')"
   ]
  },
  {
   "cell_type": "markdown",
   "metadata": {},
   "source": [
    "### Simple Spectral 2-Way Method"
   ]
  },
  {
   "cell_type": "code",
   "execution_count": 106,
   "metadata": {
    "collapsed": true
   },
   "outputs": [],
   "source": [
    "import spectral_partition"
   ]
  },
  {
   "cell_type": "code",
   "execution_count": 107,
   "metadata": {
    "collapsed": false
   },
   "outputs": [
    {
     "data": {
      "text/plain": [
       "<module 'spectral_partition' from '/home/immersinn/gits/rssfeed_link_collector/src/spectral_partition.py'>"
      ]
     },
     "execution_count": 107,
     "metadata": {},
     "output_type": "execute_result"
    }
   ],
   "source": [
    "reload(spectral_partition)"
   ]
  },
  {
   "cell_type": "code",
   "execution_count": 197,
   "metadata": {
    "collapsed": false
   },
   "outputs": [],
   "source": [
    "dds_sym = (dds + dds.T) / 2"
   ]
  },
  {
   "cell_type": "code",
   "execution_count": 198,
   "metadata": {
    "collapsed": true
   },
   "outputs": [],
   "source": [
    "C,M = spectral_partition.spectralGraphPartitionSingle(dds_sym, L=6.)"
   ]
  },
  {
   "cell_type": "code",
   "execution_count": 199,
   "metadata": {
    "collapsed": false
   },
   "outputs": [
    {
     "data": {
      "text/plain": [
       "5000.9623860815318"
      ]
     },
     "execution_count": 199,
     "metadata": {},
     "output_type": "execute_result"
    }
   ],
   "source": [
    "M"
   ]
  },
  {
   "cell_type": "code",
   "execution_count": 171,
   "metadata": {
    "collapsed": false
   },
   "outputs": [],
   "source": [
    "orig_grp = numpy.where(C == C[orig_index])[0]\n",
    "orig_grp = [cvs._bwm.revlookup_docid(did) for did in orig_grp]\n",
    "_ = orig_grp.remove('orig')"
   ]
  },
  {
   "cell_type": "code",
   "execution_count": 172,
   "metadata": {
    "collapsed": false
   },
   "outputs": [
    {
     "data": {
      "text/plain": [
       "80"
      ]
     },
     "execution_count": 172,
     "metadata": {},
     "output_type": "execute_result"
    }
   ],
   "source": [
    "len(orig_grp)"
   ]
  },
  {
   "cell_type": "code",
   "execution_count": 154,
   "metadata": {
    "collapsed": true
   },
   "outputs": [],
   "source": [
    "import mysql_utils"
   ]
  },
  {
   "cell_type": "code",
   "execution_count": 155,
   "metadata": {
    "collapsed": false
   },
   "outputs": [
    {
     "data": {
      "text/plain": [
       "<module 'mysql_utils' from '/home/immersinn/gits/rssfeed_link_collector/src/mysql_utils.py'>"
      ]
     },
     "execution_count": 155,
     "metadata": {},
     "output_type": "execute_result"
    }
   ],
   "source": [
    "reload(mysql_utils)"
   ]
  },
  {
   "cell_type": "code",
   "execution_count": 211,
   "metadata": {
    "collapsed": false
   },
   "outputs": [],
   "source": [
    "doc_info = mysql_utils.query_docsDetails(orig_grp)"
   ]
  },
  {
   "cell_type": "code",
   "execution_count": 212,
   "metadata": {
    "collapsed": false
   },
   "outputs": [
    {
     "data": {
      "text/html": [
       "<div>\n",
       "<table border=\"1\" class=\"dataframe\">\n",
       "  <thead>\n",
       "    <tr style=\"text-align: right;\">\n",
       "      <th></th>\n",
       "      <th>link</th>\n",
       "      <th>title</th>\n",
       "      <th>summary</th>\n",
       "      <th>published</th>\n",
       "    </tr>\n",
       "  </thead>\n",
       "  <tbody>\n",
       "    <tr>\n",
       "      <th>0</th>\n",
       "      <td>http://feedproxy.google.com/~r/breitbart/~3/6L...</td>\n",
       "      <td>New York Times Accuses, then Exonerates Trump ...</td>\n",
       "      <td>&lt;a href=\"http://www.breitbart.com/big-governme...</td>\n",
       "      <td>2017-02-15 05:23:20</td>\n",
       "    </tr>\n",
       "    <tr>\n",
       "      <th>1</th>\n",
       "      <td>http://feedproxy.google.com/~r/breitbart/~3/Jc...</td>\n",
       "      <td>Cartel Robberies Continue Along Mexican Border...</td>\n",
       "      <td>&lt;a href=\"http://www.breitbart.com/texas/2017/0...</td>\n",
       "      <td>2017-02-16 15:12:41</td>\n",
       "    </tr>\n",
       "    <tr>\n",
       "      <th>2</th>\n",
       "      <td>http://feedproxy.google.com/~r/breitbart/~3/S8...</td>\n",
       "      <td>Industry Experts, Startup Companies Descend on...</td>\n",
       "      <td>&lt;a href=\"http://www.breitbart.com/tech/2017/02...</td>\n",
       "      <td>2017-02-16 16:23:12</td>\n",
       "    </tr>\n",
       "    <tr>\n",
       "      <th>3</th>\n",
       "      <td>http://feeds.foxnews.com/~r/foxnews/most-popul...</td>\n",
       "      <td>Report: Trump not fully briefed on exec order ...</td>\n",
       "      <td>President Trump was reportedly not fully brief...</td>\n",
       "      <td>2017-02-06 08:46:00</td>\n",
       "    </tr>\n",
       "    <tr>\n",
       "      <th>4</th>\n",
       "      <td>http://feeds.foxnews.com/~r/foxnews/most-popul...</td>\n",
       "      <td>Trump fully briefed on Flynn's calls with Russ...</td>\n",
       "      <td>President Trump was given a comprehensive summ...</td>\n",
       "      <td>2017-02-17 04:42:00</td>\n",
       "    </tr>\n",
       "  </tbody>\n",
       "</table>\n",
       "</div>"
      ],
      "text/plain": [
       "                                                link  \\\n",
       "0  http://feedproxy.google.com/~r/breitbart/~3/6L...   \n",
       "1  http://feedproxy.google.com/~r/breitbart/~3/Jc...   \n",
       "2  http://feedproxy.google.com/~r/breitbart/~3/S8...   \n",
       "3  http://feeds.foxnews.com/~r/foxnews/most-popul...   \n",
       "4  http://feeds.foxnews.com/~r/foxnews/most-popul...   \n",
       "\n",
       "                                               title  \\\n",
       "0  New York Times Accuses, then Exonerates Trump ...   \n",
       "1  Cartel Robberies Continue Along Mexican Border...   \n",
       "2  Industry Experts, Startup Companies Descend on...   \n",
       "3  Report: Trump not fully briefed on exec order ...   \n",
       "4  Trump fully briefed on Flynn's calls with Russ...   \n",
       "\n",
       "                                             summary           published  \n",
       "0  <a href=\"http://www.breitbart.com/big-governme... 2017-02-15 05:23:20  \n",
       "1  <a href=\"http://www.breitbart.com/texas/2017/0... 2017-02-16 15:12:41  \n",
       "2  <a href=\"http://www.breitbart.com/tech/2017/02... 2017-02-16 16:23:12  \n",
       "3  President Trump was reportedly not fully brief... 2017-02-06 08:46:00  \n",
       "4  President Trump was given a comprehensive summ... 2017-02-17 04:42:00  "
      ]
     },
     "execution_count": 212,
     "metadata": {},
     "output_type": "execute_result"
    }
   ],
   "source": [
    "doc_info.head()"
   ]
  },
  {
   "cell_type": "code",
   "execution_count": 159,
   "metadata": {
    "collapsed": false
   },
   "outputs": [
    {
     "data": {
      "text/plain": [
       "'<a href=\"http://www.breitbart.com/sports/2017/02/09/video-charles-oakley-arrested-knicks-game-fighting-security-guard-going-knicks-owner/\" title=\"VIDEO: Charles Oakley Arrested at Knicks Game, After Fighting Security Guard and Going After Knicks Owner\"><img width=\"200\" height=\"150\" src=\"http://media.breitbart.com/media/2017/02/oakley-200x150.png\" alt=\"screenshot\" /></a><br /> Known as one of the “enforcers,” during his eighteen-year career in the NBA, Charles Oakley spent much of that enforcement time at Madison Square Garden. However, after Oakley engaged in some pushing, shoving, and highly questionable behavior at MSG on Wednesday night the only enforcement that occurred was law enforcement.<img src=\"http://feeds.feedburner.com/~r/breitbart/~4/FX7_PbkUWm0\" height=\"1\" width=\"1\" alt=\"\"/>'"
      ]
     },
     "execution_count": 159,
     "metadata": {},
     "output_type": "execute_result"
    }
   ],
   "source": [
    "doc_info.summary[3]"
   ]
  },
  {
   "cell_type": "code",
   "execution_count": 176,
   "metadata": {
    "collapsed": false
   },
   "outputs": [
    {
     "data": {
      "text/html": [
       "<div>\n",
       "<table border=\"1\" class=\"dataframe\">\n",
       "  <thead>\n",
       "    <tr style=\"text-align: right;\">\n",
       "      <th></th>\n",
       "      <th>link</th>\n",
       "      <th>title</th>\n",
       "      <th>summary</th>\n",
       "      <th>published</th>\n",
       "    </tr>\n",
       "  </thead>\n",
       "  <tbody>\n",
       "    <tr>\n",
       "      <th>75</th>\n",
       "      <td>https://www.wired.com/video/what-s-inside-vodka</td>\n",
       "      <td>What's Inside - Vodka</td>\n",
       "      <td>It’s the preferred poison of Russians, dieters...</td>\n",
       "      <td>2014-05-15 05:00:00</td>\n",
       "    </tr>\n",
       "    <tr>\n",
       "      <th>76</th>\n",
       "      <td>https://www.theguardian.com/environment/2017/f...</td>\n",
       "      <td>Green Investment Bank: Australian bidder woos ...</td>\n",
       "      <td>&lt;p&gt;Macquarie insists it is committed to renewa...</td>\n",
       "      <td>2017-02-23 10:37:54</td>\n",
       "    </tr>\n",
       "    <tr>\n",
       "      <th>77</th>\n",
       "      <td>http://www.bbc.co.uk/news/world-asia-39066658</td>\n",
       "      <td>Tiger knocks drone from the sky in keep-fit ex...</td>\n",
       "      <td>Tigers in China chase and knock a drone out of...</td>\n",
       "      <td>2017-02-23 13:27:23</td>\n",
       "    </tr>\n",
       "    <tr>\n",
       "      <th>78</th>\n",
       "      <td>http://www.cnn.com/2017/02/23/politics/fbi-ref...</td>\n",
       "      <td>FBI refused White House request to knock down ...</td>\n",
       "      <td>The FBI rejected a recent White House request ...</td>\n",
       "      <td>2017-02-23 23:02:58</td>\n",
       "    </tr>\n",
       "    <tr>\n",
       "      <th>79</th>\n",
       "      <td>http://feedproxy.google.com/~r/breitbart/~3/91...</td>\n",
       "      <td>The Nuclear Option — More Fake News: Media Fal...</td>\n",
       "      <td>&lt;a href=\"http://www.breitbart.com/big-journali...</td>\n",
       "      <td>2017-02-23 23:50:57</td>\n",
       "    </tr>\n",
       "  </tbody>\n",
       "</table>\n",
       "</div>"
      ],
      "text/plain": [
       "                                                 link  \\\n",
       "75    https://www.wired.com/video/what-s-inside-vodka   \n",
       "76  https://www.theguardian.com/environment/2017/f...   \n",
       "77      http://www.bbc.co.uk/news/world-asia-39066658   \n",
       "78  http://www.cnn.com/2017/02/23/politics/fbi-ref...   \n",
       "79  http://feedproxy.google.com/~r/breitbart/~3/91...   \n",
       "\n",
       "                                                title  \\\n",
       "75                              What's Inside - Vodka   \n",
       "76  Green Investment Bank: Australian bidder woos ...   \n",
       "77  Tiger knocks drone from the sky in keep-fit ex...   \n",
       "78  FBI refused White House request to knock down ...   \n",
       "79  The Nuclear Option — More Fake News: Media Fal...   \n",
       "\n",
       "                                              summary           published  \n",
       "75  It’s the preferred poison of Russians, dieters... 2014-05-15 05:00:00  \n",
       "76  <p>Macquarie insists it is committed to renewa... 2017-02-23 10:37:54  \n",
       "77  Tigers in China chase and knock a drone out of... 2017-02-23 13:27:23  \n",
       "78  The FBI rejected a recent White House request ... 2017-02-23 23:02:58  \n",
       "79  <a href=\"http://www.breitbart.com/big-journali... 2017-02-23 23:50:57  "
      ]
     },
     "execution_count": 176,
     "metadata": {},
     "output_type": "execute_result"
    }
   ],
   "source": [
    "doc_info.tail()"
   ]
  },
  {
   "cell_type": "code",
   "execution_count": 177,
   "metadata": {
    "collapsed": false
   },
   "outputs": [
    {
     "data": {
      "text/plain": [
       "'Tigers in China chase and knock a drone out of the sky, in a keep fit exercise.'"
      ]
     },
     "execution_count": 177,
     "metadata": {},
     "output_type": "execute_result"
    }
   ],
   "source": [
    "doc_info.summary[77]"
   ]
  },
  {
   "cell_type": "code",
   "execution_count": 144,
   "metadata": {
    "collapsed": true
   },
   "outputs": [],
   "source": [
    "other_grp = numpy.where(C != C[cvs._bwm.lookup_docid('orig')])[0]\n",
    "other_grp = [cvs._bwm.revlookup_docid(did) for did in other_grp]"
   ]
  },
  {
   "cell_type": "code",
   "execution_count": 213,
   "metadata": {
    "collapsed": false
   },
   "outputs": [],
   "source": [
    "odoc_info = mysql_utils.query_docsDetails(other_grp)"
   ]
  },
  {
   "cell_type": "code",
   "execution_count": 214,
   "metadata": {
    "collapsed": false
   },
   "outputs": [
    {
     "data": {
      "text/html": [
       "<div>\n",
       "<table border=\"1\" class=\"dataframe\">\n",
       "  <thead>\n",
       "    <tr style=\"text-align: right;\">\n",
       "      <th></th>\n",
       "      <th>link</th>\n",
       "      <th>title</th>\n",
       "      <th>summary</th>\n",
       "      <th>published</th>\n",
       "    </tr>\n",
       "  </thead>\n",
       "  <tbody>\n",
       "    <tr>\n",
       "      <th>0</th>\n",
       "      <td>http://baltimore.cbslocal.com/2017/02/20/balti...</td>\n",
       "      <td>Surgeon makes boy new hand -- with his foot bones</td>\n",
       "      <td>&lt;div class=\"feedflare\"&gt;\\n&lt;a href=\"http://rss.c...</td>\n",
       "      <td>2017-02-21 23:04:36</td>\n",
       "    </tr>\n",
       "    <tr>\n",
       "      <th>1</th>\n",
       "      <td>http://bleacherreport.com/articles/2693359-ray...</td>\n",
       "      <td>MLBer drove for Uber in offseason</td>\n",
       "      <td>&lt;div class=\"feedflare\"&gt;\\n&lt;a href=\"http://rss.c...</td>\n",
       "      <td>2017-02-16 21:06:39</td>\n",
       "    </tr>\n",
       "    <tr>\n",
       "      <th>2</th>\n",
       "      <td>http://blogs.ft.com/the-world/2016/12/ft-podca...</td>\n",
       "      <td>FT podcast: World Weekly with Gideon Rachman</td>\n",
       "      <td>&lt;p&gt;&lt;a href=\"http://podcast.ft.com/2016/12/22/h...</td>\n",
       "      <td>2016-12-22 14:15:04</td>\n",
       "    </tr>\n",
       "    <tr>\n",
       "      <th>3</th>\n",
       "      <td>http://blogs.ft.com/the-world/2016/12/latam-vi...</td>\n",
       "      <td>LatAm Viva: Magic or realism?</td>\n",
       "      <td>&lt;p&gt;&lt;strong&gt;&lt;em&gt;Sign up to receive &lt;a href=\"htt...</td>\n",
       "      <td>2016-12-17 11:30:44</td>\n",
       "    </tr>\n",
       "    <tr>\n",
       "      <th>4</th>\n",
       "      <td>http://blogs.ft.com/the-world/2017/01/ft-podca...</td>\n",
       "      <td>FT podcast: World Weekly with Gideon Rachman</td>\n",
       "      <td>&lt;p&gt;&lt;a href=\"http://podcast.ft.com/2017/01/04/t...</td>\n",
       "      <td>2017-01-05 16:35:53</td>\n",
       "    </tr>\n",
       "  </tbody>\n",
       "</table>\n",
       "</div>"
      ],
      "text/plain": [
       "                                                link  \\\n",
       "0  http://baltimore.cbslocal.com/2017/02/20/balti...   \n",
       "1  http://bleacherreport.com/articles/2693359-ray...   \n",
       "2  http://blogs.ft.com/the-world/2016/12/ft-podca...   \n",
       "3  http://blogs.ft.com/the-world/2016/12/latam-vi...   \n",
       "4  http://blogs.ft.com/the-world/2017/01/ft-podca...   \n",
       "\n",
       "                                               title  \\\n",
       "0  Surgeon makes boy new hand -- with his foot bones   \n",
       "1                  MLBer drove for Uber in offseason   \n",
       "2       FT podcast: World Weekly with Gideon Rachman   \n",
       "3                      LatAm Viva: Magic or realism?   \n",
       "4       FT podcast: World Weekly with Gideon Rachman   \n",
       "\n",
       "                                             summary           published  \n",
       "0  <div class=\"feedflare\">\\n<a href=\"http://rss.c... 2017-02-21 23:04:36  \n",
       "1  <div class=\"feedflare\">\\n<a href=\"http://rss.c... 2017-02-16 21:06:39  \n",
       "2  <p><a href=\"http://podcast.ft.com/2016/12/22/h... 2016-12-22 14:15:04  \n",
       "3  <p><strong><em>Sign up to receive <a href=\"htt... 2016-12-17 11:30:44  \n",
       "4  <p><a href=\"http://podcast.ft.com/2017/01/04/t... 2017-01-05 16:35:53  "
      ]
     },
     "execution_count": 214,
     "metadata": {},
     "output_type": "execute_result"
    }
   ],
   "source": [
    "odoc_info.head()"
   ]
  },
  {
   "cell_type": "code",
   "execution_count": 215,
   "metadata": {
    "collapsed": false
   },
   "outputs": [
    {
     "data": {
      "text/html": [
       "<div>\n",
       "<table border=\"1\" class=\"dataframe\">\n",
       "  <thead>\n",
       "    <tr style=\"text-align: right;\">\n",
       "      <th></th>\n",
       "      <th>link</th>\n",
       "      <th>title</th>\n",
       "      <th>summary</th>\n",
       "      <th>published</th>\n",
       "    </tr>\n",
       "  </thead>\n",
       "  <tbody>\n",
       "    <tr>\n",
       "      <th>1308</th>\n",
       "      <td>http://feeds.foxnews.com/~r/foxnews/national/~...</td>\n",
       "      <td>FBI using billboards for tips in killings of 2...</td>\n",
       "      <td>The FBI is using electronic billboards across ...</td>\n",
       "      <td>2017-02-23 21:36:00</td>\n",
       "    </tr>\n",
       "    <tr>\n",
       "      <th>1309</th>\n",
       "      <td>http://hosted.ap.org/dynamic/stories/A/ATH_RUS...</td>\n",
       "      <td>IAAF clears 3 more Russians to compete at worl...</td>\n",
       "      <td>Track and field authorities have cleared three...</td>\n",
       "      <td>2017-02-23 22:06:47</td>\n",
       "    </tr>\n",
       "    <tr>\n",
       "      <th>1310</th>\n",
       "      <td>http://feeds.foxnews.com/~r/foxnews/sports/~3/...</td>\n",
       "      <td>Nutting: Pirates had 'step back' in '16, but t...</td>\n",
       "      <td>BRADENTON, Fla. (AP) The Pittsburgh Pirates mi...</td>\n",
       "      <td>2017-02-21 00:15:23</td>\n",
       "    </tr>\n",
       "    <tr>\n",
       "      <th>1311</th>\n",
       "      <td>http://feeds.foxnews.com/~r/foxnews/sports/~3/...</td>\n",
       "      <td>Jaguars release veteran defensive lineman Jare...</td>\n",
       "      <td>JACKSONVILLE, Fla. (AP) The Jacksonville Jagua...</td>\n",
       "      <td>2017-02-20 22:21:13</td>\n",
       "    </tr>\n",
       "    <tr>\n",
       "      <th>1312</th>\n",
       "      <td>http://hosted.ap.org/dynamic/stories/W/WA_KIDN...</td>\n",
       "      <td>Man wanted for kidnapping, shooting captured i...</td>\n",
       "      <td>FEDERAL WAY, Wash.        (AP) -- Police say t...</td>\n",
       "      <td>2017-02-24 00:04:43</td>\n",
       "    </tr>\n",
       "  </tbody>\n",
       "</table>\n",
       "</div>"
      ],
      "text/plain": [
       "                                                   link  \\\n",
       "1308  http://feeds.foxnews.com/~r/foxnews/national/~...   \n",
       "1309  http://hosted.ap.org/dynamic/stories/A/ATH_RUS...   \n",
       "1310  http://feeds.foxnews.com/~r/foxnews/sports/~3/...   \n",
       "1311  http://feeds.foxnews.com/~r/foxnews/sports/~3/...   \n",
       "1312  http://hosted.ap.org/dynamic/stories/W/WA_KIDN...   \n",
       "\n",
       "                                                  title  \\\n",
       "1308  FBI using billboards for tips in killings of 2...   \n",
       "1309  IAAF clears 3 more Russians to compete at worl...   \n",
       "1310  Nutting: Pirates had 'step back' in '16, but t...   \n",
       "1311  Jaguars release veteran defensive lineman Jare...   \n",
       "1312  Man wanted for kidnapping, shooting captured i...   \n",
       "\n",
       "                                                summary           published  \n",
       "1308  The FBI is using electronic billboards across ... 2017-02-23 21:36:00  \n",
       "1309  Track and field authorities have cleared three... 2017-02-23 22:06:47  \n",
       "1310  BRADENTON, Fla. (AP) The Pittsburgh Pirates mi... 2017-02-21 00:15:23  \n",
       "1311  JACKSONVILLE, Fla. (AP) The Jacksonville Jagua... 2017-02-20 22:21:13  \n",
       "1312  FEDERAL WAY, Wash.        (AP) -- Police say t... 2017-02-24 00:04:43  "
      ]
     },
     "execution_count": 215,
     "metadata": {},
     "output_type": "execute_result"
    }
   ],
   "source": [
    "odoc_info.tail()"
   ]
  }
 ],
 "metadata": {
  "kernelspec": {
   "display_name": "rss (P3)",
   "language": "python",
   "name": "rss_p3"
  },
  "language_info": {
   "codemirror_mode": {
    "name": "ipython",
    "version": 3
   },
   "file_extension": ".py",
   "mimetype": "text/x-python",
   "name": "python",
   "nbconvert_exporter": "python",
   "pygments_lexer": "ipython3",
   "version": "3.5.2"
  }
 },
 "nbformat": 4,
 "nbformat_minor": 2
}
