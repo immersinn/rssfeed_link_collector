{
 "cells": [
  {
   "cell_type": "code",
   "execution_count": 1,
   "metadata": {
    "collapsed": true
   },
   "outputs": [],
   "source": [
    "import sys\n",
    "import os"
   ]
  },
  {
   "cell_type": "code",
   "execution_count": 2,
   "metadata": {
    "collapsed": true
   },
   "outputs": [],
   "source": [
    "sys.path.append(os.path.join(os.path.abspath(os.path.join('../..')), 'src'))"
   ]
  },
  {
   "cell_type": "code",
   "execution_count": 3,
   "metadata": {
    "collapsed": true
   },
   "outputs": [],
   "source": [
    "from importlib import reload"
   ]
  },
  {
   "cell_type": "code",
   "execution_count": 4,
   "metadata": {
    "collapsed": true
   },
   "outputs": [],
   "source": [
    "import pickle"
   ]
  },
  {
   "cell_type": "code",
   "execution_count": 5,
   "metadata": {
    "collapsed": false
   },
   "outputs": [],
   "source": [
    "import mysql_utils\n",
    "import feature_extract"
   ]
  },
  {
   "cell_type": "code",
   "execution_count": 6,
   "metadata": {
    "collapsed": false
   },
   "outputs": [
    {
     "ename": "NameError",
     "evalue": "name 'build_graph' is not defined",
     "output_type": "error",
     "traceback": [
      "\u001b[0;31m---------------------------------------------------------------------------\u001b[0m",
      "\u001b[0;31mNameError\u001b[0m                                 Traceback (most recent call last)",
      "\u001b[0;32m<ipython-input-6-e7db1caf6e32>\u001b[0m in \u001b[0;36m<module>\u001b[0;34m()\u001b[0m\n\u001b[0;32m----> 1\u001b[0;31m \u001b[0mreload\u001b[0m\u001b[0;34m(\u001b[0m\u001b[0mbuild_graph\u001b[0m\u001b[0;34m)\u001b[0m\u001b[0;34m\u001b[0m\u001b[0m\n\u001b[0m",
      "\u001b[0;31mNameError\u001b[0m: name 'build_graph' is not defined"
     ]
    }
   ],
   "source": [
    "reload(build_graph)"
   ]
  },
  {
   "cell_type": "code",
   "execution_count": 7,
   "metadata": {
    "collapsed": false
   },
   "outputs": [],
   "source": [
    "bows_path = os.path.join(os.path.abspath(os.path.join('../..')), 'src/data/sample_bows.pkl')"
   ]
  },
  {
   "cell_type": "code",
   "execution_count": 8,
   "metadata": {
    "collapsed": false
   },
   "outputs": [],
   "source": [
    "with open(bows_path, 'rb') as f:\n",
    "    bows = pickle.load(f)"
   ]
  },
  {
   "cell_type": "code",
   "execution_count": 9,
   "metadata": {
    "collapsed": true
   },
   "outputs": [],
   "source": [
    "cvs = feature_extract.CountVecSimple()"
   ]
  },
  {
   "cell_type": "code",
   "execution_count": 10,
   "metadata": {
    "collapsed": true
   },
   "outputs": [],
   "source": [
    "cvs.fit(bows)"
   ]
  },
  {
   "cell_type": "code",
   "execution_count": 11,
   "metadata": {
    "collapsed": false
   },
   "outputs": [],
   "source": [
    "bow_mat = cvs.transform(bows)"
   ]
  },
  {
   "cell_type": "code",
   "execution_count": 12,
   "metadata": {
    "collapsed": false
   },
   "outputs": [
    {
     "data": {
      "text/plain": [
       "(2075, 115)"
      ]
     },
     "execution_count": 12,
     "metadata": {},
     "output_type": "execute_result"
    }
   ],
   "source": [
    "bow_mat.shape"
   ]
  },
  {
   "cell_type": "code",
   "execution_count": 78,
   "metadata": {
    "collapsed": false
   },
   "outputs": [],
   "source": [
    "import numpy\n",
    "import scipy\n",
    "import pandas"
   ]
  },
  {
   "cell_type": "code",
   "execution_count": 13,
   "metadata": {
    "collapsed": false
   },
   "outputs": [
    {
     "data": {
      "text/plain": [
       "count    2075.000000\n",
       "mean        2.685783\n",
       "std         2.678095\n",
       "min         1.000000\n",
       "25%         1.000000\n",
       "50%         2.000000\n",
       "75%         3.000000\n",
       "max        53.000000\n",
       "dtype: float64"
      ]
     },
     "execution_count": 13,
     "metadata": {},
     "output_type": "execute_result"
    }
   ],
   "source": [
    "pandas.Series(numpy.array(bow_mat.sum(axis=1)).reshape(bow_mat.shape[0],)).describe()"
   ]
  },
  {
   "cell_type": "code",
   "execution_count": 18,
   "metadata": {
    "collapsed": true
   },
   "outputs": [],
   "source": [
    "import metrics"
   ]
  },
  {
   "cell_type": "code",
   "execution_count": 21,
   "metadata": {
    "collapsed": false
   },
   "outputs": [
    {
     "data": {
      "text/plain": [
       "<module 'metrics' from '/home/immersinn/gits/rssfeed_link_collector/src/metrics.py'>"
      ]
     },
     "execution_count": 21,
     "metadata": {},
     "output_type": "execute_result"
    }
   ],
   "source": [
    "reload(metrics)"
   ]
  },
  {
   "cell_type": "code",
   "execution_count": 73,
   "metadata": {
    "collapsed": false
   },
   "outputs": [],
   "source": [
    "bow_mat2 = bow_mat.tocsr()"
   ]
  },
  {
   "cell_type": "code",
   "execution_count": 81,
   "metadata": {
    "collapsed": false
   },
   "outputs": [],
   "source": [
    "oc = bow_mat2[orig_index,].copy()"
   ]
  },
  {
   "cell_type": "code",
   "execution_count": 82,
   "metadata": {
    "collapsed": false
   },
   "outputs": [
    {
     "data": {
      "text/plain": [
       "(1, 115)"
      ]
     },
     "execution_count": 82,
     "metadata": {},
     "output_type": "execute_result"
    }
   ],
   "source": [
    "oc.shape"
   ]
  },
  {
   "cell_type": "code",
   "execution_count": 83,
   "metadata": {
    "collapsed": false
   },
   "outputs": [
    {
     "data": {
      "text/plain": [
       "(2075, 115)"
      ]
     },
     "execution_count": 83,
     "metadata": {},
     "output_type": "execute_result"
    }
   ],
   "source": [
    "bow_mat.shape"
   ]
  },
  {
   "cell_type": "code",
   "execution_count": 22,
   "metadata": {
    "collapsed": false
   },
   "outputs": [],
   "source": [
    "dds = metrics.calcJMSDocScores(bow_mat)"
   ]
  },
  {
   "cell_type": "code",
   "execution_count": 23,
   "metadata": {
    "collapsed": false
   },
   "outputs": [
    {
     "data": {
      "text/plain": [
       "(2075, 2075)"
      ]
     },
     "execution_count": 23,
     "metadata": {},
     "output_type": "execute_result"
    }
   ],
   "source": [
    "dds.shape"
   ]
  },
  {
   "cell_type": "code",
   "execution_count": 24,
   "metadata": {
    "collapsed": false
   },
   "outputs": [
    {
     "data": {
      "text/plain": [
       "array([[ True,  True,  True, ...,  True,  True,  True],\n",
       "       [ True,  True,  True, ...,  True,  True,  True],\n",
       "       [ True,  True,  True, ...,  True,  True,  True],\n",
       "       ..., \n",
       "       [ True,  True,  True, ...,  True, False,  True],\n",
       "       [ True,  True,  True, ..., False,  True,  True],\n",
       "       [ True,  True,  True, ...,  True,  True,  True]], dtype=bool)"
      ]
     },
     "execution_count": 24,
     "metadata": {},
     "output_type": "execute_result"
    }
   ],
   "source": [
    "dds == dds.T"
   ]
  },
  {
   "cell_type": "code",
   "execution_count": 25,
   "metadata": {
    "collapsed": true
   },
   "outputs": [],
   "source": [
    "def print_top_scores(df, n=20):\n",
    "    for i in df.index[:n]:\n",
    "        print(df.title[i][:80] +\\\n",
    "              ''.join([' ' for _ in  range(max(0, -(len(df.title[i])-80)))]) +\\\n",
    "              \"\\t\\t(score {:.2f})\".format(df.score[i]))"
   ]
  },
  {
   "cell_type": "markdown",
   "metadata": {},
   "source": [
    "### Simple JM Closeness Method"
   ]
  },
  {
   "cell_type": "code",
   "execution_count": 17,
   "metadata": {
    "collapsed": true
   },
   "outputs": [],
   "source": [
    "orig_index = cvs._bwm.lookup_docid('orig')"
   ]
  },
  {
   "cell_type": "code",
   "execution_count": 18,
   "metadata": {
    "collapsed": false
   },
   "outputs": [
    {
     "data": {
      "text/plain": [
       "count    2075.000000\n",
       "mean        0.033776\n",
       "std         0.049774\n",
       "min         0.000000\n",
       "50%         0.008136\n",
       "80%         0.065216\n",
       "90%         0.094275\n",
       "95%         0.118651\n",
       "99%         0.190376\n",
       "max         1.000000\n",
       "dtype: float64"
      ]
     },
     "execution_count": 18,
     "metadata": {},
     "output_type": "execute_result"
    }
   ],
   "source": [
    "pandas.Series(dds[orig_index,:]).describe(percentiles=[0.5, 0.8, 0.9, 0.95, 0.99])"
   ]
  },
  {
   "cell_type": "code",
   "execution_count": 19,
   "metadata": {
    "collapsed": false
   },
   "outputs": [
    {
     "name": "stdout",
     "output_type": "stream",
     "text": [
      "48\n"
     ]
    }
   ],
   "source": [
    "close_docs = numpy.argsort(dds[orig_index,:], )[-30:]\n",
    "close_docs = numpy.where(dds[orig_index,:] >= 0.15)[0]\n",
    "close_docs = [cvs._bwm.revlookup_docid(did) for did in close_docs]\n",
    "print(len(close_docs))"
   ]
  },
  {
   "cell_type": "code",
   "execution_count": 20,
   "metadata": {
    "collapsed": false
   },
   "outputs": [],
   "source": [
    "scores = pandas.DataFrame([{'id' : did, 'score' : dds[orig_index, cvs._bwm.lookup_docid(did)]} \\\n",
    "                           for did in close_docs])\n",
    "scores.index = scores.id\n",
    "scores = scores[['score']]"
   ]
  },
  {
   "cell_type": "code",
   "execution_count": 23,
   "metadata": {
    "collapsed": false
   },
   "outputs": [],
   "source": [
    "jms_close = mysql_utils.query_docsDetails(close_docs, fields=['id', 'link', 'title', 'summary', 'published'])"
   ]
  },
  {
   "cell_type": "code",
   "execution_count": 24,
   "metadata": {
    "collapsed": false
   },
   "outputs": [],
   "source": [
    "jms_close.index = jms_close['id']\n",
    "jms_close = jms_close[['link', 'title', 'summary', 'published']]\n",
    "jms_close = jms_close.join(scores)\n",
    "jms_close = jms_close.sort_values(by='score', ascending=False)"
   ]
  },
  {
   "cell_type": "code",
   "execution_count": 26,
   "metadata": {
    "collapsed": false
   },
   "outputs": [
    {
     "name": "stdout",
     "output_type": "stream",
     "text": [
      "FBI refused White House request to knock down recent Trump-Russia stories       \t\t(score 1.00)\n",
      "US officials corroborate aspects of Russia dossier                              \t\t(score 0.42)\n",
      "Trump aides spoke regularly to Russian officials during campaign                \t\t(score 0.39)\n",
      "Donald Trump Denounces ‘Un-American’ Intelligence Leaks to ‘Fake News’          \t\t(score 0.34)\n",
      "White House was warned Flynn could be blackmailed by Russia                     \t\t(score 0.34)\n",
      "CNN’s Acosta: Trump Only Calling on Conservative Media Can Only Be Described As \t\t(score 0.28)\n",
      "Priebus: Take Trump Seriously When he Calls Media ‘The Enemy’                   \t\t(score 0.24)\n",
      "Dem Rep Moulton: If Trump Admin ‘Conspiring’ with Russia — That Is ‘The Definiti\t\t(score 0.23)\n",
      "Former Clinton aides apoplectic over Trump campaign-Russia reports              \t\t(score 0.23)\n",
      "Hollywood Reporter’s Wolff to CNN’s Stelter on Trump Coverage: Media Becoming ‘Q\t\t(score 0.22)\n",
      "NYT’s Friedman: Flynn Resignation Shows Russia Hacking Was On Scale With 9/11, P\t\t(score 0.22)\n",
      "21 more questions for President Trump                                           \t\t(score 0.21)\n",
      "KLEIN – Trump-Russia Claims Rethought: How the Obama Administration Was Caught P\t\t(score 0.21)\n",
      "Dems see disparity in handling of Clinton, Russia inquiries                     \t\t(score 0.21)\n",
      "First on CNN: John Kasich starts new political chapter                          \t\t(score 0.21)\n",
      "Law Enforcement Applauds Trump’s Attack on the ’Dishonest Media’                \t\t(score 0.21)\n",
      "Coding theorem defines decoding error capacity for general scenarios            \t\t(score 0.20)\n",
      "Media escalate Trump-Russia reporting as he rips 'fake news' conspiracies       \t\t(score 0.20)\n",
      "Source: WH knew Flynn misled officials on Russia                                \t\t(score 0.20)\n",
      "CNN’s Stelter: Flynn ‘A Big Moment for Investigative Journalism’                \t\t(score 0.20)\n",
      "Maxine Waters: Trump’s Administration, Associates Are ‘a Bunch of Scumbags’     \t\t(score 0.20)\n",
      "Who is Paul Manafort?                                                           \t\t(score 0.19)\n",
      "Dems gird for battle on Trump-Russia connections                                \t\t(score 0.19)\n",
      "Schumer: When Jeff Sessions Was Confirmed ‘It Turned My Stomach’                \t\t(score 0.19)\n",
      "FBI posed as journalists to get evidence on Bundys. Now it could hurt their case\t\t(score 0.18)\n",
      "New York Times Accuses, then Exonerates Trump Aides in Russia Claims            \t\t(score 0.18)\n",
      "The dolphin who loved me: the Nasa-funded project that went wrong               \t\t(score 0.18)\n",
      "Donald Trump: Intelligence Leaks ‘A Criminal Act’                               \t\t(score 0.18)\n",
      "Trump steps into security bubble; will he bring his phone?                      \t\t(score 0.17)\n",
      "Flynn reportedly lied to FBI about sanctions talk with Russian envoy            \t\t(score 0.17)\n",
      "FBI not expected to pursue charges against Flynn                                \t\t(score 0.17)\n",
      "Twitter accounts really are echo chambers, study finds                          \t\t(score 0.17)\n",
      "WH: Trump agrees to honor 'One China' policy                                    \t\t(score 0.17)\n",
      "When smog hits the headlines                                                    \t\t(score 0.16)\n",
      "Wallace to Priebus on Trump’s Press Is the ‘Enemy’ Tweet: ‘You Don’t Get to Tell\t\t(score 0.16)\n",
      "Spicer: Leaks ‘Real Concern for this President,’ ‘Undermines National Security’ \t\t(score 0.16)\n",
      "Watch: Kellyanne Conway Has Heated Interview with CNN’s Jake Tapper             \t\t(score 0.16)\n",
      "French far-right candidate Le Pen opposes dual citizenship                      \t\t(score 0.16)\n",
      "Scarborough: 9th Circuit Ruling Is ‘Laughable,’ ‘Will Be Overturned’            \t\t(score 0.16)\n",
      "Sen. Johnson on Flynn: Best policy is to be truthful                            \t\t(score 0.16)\n"
     ]
    }
   ],
   "source": [
    "print_top_scores(jms_close, n=40)"
   ]
  },
  {
   "cell_type": "markdown",
   "metadata": {},
   "source": [
    "### Simple Spectral 2-Way Method"
   ]
  },
  {
   "cell_type": "code",
   "execution_count": 27,
   "metadata": {
    "collapsed": true
   },
   "outputs": [],
   "source": [
    "import spectral_partition"
   ]
  },
  {
   "cell_type": "code",
   "execution_count": null,
   "metadata": {
    "collapsed": false
   },
   "outputs": [],
   "source": [
    "reload(spectral_partition)"
   ]
  },
  {
   "cell_type": "code",
   "execution_count": 28,
   "metadata": {
    "collapsed": false
   },
   "outputs": [],
   "source": [
    "dds_sym = (dds + dds.T) / 2"
   ]
  },
  {
   "cell_type": "code",
   "execution_count": 29,
   "metadata": {
    "collapsed": false
   },
   "outputs": [],
   "source": [
    "groups, counts, history = spectral_partition.spectralGraphPartition23(dds_sym, L=0.5, n_cutoff=15)"
   ]
  },
  {
   "cell_type": "code",
   "execution_count": 30,
   "metadata": {
    "collapsed": false
   },
   "outputs": [
    {
     "data": {
      "text/plain": [
       "{'threeway-pair': 0, 'twoway-pair': 2, 'twoway-single': 5}"
      ]
     },
     "execution_count": 30,
     "metadata": {},
     "output_type": "execute_result"
    }
   ],
   "source": [
    "counts"
   ]
  },
  {
   "cell_type": "code",
   "execution_count": 31,
   "metadata": {
    "collapsed": false
   },
   "outputs": [],
   "source": [
    "orig_grp = numpy.where(groups == groups[orig_index])[0]\n",
    "orig_grp = [cvs._bwm.revlookup_docid(did) for did in orig_grp]\n",
    "_ = orig_grp.remove('orig')"
   ]
  },
  {
   "cell_type": "code",
   "execution_count": 32,
   "metadata": {
    "collapsed": false
   },
   "outputs": [
    {
     "data": {
      "text/plain": [
       "961"
      ]
     },
     "execution_count": 32,
     "metadata": {},
     "output_type": "execute_result"
    }
   ],
   "source": [
    "len(orig_grp)"
   ]
  },
  {
   "cell_type": "code",
   "execution_count": 33,
   "metadata": {
    "collapsed": false
   },
   "outputs": [],
   "source": [
    "scores = [{'id': did, 'score' : dds_sym[orig_index, cvs._bwm.lookup_docid(did)]} for did in orig_grp]\n",
    "scores = pandas.DataFrame(scores)\n",
    "scores.index = scores['id']\n",
    "scores = scores[['score']]"
   ]
  },
  {
   "cell_type": "code",
   "execution_count": 34,
   "metadata": {
    "collapsed": false
   },
   "outputs": [],
   "source": [
    "doc_info = mysql_utils.query_docsDetails(orig_grp, fields=['id', 'link', 'title', 'summary', 'published'])"
   ]
  },
  {
   "cell_type": "code",
   "execution_count": 35,
   "metadata": {
    "collapsed": false
   },
   "outputs": [],
   "source": [
    "doc_info.index = doc_info['id']\n",
    "doc_info = doc_info[['link', 'title', 'summary', 'published']]\n",
    "doc_info = doc_info.join(scores)\n",
    "doc_info = doc_info.sort_values(by='score', ascending=False)"
   ]
  },
  {
   "cell_type": "code",
   "execution_count": 36,
   "metadata": {
    "collapsed": false
   },
   "outputs": [
    {
     "name": "stdout",
     "output_type": "stream",
     "text": [
      "FBI refused White House request to knock down recent Trump-Russia stories       \t\t(score 1.00)\n",
      "US officials corroborate aspects of Russia dossier                              \t\t(score 0.42)\n",
      "Trump aides spoke regularly to Russian officials during campaign                \t\t(score 0.39)\n",
      "Donald Trump Denounces ‘Un-American’ Intelligence Leaks to ‘Fake News’          \t\t(score 0.34)\n",
      "White House was warned Flynn could be blackmailed by Russia                     \t\t(score 0.34)\n",
      "CNN’s Acosta: Trump Only Calling on Conservative Media Can Only Be Described As \t\t(score 0.28)\n",
      "Priebus: Take Trump Seriously When he Calls Media ‘The Enemy’                   \t\t(score 0.24)\n",
      "Dem Rep Moulton: If Trump Admin ‘Conspiring’ with Russia — That Is ‘The Definiti\t\t(score 0.23)\n",
      "Former Clinton aides apoplectic over Trump campaign-Russia reports              \t\t(score 0.23)\n",
      "Hollywood Reporter’s Wolff to CNN’s Stelter on Trump Coverage: Media Becoming ‘Q\t\t(score 0.22)\n",
      "KLEIN – Trump-Russia Claims Rethought: How the Obama Administration Was Caught P\t\t(score 0.21)\n",
      "Dems see disparity in handling of Clinton, Russia inquiries                     \t\t(score 0.21)\n",
      "First on CNN: John Kasich starts new political chapter                          \t\t(score 0.21)\n",
      "Law Enforcement Applauds Trump’s Attack on the ’Dishonest Media’                \t\t(score 0.21)\n",
      "Media escalate Trump-Russia reporting as he rips 'fake news' conspiracies       \t\t(score 0.20)\n",
      "Source: WH knew Flynn misled officials on Russia                                \t\t(score 0.20)\n",
      "CNN’s Stelter: Flynn ‘A Big Moment for Investigative Journalism’                \t\t(score 0.20)\n",
      "Maxine Waters: Trump’s Administration, Associates Are ‘a Bunch of Scumbags’     \t\t(score 0.20)\n",
      "Who is Paul Manafort?                                                           \t\t(score 0.19)\n",
      "Dems gird for battle on Trump-Russia connections                                \t\t(score 0.19)\n",
      "Schumer: When Jeff Sessions Was Confirmed ‘It Turned My Stomach’                \t\t(score 0.19)\n",
      "New York Times Accuses, then Exonerates Trump Aides in Russia Claims            \t\t(score 0.18)\n",
      "Donald Trump: Intelligence Leaks ‘A Criminal Act’                               \t\t(score 0.18)\n",
      "Trump steps into security bubble; will he bring his phone?                      \t\t(score 0.17)\n",
      "Flynn reportedly lied to FBI about sanctions talk with Russian envoy            \t\t(score 0.17)\n",
      "FBI not expected to pursue charges against Flynn                                \t\t(score 0.17)\n",
      "WH: Trump agrees to honor 'One China' policy                                    \t\t(score 0.17)\n",
      "Wallace to Priebus on Trump’s Press Is the ‘Enemy’ Tweet: ‘You Don’t Get to Tell\t\t(score 0.16)\n",
      "Spicer: Leaks ‘Real Concern for this President,’ ‘Undermines National Security’ \t\t(score 0.16)\n",
      "Watch: Kellyanne Conway Has Heated Interview with CNN’s Jake Tapper             \t\t(score 0.16)\n",
      "French far-right candidate Le Pen opposes dual citizenship                      \t\t(score 0.16)\n",
      "Scarborough: 9th Circuit Ruling Is ‘Laughable,’ ‘Will Be Overturned’            \t\t(score 0.16)\n",
      "Sen. Johnson on Flynn: Best policy is to be truthful                            \t\t(score 0.16)\n",
      "House GOP calls for FBI review of intelligence leaks                            \t\t(score 0.16)\n",
      "FAKE NEWS: Sean Spicer Trashes New York Times ‘Bathrobe’ Report                 \t\t(score 0.16)\n",
      "Kremlin denies Flynn discussed sanctions with Russian ambassador                \t\t(score 0.16)\n",
      "Congress struggles to deal with White House chaos                               \t\t(score 0.16)\n",
      "Congress struggles to deal with White House chaos                               \t\t(score 0.16)\n",
      "Congress struggles to deal with White House chaos                               \t\t(score 0.16)\n",
      "Manafort: Never had connection to Putin, Russian government                     \t\t(score 0.15)\n"
     ]
    }
   ],
   "source": [
    "print_top_scores(doc_info, n=40)"
   ]
  },
  {
   "cell_type": "code",
   "execution_count": 66,
   "metadata": {
    "collapsed": false
   },
   "outputs": [
    {
     "data": {
      "text/plain": [
       "0.375"
      ]
     },
     "execution_count": 66,
     "metadata": {},
     "output_type": "execute_result"
    }
   ],
   "source": [
    "sum([i not in docs_l01 for i in jms_close.index]) / jms_close.shape[0]"
   ]
  },
  {
   "cell_type": "code",
   "execution_count": 68,
   "metadata": {
    "collapsed": false
   },
   "outputs": [
    {
     "data": {
      "text/plain": [
       "0.39"
      ]
     },
     "execution_count": 68,
     "metadata": {},
     "output_type": "execute_result"
    }
   ],
   "source": [
    "test_size = 100\n",
    "sum([i not in docs_l01 for i in doc_info.index[:test_size]]) / test_size"
   ]
  },
  {
   "cell_type": "code",
   "execution_count": null,
   "metadata": {
    "collapsed": true
   },
   "outputs": [],
   "source": []
  }
 ],
 "metadata": {
  "kernelspec": {
   "display_name": "rss (P3)",
   "language": "python",
   "name": "rss_p3"
  },
  "language_info": {
   "codemirror_mode": {
    "name": "ipython",
    "version": 3
   },
   "file_extension": ".py",
   "mimetype": "text/x-python",
   "name": "python",
   "nbconvert_exporter": "python",
   "pygments_lexer": "ipython3",
   "version": "3.5.2"
  }
 },
 "nbformat": 4,
 "nbformat_minor": 2
}
