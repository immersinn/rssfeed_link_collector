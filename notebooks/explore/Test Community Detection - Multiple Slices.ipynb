{
 "cells": [
  {
   "cell_type": "code",
   "execution_count": 2,
   "metadata": {
    "collapsed": true
   },
   "outputs": [],
   "source": [
    "import sys\n",
    "import os"
   ]
  },
  {
   "cell_type": "code",
   "execution_count": 3,
   "metadata": {
    "collapsed": true
   },
   "outputs": [],
   "source": [
    "import datetime"
   ]
  },
  {
   "cell_type": "code",
   "execution_count": 4,
   "metadata": {
    "collapsed": true
   },
   "outputs": [],
   "source": [
    "import numpy\n",
    "import scipy\n",
    "import pandas"
   ]
  },
  {
   "cell_type": "code",
   "execution_count": 5,
   "metadata": {
    "collapsed": true
   },
   "outputs": [],
   "source": [
    "%matplotlib inline\n",
    "\n",
    "import matplotlib as mpl\n",
    "import matplotlib.pyplot as plt\n",
    "\n",
    "import seaborn as sns\n",
    "sns.set(style=\"whitegrid\", color_codes=True)"
   ]
  },
  {
   "cell_type": "code",
   "execution_count": 6,
   "metadata": {
    "collapsed": true
   },
   "outputs": [],
   "source": [
    "sys.path.append(os.path.join(os.path.abspath(os.path.join('../..')), 'src'))"
   ]
  },
  {
   "cell_type": "code",
   "execution_count": 7,
   "metadata": {
    "collapsed": true
   },
   "outputs": [],
   "source": [
    "import utils\n",
    "import mysql_utils\n",
    "import events_merge\n",
    "import spectral_partition"
   ]
  },
  {
   "cell_type": "code",
   "execution_count": 14,
   "metadata": {
    "collapsed": true
   },
   "outputs": [],
   "source": [
    "from importlib import reload"
   ]
  },
  {
   "cell_type": "code",
   "execution_count": 25,
   "metadata": {
    "collapsed": false
   },
   "outputs": [
    {
     "data": {
      "text/plain": [
       "<module 'events_merge' from '/home/immersinn/gits/rssfeed_link_collector/src/events_merge.py'>"
      ]
     },
     "execution_count": 25,
     "metadata": {},
     "output_type": "execute_result"
    }
   ],
   "source": [
    "reload(events_merge)"
   ]
  },
  {
   "cell_type": "markdown",
   "metadata": {},
   "source": [
    "## Prelims"
   ]
  },
  {
   "cell_type": "code",
   "execution_count": 8,
   "metadata": {
    "collapsed": true
   },
   "outputs": [],
   "source": [
    "start_date = '2017-02-01'"
   ]
  },
  {
   "cell_type": "markdown",
   "metadata": {},
   "source": [
    "### Get MySQL Connection, Cursor"
   ]
  },
  {
   "cell_type": "code",
   "execution_count": 204,
   "metadata": {
    "collapsed": true
   },
   "outputs": [],
   "source": [
    "cnx = mysql_utils.getCnx()"
   ]
  },
  {
   "cell_type": "code",
   "execution_count": 205,
   "metadata": {
    "collapsed": true
   },
   "outputs": [],
   "source": [
    "cur = mysql_utils.getCur(cnx)"
   ]
  },
  {
   "cell_type": "markdown",
   "metadata": {},
   "source": [
    "## Generate Slices"
   ]
  },
  {
   "cell_type": "code",
   "execution_count": 66,
   "metadata": {
    "collapsed": false
   },
   "outputs": [],
   "source": [
    "docids, tslices = events_merge.get_slices(cur, start_date=start_date, n_segments=5)"
   ]
  },
  {
   "cell_type": "code",
   "execution_count": 67,
   "metadata": {
    "collapsed": false
   },
   "outputs": [
    {
     "data": {
      "text/plain": [
       "dict_keys([0, 1, 2, 3, 4])"
      ]
     },
     "execution_count": 67,
     "metadata": {},
     "output_type": "execute_result"
    }
   ],
   "source": [
    "docids.keys()"
   ]
  },
  {
   "cell_type": "markdown",
   "metadata": {},
   "source": [
    "## Create Simple \"Big Graph\""
   ]
  },
  {
   "cell_type": "code",
   "execution_count": 68,
   "metadata": {
    "collapsed": false
   },
   "outputs": [
    {
     "data": {
      "text/plain": [
       "[(0, 1), (1, 2), (2, 3), (3, 4)]"
      ]
     },
     "execution_count": 68,
     "metadata": {},
     "output_type": "execute_result"
    }
   ],
   "source": [
    "connected_pairs = [(i,i+1) for i in range(len(docids)-1)]\n",
    "connected_pairs"
   ]
  },
  {
   "cell_type": "code",
   "execution_count": 69,
   "metadata": {
    "collapsed": false
   },
   "outputs": [],
   "source": [
    "bg, idmapper = events_merge.merge_slices_simple(docids, tslices, connected_pairs)"
   ]
  },
  {
   "cell_type": "code",
   "execution_count": 70,
   "metadata": {
    "collapsed": false
   },
   "outputs": [],
   "source": [
    "bg = bg.tocsr()"
   ]
  },
  {
   "cell_type": "code",
   "execution_count": 71,
   "metadata": {
    "collapsed": false
   },
   "outputs": [
    {
     "data": {
      "text/plain": [
       "(587, 587)"
      ]
     },
     "execution_count": 71,
     "metadata": {},
     "output_type": "execute_result"
    }
   ],
   "source": [
    "bg.shape"
   ]
  },
  {
   "cell_type": "code",
   "execution_count": 72,
   "metadata": {
    "collapsed": false
   },
   "outputs": [
    {
     "data": {
      "text/plain": [
       "0.145648621901564"
      ]
     },
     "execution_count": 72,
     "metadata": {},
     "output_type": "execute_result"
    }
   ],
   "source": [
    "# Density of matrix\n",
    "bg.nnz / bg.shape[0] ** 2"
   ]
  },
  {
   "cell_type": "code",
   "execution_count": 73,
   "metadata": {
    "collapsed": false
   },
   "outputs": [],
   "source": [
    "cci = numpy.where(bg.sum(axis=1) > 0)[0]"
   ]
  },
  {
   "cell_type": "code",
   "execution_count": 74,
   "metadata": {
    "collapsed": true
   },
   "outputs": [],
   "source": [
    "bg_cci = bg[cci,:][:, cci]"
   ]
  },
  {
   "cell_type": "code",
   "execution_count": 192,
   "metadata": {
    "collapsed": false
   },
   "outputs": [
    {
     "data": {
      "text/plain": [
       "(587, 587)"
      ]
     },
     "execution_count": 192,
     "metadata": {},
     "output_type": "execute_result"
    }
   ],
   "source": [
    "bg_cci.shape"
   ]
  },
  {
   "cell_type": "code",
   "execution_count": 201,
   "metadata": {
    "collapsed": false
   },
   "outputs": [],
   "source": [
    "candidates = [1,5,3]\n",
    "v = set(bg_cci[candidates,:].nonzero()[1])"
   ]
  },
  {
   "cell_type": "code",
   "execution_count": 202,
   "metadata": {
    "collapsed": true
   },
   "outputs": [],
   "source": [
    "candidates = v.update(candidates)"
   ]
  },
  {
   "cell_type": "code",
   "execution_count": 203,
   "metadata": {
    "collapsed": true
   },
   "outputs": [],
   "source": [
    "candidates"
   ]
  },
  {
   "cell_type": "markdown",
   "metadata": {},
   "source": [
    "## Cluster"
   ]
  },
  {
   "cell_type": "code",
   "execution_count": 134,
   "metadata": {
    "collapsed": false
   },
   "outputs": [],
   "source": [
    "def reorder_history_nodes(hhh):\n",
    "    \"\"\"\n",
    "    <Stuffs here>\n",
    "    \"\"\"\n",
    "    order_hist = []\n",
    "    n_nodes, n_levels = hhh.shape\n",
    "    \n",
    "    prev_grps = [0]\n",
    "    for lev in range(n_levels):\n",
    "        if len(prev_grps)==1:\n",
    "            new_order = numpy.argsort(hhh[:,0])\n",
    "            hhh = hhh[new_order,:]\n",
    "            prev_grps = list(numpy.unique(hhh[:,lev]))\n",
    "            order_hist.append(new_order)\n",
    "        else:\n",
    "            new_order = []\n",
    "            new_pgs = []\n",
    "            start = 0\n",
    "            for grp in prev_grps:\n",
    "                # Subset of nodes in \"grp\" from previous step\n",
    "                indx = hhh[:, lev-1] == grp\n",
    "                # Order subset from \"grp\" based on current level assignments\n",
    "                # and add \n",
    "                ns = [i + start for i in list(numpy.argsort(hhh[indx,lev]))]\n",
    "                new_order.extend(ns)\n",
    "                new_pgs.extend(list(numpy.unique(hhh[indx,lev])))\n",
    "                start += len(ns)\n",
    "            hhh = hhh[new_order,:]\n",
    "            prev_grps = new_pgs\n",
    "            order_hist.append(new_order)\n",
    "            \n",
    "    return(hhh)"
   ]
  },
  {
   "cell_type": "code",
   "execution_count": 165,
   "metadata": {
    "collapsed": false
   },
   "outputs": [],
   "source": [
    "groups, counts, history = spectral_partition.spectralGraphPartition23(bg_cci, Bin='bNG', L=20, finetune=False)"
   ]
  },
  {
   "cell_type": "code",
   "execution_count": 166,
   "metadata": {
    "collapsed": false
   },
   "outputs": [
    {
     "data": {
      "text/plain": [
       "{'threeway-pair': 49, 'twoway-pair': 15, 'twoway-single': 1}"
      ]
     },
     "execution_count": 166,
     "metadata": {},
     "output_type": "execute_result"
    }
   ],
   "source": [
    "counts"
   ]
  },
  {
   "cell_type": "code",
   "execution_count": 167,
   "metadata": {
    "collapsed": true
   },
   "outputs": [],
   "source": [
    "h2 = history.copy()"
   ]
  },
  {
   "cell_type": "code",
   "execution_count": 168,
   "metadata": {
    "collapsed": false
   },
   "outputs": [],
   "source": [
    "h2 = reorder_history_nodes(h2)"
   ]
  },
  {
   "cell_type": "code",
   "execution_count": 169,
   "metadata": {
    "collapsed": false
   },
   "outputs": [
    {
     "data": {
      "image/png": "[encoded data removed]",
      "text/plain": [
       "<matplotlib.figure.Figure at 0x7faf72c44b00>"
      ]
     },
     "metadata": {},
     "output_type": "display_data"
    }
   ],
   "source": [
    "sns.set(style=\"white\")\n",
    "\n",
    "f, ax = plt.subplots()\n",
    "\n",
    "# Draw the heatmap using seaborn\n",
    "colors = sns.color_palette(\"Paired\", n_colors=h2.max())\n",
    "main = [1,3,5,7,9] # \"Paired\"\n",
    "#main = [0,1,2,3,4,5] # \"bright\"\n",
    "#main = [0,1,]\n",
    "nmain = [i for i in range(h2.max()) if i not in main]\n",
    "col, ors = [colors[i] for i in main], [colors[j] for j in nmain]\n",
    "numpy.random.shuffle(ors)\n",
    "colors = col; colors.extend(ors)\n",
    "numpy.random.shuffle\n",
    "g = sns.heatmap(h2, \n",
    "                cmap=mpl.colors.ListedColormap(colors),\n",
    "                linecolor='k', linewidths=0.1,\n",
    "                ax=ax, cbar=False, annot=False,\n",
    "                yticklabels=False,\n",
    "                );\n",
    "#g.set(yticks=[]);\n",
    "g.figure.set_size_inches(16, 24);"
   ]
  },
  {
   "cell_type": "code",
   "execution_count": 189,
   "metadata": {
    "collapsed": false
   },
   "outputs": [
    {
     "name": "stdout",
     "output_type": "stream",
     "text": [
      "12\n"
     ]
    }
   ],
   "source": [
    "gps = groups\n",
    "c = 5\n",
    "indxs = numpy.where(gps == c)[0]\n",
    "\n",
    "grp_dids = [idmapper.revlu[i] for i in indxs]\n",
    "print(len(grp_dids))"
   ]
  },
  {
   "cell_type": "code",
   "execution_count": 206,
   "metadata": {
    "collapsed": false
   },
   "outputs": [],
   "source": [
    "ddd = mysql_utils.query_docs_details(cur, grp_dids, \n",
    "                                     fields=['id', 'link', 'title', 'summary', 'published', 'rss_link'])"
   ]
  },
  {
   "cell_type": "code",
   "execution_count": 208,
   "metadata": {
    "collapsed": false
   },
   "outputs": [
    {
     "data": {
      "text/html": [
       "<div>\n",
       "<table border=\"1\" class=\"dataframe\">\n",
       "  <thead>\n",
       "    <tr style=\"text-align: right;\">\n",
       "      <th></th>\n",
       "      <th>id</th>\n",
       "      <th>link</th>\n",
       "      <th>title</th>\n",
       "      <th>summary</th>\n",
       "    </tr>\n",
       "  </thead>\n",
       "  <tbody>\n",
       "    <tr>\n",
       "      <th>0</th>\n",
       "      <td>10442</td>\n",
       "      <td>http://www.bbc.co.uk/news/entertainment-arts-3...</td>\n",
       "      <td>Is Nicole Kidman too young to play this mum?</td>\n",
       "      <td>Nicole Kidman is in talks to play Aquaman's mu...</td>\n",
       "    </tr>\n",
       "    <tr>\n",
       "      <th>1</th>\n",
       "      <td>12015</td>\n",
       "      <td>http://www.bbc.co.uk/news/uk-politics-38840352</td>\n",
       "      <td>Did Diane Abbott have 'Brexit flu'?</td>\n",
       "      <td>The Shadow Health Secretary was absent from th...</td>\n",
       "    </tr>\n",
       "    <tr>\n",
       "      <th>2</th>\n",
       "      <td>13323</td>\n",
       "      <td>http://www.bbc.co.uk/news/world-australia-3883...</td>\n",
       "      <td>The last hanged man</td>\n",
       "      <td>Australia's last hanging was 50 years ago, but...</td>\n",
       "    </tr>\n",
       "    <tr>\n",
       "      <th>3</th>\n",
       "      <td>19868</td>\n",
       "      <td>http://www.ft.com/cms/s/0/222f074c-e899-11e6-8...</td>\n",
       "      <td>EU leaders urged ‘not to punish Brits’ over Br...</td>\n",
       "      <td>Commission vice-president says restraint in ta...</td>\n",
       "    </tr>\n",
       "    <tr>\n",
       "      <th>4</th>\n",
       "      <td>23922</td>\n",
       "      <td>http://www.ft.com/cms/s/0/b06ace70-e95b-11e6-8...</td>\n",
       "      <td>Southern agrees deal to end train drivers’ strike</td>\n",
       "      <td>Relief for commuters as Aslef settles long-run...</td>\n",
       "    </tr>\n",
       "    <tr>\n",
       "      <th>5</th>\n",
       "      <td>25834</td>\n",
       "      <td>http://www.ft.com/cms/s/0/ebc205bc-e945-11e6-9...</td>\n",
       "      <td>Why February will be a key month for dollar bulls</td>\n",
       "      <td>After retreat in January, several key events c...</td>\n",
       "    </tr>\n",
       "    <tr>\n",
       "      <th>6</th>\n",
       "      <td>29548</td>\n",
       "      <td>https://phys.org/news/2017-02-efficient-nano-l...</td>\n",
       "      <td>More efficient nano-LED opens door to faster m...</td>\n",
       "      <td>The electronic data connections within and bet...</td>\n",
       "    </tr>\n",
       "    <tr>\n",
       "      <th>7</th>\n",
       "      <td>30572</td>\n",
       "      <td>https://phys.org/news/2017-02-texas-votes-scie...</td>\n",
       "      <td>Texas votes to change science lessons challeng...</td>\n",
       "      <td>The Texas Board of Education has preliminarily...</td>\n",
       "    </tr>\n",
       "    <tr>\n",
       "      <th>8</th>\n",
       "      <td>30647</td>\n",
       "      <td>https://phys.org/news/2017-02-values-gap-workp...</td>\n",
       "      <td>'Values gap' in workplace can lead millennials...</td>\n",
       "      <td>Much has been made in popular culture about mi...</td>\n",
       "    </tr>\n",
       "    <tr>\n",
       "      <th>9</th>\n",
       "      <td>30721</td>\n",
       "      <td>https://phys.org/news/2017-02-yellowstone-irri...</td>\n",
       "      <td>Judge asked to lift hold on Yellowstone irriga...</td>\n",
       "      <td>U.S. government attorneys have asked a federal...</td>\n",
       "    </tr>\n",
       "    <tr>\n",
       "      <th>10</th>\n",
       "      <td>30857</td>\n",
       "      <td>https://www.theguardian.com/business/2017/feb/...</td>\n",
       "      <td>Bank of England faces fresh embarrassment as t...</td>\n",
       "      <td>&lt;p&gt;Mark Carney and colleagues have been taken ...</td>\n",
       "    </tr>\n",
       "    <tr>\n",
       "      <th>11</th>\n",
       "      <td>30862</td>\n",
       "      <td>https://www.theguardian.com/business/2017/feb/...</td>\n",
       "      <td>Southern rail and union agree deal to end stri...</td>\n",
       "      <td>&lt;p&gt;Train operator reaches agreement with Aslef...</td>\n",
       "    </tr>\n",
       "  </tbody>\n",
       "</table>\n",
       "</div>"
      ],
      "text/plain": [
       "       id                                               link  \\\n",
       "0   10442  http://www.bbc.co.uk/news/entertainment-arts-3...   \n",
       "1   12015     http://www.bbc.co.uk/news/uk-politics-38840352   \n",
       "2   13323  http://www.bbc.co.uk/news/world-australia-3883...   \n",
       "3   19868  http://www.ft.com/cms/s/0/222f074c-e899-11e6-8...   \n",
       "4   23922  http://www.ft.com/cms/s/0/b06ace70-e95b-11e6-8...   \n",
       "5   25834  http://www.ft.com/cms/s/0/ebc205bc-e945-11e6-9...   \n",
       "6   29548  https://phys.org/news/2017-02-efficient-nano-l...   \n",
       "7   30572  https://phys.org/news/2017-02-texas-votes-scie...   \n",
       "8   30647  https://phys.org/news/2017-02-values-gap-workp...   \n",
       "9   30721  https://phys.org/news/2017-02-yellowstone-irri...   \n",
       "10  30857  https://www.theguardian.com/business/2017/feb/...   \n",
       "11  30862  https://www.theguardian.com/business/2017/feb/...   \n",
       "\n",
       "                                                title  \\\n",
       "0        Is Nicole Kidman too young to play this mum?   \n",
       "1                 Did Diane Abbott have 'Brexit flu'?   \n",
       "2                                 The last hanged man   \n",
       "3   EU leaders urged ‘not to punish Brits’ over Br...   \n",
       "4   Southern agrees deal to end train drivers’ strike   \n",
       "5   Why February will be a key month for dollar bulls   \n",
       "6   More efficient nano-LED opens door to faster m...   \n",
       "7   Texas votes to change science lessons challeng...   \n",
       "8   'Values gap' in workplace can lead millennials...   \n",
       "9   Judge asked to lift hold on Yellowstone irriga...   \n",
       "10  Bank of England faces fresh embarrassment as t...   \n",
       "11  Southern rail and union agree deal to end stri...   \n",
       "\n",
       "                                              summary  \n",
       "0   Nicole Kidman is in talks to play Aquaman's mu...  \n",
       "1   The Shadow Health Secretary was absent from th...  \n",
       "2   Australia's last hanging was 50 years ago, but...  \n",
       "3   Commission vice-president says restraint in ta...  \n",
       "4   Relief for commuters as Aslef settles long-run...  \n",
       "5   After retreat in January, several key events c...  \n",
       "6   The electronic data connections within and bet...  \n",
       "7   The Texas Board of Education has preliminarily...  \n",
       "8   Much has been made in popular culture about mi...  \n",
       "9   U.S. government attorneys have asked a federal...  \n",
       "10  <p>Mark Carney and colleagues have been taken ...  \n",
       "11  <p>Train operator reaches agreement with Aslef...  "
      ]
     },
     "execution_count": 208,
     "metadata": {},
     "output_type": "execute_result"
    }
   ],
   "source": [
    "ddd[['id', 'link', 'title', 'summary']].head(15)"
   ]
  },
  {
   "cell_type": "code",
   "execution_count": 174,
   "metadata": {
    "collapsed": false
   },
   "outputs": [
    {
     "name": "stdout",
     "output_type": "stream",
     "text": [
      "Is Nicole Kidman too young to play this mum?\n",
      "\n",
      "\n",
      "Did Diane Abbott have 'Brexit flu'?\n",
      "\n",
      "\n",
      "The last hanged man\n",
      "\n",
      "\n",
      "EU leaders urged ‘not to punish Brits’ over Brexit\n",
      "\n",
      "\n",
      "Southern agrees deal to end train drivers’ strike\n",
      "\n",
      "\n",
      "Why February will be a key month for dollar bulls\n",
      "\n",
      "\n",
      "More efficient nano-LED opens door to faster microchips\n",
      "\n",
      "\n",
      "Texas votes to change science lessons challenging evolution\n",
      "\n",
      "\n",
      "'Values gap' in workplace can lead millennials to look elsewhere\n",
      "\n",
      "\n",
      "Judge asked to lift hold on Yellowstone irrigation dam\n",
      "\n",
      "\n",
      "Bank of England faces fresh embarrassment as tears up its forecasts | Larry Elliott\n",
      "\n",
      "\n",
      "Southern rail and union agree deal to end strikes over driver-only trains\n",
      "\n",
      "\n"
     ]
    }
   ],
   "source": [
    "for s in ddd['title']:\n",
    "    print(s)\n",
    "    print('\\n')"
   ]
  },
  {
   "cell_type": "code",
   "execution_count": 175,
   "metadata": {
    "collapsed": false
   },
   "outputs": [
    {
     "name": "stdout",
     "output_type": "stream",
     "text": [
      "Nicole Kidman is in talks to play Aquaman's mum in the next superhero film - but she is only 12 years older than the actor cast to play her son.\n",
      "\n",
      "\n",
      "The Shadow Health Secretary was absent from the parliamentary vote on the Brexit bill.\n",
      "\n",
      "\n",
      "Australia's last hanging was 50 years ago, but debate over the death penalty has often returned.\n",
      "\n",
      "\n",
      "Commission vice-president says restraint in talks will help member states’ economies\n",
      "\n",
      "\n",
      "Relief for commuters as Aslef settles long-running dispute over expanded role for drivers\n",
      "\n",
      "\n",
      "After retreat in January, several key events could reignite a dollar rally\n",
      "\n",
      "\n",
      "The electronic data connections within and between microchips are increasingly becoming a bottleneck in the exponential growth of data traffic worldwide. Optical connections are the obvious successors but optical data transmission requires an adequate nanoscale light source, and this has been lacking. Scientists at Eindhoven University of Technology (TU/e) now have created a light source that has the right characteristics: a nano-LED that is 1000 times more efficient than its predecessors, and is capable of handling gigabits per second data speeds. They have published their findings in the online journal Nature Communications.\n",
      "\n",
      "\n",
      "The Texas Board of Education has preliminarily voted to ease—but not completely eliminate—state high school science curriculum requirements that experts argued cast doubt on the theory of evolution.\n",
      "\n",
      "\n",
      "Much has been made in popular culture about millennials as they join the working world, including their tendency to \"job hop.\" Although this behavior often is explained as a loyalty issue, new research from the University of Missouri reveals one reason young workers choose to leave a firm is because they find a disconnect between their beliefs and the culture they observe in the workplace.\n",
      "\n",
      "\n",
      "U.S. government attorneys have asked a federal judge to lift an injunction blocking a proposed irrigation dam on the Yellowstone River that critics say could doom an endangered fish.\n",
      "\n",
      "\n",
      "<p>Mark Carney and colleagues have been taken by surprise by the economy’s strong performance despite the Brexit vote </p><p>The Bank of England’s inflation report was supposed to be a dull affair. The City thought the quarterly health check of the UK economy would be a bit of a yawn.</p><p>Big misjudgment, as it happens. </p> <a href=\"https://www.theguardian.com/business/2017/feb/02/bank-of-england-forecasts-mark-carney-brexit-vote\">Continue reading...</a>\n",
      "\n",
      "\n",
      "<p>Train operator reaches agreement with Aslef to end disruption, TUC general secretary Frances O’Grady announces</p><p>A deal has been agreed between Southern rail and the Aslef union to end their dispute over driver-only operated (DOO) trains, the TUC general secretary, Frances O’Grady, has announced.</p><p>Details of the agreement reached in <a href=\"https://www.theguardian.com/business/2017/jan/17/southern-rail-strikes-suspended-as-two-sides-agree-to-tuc-talks\">negotiations</a> <a href=\"https://www.theguardian.com/business/2017/feb/02/qa-what-does-the-southern-rail-deal-over-strikes-mean\">held at the TUC</a> between operating company Govia Thameslink Railway (GTR) and drivers’ union Aslef have yet to be announced, but Aslef appears to have conceded a key principle that a train can run in certain circumstances with only a driver on board. <strong> </strong>It is thought that GTR has reiterated an earlier offer – also made to the RMT – to always roster a second, safety-trained crew member but now with conditions where they could operate trains without them if necessary.</p> <a href=\"https://www.theguardian.com/business/2017/feb/02/southern-rail-deal-reached-to-end-strikes-over-driver-only-trains\">Continue reading...</a>\n",
      "\n",
      "\n"
     ]
    }
   ],
   "source": [
    "for s in ddd['summary']:\n",
    "    print(s)\n",
    "    print('\\n')"
   ]
  },
  {
   "cell_type": "code",
   "execution_count": 158,
   "metadata": {
    "collapsed": false
   },
   "outputs": [],
   "source": [
    "out = events_merge.process_timeslice_v2(ddd[['link', 'title', 'summary']])"
   ]
  },
  {
   "cell_type": "code",
   "execution_count": 159,
   "metadata": {
    "collapsed": false
   },
   "outputs": [],
   "source": [
    "ts_ = out['summary']['tslice']"
   ]
  },
  {
   "cell_type": "code",
   "execution_count": 160,
   "metadata": {
    "collapsed": false
   },
   "outputs": [],
   "source": [
    "mat = scipy.sparse.coo_matrix((ts_['vals'], ts_['ij']))"
   ]
  },
  {
   "cell_type": "code",
   "execution_count": 162,
   "metadata": {
    "collapsed": false
   },
   "outputs": [
    {
     "data": {
      "text/plain": [
       "matrix([[  7.69725273],\n",
       "        [  5.51927922],\n",
       "        [  6.71419242],\n",
       "        [  4.98525604],\n",
       "        [  7.63691678],\n",
       "        [  3.51965667],\n",
       "        [  6.56252049],\n",
       "        [  8.24870465],\n",
       "        [  3.92324275],\n",
       "        [  4.16908181],\n",
       "        [  4.74270314],\n",
       "        [  9.79989063],\n",
       "        [ 17.88542756],\n",
       "        [  9.65094975],\n",
       "        [ 15.08830254],\n",
       "        [ 10.91022352],\n",
       "        [ 11.34627489],\n",
       "        [ 18.55333603],\n",
       "        [  8.72718504],\n",
       "        [  8.28417303],\n",
       "        [  7.62941167],\n",
       "        [ 13.21110938],\n",
       "        [ 22.24022275],\n",
       "        [  6.52589763],\n",
       "        [ 17.83285573],\n",
       "        [ 19.15836876],\n",
       "        [ 16.15503395],\n",
       "        [ 10.92211227],\n",
       "        [ 14.45079314],\n",
       "        [ 13.62886865],\n",
       "        [  7.86630142],\n",
       "        [ 12.61102865],\n",
       "        [ 13.77949277],\n",
       "        [ 13.46306628],\n",
       "        [ 17.2242445 ],\n",
       "        [ 15.55207884],\n",
       "        [ 11.18754063],\n",
       "        [ 11.47413035],\n",
       "        [ 16.04446049],\n",
       "        [  5.97305772],\n",
       "        [ 18.48708712],\n",
       "        [ 14.82181918],\n",
       "        [ 18.39627873],\n",
       "        [ 14.85520191],\n",
       "        [ 12.58128129],\n",
       "        [ 16.45654906],\n",
       "        [  9.49154944],\n",
       "        [ 10.6427219 ]])"
      ]
     },
     "execution_count": 162,
     "metadata": {},
     "output_type": "execute_result"
    }
   ],
   "source": [
    "mat.sum(axis=1)"
   ]
  },
  {
   "cell_type": "code",
   "execution_count": null,
   "metadata": {
    "collapsed": true
   },
   "outputs": [],
   "source": []
  }
 ],
 "metadata": {
  "kernelspec": {
   "display_name": "conda3",
   "language": "python",
   "name": "conda3"
  },
  "language_info": {
   "codemirror_mode": {
    "name": "ipython",
    "version": 3
   },
   "file_extension": ".py",
   "mimetype": "text/x-python",
   "name": "python",
   "nbconvert_exporter": "python",
   "pygments_lexer": "ipython3",
   "version": "3.5.2"
  }
 },
 "nbformat": 4,
 "nbformat_minor": 2
}
