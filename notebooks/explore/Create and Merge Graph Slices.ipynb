{
 "cells": [
  {
   "cell_type": "code",
   "execution_count": 1,
   "metadata": {
    "collapsed": true
   },
   "outputs": [],
   "source": [
    "import sys\n",
    "import os"
   ]
  },
  {
   "cell_type": "code",
   "execution_count": 2,
   "metadata": {
    "collapsed": true
   },
   "outputs": [],
   "source": [
    "import datetime"
   ]
  },
  {
   "cell_type": "code",
   "execution_count": 3,
   "metadata": {
    "collapsed": true
   },
   "outputs": [],
   "source": [
    "import numpy\n",
    "import scipy\n",
    "import pandas"
   ]
  },
  {
   "cell_type": "code",
   "execution_count": 4,
   "metadata": {
    "collapsed": true
   },
   "outputs": [],
   "source": [
    "sys.path.append(os.path.join(os.path.abspath(os.path.join('../..')), 'src'))"
   ]
  },
  {
   "cell_type": "code",
   "execution_count": 5,
   "metadata": {
    "collapsed": true
   },
   "outputs": [],
   "source": [
    "import utils\n",
    "import mysql_utils\n",
    "import events_merge"
   ]
  },
  {
   "cell_type": "code",
   "execution_count": 6,
   "metadata": {
    "collapsed": true
   },
   "outputs": [],
   "source": [
    "from importlib import reload"
   ]
  },
  {
   "cell_type": "markdown",
   "metadata": {},
   "source": [
    "## Process Outline"
   ]
  },
  {
   "cell_type": "markdown",
   "metadata": {},
   "source": [
    "1. Get List of Dates of interest\n",
    "2. For each (start, stop) pair:\n",
    "  1. Query feed entries from DB corresponding to range\n",
    "  2. Generate Graph / Network for time slice:\n",
    "    1. Find stories about same event; give maximal edge weight\n",
    "    2. Calculate similarities between all stories; set edges with weights proprotional to similarity\n",
    "3. Merge slices to create a single network\n",
    "  1. Give idential stories in adjacent slices an edge with maximal weight"
   ]
  },
  {
   "cell_type": "markdown",
   "metadata": {},
   "source": [
    "## Create Sequence of dates of interest"
   ]
  },
  {
   "cell_type": "code",
   "execution_count": 7,
   "metadata": {
    "collapsed": false
   },
   "outputs": [],
   "source": [
    "base = datetime.datetime.strptime('2017-02-01 00:00:00', '%Y-%m-%d %H:%M:%S')"
   ]
  },
  {
   "cell_type": "code",
   "execution_count": 8,
   "metadata": {
    "collapsed": true
   },
   "outputs": [],
   "source": [
    "date_list = [base + datetime.timedelta(hours=x) for x in range(0, 24*7, 6)]"
   ]
  },
  {
   "cell_type": "code",
   "execution_count": 86,
   "metadata": {
    "collapsed": false
   },
   "outputs": [
    {
     "data": {
      "text/plain": [
       "[datetime.datetime(2017, 2, 1, 0, 0),\n",
       " datetime.datetime(2017, 2, 1, 6, 0),\n",
       " datetime.datetime(2017, 2, 1, 12, 0),\n",
       " datetime.datetime(2017, 2, 1, 18, 0)]"
      ]
     },
     "execution_count": 86,
     "metadata": {},
     "output_type": "execute_result"
    }
   ],
   "source": [
    "date_list[:4]"
   ]
  },
  {
   "cell_type": "markdown",
   "metadata": {},
   "source": [
    "## Example on 1 Slice"
   ]
  },
  {
   "cell_type": "markdown",
   "metadata": {},
   "source": [
    "### 01: Query & Clean Data"
   ]
  },
  {
   "cell_type": "code",
   "execution_count": 91,
   "metadata": {
    "collapsed": true
   },
   "outputs": [],
   "source": [
    "cnx = mysql_utils.getCnx()"
   ]
  },
  {
   "cell_type": "code",
   "execution_count": 92,
   "metadata": {
    "collapsed": true
   },
   "outputs": [],
   "source": [
    "cur = mysql_utils.getCur(cnx)"
   ]
  },
  {
   "cell_type": "code",
   "execution_count": 12,
   "metadata": {
    "collapsed": false
   },
   "outputs": [],
   "source": [
    "i = 0\n",
    "docs = mysql_utils.query_docs_by_datetime(cursor=cur, \n",
    "                                          start_dt=date_list[i], \n",
    "                                          end_dt=date_list[i + 4])"
   ]
  },
  {
   "cell_type": "code",
   "execution_count": 13,
   "metadata": {
    "collapsed": true
   },
   "outputs": [],
   "source": [
    "# Filter out duplicates?\n",
    "unique_entries = []\n",
    "titles = set()\n",
    "for i in docs.index:\n",
    "    if docs.ix[i].title not in titles:\n",
    "        unique_entries.append(i)\n",
    "        titles.update([docs.ix[i].title])\n",
    "\n",
    "docs = docs.ix[unique_entries]\n",
    "docs.index = range(docs.shape[0])"
   ]
  },
  {
   "cell_type": "code",
   "execution_count": 14,
   "metadata": {
    "collapsed": false
   },
   "outputs": [
    {
     "data": {
      "text/plain": [
       "(285, 5)"
      ]
     },
     "execution_count": 14,
     "metadata": {},
     "output_type": "execute_result"
    }
   ],
   "source": [
    "docs.shape"
   ]
  },
  {
   "cell_type": "markdown",
   "metadata": {},
   "source": [
    "### 02: Calculate Title, Summary Similarities"
   ]
  },
  {
   "cell_type": "code",
   "execution_count": 15,
   "metadata": {
    "collapsed": false
   },
   "outputs": [],
   "source": [
    "docid_t, title_scores = events_merge.get_doc_featurevecs(docs, features=['title'])"
   ]
  },
  {
   "cell_type": "code",
   "execution_count": 16,
   "metadata": {
    "collapsed": true
   },
   "outputs": [],
   "source": [
    "docid_s, summary_scores = events_merge.get_doc_featurevecs(docs)"
   ]
  },
  {
   "cell_type": "code",
   "execution_count": 17,
   "metadata": {
    "collapsed": false
   },
   "outputs": [
    {
     "data": {
      "text/plain": [
       "(285, 285)"
      ]
     },
     "execution_count": 17,
     "metadata": {},
     "output_type": "execute_result"
    }
   ],
   "source": [
    "summary_scores.shape"
   ]
  },
  {
   "cell_type": "markdown",
   "metadata": {},
   "source": [
    "### 03: Build Network Slice"
   ]
  },
  {
   "cell_type": "code",
   "execution_count": 18,
   "metadata": {
    "collapsed": false
   },
   "outputs": [
    {
     "data": {
      "text/plain": [
       "count    81225.000000\n",
       "mean         0.003731\n",
       "std          0.026811\n",
       "min          0.000000\n",
       "25%          0.000000\n",
       "50%          0.000000\n",
       "75%          0.000000\n",
       "max          1.000000\n",
       "dtype: float64"
      ]
     },
     "execution_count": 18,
     "metadata": {},
     "output_type": "execute_result"
    }
   ],
   "source": [
    "pandas.Series(title_scores.flatten()).describe()"
   ]
  },
  {
   "cell_type": "code",
   "execution_count": 19,
   "metadata": {
    "collapsed": false
   },
   "outputs": [
    {
     "data": {
      "text/plain": [
       "count    81225.000000\n",
       "mean         0.014200\n",
       "std          0.033709\n",
       "min          0.000000\n",
       "25%          0.000000\n",
       "50%          0.000000\n",
       "75%          0.000000\n",
       "max          1.000000\n",
       "dtype: float64"
      ]
     },
     "execution_count": 19,
     "metadata": {},
     "output_type": "execute_result"
    }
   ],
   "source": [
    "pandas.Series(summary_scores.flatten()).describe()"
   ]
  },
  {
   "cell_type": "code",
   "execution_count": 20,
   "metadata": {
    "collapsed": true
   },
   "outputs": [],
   "source": [
    "title_cutoff = 0.5\n",
    "summary_cutoff = 0.1"
   ]
  },
  {
   "cell_type": "code",
   "execution_count": 21,
   "metadata": {
    "collapsed": true
   },
   "outputs": [],
   "source": [
    "# Find where Score is greater than threshold cutoff\n",
    "hits_title = numpy.where(title_scores > title_cutoff)\n",
    "hits_summary = numpy.where(summary_scores > summary_cutoff)"
   ]
  },
  {
   "cell_type": "code",
   "execution_count": 22,
   "metadata": {
    "collapsed": false
   },
   "outputs": [],
   "source": [
    "ij = (numpy.hstack([hits_title[0], hits_summary[0]]),\n",
    "      numpy.hstack([hits_title[1], hits_summary[1]]))"
   ]
  },
  {
   "cell_type": "code",
   "execution_count": 23,
   "metadata": {
    "collapsed": false
   },
   "outputs": [],
   "source": [
    "data = numpy.ones((len(ij[0]),))"
   ]
  },
  {
   "cell_type": "code",
   "execution_count": 24,
   "metadata": {
    "collapsed": false
   },
   "outputs": [],
   "source": [
    "time_slice = scipy.sparse.coo_matrix((data, ij), shape=summary_scores.shape)"
   ]
  },
  {
   "cell_type": "code",
   "execution_count": 26,
   "metadata": {
    "collapsed": false
   },
   "outputs": [
    {
     "data": {
      "text/plain": [
       "0.029818405663281009"
      ]
     },
     "execution_count": 26,
     "metadata": {},
     "output_type": "execute_result"
    }
   ],
   "source": [
    "time_slice.sum() / time_slice.shape[0] ** 2"
   ]
  },
  {
   "cell_type": "markdown",
   "metadata": {},
   "source": [
    "## Splice Multiple Slices"
   ]
  },
  {
   "cell_type": "markdown",
   "metadata": {},
   "source": [
    "### 00: Query and Prep Data"
   ]
  },
  {
   "cell_type": "code",
   "execution_count": 29,
   "metadata": {
    "collapsed": true
   },
   "outputs": [],
   "source": [
    "sc = 0.25"
   ]
  },
  {
   "cell_type": "code",
   "execution_count": 50,
   "metadata": {
    "collapsed": false
   },
   "outputs": [
    {
     "data": {
      "text/plain": [
       "<module 'events_merge' from '/home/immersinn/gits/rssfeed_link_collector/src/events_merge.py'>"
      ]
     },
     "execution_count": 50,
     "metadata": {},
     "output_type": "execute_result"
    }
   ],
   "source": [
    "reload(events_merge)"
   ]
  },
  {
   "cell_type": "code",
   "execution_count": 51,
   "metadata": {
    "collapsed": false
   },
   "outputs": [],
   "source": [
    "out = events_merge.process_timeslice_v2(mysql_utils.query_docs_by_datetime(cursor=cur,\n",
    "                                                                           start_dt=date_list[0],\n",
    "                                                                           end_dt=date_list[0 + 4]))"
   ]
  },
  {
   "cell_type": "code",
   "execution_count": 52,
   "metadata": {
    "collapsed": false
   },
   "outputs": [
    {
     "data": {
      "text/plain": [
       "dict_keys(['title', 'summary'])"
      ]
     },
     "execution_count": 52,
     "metadata": {},
     "output_type": "execute_result"
    }
   ],
   "source": [
    "out.keys()"
   ]
  },
  {
   "cell_type": "code",
   "execution_count": 53,
   "metadata": {
    "collapsed": false
   },
   "outputs": [
    {
     "data": {
      "text/plain": [
       "dict_keys(['tslice', 'doc_ids'])"
      ]
     },
     "execution_count": 53,
     "metadata": {},
     "output_type": "execute_result"
    }
   ],
   "source": [
    "out['summary'].keys()"
   ]
  },
  {
   "cell_type": "code",
   "execution_count": 46,
   "metadata": {
    "collapsed": false
   },
   "outputs": [],
   "source": [
    "details ={'summary' : {'features' : ['title', 'summary'],\n",
    "                       'cutoff' : 0.1,\n",
    "                       'to_binary' : False,\n",
    "                       'make_symmetric' : True, 'sym_func' : lambda x,y : (x+y)/2}\n",
    "         }"
   ]
  },
  {
   "cell_type": "code",
   "execution_count": 54,
   "metadata": {
    "collapsed": true
   },
   "outputs": [],
   "source": [
    "out_01 = events_merge.process_timeslice_v2(mysql_utils.query_docs_by_datetime(cursor=cur,\n",
    "                                                                              start_dt=date_list[0],\n",
    "                                                                              end_dt=date_list[0 + 4]),\n",
    "                                           details=details)\n",
    "docids_01 = out_01['summary']['doc_ids']\n",
    "tslice_01 = out_01['summary']['tslice']"
   ]
  },
  {
   "cell_type": "code",
   "execution_count": 55,
   "metadata": {
    "collapsed": true
   },
   "outputs": [],
   "source": [
    "out_02 = events_merge.process_timeslice_v2(mysql_utils.query_docs_by_datetime(cursor=cur,\n",
    "                                                                              start_dt=date_list[1],\n",
    "                                                                              end_dt=date_list[1 + 4]),\n",
    "                                           details=details)\n",
    "docids_02 = out_02['summary']['doc_ids']\n",
    "tslice_02 = out_02['summary']['tslice']"
   ]
  },
  {
   "cell_type": "code",
   "execution_count": 56,
   "metadata": {
    "collapsed": true
   },
   "outputs": [],
   "source": [
    "out_03 = events_merge.process_timeslice_v2(mysql_utils.query_docs_by_datetime(cursor=cur,\n",
    "                                                                              start_dt=date_list[2],\n",
    "                                                                              end_dt=date_list[2 + 4]),\n",
    "                                           details=details)\n",
    "docids_03 = out_03['summary']['doc_ids']\n",
    "tslice_03 = out_03['summary']['tslice']"
   ]
  },
  {
   "cell_type": "code",
   "execution_count": 57,
   "metadata": {
    "collapsed": false
   },
   "outputs": [],
   "source": [
    "docids = {0 : docids_01,\n",
    "          1 : docids_02,\n",
    "          2 : docids_03}\n",
    "tslices = {0 : tslice_01,\n",
    "           1 : tslice_02,\n",
    "           2 : tslice_03}"
   ]
  },
  {
   "cell_type": "markdown",
   "metadata": {},
   "source": [
    "*We're going to assume that the IDs are numeric since that's what we will be moving to...*"
   ]
  },
  {
   "cell_type": "code",
   "execution_count": 66,
   "metadata": {
    "collapsed": true
   },
   "outputs": [],
   "source": [
    "class DocIDMapper():\n",
    "    \n",
    "    def __init__(self,):\n",
    "        self.uids = set()\n",
    "    \n",
    "    def __len__(self):\n",
    "        return(len(self.uids))\n",
    "    \n",
    "    def _update_ids(self, docids):\n",
    "        self.uids.update(set(docids))\n",
    "    \n",
    "    def fit(self, docids):\n",
    "        if type(docids[0]) in [tuple, list]:\n",
    "            for dids in docids:\n",
    "                self._update_ids(dids)\n",
    "        else:\n",
    "            self_update_ids(docids)\n",
    "            \n",
    "        self.lookup = {v : i for i,v in enumerate(self.uids)}\n",
    "        self.revlu = {i : v for i,v in enumerate(self.uids)}\n",
    "        \n",
    "    def transform(self, docids):\n",
    "        out = []\n",
    "        for did in docids:\n",
    "            try:\n",
    "                out.append(self.lookup[did])\n",
    "            except KeyError:\n",
    "                out.append(None)\n",
    "        return(out)"
   ]
  },
  {
   "cell_type": "code",
   "execution_count": 67,
   "metadata": {
    "collapsed": true
   },
   "outputs": [],
   "source": [
    "idmapper = DocIDMapper()"
   ]
  },
  {
   "cell_type": "code",
   "execution_count": 68,
   "metadata": {
    "collapsed": false
   },
   "outputs": [],
   "source": [
    "idmapper.fit([docids_01, docids_02, docids_03])"
   ]
  },
  {
   "cell_type": "code",
   "execution_count": 69,
   "metadata": {
    "collapsed": true
   },
   "outputs": [],
   "source": [
    "docids = {0 : idmapper.transform(docids_01),\n",
    "          1 : idmapper.transform(docids_02),\n",
    "          2 : idmapper.transform(docids_03)\n",
    "         }"
   ]
  },
  {
   "cell_type": "markdown",
   "metadata": {},
   "source": [
    "### 01: Find Matching Entries"
   ]
  },
  {
   "cell_type": "code",
   "execution_count": 58,
   "metadata": {
    "collapsed": true
   },
   "outputs": [],
   "source": [
    "connected_pairs = [(0,1), (1,2)]"
   ]
  },
  {
   "cell_type": "code",
   "execution_count": 59,
   "metadata": {
    "collapsed": false
   },
   "outputs": [],
   "source": [
    "s2smap = {}\n",
    "for pair in connected_pairs:\n",
    "    temp = []\n",
    "    for i,did in enumerate(docids[pair[1]]):\n",
    "        try:\n",
    "            temp.append((docids[pair[0]].index(did), i))\n",
    "        except ValueError:\n",
    "            pass\n",
    "    s2smap['-'.join([str(p) for p in pair])] = temp"
   ]
  },
  {
   "cell_type": "code",
   "execution_count": 60,
   "metadata": {
    "collapsed": false
   },
   "outputs": [
    {
     "data": {
      "text/plain": [
       "[(0, 0), (1, 1), (2, 2), (3, 3), (4, 5)]"
      ]
     },
     "execution_count": 60,
     "metadata": {},
     "output_type": "execute_result"
    }
   ],
   "source": [
    "s2smap['0-1'][:5]"
   ]
  },
  {
   "cell_type": "code",
   "execution_count": 61,
   "metadata": {
    "collapsed": false
   },
   "outputs": [
    {
     "data": {
      "text/plain": [
       "[(285, 308), (286, 309), (287, 310), (288, 312), (289, 313)]"
      ]
     },
     "execution_count": 61,
     "metadata": {},
     "output_type": "execute_result"
    }
   ],
   "source": [
    "s2smap['1-2'][-5:]"
   ]
  },
  {
   "cell_type": "markdown",
   "metadata": {},
   "source": [
    "### 02: Create Big Graph"
   ]
  },
  {
   "cell_type": "code",
   "execution_count": 79,
   "metadata": {
    "collapsed": false
   },
   "outputs": [],
   "source": [
    "newi = []\n",
    "newj = []\n",
    "newdata = []\n",
    "for k,ts in tslices.items():\n",
    "    newi.extend([docids[k][ent] for ent in ts['ij'][0]])\n",
    "    newj.extend([docids[k][ent] for ent in ts['ij'][1]])\n",
    "    newdata.extend(ts['vals'])"
   ]
  },
  {
   "cell_type": "code",
   "execution_count": 82,
   "metadata": {
    "collapsed": false
   },
   "outputs": [],
   "source": [
    "bg = scipy.sparse.coo_matrix((newdata, (newi, newj)), shape=(len(idmapper), len(idmapper)))"
   ]
  },
  {
   "cell_type": "code",
   "execution_count": 83,
   "metadata": {
    "collapsed": false
   },
   "outputs": [
    {
     "data": {
      "text/plain": [
       "(397, 397)"
      ]
     },
     "execution_count": 83,
     "metadata": {},
     "output_type": "execute_result"
    }
   ],
   "source": [
    "bg.shape"
   ]
  },
  {
   "cell_type": "code",
   "execution_count": 85,
   "metadata": {
    "collapsed": false
   },
   "outputs": [
    {
     "data": {
      "text/plain": [
       "5570.45537763218"
      ]
     },
     "execution_count": 85,
     "metadata": {},
     "output_type": "execute_result"
    }
   ],
   "source": [
    "bg.sum()"
   ]
  },
  {
   "cell_type": "code",
   "execution_count": null,
   "metadata": {
    "collapsed": true
   },
   "outputs": [],
   "source": [
    "bg_cci"
   ]
  },
  {
   "cell_type": "code",
   "execution_count": null,
   "metadata": {
    "collapsed": true
   },
   "outputs": [],
   "source": [
    "groups, counts = test_spectral.spectralGraphPartition23(bg.tocsr(), Bin='bNG', finetune=False)"
   ]
  },
  {
   "cell_type": "code",
   "execution_count": null,
   "metadata": {
    "collapsed": false
   },
   "outputs": [],
   "source": [
    "counts"
   ]
  },
  {
   "cell_type": "code",
   "execution_count": null,
   "metadata": {
    "collapsed": false
   },
   "outputs": [],
   "source": [
    "groups"
   ]
  },
  {
   "cell_type": "code",
   "execution_count": null,
   "metadata": {
    "collapsed": false
   },
   "outputs": [],
   "source": [
    "numpy.unique(grps)"
   ]
  },
  {
   "cell_type": "code",
   "execution_count": null,
   "metadata": {
    "collapsed": true
   },
   "outputs": [],
   "source": []
  }
 ],
 "metadata": {
  "kernelspec": {
   "display_name": "conda3",
   "language": "python",
   "name": "conda3"
  },
  "language_info": {
   "codemirror_mode": {
    "name": "ipython",
    "version": 3
   },
   "file_extension": ".py",
   "mimetype": "text/x-python",
   "name": "python",
   "nbconvert_exporter": "python",
   "pygments_lexer": "ipython3",
   "version": "3.5.2"
  }
 },
 "nbformat": 4,
 "nbformat_minor": 2
}
