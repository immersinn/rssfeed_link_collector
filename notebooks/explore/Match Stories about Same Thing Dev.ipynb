{
 "cells": [
  {
   "cell_type": "code",
   "execution_count": 1,
   "metadata": {
    "collapsed": true
   },
   "outputs": [],
   "source": [
    "import sys\n",
    "import os"
   ]
  },
  {
   "cell_type": "code",
   "execution_count": 2,
   "metadata": {
    "collapsed": true
   },
   "outputs": [],
   "source": [
    "%matplotlib inline\n",
    "\n",
    "import matplotlib as mpl\n",
    "import matplotlib.pyplot as plt\n",
    "\n",
    "import seaborn as sns\n",
    "sns.set(style=\"whitegrid\", color_codes=True)"
   ]
  },
  {
   "cell_type": "code",
   "execution_count": 3,
   "metadata": {
    "collapsed": true
   },
   "outputs": [],
   "source": [
    "import mysql.connector\n",
    "from mysql.connector.cursor import MySQLCursor"
   ]
  },
  {
   "cell_type": "code",
   "execution_count": 4,
   "metadata": {
    "collapsed": true
   },
   "outputs": [],
   "source": [
    "import pandas"
   ]
  },
  {
   "cell_type": "code",
   "execution_count": 5,
   "metadata": {
    "collapsed": true
   },
   "outputs": [],
   "source": [
    "sys.path.append(os.path.join(os.path.abspath(os.path.join('../..')), 'src'))"
   ]
  },
  {
   "cell_type": "code",
   "execution_count": 6,
   "metadata": {
    "collapsed": false
   },
   "outputs": [],
   "source": [
    "import utils"
   ]
  },
  {
   "cell_type": "markdown",
   "metadata": {},
   "source": [
    "## Query Data from MySQL"
   ]
  },
  {
   "cell_type": "code",
   "execution_count": 6,
   "metadata": {
    "collapsed": true
   },
   "outputs": [],
   "source": [
    "cnx = mysql.connector.connect(user='immersinn', password='pass01', database='articles')"
   ]
  },
  {
   "cell_type": "code",
   "execution_count": 7,
   "metadata": {
    "collapsed": true
   },
   "outputs": [],
   "source": [
    "cur = MySQLCursor(cnx)"
   ]
  },
  {
   "cell_type": "code",
   "execution_count": 8,
   "metadata": {
    "collapsed": true
   },
   "outputs": [],
   "source": [
    "fields = ['link', 'title', 'rss_link', 'summary', 'published']"
   ]
  },
  {
   "cell_type": "code",
   "execution_count": 9,
   "metadata": {
    "collapsed": false
   },
   "outputs": [
    {
     "data": {
      "text/plain": [
       "'SELECT link, title, rss_link, summary, published FROM rssfeed_links WHERE published BETWEEN %s AND %s'"
      ]
     },
     "execution_count": 9,
     "metadata": {},
     "output_type": "execute_result"
    }
   ],
   "source": [
    "date_query_base = '''SELECT ''' + \\\n",
    "                      ', '.join(fields) + \\\n",
    "                      ''' FROM rssfeed_links WHERE published BETWEEN %s AND %s'''\n",
    "date_query_base"
   ]
  },
  {
   "cell_type": "code",
   "execution_count": 10,
   "metadata": {
    "collapsed": false
   },
   "outputs": [],
   "source": [
    "cur.execute(date_query_base, ('2017-02-1 00:00:00', '2017-02-02 00:00:00'))"
   ]
  },
  {
   "cell_type": "code",
   "execution_count": 11,
   "metadata": {
    "collapsed": false
   },
   "outputs": [],
   "source": [
    "records = cur.fetchall()"
   ]
  },
  {
   "cell_type": "code",
   "execution_count": 12,
   "metadata": {
    "collapsed": false
   },
   "outputs": [
    {
     "data": {
      "text/plain": [
       "321"
      ]
     },
     "execution_count": 12,
     "metadata": {},
     "output_type": "execute_result"
    }
   ],
   "source": [
    "len(records)"
   ]
  },
  {
   "cell_type": "code",
   "execution_count": 13,
   "metadata": {
    "collapsed": true
   },
   "outputs": [],
   "source": [
    "cols = cur.column_names"
   ]
  },
  {
   "cell_type": "code",
   "execution_count": 14,
   "metadata": {
    "collapsed": true
   },
   "outputs": [],
   "source": [
    "cnx.close()"
   ]
  },
  {
   "cell_type": "markdown",
   "metadata": {},
   "source": [
    "## Build DF from Queried Data"
   ]
  },
  {
   "cell_type": "code",
   "execution_count": 15,
   "metadata": {
    "collapsed": false
   },
   "outputs": [],
   "source": [
    "df = pandas.DataFrame(data = records, columns=cols)"
   ]
  },
  {
   "cell_type": "code",
   "execution_count": 16,
   "metadata": {
    "collapsed": false
   },
   "outputs": [],
   "source": [
    "# Filter out duplicates?\n",
    "unique_entries = []\n",
    "titles = set()\n",
    "for i in df.index:\n",
    "    if df.ix[i].title not in titles:\n",
    "        unique_entries.append(i)\n",
    "        titles.update([df.ix[i].title])\n",
    "        \n",
    "df = df.ix[unique_entries]\n",
    "df.index = range(df.shape[0])"
   ]
  },
  {
   "cell_type": "code",
   "execution_count": 17,
   "metadata": {
    "collapsed": false
   },
   "outputs": [
    {
     "data": {
      "text/plain": [
       "(282, 5)"
      ]
     },
     "execution_count": 17,
     "metadata": {},
     "output_type": "execute_result"
    }
   ],
   "source": [
    "df.shape"
   ]
  },
  {
   "cell_type": "code",
   "execution_count": 18,
   "metadata": {
    "collapsed": false
   },
   "outputs": [
    {
     "data": {
      "text/html": [
       "<div>\n",
       "<table border=\"1\" class=\"dataframe\">\n",
       "  <thead>\n",
       "    <tr style=\"text-align: right;\">\n",
       "      <th></th>\n",
       "      <th>link</th>\n",
       "      <th>title</th>\n",
       "      <th>rss_link</th>\n",
       "      <th>summary</th>\n",
       "      <th>published</th>\n",
       "    </tr>\n",
       "  </thead>\n",
       "  <tbody>\n",
       "    <tr>\n",
       "      <th>0</th>\n",
       "      <td>http://feedproxy.google.com/~r/breitbart/~3/yW...</td>\n",
       "      <td>Judge Rules Video Game Publisher 2K Games Owns...</td>\n",
       "      <td>http://feeds.feedburner.com/breitbart?format=xml</td>\n",
       "      <td>&lt;a href=\"http://www.breitbart.com/tech/2017/02...</td>\n",
       "      <td>2017-02-01 22:07:39</td>\n",
       "    </tr>\n",
       "    <tr>\n",
       "      <th>1</th>\n",
       "      <td>http://feeds.foxnews.com/~r/foxnews/internal/t...</td>\n",
       "      <td>Cruise lines weigh in on potential impact of P...</td>\n",
       "      <td>http://feeds.foxnews.com/foxnews/internal/trav...</td>\n",
       "      <td>Will the executive order impact your planned c...</td>\n",
       "      <td>2017-02-01 19:15:00</td>\n",
       "    </tr>\n",
       "    <tr>\n",
       "      <th>2</th>\n",
       "      <td>http://feeds.foxnews.com/~r/foxnews/most-popul...</td>\n",
       "      <td>War of words: California Governor Brown takes ...</td>\n",
       "      <td>http://feeds.foxnews.com/foxnews/most-popular</td>\n",
       "      <td>Strategy Room: Christopher Hale and Kevin McCu...</td>\n",
       "      <td>2017-02-01 18:31:01</td>\n",
       "    </tr>\n",
       "    <tr>\n",
       "      <th>3</th>\n",
       "      <td>http://podcasts.cnn.net/cnn/big/studentnews/20...</td>\n",
       "      <td>CNN10 - 02/02/17</td>\n",
       "      <td>http://rss.cnn.com/services/podcasting/student...</td>\n",
       "      <td>The U.S. Supreme Court nomination process, the...</td>\n",
       "      <td>2017-02-01 23:35:38</td>\n",
       "    </tr>\n",
       "    <tr>\n",
       "      <th>4</th>\n",
       "      <td>http://www.bbc.co.uk/news/38816782</td>\n",
       "      <td>'I don't belong here'</td>\n",
       "      <td>http://feeds.bbci.co.uk/news/education/rss.xml</td>\n",
       "      <td>Iranian, Iraqi, Syrian and Pakistani students ...</td>\n",
       "      <td>2017-02-01 00:04:55</td>\n",
       "    </tr>\n",
       "  </tbody>\n",
       "</table>\n",
       "</div>"
      ],
      "text/plain": [
       "                                                link  \\\n",
       "0  http://feedproxy.google.com/~r/breitbart/~3/yW...   \n",
       "1  http://feeds.foxnews.com/~r/foxnews/internal/t...   \n",
       "2  http://feeds.foxnews.com/~r/foxnews/most-popul...   \n",
       "3  http://podcasts.cnn.net/cnn/big/studentnews/20...   \n",
       "4                 http://www.bbc.co.uk/news/38816782   \n",
       "\n",
       "                                               title  \\\n",
       "0  Judge Rules Video Game Publisher 2K Games Owns...   \n",
       "1  Cruise lines weigh in on potential impact of P...   \n",
       "2  War of words: California Governor Brown takes ...   \n",
       "3                                   CNN10 - 02/02/17   \n",
       "4                              'I don't belong here'   \n",
       "\n",
       "                                            rss_link  \\\n",
       "0   http://feeds.feedburner.com/breitbart?format=xml   \n",
       "1  http://feeds.foxnews.com/foxnews/internal/trav...   \n",
       "2      http://feeds.foxnews.com/foxnews/most-popular   \n",
       "3  http://rss.cnn.com/services/podcasting/student...   \n",
       "4     http://feeds.bbci.co.uk/news/education/rss.xml   \n",
       "\n",
       "                                             summary           published  \n",
       "0  <a href=\"http://www.breitbart.com/tech/2017/02... 2017-02-01 22:07:39  \n",
       "1  Will the executive order impact your planned c... 2017-02-01 19:15:00  \n",
       "2  Strategy Room: Christopher Hale and Kevin McCu... 2017-02-01 18:31:01  \n",
       "3  The U.S. Supreme Court nomination process, the... 2017-02-01 23:35:38  \n",
       "4  Iranian, Iraqi, Syrian and Pakistani students ... 2017-02-01 00:04:55  "
      ]
     },
     "execution_count": 18,
     "metadata": {},
     "output_type": "execute_result"
    }
   ],
   "source": [
    "df.head()"
   ]
  },
  {
   "cell_type": "markdown",
   "metadata": {},
   "source": [
    "## Basic Event Grouping with JM Smoothing"
   ]
  },
  {
   "cell_type": "markdown",
   "metadata": {},
   "source": [
    "### Build the Feature to Use"
   ]
  },
  {
   "cell_type": "code",
   "execution_count": null,
   "metadata": {
    "collapsed": true
   },
   "outputs": [],
   "source": [
    "import textacy"
   ]
  },
  {
   "cell_type": "code",
   "execution_count": null,
   "metadata": {
    "collapsed": true
   },
   "outputs": [],
   "source": [
    "textacy_preprocessor = lambda text: textacy.preprocess.preprocess_text(text, \n",
    "                                                                       no_punct=True,\n",
    "                                                                       no_contractions=True,\n",
    "                                                                       no_numbers=True,\n",
    "                                                                       no_emails=True,\n",
    "                                                                       no_currency_symbols=True)"
   ]
  },
  {
   "cell_type": "code",
   "execution_count": 19,
   "metadata": {
    "collapsed": true
   },
   "outputs": [],
   "source": [
    "# need to remove the stopwords becauuse the corpus is comprised of short phrases,\n",
    "# and stopwords are not prominent enough to obtain a significant depreciated\n",
    "# weighting....\n",
    "nltk_stops = set(\n",
    "    ['i', 'me', 'my', 'myself', 'we', 'our', 'ours', 'ourselves', 'you', 'your', 'yours',\n",
    "'yourself', 'yourselves', 'he', 'him', 'his', 'himself', 'she', 'her', 'hers',\n",
    "'herself', 'it', 'its', 'itself', 'they', 'them', 'their', 'theirs', 'themselves',\n",
    "'what', 'which', 'who', 'whom', 'this', 'that', 'these', 'those', 'am', 'is', 'are',\n",
    "'was', 'were', 'be', 'been', 'being', 'have', 'has', 'had', 'having', 'do', 'does',\n",
    "'did', 'doing', 'a', 'an', 'the', 'and', 'but', 'if', 'or', 'because', 'as', 'until',\n",
    "'while', 'of', 'at', 'by', 'for', 'with', 'about', 'against', 'between', 'into',\n",
    "'through', 'during', 'before', 'after', 'above', 'below', 'to', 'from', 'up', 'down',\n",
    "'in', 'out', 'on', 'off', 'over', 'under', 'again', 'further', 'then', 'once', 'here',\n",
    "'there', 'when', 'where', 'why', 'how', 'all', 'any', 'both', 'each', 'few', 'more',\n",
    "'most', 'other', 'some', 'such', 'no', 'nor', 'not', 'only', 'own', 'same', 'so',\n",
    "'than', 'too', 'very', 's', 't', 'can', 'will', 'just', 'don', 'should', 'now']\n",
    ")\n",
    "\n",
    "\n",
    "# Simple \"processing\"; only using the title at the moment,\n",
    "# no summary (seems to work pretty well....)\n",
    "def extractHTMLText(summary):\n",
    "    return(bs(summary, 'html.parser').text.strip())\n",
    "\n",
    "def process_summary(summary):\n",
    "    summary = extractHTMLText(summary)\n",
    "    summary = summary.lower()\n",
    "    return(summary)\n",
    "\n",
    "def build_text_feature(doc):\n",
    "    #summary = process_summary(doc['summary'])\n",
    "    summary = \"\"\n",
    "    title = doc['title'].lower()\n",
    "    feature = title + ' ' + summary\n",
    "    feature = ' '.join([w for w in feature.split() if w not in nltk_stops])\n",
    "    #feature = textacy_preprocessor(feature).strip().strip('\\t')\n",
    "    return(feature)"
   ]
  },
  {
   "cell_type": "code",
   "execution_count": 20,
   "metadata": {
    "collapsed": false
   },
   "outputs": [],
   "source": [
    "df['text_feature'] = [build_text_feature(df.ix[i]) for i in df.index]"
   ]
  },
  {
   "cell_type": "code",
   "execution_count": 21,
   "metadata": {
    "collapsed": false
   },
   "outputs": [
    {
     "data": {
      "text/plain": [
       "0    judge rules video game publisher 2k games owns...\n",
       "1    cruise lines weigh potential impact president ...\n",
       "2     war words: california governor brown takes trump\n",
       "3                                     cnn10 - 02/02/17\n",
       "4                                'i don't belong here'\n",
       "5       lego film boosts paisley's uk city culture bid\n",
       "6          german bakery's trump slices divide opinion\n",
       "7                                   employment warning\n",
       "8                            'we must stay optimistic'\n",
       "9         apple: iphone 7 helps us giant return growth\n",
       "Name: text_feature, dtype: object"
      ]
     },
     "execution_count": 21,
     "metadata": {},
     "output_type": "execute_result"
    }
   ],
   "source": [
    "df['text_feature'][:10]"
   ]
  },
  {
   "cell_type": "markdown",
   "metadata": {},
   "source": [
    "### JM Smoothing Method"
   ]
  },
  {
   "cell_type": "code",
   "execution_count": 26,
   "metadata": {
    "collapsed": true
   },
   "outputs": [],
   "source": [
    "import numpy\n",
    "from scipy import spatial"
   ]
  },
  {
   "cell_type": "code",
   "execution_count": 23,
   "metadata": {
    "collapsed": true
   },
   "outputs": [],
   "source": [
    "from sklearn import preprocessing\n",
    "from sklearn.feature_extraction.text import CountVectorizer"
   ]
  },
  {
   "cell_type": "code",
   "execution_count": 24,
   "metadata": {
    "collapsed": false
   },
   "outputs": [],
   "source": [
    "# Count vec titles with sklearn\n",
    "count_vect = CountVectorizer()\n",
    "X_train_counts = count_vect.fit_transform(df.text_feature)"
   ]
  },
  {
   "cell_type": "markdown",
   "metadata": {},
   "source": [
    "#### Calc JM Doc vecs"
   ]
  },
  {
   "cell_type": "code",
   "execution_count": 27,
   "metadata": {
    "collapsed": false
   },
   "outputs": [],
   "source": [
    "# Build necessary elements for JM\n",
    "doc_lengths = numpy.array(X_train_counts.sum(axis=1)).reshape((X_train_counts.shape[0],1))\n",
    "word_doc_freqs = numpy.array(\n",
    "                            (X_train_counts > 0).sum(axis=0) / X_train_counts.shape[0]\n",
    "                            ).reshape((X_train_counts.shape[1],1))\n",
    "word_probs = numpy.array(X_train_counts.sum(axis=0) / X_train_counts.sum()).reshape((X_train_counts.shape[1],1))"
   ]
  },
  {
   "cell_type": "code",
   "execution_count": 28,
   "metadata": {
    "collapsed": false
   },
   "outputs": [],
   "source": [
    "lam = 0.1"
   ]
  },
  {
   "cell_type": "code",
   "execution_count": 29,
   "metadata": {
    "collapsed": false
   },
   "outputs": [],
   "source": [
    "weighted_doc_vecs = numpy.log(1 + (1-lam) / lam * X_train_counts / numpy.dot(doc_lengths, word_probs.T))"
   ]
  },
  {
   "cell_type": "markdown",
   "metadata": {},
   "source": [
    "#### Calc Pairwise-Scores for Docs, Standardize"
   ]
  },
  {
   "cell_type": "code",
   "execution_count": 30,
   "metadata": {
    "collapsed": false
   },
   "outputs": [],
   "source": [
    "doc_doc_scores = spatial.distance.cdist(X_train_counts.todense(), \n",
    "                                              weighted_doc_vecs,\n",
    "                                              numpy.dot)"
   ]
  },
  {
   "cell_type": "code",
   "execution_count": 31,
   "metadata": {
    "collapsed": false
   },
   "outputs": [],
   "source": [
    "doc_doc_scores -= numpy.diag(doc_doc_scores.diagonal())"
   ]
  },
  {
   "cell_type": "code",
   "execution_count": 32,
   "metadata": {
    "collapsed": true
   },
   "outputs": [],
   "source": [
    "doc_doc_scores /= doc_doc_scores.max()"
   ]
  },
  {
   "cell_type": "markdown",
   "metadata": {},
   "source": [
    "### Analysis"
   ]
  },
  {
   "cell_type": "code",
   "execution_count": 33,
   "metadata": {
    "collapsed": false
   },
   "outputs": [
    {
     "data": {
      "image/png": "[encoded data removed]",
      "text/plain": [
       "<matplotlib.figure.Figure at 0x7f7d150b3f28>"
      ]
     },
     "metadata": {},
     "output_type": "display_data"
    }
   ],
   "source": [
    "g = sns.distplot(doc_doc_scores.flatten(), kde=False, color='purple');\n",
    "g.figure.set_size_inches(12,8);\n",
    "plt.title(\"Query - Document Rank Scores\", size=14);\n",
    "plt.xlabel(\"Query - Document Rank Score\", size=12);\n",
    "plt.ylabel(\"Count\", size=12);"
   ]
  },
  {
   "cell_type": "code",
   "execution_count": 34,
   "metadata": {
    "collapsed": false
   },
   "outputs": [
    {
     "data": {
      "text/plain": [
       "count    79524.000000\n",
       "mean         0.004185\n",
       "std          0.029175\n",
       "min          0.000000\n",
       "25%          0.000000\n",
       "50%          0.000000\n",
       "90%          0.000000\n",
       "95%          0.000000\n",
       "99%          0.172327\n",
       "max          1.000000\n",
       "dtype: float64"
      ]
     },
     "execution_count": 34,
     "metadata": {},
     "output_type": "execute_result"
    }
   ],
   "source": [
    "pandas.Series(doc_doc_scores.flatten()).describe([0.25, 0.5, 0.9, 0.95, 0.99])"
   ]
  },
  {
   "cell_type": "markdown",
   "metadata": {},
   "source": [
    "### Find \"Connected Components\" / Article Event Groups"
   ]
  },
  {
   "cell_type": "code",
   "execution_count": 35,
   "metadata": {
    "collapsed": false
   },
   "outputs": [],
   "source": [
    "hits = numpy.where(doc_doc_scores > 0.5)"
   ]
  },
  {
   "cell_type": "code",
   "execution_count": 36,
   "metadata": {
    "collapsed": false
   },
   "outputs": [],
   "source": [
    "## Need to find all \"groups\" of articles; how?\n",
    "unique_nodes = set()\n",
    "unique_nodes.update(set(hits[0]))\n",
    "unique_nodes.update(set(hits[1]))\n",
    "\n",
    "##\n",
    "visited = set()\n",
    "connected_components = list()\n",
    "\n",
    "for node in unique_nodes:\n",
    "    \n",
    "    if node not in visited:\n",
    "        ccc = set([node])\n",
    "        to_visit = set([node])\n",
    "        \n",
    "        while to_visit:\n",
    "            node = to_visit.pop()\n",
    "            visited.update([node])\n",
    "            \n",
    "            # Find all instances of node\n",
    "            h0_find = numpy.where(hits[0]==node)\n",
    "            h1_find = numpy.where(hits[1]==node)\n",
    "\n",
    "            # Get compliments of node\n",
    "            h0_newnodes = set(hits[1][h0_find])\n",
    "            h1_newnodes = set(hits[0][h1_find])\n",
    "\n",
    "            # Update the current connected component\n",
    "            ccc.update(h0_newnodes)\n",
    "            ccc.update(h1_newnodes)\n",
    "\n",
    "            # Update the \"to visit\" list while avoiding\n",
    "            # \"forever\" loops...\n",
    "            to_visit.update(h0_newnodes.difference(visited))\n",
    "            to_visit.update(h1_newnodes.difference(visited))\n",
    "            \n",
    "        connected_components.append(ccc)"
   ]
  },
  {
   "cell_type": "code",
   "execution_count": 37,
   "metadata": {
    "collapsed": false
   },
   "outputs": [
    {
     "data": {
      "text/plain": [
       "11"
      ]
     },
     "execution_count": 37,
     "metadata": {},
     "output_type": "execute_result"
    }
   ],
   "source": [
    "len(connected_components)"
   ]
  },
  {
   "cell_type": "code",
   "execution_count": 38,
   "metadata": {
    "collapsed": false
   },
   "outputs": [],
   "source": [
    "def compare_entries_v2(cc):\n",
    "    \n",
    "    def print_doc_stats(i):\n",
    "        doc = df.ix[i]\n",
    "        print(doc.published)\n",
    "        print(doc.rss_link)\n",
    "        print(doc.text_feature)\n",
    "        \n",
    "    for node in cc:\n",
    "        print_doc_stats(node)\n",
    "        print('\\n')"
   ]
  },
  {
   "cell_type": "code",
   "execution_count": 39,
   "metadata": {
    "collapsed": false,
    "scrolled": false
   },
   "outputs": [
    {
     "name": "stdout",
     "output_type": "stream",
     "text": [
      "2017-02-01 02:58:29\n",
      "https://www.theguardian.com/us/environment/rss\n",
      "dakota access pipeline moves final stage army corps approval process\n",
      "\n",
      "\n",
      "2017-02-01 16:01:16\n",
      "http://feeds.bbci.co.uk/news/science_and_environment/rss.xml\n",
      "dakota pipeline: us army allow work final section\n",
      "\n",
      "\n",
      "\n",
      "\n",
      "2017-02-01 02:45:35\n",
      "https://www.theguardian.com/us/business/rss\n",
      "chinese billionaire xiao jianhua 'abducted' hong kong hotel\n",
      "\n",
      "\n",
      "2017-02-01 02:44:33\n",
      "http://www.ft.com/rss/world/asia-pacific/china\n",
      "chinese billionaire abducted hong kong\n",
      "\n",
      "\n",
      "\n",
      "\n",
      "2017-02-01 01:00:02\n",
      "http://phys.org/rss-feed/\n",
      "tuberculosis-resistant cows developed first time using crispr technology\n",
      "\n",
      "\n",
      "2017-02-01 01:05:48\n",
      "http://feeds.bbci.co.uk/news/science_and_environment/rss.xml\n",
      "'tuberculosis-resistant' cattle developed china\n",
      "\n",
      "\n",
      "\n",
      "\n",
      "2017-02-01 06:48:52\n",
      "https://www.theguardian.com/us/business/rss\n",
      "japan rejects trump accusation devaluing yen currency war\n",
      "\n",
      "\n",
      "2017-02-01 08:08:56\n",
      "http://www.ft.com/rss/world/asia-pacific/japan\n",
      "japan rejects trump’s yen manipulation charge\n",
      "\n",
      "\n",
      "\n",
      "\n",
      "2017-02-01 08:55:09\n",
      "http://feeds.bbci.co.uk/news/science_and_environment/rss.xml\n",
      "rare 'lava firehose' hawaii's kilauea volcano\n",
      "\n",
      "\n",
      "2017-02-01 17:33:20\n",
      "https://www.theguardian.com/science/rss\n",
      "volcano produces rare 'firehose' lava flow pacific ocean – video\n",
      "\n",
      "\n",
      "\n",
      "\n",
      "2017-02-01 17:07:54\n",
      "http://phys.org/rss-feed/\n",
      "atlanta falcons win super bowl: pitt professor used in-game data past seven nfl seasons\n",
      "\n",
      "\n",
      "2017-02-01 19:45:30\n",
      "http://rss.cnn.com/rss/cnn_travel.rss\n",
      "atlanta v. new england: super bowl place cooler?\n",
      "\n",
      "\n",
      "\n",
      "\n",
      "2017-02-01 18:22:12\n",
      "http://phys.org/rss-feed/\n",
      "data: self-driving cars needing less human help past\n",
      "\n",
      "\n",
      "2017-02-01 22:14:03\n",
      "https://www.wired.com/feed/\n",
      "numbers don’t lie: self-driving cars getting good\n",
      "\n",
      "\n",
      "\n",
      "\n",
      "2017-02-01 19:00:04\n",
      "http://phys.org/rss-feed/\n",
      "ancient dna reveals 'continuity' stone age modern populations east asia\n",
      "\n",
      "\n",
      "2017-02-01 13:01:41\n",
      "http://phys.org/rss-feed/biology-news/\n",
      "dna reveals seasonally shifting populations iconic snowdonia lake\n",
      "\n",
      "\n",
      "\n",
      "\n",
      "2017-02-01 16:16:38\n",
      "http://rss.cnn.com/rss/cnn_health.rss\n",
      "decoding thoughts completely locked-in\n",
      "\n",
      "\n",
      "2017-02-01 11:39:11\n",
      "http://feeds.bbci.co.uk/news/health/rss.xml\n",
      "completely 'locked-in' patients communicate\n",
      "\n",
      "\n",
      "\n",
      "\n",
      "2017-02-01 13:47:30\n",
      "http://www.ft.com/rss/companies/retail\n",
      "supermarket tycoon sir ken morrison dies aged 85\n",
      "\n",
      "\n",
      "2017-02-01 17:10:24\n",
      "http://www.ft.com/rss/companies/retail\n",
      "sir ken morrison, supermarket entrepreneur, 1931-2017\n",
      "\n",
      "\n",
      "\n",
      "\n",
      "2017-02-01 20:26:46\n",
      "http://feeds.bbci.co.uk/news/science_and_environment/rss.xml\n",
      "new uk science body appoints chief\n",
      "\n",
      "\n",
      "2017-02-01 14:53:31\n",
      "http://www.ft.com/rss/companies/basic-resources\n",
      "mondi appoints insider peter oswald new chief\n",
      "\n",
      "\n",
      "\n",
      "\n"
     ]
    }
   ],
   "source": [
    "for cc in connected_components:\n",
    "    compare_entries_v2(cc)\n",
    "    print('\\n')"
   ]
  },
  {
   "cell_type": "code",
   "execution_count": null,
   "metadata": {
    "collapsed": true
   },
   "outputs": [],
   "source": []
  }
 ],
 "metadata": {
  "kernelspec": {
   "display_name": "conda3",
   "language": "python",
   "name": "conda3"
  },
  "language_info": {
   "codemirror_mode": {
    "name": "ipython",
    "version": 3
   },
   "file_extension": ".py",
   "mimetype": "text/x-python",
   "name": "python",
   "nbconvert_exporter": "python",
   "pygments_lexer": "ipython3",
   "version": "3.5.2"
  }
 },
 "nbformat": 4,
 "nbformat_minor": 2
}
