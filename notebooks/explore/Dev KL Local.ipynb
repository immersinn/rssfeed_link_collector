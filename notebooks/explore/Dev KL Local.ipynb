{
 "cells": [
  {
   "cell_type": "code",
   "execution_count": 17,
   "metadata": {
    "collapsed": true
   },
   "outputs": [],
   "source": [
    "import sys"
   ]
  },
  {
   "cell_type": "code",
   "execution_count": 18,
   "metadata": {
    "collapsed": true
   },
   "outputs": [],
   "source": [
    "from importlib import reload"
   ]
  },
  {
   "cell_type": "code",
   "execution_count": 2,
   "metadata": {
    "collapsed": true
   },
   "outputs": [],
   "source": [
    "sys.path.append(os.path.join(os.path.abspath(os.path.join('../..')), 'src'))"
   ]
  },
  {
   "cell_type": "code",
   "execution_count": 3,
   "metadata": {
    "collapsed": true
   },
   "outputs": [],
   "source": [
    "import numpy\n",
    "import scipy\n",
    "from scipy import sparse"
   ]
  },
  {
   "cell_type": "code",
   "execution_count": 24,
   "metadata": {
    "collapsed": true
   },
   "outputs": [],
   "source": [
    "import graph_utils\n",
    "from graph_utils import modularity, bNG"
   ]
  },
  {
   "cell_type": "code",
   "execution_count": 5,
   "metadata": {
    "collapsed": true
   },
   "outputs": [],
   "source": [
    "kar = graph_utils.loadZachData()"
   ]
  },
  {
   "cell_type": "code",
   "execution_count": 26,
   "metadata": {
    "collapsed": false
   },
   "outputs": [],
   "source": [
    "A = kar.copy()"
   ]
  },
  {
   "cell_type": "code",
   "execution_count": 19,
   "metadata": {
    "collapsed": true
   },
   "outputs": [],
   "source": [
    "import kernighan_lin"
   ]
  },
  {
   "cell_type": "code",
   "execution_count": 158,
   "metadata": {
    "collapsed": false
   },
   "outputs": [
    {
     "data": {
      "text/plain": [
       "<module 'kernighan_lin' from '/home/immersinn/gits/rssfeed_link_collector/src/kernighan_lin.py'>"
      ]
     },
     "execution_count": 158,
     "metadata": {},
     "output_type": "execute_result"
    }
   ],
   "source": [
    "reload(kernighan_lin)"
   ]
  },
  {
   "cell_type": "code",
   "execution_count": 68,
   "metadata": {
    "collapsed": true
   },
   "outputs": [],
   "source": [
    "core_nodes = [8]\n",
    "start_nodes = []"
   ]
  },
  {
   "cell_type": "code",
   "execution_count": 86,
   "metadata": {
    "collapsed": true
   },
   "outputs": [],
   "source": [
    "indx_orig = numpy.array(range(A.shape[0]))"
   ]
  },
  {
   "cell_type": "code",
   "execution_count": 87,
   "metadata": {
    "collapsed": false
   },
   "outputs": [
    {
     "name": "stdout",
     "output_type": "stream",
     "text": [
      "Initial score: -0.324675324675\n"
     ]
    }
   ],
   "source": [
    "Bin='bNG'\n",
    "L = 1.0\n",
    "verbose=True\n",
    "indx = indx_orig[:]\n",
    "\n",
    "# Prep work\n",
    "if Bin == 'bNG':\n",
    "    B = lambda v, A, indx: bNG(v, A, indx, L)\n",
    "elif Bin == 'bRandUni':\n",
    "    B = lambda v, A, indx: bRandUni(v, A, indx, L)\n",
    "\n",
    "n = A.shape[0]\n",
    "k = numpy.array(A.sum(axis=1))\n",
    "kk2m = ((k * k) / k.sum() * L).reshape((n,))\n",
    "\n",
    "\n",
    "# Construct initial group\n",
    "group = numpy.zeros((n,))\n",
    "for i in core_nodes:\n",
    "    group[i] = 1\n",
    "for i in start_nodes:\n",
    "    group[i] = 1\n",
    "\n",
    "score = modularity(group, B, A)\n",
    "if verbose:\n",
    "    print('Initial score: %s' % score)\n",
    "indx_orig = indx[:]\n",
    "score_prev = -999\n",
    "num_iter = 0"
   ]
  },
  {
   "cell_type": "markdown",
   "metadata": {},
   "source": [
    "### Single Iteration"
   ]
  },
  {
   "cell_type": "code",
   "execution_count": 88,
   "metadata": {
    "collapsed": false
   },
   "outputs": [
    {
     "name": "stdout",
     "output_type": "stream",
     "text": [
      "At iteration 1: \n"
     ]
    }
   ],
   "source": [
    "score_prev = score\n",
    "num_iter += 1\n",
    "indx = list(indx_orig[:])\n",
    "group_names = numpy.unique(group[indx])\n",
    "for k in core_nodes:\n",
    "    indx.remove(k)  # remove core from consideration\n",
    "\n",
    "if verbose:\n",
    "    print('At iteration %s: ' % num_iter)node_contrib = numpy.zeros((n, 2))\n",
    "for i, c in enumerate(group_names):\n",
    "    x = (test_group == c).astype(int).reshape((1,n)) \n",
    "    node_contrib[:,i] = B(x.T, A, numpy.array(range(n))).reshape((n,))\n",
    "test_group = group.copy()"
   ]
  },
  {
   "cell_type": "markdown",
   "metadata": {},
   "source": [
    "#### Iterate until index is gone..."
   ]
  },
  {
   "cell_type": "code",
   "execution_count": 148,
   "metadata": {
    "collapsed": false
   },
   "outputs": [
    {
     "data": {
      "text/plain": [
       "array([[ 4.16233766, -4.16233766],\n",
       "       [ 2.0974026 , -2.0974026 ],\n",
       "       [ 1.44155844, -1.44155844],\n",
       "       [ 2.06493506, -2.06493506],\n",
       "       [ 1.03246753, -1.03246753],\n",
       "       [ 1.37662338, -1.37662338],\n",
       "       [ 1.37662338, -1.37662338],\n",
       "       [ 1.37662338, -1.37662338],\n",
       "       [-1.27922078,  1.27922078],\n",
       "       [-0.31168831,  0.31168831],\n",
       "       [ 1.03246753, -1.03246753],\n",
       "       [ 0.34415584, -0.34415584],\n",
       "       [ 0.68831169, -0.68831169],\n",
       "       [ 0.72077922, -0.72077922],\n",
       "       [-1.31168831,  1.31168831],\n",
       "       [-1.31168831,  1.31168831],\n",
       "       [ 0.68831169, -0.68831169],\n",
       "       [ 0.68831169, -0.68831169],\n",
       "       [-1.31168831,  1.31168831],\n",
       "       [ 0.03246753, -0.03246753],\n",
       "       [-1.31168831,  1.31168831],\n",
       "       [ 0.68831169, -0.68831169],\n",
       "       [-1.31168831,  1.31168831],\n",
       "       [-1.27922078,  1.27922078],\n",
       "       [ 1.03246753, -1.03246753],\n",
       "       [ 1.03246753, -1.03246753],\n",
       "       [-1.31168831,  1.31168831],\n",
       "       [ 0.37662338, -0.37662338],\n",
       "       [ 0.03246753, -0.03246753],\n",
       "       [-1.62337662,  1.62337662],\n",
       "       [-1.62337662,  1.62337662],\n",
       "       [ 0.06493506, -0.06493506],\n",
       "       [-4.21428571,  4.21428571],\n",
       "       [-4.14935065,  4.14935065]])"
      ]
     },
     "execution_count": 148,
     "metadata": {},
     "output_type": "execute_result"
    }
   ],
   "source": [
    "node_contrib = numpy.zeros((n, 2))\n",
    "for i, c in enumerate(group_names):\n",
    "    x = (test_group == c).astype(int).reshape((1,n)) \n",
    "    node_contrib[:,i] = B(x.T, A, numpy.array(range(n))).reshape((n,))\n",
    "    \n",
    "node_contrib"
   ]
  },
  {
   "cell_type": "code",
   "execution_count": 149,
   "metadata": {
    "collapsed": false
   },
   "outputs": [
    {
     "data": {
      "text/plain": [
       "array([ 0,  2,  4,  6,  8, 10, 12, 14, 17, 18, 20, 22, 24, 26, 29, 31, 32,\n",
       "       34, 37, 38, 41, 42, 45, 46, 48, 50, 53, 54, 56, 59, 61, 62, 65, 67])"
      ]
     },
     "execution_count": 149,
     "metadata": {},
     "output_type": "execute_result"
    }
   ],
   "source": [
    "# THIS NEEDS TO BE MODIFIED DOWN THE ROAD\n",
    "node_contrib = node_contrib.reshape((node_contrib.size,))            \n",
    "\n",
    "curr_contrib_index = (numpy.array(range(n)) * len(group_names) + test_group).astype(int)\n",
    "curr_contrib = node_contrib[curr_contrib_index] + kk2m\n",
    "\n",
    "curr_contrib_index"
   ]
  },
  {
   "cell_type": "code",
   "execution_count": 150,
   "metadata": {
    "collapsed": false
   },
   "outputs": [
    {
     "name": "stdout",
     "output_type": "stream",
     "text": [
      "(23, 2)\n"
     ]
    },
    {
     "data": {
      "text/plain": [
       "array([[ -9.99000000e+02,  -9.78571429e+00],\n",
       "       [ -9.99000000e+02,  -4.72077922e+00],\n",
       "       [ -9.99000000e+02,  -3.53246753e+00],\n",
       "       [ -9.99000000e+02,  -4.36363636e+00],\n",
       "       [ -9.99000000e+02,  -2.12337662e+00],\n",
       "       [ -9.99000000e+02,  -2.85714286e+00],\n",
       "       [ -9.99000000e+02,  -2.85714286e+00],\n",
       "       [ -9.99000000e+02,  -2.85714286e+00],\n",
       "       [ -9.99000000e+02,   5.97402597e-01],\n",
       "       [ -9.99000000e+02,  -2.12337662e+00],\n",
       "       [ -9.99000000e+02,  -6.94805195e-01],\n",
       "       [ -9.99000000e+02,  -1.40259740e+00],\n",
       "       [ -9.99000000e+02,  -1.60389610e+00],\n",
       "       [ -9.99000000e+02,  -1.40259740e+00],\n",
       "       [ -9.99000000e+02,  -1.40259740e+00],\n",
       "       [ -9.99000000e+02,  -1.23376623e-01],\n",
       "       [ -9.99000000e+02,  -1.40259740e+00],\n",
       "       [ -9.99000000e+02,   2.39610390e+00],\n",
       "       [ -9.99000000e+02,  -2.12337662e+00],\n",
       "       [ -9.99000000e+02,  -2.12337662e+00],\n",
       "       [ -9.99000000e+02,  -8.57142857e-01],\n",
       "       [ -9.99000000e+02,  -1.23376623e-01],\n",
       "       [ -9.99000000e+02,  -3.63636364e-01]])"
      ]
     },
     "execution_count": 150,
     "metadata": {},
     "output_type": "execute_result"
    }
   ],
   "source": [
    "node_contrib = node_contrib -\\\n",
    "               numpy.repeat(curr_contrib, len(group_names))\n",
    "node_contrib[curr_contrib_index] = -999\n",
    "node_contrib = node_contrib.reshape((n, 2))\n",
    "\n",
    "node_contrib = node_contrib[indx,]\n",
    "curr_contrib = curr_contrib[indx,]\n",
    "\n",
    "max_contrib = node_contrib.max()\n",
    "\n",
    "print(node_contrib.shape)\n",
    "node_contrib"
   ]
  },
  {
   "cell_type": "code",
   "execution_count": 151,
   "metadata": {
    "collapsed": false
   },
   "outputs": [
    {
     "data": {
      "text/plain": [
       "(23, 1)"
      ]
     },
     "execution_count": 151,
     "metadata": {},
     "output_type": "execute_result"
    }
   ],
   "source": [
    "# Get best move, rando break ties\n",
    "(inds, grps) = numpy.where(node_contrib == max_contrib)\n",
    "rand_tie_break = numpy.random.randint(0, len(inds))\n",
    "best_node = indx[inds[rand_tie_break]]\n",
    "best_group = grps[rand_tie_break]\n",
    "\n",
    "best_node, best_group"
   ]
  },
  {
   "cell_type": "code",
   "execution_count": 152,
   "metadata": {
    "collapsed": false
   },
   "outputs": [
    {
     "data": {
      "text/plain": [
       "46.311688311688314"
      ]
     },
     "execution_count": 152,
     "metadata": {},
     "output_type": "execute_result"
    }
   ],
   "source": [
    "# Update node-group assignment\n",
    "test_group[best_node] = best_group\n",
    "indx.remove(best_node)\n",
    "new_score = modularity(test_group, B, A, indx_orig)\n",
    "\n",
    "new_score"
   ]
  },
  {
   "cell_type": "code",
   "execution_count": 153,
   "metadata": {
    "collapsed": false
   },
   "outputs": [
    {
     "data": {
      "text/plain": [
       "array([ 0.,  0.,  0.,  0.,  0.,  0.,  0.,  0.,  1.,  0.,  0.,  0.,  0.,\n",
       "        0.,  1.,  1.,  0.,  0.,  1.,  0.,  1.,  0.,  1.,  1.,  0.,  0.,\n",
       "        1.,  0.,  0.,  1.,  1.,  0.,  1.,  1.])"
      ]
     },
     "execution_count": 153,
     "metadata": {},
     "output_type": "execute_result"
    }
   ],
   "source": [
    "test_group"
   ]
  },
  {
   "cell_type": "code",
   "execution_count": 175,
   "metadata": {
    "collapsed": false
   },
   "outputs": [
    {
     "name": "stdout",
     "output_type": "stream",
     "text": [
      "Initial score: 143.246753247\n",
      "At iteration 1: \n",
      "New groups after iteration 1: [1 1 0 1 1 1 1 1 0 1 1 1 1 0 1 1 1 1 1 1 1 1 1 0 0 0 1 0 0 0 0 0 0 0]\n",
      "At iteration 2: \n",
      "New groups after iteration 2: [1 1 0 1 1 1 1 1 0 0 1 0 1 0 0 0 1 1 0 1 0 1 0 0 0 0 0 0 0 0 0 0 0 0]\n",
      "At iteration 3: \n",
      "New groups after iteration 3: [1 1 0 1 1 1 1 1 0 0 1 1 1 0 0 0 1 1 0 1 0 1 0 0 0 0 0 0 0 0 0 0 0 0]\n",
      "At iteration 4: \n",
      "New groups after iteration 4: [1 1 0 1 1 1 1 1 0 0 1 1 1 0 0 0 1 1 0 1 0 1 0 0 0 0 0 0 0 0 0 0 0 0]\n"
     ]
    },
    {
     "data": {
      "text/plain": [
       "(array([0, 0, 1, 0, 0, 0, 0, 0, 1, 1, 0, 0, 0, 1, 1, 1, 0, 0, 1, 0, 1, 0, 1,\n",
       "        1, 1, 1, 1, 1, 1, 1, 1, 1, 1, 1]), 270.98701298701297)"
      ]
     },
     "execution_count": 175,
     "metadata": {},
     "output_type": "execute_result"
    }
   ],
   "source": [
    "kernighan_lin.mKLLocal([1], A, index_orig, L=4, verbose=True, start_nodes=[0,3])"
   ]
  },
  {
   "cell_type": "code",
   "execution_count": 176,
   "metadata": {
    "collapsed": false
   },
   "outputs": [
    {
     "name": "stdout",
     "output_type": "stream",
     "text": [
      "Initial score: 89.8181818182\n",
      "At iteration 1: \n",
      "New groups after iteration 1: [0 0 0 0 1 1 1 0 0 1 1 1 1 0 1 1 1 1 1 1 1 1 1 1 1 1 1 1 1 1 0 0 0 0]\n",
      "At iteration 2: \n",
      "New groups after iteration 2: [1 1 1 1 0 0 1 1 1 0 0 0 0 1 0 0 0 0 0 0 0 0 0 0 0 0 0 0 0 0 1 1 1 0]\n",
      "At iteration 3: \n",
      "New groups after iteration 3: [1 1 1 1 0 0 1 1 1 0 0 1 1 1 0 0 0 1 0 0 0 1 0 0 0 0 0 0 0 0 1 1 1 0]\n",
      "At iteration 4: \n",
      "New groups after iteration 4: [0 0 0 0 1 1 1 0 0 1 1 0 0 0 1 1 1 0 1 1 1 0 1 1 1 1 1 1 1 1 0 0 0 1]\n",
      "At iteration 5: \n",
      "New groups after iteration 5: [0 0 0 0 1 1 1 0 0 1 1 0 0 0 1 1 1 0 1 1 1 0 1 1 1 1 1 1 1 1 0 0 0 1]\n"
     ]
    },
    {
     "data": {
      "text/plain": [
       "(array([0, 0, 0, 0, 1, 1, 1, 0, 0, 1, 1, 0, 0, 0, 1, 1, 1, 0, 1, 1, 1, 0, 1,\n",
       "        1, 1, 1, 1, 1, 1, 1, 0, 0, 0, 1]), 259.7012987012987)"
      ]
     },
     "execution_count": 176,
     "metadata": {},
     "output_type": "execute_result"
    }
   ],
   "source": [
    "kernighan_lin.mKLLocal([6], A, index_orig, L=4, verbose=True, start_nodes=[4,5,10])"
   ]
  },
  {
   "cell_type": "code",
   "execution_count": null,
   "metadata": {
    "collapsed": true
   },
   "outputs": [],
   "source": []
  }
 ],
 "metadata": {
  "kernelspec": {
   "display_name": "rss (P3)",
   "language": "python",
   "name": "rss_p3"
  },
  "language_info": {
   "codemirror_mode": {
    "name": "ipython",
    "version": 3
   },
   "file_extension": ".py",
   "mimetype": "text/x-python",
   "name": "python",
   "nbconvert_exporter": "python",
   "pygments_lexer": "ipython3",
   "version": "3.5.2"
  }
 },
 "nbformat": 4,
 "nbformat_minor": 2
}
