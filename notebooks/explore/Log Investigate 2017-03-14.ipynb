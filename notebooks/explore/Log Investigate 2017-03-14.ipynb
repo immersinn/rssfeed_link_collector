{
 "cells": [
  {
   "cell_type": "code",
   "execution_count": 1,
   "metadata": {
    "collapsed": true
   },
   "outputs": [],
   "source": [
    "main_repo_dir = os.path.abspath(os.path.join('../..'))\n",
    "sys.path.append(os.path.join(main_repo_dir, 'src'))"
   ]
  },
  {
   "cell_type": "code",
   "execution_count": 2,
   "metadata": {
    "collapsed": true
   },
   "outputs": [],
   "source": [
    "import datetime"
   ]
  },
  {
   "cell_type": "code",
   "execution_count": 3,
   "metadata": {
    "collapsed": true
   },
   "outputs": [],
   "source": [
    "import pandas"
   ]
  },
  {
   "cell_type": "code",
   "execution_count": 4,
   "metadata": {
    "collapsed": true
   },
   "outputs": [],
   "source": [
    "import utils"
   ]
  },
  {
   "cell_type": "code",
   "execution_count": 314,
   "metadata": {
    "collapsed": true
   },
   "outputs": [],
   "source": [
    "with open(os.path.join(main_repo_dir, \"main_run.log\"), \"r\") as f:\n",
    "    log = f.readlines()"
   ]
  },
  {
   "cell_type": "code",
   "execution_count": 315,
   "metadata": {
    "collapsed": true
   },
   "outputs": [],
   "source": [
    "dates, entries = zip(*[(' '.join(line.split()[:3]), ' '.join(line.split()[3:])) for line in log])"
   ]
  },
  {
   "cell_type": "code",
   "execution_count": 316,
   "metadata": {
    "collapsed": true
   },
   "outputs": [],
   "source": [
    "dates = [datetime.datetime.strptime(date, '%m/%d/%Y %I:%M:%S %p') for date in dates]"
   ]
  },
  {
   "cell_type": "code",
   "execution_count": 317,
   "metadata": {
    "collapsed": false
   },
   "outputs": [],
   "source": [
    "log = pandas.DataFrame(data = {'entry' : entries}, index=dates)"
   ]
  },
  {
   "cell_type": "code",
   "execution_count": 318,
   "metadata": {
    "collapsed": true
   },
   "outputs": [],
   "source": [
    "log['day'] = [ent.strftime('%Y-%m-%d') for ent in log.index]"
   ]
  },
  {
   "cell_type": "code",
   "execution_count": 319,
   "metadata": {
    "collapsed": true
   },
   "outputs": [],
   "source": [
    "# Define which entry we're in\n",
    "# There's got to be a better way to do this with an iterator...\n",
    "entry_ind = -1\n",
    "\n",
    "def update_entry(x):\n",
    "    global entry_ind\n",
    "    if x['entry'] == \"Retrieving contents...\":\n",
    "        entry_ind += 1\n",
    "    return(entry_ind)\n",
    "\n",
    "\n",
    "# Flag Errors\n",
    "def flag_error(x):\n",
    "    text = x.entry.lower()\n",
    "    if text.find('warning') > -1 or text.find('error') > -1:\n",
    "        return(True)\n",
    "    else:\n",
    "        return(False)\n",
    "    \n",
    "\n",
    "def extract_err_class(error_text):\n",
    "    start = error_text.find('<class ')\n",
    "    end = error_text.find(\"'>:\")\n",
    "    if start > -1 and end > -1:\n",
    "        err_class = error_text[start : (end + 2)]\n",
    "    else:\n",
    "        err_class = ''\n",
    "    return(err_class)"
   ]
  },
  {
   "cell_type": "code",
   "execution_count": 320,
   "metadata": {
    "collapsed": true
   },
   "outputs": [],
   "source": [
    "log['entry_ind'] = log.apply(lambda x: update_entry(x), axis=1)\n",
    "log['is_error'] = log.apply(lambda x: flag_error(x), axis=1)\n",
    "log['err_class'] = log.entry.apply(lambda x: extract_err_class(x))"
   ]
  },
  {
   "cell_type": "code",
   "execution_count": 321,
   "metadata": {
    "collapsed": false
   },
   "outputs": [
    {
     "data": {
      "text/plain": [
       "(179534, 5)"
      ]
     },
     "execution_count": 321,
     "metadata": {},
     "output_type": "execute_result"
    }
   ],
   "source": [
    "log.shape"
   ]
  },
  {
   "cell_type": "code",
   "execution_count": 322,
   "metadata": {
    "collapsed": false
   },
   "outputs": [
    {
     "data": {
      "text/html": [
       "<div>\n",
       "<table border=\"1\" class=\"dataframe\">\n",
       "  <thead>\n",
       "    <tr style=\"text-align: right;\">\n",
       "      <th></th>\n",
       "      <th>entry</th>\n",
       "      <th>day</th>\n",
       "      <th>entry_ind</th>\n",
       "      <th>is_error</th>\n",
       "      <th>err_class</th>\n",
       "    </tr>\n",
       "  </thead>\n",
       "  <tbody>\n",
       "    <tr>\n",
       "      <th>2017-01-20 12:49:21</th>\n",
       "      <td>Retrieving contents...</td>\n",
       "      <td>2017-01-20</td>\n",
       "      <td>0</td>\n",
       "      <td>False</td>\n",
       "      <td></td>\n",
       "    </tr>\n",
       "    <tr>\n",
       "      <th>2017-01-20 12:49:21</th>\n",
       "      <td>Total feeedss to visit: 65</td>\n",
       "      <td>2017-01-20</td>\n",
       "      <td>0</td>\n",
       "      <td>False</td>\n",
       "      <td></td>\n",
       "    </tr>\n",
       "    <tr>\n",
       "      <th>2017-01-20 12:49:22</th>\n",
       "      <td>IP Used: b'87.118.122.30'</td>\n",
       "      <td>2017-01-20</td>\n",
       "      <td>0</td>\n",
       "      <td>False</td>\n",
       "      <td></td>\n",
       "    </tr>\n",
       "    <tr>\n",
       "      <th>2017-01-20 12:49:26</th>\n",
       "      <td>Total entries retrieved from http://phys.org/r...</td>\n",
       "      <td>2017-01-20</td>\n",
       "      <td>0</td>\n",
       "      <td>False</td>\n",
       "      <td></td>\n",
       "    </tr>\n",
       "    <tr>\n",
       "      <th>2017-01-20 12:49:26</th>\n",
       "      <td>Total new links added: 30</td>\n",
       "      <td>2017-01-20</td>\n",
       "      <td>0</td>\n",
       "      <td>False</td>\n",
       "      <td></td>\n",
       "    </tr>\n",
       "  </tbody>\n",
       "</table>\n",
       "</div>"
      ],
      "text/plain": [
       "                                                                 entry  \\\n",
       "2017-01-20 12:49:21                             Retrieving contents...   \n",
       "2017-01-20 12:49:21                         Total feeedss to visit: 65   \n",
       "2017-01-20 12:49:22                          IP Used: b'87.118.122.30'   \n",
       "2017-01-20 12:49:26  Total entries retrieved from http://phys.org/r...   \n",
       "2017-01-20 12:49:26                          Total new links added: 30   \n",
       "\n",
       "                            day  entry_ind is_error err_class  \n",
       "2017-01-20 12:49:21  2017-01-20          0    False            \n",
       "2017-01-20 12:49:21  2017-01-20          0    False            \n",
       "2017-01-20 12:49:22  2017-01-20          0    False            \n",
       "2017-01-20 12:49:26  2017-01-20          0    False            \n",
       "2017-01-20 12:49:26  2017-01-20          0    False            "
      ]
     },
     "execution_count": 322,
     "metadata": {},
     "output_type": "execute_result"
    }
   ],
   "source": [
    "log.head()"
   ]
  },
  {
   "cell_type": "code",
   "execution_count": 323,
   "metadata": {
    "collapsed": false
   },
   "outputs": [
    {
     "data": {
      "text/html": [
       "<div>\n",
       "<table border=\"1\" class=\"dataframe\">\n",
       "  <thead>\n",
       "    <tr style=\"text-align: right;\">\n",
       "      <th></th>\n",
       "      <th>entry</th>\n",
       "      <th>day</th>\n",
       "      <th>entry_ind</th>\n",
       "      <th>is_error</th>\n",
       "      <th>err_class</th>\n",
       "    </tr>\n",
       "  </thead>\n",
       "  <tbody>\n",
       "    <tr>\n",
       "      <th>2017-03-14 06:09:06</th>\n",
       "      <td>Feed http://www.ft.com/rss/management/connecte...</td>\n",
       "      <td>2017-03-14</td>\n",
       "      <td>491</td>\n",
       "      <td>True</td>\n",
       "      <td>&lt;class 'urllib.error.HTTPError'&gt;</td>\n",
       "    </tr>\n",
       "    <tr>\n",
       "      <th>2017-03-14 06:09:08</th>\n",
       "      <td>No contents found</td>\n",
       "      <td>2017-03-14</td>\n",
       "      <td>491</td>\n",
       "      <td>False</td>\n",
       "      <td></td>\n",
       "    </tr>\n",
       "    <tr>\n",
       "      <th>2017-03-14 06:09:10</th>\n",
       "      <td>Total entries retrieved from http://www.ft.com...</td>\n",
       "      <td>2017-03-14</td>\n",
       "      <td>491</td>\n",
       "      <td>False</td>\n",
       "      <td></td>\n",
       "    </tr>\n",
       "    <tr>\n",
       "      <th>2017-03-14 06:09:10</th>\n",
       "      <td>Total new links added: 0</td>\n",
       "      <td>2017-03-14</td>\n",
       "      <td>491</td>\n",
       "      <td>False</td>\n",
       "      <td></td>\n",
       "    </tr>\n",
       "    <tr>\n",
       "      <th>2017-03-14 06:09:10</th>\n",
       "      <td>Total new links added from all feeds: 86</td>\n",
       "      <td>2017-03-14</td>\n",
       "      <td>491</td>\n",
       "      <td>False</td>\n",
       "      <td></td>\n",
       "    </tr>\n",
       "  </tbody>\n",
       "</table>\n",
       "</div>"
      ],
      "text/plain": [
       "                                                                 entry  \\\n",
       "2017-03-14 06:09:06  Feed http://www.ft.com/rss/management/connecte...   \n",
       "2017-03-14 06:09:08                                  No contents found   \n",
       "2017-03-14 06:09:10  Total entries retrieved from http://www.ft.com...   \n",
       "2017-03-14 06:09:10                           Total new links added: 0   \n",
       "2017-03-14 06:09:10           Total new links added from all feeds: 86   \n",
       "\n",
       "                            day  entry_ind is_error  \\\n",
       "2017-03-14 06:09:06  2017-03-14        491     True   \n",
       "2017-03-14 06:09:08  2017-03-14        491    False   \n",
       "2017-03-14 06:09:10  2017-03-14        491    False   \n",
       "2017-03-14 06:09:10  2017-03-14        491    False   \n",
       "2017-03-14 06:09:10  2017-03-14        491    False   \n",
       "\n",
       "                                            err_class  \n",
       "2017-03-14 06:09:06  <class 'urllib.error.HTTPError'>  \n",
       "2017-03-14 06:09:08                                    \n",
       "2017-03-14 06:09:10                                    \n",
       "2017-03-14 06:09:10                                    \n",
       "2017-03-14 06:09:10                                    "
      ]
     },
     "execution_count": 323,
     "metadata": {},
     "output_type": "execute_result"
    }
   ],
   "source": [
    "log.tail()"
   ]
  },
  {
   "cell_type": "markdown",
   "metadata": {},
   "source": [
    "## Investiate Errors"
   ]
  },
  {
   "cell_type": "code",
   "execution_count": 324,
   "metadata": {
    "collapsed": true
   },
   "outputs": [],
   "source": [
    "errors = log[log.is_error==True].copy()"
   ]
  },
  {
   "cell_type": "code",
   "execution_count": 325,
   "metadata": {
    "collapsed": false
   },
   "outputs": [
    {
     "data": {
      "text/plain": [
       "(5653, 5)"
      ]
     },
     "execution_count": 325,
     "metadata": {},
     "output_type": "execute_result"
    }
   ],
   "source": [
    "errors.shape"
   ]
  },
  {
   "cell_type": "code",
   "execution_count": 326,
   "metadata": {
    "collapsed": false
   },
   "outputs": [
    {
     "data": {
      "text/html": [
       "<div>\n",
       "<table border=\"1\" class=\"dataframe\">\n",
       "  <thead>\n",
       "    <tr style=\"text-align: right;\">\n",
       "      <th></th>\n",
       "      <th>entry</th>\n",
       "      <th>day</th>\n",
       "      <th>entry_ind</th>\n",
       "      <th>is_error</th>\n",
       "      <th>err_class</th>\n",
       "    </tr>\n",
       "  </thead>\n",
       "  <tbody>\n",
       "    <tr>\n",
       "      <th>2017-01-30 08:03:45</th>\n",
       "      <td>Error encountered: &lt;class 'mysql.connector.err...</td>\n",
       "      <td>2017-01-30</td>\n",
       "      <td>82</td>\n",
       "      <td>True</td>\n",
       "      <td>&lt;class 'mysql.connector.errors.DataError'&gt;</td>\n",
       "    </tr>\n",
       "    <tr>\n",
       "      <th>2017-01-30 14:03:24</th>\n",
       "      <td>Error encountered: &lt;class 'mysql.connector.err...</td>\n",
       "      <td>2017-01-30</td>\n",
       "      <td>88</td>\n",
       "      <td>True</td>\n",
       "      <td>&lt;class 'mysql.connector.errors.DataError'&gt;</td>\n",
       "    </tr>\n",
       "    <tr>\n",
       "      <th>2017-01-30 17:02:53</th>\n",
       "      <td>Error encountered: &lt;class 'mysql.connector.err...</td>\n",
       "      <td>2017-01-30</td>\n",
       "      <td>91</td>\n",
       "      <td>True</td>\n",
       "      <td>&lt;class 'mysql.connector.errors.DataError'&gt;</td>\n",
       "    </tr>\n",
       "    <tr>\n",
       "      <th>2017-01-31 06:05:57</th>\n",
       "      <td>Error encountered: &lt;class 'mysql.connector.err...</td>\n",
       "      <td>2017-01-31</td>\n",
       "      <td>93</td>\n",
       "      <td>True</td>\n",
       "      <td>&lt;class 'mysql.connector.errors.DataError'&gt;</td>\n",
       "    </tr>\n",
       "    <tr>\n",
       "      <th>2017-01-31 09:03:14</th>\n",
       "      <td>Error encountered: &lt;class 'mysql.connector.err...</td>\n",
       "      <td>2017-01-31</td>\n",
       "      <td>96</td>\n",
       "      <td>True</td>\n",
       "      <td>&lt;class 'mysql.connector.errors.DataError'&gt;</td>\n",
       "    </tr>\n",
       "  </tbody>\n",
       "</table>\n",
       "</div>"
      ],
      "text/plain": [
       "                                                                 entry  \\\n",
       "2017-01-30 08:03:45  Error encountered: <class 'mysql.connector.err...   \n",
       "2017-01-30 14:03:24  Error encountered: <class 'mysql.connector.err...   \n",
       "2017-01-30 17:02:53  Error encountered: <class 'mysql.connector.err...   \n",
       "2017-01-31 06:05:57  Error encountered: <class 'mysql.connector.err...   \n",
       "2017-01-31 09:03:14  Error encountered: <class 'mysql.connector.err...   \n",
       "\n",
       "                            day  entry_ind is_error  \\\n",
       "2017-01-30 08:03:45  2017-01-30         82     True   \n",
       "2017-01-30 14:03:24  2017-01-30         88     True   \n",
       "2017-01-30 17:02:53  2017-01-30         91     True   \n",
       "2017-01-31 06:05:57  2017-01-31         93     True   \n",
       "2017-01-31 09:03:14  2017-01-31         96     True   \n",
       "\n",
       "                                                      err_class  \n",
       "2017-01-30 08:03:45  <class 'mysql.connector.errors.DataError'>  \n",
       "2017-01-30 14:03:24  <class 'mysql.connector.errors.DataError'>  \n",
       "2017-01-30 17:02:53  <class 'mysql.connector.errors.DataError'>  \n",
       "2017-01-31 06:05:57  <class 'mysql.connector.errors.DataError'>  \n",
       "2017-01-31 09:03:14  <class 'mysql.connector.errors.DataError'>  "
      ]
     },
     "execution_count": 326,
     "metadata": {},
     "output_type": "execute_result"
    }
   ],
   "source": [
    "errors.head()"
   ]
  },
  {
   "cell_type": "code",
   "execution_count": 327,
   "metadata": {
    "collapsed": false
   },
   "outputs": [
    {
     "data": {
      "text/html": [
       "<div>\n",
       "<table border=\"1\" class=\"dataframe\">\n",
       "  <thead>\n",
       "    <tr style=\"text-align: right;\">\n",
       "      <th></th>\n",
       "      <th>entry</th>\n",
       "      <th>day</th>\n",
       "      <th>entry_ind</th>\n",
       "      <th>is_error</th>\n",
       "      <th>err_class</th>\n",
       "    </tr>\n",
       "  </thead>\n",
       "  <tbody>\n",
       "    <tr>\n",
       "      <th>2017-03-13 18:08:50</th>\n",
       "      <td>Feed http://www.ft.com/rss/management/connecte...</td>\n",
       "      <td>2017-03-13</td>\n",
       "      <td>489</td>\n",
       "      <td>True</td>\n",
       "      <td>&lt;class 'urllib.error.HTTPError'&gt;</td>\n",
       "    </tr>\n",
       "    <tr>\n",
       "      <th>2017-03-14 05:08:13</th>\n",
       "      <td>Feed http://www.ft.com/rss/world/mideast/econo...</td>\n",
       "      <td>2017-03-14</td>\n",
       "      <td>490</td>\n",
       "      <td>True</td>\n",
       "      <td>&lt;class 'urllib.error.HTTPError'&gt;</td>\n",
       "    </tr>\n",
       "    <tr>\n",
       "      <th>2017-03-14 05:09:12</th>\n",
       "      <td>Feed http://www.ft.com/rss/management/connecte...</td>\n",
       "      <td>2017-03-14</td>\n",
       "      <td>490</td>\n",
       "      <td>True</td>\n",
       "      <td>&lt;class 'urllib.error.HTTPError'&gt;</td>\n",
       "    </tr>\n",
       "    <tr>\n",
       "      <th>2017-03-14 06:08:19</th>\n",
       "      <td>Feed http://www.ft.com/rss/world/mideast/econo...</td>\n",
       "      <td>2017-03-14</td>\n",
       "      <td>491</td>\n",
       "      <td>True</td>\n",
       "      <td>&lt;class 'urllib.error.HTTPError'&gt;</td>\n",
       "    </tr>\n",
       "    <tr>\n",
       "      <th>2017-03-14 06:09:06</th>\n",
       "      <td>Feed http://www.ft.com/rss/management/connecte...</td>\n",
       "      <td>2017-03-14</td>\n",
       "      <td>491</td>\n",
       "      <td>True</td>\n",
       "      <td>&lt;class 'urllib.error.HTTPError'&gt;</td>\n",
       "    </tr>\n",
       "  </tbody>\n",
       "</table>\n",
       "</div>"
      ],
      "text/plain": [
       "                                                                 entry  \\\n",
       "2017-03-13 18:08:50  Feed http://www.ft.com/rss/management/connecte...   \n",
       "2017-03-14 05:08:13  Feed http://www.ft.com/rss/world/mideast/econo...   \n",
       "2017-03-14 05:09:12  Feed http://www.ft.com/rss/management/connecte...   \n",
       "2017-03-14 06:08:19  Feed http://www.ft.com/rss/world/mideast/econo...   \n",
       "2017-03-14 06:09:06  Feed http://www.ft.com/rss/management/connecte...   \n",
       "\n",
       "                            day  entry_ind is_error  \\\n",
       "2017-03-13 18:08:50  2017-03-13        489     True   \n",
       "2017-03-14 05:08:13  2017-03-14        490     True   \n",
       "2017-03-14 05:09:12  2017-03-14        490     True   \n",
       "2017-03-14 06:08:19  2017-03-14        491     True   \n",
       "2017-03-14 06:09:06  2017-03-14        491     True   \n",
       "\n",
       "                                            err_class  \n",
       "2017-03-13 18:08:50  <class 'urllib.error.HTTPError'>  \n",
       "2017-03-14 05:08:13  <class 'urllib.error.HTTPError'>  \n",
       "2017-03-14 05:09:12  <class 'urllib.error.HTTPError'>  \n",
       "2017-03-14 06:08:19  <class 'urllib.error.HTTPError'>  \n",
       "2017-03-14 06:09:06  <class 'urllib.error.HTTPError'>  "
      ]
     },
     "execution_count": 327,
     "metadata": {},
     "output_type": "execute_result"
    }
   ],
   "source": [
    "errors.tail()"
   ]
  },
  {
   "cell_type": "code",
   "execution_count": 328,
   "metadata": {
    "collapsed": false
   },
   "outputs": [
    {
     "name": "stdout",
     "output_type": "stream",
     "text": [
      "<class 'mysql.connector.errors.DataError'>\n",
      "<class 'urllib.error.URLError'>\n",
      "<class 'UnboundLocalError'>\n",
      "<class 'KeyError'>\n",
      "<class 'urllib.error.HTTPError'>\n",
      "<class 'TypeError'>\n",
      "<class 'mysql.connector.errors.DatabaseError'>\n"
     ]
    }
   ],
   "source": [
    "for e in errors.err_class.unique():\n",
    "    print(e)"
   ]
  },
  {
   "cell_type": "markdown",
   "metadata": {},
   "source": [
    "### Key Errors"
   ]
  },
  {
   "cell_type": "code",
   "execution_count": 47,
   "metadata": {
    "collapsed": false
   },
   "outputs": [
    {
     "data": {
      "text/plain": [
       "(1088, 5)"
      ]
     },
     "execution_count": 47,
     "metadata": {},
     "output_type": "execute_result"
    }
   ],
   "source": [
    "ke = errors[errors.err_class==\"<class 'KeyError'>\"].copy()\n",
    "ke.shape"
   ]
  },
  {
   "cell_type": "code",
   "execution_count": 48,
   "metadata": {
    "collapsed": false
   },
   "outputs": [
    {
     "data": {
      "text/html": [
       "<div>\n",
       "<table border=\"1\" class=\"dataframe\">\n",
       "  <thead>\n",
       "    <tr style=\"text-align: right;\">\n",
       "      <th></th>\n",
       "      <th>entry</th>\n",
       "      <th>day</th>\n",
       "      <th>entry_ind</th>\n",
       "      <th>is_error</th>\n",
       "      <th>err_class</th>\n",
       "    </tr>\n",
       "  </thead>\n",
       "  <tbody>\n",
       "    <tr>\n",
       "      <th>2017-02-06 05:04:14</th>\n",
       "      <td>Feed http://hosted.ap.org/lineups/TOPHEADS.rss...</td>\n",
       "      <td>2017-02-06</td>\n",
       "      <td>150</td>\n",
       "      <td>True</td>\n",
       "      <td>&lt;class 'KeyError'&gt;</td>\n",
       "    </tr>\n",
       "    <tr>\n",
       "      <th>2017-02-06 05:04:15</th>\n",
       "      <td>Feed http://hosted.ap.org/lineups/USHEADS.rss?...</td>\n",
       "      <td>2017-02-06</td>\n",
       "      <td>150</td>\n",
       "      <td>True</td>\n",
       "      <td>&lt;class 'KeyError'&gt;</td>\n",
       "    </tr>\n",
       "    <tr>\n",
       "      <th>2017-02-06 05:04:17</th>\n",
       "      <td>Feed http://hosted.ap.org/lineups/WORLDHEADS.r...</td>\n",
       "      <td>2017-02-06</td>\n",
       "      <td>150</td>\n",
       "      <td>True</td>\n",
       "      <td>&lt;class 'KeyError'&gt;</td>\n",
       "    </tr>\n",
       "    <tr>\n",
       "      <th>2017-02-06 05:04:18</th>\n",
       "      <td>Feed http://hosted.ap.org/lineups/POLITICSHEAD...</td>\n",
       "      <td>2017-02-06</td>\n",
       "      <td>150</td>\n",
       "      <td>True</td>\n",
       "      <td>&lt;class 'KeyError'&gt;</td>\n",
       "    </tr>\n",
       "    <tr>\n",
       "      <th>2017-02-06 05:04:19</th>\n",
       "      <td>Feed http://hosted.ap.org/lineups/WASHINGTONHE...</td>\n",
       "      <td>2017-02-06</td>\n",
       "      <td>150</td>\n",
       "      <td>True</td>\n",
       "      <td>&lt;class 'KeyError'&gt;</td>\n",
       "    </tr>\n",
       "  </tbody>\n",
       "</table>\n",
       "</div>"
      ],
      "text/plain": [
       "                                                                 entry  \\\n",
       "2017-02-06 05:04:14  Feed http://hosted.ap.org/lineups/TOPHEADS.rss...   \n",
       "2017-02-06 05:04:15  Feed http://hosted.ap.org/lineups/USHEADS.rss?...   \n",
       "2017-02-06 05:04:17  Feed http://hosted.ap.org/lineups/WORLDHEADS.r...   \n",
       "2017-02-06 05:04:18  Feed http://hosted.ap.org/lineups/POLITICSHEAD...   \n",
       "2017-02-06 05:04:19  Feed http://hosted.ap.org/lineups/WASHINGTONHE...   \n",
       "\n",
       "                            day  entry_ind is_error           err_class  \n",
       "2017-02-06 05:04:14  2017-02-06        150     True  <class 'KeyError'>  \n",
       "2017-02-06 05:04:15  2017-02-06        150     True  <class 'KeyError'>  \n",
       "2017-02-06 05:04:17  2017-02-06        150     True  <class 'KeyError'>  \n",
       "2017-02-06 05:04:18  2017-02-06        150     True  <class 'KeyError'>  \n",
       "2017-02-06 05:04:19  2017-02-06        150     True  <class 'KeyError'>  "
      ]
     },
     "execution_count": 48,
     "metadata": {},
     "output_type": "execute_result"
    }
   ],
   "source": [
    "ke.head()"
   ]
  },
  {
   "cell_type": "code",
   "execution_count": 49,
   "metadata": {
    "collapsed": false
   },
   "outputs": [
    {
     "data": {
      "text/plain": [
       "157"
      ]
     },
     "execution_count": 49,
     "metadata": {},
     "output_type": "execute_result"
    }
   ],
   "source": [
    "len(ke.entry.unique())"
   ]
  },
  {
   "cell_type": "code",
   "execution_count": 50,
   "metadata": {
    "collapsed": false
   },
   "outputs": [
    {
     "data": {
      "text/html": [
       "<div>\n",
       "<table border=\"1\" class=\"dataframe\">\n",
       "  <thead>\n",
       "    <tr style=\"text-align: right;\">\n",
       "      <th></th>\n",
       "      <th>entry</th>\n",
       "      <th>day</th>\n",
       "      <th>entry_ind</th>\n",
       "      <th>is_error</th>\n",
       "      <th>err_class</th>\n",
       "    </tr>\n",
       "  </thead>\n",
       "  <tbody>\n",
       "    <tr>\n",
       "      <th>2017-02-10 21:02:54</th>\n",
       "      <td>Feed https://phys.org/rss-feed/earth-news/: &lt;c...</td>\n",
       "      <td>2017-02-10</td>\n",
       "      <td>215</td>\n",
       "      <td>True</td>\n",
       "      <td>&lt;class 'KeyError'&gt;</td>\n",
       "    </tr>\n",
       "    <tr>\n",
       "      <th>2017-02-10 21:02:56</th>\n",
       "      <td>Feed https://phys.org/rss-feed/earth-news/eart...</td>\n",
       "      <td>2017-02-10</td>\n",
       "      <td>215</td>\n",
       "      <td>True</td>\n",
       "      <td>&lt;class 'KeyError'&gt;</td>\n",
       "    </tr>\n",
       "    <tr>\n",
       "      <th>2017-02-10 21:02:58</th>\n",
       "      <td>Feed https://phys.org/rss-feed/earth-news/envi...</td>\n",
       "      <td>2017-02-10</td>\n",
       "      <td>215</td>\n",
       "      <td>True</td>\n",
       "      <td>&lt;class 'KeyError'&gt;</td>\n",
       "    </tr>\n",
       "    <tr>\n",
       "      <th>2017-02-10 21:03:00</th>\n",
       "      <td>Feed https://phys.org/rss-feed/science-news/: ...</td>\n",
       "      <td>2017-02-10</td>\n",
       "      <td>215</td>\n",
       "      <td>True</td>\n",
       "      <td>&lt;class 'KeyError'&gt;</td>\n",
       "    </tr>\n",
       "    <tr>\n",
       "      <th>2017-02-10 21:03:02</th>\n",
       "      <td>Feed https://phys.org/rss-feed/science-news/ar...</td>\n",
       "      <td>2017-02-10</td>\n",
       "      <td>215</td>\n",
       "      <td>True</td>\n",
       "      <td>&lt;class 'KeyError'&gt;</td>\n",
       "    </tr>\n",
       "  </tbody>\n",
       "</table>\n",
       "</div>"
      ],
      "text/plain": [
       "                                                                 entry  \\\n",
       "2017-02-10 21:02:54  Feed https://phys.org/rss-feed/earth-news/: <c...   \n",
       "2017-02-10 21:02:56  Feed https://phys.org/rss-feed/earth-news/eart...   \n",
       "2017-02-10 21:02:58  Feed https://phys.org/rss-feed/earth-news/envi...   \n",
       "2017-02-10 21:03:00  Feed https://phys.org/rss-feed/science-news/: ...   \n",
       "2017-02-10 21:03:02  Feed https://phys.org/rss-feed/science-news/ar...   \n",
       "\n",
       "                            day  entry_ind is_error           err_class  \n",
       "2017-02-10 21:02:54  2017-02-10        215     True  <class 'KeyError'>  \n",
       "2017-02-10 21:02:56  2017-02-10        215     True  <class 'KeyError'>  \n",
       "2017-02-10 21:02:58  2017-02-10        215     True  <class 'KeyError'>  \n",
       "2017-02-10 21:03:00  2017-02-10        215     True  <class 'KeyError'>  \n",
       "2017-02-10 21:03:02  2017-02-10        215     True  <class 'KeyError'>  "
      ]
     },
     "execution_count": 50,
     "metadata": {},
     "output_type": "execute_result"
    }
   ],
   "source": [
    "ke.tail()"
   ]
  },
  {
   "cell_type": "markdown",
   "metadata": {},
   "source": [
    "Seem to be fixed"
   ]
  },
  {
   "cell_type": "markdown",
   "metadata": {},
   "source": [
    "### Time Type Errors"
   ]
  },
  {
   "cell_type": "code",
   "execution_count": 51,
   "metadata": {
    "collapsed": false
   },
   "outputs": [
    {
     "data": {
      "text/plain": [
       "(51, 5)"
      ]
     },
     "execution_count": 51,
     "metadata": {},
     "output_type": "execute_result"
    }
   ],
   "source": [
    "te = errors[errors.err_class == \"<class 'TypeError'>\"].copy()\n",
    "te.shape"
   ]
  },
  {
   "cell_type": "code",
   "execution_count": 52,
   "metadata": {
    "collapsed": false
   },
   "outputs": [
    {
     "data": {
      "text/html": [
       "<div>\n",
       "<table border=\"1\" class=\"dataframe\">\n",
       "  <thead>\n",
       "    <tr style=\"text-align: right;\">\n",
       "      <th></th>\n",
       "      <th>entry</th>\n",
       "      <th>day</th>\n",
       "      <th>entry_ind</th>\n",
       "      <th>is_error</th>\n",
       "      <th>err_class</th>\n",
       "    </tr>\n",
       "  </thead>\n",
       "  <tbody>\n",
       "    <tr>\n",
       "      <th>2017-03-09 05:05:37</th>\n",
       "      <td>Feed http://feeds.feedburner.com/breitbart?for...</td>\n",
       "      <td>2017-03-09</td>\n",
       "      <td>450</td>\n",
       "      <td>True</td>\n",
       "      <td>&lt;class 'TypeError'&gt;</td>\n",
       "    </tr>\n",
       "    <tr>\n",
       "      <th>2017-03-09 06:07:05</th>\n",
       "      <td>Feed http://feeds.feedburner.com/breitbart?for...</td>\n",
       "      <td>2017-03-09</td>\n",
       "      <td>451</td>\n",
       "      <td>True</td>\n",
       "      <td>&lt;class 'TypeError'&gt;</td>\n",
       "    </tr>\n",
       "    <tr>\n",
       "      <th>2017-03-09 07:05:53</th>\n",
       "      <td>Feed http://feeds.feedburner.com/breitbart?for...</td>\n",
       "      <td>2017-03-09</td>\n",
       "      <td>452</td>\n",
       "      <td>True</td>\n",
       "      <td>&lt;class 'TypeError'&gt;</td>\n",
       "    </tr>\n",
       "    <tr>\n",
       "      <th>2017-03-09 08:06:31</th>\n",
       "      <td>Feed http://feeds.feedburner.com/breitbart?for...</td>\n",
       "      <td>2017-03-09</td>\n",
       "      <td>453</td>\n",
       "      <td>True</td>\n",
       "      <td>&lt;class 'TypeError'&gt;</td>\n",
       "    </tr>\n",
       "    <tr>\n",
       "      <th>2017-03-09 09:05:33</th>\n",
       "      <td>Feed http://feeds.feedburner.com/breitbart?for...</td>\n",
       "      <td>2017-03-09</td>\n",
       "      <td>454</td>\n",
       "      <td>True</td>\n",
       "      <td>&lt;class 'TypeError'&gt;</td>\n",
       "    </tr>\n",
       "  </tbody>\n",
       "</table>\n",
       "</div>"
      ],
      "text/plain": [
       "                                                                 entry  \\\n",
       "2017-03-09 05:05:37  Feed http://feeds.feedburner.com/breitbart?for...   \n",
       "2017-03-09 06:07:05  Feed http://feeds.feedburner.com/breitbart?for...   \n",
       "2017-03-09 07:05:53  Feed http://feeds.feedburner.com/breitbart?for...   \n",
       "2017-03-09 08:06:31  Feed http://feeds.feedburner.com/breitbart?for...   \n",
       "2017-03-09 09:05:33  Feed http://feeds.feedburner.com/breitbart?for...   \n",
       "\n",
       "                            day  entry_ind is_error            err_class  \n",
       "2017-03-09 05:05:37  2017-03-09        450     True  <class 'TypeError'>  \n",
       "2017-03-09 06:07:05  2017-03-09        451     True  <class 'TypeError'>  \n",
       "2017-03-09 07:05:53  2017-03-09        452     True  <class 'TypeError'>  \n",
       "2017-03-09 08:06:31  2017-03-09        453     True  <class 'TypeError'>  \n",
       "2017-03-09 09:05:33  2017-03-09        454     True  <class 'TypeError'>  "
      ]
     },
     "execution_count": 52,
     "metadata": {},
     "output_type": "execute_result"
    }
   ],
   "source": [
    "te.tail()"
   ]
  },
  {
   "cell_type": "code",
   "execution_count": 53,
   "metadata": {
    "collapsed": false
   },
   "outputs": [
    {
     "data": {
      "text/plain": [
       "1"
      ]
     },
     "execution_count": 53,
     "metadata": {},
     "output_type": "execute_result"
    }
   ],
   "source": [
    "len(te.entry.unique())"
   ]
  },
  {
   "cell_type": "code",
   "execution_count": 54,
   "metadata": {
    "collapsed": false
   },
   "outputs": [
    {
     "data": {
      "text/plain": [
       "\"Feed http://feeds.feedburner.com/breitbart?format=xml: <class 'TypeError'>: ('Tuple or struct_time argument required',)\""
      ]
     },
     "execution_count": 54,
     "metadata": {},
     "output_type": "execute_result"
    }
   ],
   "source": [
    "te.entry[0]"
   ]
  },
  {
   "cell_type": "code",
   "execution_count": 55,
   "metadata": {
    "collapsed": true
   },
   "outputs": [],
   "source": [
    "sys.path.append(os.path.join(os.path.abspath('../..'), 'src'))\n",
    "sys.path.append(os.path.join(os.path.abspath('../..'), 'data'))"
   ]
  },
  {
   "cell_type": "code",
   "execution_count": 81,
   "metadata": {
    "collapsed": true
   },
   "outputs": [],
   "source": [
    "import utils\n",
    "import scrape_feeds\n",
    "import mysql_utils"
   ]
  },
  {
   "cell_type": "code",
   "execution_count": 82,
   "metadata": {
    "collapsed": true
   },
   "outputs": [],
   "source": [
    "from importlib import reload"
   ]
  },
  {
   "cell_type": "code",
   "execution_count": 133,
   "metadata": {
    "collapsed": false
   },
   "outputs": [
    {
     "data": {
      "text/plain": [
       "<module 'scrape_feeds' from '/home/immersinn/gits/rssfeed_link_collector/src/scrape_feeds.py'>"
      ]
     },
     "execution_count": 133,
     "metadata": {},
     "output_type": "execute_result"
    }
   ],
   "source": [
    "reload(scrape_feeds)"
   ]
  },
  {
   "cell_type": "code",
   "execution_count": 108,
   "metadata": {
    "collapsed": true
   },
   "outputs": [],
   "source": [
    "feed_data = utils.load_feedlist_data('breitbart_feedlist.xml')"
   ]
  },
  {
   "cell_type": "code",
   "execution_count": 109,
   "metadata": {
    "collapsed": false
   },
   "outputs": [
    {
     "data": {
      "text/plain": [
       "{'Link': 'http://feeds.feedburner.com/breitbart?format=xml',\n",
       " 'RssName': 'All News',\n",
       " 'Source': 'breitbart',\n",
       " 'keymap': {'id': 'id',\n",
       "  'link': 'id',\n",
       "  'published_parsed': 'published_parsed',\n",
       "  'summary': 'summary',\n",
       "  'title': 'title'}}"
      ]
     },
     "execution_count": 109,
     "metadata": {},
     "output_type": "execute_result"
    }
   ],
   "source": [
    "feed_data[0]"
   ]
  },
  {
   "cell_type": "code",
   "execution_count": 110,
   "metadata": {
    "collapsed": false
   },
   "outputs": [],
   "source": [
    "rss_entry = feed_data[0]"
   ]
  },
  {
   "cell_type": "code",
   "execution_count": 111,
   "metadata": {
    "collapsed": false
   },
   "outputs": [],
   "source": [
    "contents = scrape_feeds.get_feed_contents(rss_entry)"
   ]
  },
  {
   "cell_type": "code",
   "execution_count": 112,
   "metadata": {
    "collapsed": false
   },
   "outputs": [
    {
     "data": {
      "text/plain": [
       "46"
      ]
     },
     "execution_count": 112,
     "metadata": {},
     "output_type": "execute_result"
    }
   ],
   "source": [
    "len(contents)"
   ]
  },
  {
   "cell_type": "code",
   "execution_count": 113,
   "metadata": {
    "collapsed": false
   },
   "outputs": [
    {
     "data": {
      "text/plain": [
       "{'link': 'http://www.breitbart.com/big-government/2017/03/13/state-of-tennessee-files-constitutional-challenge-to-refugee-resettlement-program/',\n",
       " 'published': datetime.datetime(2017, 3, 13, 12, 24, 36),\n",
       " 'rss_link': 'http://feeds.feedburner.com/breitbart?format=xml',\n",
       " 'story_id': 'http://www.breitbart.com/big-government/2017/03/13/state-of-tennessee-files-constitutional-challenge-to-refugee-resettlement-program/',\n",
       " 'summary': '<a href=\"http://www.breitbart.com/big-government/2017/03/13/state-of-tennessee-files-constitutional-challenge-to-refugee-resettlement-program/\" title=\"State of Tennessee Files Constitutional Challenge to Refugee Resettlement Program\"><img width=\"200\" height=\"150\" src=\"http://media.breitbart.com/media/2017/03/refugees-america-200x150.jpg\" alt=\"\" /></a><br /> The Thomas More Law Center filed a federal lawsuit on behalf of the Tennessee General Assembly and the State of Tennessee in the U.S. District Court for the Western District of Tennessee on Monday challenging the federal refugee resettlement program for violating the state’s sovereignty under the Tenth Amendment to the U.S. Constitution.<img src=\"http://feeds.feedburner.com/~r/breitbart/~4/A0RnyDT20-M\" height=\"1\" width=\"1\" alt=\"\"/>',\n",
       " 'title': 'State of Tennessee Files Constitutional Challenge to Refugee Resettlement Program'}"
      ]
     },
     "execution_count": 113,
     "metadata": {},
     "output_type": "execute_result"
    }
   ],
   "source": [
    "contents[0]"
   ]
  },
  {
   "cell_type": "code",
   "execution_count": 115,
   "metadata": {
    "collapsed": false
   },
   "outputs": [
    {
     "data": {
      "text/plain": [
       "[]"
      ]
     },
     "execution_count": 115,
     "metadata": {},
     "output_type": "execute_result"
    }
   ],
   "source": [
    "mysql_utils.saveNewLinks(contents)"
   ]
  },
  {
   "cell_type": "code",
   "execution_count": 77,
   "metadata": {
    "collapsed": false
   },
   "outputs": [
    {
     "data": {
      "text/plain": [
       "datetime.datetime"
      ]
     },
     "execution_count": 77,
     "metadata": {},
     "output_type": "execute_result"
    }
   ],
   "source": [
    "type(contents[0]['published'])"
   ]
  },
  {
   "cell_type": "code",
   "execution_count": 78,
   "metadata": {
    "collapsed": true
   },
   "outputs": [],
   "source": [
    "from time import mktime, sleep, gmtime"
   ]
  },
  {
   "cell_type": "code",
   "execution_count": 79,
   "metadata": {
    "collapsed": false
   },
   "outputs": [
    {
     "data": {
      "text/plain": [
       "time.struct_time(tm_year=2017, tm_mon=3, tm_mday=13, tm_hour=20, tm_min=34, tm_sec=15, tm_wday=0, tm_yday=72, tm_isdst=0)"
      ]
     },
     "execution_count": 79,
     "metadata": {},
     "output_type": "execute_result"
    }
   ],
   "source": [
    "gmtime()"
   ]
  },
  {
   "cell_type": "code",
   "execution_count": 80,
   "metadata": {
    "collapsed": false
   },
   "outputs": [
    {
     "data": {
      "text/plain": [
       "time.struct_time"
      ]
     },
     "execution_count": 80,
     "metadata": {},
     "output_type": "execute_result"
    }
   ],
   "source": [
    "type(gmtime())"
   ]
  },
  {
   "cell_type": "markdown",
   "metadata": {},
   "source": [
    "    Currently don't have an active example of the error...seems like every once in awhile an article has a time that is not like a time?  Code now forces all timestamps in \"published\" attribute to be [datetime.datetime, time.struct_time]."
   ]
  },
  {
   "cell_type": "markdown",
   "metadata": {},
   "source": [
    "### 'UnboundLocalError'"
   ]
  },
  {
   "cell_type": "code",
   "execution_count": 117,
   "metadata": {
    "collapsed": false
   },
   "outputs": [
    {
     "data": {
      "text/plain": [
       "(507, 5)"
      ]
     },
     "execution_count": 117,
     "metadata": {},
     "output_type": "execute_result"
    }
   ],
   "source": [
    "ule = errors[errors.err_class == \"<class 'UnboundLocalError'>\"].copy()\n",
    "ule.shape"
   ]
  },
  {
   "cell_type": "code",
   "execution_count": 118,
   "metadata": {
    "collapsed": false
   },
   "outputs": [
    {
     "data": {
      "text/html": [
       "<div>\n",
       "<table border=\"1\" class=\"dataframe\">\n",
       "  <thead>\n",
       "    <tr style=\"text-align: right;\">\n",
       "      <th></th>\n",
       "      <th>entry</th>\n",
       "      <th>day</th>\n",
       "      <th>entry_ind</th>\n",
       "      <th>is_error</th>\n",
       "      <th>err_class</th>\n",
       "    </tr>\n",
       "  </thead>\n",
       "  <tbody>\n",
       "    <tr>\n",
       "      <th>2017-02-06 05:03:19</th>\n",
       "      <td>Feed http://www.bbc.co.uk/blogs/theeditors/rss...</td>\n",
       "      <td>2017-02-06</td>\n",
       "      <td>150</td>\n",
       "      <td>True</td>\n",
       "      <td>&lt;class 'UnboundLocalError'&gt;</td>\n",
       "    </tr>\n",
       "    <tr>\n",
       "      <th>2017-02-06 06:03:13</th>\n",
       "      <td>Feed http://www.bbc.co.uk/blogs/theeditors/rss...</td>\n",
       "      <td>2017-02-06</td>\n",
       "      <td>151</td>\n",
       "      <td>True</td>\n",
       "      <td>&lt;class 'UnboundLocalError'&gt;</td>\n",
       "    </tr>\n",
       "    <tr>\n",
       "      <th>2017-02-06 07:03:09</th>\n",
       "      <td>Feed http://www.bbc.co.uk/blogs/theeditors/rss...</td>\n",
       "      <td>2017-02-06</td>\n",
       "      <td>152</td>\n",
       "      <td>True</td>\n",
       "      <td>&lt;class 'UnboundLocalError'&gt;</td>\n",
       "    </tr>\n",
       "    <tr>\n",
       "      <th>2017-02-06 08:04:13</th>\n",
       "      <td>Feed http://www.bbc.co.uk/blogs/theeditors/rss...</td>\n",
       "      <td>2017-02-06</td>\n",
       "      <td>153</td>\n",
       "      <td>True</td>\n",
       "      <td>&lt;class 'UnboundLocalError'&gt;</td>\n",
       "    </tr>\n",
       "    <tr>\n",
       "      <th>2017-02-06 09:03:35</th>\n",
       "      <td>Feed http://www.bbc.co.uk/blogs/theeditors/rss...</td>\n",
       "      <td>2017-02-06</td>\n",
       "      <td>154</td>\n",
       "      <td>True</td>\n",
       "      <td>&lt;class 'UnboundLocalError'&gt;</td>\n",
       "    </tr>\n",
       "  </tbody>\n",
       "</table>\n",
       "</div>"
      ],
      "text/plain": [
       "                                                                 entry  \\\n",
       "2017-02-06 05:03:19  Feed http://www.bbc.co.uk/blogs/theeditors/rss...   \n",
       "2017-02-06 06:03:13  Feed http://www.bbc.co.uk/blogs/theeditors/rss...   \n",
       "2017-02-06 07:03:09  Feed http://www.bbc.co.uk/blogs/theeditors/rss...   \n",
       "2017-02-06 08:04:13  Feed http://www.bbc.co.uk/blogs/theeditors/rss...   \n",
       "2017-02-06 09:03:35  Feed http://www.bbc.co.uk/blogs/theeditors/rss...   \n",
       "\n",
       "                            day  entry_ind is_error  \\\n",
       "2017-02-06 05:03:19  2017-02-06        150     True   \n",
       "2017-02-06 06:03:13  2017-02-06        151     True   \n",
       "2017-02-06 07:03:09  2017-02-06        152     True   \n",
       "2017-02-06 08:04:13  2017-02-06        153     True   \n",
       "2017-02-06 09:03:35  2017-02-06        154     True   \n",
       "\n",
       "                                       err_class  \n",
       "2017-02-06 05:03:19  <class 'UnboundLocalError'>  \n",
       "2017-02-06 06:03:13  <class 'UnboundLocalError'>  \n",
       "2017-02-06 07:03:09  <class 'UnboundLocalError'>  \n",
       "2017-02-06 08:04:13  <class 'UnboundLocalError'>  \n",
       "2017-02-06 09:03:35  <class 'UnboundLocalError'>  "
      ]
     },
     "execution_count": 118,
     "metadata": {},
     "output_type": "execute_result"
    }
   ],
   "source": [
    "ule.head()"
   ]
  },
  {
   "cell_type": "code",
   "execution_count": 119,
   "metadata": {
    "collapsed": false
   },
   "outputs": [
    {
     "data": {
      "text/html": [
       "<div>\n",
       "<table border=\"1\" class=\"dataframe\">\n",
       "  <thead>\n",
       "    <tr style=\"text-align: right;\">\n",
       "      <th></th>\n",
       "      <th>entry</th>\n",
       "      <th>day</th>\n",
       "      <th>entry_ind</th>\n",
       "      <th>is_error</th>\n",
       "      <th>err_class</th>\n",
       "    </tr>\n",
       "  </thead>\n",
       "  <tbody>\n",
       "    <tr>\n",
       "      <th>2017-03-13 12:06:09</th>\n",
       "      <td>Feed http://www.bbc.co.uk/blogs/theeditors/rss...</td>\n",
       "      <td>2017-03-13</td>\n",
       "      <td>483</td>\n",
       "      <td>True</td>\n",
       "      <td>&lt;class 'UnboundLocalError'&gt;</td>\n",
       "    </tr>\n",
       "    <tr>\n",
       "      <th>2017-03-13 12:08:09</th>\n",
       "      <td>Feed http://rss.cnn.com/rss/cnn_showbiz.rss: &lt;...</td>\n",
       "      <td>2017-03-13</td>\n",
       "      <td>483</td>\n",
       "      <td>True</td>\n",
       "      <td>&lt;class 'UnboundLocalError'&gt;</td>\n",
       "    </tr>\n",
       "    <tr>\n",
       "      <th>2017-03-13 13:00:28</th>\n",
       "      <td>Feed http://feeds.foxnews.com/foxnews/latest: ...</td>\n",
       "      <td>2017-03-13</td>\n",
       "      <td>484</td>\n",
       "      <td>True</td>\n",
       "      <td>&lt;class 'UnboundLocalError'&gt;</td>\n",
       "    </tr>\n",
       "    <tr>\n",
       "      <th>2017-03-13 13:04:47</th>\n",
       "      <td>Feed http://www.bbc.co.uk/blogs/theeditors/rss...</td>\n",
       "      <td>2017-03-13</td>\n",
       "      <td>484</td>\n",
       "      <td>True</td>\n",
       "      <td>&lt;class 'UnboundLocalError'&gt;</td>\n",
       "    </tr>\n",
       "    <tr>\n",
       "      <th>2017-03-13 13:06:14</th>\n",
       "      <td>Feed http://rss.cnn.com/rss/cnn_showbiz.rss: &lt;...</td>\n",
       "      <td>2017-03-13</td>\n",
       "      <td>484</td>\n",
       "      <td>True</td>\n",
       "      <td>&lt;class 'UnboundLocalError'&gt;</td>\n",
       "    </tr>\n",
       "  </tbody>\n",
       "</table>\n",
       "</div>"
      ],
      "text/plain": [
       "                                                                 entry  \\\n",
       "2017-03-13 12:06:09  Feed http://www.bbc.co.uk/blogs/theeditors/rss...   \n",
       "2017-03-13 12:08:09  Feed http://rss.cnn.com/rss/cnn_showbiz.rss: <...   \n",
       "2017-03-13 13:00:28  Feed http://feeds.foxnews.com/foxnews/latest: ...   \n",
       "2017-03-13 13:04:47  Feed http://www.bbc.co.uk/blogs/theeditors/rss...   \n",
       "2017-03-13 13:06:14  Feed http://rss.cnn.com/rss/cnn_showbiz.rss: <...   \n",
       "\n",
       "                            day  entry_ind is_error  \\\n",
       "2017-03-13 12:06:09  2017-03-13        483     True   \n",
       "2017-03-13 12:08:09  2017-03-13        483     True   \n",
       "2017-03-13 13:00:28  2017-03-13        484     True   \n",
       "2017-03-13 13:04:47  2017-03-13        484     True   \n",
       "2017-03-13 13:06:14  2017-03-13        484     True   \n",
       "\n",
       "                                       err_class  \n",
       "2017-03-13 12:06:09  <class 'UnboundLocalError'>  \n",
       "2017-03-13 12:08:09  <class 'UnboundLocalError'>  \n",
       "2017-03-13 13:00:28  <class 'UnboundLocalError'>  \n",
       "2017-03-13 13:04:47  <class 'UnboundLocalError'>  \n",
       "2017-03-13 13:06:14  <class 'UnboundLocalError'>  "
      ]
     },
     "execution_count": 119,
     "metadata": {},
     "output_type": "execute_result"
    }
   ],
   "source": [
    "ule.tail()"
   ]
  },
  {
   "cell_type": "code",
   "execution_count": 123,
   "metadata": {
    "collapsed": false
   },
   "outputs": [
    {
     "name": "stdout",
     "output_type": "stream",
     "text": [
      "Feed http://www.bbc.co.uk/blogs/theeditors/rss.xml: <class 'UnboundLocalError'>: (\"local variable 'row_nbrs' referenced before assignment\",)\n",
      "\n",
      "\n",
      "Feed http://feeds.foxnews.com/foxnews/latest: <class 'UnboundLocalError'>: (\"local variable 'row_nbrs' referenced before assignment\",)\n",
      "\n",
      "\n",
      "Feed https://www.wired.com/feed/: <class 'UnboundLocalError'>: (\"local variable 'row_nbrs' referenced before assignment\",)\n",
      "\n",
      "\n",
      "Feed https://www.wired.com/category/gear/feed/: <class 'UnboundLocalError'>: (\"local variable 'row_nbrs' referenced before assignment\",)\n",
      "\n",
      "\n",
      "Feed http://feeds.feedburner.com/breitbart?format=xml: <class 'UnboundLocalError'>: (\"local variable 'row_nbrs' referenced before assignment\",)\n",
      "\n",
      "\n",
      "Feed http://rss.cnn.com/rss/cnn_showbiz.rss: <class 'UnboundLocalError'>: (\"local variable 'row_nbrs' referenced before assignment\",)\n",
      "\n",
      "\n"
     ]
    }
   ],
   "source": [
    "for e in ule.entry.unique():\n",
    "    print(e)\n",
    "    print('\\n')"
   ]
  },
  {
   "cell_type": "code",
   "execution_count": 134,
   "metadata": {
    "collapsed": false
   },
   "outputs": [],
   "source": [
    "feed_data = utils.load_feedlist_data('foxnews_feedlist.xml')"
   ]
  },
  {
   "cell_type": "code",
   "execution_count": 135,
   "metadata": {
    "collapsed": false
   },
   "outputs": [
    {
     "data": {
      "text/plain": [
       "{'Link': 'http://feeds.foxnews.com/foxnews/latest',\n",
       " 'Name': 'Latest Headlines',\n",
       " 'RssName': 'latest',\n",
       " 'Source': 'foxnews',\n",
       " 'keymap': {'id': 'link',\n",
       "  'link': 'link',\n",
       "  'published_parsed': 'published_parsed',\n",
       "  'summary': 'summary',\n",
       "  'title': 'title'}}"
      ]
     },
     "execution_count": 135,
     "metadata": {},
     "output_type": "execute_result"
    }
   ],
   "source": [
    "rss_entry = feed_data[0]\n",
    "rss_entry"
   ]
  },
  {
   "cell_type": "code",
   "execution_count": 136,
   "metadata": {
    "collapsed": true
   },
   "outputs": [],
   "source": [
    "contents = scrape_feeds.get_feed_contents(rss_entry)"
   ]
  },
  {
   "cell_type": "code",
   "execution_count": 137,
   "metadata": {
    "collapsed": false
   },
   "outputs": [
    {
     "data": {
      "text/plain": [
       "{'link': 'http://www.foxnews.com/politics/2017/03/13/trump-steps-up-obamacare-repeal-push-meets-with-laws-victims.html',\n",
       " 'published': datetime.datetime(2017, 3, 13, 20, 41, 19),\n",
       " 'rss_link': 'http://feeds.foxnews.com/foxnews/latest',\n",
       " 'story_id': 'http://www.foxnews.com/politics/2017/03/13/trump-steps-up-obamacare-repeal-push-meets-with-laws-victims.html',\n",
       " 'summary': '',\n",
       " 'title': 'THE HARD SELL  Trump steps up ObamaCare repeal push, meets with law&rsquo;s &lsquo;victims&rsquo;'}"
      ]
     },
     "execution_count": 137,
     "metadata": {},
     "output_type": "execute_result"
    }
   ],
   "source": [
    "contents[0]"
   ]
  },
  {
   "cell_type": "code",
   "execution_count": 138,
   "metadata": {
    "collapsed": false
   },
   "outputs": [
    {
     "data": {
      "text/plain": [
       "[]"
      ]
     },
     "execution_count": 138,
     "metadata": {},
     "output_type": "execute_result"
    }
   ],
   "source": [
    "mysql_utils.saveNewLinks(contents)"
   ]
  },
  {
   "cell_type": "code",
   "execution_count": 139,
   "metadata": {
    "collapsed": false
   },
   "outputs": [
    {
     "name": "stdout",
     "output_type": "stream",
     "text": [
      "211\n",
      "221\n"
     ]
    }
   ],
   "source": [
    "for c in contents:\n",
    "    if len(c['title']) > 200:\n",
    "        print(len(c['title']))"
   ]
  },
  {
   "cell_type": "markdown",
   "metadata": {},
   "source": [
    "    Looks to be an issue with an overflow on the \"title\" variable...updated the MySQL table to accept up to 300 chars now.  Also added some \"clean-up\" code that truncates longer titles..\n",
    "    \n",
    "    From below: also looks to be issue with other missing data due to other errors..."
   ]
  },
  {
   "cell_type": "markdown",
   "metadata": {},
   "source": [
    "### MySQL Connector Errors"
   ]
  },
  {
   "cell_type": "code",
   "execution_count": 174,
   "metadata": {
    "collapsed": true
   },
   "outputs": [],
   "source": [
    "err01 = \"<class 'mysql.connector.errors.DataError'>\"\n",
    "err02 = \"<class 'mysql.connector.errors.DatabaseError'>\""
   ]
  },
  {
   "cell_type": "markdown",
   "metadata": {},
   "source": [
    "#### DB Error"
   ]
  },
  {
   "cell_type": "code",
   "execution_count": 175,
   "metadata": {
    "collapsed": false
   },
   "outputs": [
    {
     "data": {
      "text/plain": [
       "(58, 5)"
      ]
     },
     "execution_count": 175,
     "metadata": {},
     "output_type": "execute_result"
    }
   ],
   "source": [
    "dee = errors[errors.err_class==err02]\n",
    "dee.shape"
   ]
  },
  {
   "cell_type": "code",
   "execution_count": 143,
   "metadata": {
    "collapsed": false
   },
   "outputs": [
    {
     "data": {
      "text/html": [
       "<div>\n",
       "<table border=\"1\" class=\"dataframe\">\n",
       "  <thead>\n",
       "    <tr style=\"text-align: right;\">\n",
       "      <th></th>\n",
       "      <th>entry</th>\n",
       "      <th>day</th>\n",
       "      <th>entry_ind</th>\n",
       "      <th>is_error</th>\n",
       "      <th>err_class</th>\n",
       "    </tr>\n",
       "  </thead>\n",
       "  <tbody>\n",
       "    <tr>\n",
       "      <th>2017-03-02 16:04:57</th>\n",
       "      <td>Error encountered: &lt;class 'mysql.connector.err...</td>\n",
       "      <td>2017-03-02</td>\n",
       "      <td>397</td>\n",
       "      <td>True</td>\n",
       "      <td>&lt;class 'mysql.connector.errors.DatabaseError'&gt;</td>\n",
       "    </tr>\n",
       "    <tr>\n",
       "      <th>2017-03-02 17:05:12</th>\n",
       "      <td>Error encountered: &lt;class 'mysql.connector.err...</td>\n",
       "      <td>2017-03-02</td>\n",
       "      <td>398</td>\n",
       "      <td>True</td>\n",
       "      <td>&lt;class 'mysql.connector.errors.DatabaseError'&gt;</td>\n",
       "    </tr>\n",
       "    <tr>\n",
       "      <th>2017-03-03 05:04:44</th>\n",
       "      <td>Error encountered: &lt;class 'mysql.connector.err...</td>\n",
       "      <td>2017-03-03</td>\n",
       "      <td>399</td>\n",
       "      <td>True</td>\n",
       "      <td>&lt;class 'mysql.connector.errors.DatabaseError'&gt;</td>\n",
       "    </tr>\n",
       "    <tr>\n",
       "      <th>2017-03-03 06:05:44</th>\n",
       "      <td>Error encountered: &lt;class 'mysql.connector.err...</td>\n",
       "      <td>2017-03-03</td>\n",
       "      <td>400</td>\n",
       "      <td>True</td>\n",
       "      <td>&lt;class 'mysql.connector.errors.DatabaseError'&gt;</td>\n",
       "    </tr>\n",
       "    <tr>\n",
       "      <th>2017-03-03 07:07:07</th>\n",
       "      <td>Error encountered: &lt;class 'mysql.connector.err...</td>\n",
       "      <td>2017-03-03</td>\n",
       "      <td>401</td>\n",
       "      <td>True</td>\n",
       "      <td>&lt;class 'mysql.connector.errors.DatabaseError'&gt;</td>\n",
       "    </tr>\n",
       "  </tbody>\n",
       "</table>\n",
       "</div>"
      ],
      "text/plain": [
       "                                                                 entry  \\\n",
       "2017-03-02 16:04:57  Error encountered: <class 'mysql.connector.err...   \n",
       "2017-03-02 17:05:12  Error encountered: <class 'mysql.connector.err...   \n",
       "2017-03-03 05:04:44  Error encountered: <class 'mysql.connector.err...   \n",
       "2017-03-03 06:05:44  Error encountered: <class 'mysql.connector.err...   \n",
       "2017-03-03 07:07:07  Error encountered: <class 'mysql.connector.err...   \n",
       "\n",
       "                            day  entry_ind is_error  \\\n",
       "2017-03-02 16:04:57  2017-03-02        397     True   \n",
       "2017-03-02 17:05:12  2017-03-02        398     True   \n",
       "2017-03-03 05:04:44  2017-03-03        399     True   \n",
       "2017-03-03 06:05:44  2017-03-03        400     True   \n",
       "2017-03-03 07:07:07  2017-03-03        401     True   \n",
       "\n",
       "                                                          err_class  \n",
       "2017-03-02 16:04:57  <class 'mysql.connector.errors.DatabaseError'>  \n",
       "2017-03-02 17:05:12  <class 'mysql.connector.errors.DatabaseError'>  \n",
       "2017-03-03 05:04:44  <class 'mysql.connector.errors.DatabaseError'>  \n",
       "2017-03-03 06:05:44  <class 'mysql.connector.errors.DatabaseError'>  \n",
       "2017-03-03 07:07:07  <class 'mysql.connector.errors.DatabaseError'>  "
      ]
     },
     "execution_count": 143,
     "metadata": {},
     "output_type": "execute_result"
    }
   ],
   "source": [
    "dee.tail()"
   ]
  },
  {
   "cell_type": "code",
   "execution_count": 144,
   "metadata": {
    "collapsed": false
   },
   "outputs": [
    {
     "data": {
      "text/plain": [
       "1"
      ]
     },
     "execution_count": 144,
     "metadata": {},
     "output_type": "execute_result"
    }
   ],
   "source": [
    "len(dee.entry.unique())"
   ]
  },
  {
   "cell_type": "code",
   "execution_count": 155,
   "metadata": {
    "collapsed": false
   },
   "outputs": [
    {
     "data": {
      "text/plain": [
       "'Error encountered: <class \\'mysql.connector.errors.DatabaseError\\'>: (1366, \"1366 (HY000): Incorrect string value: \\'\\\\\\\\xF0\\\\\\\\x9F\\\\\\\\x91\\\\\\\\x80 T...\\' for column \\'summary\\' at row 1\", \\'HY000\\')'"
      ]
     },
     "execution_count": 155,
     "metadata": {},
     "output_type": "execute_result"
    }
   ],
   "source": [
    "dee.entry[-1]"
   ]
  },
  {
   "cell_type": "code",
   "execution_count": 160,
   "metadata": {
    "collapsed": false
   },
   "outputs": [
    {
     "name": "stdout",
     "output_type": "stream",
     "text": [
      "Total entries retrieved from https://www.wired.com/category/underwire/feed/: 10\n",
      "Total new links added: 0\n",
      "Total entries retrieved from https://www.wired.com/category/gear/feed/: 10\n",
      "Error encountered: <class 'mysql.connector.errors.DatabaseError'>: (1366, \"1366 (HY000): Incorrect string value: '\\\\xF0\\\\x9F\\\\x91\\\\x80 T...' for column 'summary' at row 1\", 'HY000')\n",
      "Feed https://www.wired.com/category/gear/feed/: <class 'UnboundLocalError'>: (\"local variable 'row_nbrs' referenced before assignment\",)\n",
      "Total entries retrieved from https://www.wired.com/category/reviews/feed/: 10\n",
      "Total new links added: 0\n"
     ]
    }
   ],
   "source": [
    "for e in log['2017-03-03 07:07:00':'2017-03-03 07:07:12']['entry']:\n",
    "    print(e)"
   ]
  },
  {
   "cell_type": "code",
   "execution_count": 157,
   "metadata": {
    "collapsed": true
   },
   "outputs": [],
   "source": [
    "feed_data = utils.load_feedlist_data('wired_feedlist.xml')"
   ]
  },
  {
   "cell_type": "code",
   "execution_count": 161,
   "metadata": {
    "collapsed": false
   },
   "outputs": [
    {
     "name": "stdout",
     "output_type": "stream",
     "text": [
      "0 https://www.wired.com/feed/\n",
      "1 https://www.wired.com/category/business/feed/\n",
      "2 https://www.wired.com/category/design/feed/\n",
      "3 https://www.wired.com/category/underwire/feed/\n",
      "4 https://www.wired.com/category/gear/feed/\n",
      "5 https://www.wired.com/category/reviews/feed/\n",
      "6 https://www.wired.com/category/science/feed/\n",
      "7 https://www.wired.com/category/science/science-blogs/feed/\n",
      "8 https://www.wired.com/category/security/feed/\n",
      "9 https://www.wired.com/category/transportation/feed/\n",
      "10 http://feeds.cnevids.com/brand/wired.mrss\n",
      "11 https://www.wired.com/category/photo/feed/\n"
     ]
    }
   ],
   "source": [
    "for i,f in enumerate(feed_data):\n",
    "    print(str(i) + ' ' + f['Link'])"
   ]
  },
  {
   "cell_type": "code",
   "execution_count": 162,
   "metadata": {
    "collapsed": false
   },
   "outputs": [
    {
     "data": {
      "text/plain": [
       "{'Link': 'https://www.wired.com/category/gear/feed/',\n",
       " 'RssName': 'Tech',\n",
       " 'Source': 'wired',\n",
       " 'keymap': {'id': 'id',\n",
       "  'link': 'link',\n",
       "  'published_parsed': 'published_parsed',\n",
       "  'summary': 'summary',\n",
       "  'title': 'title'}}"
      ]
     },
     "execution_count": 162,
     "metadata": {},
     "output_type": "execute_result"
    }
   ],
   "source": [
    "rss_entry = feed_data[4]\n",
    "rss_entry"
   ]
  },
  {
   "cell_type": "code",
   "execution_count": 163,
   "metadata": {
    "collapsed": true
   },
   "outputs": [],
   "source": [
    "contents = scrape_feeds.get_feed_contents(rss_entry)"
   ]
  },
  {
   "cell_type": "code",
   "execution_count": 164,
   "metadata": {
    "collapsed": false
   },
   "outputs": [
    {
     "data": {
      "text/plain": [
       "{'link': 'https://www.wired.com/2017/03/pandora-premium/',\n",
       " 'published': datetime.datetime(2017, 3, 13, 14, 0, 24),\n",
       " 'rss_link': 'https://www.wired.com/category/gear/feed/',\n",
       " 'story_id': 'https://www.wired.com/?p=2171564',\n",
       " 'summary': '<div class=\"rss_thumbnail\"><img src=\"https://www.wired.com/wp-content/uploads/2017/03/PandoraHP-660x330.jpg\" alt=\"Pandora Premium Can&#8217;t Hang With Spotify and Apple\" /></div>There\\'s really nothing groundbreaking about Pandora\\'s new on-demand streaming service. The post <a href=\"https://www.wired.com/2017/03/pandora-premium/\">Pandora Premium Can\\'t Hang With Spotify and Apple</a> appeared first on <a href=\"https://www.wired.com\">WIRED</a>.',\n",
       " 'title': 'Pandora Premium Can’t Hang With Spotify and Apple'}"
      ]
     },
     "execution_count": 164,
     "metadata": {},
     "output_type": "execute_result"
    }
   ],
   "source": [
    "contents[0]"
   ]
  },
  {
   "cell_type": "code",
   "execution_count": 167,
   "metadata": {
    "collapsed": false
   },
   "outputs": [
    {
     "name": "stdout",
     "output_type": "stream",
     "text": [
      "\\xF0\\x9F\\x91\\x80 T...\n"
     ]
    }
   ],
   "source": [
    "s = '\\\\xF0\\\\x9F\\\\x91\\\\x80 T...'\n",
    "print(s)"
   ]
  },
  {
   "cell_type": "code",
   "execution_count": 170,
   "metadata": {
    "collapsed": true
   },
   "outputs": [],
   "source": [
    "contents[0]['link'] = 'test'\n",
    "contents[0]['summary'] = s"
   ]
  },
  {
   "cell_type": "code",
   "execution_count": 171,
   "metadata": {
    "collapsed": false
   },
   "outputs": [
    {
     "data": {
      "text/plain": [
       "{'link': 'test',\n",
       " 'published': datetime.datetime(2017, 3, 13, 14, 0, 24),\n",
       " 'rss_link': 'https://www.wired.com/category/gear/feed/',\n",
       " 'story_id': 'https://www.wired.com/?p=2171564',\n",
       " 'summary': '\\\\xF0\\\\x9F\\\\x91\\\\x80 T...',\n",
       " 'title': 'Pandora Premium Can’t Hang With Spotify and Apple'}"
      ]
     },
     "execution_count": 171,
     "metadata": {},
     "output_type": "execute_result"
    }
   ],
   "source": [
    "contents[0]"
   ]
  },
  {
   "cell_type": "code",
   "execution_count": 172,
   "metadata": {
    "collapsed": false
   },
   "outputs": [
    {
     "data": {
      "text/plain": [
       "[64129]"
      ]
     },
     "execution_count": 172,
     "metadata": {},
     "output_type": "execute_result"
    }
   ],
   "source": [
    "mysql_utils.saveNewLinks(contents)"
   ]
  },
  {
   "cell_type": "markdown",
   "metadata": {},
   "source": [
    "    Seems to be a one-off awkward string error?  The value recorded in the error file must have been transposed from the original value because I cannot get the string to not write to the db..."
   ]
  },
  {
   "cell_type": "markdown",
   "metadata": {},
   "source": [
    "#### Data Error"
   ]
  },
  {
   "cell_type": "code",
   "execution_count": 177,
   "metadata": {
    "collapsed": false
   },
   "outputs": [
    {
     "data": {
      "text/plain": [
       "(491, 5)"
      ]
     },
     "execution_count": 177,
     "metadata": {},
     "output_type": "execute_result"
    }
   ],
   "source": [
    "dee = errors[errors.err_class==err01]\n",
    "dee.shape"
   ]
  },
  {
   "cell_type": "code",
   "execution_count": 189,
   "metadata": {
    "collapsed": false
   },
   "outputs": [
    {
     "data": {
      "text/plain": [
       "DatetimeIndex(['2017-03-13 12:06:09', '2017-03-13 12:08:09',\n",
       "               '2017-03-13 13:00:28', '2017-03-13 13:04:47',\n",
       "               '2017-03-13 13:06:14'],\n",
       "              dtype='datetime64[ns]', freq=None)"
      ]
     },
     "execution_count": 189,
     "metadata": {},
     "output_type": "execute_result"
    }
   ],
   "source": [
    "dee.tail().index"
   ]
  },
  {
   "cell_type": "code",
   "execution_count": 179,
   "metadata": {
    "collapsed": false
   },
   "outputs": [
    {
     "data": {
      "text/plain": [
       "4"
      ]
     },
     "execution_count": 179,
     "metadata": {},
     "output_type": "execute_result"
    }
   ],
   "source": [
    "len(dee.entry.unique())"
   ]
  },
  {
   "cell_type": "code",
   "execution_count": 180,
   "metadata": {
    "collapsed": false
   },
   "outputs": [
    {
     "data": {
      "text/plain": [
       "array([ 'Error encountered: <class \\'mysql.connector.errors.DataError\\'>: (1406, \"1406 (22001): Data too long for column \\'story_id\\' at row 1\", \\'22001\\')',\n",
       "       'Error encountered: <class \\'mysql.connector.errors.DataError\\'>: (1406, \"1406 (22001): Data too long for column \\'summary\\' at row 1\", \\'22001\\')',\n",
       "       'Error encountered: <class \\'mysql.connector.errors.DataError\\'>: (1406, \"1406 (22001): Data too long for column \\'title\\' at row 1\", \\'22001\\')',\n",
       "       'Error encountered: <class \\'mysql.connector.errors.DataError\\'>: (1406, \"1406 (22001): Data too long for column \\'link\\' at row 1\", \\'22001\\')'], dtype=object)"
      ]
     },
     "execution_count": 180,
     "metadata": {},
     "output_type": "execute_result"
    }
   ],
   "source": [
    "dee.entry.unique()"
   ]
  },
  {
   "cell_type": "code",
   "execution_count": 265,
   "metadata": {
    "collapsed": false
   },
   "outputs": [
    {
     "data": {
      "text/plain": [
       "'Feed http://www.bbc.co.uk/blogs/theeditors/rss.xml: <class \\'UnboundLocalError\\'>: (\"local variable \\'row_nbrs\\' referenced before assignment\",)'"
      ]
     },
     "execution_count": 265,
     "metadata": {},
     "output_type": "execute_result"
    }
   ],
   "source": [
    "str(log[str(dee.tail().index[0] - 0*sec)]['entry'][1])"
   ]
  },
  {
   "cell_type": "code",
   "execution_count": 197,
   "metadata": {
    "collapsed": false
   },
   "outputs": [],
   "source": [
    "sec = pandas.tslib.Timedelta('1 second')"
   ]
  },
  {
   "cell_type": "code",
   "execution_count": 229,
   "metadata": {
    "collapsed": false
   },
   "outputs": [],
   "source": [
    "def get_err_contexts(errs):\n",
    "    contexts = []\n",
    "    for ind in errs.index:\n",
    "        i = 1\n",
    "        success = False\n",
    "        while not success:\n",
    "            sub = list(log[str(ind - i*sec)]['entry'])\n",
    "            if len(sub)== 0:\n",
    "                i += 1\n",
    "                if i > 3:\n",
    "                    success=True\n",
    "            else:\n",
    "                success = True\n",
    "                contexts.append({'index' : str(ind),\n",
    "                                 'context' :sub})\n",
    "    return(contexts)"
   ]
  },
  {
   "cell_type": "code",
   "execution_count": 230,
   "metadata": {
    "collapsed": false
   },
   "outputs": [],
   "source": [
    "cons = get_err_contexts(dee)"
   ]
  },
  {
   "cell_type": "code",
   "execution_count": 252,
   "metadata": {
    "collapsed": false
   },
   "outputs": [
    {
     "data": {
      "text/plain": [
       "[{'context': ['Total entries retrieved from http://www.bbc.co.uk/blogs/theeditors/rss.xml: 15'],\n",
       "  'index': '2017-03-13 12:06:09'},\n",
       " {'context': ['Total entries retrieved from http://rss.cnn.com/rss/cnn_showbiz.rss: 29'],\n",
       "  'index': '2017-03-13 12:08:09'},\n",
       " {'context': ['Total entries retrieved from http://feeds.foxnews.com/foxnews/latest: 38'],\n",
       "  'index': '2017-03-13 13:00:28'},\n",
       " {'context': ['Total entries retrieved from http://feeds.bbci.co.uk/news/have_your_say/rss.xml: 19',\n",
       "   'Total new links added: 0'],\n",
       "  'index': '2017-03-13 13:04:47'},\n",
       " {'context': ['Total entries retrieved from http://rss.cnn.com/rss/cnn_health.rss: 30',\n",
       "   'Total new links added: 0'],\n",
       "  'index': '2017-03-13 13:06:14'}]"
      ]
     },
     "execution_count": 252,
     "metadata": {},
     "output_type": "execute_result"
    }
   ],
   "source": [
    "cons[-5:]"
   ]
  },
  {
   "cell_type": "code",
   "execution_count": 242,
   "metadata": {
    "collapsed": false
   },
   "outputs": [
    {
     "name": "stdout",
     "output_type": "stream",
     "text": [
      "Error encountered: <class 'mysql.connector.errors.DataError'>: (1406, \"1406 (22001): Data too long for column 'summary' at row 1\", '22001')\n",
      "Error encountered: <class 'mysql.connector.errors.DataError'>: (1406, \"1406 (22001): Data too long for column 'link' at row 1\", '22001')\n",
      "Error encountered: <class 'mysql.connector.errors.DataError'>: (1406, \"1406 (22001): Data too long for column 'title' at row 1\", '22001')\n",
      "Error encountered: <class 'mysql.connector.errors.DataError'>: (1406, \"1406 (22001): Data too long for column 'summary' at row 1\", '22001')\n",
      "Error encountered: <class 'mysql.connector.errors.DataError'>: (1406, \"1406 (22001): Data too long for column 'link' at row 1\", '22001')\n"
     ]
    }
   ],
   "source": [
    "for i in range(-5,0):\n",
    "    print(dee[cons[i]['index']]['entry'][0])"
   ]
  },
  {
   "cell_type": "code",
   "execution_count": 292,
   "metadata": {
    "collapsed": false
   },
   "outputs": [
    {
     "data": {
      "text/plain": [
       "<module 'scrape_feeds' from '/home/immersinn/gits/rssfeed_link_collector/src/scrape_feeds.py'>"
      ]
     },
     "execution_count": 292,
     "metadata": {},
     "output_type": "execute_result"
    }
   ],
   "source": [
    "reload(scrape_feeds)"
   ]
  },
  {
   "cell_type": "code",
   "execution_count": 293,
   "metadata": {
    "collapsed": false
   },
   "outputs": [],
   "source": [
    "feed_data = utils.load_feedlist_data('bbcnews_feedlist.xml')"
   ]
  },
  {
   "cell_type": "code",
   "execution_count": 294,
   "metadata": {
    "collapsed": false
   },
   "outputs": [
    {
     "name": "stdout",
     "output_type": "stream",
     "text": [
      "0 http://feeds.bbci.co.uk/news/front_page/rss.xml\n",
      "1 http://feeds.bbci.co.uk/news/world/rss.xml\n",
      "2 http://feeds.bbci.co.uk/news/uk/rss.xml\n",
      "3 http://feeds.bbci.co.uk/news/england/rss.xml\n",
      "4 http://feeds.bbci.co.uk/news/northern_ireland/rss.xml\n",
      "5 http://feeds.bbci.co.uk/news/scotland/rss.xml\n",
      "6 http://feeds.bbci.co.uk/news/wales/rss.xml\n",
      "7 http://feeds.bbci.co.uk/news/business/rss.xml\n",
      "8 http://feeds.bbci.co.uk/news/health/rss.xml\n",
      "9 http://feeds.bbci.co.uk/news/education/rss.xml\n",
      "10 http://feeds.bbci.co.uk/news/science_and_environment/rss.xml\n",
      "11 http://feeds.bbci.co.uk/news/technology/rss.xml\n",
      "12 http://feeds.bbci.co.uk/news/magazine/rss.xml\n",
      "13 http://feeds.bbci.co.uk/news/rss.xml\n",
      "14 http://feeds.bbci.co.uk/news/politics/rss.xml\n",
      "15 http://feeds.bbci.co.uk/news/science_and_environment/rss.xml\n",
      "16 http://feeds.bbci.co.uk/news/entertainment_and_arts/rss.xml\n",
      "17 http://feeds.bbci.co.uk/news/world/africa/rss.xml\n",
      "18 http://feeds.bbci.co.uk/news/world/asia/rss.xml\n",
      "19 http://feeds.bbci.co.uk/news/world/europe/rss.xml\n",
      "20 http://feeds.bbci.co.uk/news/world/latin_america/rss.xml\n",
      "21 http://feeds.bbci.co.uk/news/world/middle_east/rss.xml\n",
      "22 http://feeds.bbci.co.uk/news/world/us_and_canada/rss.xml\n",
      "23 http://feeds.bbci.co.uk/news/video_and_audio/news_front_page/rss.xml?edition=uk\n",
      "24 http://feeds.bbci.co.uk/news/video_and_audio/world/rss.xml\n",
      "25 http://feeds.bbci.co.uk/news/video_and_audio/uk/rss.xml\n",
      "26 http://feeds.bbci.co.uk/news/video_and_audio/business/rss.xml\n",
      "27 http://feeds.bbci.co.uk/news/video_and_audio/politics/rss.xml\n",
      "28 http://feeds.bbci.co.uk/news/video_and_audio/health/rss.xml\n",
      "29 http://feeds.bbci.co.uk/news/video_and_audio/science_and_environment/rss.xml\n",
      "30 http://feeds.bbci.co.uk/news/video_and_audio/technology/rss.xml\n",
      "31 http://feeds.bbci.co.uk/news/video_and_audio/entertainment_and_arts/rss.xml\n",
      "32 http://feeds.bbci.co.uk/news/also_in_the_news/rss.xml\n",
      "33 http://feeds.bbci.co.uk/news/in_pictures/rss.xml\n",
      "34 http://feeds.bbci.co.uk/news/special_reports/rss.xml\n",
      "35 http://feeds.bbci.co.uk/news/have_your_say/rss.xml\n",
      "36 http://www.bbc.co.uk/blogs/theeditors/rss.xml\n",
      "37 http://news.bbc.co.uk/sport1/hi/help/rss/default.stm\n"
     ]
    }
   ],
   "source": [
    "for i,f in enumerate(feed_data):\n",
    "    print(str(i) + ' ' + f['Link'])"
   ]
  },
  {
   "cell_type": "code",
   "execution_count": 295,
   "metadata": {
    "collapsed": false
   },
   "outputs": [
    {
     "data": {
      "text/plain": [
       "{'Link': 'http://www.bbc.co.uk/blogs/theeditors/rss.xml',\n",
       " 'RssName': 'Editors Blog',\n",
       " 'Source': 'bbc',\n",
       " 'keymap': {'id': 'id',\n",
       "  'link': 'link',\n",
       "  'published_parsed': 'published_parsed',\n",
       "  'summary': 'summary',\n",
       "  'title': 'title'}}"
      ]
     },
     "execution_count": 295,
     "metadata": {},
     "output_type": "execute_result"
    }
   ],
   "source": [
    "rss_entry = feed_data[36]\n",
    "rss_entry"
   ]
  },
  {
   "cell_type": "code",
   "execution_count": 296,
   "metadata": {
    "collapsed": false
   },
   "outputs": [],
   "source": [
    "contents = scrape_feeds.get_feed_contents(rss_entry)"
   ]
  },
  {
   "cell_type": "code",
   "execution_count": 269,
   "metadata": {
    "collapsed": true
   },
   "outputs": [],
   "source": [
    "from bs4 import BeautifulSoup as bs"
   ]
  },
  {
   "cell_type": "code",
   "execution_count": 284,
   "metadata": {
    "collapsed": false
   },
   "outputs": [],
   "source": [
    "for c in contents:\n",
    "    flag = False\n",
    "    if len(c['title']) > 200:\n",
    "        flag = True\n",
    "    if len(c['link']) > 200:\n",
    "        flag = True\n",
    "    if len(c['summary']) > 5000:\n",
    "        flag = True\n",
    "    if flag:\n",
    "        print(c)"
   ]
  },
  {
   "cell_type": "code",
   "execution_count": 297,
   "metadata": {
    "collapsed": false
   },
   "outputs": [
    {
     "name": "stdout",
     "output_type": "stream",
     "text": [
      "As of Thursday, the Editors' blog will move to a different address on the BBC News website.\n",
      "While this page will no longer be updated, it will stay here for reference. \n",
      "\n",
      "\n",
      "We've had a huge response to our class calculator this week, particularly across social media, following a major survey by BBC Lab UK. The survey suggests that traditional categories of working, middle and upper class are outdated and we all fit in to one of seven new classes. \n",
      "\n",
      "The class calculator - which lets you work out where you might fit in amongst the new categories - has attracted about six million page views on the BBC News site, making it the second most popular article of 2013 to date. (The most viewed article this year has been the helicopter crash in Vauxhall in January.) Nearly 1.9 million of those views have come from those of you accessing the site on mobiles and tablets.\n",
      "\n",
      "But one thing that really stands out is how widely the story has been shared across social media, with more than 300,000 shares so far. More than a quarter of links to the calculator have come from social networking sites. \n",
      "More than half a million referrals came from Facebook alone, and about 107,000 from Twitter. This is a much higher number than we usually see shared across social media. If you compare the class calculator with the other top stories of the week, usually about 5% of known referrals come from social media sites.\n",
      "\n",
      "So why has it proven so popular with our audience? Michael Orwell, a producer at BBC Lab UK, worked closely on the survey and said one of the best things about the project was that the audience contributed to new research with top academics. \n",
      "The calculator itself, produced by the BBC News Visual Journalism team in collaboration with BBC Knowledge and Learning, lets everyone engage with the new model and discover where they might fit in.\n",
      "Steve Herrmann is editor of the BBC News website.\n",
      "\n",
      "\n",
      "\n",
      " \n",
      "On Tuesday we are releasing an update to the BBC News iPhone and iPad app in the UK designed to make the app faster and more stable, with bigger, better quality images on the home screen.\n",
      "\n",
      "\n",
      "We are busy doing some research and thinking at the moment about what people are looking for in our News apps in the longer term, but we thought that in the meantime, it was important to fix one or two bugs affecting some users of the existing app and to make it a better, slicker experience overall. \n",
      "We want to make sure the current app remains a great way to get a quick overview of the top stories across a wide range of subjects, easy-to-scan on a mobile and, once the stories have loaded, handy to read offline too.\n",
      "So, it will now be quicker to start up the app and to update it, and it should feel smoother and faster as you scroll and swipe through the screens and stories. \n",
      "The larger homescreen images we've introduced serve two purposes: \n",
      "first, you can see what's in them more clearly and there's more room for the headlinesecond, their positioning makes it clearer that you can scroll horizontally in each news category to reveal more stories (we noticed that in user testing some people assumed there were only three stories a section).\n",
      "There is a new layout on iPad when you view the home screen in portrait mode - designed to show more headlines and make it easier to find the stories you're interested in.\n",
      "Among the bugs that we've fixed is an issue that sometimes caused the app to get stuck when updating, and another where you sometimes saw duplicate stories within a single news category.\n",
      "For our product team, these improvements required a fairly major reworking of the app's code. The good news is that they are now working from a more stable base which can be built on with new features and functionality. This revising of our code is something we've already done with our Android app, so we'll now be able to release upgrades simultaneously on both iOS and Android, which are by far the largest mobile platforms for us in terms of users. This latest update is already available internationally.\n",
      "\n",
      "If you're a user of the app, or decide to try it out, we hope you'll like the improvements we've made. And as we think about our apps generally and plan our next steps, we'd like to hear about what you'd most like to see in future. \n",
      "Steve Herrmann is editor of the BBC News website.\n",
      "\n",
      "\n",
      "So it's here. School Report News Day 2013 is upon us - and about 1,000 schools are due to take part, making the news that matters to them.\n",
      "They will appear across BBC News - on TV, radio and online and on regional news programmes.\n",
      "The project is now in its seventh year, and is bigger than ever. School reporters are in Canterbury to witness the enthronement of the new Archbishop of Canterbury Justin Welby, and we also return to the Olympic Park in London to examine the legacy from the 2012 games. And there's more - the BBC School Report website has full details of the range of topics being covered.\n",
      "It is all a far cry from when we began. A small team started School Report with the aim of giving teenagers the opportunity to make the news they thought mattered. Giving them hours of BBC airtime was nerve-wracking, but it proved to be a success.\n",
      "In that first year - 2007 - we worked with 12- and 13-year-olds in 120 schools. What I most remember from that year is seeing school reporters on the Six O'Clock News and thinking that this partnership between schools and the BBC had developed into something bigger than we ever thought it could be.\n",
      "Fast-forward to 2013 and we are able to reach even further, both in geographical terms and into the BBC's output. We'll be broadcasting live from Radio Foyle in Londonderry, and taking over the flagship Radio 4 programme Woman's Hour.\n",
      "There will also be a dedicated School Report Live channel accessible through the Red Button. We'll be updating a live news feed on our website and our @BBCSchoolReport Twitter feed throughout the day, so please follow what our school reporters are doing and let us know what you think.\n",
      "Helen Shreeve is editor of BBC News School Report.\n",
      "\n",
      "\n",
      "\n",
      " By Faris Couri, editor of the BBC Arabic Service\n",
      "\n",
      "It is no secret that recent Arab uprisings have placed enormous burdens on the shoulders of BBC Arabic journalists responsible for reporting news from the region. \n",
      "Covering the Arab world is not always an easy task - we need to mix sensible caution with a dose of courage in covering political issues that attract so many disputed views among Arabic-speaking audiences. \n",
      "\n",
      "Our guiding principles are the BBC's values, its editorial guidelines, its ethical code, which are our reference points to maintain impartial, balanced and accurate reporting.\n",
      "\n",
      "Across the Arab world - whether it's Tunisia, Yemen, Egypt or Libya, Bahrain, Syria and Iraq or the many other countries in the region - we know that audiences want access to objective and independent news, far removed from an agenda that favours one party, religion or sect against another. That is why audiences are turning to BBC Arabic.\n",
      "\n",
      "Last year, our latest figures show that overall audiences to BBC Arabic have risen by more than 17% to a record high of 25.3 million adults weekly. That includes a big surge of 2.9 million in Saudi Arabia and 2.7 million in Egypt, where TV viewers in particular turned to the BBC to better understand the events happening in their own country. Our radio audiences are also holding up despite the reductions in transmission. Online is proving to be more of a challenge, but we are working hard to understand the needs of digital audiences and those for whom social media plays an increasingly important part in their lives.\n",
      "\n",
      "In 2011, following the fall of the Mubarak leadership, we watched as ordinary Egyptians carried banners saying \"Thank you, BBC!\" But meeting the high expectation of audiences has a price and sometimes it's been a heavy one.  \n",
      "\n",
      "March 2011 brought a strong reminder of the risks that our staff face in covering the news - one of our reporters was arrested and tortured by Muammar Gaddafi's forces during the Libya uprising. In early 2012, our reporter in Yemen was beaten and received death threats from supporters of the outgoing president. \n",
      "\n",
      "We are also challenged by those who disagree with our coverage. In countries such as Syria and Bahrain, BBC Arabic has been accused of bias. \n",
      "\n",
      "The criticism comes from opposition and government alike. It may be a valid argument to say that getting criticism from both sides, in the case of Arab world certainly, is an indication of balanced coverage.\n",
      "\n",
      "On Syria, for example, we had a series of documentaries looking at the civil war from a number of perspectives. \n",
      "The first one, exploring what it's like to work for a Syrian television channel that's the mouthpiece of the government, was the butt of criticism and threats from Syrian opposition quarters. We followed it up with a programme charting a day in the lives of six Syrian women, five of whom were anti-government activists.  \n",
      "In our day-to-day news coverage, presenting a variety of voices from Syria is essential to us. And that is what distinguishes BBC Arabic from many media outlets in the Arab world which promote political views and agendas, and that is what we are determined to keep. \n",
      "\n",
      "BBC Arabic marked its 75th anniversary in January. Arab politicians and ordinary people have expressed their appreciation of our track record of impartiality and trusted news. I am confident that the coming years will see further achievement on all our platforms - TV, radio and online. \n",
      "\n",
      "\n",
      "\n",
      "Moving BBC World News, the BBC's largest television channel, from west London to New Broadcasting House in the centre of the city is a huge project that has taken years of planning. \n",
      "Relaunching and rebranding every hour of its 24 hours of output to give audiences around the world a new exciting polished HD product has made that huge project even more challenging. \n",
      "Hopefully on Monday at 1200 GMT, the hard work of our 100 dedicated staff will give our audiences a bolder, brighter, more engaging look for the channel they trust to give them independent, objective news and analysis from more correspondents, in more locations, than any other international broadcaster. \n",
      "Meticulous planning began about three years ago - everything from the new look of our studios to bicycle parking. We tested our studio systems - literally to breaking point - then fixed them and began the dual-running piloting that has split our newsroom teams between those keeping us on air back at Television Centre and those training and developing our programmes in our new home.    \n",
      "We're calling our new location The World's Newsroom because it truly reflects the world we report. We now work with colleagues from 27 language services who report for us from far flung bureaus and in London, allowing us to celebrate their unique expertise - something no other broadcaster can offer. \n",
      "\n",
      " \n",
      "We'll be introducing you to those new colleagues and our new location in special live reports from inside New Broadcasting House and offering enhanced social media access so you can enjoy behind-the-scenes access.\n",
      "\n",
      "\n",
      "Audiences have also told us they want to engage more with the stories we tell - to feel closer to the issues we report. We're going to help you \"live the story\" with us. It's our new channel ethos. \n",
      "Our correspondents - expert, brave, tough, determined - live and work where they report, and we want audiences to understand their passion for the stories they cover. So expect a new style of reporting from the field. And we'll be everywhere for our relaunch with live and exclusive reports planned from Syria, China, the US and Burma to name just a few. \n",
      "In the studio, trusted and familiar presenters will be sharing the day's top stories - with a sprinkling of new faces on air. We'll have a more dynamic look, with robot cameras whizzing around our studios, improved graphics and high definition screens to enhance our ability to explain and analyse. We even have some virtual reality surprises planned. \n",
      "We're also developing new long-form programmes, so expect to see new hard-hitting and timely documentary series. There'll be fresh new editions of favourites such as HARDTalk with Stephen Sackur (our interrogator-in-chief), Click for the latest on tech and Health Check for medical breakthroughs.\n",
      "BBC World News has come a long way since it launched as a shoestring commercial operation in a backroom at Television Centre more than 20 years ago. Our audiences have grown massively. We're required viewing from the President's White House in Washington to the President's Blue House in Seoul. And in an era when bad mortgages in the US can trigger a global economic meltdown, we know there is a huge appetite for world news delivered fast, accurately and objectively. \n",
      "We hope you'll enjoy our new look. And we hope you'll join us in the world's newsroom.\n",
      "Andrew Roy is head of news for BBC World News\n",
      "\n",
      "\n",
      "\n",
      "BBC World News will soon be available in Burma. Those are words that, even six months ago, I would not have imagined writing. But Burma, a byword for media censorship and repression, is starting to open up.\n",
      "In September I visited Burma to begin the negotiations which led to this breakthrough in BBC distribution. I was struck by how rapid the media changes are for a country where state media had been long stuck in a repressive timewarp. \n",
      "A World Service team visited the state broadcaster. We saw the most surreal newsroom I have ever visited. There were no journalists there. \"Why not?\" we asked. \"We don't need them yet. The news hasn't arrived.\" \n",
      "We learnt the news is literally delivered once a day by the state news agency. The job of the journalists was to read it out, word for word, unaltered.\n",
      "But those journalists and editors are now keen to have the BBC's help in learning about open and balanced journalism. It will be a long road, given the ingrained habits of censorship and self-censorship. \n",
      "But the BBC, through its pioneering media development charity BBC Media Action, is able to offer training to editors and journalists to teach them what independent journalism is. Even officials from the Ministry of Information, the former censors, asked if they could go on BBC journalism courses. Alongside the desire for training, the opening up of Burma to international broadcasters is naturally to be welcomed. \n",
      "However, there is a long way to go. The massively popular BBC Burmese service, which we estimate is listened to by more than eight million people a week, is not yet allowed to broadcast within Burma. It is transmitted only on shortwave, faithfully listened to, as Aung San Suu Kyi has done for so many years. We urge the government to fully open its airwaves.\n",
      "And we told the Burmese government that the BBC would continue to scrutinise the country closely. Indeed, as it becomes possible for our journalists to travel within the country, reports such as Fergal Keane's recent searing Newsnight film on human rights abuses in Rakhine state, will form a key part of the BBC's role in the country.\n",
      "We will also continue to report the progress being made in the political and economic spheres.\n",
      "At this early stage of opening up, it is hard to know if the hopes of media freedom will be fulfilled, but it is at least an encouraging sign that the BBC can now report from and to the country in English.\n",
      "Authoritarian governments everywhere are asking themselves if they can and should hold back the free flow of news any more. And, as they ask themselves these questions, politicians, officials and journalists are looking to the BBC as the international exemplar of quality, impartial and independent journalism.\n",
      "Peter Horrocks is the director of BBC Global News\n",
      "\n",
      "\n",
      "This week viewers to BBC World News have been watching a series of reports focusing on the Arab uprisings, two years after they first began. Correspondents have been in Damascus, Tunis, Cairo, the Syria-Lebanon border and elsewhere. Their eyewitness TV reporting is accompanied by further explanation and analysis on our website, bbc.com/news. These are expert journalists, with years of experience and knowledge, living the story on behalf of the audience. They demonstrate our commitment to reporting the world, and bringing clarity to complex events.\n",
      "\n",
      "Until now, however, viewers in the world's biggest TV market, the US, have found it hard to access BBC reporting of this kind. The market is saturated with TV channels, but for the past couple of years we've been very focused on securing widespread carriage on the distribution systems which bring TV into most homes.\n",
      "\n",
      "So today the BBC is delighted to announce we have agreed to a partnership with the US cable giant - Time Warner Cable - and through this and other deals, a further 10 million homes in the US will have access to BBC World News 24 hours a day, seven days a week. \n",
      "\n",
      "This means by the end of this year we will be available in 25 million homes, including those in most of the major markets - New York, Washington DC, Los Angeles, Chicago, Boston. There is still some way to go before we can say we have reached everyone - but 2012 has been a year of significant breakthroughs for us in the US.\n",
      "\n",
      "The BBC is already well-known in America through its partnerships with public radio, through the success of our website BBC.com/news, and because of our nightly broadcast on public television fronted by Katty Kay. We believe our brand of high-quality, intelligent and non-partisan journalism has something to offer US audiences, and we're determined to make access to our services as simple as possible.\n",
      "\n",
      "The timing could not be better. We're just a few weeks away from the first broadcasts of BBC World News from our brand new headquarters in central London. Three new studios, a big investment in production and journalism, and working more closely with BBC journalists working in English and 27 other languages - it's more than just a new home, it's a new start. We're delighted to share that even more widely.\n",
      "\n",
      "Richard Porter is controller of English at BBC Global News\n",
      "\n",
      "\n",
      "This week marks 15 years since BBC Online was born. At about the same time, the BBC's news website also went live. The number of people visiting the news site has grown enormously over the years, and here you can see how traffic has increased, spiking at key news events, and how the appearance of the site's front page has changed over the years too. Meanwhile, for the 15th anniversary, the BBC's Director of Future Media Ralph Rivera has blogged about the significance of BBC Online today and the continuing importance of innovation to the BBC.\n",
      "Steve Herrmann is editor of the BBC News website.\n",
      "\n",
      "\n",
      "Back in July we announced that we'd be working with the Knight-Mozilla fellowship for a second year and invited applications from people passionate about working with technology and journalism, and keen to have an impact in this area at the BBC. \n",
      "My colleague, senior product manager Andrew Leimdorfer, has this update:\n",
      "We are pleased to announce that we have decided on our new Knight-Mozilla fellow, Noah Veltman, who will be starting with us in January 2013. \n",
      "Noah is one of eight 2013 fellows who will all be announced at this weekend's sold-out Mozilla Festival in London who will be based in news organisations around the world, including the Guardian and the New York Times.\n",
      "There are so many ways that technology is changing journalism that our first challenge is going to be to make a choice about which of these areas Noah will be helping us with next year. Working on new data visualisations and developing innovative content for mobile web will be high on the list.\n",
      "We welcome Noah to the team and wish all the Knight-Mozilla fellows all the best in 2013. \n",
      "\n",
      "\n",
      "BBC coverage of the US election, which my colleague Jon Williams trailed here a couple of days ago, brought the highest traffic to BBC News Online so far this year, and set a new record for us on mobile.\n",
      "On 7 November, there were 16.4m unique browsers across the website and mobile, 8.1m of which came from the UK. That makes it the highest traffic day of 2012 so far and rivals our two biggest previous days during the August riots and the March Tsunami, in 2011. During the England riots, on 9 August 2011 there were there were 18.2m unique browsers, 10.9m of which came from the UK.\n",
      "The peak traffic point yesterday was 07:00-08:00 GMT, which saw higher usage than lunchtime, maybe as people checked the results as soon as they woke up. UK usage figures yesterday were 50% higher than the average for 2012, and ex-UK usage was 75% higher than average.\n",
      "We spent a lot of time working out how to provide the best possible service on mobile, so it's encouraging to see that nearly 5m mobile devices visited BBC News Online yesterday, a record figure for us on mobile, accounting for about 30% of all users yesterday (on an average weekday, we'd expect mobiles to account for about 24% of users).\n",
      "Steve Herrmann is editor of the BBC News website.\n",
      "\n",
      "\n",
      "So after more than a year of campaigning, it all comes down to this. On radio, TV and online, the BBC is gearing up for a big night - in English and 27 other languages. And not just one big night, but 51 separate contests.\n",
      "\n",
      "Unlike most other countries, the US election is not a nationwide \"popular poll\". Instead, the president is elected by an Electoral College of 538 delegates from each of the 50 states, plus the District of Columbia. How many come from each, depends on their population.  So as the votes pile up, it's the way each state votes that will decide the election.\n",
      "\n",
      "In most states, thanks to exit polls, it may be possible to project a result the moment the polls close. Working with our friends at ABC News, the BBC will \"call\" the results, state by state, based on those projections.  In states that are too close to call, electronic voting will mean we're able to follow the counting in real time, based on the number of voting precincts reporting.\n",
      "\n",
      "The first real test will come at midnight GMT when polls close in six states. Virginia, with 13 electoral college votes, will be the first of the battle ground states to report. Half an hour later at 00:30 GMT, polls will also close in Ohio with its 18 votes and North Carolina with 15 votes. As the polls close, the BBC will call the result in each based on projections made by ABC News.\n",
      "\n",
      "Using the results service on the BBC News website, you'll be able to follow the same data driving the BBC's results system on TV and radio. They will include the state results, the resultant change in the Electoral College vote, and will colour the state and national maps accordingly - red for Republican states, blue for Democrats.\n",
      "\n",
      "The target for Barack Obama and Mitt Romney is to hit a figure of 270 - winning the majority of the 538 delegates to the Electoral College. Once one of the candidates passes the magic 270 total, this election will be over. Then - and only then - will the BBC call the election. A big night and, possibly, a long night beckons.\n",
      "Jon Williams is world news editor.\n",
      "\n",
      "\n",
      "\n",
      " \n",
      "\n",
      "Ceefax - the BBC's teletext service - finally ends its long career tonight when it is due to be switched off at 23:30 BST. There is more on this, and the history of the service, in our news story today and linked coverage.\n",
      "As each part of the UK has in turn gone through the switchover to digital and lost the Ceefax service in the process, it has been a long farewell, which I have written about here before.\n",
      "Now, with the analogue TV signal in Northern Ireland being switched off, the last stage in the process has arrived, and the service will come to an end.\n",
      "The BBC Red Button services will carry on the Ceefax tradition of providing clear and concise news from around the UK and the world, on demand, on your TV.\n",
      "Indeed the Red Button service is in the process of being reinvented for internet-enabled TV sets, and this “Connected Red Button” service will combine the simplicity of traditional Red Button with the flexibility and depth of online. My colleague Daniel Danker has written about this work here and there is already a BBC News app for connected TVs which I wrote about here and here when it launched.\n",
      "At its peak, Ceefax had an audience of some 20 million viewers a week, and as the end of the service has approached, it has received several thousand letters and emails of thanks from viewers.\n",
      "In a tribute to the clarity of Ceefax’s simple, concise format and news stories, and to mark Ceefax's last day, the Plain English Campaign - which campaigns for clear, concise language in public information - has given Ceefax a lifetime achievement award.\n",
      "It's an honour to have received so many tributes from Ceefax viewers, and to get this award, and both are a recognition of the skill and dedication of all the journalists who have worked on the service over the years, and the care they have taken in writing every story.\n",
      "Steve Herrmann is editor of the BBC News website.\n",
      "\n",
      "\n",
      "\n",
      " \n",
      "\n",
      "Earlier this year we launched a new version of the BBC News mobile site, making it easier and quicker to use. This week we've begun the process of directing all mobile users automatically to that site. This means that anyone who visits BBC News on their mobile will be taken to the version of the site best suited to the type of phone they are using.\n",
      "Many of you already visit the mobile site regularly but, up until now, people looking for BBC News on their phone will often have found themselves on the desktop version of the site, which is designed for desktop PCs, macs and laptops - all with much bigger screens. If you are using this desktop version on your phone it can be awkward to pinch, zoom and scan the stories on a small mobile screen.\n",
      "This image shows how the mobile site displays on a smartphone - compared with the desktop version:\n",
      "\n",
      " \n",
      "\n",
      "To tackle this, we've been working over the past six months to improve and add to the mobile site, taking on board your feedback about how you'd like to see it develop.\n",
      "We've recently added video clips for iPhone and Android users, and made it easier to navigate the site. (We hope to extend this video service to other types of mobile in the future.) We've also added easier ways of getting to local news and weather services, something many of you asked for. You can read more about those changes here.\n",
      "So, we're confident that the mobile site now has the wide range of content you are looking for and that it offers a better experience on a small screen than the desktop site, which is why we are taking the step of automatically redirecting mobile users there.\n",
      "Of course, you may be happy to keep visiting the desktop site on your mobile and if you want to continue doing so just scroll to the bottom of the page and tap on the link for the desktop site. Your choice will be remembered for the next time you visit.\n",
      "Similarly, if you use a mobile and find that you're not redirected to the new site, you can scroll to the bottom of the page and select the mobile site.\n",
      "This is the latest stage in the ongoing work by our News product team on responsive design - a way of presenting our content to you in the most suitable way by detecting the type of device you are using and displaying the format best adapted for it. We are doing similar work to optimise the site for tablet users too.\n",
      "The number of people coming to BBC News on mobile continues to grow. In an average week, 13.3m users worldwide use their mobile or tablet to visit the BBC News site and apps - around one-third of total users to BBC News Online.\n",
      "If you are one of them, our aim is to offer you the full range and depth of BBC News content, whatever device you are using, whilst also making best use of the screen size.\n",
      "We hope you'll like using the new mobile site, and if you'd like to leave comments and feedback about it, or have questions, please post them below. Or you can tweet your views using the hashtags #bbcnews #responsive\n",
      "Update: Thanks for your comments. Here are some answers to the questions posted below:\n",
      "John Walsh – Kindle: As a tablet device, albeit with a smaller screen than some makes, Kindles currently default to the desktop site. Users of any device including Kindles are certainly free to use the mobile version if they prefer by clicking the link at the bottom of the screen. Our aim is to further improve the experience for progressively larger screen sizes over time.\n",
      "Jesse Moore - HTC: We know there are some devices that are incorrectly classified by our systems, often due to the fact that some devices have different identifiers dependent on the mobile network they are on. In any case we will certainly be doing everything we can to correct errors and ensure the redirection behaves as it should. In the meantime, please use the “Mobile Site” link at the foot of the page should you wish to use the mobile site – the selection will be remembered as long as cookies are not cleared. At this time the redirect only applies to the BBC Homepage and the News site.\n",
      "Cogito Ergo Sum - Windows phone: This change applies to the browser experience, which is already designed to work for Windows Phone although at present we are unable to provide video for those devices.\n",
      "Costmeabob - We take accessibility for our services seriously so, for example, our browser and applications are designed to work with Voiceover on iOS. \n",
      "Tim Stey - If you do still prefer the desktop version you can select the link at the bottom of the page and you’ll be taken to it. Your choice will be remembered next time you visit the site. We are working on enhancing the mobile site still further to include more content where the technology allows it - but with navigation more suited to a smaller screen size. \n",
      " Josh Tumath - This blog post might be of interest, about our overall approach to responsive design published in March by Chris Russell, head of product for BBC News Online.\n",
      "Steve Herrmann is editor of the BBC News website.\n",
      "\n",
      "\n",
      "The following is a statement issued by the BBC\n",
      "The BBC has launched an independent review, led by former Head of Sky News Nick Pollard, to determine whether there were any failings in the BBC's management of the Newsnight investigation into allegations of sexual abuse of children by Jimmy Savile.\n",
      "However, on the basis of material available now, it is apparent from information supplied by the Newsnight editor and programme team - that the explanation in a blog by the editor of his decision to drop the programme's investigation is inaccurate or incomplete in some respects.   \n",
      "By way of correction and clarification: \n",
      "1.The blog says that Newsnight had no evidence that anyone from the Duncroft home could or should have known about the allegations.  In fact some allegations were made (mostly in general terms) that some of the Duncroft staff knew or may have known about the abuse.  \n",
      "2. The blog says that Newsnight had no evidence against the BBC.  No allegation was made to the programme that BBC staff were aware of Mr Savile's alleged activities, but there were some allegations of abusive conduct on BBC premises. \n",
      "3. The blog says that all the women spoken to by the programme had contacted the police independently already and that Newsnight  had no new evidence against any other person that would have helped the police. It appears that in some cases women had not spoken to the police and that the police were not aware of all the allegations.\n",
      "\n",
      "The BBC regrets these errors and will work with the Pollard review to assemble all relevant evidence to enable the review to determine the full facts.\n",
      "Update 23 October 2012: The BBC has published an additional statement which it issued to Panorama on 22 October 2012. You can read it here.\n",
      "\n",
      "\n",
      "\n"
     ]
    }
   ],
   "source": [
    "for i in range(len(contents)):\n",
    "    print(contents[i]['summary'])\n",
    "    print('\\n')"
   ]
  },
  {
   "cell_type": "markdown",
   "metadata": {},
   "source": [
    "    3 of the 4 error types should be addressed now:\n",
    "    + removed capture of story_id\n",
    "    + Hard stop / truncate + exapnded field for title\n",
    "    + Hard stop / truncate + expanded field for summary\n",
    "        + also am now \"preprocessing\" html summary stuff w/ bs4 to go ahead and just extract the text from the html. This makes the entries shorter overall, thus reducing storage space.  however, things like links in the summaries are now removed...\n",
    "    \n",
    "    Expanded the \"link\" field in the db, but did not force truncate yet, which means stuff will still pop up..."
   ]
  },
  {
   "cell_type": "code",
   "execution_count": 288,
   "metadata": {
    "collapsed": false
   },
   "outputs": [
    {
     "data": {
      "text/plain": [
       "'i ma a frong'"
      ]
     },
     "execution_count": 288,
     "metadata": {},
     "output_type": "execute_result"
    }
   ],
   "source": [
    "bs('i ma a frong', 'html.parser').text"
   ]
  },
  {
   "cell_type": "code",
   "execution_count": 298,
   "metadata": {
    "collapsed": false
   },
   "outputs": [
    {
     "data": {
      "text/plain": [
       "[64230,\n",
       " 64231,\n",
       " 64232,\n",
       " 64233,\n",
       " 64234,\n",
       " 64235,\n",
       " 64236,\n",
       " 64237,\n",
       " 64238,\n",
       " 64239,\n",
       " 64240,\n",
       " 64241,\n",
       " 64242,\n",
       " 64243,\n",
       " 64244]"
      ]
     },
     "execution_count": 298,
     "metadata": {},
     "output_type": "execute_result"
    }
   ],
   "source": [
    "mysql_utils.saveNewLinks(contents)"
   ]
  },
  {
   "cell_type": "markdown",
   "metadata": {},
   "source": [
    "### URL Errors"
   ]
  },
  {
   "cell_type": "code",
   "execution_count": 299,
   "metadata": {
    "collapsed": false
   },
   "outputs": [
    {
     "data": {
      "text/plain": [
       "(3016, 5)"
      ]
     },
     "execution_count": 299,
     "metadata": {},
     "output_type": "execute_result"
    }
   ],
   "source": [
    "urle = errors[errors.err_class==\"<class 'urllib.error.URLError'>\"]\n",
    "urle.shape"
   ]
  },
  {
   "cell_type": "code",
   "execution_count": 300,
   "metadata": {
    "collapsed": false
   },
   "outputs": [
    {
     "data": {
      "text/html": [
       "<div>\n",
       "<table border=\"1\" class=\"dataframe\">\n",
       "  <thead>\n",
       "    <tr style=\"text-align: right;\">\n",
       "      <th></th>\n",
       "      <th>entry</th>\n",
       "      <th>day</th>\n",
       "      <th>entry_ind</th>\n",
       "      <th>is_error</th>\n",
       "      <th>err_class</th>\n",
       "    </tr>\n",
       "  </thead>\n",
       "  <tbody>\n",
       "    <tr>\n",
       "      <th>2017-03-01 05:02:04</th>\n",
       "      <td>Feed https://phys.org/rss-feed/chemistry-news/...</td>\n",
       "      <td>2017-03-01</td>\n",
       "      <td>373</td>\n",
       "      <td>True</td>\n",
       "      <td>&lt;class 'urllib.error.URLError'&gt;</td>\n",
       "    </tr>\n",
       "    <tr>\n",
       "      <th>2017-03-01 05:02:05</th>\n",
       "      <td>Feed https://phys.org/rss-feed/chemistry-news/...</td>\n",
       "      <td>2017-03-01</td>\n",
       "      <td>373</td>\n",
       "      <td>True</td>\n",
       "      <td>&lt;class 'urllib.error.URLError'&gt;</td>\n",
       "    </tr>\n",
       "    <tr>\n",
       "      <th>2017-03-01 05:02:06</th>\n",
       "      <td>Feed https://phys.org/rss-feed/chemistry-news/...</td>\n",
       "      <td>2017-03-01</td>\n",
       "      <td>373</td>\n",
       "      <td>True</td>\n",
       "      <td>&lt;class 'urllib.error.URLError'&gt;</td>\n",
       "    </tr>\n",
       "    <tr>\n",
       "      <th>2017-03-01 05:02:07</th>\n",
       "      <td>Feed https://phys.org/rss-feed/chemistry-news/...</td>\n",
       "      <td>2017-03-01</td>\n",
       "      <td>373</td>\n",
       "      <td>True</td>\n",
       "      <td>&lt;class 'urllib.error.URLError'&gt;</td>\n",
       "    </tr>\n",
       "    <tr>\n",
       "      <th>2017-03-01 05:02:09</th>\n",
       "      <td>Feed https://phys.org/rss-feed/chemistry-news/...</td>\n",
       "      <td>2017-03-01</td>\n",
       "      <td>373</td>\n",
       "      <td>True</td>\n",
       "      <td>&lt;class 'urllib.error.URLError'&gt;</td>\n",
       "    </tr>\n",
       "  </tbody>\n",
       "</table>\n",
       "</div>"
      ],
      "text/plain": [
       "                                                                 entry  \\\n",
       "2017-03-01 05:02:04  Feed https://phys.org/rss-feed/chemistry-news/...   \n",
       "2017-03-01 05:02:05  Feed https://phys.org/rss-feed/chemistry-news/...   \n",
       "2017-03-01 05:02:06  Feed https://phys.org/rss-feed/chemistry-news/...   \n",
       "2017-03-01 05:02:07  Feed https://phys.org/rss-feed/chemistry-news/...   \n",
       "2017-03-01 05:02:09  Feed https://phys.org/rss-feed/chemistry-news/...   \n",
       "\n",
       "                            day  entry_ind is_error  \\\n",
       "2017-03-01 05:02:04  2017-03-01        373     True   \n",
       "2017-03-01 05:02:05  2017-03-01        373     True   \n",
       "2017-03-01 05:02:06  2017-03-01        373     True   \n",
       "2017-03-01 05:02:07  2017-03-01        373     True   \n",
       "2017-03-01 05:02:09  2017-03-01        373     True   \n",
       "\n",
       "                                           err_class  \n",
       "2017-03-01 05:02:04  <class 'urllib.error.URLError'>  \n",
       "2017-03-01 05:02:05  <class 'urllib.error.URLError'>  \n",
       "2017-03-01 05:02:06  <class 'urllib.error.URLError'>  \n",
       "2017-03-01 05:02:07  <class 'urllib.error.URLError'>  \n",
       "2017-03-01 05:02:09  <class 'urllib.error.URLError'>  "
      ]
     },
     "execution_count": 300,
     "metadata": {},
     "output_type": "execute_result"
    }
   ],
   "source": [
    "urle.tail()"
   ]
  },
  {
   "cell_type": "code",
   "execution_count": 303,
   "metadata": {
    "collapsed": false
   },
   "outputs": [
    {
     "data": {
      "text/plain": [
       "array([ \"Feed https://phys.org/rss-feed/: <class 'urllib.error.URLError'>: (GeneralProxyError(),)\",\n",
       "       \"Feed https://phys.org/rss-feed/editorials/: <class 'urllib.error.URLError'>: (GeneralProxyError(),)\",\n",
       "       \"Feed https://phys.org/rss-feed/earth-news/: <class 'urllib.error.URLError'>: (GeneralProxyError(),)\",\n",
       "       \"Feed https://phys.org/rss-feed/earth-news/earth-sciences/: <class 'urllib.error.URLError'>: (GeneralProxyError(),)\",\n",
       "       \"Feed https://phys.org/rss-feed/earth-news/environment/: <class 'urllib.error.URLError'>: (GeneralProxyError(),)\",\n",
       "       \"Feed https://phys.org/rss-feed/science-news/: <class 'urllib.error.URLError'>: (GeneralProxyError(),)\",\n",
       "       \"Feed https://phys.org/rss-feed/science-news/archaeology-fossils/: <class 'urllib.error.URLError'>: (GeneralProxyError(),)\",\n",
       "       \"Feed https://phys.org/rss-feed/science-news/economics-business/: <class 'urllib.error.URLError'>: (GeneralProxyError(),)\",\n",
       "       \"Feed https://phys.org/rss-feed/science-news/mathematics/: <class 'urllib.error.URLError'>: (GeneralProxyError(),)\",\n",
       "       \"Feed https://phys.org/rss-feed/science-news/sci-other/: <class 'urllib.error.URLError'>: (GeneralProxyError(),)\"], dtype=object)"
      ]
     },
     "execution_count": 303,
     "metadata": {},
     "output_type": "execute_result"
    }
   ],
   "source": [
    "urle.entry.unique()[:10]"
   ]
  },
  {
   "cell_type": "code",
   "execution_count": 304,
   "metadata": {
    "collapsed": true
   },
   "outputs": [],
   "source": [
    "roots = urle.entry.apply(lambda x: x[5:22])"
   ]
  },
  {
   "cell_type": "code",
   "execution_count": 308,
   "metadata": {
    "collapsed": false
   },
   "outputs": [
    {
     "data": {
      "text/plain": [
       "1"
      ]
     },
     "execution_count": 308,
     "metadata": {},
     "output_type": "execute_result"
    }
   ],
   "source": [
    "len(roots.unique())"
   ]
  },
  {
   "cell_type": "code",
   "execution_count": 309,
   "metadata": {
    "collapsed": true
   },
   "outputs": [],
   "source": [
    "feed_data = utils.load_feedlist_data('physorg_feedlist.xml')"
   ]
  },
  {
   "cell_type": "code",
   "execution_count": 313,
   "metadata": {
    "collapsed": false
   },
   "outputs": [
    {
     "name": "stdout",
     "output_type": "stream",
     "text": [
      "0 https://phys.org/rss-feed/\n",
      "1 https://phys.org/rss-feed/editorials/\n",
      "2 https://phys.org/rss-feed/earth-news/\n",
      "3 https://phys.org/rss-feed/earth-news/earth-sciences/\n",
      "4 https://phys.org/rss-feed/earth-news/environment/\n",
      "5 https://phys.org/rss-feed/science-news/\n",
      "6 https://phys.org/rss-feed/science-news/archaeology-fossils/\n",
      "7 https://phys.org/rss-feed/science-news/economics-business/\n",
      "8 https://phys.org/rss-feed/science-news/mathematics/\n",
      "9 https://phys.org/rss-feed/science-news/sci-other/\n",
      "10 https://phys.org/rss-feed/science-news/social-sciences/\n",
      "11 https://phys.org/rss-feed/nanotech-news/\n",
      "12 https://phys.org/rss-feed/nanotech-news/bio-medicine/\n",
      "13 https://phys.org/rss-feed/nanotech-news/nano-materials/\n",
      "14 https://phys.org/rss-feed/nanotech-news/nano-physics/\n"
     ]
    }
   ],
   "source": [
    "for i,f in enumerate(feed_data[:15]):\n",
    "    print(str(i) + ' ' + f['Link'])"
   ]
  },
  {
   "cell_type": "code",
   "execution_count": 307,
   "metadata": {
    "collapsed": false
   },
   "outputs": [
    {
     "data": {
      "text/html": [
       "<div>\n",
       "<table border=\"1\" class=\"dataframe\">\n",
       "  <thead>\n",
       "    <tr style=\"text-align: right;\">\n",
       "      <th></th>\n",
       "      <th>entry</th>\n",
       "      <th>day</th>\n",
       "      <th>entry_ind</th>\n",
       "      <th>is_error</th>\n",
       "      <th>err_class</th>\n",
       "    </tr>\n",
       "  </thead>\n",
       "  <tbody>\n",
       "    <tr>\n",
       "      <th>2017-03-01 05:00:02</th>\n",
       "      <td>Retrieving contents...</td>\n",
       "      <td>2017-03-01</td>\n",
       "      <td>373</td>\n",
       "      <td>False</td>\n",
       "      <td></td>\n",
       "    </tr>\n",
       "    <tr>\n",
       "      <th>2017-03-01 05:00:02</th>\n",
       "      <td>Total feeedss to visit: 250</td>\n",
       "      <td>2017-03-01</td>\n",
       "      <td>373</td>\n",
       "      <td>False</td>\n",
       "      <td></td>\n",
       "    </tr>\n",
       "    <tr>\n",
       "      <th>2017-03-01 05:00:02</th>\n",
       "      <td>Creating 8 Tor openers...</td>\n",
       "      <td>2017-03-01</td>\n",
       "      <td>373</td>\n",
       "      <td>False</td>\n",
       "      <td></td>\n",
       "    </tr>\n",
       "    <tr>\n",
       "      <th>2017-03-01 05:00:14</th>\n",
       "      <td>IP Used: b'65.19.167.132'</td>\n",
       "      <td>2017-03-01</td>\n",
       "      <td>373</td>\n",
       "      <td>False</td>\n",
       "      <td></td>\n",
       "    </tr>\n",
       "    <tr>\n",
       "      <th>2017-03-01 05:00:17</th>\n",
       "      <td>Total entries retrieved from https://www.thegu...</td>\n",
       "      <td>2017-03-01</td>\n",
       "      <td>373</td>\n",
       "      <td>False</td>\n",
       "      <td></td>\n",
       "    </tr>\n",
       "  </tbody>\n",
       "</table>\n",
       "</div>"
      ],
      "text/plain": [
       "                                                                 entry  \\\n",
       "2017-03-01 05:00:02                             Retrieving contents...   \n",
       "2017-03-01 05:00:02                        Total feeedss to visit: 250   \n",
       "2017-03-01 05:00:02                          Creating 8 Tor openers...   \n",
       "2017-03-01 05:00:14                          IP Used: b'65.19.167.132'   \n",
       "2017-03-01 05:00:17  Total entries retrieved from https://www.thegu...   \n",
       "\n",
       "                            day  entry_ind is_error err_class  \n",
       "2017-03-01 05:00:02  2017-03-01        373    False            \n",
       "2017-03-01 05:00:02  2017-03-01        373    False            \n",
       "2017-03-01 05:00:02  2017-03-01        373    False            \n",
       "2017-03-01 05:00:14  2017-03-01        373    False            \n",
       "2017-03-01 05:00:17  2017-03-01        373    False            "
      ]
     },
     "execution_count": 307,
     "metadata": {},
     "output_type": "execute_result"
    }
   ],
   "source": [
    "log[log.entry_ind==373].head()"
   ]
  },
  {
   "cell_type": "markdown",
   "metadata": {},
   "source": [
    "    No issues since beginning of March; this issue seems to be fixed now."
   ]
  },
  {
   "cell_type": "markdown",
   "metadata": {},
   "source": [
    "### HTTP Errors"
   ]
  },
  {
   "cell_type": "code",
   "execution_count": 344,
   "metadata": {
    "collapsed": false
   },
   "outputs": [
    {
     "data": {
      "text/plain": [
       "(182, 5)"
      ]
     },
     "execution_count": 344,
     "metadata": {},
     "output_type": "execute_result"
    }
   ],
   "source": [
    "htpe = errors['2017-03-02 00:00:00':].copy()\n",
    "htpe = htpe[htpe.err_class == \"<class 'urllib.error.HTTPError'>\"]\n",
    "htpe.shape"
   ]
  },
  {
   "cell_type": "code",
   "execution_count": 345,
   "metadata": {
    "collapsed": false
   },
   "outputs": [
    {
     "data": {
      "text/html": [
       "<div>\n",
       "<table border=\"1\" class=\"dataframe\">\n",
       "  <thead>\n",
       "    <tr style=\"text-align: right;\">\n",
       "      <th></th>\n",
       "      <th>entry</th>\n",
       "      <th>day</th>\n",
       "      <th>entry_ind</th>\n",
       "      <th>is_error</th>\n",
       "      <th>err_class</th>\n",
       "    </tr>\n",
       "  </thead>\n",
       "  <tbody>\n",
       "    <tr>\n",
       "      <th>2017-03-13 18:08:50</th>\n",
       "      <td>Feed http://www.ft.com/rss/management/connecte...</td>\n",
       "      <td>2017-03-13</td>\n",
       "      <td>489</td>\n",
       "      <td>True</td>\n",
       "      <td>&lt;class 'urllib.error.HTTPError'&gt;</td>\n",
       "    </tr>\n",
       "    <tr>\n",
       "      <th>2017-03-14 05:08:13</th>\n",
       "      <td>Feed http://www.ft.com/rss/world/mideast/econo...</td>\n",
       "      <td>2017-03-14</td>\n",
       "      <td>490</td>\n",
       "      <td>True</td>\n",
       "      <td>&lt;class 'urllib.error.HTTPError'&gt;</td>\n",
       "    </tr>\n",
       "    <tr>\n",
       "      <th>2017-03-14 05:09:12</th>\n",
       "      <td>Feed http://www.ft.com/rss/management/connecte...</td>\n",
       "      <td>2017-03-14</td>\n",
       "      <td>490</td>\n",
       "      <td>True</td>\n",
       "      <td>&lt;class 'urllib.error.HTTPError'&gt;</td>\n",
       "    </tr>\n",
       "    <tr>\n",
       "      <th>2017-03-14 06:08:19</th>\n",
       "      <td>Feed http://www.ft.com/rss/world/mideast/econo...</td>\n",
       "      <td>2017-03-14</td>\n",
       "      <td>491</td>\n",
       "      <td>True</td>\n",
       "      <td>&lt;class 'urllib.error.HTTPError'&gt;</td>\n",
       "    </tr>\n",
       "    <tr>\n",
       "      <th>2017-03-14 06:09:06</th>\n",
       "      <td>Feed http://www.ft.com/rss/management/connecte...</td>\n",
       "      <td>2017-03-14</td>\n",
       "      <td>491</td>\n",
       "      <td>True</td>\n",
       "      <td>&lt;class 'urllib.error.HTTPError'&gt;</td>\n",
       "    </tr>\n",
       "  </tbody>\n",
       "</table>\n",
       "</div>"
      ],
      "text/plain": [
       "                                                                 entry  \\\n",
       "2017-03-13 18:08:50  Feed http://www.ft.com/rss/management/connecte...   \n",
       "2017-03-14 05:08:13  Feed http://www.ft.com/rss/world/mideast/econo...   \n",
       "2017-03-14 05:09:12  Feed http://www.ft.com/rss/management/connecte...   \n",
       "2017-03-14 06:08:19  Feed http://www.ft.com/rss/world/mideast/econo...   \n",
       "2017-03-14 06:09:06  Feed http://www.ft.com/rss/management/connecte...   \n",
       "\n",
       "                            day  entry_ind is_error  \\\n",
       "2017-03-13 18:08:50  2017-03-13        489     True   \n",
       "2017-03-14 05:08:13  2017-03-14        490     True   \n",
       "2017-03-14 05:09:12  2017-03-14        490     True   \n",
       "2017-03-14 06:08:19  2017-03-14        491     True   \n",
       "2017-03-14 06:09:06  2017-03-14        491     True   \n",
       "\n",
       "                                            err_class  \n",
       "2017-03-13 18:08:50  <class 'urllib.error.HTTPError'>  \n",
       "2017-03-14 05:08:13  <class 'urllib.error.HTTPError'>  \n",
       "2017-03-14 05:09:12  <class 'urllib.error.HTTPError'>  \n",
       "2017-03-14 06:08:19  <class 'urllib.error.HTTPError'>  \n",
       "2017-03-14 06:09:06  <class 'urllib.error.HTTPError'>  "
      ]
     },
     "execution_count": 345,
     "metadata": {},
     "output_type": "execute_result"
    }
   ],
   "source": [
    "htpe.tail()"
   ]
  },
  {
   "cell_type": "code",
   "execution_count": 346,
   "metadata": {
    "collapsed": true
   },
   "outputs": [],
   "source": [
    "roots = htpe.entry.apply(lambda x: x[5:22])"
   ]
  },
  {
   "cell_type": "code",
   "execution_count": 347,
   "metadata": {
    "collapsed": false
   },
   "outputs": [
    {
     "data": {
      "text/plain": [
       "array(['http://www.ft.com', 'http://feeds.foxn'], dtype=object)"
      ]
     },
     "execution_count": 347,
     "metadata": {},
     "output_type": "execute_result"
    }
   ],
   "source": [
    "roots.unique()"
   ]
  },
  {
   "cell_type": "code",
   "execution_count": 348,
   "metadata": {
    "collapsed": false
   },
   "outputs": [
    {
     "data": {
      "text/plain": [
       "3"
      ]
     },
     "execution_count": 348,
     "metadata": {},
     "output_type": "execute_result"
    }
   ],
   "source": [
    "len(htpe.entry.unique())"
   ]
  },
  {
   "cell_type": "code",
   "execution_count": 349,
   "metadata": {
    "collapsed": false
   },
   "outputs": [
    {
     "data": {
      "text/plain": [
       "array([ \"Feed http://www.ft.com/rss/management/connected-business: <class 'urllib.error.HTTPError'>: ()\",\n",
       "       \"Feed http://www.ft.com/rss/world/mideast/economy: <class 'urllib.error.HTTPError'>: ()\",\n",
       "       \"Feed http://feeds.foxnews.com/foxnews/entertainment: <class 'urllib.error.HTTPError'>: ()\"], dtype=object)"
      ]
     },
     "execution_count": 349,
     "metadata": {},
     "output_type": "execute_result"
    }
   ],
   "source": [
    "htpe.entry.unique()"
   ]
  },
  {
   "cell_type": "code",
   "execution_count": 351,
   "metadata": {
    "collapsed": false
   },
   "outputs": [
    {
     "data": {
      "text/html": [
       "<div>\n",
       "<table border=\"1\" class=\"dataframe\">\n",
       "  <thead>\n",
       "    <tr style=\"text-align: right;\">\n",
       "      <th></th>\n",
       "      <th>entry</th>\n",
       "      <th>day</th>\n",
       "      <th>entry_ind</th>\n",
       "      <th>is_error</th>\n",
       "      <th>err_class</th>\n",
       "    </tr>\n",
       "  </thead>\n",
       "  <tbody>\n",
       "    <tr>\n",
       "      <th>2017-03-13 13:00:44</th>\n",
       "      <td>Feed http://feeds.foxnews.com/foxnews/entertai...</td>\n",
       "      <td>2017-03-13</td>\n",
       "      <td>484</td>\n",
       "      <td>True</td>\n",
       "      <td>&lt;class 'urllib.error.HTTPError'&gt;</td>\n",
       "    </tr>\n",
       "  </tbody>\n",
       "</table>\n",
       "</div>"
      ],
      "text/plain": [
       "                                                                 entry  \\\n",
       "2017-03-13 13:00:44  Feed http://feeds.foxnews.com/foxnews/entertai...   \n",
       "\n",
       "                            day  entry_ind is_error  \\\n",
       "2017-03-13 13:00:44  2017-03-13        484     True   \n",
       "\n",
       "                                            err_class  \n",
       "2017-03-13 13:00:44  <class 'urllib.error.HTTPError'>  "
      ]
     },
     "execution_count": 351,
     "metadata": {},
     "output_type": "execute_result"
    }
   ],
   "source": [
    "htpe[htpe.entry==list(htpe.entry.unique())[2]]"
   ]
  },
  {
   "cell_type": "markdown",
   "metadata": {},
   "source": [
    "    The first two do not exist; they were removed.  The latter looks like an accident...\n",
    "    There were others, but these stopped occurring after the url issue was fixed at the beginning of March 2017"
   ]
  },
  {
   "cell_type": "code",
   "execution_count": null,
   "metadata": {
    "collapsed": true
   },
   "outputs": [],
   "source": []
  }
 ],
 "metadata": {
  "kernelspec": {
   "display_name": "rss (P3)",
   "language": "python",
   "name": "rss_p3"
  },
  "language_info": {
   "codemirror_mode": {
    "name": "ipython",
    "version": 3
   },
   "file_extension": ".py",
   "mimetype": "text/x-python",
   "name": "python",
   "nbconvert_exporter": "python",
   "pygments_lexer": "ipython3",
   "version": "3.5.2"
  }
 },
 "nbformat": 4,
 "nbformat_minor": 2
}
