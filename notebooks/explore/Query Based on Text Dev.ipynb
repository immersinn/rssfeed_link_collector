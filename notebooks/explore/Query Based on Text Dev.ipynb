{
 "cells": [
  {
   "cell_type": "code",
   "execution_count": 1,
   "metadata": {
    "collapsed": true
   },
   "outputs": [],
   "source": [
    "import sys"
   ]
  },
  {
   "cell_type": "code",
   "execution_count": 2,
   "metadata": {
    "collapsed": true
   },
   "outputs": [],
   "source": [
    "sys.path.append(os.path.join(os.path.abspath(os.path.join('../..')), 'src'))"
   ]
  },
  {
   "cell_type": "code",
   "execution_count": 3,
   "metadata": {
    "collapsed": true
   },
   "outputs": [],
   "source": [
    "import numpy\n",
    "import scipy\n",
    "import pandas"
   ]
  },
  {
   "cell_type": "code",
   "execution_count": 4,
   "metadata": {
    "collapsed": true
   },
   "outputs": [],
   "source": [
    "import mysql_utils\n",
    "import doc_proc\n",
    "import init_tdm_tables"
   ]
  },
  {
   "cell_type": "code",
   "execution_count": 171,
   "metadata": {
    "collapsed": true
   },
   "outputs": [],
   "source": [
    "from importlib import reload"
   ]
  },
  {
   "cell_type": "code",
   "execution_count": 174,
   "metadata": {
    "collapsed": false
   },
   "outputs": [
    {
     "data": {
      "text/plain": [
       "<module 'mysql_utils' from '/home/immersinn/gits/rssfeed_link_collector/src/mysql_utils.py'>"
      ]
     },
     "execution_count": 174,
     "metadata": {},
     "output_type": "execute_result"
    }
   ],
   "source": [
    "reload(mysql_utils)"
   ]
  },
  {
   "cell_type": "markdown",
   "metadata": {},
   "source": [
    "## Init Needed Tools"
   ]
  },
  {
   "cell_type": "code",
   "execution_count": 5,
   "metadata": {
    "collapsed": true
   },
   "outputs": [],
   "source": [
    "dd = lambda doc: doc_proc.build_text_feature(doc, \n",
    "                                                 components = ['title', 'summary'],\n",
    "                                                 lower=False, \n",
    "                                                 remove_stops=False,\n",
    "                                                 html_text=True,\n",
    "                                                 )"
   ]
  },
  {
   "cell_type": "code",
   "execution_count": 6,
   "metadata": {
    "collapsed": true
   },
   "outputs": [],
   "source": [
    "dp = init_tdm_tables.DocProcessor()"
   ]
  },
  {
   "cell_type": "code",
   "execution_count": 87,
   "metadata": {
    "collapsed": true
   },
   "outputs": [],
   "source": [
    "cnx = mysql_utils.getCnx()\n",
    "cur = mysql_utils.getCur(cnx)"
   ]
  },
  {
   "cell_type": "markdown",
   "metadata": {},
   "source": [
    "## Process"
   ]
  },
  {
   "cell_type": "code",
   "execution_count": 8,
   "metadata": {
    "collapsed": false
   },
   "outputs": [],
   "source": [
    "def query_wordIDLookup(cur, words):\n",
    "    format_strings = ','.join([\"%s\"] * len(words))\n",
    "    query = (\"SELECT id, word FROM words \"\n",
    "             \"WHERE word IN ({})\".format(format_strings))\n",
    "    cur.execute(query, list(words))\n",
    "    cols = cur.column_names\n",
    "    word_lookup = [{cols[0] : e[0], cols[1] : e[1]} for e in cur.fetchall()]\n",
    "    word_lookup = {e['id'] : e['word'] for e in word_lookup}\n",
    "    return(word_lookup)\n",
    "\n",
    "\n",
    "def query_idWordLookup(cur, wids):\n",
    "    format_strings = ','.join([\"%s\"] * len(wids))\n",
    "    query = (\"SELECT id, word FROM words \"\n",
    "             \"WHERE id IN ({})\".format(format_strings))\n",
    "    cur.execute(query, list(wids))\n",
    "    cols = cur.column_names\n",
    "    word_lookup = [{cols[0] : e[0], cols[1] : e[1]} for e in cur.fetchall()]\n",
    "    word_lookup = {e['id'] : e['word'] for e in word_lookup}\n",
    "    return(word_lookup)"
   ]
  },
  {
   "cell_type": "code",
   "execution_count": 9,
   "metadata": {
    "collapsed": false
   },
   "outputs": [],
   "source": [
    "stops_lookup = query_wordIDLookup(cur, doc_proc.nltk_stops)"
   ]
  },
  {
   "cell_type": "markdown",
   "metadata": {},
   "source": [
    "### Get Query Words"
   ]
  },
  {
   "cell_type": "code",
   "execution_count": 10,
   "metadata": {
    "collapsed": false
   },
   "outputs": [],
   "source": [
    "doc = {\"title\" : \"FBI refused White House request to knock down recent Trump-Russia stories\",\n",
    "       \"summary\" : \"Washington (CNN) The FBI rejected a recent White House request to publicly knock down media reports about communications between Donald Trump's associates and Russians known to US intelligence during the 2016 presidential campaign, multiple US officials briefed on the matter tell CNN.\"}"
   ]
  },
  {
   "cell_type": "code",
   "execution_count": 11,
   "metadata": {
    "collapsed": false
   },
   "outputs": [],
   "source": [
    "bow = dp.doc2BOW(dd(doc))"
   ]
  },
  {
   "cell_type": "code",
   "execution_count": 166,
   "metadata": {
    "collapsed": false
   },
   "outputs": [],
   "source": [
    "orig_query_words = [w for w in \\\n",
    "                    (query_wordIDLookup(cur,\n",
    "                                       [w for w in bow if w not in doc_proc.nltk_stops])).keys()\n",
    "                   ]"
   ]
  },
  {
   "cell_type": "markdown",
   "metadata": {},
   "source": [
    "### Query for Docs that Share Words"
   ]
  },
  {
   "cell_type": "code",
   "execution_count": 168,
   "metadata": {
    "collapsed": false
   },
   "outputs": [],
   "source": [
    "def query_docsOnWords(cur, words, word_type=\"id\", exclude_docs=set()):\n",
    "    \n",
    "    if word_type == \"word\":\n",
    "        word_doc_query = (\"SELECT doc_bows.doc_id, doc_bows.wcount \"\n",
    "                          \"FROM  doc_bows LEFT JOIN words ON (doc_bows.word_id = words.id) \"\n",
    "                          \"WHERE words.word = '{}' \")\n",
    "    elif word_type == \"id\":\n",
    "        word_doc_query = (\"SELECT doc_bows.doc_id, doc_bows.wcount \"\n",
    "                          \"FROM  doc_bows LEFT JOIN words ON (doc_bows.word_id = words.id) \"\n",
    "                          \"WHERE words.id = '{}' \")\n",
    "\n",
    "    doc_ids = set()\n",
    "    word_count_store = []\n",
    "    for word in words:\n",
    "        cur.execute(word_doc_query.format(word))\n",
    "        result = mysql_utils.dfDocsFromCursor(cur)\n",
    "        result = result[[i not in exclude_docs for i in result['doc_id']]]\n",
    "        if result.shape[0] > 0:\n",
    "            doc_ids.update(set(result['doc_id']))\n",
    "            word_count_store.append({'word' : word,\n",
    "                                     'n_docs' : result.shape[0],\n",
    "                                     'n_tot' : result['wcount'].sum()})\n",
    "\n",
    "    doc_ids = [int(i) for i in doc_ids]\n",
    "    word_count_store = pandas.DataFrame(word_count_store)\n",
    "        \n",
    "    return(doc_ids, word_count_store)\n",
    "\n",
    "\n",
    "def word_summary_info(cur, words, wtype='id', exclude_docs=set(), include_docs=set()):\n",
    "    \"\"\"\n",
    "    CREATE TABLE words_info SELECT doc_bows.word_id, \n",
    "    COUNT(doc_bows.doc_id) as n_docs, \n",
    "    SUM(doc_bows.wcount) as n_total  \n",
    "    FROM  doc_bows \n",
    "    GROUP BY doc_bows.word_id;\n",
    "    \n",
    "    \"\"\"\n",
    "    \n",
    "    if exclude_docs or include_docs:\n",
    "        if exclude_docs:\n",
    "            base = \"AND doc_bows.doc_id NOT IN ({}) \"\n",
    "            dd = exclude_docs\n",
    "        elif include_docs:\n",
    "            base = \"AND doc_bows.doc_id IN ({}) \"\n",
    "            dd = include_docs\n",
    "        dd = [str(int(did)) for did in dd]\n",
    "        dd = \", \".join(dd)\n",
    "        ie_where_text = base.format(dd)\n",
    "    else:\n",
    "        ie_where_text = \"\"\n",
    "        \n",
    "        \n",
    "    format_strings = ', '.join(['%s'] * len(words))\n",
    "    \n",
    "    if wtype=='word':\n",
    "        where_clause = \"WHERE words.word IN ({}) \".format(format_strings)\n",
    "        where_clause += ie_where_text\n",
    "        query = \"SELECT doc_bows.word_id, COUNT(DISTINCT doc_bows.doc_id) as n_docs, \" +\\\n",
    "                \"SUM(doc_bows.wcount) as n_total \" +\\\n",
    "                \"FROM  doc_bows LEFT JOIN words ON (doc_bows.word_id = words.id) \" +\\\n",
    "                where_clause +\\\n",
    "                \"GROUP BY doc_bows.word_id\"\n",
    "        \n",
    "    elif wtype=='id':\n",
    "        where_clause = \"WHERE doc_bows.word_id IN ({}) \".format(format_strings)\n",
    "        where_clause += ie_where_text\n",
    "        query = \"SELECT doc_bows.word_id, COUNT(DISTINCT doc_bows.doc_id) as n_docs, \" +\\\n",
    "                \"SUM(doc_bows.wcount) as n_total \" +\\\n",
    "                \"FROM  doc_bows \" +\\\n",
    "                where_clause +\\\n",
    "                \"GROUP BY doc_bows.word_id\"\n",
    "            \n",
    "    cur.execute(query, (words))\n",
    "    result = mysql_utils.dfDocsFromCursor(cur)\n",
    "    return(result)"
   ]
  },
  {
   "cell_type": "markdown",
   "metadata": {},
   "source": [
    "#### Orig Doc"
   ]
  },
  {
   "cell_type": "code",
   "execution_count": 169,
   "metadata": {
    "collapsed": false
   },
   "outputs": [],
   "source": [
    "word_count_info = word_summary_info(cur, orig_query_words, wtype='id')"
   ]
  },
  {
   "cell_type": "code",
   "execution_count": 170,
   "metadata": {
    "collapsed": false
   },
   "outputs": [
    {
     "data": {
      "text/plain": [
       "count      31.000000\n",
       "mean      723.741935\n",
       "std      1476.303152\n",
       "min        10.000000\n",
       "25%        61.500000\n",
       "50%       233.000000\n",
       "75%       705.500000\n",
       "max      7586.000000\n",
       "Name: n_docs, dtype: float64"
      ]
     },
     "execution_count": 170,
     "metadata": {},
     "output_type": "execute_result"
    }
   ],
   "source": [
    "word_count_info.n_docs.describe()"
   ]
  },
  {
   "cell_type": "code",
   "execution_count": 16,
   "metadata": {
    "collapsed": false
   },
   "outputs": [],
   "source": [
    "# Arbit...this should be \"decayed\"....see below\n",
    "ndoc_cutoff = 100\n",
    "\n",
    "qw_l01 = [int(w) for w in list(word_count_info[word_count_info.n_docs < ndoc_cutoff].word_id)]"
   ]
  },
  {
   "cell_type": "code",
   "execution_count": 17,
   "metadata": {
    "collapsed": false
   },
   "outputs": [],
   "source": [
    "# 2nd Pass: Get Doc IDs to use\n",
    "docs_l01, wcs_l01 = query_docsOnWords(cur, qw_l01, word_type='id')"
   ]
  },
  {
   "cell_type": "markdown",
   "metadata": {},
   "source": [
    "#### Level 1 Documents"
   ]
  },
  {
   "cell_type": "code",
   "execution_count": 19,
   "metadata": {
    "collapsed": true
   },
   "outputs": [],
   "source": [
    "def query_docBOW(cur, doc_id, word_list = []):\n",
    "    query = \"SELECT word_id, wcount FROM doc_bows WHERE doc_id = {}\".format(doc_id)\n",
    "    cur.execute(query)\n",
    "    cols = cur.column_names\n",
    "    bow = [{cols[0] : e[0], cols[1] : e[1]} for e in cur.fetchall()]\n",
    "    if word_list:\n",
    "        bow = [e for e in bow if e['word_id'] in word_list]\n",
    "    return(bow)"
   ]
  },
  {
   "cell_type": "code",
   "execution_count": 20,
   "metadata": {
    "collapsed": false
   },
   "outputs": [],
   "source": [
    "def query_AllDocWords(cur, doc_ids):\n",
    "    doc_ids = list(doc_ids)\n",
    "    format_strings = ','.join(['%s'] * len(doc_ids))\n",
    "    query = (\"SELECT DISTINCT word_id \"\n",
    "             \"FROM doc_bows \"\n",
    "             \"WHERE doc_id IN ({})\".format(format_strings))\n",
    "    cur.execute(query, (doc_ids))\n",
    "    words = [e[0] for e in cur.fetchall()]\n",
    "    return(words)"
   ]
  },
  {
   "cell_type": "markdown",
   "metadata": {},
   "source": [
    "### This stepo is a bottleneck; can i pre-reduce the query words by using info from the sub-set?"
   ]
  },
  {
   "cell_type": "code",
   "execution_count": 41,
   "metadata": {
    "collapsed": true
   },
   "outputs": [],
   "source": [
    "def query_backgroundWordInfo(cur, word_ids):\n",
    "    wids_format = \", \".join([str(wid) for wid in word_ids])\n",
    "    query = \"SELECT * FROM words_info WHERE word_id IN ({})\".format(wids_format)\n",
    "    cur.execute(query)\n",
    "    result = mysql_utils.dfDocsFromCursor(cur)\n",
    "    return(result)"
   ]
  },
  {
   "cell_type": "markdown",
   "metadata": {},
   "source": [
    "Have the word stats for all words queued up already..in the \"words_info\" table"
   ]
  },
  {
   "cell_type": "code",
   "execution_count": 48,
   "metadata": {
    "collapsed": false
   },
   "outputs": [
    {
     "data": {
      "text/plain": [
       "4122"
      ]
     },
     "execution_count": 48,
     "metadata": {},
     "output_type": "execute_result"
    }
   ],
   "source": [
    "query_words = query_AllDocWords(cur, docs_l01)\n",
    "query_words = [w for w in query_words if w not in stops_lookup.keys()]\n",
    "len(query_words)"
   ]
  },
  {
   "cell_type": "code",
   "execution_count": 176,
   "metadata": {
    "collapsed": false
   },
   "outputs": [
    {
     "data": {
      "text/plain": [
       "38317"
      ]
     },
     "execution_count": 176,
     "metadata": {},
     "output_type": "execute_result"
    }
   ],
   "source": [
    "n_docs_tot = mysql_utils.get_total_entries(cur, 'rssfeed_links')\n",
    "n_docs_tot"
   ]
  },
  {
   "cell_type": "code",
   "execution_count": 98,
   "metadata": {
    "collapsed": false
   },
   "outputs": [],
   "source": [
    "bgwi = query_backgroundWordInfo(cur, query_words)\n",
    "bgwi['frac'] = bgwi.n_docs / n_docs_tot"
   ]
  },
  {
   "cell_type": "code",
   "execution_count": 121,
   "metadata": {
    "collapsed": false
   },
   "outputs": [],
   "source": [
    "qwwi = word_summary_info(cur, query_words, wtype='id', include_docs=docs_l01)\n",
    "qwwi['frac'] = qwwi.n_docs / len(docs_l01)"
   ]
  },
  {
   "cell_type": "code",
   "execution_count": 122,
   "metadata": {
    "collapsed": false
   },
   "outputs": [],
   "source": [
    "wi = bgwi.join(qwwi, on=['word_id'], lsuffix='_bg', rsuffix='_qw')"
   ]
  },
  {
   "cell_type": "code",
   "execution_count": 123,
   "metadata": {
    "collapsed": false
   },
   "outputs": [
    {
     "data": {
      "text/html": [
       "<div>\n",
       "<table border=\"1\" class=\"dataframe\">\n",
       "  <thead>\n",
       "    <tr style=\"text-align: right;\">\n",
       "      <th></th>\n",
       "      <th>word_id_bg</th>\n",
       "      <th>n_docs_bg</th>\n",
       "      <th>n_total_bg</th>\n",
       "      <th>frac_bg</th>\n",
       "      <th>word_id_qw</th>\n",
       "      <th>n_docs_qw</th>\n",
       "      <th>n_total_qw</th>\n",
       "      <th>frac_qw</th>\n",
       "    </tr>\n",
       "  </thead>\n",
       "  <tbody>\n",
       "    <tr>\n",
       "      <th>0</th>\n",
       "      <td>1</td>\n",
       "      <td>105</td>\n",
       "      <td>144</td>\n",
       "      <td>0.002740</td>\n",
       "      <td>3.0</td>\n",
       "      <td>80.0</td>\n",
       "      <td>123</td>\n",
       "      <td>0.233918</td>\n",
       "    </tr>\n",
       "    <tr>\n",
       "      <th>1</th>\n",
       "      <td>3</td>\n",
       "      <td>7586</td>\n",
       "      <td>11670</td>\n",
       "      <td>0.197980</td>\n",
       "      <td>11.0</td>\n",
       "      <td>6.0</td>\n",
       "      <td>6</td>\n",
       "      <td>0.017544</td>\n",
       "    </tr>\n",
       "    <tr>\n",
       "      <th>2</th>\n",
       "      <td>7</td>\n",
       "      <td>91</td>\n",
       "      <td>93</td>\n",
       "      <td>0.002375</td>\n",
       "      <td>15.0</td>\n",
       "      <td>6.0</td>\n",
       "      <td>10</td>\n",
       "      <td>0.017544</td>\n",
       "    </tr>\n",
       "    <tr>\n",
       "      <th>3</th>\n",
       "      <td>11</td>\n",
       "      <td>803</td>\n",
       "      <td>932</td>\n",
       "      <td>0.020957</td>\n",
       "      <td>19.0</td>\n",
       "      <td>1.0</td>\n",
       "      <td>1</td>\n",
       "      <td>0.002924</td>\n",
       "    </tr>\n",
       "    <tr>\n",
       "      <th>4</th>\n",
       "      <td>12</td>\n",
       "      <td>310</td>\n",
       "      <td>382</td>\n",
       "      <td>0.008090</td>\n",
       "      <td>20.0</td>\n",
       "      <td>44.0</td>\n",
       "      <td>60</td>\n",
       "      <td>0.128655</td>\n",
       "    </tr>\n",
       "  </tbody>\n",
       "</table>\n",
       "</div>"
      ],
      "text/plain": [
       "   word_id_bg  n_docs_bg n_total_bg   frac_bg  word_id_qw  n_docs_qw  \\\n",
       "0           1        105        144  0.002740         3.0       80.0   \n",
       "1           3       7586      11670  0.197980        11.0        6.0   \n",
       "2           7         91         93  0.002375        15.0        6.0   \n",
       "3          11        803        932  0.020957        19.0        1.0   \n",
       "4          12        310        382  0.008090        20.0       44.0   \n",
       "\n",
       "  n_total_qw   frac_qw  \n",
       "0        123  0.233918  \n",
       "1          6  0.017544  \n",
       "2         10  0.017544  \n",
       "3          1  0.002924  \n",
       "4         60  0.128655  "
      ]
     },
     "execution_count": 123,
     "metadata": {},
     "output_type": "execute_result"
    }
   ],
   "source": [
    "wi.head()"
   ]
  },
  {
   "cell_type": "code",
   "execution_count": 124,
   "metadata": {
    "collapsed": true
   },
   "outputs": [],
   "source": [
    "wi['ratio'] = wi.frac_qw / wi.frac_bg"
   ]
  },
  {
   "cell_type": "code",
   "execution_count": 125,
   "metadata": {
    "collapsed": false
   },
   "outputs": [
    {
     "data": {
      "text/plain": [
       "count    1697.000000\n",
       "mean        6.737447\n",
       "std        20.801847\n",
       "min         0.023449\n",
       "25%         0.732275\n",
       "50%         1.672209\n",
       "75%         4.149556\n",
       "max       336.114035\n",
       "Name: ratio, dtype: float64"
      ]
     },
     "execution_count": 125,
     "metadata": {},
     "output_type": "execute_result"
    }
   ],
   "source": [
    "wi.ratio.describe()"
   ]
  },
  {
   "cell_type": "code",
   "execution_count": 146,
   "metadata": {
    "collapsed": true
   },
   "outputs": [],
   "source": [
    "# Restrict query words based on \"words_info\" table in mysql\n",
    "# Say, more than 5 docs, but less than 100 (50) (20) docs?\n",
    "word_filter_l02 = lambda x: (x['n_docs_qw'] >= 3 and x['n_docs_bg'] < 50 and x['ratio'] > 2)"
   ]
  },
  {
   "cell_type": "code",
   "execution_count": 154,
   "metadata": {
    "collapsed": true
   },
   "outputs": [],
   "source": [
    "ids2ints = lambda id_series: [int(i) for i in list(id_series)]"
   ]
  },
  {
   "cell_type": "code",
   "execution_count": 155,
   "metadata": {
    "collapsed": false
   },
   "outputs": [
    {
     "name": "stdout",
     "output_type": "stream",
     "text": [
      "76\n"
     ]
    }
   ],
   "source": [
    "qw_l02 = ids2ints(wi.word_id_bg[wi.apply(lambda entry: word_filter_l02(entry), axis=1)])\n",
    "print(len(qw_l02))"
   ]
  },
  {
   "cell_type": "code",
   "execution_count": 156,
   "metadata": {
    "collapsed": false
   },
   "outputs": [],
   "source": [
    "docs_l02, wcs_l02 = query_docsOnWords(cur, qw_l02,\n",
    "                                      word_type=\"id\", exclude_docs=docs_l01)"
   ]
  },
  {
   "cell_type": "code",
   "execution_count": 157,
   "metadata": {
    "collapsed": false
   },
   "outputs": [
    {
     "data": {
      "text/plain": [
       "1732"
      ]
     },
     "execution_count": 157,
     "metadata": {},
     "output_type": "execute_result"
    }
   ],
   "source": [
    "len(docs_l02)"
   ]
  },
  {
   "cell_type": "code",
   "execution_count": 158,
   "metadata": {
    "collapsed": false
   },
   "outputs": [],
   "source": [
    "qww = query_idWordLookup(cur, qw_l02)"
   ]
  },
  {
   "cell_type": "markdown",
   "metadata": {},
   "source": [
    "## Generate Network from Selected Vocab, Docs"
   ]
  },
  {
   "cell_type": "code",
   "execution_count": 164,
   "metadata": {
    "collapsed": false
   },
   "outputs": [
    {
     "data": {
      "text/plain": [
       "116"
      ]
     },
     "execution_count": 164,
     "metadata": {},
     "output_type": "execute_result"
    }
   ],
   "source": [
    "words = set(orig_query_words).copy()\n",
    "words.update(qw_l01)\n",
    "words.update(qw_l02)\n",
    "len(words)"
   ]
  },
  {
   "cell_type": "code",
   "execution_count": 165,
   "metadata": {
    "collapsed": false
   },
   "outputs": [
    {
     "name": "stdout",
     "output_type": "stream",
     "text": [
      "3072\n",
      "1793\n",
      "number\n",
      "donald\n",
      "briefed\n",
      "1539\n",
      "1540\n",
      "communications\n",
      "3080\n",
      "fbi\n",
      "reports\n",
      "1040\n",
      "22\n",
      "535\n",
      "1302\n",
      "1561\n",
      "284\n",
      "matter\n",
      "12578\n",
      "290\n",
      "refused\n",
      "rejected\n",
      "292\n",
      "2853\n",
      "301\n",
      "2863\n",
      "1585\n",
      "1586\n",
      "5427\n",
      "4148\n",
      "56\n",
      "6202\n",
      "3134\n",
      "trumps\n",
      "27973\n",
      "1095\n",
      "2632\n",
      "request\n",
      "1354\n",
      "1355\n",
      "2635\n",
      "1869\n",
      "2890\n",
      "1618\n",
      "339\n",
      "2900\n",
      "2901\n",
      "2645\n",
      "russians\n",
      "1625\n",
      "trumprussia\n",
      "house\n",
      "607\n",
      "2142\n",
      "360\n",
      "2153\n",
      "1131\n",
      "officials\n",
      "multiple\n",
      "113\n",
      "1398\n",
      "us\n",
      "recent\n",
      "121\n",
      "2938\n",
      "stories\n",
      "3453\n",
      "intelligence\n",
      "campaign\n",
      "898\n",
      "known\n",
      "cnn\n",
      "902\n",
      "1159\n",
      "1670\n",
      "2702\n",
      "presidential\n",
      "400\n",
      "3220\n",
      "410\n",
      "156\n",
      "publicly\n",
      "412\n",
      "668\n",
      "1693\n",
      "1694\n",
      "1193\n",
      "tell\n",
      "1196\n",
      "washington\n",
      "associates\n",
      "2481\n",
      "1716\n",
      "6327\n",
      "1207\n",
      "1725\n",
      "3262\n",
      "455\n",
      "1741\n",
      "1234\n",
      "218\n",
      "987\n",
      "1754\n",
      "white\n",
      "222\n",
      "990\n",
      "2268\n",
      "2272\n",
      "3034\n",
      "744\n",
      "knock\n",
      "1001\n",
      "241\n",
      "2294\n",
      "2297\n",
      "media\n"
     ]
    }
   ],
   "source": [
    "for w in words:\n",
    "    print(w)"
   ]
  },
  {
   "cell_type": "code",
   "execution_count": 163,
   "metadata": {
    "collapsed": false
   },
   "outputs": [],
   "source": [
    "bows = {}\n",
    "for d in docs_l01:\n",
    "    bows[d] = query_docBOW(cur, d, word_list=words)\n",
    "for d in docs_l02:\n",
    "    bows[d] = query_docBOW(cur, d, word_list=words)"
   ]
  },
  {
   "cell_type": "code",
   "execution_count": 179,
   "metadata": {
    "collapsed": true
   },
   "outputs": [],
   "source": [
    "cnx.close()"
   ]
  },
  {
   "cell_type": "code",
   "execution_count": null,
   "metadata": {
    "collapsed": true
   },
   "outputs": [],
   "source": []
  }
 ],
 "metadata": {
  "kernelspec": {
   "display_name": "rss (P3)",
   "language": "python",
   "name": "rss_p3"
  },
  "language_info": {
   "codemirror_mode": {
    "name": "ipython",
    "version": 3
   },
   "file_extension": ".py",
   "mimetype": "text/x-python",
   "name": "python",
   "nbconvert_exporter": "python",
   "pygments_lexer": "ipython3",
   "version": "3.5.2"
  }
 },
 "nbformat": 4,
 "nbformat_minor": 2
}
