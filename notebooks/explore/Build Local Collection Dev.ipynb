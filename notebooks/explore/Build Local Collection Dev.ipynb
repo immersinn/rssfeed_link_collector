{
 "cells": [
  {
   "cell_type": "code",
   "execution_count": 8,
   "metadata": {
    "collapsed": true
   },
   "outputs": [],
   "source": [
    "import sys"
   ]
  },
  {
   "cell_type": "code",
   "execution_count": 9,
   "metadata": {
    "collapsed": true
   },
   "outputs": [],
   "source": [
    "sys.path.append(os.path.join(os.path.abspath(os.path.join('../..')), 'src'))"
   ]
  },
  {
   "cell_type": "code",
   "execution_count": 10,
   "metadata": {
    "collapsed": true
   },
   "outputs": [],
   "source": [
    "import numpy\n",
    "import scipy\n",
    "import pandas"
   ]
  },
  {
   "cell_type": "code",
   "execution_count": 11,
   "metadata": {
    "collapsed": true
   },
   "outputs": [],
   "source": [
    "import mysql_utils\n",
    "import doc_proc\n",
    "import init_tdm_tables"
   ]
  },
  {
   "cell_type": "code",
   "execution_count": 12,
   "metadata": {
    "collapsed": true
   },
   "outputs": [],
   "source": [
    "from importlib import reload"
   ]
  },
  {
   "cell_type": "markdown",
   "metadata": {},
   "source": [
    "## Init Needed Tools"
   ]
  },
  {
   "cell_type": "code",
   "execution_count": 13,
   "metadata": {
    "collapsed": true
   },
   "outputs": [],
   "source": [
    "dd = lambda doc: doc_proc.build_text_feature(doc,\n",
    "                                             components = ['title', 'summary'],\n",
    "                                             lower=False,\n",
    "                                             remove_stops=False,\n",
    "                                             html_text=True,\n",
    "                                            )"
   ]
  },
  {
   "cell_type": "code",
   "execution_count": 14,
   "metadata": {
    "collapsed": true
   },
   "outputs": [],
   "source": [
    "dp = init_tdm_tables.DocProcessor()"
   ]
  },
  {
   "cell_type": "markdown",
   "metadata": {},
   "source": [
    "## Process"
   ]
  },
  {
   "cell_type": "code",
   "execution_count": 15,
   "metadata": {
    "collapsed": false
   },
   "outputs": [],
   "source": [
    "stops_lookup = mysql_utils.query_wordIDLookup(doc_proc.nltk_stops)"
   ]
  },
  {
   "cell_type": "markdown",
   "metadata": {},
   "source": [
    "### Get Query Words"
   ]
  },
  {
   "cell_type": "code",
   "execution_count": 16,
   "metadata": {
    "collapsed": false
   },
   "outputs": [],
   "source": [
    "doc = {\"title\" : \"FBI refused White House request to knock down recent Trump-Russia stories\",\n",
    "       \"summary\" : \"Washington (CNN) The FBI rejected a recent White House request to publicly knock down media reports about communications between Donald Trump's associates and Russians known to US intelligence during the 2016 presidential campaign, multiple US officials briefed on the matter tell CNN.\"}"
   ]
  },
  {
   "cell_type": "code",
   "execution_count": 17,
   "metadata": {
    "collapsed": false
   },
   "outputs": [],
   "source": [
    "bow = dp.doc2BOW(dd(doc))"
   ]
  },
  {
   "cell_type": "code",
   "execution_count": 19,
   "metadata": {
    "collapsed": false
   },
   "outputs": [],
   "source": [
    "orig_query_words = [w for w in \\\n",
    "                    (mysql_utils.query_wordIDLookup([w for w in bow if w not in doc_proc.nltk_stops])).keys()\n",
    "                   ]"
   ]
  },
  {
   "cell_type": "markdown",
   "metadata": {},
   "source": [
    "### Query for Docs that Share Words"
   ]
  },
  {
   "cell_type": "markdown",
   "metadata": {},
   "source": [
    "#### Orig Doc"
   ]
  },
  {
   "cell_type": "code",
   "execution_count": 20,
   "metadata": {
    "collapsed": false
   },
   "outputs": [],
   "source": [
    "word_count_info = mysql_utils.query_wordSummaryInfo(orig_query_words, wtype='id')"
   ]
  },
  {
   "cell_type": "code",
   "execution_count": 21,
   "metadata": {
    "collapsed": false
   },
   "outputs": [
    {
     "data": {
      "text/plain": [
       "count      31.000000\n",
       "mean      723.741935\n",
       "std      1476.303152\n",
       "min        10.000000\n",
       "25%        61.500000\n",
       "50%       233.000000\n",
       "75%       705.500000\n",
       "max      7586.000000\n",
       "Name: n_docs, dtype: float64"
      ]
     },
     "execution_count": 21,
     "metadata": {},
     "output_type": "execute_result"
    }
   ],
   "source": [
    "word_count_info.n_docs.describe()"
   ]
  },
  {
   "cell_type": "code",
   "execution_count": 22,
   "metadata": {
    "collapsed": false
   },
   "outputs": [],
   "source": [
    "# Arbit...this should be \"decayed\"....see below\n",
    "ndoc_cutoff = 100\n",
    "\n",
    "qw_l01 = [int(w) for w in list(word_count_info[word_count_info.n_docs < ndoc_cutoff].word_id)]"
   ]
  },
  {
   "cell_type": "code",
   "execution_count": 23,
   "metadata": {
    "collapsed": false
   },
   "outputs": [],
   "source": [
    "# 2nd Pass: Get Doc IDs to use\n",
    "docs_l01, wcs_l01 = mysql_utils.query_docsOnWords(qw_l01, word_type='id')"
   ]
  },
  {
   "cell_type": "code",
   "execution_count": 26,
   "metadata": {
    "collapsed": false
   },
   "outputs": [
    {
     "data": {
      "text/plain": [
       "[3081,\n",
       " 8219,\n",
       " 11298,\n",
       " 4131,\n",
       " 11299,\n",
       " 8230,\n",
       " 17454,\n",
       " 17455,\n",
       " 15410,\n",
       " 30771,\n",
       " 1077,\n",
       " 4150,\n",
       " 30775,\n",
       " 31798,\n",
       " 6201,\n",
       " 2105,\n",
       " 3132,\n",
       " 3136,\n",
       " 8256,\n",
       " 1090,\n",
       " 8257,\n",
       " 2116,\n",
       " 30784,\n",
       " 15429,\n",
       " 7246,\n",
       " 15438,\n",
       " 1106,\n",
       " 1107,\n",
       " 2133,\n",
       " 35925,\n",
       " 15447,\n",
       " 3160,\n",
       " 31836,\n",
       " 18533,\n",
       " 7272,\n",
       " 7281,\n",
       " 115,\n",
       " 30850,\n",
       " 26759,\n",
       " 1170,\n",
       " 1179,\n",
       " 5275,\n",
       " 8351,\n",
       " 3232,\n",
       " 4256,\n",
       " 5287,\n",
       " 168,\n",
       " 14507,\n",
       " 30894,\n",
       " 29870,\n",
       " 184,\n",
       " 15545,\n",
       " 185,\n",
       " 15552,\n",
       " 30913,\n",
       " 31938,\n",
       " 5318,\n",
       " 2249,\n",
       " 15563,\n",
       " 30928,\n",
       " 4306,\n",
       " 15578,\n",
       " 4317,\n",
       " 31968,\n",
       " 13540,\n",
       " 15589,\n",
       " 31974,\n",
       " 16616,\n",
       " 31984,\n",
       " 8436,\n",
       " 6389,\n",
       " 11513,\n",
       " 8444,\n",
       " 8446,\n",
       " 7428,\n",
       " 30982,\n",
       " 32016,\n",
       " 274,\n",
       " 12571,\n",
       " 31003,\n",
       " 31005,\n",
       " 27932,\n",
       " 36127,\n",
       " 11560,\n",
       " 31017,\n",
       " 3368,\n",
       " 31019,\n",
       " 27947,\n",
       " 2344,\n",
       " 18735,\n",
       " 5429,\n",
       " 30006,\n",
       " 3389,\n",
       " 2367,\n",
       " 6469,\n",
       " 326,\n",
       " 3399,\n",
       " 8517,\n",
       " 15687,\n",
       " 3398,\n",
       " 7497,\n",
       " 16716,\n",
       " 11597,\n",
       " 31052,\n",
       " 2375,\n",
       " 3408,\n",
       " 15698,\n",
       " 4436,\n",
       " 29013,\n",
       " 30038,\n",
       " 8539,\n",
       " 5468,\n",
       " 16733,\n",
       " 2409,\n",
       " 3433,\n",
       " 2412,\n",
       " 4463,\n",
       " 16762,\n",
       " 3457,\n",
       " 15746,\n",
       " 32133,\n",
       " 33164,\n",
       " 19855,\n",
       " 19856,\n",
       " 32145,\n",
       " 15765,\n",
       " 31127,\n",
       " 8604,\n",
       " 16797,\n",
       " 15773,\n",
       " 34207,\n",
       " 6557,\n",
       " 32159,\n",
       " 13730,\n",
       " 15779,\n",
       " 15777,\n",
       " 5542,\n",
       " 4521,\n",
       " 4523,\n",
       " 8620,\n",
       " 4525,\n",
       " 16814,\n",
       " 4526,\n",
       " 13744,\n",
       " 4528,\n",
       " 28082,\n",
       " 8628,\n",
       " 32180,\n",
       " 27061,\n",
       " 16828,\n",
       " 444,\n",
       " 35260,\n",
       " 9666,\n",
       " 20938,\n",
       " 459,\n",
       " 20939,\n",
       " 20940,\n",
       " 1486,\n",
       " 1488,\n",
       " 31186,\n",
       " 12755,\n",
       " 28118,\n",
       " 3542,\n",
       " 3554,\n",
       " 4579,\n",
       " 34492,\n",
       " 28132,\n",
       " 8678,\n",
       " 8679,\n",
       " 29159,\n",
       " 36329,\n",
       " 1519,\n",
       " 7667,\n",
       " 16885,\n",
       " 9720,\n",
       " 2746,\n",
       " 7673,\n",
       " 7674,\n",
       " 15880,\n",
       " 4618,\n",
       " 10762,\n",
       " 31248,\n",
       " 9746,\n",
       " 15891,\n",
       " 36370,\n",
       " 15893,\n",
       " 33299,\n",
       " 533,\n",
       " 15897,\n",
       " 7712,\n",
       " 15905,\n",
       " 34342,\n",
       " 551,\n",
       " 2607,\n",
       " 559,\n",
       " 11827,\n",
       " 15926,\n",
       " 7737,\n",
       " 3642,\n",
       " 7740,\n",
       " 13889,\n",
       " 4676,\n",
       " 6726,\n",
       " 31318,\n",
       " 31329,\n",
       " 25190,\n",
       " 25191,\n",
       " 25192,\n",
       " 25193,\n",
       " 7786,\n",
       " 25194,\n",
       " 25195,\n",
       " 25196,\n",
       " 25197,\n",
       " 25198,\n",
       " 25199,\n",
       " 36469,\n",
       " 3701,\n",
       " 15993,\n",
       " 15997,\n",
       " 11902,\n",
       " 31359,\n",
       " 3715,\n",
       " 8840,\n",
       " 31371,\n",
       " 28301,\n",
       " 6802,\n",
       " 13982,\n",
       " 672,\n",
       " 16035,\n",
       " 15013,\n",
       " 4779,\n",
       " 6831,\n",
       " 32437,\n",
       " 2742,\n",
       " 3766,\n",
       " 8888,\n",
       " 18106,\n",
       " 698,\n",
       " 3772,\n",
       " 19132,\n",
       " 19134,\n",
       " 19135,\n",
       " 19133,\n",
       " 19137,\n",
       " 19138,\n",
       " 19139,\n",
       " 19140,\n",
       " 3776,\n",
       " 34497,\n",
       " 34503,\n",
       " 17098,\n",
       " 17100,\n",
       " 20177,\n",
       " 16083,\n",
       " 17113,\n",
       " 733,\n",
       " 734,\n",
       " 10973,\n",
       " 18144,\n",
       " 14049,\n",
       " 36578,\n",
       " 15076,\n",
       " 7915,\n",
       " 22260,\n",
       " 17144,\n",
       " 27385,\n",
       " 18171,\n",
       " 3839,\n",
       " 3843,\n",
       " 2838,\n",
       " 31511,\n",
       " 8987,\n",
       " 8994,\n",
       " 2851,\n",
       " 7972,\n",
       " 34596,\n",
       " 1833,\n",
       " 10033,\n",
       " 7986,\n",
       " 7987,\n",
       " 15157,\n",
       " 12090,\n",
       " 7994,\n",
       " 14140,\n",
       " 9023,\n",
       " 11072,\n",
       " 31568,\n",
       " 31570,\n",
       " 3924,\n",
       " 16214,\n",
       " 7001,\n",
       " 859,\n",
       " 16221,\n",
       " 34654,\n",
       " 864,\n",
       " 11106,\n",
       " 875,\n",
       " 17273,\n",
       " 26491,\n",
       " 26492,\n",
       " 8065,\n",
       " 7045,\n",
       " 3973,\n",
       " 27530,\n",
       " 7052,\n",
       " 30604,\n",
       " 5006,\n",
       " 13203,\n",
       " 5013,\n",
       " 15254,\n",
       " 17302,\n",
       " 17303,\n",
       " 27549,\n",
       " 23455,\n",
       " 31652,\n",
       " 1963,\n",
       " 17331,\n",
       " 32695,\n",
       " 16318,\n",
       " 966,\n",
       " 1993,\n",
       " 8145,\n",
       " 7121,\n",
       " 32721,\n",
       " 6103,\n",
       " 3031,\n",
       " 10199,\n",
       " 11226,\n",
       " 11228,\n",
       " 990,\n",
       " 7146,\n",
       " 16363,\n",
       " 7153,\n",
       " 8179,\n",
       " 8180,\n",
       " 30708,\n",
       " 31734,\n",
       " 7159,\n",
       " 31739,\n",
       " 3068,\n",
       " 4093]"
      ]
     },
     "execution_count": 26,
     "metadata": {},
     "output_type": "execute_result"
    }
   ],
   "source": [
    "docs_l01"
   ]
  },
  {
   "cell_type": "markdown",
   "metadata": {},
   "source": [
    "#### Level 1 Documents"
   ]
  },
  {
   "cell_type": "markdown",
   "metadata": {},
   "source": [
    "### This stepo is a bottleneck; can i pre-reduce the query words by using info from the sub-set?"
   ]
  },
  {
   "cell_type": "markdown",
   "metadata": {},
   "source": [
    "Have the word stats for all words queued up already..in the \"words_info\" table"
   ]
  },
  {
   "cell_type": "code",
   "execution_count": 28,
   "metadata": {
    "collapsed": false
   },
   "outputs": [
    {
     "data": {
      "text/plain": [
       "4122"
      ]
     },
     "execution_count": 28,
     "metadata": {},
     "output_type": "execute_result"
    }
   ],
   "source": [
    "query_words = mysql_utils.query_AllDocWords(docs_l01)\n",
    "query_words = [w for w in query_words if w not in stops_lookup.keys()]\n",
    "len(query_words)"
   ]
  },
  {
   "cell_type": "code",
   "execution_count": 29,
   "metadata": {
    "collapsed": false
   },
   "outputs": [
    {
     "data": {
      "text/plain": [
       "40787"
      ]
     },
     "execution_count": 29,
     "metadata": {},
     "output_type": "execute_result"
    }
   ],
   "source": [
    "n_docs_tot = mysql_utils.query_totalEntries('rssfeed_links')\n",
    "n_docs_tot"
   ]
  },
  {
   "cell_type": "code",
   "execution_count": 30,
   "metadata": {
    "collapsed": false
   },
   "outputs": [],
   "source": [
    "bgwi = mysql_utils.query_backgroundWordInfo(query_words)\n",
    "bgwi['frac'] = bgwi.n_docs / n_docs_tot"
   ]
  },
  {
   "cell_type": "code",
   "execution_count": 31,
   "metadata": {
    "collapsed": false
   },
   "outputs": [],
   "source": [
    "qwwi = mysql_utils.query_wordSummaryInfo(query_words, wtype='id', include_docs=docs_l01)\n",
    "qwwi['frac'] = qwwi.n_docs / len(docs_l01)"
   ]
  },
  {
   "cell_type": "code",
   "execution_count": 32,
   "metadata": {
    "collapsed": false
   },
   "outputs": [],
   "source": [
    "wi = bgwi.join(qwwi, on=['word_id'], lsuffix='_bg', rsuffix='_qw')"
   ]
  },
  {
   "cell_type": "code",
   "execution_count": 33,
   "metadata": {
    "collapsed": false
   },
   "outputs": [
    {
     "data": {
      "text/html": [
       "<div>\n",
       "<table border=\"1\" class=\"dataframe\">\n",
       "  <thead>\n",
       "    <tr style=\"text-align: right;\">\n",
       "      <th></th>\n",
       "      <th>word_id_bg</th>\n",
       "      <th>n_docs_bg</th>\n",
       "      <th>n_total_bg</th>\n",
       "      <th>frac_bg</th>\n",
       "      <th>word_id_qw</th>\n",
       "      <th>n_docs_qw</th>\n",
       "      <th>n_total_qw</th>\n",
       "      <th>frac_qw</th>\n",
       "    </tr>\n",
       "  </thead>\n",
       "  <tbody>\n",
       "    <tr>\n",
       "      <th>0</th>\n",
       "      <td>1</td>\n",
       "      <td>105</td>\n",
       "      <td>144</td>\n",
       "      <td>0.002574</td>\n",
       "      <td>3.0</td>\n",
       "      <td>80.0</td>\n",
       "      <td>123</td>\n",
       "      <td>0.233918</td>\n",
       "    </tr>\n",
       "    <tr>\n",
       "      <th>1</th>\n",
       "      <td>3</td>\n",
       "      <td>7586</td>\n",
       "      <td>11670</td>\n",
       "      <td>0.185991</td>\n",
       "      <td>11.0</td>\n",
       "      <td>6.0</td>\n",
       "      <td>6</td>\n",
       "      <td>0.017544</td>\n",
       "    </tr>\n",
       "    <tr>\n",
       "      <th>2</th>\n",
       "      <td>7</td>\n",
       "      <td>91</td>\n",
       "      <td>93</td>\n",
       "      <td>0.002231</td>\n",
       "      <td>15.0</td>\n",
       "      <td>6.0</td>\n",
       "      <td>10</td>\n",
       "      <td>0.017544</td>\n",
       "    </tr>\n",
       "    <tr>\n",
       "      <th>3</th>\n",
       "      <td>11</td>\n",
       "      <td>803</td>\n",
       "      <td>932</td>\n",
       "      <td>0.019688</td>\n",
       "      <td>19.0</td>\n",
       "      <td>1.0</td>\n",
       "      <td>1</td>\n",
       "      <td>0.002924</td>\n",
       "    </tr>\n",
       "    <tr>\n",
       "      <th>4</th>\n",
       "      <td>12</td>\n",
       "      <td>310</td>\n",
       "      <td>382</td>\n",
       "      <td>0.007600</td>\n",
       "      <td>20.0</td>\n",
       "      <td>44.0</td>\n",
       "      <td>60</td>\n",
       "      <td>0.128655</td>\n",
       "    </tr>\n",
       "  </tbody>\n",
       "</table>\n",
       "</div>"
      ],
      "text/plain": [
       "   word_id_bg  n_docs_bg n_total_bg   frac_bg  word_id_qw  n_docs_qw  \\\n",
       "0           1        105        144  0.002574         3.0       80.0   \n",
       "1           3       7586      11670  0.185991        11.0        6.0   \n",
       "2           7         91         93  0.002231        15.0        6.0   \n",
       "3          11        803        932  0.019688        19.0        1.0   \n",
       "4          12        310        382  0.007600        20.0       44.0   \n",
       "\n",
       "  n_total_qw   frac_qw  \n",
       "0        123  0.233918  \n",
       "1          6  0.017544  \n",
       "2         10  0.017544  \n",
       "3          1  0.002924  \n",
       "4         60  0.128655  "
      ]
     },
     "execution_count": 33,
     "metadata": {},
     "output_type": "execute_result"
    }
   ],
   "source": [
    "wi.head()"
   ]
  },
  {
   "cell_type": "code",
   "execution_count": 34,
   "metadata": {
    "collapsed": true
   },
   "outputs": [],
   "source": [
    "wi['ratio'] = wi.frac_qw / wi.frac_bg"
   ]
  },
  {
   "cell_type": "code",
   "execution_count": 35,
   "metadata": {
    "collapsed": false
   },
   "outputs": [
    {
     "data": {
      "text/plain": [
       "count    1697.000000\n",
       "mean        7.171758\n",
       "std        22.142781\n",
       "min         0.024960\n",
       "25%         0.779479\n",
       "50%         1.780003\n",
       "75%         4.417046\n",
       "max       357.780702\n",
       "Name: ratio, dtype: float64"
      ]
     },
     "execution_count": 35,
     "metadata": {},
     "output_type": "execute_result"
    }
   ],
   "source": [
    "wi.ratio.describe()"
   ]
  },
  {
   "cell_type": "code",
   "execution_count": 36,
   "metadata": {
    "collapsed": true
   },
   "outputs": [],
   "source": [
    "# Restrict query words based on \"words_info\" table in mysql\n",
    "# Say, more than 5 docs, but less than 100 (50) (20) docs?\n",
    "word_filter_l02 = lambda x: (x['n_docs_qw'] >= 3 and x['n_docs_bg'] < 75 and x['ratio'] > 2)"
   ]
  },
  {
   "cell_type": "code",
   "execution_count": 37,
   "metadata": {
    "collapsed": true
   },
   "outputs": [],
   "source": [
    "ids2ints = lambda id_series: [int(i) for i in list(id_series)]"
   ]
  },
  {
   "cell_type": "code",
   "execution_count": 38,
   "metadata": {
    "collapsed": false
   },
   "outputs": [
    {
     "name": "stdout",
     "output_type": "stream",
     "text": [
      "112\n"
     ]
    }
   ],
   "source": [
    "qw_l02 = ids2ints(wi.word_id_bg[wi.apply(lambda entry: word_filter_l02(entry), axis=1)])\n",
    "print(len(qw_l02))"
   ]
  },
  {
   "cell_type": "code",
   "execution_count": 39,
   "metadata": {
    "collapsed": false
   },
   "outputs": [],
   "source": [
    "docs_l02, wcs_l02 = mysql_utils.query_docsOnWords(qw_l02,\n",
    "                                      word_type=\"id\", exclude_docs=docs_l01)"
   ]
  },
  {
   "cell_type": "code",
   "execution_count": 40,
   "metadata": {
    "collapsed": false
   },
   "outputs": [
    {
     "data": {
      "text/plain": [
       "3559"
      ]
     },
     "execution_count": 40,
     "metadata": {},
     "output_type": "execute_result"
    }
   ],
   "source": [
    "len(docs_l02)"
   ]
  },
  {
   "cell_type": "code",
   "execution_count": 42,
   "metadata": {
    "collapsed": false
   },
   "outputs": [],
   "source": [
    "qww = mysql_utils.query_idWordLookup(qw_l02)"
   ]
  },
  {
   "cell_type": "markdown",
   "metadata": {},
   "source": [
    "## Generate Network from Selected Vocab, Docs"
   ]
  },
  {
   "cell_type": "code",
   "execution_count": 43,
   "metadata": {
    "collapsed": false
   },
   "outputs": [
    {
     "data": {
      "text/plain": [
       "142"
      ]
     },
     "execution_count": 43,
     "metadata": {},
     "output_type": "execute_result"
    }
   ],
   "source": [
    "words = set(orig_query_words).copy()\n",
    "words.update(qw_l01)\n",
    "words.update(qw_l02)\n",
    "len(words)"
   ]
  },
  {
   "cell_type": "code",
   "execution_count": 44,
   "metadata": {
    "collapsed": false
   },
   "outputs": [
    {
     "name": "stdout",
     "output_type": "stream",
     "text": [
      "3072\n",
      "1024\n",
      "1793\n",
      "3\n",
      "1539\n",
      "1540\n",
      "3075\n",
      "775\n",
      "3080\n",
      "1040\n",
      "19\n",
      "2323\n",
      "22\n",
      "535\n",
      "1046\n",
      "1302\n",
      "1561\n",
      "1563\n",
      "284\n",
      "12578\n",
      "290\n",
      "292\n",
      "1315\n",
      "2853\n",
      "1834\n",
      "301\n",
      "302\n",
      "1325\n",
      "304\n",
      "1585\n",
      "1586\n",
      "5427\n",
      "2100\n",
      "2613\n",
      "4148\n",
      "311\n",
      "56\n",
      "1336\n",
      "6202\n",
      "826\n",
      "3134\n",
      "320\n",
      "322\n",
      "834\n",
      "2116\n",
      "27973\n",
      "2863\n",
      "1095\n",
      "2632\n",
      "1354\n",
      "1355\n",
      "2635\n",
      "1869\n",
      "2890\n",
      "1618\n",
      "339\n",
      "2900\n",
      "2901\n",
      "2645\n",
      "855\n",
      "600\n",
      "1625\n",
      "2142\n",
      "607\n",
      "360\n",
      "2153\n",
      "1131\n",
      "1648\n",
      "113\n",
      "2672\n",
      "1398\n",
      "121\n",
      "2938\n",
      "124\n",
      "3453\n",
      "1151\n",
      "896\n",
      "1153\n",
      "898\n",
      "902\n",
      "1159\n",
      "1670\n",
      "2702\n",
      "400\n",
      "147\n",
      "3220\n",
      "410\n",
      "155\n",
      "156\n",
      "411\n",
      "412\n",
      "668\n",
      "1693\n",
      "1694\n",
      "1696\n",
      "2208\n",
      "166\n",
      "423\n",
      "1193\n",
      "683\n",
      "1196\n",
      "3757\n",
      "432\n",
      "1968\n",
      "688\n",
      "1203\n",
      "1716\n",
      "2481\n",
      "6327\n",
      "1207\n",
      "955\n",
      "1723\n",
      "701\n",
      "1725\n",
      "3262\n",
      "1473\n",
      "455\n",
      "1484\n",
      "1741\n",
      "463\n",
      "1234\n",
      "211\n",
      "979\n",
      "1235\n",
      "2775\n",
      "218\n",
      "987\n",
      "1754\n",
      "2268\n",
      "222\n",
      "990\n",
      "2272\n",
      "3034\n",
      "2020\n",
      "744\n",
      "233\n",
      "1001\n",
      "1006\n",
      "241\n",
      "2294\n",
      "2297\n",
      "2300\n"
     ]
    }
   ],
   "source": [
    "for w in words:\n",
    "    print(w)"
   ]
  },
  {
   "cell_type": "code",
   "execution_count": 45,
   "metadata": {
    "collapsed": true
   },
   "outputs": [],
   "source": [
    "orig_bow_lookup = {w : i for i,w in mysql_utils.query_wordIDLookup(bow.keys()).items()}"
   ]
  },
  {
   "cell_type": "code",
   "execution_count": 46,
   "metadata": {
    "collapsed": false
   },
   "outputs": [],
   "source": [
    "bow = {orig_bow_lookup[k] : wcount for k,wcount in bow.items()}"
   ]
  },
  {
   "cell_type": "code",
   "execution_count": 47,
   "metadata": {
    "collapsed": false
   },
   "outputs": [
    {
     "name": "stdout",
     "output_type": "stream",
     "text": [
      "3902\n"
     ]
    }
   ],
   "source": [
    "bows = [{'doc_id' : 'orig', 'bow' : bow}]\n",
    "for d in docs_l01:\n",
    "    bows.append({'doc_id' : d,\n",
    "                 'bow' : mysql_utils.query_docBOW(d, word_list=words)})\n",
    "for d in docs_l02:\n",
    "    bows.append({'doc_id' : d,\n",
    "                 'bow' : mysql_utils.query_docBOW(d, word_list=words)})\n",
    "print(len(bows))"
   ]
  },
  {
   "cell_type": "code",
   "execution_count": 47,
   "metadata": {
    "collapsed": true
   },
   "outputs": [],
   "source": [
    "import pickle"
   ]
  },
  {
   "cell_type": "code",
   "execution_count": 48,
   "metadata": {
    "collapsed": true
   },
   "outputs": [],
   "source": [
    "bows_path = os.path.join(os.path.abspath(os.path.join('../..')), 'src/data/sample_bows.pkl')"
   ]
  },
  {
   "cell_type": "code",
   "execution_count": 66,
   "metadata": {
    "collapsed": true
   },
   "outputs": [],
   "source": [
    "with open(bows_path, 'wb') as f:\n",
    "    pickle.dump(bows, f)"
   ]
  },
  {
   "cell_type": "code",
   "execution_count": 1,
   "metadata": {
    "collapsed": true
   },
   "outputs": [],
   "source": [
    "from importlib import reload"
   ]
  },
  {
   "cell_type": "code",
   "execution_count": null,
   "metadata": {
    "collapsed": true
   },
   "outputs": [],
   "source": [
    "reload(mysql_ut)"
   ]
  }
 ],
 "metadata": {
  "kernelspec": {
   "display_name": "rss (P3)",
   "language": "python",
   "name": "rss_p3"
  },
  "language_info": {
   "codemirror_mode": {
    "name": "ipython",
    "version": 3
   },
   "file_extension": ".py",
   "mimetype": "text/x-python",
   "name": "python",
   "nbconvert_exporter": "python",
   "pygments_lexer": "ipython3",
   "version": "3.5.2"
  }
 },
 "nbformat": 4,
 "nbformat_minor": 2
}
