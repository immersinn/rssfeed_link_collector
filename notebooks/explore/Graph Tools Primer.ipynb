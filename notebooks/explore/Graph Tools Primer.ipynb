{
 "cells": [
  {
   "cell_type": "code",
   "execution_count": 1,
   "metadata": {
    "collapsed": true
   },
   "outputs": [],
   "source": [
    "import sys"
   ]
  },
  {
   "cell_type": "code",
   "execution_count": 2,
   "metadata": {
    "collapsed": true
   },
   "outputs": [],
   "source": [
    "sys.path.append(os.path.join(os.path.abspath(os.path.join('../..')), 'src'))"
   ]
  },
  {
   "cell_type": "code",
   "execution_count": 20,
   "metadata": {
    "collapsed": true
   },
   "outputs": [],
   "source": [
    "from importlib import reload"
   ]
  },
  {
   "cell_type": "code",
   "execution_count": 3,
   "metadata": {
    "collapsed": true
   },
   "outputs": [],
   "source": [
    "import numpy\n",
    "import scipy\n",
    "from scipy import sparse"
   ]
  },
  {
   "cell_type": "markdown",
   "metadata": {},
   "source": [
    "## Test Network(s)"
   ]
  },
  {
   "cell_type": "code",
   "execution_count": 51,
   "metadata": {
    "collapsed": true
   },
   "outputs": [],
   "source": [
    "karate_club_raw = \"\"\"\n",
    "[2 1]\n",
    "[3 1] [3 2]\n",
    "[4 1] [4 2] [4 3]\n",
    "[5 1]\n",
    "[6 1]\n",
    "[7 1] [7 5] [7 6]\n",
    "[8 1] [8 2] [8 3] [8 4]\n",
    "[9 1] [9 3]\n",
    "[10 3]\n",
    "[11 1] [11 5] [11 6]\n",
    "[12 1]\n",
    "[13 1] [13 4]\n",
    "[14 1] [14 2] [14 3] [14 4]\n",
    "[17 6] [17 7]\n",
    "[18 1] [18 2]\n",
    "[20 1] [20 2]\n",
    "[22 1] [22 2]\n",
    "[26 24] [26 25]\n",
    "[28 3] [28 24] [28 25]\n",
    "[29 3]\n",
    "[30 24] [30 27]\n",
    "[31 2] [31 9]\n",
    "[32 1] [32 25] [32 26] [32 29]\n",
    "[33 3] [33 9] [33 15] [33 16] [33 19] [33 21] [33 23] [33 24] [33 30] [33 31] [33 32]\n",
    "[34 9] [34 10] [34 14] [34 15] [34 16] [34 19] [34 20] [34 21] [34 23] [34 24] [34 27] [34 28] [34 29] [34 30] [34 31] [34 32] [34 33]\n",
    "\"\"\""
   ]
  },
  {
   "cell_type": "code",
   "execution_count": 52,
   "metadata": {
    "collapsed": false
   },
   "outputs": [],
   "source": [
    "ii = []\n",
    "jj = []\n",
    "karate_club_raw = ' '.join(karate_club_raw.split('\\n')).strip()\n",
    "entries = karate_club_raw.split('] [')\n",
    "if len(entries)==1:\n",
    "    i,j = entries[0][1:-1].split()\n",
    "    ii.append(int(i))\n",
    "    jj.append(int(j))\n",
    "else:\n",
    "    # 1st entry\n",
    "    i,j = entries[0][1:].split()\n",
    "    ii.append(int(i))\n",
    "    jj.append(int(j))\n",
    "\n",
    "    # Middle entries\n",
    "    for entry in entries[1:-1]:\n",
    "        i,j = entry.split()\n",
    "        ii.append(int(i))\n",
    "        jj.append(int(j))\n",
    "        ii.append(int(j))\n",
    "        jj.append(int(i))\n",
    "\n",
    "    # Last entry\n",
    "    i,j = entries[-1][:-1].split()\n",
    "    ii.append(int(i))\n",
    "    jj.append(int(j))\n",
    "            \n",
    "data = [1 for _ in range(len(ii))]\n",
    "ii = [i - 1 for i in ii]\n",
    "jj = [j - 1 for j in jj]"
   ]
  },
  {
   "cell_type": "code",
   "execution_count": 53,
   "metadata": {
    "collapsed": false
   },
   "outputs": [],
   "source": [
    "sub_A = sparse.coo_matrix((data, (ii,jj)), shape=(34,34))\n",
    "sub_A = sub_A.tocsc()"
   ]
  },
  {
   "cell_type": "code",
   "execution_count": 54,
   "metadata": {
    "collapsed": false
   },
   "outputs": [
    {
     "data": {
      "text/plain": [
       "(34, 34)"
      ]
     },
     "execution_count": 54,
     "metadata": {},
     "output_type": "execute_result"
    }
   ],
   "source": [
    "sub_A.shape"
   ]
  },
  {
   "cell_type": "code",
   "execution_count": 105,
   "metadata": {
    "collapsed": false
   },
   "outputs": [
    {
     "data": {
      "text/plain": [
       "0.13321799307958476"
      ]
     },
     "execution_count": 105,
     "metadata": {},
     "output_type": "execute_result"
    }
   ],
   "source": [
    "sub_A.sum() / sub_A.shape[0] ** 2"
   ]
  },
  {
   "cell_type": "markdown",
   "metadata": {},
   "source": [
    "## Test Some Stuff"
   ]
  },
  {
   "cell_type": "code",
   "execution_count": null,
   "metadata": {
    "collapsed": true
   },
   "outputs": [],
   "source": [
    "import graph_tools"
   ]
  },
  {
   "cell_type": "code",
   "execution_count": null,
   "metadata": {
    "collapsed": true
   },
   "outputs": [],
   "source": [
    "def spanSpace(n, max_groups):\n",
    "    \"\"\"\n",
    "    Randomly assigns nodes to a random number of groups (less than\n",
    "    or equal to 'max_groups')\n",
    "\n",
    "    :type n: int\n",
    "    :param n: number of nodes in the graph\n",
    "\n",
    "    :type max_groups: numeric\n",
    "    :param max groups: indicates the maximum number of groups the nodes\n",
    "    are to be split into\n",
    "    \"\"\"\n",
    "    \n",
    "    groups_index = numpy.random.randint(1,\n",
    "                                        high=numpy.random.randint(2, max_groups + 1) + 1,\n",
    "                                        size=n)\n",
    "    groups_index = groups_index.reshape((n,))\n",
    "    return groups_index"
   ]
  },
  {
   "cell_type": "code",
   "execution_count": null,
   "metadata": {
    "collapsed": true
   },
   "outputs": [],
   "source": [
    "# Define random groups\n",
    "g = ((numpy.random.rand(A.shape[0]) > 0.5) * 1).reshape((n,))  # row ndarray"
   ]
  },
  {
   "cell_type": "code",
   "execution_count": null,
   "metadata": {
    "collapsed": false
   },
   "outputs": [],
   "source": [
    "n = A.shape[0]\n",
    "g = numpy.ones(n).reshape((n,))\n",
    "\n",
    "while len(numpy.unique(g)) < 5:\n",
    "   g = spanSpace(n, 6)"
   ]
  },
  {
   "cell_type": "code",
   "execution_count": null,
   "metadata": {
    "collapsed": false
   },
   "outputs": [],
   "source": [
    "indx = numpy.array(range(n)).reshape((n,))\n",
    "indx = [i for i in range(n)]\n",
    "L = 1\n",
    "allow_make_new = True"
   ]
  },
  {
   "cell_type": "code",
   "execution_count": null,
   "metadata": {
    "collapsed": false
   },
   "outputs": [],
   "source": [
    "groups, score = graph_tools.mKL(g, A, indx, L,\n",
    "                                allow_make_new=False,\n",
    "                                verbose=True)"
   ]
  },
  {
   "cell_type": "code",
   "execution_count": null,
   "metadata": {
    "collapsed": false
   },
   "outputs": [],
   "source": [
    "score"
   ]
  },
  {
   "cell_type": "code",
   "execution_count": null,
   "metadata": {
    "collapsed": false
   },
   "outputs": [],
   "source": [
    "%matplotlib inline\n",
    "\n",
    "import matplotlib as mpl\n",
    "import matplotlib.pyplot as plt\n",
    "\n",
    "import seaborn as sns\n",
    "sns.set(style=\"whitegrid\", color_codes=True)"
   ]
  },
  {
   "cell_type": "code",
   "execution_count": null,
   "metadata": {
    "collapsed": false
   },
   "outputs": [],
   "source": [
    "sns.set_style(\"darkgrid\")\n",
    "\n",
    "fig, ax = plt.subplots()\n",
    "fig.set_size_inches((12,12))\n",
    "ax.scatter(vecs[:,1], vecs[:,2])\n",
    "\n",
    "for i, txt in enumerate(range(1,35)):\n",
    "    ax.annotate(txt, (vecs[i,1],vecs[i,2]))"
   ]
  },
  {
   "cell_type": "markdown",
   "metadata": {},
   "source": [
    "## Test Spectral Code On Karate"
   ]
  },
  {
   "cell_type": "code",
   "execution_count": 89,
   "metadata": {
    "collapsed": true
   },
   "outputs": [],
   "source": [
    "import spectral_partition"
   ]
  },
  {
   "cell_type": "code",
   "execution_count": 99,
   "metadata": {
    "collapsed": false
   },
   "outputs": [
    {
     "data": {
      "text/plain": [
       "<module 'spectral_partition' from '/home/immersinn/gits/rssfeed_link_collector/src/spectral_partition.py'>"
      ]
     },
     "execution_count": 99,
     "metadata": {},
     "output_type": "execute_result"
    }
   ],
   "source": [
    "reload(spectral_partition)"
   ]
  },
  {
   "cell_type": "code",
   "execution_count": 100,
   "metadata": {
    "collapsed": false
   },
   "outputs": [],
   "source": [
    "grps, counts, hist = spectral_partition.spectralGraphPartition23(sub_A, Bin='bNG', finetune=False)"
   ]
  },
  {
   "cell_type": "code",
   "execution_count": 101,
   "metadata": {
    "collapsed": false
   },
   "outputs": [
    {
     "data": {
      "text/plain": [
       "{'threeway-pair': 1, 'twoway-pair': 0, 'twoway-single': 1}"
      ]
     },
     "execution_count": 101,
     "metadata": {},
     "output_type": "execute_result"
    }
   ],
   "source": [
    "counts"
   ]
  },
  {
   "cell_type": "code",
   "execution_count": 102,
   "metadata": {
    "collapsed": false
   },
   "outputs": [
    {
     "data": {
      "text/plain": [
       "array([0, 1, 1, 1, 0, 0, 0, 1, 2, 2, 0, 0, 1, 1, 2, 2, 0, 1, 2, 1, 2, 1, 2,\n",
       "       3, 3, 3, 2, 3, 3, 2, 2, 3, 2, 2])"
      ]
     },
     "execution_count": 102,
     "metadata": {},
     "output_type": "execute_result"
    }
   ],
   "source": [
    "grps"
   ]
  },
  {
   "cell_type": "code",
   "execution_count": 104,
   "metadata": {
    "collapsed": false
   },
   "outputs": [],
   "source": [
    "hist.sort()"
   ]
  },
  {
   "cell_type": "code",
   "execution_count": null,
   "metadata": {
    "collapsed": true
   },
   "outputs": [],
   "source": []
  }
 ],
 "metadata": {
  "kernelspec": {
   "display_name": "conda3",
   "language": "python",
   "name": "conda3"
  },
  "language_info": {
   "codemirror_mode": {
    "name": "ipython",
    "version": 3
   },
   "file_extension": ".py",
   "mimetype": "text/x-python",
   "name": "python",
   "nbconvert_exporter": "python",
   "pygments_lexer": "ipython3",
   "version": "3.5.2"
  }
 },
 "nbformat": 4,
 "nbformat_minor": 2
}
