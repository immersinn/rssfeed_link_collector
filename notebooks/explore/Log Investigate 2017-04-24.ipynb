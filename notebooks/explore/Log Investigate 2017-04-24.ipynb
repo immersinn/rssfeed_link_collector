{
 "cells": [
  {
   "cell_type": "code",
   "execution_count": 1,
   "metadata": {
    "collapsed": true
   },
   "outputs": [],
   "source": [
    "main_repo_dir = os.path.abspath(os.path.join('../..'))\n",
    "sys.path.append(os.path.join(main_repo_dir, 'src'))"
   ]
  },
  {
   "cell_type": "code",
   "execution_count": 2,
   "metadata": {
    "collapsed": true
   },
   "outputs": [],
   "source": [
    "import datetime"
   ]
  },
  {
   "cell_type": "code",
   "execution_count": 3,
   "metadata": {
    "collapsed": true
   },
   "outputs": [],
   "source": [
    "import pandas"
   ]
  },
  {
   "cell_type": "code",
   "execution_count": 4,
   "metadata": {
    "collapsed": true
   },
   "outputs": [],
   "source": [
    "import utils"
   ]
  },
  {
   "cell_type": "code",
   "execution_count": 49,
   "metadata": {
    "collapsed": true
   },
   "outputs": [],
   "source": [
    "with open(os.path.join(main_repo_dir, \"main_run.log\"), \"r\") as f:\n",
    "    log = f.readlines()"
   ]
  },
  {
   "cell_type": "code",
   "execution_count": 50,
   "metadata": {
    "collapsed": true
   },
   "outputs": [],
   "source": [
    "dates, entries = zip(*[(' '.join(line.split()[:3]), ' '.join(line.split()[3:])) for line in log])"
   ]
  },
  {
   "cell_type": "code",
   "execution_count": 51,
   "metadata": {
    "collapsed": true
   },
   "outputs": [],
   "source": [
    "dates = [datetime.datetime.strptime(date, '%m/%d/%Y %I:%M:%S %p') for date in dates]"
   ]
  },
  {
   "cell_type": "code",
   "execution_count": 52,
   "metadata": {
    "collapsed": false
   },
   "outputs": [],
   "source": [
    "log = pandas.DataFrame(data = {'entry' : entries}, index=dates)"
   ]
  },
  {
   "cell_type": "code",
   "execution_count": 53,
   "metadata": {
    "collapsed": true
   },
   "outputs": [],
   "source": [
    "log['day'] = [ent.strftime('%Y-%m-%d') for ent in log.index]"
   ]
  },
  {
   "cell_type": "code",
   "execution_count": 54,
   "metadata": {
    "collapsed": false
   },
   "outputs": [],
   "source": [
    "log = log['2017-03-14':]"
   ]
  },
  {
   "cell_type": "code",
   "execution_count": 55,
   "metadata": {
    "collapsed": false
   },
   "outputs": [
    {
     "data": {
      "text/plain": [
       "(189957, 2)"
      ]
     },
     "execution_count": 55,
     "metadata": {},
     "output_type": "execute_result"
    }
   ],
   "source": [
    "log.shape"
   ]
  },
  {
   "cell_type": "code",
   "execution_count": 56,
   "metadata": {
    "collapsed": true
   },
   "outputs": [],
   "source": [
    "# Define which entry we're in\n",
    "# There's got to be a better way to do this with an iterator...\n",
    "entry_ind = -1\n",
    "\n",
    "def update_entry(x):\n",
    "    global entry_ind\n",
    "    if x['entry'] == \"Retrieving contents...\":\n",
    "        entry_ind += 1\n",
    "    return(entry_ind)\n",
    "\n",
    "\n",
    "# Flag Errors\n",
    "def flag_error(x):\n",
    "    text = x.entry.lower()\n",
    "    if text.find('warning') > -1 or text.find('error') > -1:\n",
    "        return(True)\n",
    "    else:\n",
    "        return(False)\n",
    "    \n",
    "\n",
    "def extract_err_class(error_text):\n",
    "    start = error_text.find('<class ')\n",
    "    end = error_text.find(\"'>:\")\n",
    "    if start > -1 and end > -1:\n",
    "        err_class = error_text[start : (end + 2)]\n",
    "    else:\n",
    "        err_class = ''\n",
    "    return(err_class)"
   ]
  },
  {
   "cell_type": "code",
   "execution_count": 57,
   "metadata": {
    "collapsed": true
   },
   "outputs": [],
   "source": [
    "log['entry_ind'] = log.apply(lambda x: update_entry(x), axis=1)\n",
    "log['is_error'] = log.apply(lambda x: flag_error(x), axis=1)\n",
    "log['err_class'] = log.entry.apply(lambda x: extract_err_class(x))"
   ]
  },
  {
   "cell_type": "code",
   "execution_count": 58,
   "metadata": {
    "collapsed": false
   },
   "outputs": [
    {
     "data": {
      "text/plain": [
       "(189957, 5)"
      ]
     },
     "execution_count": 58,
     "metadata": {},
     "output_type": "execute_result"
    }
   ],
   "source": [
    "log.shape"
   ]
  },
  {
   "cell_type": "code",
   "execution_count": 59,
   "metadata": {
    "collapsed": false
   },
   "outputs": [
    {
     "data": {
      "text/html": [
       "<div>\n",
       "<table border=\"1\" class=\"dataframe\">\n",
       "  <thead>\n",
       "    <tr style=\"text-align: right;\">\n",
       "      <th></th>\n",
       "      <th>entry</th>\n",
       "      <th>day</th>\n",
       "      <th>entry_ind</th>\n",
       "      <th>is_error</th>\n",
       "      <th>err_class</th>\n",
       "    </tr>\n",
       "  </thead>\n",
       "  <tbody>\n",
       "    <tr>\n",
       "      <th>2017-03-14 05:00:02</th>\n",
       "      <td>Retrieving contents...</td>\n",
       "      <td>2017-03-14</td>\n",
       "      <td>0</td>\n",
       "      <td>False</td>\n",
       "      <td></td>\n",
       "    </tr>\n",
       "    <tr>\n",
       "      <th>2017-03-14 05:00:02</th>\n",
       "      <td>Total feeedss to visit: 250</td>\n",
       "      <td>2017-03-14</td>\n",
       "      <td>0</td>\n",
       "      <td>False</td>\n",
       "      <td></td>\n",
       "    </tr>\n",
       "    <tr>\n",
       "      <th>2017-03-14 05:00:02</th>\n",
       "      <td>Creating 8 Tor openers...</td>\n",
       "      <td>2017-03-14</td>\n",
       "      <td>0</td>\n",
       "      <td>False</td>\n",
       "      <td></td>\n",
       "    </tr>\n",
       "    <tr>\n",
       "      <th>2017-03-14 05:00:04</th>\n",
       "      <td>IP Used: b'62.210.246.163'</td>\n",
       "      <td>2017-03-14</td>\n",
       "      <td>0</td>\n",
       "      <td>False</td>\n",
       "      <td></td>\n",
       "    </tr>\n",
       "    <tr>\n",
       "      <th>2017-03-14 05:00:06</th>\n",
       "      <td>Total entries retrieved from https://www.thegu...</td>\n",
       "      <td>2017-03-14</td>\n",
       "      <td>0</td>\n",
       "      <td>False</td>\n",
       "      <td></td>\n",
       "    </tr>\n",
       "  </tbody>\n",
       "</table>\n",
       "</div>"
      ],
      "text/plain": [
       "                                                                 entry  \\\n",
       "2017-03-14 05:00:02                             Retrieving contents...   \n",
       "2017-03-14 05:00:02                        Total feeedss to visit: 250   \n",
       "2017-03-14 05:00:02                          Creating 8 Tor openers...   \n",
       "2017-03-14 05:00:04                         IP Used: b'62.210.246.163'   \n",
       "2017-03-14 05:00:06  Total entries retrieved from https://www.thegu...   \n",
       "\n",
       "                            day  entry_ind is_error err_class  \n",
       "2017-03-14 05:00:02  2017-03-14          0    False            \n",
       "2017-03-14 05:00:02  2017-03-14          0    False            \n",
       "2017-03-14 05:00:02  2017-03-14          0    False            \n",
       "2017-03-14 05:00:04  2017-03-14          0    False            \n",
       "2017-03-14 05:00:06  2017-03-14          0    False            "
      ]
     },
     "execution_count": 59,
     "metadata": {},
     "output_type": "execute_result"
    }
   ],
   "source": [
    "log.head()"
   ]
  },
  {
   "cell_type": "code",
   "execution_count": 60,
   "metadata": {
    "collapsed": false
   },
   "outputs": [
    {
     "data": {
      "text/html": [
       "<div>\n",
       "<table border=\"1\" class=\"dataframe\">\n",
       "  <thead>\n",
       "    <tr style=\"text-align: right;\">\n",
       "      <th></th>\n",
       "      <th>entry</th>\n",
       "      <th>day</th>\n",
       "      <th>entry_ind</th>\n",
       "      <th>is_error</th>\n",
       "      <th>err_class</th>\n",
       "    </tr>\n",
       "  </thead>\n",
       "  <tbody>\n",
       "    <tr>\n",
       "      <th>2017-04-24 20:38:47</th>\n",
       "      <td>Total new links added: 0</td>\n",
       "      <td>2017-04-24</td>\n",
       "      <td>390</td>\n",
       "      <td>False</td>\n",
       "      <td></td>\n",
       "    </tr>\n",
       "    <tr>\n",
       "      <th>2017-04-24 20:38:50</th>\n",
       "      <td>Total entries retrieved from https://phys.org/...</td>\n",
       "      <td>2017-04-24</td>\n",
       "      <td>390</td>\n",
       "      <td>False</td>\n",
       "      <td></td>\n",
       "    </tr>\n",
       "    <tr>\n",
       "      <th>2017-04-24 20:38:51</th>\n",
       "      <td>Total new links added: 0</td>\n",
       "      <td>2017-04-24</td>\n",
       "      <td>390</td>\n",
       "      <td>False</td>\n",
       "      <td></td>\n",
       "    </tr>\n",
       "    <tr>\n",
       "      <th>2017-04-24 20:38:53</th>\n",
       "      <td>Total entries retrieved from https://phys.org/...</td>\n",
       "      <td>2017-04-24</td>\n",
       "      <td>390</td>\n",
       "      <td>False</td>\n",
       "      <td></td>\n",
       "    </tr>\n",
       "    <tr>\n",
       "      <th>2017-04-24 20:38:54</th>\n",
       "      <td>Total new links added: 0</td>\n",
       "      <td>2017-04-24</td>\n",
       "      <td>390</td>\n",
       "      <td>False</td>\n",
       "      <td></td>\n",
       "    </tr>\n",
       "  </tbody>\n",
       "</table>\n",
       "</div>"
      ],
      "text/plain": [
       "                                                                 entry  \\\n",
       "2017-04-24 20:38:47                           Total new links added: 0   \n",
       "2017-04-24 20:38:50  Total entries retrieved from https://phys.org/...   \n",
       "2017-04-24 20:38:51                           Total new links added: 0   \n",
       "2017-04-24 20:38:53  Total entries retrieved from https://phys.org/...   \n",
       "2017-04-24 20:38:54                           Total new links added: 0   \n",
       "\n",
       "                            day  entry_ind is_error err_class  \n",
       "2017-04-24 20:38:47  2017-04-24        390    False            \n",
       "2017-04-24 20:38:50  2017-04-24        390    False            \n",
       "2017-04-24 20:38:51  2017-04-24        390    False            \n",
       "2017-04-24 20:38:53  2017-04-24        390    False            \n",
       "2017-04-24 20:38:54  2017-04-24        390    False            "
      ]
     },
     "execution_count": 60,
     "metadata": {},
     "output_type": "execute_result"
    }
   ],
   "source": [
    "log.tail()"
   ]
  },
  {
   "cell_type": "markdown",
   "metadata": {},
   "source": [
    "## Investiate Errors"
   ]
  },
  {
   "cell_type": "code",
   "execution_count": 61,
   "metadata": {
    "collapsed": true
   },
   "outputs": [],
   "source": [
    "errors = log[log.is_error==True].copy()"
   ]
  },
  {
   "cell_type": "code",
   "execution_count": 62,
   "metadata": {
    "collapsed": false
   },
   "outputs": [
    {
     "data": {
      "text/plain": [
       "(1479, 5)"
      ]
     },
     "execution_count": 62,
     "metadata": {},
     "output_type": "execute_result"
    }
   ],
   "source": [
    "errors.shape"
   ]
  },
  {
   "cell_type": "code",
   "execution_count": 63,
   "metadata": {
    "collapsed": false
   },
   "outputs": [
    {
     "data": {
      "text/html": [
       "<div>\n",
       "<table border=\"1\" class=\"dataframe\">\n",
       "  <thead>\n",
       "    <tr style=\"text-align: right;\">\n",
       "      <th></th>\n",
       "      <th>entry</th>\n",
       "      <th>day</th>\n",
       "      <th>entry_ind</th>\n",
       "      <th>is_error</th>\n",
       "      <th>err_class</th>\n",
       "    </tr>\n",
       "  </thead>\n",
       "  <tbody>\n",
       "    <tr>\n",
       "      <th>2017-03-14 05:08:13</th>\n",
       "      <td>Feed http://www.ft.com/rss/world/mideast/econo...</td>\n",
       "      <td>2017-03-14</td>\n",
       "      <td>0</td>\n",
       "      <td>True</td>\n",
       "      <td>&lt;class 'urllib.error.HTTPError'&gt;</td>\n",
       "    </tr>\n",
       "    <tr>\n",
       "      <th>2017-03-14 05:09:12</th>\n",
       "      <td>Feed http://www.ft.com/rss/management/connecte...</td>\n",
       "      <td>2017-03-14</td>\n",
       "      <td>0</td>\n",
       "      <td>True</td>\n",
       "      <td>&lt;class 'urllib.error.HTTPError'&gt;</td>\n",
       "    </tr>\n",
       "    <tr>\n",
       "      <th>2017-03-14 06:08:19</th>\n",
       "      <td>Feed http://www.ft.com/rss/world/mideast/econo...</td>\n",
       "      <td>2017-03-14</td>\n",
       "      <td>1</td>\n",
       "      <td>True</td>\n",
       "      <td>&lt;class 'urllib.error.HTTPError'&gt;</td>\n",
       "    </tr>\n",
       "    <tr>\n",
       "      <th>2017-03-14 06:09:06</th>\n",
       "      <td>Feed http://www.ft.com/rss/management/connecte...</td>\n",
       "      <td>2017-03-14</td>\n",
       "      <td>1</td>\n",
       "      <td>True</td>\n",
       "      <td>&lt;class 'urllib.error.HTTPError'&gt;</td>\n",
       "    </tr>\n",
       "    <tr>\n",
       "      <th>2017-03-22 17:11:10</th>\n",
       "      <td>Feed http://feeds.foxnews.com/foxnews/latest: ...</td>\n",
       "      <td>2017-03-22</td>\n",
       "      <td>90</td>\n",
       "      <td>True</td>\n",
       "      <td>&lt;class 'http.client.IncompleteRead'&gt;</td>\n",
       "    </tr>\n",
       "  </tbody>\n",
       "</table>\n",
       "</div>"
      ],
      "text/plain": [
       "                                                                 entry  \\\n",
       "2017-03-14 05:08:13  Feed http://www.ft.com/rss/world/mideast/econo...   \n",
       "2017-03-14 05:09:12  Feed http://www.ft.com/rss/management/connecte...   \n",
       "2017-03-14 06:08:19  Feed http://www.ft.com/rss/world/mideast/econo...   \n",
       "2017-03-14 06:09:06  Feed http://www.ft.com/rss/management/connecte...   \n",
       "2017-03-22 17:11:10  Feed http://feeds.foxnews.com/foxnews/latest: ...   \n",
       "\n",
       "                            day  entry_ind is_error  \\\n",
       "2017-03-14 05:08:13  2017-03-14          0     True   \n",
       "2017-03-14 05:09:12  2017-03-14          0     True   \n",
       "2017-03-14 06:08:19  2017-03-14          1     True   \n",
       "2017-03-14 06:09:06  2017-03-14          1     True   \n",
       "2017-03-22 17:11:10  2017-03-22         90     True   \n",
       "\n",
       "                                                err_class  \n",
       "2017-03-14 05:08:13      <class 'urllib.error.HTTPError'>  \n",
       "2017-03-14 05:09:12      <class 'urllib.error.HTTPError'>  \n",
       "2017-03-14 06:08:19      <class 'urllib.error.HTTPError'>  \n",
       "2017-03-14 06:09:06      <class 'urllib.error.HTTPError'>  \n",
       "2017-03-22 17:11:10  <class 'http.client.IncompleteRead'>  "
      ]
     },
     "execution_count": 63,
     "metadata": {},
     "output_type": "execute_result"
    }
   ],
   "source": [
    "errors.head()"
   ]
  },
  {
   "cell_type": "code",
   "execution_count": 64,
   "metadata": {
    "collapsed": false
   },
   "outputs": [
    {
     "data": {
      "text/html": [
       "<div>\n",
       "<table border=\"1\" class=\"dataframe\">\n",
       "  <thead>\n",
       "    <tr style=\"text-align: right;\">\n",
       "      <th></th>\n",
       "      <th>entry</th>\n",
       "      <th>day</th>\n",
       "      <th>entry_ind</th>\n",
       "      <th>is_error</th>\n",
       "      <th>err_class</th>\n",
       "    </tr>\n",
       "  </thead>\n",
       "  <tbody>\n",
       "    <tr>\n",
       "      <th>2017-04-24 16:02:09</th>\n",
       "      <td>Feed https://phys.org/rss-feed/chemistry-news/...</td>\n",
       "      <td>2017-04-24</td>\n",
       "      <td>388</td>\n",
       "      <td>True</td>\n",
       "      <td>&lt;class 'urllib.error.URLError'&gt;</td>\n",
       "    </tr>\n",
       "    <tr>\n",
       "      <th>2017-04-24 16:02:10</th>\n",
       "      <td>Feed https://phys.org/rss-feed/chemistry-news/...</td>\n",
       "      <td>2017-04-24</td>\n",
       "      <td>388</td>\n",
       "      <td>True</td>\n",
       "      <td>&lt;class 'urllib.error.URLError'&gt;</td>\n",
       "    </tr>\n",
       "    <tr>\n",
       "      <th>2017-04-24 16:02:11</th>\n",
       "      <td>Feed https://phys.org/rss-feed/chemistry-news/...</td>\n",
       "      <td>2017-04-24</td>\n",
       "      <td>388</td>\n",
       "      <td>True</td>\n",
       "      <td>&lt;class 'urllib.error.URLError'&gt;</td>\n",
       "    </tr>\n",
       "    <tr>\n",
       "      <th>2017-04-24 16:02:12</th>\n",
       "      <td>Feed https://phys.org/rss-feed/chemistry-news/...</td>\n",
       "      <td>2017-04-24</td>\n",
       "      <td>388</td>\n",
       "      <td>True</td>\n",
       "      <td>&lt;class 'urllib.error.URLError'&gt;</td>\n",
       "    </tr>\n",
       "    <tr>\n",
       "      <th>2017-04-24 16:02:13</th>\n",
       "      <td>Feed https://phys.org/rss-feed/chemistry-news/...</td>\n",
       "      <td>2017-04-24</td>\n",
       "      <td>388</td>\n",
       "      <td>True</td>\n",
       "      <td>&lt;class 'urllib.error.URLError'&gt;</td>\n",
       "    </tr>\n",
       "  </tbody>\n",
       "</table>\n",
       "</div>"
      ],
      "text/plain": [
       "                                                                 entry  \\\n",
       "2017-04-24 16:02:09  Feed https://phys.org/rss-feed/chemistry-news/...   \n",
       "2017-04-24 16:02:10  Feed https://phys.org/rss-feed/chemistry-news/...   \n",
       "2017-04-24 16:02:11  Feed https://phys.org/rss-feed/chemistry-news/...   \n",
       "2017-04-24 16:02:12  Feed https://phys.org/rss-feed/chemistry-news/...   \n",
       "2017-04-24 16:02:13  Feed https://phys.org/rss-feed/chemistry-news/...   \n",
       "\n",
       "                            day  entry_ind is_error  \\\n",
       "2017-04-24 16:02:09  2017-04-24        388     True   \n",
       "2017-04-24 16:02:10  2017-04-24        388     True   \n",
       "2017-04-24 16:02:11  2017-04-24        388     True   \n",
       "2017-04-24 16:02:12  2017-04-24        388     True   \n",
       "2017-04-24 16:02:13  2017-04-24        388     True   \n",
       "\n",
       "                                           err_class  \n",
       "2017-04-24 16:02:09  <class 'urllib.error.URLError'>  \n",
       "2017-04-24 16:02:10  <class 'urllib.error.URLError'>  \n",
       "2017-04-24 16:02:11  <class 'urllib.error.URLError'>  \n",
       "2017-04-24 16:02:12  <class 'urllib.error.URLError'>  \n",
       "2017-04-24 16:02:13  <class 'urllib.error.URLError'>  "
      ]
     },
     "execution_count": 64,
     "metadata": {},
     "output_type": "execute_result"
    }
   ],
   "source": [
    "errors.tail()"
   ]
  },
  {
   "cell_type": "code",
   "execution_count": 65,
   "metadata": {
    "collapsed": false
   },
   "outputs": [
    {
     "name": "stdout",
     "output_type": "stream",
     "text": [
      "<class 'urllib.error.HTTPError'>\n",
      "<class 'http.client.IncompleteRead'>\n",
      "<class 'mysql.connector.errors.DataError'>\n",
      "<class 'UnboundLocalError'>\n",
      "<class 'urllib.error.URLError'>\n",
      "<class 'KeyError'>\n",
      "<class 'mysql.connector.errors.DatabaseError'>\n"
     ]
    }
   ],
   "source": [
    "for e in errors.err_class.unique():\n",
    "    print(e)"
   ]
  },
  {
   "cell_type": "markdown",
   "metadata": {},
   "source": [
    "# DB Errors"
   ]
  },
  {
   "cell_type": "code",
   "execution_count": 66,
   "metadata": {
    "collapsed": false
   },
   "outputs": [
    {
     "data": {
      "text/plain": [
       "(15, 5)"
      ]
     },
     "execution_count": 66,
     "metadata": {},
     "output_type": "execute_result"
    }
   ],
   "source": [
    "ke = errors[errors.err_class==\"<class 'mysql.connector.errors.DatabaseError'>\"].copy()\n",
    "ke.shape"
   ]
  },
  {
   "cell_type": "code",
   "execution_count": 67,
   "metadata": {
    "collapsed": false
   },
   "outputs": [
    {
     "data": {
      "text/html": [
       "<div>\n",
       "<table border=\"1\" class=\"dataframe\">\n",
       "  <thead>\n",
       "    <tr style=\"text-align: right;\">\n",
       "      <th></th>\n",
       "      <th>entry</th>\n",
       "      <th>day</th>\n",
       "      <th>entry_ind</th>\n",
       "      <th>is_error</th>\n",
       "      <th>err_class</th>\n",
       "    </tr>\n",
       "  </thead>\n",
       "  <tbody>\n",
       "    <tr>\n",
       "      <th>2017-04-18 08:07:01</th>\n",
       "      <td>Error encountered: &lt;class 'mysql.connector.err...</td>\n",
       "      <td>2017-04-18</td>\n",
       "      <td>328</td>\n",
       "      <td>True</td>\n",
       "      <td>&lt;class 'mysql.connector.errors.DatabaseError'&gt;</td>\n",
       "    </tr>\n",
       "    <tr>\n",
       "      <th>2017-04-18 09:06:40</th>\n",
       "      <td>Error encountered: &lt;class 'mysql.connector.err...</td>\n",
       "      <td>2017-04-18</td>\n",
       "      <td>329</td>\n",
       "      <td>True</td>\n",
       "      <td>&lt;class 'mysql.connector.errors.DatabaseError'&gt;</td>\n",
       "    </tr>\n",
       "    <tr>\n",
       "      <th>2017-04-18 10:26:28</th>\n",
       "      <td>Error encountered: &lt;class 'mysql.connector.err...</td>\n",
       "      <td>2017-04-18</td>\n",
       "      <td>330</td>\n",
       "      <td>True</td>\n",
       "      <td>&lt;class 'mysql.connector.errors.DatabaseError'&gt;</td>\n",
       "    </tr>\n",
       "    <tr>\n",
       "      <th>2017-04-18 11:05:03</th>\n",
       "      <td>Error encountered: &lt;class 'mysql.connector.err...</td>\n",
       "      <td>2017-04-18</td>\n",
       "      <td>331</td>\n",
       "      <td>True</td>\n",
       "      <td>&lt;class 'mysql.connector.errors.DatabaseError'&gt;</td>\n",
       "    </tr>\n",
       "    <tr>\n",
       "      <th>2017-04-18 12:06:43</th>\n",
       "      <td>Error encountered: &lt;class 'mysql.connector.err...</td>\n",
       "      <td>2017-04-18</td>\n",
       "      <td>332</td>\n",
       "      <td>True</td>\n",
       "      <td>&lt;class 'mysql.connector.errors.DatabaseError'&gt;</td>\n",
       "    </tr>\n",
       "    <tr>\n",
       "      <th>2017-04-18 16:07:46</th>\n",
       "      <td>Error encountered: &lt;class 'mysql.connector.err...</td>\n",
       "      <td>2017-04-18</td>\n",
       "      <td>336</td>\n",
       "      <td>True</td>\n",
       "      <td>&lt;class 'mysql.connector.errors.DatabaseError'&gt;</td>\n",
       "    </tr>\n",
       "    <tr>\n",
       "      <th>2017-04-18 17:07:10</th>\n",
       "      <td>Error encountered: &lt;class 'mysql.connector.err...</td>\n",
       "      <td>2017-04-18</td>\n",
       "      <td>337</td>\n",
       "      <td>True</td>\n",
       "      <td>&lt;class 'mysql.connector.errors.DatabaseError'&gt;</td>\n",
       "    </tr>\n",
       "    <tr>\n",
       "      <th>2017-04-19 07:07:36</th>\n",
       "      <td>Error encountered: &lt;class 'mysql.connector.err...</td>\n",
       "      <td>2017-04-19</td>\n",
       "      <td>340</td>\n",
       "      <td>True</td>\n",
       "      <td>&lt;class 'mysql.connector.errors.DatabaseError'&gt;</td>\n",
       "    </tr>\n",
       "    <tr>\n",
       "      <th>2017-04-19 08:06:40</th>\n",
       "      <td>Error encountered: &lt;class 'mysql.connector.err...</td>\n",
       "      <td>2017-04-19</td>\n",
       "      <td>341</td>\n",
       "      <td>True</td>\n",
       "      <td>&lt;class 'mysql.connector.errors.DatabaseError'&gt;</td>\n",
       "    </tr>\n",
       "    <tr>\n",
       "      <th>2017-04-20 14:07:11</th>\n",
       "      <td>Error encountered: &lt;class 'mysql.connector.err...</td>\n",
       "      <td>2017-04-20</td>\n",
       "      <td>360</td>\n",
       "      <td>True</td>\n",
       "      <td>&lt;class 'mysql.connector.errors.DatabaseError'&gt;</td>\n",
       "    </tr>\n",
       "    <tr>\n",
       "      <th>2017-04-24 05:07:43</th>\n",
       "      <td>Error encountered: &lt;class 'mysql.connector.err...</td>\n",
       "      <td>2017-04-24</td>\n",
       "      <td>377</td>\n",
       "      <td>True</td>\n",
       "      <td>&lt;class 'mysql.connector.errors.DatabaseError'&gt;</td>\n",
       "    </tr>\n",
       "    <tr>\n",
       "      <th>2017-04-24 06:07:17</th>\n",
       "      <td>Error encountered: &lt;class 'mysql.connector.err...</td>\n",
       "      <td>2017-04-24</td>\n",
       "      <td>378</td>\n",
       "      <td>True</td>\n",
       "      <td>&lt;class 'mysql.connector.errors.DatabaseError'&gt;</td>\n",
       "    </tr>\n",
       "    <tr>\n",
       "      <th>2017-04-24 08:06:09</th>\n",
       "      <td>Error encountered: &lt;class 'mysql.connector.err...</td>\n",
       "      <td>2017-04-24</td>\n",
       "      <td>380</td>\n",
       "      <td>True</td>\n",
       "      <td>&lt;class 'mysql.connector.errors.DatabaseError'&gt;</td>\n",
       "    </tr>\n",
       "    <tr>\n",
       "      <th>2017-04-24 09:07:46</th>\n",
       "      <td>Error encountered: &lt;class 'mysql.connector.err...</td>\n",
       "      <td>2017-04-24</td>\n",
       "      <td>381</td>\n",
       "      <td>True</td>\n",
       "      <td>&lt;class 'mysql.connector.errors.DatabaseError'&gt;</td>\n",
       "    </tr>\n",
       "    <tr>\n",
       "      <th>2017-04-24 10:05:18</th>\n",
       "      <td>Error encountered: &lt;class 'mysql.connector.err...</td>\n",
       "      <td>2017-04-24</td>\n",
       "      <td>382</td>\n",
       "      <td>True</td>\n",
       "      <td>&lt;class 'mysql.connector.errors.DatabaseError'&gt;</td>\n",
       "    </tr>\n",
       "  </tbody>\n",
       "</table>\n",
       "</div>"
      ],
      "text/plain": [
       "                                                                 entry  \\\n",
       "2017-04-18 08:07:01  Error encountered: <class 'mysql.connector.err...   \n",
       "2017-04-18 09:06:40  Error encountered: <class 'mysql.connector.err...   \n",
       "2017-04-18 10:26:28  Error encountered: <class 'mysql.connector.err...   \n",
       "2017-04-18 11:05:03  Error encountered: <class 'mysql.connector.err...   \n",
       "2017-04-18 12:06:43  Error encountered: <class 'mysql.connector.err...   \n",
       "2017-04-18 16:07:46  Error encountered: <class 'mysql.connector.err...   \n",
       "2017-04-18 17:07:10  Error encountered: <class 'mysql.connector.err...   \n",
       "2017-04-19 07:07:36  Error encountered: <class 'mysql.connector.err...   \n",
       "2017-04-19 08:06:40  Error encountered: <class 'mysql.connector.err...   \n",
       "2017-04-20 14:07:11  Error encountered: <class 'mysql.connector.err...   \n",
       "2017-04-24 05:07:43  Error encountered: <class 'mysql.connector.err...   \n",
       "2017-04-24 06:07:17  Error encountered: <class 'mysql.connector.err...   \n",
       "2017-04-24 08:06:09  Error encountered: <class 'mysql.connector.err...   \n",
       "2017-04-24 09:07:46  Error encountered: <class 'mysql.connector.err...   \n",
       "2017-04-24 10:05:18  Error encountered: <class 'mysql.connector.err...   \n",
       "\n",
       "                            day  entry_ind is_error  \\\n",
       "2017-04-18 08:07:01  2017-04-18        328     True   \n",
       "2017-04-18 09:06:40  2017-04-18        329     True   \n",
       "2017-04-18 10:26:28  2017-04-18        330     True   \n",
       "2017-04-18 11:05:03  2017-04-18        331     True   \n",
       "2017-04-18 12:06:43  2017-04-18        332     True   \n",
       "2017-04-18 16:07:46  2017-04-18        336     True   \n",
       "2017-04-18 17:07:10  2017-04-18        337     True   \n",
       "2017-04-19 07:07:36  2017-04-19        340     True   \n",
       "2017-04-19 08:06:40  2017-04-19        341     True   \n",
       "2017-04-20 14:07:11  2017-04-20        360     True   \n",
       "2017-04-24 05:07:43  2017-04-24        377     True   \n",
       "2017-04-24 06:07:17  2017-04-24        378     True   \n",
       "2017-04-24 08:06:09  2017-04-24        380     True   \n",
       "2017-04-24 09:07:46  2017-04-24        381     True   \n",
       "2017-04-24 10:05:18  2017-04-24        382     True   \n",
       "\n",
       "                                                          err_class  \n",
       "2017-04-18 08:07:01  <class 'mysql.connector.errors.DatabaseError'>  \n",
       "2017-04-18 09:06:40  <class 'mysql.connector.errors.DatabaseError'>  \n",
       "2017-04-18 10:26:28  <class 'mysql.connector.errors.DatabaseError'>  \n",
       "2017-04-18 11:05:03  <class 'mysql.connector.errors.DatabaseError'>  \n",
       "2017-04-18 12:06:43  <class 'mysql.connector.errors.DatabaseError'>  \n",
       "2017-04-18 16:07:46  <class 'mysql.connector.errors.DatabaseError'>  \n",
       "2017-04-18 17:07:10  <class 'mysql.connector.errors.DatabaseError'>  \n",
       "2017-04-19 07:07:36  <class 'mysql.connector.errors.DatabaseError'>  \n",
       "2017-04-19 08:06:40  <class 'mysql.connector.errors.DatabaseError'>  \n",
       "2017-04-20 14:07:11  <class 'mysql.connector.errors.DatabaseError'>  \n",
       "2017-04-24 05:07:43  <class 'mysql.connector.errors.DatabaseError'>  \n",
       "2017-04-24 06:07:17  <class 'mysql.connector.errors.DatabaseError'>  \n",
       "2017-04-24 08:06:09  <class 'mysql.connector.errors.DatabaseError'>  \n",
       "2017-04-24 09:07:46  <class 'mysql.connector.errors.DatabaseError'>  \n",
       "2017-04-24 10:05:18  <class 'mysql.connector.errors.DatabaseError'>  "
      ]
     },
     "execution_count": 67,
     "metadata": {},
     "output_type": "execute_result"
    }
   ],
   "source": [
    "ke"
   ]
  },
  {
   "cell_type": "code",
   "execution_count": 68,
   "metadata": {
    "collapsed": false
   },
   "outputs": [
    {
     "data": {
      "text/plain": [
       "array([ 'Error encountered: <class \\'mysql.connector.errors.DatabaseError\\'>: (1366, \"1366 (HY000): Incorrect string value: \\'\\\\\\\\xF0\\\\\\\\x9F\\\\\\\\x87\\\\\\\\xBA\\\\\\\\xF0\\\\\\\\x9F...\\' for column \\'summary\\' at row 1\", \\'HY000\\')',\n",
       "       'Error encountered: <class \\'mysql.connector.errors.DatabaseError\\'>: (1366, \"1366 (HY000): Incorrect string value: \\'\\\\\\\\xF0\\\\\\\\x9F\\\\\\\\x94\\\\\\\\xB4 N...\\' for column \\'summary\\' at row 1\", \\'HY000\\')',\n",
       "       'Error encountered: <class \\'mysql.connector.errors.DatabaseError\\'>: (1366, \"1366 (HY000): Incorrect string value: \\'\\\\\\\\xF0\\\\\\\\x9F\\\\\\\\x90\\\\\\\\xB8 (...\\' for column \\'summary\\' at row 1\", \\'HY000\\')'], dtype=object)"
      ]
     },
     "execution_count": 68,
     "metadata": {},
     "output_type": "execute_result"
    }
   ],
   "source": [
    "ke.entry.unique()"
   ]
  },
  {
   "cell_type": "markdown",
   "metadata": {},
   "source": [
    "#### Format to different text type?"
   ]
  },
  {
   "cell_type": "markdown",
   "metadata": {},
   "source": [
    "### Key Errors"
   ]
  },
  {
   "cell_type": "code",
   "execution_count": 69,
   "metadata": {
    "collapsed": false
   },
   "outputs": [
    {
     "data": {
      "text/plain": [
       "(4, 5)"
      ]
     },
     "execution_count": 69,
     "metadata": {},
     "output_type": "execute_result"
    }
   ],
   "source": [
    "te = errors[errors.err_class == \"<class 'KeyError'>\"].copy()\n",
    "te.shape"
   ]
  },
  {
   "cell_type": "code",
   "execution_count": 70,
   "metadata": {
    "collapsed": false
   },
   "outputs": [
    {
     "data": {
      "text/html": [
       "<div>\n",
       "<table border=\"1\" class=\"dataframe\">\n",
       "  <thead>\n",
       "    <tr style=\"text-align: right;\">\n",
       "      <th></th>\n",
       "      <th>entry</th>\n",
       "      <th>day</th>\n",
       "      <th>entry_ind</th>\n",
       "      <th>is_error</th>\n",
       "      <th>err_class</th>\n",
       "    </tr>\n",
       "  </thead>\n",
       "  <tbody>\n",
       "    <tr>\n",
       "      <th>2017-04-07 07:04:17</th>\n",
       "      <td>Feed http://feeds.bbci.co.uk/news/video_and_au...</td>\n",
       "      <td>2017-04-07</td>\n",
       "      <td>236</td>\n",
       "      <td>True</td>\n",
       "      <td>&lt;class 'KeyError'&gt;</td>\n",
       "    </tr>\n",
       "    <tr>\n",
       "      <th>2017-04-07 07:04:28</th>\n",
       "      <td>Feed http://feeds.bbci.co.uk/news/video_and_au...</td>\n",
       "      <td>2017-04-07</td>\n",
       "      <td>236</td>\n",
       "      <td>True</td>\n",
       "      <td>&lt;class 'KeyError'&gt;</td>\n",
       "    </tr>\n",
       "    <tr>\n",
       "      <th>2017-04-24 05:07:55</th>\n",
       "      <td>Feed http://www.ft.com/rss/home/middleeast: &lt;c...</td>\n",
       "      <td>2017-04-24</td>\n",
       "      <td>377</td>\n",
       "      <td>True</td>\n",
       "      <td>&lt;class 'KeyError'&gt;</td>\n",
       "    </tr>\n",
       "    <tr>\n",
       "      <th>2017-04-24 06:07:25</th>\n",
       "      <td>Feed http://www.ft.com/rss/home/middleeast: &lt;c...</td>\n",
       "      <td>2017-04-24</td>\n",
       "      <td>378</td>\n",
       "      <td>True</td>\n",
       "      <td>&lt;class 'KeyError'&gt;</td>\n",
       "    </tr>\n",
       "  </tbody>\n",
       "</table>\n",
       "</div>"
      ],
      "text/plain": [
       "                                                                 entry  \\\n",
       "2017-04-07 07:04:17  Feed http://feeds.bbci.co.uk/news/video_and_au...   \n",
       "2017-04-07 07:04:28  Feed http://feeds.bbci.co.uk/news/video_and_au...   \n",
       "2017-04-24 05:07:55  Feed http://www.ft.com/rss/home/middleeast: <c...   \n",
       "2017-04-24 06:07:25  Feed http://www.ft.com/rss/home/middleeast: <c...   \n",
       "\n",
       "                            day  entry_ind is_error           err_class  \n",
       "2017-04-07 07:04:17  2017-04-07        236     True  <class 'KeyError'>  \n",
       "2017-04-07 07:04:28  2017-04-07        236     True  <class 'KeyError'>  \n",
       "2017-04-24 05:07:55  2017-04-24        377     True  <class 'KeyError'>  \n",
       "2017-04-24 06:07:25  2017-04-24        378     True  <class 'KeyError'>  "
      ]
     },
     "execution_count": 70,
     "metadata": {},
     "output_type": "execute_result"
    }
   ],
   "source": [
    "te"
   ]
  },
  {
   "cell_type": "code",
   "execution_count": 71,
   "metadata": {
    "collapsed": false
   },
   "outputs": [
    {
     "data": {
      "text/plain": [
       "array([ \"Feed http://feeds.bbci.co.uk/news/video_and_audio/world/rss.xml: <class 'KeyError'>: ('link',)\",\n",
       "       \"Feed http://feeds.bbci.co.uk/news/video_and_audio/technology/rss.xml: <class 'KeyError'>: ('link',)\",\n",
       "       \"Feed http://www.ft.com/rss/home/middleeast: <class 'KeyError'>: ('summary',)\"], dtype=object)"
      ]
     },
     "execution_count": 71,
     "metadata": {},
     "output_type": "execute_result"
    }
   ],
   "source": [
    "te.entry.unique()"
   ]
  },
  {
   "cell_type": "markdown",
   "metadata": {},
   "source": [
    "#### Not worth dealing with.."
   ]
  },
  {
   "cell_type": "markdown",
   "metadata": {},
   "source": [
    "### MySQL Connector Errors"
   ]
  },
  {
   "cell_type": "code",
   "execution_count": 76,
   "metadata": {
    "collapsed": true
   },
   "outputs": [],
   "source": [
    "err01 = \"<class 'mysql.connector.errors.DataError'>\"\n",
    "err02 = \"<class 'mysql.connector.errors.DatabaseError'>\""
   ]
  },
  {
   "cell_type": "markdown",
   "metadata": {},
   "source": [
    "#### Data Error"
   ]
  },
  {
   "cell_type": "code",
   "execution_count": 77,
   "metadata": {
    "collapsed": false
   },
   "outputs": [
    {
     "data": {
      "text/plain": [
       "(1, 5)"
      ]
     },
     "execution_count": 77,
     "metadata": {},
     "output_type": "execute_result"
    }
   ],
   "source": [
    "dee = errors[errors.err_class==err01]\n",
    "dee.shape"
   ]
  },
  {
   "cell_type": "code",
   "execution_count": 78,
   "metadata": {
    "collapsed": false
   },
   "outputs": [
    {
     "data": {
      "text/html": [
       "<div>\n",
       "<table border=\"1\" class=\"dataframe\">\n",
       "  <thead>\n",
       "    <tr style=\"text-align: right;\">\n",
       "      <th></th>\n",
       "      <th>entry</th>\n",
       "      <th>day</th>\n",
       "      <th>entry_ind</th>\n",
       "      <th>is_error</th>\n",
       "      <th>err_class</th>\n",
       "    </tr>\n",
       "  </thead>\n",
       "  <tbody>\n",
       "    <tr>\n",
       "      <th>2017-03-28 14:06:48</th>\n",
       "      <td>Error encountered: &lt;class 'mysql.connector.err...</td>\n",
       "      <td>2017-03-28</td>\n",
       "      <td>139</td>\n",
       "      <td>True</td>\n",
       "      <td>&lt;class 'mysql.connector.errors.DataError'&gt;</td>\n",
       "    </tr>\n",
       "  </tbody>\n",
       "</table>\n",
       "</div>"
      ],
      "text/plain": [
       "                                                                 entry  \\\n",
       "2017-03-28 14:06:48  Error encountered: <class 'mysql.connector.err...   \n",
       "\n",
       "                            day  entry_ind is_error  \\\n",
       "2017-03-28 14:06:48  2017-03-28        139     True   \n",
       "\n",
       "                                                      err_class  \n",
       "2017-03-28 14:06:48  <class 'mysql.connector.errors.DataError'>  "
      ]
     },
     "execution_count": 78,
     "metadata": {},
     "output_type": "execute_result"
    }
   ],
   "source": [
    "dee.tail()"
   ]
  },
  {
   "cell_type": "markdown",
   "metadata": {
    "collapsed": false
   },
   "source": [
    "Only 1, not a big deal..."
   ]
  },
  {
   "cell_type": "code",
   "execution_count": 79,
   "metadata": {
    "collapsed": false
   },
   "outputs": [
    {
     "data": {
      "text/plain": [
       "'Error encountered: <class \\'mysql.connector.errors.DataError\\'>: (1406, \"1406 (22001): Data too long for column \\'link\\' at row 1\", \\'22001\\')'"
      ]
     },
     "execution_count": 79,
     "metadata": {},
     "output_type": "execute_result"
    }
   ],
   "source": [
    "dee.entry[-1]"
   ]
  },
  {
   "cell_type": "markdown",
   "metadata": {},
   "source": [
    "#### DB Error"
   ]
  },
  {
   "cell_type": "code",
   "execution_count": 80,
   "metadata": {
    "collapsed": false
   },
   "outputs": [
    {
     "data": {
      "text/plain": [
       "(15, 5)"
      ]
     },
     "execution_count": 80,
     "metadata": {},
     "output_type": "execute_result"
    }
   ],
   "source": [
    "dee = errors[errors.err_class==err02]\n",
    "dee.shape"
   ]
  },
  {
   "cell_type": "code",
   "execution_count": 81,
   "metadata": {
    "collapsed": false
   },
   "outputs": [
    {
     "data": {
      "text/plain": [
       "DatetimeIndex(['2017-04-24 05:07:43', '2017-04-24 06:07:17',\n",
       "               '2017-04-24 08:06:09', '2017-04-24 09:07:46',\n",
       "               '2017-04-24 10:05:18'],\n",
       "              dtype='datetime64[ns]', freq=None)"
      ]
     },
     "execution_count": 81,
     "metadata": {},
     "output_type": "execute_result"
    }
   ],
   "source": [
    "dee.tail().index"
   ]
  },
  {
   "cell_type": "code",
   "execution_count": 82,
   "metadata": {
    "collapsed": false
   },
   "outputs": [
    {
     "data": {
      "text/plain": [
       "3"
      ]
     },
     "execution_count": 82,
     "metadata": {},
     "output_type": "execute_result"
    }
   ],
   "source": [
    "len(dee.entry.unique())"
   ]
  },
  {
   "cell_type": "code",
   "execution_count": 83,
   "metadata": {
    "collapsed": false
   },
   "outputs": [
    {
     "data": {
      "text/plain": [
       "array([ 'Error encountered: <class \\'mysql.connector.errors.DatabaseError\\'>: (1366, \"1366 (HY000): Incorrect string value: \\'\\\\\\\\xF0\\\\\\\\x9F\\\\\\\\x87\\\\\\\\xBA\\\\\\\\xF0\\\\\\\\x9F...\\' for column \\'summary\\' at row 1\", \\'HY000\\')',\n",
       "       'Error encountered: <class \\'mysql.connector.errors.DatabaseError\\'>: (1366, \"1366 (HY000): Incorrect string value: \\'\\\\\\\\xF0\\\\\\\\x9F\\\\\\\\x94\\\\\\\\xB4 N...\\' for column \\'summary\\' at row 1\", \\'HY000\\')',\n",
       "       'Error encountered: <class \\'mysql.connector.errors.DatabaseError\\'>: (1366, \"1366 (HY000): Incorrect string value: \\'\\\\\\\\xF0\\\\\\\\x9F\\\\\\\\x90\\\\\\\\xB8 (...\\' for column \\'summary\\' at row 1\", \\'HY000\\')'], dtype=object)"
      ]
     },
     "execution_count": 83,
     "metadata": {},
     "output_type": "execute_result"
    }
   ],
   "source": [
    "dee.entry.unique()"
   ]
  },
  {
   "cell_type": "markdown",
   "metadata": {
    "collapsed": false
   },
   "source": [
    "Strange, non-unicode string errors again.  Not worth fixing, perhaps..?"
   ]
  },
  {
   "cell_type": "code",
   "execution_count": 85,
   "metadata": {
    "collapsed": false
   },
   "outputs": [],
   "source": [
    "sec = pandas.tslib.Timedelta('1 second')"
   ]
  },
  {
   "cell_type": "code",
   "execution_count": 86,
   "metadata": {
    "collapsed": false
   },
   "outputs": [],
   "source": [
    "def get_err_contexts(errs):\n",
    "    contexts = []\n",
    "    for ind in errs.index:\n",
    "        i = 1\n",
    "        success = False\n",
    "        while not success:\n",
    "            sub = list(log[str(ind - i*sec)]['entry'])\n",
    "            if len(sub)== 0:\n",
    "                i += 1\n",
    "                if i > 3:\n",
    "                    success=True\n",
    "            else:\n",
    "                success = True\n",
    "                contexts.append({'index' : str(ind),\n",
    "                                 'context' :sub})\n",
    "    return(contexts)"
   ]
  },
  {
   "cell_type": "code",
   "execution_count": 87,
   "metadata": {
    "collapsed": false
   },
   "outputs": [],
   "source": [
    "cons = get_err_contexts(dee)"
   ]
  },
  {
   "cell_type": "code",
   "execution_count": 88,
   "metadata": {
    "collapsed": false
   },
   "outputs": [
    {
     "data": {
      "text/plain": [
       "[{'context': ['Total entries retrieved from http://feeds.feedburner.com/breitbart?format=xml: 46'],\n",
       "  'index': '2017-04-24 05:07:43'},\n",
       " {'context': ['Total entries retrieved from http://feeds.feedburner.com/breitbart?format=xml: 46'],\n",
       "  'index': '2017-04-24 06:07:17'},\n",
       " {'context': ['Total entries retrieved from http://feeds.feedburner.com/breitbart?format=xml: 47'],\n",
       "  'index': '2017-04-24 08:06:09'},\n",
       " {'context': ['Total entries retrieved from http://feeds.feedburner.com/breitbart?format=xml: 47'],\n",
       "  'index': '2017-04-24 09:07:46'},\n",
       " {'context': ['Total entries retrieved from http://feeds.feedburner.com/breitbart?format=xml: 47'],\n",
       "  'index': '2017-04-24 10:05:18'}]"
      ]
     },
     "execution_count": 88,
     "metadata": {},
     "output_type": "execute_result"
    }
   ],
   "source": [
    "cons[-5:]"
   ]
  },
  {
   "cell_type": "code",
   "execution_count": 89,
   "metadata": {
    "collapsed": false
   },
   "outputs": [
    {
     "name": "stdout",
     "output_type": "stream",
     "text": [
      "Error encountered: <class 'mysql.connector.errors.DatabaseError'>: (1366, \"1366 (HY000): Incorrect string value: '\\\\xF0\\\\x9F\\\\x90\\\\xB8 (...' for column 'summary' at row 1\", 'HY000')\n",
      "Error encountered: <class 'mysql.connector.errors.DatabaseError'>: (1366, \"1366 (HY000): Incorrect string value: '\\\\xF0\\\\x9F\\\\x90\\\\xB8 (...' for column 'summary' at row 1\", 'HY000')\n",
      "Error encountered: <class 'mysql.connector.errors.DatabaseError'>: (1366, \"1366 (HY000): Incorrect string value: '\\\\xF0\\\\x9F\\\\x90\\\\xB8 (...' for column 'summary' at row 1\", 'HY000')\n",
      "Error encountered: <class 'mysql.connector.errors.DatabaseError'>: (1366, \"1366 (HY000): Incorrect string value: '\\\\xF0\\\\x9F\\\\x90\\\\xB8 (...' for column 'summary' at row 1\", 'HY000')\n",
      "Error encountered: <class 'mysql.connector.errors.DatabaseError'>: (1366, \"1366 (HY000): Incorrect string value: '\\\\xF0\\\\x9F\\\\x90\\\\xB8 (...' for column 'summary' at row 1\", 'HY000')\n"
     ]
    }
   ],
   "source": [
    "for i in range(-5,0):\n",
    "    print(dee[cons[i]['index']]['entry'][0])"
   ]
  },
  {
   "cell_type": "code",
   "execution_count": 94,
   "metadata": {
    "collapsed": false
   },
   "outputs": [],
   "source": [
    "feed_data = utils.load_feedlist_data('breitbart_feedlist.xml')"
   ]
  },
  {
   "cell_type": "code",
   "execution_count": 95,
   "metadata": {
    "collapsed": false
   },
   "outputs": [
    {
     "name": "stdout",
     "output_type": "stream",
     "text": [
      "0 http://feeds.feedburner.com/breitbart?format=xml\n"
     ]
    }
   ],
   "source": [
    "for i,f in enumerate(feed_data):\n",
    "    print(str(i) + ' ' + f['Link'])"
   ]
  },
  {
   "cell_type": "code",
   "execution_count": 99,
   "metadata": {
    "collapsed": false
   },
   "outputs": [
    {
     "data": {
      "text/plain": [
       "{'Link': 'http://feeds.feedburner.com/breitbart?format=xml',\n",
       " 'RssName': 'All News',\n",
       " 'Source': 'breitbart',\n",
       " 'keymap': {'id': 'id',\n",
       "  'link': 'id',\n",
       "  'published_parsed': 'published_parsed',\n",
       "  'summary': 'summary',\n",
       "  'title': 'title'}}"
      ]
     },
     "execution_count": 99,
     "metadata": {},
     "output_type": "execute_result"
    }
   ],
   "source": [
    "rss_entry = feed_data[0]\n",
    "rss_entry"
   ]
  },
  {
   "cell_type": "code",
   "execution_count": 100,
   "metadata": {
    "collapsed": true
   },
   "outputs": [],
   "source": [
    "import scrape_feeds"
   ]
  },
  {
   "cell_type": "code",
   "execution_count": 101,
   "metadata": {
    "collapsed": false
   },
   "outputs": [],
   "source": [
    "contents = scrape_feeds.get_feed_contents(rss_entry)"
   ]
  },
  {
   "cell_type": "code",
   "execution_count": 102,
   "metadata": {
    "collapsed": true
   },
   "outputs": [],
   "source": [
    "from bs4 import BeautifulSoup as bs"
   ]
  },
  {
   "cell_type": "code",
   "execution_count": 103,
   "metadata": {
    "collapsed": false
   },
   "outputs": [],
   "source": [
    "for c in contents:\n",
    "    flag = False\n",
    "    if len(c['title']) > 200:\n",
    "        flag = True\n",
    "    if len(c['link']) > 200:\n",
    "        flag = True\n",
    "    if len(c['summary']) > 5000:\n",
    "        flag = True\n",
    "    if flag:\n",
    "        print(c)"
   ]
  },
  {
   "cell_type": "code",
   "execution_count": 106,
   "metadata": {
    "collapsed": false,
    "scrolled": true
   },
   "outputs": [
    {
     "name": "stdout",
     "output_type": "stream",
     "text": [
      " Advocates who want to see America's immigration laws enforced have found a home in President Donald Trump's administration, the New York Times' Nicholas Kulish reports.\n",
      "\n",
      "\n",
      " Harmeet Dhillon, a San Francisco lawyer representing the UCB College Republicans, held a press conference Monday to discuss the case being brought against UC Berkeley and suggested deploying the National Guard to provide security if Berkeley's mayor could not maintain control of the city.\n",
      "\n",
      "\n",
      " Less than 100 days since leaving office, the former president has already arranged for a big Wall Street payday.\n",
      "\n",
      "\n",
      " Outsourcing firms, which supply major U.S. companies with thousands of foreign workers, are being called-out by the Trump White House.\n",
      "\n",
      "\n",
      " Actress Rachel Bloom has teamed up with \"Science Guy\" Bill Nye to debut an LGBT sex anthem on the new Netflix series 'Bill Nye Saves the World.'\n",
      "\n",
      "\n",
      " On the Tuesday edition of Breitbart News Daily, broadcast live on SiriusXM Patriot Channel 125 from 6AM to 9AM Eastern, Breitbart editor-in-chief Alex Marlow will continue our discussion of the first 100 days of the Trump administration. He’ll be joined by the renowned conservative writer and historian Patrick J. Buchanan. Buchanan, who was the subject of a recent Politico profile, will weigh in on Trump’s first 100 days. As the opening paragraph of Politico’s article details, Buchanan is nothing short of a living legend whose keen insights into the populist nationalist movement predate Trump’s political ascendancy by decades: His first date with his future wife was spent in a New Hampshire motel room drinking Wild Turkey into the wee hours with Hunter S. Thompson. He stood several feet away from Martin Luther King Jr. during the “I Have a Dream” speech. He went to China with Richard M. Nixon and walked away from Watergate unscathed. He survived Iran-Contra, too, and sat alongside Ronald Reagan at the Reykjavík Summit. He invaded America’s living rooms and pioneered the rhetorical combat that would power the cable news age. He defied the establishment by challenging a sitting president of his own party. He captured the fear and frustration of\n",
      "\n",
      "\n",
      " The Washington Examiner's Byron York evaluates President Donald Trump's accomplishment and failures in his first three months in office, walking through the promises made in Trump's \"Contract with the American Voter.\"\n",
      "\n",
      "\n",
      " On Monday’s broadcast of “MSNBC Live,” NBC reporter Ron Allen stated, “Democrats are feeling somewhat desperate, you might even say. They’re demoralized by the results of the election, they see a hero in President Obama.” Allen said, “[H]is supporters, advocates, those who backed President Obama, they really want to hear from him. Democrats are feeling somewhat desperate, you might even say. They’re demoralized by the results of the election, they see a hero in President Obama. And the question is, whether he will play that big role, that big opposition leader role that so many of his supporters want.” (h/t NewsBusters) Follow Ian Hanchett on Twitter @IanHanchett\n",
      "\n",
      "\n",
      " Pop superstar Rihanna is hitting back against snowflake \"haters\" who criticized her for daring to Photoshop images of Queen Elizabeth II on to photos of herself in fashion-forward get-ups.\n",
      "\n",
      "\n",
      " Elton John has cancelled all of his upcoming concerts in Las Vegas after contracting a rare and \"potentially deadly\" infection while touring in South America.\n",
      "\n",
      "\n",
      " Former President Barack Obama admitted that if his high school activities were online somewhere, he probably wouldn’t have been president.\n",
      "\n",
      "\n",
      " Rep. Ted Lieu (D-CA) called Attorney General Jeff Sessions \"a racist and a liar\" on Sunday, repeating discredited \"fake news\" accusations.\n",
      "\n",
      "\n",
      " President Donald Trump and Vice President Mike Pence have steered a course during the administration’s first 100 days that anti-abortion activists have been dreaming about for decades.\n",
      "\n",
      "\n",
      " With about a week to go until his administration reaches the 100-day mark, President Trump's campaign promises to halt Syrian refugee resettlement and tighten up the refugee vetting process remain largely unfulfilled.\n",
      "\n",
      "\n",
      " Asked if the plan would be revenue neutral, meaning any reductions in expected revenue from tax cuts would be offset from increases in revenue or spending cuts elesewhere, Mnuchin instead said the plan would \"pay for itself\" through economic growth.\n",
      "\n",
      "\n",
      " Chicago Mayor Rahm Emanuel (D) is pushing more gun control for Federal Firearms License holders (FFLs) in the city.\n",
      "\n",
      "\n",
      " Attorney Harmeet Dhillon, who is representing the Berkeley College Republicans in their free speech case against the University of California, Berkeley over failing to allow Ann Coulter to speak on campus on equal terms, slammed the American Civil Liberties Union (ACLU) for ignoring the case.\"\n",
      "\n",
      "\n",
      " Harmeet Dhillon, a San Francisco lawyer representing the UCB College Republicans, held a press conference today to discuss the case being brought against the college due to their mishandling of an event hosting conservative speaker Ann Coulter.\n",
      "\n",
      "\n",
      " The Berkeley College Republicans and the Young America's Foundation have filed a lawsuit against members of the University of California system for their role in restricting an upcoming speaking event featuring Ann Coulter.\n",
      "\n",
      "\n",
      " Former Fox News host Megyn Kelly is set to make her long-anticipated debut at NBC News in June, according to a report.\n",
      "\n",
      "\n",
      " A group on a Delta flight going from Tampa to Los Angeles was treated to a Kenny G performance Saturday morning. Per ABC Action News, the person sitting next to the award-winning saxophonist was an off-duty flight attendant whose daughter had died of brain cancer. She asked Kenny G to play. The head flight attendant then told passengers that Kenny G would play for them if they donated $1,000 to cancer charity Relay for Life. Passengers rose to the challenge and then some, raising about $2,000. Kenny G lived up to his promise, performing while walking up and down the aisle. Follow Breitbart.tv on Twitter @BreitbartVideo\n",
      "\n",
      "\n",
      " Actress Sarah Wynter has warned that Republicans' push for national reciprocity of concealed carry permits will mean the blind and mentally ill will be carrying guns.\n",
      "\n",
      "\n",
      " If you want to know the likely result of next month's French presidential election run off, just look at how the markets responded. The euro and the French markets both jumped dramatically.\n",
      "\n",
      "\n",
      " An up-and-coming leader of Finland’s only Eurosceptic party has proposed a national referendum on leaving the European Union as well as on abandoning the euro in favor of a national currency.\n",
      "\n",
      "\n",
      " UKIP’s leadership has slammed the press for “trivialising” serious issues by mocking the party's integration policies, with a UKIP Lord claiming the BBC “hadn’t a clue” about some dangerous Islamist doctrines.\n",
      "\n",
      "\n",
      " Britain's governing Conservative Party has hired Barack Obama's former Deputy Chief of Staff to help run its election campaign.\n",
      "\n",
      "\n",
      " WASHINGTON, D.C. -- Sen. Elizabeth Warren’s 20-year tenure in public service is rife with contradictions, as an examination of her current positions juxtaposed with her past behavior reveals.\n",
      "\n",
      "\n",
      " The State of California issued the first tranche of taxable construction bonds last Thursday for the High Speed Rail Project, making it clear that it is determined to go ahead with the unpopular project despite numerous obstacles, including federal funding roadblocks thrown up by President Donald Trump.\n",
      "\n",
      "\n",
      " A viable high-speed rail system that actually serves consumer interest may be built in California after all.\n",
      "\n",
      "\n",
      " Monday on Fox News Channel’s “Fox & Friends,” Attorney General Jeff Sessions revealed he sent a letter to 10 cities functioning as so-called “sanctuary cities,” which may be in violation of federal law. Sessions warned a failure to respond to those letters could result in those cities losing their federal funding. “Last year, the Obama administration sent out notices that people had to comply with this cooperative language in the law that was passed several years ago,” Sessions explained. “And we sent out a letter today to 10 cities that the Inspector General’s office last year said were potentially in violation of the law involving deportation in sanctuary cities. We expect them to respond. If they don’t respond, they should not receive the grants because the grants were issued on condition of cooperation.” Sessions went on to add the Department of Justice hoped to get a response certifying those cities were not in violation of the law by June. Follow Jeff Poor on Twitter @jeff_poor\n",
      "\n",
      "\n",
      " A review of the Drug Enforcement Agency’s (DEA) wanted fugitive list revealed that less than 16 percent of DEA fugitives are from the United States.\n",
      "\n",
      "\n",
      " Three Mexican nationals have been charged with transporting and harboring five illegal aliens across the U.S.-Mexico Border.\n",
      "\n",
      "\n",
      " Monday on MSNBC's \"Morning Joe,\" while discussing the Department of Justice saying that New York's police department was \"soft on crime\" as fake news, Senate Minority Leader Chuck Schumer (D-NY) took a shot at Breitbart\n",
      "\n",
      "\n",
      " President Donald Trump again leveled criticism about NAFTA in an interview with the Associated Press, promising to either renegotiate the trade deal or terminate it.\n",
      "\n",
      "\n",
      " Monday on MSNBC’s “Morning Joe,” Rep. Tom Cole (R-OK) downplayed the possibility of a government shutdown as the deadline to pass a measure to fund the federal government approaches. Cole told host Joe Scarborough with the 60-vote rule in the U.S. Senate, the effort to prevent a shutdown must be bipartisan and therefore trying to impose the majority party’s will for a partisan victory would fail. “You know, I don’t think we’ll have a shutdown,” he said. “There’s certainly a chance we could a have a short-term continuing resolution, but we’re within striking distance of getting this done. I hope we do get it done. If you leave it to the appropriators we will get it done. The real question is whether or not outside groups in the extremes are both caucus. You know, we’ll use the last minute to try and tack things on that make it extremely difficult to have bipartisan cooperation. In the end, to fund the government because of the 60-rule requirement in the United States Senate you really do have to have bipartisan cooperation. So, if anybody doesn’t realize that and tries to, you know, impose a 100 percent partisan victory it’s going to fail.”\n",
      "\n",
      "\n",
      " A new Washington Post-ABC News poll shows that since President Donald Trump took office on January 20 the number of people who believe the economy is improving is at the highest level in 15 years, The Post reported on Sunday.\n",
      "\n",
      "\n",
      " A new poll shows that Americans overwhelmingly support President Donald Trump's \"Buy American, Hire American\" policy, echoing similar surveys conducted in 2014 by campaign pollster Kellyanne Conway.\n",
      "\n",
      "\n",
      " NEW ORLEANS, Louisiana -- The removal of Civil War-era monuments is underway after almost two years of calls by Mayor Mitch Landrieu (D) to remove four that he deemed \"racist\".\n",
      "\n",
      "\n",
      " An alleged robber threatened a cab driver at knifepoint in the Bronx, according to surveillance footage released by the New York Police Department.\n",
      "\n",
      "\n",
      " Two people were arrested after a 4-year-old boy in Milwaukee, Wisconsin, died from a possible overdose of opioids on Saturday.\n",
      "\n",
      "\n",
      " Jon Ungoed-Thomas and Mason Boycott-Owen report in The Sunday Times that cereal giant Kellogg’s has been funding studies that undermine official government warnings about the link between sugary cereals and obesity.\n",
      "\n",
      "\n",
      " The left wing mayor of the northern French town of Annezin, Daniel Delomez, has announced his resignation after residents in his town largely voted for anti-mass migration Front National leader Marine Le Pen.\n",
      "\n",
      "\n",
      " UKIP have been accused of “full-throated Islamophobia” after ratcheting up their rhetoric on multiculturalism and Islam, praising “superior” British values and describing Islam as “regressive”.\n",
      "\n",
      "\n",
      " Bloomberg Politics reports on the developing political landscape in France after Sunday’s vote, and how the coming choice for that nation is one of Nationalism versus Globalism. In the coming two weeks of the French campaign, Marine Le Pen’s challenge is to break through a wall of voter antipathy that she inherited from her father. Emmanuel Macron’s task is to persuade the French he has the gravitas and experience to be president. The far-right Le Pen and centrist Macron both took just under a quarter of the vote in a contest with 11 candidates. Now they must convince the rest of the population that they have what it takes to lead the country after the May 7 runoff. The next round will see two radically different visions. Macron embraces globalization and European integration, Le Pen channels the forces of discontent that triggered Brexit and brought Donald Trump to power. The runoff will also be unique in that it will be the first contested by neither of the major parties, giving Macron, 39, and Le Pen, 48, space to try to forge alliances that might have seemed unlikely until recently. “Marine Le Pen’s toughest job is to break the traditional glass\n",
      "\n",
      "\n",
      " In an open letter to Donald Trump, climate expert Dr. Duane Thresher has urged the President not to give in to his daughter Ivanka’s misguided views on global warming and her insistence that the U.S. remain in the Paris climate agreement ratified by Barack Obama last August.\n",
      "\n",
      "\n",
      " PARIS (AP) — French authorities have filed preliminary charges against two people of plotting an attack days before a tense presidential election. The Paris prosecutor’s office said Sunday the two men are being kept in custody pending further investigation. They were given preliminary charges Sunday of “association with a terrorist enterprise with plans to prepare one or several attacks,” and weapons and explosives charges. The two suspected Islamic radicals were arrested Tuesday in Marseille and police seized guns and explosives. The target of their potential attack is unclear, though presidential campaign teams were warned about the threat. Meanwhile, prosecutors said that investigators have released three people without charge after they were detained in an attack on Paris’ Champs-Elysees. The attacker was killed but three people in his entourage were detained for two days.\n",
      "\n",
      "\n",
      " Former premier Francois Fillon was one of the early favourites to become president, but in the end he led the French right to a historic defeat, as a fake jobs scandal engulfed his campaign.\n",
      "\n",
      "\n",
      " In a victory speech Sunday evening, Front National anti-mass migration candidate Marine Le Pen called on patriots in France to support her against Emmanuel Macron, who she called the heir of unpopular French President Francois Hollande. Ms Le Pen, who exit polls show finished second in the first round of the French presidential election, told a large crowd gathered in the north of France that the battle was now between supporters of globalism and those against. \"Ce n'est pas avec l'héritier de François #Hollande que cette alternance tant attendue viendra.\" #Présidentielle2017 — Marine Le Pen (@MLP_officiel) April 23, 2017 Calling the first round projected result, which will see her face off against Emmanuel Macron, “historic” she thanked her supporters for bringing her to the second round which is set to take place on May 7th. Le Pen outlined her main priority as president as to “defend the French nation” emphasising her previous campaign rhetoric which focused on restoring order to a country plagued by Islamic extremist terrorism and riots in various Paris suburbs. The Front National leader hit out against the French political and media establishment, saying that the system had attempted to “choke political debate”. Her victory ensured that the debate could now\n",
      "\n",
      "\n",
      " The euro surged Monday after moderate Emmanuel Macron won the first round in France's presidential election and looked set to triumph in the run-off against right wing candidate Marine Le Pen next month.\n",
      "\n",
      "\n"
     ]
    }
   ],
   "source": [
    "for i in range(len(contents)):\n",
    "    print(contents[i]['summary'])\n",
    "    print('\\n')"
   ]
  },
  {
   "cell_type": "markdown",
   "metadata": {},
   "source": [
    "    Only a single article.  No longer on the feed page."
   ]
  },
  {
   "cell_type": "markdown",
   "metadata": {},
   "source": [
    "### URL Errors"
   ]
  },
  {
   "cell_type": "code",
   "execution_count": 107,
   "metadata": {
    "collapsed": false
   },
   "outputs": [
    {
     "data": {
      "text/plain": [
       "(1301, 5)"
      ]
     },
     "execution_count": 107,
     "metadata": {},
     "output_type": "execute_result"
    }
   ],
   "source": [
    "urle = errors[errors.err_class==\"<class 'urllib.error.URLError'>\"]\n",
    "urle.shape"
   ]
  },
  {
   "cell_type": "code",
   "execution_count": 108,
   "metadata": {
    "collapsed": false
   },
   "outputs": [
    {
     "data": {
      "text/html": [
       "<div>\n",
       "<table border=\"1\" class=\"dataframe\">\n",
       "  <thead>\n",
       "    <tr style=\"text-align: right;\">\n",
       "      <th></th>\n",
       "      <th>entry</th>\n",
       "      <th>day</th>\n",
       "      <th>entry_ind</th>\n",
       "      <th>is_error</th>\n",
       "      <th>err_class</th>\n",
       "    </tr>\n",
       "  </thead>\n",
       "  <tbody>\n",
       "    <tr>\n",
       "      <th>2017-04-24 16:02:09</th>\n",
       "      <td>Feed https://phys.org/rss-feed/chemistry-news/...</td>\n",
       "      <td>2017-04-24</td>\n",
       "      <td>388</td>\n",
       "      <td>True</td>\n",
       "      <td>&lt;class 'urllib.error.URLError'&gt;</td>\n",
       "    </tr>\n",
       "    <tr>\n",
       "      <th>2017-04-24 16:02:10</th>\n",
       "      <td>Feed https://phys.org/rss-feed/chemistry-news/...</td>\n",
       "      <td>2017-04-24</td>\n",
       "      <td>388</td>\n",
       "      <td>True</td>\n",
       "      <td>&lt;class 'urllib.error.URLError'&gt;</td>\n",
       "    </tr>\n",
       "    <tr>\n",
       "      <th>2017-04-24 16:02:11</th>\n",
       "      <td>Feed https://phys.org/rss-feed/chemistry-news/...</td>\n",
       "      <td>2017-04-24</td>\n",
       "      <td>388</td>\n",
       "      <td>True</td>\n",
       "      <td>&lt;class 'urllib.error.URLError'&gt;</td>\n",
       "    </tr>\n",
       "    <tr>\n",
       "      <th>2017-04-24 16:02:12</th>\n",
       "      <td>Feed https://phys.org/rss-feed/chemistry-news/...</td>\n",
       "      <td>2017-04-24</td>\n",
       "      <td>388</td>\n",
       "      <td>True</td>\n",
       "      <td>&lt;class 'urllib.error.URLError'&gt;</td>\n",
       "    </tr>\n",
       "    <tr>\n",
       "      <th>2017-04-24 16:02:13</th>\n",
       "      <td>Feed https://phys.org/rss-feed/chemistry-news/...</td>\n",
       "      <td>2017-04-24</td>\n",
       "      <td>388</td>\n",
       "      <td>True</td>\n",
       "      <td>&lt;class 'urllib.error.URLError'&gt;</td>\n",
       "    </tr>\n",
       "  </tbody>\n",
       "</table>\n",
       "</div>"
      ],
      "text/plain": [
       "                                                                 entry  \\\n",
       "2017-04-24 16:02:09  Feed https://phys.org/rss-feed/chemistry-news/...   \n",
       "2017-04-24 16:02:10  Feed https://phys.org/rss-feed/chemistry-news/...   \n",
       "2017-04-24 16:02:11  Feed https://phys.org/rss-feed/chemistry-news/...   \n",
       "2017-04-24 16:02:12  Feed https://phys.org/rss-feed/chemistry-news/...   \n",
       "2017-04-24 16:02:13  Feed https://phys.org/rss-feed/chemistry-news/...   \n",
       "\n",
       "                            day  entry_ind is_error  \\\n",
       "2017-04-24 16:02:09  2017-04-24        388     True   \n",
       "2017-04-24 16:02:10  2017-04-24        388     True   \n",
       "2017-04-24 16:02:11  2017-04-24        388     True   \n",
       "2017-04-24 16:02:12  2017-04-24        388     True   \n",
       "2017-04-24 16:02:13  2017-04-24        388     True   \n",
       "\n",
       "                                           err_class  \n",
       "2017-04-24 16:02:09  <class 'urllib.error.URLError'>  \n",
       "2017-04-24 16:02:10  <class 'urllib.error.URLError'>  \n",
       "2017-04-24 16:02:11  <class 'urllib.error.URLError'>  \n",
       "2017-04-24 16:02:12  <class 'urllib.error.URLError'>  \n",
       "2017-04-24 16:02:13  <class 'urllib.error.URLError'>  "
      ]
     },
     "execution_count": 108,
     "metadata": {},
     "output_type": "execute_result"
    }
   ],
   "source": [
    "urle.tail()"
   ]
  },
  {
   "cell_type": "code",
   "execution_count": 109,
   "metadata": {
    "collapsed": false
   },
   "outputs": [
    {
     "data": {
      "text/plain": [
       "array([ \"Feed http://feeds.bbci.co.uk/news/world/latin_america/rss.xml: <class 'urllib.error.URLError'>: (GeneralProxyError(),)\",\n",
       "       \"Feed http://feeds.bbci.co.uk/news/world/middle_east/rss.xml: <class 'urllib.error.URLError'>: (GeneralProxyError(),)\",\n",
       "       \"Feed http://feeds.bbci.co.uk/news/world/us_and_canada/rss.xml: <class 'urllib.error.URLError'>: (GeneralProxyError(),)\",\n",
       "       \"Feed http://feeds.bbci.co.uk/news/video_and_audio/news_front_page/rss.xml?edition=uk: <class 'urllib.error.URLError'>: (GeneralProxyError(),)\",\n",
       "       \"Feed http://feeds.bbci.co.uk/news/video_and_audio/world/rss.xml: <class 'urllib.error.URLError'>: (GeneralProxyError(),)\",\n",
       "       \"Feed https://phys.org/rss-feed/: <class 'urllib.error.URLError'>: (GeneralProxyError(),)\",\n",
       "       \"Feed https://phys.org/rss-feed/editorials/: <class 'urllib.error.URLError'>: (GeneralProxyError(),)\",\n",
       "       \"Feed https://phys.org/rss-feed/earth-news/: <class 'urllib.error.URLError'>: (GeneralProxyError(),)\",\n",
       "       \"Feed https://phys.org/rss-feed/earth-news/earth-sciences/: <class 'urllib.error.URLError'>: (GeneralProxyError(),)\",\n",
       "       \"Feed https://phys.org/rss-feed/earth-news/environment/: <class 'urllib.error.URLError'>: (GeneralProxyError(),)\"], dtype=object)"
      ]
     },
     "execution_count": 109,
     "metadata": {},
     "output_type": "execute_result"
    }
   ],
   "source": [
    "urle.entry.unique()[:10]"
   ]
  },
  {
   "cell_type": "code",
   "execution_count": 110,
   "metadata": {
    "collapsed": true
   },
   "outputs": [],
   "source": [
    "roots = urle.entry.apply(lambda x: x[5:22])"
   ]
  },
  {
   "cell_type": "code",
   "execution_count": 111,
   "metadata": {
    "collapsed": false
   },
   "outputs": [
    {
     "data": {
      "text/plain": [
       "2"
      ]
     },
     "execution_count": 111,
     "metadata": {},
     "output_type": "execute_result"
    }
   ],
   "source": [
    "len(roots.unique())"
   ]
  },
  {
   "cell_type": "code",
   "execution_count": 116,
   "metadata": {
    "collapsed": false
   },
   "outputs": [
    {
     "name": "stdout",
     "output_type": "stream",
     "text": [
      "Feed http://feeds.bbci.co.uk/news/world/latin_america/rss.xml: <class 'urllib.error.URLError'>: (GeneralProxyError(),)\n",
      "\n",
      "\n",
      "Feed http://feeds.bbci.co.uk/news/world/middle_east/rss.xml: <class 'urllib.error.URLError'>: (GeneralProxyError(),)\n",
      "\n",
      "\n",
      "Feed http://feeds.bbci.co.uk/news/world/us_and_canada/rss.xml: <class 'urllib.error.URLError'>: (GeneralProxyError(),)\n",
      "\n",
      "\n",
      "Feed http://feeds.bbci.co.uk/news/video_and_audio/news_front_page/rss.xml?edition=uk: <class 'urllib.error.URLError'>: (GeneralProxyError(),)\n",
      "\n",
      "\n",
      "Feed http://feeds.bbci.co.uk/news/video_and_audio/world/rss.xml: <class 'urllib.error.URLError'>: (GeneralProxyError(),)\n",
      "\n",
      "\n",
      "Feed https://phys.org/rss-feed/: <class 'urllib.error.URLError'>: (GeneralProxyError(),)\n",
      "\n",
      "\n",
      "Feed https://phys.org/rss-feed/editorials/: <class 'urllib.error.URLError'>: (GeneralProxyError(),)\n",
      "\n",
      "\n",
      "Feed https://phys.org/rss-feed/earth-news/: <class 'urllib.error.URLError'>: (GeneralProxyError(),)\n",
      "\n",
      "\n",
      "Feed https://phys.org/rss-feed/earth-news/earth-sciences/: <class 'urllib.error.URLError'>: (GeneralProxyError(),)\n",
      "\n",
      "\n",
      "Feed https://phys.org/rss-feed/earth-news/environment/: <class 'urllib.error.URLError'>: (GeneralProxyError(),)\n",
      "\n",
      "\n",
      "Feed https://phys.org/rss-feed/science-news/: <class 'urllib.error.URLError'>: (GeneralProxyError(),)\n",
      "\n",
      "\n",
      "Feed https://phys.org/rss-feed/science-news/archaeology-fossils/: <class 'urllib.error.URLError'>: (GeneralProxyError(),)\n",
      "\n",
      "\n",
      "Feed https://phys.org/rss-feed/science-news/economics-business/: <class 'urllib.error.URLError'>: (GeneralProxyError(),)\n",
      "\n",
      "\n",
      "Feed https://phys.org/rss-feed/science-news/mathematics/: <class 'urllib.error.URLError'>: (GeneralProxyError(),)\n",
      "\n",
      "\n",
      "Feed https://phys.org/rss-feed/science-news/sci-other/: <class 'urllib.error.URLError'>: (GeneralProxyError(),)\n",
      "\n",
      "\n",
      "Feed https://phys.org/rss-feed/science-news/social-sciences/: <class 'urllib.error.URLError'>: (GeneralProxyError(),)\n",
      "\n",
      "\n",
      "Feed https://phys.org/rss-feed/nanotech-news/: <class 'urllib.error.URLError'>: (GeneralProxyError(),)\n",
      "\n",
      "\n",
      "Feed https://phys.org/rss-feed/nanotech-news/bio-medicine/: <class 'urllib.error.URLError'>: (GeneralProxyError(),)\n",
      "\n",
      "\n",
      "Feed https://phys.org/rss-feed/nanotech-news/nano-materials/: <class 'urllib.error.URLError'>: (GeneralProxyError(),)\n",
      "\n",
      "\n",
      "Feed https://phys.org/rss-feed/nanotech-news/nano-physics/: <class 'urllib.error.URLError'>: (GeneralProxyError(),)\n",
      "\n",
      "\n",
      "Feed https://phys.org/rss-feed/physics-news/: <class 'urllib.error.URLError'>: (GeneralProxyError(),)\n",
      "\n",
      "\n",
      "Feed https://phys.org/rss-feed/physics-news/materials/: <class 'urllib.error.URLError'>: (GeneralProxyError(),)\n",
      "\n",
      "\n",
      "Feed https://phys.org/rss-feed/physics-news/physics/: <class 'urllib.error.URLError'>: (GeneralProxyError(),)\n",
      "\n",
      "\n",
      "Feed https://phys.org/rss-feed/physics-news/optics-photonics/: <class 'urllib.error.URLError'>: (GeneralProxyError(),)\n",
      "\n",
      "\n",
      "Feed https://phys.org/rss-feed/physics-news/plasma/: <class 'urllib.error.URLError'>: (GeneralProxyError(),)\n",
      "\n",
      "\n",
      "Feed https://phys.org/rss-feed/physics-news/quantum-physics/: <class 'urllib.error.URLError'>: (GeneralProxyError(),)\n",
      "\n",
      "\n",
      "Feed https://phys.org/rss-feed/physics-news/soft-matter/: <class 'urllib.error.URLError'>: (GeneralProxyError(),)\n",
      "\n",
      "\n",
      "Feed https://phys.org/rss-feed/physics-news/superconductivity/: <class 'urllib.error.URLError'>: (GeneralProxyError(),)\n",
      "\n",
      "\n",
      "Feed https://phys.org/rss-feed/space-news/: <class 'urllib.error.URLError'>: (GeneralProxyError(),)\n",
      "\n",
      "\n",
      "Feed https://phys.org/rss-feed/space-news/astronomy/: <class 'urllib.error.URLError'>: (GeneralProxyError(),)\n",
      "\n",
      "\n",
      "Feed https://phys.org/rss-feed/space-news/space-exploration/: <class 'urllib.error.URLError'>: (GeneralProxyError(),)\n",
      "\n",
      "\n",
      "Feed https://phys.org/rss-feed/technology-news/: <class 'urllib.error.URLError'>: (GeneralProxyError(),)\n",
      "\n",
      "\n",
      "Feed https://phys.org/rss-feed/technology-news/business-tech/: <class 'urllib.error.URLError'>: (GeneralProxyError(),)\n",
      "\n",
      "\n",
      "Feed https://phys.org/rss-feed/technology-news/computer-sciences/: <class 'urllib.error.URLError'>: (GeneralProxyError(),)\n",
      "\n",
      "\n",
      "Feed https://phys.org/rss-feed/technology-news/consumer-gadgets/: <class 'urllib.error.URLError'>: (GeneralProxyError(),)\n",
      "\n",
      "\n",
      "Feed https://phys.org/rss-feed/technology-news/energy-green-tech/: <class 'urllib.error.URLError'>: (GeneralProxyError(),)\n",
      "\n",
      "\n",
      "Feed https://phys.org/rss-feed/technology-news/engineering/: <class 'urllib.error.URLError'>: (GeneralProxyError(),)\n",
      "\n",
      "\n",
      "Feed https://phys.org/rss-feed/technology-news/hardware/: <class 'urllib.error.URLError'>: (GeneralProxyError(),)\n",
      "\n",
      "\n",
      "Feed https://phys.org/rss-feed/technology-news/hi-tech/: <class 'urllib.error.URLError'>: (GeneralProxyError(),)\n",
      "\n",
      "\n",
      "Feed https://phys.org/rss-feed/technology-news/internet/: <class 'urllib.error.URLError'>: (GeneralProxyError(),)\n",
      "\n",
      "\n",
      "Feed https://phys.org/rss-feed/technology-news/other/: <class 'urllib.error.URLError'>: (GeneralProxyError(),)\n",
      "\n",
      "\n",
      "Feed https://phys.org/rss-feed/technology-news/robotics/: <class 'urllib.error.URLError'>: (GeneralProxyError(),)\n",
      "\n",
      "\n",
      "Feed https://phys.org/rss-feed/technology-news/security/: <class 'urllib.error.URLError'>: (GeneralProxyError(),)\n",
      "\n",
      "\n",
      "Feed https://phys.org/rss-feed/technology-news/semiconductors/: <class 'urllib.error.URLError'>: (GeneralProxyError(),)\n",
      "\n",
      "\n",
      "Feed https://phys.org/rss-feed/technology-news/software/: <class 'urllib.error.URLError'>: (GeneralProxyError(),)\n",
      "\n",
      "\n",
      "Feed https://phys.org/rss-feed/technology-news/telecom/: <class 'urllib.error.URLError'>: (GeneralProxyError(),)\n",
      "\n",
      "\n",
      "Feed https://phys.org/rss-feed/biology-news/: <class 'urllib.error.URLError'>: (GeneralProxyError(),)\n",
      "\n",
      "\n",
      "Feed https://phys.org/rss-feed/biology-news/biotechnology/: <class 'urllib.error.URLError'>: (GeneralProxyError(),)\n",
      "\n",
      "\n",
      "Feed https://phys.org/rss-feed/biology-news/microbiology/: <class 'urllib.error.URLError'>: (GeneralProxyError(),)\n",
      "\n",
      "\n",
      "Feed https://phys.org/rss-feed/biology-news/ecology/: <class 'urllib.error.URLError'>: (GeneralProxyError(),)\n",
      "\n",
      "\n",
      "Feed https://phys.org/rss-feed/biology-news/evolution/: <class 'urllib.error.URLError'>: (GeneralProxyError(),)\n",
      "\n",
      "\n",
      "Feed https://phys.org/rss-feed/biology-news/biology-other/: <class 'urllib.error.URLError'>: (GeneralProxyError(),)\n",
      "\n",
      "\n",
      "Feed https://phys.org/rss-feed/biology-news/plants-animals/: <class 'urllib.error.URLError'>: (GeneralProxyError(),)\n",
      "\n",
      "\n",
      "Feed https://phys.org/rss-feed/chemistry-news/: <class 'urllib.error.URLError'>: (GeneralProxyError(),)\n",
      "\n",
      "\n",
      "Feed https://phys.org/rss-feed/chemistry-news/analytical-chemistry/: <class 'urllib.error.URLError'>: (GeneralProxyError(),)\n",
      "\n",
      "\n",
      "Feed https://phys.org/rss-feed/chemistry-news/biochemistry/: <class 'urllib.error.URLError'>: (GeneralProxyError(),)\n",
      "\n",
      "\n",
      "Feed https://phys.org/rss-feed/chemistry-news/materials-science/: <class 'urllib.error.URLError'>: (GeneralProxyError(),)\n",
      "\n",
      "\n",
      "Feed https://phys.org/rss-feed/chemistry-news/chemistry-other/: <class 'urllib.error.URLError'>: (GeneralProxyError(),)\n",
      "\n",
      "\n",
      "Feed https://phys.org/rss-feed/chemistry-news/polymers/: <class 'urllib.error.URLError'>: (GeneralProxyError(),)\n",
      "\n",
      "\n"
     ]
    }
   ],
   "source": [
    "for e in urle.entry.unique():\n",
    "    print(e)\n",
    "    print('\\n')"
   ]
  },
  {
   "cell_type": "code",
   "execution_count": 112,
   "metadata": {
    "collapsed": true
   },
   "outputs": [],
   "source": [
    "feed_data = utils.load_feedlist_data('physorg_feedlist.xml')"
   ]
  },
  {
   "cell_type": "code",
   "execution_count": 113,
   "metadata": {
    "collapsed": false
   },
   "outputs": [
    {
     "name": "stdout",
     "output_type": "stream",
     "text": [
      "0 https://phys.org/rss-feed/\n",
      "1 https://phys.org/rss-feed/editorials/\n",
      "2 https://phys.org/rss-feed/earth-news/\n",
      "3 https://phys.org/rss-feed/earth-news/earth-sciences/\n",
      "4 https://phys.org/rss-feed/earth-news/environment/\n",
      "5 https://phys.org/rss-feed/science-news/\n",
      "6 https://phys.org/rss-feed/science-news/archaeology-fossils/\n",
      "7 https://phys.org/rss-feed/science-news/economics-business/\n",
      "8 https://phys.org/rss-feed/science-news/mathematics/\n",
      "9 https://phys.org/rss-feed/science-news/sci-other/\n",
      "10 https://phys.org/rss-feed/science-news/social-sciences/\n",
      "11 https://phys.org/rss-feed/nanotech-news/\n",
      "12 https://phys.org/rss-feed/nanotech-news/bio-medicine/\n",
      "13 https://phys.org/rss-feed/nanotech-news/nano-materials/\n",
      "14 https://phys.org/rss-feed/nanotech-news/nano-physics/\n"
     ]
    }
   ],
   "source": [
    "for i,f in enumerate(feed_data[:15]):\n",
    "    print(str(i) + ' ' + f['Link'])"
   ]
  },
  {
   "cell_type": "code",
   "execution_count": 115,
   "metadata": {
    "collapsed": false
   },
   "outputs": [
    {
     "data": {
      "text/html": [
       "<div>\n",
       "<table border=\"1\" class=\"dataframe\">\n",
       "  <thead>\n",
       "    <tr style=\"text-align: right;\">\n",
       "      <th></th>\n",
       "      <th>entry</th>\n",
       "      <th>day</th>\n",
       "      <th>entry_ind</th>\n",
       "      <th>is_error</th>\n",
       "      <th>err_class</th>\n",
       "    </tr>\n",
       "  </thead>\n",
       "  <tbody>\n",
       "    <tr>\n",
       "      <th>2017-04-24 16:02:04</th>\n",
       "      <td>Feed https://phys.org/rss-feed/biology-news/ec...</td>\n",
       "      <td>2017-04-24</td>\n",
       "      <td>388</td>\n",
       "      <td>True</td>\n",
       "      <td>&lt;class 'urllib.error.URLError'&gt;</td>\n",
       "    </tr>\n",
       "    <tr>\n",
       "      <th>2017-04-24 16:02:05</th>\n",
       "      <td>Feed https://phys.org/rss-feed/biology-news/ev...</td>\n",
       "      <td>2017-04-24</td>\n",
       "      <td>388</td>\n",
       "      <td>True</td>\n",
       "      <td>&lt;class 'urllib.error.URLError'&gt;</td>\n",
       "    </tr>\n",
       "    <tr>\n",
       "      <th>2017-04-24 16:02:06</th>\n",
       "      <td>Feed https://phys.org/rss-feed/biology-news/bi...</td>\n",
       "      <td>2017-04-24</td>\n",
       "      <td>388</td>\n",
       "      <td>True</td>\n",
       "      <td>&lt;class 'urllib.error.URLError'&gt;</td>\n",
       "    </tr>\n",
       "    <tr>\n",
       "      <th>2017-04-24 16:02:07</th>\n",
       "      <td>Feed https://phys.org/rss-feed/biology-news/pl...</td>\n",
       "      <td>2017-04-24</td>\n",
       "      <td>388</td>\n",
       "      <td>True</td>\n",
       "      <td>&lt;class 'urllib.error.URLError'&gt;</td>\n",
       "    </tr>\n",
       "    <tr>\n",
       "      <th>2017-04-24 16:02:08</th>\n",
       "      <td>Feed https://phys.org/rss-feed/chemistry-news/...</td>\n",
       "      <td>2017-04-24</td>\n",
       "      <td>388</td>\n",
       "      <td>True</td>\n",
       "      <td>&lt;class 'urllib.error.URLError'&gt;</td>\n",
       "    </tr>\n",
       "    <tr>\n",
       "      <th>2017-04-24 16:02:09</th>\n",
       "      <td>Feed https://phys.org/rss-feed/chemistry-news/...</td>\n",
       "      <td>2017-04-24</td>\n",
       "      <td>388</td>\n",
       "      <td>True</td>\n",
       "      <td>&lt;class 'urllib.error.URLError'&gt;</td>\n",
       "    </tr>\n",
       "    <tr>\n",
       "      <th>2017-04-24 16:02:10</th>\n",
       "      <td>Feed https://phys.org/rss-feed/chemistry-news/...</td>\n",
       "      <td>2017-04-24</td>\n",
       "      <td>388</td>\n",
       "      <td>True</td>\n",
       "      <td>&lt;class 'urllib.error.URLError'&gt;</td>\n",
       "    </tr>\n",
       "    <tr>\n",
       "      <th>2017-04-24 16:02:11</th>\n",
       "      <td>Feed https://phys.org/rss-feed/chemistry-news/...</td>\n",
       "      <td>2017-04-24</td>\n",
       "      <td>388</td>\n",
       "      <td>True</td>\n",
       "      <td>&lt;class 'urllib.error.URLError'&gt;</td>\n",
       "    </tr>\n",
       "    <tr>\n",
       "      <th>2017-04-24 16:02:12</th>\n",
       "      <td>Feed https://phys.org/rss-feed/chemistry-news/...</td>\n",
       "      <td>2017-04-24</td>\n",
       "      <td>388</td>\n",
       "      <td>True</td>\n",
       "      <td>&lt;class 'urllib.error.URLError'&gt;</td>\n",
       "    </tr>\n",
       "    <tr>\n",
       "      <th>2017-04-24 16:02:13</th>\n",
       "      <td>Feed https://phys.org/rss-feed/chemistry-news/...</td>\n",
       "      <td>2017-04-24</td>\n",
       "      <td>388</td>\n",
       "      <td>True</td>\n",
       "      <td>&lt;class 'urllib.error.URLError'&gt;</td>\n",
       "    </tr>\n",
       "  </tbody>\n",
       "</table>\n",
       "</div>"
      ],
      "text/plain": [
       "                                                                 entry  \\\n",
       "2017-04-24 16:02:04  Feed https://phys.org/rss-feed/biology-news/ec...   \n",
       "2017-04-24 16:02:05  Feed https://phys.org/rss-feed/biology-news/ev...   \n",
       "2017-04-24 16:02:06  Feed https://phys.org/rss-feed/biology-news/bi...   \n",
       "2017-04-24 16:02:07  Feed https://phys.org/rss-feed/biology-news/pl...   \n",
       "2017-04-24 16:02:08  Feed https://phys.org/rss-feed/chemistry-news/...   \n",
       "2017-04-24 16:02:09  Feed https://phys.org/rss-feed/chemistry-news/...   \n",
       "2017-04-24 16:02:10  Feed https://phys.org/rss-feed/chemistry-news/...   \n",
       "2017-04-24 16:02:11  Feed https://phys.org/rss-feed/chemistry-news/...   \n",
       "2017-04-24 16:02:12  Feed https://phys.org/rss-feed/chemistry-news/...   \n",
       "2017-04-24 16:02:13  Feed https://phys.org/rss-feed/chemistry-news/...   \n",
       "\n",
       "                            day  entry_ind is_error  \\\n",
       "2017-04-24 16:02:04  2017-04-24        388     True   \n",
       "2017-04-24 16:02:05  2017-04-24        388     True   \n",
       "2017-04-24 16:02:06  2017-04-24        388     True   \n",
       "2017-04-24 16:02:07  2017-04-24        388     True   \n",
       "2017-04-24 16:02:08  2017-04-24        388     True   \n",
       "2017-04-24 16:02:09  2017-04-24        388     True   \n",
       "2017-04-24 16:02:10  2017-04-24        388     True   \n",
       "2017-04-24 16:02:11  2017-04-24        388     True   \n",
       "2017-04-24 16:02:12  2017-04-24        388     True   \n",
       "2017-04-24 16:02:13  2017-04-24        388     True   \n",
       "\n",
       "                                           err_class  \n",
       "2017-04-24 16:02:04  <class 'urllib.error.URLError'>  \n",
       "2017-04-24 16:02:05  <class 'urllib.error.URLError'>  \n",
       "2017-04-24 16:02:06  <class 'urllib.error.URLError'>  \n",
       "2017-04-24 16:02:07  <class 'urllib.error.URLError'>  \n",
       "2017-04-24 16:02:08  <class 'urllib.error.URLError'>  \n",
       "2017-04-24 16:02:09  <class 'urllib.error.URLError'>  \n",
       "2017-04-24 16:02:10  <class 'urllib.error.URLError'>  \n",
       "2017-04-24 16:02:11  <class 'urllib.error.URLError'>  \n",
       "2017-04-24 16:02:12  <class 'urllib.error.URLError'>  \n",
       "2017-04-24 16:02:13  <class 'urllib.error.URLError'>  "
      ]
     },
     "execution_count": 115,
     "metadata": {},
     "output_type": "execute_result"
    }
   ],
   "source": [
    "urle.tail(10)"
   ]
  },
  {
   "cell_type": "markdown",
   "metadata": {},
   "source": [
    "    No issues since beginning of March; this issue seems to be fixed now."
   ]
  },
  {
   "cell_type": "markdown",
   "metadata": {},
   "source": [
    "### HTTP Errors"
   ]
  },
  {
   "cell_type": "code",
   "execution_count": 117,
   "metadata": {
    "collapsed": false
   },
   "outputs": [
    {
     "data": {
      "text/plain": [
       "(140, 5)"
      ]
     },
     "execution_count": 117,
     "metadata": {},
     "output_type": "execute_result"
    }
   ],
   "source": [
    "htpe = errors['2017-03-02 00:00:00':].copy()\n",
    "htpe = htpe[htpe.err_class == \"<class 'urllib.error.HTTPError'>\"]\n",
    "htpe.shape"
   ]
  },
  {
   "cell_type": "code",
   "execution_count": 118,
   "metadata": {
    "collapsed": false
   },
   "outputs": [
    {
     "data": {
      "text/html": [
       "<div>\n",
       "<table border=\"1\" class=\"dataframe\">\n",
       "  <thead>\n",
       "    <tr style=\"text-align: right;\">\n",
       "      <th></th>\n",
       "      <th>entry</th>\n",
       "      <th>day</th>\n",
       "      <th>entry_ind</th>\n",
       "      <th>is_error</th>\n",
       "      <th>err_class</th>\n",
       "    </tr>\n",
       "  </thead>\n",
       "  <tbody>\n",
       "    <tr>\n",
       "      <th>2017-04-21 08:03:06</th>\n",
       "      <td>Feed https://phys.org/rss-feed/biology-news/: ...</td>\n",
       "      <td>2017-04-21</td>\n",
       "      <td>367</td>\n",
       "      <td>True</td>\n",
       "      <td>&lt;class 'urllib.error.HTTPError'&gt;</td>\n",
       "    </tr>\n",
       "    <tr>\n",
       "      <th>2017-04-21 08:03:08</th>\n",
       "      <td>Feed https://phys.org/rss-feed/biology-news/bi...</td>\n",
       "      <td>2017-04-21</td>\n",
       "      <td>367</td>\n",
       "      <td>True</td>\n",
       "      <td>&lt;class 'urllib.error.HTTPError'&gt;</td>\n",
       "    </tr>\n",
       "    <tr>\n",
       "      <th>2017-04-21 11:03:23</th>\n",
       "      <td>Feed https://phys.org/rss-feed/biology-news/mi...</td>\n",
       "      <td>2017-04-21</td>\n",
       "      <td>370</td>\n",
       "      <td>True</td>\n",
       "      <td>&lt;class 'urllib.error.HTTPError'&gt;</td>\n",
       "    </tr>\n",
       "    <tr>\n",
       "      <th>2017-04-21 11:03:25</th>\n",
       "      <td>Feed https://phys.org/rss-feed/biology-news/ec...</td>\n",
       "      <td>2017-04-21</td>\n",
       "      <td>370</td>\n",
       "      <td>True</td>\n",
       "      <td>&lt;class 'urllib.error.HTTPError'&gt;</td>\n",
       "    </tr>\n",
       "    <tr>\n",
       "      <th>2017-04-21 11:03:28</th>\n",
       "      <td>Feed https://phys.org/rss-feed/biology-news/ev...</td>\n",
       "      <td>2017-04-21</td>\n",
       "      <td>370</td>\n",
       "      <td>True</td>\n",
       "      <td>&lt;class 'urllib.error.HTTPError'&gt;</td>\n",
       "    </tr>\n",
       "  </tbody>\n",
       "</table>\n",
       "</div>"
      ],
      "text/plain": [
       "                                                                 entry  \\\n",
       "2017-04-21 08:03:06  Feed https://phys.org/rss-feed/biology-news/: ...   \n",
       "2017-04-21 08:03:08  Feed https://phys.org/rss-feed/biology-news/bi...   \n",
       "2017-04-21 11:03:23  Feed https://phys.org/rss-feed/biology-news/mi...   \n",
       "2017-04-21 11:03:25  Feed https://phys.org/rss-feed/biology-news/ec...   \n",
       "2017-04-21 11:03:28  Feed https://phys.org/rss-feed/biology-news/ev...   \n",
       "\n",
       "                            day  entry_ind is_error  \\\n",
       "2017-04-21 08:03:06  2017-04-21        367     True   \n",
       "2017-04-21 08:03:08  2017-04-21        367     True   \n",
       "2017-04-21 11:03:23  2017-04-21        370     True   \n",
       "2017-04-21 11:03:25  2017-04-21        370     True   \n",
       "2017-04-21 11:03:28  2017-04-21        370     True   \n",
       "\n",
       "                                            err_class  \n",
       "2017-04-21 08:03:06  <class 'urllib.error.HTTPError'>  \n",
       "2017-04-21 08:03:08  <class 'urllib.error.HTTPError'>  \n",
       "2017-04-21 11:03:23  <class 'urllib.error.HTTPError'>  \n",
       "2017-04-21 11:03:25  <class 'urllib.error.HTTPError'>  \n",
       "2017-04-21 11:03:28  <class 'urllib.error.HTTPError'>  "
      ]
     },
     "execution_count": 118,
     "metadata": {},
     "output_type": "execute_result"
    }
   ],
   "source": [
    "htpe.tail()"
   ]
  },
  {
   "cell_type": "code",
   "execution_count": 119,
   "metadata": {
    "collapsed": true
   },
   "outputs": [],
   "source": [
    "roots = htpe.entry.apply(lambda x: x[5:22])"
   ]
  },
  {
   "cell_type": "code",
   "execution_count": 120,
   "metadata": {
    "collapsed": false
   },
   "outputs": [
    {
     "data": {
      "text/plain": [
       "array(['http://www.ft.com', 'http://feeds.foxn', 'http://rss.cnn.co',\n",
       "       'http://feeds.feed', 'http://blogs.ft.c', 'https://www.thegu',\n",
       "       'https://phys.org/', 'http://feeds.cnev'], dtype=object)"
      ]
     },
     "execution_count": 120,
     "metadata": {},
     "output_type": "execute_result"
    }
   ],
   "source": [
    "roots.unique()"
   ]
  },
  {
   "cell_type": "code",
   "execution_count": 121,
   "metadata": {
    "collapsed": false
   },
   "outputs": [
    {
     "data": {
      "text/plain": [
       "48"
      ]
     },
     "execution_count": 121,
     "metadata": {},
     "output_type": "execute_result"
    }
   ],
   "source": [
    "len(htpe.entry.unique())"
   ]
  },
  {
   "cell_type": "code",
   "execution_count": 122,
   "metadata": {
    "collapsed": false
   },
   "outputs": [
    {
     "data": {
      "text/plain": [
       "array([ \"Feed http://www.ft.com/rss/world/mideast/economy: <class 'urllib.error.HTTPError'>: ()\",\n",
       "       \"Feed http://www.ft.com/rss/management/connected-business: <class 'urllib.error.HTTPError'>: ()\",\n",
       "       \"Feed http://www.ft.com/rss/brussels: <class 'urllib.error.HTTPError'>: ()\",\n",
       "       \"Feed http://www.ft.com/rss/world/uk/business: <class 'urllib.error.HTTPError'>: ()\",\n",
       "       \"Feed http://www.ft.com/rss/markets/asiapacific: <class 'urllib.error.HTTPError'>: ()\",\n",
       "       \"Feed http://www.ft.com/rss/companies/middleeast: <class 'urllib.error.HTTPError'>: ()\",\n",
       "       \"Feed http://www.ft.com/rss/world/uk/economy: <class 'urllib.error.HTTPError'>: ()\",\n",
       "       \"Feed http://www.ft.com/rss/world/mideast/politics: <class 'urllib.error.HTTPError'>: ()\",\n",
       "       \"Feed http://www.ft.com/rss/world/us/economy: <class 'urllib.error.HTTPError'>: ()\",\n",
       "       \"Feed http://feeds.foxnews.com/foxnews/latest: <class 'urllib.error.HTTPError'>: ()\",\n",
       "       \"Feed http://feeds.foxnews.com/foxnews/most-popular: <class 'urllib.error.HTTPError'>: ()\",\n",
       "       \"Feed http://feeds.foxnews.com/foxnews/entertainment: <class 'urllib.error.HTTPError'>: ()\",\n",
       "       \"Feed http://feeds.foxnews.com/foxnews/health: <class 'urllib.error.HTTPError'>: ()\",\n",
       "       \"Feed http://feeds.foxnews.com/foxnews/section/lifestyle: <class 'urllib.error.HTTPError'>: ()\",\n",
       "       \"Feed http://feeds.foxnews.com/foxnews/opinion: <class 'urllib.error.HTTPError'>: ()\",\n",
       "       \"Feed http://feeds.foxnews.com/foxnews/politics: <class 'urllib.error.HTTPError'>: ()\",\n",
       "       \"Feed http://feeds.foxnews.com/foxnews/science: <class 'urllib.error.HTTPError'>: ()\",\n",
       "       \"Feed http://feeds.foxnews.com/foxnews/sports: <class 'urllib.error.HTTPError'>: ()\",\n",
       "       \"Feed http://feeds.foxnews.com/foxnews/tech: <class 'urllib.error.HTTPError'>: ()\",\n",
       "       \"Feed http://feeds.foxnews.com/foxnews/internal/travel/mixed: <class 'urllib.error.HTTPError'>: ()\",\n",
       "       \"Feed http://feeds.foxnews.com/foxnews/national: <class 'urllib.error.HTTPError'>: ()\",\n",
       "       \"Feed http://feeds.foxnews.com/foxnews/video: <class 'urllib.error.HTTPError'>: ()\",\n",
       "       \"Feed http://feeds.foxnews.com/foxnews/world: <class 'urllib.error.HTTPError'>: ()\",\n",
       "       \"Feed http://rss.cnn.com/rss/cnn_topstories.rss: <class 'urllib.error.HTTPError'>: ()\",\n",
       "       \"Feed http://rss.cnn.com/rss/cnn_world.rss: <class 'urllib.error.HTTPError'>: ()\",\n",
       "       \"Feed http://rss.cnn.com/rss/cnn_us.rss: <class 'urllib.error.HTTPError'>: ()\",\n",
       "       \"Feed http://rss.cnn.com/rss/money_latest.rss: <class 'urllib.error.HTTPError'>: ()\",\n",
       "       \"Feed http://rss.cnn.com/rss/cnn_allpolitics.rss: <class 'urllib.error.HTTPError'>: ()\",\n",
       "       \"Feed http://rss.cnn.com/rss/cnn_tech.rss: <class 'urllib.error.HTTPError'>: ()\",\n",
       "       \"Feed http://rss.cnn.com/rss/cnn_health.rss: <class 'urllib.error.HTTPError'>: ()\",\n",
       "       \"Feed http://rss.cnn.com/rss/cnn_showbiz.rss: <class 'urllib.error.HTTPError'>: ()\",\n",
       "       \"Feed http://rss.cnn.com/rss/cnn_travel.rss: <class 'urllib.error.HTTPError'>: ()\",\n",
       "       \"Feed http://rss.cnn.com/rss/cnn_living.rss: <class 'urllib.error.HTTPError'>: ()\",\n",
       "       \"Feed http://rss.cnn.com/rss/cnn_freevideo.rss: <class 'urllib.error.HTTPError'>: ()\",\n",
       "       \"Feed http://rss.cnn.com/services/podcasting/studentnews/rss.xml: <class 'urllib.error.HTTPError'>: ()\",\n",
       "       \"Feed http://rss.cnn.com/rss/cnn_latest.rss: <class 'urllib.error.HTTPError'>: ()\",\n",
       "       \"Feed http://feeds.feedburner.com/breitbart?format=xml: <class 'urllib.error.HTTPError'>: ()\",\n",
       "       \"Feed http://blogs.ft.com/the-world/feed/: <class 'urllib.error.HTTPError'>: ()\",\n",
       "       \"Feed https://www.theguardian.com/science/rss: <class 'urllib.error.HTTPError'>: ()\",\n",
       "       \"Feed https://phys.org/rss-feed/chemistry-news/biochemistry/: <class 'urllib.error.HTTPError'>: ()\",\n",
       "       \"Feed https://phys.org/rss-feed/technology-news/engineering/: <class 'urllib.error.HTTPError'>: ()\",\n",
       "       \"Feed http://www.ft.com/companies/uk: <class 'urllib.error.HTTPError'>: ()\",\n",
       "       \"Feed http://feeds.cnevids.com/brand/wired.mrss: <class 'urllib.error.HTTPError'>: ()\",\n",
       "       \"Feed https://phys.org/rss-feed/biology-news/: <class 'urllib.error.HTTPError'>: ()\",\n",
       "       \"Feed https://phys.org/rss-feed/biology-news/biotechnology/: <class 'urllib.error.HTTPError'>: ()\",\n",
       "       \"Feed https://phys.org/rss-feed/biology-news/microbiology/: <class 'urllib.error.HTTPError'>: ()\",\n",
       "       \"Feed https://phys.org/rss-feed/biology-news/ecology/: <class 'urllib.error.HTTPError'>: ()\",\n",
       "       \"Feed https://phys.org/rss-feed/biology-news/evolution/: <class 'urllib.error.HTTPError'>: ()\"], dtype=object)"
      ]
     },
     "execution_count": 122,
     "metadata": {},
     "output_type": "execute_result"
    }
   ],
   "source": [
    "htpe.entry.unique()"
   ]
  },
  {
   "cell_type": "markdown",
   "metadata": {},
   "source": [
    "    This is strange.  Links seem to work.  May be a tor thing?  Let's see if this continues with change in settings for main...?"
   ]
  },
  {
   "cell_type": "markdown",
   "metadata": {},
   "source": [
    "#### Incomplete Read Error"
   ]
  },
  {
   "cell_type": "code",
   "execution_count": 123,
   "metadata": {
    "collapsed": false
   },
   "outputs": [
    {
     "data": {
      "text/plain": [
       "(2, 5)"
      ]
     },
     "execution_count": 123,
     "metadata": {},
     "output_type": "execute_result"
    }
   ],
   "source": [
    "htpce = errors['2017-03-14 00:00:00':].copy()\n",
    "htpce = htpce[htpce.err_class == \"<class 'http.client.IncompleteRead'>\"]\n",
    "htpce.shape"
   ]
  },
  {
   "cell_type": "code",
   "execution_count": 124,
   "metadata": {
    "collapsed": false
   },
   "outputs": [
    {
     "data": {
      "text/html": [
       "<div>\n",
       "<table border=\"1\" class=\"dataframe\">\n",
       "  <thead>\n",
       "    <tr style=\"text-align: right;\">\n",
       "      <th></th>\n",
       "      <th>entry</th>\n",
       "      <th>day</th>\n",
       "      <th>entry_ind</th>\n",
       "      <th>is_error</th>\n",
       "      <th>err_class</th>\n",
       "    </tr>\n",
       "  </thead>\n",
       "  <tbody>\n",
       "    <tr>\n",
       "      <th>2017-03-22 17:11:10</th>\n",
       "      <td>Feed http://feeds.foxnews.com/foxnews/latest: ...</td>\n",
       "      <td>2017-03-22</td>\n",
       "      <td>90</td>\n",
       "      <td>True</td>\n",
       "      <td>&lt;class 'http.client.IncompleteRead'&gt;</td>\n",
       "    </tr>\n",
       "    <tr>\n",
       "      <th>2017-04-06 07:25:08</th>\n",
       "      <td>Feed http://feeds.cnevids.com/brand/wired.mrss...</td>\n",
       "      <td>2017-04-06</td>\n",
       "      <td>223</td>\n",
       "      <td>True</td>\n",
       "      <td>&lt;class 'http.client.IncompleteRead'&gt;</td>\n",
       "    </tr>\n",
       "  </tbody>\n",
       "</table>\n",
       "</div>"
      ],
      "text/plain": [
       "                                                                 entry  \\\n",
       "2017-03-22 17:11:10  Feed http://feeds.foxnews.com/foxnews/latest: ...   \n",
       "2017-04-06 07:25:08  Feed http://feeds.cnevids.com/brand/wired.mrss...   \n",
       "\n",
       "                            day  entry_ind is_error  \\\n",
       "2017-03-22 17:11:10  2017-03-22         90     True   \n",
       "2017-04-06 07:25:08  2017-04-06        223     True   \n",
       "\n",
       "                                                err_class  \n",
       "2017-03-22 17:11:10  <class 'http.client.IncompleteRead'>  \n",
       "2017-04-06 07:25:08  <class 'http.client.IncompleteRead'>  "
      ]
     },
     "execution_count": 124,
     "metadata": {},
     "output_type": "execute_result"
    }
   ],
   "source": [
    "htpce"
   ]
  },
  {
   "cell_type": "markdown",
   "metadata": {
    "collapsed": true
   },
   "source": [
    "Not a big deal..."
   ]
  },
  {
   "cell_type": "code",
   "execution_count": null,
   "metadata": {
    "collapsed": true
   },
   "outputs": [],
   "source": []
  }
 ],
 "metadata": {
  "kernelspec": {
   "display_name": "rss (P3)",
   "language": "python",
   "name": "rss_p3"
  },
  "language_info": {
   "codemirror_mode": {
    "name": "ipython",
    "version": 3
   },
   "file_extension": ".py",
   "mimetype": "text/x-python",
   "name": "python",
   "nbconvert_exporter": "python",
   "pygments_lexer": "ipython3",
   "version": "3.5.2"
  }
 },
 "nbformat": 4,
 "nbformat_minor": 2
}
